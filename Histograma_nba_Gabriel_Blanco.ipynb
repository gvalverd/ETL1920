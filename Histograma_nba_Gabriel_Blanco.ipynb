{
  "nbformat": 4,
  "nbformat_minor": 0,
  "metadata": {
    "colab": {
      "name": "Histograma_nba_Gabriel_Blanco.ipynb",
      "provenance": [],
      "collapsed_sections": [],
      "toc_visible": true
    },
    "kernelspec": {
      "display_name": "Python 3",
      "name": "python3"
    }
  },
  "cells": [
    {
      "cell_type": "markdown",
      "metadata": {
        "id": "svm1yA1Osz0p"
      },
      "source": [
        "# Histograma puntos visitante\n",
        "Esta prácticaca consiste en utilizar PySpark para tratar datos procedentes del\n",
        "fichero nba y construir un histograma con los puntos del equipo visitante, sin \n",
        "utilizar las funciones habituales de Python de histogramas (sns.distplot)"
      ]
    },
    {
      "cell_type": "markdown",
      "metadata": {
        "id": "H63umsn6tSwg"
      },
      "source": [
        "En primer lugar, instalamos y configuramos Spark y definimos\n",
        "el contexto Spark"
      ]
    },
    {
      "cell_type": "code",
      "metadata": {
        "id": "fwGzj6PitRxQ"
      },
      "source": [
        "!apt-get install openjdk-8-jdk-headless -qq > /dev/null\n",
        "!wget -q https://www-us.apache.org/dist/spark/spark-2.4.7/spark-2.4.7-bin-hadoop2.7.tgz\n",
        "!tar xf spark-2.4.7-bin-hadoop2.7.tgz\n",
        "!pip install -q findspark\n",
        "\n",
        "import os\n",
        "os.environ[\"JAVA_HOME\"] = \"/usr/lib/jvm/java-8-openjdk-amd64\"\n",
        "os.environ[\"SPARK_HOME\"] = \"/content/spark-2.4.7-bin-hadoop2.7\"\n",
        "\n",
        "import findspark\n",
        "findspark.init()\n",
        "from pyspark import SparkContext\n",
        "sc = SparkContext()\n",
        "from pyspark.sql import SparkSession\n",
        "spark = SparkSession.builder.master(\"local[*]\").getOrCreate()"
      ],
      "execution_count": 1,
      "outputs": []
    },
    {
      "cell_type": "code",
      "metadata": {
        "colab": {
          "base_uri": "https://localhost:8080/"
        },
        "id": "Cn-tbzNowJAv",
        "outputId": "521e1ada-397c-438a-b8b8-d9f274298817"
      },
      "source": [
        "sc.getConf() # Vemos que el contexto está bien definido"
      ],
      "execution_count": 2,
      "outputs": [
        {
          "output_type": "execute_result",
          "data": {
            "text/plain": [
              "<pyspark.conf.SparkConf at 0x7f6958868908>"
            ]
          },
          "metadata": {
            "tags": []
          },
          "execution_count": 2
        }
      ]
    },
    {
      "cell_type": "markdown",
      "metadata": {
        "id": "1Df6R6dCfqPE"
      },
      "source": [
        "Importamos las librerías"
      ]
    },
    {
      "cell_type": "code",
      "metadata": {
        "id": "wR1m3yOffowC"
      },
      "source": [
        "import pandas as pd \r\n",
        "import seaborn as sns"
      ],
      "execution_count": null,
      "outputs": []
    },
    {
      "cell_type": "markdown",
      "metadata": {
        "id": "6IFVHEKPv6bW"
      },
      "source": [
        "# Lectura de los datos"
      ]
    },
    {
      "cell_type": "markdown",
      "metadata": {
        "id": "-ScRGZcCIZQb"
      },
      "source": [
        "Podemos comenzar utilizando `spark.read.csv()` para tener una vista previa de \n",
        "los datos con los que vamos a trabajar"
      ]
    },
    {
      "cell_type": "code",
      "metadata": {
        "id": "Mp1LzBFAHjqu"
      },
      "source": [
        "nba_csv = spark.read.csv('partidosLigaNBA.csv', header=True, sep=':')"
      ],
      "execution_count": 4,
      "outputs": []
    },
    {
      "cell_type": "code",
      "metadata": {
        "id": "COW3nCZ6H3Y8"
      },
      "source": [
        "spark.read.csv?"
      ],
      "execution_count": null,
      "outputs": []
    },
    {
      "cell_type": "code",
      "metadata": {
        "colab": {
          "base_uri": "https://localhost:8080/"
        },
        "id": "mw7M9t4nHtJb",
        "outputId": "469f089e-1c7b-4a37-a751-e9b9b303f8e2"
      },
      "source": [
        "nba_csv.show()"
      ],
      "execution_count": 5,
      "outputs": [
        {
          "output_type": "stream",
          "text": [
            "+-----------------+----------+--------------------+---+--------------------+-----+\n",
            "|             Date|Start..ET.|     Visitor.Neutral|PTS|        Home.Neutral|PTS.1|\n",
            "+-----------------+----------+--------------------+---+--------------------+-----+\n",
            "|Tue, Oct 30, 2007|   7:30 pm|           Utah Jazz|117|Golden State Warr...|   96|\n",
            "|Tue, Oct 30, 2007|   7:30 pm|     Houston Rockets| 95|  Los Angeles Lakers|   93|\n",
            "|Tue, Oct 30, 2007|   7:00 pm|Portland Trail Bl...| 97|   San Antonio Spurs|  106|\n",
            "|Wed, Oct 31, 2007|   8:00 pm|    Dallas Mavericks| 92| Cleveland Cavaliers|   74|\n",
            "|Wed, Oct 31, 2007|   8:30 pm| Seattle SuperSonics|103|      Denver Nuggets|  120|\n",
            "|Wed, Oct 31, 2007|   7:00 pm|  Washington Wizards|110|      Indiana Pacers|  119|\n",
            "|Wed, Oct 31, 2007|   7:00 pm|   San Antonio Spurs|104|   Memphis Grizzlies|  101|\n",
            "|Wed, Oct 31, 2007|   7:30 pm|       Chicago Bulls|103|     New Jersey Nets|  112|\n",
            "|Wed, Oct 31, 2007|   7:00 pm|    Sacramento Kings| 90| New Orleans Hornets|  104|\n",
            "|Wed, Oct 31, 2007|   7:00 pm|     Milwaukee Bucks| 83|       Orlando Magic|  102|\n",
            "|Wed, Oct 31, 2007|   7:00 pm|  Philadelphia 76ers| 97|     Toronto Raptors|  106|\n",
            "| Thu, Nov 1, 2007|   8:00 pm|     Detroit Pistons| 91|          Miami Heat|   80|\n",
            "| Thu, Nov 1, 2007|   7:30 pm|        Phoenix Suns|106| Seattle SuperSonics|   99|\n",
            "| Thu, Nov 1, 2007|   7:00 pm|     Houston Rockets|106|           Utah Jazz|   95|\n",
            "| Fri, Nov 2, 2007|   7:30 pm|    Dallas Mavericks| 94|       Atlanta Hawks|  101|\n",
            "| Fri, Nov 2, 2007|   8:00 pm|  Washington Wizards| 83|      Boston Celtics|  103|\n",
            "| Fri, Nov 2, 2007|   7:00 pm|     Milwaukee Bucks| 99|   Charlotte Bobcats|  102|\n",
            "| Fri, Nov 2, 2007|   7:30 pm|  Philadelphia 76ers| 96|       Chicago Bulls|   85|\n",
            "| Fri, Nov 2, 2007|   7:30 pm|     New York Knicks|106| Cleveland Cavaliers|  110|\n",
            "| Fri, Nov 2, 2007|   7:00 pm|          Miami Heat| 85|      Indiana Pacers|   87|\n",
            "+-----------------+----------+--------------------+---+--------------------+-----+\n",
            "only showing top 20 rows\n",
            "\n"
          ],
          "name": "stdout"
        }
      ]
    },
    {
      "cell_type": "markdown",
      "metadata": {
        "id": "QzXuEo7kIy6V"
      },
      "source": [
        "Solo nos interesan la tercera y cuarta columna, que contienen los nombres de \n",
        "los visitantes y los puntos que han metido"
      ]
    },
    {
      "cell_type": "markdown",
      "metadata": {
        "id": "D9j-hSrKvpWw"
      },
      "source": [
        "En primer lugar, convertimos a RDD, la estructura básica de \n",
        "Spark, el fichero previamente subido"
      ]
    },
    {
      "cell_type": "code",
      "metadata": {
        "id": "UydeIRP3v-RB"
      },
      "source": [
        "nba_rdd = sc.textFile('partidosLigaNBA.csv')"
      ],
      "execution_count": 6,
      "outputs": []
    },
    {
      "cell_type": "markdown",
      "metadata": {
        "id": "m7QSkisNw0rL"
      },
      "source": [
        "Los rdd son transformación, no devuelven nada, utilizan evaluación perezosa (lazy evalaution) Para comprobar que los datos son correctos, aplicamos una \n",
        "acción sobre el rdd, por ejemplo un `.take(5)`\n"
      ]
    },
    {
      "cell_type": "code",
      "metadata": {
        "colab": {
          "base_uri": "https://localhost:8080/"
        },
        "id": "w-EVXSbDxLZe",
        "outputId": "9b73c6b1-2eda-403c-b125-6e092aa2a816"
      },
      "source": [
        "nba_rdd.take(5) # El fichero está separado con \":\""
      ],
      "execution_count": 7,
      "outputs": [
        {
          "output_type": "execute_result",
          "data": {
            "text/plain": [
              "['Date:Start..ET.:Visitor.Neutral:PTS:Home.Neutral:PTS.1',\n",
              " 'Tue, Oct 30, 2007:\"7:30 pm\":Utah Jazz:117:Golden State Warriors:96',\n",
              " 'Tue, Oct 30, 2007:\"7:30 pm\":Houston Rockets:95:Los Angeles Lakers:93',\n",
              " 'Tue, Oct 30, 2007:\"7:00 pm\":Portland Trail Blazers:97:San Antonio Spurs:106',\n",
              " 'Wed, Oct 31, 2007:\"8:00 pm\":Dallas Mavericks:92:Cleveland Cavaliers:74']"
            ]
          },
          "metadata": {
            "tags": []
          },
          "execution_count": 7
        }
      ]
    },
    {
      "cell_type": "code",
      "metadata": {
        "colab": {
          "base_uri": "https://localhost:8080/"
        },
        "id": "jE6aBGFdx4Ue",
        "outputId": "2e977b26-d202-4139-cd15-d3ef6f4890f9"
      },
      "source": [
        "nba_rdd.map(lambda x: x.split(':')).cache().take(5)"
      ],
      "execution_count": 8,
      "outputs": [
        {
          "output_type": "execute_result",
          "data": {
            "text/plain": [
              "[['Date', 'Start..ET.', 'Visitor.Neutral', 'PTS', 'Home.Neutral', 'PTS.1'],\n",
              " ['Tue, Oct 30, 2007',\n",
              "  '\"7',\n",
              "  '30 pm\"',\n",
              "  'Utah Jazz',\n",
              "  '117',\n",
              "  'Golden State Warriors',\n",
              "  '96'],\n",
              " ['Tue, Oct 30, 2007',\n",
              "  '\"7',\n",
              "  '30 pm\"',\n",
              "  'Houston Rockets',\n",
              "  '95',\n",
              "  'Los Angeles Lakers',\n",
              "  '93'],\n",
              " ['Tue, Oct 30, 2007',\n",
              "  '\"7',\n",
              "  '00 pm\"',\n",
              "  'Portland Trail Blazers',\n",
              "  '97',\n",
              "  'San Antonio Spurs',\n",
              "  '106'],\n",
              " ['Wed, Oct 31, 2007',\n",
              "  '\"8',\n",
              "  '00 pm\"',\n",
              "  'Dallas Mavericks',\n",
              "  '92',\n",
              "  'Cleveland Cavaliers',\n",
              "  '74']]"
            ]
          },
          "metadata": {
            "tags": []
          },
          "execution_count": 8
        }
      ]
    },
    {
      "cell_type": "markdown",
      "metadata": {
        "id": "bL8ELOmARgJ-"
      },
      "source": [
        "Limpiamos el rdd eliminando la cabecera de los datos\n"
      ]
    },
    {
      "cell_type": "code",
      "metadata": {
        "id": "MYr_o9lNRl0z"
      },
      "source": [
        "nba_rdd = nba_rdd.filter(lambda x: 'PTS' not in x)"
      ],
      "execution_count": 9,
      "outputs": []
    },
    {
      "cell_type": "markdown",
      "metadata": {
        "id": "iU2J1LFXWjei"
      },
      "source": [
        "Quitamos los Playoffs"
      ]
    },
    {
      "cell_type": "code",
      "metadata": {
        "id": "rgwQPsl4WnLe"
      },
      "source": [
        "nba_rdd = nba_rdd.filter(lambda x: 'Playoffs' not in x)"
      ],
      "execution_count": 22,
      "outputs": []
    },
    {
      "cell_type": "markdown",
      "metadata": {
        "id": "mshL9h6UVil1"
      },
      "source": [
        "Construimos una función que devuelva solo el nombre del equipo y los puntos"
      ]
    },
    {
      "cell_type": "code",
      "metadata": {
        "id": "uQmpboWBBlR5"
      },
      "source": [
        "def funcion_key_value (line):\n",
        "\n",
        "    linea = line.split(':') # divido por \":\" porque es el separador de los \n",
        "                            # datos \n",
        "    key = linea[3] # el tercer elemento contiene el nombre de los equipos\n",
        "\n",
        "    value = int(linea[4]) # el cuarto elemento contiene los puntos, los paso a int\n",
        "\n",
        "    return (key, value) # key: el nombre del equipo \n",
        "                        # value: los puntos que han metido como visitantes\n",
        "\n",
        "# Aplicamos la función al rdd con un map\n",
        "nba_parsed = nba_rdd.map(funcion_key_value)"
      ],
      "execution_count": 10,
      "outputs": []
    },
    {
      "cell_type": "markdown",
      "metadata": {
        "id": "HEPQVHmpe4Jb"
      },
      "source": [
        "Examinamos los resultados"
      ]
    },
    {
      "cell_type": "code",
      "metadata": {
        "colab": {
          "base_uri": "https://localhost:8080/"
        },
        "id": "cQCHXU3tba21",
        "outputId": "d2a7b4fb-8aab-4c65-9fa2-d0c0d273a7ed"
      },
      "source": [
        "nba_parsed.take(5)"
      ],
      "execution_count": 11,
      "outputs": [
        {
          "output_type": "execute_result",
          "data": {
            "text/plain": [
              "[('Utah Jazz', 117),\n",
              " ('Houston Rockets', 95),\n",
              " ('Portland Trail Blazers', 97),\n",
              " ('Dallas Mavericks', 92),\n",
              " ('Seattle SuperSonics', 103)]"
            ]
          },
          "metadata": {
            "tags": []
          },
          "execution_count": 11
        }
      ]
    },
    {
      "cell_type": "markdown",
      "metadata": {
        "id": "TdSAeDGbV5iP"
      },
      "source": [
        "Buuscamos algo así, pero que en lugar del nombre del equipo tenga un identificador para ligarlo a un \"bin\" del histograma. Empezamos desde 70 y hacemos particiones de 10 en 10 hasta más de 130"
      ]
    },
    {
      "cell_type": "code",
      "metadata": {
        "id": "JGfeR2SNWXQt"
      },
      "source": [
        "def funcion_bin(value):\n",
        "  value = int(value)\n",
        "\n",
        "  if value < 70:\n",
        "    return 'Bin 1'\n",
        "  elif value < 80:\n",
        "    return 'Bin 2'\n",
        "  elif value < 90:\n",
        "    return 'Bin 3'\n",
        "  elif value < 100:\n",
        "    return 'Bin 4'\n",
        "  elif value < 110:\n",
        "    return 'Bin 5'\n",
        "  elif value < 120:\n",
        "      return 'Bin 6'\n",
        "  elif value < 130:\n",
        "      return 'Bin 7'\n",
        "  else:\n",
        "    return 'Bin 8'"
      ],
      "execution_count": 70,
      "outputs": []
    },
    {
      "cell_type": "markdown",
      "metadata": {
        "id": "kvw8yZ8hcuN9"
      },
      "source": [
        "Editamos la función anterior añadiendo la nueva función"
      ]
    },
    {
      "cell_type": "code",
      "metadata": {
        "id": "SVQTa9lsc3EJ"
      },
      "source": [
        "def funcion_key_value (line):\n",
        "\n",
        "    linea = line.split(':') # igual que antes \n",
        "\n",
        "    key = funcion_bin(linea[4]) # el codificador de bins\n",
        "\n",
        "    value = int(linea[4]) # igual que antes \n",
        "    return (key, value) # key: el nombre del equipo \n",
        "                        # value: los puntos que han metido como visitantes\n",
        "\n",
        "\n",
        "# Aplicamos la función al rdd\n",
        "nba_parsed = nba_rdd.map(funcion_key_value)"
      ],
      "execution_count": 71,
      "outputs": []
    },
    {
      "cell_type": "markdown",
      "metadata": {
        "id": "lhl1fiSLdFPZ"
      },
      "source": [
        "Examinamos el resultado"
      ]
    },
    {
      "cell_type": "code",
      "metadata": {
        "colab": {
          "base_uri": "https://localhost:8080/"
        },
        "id": "r5Z9QZFrdItu",
        "outputId": "ef4fbd9d-d155-4b8e-a94d-dc6f1ecfd93f"
      },
      "source": [
        "nba_parsed.take(5)"
      ],
      "execution_count": 27,
      "outputs": [
        {
          "output_type": "execute_result",
          "data": {
            "text/plain": [
              "[('Bin 6', 117), ('Bin 4', 95), ('Bin 4', 97), ('Bin 4', 92), ('Bin 5', 103)]"
            ]
          },
          "metadata": {
            "tags": []
          },
          "execution_count": 27
        }
      ]
    },
    {
      "cell_type": "markdown",
      "metadata": {
        "id": "8k96h02AXu3r"
      },
      "source": [
        "Ahora hay que agrupar por las keys, usamos `reduceByKey`"
      ]
    },
    {
      "cell_type": "code",
      "metadata": {
        "colab": {
          "base_uri": "https://localhost:8080/"
        },
        "id": "xGRLr4GYWHGl",
        "outputId": "0992d575-3720-46bb-aca1-4400c600d313"
      },
      "source": [
        "nba_parsed.reduceByKey(lambda a, b: a + b).collect() # Esto es lo que queremos"
      ],
      "execution_count": 25,
      "outputs": [
        {
          "output_type": "execute_result",
          "data": {
            "text/plain": [
              "[('Bin 6', 203003),\n",
              " ('Bin 4', 380801),\n",
              " ('Bin 5', 373969),\n",
              " ('Bin 3', 189783),\n",
              " ('Bin 7', 75120),\n",
              " ('Bin 2', 45903),\n",
              " ('Bin 1', 4809)]"
            ]
          },
          "metadata": {
            "tags": []
          },
          "execution_count": 25
        }
      ]
    },
    {
      "cell_type": "code",
      "metadata": {
        "id": "jk4DoYvEYVL-"
      },
      "source": [
        "puntos_por_key = nba_parsed.reduceByKey(lambda a, b: a + b).collect()"
      ],
      "execution_count": 72,
      "outputs": []
    },
    {
      "cell_type": "code",
      "metadata": {
        "colab": {
          "base_uri": "https://localhost:8080/",
          "height": 297
        },
        "id": "Zl7THJeYZdmp",
        "outputId": "c9580715-c29c-420b-ccd1-962330d20d9f"
      },
      "source": [
        "puntos_df = pd.DataFrame(puntos_por_key)\r\n",
        "puntos_df"
      ],
      "execution_count": 73,
      "outputs": [
        {
          "output_type": "execute_result",
          "data": {
            "text/html": [
              "<div>\n",
              "<style scoped>\n",
              "    .dataframe tbody tr th:only-of-type {\n",
              "        vertical-align: middle;\n",
              "    }\n",
              "\n",
              "    .dataframe tbody tr th {\n",
              "        vertical-align: top;\n",
              "    }\n",
              "\n",
              "    .dataframe thead th {\n",
              "        text-align: right;\n",
              "    }\n",
              "</style>\n",
              "<table border=\"1\" class=\"dataframe\">\n",
              "  <thead>\n",
              "    <tr style=\"text-align: right;\">\n",
              "      <th></th>\n",
              "      <th>0</th>\n",
              "      <th>1</th>\n",
              "    </tr>\n",
              "  </thead>\n",
              "  <tbody>\n",
              "    <tr>\n",
              "      <th>0</th>\n",
              "      <td>Bin 6</td>\n",
              "      <td>203003</td>\n",
              "    </tr>\n",
              "    <tr>\n",
              "      <th>1</th>\n",
              "      <td>Bin 4</td>\n",
              "      <td>380801</td>\n",
              "    </tr>\n",
              "    <tr>\n",
              "      <th>2</th>\n",
              "      <td>Bin 8</td>\n",
              "      <td>14412</td>\n",
              "    </tr>\n",
              "    <tr>\n",
              "      <th>3</th>\n",
              "      <td>Bin 5</td>\n",
              "      <td>373969</td>\n",
              "    </tr>\n",
              "    <tr>\n",
              "      <th>4</th>\n",
              "      <td>Bin 3</td>\n",
              "      <td>189783</td>\n",
              "    </tr>\n",
              "    <tr>\n",
              "      <th>5</th>\n",
              "      <td>Bin 7</td>\n",
              "      <td>60708</td>\n",
              "    </tr>\n",
              "    <tr>\n",
              "      <th>6</th>\n",
              "      <td>Bin 2</td>\n",
              "      <td>45903</td>\n",
              "    </tr>\n",
              "    <tr>\n",
              "      <th>7</th>\n",
              "      <td>Bin 1</td>\n",
              "      <td>4809</td>\n",
              "    </tr>\n",
              "  </tbody>\n",
              "</table>\n",
              "</div>"
            ],
            "text/plain": [
              "       0       1\n",
              "0  Bin 6  203003\n",
              "1  Bin 4  380801\n",
              "2  Bin 8   14412\n",
              "3  Bin 5  373969\n",
              "4  Bin 3  189783\n",
              "5  Bin 7   60708\n",
              "6  Bin 2   45903\n",
              "7  Bin 1    4809"
            ]
          },
          "metadata": {
            "tags": []
          },
          "execution_count": 73
        }
      ]
    },
    {
      "cell_type": "markdown",
      "metadata": {
        "id": "rlqQl3BnaXtA"
      },
      "source": [
        "Renombramos y ordenamos la columna de los bines alfabéticamente\r\n"
      ]
    },
    {
      "cell_type": "code",
      "metadata": {
        "id": "CRSkWg9VZr64"
      },
      "source": [
        "puntos_df.rename(columns={0: 'Intervalo', 1: 'Puntos visitante'}, inplace=True)"
      ],
      "execution_count": 74,
      "outputs": []
    },
    {
      "cell_type": "code",
      "metadata": {
        "colab": {
          "base_uri": "https://localhost:8080/",
          "height": 297
        },
        "id": "Bz5AKOAcad6a",
        "outputId": "88bc57cc-a531-4e5b-bc2b-8fa61c7d767a"
      },
      "source": [
        "puntos_df = puntos_df.sort_values(['Intervalo'])\r\n",
        "puntos_df"
      ],
      "execution_count": 75,
      "outputs": [
        {
          "output_type": "execute_result",
          "data": {
            "text/html": [
              "<div>\n",
              "<style scoped>\n",
              "    .dataframe tbody tr th:only-of-type {\n",
              "        vertical-align: middle;\n",
              "    }\n",
              "\n",
              "    .dataframe tbody tr th {\n",
              "        vertical-align: top;\n",
              "    }\n",
              "\n",
              "    .dataframe thead th {\n",
              "        text-align: right;\n",
              "    }\n",
              "</style>\n",
              "<table border=\"1\" class=\"dataframe\">\n",
              "  <thead>\n",
              "    <tr style=\"text-align: right;\">\n",
              "      <th></th>\n",
              "      <th>Intervalo</th>\n",
              "      <th>Puntos visitante</th>\n",
              "    </tr>\n",
              "  </thead>\n",
              "  <tbody>\n",
              "    <tr>\n",
              "      <th>7</th>\n",
              "      <td>Bin 1</td>\n",
              "      <td>4809</td>\n",
              "    </tr>\n",
              "    <tr>\n",
              "      <th>6</th>\n",
              "      <td>Bin 2</td>\n",
              "      <td>45903</td>\n",
              "    </tr>\n",
              "    <tr>\n",
              "      <th>4</th>\n",
              "      <td>Bin 3</td>\n",
              "      <td>189783</td>\n",
              "    </tr>\n",
              "    <tr>\n",
              "      <th>1</th>\n",
              "      <td>Bin 4</td>\n",
              "      <td>380801</td>\n",
              "    </tr>\n",
              "    <tr>\n",
              "      <th>3</th>\n",
              "      <td>Bin 5</td>\n",
              "      <td>373969</td>\n",
              "    </tr>\n",
              "    <tr>\n",
              "      <th>0</th>\n",
              "      <td>Bin 6</td>\n",
              "      <td>203003</td>\n",
              "    </tr>\n",
              "    <tr>\n",
              "      <th>5</th>\n",
              "      <td>Bin 7</td>\n",
              "      <td>60708</td>\n",
              "    </tr>\n",
              "    <tr>\n",
              "      <th>2</th>\n",
              "      <td>Bin 8</td>\n",
              "      <td>14412</td>\n",
              "    </tr>\n",
              "  </tbody>\n",
              "</table>\n",
              "</div>"
            ],
            "text/plain": [
              "  Intervalo  Puntos visitante\n",
              "7     Bin 1              4809\n",
              "6     Bin 2             45903\n",
              "4     Bin 3            189783\n",
              "1     Bin 4            380801\n",
              "3     Bin 5            373969\n",
              "0     Bin 6            203003\n",
              "5     Bin 7             60708\n",
              "2     Bin 8             14412"
            ]
          },
          "metadata": {
            "tags": []
          },
          "execution_count": 75
        }
      ]
    },
    {
      "cell_type": "markdown",
      "metadata": {
        "id": "FQIBeHRKcZ_Y"
      },
      "source": [
        "Cambio los nombres de los bin por algo más legible, en función de los puntos que han metido"
      ]
    },
    {
      "cell_type": "code",
      "metadata": {
        "id": "H3rHruuxcht8"
      },
      "source": [
        "def renombrar_bin(bin):\r\n",
        "  if bin == 'Bin 1':\r\n",
        "    return '< 70'\r\n",
        "  elif bin == 'Bin 2':\r\n",
        "    return '71-79'\r\n",
        "  elif bin == 'Bin 3':\r\n",
        "    return '80-89'\r\n",
        "  elif bin == 'Bin 4':\r\n",
        "    return '90-99'\r\n",
        "  elif bin == 'Bin 5':\r\n",
        "    return '100-109'\r\n",
        "  elif bin == 'Bin 6':\r\n",
        "    return '110-119'\r\n",
        "  elif bin == 'Bin 8':\r\n",
        "    return '120-129'\r\n",
        "  else:\r\n",
        "    return '> 129'"
      ],
      "execution_count": 76,
      "outputs": []
    },
    {
      "cell_type": "markdown",
      "metadata": {
        "id": "RuNaTY53gJjh"
      },
      "source": [
        "Aplicamos la función para cambiar el nombre"
      ]
    },
    {
      "cell_type": "code",
      "metadata": {
        "id": "ax52lSwmdaMy"
      },
      "source": [
        "puntos_df.Intervalo = puntos_df.Intervalo.map(renombrar_bin)"
      ],
      "execution_count": 77,
      "outputs": []
    },
    {
      "cell_type": "code",
      "metadata": {
        "colab": {
          "base_uri": "https://localhost:8080/",
          "height": 458
        },
        "id": "63ZjcThNY-Xn",
        "outputId": "5368cb1c-c4b9-4e35-a9c1-cd25e1be20b6"
      },
      "source": [
        "plt.figure(figsize=(12, 7)) # dimensiones \r\n",
        "\r\n",
        "sns.barplot(x='Intervalo', # en el eje x, el identificador de cada bin\r\n",
        "            y='Puntos visitante', # en el eje y, la frecuencia\r\n",
        "            data=puntos_df, # los datos\r\n",
        "            color='seagreen')\r\n",
        "\r\n",
        "# Etiquetas del plot\r\n",
        "plt.title('Histograma puntos visitante')\r\n",
        "plt.xlabel('Puntos')\r\n",
        "plt.ylabel('Frecuencia');"
      ],
      "execution_count": 79,
      "outputs": [
        {
          "output_type": "display_data",
          "data": {
            "image/png": "[encoded data removed]",
            "text/plain": [
              "<Figure size 864x504 with 1 Axes>"
            ]
          },
          "metadata": {
            "tags": [],
            "needs_background": "light"
          }
        }
      ]
    }
  ]
}