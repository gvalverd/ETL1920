{
 "cells": [
  {
   "cell_type": "markdown",
   "metadata": {},
   "source": [
    "# TAREA. Dataset logs nasa\n",
    "\n",
    "### ETL\n",
    "\n",
    "Start Date: 29/11/2019\n",
    "\n",
    "End Date: 29/11/2019\n",
    "\n",
    "### José María Álvarez Silva"
   ]
  },
  {
   "cell_type": "markdown",
   "metadata": {},
   "source": [
    "El objetivo de esta práctica es emplear el RDD access_logs para realizar una serie de cálculos:\n",
    "\n",
    " * Se ha realizado con `pyspark`\n",
    " * Ahora se hará con `pyspark sql`"
   ]
  },
  {
   "cell_type": "markdown",
   "metadata": {},
   "source": [
    "## 1. En primer lugar se deben cargar los datos en un contexto Spark:"
   ]
  },
  {
   "cell_type": "code",
   "execution_count": 1,
   "metadata": {
    "collapsed": true
   },
   "outputs": [],
   "source": [
    "from pyspark import SparkContext\n",
    "from datetime import datetime\n",
    "import pandas as pd"
   ]
  },
  {
   "cell_type": "code",
   "execution_count": 2,
   "metadata": {
    "collapsed": false
   },
   "outputs": [],
   "source": [
    "sc = SparkContext()"
   ]
  },
  {
   "cell_type": "code",
   "execution_count": 3,
   "metadata": {
    "collapsed": true
   },
   "outputs": [],
   "source": [
    "import urllib.request\n",
    "f = urllib.request.urlretrieve(\"https://www.dropbox.com/s/73wr8xb5s6fdj7g/apache.access.log.PROJECT?dl=1\", \"apache.access.log.PROJECT\")"
   ]
  },
  {
   "cell_type": "code",
   "execution_count": 6,
   "metadata": {
    "collapsed": false
   },
   "outputs": [],
   "source": [
    "data_file = \"./apache.access.log.PROJECT\"\n",
    "raw_data = sc.textFile(data_file)\n"
   ]
  },
  {
   "cell_type": "markdown",
   "metadata": {},
   "source": [
    "Hasta aquí se han cargado los datos en el RDD raw_data. Como primera medida para asegurar que los datos se han subido de manera correcta se procede al conteo de los mismos:"
   ]
  },
  {
   "cell_type": "code",
   "execution_count": 7,
   "metadata": {
    "collapsed": false
   },
   "outputs": [
    {
     "data": {
      "text/plain": [
       "1043177"
      ]
     },
     "execution_count": 7,
     "metadata": {},
     "output_type": "execute_result"
    }
   ],
   "source": [
    "raw_data.count()"
   ]
  },
  {
   "cell_type": "markdown",
   "metadata": {},
   "source": [
    "Además vamos a visualizar los primero elementos del RDD:"
   ]
  },
  {
   "cell_type": "code",
   "execution_count": 8,
   "metadata": {
    "collapsed": false
   },
   "outputs": [
    {
     "data": {
      "text/plain": [
       "['in24.inetnebr.com - - [01/Aug/1995:00:00:01 -0400] \"GET /shuttle/missions/sts-68/news/sts-68-mcc-05.txt HTTP/1.0\" 200 1839',\n",
       " 'uplherc.upl.com - - [01/Aug/1995:00:00:07 -0400] \"GET / HTTP/1.0\" 304 0',\n",
       " 'uplherc.upl.com - - [01/Aug/1995:00:00:08 -0400] \"GET /images/ksclogo-medium.gif HTTP/1.0\" 304 0',\n",
       " 'uplherc.upl.com - - [01/Aug/1995:00:00:08 -0400] \"GET /images/MOSAIC-logosmall.gif HTTP/1.0\" 304 0',\n",
       " 'uplherc.upl.com - - [01/Aug/1995:00:00:08 -0400] \"GET /images/USA-logosmall.gif HTTP/1.0\" 304 0']"
      ]
     },
     "execution_count": 8,
     "metadata": {},
     "output_type": "execute_result"
    }
   ],
   "source": [
    "raw_data.take(5)"
   ]
  },
  {
   "cell_type": "markdown",
   "metadata": {},
   "source": [
    "Una vez confirmado que la carga ha sido realizada de manera correcta se procede al parseado de los datos:"
   ]
  },
  {
   "cell_type": "markdown",
   "metadata": {},
   "source": [
    "En el parseado se emplea la expresión regular vista hoy en clase:"
   ]
  },
  {
   "cell_type": "code",
   "execution_count": 9,
   "metadata": {
    "collapsed": false
   },
   "outputs": [],
   "source": [
    "import re\n",
    "def parse_log1(line):\n",
    "    match = re.search('^(\\S+) (\\S+) (\\S+) \\[(\\S+) [-](\\d{4})\\] \"(\\S+)\\s*(\\S+)\\s*(\\S+)\\s*([\\w\\.\\s*]+)?\\s*\"*(\\d{3}) (\\S+)', line)\n",
    "    if match is None:\n",
    "        return 0\n",
    "    else:\n",
    "        return 1\n",
    "n_logs = raw_data.count()"
   ]
  },
  {
   "cell_type": "code",
   "execution_count": 10,
   "metadata": {
    "collapsed": false
   },
   "outputs": [],
   "source": [
    "def parse_log2(line):\n",
    "    match = re.search('^(\\S+) (\\S+) (\\S+) \\[(\\S+) [-](\\d{4})\\] \"(\\S+)\\s*(\\S+)\\s*(\\S+)\\s*([/\\w\\.\\s*]+)?\\s*\"* (\\d{3}) (\\S+)',line)\n",
    "    if match is None:\n",
    "        match = re.search('^(\\S+) (\\S+) (\\S+) \\[(\\S+) [-](\\d{4})\\] \"(\\S+)\\s*([/\\w\\.]+)>*([\\w/\\s\\.]+)\\s*(\\S+)\\s*(\\d{3})\\s*(\\S+)',line)\n",
    "    if match is None:\n",
    "        return (line, 0)\n",
    "    else:\n",
    "        return (line, 1)\n"
   ]
  },
  {
   "cell_type": "code",
   "execution_count": 11,
   "metadata": {
    "collapsed": false
   },
   "outputs": [],
   "source": [
    "def map_log(line):\n",
    "    match = re.search('^(\\S+) (\\S+) (\\S+) \\[(\\S+) [-](\\d{4})\\] \"(\\S+)\\s*(\\S+)\\s*(\\S+)\\s*([/\\w\\.\\s*]+)?\\s*\"* (\\d{3}) (\\S+)',line)\n",
    "    if match is None:\n",
    "        match = re.search('^(\\S+) (\\S+) (\\S+) \\[(\\S+) [-](\\d{4})\\] \"(\\S+)\\s*([/\\w\\.]+)>*([\\w/\\s\\.]+)\\s*(\\S+)\\s*(\\d{3})\\s*(\\S+)',line)\n",
    "    return(match.groups())\n",
    "parsed_rdd = raw_data.map(lambda line: parse_log2(line)).filter(lambda line: line[1] == 1).map(lambda line : line[0])\n",
    "parsed_def = parsed_rdd.map(lambda line: map_log(line))"
   ]
  },
  {
   "cell_type": "code",
   "execution_count": 12,
   "metadata": {
    "collapsed": false
   },
   "outputs": [
    {
     "data": {
      "text/plain": [
       "['in24.inetnebr.com - - [01/Aug/1995:00:00:01 -0400] \"GET /shuttle/missions/sts-68/news/sts-68-mcc-05.txt HTTP/1.0\" 200 1839',\n",
       " 'uplherc.upl.com - - [01/Aug/1995:00:00:07 -0400] \"GET / HTTP/1.0\" 304 0',\n",
       " 'uplherc.upl.com - - [01/Aug/1995:00:00:08 -0400] \"GET /images/ksclogo-medium.gif HTTP/1.0\" 304 0',\n",
       " 'uplherc.upl.com - - [01/Aug/1995:00:00:08 -0400] \"GET /images/MOSAIC-logosmall.gif HTTP/1.0\" 304 0',\n",
       " 'uplherc.upl.com - - [01/Aug/1995:00:00:08 -0400] \"GET /images/USA-logosmall.gif HTTP/1.0\" 304 0']"
      ]
     },
     "execution_count": 12,
     "metadata": {},
     "output_type": "execute_result"
    }
   ],
   "source": [
    "parsed_rdd.take(5)"
   ]
  },
  {
   "cell_type": "code",
   "execution_count": 13,
   "metadata": {
    "collapsed": false
   },
   "outputs": [
    {
     "data": {
      "text/plain": [
       "[('in24.inetnebr.com',\n",
       "  '-',\n",
       "  '-',\n",
       "  '01/Aug/1995:00:00:01',\n",
       "  '0400',\n",
       "  'GET',\n",
       "  '/shuttle/missions/sts-68/news/sts-68-mcc-05.txt',\n",
       "  'HTTP/1.0\"',\n",
       "  None,\n",
       "  '200',\n",
       "  '1839'),\n",
       " ('uplherc.upl.com',\n",
       "  '-',\n",
       "  '-',\n",
       "  '01/Aug/1995:00:00:07',\n",
       "  '0400',\n",
       "  'GET',\n",
       "  '/',\n",
       "  'HTTP/1.0\"',\n",
       "  None,\n",
       "  '304',\n",
       "  '0')]"
      ]
     },
     "execution_count": 13,
     "metadata": {},
     "output_type": "execute_result"
    }
   ],
   "source": [
    "parsed_def.take(2)"
   ]
  },
  {
   "cell_type": "markdown",
   "metadata": {},
   "source": [
    "## Pregunta 1\n",
    "\n",
    "## Mínimo, máximo y media del tamaño de las peticiones"
   ]
  },
  {
   "cell_type": "markdown",
   "metadata": {},
   "source": [
    "A continuación se presentan las estadísticas (incluyendo mínimo, máximo y media) del tamaño de las peticiones:"
   ]
  },
  {
   "cell_type": "code",
   "execution_count": 14,
   "metadata": {
    "collapsed": false
   },
   "outputs": [
    {
     "data": {
      "text/plain": [
       "(count: 1043177, mean: 17531.55570243611, stdev: 68561.9662005, max: 3421948.0, min: 0.0)"
      ]
     },
     "execution_count": 14,
     "metadata": {},
     "output_type": "execute_result"
    }
   ],
   "source": [
    "def convert_long(x):\n",
    "    x = re.sub('[^0-9]',\"\",x) \n",
    "    if x ==\"\":\n",
    "        return 0\n",
    "    else:\n",
    "        return int(x)\n",
    "parsed_def.map(lambda line: convert_long(line[-1])).stats()"
   ]
  },
  {
   "cell_type": "code",
   "execution_count": 15,
   "metadata": {
    "collapsed": false
   },
   "outputs": [],
   "source": [
    "from pyspark.sql import SQLContext\n",
    "sqlContext = SQLContext(sc)\n",
    "from pyspark.sql import Row"
   ]
  },
  {
   "cell_type": "code",
   "execution_count": 16,
   "metadata": {
    "collapsed": true
   },
   "outputs": [],
   "source": [
    "row_data = parsed_def.map(lambda p: Row(\n",
    "    host = p[0], \n",
    "#     fecha = (datetime.strptime(p[3][:11], \"%d/%b%Y\")),\n",
    "    endpoint = p[6],\n",
    "    size = convert_long(p[-1]),\n",
    "    repuesta = p[-2]\n",
    "    )\n",
    ")"
   ]
  },
  {
   "cell_type": "code",
   "execution_count": 17,
   "metadata": {
    "collapsed": false
   },
   "outputs": [],
   "source": [
    "lognasa_df = sqlContext.createDataFrame(row_data)\n",
    "lognasa_df.registerTempTable(\"lognasa\")"
   ]
  },
  {
   "cell_type": "code",
   "execution_count": 18,
   "metadata": {
    "collapsed": false
   },
   "outputs": [
    {
     "name": "stdout",
     "output_type": "stream",
     "text": [
      "+---------+---------+------------------+\n",
      "|min(size)|max(size)|         avg(size)|\n",
      "+---------+---------+------------------+\n",
      "|        0|  3421948|17531.555702435926|\n",
      "+---------+---------+------------------+\n",
      "\n"
     ]
    }
   ],
   "source": [
    "statsNASA = sqlContext.sql(\"\"\"\n",
    "    SELECT MIN(size), MAX(size), MEAN(size) FROM lognasa\n",
    "\"\"\")\n",
    "statsNASA.show()"
   ]
  },
  {
   "cell_type": "markdown",
   "metadata": {},
   "source": [
    "## Pregunta 2\n",
    "\n",
    "## Número de peticiones de cada código de respuesta"
   ]
  },
  {
   "cell_type": "markdown",
   "metadata": {},
   "source": [
    "El siguiente objetivo es calcular el número de peticiones de cada código de respuesta:"
   ]
  },
  {
   "cell_type": "code",
   "execution_count": 19,
   "metadata": {
    "collapsed": false
   },
   "outputs": [
    {
     "data": {
      "text/plain": [
       "[('200', 940847),\n",
       " ('304', 79824),\n",
       " ('302', 16244),\n",
       " ('404', 6185),\n",
       " ('403', 58),\n",
       " ('501', 17),\n",
       " ('500', 2)]"
      ]
     },
     "execution_count": 19,
     "metadata": {},
     "output_type": "execute_result"
    }
   ],
   "source": [
    "n_codes = parsed_def.map(lambda line: (line[-2], 1)).distinct().count()\n",
    "codes_count = (parsed_def.map(lambda line: (line[-2], 1))\n",
    "          .reduceByKey(lambda a, b: a + b)\n",
    "          .takeOrdered(n_codes, lambda x: -x[1]))\n",
    "codes_count"
   ]
  },
  {
   "cell_type": "markdown",
   "metadata": {},
   "source": [
    "__Solución:__"
   ]
  },
  {
   "cell_type": "code",
   "execution_count": 20,
   "metadata": {
    "collapsed": false
   },
   "outputs": [
    {
     "name": "stdout",
     "output_type": "stream",
     "text": [
      "+--------+---------------+\n",
      "|repuesta|count(repuesta)|\n",
      "+--------+---------------+\n",
      "|     200|         940847|\n",
      "|     302|          16244|\n",
      "|     501|             17|\n",
      "|     404|           6185|\n",
      "|     403|             58|\n",
      "|     500|              2|\n",
      "|     304|          79824|\n",
      "+--------+---------------+\n",
      "\n"
     ]
    }
   ],
   "source": [
    "respuestasCode = sqlContext.sql(\"\"\"\n",
    "    SELECT repuesta, COUNT(repuesta) FROM lognasa GROUP BY repuesta\n",
    "\"\"\")\n",
    "respuestasCode.show()"
   ]
  },
  {
   "cell_type": "markdown",
   "metadata": {},
   "source": [
    "## Pregunta 3\n",
    "\n",
    "## Mostrar 20 hosts que han sido visitados más de 10 veces"
   ]
  },
  {
   "cell_type": "markdown",
   "metadata": {},
   "source": [
    "Si se desean ver  20 hosts visitados más de diez veces:"
   ]
  },
  {
   "cell_type": "code",
   "execution_count": 21,
   "metadata": {
    "collapsed": false
   },
   "outputs": [
    {
     "data": {
      "text/plain": [
       "[('edams.ksc.nasa.gov', 4034),\n",
       " ('piweba5y.prodigy.com', 3237),\n",
       " ('piweba4y.prodigy.com', 3043),\n",
       " ('piweba3y.prodigy.com', 2830),\n",
       " ('www-d1.proxy.aol.com', 2715),\n",
       " ('www-b3.proxy.aol.com', 2518),\n",
       " ('news.ti.com', 2507),\n",
       " ('www-b2.proxy.aol.com', 2481),\n",
       " ('163.206.89.4', 2478),\n",
       " ('www-c2.proxy.aol.com', 2438),\n",
       " ('www-c3.proxy.aol.com', 2400),\n",
       " ('www-d2.proxy.aol.com', 2371),\n",
       " ('www-d4.proxy.aol.com', 2356),\n",
       " ('www-b5.proxy.aol.com', 2354),\n",
       " ('www-b4.proxy.aol.com', 2297),\n",
       " ('www-d3.proxy.aol.com', 2284),\n",
       " ('www-a2.proxy.aol.com', 2238),\n",
       " ('www-c4.proxy.aol.com', 2207),\n",
       " ('www-c5.proxy.aol.com', 2198),\n",
       " ('www-c6.proxy.aol.com', 2181)]"
      ]
     },
     "execution_count": 21,
     "metadata": {},
     "output_type": "execute_result"
    }
   ],
   "source": [
    "result = parsed_def.map(lambda line: (line[0],1)).reduceByKey(lambda a, b: a + b).filter(lambda x : x[1] > 10).takeOrdered(20, lambda x: -x[1])\n",
    "result"
   ]
  },
  {
   "cell_type": "code",
   "execution_count": 22,
   "metadata": {
    "collapsed": false
   },
   "outputs": [
    {
     "name": "stdout",
     "output_type": "stream",
     "text": [
      "+--------------------+----+\n",
      "|                host| num|\n",
      "+--------------------+----+\n",
      "|  edams.ksc.nasa.gov|4034|\n",
      "|piweba5y.prodigy.com|3237|\n",
      "|piweba4y.prodigy.com|3043|\n",
      "|piweba3y.prodigy.com|2830|\n",
      "|www-d1.proxy.aol.com|2715|\n",
      "|www-b3.proxy.aol.com|2518|\n",
      "|         news.ti.com|2507|\n",
      "|www-b2.proxy.aol.com|2481|\n",
      "|        163.206.89.4|2478|\n",
      "|www-c2.proxy.aol.com|2438|\n",
      "|www-c3.proxy.aol.com|2400|\n",
      "|www-d2.proxy.aol.com|2371|\n",
      "|www-d4.proxy.aol.com|2356|\n",
      "|www-b5.proxy.aol.com|2354|\n",
      "|www-b4.proxy.aol.com|2297|\n",
      "|www-d3.proxy.aol.com|2284|\n",
      "|www-a2.proxy.aol.com|2238|\n",
      "|www-c4.proxy.aol.com|2207|\n",
      "|www-c5.proxy.aol.com|2198|\n",
      "|www-c6.proxy.aol.com|2181|\n",
      "+--------------------+----+\n",
      "\n"
     ]
    }
   ],
   "source": [
    "host20 = sqlContext.sql(\"\"\"\n",
    "   SELECT host, num FROM (SELECT host, COUNT(host) as num FROM lognasa GROUP BY host) WHERE num > 10 ORDER BY num DESC LIMIT 20\n",
    "\"\"\")\n",
    "host20.show()"
   ]
  },
  {
   "cell_type": "markdown",
   "metadata": {},
   "source": [
    "## Pregunta 4 \n",
    "\n",
    "## Mostrar los 10 endpoints más visitados"
   ]
  },
  {
   "cell_type": "markdown",
   "metadata": {},
   "source": [
    "A continuación se muestran los 10 endpoints más visitados:"
   ]
  },
  {
   "cell_type": "code",
   "execution_count": 23,
   "metadata": {
    "collapsed": false
   },
   "outputs": [
    {
     "data": {
      "text/plain": [
       "[('/images/NASA-logosmall.gif', 59737),\n",
       " ('/images/KSC-logosmall.gif', 50452),\n",
       " ('/images/MOSAIC-logosmall.gif', 43890),\n",
       " ('/images/USA-logosmall.gif', 43664),\n",
       " ('/images/WORLD-logosmall.gif', 43277),\n",
       " ('/images/ksclogo-medium.gif', 41336),\n",
       " ('/ksc.html', 28582),\n",
       " ('/history/apollo/images/apollo-logo1.gif', 26778),\n",
       " ('/images/launch-logo.gif', 24755),\n",
       " ('/', 20292)]"
      ]
     },
     "execution_count": 23,
     "metadata": {},
     "output_type": "execute_result"
    }
   ],
   "source": [
    "result = parsed_def.map(lambda line: (line[6],1)).reduceByKey(lambda a, b: a + b).takeOrdered(10, lambda x: -x[1])\n",
    "result"
   ]
  },
  {
   "cell_type": "code",
   "execution_count": 24,
   "metadata": {
    "collapsed": false
   },
   "outputs": [
    {
     "name": "stdout",
     "output_type": "stream",
     "text": [
      "+--------------------+-----+\n",
      "|            endpoint|  num|\n",
      "+--------------------+-----+\n",
      "|/images/NASA-logo...|59737|\n",
      "|/images/KSC-logos...|50452|\n",
      "|/images/MOSAIC-lo...|43890|\n",
      "|/images/USA-logos...|43664|\n",
      "|/images/WORLD-log...|43277|\n",
      "|/images/ksclogo-m...|41336|\n",
      "|           /ksc.html|28582|\n",
      "|/history/apollo/i...|26778|\n",
      "|/images/launch-lo...|24755|\n",
      "|                   /|20292|\n",
      "+--------------------+-----+\n",
      "\n"
     ]
    }
   ],
   "source": [
    "endpoints10 = sqlContext.sql(\"\"\"\n",
    "   SELECT endpoint, COUNT(endpoint) as num FROM lognasa GROUP BY endpoint ORDER BY num DESC LIMIT 10\n",
    "\"\"\")\n",
    "endpoints10.show()"
   ]
  },
  {
   "cell_type": "markdown",
   "metadata": {},
   "source": [
    "## Pregunta 5\n",
    "\n",
    "## Mostrar los 10 endpoints mas visitados que no tienen el codigo de respuesta 200"
   ]
  },
  {
   "cell_type": "markdown",
   "metadata": {},
   "source": [
    "Si se desean los 10 endpoints más visitados que no han devuelto un resultado (es decir, que tienen un código distinto de 200):"
   ]
  },
  {
   "cell_type": "code",
   "execution_count": 25,
   "metadata": {
    "collapsed": false
   },
   "outputs": [
    {
     "data": {
      "text/plain": [
       "[('/images/NASA-logosmall.gif', 8761),\n",
       " ('/images/KSC-logosmall.gif', 7236),\n",
       " ('/images/MOSAIC-logosmall.gif', 5197),\n",
       " ('/images/USA-logosmall.gif', 5157),\n",
       " ('/images/WORLD-logosmall.gif', 5020),\n",
       " ('/images/ksclogo-medium.gif', 4728),\n",
       " ('/history/apollo/images/apollo-logo1.gif', 2907),\n",
       " ('/images/launch-logo.gif', 2811),\n",
       " ('/', 2199),\n",
       " ('/images/ksclogosmall.gif', 1622)]"
      ]
     },
     "execution_count": 25,
     "metadata": {},
     "output_type": "execute_result"
    }
   ],
   "source": [
    "result = (parsed_def.filter(lambda line: line[9] != '200')\n",
    "          .map(lambda line: (line[6], 1))\n",
    "          .reduceByKey(lambda a, b: a+b)\n",
    "          .takeOrdered(10, lambda x: -x[1]))\n",
    "result"
   ]
  },
  {
   "cell_type": "code",
   "execution_count": 26,
   "metadata": {
    "collapsed": false
   },
   "outputs": [
    {
     "name": "stdout",
     "output_type": "stream",
     "text": [
      "+--------------------+----+\n",
      "|            endpoint| num|\n",
      "+--------------------+----+\n",
      "|/images/NASA-logo...|8761|\n",
      "|/images/KSC-logos...|7236|\n",
      "|/images/MOSAIC-lo...|5197|\n",
      "|/images/USA-logos...|5157|\n",
      "|/images/WORLD-log...|5020|\n",
      "|/images/ksclogo-m...|4728|\n",
      "|/history/apollo/i...|2907|\n",
      "|/images/launch-lo...|2811|\n",
      "|                   /|2199|\n",
      "|/images/ksclogosm...|1622|\n",
      "+--------------------+----+\n",
      "\n"
     ]
    }
   ],
   "source": [
    "endpoints10sin200 = sqlContext.sql(\"\"\"\n",
    "   SELECT endpoint, COUNT(endpoint) as num FROM (SELECT endpoint FROM lognasa WHERE repuesta != 200) GROUP BY endpoint ORDER BY num DESC LIMIT 10 \n",
    "\"\"\")\n",
    "endpoints10sin200.show()"
   ]
  },
  {
   "cell_type": "markdown",
   "metadata": {},
   "source": [
    "## Pregunta 6\n",
    "\n",
    "## Número de Hosts Distintos"
   ]
  },
  {
   "cell_type": "markdown",
   "metadata": {},
   "source": [
    "A continuación se calcula el número de hosts distintos:"
   ]
  },
  {
   "cell_type": "code",
   "execution_count": 27,
   "metadata": {
    "collapsed": false
   },
   "outputs": [
    {
     "data": {
      "text/plain": [
       "54507"
      ]
     },
     "execution_count": 27,
     "metadata": {},
     "output_type": "execute_result"
    }
   ],
   "source": [
    "parsed_def.map(lambda line: line[0]).distinct().count()"
   ]
  },
  {
   "cell_type": "code",
   "execution_count": 28,
   "metadata": {
    "collapsed": false
   },
   "outputs": [
    {
     "name": "stdout",
     "output_type": "stream",
     "text": [
      "+--------------------+\n",
      "|count(DISTINCT host)|\n",
      "+--------------------+\n",
      "|               54507|\n",
      "+--------------------+\n",
      "\n"
     ]
    }
   ],
   "source": [
    "distinctHosts = sqlContext.sql(\"\"\"\n",
    "   SELECT COUNT(DISTINCT host) FROM lognasa \n",
    "\"\"\")\n",
    "distinctHosts.show()"
   ]
  },
  {
   "cell_type": "markdown",
   "metadata": {},
   "source": [
    "## Pregunta 7\n",
    "\n",
    "## Número de Hosts unicos por día"
   ]
  },
  {
   "cell_type": "markdown",
   "metadata": {},
   "source": [
    "Tras ello se puede calcular el número de hosts únicos cada día:"
   ]
  },
  {
   "cell_type": "code",
   "execution_count": 29,
   "metadata": {
    "collapsed": false
   },
   "outputs": [
    {
     "data": {
      "text/plain": [
       "[(datetime.datetime(1995, 8, 22, 0, 0), 57758),\n",
       " (datetime.datetime(1995, 8, 14, 0, 0), 59873),\n",
       " (datetime.datetime(1995, 8, 7, 0, 0), 57355),\n",
       " (datetime.datetime(1995, 8, 21, 0, 0), 55539),\n",
       " (datetime.datetime(1995, 8, 19, 0, 0), 32092),\n",
       " (datetime.datetime(1995, 8, 18, 0, 0), 56244),\n",
       " (datetime.datetime(1995, 8, 13, 0, 0), 36480),\n",
       " (datetime.datetime(1995, 8, 1, 0, 0), 33996),\n",
       " (datetime.datetime(1995, 8, 15, 0, 0), 58845),\n",
       " (datetime.datetime(1995, 8, 17, 0, 0), 58980),\n",
       " (datetime.datetime(1995, 8, 11, 0, 0), 61242),\n",
       " (datetime.datetime(1995, 8, 16, 0, 0), 56651),\n",
       " (datetime.datetime(1995, 8, 10, 0, 0), 61245),\n",
       " (datetime.datetime(1995, 8, 8, 0, 0), 60142),\n",
       " (datetime.datetime(1995, 8, 3, 0, 0), 41387),\n",
       " (datetime.datetime(1995, 8, 20, 0, 0), 32963),\n",
       " (datetime.datetime(1995, 8, 5, 0, 0), 31888),\n",
       " (datetime.datetime(1995, 8, 4, 0, 0), 59554),\n",
       " (datetime.datetime(1995, 8, 9, 0, 0), 60457),\n",
       " (datetime.datetime(1995, 8, 12, 0, 0), 38070),\n",
       " (datetime.datetime(1995, 8, 6, 0, 0), 32416)]"
      ]
     },
     "execution_count": 29,
     "metadata": {},
     "output_type": "execute_result"
    }
   ],
   "source": [
    "def day_month(line):\n",
    "    date_time = line[3]\n",
    "    return datetime.strptime(date_time[:11], \"%d/%b/%Y\") #Se parsea la fecha para trabajar con ella tal y como vimos en clase.\n",
    "result = parsed_def.map(lambda line:  (day_month(line), 1)).reduceByKey(lambda a, b: a + b).distinct().collect()\n",
    "result\n",
    "\n"
   ]
  },
  {
   "cell_type": "code",
   "execution_count": 30,
   "metadata": {
    "collapsed": false
   },
   "outputs": [
    {
     "data": {
      "text/plain": [
       "PythonRDD[99] at RDD at PythonRDD.scala:48"
      ]
     },
     "execution_count": 30,
     "metadata": {},
     "output_type": "execute_result"
    }
   ],
   "source": [
    "row_data = parsed_def.map(lambda p: Row(\n",
    "    host = p[0], \n",
    "    fecha = p[3][:11],\n",
    "    endpoint = p[6],\n",
    "    size = convert_long(p[-1]),\n",
    "    repuesta = p[-2]\n",
    "    )\n",
    ")\n",
    "row_data"
   ]
  },
  {
   "cell_type": "code",
   "execution_count": 31,
   "metadata": {
    "collapsed": false
   },
   "outputs": [],
   "source": [
    "lognasa_df = sqlContext.createDataFrame(row_data)\n",
    "lognasa_df.registerTempTable(\"lognasa\")"
   ]
  },
  {
   "cell_type": "code",
   "execution_count": 32,
   "metadata": {
    "collapsed": false
   },
   "outputs": [
    {
     "name": "stdout",
     "output_type": "stream",
     "text": [
      "+-----------+--------------------+\n",
      "|      fecha|count(DISTINCT host)|\n",
      "+-----------+--------------------+\n",
      "|21/Aug/1995|                4134|\n",
      "|06/Aug/1995|                2537|\n",
      "|07/Aug/1995|                4106|\n",
      "|11/Aug/1995|                4346|\n",
      "|03/Aug/1995|                3222|\n",
      "|18/Aug/1995|                4168|\n",
      "|17/Aug/1995|                4385|\n",
      "|14/Aug/1995|                4454|\n",
      "|20/Aug/1995|                2560|\n",
      "|13/Aug/1995|                2650|\n",
      "|15/Aug/1995|                4214|\n",
      "|22/Aug/1995|                4456|\n",
      "|08/Aug/1995|                4406|\n",
      "|19/Aug/1995|                2550|\n",
      "|04/Aug/1995|                4190|\n",
      "|12/Aug/1995|                2864|\n",
      "|05/Aug/1995|                2502|\n",
      "|01/Aug/1995|                2582|\n",
      "|16/Aug/1995|                4340|\n",
      "|09/Aug/1995|                4317|\n",
      "+-----------+--------------------+\n",
      "only showing top 20 rows\n",
      "\n"
     ]
    }
   ],
   "source": [
    "distinctHosts = sqlContext.sql(\"\"\"\n",
    "   SELECT fecha, COUNT(DISTINCT host) FROM lognasa GROUP BY fecha\n",
    "\"\"\")\n",
    "distinctHosts.show()"
   ]
  },
  {
   "cell_type": "markdown",
   "metadata": {},
   "source": [
    "## Pregunta 9 \n",
    "\n",
    "## media de peticiones diarias por host"
   ]
  },
  {
   "cell_type": "markdown",
   "metadata": {},
   "source": [
    "Tras esto se pide calcular la media de peticiones diaria por host."
   ]
  },
  {
   "cell_type": "code",
   "execution_count": 33,
   "metadata": {
    "collapsed": false
   },
   "outputs": [],
   "source": [
    "unique_result = (parsed_def.map(lambda line:  (day_month(line),line[0]))\n",
    "          .groupByKey().mapValues(set)\n",
    "          .map(lambda x: (x[0], len(x[1]))))\n",
    "\n",
    "length_result = (parsed_def.map(lambda line:  (day_month(line),line[0]))\n",
    "          .groupByKey().mapValues(len))\n",
    "\n",
    "joined = length_result.join(unique_result).map(lambda a: (a[0], (a[1][0])/(a[1][1]))).collect()\n",
    "day = [x[0] for x in joined]\n",
    "count = [x[1] for x in joined]\n",
    "day_count_dct = {'Día':day, 'Media':count}\n",
    "day_count_df = pd.DataFrame(day_count_dct )\n"
   ]
  },
  {
   "cell_type": "markdown",
   "metadata": {},
   "source": [
    "El panda en este caso no se usa para realizar ningún cálculo si no simplemente para una mejor visualización."
   ]
  },
  {
   "cell_type": "markdown",
   "metadata": {},
   "source": [
    "__Solución:__ "
   ]
  },
  {
   "cell_type": "code",
   "execution_count": 34,
   "metadata": {
    "collapsed": false
   },
   "outputs": [
    {
     "data": {
      "text/html": [
       "<div>\n",
       "<table border=\"1\" class=\"dataframe\">\n",
       "  <thead>\n",
       "    <tr style=\"text-align: right;\">\n",
       "      <th></th>\n",
       "      <th>Día</th>\n",
       "      <th>Media</th>\n",
       "    </tr>\n",
       "  </thead>\n",
       "  <tbody>\n",
       "    <tr>\n",
       "      <th>0</th>\n",
       "      <td>1995-08-22</td>\n",
       "      <td>12.961849</td>\n",
       "    </tr>\n",
       "    <tr>\n",
       "      <th>1</th>\n",
       "      <td>1995-08-14</td>\n",
       "      <td>13.442524</td>\n",
       "    </tr>\n",
       "    <tr>\n",
       "      <th>2</th>\n",
       "      <td>1995-08-16</td>\n",
       "      <td>13.053226</td>\n",
       "    </tr>\n",
       "    <tr>\n",
       "      <th>3</th>\n",
       "      <td>1995-08-11</td>\n",
       "      <td>14.091578</td>\n",
       "    </tr>\n",
       "    <tr>\n",
       "      <th>4</th>\n",
       "      <td>1995-08-12</td>\n",
       "      <td>13.292598</td>\n",
       "    </tr>\n",
       "    <tr>\n",
       "      <th>5</th>\n",
       "      <td>1995-08-13</td>\n",
       "      <td>13.766038</td>\n",
       "    </tr>\n",
       "    <tr>\n",
       "      <th>6</th>\n",
       "      <td>1995-08-15</td>\n",
       "      <td>13.964167</td>\n",
       "    </tr>\n",
       "    <tr>\n",
       "      <th>7</th>\n",
       "      <td>1995-08-20</td>\n",
       "      <td>12.876172</td>\n",
       "    </tr>\n",
       "    <tr>\n",
       "      <th>8</th>\n",
       "      <td>1995-08-05</td>\n",
       "      <td>12.745004</td>\n",
       "    </tr>\n",
       "    <tr>\n",
       "      <th>9</th>\n",
       "      <td>1995-08-06</td>\n",
       "      <td>12.777296</td>\n",
       "    </tr>\n",
       "    <tr>\n",
       "      <th>10</th>\n",
       "      <td>1995-08-03</td>\n",
       "      <td>12.845127</td>\n",
       "    </tr>\n",
       "    <tr>\n",
       "      <th>11</th>\n",
       "      <td>1995-08-09</td>\n",
       "      <td>14.004401</td>\n",
       "    </tr>\n",
       "    <tr>\n",
       "      <th>12</th>\n",
       "      <td>1995-08-08</td>\n",
       "      <td>13.650023</td>\n",
       "    </tr>\n",
       "    <tr>\n",
       "      <th>13</th>\n",
       "      <td>1995-08-19</td>\n",
       "      <td>12.585098</td>\n",
       "    </tr>\n",
       "    <tr>\n",
       "      <th>14</th>\n",
       "      <td>1995-08-18</td>\n",
       "      <td>13.494242</td>\n",
       "    </tr>\n",
       "    <tr>\n",
       "      <th>15</th>\n",
       "      <td>1995-08-10</td>\n",
       "      <td>13.540792</td>\n",
       "    </tr>\n",
       "    <tr>\n",
       "      <th>16</th>\n",
       "      <td>1995-08-17</td>\n",
       "      <td>13.450399</td>\n",
       "    </tr>\n",
       "    <tr>\n",
       "      <th>17</th>\n",
       "      <td>1995-08-04</td>\n",
       "      <td>14.213365</td>\n",
       "    </tr>\n",
       "    <tr>\n",
       "      <th>18</th>\n",
       "      <td>1995-08-01</td>\n",
       "      <td>13.166538</td>\n",
       "    </tr>\n",
       "    <tr>\n",
       "      <th>19</th>\n",
       "      <td>1995-08-21</td>\n",
       "      <td>13.434688</td>\n",
       "    </tr>\n",
       "    <tr>\n",
       "      <th>20</th>\n",
       "      <td>1995-08-07</td>\n",
       "      <td>13.968583</td>\n",
       "    </tr>\n",
       "  </tbody>\n",
       "</table>\n",
       "</div>"
      ],
      "text/plain": [
       "          Día      Media\n",
       "0  1995-08-22  12.961849\n",
       "1  1995-08-14  13.442524\n",
       "2  1995-08-16  13.053226\n",
       "3  1995-08-11  14.091578\n",
       "4  1995-08-12  13.292598\n",
       "5  1995-08-13  13.766038\n",
       "6  1995-08-15  13.964167\n",
       "7  1995-08-20  12.876172\n",
       "8  1995-08-05  12.745004\n",
       "9  1995-08-06  12.777296\n",
       "10 1995-08-03  12.845127\n",
       "11 1995-08-09  14.004401\n",
       "12 1995-08-08  13.650023\n",
       "13 1995-08-19  12.585098\n",
       "14 1995-08-18  13.494242\n",
       "15 1995-08-10  13.540792\n",
       "16 1995-08-17  13.450399\n",
       "17 1995-08-04  14.213365\n",
       "18 1995-08-01  13.166538\n",
       "19 1995-08-21  13.434688\n",
       "20 1995-08-07  13.968583"
      ]
     },
     "execution_count": 34,
     "metadata": {},
     "output_type": "execute_result"
    }
   ],
   "source": [
    "day_count_df"
   ]
  },
  {
   "cell_type": "code",
   "execution_count": 35,
   "metadata": {
    "collapsed": false
   },
   "outputs": [
    {
     "name": "stdout",
     "output_type": "stream",
     "text": [
      "+-----------+------------------+\n",
      "|      fecha|         avg(size)|\n",
      "+-----------+------------------+\n",
      "|21/Aug/1995|16572.278633032645|\n",
      "|06/Aug/1995|19561.356120434353|\n",
      "|07/Aug/1995|16700.041234417225|\n",
      "|11/Aug/1995|18005.917197348226|\n",
      "|03/Aug/1995|17709.754391475584|\n",
      "|18/Aug/1995|16097.694082924401|\n",
      "|17/Aug/1995|17733.498965751103|\n",
      "|14/Aug/1995|18097.275466403888|\n",
      "|20/Aug/1995|18506.597518429753|\n",
      "|13/Aug/1995|19101.447450657895|\n",
      "|15/Aug/1995|17918.424946894385|\n",
      "|22/Aug/1995|16328.244502926002|\n",
      "|08/Aug/1995| 17677.64972897476|\n",
      "|19/Aug/1995|18058.618347251653|\n",
      "|04/Aug/1995| 18634.01215703395|\n",
      "|12/Aug/1995| 18271.50562122406|\n",
      "|05/Aug/1995|19242.211176618162|\n",
      "|01/Aug/1995|15570.117631486057|\n",
      "|16/Aug/1995| 17557.41164321901|\n",
      "|09/Aug/1995|16224.069669351771|\n",
      "+-----------+------------------+\n",
      "only showing top 20 rows\n",
      "\n"
     ]
    }
   ],
   "source": [
    "sizeFecha = sqlContext.sql(\"\"\"\n",
    "   SELECT fecha, MEAN(size) FROM lognasa GROUP BY fecha\n",
    "\"\"\")\n",
    "sizeFecha.show()"
   ]
  },
  {
   "cell_type": "code",
   "execution_count": 36,
   "metadata": {
    "collapsed": false
   },
   "outputs": [
    {
     "name": "stdout",
     "output_type": "stream",
     "text": [
      "+--------------------+------+\n",
      "|                host|nfecha|\n",
      "+--------------------+------+\n",
      "|tibia.mech.kuleuv...|     1|\n",
      "|      205.197.248.13|     2|\n",
      "|      138.253.42.199|     1|\n",
      "|slip02.cs1.electr...|     2|\n",
      "|ppp2_100.bekkoame...|     1|\n",
      "|quadraohenia.jsc....|     3|\n",
      "|ix-sea6-23.ix.net...|     1|\n",
      "|      140.251.205.85|     1|\n",
      "|houston-1-6.i-lin...|     1|\n",
      "|      128.159.112.47|     4|\n",
      "|ix-lv4-29.ix.netc...|     1|\n",
      "|      163.205.166.15|    13|\n",
      "|pipe2.nyc.pipelin...|     6|\n",
      "|  tpafl2-48.gate.net|     2|\n",
      "|       199.174.180.5|     1|\n",
      "|d54.net.interacce...|     1|\n",
      "|pppd053.compuserv...|     1|\n",
      "|slip-1-8.afit.af.mil|     1|\n",
      "|   fiji.cs.brown.edu|     1|\n",
      "|bluegum06.itd.uts...|     2|\n",
      "+--------------------+------+\n",
      "only showing top 20 rows\n",
      "\n"
     ]
    }
   ],
   "source": [
    "sizeFecha = sqlContext.sql(\"\"\"\n",
    "   SELECT host, COUNT(DISTInCT fecha) as nfecha FROM lognasa GROUP BY host\n",
    "\"\"\")\n",
    "sizeFecha.show()"
   ]
  },
  {
   "cell_type": "code",
   "execution_count": 37,
   "metadata": {
    "collapsed": false
   },
   "outputs": [
    {
     "name": "stdout",
     "output_type": "stream",
     "text": [
      "+--------------------+-----+\n",
      "|                host|nhost|\n",
      "+--------------------+-----+\n",
      "|ix-sea6-23.ix.net...|    9|\n",
      "|grimnet23.idirect...|   10|\n",
      "|      ird.scitex.com|   13|\n",
      "|      163.205.166.15|  228|\n",
      "|   chrism.tmx.com.au|    4|\n",
      "| boom.marblehead.com|    3|\n",
      "|        199.3.230.80|    9|\n",
      "|  enigma.idirect.com|  276|\n",
      "|ip26.abq-dialin.h...|    6|\n",
      "|   ppp20.coara.or.jp|   39|\n",
      "|      128.159.63.129|   12|\n",
      "|      132.170.244.49|   12|\n",
      "|   hp165.den.mmc.com|   68|\n",
      "|      128.159.143.43|   52|\n",
      "|   lib-golf.tamu.edu|   20|\n",
      "|       163.205.80.44|  203|\n",
      "|      192.195.243.61|    7|\n",
      "|   gigi.jpl.nasa.gov|    5|\n",
      "|     dyna-53.bart.nl|   12|\n",
      "|       164.116.78.80|   29|\n",
      "+--------------------+-----+\n",
      "only showing top 20 rows\n",
      "\n"
     ]
    }
   ],
   "source": [
    "sizeHost = sqlContext.sql(\"\"\"\n",
    "   SELECT host, COUNT(host) as nhost FROM lognasa GROUP BY host\n",
    "\"\"\")\n",
    "sizeHost.show()"
   ]
  },
  {
   "cell_type": "code",
   "execution_count": 38,
   "metadata": {
    "collapsed": false
   },
   "outputs": [
    {
     "name": "stdout",
     "output_type": "stream",
     "text": [
      "+---------------+------------------------+\n",
      "|           host|media_Peticiones_Diarias|\n",
      "+---------------+------------------------+\n",
      "| 128.159.112.47|                    44.0|\n",
      "| 128.159.143.43|                    13.0|\n",
      "| 128.159.144.57|                    12.0|\n",
      "| 128.159.63.129|                    12.0|\n",
      "| 128.200.148.26|      17.666666666666668|\n",
      "| 128.217.61.131|                     1.0|\n",
      "|   129.231.2.34|                     6.0|\n",
      "|  129.52.31.150|                    12.0|\n",
      "|  130.151.82.70|                    18.0|\n",
      "|   130.181.8.86|                    12.0|\n",
      "|130.225.253.158|                     5.0|\n",
      "|131.188.160.155|                     6.0|\n",
      "| 132.170.244.49|                    12.0|\n",
      "|   133.28.80.84|                    23.0|\n",
      "|  134.39.70.204|      15.666666666666666|\n",
      "| 136.145.30.147|                     7.0|\n",
      "| 137.161.202.98|                    37.0|\n",
      "| 138.115.11.103|                    11.0|\n",
      "| 138.253.42.199|                     6.0|\n",
      "|    138.47.49.4|                    19.0|\n",
      "+---------------+------------------------+\n",
      "only showing top 20 rows\n",
      "\n"
     ]
    }
   ],
   "source": [
    "meanHostByFecha = sqlContext.sql(\"\"\"\n",
    "   Select host, nhost/nfecha as media_Peticiones_Diarias  FROM (SELECT host, COUNT(host) as nhost FROM lognasa GROUP BY host) JOIN (SELECT host as fhost, COUNT(DISTInCT fecha) as nfecha FROM lognasa GROUP BY host) ON fhost = host \n",
    "\"\"\")\n",
    "meanHostByFecha.show()"
   ]
  },
  {
   "cell_type": "markdown",
   "metadata": {},
   "source": [
    "## Pregunta 10\n",
    "\n",
    "## se muestra una lista de 40 endpoints que generan código de respuesta = 404"
   ]
  },
  {
   "cell_type": "markdown",
   "metadata": {},
   "source": [
    "A continuación, se muestra una lista de 40 endpoints que generan código de respuesta = 404:"
   ]
  },
  {
   "cell_type": "code",
   "execution_count": 39,
   "metadata": {
    "collapsed": false
   },
   "outputs": [
    {
     "data": {
      "text/plain": [
       "[('/pub/winvn/readme.txt', 633),\n",
       " ('/pub/winvn/release.txt', 494),\n",
       " ('/shuttle/missions/STS-69/mission-STS-69.html', 431),\n",
       " ('/images/nasa-logo.gif', 319),\n",
       " ('/elv/DELTA/uncons.htm', 178),\n",
       " ('/shuttle/missions/sts-68/ksc-upclose.gif', 156),\n",
       " ('/history/apollo/sa-1/sa-1-patch-small.gif', 146),\n",
       " ('/images/crawlerway-logo.gif', 120),\n",
       " ('/://spacelink.msfc.nasa.gov', 117),\n",
       " ('/history/apollo/pad-abort-test-1/pad-abort-test-1-patch-small.gif', 100),\n",
       " ('/history/apollo/a-001/a-001-patch-small.gif', 97),\n",
       " ('/images/Nasa-logo.gif', 85),\n",
       " ('/shuttle/resources/orbiters/atlantis.gif', 64),\n",
       " ('/history/apollo/images/little-joe.jpg', 62),\n",
       " ('/images/lf-logo.gif', 59),\n",
       " ('/shuttle/resources/orbiters/discovery.gif', 56),\n",
       " ('/shuttle/resources/orbiters/challenger.gif', 54),\n",
       " ('/robots.txt', 53),\n",
       " ('/elv/new01.gif>', 43),\n",
       " ('/history/apollo/pad-abort-test-2/pad-abort-test-2-patch-small.gif', 38),\n",
       " ('/pub/', 36),\n",
       " ('/pub', 36),\n",
       " ('/history/apollo/sa-2/sa-2-patch-small.gif', 35),\n",
       " ('/history/apollo/sa-5/sa-5-patch-small.gif', 32),\n",
       " ('/shuttle/countdown/count69.gif', 31),\n",
       " ('/software/winvn/winvn.html.', 31),\n",
       " ('/history/apollo/sa-1/images/', 29),\n",
       " ('/history/apollo/sa-3/sa-3-patch-small.gif', 27),\n",
       " ('/shuttle/technology/sts-newsref/stsref-to.html', 26),\n",
       " ('/%3A//spacelink.msfc.nasa.gov', 26),\n",
       " ('/shuttle/missions/technology/sts-newsref/stsref-toc.html', 25),\n",
       " ('/SDG/Experimental/demoweb/return.gif', 25),\n",
       " ('/%3A/spacelink.msfc.nasa.gov', 23),\n",
       " ('/shuttle/missions/51-L/mission-51-1.html', 22),\n",
       " ('/history/apollo/sa-1/movies/', 22),\n",
       " ('/icons/image.xb', 21),\n",
       " ('/history/apollo/sa-9/sa-9-patch-small.gif', 20),\n",
       " ('/shuttle/missions/sts-71/video/landing.gif', 20),\n",
       " ('/persons/astronauts/q-to-t/TrulyRH.txt', 19),\n",
       " ('/elv/SCOUT/elvhead2.gif', 19)]"
      ]
     },
     "execution_count": 39,
     "metadata": {},
     "output_type": "execute_result"
    }
   ],
   "source": [
    "result = (parsed_def.filter(lambda line: line[9] == '404')\n",
    "          .map(lambda line: (line[6], 1))\n",
    "          .reduceByKey(lambda a, b: a+b).distinct()\n",
    "          .takeOrdered(40, lambda x: -x[1]))\n",
    "result"
   ]
  },
  {
   "cell_type": "code",
   "execution_count": 40,
   "metadata": {
    "collapsed": false
   },
   "outputs": [
    {
     "name": "stdout",
     "output_type": "stream",
     "text": [
      "+--------------------+\n",
      "|            endpoint|\n",
      "+--------------------+\n",
      "|/shuttle/missions...|\n",
      "|/history/apollo/a...|\n",
      "|/history/apollo/a...|\n",
      "|        /CSMT_PageNS|\n",
      "|/pub/wiinvn/win3/...|\n",
      "|  /public.win3/winvn|\n",
      "|/shuttle/sts-1/st...|\n",
      "|/history/apollo/a...|\n",
      "|/shuttle/technolo...|\n",
      "|/shuttle/missions...|\n",
      "|/shuttle/countdow...|\n",
      "|     /pub/winvn/docs|\n",
      "|     /IMAGES/RSS.GIF|\n",
      "|/history/apollo/-...|\n",
      "|/pub/winvn/readme...|\n",
      "|          /ksc.shtml|\n",
      "|/img/sportstalk3.gif|\n",
      "|          /home.html|\n",
      "|/shuttle/missions...|\n",
      "|/shuttle/technolo...|\n",
      "+--------------------+\n",
      "only showing top 20 rows\n",
      "\n"
     ]
    }
   ],
   "source": [
    "codigo404 = sqlContext.sql(\"\"\"\n",
    "   SELECT DISTINCT(endpoint) FROM lognasa WHERE repuesta = \"404\"\n",
    "\"\"\")\n",
    "codigo404.show()"
   ]
  },
  {
   "cell_type": "markdown",
   "metadata": {},
   "source": [
    "## Pregunta 11\n",
    "\n",
    "## mostrar los 25 endpoints que más código 404 generan"
   ]
  },
  {
   "cell_type": "markdown",
   "metadata": {},
   "source": [
    "El siguiente comando mostraría el top 25 de endpoints que más códigos 404 generan de dispnerse de más de 13:"
   ]
  },
  {
   "cell_type": "code",
   "execution_count": 41,
   "metadata": {
    "collapsed": false
   },
   "outputs": [
    {
     "data": {
      "text/plain": [
       "[('/pub/winvn/readme.txt', 633),\n",
       " ('/pub/winvn/release.txt', 494),\n",
       " ('/shuttle/missions/STS-69/mission-STS-69.html', 431),\n",
       " ('/images/nasa-logo.gif', 319),\n",
       " ('/elv/DELTA/uncons.htm', 178),\n",
       " ('/shuttle/missions/sts-68/ksc-upclose.gif', 156),\n",
       " ('/history/apollo/sa-1/sa-1-patch-small.gif', 146),\n",
       " ('/images/crawlerway-logo.gif', 120),\n",
       " ('/://spacelink.msfc.nasa.gov', 117),\n",
       " ('/history/apollo/pad-abort-test-1/pad-abort-test-1-patch-small.gif', 100),\n",
       " ('/history/apollo/a-001/a-001-patch-small.gif', 97),\n",
       " ('/images/Nasa-logo.gif', 85),\n",
       " ('/shuttle/resources/orbiters/atlantis.gif', 64),\n",
       " ('/history/apollo/images/little-joe.jpg', 62),\n",
       " ('/images/lf-logo.gif', 59),\n",
       " ('/shuttle/resources/orbiters/discovery.gif', 56),\n",
       " ('/shuttle/resources/orbiters/challenger.gif', 54),\n",
       " ('/robots.txt', 53),\n",
       " ('/elv/new01.gif>', 43),\n",
       " ('/history/apollo/pad-abort-test-2/pad-abort-test-2-patch-small.gif', 38),\n",
       " ('/pub/', 36),\n",
       " ('/pub', 36),\n",
       " ('/history/apollo/sa-2/sa-2-patch-small.gif', 35),\n",
       " ('/history/apollo/sa-5/sa-5-patch-small.gif', 32),\n",
       " ('/shuttle/countdown/count69.gif', 31)]"
      ]
     },
     "execution_count": 41,
     "metadata": {},
     "output_type": "execute_result"
    }
   ],
   "source": [
    "result = (parsed_def.filter(lambda line: line[9] == '404')\n",
    "          .map(lambda line: (line[6], 1))\n",
    "          .reduceByKey(lambda a, b: a+b).distinct()\n",
    "          .takeOrdered(25, lambda x: -x[1]))\n",
    "result"
   ]
  },
  {
   "cell_type": "code",
   "execution_count": 42,
   "metadata": {
    "collapsed": false
   },
   "outputs": [
    {
     "name": "stdout",
     "output_type": "stream",
     "text": [
      "+--------------------+---+\n",
      "|            endpoint|top|\n",
      "+--------------------+---+\n",
      "|/pub/winvn/readme...|633|\n",
      "|/pub/winvn/releas...|494|\n",
      "|/shuttle/missions...|431|\n",
      "|/images/nasa-logo...|319|\n",
      "|/elv/DELTA/uncons...|178|\n",
      "|/shuttle/missions...|156|\n",
      "|/history/apollo/s...|146|\n",
      "|/images/crawlerwa...|120|\n",
      "|/://spacelink.msf...|117|\n",
      "|/history/apollo/p...|100|\n",
      "|/history/apollo/a...| 97|\n",
      "|/images/Nasa-logo...| 85|\n",
      "|/shuttle/resource...| 64|\n",
      "|/history/apollo/i...| 62|\n",
      "| /images/lf-logo.gif| 59|\n",
      "|/shuttle/resource...| 56|\n",
      "|/shuttle/resource...| 54|\n",
      "|         /robots.txt| 53|\n",
      "|     /elv/new01.gif>| 43|\n",
      "|/history/apollo/p...| 38|\n",
      "+--------------------+---+\n",
      "only showing top 20 rows\n",
      "\n"
     ]
    }
   ],
   "source": [
    "topCodigo404 = sqlContext.sql(\"\"\"\n",
    "   SELECT endpoint, COUNT(endpoint) as top FROM lognasa WHERE repuesta = \"404\" GROUP BY endpoint ORDER BY top DESC LIMIT 25\n",
    "\"\"\")\n",
    "topCodigo404.show()"
   ]
  },
  {
   "cell_type": "markdown",
   "metadata": {},
   "source": [
    "## Pregunta 12\n",
    "\n",
    "## TOP 5 días con mayor número de 404's"
   ]
  },
  {
   "cell_type": "markdown",
   "metadata": {},
   "source": [
    "Si se desean obtener el top 5 de días que más códigos de error 404 generan:"
   ]
  },
  {
   "cell_type": "code",
   "execution_count": 43,
   "metadata": {
    "collapsed": true
   },
   "outputs": [],
   "source": [
    "result = (parsed_def.filter(lambda line: line[9] == '404')\n",
    "          .map(lambda line:  (day_month(line), 1))\n",
    "          .reduceByKey(lambda a, b: a+b).collect())\n",
    "day = [x[0] for x in result]\n",
    "count = [x[1] for x in result]\n",
    "day_count_dct = {'day':day, 'count':count}\n",
    "day_count_df = pd.DataFrame(day_count_dct )\n"
   ]
  },
  {
   "cell_type": "markdown",
   "metadata": {},
   "source": [
    "De nuevo el paso a DF se emplea únicamente para una mejor visualización:"
   ]
  },
  {
   "cell_type": "code",
   "execution_count": 44,
   "metadata": {
    "collapsed": false
   },
   "outputs": [
    {
     "data": {
      "text/html": [
       "<div>\n",
       "<table border=\"1\" class=\"dataframe\">\n",
       "  <thead>\n",
       "    <tr style=\"text-align: right;\">\n",
       "      <th></th>\n",
       "      <th>count</th>\n",
       "      <th>day</th>\n",
       "    </tr>\n",
       "  </thead>\n",
       "  <tbody>\n",
       "    <tr>\n",
       "      <th>20</th>\n",
       "      <td>532</td>\n",
       "      <td>1995-08-07</td>\n",
       "    </tr>\n",
       "    <tr>\n",
       "      <th>10</th>\n",
       "      <td>381</td>\n",
       "      <td>1995-08-08</td>\n",
       "    </tr>\n",
       "    <tr>\n",
       "      <th>6</th>\n",
       "      <td>372</td>\n",
       "      <td>1995-08-06</td>\n",
       "    </tr>\n",
       "    <tr>\n",
       "      <th>17</th>\n",
       "      <td>346</td>\n",
       "      <td>1995-08-04</td>\n",
       "    </tr>\n",
       "    <tr>\n",
       "      <th>1</th>\n",
       "      <td>326</td>\n",
       "      <td>1995-08-15</td>\n",
       "    </tr>\n",
       "    <tr>\n",
       "      <th>14</th>\n",
       "      <td>314</td>\n",
       "      <td>1995-08-10</td>\n",
       "    </tr>\n",
       "    <tr>\n",
       "      <th>2</th>\n",
       "      <td>312</td>\n",
       "      <td>1995-08-20</td>\n",
       "    </tr>\n",
       "    <tr>\n",
       "      <th>19</th>\n",
       "      <td>305</td>\n",
       "      <td>1995-08-21</td>\n",
       "    </tr>\n",
       "    <tr>\n",
       "      <th>5</th>\n",
       "      <td>303</td>\n",
       "      <td>1995-08-03</td>\n",
       "    </tr>\n",
       "    <tr>\n",
       "      <th>0</th>\n",
       "      <td>288</td>\n",
       "      <td>1995-08-22</td>\n",
       "    </tr>\n",
       "  </tbody>\n",
       "</table>\n",
       "</div>"
      ],
      "text/plain": [
       "    count        day\n",
       "20    532 1995-08-07\n",
       "10    381 1995-08-08\n",
       "6     372 1995-08-06\n",
       "17    346 1995-08-04\n",
       "1     326 1995-08-15\n",
       "14    314 1995-08-10\n",
       "2     312 1995-08-20\n",
       "19    305 1995-08-21\n",
       "5     303 1995-08-03\n",
       "0     288 1995-08-22"
      ]
     },
     "execution_count": 44,
     "metadata": {},
     "output_type": "execute_result"
    }
   ],
   "source": [
    "day_count_df.sort_values('count', ascending = False)[:10]\n"
   ]
  },
  {
   "cell_type": "code",
   "execution_count": 45,
   "metadata": {
    "collapsed": false
   },
   "outputs": [
    {
     "name": "stdout",
     "output_type": "stream",
     "text": [
      "+-----------+---+\n",
      "|      fecha|top|\n",
      "+-----------+---+\n",
      "|07/Aug/1995|532|\n",
      "|08/Aug/1995|381|\n",
      "|06/Aug/1995|372|\n",
      "|04/Aug/1995|346|\n",
      "|15/Aug/1995|326|\n",
      "+-----------+---+\n",
      "\n"
     ]
    }
   ],
   "source": [
    "top5 = sqlContext.sql(\"\"\"\n",
    "   SELECT fecha, COUNT(fecha) as top FROM lognasa WHERE repuesta = \"404\" GROUP BY fecha ORDER BY top DESC LIMIT 5\n",
    "\"\"\")\n",
    "top5.show()"
   ]
  },
  {
   "cell_type": "code",
   "execution_count": 50,
   "metadata": {
    "collapsed": true
   },
   "outputs": [],
   "source": [
    "sc.stop()"
   ]
  }
 ],
 "metadata": {
  "kernelspec": {
   "display_name": "Python 3",
   "language": "python",
   "name": "python3"
  },
  "language_info": {
   "codemirror_mode": {
    "name": "ipython",
    "version": 3
   },
   "file_extension": ".py",
   "mimetype": "text/x-python",
   "name": "python",
   "nbconvert_exporter": "python",
   "pygments_lexer": "ipython3",
   "version": "3.5.2"
  }
 },
 "nbformat": 4,
 "nbformat_minor": 2
}
