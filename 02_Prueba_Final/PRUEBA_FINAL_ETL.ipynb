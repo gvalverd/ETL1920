{
 "cells": [
  {
   "cell_type": "markdown",
   "metadata": {
    "id": "WYUeHGkdoKSX"
   },
   "source": [
    "## 1. The World Bank's international debt data\n",
    "<p>No es que los humanos solo tengamos deudas para administrar nuestras necesidades. Un país también puede endeudarse para administrar su economía. Por ejemplo, el gasto en infraestructura es un ingrediente costoso requerido para que los ciudadanos de un país lleven una vida cómoda. El Banco Mundial es la organización que proporciona deuda a los países.</p>\n",
    "\n",
    "<!-- <p>En este notebook, vamos a analizar los datos de la deuda internacional recopilados por el Banco Mundial. El conjunto de datos contiene información sobre el monto de la deuda (en USD) que deben los países en desarrollo en varias categorías.</p>  -->\n",
    "  "
   ]
  },
  {
   "cell_type": "markdown",
   "metadata": {
    "id": "wyCQScYcoVa-"
   },
   "source": [
    "\"Disbursements on external debt, long-term (DIS, current US$)\",DT.DIS.DLXF.CD\n",
    "\"Interest payments on external debt, long-term (INT, current US$)\",DT.INT.DLXF.CD\n",
    "\"PPG, bilateral (AMT, current US$)\",DT.AMT.BLAT.CD\n",
    "\"PPG, bilateral (DIS, current US$)\",DT.DIS.BLAT.CD\n",
    "\"PPG, bilateral (INT, current US$)\",DT.INT.BLAT.CD\n",
    "\"PPG, multilateral (AMT, current US$)\",DT.AMT.MLAT.CD\n",
    "\"PPG, multilateral (DIS, current US$)\",DT.DIS.MLAT.CD\n",
    "\"PPG, multilateral (INT, current US$)\",DT.INT.MLAT.CD\n",
    "\"PPG, official creditors (AMT, current US$)\",DT.AMT.OFFT.CD\n",
    "\"PPG, official creditors (DIS, current US$)\",DT.DIS.OFFT.CD\n",
    "\"PPG, official creditors (INT, current US$)\",DT.INT.OFFT.CD\n",
    "\"Principal repayments on external debt, long-term (AMT, current US$)\",DT.AMT.DLXF.CD\n",
    "\"Interest payments on external debt, private nonguaranteed (PNG) (INT, current US$)\",DT.INT.DPNG.CD\n",
    "\"PPG, bonds (AMT, current US$)\",DT.AMT.PBND.CD\n",
    "\"PPG, bonds (INT, current US$)\",DT.INT.PBND.CD\n",
    "\"PPG, commercial banks (AMT, current US$)\",DT.AMT.PCBK.CD\n",
    "\"PPG, commercial banks (DIS, current US$)\",DT.DIS.PCBK.CD\n",
    "\"PPG, commercial banks (INT, current US$)\",DT.INT.PCBK.CD\n",
    "\"PPG, other private creditors (AMT, current US$)\",DT.AMT.PROP.CD\n",
    "\"PPG, other private creditors (DIS, current US$)\",DT.DIS.PROP.CD\n",
    "\"PPG, other private creditors (INT, current US$)\",DT.INT.PROP.CD\n",
    "\"PPG, private creditors (AMT, current US$)\",DT.AMT.PRVT.CD\n",
    "\"PPG, private creditors (DIS, current US$)\",DT.DIS.PRVT.CD\n",
    "\"PPG, private creditors (INT, current US$)\",DT.INT.PRVT.CD\n",
    "\"Principal repayments on external debt, private nonguaranteed (PNG) (AMT, current US$)\",DT.AMT.DPNG.CD"
   ]
  },
  {
   "cell_type": "markdown",
   "metadata": {
    "id": "b4c9oYaOoVA1"
   },
   "source": [
    "<p>Vamos a encontrar las respuestas a preguntas como:\n",
    "\n",
    "<p>¿Cuál es el monto total de la deuda que deben los países enumerados en el conjunto de datos?\n",
    "<p>¿Qué país posee la cantidad máxima de deuda y cómo se ve esa cantidad?\n",
    "<p>¿Cuál es el monto promedio de la deuda de los países a través de diferentes indicadores de deuda?\n",
    "    \n",
    "Además tenemos otro dataset en el que encontramos información histórica de algunos índices de desarrollo, entre los que se encuentran algunos de deuda como son:"
   ]
  },
  {
   "cell_type": "markdown",
   "metadata": {
    "id": "3FDN5QPioU-r"
   },
   "source": [
    "Series Name,Series Code\n",
    "\"Birth rate, crude (per 1,000 people)\",SP.DYN.CBRT.IN\n",
    "\n",
    "\"Central government debt, total (current LCU)\",GC.DOD.TOTL.CN\n",
    "\n",
    "\"Central government debt, total (% of GDP)\",GC.DOD.TOTL.GD.ZS"
   ]
  },
  {
   "cell_type": "markdown",
   "metadata": {
    "id": "yYtF5m1xojCr"
   },
   "source": [
    "EJERCICIOS PRÁCTICOS:\n",
    "______________________________________________________________________________________________________________\n"
   ]
  },
  {
   "cell_type": "markdown",
   "metadata": {
    "id": "v2O_Px--oudy"
   },
   "source": [
    "#### 1. Inicializar y cargar el contexto spark"
   ]
  },
  {
   "cell_type": "code",
   "execution_count": 1,
   "metadata": {
    "id": "sRRi9n9on_YE"
   },
   "outputs": [],
   "source": [
    "!apt-get install openjdk-8-jdk-headless -qq > /dev/null\n",
    "!wget -q https://www-us.apache.org/dist/spark/spark-2.4.7/spark-2.4.7-bin-hadoop2.7.tgz\n",
    "!tar xf spark-2.4.7-bin-hadoop2.7.tgz\n",
    "!pip install -q findspark\n",
    "\n",
    "import os\n",
    "os.environ[\"JAVA_HOME\"] = \"/usr/lib/jvm/java-8-openjdk-amd64\"\n",
    "os.environ[\"SPARK_HOME\"] = \"/content/spark-2.4.7-bin-hadoop2.7\"\n",
    "\n",
    "import findspark\n",
    "findspark.init()\n",
    "from pyspark import SparkContext\n",
    "sc = SparkContext.getOrCreate()\n",
    "from pyspark.sql import SparkSession\n",
    "spark = SparkSession.builder.master(\"local[*]\").getOrCreate()"
   ]
  },
  {
   "cell_type": "code",
   "execution_count": 2,
   "metadata": {
    "id": "6uqMdrMIoEFl"
   },
   "outputs": [],
   "source": [
    "import urllib.request\n",
    "f = urllib.request.urlretrieve (\"http://kdd.ics.uci.edu/databases/kddcup99/kddcup.data_10_percent.gz\", \"kddcup.data_10_percent.gz\")"
   ]
  },
  {
   "cell_type": "code",
   "execution_count": 3,
   "metadata": {
    "id": "psDynuaNoEvi"
   },
   "outputs": [],
   "source": [
    "from pyspark import SparkContext\n",
    "from pyspark.sql import *\n",
    "from pyspark.sql import SQLContext, functions as F, Row\n",
    "from pyspark.sql.types import *\n",
    "from pyspark.sql.types import StringType, IntegerType\n",
    "\n",
    "# Librería para dar formato a las salidas obtenidas\n",
    "import pandas as pd\n",
    "import numpy as np\n",
    "# Librería para aplicar expresiones regulares en el parseado\n",
    "import re\n",
    "# librería para parsear las fechas con formato date\n",
    "from datetime import datetime\n",
    "# Librería que permite descargar información de una url desde python\n",
    "import urllib\n",
    "from urllib.request import urlretrieve\n",
    "# Librería para llamar a funciones relacionadas con el sistema operativo\n",
    "import os"
   ]
  },
  {
   "cell_type": "code",
   "execution_count": 4,
   "metadata": {
    "id": "krMsbN9op5xF"
   },
   "outputs": [],
   "source": [
    "sc = SparkContext.getOrCreate()\n",
    "sqlContext = SQLContext(sc)"
   ]
  },
  {
   "cell_type": "markdown",
   "metadata": {
    "id": "CLnfkrn9pJPs"
   },
   "source": [
    "##### 2. Número de países distintos en cada dataset. Coinciden?"
   ]
  },
  {
   "cell_type": "code",
   "execution_count": 8,
   "metadata": {
    "id": "0hpx7r4AoFWf"
   },
   "outputs": [],
   "source": [
    "#Importar primero los 2 datasets:\n",
    "\n",
    "#Desarrollo\n",
    "url_ind_desarrollo = '/content/indicadores_desarrollo.csv'\n",
    "url_ind_deuda = '/content/indicadores_deuda.csv'\n",
    "\n",
    "#Deuda\n",
    "ind_desarrollo = sc.textFile(url_ind_desarrollo)\n",
    "ind_deuda = sc.textFile(url_ind_deuda)\n"
   ]
  },
  {
   "cell_type": "code",
   "execution_count": 9,
   "metadata": {
    "colab": {
     "base_uri": "https://localhost:8080/"
    },
    "id": "KjlIJ0F68kf7",
    "outputId": "ebbd856e-9168-41f2-ddba-a27be7f0cdc3"
   },
   "outputs": [
    {
     "data": {
      "text/plain": [
       "['country_name,country_code,DT.AMT.BLAT.CD,DT.AMT.DLXF.CD,DT.AMT.DPNG.CD,DT.AMT.MLAT.CD,DT.AMT.OFFT.CD,DT.AMT.PBND.CD,DT.AMT.PCBK.CD,DT.AMT.PROP.CD,DT.AMT.PRVT.CD,DT.DIS.BLAT.CD,DT.DIS.DLXF.CD,DT.DIS.MLAT.CD,DT.DIS.OFFT.CD,DT.DIS.PCBK.CD,DT.DIS.PROP.CD,DT.DIS.PRVT.CD,DT.INT.BLAT.CD,DT.INT.DLXF.CD,DT.INT.DPNG.CD,DT.INT.MLAT.CD,DT.INT.OFFT.CD,DT.INT.PBND.CD,DT.INT.PCBK.CD,DT.INT.PROP.CD,DT.INT.PRVT.CD']"
      ]
     },
     "execution_count": 9,
     "metadata": {
      "tags": []
     },
     "output_type": "execute_result"
    }
   ],
   "source": [
    "ind_deuda.take(1)"
   ]
  },
  {
   "cell_type": "code",
   "execution_count": 10,
   "metadata": {
    "colab": {
     "base_uri": "https://localhost:8080/"
    },
    "id": "WcGVmDih9eaB",
    "outputId": "011cdc24-fb96-40fc-bbf2-52a46d139d63"
   },
   "outputs": [
    {
     "data": {
      "text/plain": [
       "['country_name,country_code,anho,GC.DOD.TOTL.CN,GC.DOD.TOTL.GD.ZS,SP.DYN.CBRT.IN']"
      ]
     },
     "execution_count": 10,
     "metadata": {
      "tags": []
     },
     "output_type": "execute_result"
    }
   ],
   "source": [
    "ind_desarrollo.take(1)"
   ]
  },
  {
   "cell_type": "code",
   "execution_count": 11,
   "metadata": {
    "id": "aLYbmiKkoGCV"
   },
   "outputs": [],
   "source": [
    "#QUITAR ENCABEZADOS\n",
    "\n",
    "#Desarrollo\n",
    "header_ind_desarrollo = ind_desarrollo.take(1)[0] #CONVERTIMOS LA PRIMERA FILA (HEADER) EN VALOR DE 0\n",
    "ind_desarrollo =  ind_desarrollo.filter(lambda x: x != header_ind_desarrollo) #CON LA FUNCIÓN FILTER LE DECIMOS QUE DEL DATASET NOS COJA TODAS LAS FILAS DIFERENTES AL HEADER\n",
    "\n",
    "#Deuda\n",
    "header_ind_deuda = ind_deuda.take(1)[0] #CONVERTIMOS LA PRIMERA FILA (HEADER) EN VALOR DE 0\n",
    "ind_deuda =  ind_deuda.filter(lambda x: x != header_ind_deuda) #CON LA FUNCIÓN FILTER LE DECIMOS QUE DEL DATASET NOS COJA TODAS LAS FILAS DIFERENTES AL HEADER"
   ]
  },
  {
   "cell_type": "code",
   "execution_count": 12,
   "metadata": {
    "colab": {
     "base_uri": "https://localhost:8080/"
    },
    "id": "oZnMeHCkoGJE",
    "outputId": "989b6d9b-0109-45f6-f2fa-b88254720fcf"
   },
   "outputs": [
    {
     "data": {
      "text/plain": [
       "(['Albania,ALB,2014 [YR2014],1023040800000,73.3202469198429,12.259',\n",
       "  'Albania,ALB,2015 [YR2015],1145500940000,79.8644448747259,12.197',\n",
       "  'Albania,ALB,2016 [YR2016],1188814490000,80.7355748396923,12.08'],\n",
       " ['Afghanistan,AFG,61739336.9,100847181.9,,39107845,100847181.9,,,,,49114729.4,72894453.7,23779724.3,72894453.7,,,,39903620.1,53239440.1,,13335820,53239440.1,,,,',\n",
       "  'Albania,ALB,54250280.6,790248675.2,514185620,182197616.7,236447897.3,0,39445139.5,170018.4,39615157.9,76050616.1,317194512.5,234321242.3,310371858.4,4542664.9,2279989.2,6822654.1,13847333.6,165602386.9,87884000,28101536.1,41948869.7,31030688.2,4618504.3,120324.7,35769517.2',\n",
       "  'Algeria,DZA,95188724.6,171185188.1,75420000,0,95188724.6,,576463.5,0,576463.5,10320772.2,10320772.2,,10320772.2,,,,7680627.6,19031728.7,3220000,8094779,15775406.6,,13192.3,23129.8,36322.1'])"
      ]
     },
     "execution_count": 12,
     "metadata": {
      "tags": []
     },
     "output_type": "execute_result"
    }
   ],
   "source": [
    "ind_desarrollo.take(3), ind_deuda.take(3)"
   ]
  },
  {
   "cell_type": "code",
   "execution_count": 13,
   "metadata": {
    "id": "oKj2X_ZroGPw"
   },
   "outputs": [],
   "source": [
    "#PARSEAMOS LOS DATOS\n",
    "\n",
    "#Desarrollo\n",
    "ind_desarrollo = ind_desarrollo.map(lambda x: x.split(\",\")) \n",
    "\n",
    "#Deuda\n",
    "ind_deuda = ind_deuda.map(lambda x: x.split(\",\")) "
   ]
  },
  {
   "cell_type": "code",
   "execution_count": 14,
   "metadata": {
    "colab": {
     "base_uri": "https://localhost:8080/"
    },
    "id": "7AnvRK1rCR4y",
    "outputId": "a2dde72f-79f0-4b98-ffa9-bd9c0f3f4103"
   },
   "outputs": [
    {
     "data": {
      "text/plain": [
       "[['Albania',\n",
       "  'ALB',\n",
       "  '2014 [YR2014]',\n",
       "  '1023040800000',\n",
       "  '73.3202469198429',\n",
       "  '12.259']]"
      ]
     },
     "execution_count": 14,
     "metadata": {
      "tags": []
     },
     "output_type": "execute_result"
    }
   ],
   "source": [
    "ind_desarrollo.take(1)"
   ]
  },
  {
   "cell_type": "code",
   "execution_count": 15,
   "metadata": {
    "colab": {
     "base_uri": "https://localhost:8080/"
    },
    "id": "5Ptngc4fCX0s",
    "outputId": "d7db1280-edfc-48a7-fd85-f427388aed22"
   },
   "outputs": [
    {
     "data": {
      "text/plain": [
       "[['Afghanistan',\n",
       "  'AFG',\n",
       "  '61739336.9',\n",
       "  '100847181.9',\n",
       "  '',\n",
       "  '39107845',\n",
       "  '100847181.9',\n",
       "  '',\n",
       "  '',\n",
       "  '',\n",
       "  '',\n",
       "  '49114729.4',\n",
       "  '72894453.7',\n",
       "  '23779724.3',\n",
       "  '72894453.7',\n",
       "  '',\n",
       "  '',\n",
       "  '',\n",
       "  '39903620.1',\n",
       "  '53239440.1',\n",
       "  '',\n",
       "  '13335820',\n",
       "  '53239440.1',\n",
       "  '',\n",
       "  '',\n",
       "  '',\n",
       "  '']]"
      ]
     },
     "execution_count": 15,
     "metadata": {
      "tags": []
     },
     "output_type": "execute_result"
    }
   ],
   "source": [
    "ind_deuda.take(1)"
   ]
  },
  {
   "cell_type": "code",
   "execution_count": 16,
   "metadata": {
    "colab": {
     "base_uri": "https://localhost:8080/"
    },
    "id": "VQfsggp4oGU-",
    "outputId": "9eab45e8-33d9-456b-80cc-cae299f2b272"
   },
   "outputs": [
    {
     "data": {
      "text/plain": [
       "51"
      ]
     },
     "execution_count": 16,
     "metadata": {
      "tags": []
     },
     "output_type": "execute_result"
    }
   ],
   "source": [
    "#Elegimos los países distintos de la primera columna\n",
    "paises_ind_desarrollo = ind_desarrollo.map(lambda x: x[0]).distinct()\n",
    "b = paises_ind_desarrollo.count()\n",
    "b"
   ]
  },
  {
   "cell_type": "code",
   "execution_count": 17,
   "metadata": {
    "colab": {
     "base_uri": "https://localhost:8080/"
    },
    "id": "1LV2wd0qoGY3",
    "outputId": "cc531c9a-1cd2-4f0f-ec65-987bdff835cb"
   },
   "outputs": [
    {
     "data": {
      "text/plain": [
       "122"
      ]
     },
     "execution_count": 17,
     "metadata": {
      "tags": []
     },
     "output_type": "execute_result"
    }
   ],
   "source": [
    "#Elegimos los países distintos de la primera columna\n",
    "paises_ind_deuda = ind_deuda.map(lambda x: x[0]).distinct()\n",
    "a = paises_ind_deuda.count()\n",
    "a"
   ]
  },
  {
   "cell_type": "code",
   "execution_count": 18,
   "metadata": {
    "colab": {
     "base_uri": "https://localhost:8080/"
    },
    "id": "GVEeEe5soGdN",
    "outputId": "41f054db-bc86-427a-947e-42d95668265c"
   },
   "outputs": [
    {
     "name": "stdout",
     "output_type": "stream",
     "text": [
      "Los países en ambos archivos no coinciden por 71 países\n"
     ]
    }
   ],
   "source": [
    "#Realizamos la diferencia para saber los países de más que tiene un archivo sobre otro\n",
    "diferencia = a - b\n",
    "print('Los países en ambos archivos no coinciden por', diferencia, 'países')"
   ]
  },
  {
   "cell_type": "markdown",
   "metadata": {
    "id": "82-jUkxTyTrl"
   },
   "source": [
    "##### 3. Total de deuda contraida por cada pais: total amount of debt (in USD) DT.AMT.MLAT.CD\n",
    "\n",
    "\n"
   ]
  },
  {
   "cell_type": "code",
   "execution_count": 22,
   "metadata": {
    "colab": {
     "base_uri": "https://localhost:8080/"
    },
    "id": "drs1amxZoGlo",
    "outputId": "e353bd11-7219-4944-ff25-3c7724e34909"
   },
   "outputs": [
    {
     "data": {
      "text/plain": [
       "[['Afghanistan', '61739336.9'],\n",
       " ['Albania', '54250280.6'],\n",
       " ['Algeria', '95188724.6'],\n",
       " ['Angola', '8473824016.3'],\n",
       " ['Armenia', '68968314.7'],\n",
       " ['Azerbaijan', '106369937'],\n",
       " ['Bangladesh', '386702219.8'],\n",
       " ['Belarus', '1487363278.5'],\n",
       " ['Belize', '23329498.4'],\n",
       " ['Benin', '26014505.8'],\n",
       " ['Bhutan', '189877869.8'],\n",
       " ['Bolivia', '67814879.9'],\n",
       " ['Bosnia and Herzegovina', '108704966.2'],\n",
       " ['Botswana', '7903563.5'],\n",
       " ['Brazil', '2097380010.6'],\n",
       " ['Bulgaria', '35764202.8'],\n",
       " ['Burkina Faso', '27371336'],\n",
       " ['Burundi', '10461498.5'],\n",
       " ['Cabo Verde', '11767654.3'],\n",
       " ['Cambodia', '223300273.6'],\n",
       " ['Cameroon', '9999925153.3'],\n",
       " ['Central African Republic', '8462062.9'],\n",
       " ['Chad', '82357214.9'],\n",
       " ['China', '6532446441.9'],\n",
       " ['Colombia', '447557894.1'],\n",
       " ['Comoros', '2610216'],\n",
       " ['Congo', '116452329.4'],\n",
       " ['Congo', '186071498.1'],\n",
       " ['Costa Rica', '34085176.1'],\n",
       " [\"Cote d'Ivoire\", '478283000.5'],\n",
       " ['Djibouti', '48803279.1'],\n",
       " ['Dominica', '8487067.1'],\n",
       " ['Dominican Republic', '214014574.6'],\n",
       " ['Ecuador', '1177917742.6'],\n",
       " ['Egypt', '6949184320.5'],\n",
       " ['El Salvador', '46180727.2'],\n",
       " ['Eritrea', '15627602.4'],\n",
       " ['Eswatini', '21586421.3'],\n",
       " ['Ethiopia', '510741366.9'],\n",
       " ['Fiji', '37382876.6'],\n",
       " ['Gabon', '114697076'],\n",
       " ['Gambia', '13014909.1'],\n",
       " ['Georgia', '63831412.1'],\n",
       " ['Ghana', '865892038.7'],\n",
       " ['Grenada', '11639110.2'],\n",
       " ['Guatemala', '41738434.7'],\n",
       " ['Guinea', '8832105.1'],\n",
       " ['Guinea-Bissau', '70371.9'],\n",
       " ['Guyana', '21758525.7'],\n",
       " ['Haiti', '51356369.6'],\n",
       " ['Honduras', '35890751.9'],\n",
       " ['IDA only', '6273480947.8'],\n",
       " ['India', '2451995834.5'],\n",
       " ['Indonesia', '3233436193.9'],\n",
       " ['Iran', '18506048'],\n",
       " ['Jamaica', '93733672.1'],\n",
       " ['Jordan', '230204467.2'],\n",
       " ['Kazakhstan', '44784496.7'],\n",
       " ['Kenya', '515101268.1'],\n",
       " ['Kosovo', '5173195.2'],\n",
       " ['Kyrgyz Republic', '62213250.6'],\n",
       " ['Lao PDR', '346861942.2'],\n",
       " ['Lebanon', '137130312.1'],\n",
       " ['Lesotho', '12806231.5'],\n",
       " ['Liberia', '602095.8'],\n",
       " ['Macedonia', '70570550.3'],\n",
       " ['Madagascar', '34102362.9'],\n",
       " ['Malawi', '21762541.7'],\n",
       " ['Maldives', '48054924.5'],\n",
       " ['Mali', '80562273.4'],\n",
       " ['Mauritania', '197041185.1'],\n",
       " ['Mauritius', '113174983.3'],\n",
       " ['Mexico', '382457219.1'],\n",
       " ['Moldova', '52456210.6'],\n",
       " ['Mongolia', '52159543.5'],\n",
       " ['Montenegro', '127450152.9'],\n",
       " ['Morocco', '742287180.6'],\n",
       " ['Mozambique', '307444585.4'],\n",
       " ['Myanmar', '519713545.7'],\n",
       " ['Nepal', '48512381.5'],\n",
       " ['Nicaragua', '33414678.5'],\n",
       " ['Niger', '38815599.9'],\n",
       " ['Nigeria', '86761615.4'],\n",
       " ['Pakistan', '2175483884.5'],\n",
       " ['Papua New Guinea', '30768505.2'],\n",
       " ['Paraguay', '58314162.7'],\n",
       " ['Peru', '114574694.7'],\n",
       " ['Philippines', '670475417.9'],\n",
       " ['Romania', '46961486.3'],\n",
       " ['Russian Federation', '69924222.2'],\n",
       " ['Rwanda', '8604526'],\n",
       " ['Samoa', '11727921.8'],\n",
       " ['Sao Tome and Principe', '522448.7'],\n",
       " ['Senegal', '132241030.2'],\n",
       " ['Serbia', '328727524.6'],\n",
       " ['Sierra Leone', '8755657.7'],\n",
       " ['Solomon Islands', '1207375'],\n",
       " ['Somalia', '8301771.4'],\n",
       " ['South Africa', ''],\n",
       " ['South Asia', '6437804448.1'],\n",
       " ['Sri Lanka', '1075437996.6'],\n",
       " ['St. Lucia', '5113457.5'],\n",
       " ['Vincent and the Grenadines', '3070092.3'],\n",
       " ['Sudan', '262918897.8'],\n",
       " ['Syrian Arab Republic', '159358328.9'],\n",
       " ['Tajikistan', '73281257.2'],\n",
       " ['Tanzania', '194944695.3'],\n",
       " ['Thailand', '277799616.8'],\n",
       " ['Timor-Leste', ''],\n",
       " ['Togo', '25160550.3'],\n",
       " ['Tonga', '7554054'],\n",
       " ['Tunisia', '507052864.2'],\n",
       " ['Turkey', '646463879.8'],\n",
       " ['Turkmenistan', '14046164.6'],\n",
       " ['Uganda', '64110341.2'],\n",
       " ['Ukraine', '95941219.4'],\n",
       " ['Uzbekistan', '273378640'],\n",
       " ['Vanuatu', '10956691'],\n",
       " ['Venezuela', '106054401.7'],\n",
       " ['Vietnam', '1561158600.3'],\n",
       " ['Yemen', '150087048.6'],\n",
       " ['Zambia', '211048374.3'],\n",
       " ['Zimbabwe', '71794214.8']]"
      ]
     },
     "execution_count": 22,
     "metadata": {
      "tags": []
     },
     "output_type": "execute_result"
    }
   ],
   "source": [
    "#Seleccionamos las columnas que se requieren\n",
    "\n",
    "#otra_forma = ind_deuda.map(lambda x : [x[0], x[2]])\n",
    "deuda_total_por_paises = ind_deuda.map(lambda x: [x[i] for i in [0,2]]).collect()\n",
    "deuda_total_por_paises"
   ]
  },
  {
   "cell_type": "markdown",
   "metadata": {
    "id": "RfgZ_Q41JwiX"
   },
   "source": [
    "##### 4. Media de los indicadores de deuda (tabla uno): DT.AMT.BLAT.CD, DT.DIS.BLAT.CD, DT.INT.BLAT.CD"
   ]
  },
  {
   "cell_type": "code",
   "execution_count": 20,
   "metadata": {
    "id": "fOKJ2b3lwDDX"
   },
   "outputs": [],
   "source": [
    "#Librería para poder utilizar la media\n",
    "import statistics as stats "
   ]
  },
  {
   "cell_type": "code",
   "execution_count": 21,
   "metadata": {
    "colab": {
     "base_uri": "https://localhost:8080/"
    },
    "id": "2fsWx4p5oGp6",
    "outputId": "3a8f5c8a-3844-433b-869f-c919fc355e4c"
   },
   "outputs": [
    {
     "data": {
      "text/plain": [
       "[['Afghanistan', '61739336.9', '49114729.4', '39903620.1'],\n",
       " ['Albania', '54250280.6', '76050616.1', '13847333.6'],\n",
       " ['Algeria', '95188724.6', '10320772.2', '7680627.6'],\n",
       " ['Angola', '8473824016.3', '8838256901.1', '1005053965.1'],\n",
       " ['Armenia', '68968314.7', '174269846.7', '24094832'],\n",
       " ['Azerbaijan', '106369937', '84748079.6', '10085950'],\n",
       " ['Bangladesh', '386702219.8', '6141785637.5', '309079773.4'],\n",
       " ['Belarus', '1487363278.5', '2265336386.7', '630234914.9'],\n",
       " ['Belize', '23329498.4', '3581448.7', '3455608.4'],\n",
       " ['Benin', '26014505.8', '334698287.3', '13208408.6'],\n",
       " ['Bhutan', '189877869.8', '95819437.4', '184064524.8'],\n",
       " ['Bolivia', '67814879.9', '554128686.3', '32609012.4'],\n",
       " ['Bosnia and Herzegovina', '108704966.2', '114375048.3', '12605397.7'],\n",
       " ['Botswana', '7903563.5', '1316332.2', '884447.5'],\n",
       " ['Brazil', '2097380010.6', '1179125278.8', '333237826.9'],\n",
       " ['Bulgaria', '35764202.8', '', '6012379.2'],\n",
       " ['Burkina Faso', '27371336', '90915960.2', '7382485.5'],\n",
       " ['Burundi', '10461498.5', '42339024.4', '520425.7'],\n",
       " ['Cabo Verde', '11767654.3', '37178444.8', '4216236.3'],\n",
       " ['Cambodia', '223300273.6', '476683829.4', '63836683.2'],\n",
       " ['Cameroon', '9999925153.3', '17090544247.5', '120877158.5'],\n",
       " ['Central African Republic', '8462062.9', '19477551.6', '860961'],\n",
       " ['Chad', '82357214.9', '27987660.9', '11882770.9'],\n",
       " ['China', '6532446441.9', '', '514898407.1'],\n",
       " ['Colombia', '447557894.1', '110671664.3', '122715407.2'],\n",
       " ['Comoros', '2610216', '8492726.4', '782831.5'],\n",
       " ['Congo', '116452329.4', '103263632', '62260653.1'],\n",
       " ['Congo', '186071498.1', '150347308.2', '19522109.8'],\n",
       " ['Costa Rica', '34085176.1', '105969275.9', '10709783.4'],\n",
       " [\"Cote d'Ivoire\", '478283000.5', '526901028', '73124399.9'],\n",
       " ['Djibouti', '48803279.1', '85687012.1', '44878881.9'],\n",
       " ['Dominica', '8487067.1', '1092575', '1693891.5'],\n",
       " ['Dominican Republic', '214014574.6', '311336450.8', '43812226.9'],\n",
       " ['Ecuador', '1177917742.6', '415778474.8', '424453624.8'],\n",
       " ['Egypt', '6949184320.5', '7275502144.4', '462561367'],\n",
       " ['El Salvador', '46180727.2', '16377537.9', '10447436.1'],\n",
       " ['Eritrea', '15627602.4', '2678802.6', '1556112.1'],\n",
       " ['Eswatini', '21586421.3', '54462529.7', '5511319'],\n",
       " ['Ethiopia', '510741366.9', '1142444763.3', '331367061.4'],\n",
       " ['Fiji', '37382876.6', '3902886.7', '6175526.5'],\n",
       " ['Gabon', '114697076', '354919707', '33263802.5'],\n",
       " ['Gambia', '13014909.1', '21371548.3', '2686367'],\n",
       " ['Georgia', '63831412.1', '110677830.3', '2435342284.4'],\n",
       " ['Ghana', '865892038.7', '1163413713.8', '105007672'],\n",
       " ['Grenada', '11639110.2', '23225424.8', '3290655.4'],\n",
       " ['Guatemala', '41738434.7', '56408511.8', '8721281.3'],\n",
       " ['Guinea', '8832105.1', '61782399.4', '3723822.7'],\n",
       " ['Guinea-Bissau', '70371.9', '', '24800'],\n",
       " ['Guyana', '21758525.7', '35584684.1', '4885618.3'],\n",
       " ['Haiti', '51356369.6', '1597000', '10474000'],\n",
       " ['Honduras', '35890751.9', '91251459.7', '31044538.5'],\n",
       " ['IDA only', '6273480947.8', '16882903064.4', '2351375435.8'],\n",
       " ['India', '2451995834.5', '5588550763.4', '455965157.6'],\n",
       " ['Indonesia', '3233436193.9', '2289402723.3', '476814537.9'],\n",
       " ['Iran', '18506048', '', '11333050.3'],\n",
       " ['Jamaica', '93733672.1', '112848973.6', '19718160.9'],\n",
       " ['Jordan', '230204467.2', '175484307.3', '62136103.7'],\n",
       " ['Kazakhstan', '44784496.7', '254112169.3', '49233512.4'],\n",
       " ['Kenya', '515101268.1', '1582905042', '342056817'],\n",
       " ['Kosovo', '5173195.2', '29959141.9', '1704127.3'],\n",
       " ['Kyrgyz Republic', '62213250.6', '153027414.4', '43802082.9'],\n",
       " ['Lao PDR', '346861942.2', '966004791.1', '134508386.6'],\n",
       " ['Lebanon', '137130312.1', '129913451.7', '16970779.5'],\n",
       " ['Lesotho', '12806231.5', '13239867.2', '2704841.4'],\n",
       " ['Liberia', '602095.8', '33122214.9', '2971664.1'],\n",
       " ['Macedonia', '70570550.3', '101396578.4', '14127618.6'],\n",
       " ['Madagascar', '34102362.9', '201529156.1', '3611119.1'],\n",
       " ['Malawi', '21762541.7', '26559943.3', '7850229.4'],\n",
       " ['Maldives', '48054924.5', '171056385.2', '17789090.5'],\n",
       " ['Mali', '80562273.4', '174563540.6', '14961901.1'],\n",
       " ['Mauritania', '197041185.1', '262893890.2', '39896318.9'],\n",
       " ['Mauritius', '113174983.3', '43276477.1', '13702507.5'],\n",
       " ['Mexico', '382457219.1', '10959800', '59839853.4'],\n",
       " ['Moldova', '52456210.6', '31959827.1', '3292727.3'],\n",
       " ['Mongolia', '52159543.5', '122040716.9', '23580386.5'],\n",
       " ['Montenegro', '127450152.9', '159653202.4', '20505157.3'],\n",
       " ['Morocco', '742287180.6', '381225311.4', '147741097.6'],\n",
       " ['Mozambique', '307444585.4', '428319700.7', '89226721.5'],\n",
       " ['Myanmar', '519713545.7', '704626596.3', '217742156'],\n",
       " ['Nepal', '48512381.5', '211256468.1', '8120651.8'],\n",
       " ['Nicaragua', '33414678.5', '91410630.2', '9117269.5'],\n",
       " ['Niger', '38815599.9', '150675402.1', '20553332.6'],\n",
       " ['Nigeria', '86761615.4', '197807330.6', '69169718.3'],\n",
       " ['Pakistan', '2175483884.5', '3281555124', '719897921.2'],\n",
       " ['Papua New Guinea', '30768505.2', '272745704.4', '17727088.6'],\n",
       " ['Paraguay', '58314162.7', '132431540.4', '5158922.3'],\n",
       " ['Peru', '114574694.7', '123873090.2', '20175359.1'],\n",
       " ['Philippines', '670475417.9', '544148527.8', '104237992.9'],\n",
       " ['Romania', '46961486.3', '115066917.8', '8014478.4'],\n",
       " ['Russian Federation', '69924222.2', '', '11030000'],\n",
       " ['Rwanda', '8604526', '69086251.9', '7310975.7'],\n",
       " ['Samoa', '11727921.8', '3362614.4', '2965245'],\n",
       " ['Sao Tome and Principe', '522448.7', '1918.9', '802594.2'],\n",
       " ['Senegal', '132241030.2', '548648509.1', '62856549.3'],\n",
       " ['Serbia', '328727524.6', '703434606.4', '156469393.1'],\n",
       " ['Sierra Leone', '8755657.7', '32566565', '2736397.7'],\n",
       " ['Solomon Islands', '1207375', '', '284000'],\n",
       " ['Somalia', '8301771.4', '', '925000'],\n",
       " ['South Africa', '', '', ''],\n",
       " ['South Asia', '6437804448.1', '17269114040.9', '2004917449.3'],\n",
       " ['Sri Lanka', '1075437996.6', '1729975495.9', '270096709.9'],\n",
       " ['St. Lucia', '5113457.5', '5713700.5', '1375737.7'],\n",
       " ['Vincent and the Grenadines', '3070092.3', '8155461.4', '1181883.8'],\n",
       " ['Sudan', '262918897.8', '376666146.5', '40572544.5'],\n",
       " ['Syrian Arab Republic', '159358328.9', '126505578', '9269996.5'],\n",
       " ['Tajikistan', '73281257.2', '4600834.4', '26333637.2'],\n",
       " ['Tanzania', '194944695.3', '150348676', '40941173.9'],\n",
       " ['Thailand', '277799616.8', '301616651.9', '59731471.1'],\n",
       " ['Timor-Leste', '', '9869907', ''],\n",
       " ['Togo', '25160550.3', '79978552.9', '12931550.3'],\n",
       " ['Tonga', '7554054', '', '1559371'],\n",
       " ['Tunisia', '507052864.2', '855186119.9', '87248174.8'],\n",
       " ['Turkey', '646463879.8', '415269075.4', '110410777.7'],\n",
       " ['Turkmenistan', '14046164.6', '', '2505907.3'],\n",
       " ['Uganda', '64110341.2', '538450864.4', '73813147'],\n",
       " ['Ukraine', '95941219.4', '', '19809816.8'],\n",
       " ['Uzbekistan', '273378640', '503520641.3', '64937572.1'],\n",
       " ['Vanuatu', '10956691', '9007166.6', '3160158.4'],\n",
       " ['Venezuela', '106054401.7', '65088096', '13163216.3'],\n",
       " ['Vietnam', '1561158600.3', '4134438674.8', '502741840.9'],\n",
       " ['Yemen', '150087048.6', '91012892.5', '25996299.6'],\n",
       " ['Zambia', '211048374.3', '711130463.7', '121800491.2'],\n",
       " ['Zimbabwe', '71794214.8', '42332836.7', '11769908.3']]"
      ]
     },
     "execution_count": 21,
     "metadata": {
      "tags": []
     },
     "output_type": "execute_result"
    }
   ],
   "source": [
    "indicadores_deuda = ind_deuda.map(lambda x : [x[i] for i in [0,2,11,18]])\n",
    "indicadores_deuda.collect()"
   ]
  },
  {
   "cell_type": "code",
   "execution_count": 23,
   "metadata": {
    "id": "HngryfkVEiQu"
   },
   "outputs": [],
   "source": [
    "#Filtramos todos los valores donde haya algún país que tenga algún valor missing\n",
    "tabla = indicadores_deuda.filter(lambda x: not 'Bulgaria'  in x[0])\\\n",
    "                              .filter(lambda x: not 'China'  in x[0])\\\n",
    "                              .filter(lambda x: not 'Guinea-Bissau'  in x[0])\\\n",
    "                              .filter(lambda x: not 'Iran'  in x[0])\\\n",
    "                              .filter(lambda x: not 'Russian Federation'  in x[0])\\\n",
    "                              .filter(lambda x: not 'Solomon Islands'  in x[0])\\\n",
    "                              .filter(lambda x: not 'Somalia'  in x[0])\\\n",
    "                              .filter(lambda x: not 'South Africa'  in x[0])\\\n",
    "                              .filter(lambda x: not 'Timor-Leste'  in x[0])\\\n",
    "                              .filter(lambda x: not 'Tonga'  in x[0])\\\n",
    "                              .filter(lambda x: not 'Turkmenistan'  in x[0])\\\n",
    "                              .filter(lambda x: not 'Ukraine'  in x[0])"
   ]
  },
  {
   "cell_type": "code",
   "execution_count": 24,
   "metadata": {
    "colab": {
     "base_uri": "https://localhost:8080/"
    },
    "id": "BbNyZkrNEiJo",
    "outputId": "4621ea85-784b-4f88-9449-42d1115430f0"
   },
   "outputs": [
    {
     "name": "stdout",
     "output_type": "stream",
     "text": [
      "The mean of column DT.AMT.BLAT.CD is 605505680.37\n",
      "The mean of column DT.DIS.BLAT.CD is 1034873094.77\n",
      "The mean of column DT.INT.BLAT.CD is 147938484.33\n"
     ]
    }
   ],
   "source": [
    "#Hacemos la media por columnas\n",
    "media_2 = tabla.map(lambda x: (float(x[1]))).mean()\n",
    "media_11 = tabla.map(lambda x: (float(x[2]))).mean()\n",
    "media_18 = tabla.map(lambda x: (float(x[3]))).mean()\n",
    "\n",
    "#Mostramos el resultado\n",
    "print(\"The mean of column DT.AMT.BLAT.CD is\" ,format(round(media_2,2)))\n",
    "print(\"The mean of column DT.DIS.BLAT.CD is\" ,format(round(media_11,2)))\n",
    "print(\"The mean of column DT.INT.BLAT.CD is\" ,format(round(media_18,2)))"
   ]
  },
  {
   "cell_type": "markdown",
   "metadata": {
    "id": "mqCX_cIwwtTW"
   },
   "source": [
    "##### 5. Los 20 paises con DT.AMT.DLXF.CD más alto"
   ]
  },
  {
   "cell_type": "code",
   "execution_count": 25,
   "metadata": {
    "colab": {
     "base_uri": "https://localhost:8080/"
    },
    "id": "K2mQ9DGRoGtw",
    "outputId": "2ef43c0b-842e-41fb-9603-e87175dd3a6a"
   },
   "outputs": [
    {
     "data": {
      "text/plain": [
       "[['Venezuela', '9878659207.2'],\n",
       " [\"Cote d'Ivoire\", '979241934.4'],\n",
       " ['Egypt', '9692114176.9'],\n",
       " ['China', '96218620835.7'],\n",
       " ['Lebanon', '9506919669.6'],\n",
       " ['South Africa', '9474257551.9'],\n",
       " ['Brazil', '90041840304.1'],\n",
       " ['Vietnam', '8873505909.2'],\n",
       " ['Macedonia', '875846538.5'],\n",
       " ['Armenia', '845630723.8'],\n",
       " ['Pakistan', '8336013891.3'],\n",
       " ['Djibouti', '83185188.3'],\n",
       " ['Timor-Leste', '825000'],\n",
       " ['Kyrgyz Republic', '816419045.1'],\n",
       " ['Ukraine', '8148995625.6'],\n",
       " ['Albania', '790248675.2'],\n",
       " ['Cambodia', '775955981.3'],\n",
       " ['Moldova', '769232867'],\n",
       " ['Togo', '73812591.8'],\n",
       " ['Guinea-Bissau', '6783629.1']]"
      ]
     },
     "execution_count": 25,
     "metadata": {
      "tags": []
     },
     "output_type": "execute_result"
    }
   ],
   "source": [
    "#Seleccionamos la primera y la cuarta columna y los ordenamos de manera descendente y hacemos un take de los 20 primeros\n",
    "\n",
    "paises_DLXF_CD = ind_deuda.map(lambda x: [x[i] for i in [0,3]]).sortBy(lambda x : x[-1], ascending = False)\n",
    "paises_DLXF_CD.take(20)"
   ]
  },
  {
   "cell_type": "markdown",
   "metadata": {
    "id": "pUNNt0Jf8Ecv"
   },
   "source": [
    "##### 6. Pais con los datos informados todos los años."
   ]
  },
  {
   "cell_type": "code",
   "execution_count": 26,
   "metadata": {
    "colab": {
     "base_uri": "https://localhost:8080/"
    },
    "id": "l37e4pu_Gf4d",
    "outputId": "a4701fbb-ba8c-4ee1-a0f0-f711ac02d1b9"
   },
   "outputs": [
    {
     "data": {
      "text/plain": [
       "[['Malawi',\n",
       "  'MWI',\n",
       "  '2017 [YR2017]',\n",
       "  '2239858619962.69',\n",
       "  '48.659564238322',\n",
       "  '34.593']]"
      ]
     },
     "execution_count": 26,
     "metadata": {
      "tags": []
     },
     "output_type": "execute_result"
    }
   ],
   "source": [
    "#En el ejercicio 8 se puede observar que solo hay un país que cuenta con los datos del 2017, por lo que hacemos un filter\n",
    "\n",
    "ind_desarrollo.filter(lambda x: \"2017\" in x[2]).collect()"
   ]
  },
  {
   "cell_type": "code",
   "execution_count": 29,
   "metadata": {
    "colab": {
     "base_uri": "https://localhost:8080/"
    },
    "id": "unJubY7rGfuc",
    "outputId": "2447dee7-f272-46e6-ec9b-7548c850b2ce"
   },
   "outputs": [
    {
     "name": "stdout",
     "output_type": "stream",
     "text": [
      "El país que cuenta con datos todos los años es ['Malawi']\n"
     ]
    }
   ],
   "source": [
    "país = ind_desarrollo.filter(lambda x: \"2017\" in x[2]).map(lambda x: (x[0])).collect()\n",
    "print(\"El país que cuenta con datos todos los años es\" , format(país))"
   ]
  },
  {
   "cell_type": "markdown",
   "metadata": {
    "id": "JJHlR_vU8KCx"
   },
   "source": [
    "##### 7. Media anual de los distintos indicadores de desarrollo"
   ]
  },
  {
   "cell_type": "code",
   "execution_count": 30,
   "metadata": {
    "colab": {
     "base_uri": "https://localhost:8080/"
    },
    "id": "U8oKZiHiGizj",
    "outputId": "e73987cc-20f8-4e6e-88bd-d89d2d8e2666"
   },
   "outputs": [
    {
     "data": {
      "text/plain": [
       "[('2014 [YR2014]', 1023040800000.0, 73.3202469198429, 12.259),\n",
       " ('2015 [YR2015]', 1145500940000.0, 79.8644448747259, 12.197),\n",
       " ('2016 [YR2016]', 1188814490000.0, 80.7355748396923, 12.08),\n",
       " ('2014 [YR2014]', 674700000.0, 0.042207528166503, 13.2),\n",
       " ('2015 [YR2015]', 762718000.0, 0.0469480198522591, 12.9),\n",
       " ('2016 [YR2016]', 907555000.0, 0.054648482520169, 12.9),\n",
       " ('2014 [YR2014]', 5158420000.0, 47.2672793747079, 14.34),\n",
       " ('2015 [YR2015]', 5655150000.0, 48.1195170307089, 14.224),\n",
       " ('2016 [YR2016]', 6138814000.0, 51.4207431481606, 14.131),\n",
       " ('2014 [YR2014]', 12175704025.0, 129.629591844133, 10.916),\n",
       " ('2015 [YR2015]', 13365027241.0, 141.413895259761, 10.806),\n",
       " ('2014 [YR2014]', 19781184418.0, 24.5487262642116, 12.5),\n",
       " ('2015 [YR2015]', 33804450453.3197, 37.5981780556757, 12.5),\n",
       " ('2016 [YR2016]', 37941765765.7758, 39.960153098796, 12.4),\n",
       " ('2014 [YR2014]', 2609974000.0, 78.4811739351877, 22.067),\n",
       " ('2014 [YR2014]', 108370000000.0, 89.8206297688459, 17.965),\n",
       " ('2015 [YR2015]', 120783002000.0, 91.4048311527287, 17.783),\n",
       " ('2016 [YR2016]', 160562057000.0, 107.650111182046, 17.625),\n",
       " ('2014 [YR2014]', 25447260000.0, 17.4453597097219, 26.87),\n",
       " ('2015 [YR2015]', 26159246269.7519, 17.9091592446388, 26.44),\n",
       " ('2016 [YR2016]', 25986219844.0603, 15.235498922983, 25.943),\n",
       " ('2014 [YR2014]', 3378218222290.28, 58.4572609903155, 14.624),\n",
       " ('2015 [YR2015]', 4049407884511.51, 67.5375540277116, 14.472),\n",
       " ('2016 [YR2016]', 4602865624505.08, 73.4436742456179, 14.307),\n",
       " ('2014 [YR2014]', 607904432000000.0, 79.683056954816, 15.725),\n",
       " ('2015 [YR2015]', 536470607000000.0, 66.6678191158853, 15.515),\n",
       " ('2016 [YR2016]', 495859665995031.0, 57.4056493415041, 15.308),\n",
       " ('2014 [YR2014]', 11486057983.75, 50.8390120114637, 18.881),\n",
       " ('2015 [YR2015]', 12018755226.09, 51.2789283475126, 18.734),\n",
       " ('2016 [YR2016]', 12595426766.26, 52.1463391829925, 18.587),\n",
       " ('2014 [YR2014]', 10313000000.0, 33.1350946694041, 14.165),\n",
       " ('2015 [YR2015]', 13109400000.0, 38.6309120377192, 14.078),\n",
       " ('2016 [YR2016]', 15102700000.0, 42.1439334747182, 13.925),\n",
       " ('2014 [YR2014]', 105781000000.0, 23.2970727082014, 25.992),\n",
       " ('2015 [YR2015]', 112211600000.0, 22.9881410888278, 25.627),\n",
       " ('2016 [YR2016]', 115404600000.0, 22.115072091399, 25.267),\n",
       " ('2014 [YR2014]', 31995288000000.0, 97.8622513198668, 9.5),\n",
       " ('2015 [YR2015]', 33299616000000.0, 95.7292531617753, 9.4),\n",
       " ('2016 [YR2016]', 34527404000000.0, 96.1864484805675, 9.7),\n",
       " ('2014 [YR2014]', 2898383597986100.0, 27.4216121994064, 19.537),\n",
       " ('2015 [YR2015]', 3493530747415080.0, 30.309126137804, 19.165),\n",
       " ('2016 [YR2016]', 3889949813238980.0, 31.366190714778, 18.79),\n",
       " ('2014 [YR2014]', 236301000000.0, 121.293079734391, 14.4),\n",
       " ('2015 [YR2015]', 232665000000.0, 88.5218484996919, 13.9),\n",
       " ('2016 [YR2016]', 230468000000.0, 84.8295535010247, 13.4),\n",
       " ('2014 [YR2014]', 2041693750000.0, 132.427374548077, 16.814),\n",
       " ('2015 [YR2015]', 2068759180000.0, 124.659191868551, 16.633),\n",
       " ('2016 [YR2016]', 2159937054848.86, 122.6662661827, 16.46),\n",
       " ('2014 [YR2014]', 999119100000000.0, 194.42805268197, 8.0),\n",
       " ('2015 [YR2015]', 1048211200000000.0, 197.284422677265, 8.0),\n",
       " ('2016 [YR2016]', 1052768100000000.0, 196.416942668695, 7.8),\n",
       " ('2014 [YR2014]', 20331400000.0, 78.822879004163, 25.214),\n",
       " ('2016 [YR2016]', 20979900000.0, 75.3868896615264, 23.396),\n",
       " ('2014 [YR2014]', 5017790536000.0, 12.6469696266918, 23.1),\n",
       " ('2015 [YR2015]', 7893874198000.0, 19.307916061599, 22.71),\n",
       " ('2016 [YR2016]', 7876721720000.0, 16.7692758640144, 22.52),\n",
       " ('2014 [YR2014]', 570473174969116.0, 38.3878017121372, 8.6),\n",
       " ('2015 [YR2015]', 621640877442310.0, 39.7437106767763, 8.6),\n",
       " ('2016 [YR2016]', 662636705078292.0, 40.3607233268095, 7.9),\n",
       " ('2014 [YR2014]', 215931300000.0, 53.8893270176244, 27.7),\n",
       " ('2015 [YR2015]', 311917800000.0, 72.4565575830671, 27.4),\n",
       " ('2016 [YR2016]', 288054200000.0, 60.4735108680683, 26.0),\n",
       " ('2014 [YR2014]', 1044137600000.0, 40.6328150545127, 36.629),\n",
       " ('2015 [YR2015]', 1259062000000.0, 39.5422371324465, 35.839),\n",
       " ('2016 [YR2016]', 2151680949747.66, 55.1578705122511, 35.163),\n",
       " ('2017 [YR2017]', 2239858619962.69, 48.659564238322, 34.593),\n",
       " ('2014 [YR2014]', 582828241000.0, 52.6758487332831, 17.071),\n",
       " ('2015 [YR2015]', 630540000000.0, 53.5744782448738, 17.024),\n",
       " ('2016 [YR2016]', 648474726000.0, 51.8905148283825, 16.957),\n",
       " ('2014 [YR2014]', 74676687.0, 23.3897380060743, 23.365),\n",
       " ('2015 [YR2015]', 94767029.0, 29.9431402956919, 23.213),\n",
       " ('2016 [YR2016]', 84368040.0, 25.3917802774832, 23.069),\n",
       " ('2014 [YR2014]', 27799600000.0, 20.8265355816666, 10.759),\n",
       " ('2015 [YR2015]', 31001100000.0, 21.2695199753568, 10.609),\n",
       " ('2016 [YR2016]', 51276800000.0, 31.8856692606523, 10.445),\n",
       " ('2014 [YR2014]', 32020735194.5286, 23.0757673265434, 30.192),\n",
       " ('2014 [YR2014]', 107122329000.0, 44.2486034234919, 12.68),\n",
       " ('2015 [YR2015]', 110530258000.0, 43.4966699722957, 13.27),\n",
       " ('2016 [YR2016]', 114479465000.0, 42.4222699429698, 12.65),\n",
       " ('2014 [YR2014]', 52870917.0, 21.7444249774828, 13.7),\n",
       " ('2015 [YR2015]', 177991821.0, 63.4832359106215, 13.7),\n",
       " ('2016 [YR2016]', 202718309.0, 67.5444910397514, 12.0),\n",
       " ('2014 [YR2014]', 15365100000.0, 26.8946120019845, 28.344),\n",
       " ('2015 [YR2015]', 17966880000.0, 29.8753777260463, 27.993),\n",
       " ('2014 [YR2014]', 110266771987.379, 19.3436563312777, 18.827),\n",
       " ('2015 [YR2015]', 136468511203.603, 22.5785735658227, 18.544),\n",
       " ('2016 [YR2016]', 150150489072.363, 23.1832496081886, 18.323),\n",
       " ('2014 [YR2014]', 5735242000000.0, 45.3946271793812, 22.935),\n",
       " ('2014 [YR2014]', 8851724551740.4, 11.1964258617083, 13.3),\n",
       " ('2015 [YR2015]', 11250670224079.3, 13.5396406242327, 13.3),\n",
       " ('2016 [YR2016]', 12193222000000.0, 14.1758237480639, 12.9),\n",
       " ('2015 [YR2015]', 728308709.33, 53.0334747928348, 8.2),\n",
       " ('2016 [YR2016]', 760475441.97, 53.7742498918116, 7.9),\n",
       " ('2014 [YR2014]', 11784224932.45, 68.83635968787, 17.0),\n",
       " ('2015 [YR2015]', 11616521354.0, 63.3403933800613, 17.0),\n",
       " ('2014 [YR2014]', 397391200000.0, 99.6097986729595, 9.8),\n",
       " ('2015 [YR2015]', 437506000000.0, 103.32083975193, 9.7),\n",
       " ('2016 [YR2016]', 480707296111.6, 109.39795310629, 9.4),\n",
       " ('2014 [YR2014]', 858979631.76183, 9.93518947308786, 33.766),\n",
       " ('2015 [YR2015]', 697458792.772927, 7.63191825458985, 33.556),\n",
       " ('2016 [YR2016]', 686326347.948075, 7.01769496957772, 33.255),\n",
       " ('2014 [YR2014]', 1158183701791.16, 112.209923460474, 9.2),\n",
       " ('2015 [YR2015]', 1128716991847.77, 104.744568142593, 9.0),\n",
       " ('2016 [YR2016]', 1164774959488.17, 104.572915274022, 8.8),\n",
       " ('2014 [YR2014]', 7390899000000.0, 71.332798378903, 16.849),\n",
       " ('2015 [YR2015]', 8503200000000.0, 77.6503941209344, 16.609),\n",
       " ('2014 [YR2014]', 1482430000.0, 59.902696455775, 12.6),\n",
       " ('2014 [YR2014]', 2728520000.0, 64.8182294939526, 12.502),\n",
       " ('2014 [YR2014]', 1350810000.0, 68.7494592407486, 15.011),\n",
       " ('2014 [YR2014]', 136764130115.49, 21.0497677631665, 10.4),\n",
       " ('2015 [YR2015]', 136659738536.39, 20.8877443663494, 10.5),\n",
       " ('2016 [YR2016]', 130547305679.14, 19.734923096329, 10.5),\n",
       " ('2014 [YR2014]', 5235051790000.0, 39.5686522173607, 10.999),\n",
       " ('2015 [YR2015]', 4847864050000.0, 35.2739604076527, 10.836),\n",
       " ('2014 [YR2014]', 378478931.0, 47.04523691734, 25.756),\n",
       " ('2015 [YR2015]', 434560045.0, 51.3603646141118, 25.354),\n",
       " ('2016 [YR2016]', 460835620.0, 51.8083889825745, 24.977),\n",
       " ('2014 [YR2014]', 645312129880.536, 31.5638493902928, 16.94),\n",
       " ('2015 [YR2015]', 683048720324.166, 29.2069977270683, 16.718),\n",
       " ('2016 [YR2016]', 831394045789.176, 31.8721809053214, 16.494),\n",
       " ('2014 [YR2014]', 1010314500000.0, 63.6653191884884, 10.8),\n",
       " ('2015 [YR2015]', 1397127900000.0, 70.2588376218982, 10.7),\n",
       " ('2016 [YR2016]', 1712921200000.0, 71.8095454494004, 10.3),\n",
       " ('2014 [YR2014]', 1977649000000.0, 106.213063195636, 12.0),\n",
       " ('2015 [YR2015]', 2015806000000.0, 105.159904345358, 11.9),\n",
       " ('2016 [YR2016]', 2294247000000.0, 114.972244759278, 11.8),\n",
       " ('2014 [YR2014]', 16886105000000.0, 96.3722706936402, 12.5),\n",
       " ('2015 [YR2015]', 17645011000000.0, 96.8479213792285, 12.4),\n",
       " ('2016 [YR2016]', 18523318000000.0, 99.0171145300394, 12.2),\n",
       " ('2014 [YR2014]', 590186383919.879, 44.357961352818, 14.192),\n",
       " ('2015 [YR2015]', 745197458875.336, 51.1864800205919, 14.134),\n",
       " ('2016 [YR2016]', 805482973891.575, 50.6849558753255, 14.057),\n",
       " ('2014 [YR2014]', 74164628000.0, 44.3960266359538, 38.645),\n",
       " ('2015 [YR2015]', 90603650000.0, 49.4072998798677, 37.95)]"
      ]
     },
     "execution_count": 30,
     "metadata": {
      "tags": []
     },
     "output_type": "execute_result"
    }
   ],
   "source": [
    "#Hacemos una selección de las columans que necesitamos\n",
    "\n",
    "indicadores_desarrollo = ind_desarrollo.map(lambda x : (x[2], (float(x[3])), (float(x[4])), (float(x[5]))))\n",
    "indicadores_desarrollo.collect()"
   ]
  },
  {
   "cell_type": "code",
   "execution_count": 31,
   "metadata": {
    "id": "3i2wZ9e5glEf"
   },
   "outputs": [],
   "source": [
    "#Separamos los años por cada columna\n",
    "valores_col_3 = indicadores_desarrollo.map(lambda x: (x[0], x[1]))\n",
    "valores_col_4 = indicadores_desarrollo.map(lambda x: (x[0], x[2]))\n",
    "valores_col_5 = indicadores_desarrollo.map(lambda x: (x[0], x[3]))"
   ]
  },
  {
   "cell_type": "code",
   "execution_count": 32,
   "metadata": {
    "id": "__R-UiYIIkea"
   },
   "outputs": [],
   "source": [
    "#Sumamos los valores por año de cada columna\n",
    "suma_anual_col_3 = valores_col_3.reduceByKey(lambda a,b: a + b)\n",
    "suma_anual_col_4 = valores_col_4.reduceByKey(lambda a,b: a + b)\n",
    "suma_anual_col_5 = valores_col_5.reduceByKey(lambda a,b: a + b)"
   ]
  },
  {
   "cell_type": "code",
   "execution_count": 33,
   "metadata": {
    "colab": {
     "base_uri": "https://localhost:8080/"
    },
    "id": "R0HZUEdaIkPX",
    "outputId": "8c29de7b-04f0-4509-d273-8b230de7fa74"
   },
   "outputs": [
    {
     "data": {
      "text/plain": [
       "[('2014 [YR2014]', 50),\n",
       " ('2015 [YR2015]', 44),\n",
       " ('2016 [YR2016]', 39),\n",
       " ('2017 [YR2017]', 1)]"
      ]
     },
     "execution_count": 33,
     "metadata": {
      "tags": []
     },
     "output_type": "execute_result"
    }
   ],
   "source": [
    "#Sumamos el número de registros(países) por año\n",
    "suma_países_año = indicadores_desarrollo.map(lambda x: (x[0],1)).reduceByKey(lambda a,b: a + b)\n",
    "suma_países_año.collect()"
   ]
  },
  {
   "cell_type": "code",
   "execution_count": 34,
   "metadata": {
    "colab": {
     "base_uri": "https://localhost:8080/"
    },
    "id": "QtPDpZK9I_T7",
    "outputId": "e65a3a76-5a67-40e8-b92d-0fea98c10715"
   },
   "outputs": [
    {
     "name": "stdout",
     "output_type": "stream",
     "text": [
      "La media por año de la variable GC.DOD.TOTL.CN es:\n"
     ]
    },
    {
     "data": {
      "text/plain": [
       "[('2014 [YR2014]', 103442758732953.23),\n",
       " ('2015 [YR2015]', 131824403915902.5),\n",
       " ('2016 [YR2016]', 158813821548065.94),\n",
       " ('2017 [YR2017]', 2239858619962.69)]"
      ]
     },
     "execution_count": 34,
     "metadata": {
      "tags": []
     },
     "output_type": "execute_result"
    }
   ],
   "source": [
    "#Hallamos la media por variable (suma total entre número total de países)\n",
    "\n",
    "#GC.DOD.TOTL.CN\n",
    "media_3 = suma_anual_col_3.join(suma_países_año).map(lambda x:(x[0],(x[1][0]/x[1][1])))\n",
    "print('La media por año de la variable GC.DOD.TOTL.CN es:')\n",
    "media_3.take(4)"
   ]
  },
  {
   "cell_type": "code",
   "execution_count": 35,
   "metadata": {
    "colab": {
     "base_uri": "https://localhost:8080/"
    },
    "id": "Hp4p4-CiI_PH",
    "outputId": "09f1c98d-ddfd-465a-b8e6-dd50cc8ee485"
   },
   "outputs": [
    {
     "name": "stdout",
     "output_type": "stream",
     "text": [
      "La media por año de la variable GC.DOD.TOTL.GD.ZS es:\n"
     ]
    },
    {
     "data": {
      "text/plain": [
       "[('2014 [YR2014]', 56.843914344384395),\n",
       " ('2015 [YR2015]', 58.36559834488034),\n",
       " ('2016 [YR2016]', 58.796949624008356),\n",
       " ('2017 [YR2017]', 48.659564238322)]"
      ]
     },
     "execution_count": 35,
     "metadata": {
      "tags": []
     },
     "output_type": "execute_result"
    }
   ],
   "source": [
    "#GC.DOD.TOTL.GD.ZS,\n",
    "media_4 = suma_anual_col_4.join(suma_países_año).map(lambda x:(x[0],(x[1][0]/x[1][1])))\n",
    "print('La media por año de la variable GC.DOD.TOTL.GD.ZS es:')\n",
    "media_4.take(4)"
   ]
  },
  {
   "cell_type": "code",
   "execution_count": 36,
   "metadata": {
    "colab": {
     "base_uri": "https://localhost:8080/"
    },
    "id": "VGauj1-hI_Fx",
    "outputId": "8d8972a2-ce69-4a2a-f25d-d76a8629fe24"
   },
   "outputs": [
    {
     "name": "stdout",
     "output_type": "stream",
     "text": [
      "La media por año de la variable SP.DYN.CBRT.IN es:\n"
     ]
    },
    {
     "data": {
      "text/plain": [
       "[('2014 [YR2014]', 17.582620000000006),\n",
       " ('2015 [YR2015]', 16.798477272727272),\n",
       " ('2016 [YR2016]', 16.144333333333332),\n",
       " ('2017 [YR2017]', 34.593)]"
      ]
     },
     "execution_count": 36,
     "metadata": {
      "tags": []
     },
     "output_type": "execute_result"
    }
   ],
   "source": [
    "#SP.DYN.CBRT.IN\n",
    "media_5 = suma_anual_col_5.join(suma_países_año).map(lambda x:(x[0],(x[1][0]/x[1][1])))\n",
    "print('La media por año de la variable SP.DYN.CBRT.IN es:')\n",
    "media_5.take(4)"
   ]
  },
  {
   "cell_type": "markdown",
   "metadata": {
    "id": "SOvEhscd8J9u"
   },
   "source": [
    "##### 8. Podrías decirme el total de deuda acumulada DT.AMT.MLAT.CD por los 10 países con un valor en media menor de SP.DYN.CBRT.IN"
   ]
  },
  {
   "cell_type": "code",
   "execution_count": 37,
   "metadata": {
    "id": "xFpwg0QC-Zrj"
   },
   "outputs": [],
   "source": [
    "# Importamos las funciones de pyspark.sql necesarias\n",
    "from pyspark.sql.functions import col, avg, desc, sum"
   ]
  },
  {
   "cell_type": "code",
   "execution_count": 38,
   "metadata": {
    "id": "tYtgRrQZGjxW"
   },
   "outputs": [],
   "source": [
    "#Convertimos los archivos en dataframes para un mejor tratamiento\n",
    "\n",
    "#Desarrollo\n",
    "df_desarrollo = pd.read_csv(url_ind_desarrollo)\n",
    "ind_desarrollo_DF = sqlContext.createDataFrame(df_desarrollo)\n",
    "\n",
    "#Deuda\n",
    "df_deuda = pd.read_csv(url_ind_deuda)\n",
    "ind_deuda_DF = sqlContext.createDataFrame(df_deuda)\n"
   ]
  },
  {
   "cell_type": "code",
   "execution_count": 39,
   "metadata": {
    "colab": {
     "base_uri": "https://localhost:8080/"
    },
    "id": "OXP2j_SJL_j9",
    "outputId": "cb50abc4-e377-4b73-cc8c-a5adc4eea93d"
   },
   "outputs": [
    {
     "name": "stdout",
     "output_type": "stream",
     "text": [
      "+------------+------------+-------------+--------------+------------------+------------------+\n",
      "|country_name|country_code|         anho|GC.DOD.TOTL.CN| GC.DOD.TOTL.GD.ZS|    SP.DYN.CBRT.IN|\n",
      "+------------+------------+-------------+--------------+------------------+------------------+\n",
      "|     Albania|         ALB|2014 [YR2014]|  1.0230408E12| 73.32024691984292|            12.259|\n",
      "|     Albania|         ALB|2015 [YR2015]| 1.14550094E12|  79.8644448747259|12.197000000000001|\n",
      "|     Albania|         ALB|2016 [YR2016]| 1.18881449E12| 80.73557483969229|             12.08|\n",
      "|   Australia|         AUS|2014 [YR2014]|       6.747E8| 0.042207528166503|              13.2|\n",
      "|   Australia|         AUS|2015 [YR2015]|     7.62718E8|0.0469480198522591|              12.9|\n",
      "+------------+------------+-------------+--------------+------------------+------------------+\n",
      "only showing top 5 rows\n",
      "\n"
     ]
    }
   ],
   "source": [
    "ind_desarrollo_DF.show(5)"
   ]
  },
  {
   "cell_type": "code",
   "execution_count": 40,
   "metadata": {
    "colab": {
     "base_uri": "https://localhost:8080/"
    },
    "id": "YcbT3v9u8Fl_",
    "outputId": "1e41674c-2bae-4272-89b1-f7cd6ba2bd2a"
   },
   "outputs": [
    {
     "name": "stdout",
     "output_type": "stream",
     "text": [
      "+------------+------------+--------------+----------------+--------------+--------------+--------------+--------------+--------------+--------------+--------------+--------------+----------------+--------------+--------------+--------------+--------------+--------------+--------------+--------------+--------------+--------------+--------------+--------------+--------------+--------------+--------------+\n",
      "|country_name|country_code|DT.AMT.BLAT.CD|  DT.AMT.DLXF.CD|DT.AMT.DPNG.CD|DT.AMT.MLAT.CD|DT.AMT.OFFT.CD|DT.AMT.PBND.CD|DT.AMT.PCBK.CD|DT.AMT.PROP.CD|DT.AMT.PRVT.CD|DT.DIS.BLAT.CD|  DT.DIS.DLXF.CD|DT.DIS.MLAT.CD|DT.DIS.OFFT.CD|DT.DIS.PCBK.CD|DT.DIS.PROP.CD|DT.DIS.PRVT.CD|DT.INT.BLAT.CD|DT.INT.DLXF.CD|DT.INT.DPNG.CD|DT.INT.MLAT.CD|DT.INT.OFFT.CD|DT.INT.PBND.CD|DT.INT.PCBK.CD|DT.INT.PROP.CD|DT.INT.PRVT.CD|\n",
      "+------------+------------+--------------+----------------+--------------+--------------+--------------+--------------+--------------+--------------+--------------+--------------+----------------+--------------+--------------+--------------+--------------+--------------+--------------+--------------+--------------+--------------+--------------+--------------+--------------+--------------+--------------+\n",
      "| Afghanistan|         AFG|  6.17393369E7|   1.008471819E8|           NaN|   3.9107845E7| 1.008471819E8|           NaN|           NaN|           NaN|           NaN|  4.91147294E7|    7.28944537E7|  2.37797243E7|  7.28944537E7|           NaN|           NaN|           NaN|  3.99036201E7|  5.32394401E7|           NaN|    1.333582E7|  5.32394401E7|           NaN|           NaN|           NaN|           NaN|\n",
      "|     Albania|         ALB|  5.42502806E7|   7.902486752E8|   5.1418562E8| 1.821976167E8| 2.364478973E8|           0.0|  3.94451395E7|      170018.4|  3.96151579E7|  7.60506161E7|   3.171945125E8| 2.343212423E8| 3.103718584E8|     4542664.9|     2279989.2|     6822654.1|  1.38473336E7| 1.656023869E8|      8.7884E7|  2.81015361E7|  4.19488697E7|  3.10306882E7|     4618504.3|      120324.7|  3.57695172E7|\n",
      "|     Algeria|         DZA|  9.51887246E7|   1.711851881E8|       7.542E7|           0.0|  9.51887246E7|           NaN|      576463.5|           0.0|      576463.5|  1.03207722E7|    1.03207722E7|           NaN|  1.03207722E7|           NaN|           NaN|           NaN|     7680627.6|  1.90317287E7|     3220000.0|     8094779.0|  1.57754066E7|           NaN|       13192.3|       23129.8|       36322.1|\n",
      "|      Angola|         AGO|8.4738240163E9|1.10670456281E10|           NaN| 1.246886919E8|8.5985127082E9|         1.0E9|1.1250887199E9|    3.434442E8|2.4685329199E9|8.8382569011E9|1.09240180931E10| 1.789895982E8|9.0172464993E9|1.9067715938E9|           NaN|1.9067715938E9|1.0050539651E9|1.7985504455E9|           NaN|  4.70384761E7|1.0520924412E9|         7.0E7| 5.809020043E8|      9.5556E7| 7.464580043E8|\n",
      "|     Armenia|         ARM|  6.89683147E7|   8.456307238E8|   6.8069619E8|  9.43312071E7| 1.632995218E8|           0.0|     1635012.0|           NaN|     1635012.0| 1.742698467E8|   4.269591756E8| 2.526893289E8| 4.269591756E8|           NaN|           NaN|           NaN|   2.4094832E7| 2.752929811E8|     1.28076E8|  5.71714639E7|  8.12662959E7|      6.5754E7|      196685.2|           NaN|  6.59506852E7|\n",
      "+------------+------------+--------------+----------------+--------------+--------------+--------------+--------------+--------------+--------------+--------------+--------------+----------------+--------------+--------------+--------------+--------------+--------------+--------------+--------------+--------------+--------------+--------------+--------------+--------------+--------------+--------------+\n",
      "only showing top 5 rows\n",
      "\n"
     ]
    }
   ],
   "source": [
    "ind_deuda_DF.show(5)"
   ]
  },
  {
   "cell_type": "code",
   "execution_count": 41,
   "metadata": {
    "colab": {
     "base_uri": "https://localhost:8080/"
    },
    "id": "mD8e_8eP60VH",
    "outputId": "ae10cc96-5998-460b-ad3c-eaadd850a4d6"
   },
   "outputs": [
    {
     "name": "stdout",
     "output_type": "stream",
     "text": [
      "+------------+------------+-------------+--------------+------------------+--------------+------------+--------------+--------------+--------------+--------------+--------------+--------------+--------------+--------------+--------------+--------------+--------------+--------------+--------------+--------------+--------------+--------------+--------------+--------------+--------------+--------------+--------------+--------------+--------------+--------------+--------------+\n",
      "|country_name|country_code|         anho|GC.DOD.TOTL.CN| GC.DOD.TOTL.GD.ZS|SP.DYN.CBRT.IN|country_code|DT.AMT.BLAT.CD|DT.AMT.DLXF.CD|DT.AMT.DPNG.CD|DT.AMT.MLAT.CD|DT.AMT.OFFT.CD|DT.AMT.PBND.CD|DT.AMT.PCBK.CD|DT.AMT.PROP.CD|DT.AMT.PRVT.CD|DT.DIS.BLAT.CD|DT.DIS.DLXF.CD|DT.DIS.MLAT.CD|DT.DIS.OFFT.CD|DT.DIS.PCBK.CD|DT.DIS.PROP.CD|DT.DIS.PRVT.CD|DT.INT.BLAT.CD|DT.INT.DLXF.CD|DT.INT.DPNG.CD|DT.INT.MLAT.CD|DT.INT.OFFT.CD|DT.INT.PBND.CD|DT.INT.PCBK.CD|DT.INT.PROP.CD|DT.INT.PRVT.CD|\n",
      "+------------+------------+-------------+--------------+------------------+--------------+------------+--------------+--------------+--------------+--------------+--------------+--------------+--------------+--------------+--------------+--------------+--------------+--------------+--------------+--------------+--------------+--------------+--------------+--------------+--------------+--------------+--------------+--------------+--------------+--------------+--------------+\n",
      "| Philippines|         PHL|2014 [YR2014]|   5.735242E12|45.394627179381196|        22.935|         PHL| 6.704754179E8|6.4791709177E9|3.8996374599E9| 7.390564273E8|1.4095318452E9|     9.03941E8| 2.151195881E8|  5.09410245E7|1.1700016126E9| 5.441485278E8|1.5993765863E9| 8.513997524E8|1.3955482802E9| 1.628049362E8|  4.10233699E7| 2.038283061E8| 1.042379929E8|1.8354902443E9|     6.90769E8| 2.545594869E8| 3.587974798E8| 7.675144059E8|  1.67180309E7|     1691327.7| 7.859237645E8|\n",
      "|       Tonga|         TON|2014 [YR2014]|  3.78478931E8|    47.04523691734|        25.756|         TON|     7554054.0|  1.03699106E7|           NaN|     2791253.2|  1.03453072E7|           NaN|       24603.4|           NaN|       24603.4|           NaN|     5529604.8|     5529604.8|     5529604.8|           NaN|           NaN|           NaN|     1559371.0|     2503586.2|           NaN|      944215.2|     2503586.2|           NaN|           0.0|           NaN|           0.0|\n",
      "|       Tonga|         TON|2015 [YR2015]|  4.34560045E8|51.360364614111795|        25.354|         TON|     7554054.0|  1.03699106E7|           NaN|     2791253.2|  1.03453072E7|           NaN|       24603.4|           NaN|       24603.4|           NaN|     5529604.8|     5529604.8|     5529604.8|           NaN|           NaN|           NaN|     1559371.0|     2503586.2|           NaN|      944215.2|     2503586.2|           NaN|           0.0|           NaN|           0.0|\n",
      "+------------+------------+-------------+--------------+------------------+--------------+------------+--------------+--------------+--------------+--------------+--------------+--------------+--------------+--------------+--------------+--------------+--------------+--------------+--------------+--------------+--------------+--------------+--------------+--------------+--------------+--------------+--------------+--------------+--------------+--------------+--------------+\n",
      "only showing top 3 rows\n",
      "\n"
     ]
    }
   ],
   "source": [
    "#Unimos ambos datasets\n",
    "union_dfs = ind_desarrollo_DF.join(other=ind_deuda_DF, on=[\"country_name\"], how=\"inner\")\n",
    "union_dfs.show(3)"
   ]
  },
  {
   "cell_type": "code",
   "execution_count": 42,
   "metadata": {
    "id": "t1b5t0ap9Zbq"
   },
   "outputs": [],
   "source": [
    "# Para renombrar las columnas utilizaremos la función withColumnRenamned()\n",
    "data_desarrollo = union_dfs.withColumnRenamed(\"anho\", \"year\") \\\n",
    "    .withColumnRenamed(\"DT.AMT.MLAT.CD\", \"deuda_amount\") \\\n",
    "    .withColumnRenamed(\"SP.DYN.CBRT.IN\", \"birth_date\")"
   ]
  },
  {
   "cell_type": "code",
   "execution_count": 44,
   "metadata": {
    "colab": {
     "base_uri": "https://localhost:8080/"
    },
    "id": "hOwkGOYB60Hs",
    "outputId": "135d1f6b-d9a8-4f50-af66-e87cf4416e83"
   },
   "outputs": [
    {
     "name": "stdout",
     "output_type": "stream",
     "text": [
      "+------------+-------------+------------------+\n",
      "|country_name| deuda_amount|        birth_date|\n",
      "+------------+-------------+------------------+\n",
      "| Philippines|7.390564273E8|            22.935|\n",
      "|       Tonga|    2791253.2|            25.756|\n",
      "|       Tonga|    2791253.2|            25.354|\n",
      "|       Tonga|    2791253.2|24.976999999999997|\n",
      "|      Turkey|2.932698678E9|             16.94|\n",
      "|      Turkey|2.932698678E9|            16.718|\n",
      "|      Turkey|2.932698678E9|            16.494|\n",
      "|      Malawi| 3.56598314E7|            36.629|\n",
      "|      Malawi| 3.56598314E7|            35.839|\n",
      "|      Malawi| 3.56598314E7|35.163000000000004|\n",
      "|      Malawi| 3.56598314E7|            34.593|\n",
      "|      Jordan|2.704987155E8|25.214000000000002|\n",
      "|      Jordan|2.704987155E8|            23.396|\n",
      "|   Sri Lanka|4.497719611E8|            16.849|\n",
      "|   Sri Lanka|4.497719611E8|            16.609|\n",
      "|     Albania|1.821976167E8|            12.259|\n",
      "|     Albania|1.821976167E8|12.197000000000001|\n",
      "|     Albania|1.821976167E8|             12.08|\n",
      "|        Peru|  5.5363409E8|            18.827|\n",
      "|        Peru|  5.5363409E8|            18.544|\n",
      "+------------+-------------+------------------+\n",
      "only showing top 20 rows\n",
      "\n"
     ]
    }
   ],
   "source": [
    "#Observamos el DataFrame creado con las variables que se requieren\n",
    "birthday_rate = data_desarrollo.select(\"country_name\", \"deuda_amount\",\"birth_date\")\n",
    "birthday_rate.show()"
   ]
  },
  {
   "cell_type": "code",
   "execution_count": 45,
   "metadata": {
    "colab": {
     "base_uri": "https://localhost:8080/"
    },
    "id": "1GhZrNxyL_P-",
    "outputId": "cc540228-bef2-47dd-cbb0-a93b3adda37c"
   },
   "outputs": [
    {
     "name": "stdout",
     "output_type": "stream",
     "text": [
      "+------------------+--------------+------------------+\n",
      "|      country_name|  deuda_amount|   avg(birth_date)|\n",
      "+------------------+--------------+------------------+\n",
      "|       Philippines| 7.390564273E8|            22.935|\n",
      "|             Tonga|     2791253.2| 25.36233333333333|\n",
      "|            Turkey| 2.932698678E9|16.717333333333332|\n",
      "|            Malawi|  3.56598314E7|            35.556|\n",
      "|            Jordan| 2.704987155E8|            24.305|\n",
      "|         Sri Lanka| 4.497719611E8|            16.729|\n",
      "|           Albania| 1.821976167E8|12.178666666666667|\n",
      "|              Peru|   5.5363409E8|18.564666666666668|\n",
      "|         St. Lucia|  1.50192163E7|            12.502|\n",
      "|           Belarus|  5.95438826E8|12.466666666666667|\n",
      "|Russian Federation|    1.416695E8|13.166666666666666|\n",
      "|          Thailand|  3.90715715E7|           10.9175|\n",
      "|            Bhutan|  1.73904205E7|            17.791|\n",
      "|           Ukraine|1.0724728303E9|              10.6|\n",
      "|           Georgia| 1.440624015E8|            14.056|\n",
      "|         Indonesia|2.4691458247E9|19.163999999999998|\n",
      "|         Guatemala| 3.398222536E8|25.628666666666664|\n",
      "|            Zambia|  5.30689649E7|           38.2975|\n",
      "|           Jamaica|  1.74427648E8| 16.63566666666667|\n",
      "|   Kyrgyz Republic|  7.52780372E7| 27.03333333333333|\n",
      "+------------------+--------------+------------------+\n",
      "only showing top 20 rows\n",
      "\n"
     ]
    }
   ],
   "source": [
    "#Como hay países que se repiten, hacemos un groupby por país y deuda y creamos(transformamos) la columna de birth_date haciendo la media de la agrupación\n",
    "birthday_rate = birthday_rate.groupBy(\"country_name\", \"deuda_amount\").agg(avg(\"birth_date\"))\n",
    "birthday_rate.show()"
   ]
  },
  {
   "cell_type": "code",
   "execution_count": 46,
   "metadata": {
    "colab": {
     "base_uri": "https://localhost:8080/"
    },
    "id": "JRqQYWp4CuTv",
    "outputId": "28075a18-e06c-4c78-c029-e199294c8f9a"
   },
   "outputs": [
    {
     "name": "stdout",
     "output_type": "stream",
     "text": [
      "+------------------+--------------+------------------+\n",
      "|      country_name|  deuda_amount|   avg(birth_date)|\n",
      "+------------------+--------------+------------------+\n",
      "|           Ukraine|1.0724728303E9|              10.6|\n",
      "|           Moldova| 1.358428655E8|10.604333333333335|\n",
      "|          Thailand|  3.90715715E7|           10.9175|\n",
      "|           Albania| 1.821976167E8|12.178666666666667|\n",
      "|           Belarus|  5.95438826E8|12.466666666666667|\n",
      "|         St. Lucia|  1.50192163E7|            12.502|\n",
      "|Russian Federation|    1.416695E8|13.166666666666666|\n",
      "|           Georgia| 1.440624015E8|            14.056|\n",
      "|            Brazil|2.5143187416E9|14.467666666666668|\n",
      "|          Colombia|1.1009075536E9|            15.516|\n",
      "+------------------+--------------+------------------+\n",
      "\n"
     ]
    }
   ],
   "source": [
    "#Ordenamos por la variable de avg(birth_date) y seleccionamos 10\n",
    "birthday_rate = birthday_rate.sort(\"avg(birth_date)\").limit(10)\n",
    "birthday_rate.show()"
   ]
  },
  {
   "cell_type": "code",
   "execution_count": 47,
   "metadata": {
    "colab": {
     "base_uri": "https://localhost:8080/"
    },
    "id": "m3q7VnoECuM2",
    "outputId": "cf1d0488-803e-40a5-927c-e4b5c2b3b452"
   },
   "outputs": [
    {
     "name": "stdout",
     "output_type": "stream",
     "text": [
      "+-----------------+\n",
      "|sum(deuda_amount)|\n",
      "+-----------------+\n",
      "|    5.941001123E9|\n",
      "+-----------------+\n",
      "\n"
     ]
    }
   ],
   "source": [
    "#Hacemos la suma total\n",
    "birthday_rate.select(sum(\"deuda_amount\")).show()"
   ]
  },
  {
   "cell_type": "markdown",
   "metadata": {
    "id": "18zJg62a8J2W"
   },
   "source": [
    "##### 9. ¿Hay alguna relación entre los nacimientos y el indicador DT.AMT.DLXF.CD? ¿Cómo podrías demostrarlo?"
   ]
  },
  {
   "cell_type": "code",
   "execution_count": 48,
   "metadata": {
    "id": "sGAzAAmBJslG"
   },
   "outputs": [],
   "source": [
    "#Como ambas variables son numéricas, la función que más sentido tiene es realizar la correlación entre ambas variables (además de un scatterplot para visionarlo mejor)\n",
    "\n",
    "from pyspark.ml.stat import Correlation"
   ]
  },
  {
   "cell_type": "code",
   "execution_count": 49,
   "metadata": {
    "id": "4wEljQNTJsiz"
   },
   "outputs": [],
   "source": [
    "#Cambiamos el nombre de la variable para trabajar con mayor facilidad\n",
    "data_9 = data_desarrollo.withColumnRenamed(\"DT.AMT.DLXF.CD\", \"deuda_amount_dlxf\")"
   ]
  },
  {
   "cell_type": "code",
   "execution_count": 51,
   "metadata": {
    "colab": {
     "base_uri": "https://localhost:8080/"
    },
    "id": "jnD31R7HJsgw",
    "outputId": "09ee3e53-b742-4f29-d7f3-ef59307be61d"
   },
   "outputs": [
    {
     "name": "stdout",
     "output_type": "stream",
     "text": [
      "+------------------+-----------------+\n",
      "|        birth_date|deuda_amount_dlxf|\n",
      "+------------------+-----------------+\n",
      "|            22.935|   6.4791709177E9|\n",
      "|            25.756|     1.03699106E7|\n",
      "|            25.354|     1.03699106E7|\n",
      "|24.976999999999997|     1.03699106E7|\n",
      "|             16.94| 5.15550310058E10|\n",
      "|            16.718| 5.15550310058E10|\n",
      "|            16.494| 5.15550310058E10|\n",
      "|            36.629|     5.74223731E7|\n",
      "|            35.839|     5.74223731E7|\n",
      "|35.163000000000004|     5.74223731E7|\n",
      "|            34.593|     5.74223731E7|\n",
      "|25.214000000000002|   1.9903434792E9|\n",
      "|            23.396|   1.9903434792E9|\n",
      "|            16.849|   5.7614892559E9|\n",
      "|            16.609|   5.7614892559E9|\n",
      "|            12.259|    7.902486752E8|\n",
      "|12.197000000000001|    7.902486752E8|\n",
      "|             12.08|    7.902486752E8|\n",
      "|            18.827|   5.8812599747E9|\n",
      "|            18.544|   5.8812599747E9|\n",
      "+------------------+-----------------+\n",
      "only showing top 20 rows\n",
      "\n"
     ]
    }
   ],
   "source": [
    "#Hacemos Select de las variables que necesitamos\n",
    "data_selected_9 = data_9.select(\"birth_date\", \"deuda_amount_dlxf\")\n",
    "data_selected_9.show()"
   ]
  },
  {
   "cell_type": "code",
   "execution_count": 52,
   "metadata": {
    "colab": {
     "base_uri": "https://localhost:8080/",
     "height": 405
    },
    "id": "fz4H4s8xJsZv",
    "outputId": "895a404b-2af0-4039-acd4-f789cfb7af8c"
   },
   "outputs": [
    {
     "data": {
      "text/html": [
       "<div>\n",
       "<style scoped>\n",
       "    .dataframe tbody tr th:only-of-type {\n",
       "        vertical-align: middle;\n",
       "    }\n",
       "\n",
       "    .dataframe tbody tr th {\n",
       "        vertical-align: top;\n",
       "    }\n",
       "\n",
       "    .dataframe thead th {\n",
       "        text-align: right;\n",
       "    }\n",
       "</style>\n",
       "<table border=\"1\" class=\"dataframe\">\n",
       "  <thead>\n",
       "    <tr style=\"text-align: right;\">\n",
       "      <th></th>\n",
       "      <th>birth_date</th>\n",
       "      <th>deuda_amount_dlxf</th>\n",
       "    </tr>\n",
       "  </thead>\n",
       "  <tbody>\n",
       "    <tr>\n",
       "      <th>0</th>\n",
       "      <td>22.935</td>\n",
       "      <td>6.479171e+09</td>\n",
       "    </tr>\n",
       "    <tr>\n",
       "      <th>1</th>\n",
       "      <td>25.756</td>\n",
       "      <td>1.036991e+07</td>\n",
       "    </tr>\n",
       "    <tr>\n",
       "      <th>2</th>\n",
       "      <td>25.354</td>\n",
       "      <td>1.036991e+07</td>\n",
       "    </tr>\n",
       "    <tr>\n",
       "      <th>3</th>\n",
       "      <td>24.977</td>\n",
       "      <td>1.036991e+07</td>\n",
       "    </tr>\n",
       "    <tr>\n",
       "      <th>4</th>\n",
       "      <td>16.940</td>\n",
       "      <td>5.155503e+10</td>\n",
       "    </tr>\n",
       "    <tr>\n",
       "      <th>...</th>\n",
       "      <td>...</td>\n",
       "      <td>...</td>\n",
       "    </tr>\n",
       "    <tr>\n",
       "      <th>69</th>\n",
       "      <td>15.515</td>\n",
       "      <td>1.198567e+10</td>\n",
       "    </tr>\n",
       "    <tr>\n",
       "      <th>70</th>\n",
       "      <td>15.308</td>\n",
       "      <td>1.198567e+10</td>\n",
       "    </tr>\n",
       "    <tr>\n",
       "      <th>71</th>\n",
       "      <td>10.759</td>\n",
       "      <td>7.692329e+08</td>\n",
       "    </tr>\n",
       "    <tr>\n",
       "      <th>72</th>\n",
       "      <td>10.609</td>\n",
       "      <td>7.692329e+08</td>\n",
       "    </tr>\n",
       "    <tr>\n",
       "      <th>73</th>\n",
       "      <td>10.445</td>\n",
       "      <td>7.692329e+08</td>\n",
       "    </tr>\n",
       "  </tbody>\n",
       "</table>\n",
       "<p>74 rows × 2 columns</p>\n",
       "</div>"
      ],
      "text/plain": [
       "    birth_date  deuda_amount_dlxf\n",
       "0       22.935       6.479171e+09\n",
       "1       25.756       1.036991e+07\n",
       "2       25.354       1.036991e+07\n",
       "3       24.977       1.036991e+07\n",
       "4       16.940       5.155503e+10\n",
       "..         ...                ...\n",
       "69      15.515       1.198567e+10\n",
       "70      15.308       1.198567e+10\n",
       "71      10.759       7.692329e+08\n",
       "72      10.609       7.692329e+08\n",
       "73      10.445       7.692329e+08\n",
       "\n",
       "[74 rows x 2 columns]"
      ]
     },
     "execution_count": 52,
     "metadata": {
      "tags": []
     },
     "output_type": "execute_result"
    }
   ],
   "source": [
    "#Para poder utilizar la librería de pandas es preciso convertir el DF a formato PANDAS para que pueda realizarse la operación\n",
    "data_selected_9_pandas = data_selected_9.toPandas()\n",
    "data_selected_9_pandas"
   ]
  },
  {
   "cell_type": "code",
   "execution_count": 63,
   "metadata": {
    "colab": {
     "base_uri": "https://localhost:8080/",
     "height": 296
    },
    "id": "bwPEvop2JsWG",
    "outputId": "860be9e2-9955-4891-9f30-e9ee5def9074"
   },
   "outputs": [
    {
     "data": {
      "image/png": "[encoded data removed]",
      "text/plain": [
       "<Figure size 432x288 with 1 Axes>"
      ]
     },
     "metadata": {
      "needs_background": "light",
      "tags": []
     },
     "output_type": "display_data"
    }
   ],
   "source": [
    "#Hacemos un plot de los resultados\n",
    "import matplotlib.pyplot as plt\n",
    "\n",
    "data_selected_9_pandas.plot.scatter(x=\"deuda_amount_dlxf\", y=\"birth_date\");\n",
    "plt.xlabel('deuda_amount_dlxf') #NOMBRE EJE X\n",
    "plt.ylabel('birth_date') #NOMBRE EJE Y\n",
    "plt.title('ScatterPlot de la Deuda y el Año de Nacimiento'); #TÍTULO\n",
    "\n",
    "#De primeras no se observa correlación alguna en los datos, pero realizaremos el cálculo de la correlación entre ambas variables"
   ]
  },
  {
   "cell_type": "code",
   "execution_count": 55,
   "metadata": {
    "colab": {
     "base_uri": "https://localhost:8080/"
    },
    "id": "hFnv4h5vJsPB",
    "outputId": "f88660df-123f-4237-e896-ce8ed3474414"
   },
   "outputs": [
    {
     "data": {
      "text/plain": [
       "-0.2974266498953495"
      ]
     },
     "execution_count": 55,
     "metadata": {
      "tags": []
     },
     "output_type": "execute_result"
    }
   ],
   "source": [
    "#Correlación\n",
    "data_selected_9.stat.corr(\"deuda_amount_dlxf\", \"birth_date\")\n",
    "\n",
    "#La correlación es de -0.29 lo que indica que la correlación es negativa, pero es apenas representativa\n",
    "#Lo que se puede afirmar que la relación entre ambas variables es prácticamente nula"
   ]
  }
 ],
 "metadata": {
  "colab": {
   "name": "PRUEBA FINAL ETL.ipynb",
   "provenance": [],
   "toc_visible": true
  },
  "kernelspec": {
   "display_name": "Python 3",
   "language": "python",
   "name": "python3"
  },
  "language_info": {
   "codemirror_mode": {
    "name": "ipython",
    "version": 3
   },
   "file_extension": ".py",
   "mimetype": "text/x-python",
   "name": "python",
   "nbconvert_exporter": "python",
   "pygments_lexer": "ipython3",
   "version": "3.8.3"
  }
 },
 "nbformat": 4,
 "nbformat_minor": 1
}
