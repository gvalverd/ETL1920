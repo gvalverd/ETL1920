{
 "cells": [
  {
   "cell_type": "markdown",
   "metadata": {},
   "source": [
    "2019/2020 - MDS-1 - Extracción, Transformación y Carga - Etl"
   ]
  },
  {
   "cell_type": "markdown",
   "metadata": {},
   "source": [
    "Raquel Fort Serra"
   ]
  },
  {
   "cell_type": "markdown",
   "metadata": {},
   "source": [
    "# Resolucion en SQL LogNasa"
   ]
  },
  {
   "cell_type": "markdown",
   "metadata": {},
   "source": [
    "##### 1. Parsear el dataset para su tratamiento "
   ]
  },
  {
   "cell_type": "code",
   "execution_count": 40,
   "metadata": {
    "collapsed": false
   },
   "outputs": [],
   "source": [
    "from pyspark import SparkContext\n",
    "sc = SparkContext(\"local\", \"First App\")"
   ]
  },
  {
   "cell_type": "code",
   "execution_count": 41,
   "metadata": {
    "collapsed": true
   },
   "outputs": [],
   "source": [
    "data = \"apache.access.log_small\" \n",
    "data = sc.textFile(data)"
   ]
  },
  {
   "cell_type": "code",
   "execution_count": 42,
   "metadata": {
    "collapsed": false
   },
   "outputs": [
    {
     "data": {
      "text/plain": [
       "['in24.inetnebr.com - - [01/Aug/1995:00:00:01 -0400] \"GET /shuttle/missions/sts-68/news/sts-68-mcc-05.txt HTTP/1.0\" 200 1839',\n",
       " 'uplherc.upl.com - - [01/Aug/1995:00:00:07 -0400] \"GET / HTTP/1.0\" 304 0',\n",
       " 'uplherc.upl.com - - [01/Aug/1995:00:00:08 -0400] \"GET /images/ksclogo-medium.gif HTTP/1.0\" 304 0',\n",
       " 'uplherc.upl.com - - [01/Aug/1995:00:00:08 -0400] \"GET /images/MOSAIC-logosmall.gif HTTP/1.0\" 304 0',\n",
       " 'uplherc.upl.com - - [01/Aug/1995:00:00:08 -0400] \"GET /images/USA-logosmall.gif HTTP/1.0\" 304 0']"
      ]
     },
     "execution_count": 42,
     "metadata": {},
     "output_type": "execute_result"
    }
   ],
   "source": [
    "data.take(5)"
   ]
  },
  {
   "cell_type": "code",
   "execution_count": 43,
   "metadata": {
    "collapsed": true
   },
   "outputs": [],
   "source": [
    "import re"
   ]
  },
  {
   "cell_type": "code",
   "execution_count": 44,
   "metadata": {
    "collapsed": true
   },
   "outputs": [],
   "source": [
    "def parse_log2(line):\n",
    "    match = re.search('^(\\S+) (\\S+) (\\S+) \\[(\\S+) [-](\\d{4})\\] \"(\\S+)\\s*(\\S+)\\s*(\\S+)\\s*([/\\w\\.\\s*]+)?\\s*\"* (\\d{3}) (\\S+)',line)\n",
    "    if match is None:\n",
    "        match = re.search('^(\\S+) (\\S+) (\\S+) \\[(\\S+) [-](\\d{4})\\] \"(\\S+)\\s*([/\\w\\.]+)>*([\\w/\\s\\.]+)\\s*(\\S+)\\s*(\\d{3})\\s*(\\S+)',line)\n",
    "    if match is None:\n",
    "        return (line, 0)\n",
    "    else:\n",
    "        return (line, 1)"
   ]
  },
  {
   "cell_type": "code",
   "execution_count": 45,
   "metadata": {
    "collapsed": true
   },
   "outputs": [],
   "source": [
    "def map_log(line):\n",
    "    match = re.search('^(\\S+) (\\S+) (\\S+) \\[(\\S+) [-](\\d{4})\\] \"(\\S+)\\s*(\\S+)\\s*(\\S+)\\s*([/\\w\\.\\s*]+)?\\s*\"* (\\d{3}) (\\S+)',line)\n",
    "    if match is None:\n",
    "        match = re.search('^(\\S+) (\\S+) (\\S+) \\[(\\S+) [-](\\d{4})\\] \"(\\S+)\\s*([/\\w\\.]+)>*([\\w/\\s\\.]+)\\s*(\\S+)\\s*(\\d{3})\\s*(\\S+)',line)\n",
    "    return(match.groups())\n",
    "parsed_rdd = data.map(lambda line: parse_log2(line)).filter(lambda line: line[1] == 1).map(lambda line : line[0]) #map con el segundo parseador, filtramos cuales de ellos han sido uno (que el paseador los pasa adecuadamente) y despues mapeamos\n",
    "parsed_def = parsed_rdd.map(lambda line: map_log(line))"
   ]
  },
  {
   "cell_type": "markdown",
   "metadata": {},
   "source": [
    "##### 2. Transformar en un sqldataframe"
   ]
  },
  {
   "cell_type": "code",
   "execution_count": 46,
   "metadata": {
    "collapsed": true
   },
   "outputs": [],
   "source": [
    "from pyspark.sql import SQLContext, Row \n",
    "from pyspark.sql.functions import *\n",
    "sqlContext = SQLContext(sc)"
   ]
  },
  {
   "cell_type": "code",
   "execution_count": 47,
   "metadata": {
    "collapsed": true
   },
   "outputs": [],
   "source": [
    "def convert_long(x):\n",
    "    x = re.sub('[^0-9]',\"\",x) \n",
    "    if x ==\"\":\n",
    "        return 0\n",
    "    else:\n",
    "        return int(x)"
   ]
  },
  {
   "cell_type": "code",
   "execution_count": 48,
   "metadata": {
    "collapsed": true
   },
   "outputs": [],
   "source": [
    "sql_data = parsed_def.map(lambda p: \n",
    "                         Row(Host = p[0], \n",
    "                             date = p[3][:11],\n",
    "                            endpoint = p[6], code = p[-2],\n",
    "                            size = p[-1]))"
   ]
  },
  {
   "cell_type": "code",
   "execution_count": 49,
   "metadata": {
    "collapsed": false
   },
   "outputs": [
    {
     "data": {
      "text/plain": [
       "[Row(Host='in24.inetnebr.com', code='200', date='01/Aug/1995', endpoint='/shuttle/missions/sts-68/news/sts-68-mcc-05.txt', size='1839')]"
      ]
     },
     "execution_count": 49,
     "metadata": {},
     "output_type": "execute_result"
    }
   ],
   "source": [
    "sql_data.take(1)"
   ]
  },
  {
   "cell_type": "code",
   "execution_count": 50,
   "metadata": {
    "collapsed": true
   },
   "outputs": [],
   "source": [
    "df = sqlContext.createDataFrame(sql_data)\n",
    "df.registerTempTable(\"nasa\")"
   ]
  },
  {
   "cell_type": "markdown",
   "metadata": {},
   "source": [
    "### 3. Usando el RDD access_logs calcular:\n",
    "- Mínimo, máximo y media del tamaño de las peticiones (size)\n",
    "- Nº peticiones de cada código de respuesta (response_code)\n",
    "- Mostrar 20 hots que han sido visitados más de 10 veces\n",
    "- Mostrar los 10 endpoints más visitados\n",
    "- Mostrar los 10 endpoints más visitados que no tienen código de respuesta = 200\n",
    "- Calcular el nº de hosts distintos\n",
    "- Contar el nº de hosts únicos cada día \n",
    "- Calcular la media de peticiones diarias por host\n",
    "- Mostrar una lista de 40 endpoints distintos que generan código de respuesta = 404\n",
    "- Mostrar el top 25 de endpoints que más códigos de respuesta 404 generan \n",
    "- El top 5 de días que se generaron código de respuestas 404"
   ]
  },
  {
   "cell_type": "markdown",
   "metadata": {},
   "source": [
    "#### Mínimo, máximo y media del tamaño de las peticiones (size) "
   ]
  },
  {
   "cell_type": "code",
   "execution_count": 72,
   "metadata": {
    "collapsed": false
   },
   "outputs": [
    {
     "name": "stdout",
     "output_type": "stream",
     "text": [
      "+-----------------+----+-----------+--------------------+----+\n",
      "|             Host|code|       date|            endpoint|size|\n",
      "+-----------------+----+-----------+--------------------+----+\n",
      "|in24.inetnebr.com| 200|01/Aug/1995|/shuttle/missions...|1839|\n",
      "|  uplherc.upl.com| 304|01/Aug/1995|                   /|   0|\n",
      "|  uplherc.upl.com| 304|01/Aug/1995|/images/ksclogo-m...|   0|\n",
      "|  uplherc.upl.com| 304|01/Aug/1995|/images/MOSAIC-lo...|   0|\n",
      "|  uplherc.upl.com| 304|01/Aug/1995|/images/USA-logos...|   0|\n",
      "+-----------------+----+-----------+--------------------+----+\n",
      "\n"
     ]
    }
   ],
   "source": [
    "datos = sqlContext.sql(\"\"\"\n",
    "    SELECT * \n",
    "    FROM nasa \n",
    "    LIMIT 5\n",
    "\"\"\")\n",
    "datos.show()"
   ]
  },
  {
   "cell_type": "code",
   "execution_count": 52,
   "metadata": {
    "collapsed": false
   },
   "outputs": [
    {
     "name": "stdout",
     "output_type": "stream",
     "text": [
      "+------+------+-------+\n",
      "|Minimo|Maximo|  Media|\n",
      "+------+------+-------+\n",
      "|     -| 99942|16183.9|\n",
      "+------+------+-------+\n",
      "\n"
     ]
    }
   ],
   "source": [
    "tamaño = sqlContext.sql(\"\"\"\n",
    "    SELECT MIN(size) AS Minimo, MAX(size) AS Maximo, ROUND(AVG(size), 2) AS Media \n",
    "    FROM nasa \n",
    "\"\"\")\n",
    "tamaño.show()"
   ]
  },
  {
   "cell_type": "markdown",
   "metadata": {},
   "source": [
    "#### Nº peticiones de cada código de respuesta (response_code)"
   ]
  },
  {
   "cell_type": "code",
   "execution_count": 53,
   "metadata": {
    "collapsed": false
   },
   "outputs": [
    {
     "name": "stdout",
     "output_type": "stream",
     "text": [
      "+-----------+------+\n",
      "| Peticiones|Codigo|\n",
      "+-----------+------+\n",
      "|5.5085536E7|   200|\n",
      "|     4460.0|   302|\n",
      "|       null|   404|\n",
      "|       null|   403|\n",
      "|        0.0|   304|\n",
      "+-----------+------+\n",
      "\n"
     ]
    }
   ],
   "source": [
    "peticiones = sqlContext.sql(\"\"\"\n",
    "    SELECT SUM(size) AS Peticiones, code AS Codigo \n",
    "    FROM nasa \n",
    "    GROUP BY code\n",
    "\"\"\")\n",
    "peticiones.show()"
   ]
  },
  {
   "cell_type": "markdown",
   "metadata": {},
   "source": [
    "#### Mostrar 20 hots que han sido visitados más de 10 veces"
   ]
  },
  {
   "cell_type": "code",
   "execution_count": 65,
   "metadata": {
    "collapsed": false
   },
   "outputs": [
    {
     "name": "stdout",
     "output_type": "stream",
     "text": [
      "+-----------+--------------------+\n",
      "|count(host)|                host|\n",
      "+-----------+--------------------+\n",
      "|         78|ix-min1-02.ix.net...|\n",
      "|         71|     uplherc.upl.com|\n",
      "|         59|port26.ts1.msstat...|\n",
      "|         56|   h96-158.ccnet.com|\n",
      "|         55|   in24.inetnebr.com|\n",
      "|         54|thing1.cchem.berk...|\n",
      "|         54|piweba3y.prodigy.com|\n",
      "|         44|   adam.tower.com.au|\n",
      "|         43|ip55.van2.pacifie...|\n",
      "|         41|ppp1016.po.iijnet...|\n",
      "|         40|hsccs_gatorbox07....|\n",
      "|         40|www-b2.proxy.aol.com|\n",
      "|         39|www-d1.proxy.aol.com|\n",
      "|         37|        133.43.96.45|\n",
      "|         37|  port13.wavenet.com|\n",
      "|         33|       pc-heh.icl.dk|\n",
      "|         32|haraway.ucet.ufl.edu|\n",
      "|         31|       193.84.66.147|\n",
      "|         30|www-c1.proxy.aol.com|\n",
      "|         29|term1-24.sb.west.net|\n",
      "+-----------+--------------------+\n",
      "\n"
     ]
    }
   ],
   "source": [
    "hosts = sqlContext.sql(\"\"\"\n",
    "    SELECT COUNT(host), host\n",
    "    FROM nasa \n",
    "    GROUP BY host\n",
    "    ORDER BY COUNT(host) DESC\n",
    "    LIMIT 20 \n",
    "\"\"\")\n",
    "hosts.show()"
   ]
  },
  {
   "cell_type": "markdown",
   "metadata": {},
   "source": [
    "#### Mostrar los 10 endpoints más visitados"
   ]
  },
  {
   "cell_type": "code",
   "execution_count": 60,
   "metadata": {
    "collapsed": false
   },
   "outputs": [
    {
     "name": "stdout",
     "output_type": "stream",
     "text": [
      "+---------------+--------------------+\n",
      "|count(endpoint)|            Endpoint|\n",
      "+---------------+--------------------+\n",
      "|            167|/images/KSC-logos...|\n",
      "|            160|/images/NASA-logo...|\n",
      "|            122|/images/MOSAIC-lo...|\n",
      "|            120|/images/WORLD-log...|\n",
      "|            118|/images/USA-logos...|\n",
      "|            106|/images/ksclogo-m...|\n",
      "|             85|                   /|\n",
      "|             74|/history/apollo/i...|\n",
      "|             69|/images/launch-lo...|\n",
      "|             66|/images/ksclogosm...|\n",
      "+---------------+--------------------+\n",
      "\n"
     ]
    }
   ],
   "source": [
    "endpoints =sqlContext.sql(\"\"\"\n",
    "    SELECT COUNT(endpoint), Endpoint\n",
    "    FROM nasa \n",
    "    GROUP BY endpoint \n",
    "    ORDER BY COUNT(endpoint) DESC\n",
    "    LIMIT 10\n",
    "\"\"\")\n",
    "endpoints.show()"
   ]
  },
  {
   "cell_type": "markdown",
   "metadata": {},
   "source": [
    "#### Mostrar los 10 endpoints más visitados que no tienen código de respuesta = 200"
   ]
  },
  {
   "cell_type": "code",
   "execution_count": 67,
   "metadata": {
    "collapsed": false
   },
   "outputs": [
    {
     "name": "stdout",
     "output_type": "stream",
     "text": [
      "+---------------+--------------------+\n",
      "|count(endpoint)|            Endpoint|\n",
      "+---------------+--------------------+\n",
      "|             25|/images/NASA-logo...|\n",
      "|             24|/images/KSC-logos...|\n",
      "|             17|/images/MOSAIC-lo...|\n",
      "|             17|/images/WORLD-log...|\n",
      "|             16|/images/USA-logos...|\n",
      "|             10|/images/ksclogo-m...|\n",
      "|              8|/software/winvn/b...|\n",
      "|              8|/images/construct...|\n",
      "|              8|/software/winvn/w...|\n",
      "|              6|/software/winvn/w...|\n",
      "+---------------+--------------------+\n",
      "\n"
     ]
    }
   ],
   "source": [
    "endpoints2 = sqlContext.sql(\"\"\"\n",
    "    SELECT COUNT(endpoint), Endpoint\n",
    "    FROM nasa\n",
    "    WHERE code != 200\n",
    "    GROUP BY endpoint \n",
    "    ORDER BY COUNT(endpoint) DESC\n",
    "    LIMIT 10\n",
    "\"\"\")\n",
    "endpoints2.show()"
   ]
  },
  {
   "cell_type": "markdown",
   "metadata": {},
   "source": [
    "#### Calcular el nº de hosts distintos   "
   ]
  },
  {
   "cell_type": "code",
   "execution_count": 79,
   "metadata": {
    "collapsed": false
   },
   "outputs": [
    {
     "name": "stdout",
     "output_type": "stream",
     "text": [
      "+--------------+\n",
      "|HostsDistintos|\n",
      "+--------------+\n",
      "|           311|\n",
      "+--------------+\n",
      "\n"
     ]
    }
   ],
   "source": [
    "hotsdistint = sqlContext.sql(\"\"\"\n",
    "    SELECT COUNT(DISTINCT host) AS HostsDistintos \n",
    "    FROM nasa\n",
    "\"\"\")\n",
    "hotsdistint.show()"
   ]
  },
  {
   "cell_type": "markdown",
   "metadata": {},
   "source": [
    "#### Contar el nº de hosts únicos cada día "
   ]
  },
  {
   "cell_type": "code",
   "execution_count": 82,
   "metadata": {
    "collapsed": false
   },
   "outputs": [
    {
     "name": "stdout",
     "output_type": "stream",
     "text": [
      "+-----------+-----------+\n",
      "|HostsUnicos|        dia|\n",
      "+-----------+-----------+\n",
      "|        311|01/Aug/1995|\n",
      "+-----------+-----------+\n",
      "\n"
     ]
    }
   ],
   "source": [
    "hostsdia = sqlContext.sql(\"\"\"\n",
    "    SELECT COUNT(DISTINCT host) AS HostsUnicos, date AS dia\n",
    "    FROM nasa\n",
    "    GROUP BY date\n",
    "\"\"\")\n",
    "hostsdia.show()"
   ]
  },
  {
   "cell_type": "markdown",
   "metadata": {},
   "source": [
    "#### Calcular la media de peticiones diarias por host "
   ]
  },
  {
   "cell_type": "code",
   "execution_count": 83,
   "metadata": {
    "collapsed": false
   },
   "outputs": [
    {
     "name": "stdout",
     "output_type": "stream",
     "text": [
      "+-----------+--------+--------------------+\n",
      "|      Fecha|   media|                host|\n",
      "+-----------+--------+--------------------+\n",
      "|01/Aug/1995| 20991.1|www-a2.proxy.aol.com|\n",
      "|01/Aug/1995| 6676.71|celebrian.otago.a...|\n",
      "|01/Aug/1995|  5774.4|sprite131.azstarn...|\n",
      "|01/Aug/1995|  7280.0|  van10275.direct.ca|\n",
      "|01/Aug/1995| 8274.28|   h96-158.ccnet.com|\n",
      "|01/Aug/1995| 27739.0|engei.engei-hs.oy...|\n",
      "|01/Aug/1995| 9324.53|      139.230.35.135|\n",
      "|01/Aug/1995|  4574.5|thunderbox.ho.bom...|\n",
      "|01/Aug/1995| 4173.63|        pm00.ldl.net|\n",
      "|01/Aug/1995|31753.09|  cs1-08.leh.ptd.net|\n",
      "|01/Aug/1995|15684.78|      198.248.59.123|\n",
      "|01/Aug/1995| 5461.88|stockyard17.onram...|\n",
      "|01/Aug/1995|  8041.0|dd01-045.compuser...|\n",
      "|01/Aug/1995|   995.0|ip-pdx8-00.telepo...|\n",
      "|01/Aug/1995|  3381.0|        203.10.76.34|\n",
      "|01/Aug/1995| 9136.63|       168.78.14.166|\n",
      "|01/Aug/1995|21918.29|ix-ir8-22.ix.netc...|\n",
      "|01/Aug/1995|67891.67|ad11-013.compuser...|\n",
      "|01/Aug/1995|34807.33|castles10.castles...|\n",
      "|01/Aug/1995| 5048.38|  vcc7.langara.bc.ca|\n",
      "+-----------+--------+--------------------+\n",
      "only showing top 20 rows\n",
      "\n"
     ]
    }
   ],
   "source": [
    "mediahost = sqlContext.sql(\"\"\"\n",
    "    SELECT date AS Fecha,  ROUND(AVG(size), 2) AS media, host\n",
    "    FROM nasa\n",
    "    GROUP BY date, host\n",
    "\"\"\")\n",
    "mediahost.show()"
   ]
  },
  {
   "cell_type": "markdown",
   "metadata": {},
   "source": [
    "#### Mostrar una lista de 40 endpoints distintos que generan código de respuesta = 404 "
   ]
  },
  {
   "cell_type": "code",
   "execution_count": 89,
   "metadata": {
    "collapsed": false
   },
   "outputs": [
    {
     "name": "stdout",
     "output_type": "stream",
     "text": [
      "+--------------------+\n",
      "|            endpoint|\n",
      "+--------------------+\n",
      "|/pub/winvn/readme...|\n",
      "|/elv/DELTA/uncons...|\n",
      "|/history/apollo/a...|\n",
      "|/history/apollo/a...|\n",
      "|     /sts-71/launch/|\n",
      "|/history/apollo/a...|\n",
      "|/history/apollo/a...|\n",
      "|/shuttle/resource...|\n",
      "|/www/software/win...|\n",
      "|/pub/winvn/releas...|\n",
      "|/history/apollo/a...|\n",
      "|/history/apollo/a...|\n",
      "|/history/history.htm|\n",
      "+--------------------+\n",
      "\n"
     ]
    }
   ],
   "source": [
    "endpoints404 = sqlContext.sql(\"\"\"\n",
    "    SELECT DISTINCT endpoint\n",
    "    FROM nasa\n",
    "    WHERE code = '404'\n",
    "    LIMIT 40\n",
    "\"\"\")\n",
    "endpoints404.show()"
   ]
  },
  {
   "cell_type": "markdown",
   "metadata": {},
   "source": [
    "#### Mostrar el top 25 de endpoints que más códigos de respuesta 404 generan "
   ]
  },
  {
   "cell_type": "code",
   "execution_count": 95,
   "metadata": {
    "collapsed": false
   },
   "outputs": [
    {
     "name": "stdout",
     "output_type": "stream",
     "text": [
      "+--------------------+---------+\n",
      "|            endpoint|codigo404|\n",
      "+--------------------+---------+\n",
      "|/pub/winvn/releas...|        4|\n",
      "|/history/apollo/a...|        4|\n",
      "|/history/apollo/a...|        2|\n",
      "|/history/apollo/a...|        2|\n",
      "|/pub/winvn/readme...|        2|\n",
      "|/elv/DELTA/uncons...|        1|\n",
      "|     /sts-71/launch/|        1|\n",
      "|/history/apollo/a...|        1|\n",
      "|/shuttle/resource...|        1|\n",
      "|/history/apollo/a...|        1|\n",
      "|/history/apollo/a...|        1|\n",
      "|/www/software/win...|        1|\n",
      "|/history/history.htm|        1|\n",
      "+--------------------+---------+\n",
      "\n"
     ]
    }
   ],
   "source": [
    "endpointstop25 = sqlContext.sql(\"\"\"\n",
    "    SELECT endpoint, COUNT(code) AS codigo404 \n",
    "    FROM nasa\n",
    "    WHERE code = '404'\n",
    "    GROUP BY endpoint\n",
    "    ORDER BY COUNT(code) DESC\n",
    "    LIMIT 25\n",
    "\"\"\")\n",
    "endpointstop25.show()"
   ]
  },
  {
   "cell_type": "markdown",
   "metadata": {},
   "source": [
    "#### El top 5 de días que se generaron código de respuestas 404 "
   ]
  },
  {
   "cell_type": "code",
   "execution_count": 96,
   "metadata": {
    "collapsed": false
   },
   "outputs": [
    {
     "name": "stdout",
     "output_type": "stream",
     "text": [
      "+-----------+------------------+\n",
      "|       date|TotalRespuestas404|\n",
      "+-----------+------------------+\n",
      "|01/Aug/1995|                22|\n",
      "+-----------+------------------+\n",
      "\n"
     ]
    }
   ],
   "source": [
    "top5dias = sqlContext.sql(\"\"\"\n",
    "    SELECT date, COUNT(code) AS TotalRespuestas404\n",
    "    FROM nasa\n",
    "    WHERE code = '404'\n",
    "    GROUP BY date\n",
    "    ORDER BY COUNT(code) DESC\n",
    "    LIMIT 5\n",
    "\"\"\")\n",
    "top5dias.show()"
   ]
  },
  {
   "cell_type": "code",
   "execution_count": 97,
   "metadata": {
    "collapsed": true
   },
   "outputs": [],
   "source": [
    "sc.stop()"
   ]
  }
 ],
 "metadata": {
  "kernelspec": {
   "display_name": "Python 3",
   "language": "python",
   "name": "python3"
  },
  "language_info": {
   "codemirror_mode": {
    "name": "ipython",
    "version": 3
   },
   "file_extension": ".py",
   "mimetype": "text/x-python",
   "name": "python",
   "nbconvert_exporter": "python",
   "pygments_lexer": "ipython3",
   "version": "3.5.2"
  }
 },
 "nbformat": 4,
 "nbformat_minor": 2
}
