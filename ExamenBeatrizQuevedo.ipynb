{
 "cells": [
  {
   "cell_type": "markdown",
   "metadata": {},
   "source": [
    "<h1><center> $\\color{black}{\\text{TAREA FINAL: Datos de vivienda}}$</center></h1>\n",
    "\n",
    "---\n",
    "\n",
    "<h3><center> $\\color{black}{\\text{Beatriz Quevedo Gómez}}$  </center></h3> \n",
    "<h4><center> $\\color{black}{\\text{ETL, enero 2021}}$  </center></h4>\n",
    "\n",
    "\n",
    "<p> El negocio inmobiliario es uno de los motores de la economía de España, el carácter turístico de nuesta península hace que sean muchos los inversores extranjeros que se decidan por buscar una inversión de bajo riesgos en nuestras ciudades costeras o grandes urbes. \n",
    "Muchas de estas inversiones se hacen sobre grandes bolsas de inmuebles que deben ser analizados previamente para comprobar la rentabilidad del porfolio </p>\n",
    "\n",
    "<!-- <p> En este caso vamos a trabajar con una tabla que contienen información de distintos inmuebles repartidos por una zona específica, sus carácterísticas y su precio </p>  -->"
   ]
  },
  {
   "cell_type": "markdown",
   "metadata": {},
   "source": [
    "Todas las cuestiones se deben realizar sobre el conjunto de casos que representen viviendas ubicadas en zonas residenciales **(alta, media y baja densidad)**"
   ]
  },
  {
   "cell_type": "markdown",
   "metadata": {},
   "source": [
    "**MUY IMPORTANTE:** En las otras prácticas he detectado colaboraciones involucrando varias personas y he sido flexible aunque a algunos os lo he mencionado en las correcciones, porque al final el trabajo de analista de datos es un trabajo colaborativo. Sin embargo, este trabajo es individual, así que cuidado con las colaboraciones."
   ]
  },
  {
   "cell_type": "markdown",
   "metadata": {},
   "source": [
    "Las variables de las que se compone el dataset son:"
   ]
  },
  {
   "cell_type": "markdown",
   "metadata": {},
   "source": [
    "|NOMBRE VARIABLE|DESCRIPTOR|VALORES|\n",
    "| --- | --- | --- |\n",
    "|Order|Variable de identificación|1 a 2930|\n",
    "|MS Zoning|Zona de ubicación de la vivienda|\"A rural, C comercial, FV residencial flotante, I industrial, RH residencial alta densidad, RL residencial baja densidad, RM residencial media densidad\"|\n",
    "|Lot Frontage|Longitud de la fachada en pies||\n",
    "|Lot Area|Superficie de la vivienda en pies cuadrados||\n",
    "|Land Contour|Contorno del terreno circundante|\"Lvl llano, Bnk Tipo bancal, HLS Ladera, Low Depresión\"|\n",
    "|Land Slope|Tipo de pendiente de la vivienda|\" Gtl pendiente suave, Mod pendiente moderada, Sev fuerte pendiente\"|\n",
    "|Overall Qual|Grado de calidad de materiales y acabado de la vivienda|De 1 (Muy pobre) a 10 (Excelente)|\n",
    "|Year Built|Año de construccion de la vivienda||\n",
    "|Year Remod/Add|Año de última reforma de la vivienda||\n",
    "|Mas Vnr Type|Tipo de revestimiento exterior|\" BrkCmn Ladrillo normal, BrkFace Ladrillo visto, CBlock Bloque de cemento, None Ninguna, Stone Piedra \"|\n",
    "|Exter Qual|Calidad de revestimiento exterior|\"Ex Excelente,Gd Bueno,TA Media,Fa Justo\"|\n",
    "|Bsmt Cond|Estado general del sótano|\"Ex Excelente, Gd Bueno, TA Media, Fa Justo, Po Pobre,Ss sin sótano\"|\n",
    "|Total Bsmt SF|Superficie del sótano en pies cuadrados|\n",
    "|Heating QC|Calidad de la calefacción|\"Ex Excelente,Gd Bueno,TA Media,Fa Justo,Po Pobre\"|\n",
    "|Central Air|Aire acondicionado centralizado|\"N No Y Sí\"|\n",
    "|Full Bath|Número de baños completo en planta||\n",
    "|Half Bath|Número de aseos en planta||\n",
    "|Bedroom AbvGr|Número de dormitorios en planta||\n",
    "|Kitchen AbvGr|Número de cocinas en planta||\n",
    "|Kitchen Qual|Calidad de cocinas|\"Ex Excelente,Gd Bueno,TA Media,Fa Justo,Po Pobre\"|\n",
    "|TotRms AbvGrd|Número total de habitaciones excluidos los cuartos de baño||\n",
    "|Garage Cars|Número de plazas de garaje||\n",
    "|Garage Area|Superficie del garaje|||\n",
    "|Garage Cond|Estado del garaje|\"Ex Excelente,Gd Bueno,TA Media,Fa Justo,Po Pobre,Sg sin garaje\"|\n",
    "|Pool Area|Superficie de la piscina en pies cuadrados|\n",
    "|Pool QC|Calidad de la piscina|\"Ex Excelente,Gd Bueno,TA Media,Fa Justo,Sp no hay piscina\"|\n",
    "|Mo Sold|mes de venta||\n",
    "|Yr Sold|año de venta||\n",
    "|SalePrice|precio de venta en dólares||"
   ]
  },
  {
   "cell_type": "markdown",
   "metadata": {},
   "source": [
    "Recomiendo al leer los datos, eliminar espacios de los nombres de las columnas, realiza un pequeño análisis inicial de los mismos. No olvides fijarte en los tipos de variables, que variables pueden tener tipos confundidos y corrige los. Sobre todo, trabaja con las fechas."
   ]
  },
  {
   "cell_type": "markdown",
   "metadata": {},
   "source": [
    "**NOTA:** Las tareas complementarias sirven para subir nota. El resto de preguntas valen igual y suman 10 puntos.\n",
    "\n",
    "***"
   ]
  },
  {
   "cell_type": "markdown",
   "metadata": {},
   "source": [
    "## Inicializar y cargar el contexto spark\n",
    "\n",
    "En este primer apartado se realizará el parseado y tratamiento de los datos, así como la inicialización y carga del contexto Spark y de las librerías.\n",
    "\n",
    "Se importa `pyspark` (una vez realizada la instalación de Spark a través de la terminal) y se cargan las librerías de los módulos `pyspark.sql` (**Row** para las filas de datos de un DataFrame, **Column** para las columnas) y **SparkContext** y **SQLContext** (el punto de partida para trabajar con datos estructurados –filas y columnas– en Spark) así como `SparkContext` (representa la conexión con Spark cluster, que puede ser usado para crear RDD) de pyspark, que se definirá como sc y `SparkSession`, que sirve para crear datasets de un determinado RDD."
   ]
  },
  {
   "cell_type": "code",
   "execution_count": 1,
   "metadata": {},
   "outputs": [],
   "source": [
    "import pyspark\n",
    "from pyspark.sql import Row\n",
    "from pyspark.sql import Column\n",
    "from pyspark import SparkContext\n",
    "from pyspark.sql import SQLContext\n",
    "from pyspark.sql import SparkSession\n",
    "\n",
    "sc = SparkContext.getOrCreate()\n",
    "spark = SparkSession(sc)"
   ]
  },
  {
   "cell_type": "markdown",
   "metadata": {},
   "source": [
    "Además, se cargan las líbrerías `pandas` y `numpy`, que se utilizarán a lo largo del trabajo, y `matplotlib` y `seaborn` para gráficos."
   ]
  },
  {
   "cell_type": "code",
   "execution_count": 2,
   "metadata": {},
   "outputs": [],
   "source": [
    "import pandas as pd\n",
    "import numpy as np\n",
    "import matplotlib.pyplot as plt\n",
    "import seaborn as sns"
   ]
  },
  {
   "cell_type": "markdown",
   "metadata": {},
   "source": [
    "Un fichero `xlsx`, procedente de excel se puede leer de varias maneras en **Spark** utilizando el paquete `spark-excel` de *crealytics*, una librería para consultar archivos de Excel con Spark. \n",
    "\n",
    "Una opción para cargar un fichero de excel, es:\n",
    "\n",
    "`` spark = SparkSession.builder \\\n",
    ".master(\"local\") \\\n",
    ".appName(\"Word Count\") \\\n",
    ".config(\"spark.jars.packages\", \"com.crealytics:spark-excel_2.12:0.13.6\") \\\n",
    ".getOrCreate() ``\n",
    "\n",
    "Configurando primero la sesión en spark con el paquete, para después crear un DataFrame con los datos importados de excel.\n",
    "\n",
    "`` df = spark.read.format(\"com.crealytics.spark.excel\") \\\n",
    ".option(\"header\", \"true\") \\\n",
    ".option(\"inferSchema\", \"true\") \\\n",
    ".option(\"dataAddress\", \"'NameOfYourExcelSheet'!A1\") \\\n",
    ".load(\"./data/BDpracticafinal2021.xlsx\") ``\n",
    "\n",
    "Otra opción es definir una función que realice esto para cada archivo (es más práctico que la primera opción cuando se tienen varios ficheros de datos). \n",
    "\n",
    "Nótese que *file_name* corresponde a la ruta del archivo.\n",
    "\n",
    "`` def get_df_from_excel(SQLContext, file_name):\n",
    "    return SQLContext.read.format(\"com.crealytics.spark.excel\") \\\n",
    "        .option(\"useHeader\", \"true\") \\\n",
    "        .option(\"treatEmptyValuesAsNulls\", \"true\") \\\n",
    "        .option(\"inferSchema\", \"true\") \\\n",
    "        .option(\"addColorColumns\", \"False\") \\\n",
    "        .option(\"maxRowsInMey\", 2000) \\\n",
    "        .option(\"sheetName\", \"Import\") \\\n",
    "        .load(file_name)\n",
    "get_df_from_excel(SQLContext, './data/BDpracticafinal2021.xlsx') ``\n",
    "\n",
    "No obstante, debido a problemas con los complementos que son necesarios para leer excel con Spark, ambas opciones dan error, ya que **no es posible hacerlo con Spark básico**. Por tanto se leerá el fichero como `csv`. \n",
    "\n",
    "Se cargará el fichero de datos (en csv) como *raw data*, es decir, los datos en bruto sin procesar, con ayuda de la función `textFile()` usándola en `sc` con el archivo como argumento y creando un RDD (`rawData`).\n",
    "\n",
    "El archivo se encuentra en una carpeta llamada `data`. "
   ]
  },
  {
   "cell_type": "code",
   "execution_count": 3,
   "metadata": {},
   "outputs": [],
   "source": [
    "dataFile = './data/BDpracticafinalCSV.csv'\n",
    "rawData = sc.textFile(dataFile)"
   ]
  },
  {
   "cell_type": "code",
   "execution_count": 4,
   "metadata": {},
   "outputs": [
    {
     "data": {
      "text/plain": [
       "['Order;MS Zoning;Lot Frontage;Lot Area;Land Contour;Land Slope;Overall Qual;Year Built;Year Remod/Add;Mas Vnr Type;Exter Qual;Bsmt Cond;Total Bsmt SF;Heating QC;Central Air;Full Bath;Half Bath;Bedroom AbvGr;Kitchen AbvGr;Kitchen Qual;TotRms AbvGrd;Garage Cars;Garage Area;Garage Cond;Pool Area;Pool QC;Mo Sold;Yr Sold;SalePrice',\n",
       " '1;RL;141;31770;Lvl;Gtl;6;1960;1960;Stone;TA;Gd;1080;Fa;Y;1;0;3;1;TA;7;2;528;TA;0;Sp;5;2010;215000']"
      ]
     },
     "execution_count": 4,
     "metadata": {},
     "output_type": "execute_result"
    }
   ],
   "source": [
    "rawData.take(2)"
   ]
  },
  {
   "cell_type": "markdown",
   "metadata": {},
   "source": [
    "Se aprecia cómo el RDD tienen en la primera fila el nombre de cada variable (es decir, las columnas), lo cual es el encabezado. \n",
    "\n",
    "Para ello, se asignará esta fila a un objeto con `rawData.take(1)[0]` para posteriormente aplicar un filtro `rawData.filter(lambda x: x !=headRaw)` que elimine este objeto, siendo headRaw el nombre del objeto creado. \n",
    "\n",
    "No será necesario tratar el nombre de las columas eliminando los espacios porque en el presente trabajo se accederá a ellas mediante su posición, no su nombre, ya que se elimina el encabezado y resulta más eficiente. (De querer realizar este tratamiento, se debería usar una Regular Expression que reemplace los espacios por `_` o eliminarlos, por ejemplo)\n",
    "\n",
    "Simultáneamente, se realizará un **parseado** de datos a través de la función `.map()` separando por punto coma `;`."
   ]
  },
  {
   "cell_type": "code",
   "execution_count": 5,
   "metadata": {
    "scrolled": true
   },
   "outputs": [
    {
     "data": {
      "text/plain": [
       "[['1',\n",
       "  'RL',\n",
       "  '141',\n",
       "  '31770',\n",
       "  'Lvl',\n",
       "  'Gtl',\n",
       "  '6',\n",
       "  '1960',\n",
       "  '1960',\n",
       "  'Stone',\n",
       "  'TA',\n",
       "  'Gd',\n",
       "  '1080',\n",
       "  'Fa',\n",
       "  'Y',\n",
       "  '1',\n",
       "  '0',\n",
       "  '3',\n",
       "  '1',\n",
       "  'TA',\n",
       "  '7',\n",
       "  '2',\n",
       "  '528',\n",
       "  'TA',\n",
       "  '0',\n",
       "  'Sp',\n",
       "  '5',\n",
       "  '2010',\n",
       "  '215000'],\n",
       " ['2',\n",
       "  'RH',\n",
       "  '80',\n",
       "  '11622',\n",
       "  'Lvl',\n",
       "  'Gtl',\n",
       "  '5',\n",
       "  '1961',\n",
       "  '1961',\n",
       "  'None',\n",
       "  'TA',\n",
       "  'TA',\n",
       "  '882',\n",
       "  'TA',\n",
       "  'Y',\n",
       "  '1',\n",
       "  '0',\n",
       "  '2',\n",
       "  '1',\n",
       "  'TA',\n",
       "  '5',\n",
       "  '1',\n",
       "  '730',\n",
       "  'TA',\n",
       "  '0',\n",
       "  'Sp',\n",
       "  '6',\n",
       "  '2010',\n",
       "  '105000']]"
      ]
     },
     "execution_count": 5,
     "metadata": {},
     "output_type": "execute_result"
    }
   ],
   "source": [
    "headRaw = rawData.take(1)[0]\n",
    "filteredRaw = rawData.filter(lambda x: x !=headRaw)\n",
    "splitRaw = filteredRaw.map(lambda x: x.split(';'))\n",
    "splitRaw.take(2)"
   ]
  },
  {
   "cell_type": "markdown",
   "metadata": {},
   "source": [
    "Adicionalmente, como el enunciado dice que todas las cuestiones se deben realizar sobre el conjunto de casos que representen viviendas ubicadas en **zonas residenciales** (*alta, media y baja densidad*), se realizará un filtro para limitar el RDD a unicamente las filas que contengan estos valores. \n",
    "\n",
    "Además en este filtro se aplicará a la columna que establece las zonas una función que transforme los errores de codificación, ya que dentro de las zonas residenciales de baja densidad (`RL`) se encuentran valores codificados como `rL` y `Rl`."
   ]
  },
  {
   "cell_type": "code",
   "execution_count": 6,
   "metadata": {},
   "outputs": [],
   "source": [
    "def zona_transf(x):\n",
    "    if x in \"Rl\":\n",
    "        return \"RL\"\n",
    "    elif x in \"rL\":\n",
    "        return \"RL\"\n",
    "    else:\n",
    "        return x"
   ]
  },
  {
   "cell_type": "code",
   "execution_count": 7,
   "metadata": {
    "scrolled": true
   },
   "outputs": [
    {
     "data": {
      "text/plain": [
       "[['1',\n",
       "  'RL',\n",
       "  '141',\n",
       "  '31770',\n",
       "  'Lvl',\n",
       "  'Gtl',\n",
       "  '6',\n",
       "  '1960',\n",
       "  '1960',\n",
       "  'Stone',\n",
       "  'TA',\n",
       "  'Gd',\n",
       "  '1080',\n",
       "  'Fa',\n",
       "  'Y',\n",
       "  '1',\n",
       "  '0',\n",
       "  '3',\n",
       "  '1',\n",
       "  'TA',\n",
       "  '7',\n",
       "  '2',\n",
       "  '528',\n",
       "  'TA',\n",
       "  '0',\n",
       "  'Sp',\n",
       "  '5',\n",
       "  '2010',\n",
       "  '215000']]"
      ]
     },
     "execution_count": 7,
     "metadata": {},
     "output_type": "execute_result"
    }
   ],
   "source": [
    "data = splitRaw.filter(lambda x: zona_transf(x[1]) == 'RL' or x[1] == 'RM' or x[1] == 'RH')\n",
    "data.take(1)"
   ]
  },
  {
   "cell_type": "markdown",
   "metadata": {},
   "source": [
    "Por lo tanto la longitud del RDD será de **2768 filas**."
   ]
  },
  {
   "cell_type": "code",
   "execution_count": 8,
   "metadata": {
    "scrolled": true
   },
   "outputs": [
    {
     "data": {
      "text/plain": [
       "2768"
      ]
     },
     "execution_count": 8,
     "metadata": {},
     "output_type": "execute_result"
    }
   ],
   "source": [
    "data.map(lambda x: x[0]).count()"
   ]
  },
  {
   "cell_type": "markdown",
   "metadata": {},
   "source": [
    "Para ver los tipos de cada columna se transforma el RDD en un dataFrame (se ejecuta antes la lína con el **contexto SQL** para que no de problemas), obteniendo el esquema."
   ]
  },
  {
   "cell_type": "code",
   "execution_count": 9,
   "metadata": {},
   "outputs": [],
   "source": [
    "from pyspark.sql import SQLContext\n",
    "SQLContext = SQLContext(sc)"
   ]
  },
  {
   "cell_type": "code",
   "execution_count": 10,
   "metadata": {
    "scrolled": true
   },
   "outputs": [
    {
     "name": "stdout",
     "output_type": "stream",
     "text": [
      "root\n",
      " |-- _1: string (nullable = true)\n",
      " |-- _2: string (nullable = true)\n",
      " |-- _3: string (nullable = true)\n",
      " |-- _4: string (nullable = true)\n",
      " |-- _5: string (nullable = true)\n",
      " |-- _6: string (nullable = true)\n",
      " |-- _7: string (nullable = true)\n",
      " |-- _8: string (nullable = true)\n",
      " |-- _9: string (nullable = true)\n",
      " |-- _10: string (nullable = true)\n",
      " |-- _11: string (nullable = true)\n",
      " |-- _12: string (nullable = true)\n",
      " |-- _13: string (nullable = true)\n",
      " |-- _14: string (nullable = true)\n",
      " |-- _15: string (nullable = true)\n",
      " |-- _16: string (nullable = true)\n",
      " |-- _17: string (nullable = true)\n",
      " |-- _18: string (nullable = true)\n",
      " |-- _19: string (nullable = true)\n",
      " |-- _20: string (nullable = true)\n",
      " |-- _21: string (nullable = true)\n",
      " |-- _22: string (nullable = true)\n",
      " |-- _23: string (nullable = true)\n",
      " |-- _24: string (nullable = true)\n",
      " |-- _25: string (nullable = true)\n",
      " |-- _26: string (nullable = true)\n",
      " |-- _27: string (nullable = true)\n",
      " |-- _28: string (nullable = true)\n",
      " |-- _29: string (nullable = true)\n",
      "\n"
     ]
    }
   ],
   "source": [
    "dfData = SQLContext.createDataFrame(data)\n",
    "dfData.registerTempTable(\"dfData\")\n",
    "dfData.printSchema()"
   ]
  },
  {
   "cell_type": "markdown",
   "metadata": {},
   "source": [
    "Como se puede apreciar, todas las columas son de tipo **string**, por lo que a continuación se realizarán las transformaciones necesarias para que cada columna tenga su tipo correcto."
   ]
  },
  {
   "cell_type": "code",
   "execution_count": 11,
   "metadata": {},
   "outputs": [],
   "source": [
    "def type_float(x):\n",
    "    if x == '':\n",
    "        xn = 0\n",
    "    else:\n",
    "        xn = float(x)\n",
    "    return(xn)"
   ]
  },
  {
   "cell_type": "code",
   "execution_count": 12,
   "metadata": {},
   "outputs": [],
   "source": [
    "data = data.map(lambda x: [int(x[0]), x[1], type_float(x[2]), type_float(x[3]),\n",
    "                                x[4], x[5], type_float(x[6]), str(x[7]), \n",
    "                                type_float(x[8]), x[9], x[10], x[11], type_float(x[12]),\n",
    "                                x[13], x[14], type_float(x[15]), type_float(x[16]),\n",
    "                                type_float(x[17]), type_float(x[18]), x[19], \n",
    "                                type_float(x[20]), type_float(x[21]), type_float(x[22]),\n",
    "                                x[23], type_float(x[24]), x[25], type_float(x[26]), \n",
    "                                x[27], type_float(x[28])])\n"
   ]
  },
  {
   "cell_type": "code",
   "execution_count": 13,
   "metadata": {
    "scrolled": true
   },
   "outputs": [
    {
     "name": "stdout",
     "output_type": "stream",
     "text": [
      "root\n",
      " |-- _1: long (nullable = true)\n",
      " |-- _2: string (nullable = true)\n",
      " |-- _3: double (nullable = true)\n",
      " |-- _4: double (nullable = true)\n",
      " |-- _5: string (nullable = true)\n",
      " |-- _6: string (nullable = true)\n",
      " |-- _7: double (nullable = true)\n",
      " |-- _8: string (nullable = true)\n",
      " |-- _9: double (nullable = true)\n",
      " |-- _10: string (nullable = true)\n",
      " |-- _11: string (nullable = true)\n",
      " |-- _12: string (nullable = true)\n",
      " |-- _13: double (nullable = true)\n",
      " |-- _14: string (nullable = true)\n",
      " |-- _15: string (nullable = true)\n",
      " |-- _16: double (nullable = true)\n",
      " |-- _17: double (nullable = true)\n",
      " |-- _18: double (nullable = true)\n",
      " |-- _19: double (nullable = true)\n",
      " |-- _20: string (nullable = true)\n",
      " |-- _21: double (nullable = true)\n",
      " |-- _22: double (nullable = true)\n",
      " |-- _23: double (nullable = true)\n",
      " |-- _24: string (nullable = true)\n",
      " |-- _25: double (nullable = true)\n",
      " |-- _26: string (nullable = true)\n",
      " |-- _27: double (nullable = true)\n",
      " |-- _28: string (nullable = true)\n",
      " |-- _29: double (nullable = true)\n",
      "\n"
     ]
    }
   ],
   "source": [
    "dfData = SQLContext.createDataFrame(data)\n",
    "dfData.registerTempTable(\"dfData\")\n",
    "dfData.printSchema()"
   ]
  },
  {
   "cell_type": "markdown",
   "metadata": {},
   "source": [
    "Finalmente se puede apreciar que los datos han sido transformados a su tipo correspondiente de manera satisfactoria."
   ]
  },
  {
   "cell_type": "markdown",
   "metadata": {},
   "source": [
    "***"
   ]
  },
  {
   "cell_type": "markdown",
   "metadata": {},
   "source": [
    "## 2. Cuántas viviendas distintas encontramos en el dataset? ¿Se repite alguna? Tiene sentido que haya duplicadas? ¿Qué podemos hacer con las duplicadas?"
   ]
  },
  {
   "cell_type": "markdown",
   "metadata": {},
   "source": [
    "Mediante una función `.count()` aplicada a la primera columna (*aunque da igual a cuál*) se observa que el dataset cuenta con datos de **2768 viviendas**, como se ha mencionado anteriormente."
   ]
  },
  {
   "cell_type": "code",
   "execution_count": 14,
   "metadata": {
    "scrolled": true
   },
   "outputs": [
    {
     "data": {
      "text/plain": [
       "2768"
      ]
     },
     "execution_count": 14,
     "metadata": {},
     "output_type": "execute_result"
    }
   ],
   "source": [
    "data.map(lambda x: x[0]).count()"
   ]
  },
  {
   "cell_type": "markdown",
   "metadata": {},
   "source": [
    "Sin embargo, de estas 2768 tan solo **hay 2762 viviendas distintas**, lo que significa que hay **6 filas repetidas**."
   ]
  },
  {
   "cell_type": "code",
   "execution_count": 15,
   "metadata": {},
   "outputs": [
    {
     "data": {
      "text/plain": [
       "2762"
      ]
     },
     "execution_count": 15,
     "metadata": {},
     "output_type": "execute_result"
    }
   ],
   "source": [
    "data.map(lambda x: x[0]).distinct().count()"
   ]
  },
  {
   "cell_type": "markdown",
   "metadata": {},
   "source": [
    "Por tanto se **eliminarán los duplicados** mediante `dropDuplicates()`, función que se realiza sobre un dataFrame de los datos, ya que son filas que no proporcionan información nueva, meten ruido, y además en un dataset con 2768 filas, eliminar 6 no supone ningún problema a los análisis y ejercicios posteriores."
   ]
  },
  {
   "cell_type": "code",
   "execution_count": 16,
   "metadata": {},
   "outputs": [],
   "source": [
    "from pyspark.sql import SQLContext\n",
    "SQLContext = SQLContext(sc)"
   ]
  },
  {
   "cell_type": "code",
   "execution_count": 17,
   "metadata": {},
   "outputs": [
    {
     "data": {
      "text/plain": [
       "2762"
      ]
     },
     "execution_count": 17,
     "metadata": {},
     "output_type": "execute_result"
    }
   ],
   "source": [
    "dfData = SQLContext.createDataFrame(data)\n",
    "dfData.registerTempTable(\"dfData\")\n",
    "dfData.dropDuplicates().count()"
   ]
  },
  {
   "cell_type": "markdown",
   "metadata": {},
   "source": [
    "Se comprueba que se ha realizado bien el proceso de eliminar los valores duplicados."
   ]
  },
  {
   "cell_type": "code",
   "execution_count": 18,
   "metadata": {},
   "outputs": [
    {
     "data": {
      "text/plain": [
       "2762"
      ]
     },
     "execution_count": 18,
     "metadata": {},
     "output_type": "execute_result"
    }
   ],
   "source": [
    "dfClean = dfData.dropDuplicates().orderBy(dfData[0])\n",
    "dfClean.count()"
   ]
  },
  {
   "cell_type": "markdown",
   "metadata": {},
   "source": [
    "Y se realiza una tabla del dataset completo para asegurarse de que las filas están ordenadas en función de la primera columna, `Order`."
   ]
  },
  {
   "cell_type": "code",
   "execution_count": 19,
   "metadata": {
    "scrolled": true
   },
   "outputs": [
    {
     "name": "stdout",
     "output_type": "stream",
     "text": [
      "+---+---+-----+-------+---+---+---+----+------+-------+---+---+------+---+---+---+---+---+---+---+----+---+-----+---+---+---+---+----+--------+\n",
      "| _1| _2|   _3|     _4| _5| _6| _7|  _8|    _9|    _10|_11|_12|   _13|_14|_15|_16|_17|_18|_19|_20| _21|_22|  _23|_24|_25|_26|_27| _28|     _29|\n",
      "+---+---+-----+-------+---+---+---+----+------+-------+---+---+------+---+---+---+---+---+---+---+----+---+-----+---+---+---+---+----+--------+\n",
      "|  1| RL|141.0|31770.0|Lvl|Gtl|6.0|1960|1960.0|  Stone| TA| Gd|1080.0| Fa|  Y|1.0|0.0|3.0|1.0| TA| 7.0|2.0|528.0| TA|0.0| Sp|5.0|2010|215000.0|\n",
      "|  2| RH| 80.0|11622.0|Lvl|Gtl|5.0|1961|1961.0|   None| TA| TA| 882.0| TA|  Y|1.0|0.0|2.0|1.0| TA| 5.0|1.0|730.0| TA|0.0| Sp|6.0|2010|105000.0|\n",
      "|  3| RL| 81.0|14267.0|Lvl|Gtl|6.0|1958|1958.0|BrkFace| TA| TA|1329.0| TA|  Y|1.0|1.0|3.0|1.0| Gd| 6.0|1.0|312.0| TA|0.0| Sp|6.0|2010|172000.0|\n",
      "|  4| RL| 93.0|11160.0|Lvl|Gtl|7.0|1968|1968.0|   None| Gd| TA|2110.0| Ex|  Y|2.0|1.0|3.0|1.0| Ex| 8.0|2.0|522.0| TA|0.0| Sp|4.0|2010|244000.0|\n",
      "|  5| RL| 74.0|13830.0|Lvl|Gtl|5.0|1997|1998.0|   None| TA| TA| 928.0| Gd|  Y|2.0|1.0|3.0|1.0| TA| 6.0|2.0|482.0| TA|0.0| Sp|3.0|2010|189900.0|\n",
      "|  6| RL| 78.0| 9978.0|Lvl|Gtl|6.0|1998|1998.0|BrkFace| TA| TA| 926.0| Ex|  Y|2.0|1.0|3.0|1.0| Gd| 7.0|2.0|470.0| TA|0.0| Sp|6.0|2010|195500.0|\n",
      "|  7| RL| 41.0| 4920.0|Lvl|Gtl|8.0|2001|2001.0|   None| Gd| TA|1338.0| Ex|  Y|2.0|0.0|2.0|1.0| Gd| 6.0|2.0|582.0| TA|0.0| Sp|4.0|2010|213500.0|\n",
      "|  8| RL| 43.0| 5005.0|HLS|Gtl|8.0|1992|1992.0|   None| Gd| TA|1280.0| Ex|  Y|2.0|0.0|2.0|1.0| Gd| 5.0|2.0|506.0| TA|0.0| Sp|1.0|2010|191500.0|\n",
      "|  9| RL| 39.0| 5389.0|Lvl|Gtl|8.0|1995|1996.0|   None| Gd| TA|1595.0| Ex|  Y|2.0|0.0|2.0|1.0| Gd| 5.0|2.0|608.0| TA|0.0| Sp|3.0|2010|236500.0|\n",
      "| 10| RL| 60.0| 7500.0|Lvl|Gtl|7.0|1999|1999.0|   None| TA| TA| 994.0| Gd|  Y|2.0|1.0|3.0|1.0| Gd| 7.0|2.0|442.0| TA|0.0| Sp|6.0|2010|189000.0|\n",
      "| 11| RL| 75.0|10000.0|Lvl|Gtl|6.0|1993|1994.0|   None| TA| TA| 763.0| Gd|  Y|2.0|1.0|3.0|1.0| TA| 7.0|2.0|440.0| TA|0.0| Sp|4.0|2010|175900.0|\n",
      "| 12| RL| null| 7980.0|Lvl|Gtl|6.0|1992|2007.0|   None| TA| TA|1168.0| Ex|  Y|2.0|0.0|3.0|1.0| TA| 6.0|2.0|420.0| TA|0.0| Sp|3.0|2010|185000.0|\n",
      "| 13| RL| 63.0| 8402.0|Lvl|Gtl|6.0|1998|1998.0|   None| TA| TA| 789.0| Gd|  Y|2.0|1.0|3.0|1.0| TA| 7.0|2.0|393.0| TA|0.0| Sp|5.0|2010|180400.0|\n",
      "| 14| RL| 85.0|10176.0|Lvl|Gtl|7.0|1990|1990.0|   None| TA| TA|1300.0| Gd|  Y|1.0|1.0|2.0|1.0| Gd| 5.0|2.0|506.0| TA|0.0| Sp|2.0|2010|171500.0|\n",
      "| 15| RL| null| 6820.0|Lvl|Gtl|8.0|1985|1985.0|   None| Gd| TA|1488.0| TA|  Y|1.0|1.0|1.0|1.0| Gd| 4.0|2.0|528.0| TA|0.0| Sp|6.0|2010|212000.0|\n",
      "| 16| RL| 47.0|53504.0|HLS|Mod|8.0|2003|2003.0|BrkFace| Ex| TA|1650.0| Ex|  Y|3.0|1.0|4.0|1.0| Ex|12.0|3.0|841.0| TA|0.0| Sp|6.0|2010|538000.0|\n",
      "| 17| RL|152.0|12134.0|Bnk|Mod|8.0|1988|2005.0|   None| Gd| TA| 559.0| Gd|  Y|2.0|0.0|4.0|1.0| TA| 8.0|2.0|492.0| TA|0.0| Sp|6.0|2010|164000.0|\n",
      "| 18| RL| 88.0|11394.0|Lvl|Gtl|9.0|2010|2010.0|  Stone| Gd| TA|1856.0| Ex|  Y|1.0|1.0|1.0|1.0| Ex| 8.0|3.0|834.0| TA|0.0| Sp|6.0|2010|394432.0|\n",
      "| 19| RL|140.0|19138.0|Lvl|Gtl|4.0|1951|1951.0|   None| TA| TA| 864.0| Ex|  Y|1.0|0.0|2.0|1.0| TA| 4.0|2.0|400.0| TA|0.0| Sp|6.0|2010|141000.0|\n",
      "| 20| RL| 85.0|13175.0|Lvl|Gtl|6.0|1978|1988.0|  Stone| TA| TA|1542.0| TA|  Y|2.0|0.0|3.0|1.0| TA| 7.0|2.0|500.0| TA|0.0| Sp|2.0|2010|210000.0|\n",
      "+---+---+-----+-------+---+---+---+----+------+-------+---+---+------+---+---+---+---+---+---+---+----+---+-----+---+---+---+---+----+--------+\n",
      "only showing top 20 rows\n",
      "\n"
     ]
    }
   ],
   "source": [
    "dfClean.show()"
   ]
  },
  {
   "cell_type": "markdown",
   "metadata": {},
   "source": [
    "Finalmente este dataFrame se convierte en un RDD que será el RDD base de los ejercicios:"
   ]
  },
  {
   "cell_type": "code",
   "execution_count": 20,
   "metadata": {},
   "outputs": [],
   "source": [
    "dataClean = dfClean.rdd.map(list)"
   ]
  },
  {
   "cell_type": "markdown",
   "metadata": {},
   "source": [
    "***"
   ]
  },
  {
   "cell_type": "markdown",
   "metadata": {},
   "source": [
    "## 3. ¿Podrías decirme el total de inmuebles y el precio medio (Sale Price) de cada zona (MS Zoning)?"
   ]
  },
  {
   "cell_type": "markdown",
   "metadata": {},
   "source": [
    "Como se ha observado anteriormente, hay tres zonas, RL, RH y RM:"
   ]
  },
  {
   "cell_type": "code",
   "execution_count": 21,
   "metadata": {
    "scrolled": true
   },
   "outputs": [
    {
     "data": {
      "text/plain": [
       "['RL', 'RH', 'RM']"
      ]
     },
     "execution_count": 21,
     "metadata": {},
     "output_type": "execute_result"
    }
   ],
   "source": [
    "dataClean.map(lambda x: zona_transf(x[1])).distinct().collect()"
   ]
  },
  {
   "cell_type": "markdown",
   "metadata": {},
   "source": [
    "Para saber el **precio medio** de la `zona RH (alta densidad)` se aplica un filtro limitando los registros a estas zonas. Se obtiene que el precio medio es de **136419.78**."
   ]
  },
  {
   "cell_type": "code",
   "execution_count": 22,
   "metadata": {
    "scrolled": true
   },
   "outputs": [
    {
     "data": {
      "text/plain": [
       "136419.77777777775"
      ]
     },
     "execution_count": 22,
     "metadata": {},
     "output_type": "execute_result"
    }
   ],
   "source": [
    "RH = dataClean.filter(lambda x: x[1] == 'RH')\n",
    "RH.map(lambda x: x[28]).mean()"
   ]
  },
  {
   "cell_type": "markdown",
   "metadata": {},
   "source": [
    "Y contando cuántas viviendas pertecen a esta zona mediante `count()`, se observa que son **27** los **inmuebles** de la zona de alta densidad."
   ]
  },
  {
   "cell_type": "code",
   "execution_count": 23,
   "metadata": {},
   "outputs": [
    {
     "data": {
      "text/plain": [
       "27"
      ]
     },
     "execution_count": 23,
     "metadata": {},
     "output_type": "execute_result"
    }
   ],
   "source": [
    "RH.count()"
   ]
  },
  {
   "cell_type": "markdown",
   "metadata": {},
   "source": [
    "Se realiza el mismo proceso con la `zona de densidad baja`, concluyendo que el precio medio es de **191283.25** y es la zona con más inmuebles en el dataset (**2273**)."
   ]
  },
  {
   "cell_type": "code",
   "execution_count": 24,
   "metadata": {
    "scrolled": true
   },
   "outputs": [
    {
     "data": {
      "text/plain": [
       "191283.25164980206"
      ]
     },
     "execution_count": 24,
     "metadata": {},
     "output_type": "execute_result"
    }
   ],
   "source": [
    "RL = dataClean.filter(lambda x: zona_transf(x[1]) == 'RL')\n",
    "RL.map(lambda x: x[28]).mean()"
   ]
  },
  {
   "cell_type": "code",
   "execution_count": 25,
   "metadata": {
    "scrolled": true
   },
   "outputs": [
    {
     "data": {
      "text/plain": [
       "2273"
      ]
     },
     "execution_count": 25,
     "metadata": {},
     "output_type": "execute_result"
    }
   ],
   "source": [
    "RL.count()"
   ]
  },
  {
   "cell_type": "markdown",
   "metadata": {},
   "source": [
    "Finalmente, en la `zona de densidad media` hay **462** inmuebles con un precio medio de **126781.39**."
   ]
  },
  {
   "cell_type": "code",
   "execution_count": 26,
   "metadata": {},
   "outputs": [
    {
     "data": {
      "text/plain": [
       "126781.39393939397"
      ]
     },
     "execution_count": 26,
     "metadata": {},
     "output_type": "execute_result"
    }
   ],
   "source": [
    "RM = dataClean.filter(lambda x: x[1] == 'RM')\n",
    "RM.map(lambda x: x[28]).mean()"
   ]
  },
  {
   "cell_type": "code",
   "execution_count": 27,
   "metadata": {
    "scrolled": true
   },
   "outputs": [
    {
     "data": {
      "text/plain": [
       "462"
      ]
     },
     "execution_count": 27,
     "metadata": {},
     "output_type": "execute_result"
    }
   ],
   "source": [
    "RM.count()"
   ]
  },
  {
   "cell_type": "markdown",
   "metadata": {},
   "source": [
    "Se suma el conteo de cada zona para asegurarse de que se ha realizado bien el ejercicio."
   ]
  },
  {
   "cell_type": "code",
   "execution_count": 28,
   "metadata": {},
   "outputs": [
    {
     "data": {
      "text/plain": [
       "2762"
      ]
     },
     "execution_count": 28,
     "metadata": {},
     "output_type": "execute_result"
    }
   ],
   "source": [
    "RH.count()+RL.count()+RM.count()"
   ]
  },
  {
   "cell_type": "markdown",
   "metadata": {},
   "source": [
    "***"
   ]
  },
  {
   "cell_type": "markdown",
   "metadata": {},
   "source": [
    "## 4. Media de Total Bsmt SF por cada década de construcción calculada a partir de Year Built. "
   ]
  },
  {
   "cell_type": "markdown",
   "metadata": {},
   "source": [
    "Para realizar el ejercicio primero se observa de qué a qué década se comprenden los datos correspondientes al año de construcción de las viviendas (`Year Built`): de la década de 1870s hasta 2010. En total, 14 décadas diferentes."
   ]
  },
  {
   "cell_type": "code",
   "execution_count": 29,
   "metadata": {},
   "outputs": [
    {
     "data": {
      "text/plain": [
       "'1872'"
      ]
     },
     "execution_count": 29,
     "metadata": {},
     "output_type": "execute_result"
    }
   ],
   "source": [
    "dataClean.map(lambda x: x[7]).min()"
   ]
  },
  {
   "cell_type": "code",
   "execution_count": 30,
   "metadata": {
    "scrolled": false
   },
   "outputs": [
    {
     "data": {
      "text/plain": [
       "'2010'"
      ]
     },
     "execution_count": 30,
     "metadata": {},
     "output_type": "execute_result"
    }
   ],
   "source": [
    "dataClean.map(lambda x: x[7]).max()"
   ]
  },
  {
   "cell_type": "markdown",
   "metadata": {},
   "source": [
    "Para separar las décadas del RDD se realiza una función que se queda con los tres primeros valores del año y le añade un \"0s\". Es por esto por lo que al comienzo del trabajo, en el primer aparado del parseado, se codifica esta columna como cadena aunque sea una fecha, ya que de esta forma no dará problemas la aplicación de la función. "
   ]
  },
  {
   "cell_type": "code",
   "execution_count": 31,
   "metadata": {},
   "outputs": [],
   "source": [
    "def decadas(x):\n",
    "    return x[0:3] + '0s';"
   ]
  },
  {
   "cell_type": "markdown",
   "metadata": {},
   "source": [
    "Primero se forma el RDD con el que se trabajará en este ejercicio: compuesto por dos columnas, las décadas (ya transformadas por la función) y la superficie del sótano en pies cuadrados (`Total Bsmt SF`)."
   ]
  },
  {
   "cell_type": "code",
   "execution_count": 32,
   "metadata": {
    "scrolled": true
   },
   "outputs": [
    {
     "data": {
      "text/plain": [
       "[['1870s', 780.0],\n",
       " ['1870s', 684.0],\n",
       " ['1870s', 819.0],\n",
       " ['1880s', 777.0],\n",
       " ['1880s', 1240.0]]"
      ]
     },
     "execution_count": 32,
     "metadata": {},
     "output_type": "execute_result"
    }
   ],
   "source": [
    "dec = dataClean.sortBy(lambda x: decadas(x[7])).map(lambda x: [decadas(x[7]), x[12]])\n",
    "dec.take(5)"
   ]
  },
  {
   "cell_type": "markdown",
   "metadata": {},
   "source": [
    "Posteriormente, a este RDD se le aplica un `combineByKey`, que hace la media la superficie del sótano (en pies cuadrados) y ordena los datos de mayor a menor. "
   ]
  },
  {
   "cell_type": "code",
   "execution_count": 33,
   "metadata": {
    "scrolled": true
   },
   "outputs": [
    {
     "data": {
      "text/plain": [
       "[('2010s', 1539.0),\n",
       " ('2000s', 1348.47),\n",
       " ('1990s', 1138.81),\n",
       " ('1980s', 1086.0),\n",
       " ('1960s', 1082.67),\n",
       " ('1950s', 968.3),\n",
       " ('1970s', 952.72),\n",
       " ('1890s', 885.58),\n",
       " ('1880s', 836.0),\n",
       " ('1920s', 833.94),\n",
       " ('1910s', 788.3),\n",
       " ('1930s', 769.92),\n",
       " ('1870s', 761.0),\n",
       " ('1900s', 720.14),\n",
       " ('1940s', 706.93)]"
      ]
     },
     "execution_count": 33,
     "metadata": {},
     "output_type": "execute_result"
    }
   ],
   "source": [
    "avg = dec.combineByKey(lambda value: (value, 1),\n",
    "                           lambda x, value: (x[0] + value, x[1] + 1),\n",
    "                           lambda x, y: (x[0] + y[0], x[1] + y[1])\n",
    "                           )\n",
    "\n",
    "avg = avg.map(lambda x: (x[0], round(x[1][0]/x[1][1],2)))\n",
    "avg.sortBy(lambda x: x[1], ascending = False).collect()"
   ]
  },
  {
   "cell_type": "markdown",
   "metadata": {},
   "source": [
    "* De esta manera se puede observar que la década con **más pies cuadrados en los sótanos es la de 2010**, mientras que la que **menos** es la década de los **40s**. \n",
    "\n",
    "    Además, parece que en las últimas cuatro décadas **ha ido aumentando** la superficie de los sótanos. "
   ]
  },
  {
   "cell_type": "markdown",
   "metadata": {},
   "source": [
    "## ¿Cuál es la decada de construcción con viviendas mejor acondicionadas para el frío (Heating QC)?"
   ]
  },
  {
   "cell_type": "markdown",
   "metadata": {},
   "source": [
    "En la segunda parte del cuarto aparado se pide comparar la calidad de la calefacción con las décadas de construccion. Para ello se utilizará la agrupación realizada en el apartado anterior.\n",
    "\n",
    "Se observan cuáles son los valores que puede tomar la calidad:"
   ]
  },
  {
   "cell_type": "code",
   "execution_count": 34,
   "metadata": {},
   "outputs": [
    {
     "data": {
      "text/plain": [
       "['TA', 'Fa', 'Gd', 'Po', 'Ex']"
      ]
     },
     "execution_count": 34,
     "metadata": {},
     "output_type": "execute_result"
    }
   ],
   "source": [
    "dataClean.map(lambda x: x[13]).distinct().take(9)"
   ]
  },
  {
   "cell_type": "markdown",
   "metadata": {},
   "source": [
    "Primero se crea el RDD que junte las décadas de cada vivienda junto con su estátus de calidad.\n",
    "\n",
    "TA corresponde a calidad **media**, Fa a **justa**, Gd a **buena**, Po a **pobre** y Ex a **excelente**."
   ]
  },
  {
   "cell_type": "code",
   "execution_count": 35,
   "metadata": {
    "scrolled": true
   },
   "outputs": [],
   "source": [
    "heatingQC = dataClean.sortBy(lambda x: decadas(x[7])).map(lambda x: [decadas(x[7]), x[13]])"
   ]
  },
  {
   "cell_type": "markdown",
   "metadata": {},
   "source": [
    "Se aplica `.reduceByKey()`, que opera sobre pares de clave-valor (x, y en este caso) y fusiona los valores de cada clave. Por lo tanto en este caso funciona como un .count() de cuántos valores de calidad (independientemente del nivel) hay en cada década. Esto es equivalente al número de viviendas que pertenecen a cada década. \n",
    "\n",
    "Además, mediante `.sortBy()` se ordena de mayor a menor número de viviendas. "
   ]
  },
  {
   "cell_type": "code",
   "execution_count": 36,
   "metadata": {
    "scrolled": true
   },
   "outputs": [
    {
     "data": {
      "text/plain": [
       "[('2000s', 663),\n",
       " ('1970s', 364),\n",
       " ('1960s', 357),\n",
       " ('1950s', 335),\n",
       " ('1990s', 313),\n",
       " ('1920s', 190),\n",
       " ('1940s', 149),\n",
       " ('1980s', 120),\n",
       " ('1930s', 107),\n",
       " ('1910s', 103),\n",
       " ('1900s', 36),\n",
       " ('1890s', 12),\n",
       " ('1880s', 8),\n",
       " ('1870s', 3),\n",
       " ('2010s', 2)]"
      ]
     },
     "execution_count": 36,
     "metadata": {},
     "output_type": "execute_result"
    }
   ],
   "source": [
    "countFrio = heatingQC.map(lambda x: (x[0],1)).reduceByKey(lambda x, y: x + y).sortBy(lambda x: x[1], False)\n",
    "countFrio.collect()\n",
    "    "
   ]
  },
  {
   "cell_type": "markdown",
   "metadata": {},
   "source": [
    "Así se puede ver cómo los años 80 y 70 del siglo XIX tienen muy pocas observaciones en el dataset, como ocurre con 2010.\n",
    "\n",
    "Esto se compara con un segundo RDD que también realiza un `.reduceByKey()` y un `.sortBy()`, pero restringiendo con un filtro los valores de calidad **Excelente** o **Buena**. "
   ]
  },
  {
   "cell_type": "code",
   "execution_count": 37,
   "metadata": {
    "scrolled": true
   },
   "outputs": [
    {
     "data": {
      "text/plain": [
       "[('2000s', 663),\n",
       " ('1990s', 305),\n",
       " ('1950s', 173),\n",
       " ('1960s', 167),\n",
       " ('1970s', 109),\n",
       " ('1920s', 94),\n",
       " ('1940s', 82),\n",
       " ('1910s', 66),\n",
       " ('1930s', 62),\n",
       " ('1980s', 62),\n",
       " ('1900s', 23),\n",
       " ('1890s', 8),\n",
       " ('1880s', 5),\n",
       " ('2010s', 2),\n",
       " ('1870s', 1)]"
      ]
     },
     "execution_count": 37,
     "metadata": {},
     "output_type": "execute_result"
    }
   ],
   "source": [
    "mejorFrio = heatingQC.filter(lambda x: x[1] == 'Ex' or x[1] == 'Gd').map(lambda x: (x[0],1)).reduceByKey(lambda x, y: x + y).sortBy(lambda x: x[1], False)\n",
    "mejorFrio.collect()\n"
   ]
  },
  {
   "cell_type": "markdown",
   "metadata": {},
   "source": [
    "* Por tanto, comparando ambos RDDs (`countFrio` y `mejorFrio`) se aprecia que la década de los 2000 tiene TODAS las viviendas calificadas con un bueno o excelente en la acondicionación del frio, lo que no sucede en esta década. Se concluye por tando que **la década de los 2000 es la que está mejor acondicionada**."
   ]
  },
  {
   "cell_type": "markdown",
   "metadata": {},
   "source": [
    "***"
   ]
  },
  {
   "cell_type": "markdown",
   "metadata": {},
   "source": [
    "## 5. ¿Cuáles son las 10 viviendas que se vendieron por un precio más elevado por metro cuadrado en el año 2009?"
   ]
  },
  {
   "cell_type": "markdown",
   "metadata": {},
   "source": [
    "Para responder a esta preguna, primero es fundamental realizar el **cambio de unidades** correctamente, ya que los datos están en pies cuadrados y en el ejercicio se piden metros cuadrádos. 1 pie cuadrado equivale a **0.092903 metros cuadrados**.\n",
    "\n",
    "Así, se crea una función `viviendas` con dos parámetros (precio y área) que calcula el **precio por metro cuadrado**."
   ]
  },
  {
   "cell_type": "code",
   "execution_count": 38,
   "metadata": {},
   "outputs": [],
   "source": [
    "def viviendas(price, area):\n",
    "    t = price / (area*0.092903)\n",
    "    return t"
   ]
  },
  {
   "cell_type": "markdown",
   "metadata": {},
   "source": [
    "Mediante un filtro de **limitan las observaciones a aquellas de 2009**. "
   ]
  },
  {
   "cell_type": "code",
   "execution_count": 39,
   "metadata": {},
   "outputs": [],
   "source": [
    "totViviendas = dataClean.filter(lambda x: x[27] == '2009')"
   ]
  },
  {
   "cell_type": "code",
   "execution_count": 40,
   "metadata": {},
   "outputs": [
    {
     "data": {
      "text/plain": [
       "[[936, 1026.7118971897073],\n",
       " [934, 991.0325013521444],\n",
       " [464, 821.0570122815511],\n",
       " [935, 807.9613655043873],\n",
       " [408, 765.647528938273],\n",
       " [407, 756.0368904997173],\n",
       " [405, 717.5943367454944],\n",
       " [933, 714.281725843034],\n",
       " [403, 711.1872444531239],\n",
       " [411, 701.0707829388548]]"
      ]
     },
     "execution_count": 40,
     "metadata": {},
     "output_type": "execute_result"
    }
   ],
   "source": [
    "totViviendas.sortBy(lambda x: viviendas(x[28], x[3]), ascending = False).map(lambda x: [x[0], viviendas(x[28], x[3])]).take(10)"
   ]
  },
  {
   "cell_type": "markdown",
   "metadata": {},
   "source": [
    "* Después de ordenar por el precio por metro cuadrado (de mayor a menor) se obtienen las **diez viviendas con mayor precio/metro cuadrado en 2009**, siendo la más elevada la observación número 936, con 1026,71um/metro cuadrado."
   ]
  },
  {
   "cell_type": "markdown",
   "metadata": {},
   "source": [
    "***"
   ]
  },
  {
   "cell_type": "markdown",
   "metadata": {},
   "source": [
    "## 6. Media anual por zonas del precio de venta y metros cuadrados."
   ]
  },
  {
   "cell_type": "markdown",
   "metadata": {},
   "source": [
    "Este ejercicio se realizará en dos partes: primero se calculará la media anual por zonas de los metros cuadrados y posteriormente por el precio de venta. Ambas se realizarán de igual manera: \n",
    "* Primero se realiza un filtro indicando la zona correspondiente, así como las columnas del rdd que se está creando. Una de ellas será el año y la otra será o los metros cuadrados o el precio de venta.\n",
    "* Después se realizará un `.combineByKey()` junto a una función `.map()` que obtendrá la media de la variable que se esté calculando, agrupada por años. \n",
    "\n",
    "Nótese que en este ejercicio ha de hacerse de nuevo la conversión de pies a metros cuadrados."
   ]
  },
  {
   "cell_type": "code",
   "execution_count": 41,
   "metadata": {},
   "outputs": [],
   "source": [
    "def m2(area):\n",
    "    t = area*0.092903\n",
    "    return float(t)"
   ]
  },
  {
   "cell_type": "markdown",
   "metadata": {},
   "source": [
    "`METROS CUADRADOS`\n",
    "* Zona RH (alta densidad)"
   ]
  },
  {
   "cell_type": "code",
   "execution_count": 42,
   "metadata": {
    "scrolled": true
   },
   "outputs": [
    {
     "data": {
      "text/plain": [
       "[('2007', 13679.97),\n",
       " ('2006', 13035.84),\n",
       " ('2008', 13966.42),\n",
       " ('2009', 10795.96),\n",
       " ('2010', 11731.79)]"
      ]
     },
     "execution_count": 42,
     "metadata": {},
     "output_type": "execute_result"
    }
   ],
   "source": [
    "zonaRH = dataClean.filter(lambda x: x[1] == 'RH').sortBy(lambda x: x[27]).map(lambda x: [x[27], m2(x[28])])\n",
    "avg = zonaRH.combineByKey(lambda value: (value, 1),\n",
    "                           lambda x, value: (x[0] + value, x[1] + 1),\n",
    "                           lambda x, y: (x[0] + y[0], x[1] + y[1])\n",
    "                           )\n",
    "\n",
    "avg = avg.map(lambda x: (x[0], round(x[1][0]/x[1][1],2)))\n",
    "avg.collect()"
   ]
  },
  {
   "cell_type": "markdown",
   "metadata": {},
   "source": [
    "* Zona RM (densidad media)"
   ]
  },
  {
   "cell_type": "code",
   "execution_count": 43,
   "metadata": {},
   "outputs": [
    {
     "data": {
      "text/plain": [
       "[('2007', 625.45),\n",
       " ('2006', 575.01),\n",
       " ('2008', 623.67),\n",
       " ('2009', 552.56),\n",
       " ('2010', 586.1)]"
      ]
     },
     "execution_count": 43,
     "metadata": {},
     "output_type": "execute_result"
    }
   ],
   "source": [
    "zonaRM = dataClean.filter(lambda x: x[1] == 'RM').sortBy(lambda x: x[27]).map(lambda x: [x[27], m2(x[3])])\n",
    "avg = zonaRM.combineByKey(lambda value: (value, 1),\n",
    "                            lambda x, value: (x[0] + value, x[1] + 1),\n",
    "                            lambda x, y: (x[0] + y[0], x[1] + y[1])\n",
    "                           )\n",
    "\n",
    "avg = avg.map(lambda x: (x[0], round(x[1][0]/x[1][1],2)))\n",
    "avg.collect()"
   ]
  },
  {
   "cell_type": "markdown",
   "metadata": {},
   "source": [
    "* Zona RL (densidad baja)"
   ]
  },
  {
   "cell_type": "code",
   "execution_count": 44,
   "metadata": {
    "scrolled": true
   },
   "outputs": [
    {
     "data": {
      "text/plain": [
       "[('2007', 1059.68),\n",
       " ('2006', 1043.79),\n",
       " ('2008', 1047.65),\n",
       " ('2009', 1002.18),\n",
       " ('2010', 1011.36)]"
      ]
     },
     "execution_count": 44,
     "metadata": {},
     "output_type": "execute_result"
    }
   ],
   "source": [
    "zonaRL = dataClean.filter(lambda x: zona_transf(x[1]) == 'RL').sortBy(lambda x: x[27]).map(lambda x: [x[27], m2(x[3])])\n",
    "avg = zonaRL.combineByKey(lambda value: (value, 1),\n",
    "                            lambda x, value: (x[0] + value, x[1] + 1),\n",
    "                            lambda x, y: (x[0] + y[0], x[1] + y[1])\n",
    "                           )\n",
    "\n",
    "avg = avg.map(lambda x: (x[0], round(x[1][0]/x[1][1],2)))\n",
    "avg.collect()"
   ]
  },
  {
   "cell_type": "markdown",
   "metadata": {},
   "source": [
    "`PRECIO DE VENTA`\n",
    "* Zona RH (alta densidad)"
   ]
  },
  {
   "cell_type": "code",
   "execution_count": 45,
   "metadata": {
    "scrolled": false
   },
   "outputs": [
    {
     "data": {
      "text/plain": [
       "[('2007', 147250.0),\n",
       " ('2006', 140316.67),\n",
       " ('2008', 150333.33),\n",
       " ('2009', 116206.8),\n",
       " ('2010', 126280.0)]"
      ]
     },
     "execution_count": 45,
     "metadata": {},
     "output_type": "execute_result"
    }
   ],
   "source": [
    "zonaRH = dataClean.filter(lambda x: x[1] == 'RH').sortBy(lambda x: x[27]).map(lambda x: [x[27], x[28]])\n",
    "avg = zonaRH.combineByKey(lambda value: (value, 1),\n",
    "                            lambda x, value: (x[0] + value, x[1] + 1),\n",
    "                            lambda x, y: (x[0] + y[0], x[1] + y[1])\n",
    "                           )\n",
    "\n",
    "avg = avg.map(lambda x: (x[0], round(x[1][0]/x[1][1],2)))\n",
    "avg.collect()"
   ]
  },
  {
   "cell_type": "markdown",
   "metadata": {},
   "source": [
    "* Zona RM (densidad media)"
   ]
  },
  {
   "cell_type": "code",
   "execution_count": 46,
   "metadata": {
    "scrolled": true
   },
   "outputs": [
    {
     "data": {
      "text/plain": [
       "[('2007', 128947.62),\n",
       " ('2006', 127502.64),\n",
       " ('2008', 133336.12),\n",
       " ('2009', 118759.87),\n",
       " ('2010', 119681.71)]"
      ]
     },
     "execution_count": 46,
     "metadata": {},
     "output_type": "execute_result"
    }
   ],
   "source": [
    "zonaRM = dataClean.filter(lambda x: x[1] == 'RM').sortBy(lambda x: x[27]).map(lambda x: [x[27], x[28]])\n",
    "avg = zonaRM.combineByKey(lambda value: (value, 1),\n",
    "                            lambda x, value: (x[0] + value, x[1] + 1),\n",
    "                            lambda x, y: (x[0] + y[0], x[1] + y[1])\n",
    "                           )\n",
    "\n",
    "avg = avg.map(lambda x: (x[0], round(x[1][0]/x[1][1],2)))\n",
    "avg.collect()"
   ]
  },
  {
   "cell_type": "markdown",
   "metadata": {},
   "source": [
    "* Zona RL (densidad baja)"
   ]
  },
  {
   "cell_type": "code",
   "execution_count": 47,
   "metadata": {
    "scrolled": true
   },
   "outputs": [
    {
     "data": {
      "text/plain": [
       "[('2007', 193399.98),\n",
       " ('2006', 194350.64),\n",
       " ('2008', 189885.59),\n",
       " ('2009', 190455.55),\n",
       " ('2010', 184978.42)]"
      ]
     },
     "execution_count": 47,
     "metadata": {},
     "output_type": "execute_result"
    }
   ],
   "source": [
    "zonaRL = dataClean.filter(lambda x: zona_transf(x[1]) == 'RL').sortBy(lambda x: x[27]).map(lambda x: [x[27], x[28]])\n",
    "avg = zonaRL.combineByKey(lambda value: (value, 1),\n",
    "                            lambda x, value: (x[0] + value, x[1] + 1),\n",
    "                            lambda x, y: (x[0] + y[0], x[1] + y[1])\n",
    "                           )\n",
    "\n",
    "avg = avg.map(lambda x: (x[0], round(x[1][0]/x[1][1],2)))\n",
    "avg.collect()"
   ]
  },
  {
   "cell_type": "markdown",
   "metadata": {},
   "source": [
    "***"
   ]
  },
  {
   "cell_type": "markdown",
   "metadata": {},
   "source": [
    "## 7. ¿Podrías decirme el total de recaudación de las casas de revistimiento (Mas Vnr Type) de piedra con respecto a las de ladrillo? ¿Hay diferencia significativa?"
   ]
  },
  {
   "cell_type": "markdown",
   "metadata": {},
   "source": [
    "El revestimiento de las casas puede tener las siguientes categorías: "
   ]
  },
  {
   "cell_type": "code",
   "execution_count": 48,
   "metadata": {},
   "outputs": [
    {
     "data": {
      "text/plain": [
       "['', 'Stone', 'BrkFace', 'CBlock', 'BrkCmn', 'None']"
      ]
     },
     "execution_count": 48,
     "metadata": {},
     "output_type": "execute_result"
    }
   ],
   "source": [
    "dataClean.map(lambda x: x[9]).distinct().collect()"
   ]
  },
  {
   "cell_type": "markdown",
   "metadata": {},
   "source": [
    "En el caso de este ejercicio se utilizarán unicamente `Stone` (piedra) y las dos de ladrillo: `BrkFace` y `BrkCmn`.\n",
    "\n",
    "Para saber el total de la recausdación (la suma de los precios de venta) de cada revestimiento, basta con filtrar aquel que se desea comprobar y luego sumar todos los valores de `Sale Price`."
   ]
  },
  {
   "cell_type": "code",
   "execution_count": 49,
   "metadata": {},
   "outputs": [
    {
     "data": {
      "text/plain": [
       "60175477.0"
      ]
     },
     "execution_count": 49,
     "metadata": {},
     "output_type": "execute_result"
    }
   ],
   "source": [
    "totalPiedra = dataClean.filter(lambda x: x[9] == 'Stone')\n",
    "totalPiedra.map(lambda x: x[28]).sum()"
   ]
  },
  {
   "cell_type": "code",
   "execution_count": 50,
   "metadata": {},
   "outputs": [
    {
     "data": {
      "text/plain": [
       "182417536.0"
      ]
     },
     "execution_count": 50,
     "metadata": {},
     "output_type": "execute_result"
    }
   ],
   "source": [
    "totalLadrillo = dataClean.filter(lambda x: x[9] == 'BrkCmn' or x[9] == 'BrkFace')\n",
    "totalLadrillo.map(lambda x: x[28]).sum()"
   ]
  },
  {
   "cell_type": "markdown",
   "metadata": {},
   "source": [
    "* Como se puede comprobar, las **casas de ladrillo tienen una mayor recaudación** que las de piedra, de hecho, **3 veces más**, y diferencia de los precios de venta alcanza las 122,242,059um. \n",
    "\n",
    "Ahora bien, ¿es esta diferencia significativa?"
   ]
  },
  {
   "cell_type": "code",
   "execution_count": 51,
   "metadata": {},
   "outputs": [
    {
     "data": {
      "text/plain": [
       "3.031426506182909"
      ]
     },
     "execution_count": 51,
     "metadata": {},
     "output_type": "execute_result"
    }
   ],
   "source": [
    "totalLadrillo.map(lambda x: x[28]).sum() / totalPiedra.map(lambda x: x[28]).sum() "
   ]
  },
  {
   "cell_type": "code",
   "execution_count": 52,
   "metadata": {},
   "outputs": [
    {
     "data": {
      "text/plain": [
       "122242059.0"
      ]
     },
     "execution_count": 52,
     "metadata": {},
     "output_type": "execute_result"
    }
   ],
   "source": [
    "totalLadrillo.map(lambda x: x[28]).sum() - totalPiedra.map(lambda x: x[28]).sum()"
   ]
  },
  {
   "cell_type": "markdown",
   "metadata": {},
   "source": [
    "Si se cuenta el número de viviendas de piedra y se compara con las de ladrillo, se puede observar cómo hay 3.6 veces más casas del último tipo. Lo cual justifica que su recaudación sea también 3 veces mayor. "
   ]
  },
  {
   "cell_type": "code",
   "execution_count": 53,
   "metadata": {},
   "outputs": [
    {
     "data": {
      "text/plain": [
       "229"
      ]
     },
     "execution_count": 53,
     "metadata": {},
     "output_type": "execute_result"
    }
   ],
   "source": [
    "dataClean.filter(lambda x: x[9] == 'Stone').count()"
   ]
  },
  {
   "cell_type": "code",
   "execution_count": 54,
   "metadata": {},
   "outputs": [
    {
     "data": {
      "text/plain": [
       "873"
      ]
     },
     "execution_count": 54,
     "metadata": {},
     "output_type": "execute_result"
    }
   ],
   "source": [
    "dataClean.filter(lambda x: x[9] == 'BrkCmn' or x[9] == 'BrkFace').count()"
   ]
  },
  {
   "cell_type": "code",
   "execution_count": 55,
   "metadata": {
    "scrolled": false
   },
   "outputs": [
    {
     "data": {
      "text/plain": [
       "3.6345381526104417"
      ]
     },
     "execution_count": 55,
     "metadata": {},
     "output_type": "execute_result"
    }
   ],
   "source": [
    "905/249"
   ]
  },
  {
   "cell_type": "code",
   "execution_count": 56,
   "metadata": {},
   "outputs": [
    {
     "data": {
      "text/plain": [
       "262775.0087336243"
      ]
     },
     "execution_count": 56,
     "metadata": {},
     "output_type": "execute_result"
    }
   ],
   "source": [
    "totalPiedra.map(lambda x: x[28]).mean()"
   ]
  },
  {
   "cell_type": "code",
   "execution_count": 57,
   "metadata": {
    "scrolled": true
   },
   "outputs": [
    {
     "data": {
      "text/plain": [
       "208954.79495990832"
      ]
     },
     "execution_count": 57,
     "metadata": {},
     "output_type": "execute_result"
    }
   ],
   "source": [
    "totalLadrillo.map(lambda x: x[28]).mean()"
   ]
  },
  {
   "cell_type": "markdown",
   "metadata": {},
   "source": [
    "Adicionalmente, si en vez de realizar la recaudación total se calcula la recaudación media, se puede observar cómo las casas de piedra, de media, son más caras que las de ladrillo. "
   ]
  },
  {
   "cell_type": "markdown",
   "metadata": {},
   "source": [
    "***"
   ]
  },
  {
   "cell_type": "markdown",
   "metadata": {},
   "source": [
    "## 8. ¿Cuánto son más caras las viviendas con 2 cocinas, con 2 o más plazas de garaje que las que tienen 1 cocina y 1 plaza de garaje? Comparar medias y cuartiles de ambos casos"
   ]
  },
  {
   "cell_type": "markdown",
   "metadata": {},
   "source": [
    "Para contestar a esta pregunta, primero se comprueba el número de cocinas y de plazas de garaje que pueden tener las viviendas del dataset."
   ]
  },
  {
   "cell_type": "code",
   "execution_count": 58,
   "metadata": {},
   "outputs": [
    {
     "data": {
      "text/plain": [
       "[1.0, 2.0, 3.0]"
      ]
     },
     "execution_count": 58,
     "metadata": {},
     "output_type": "execute_result"
    }
   ],
   "source": [
    "dataClean.map(lambda x: x[18]).distinct().collect()"
   ]
  },
  {
   "cell_type": "code",
   "execution_count": 59,
   "metadata": {
    "scrolled": true
   },
   "outputs": [
    {
     "data": {
      "text/plain": [
       "[0.0, None, 1.0, 2.0, 3.0, 4.0, 5.0]"
      ]
     },
     "execution_count": 59,
     "metadata": {},
     "output_type": "execute_result"
    }
   ],
   "source": [
    "dataClean.map(lambda x: x[21]).distinct().collect()"
   ]
  },
  {
   "cell_type": "markdown",
   "metadata": {},
   "source": [
    "Se realizan dos grupos, para poder comparar:\n",
    "* **Grupo 1**: viviendas con 2 cocinas y con 2 o más plazas\n",
    "* **Grupo 2**: viviendas con 1 cocina y 1 plaza de garaje"
   ]
  },
  {
   "cell_type": "code",
   "execution_count": 60,
   "metadata": {},
   "outputs": [
    {
     "data": {
      "text/plain": [
       "145124.2790697675"
      ]
     },
     "execution_count": 60,
     "metadata": {},
     "output_type": "execute_result"
    }
   ],
   "source": [
    "Grupo1 = dataClean.filter(lambda x: x[18] == 2 and x[21] >= 2)\n",
    "Grupo1.map(lambda x: x[28]).mean()"
   ]
  },
  {
   "cell_type": "code",
   "execution_count": 61,
   "metadata": {
    "scrolled": true
   },
   "outputs": [
    {
     "data": {
      "text/plain": [
       "128121.99337748351"
      ]
     },
     "execution_count": 61,
     "metadata": {},
     "output_type": "execute_result"
    }
   ],
   "source": [
    "Grupo2 = dataClean.filter(lambda x: x[18] == 1 and x[21] == 1)\n",
    "Grupo2.map(lambda x: x[28]).mean()"
   ]
  },
  {
   "cell_type": "markdown",
   "metadata": {},
   "source": [
    "De esta manera se puede observar que la media de precios del **primer grupo es superior al segundo**. "
   ]
  },
  {
   "cell_type": "code",
   "execution_count": 62,
   "metadata": {},
   "outputs": [],
   "source": [
    "from pyspark.sql import SQLContext\n",
    "SQLContext = SQLContext(sc)"
   ]
  },
  {
   "cell_type": "code",
   "execution_count": 63,
   "metadata": {},
   "outputs": [
    {
     "data": {
      "text/plain": [
       "[118964.0, 141000.0, 159000.0]"
      ]
     },
     "execution_count": 63,
     "metadata": {},
     "output_type": "execute_result"
    }
   ],
   "source": [
    "g1 = SQLContext.createDataFrame(Grupo1)\n",
    "g1.registerTempTable(\"g1\")\n",
    "g1.approxQuantile(\"_29\",[0.25, 0.5, 0.75], 0)"
   ]
  },
  {
   "cell_type": "code",
   "execution_count": 64,
   "metadata": {},
   "outputs": [
    {
     "data": {
      "image/png": "[encoded data removed]",
      "text/plain": [
       "<Figure size 432x288 with 1 Axes>"
      ]
     },
     "metadata": {
      "needs_background": "light"
     },
     "output_type": "display_data"
    },
    {
     "data": {
      "text/plain": [
       "None"
      ]
     },
     "metadata": {},
     "output_type": "display_data"
    }
   ],
   "source": [
    "pandas1 = g1.toPandas()\n",
    "pandas1.boxplot('_29')\n",
    "display(plt.show());"
   ]
  },
  {
   "cell_type": "code",
   "execution_count": 65,
   "metadata": {
    "scrolled": true
   },
   "outputs": [
    {
     "data": {
      "text/plain": [
       "[111500.0, 128000.0, 142125.0]"
      ]
     },
     "execution_count": 65,
     "metadata": {},
     "output_type": "execute_result"
    }
   ],
   "source": [
    "g2 = SQLContext.createDataFrame(Grupo2)\n",
    "g2.registerTempTable(\"g2\")\n",
    "g2.approxQuantile(\"_29\",[0.25, 0.5, 0.75], 0)"
   ]
  },
  {
   "cell_type": "code",
   "execution_count": 66,
   "metadata": {
    "scrolled": true
   },
   "outputs": [
    {
     "data": {
      "image/png": "[encoded data removed]",
      "text/plain": [
       "<Figure size 432x288 with 1 Axes>"
      ]
     },
     "metadata": {
      "needs_background": "light"
     },
     "output_type": "display_data"
    },
    {
     "data": {
      "text/plain": [
       "None"
      ]
     },
     "metadata": {},
     "output_type": "display_data"
    }
   ],
   "source": [
    "pandas2 = g2.toPandas()\n",
    "pandas2.boxplot('_29')\n",
    "display(plt.show());"
   ]
  },
  {
   "cell_type": "markdown",
   "metadata": {},
   "source": [
    "Si comparamos los cuartiles de ambos grupos, podemos apreciar que el segundo tiene **menos varianza**, ya que su primer cuartil se encuentra en las 111,500um y su tercero en las 142,125um, mientras que el primer grupo 118964um y 159000um. Sin embargo, el segundo grupo tiene **más outliers** que el primero. "
   ]
  },
  {
   "cell_type": "markdown",
   "metadata": {},
   "source": [
    "***"
   ]
  },
  {
   "cell_type": "markdown",
   "metadata": {},
   "source": [
    "## (COMPLEMENTARIA) Estudiar la relación entre el precio y el número de Garajes. (Recomiendo segmentar precio por cuartiles y estudiar el número de casos coincidentes)"
   ]
  },
  {
   "cell_type": "markdown",
   "metadata": {},
   "source": [
    "Primero se crea un RDD que contenga las dos columnas que se utilizarán en este ejercicio: precio y número de garajes. "
   ]
  },
  {
   "cell_type": "code",
   "execution_count": 67,
   "metadata": {
    "scrolled": true
   },
   "outputs": [
    {
     "data": {
      "text/plain": [
       "[[215000.0, 2.0],\n",
       " [105000.0, 1.0],\n",
       " [172000.0, 1.0],\n",
       " [244000.0, 2.0],\n",
       " [189900.0, 2.0]]"
      ]
     },
     "execution_count": 67,
     "metadata": {},
     "output_type": "execute_result"
    }
   ],
   "source": [
    "rel = dataClean.map(lambda x: [x[28], x[21]])\n",
    "rel.take(5)"
   ]
  },
  {
   "cell_type": "code",
   "execution_count": 68,
   "metadata": {},
   "outputs": [],
   "source": [
    "from pyspark.sql import SQLContext\n",
    "SQLContext = SQLContext(sc)"
   ]
  },
  {
   "cell_type": "markdown",
   "metadata": {},
   "source": [
    "Posteriormente se crea un dataFrame de este RDD para poder calcular los cuartiles de la variable precio, para poder agruparla en función de estos con una función."
   ]
  },
  {
   "cell_type": "code",
   "execution_count": 69,
   "metadata": {},
   "outputs": [
    {
     "data": {
      "text/plain": [
       "[129000.0, 159000.0, 211500.0]"
      ]
     },
     "execution_count": 69,
     "metadata": {},
     "output_type": "execute_result"
    }
   ],
   "source": [
    "relDF = SQLContext.createDataFrame(rel)\n",
    "relDF.registerTempTable(\"relDF\")\n",
    "relDF.approxQuantile(\"_1\",[0.25, 0.5, 0.75], 0)"
   ]
  },
  {
   "cell_type": "code",
   "execution_count": 70,
   "metadata": {},
   "outputs": [],
   "source": [
    "def cuartiles(x):\n",
    "    if 129000 > x :\n",
    "        return 'MENOS DE 129.000'\n",
    "    elif 129000 <= x < 159000 :\n",
    "        return 'ENTRE 129.000 Y 159.000'\n",
    "    elif 159000 <= x < 211500 :\n",
    "        return 'ENTRE 159.000 Y 211.500'\n",
    "    elif 211500 <= x :\n",
    "        return 'MAS DE 211.500'\n",
    "    else: \n",
    "        return x"
   ]
  },
  {
   "cell_type": "code",
   "execution_count": 71,
   "metadata": {},
   "outputs": [],
   "source": [
    "cuart = dataClean.sortBy(lambda x: cuartiles(x[28])).map(lambda x: [cuartiles(x[28]), x[21]])"
   ]
  },
  {
   "cell_type": "code",
   "execution_count": 72,
   "metadata": {},
   "outputs": [
    {
     "data": {
      "text/plain": [
       "[['ENTRE 129.000 Y 159.000', 2.0],\n",
       " ['ENTRE 129.000 Y 159.000', 2.0],\n",
       " ['ENTRE 129.000 Y 159.000', 2.0],\n",
       " ['ENTRE 129.000 Y 159.000', 1.0],\n",
       " ['ENTRE 129.000 Y 159.000', 2.0]]"
      ]
     },
     "execution_count": 72,
     "metadata": {},
     "output_type": "execute_result"
    }
   ],
   "source": [
    "cuart.take(5)"
   ]
  },
  {
   "cell_type": "code",
   "execution_count": 76,
   "metadata": {},
   "outputs": [
    {
     "ename": "Py4JJavaError",
     "evalue": "An error occurred while calling z:org.apache.spark.api.python.PythonRDD.runJob.\n: org.apache.spark.SparkException: Job aborted due to stage failure: Task 0 in stage 334.0 failed 1 times, most recent failure: Lost task 0.0 in stage 334.0 (TID 20130, 192.168.1.43, executor driver): org.apache.spark.api.python.PythonException: Traceback (most recent call last):\n  File \"/Users/beaquevedo/opt/anaconda3/lib/python3.8/site-packages/pyspark/python/lib/pyspark.zip/pyspark/worker.py\", line 605, in main\n    process()\n  File \"/Users/beaquevedo/opt/anaconda3/lib/python3.8/site-packages/pyspark/python/lib/pyspark.zip/pyspark/worker.py\", line 595, in process\n    out_iter = func(split_index, iterator)\n  File \"/Users/beaquevedo/opt/anaconda3/lib/python3.8/site-packages/pyspark/rdd.py\", line 2596, in pipeline_func\n    return func(split, prev_func(split, iterator))\n  File \"/Users/beaquevedo/opt/anaconda3/lib/python3.8/site-packages/pyspark/rdd.py\", line 2596, in pipeline_func\n    return func(split, prev_func(split, iterator))\n  File \"/Users/beaquevedo/opt/anaconda3/lib/python3.8/site-packages/pyspark/rdd.py\", line 425, in func\n    return f(iterator)\n  File \"/Users/beaquevedo/opt/anaconda3/lib/python3.8/site-packages/pyspark/rdd.py\", line 1946, in combineLocally\n    merger.mergeValues(iterator)\n  File \"/Users/beaquevedo/opt/anaconda3/lib/python3.8/site-packages/pyspark/python/lib/pyspark.zip/pyspark/shuffle.py\", line 240, in mergeValues\n    d[k] = comb(d[k], v) if k in d else creator(v)\n  File \"/Users/beaquevedo/opt/anaconda3/lib/python3.8/site-packages/pyspark/util.py\", line 107, in wrapper\n    return f(*args, **kwargs)\n  File \"<ipython-input-76-71e8f53b5434>\", line 2, in <lambda>\nTypeError: unsupported operand type(s) for +: 'float' and 'NoneType'\n\n\tat org.apache.spark.api.python.BasePythonRunner$ReaderIterator.handlePythonException(PythonRunner.scala:503)\n\tat org.apache.spark.api.python.PythonRunner$$anon$3.read(PythonRunner.scala:638)\n\tat org.apache.spark.api.python.PythonRunner$$anon$3.read(PythonRunner.scala:621)\n\tat org.apache.spark.api.python.BasePythonRunner$ReaderIterator.hasNext(PythonRunner.scala:456)\n\tat org.apache.spark.InterruptibleIterator.hasNext(InterruptibleIterator.scala:37)\n\tat scala.collection.Iterator$GroupedIterator.fill(Iterator.scala:1209)\n\tat scala.collection.Iterator$GroupedIterator.hasNext(Iterator.scala:1215)\n\tat scala.collection.Iterator$$anon$10.hasNext(Iterator.scala:458)\n\tat org.apache.spark.shuffle.sort.BypassMergeSortShuffleWriter.write(BypassMergeSortShuffleWriter.java:132)\n\tat org.apache.spark.shuffle.ShuffleWriteProcessor.write(ShuffleWriteProcessor.scala:59)\n\tat org.apache.spark.scheduler.ShuffleMapTask.runTask(ShuffleMapTask.scala:99)\n\tat org.apache.spark.scheduler.ShuffleMapTask.runTask(ShuffleMapTask.scala:52)\n\tat org.apache.spark.scheduler.Task.run(Task.scala:127)\n\tat org.apache.spark.executor.Executor$TaskRunner.$anonfun$run$3(Executor.scala:446)\n\tat org.apache.spark.util.Utils$.tryWithSafeFinally(Utils.scala:1377)\n\tat org.apache.spark.executor.Executor$TaskRunner.run(Executor.scala:449)\n\tat java.util.concurrent.ThreadPoolExecutor.runWorker(ThreadPoolExecutor.java:1149)\n\tat java.util.concurrent.ThreadPoolExecutor$Worker.run(ThreadPoolExecutor.java:624)\n\tat java.lang.Thread.run(Thread.java:748)\n\nDriver stacktrace:\n\tat org.apache.spark.scheduler.DAGScheduler.failJobAndIndependentStages(DAGScheduler.scala:2059)\n\tat org.apache.spark.scheduler.DAGScheduler.$anonfun$abortStage$2(DAGScheduler.scala:2008)\n\tat org.apache.spark.scheduler.DAGScheduler.$anonfun$abortStage$2$adapted(DAGScheduler.scala:2007)\n\tat scala.collection.mutable.ResizableArray.foreach(ResizableArray.scala:62)\n\tat scala.collection.mutable.ResizableArray.foreach$(ResizableArray.scala:55)\n\tat scala.collection.mutable.ArrayBuffer.foreach(ArrayBuffer.scala:49)\n\tat org.apache.spark.scheduler.DAGScheduler.abortStage(DAGScheduler.scala:2007)\n\tat org.apache.spark.scheduler.DAGScheduler.$anonfun$handleTaskSetFailed$1(DAGScheduler.scala:973)\n\tat org.apache.spark.scheduler.DAGScheduler.$anonfun$handleTaskSetFailed$1$adapted(DAGScheduler.scala:973)\n\tat scala.Option.foreach(Option.scala:407)\n\tat org.apache.spark.scheduler.DAGScheduler.handleTaskSetFailed(DAGScheduler.scala:973)\n\tat org.apache.spark.scheduler.DAGSchedulerEventProcessLoop.doOnReceive(DAGScheduler.scala:2239)\n\tat org.apache.spark.scheduler.DAGSchedulerEventProcessLoop.onReceive(DAGScheduler.scala:2188)\n\tat org.apache.spark.scheduler.DAGSchedulerEventProcessLoop.onReceive(DAGScheduler.scala:2177)\n\tat org.apache.spark.util.EventLoop$$anon$1.run(EventLoop.scala:49)\n\tat org.apache.spark.scheduler.DAGScheduler.runJob(DAGScheduler.scala:775)\n\tat org.apache.spark.SparkContext.runJob(SparkContext.scala:2099)\n\tat org.apache.spark.SparkContext.runJob(SparkContext.scala:2120)\n\tat org.apache.spark.SparkContext.runJob(SparkContext.scala:2139)\n\tat org.apache.spark.api.python.PythonRDD$.runJob(PythonRDD.scala:154)\n\tat org.apache.spark.api.python.PythonRDD.runJob(PythonRDD.scala)\n\tat sun.reflect.GeneratedMethodAccessor107.invoke(Unknown Source)\n\tat sun.reflect.DelegatingMethodAccessorImpl.invoke(DelegatingMethodAccessorImpl.java:43)\n\tat java.lang.reflect.Method.invoke(Method.java:498)\n\tat py4j.reflection.MethodInvoker.invoke(MethodInvoker.java:244)\n\tat py4j.reflection.ReflectionEngine.invoke(ReflectionEngine.java:357)\n\tat py4j.Gateway.invoke(Gateway.java:282)\n\tat py4j.commands.AbstractCommand.invokeMethod(AbstractCommand.java:132)\n\tat py4j.commands.CallCommand.execute(CallCommand.java:79)\n\tat py4j.GatewayConnection.run(GatewayConnection.java:238)\n\tat java.lang.Thread.run(Thread.java:748)\nCaused by: org.apache.spark.api.python.PythonException: Traceback (most recent call last):\n  File \"/Users/beaquevedo/opt/anaconda3/lib/python3.8/site-packages/pyspark/python/lib/pyspark.zip/pyspark/worker.py\", line 605, in main\n    process()\n  File \"/Users/beaquevedo/opt/anaconda3/lib/python3.8/site-packages/pyspark/python/lib/pyspark.zip/pyspark/worker.py\", line 595, in process\n    out_iter = func(split_index, iterator)\n  File \"/Users/beaquevedo/opt/anaconda3/lib/python3.8/site-packages/pyspark/rdd.py\", line 2596, in pipeline_func\n    return func(split, prev_func(split, iterator))\n  File \"/Users/beaquevedo/opt/anaconda3/lib/python3.8/site-packages/pyspark/rdd.py\", line 2596, in pipeline_func\n    return func(split, prev_func(split, iterator))\n  File \"/Users/beaquevedo/opt/anaconda3/lib/python3.8/site-packages/pyspark/rdd.py\", line 425, in func\n    return f(iterator)\n  File \"/Users/beaquevedo/opt/anaconda3/lib/python3.8/site-packages/pyspark/rdd.py\", line 1946, in combineLocally\n    merger.mergeValues(iterator)\n  File \"/Users/beaquevedo/opt/anaconda3/lib/python3.8/site-packages/pyspark/python/lib/pyspark.zip/pyspark/shuffle.py\", line 240, in mergeValues\n    d[k] = comb(d[k], v) if k in d else creator(v)\n  File \"/Users/beaquevedo/opt/anaconda3/lib/python3.8/site-packages/pyspark/util.py\", line 107, in wrapper\n    return f(*args, **kwargs)\n  File \"<ipython-input-76-71e8f53b5434>\", line 2, in <lambda>\nTypeError: unsupported operand type(s) for +: 'float' and 'NoneType'\n\n\tat org.apache.spark.api.python.BasePythonRunner$ReaderIterator.handlePythonException(PythonRunner.scala:503)\n\tat org.apache.spark.api.python.PythonRunner$$anon$3.read(PythonRunner.scala:638)\n\tat org.apache.spark.api.python.PythonRunner$$anon$3.read(PythonRunner.scala:621)\n\tat org.apache.spark.api.python.BasePythonRunner$ReaderIterator.hasNext(PythonRunner.scala:456)\n\tat org.apache.spark.InterruptibleIterator.hasNext(InterruptibleIterator.scala:37)\n\tat scala.collection.Iterator$GroupedIterator.fill(Iterator.scala:1209)\n\tat scala.collection.Iterator$GroupedIterator.hasNext(Iterator.scala:1215)\n\tat scala.collection.Iterator$$anon$10.hasNext(Iterator.scala:458)\n\tat org.apache.spark.shuffle.sort.BypassMergeSortShuffleWriter.write(BypassMergeSortShuffleWriter.java:132)\n\tat org.apache.spark.shuffle.ShuffleWriteProcessor.write(ShuffleWriteProcessor.scala:59)\n\tat org.apache.spark.scheduler.ShuffleMapTask.runTask(ShuffleMapTask.scala:99)\n\tat org.apache.spark.scheduler.ShuffleMapTask.runTask(ShuffleMapTask.scala:52)\n\tat org.apache.spark.scheduler.Task.run(Task.scala:127)\n\tat org.apache.spark.executor.Executor$TaskRunner.$anonfun$run$3(Executor.scala:446)\n\tat org.apache.spark.util.Utils$.tryWithSafeFinally(Utils.scala:1377)\n\tat org.apache.spark.executor.Executor$TaskRunner.run(Executor.scala:449)\n\tat java.util.concurrent.ThreadPoolExecutor.runWorker(ThreadPoolExecutor.java:1149)\n\tat java.util.concurrent.ThreadPoolExecutor$Worker.run(ThreadPoolExecutor.java:624)\n\t... 1 more\n",
     "output_type": "error",
     "traceback": [
      "\u001b[0;31m---------------------------------------------------------------------------\u001b[0m",
      "\u001b[0;31mPy4JJavaError\u001b[0m                             Traceback (most recent call last)",
      "\u001b[0;32m<ipython-input-76-71e8f53b5434>\u001b[0m in \u001b[0;36m<module>\u001b[0;34m\u001b[0m\n\u001b[1;32m      4\u001b[0m                            )\n\u001b[1;32m      5\u001b[0m \u001b[0;34m\u001b[0m\u001b[0m\n\u001b[0;32m----> 6\u001b[0;31m \u001b[0mavg\u001b[0m\u001b[0;34m.\u001b[0m\u001b[0mtake\u001b[0m\u001b[0;34m(\u001b[0m\u001b[0;36m2\u001b[0m\u001b[0;34m)\u001b[0m\u001b[0;34m\u001b[0m\u001b[0;34m\u001b[0m\u001b[0m\n\u001b[0m",
      "\u001b[0;32m~/opt/anaconda3/lib/python3.8/site-packages/pyspark/rdd.py\u001b[0m in \u001b[0;36mtake\u001b[0;34m(self, num)\u001b[0m\n\u001b[1;32m   1444\u001b[0m \u001b[0;34m\u001b[0m\u001b[0m\n\u001b[1;32m   1445\u001b[0m             \u001b[0mp\u001b[0m \u001b[0;34m=\u001b[0m \u001b[0mrange\u001b[0m\u001b[0;34m(\u001b[0m\u001b[0mpartsScanned\u001b[0m\u001b[0;34m,\u001b[0m \u001b[0mmin\u001b[0m\u001b[0;34m(\u001b[0m\u001b[0mpartsScanned\u001b[0m \u001b[0;34m+\u001b[0m \u001b[0mnumPartsToTry\u001b[0m\u001b[0;34m,\u001b[0m \u001b[0mtotalParts\u001b[0m\u001b[0;34m)\u001b[0m\u001b[0;34m)\u001b[0m\u001b[0;34m\u001b[0m\u001b[0;34m\u001b[0m\u001b[0m\n\u001b[0;32m-> 1446\u001b[0;31m             \u001b[0mres\u001b[0m \u001b[0;34m=\u001b[0m \u001b[0mself\u001b[0m\u001b[0;34m.\u001b[0m\u001b[0mcontext\u001b[0m\u001b[0;34m.\u001b[0m\u001b[0mrunJob\u001b[0m\u001b[0;34m(\u001b[0m\u001b[0mself\u001b[0m\u001b[0;34m,\u001b[0m \u001b[0mtakeUpToNumLeft\u001b[0m\u001b[0;34m,\u001b[0m \u001b[0mp\u001b[0m\u001b[0;34m)\u001b[0m\u001b[0;34m\u001b[0m\u001b[0;34m\u001b[0m\u001b[0m\n\u001b[0m\u001b[1;32m   1447\u001b[0m \u001b[0;34m\u001b[0m\u001b[0m\n\u001b[1;32m   1448\u001b[0m             \u001b[0mitems\u001b[0m \u001b[0;34m+=\u001b[0m \u001b[0mres\u001b[0m\u001b[0;34m\u001b[0m\u001b[0;34m\u001b[0m\u001b[0m\n",
      "\u001b[0;32m~/opt/anaconda3/lib/python3.8/site-packages/pyspark/context.py\u001b[0m in \u001b[0;36mrunJob\u001b[0;34m(self, rdd, partitionFunc, partitions, allowLocal)\u001b[0m\n\u001b[1;32m   1116\u001b[0m         \u001b[0;31m# SparkContext#runJob.\u001b[0m\u001b[0;34m\u001b[0m\u001b[0;34m\u001b[0m\u001b[0;34m\u001b[0m\u001b[0m\n\u001b[1;32m   1117\u001b[0m         \u001b[0mmappedRDD\u001b[0m \u001b[0;34m=\u001b[0m \u001b[0mrdd\u001b[0m\u001b[0;34m.\u001b[0m\u001b[0mmapPartitions\u001b[0m\u001b[0;34m(\u001b[0m\u001b[0mpartitionFunc\u001b[0m\u001b[0;34m)\u001b[0m\u001b[0;34m\u001b[0m\u001b[0;34m\u001b[0m\u001b[0m\n\u001b[0;32m-> 1118\u001b[0;31m         \u001b[0msock_info\u001b[0m \u001b[0;34m=\u001b[0m \u001b[0mself\u001b[0m\u001b[0;34m.\u001b[0m\u001b[0m_jvm\u001b[0m\u001b[0;34m.\u001b[0m\u001b[0mPythonRDD\u001b[0m\u001b[0;34m.\u001b[0m\u001b[0mrunJob\u001b[0m\u001b[0;34m(\u001b[0m\u001b[0mself\u001b[0m\u001b[0;34m.\u001b[0m\u001b[0m_jsc\u001b[0m\u001b[0;34m.\u001b[0m\u001b[0msc\u001b[0m\u001b[0;34m(\u001b[0m\u001b[0;34m)\u001b[0m\u001b[0;34m,\u001b[0m \u001b[0mmappedRDD\u001b[0m\u001b[0;34m.\u001b[0m\u001b[0m_jrdd\u001b[0m\u001b[0;34m,\u001b[0m \u001b[0mpartitions\u001b[0m\u001b[0;34m)\u001b[0m\u001b[0;34m\u001b[0m\u001b[0;34m\u001b[0m\u001b[0m\n\u001b[0m\u001b[1;32m   1119\u001b[0m         \u001b[0;32mreturn\u001b[0m \u001b[0mlist\u001b[0m\u001b[0;34m(\u001b[0m\u001b[0m_load_from_socket\u001b[0m\u001b[0;34m(\u001b[0m\u001b[0msock_info\u001b[0m\u001b[0;34m,\u001b[0m \u001b[0mmappedRDD\u001b[0m\u001b[0;34m.\u001b[0m\u001b[0m_jrdd_deserializer\u001b[0m\u001b[0;34m)\u001b[0m\u001b[0;34m)\u001b[0m\u001b[0;34m\u001b[0m\u001b[0;34m\u001b[0m\u001b[0m\n\u001b[1;32m   1120\u001b[0m \u001b[0;34m\u001b[0m\u001b[0m\n",
      "\u001b[0;32m~/opt/anaconda3/lib/python3.8/site-packages/py4j/java_gateway.py\u001b[0m in \u001b[0;36m__call__\u001b[0;34m(self, *args)\u001b[0m\n\u001b[1;32m   1302\u001b[0m \u001b[0;34m\u001b[0m\u001b[0m\n\u001b[1;32m   1303\u001b[0m         \u001b[0manswer\u001b[0m \u001b[0;34m=\u001b[0m \u001b[0mself\u001b[0m\u001b[0;34m.\u001b[0m\u001b[0mgateway_client\u001b[0m\u001b[0;34m.\u001b[0m\u001b[0msend_command\u001b[0m\u001b[0;34m(\u001b[0m\u001b[0mcommand\u001b[0m\u001b[0;34m)\u001b[0m\u001b[0;34m\u001b[0m\u001b[0;34m\u001b[0m\u001b[0m\n\u001b[0;32m-> 1304\u001b[0;31m         return_value = get_return_value(\n\u001b[0m\u001b[1;32m   1305\u001b[0m             answer, self.gateway_client, self.target_id, self.name)\n\u001b[1;32m   1306\u001b[0m \u001b[0;34m\u001b[0m\u001b[0m\n",
      "\u001b[0;32m~/opt/anaconda3/lib/python3.8/site-packages/pyspark/sql/utils.py\u001b[0m in \u001b[0;36mdeco\u001b[0;34m(*a, **kw)\u001b[0m\n\u001b[1;32m    126\u001b[0m     \u001b[0;32mdef\u001b[0m \u001b[0mdeco\u001b[0m\u001b[0;34m(\u001b[0m\u001b[0;34m*\u001b[0m\u001b[0ma\u001b[0m\u001b[0;34m,\u001b[0m \u001b[0;34m**\u001b[0m\u001b[0mkw\u001b[0m\u001b[0;34m)\u001b[0m\u001b[0;34m:\u001b[0m\u001b[0;34m\u001b[0m\u001b[0;34m\u001b[0m\u001b[0m\n\u001b[1;32m    127\u001b[0m         \u001b[0;32mtry\u001b[0m\u001b[0;34m:\u001b[0m\u001b[0;34m\u001b[0m\u001b[0;34m\u001b[0m\u001b[0m\n\u001b[0;32m--> 128\u001b[0;31m             \u001b[0;32mreturn\u001b[0m \u001b[0mf\u001b[0m\u001b[0;34m(\u001b[0m\u001b[0;34m*\u001b[0m\u001b[0ma\u001b[0m\u001b[0;34m,\u001b[0m \u001b[0;34m**\u001b[0m\u001b[0mkw\u001b[0m\u001b[0;34m)\u001b[0m\u001b[0;34m\u001b[0m\u001b[0;34m\u001b[0m\u001b[0m\n\u001b[0m\u001b[1;32m    129\u001b[0m         \u001b[0;32mexcept\u001b[0m \u001b[0mpy4j\u001b[0m\u001b[0;34m.\u001b[0m\u001b[0mprotocol\u001b[0m\u001b[0;34m.\u001b[0m\u001b[0mPy4JJavaError\u001b[0m \u001b[0;32mas\u001b[0m \u001b[0me\u001b[0m\u001b[0;34m:\u001b[0m\u001b[0;34m\u001b[0m\u001b[0;34m\u001b[0m\u001b[0m\n\u001b[1;32m    130\u001b[0m             \u001b[0mconverted\u001b[0m \u001b[0;34m=\u001b[0m \u001b[0mconvert_exception\u001b[0m\u001b[0;34m(\u001b[0m\u001b[0me\u001b[0m\u001b[0;34m.\u001b[0m\u001b[0mjava_exception\u001b[0m\u001b[0;34m)\u001b[0m\u001b[0;34m\u001b[0m\u001b[0;34m\u001b[0m\u001b[0m\n",
      "\u001b[0;32m~/opt/anaconda3/lib/python3.8/site-packages/py4j/protocol.py\u001b[0m in \u001b[0;36mget_return_value\u001b[0;34m(answer, gateway_client, target_id, name)\u001b[0m\n\u001b[1;32m    324\u001b[0m             \u001b[0mvalue\u001b[0m \u001b[0;34m=\u001b[0m \u001b[0mOUTPUT_CONVERTER\u001b[0m\u001b[0;34m[\u001b[0m\u001b[0mtype\u001b[0m\u001b[0;34m]\u001b[0m\u001b[0;34m(\u001b[0m\u001b[0manswer\u001b[0m\u001b[0;34m[\u001b[0m\u001b[0;36m2\u001b[0m\u001b[0;34m:\u001b[0m\u001b[0;34m]\u001b[0m\u001b[0;34m,\u001b[0m \u001b[0mgateway_client\u001b[0m\u001b[0;34m)\u001b[0m\u001b[0;34m\u001b[0m\u001b[0;34m\u001b[0m\u001b[0m\n\u001b[1;32m    325\u001b[0m             \u001b[0;32mif\u001b[0m \u001b[0manswer\u001b[0m\u001b[0;34m[\u001b[0m\u001b[0;36m1\u001b[0m\u001b[0;34m]\u001b[0m \u001b[0;34m==\u001b[0m \u001b[0mREFERENCE_TYPE\u001b[0m\u001b[0;34m:\u001b[0m\u001b[0;34m\u001b[0m\u001b[0;34m\u001b[0m\u001b[0m\n\u001b[0;32m--> 326\u001b[0;31m                 raise Py4JJavaError(\n\u001b[0m\u001b[1;32m    327\u001b[0m                     \u001b[0;34m\"An error occurred while calling {0}{1}{2}.\\n\"\u001b[0m\u001b[0;34m.\u001b[0m\u001b[0;34m\u001b[0m\u001b[0;34m\u001b[0m\u001b[0m\n\u001b[1;32m    328\u001b[0m                     format(target_id, \".\", name), value)\n",
      "\u001b[0;31mPy4JJavaError\u001b[0m: An error occurred while calling z:org.apache.spark.api.python.PythonRDD.runJob.\n: org.apache.spark.SparkException: Job aborted due to stage failure: Task 0 in stage 334.0 failed 1 times, most recent failure: Lost task 0.0 in stage 334.0 (TID 20130, 192.168.1.43, executor driver): org.apache.spark.api.python.PythonException: Traceback (most recent call last):\n  File \"/Users/beaquevedo/opt/anaconda3/lib/python3.8/site-packages/pyspark/python/lib/pyspark.zip/pyspark/worker.py\", line 605, in main\n    process()\n  File \"/Users/beaquevedo/opt/anaconda3/lib/python3.8/site-packages/pyspark/python/lib/pyspark.zip/pyspark/worker.py\", line 595, in process\n    out_iter = func(split_index, iterator)\n  File \"/Users/beaquevedo/opt/anaconda3/lib/python3.8/site-packages/pyspark/rdd.py\", line 2596, in pipeline_func\n    return func(split, prev_func(split, iterator))\n  File \"/Users/beaquevedo/opt/anaconda3/lib/python3.8/site-packages/pyspark/rdd.py\", line 2596, in pipeline_func\n    return func(split, prev_func(split, iterator))\n  File \"/Users/beaquevedo/opt/anaconda3/lib/python3.8/site-packages/pyspark/rdd.py\", line 425, in func\n    return f(iterator)\n  File \"/Users/beaquevedo/opt/anaconda3/lib/python3.8/site-packages/pyspark/rdd.py\", line 1946, in combineLocally\n    merger.mergeValues(iterator)\n  File \"/Users/beaquevedo/opt/anaconda3/lib/python3.8/site-packages/pyspark/python/lib/pyspark.zip/pyspark/shuffle.py\", line 240, in mergeValues\n    d[k] = comb(d[k], v) if k in d else creator(v)\n  File \"/Users/beaquevedo/opt/anaconda3/lib/python3.8/site-packages/pyspark/util.py\", line 107, in wrapper\n    return f(*args, **kwargs)\n  File \"<ipython-input-76-71e8f53b5434>\", line 2, in <lambda>\nTypeError: unsupported operand type(s) for +: 'float' and 'NoneType'\n\n\tat org.apache.spark.api.python.BasePythonRunner$ReaderIterator.handlePythonException(PythonRunner.scala:503)\n\tat org.apache.spark.api.python.PythonRunner$$anon$3.read(PythonRunner.scala:638)\n\tat org.apache.spark.api.python.PythonRunner$$anon$3.read(PythonRunner.scala:621)\n\tat org.apache.spark.api.python.BasePythonRunner$ReaderIterator.hasNext(PythonRunner.scala:456)\n\tat org.apache.spark.InterruptibleIterator.hasNext(InterruptibleIterator.scala:37)\n\tat scala.collection.Iterator$GroupedIterator.fill(Iterator.scala:1209)\n\tat scala.collection.Iterator$GroupedIterator.hasNext(Iterator.scala:1215)\n\tat scala.collection.Iterator$$anon$10.hasNext(Iterator.scala:458)\n\tat org.apache.spark.shuffle.sort.BypassMergeSortShuffleWriter.write(BypassMergeSortShuffleWriter.java:132)\n\tat org.apache.spark.shuffle.ShuffleWriteProcessor.write(ShuffleWriteProcessor.scala:59)\n\tat org.apache.spark.scheduler.ShuffleMapTask.runTask(ShuffleMapTask.scala:99)\n\tat org.apache.spark.scheduler.ShuffleMapTask.runTask(ShuffleMapTask.scala:52)\n\tat org.apache.spark.scheduler.Task.run(Task.scala:127)\n\tat org.apache.spark.executor.Executor$TaskRunner.$anonfun$run$3(Executor.scala:446)\n\tat org.apache.spark.util.Utils$.tryWithSafeFinally(Utils.scala:1377)\n\tat org.apache.spark.executor.Executor$TaskRunner.run(Executor.scala:449)\n\tat java.util.concurrent.ThreadPoolExecutor.runWorker(ThreadPoolExecutor.java:1149)\n\tat java.util.concurrent.ThreadPoolExecutor$Worker.run(ThreadPoolExecutor.java:624)\n\tat java.lang.Thread.run(Thread.java:748)\n\nDriver stacktrace:\n\tat org.apache.spark.scheduler.DAGScheduler.failJobAndIndependentStages(DAGScheduler.scala:2059)\n\tat org.apache.spark.scheduler.DAGScheduler.$anonfun$abortStage$2(DAGScheduler.scala:2008)\n\tat org.apache.spark.scheduler.DAGScheduler.$anonfun$abortStage$2$adapted(DAGScheduler.scala:2007)\n\tat scala.collection.mutable.ResizableArray.foreach(ResizableArray.scala:62)\n\tat scala.collection.mutable.ResizableArray.foreach$(ResizableArray.scala:55)\n\tat scala.collection.mutable.ArrayBuffer.foreach(ArrayBuffer.scala:49)\n\tat org.apache.spark.scheduler.DAGScheduler.abortStage(DAGScheduler.scala:2007)\n\tat org.apache.spark.scheduler.DAGScheduler.$anonfun$handleTaskSetFailed$1(DAGScheduler.scala:973)\n\tat org.apache.spark.scheduler.DAGScheduler.$anonfun$handleTaskSetFailed$1$adapted(DAGScheduler.scala:973)\n\tat scala.Option.foreach(Option.scala:407)\n\tat org.apache.spark.scheduler.DAGScheduler.handleTaskSetFailed(DAGScheduler.scala:973)\n\tat org.apache.spark.scheduler.DAGSchedulerEventProcessLoop.doOnReceive(DAGScheduler.scala:2239)\n\tat org.apache.spark.scheduler.DAGSchedulerEventProcessLoop.onReceive(DAGScheduler.scala:2188)\n\tat org.apache.spark.scheduler.DAGSchedulerEventProcessLoop.onReceive(DAGScheduler.scala:2177)\n\tat org.apache.spark.util.EventLoop$$anon$1.run(EventLoop.scala:49)\n\tat org.apache.spark.scheduler.DAGScheduler.runJob(DAGScheduler.scala:775)\n\tat org.apache.spark.SparkContext.runJob(SparkContext.scala:2099)\n\tat org.apache.spark.SparkContext.runJob(SparkContext.scala:2120)\n\tat org.apache.spark.SparkContext.runJob(SparkContext.scala:2139)\n\tat org.apache.spark.api.python.PythonRDD$.runJob(PythonRDD.scala:154)\n\tat org.apache.spark.api.python.PythonRDD.runJob(PythonRDD.scala)\n\tat sun.reflect.GeneratedMethodAccessor107.invoke(Unknown Source)\n\tat sun.reflect.DelegatingMethodAccessorImpl.invoke(DelegatingMethodAccessorImpl.java:43)\n\tat java.lang.reflect.Method.invoke(Method.java:498)\n\tat py4j.reflection.MethodInvoker.invoke(MethodInvoker.java:244)\n\tat py4j.reflection.ReflectionEngine.invoke(ReflectionEngine.java:357)\n\tat py4j.Gateway.invoke(Gateway.java:282)\n\tat py4j.commands.AbstractCommand.invokeMethod(AbstractCommand.java:132)\n\tat py4j.commands.CallCommand.execute(CallCommand.java:79)\n\tat py4j.GatewayConnection.run(GatewayConnection.java:238)\n\tat java.lang.Thread.run(Thread.java:748)\nCaused by: org.apache.spark.api.python.PythonException: Traceback (most recent call last):\n  File \"/Users/beaquevedo/opt/anaconda3/lib/python3.8/site-packages/pyspark/python/lib/pyspark.zip/pyspark/worker.py\", line 605, in main\n    process()\n  File \"/Users/beaquevedo/opt/anaconda3/lib/python3.8/site-packages/pyspark/python/lib/pyspark.zip/pyspark/worker.py\", line 595, in process\n    out_iter = func(split_index, iterator)\n  File \"/Users/beaquevedo/opt/anaconda3/lib/python3.8/site-packages/pyspark/rdd.py\", line 2596, in pipeline_func\n    return func(split, prev_func(split, iterator))\n  File \"/Users/beaquevedo/opt/anaconda3/lib/python3.8/site-packages/pyspark/rdd.py\", line 2596, in pipeline_func\n    return func(split, prev_func(split, iterator))\n  File \"/Users/beaquevedo/opt/anaconda3/lib/python3.8/site-packages/pyspark/rdd.py\", line 425, in func\n    return f(iterator)\n  File \"/Users/beaquevedo/opt/anaconda3/lib/python3.8/site-packages/pyspark/rdd.py\", line 1946, in combineLocally\n    merger.mergeValues(iterator)\n  File \"/Users/beaquevedo/opt/anaconda3/lib/python3.8/site-packages/pyspark/python/lib/pyspark.zip/pyspark/shuffle.py\", line 240, in mergeValues\n    d[k] = comb(d[k], v) if k in d else creator(v)\n  File \"/Users/beaquevedo/opt/anaconda3/lib/python3.8/site-packages/pyspark/util.py\", line 107, in wrapper\n    return f(*args, **kwargs)\n  File \"<ipython-input-76-71e8f53b5434>\", line 2, in <lambda>\nTypeError: unsupported operand type(s) for +: 'float' and 'NoneType'\n\n\tat org.apache.spark.api.python.BasePythonRunner$ReaderIterator.handlePythonException(PythonRunner.scala:503)\n\tat org.apache.spark.api.python.PythonRunner$$anon$3.read(PythonRunner.scala:638)\n\tat org.apache.spark.api.python.PythonRunner$$anon$3.read(PythonRunner.scala:621)\n\tat org.apache.spark.api.python.BasePythonRunner$ReaderIterator.hasNext(PythonRunner.scala:456)\n\tat org.apache.spark.InterruptibleIterator.hasNext(InterruptibleIterator.scala:37)\n\tat scala.collection.Iterator$GroupedIterator.fill(Iterator.scala:1209)\n\tat scala.collection.Iterator$GroupedIterator.hasNext(Iterator.scala:1215)\n\tat scala.collection.Iterator$$anon$10.hasNext(Iterator.scala:458)\n\tat org.apache.spark.shuffle.sort.BypassMergeSortShuffleWriter.write(BypassMergeSortShuffleWriter.java:132)\n\tat org.apache.spark.shuffle.ShuffleWriteProcessor.write(ShuffleWriteProcessor.scala:59)\n\tat org.apache.spark.scheduler.ShuffleMapTask.runTask(ShuffleMapTask.scala:99)\n\tat org.apache.spark.scheduler.ShuffleMapTask.runTask(ShuffleMapTask.scala:52)\n\tat org.apache.spark.scheduler.Task.run(Task.scala:127)\n\tat org.apache.spark.executor.Executor$TaskRunner.$anonfun$run$3(Executor.scala:446)\n\tat org.apache.spark.util.Utils$.tryWithSafeFinally(Utils.scala:1377)\n\tat org.apache.spark.executor.Executor$TaskRunner.run(Executor.scala:449)\n\tat java.util.concurrent.ThreadPoolExecutor.runWorker(ThreadPoolExecutor.java:1149)\n\tat java.util.concurrent.ThreadPoolExecutor$Worker.run(ThreadPoolExecutor.java:624)\n\t... 1 more\n"
     ]
    }
   ],
   "source": [
    "avg = cuart.combineByKey(lambda value: (value, 1),\n",
    "                           lambda x, value: (x[0] + value, x[1] + 1),\n",
    "                           lambda x, y: (x[0] + y[0], x[1] + y[1])\n",
    "                           )\n",
    "\n",
    "avg = avg.map(lambda x: (x[0], x[1][0]/x[1][1],2))\n",
    "avg.sortBy(lambda x: x[0], ascending = False).collect()"
   ]
  },
  {
   "cell_type": "code",
   "execution_count": null,
   "metadata": {
    "scrolled": true
   },
   "outputs": [],
   "source": []
  },
  {
   "cell_type": "markdown",
   "metadata": {},
   "source": [
    "***"
   ]
  },
  {
   "cell_type": "markdown",
   "metadata": {},
   "source": [
    "## (COMPLEMENTARIA) Las 10 viviendas con mejores servicios y mejor precio."
   ]
  },
  {
   "cell_type": "code",
   "execution_count": null,
   "metadata": {},
   "outputs": [],
   "source": []
  },
  {
   "cell_type": "markdown",
   "metadata": {},
   "source": [
    "***"
   ]
  },
  {
   "cell_type": "markdown",
   "metadata": {},
   "source": [
    "### Pista:\n",
    "#### Calcula las variables: \n",
    "- Número de servicios excelentes\n",
    "- Número de servicios buenos\n",
    "...\n",
    "\n",
    "#### Tendréis que tener en cuenta también variables como número de baños Full Bath, cocinas Kitchen AbvGr o dormitorios Bedroom AbvGr. Generando por ejemplo (número de estas variables por encima de media)\n",
    "\n",
    "#### Finalmente precio de venta"
   ]
  }
 ],
 "metadata": {
  "kernelspec": {
   "display_name": "Python 3",
   "language": "python",
   "name": "python3"
  },
  "language_info": {
   "codemirror_mode": {
    "name": "ipython",
    "version": 3
   },
   "file_extension": ".py",
   "mimetype": "text/x-python",
   "name": "python",
   "nbconvert_exporter": "python",
   "pygments_lexer": "ipython3",
   "version": "3.8.3"
  },
  "toc": {
   "base_numbering": 1,
   "nav_menu": {},
   "number_sections": true,
   "sideBar": true,
   "skip_h1_title": false,
   "title_cell": "Table of Contents",
   "title_sidebar": "Contents",
   "toc_cell": false,
   "toc_position": {},
   "toc_section_display": true,
   "toc_window_display": true
  }
 },
 "nbformat": 4,
 "nbformat_minor": 2
}
