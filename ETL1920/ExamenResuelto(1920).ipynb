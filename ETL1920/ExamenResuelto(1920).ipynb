{
 "cells": [
  {
   "cell_type": "markdown",
   "metadata": {},
   "source": [
    "* Autora: Andrea Jiménez Zuñiga\n",
    "* Fecha: 15/01/2021\n",
    "* Institución: CUNEF"
   ]
  },
  {
   "cell_type": "markdown",
   "metadata": {},
   "source": [
    "## 1. The World Bank's international debt data\n",
    "<p>No es que los humanos solo tengamos deudas para administrar nuestras necesidades. Un país también puede endeudarse para administrar su economía. Por ejemplo, el gasto en infraestructura es un ingrediente costoso requerido para que los ciudadanos de un país lleven una vida cómoda. El Banco Mundial es la organización que proporciona deuda a los países.</p>\n",
    "\n",
    "<!-- <p>En este notebook, vamos a analizar los datos de la deuda internacional recopilados por el Banco Mundial. El conjunto de datos contiene información sobre el monto de la deuda (en USD) que deben los países en desarrollo en varias categorías.</p>  -->"
   ]
  },
  {
   "cell_type": "markdown",
   "metadata": {},
   "source": [
    "\"Disbursements on external debt, long-term (DIS, current US$)\",DT.DIS.DLXF.CD\n",
    "\"Interest payments on external debt, long-term (INT, current US$)\",DT.INT.DLXF.CD\n",
    "\"PPG, bilateral (AMT, current US$)\",DT.AMT.BLAT.CD\n",
    "\"PPG, bilateral (DIS, current US$)\",DT.DIS.BLAT.CD\n",
    "\"PPG, bilateral (INT, current US$)\",DT.INT.BLAT.CD\n",
    "\"PPG, multilateral (AMT, current US$)\",DT.AMT.MLAT.CD\n",
    "\"PPG, multilateral (DIS, current US$)\",DT.DIS.MLAT.CD\n",
    "\"PPG, multilateral (INT, current US$)\",DT.INT.MLAT.CD\n",
    "\"PPG, official creditors (AMT, current US$)\",DT.AMT.OFFT.CD\n",
    "\"PPG, official creditors (DIS, current US$)\",DT.DIS.OFFT.CD\n",
    "\"PPG, official creditors (INT, current US$)\",DT.INT.OFFT.CD\n",
    "\"Principal repayments on external debt, long-term (AMT, current US$)\",DT.AMT.DLXF.CD\n",
    "\"Interest payments on external debt, private nonguaranteed (PNG) (INT, current US$)\",DT.INT.DPNG.CD\n",
    "\"PPG, bonds (AMT, current US$)\",DT.AMT.PBND.CD\n",
    "\"PPG, bonds (INT, current US$)\",DT.INT.PBND.CD\n",
    "\"PPG, commercial banks (AMT, current US$)\",DT.AMT.PCBK.CD\n",
    "\"PPG, commercial banks (DIS, current US$)\",DT.DIS.PCBK.CD\n",
    "\"PPG, commercial banks (INT, current US$)\",DT.INT.PCBK.CD\n",
    "\"PPG, other private creditors (AMT, current US$)\",DT.AMT.PROP.CD\n",
    "\"PPG, other private creditors (DIS, current US$)\",DT.DIS.PROP.CD\n",
    "\"PPG, other private creditors (INT, current US$)\",DT.INT.PROP.CD\n",
    "\"PPG, private creditors (AMT, current US$)\",DT.AMT.PRVT.CD\n",
    "\"PPG, private creditors (DIS, current US$)\",DT.DIS.PRVT.CD\n",
    "\"PPG, private creditors (INT, current US$)\",DT.INT.PRVT.CD\n",
    "\"Principal repayments on external debt, private nonguaranteed (PNG) (AMT, current US$)\",DT.AMT.DPNG.CD"
   ]
  },
  {
   "cell_type": "markdown",
   "metadata": {},
   "source": [
    "<p>Vamos a encontrar las respuestas a preguntas como:\n",
    "\n",
    "<p>¿Cuál es el monto total de la deuda que deben los países enumerados en el conjunto de datos?\n",
    "<p>¿Qué país posee la cantidad máxima de deuda y cómo se ve esa cantidad?\n",
    "<p>¿Cuál es el monto promedio de la deuda de los países a través de diferentes indicadores de deuda?\n",
    "    \n",
    "Además tenemos otro dataset en el que encontramos información histórica de algunos índices de desarrollo, entre los que se encuentran algunos de deuda como son:"
   ]
  },
  {
   "cell_type": "markdown",
   "metadata": {},
   "source": [
    "Series Name,Series Code\n",
    "\"Birth rate, crude (per 1,000 people)\",SP.DYN.CBRT.IN\n",
    "\n",
    "\"Central government debt, total (current LCU)\",GC.DOD.TOTL.CN\n",
    "\n",
    "\"Central government debt, total (% of GDP)\",GC.DOD.TOTL.GD.ZS"
   ]
  },
  {
   "cell_type": "markdown",
   "metadata": {},
   "source": [
    "#### 1. Inicializar y cargar el contexto spark"
   ]
  },
  {
   "cell_type": "code",
   "execution_count": 1,
   "metadata": {
    "collapsed": false
   },
   "outputs": [],
   "source": [
    "# Librerias que voy a necesitar para inicializar spark, incluyendo el resto de librerias que voy a necesitar\n",
    "# a lo largo del ejercicio.\n",
    "\n",
    "import re\n",
    "from pyspark.sql import functions as f\n",
    "from pyspark.sql import Row\n",
    "import numpy as np\n",
    "import pandas as pd\n",
    "from pyspark import SparkContext\n",
    "pd.options.display.max_columns = None \n",
    "pd.options.display.max_rows = None \n",
    "from pyspark.sql import SQLContext\n",
    "sc= SparkContext()\n",
    "from pyspark.sql.functions import desc\n",
    "from pyspark.context import SparkContext\n",
    "from pyspark.sql.session import SparkSession\n",
    "\n",
    "sc = SparkContext.getOrCreate()\n",
    "spark = SparkSession(sc)"
   ]
  },
  {
   "cell_type": "code",
   "execution_count": 2,
   "metadata": {
    "collapsed": true
   },
   "outputs": [],
   "source": [
    "# A continuacion cargo las bases de datos\n",
    "\n",
    "indicadores_desarrollo = spark.read.format('csv') \\\n",
    "                .option('header',True) \\\n",
    "                .option('multiLine', True) \\\n",
    "                .load('indicadores_desarrollo.csv')\n",
    "            \n",
    "indicadores_deuda = spark.read.format('csv') \\\n",
    "                .option('header',True) \\\n",
    "                .option('multiLine', True) \\\n",
    "                .load('indicadores_deuda.csv')"
   ]
  },
  {
   "cell_type": "markdown",
   "metadata": {},
   "source": [
    "A continuación, he realizado cambios en el nombre de ciertas variables para que a la hora de realizar ciertas operaciones no me de problemas. Para ello utilizo _withColumnRenamed_ para renombrar esas columnas."
   ]
  },
  {
   "cell_type": "code",
   "execution_count": 3,
   "metadata": {
    "collapsed": false
   },
   "outputs": [],
   "source": [
    "indicadores_deuda = indicadores_deuda.withColumnRenamed('DT.AMT.BLAT.CD','dt_amt_blat_cd')\n",
    "indicadores_deuda = indicadores_deuda.withColumnRenamed('DT.AMT.MLAT.CD' , 'dt_amt_mlat_cd')\n",
    "indicadores_deuda = indicadores_deuda.withColumnRenamed('DT.DIS.BLAT.CD' , 'dt_dis_blat_cd')\n",
    "indicadores_deuda = indicadores_deuda.withColumnRenamed('DT.INT.BLAT.CD' , 'dt_int_blat_cd')\n",
    "indicadores_deuda = indicadores_deuda.withColumnRenamed('DT.AMT.BLAT.CD' , 'dt_amt_blat_cd')\n",
    "indicadores_deuda = indicadores_deuda.withColumnRenamed('SP.DYN.CBRT.IN' , 'sp_dyn_crbt_in')\n",
    "indicadores_deuda = indicadores_deuda.withColumnRenamed('DT.AMT.DLXF.CD' , 'dt_amt_dlxf_cd')"
   ]
  },
  {
   "cell_type": "markdown",
   "metadata": {},
   "source": [
    "Observo la estructura que sigue tanto mi dataset formado por los indicadores de desarrollo como los de deuda."
   ]
  },
  {
   "cell_type": "code",
   "execution_count": 4,
   "metadata": {
    "collapsed": false
   },
   "outputs": [
    {
     "data": {
      "text/plain": [
       "[Row(country_name='Albania', country_code='ALB', anho='2014 [YR2014]', GC.DOD.TOTL.CN='1023040800000', GC.DOD.TOTL.GD.ZS='73.3202469198429', SP.DYN.CBRT.IN='12.259')]"
      ]
     },
     "execution_count": 4,
     "metadata": {},
     "output_type": "execute_result"
    }
   ],
   "source": [
    "indicadores_desarrollo.take(1)"
   ]
  },
  {
   "cell_type": "code",
   "execution_count": 5,
   "metadata": {
    "collapsed": false
   },
   "outputs": [
    {
     "data": {
      "text/plain": [
       "[Row(country_name='Afghanistan', country_code='AFG', dt_amt_blat_cd='61739336.9', dt_amt_dlxf_cd='100847181.9', DT.AMT.DPNG.CD=None, dt_amt_mlat_cd='39107845', DT.AMT.OFFT.CD='100847181.9', DT.AMT.PBND.CD=None, DT.AMT.PCBK.CD=None, DT.AMT.PROP.CD=None, DT.AMT.PRVT.CD=None, dt_dis_blat_cd='49114729.4', DT.DIS.DLXF.CD='72894453.7', DT.DIS.MLAT.CD='23779724.3', DT.DIS.OFFT.CD='72894453.7', DT.DIS.PCBK.CD=None, DT.DIS.PROP.CD=None, DT.DIS.PRVT.CD=None, dt_int_blat_cd='39903620.1', DT.INT.DLXF.CD='53239440.1', DT.INT.DPNG.CD=None, DT.INT.MLAT.CD='13335820', DT.INT.OFFT.CD='53239440.1', DT.INT.PBND.CD=None, DT.INT.PCBK.CD=None, DT.INT.PROP.CD=None, DT.INT.PRVT.CD=None)]"
      ]
     },
     "execution_count": 5,
     "metadata": {},
     "output_type": "execute_result"
    }
   ],
   "source": [
    "indicadores_deuda.take(1)"
   ]
  },
  {
   "cell_type": "code",
   "execution_count": 6,
   "metadata": {
    "collapsed": false
   },
   "outputs": [
    {
     "data": {
      "text/plain": [
       "134"
      ]
     },
     "execution_count": 6,
     "metadata": {},
     "output_type": "execute_result"
    }
   ],
   "source": [
    "indicadores_desarrollo.count()"
   ]
  },
  {
   "cell_type": "code",
   "execution_count": 7,
   "metadata": {
    "collapsed": false
   },
   "outputs": [
    {
     "data": {
      "text/plain": [
       "124"
      ]
     },
     "execution_count": 7,
     "metadata": {},
     "output_type": "execute_result"
    }
   ],
   "source": [
    "indicadores_deuda.count()"
   ]
  },
  {
   "cell_type": "markdown",
   "metadata": {},
   "source": [
    "#### 2. Número de países distintos en cada dataset. Coinciden?"
   ]
  },
  {
   "cell_type": "markdown",
   "metadata": {},
   "source": [
    "Para poder obtener el número de países distintos que existen tanto en el dataset de indicadores de desarrollo y en el correspondiente al de los indicadores de deuda, es necesario hacer uso de la función ___distinct()___ , ya que esta función me va a devolver un nuevo dataframe que contiene el número de filas distintas en el dataset correspondiente."
   ]
  },
  {
   "cell_type": "markdown",
   "metadata": {},
   "source": [
    "   1. Dataset Indicadores de Deuda:"
   ]
  },
  {
   "cell_type": "markdown",
   "metadata": {},
   "source": [
    "Hay un total de 124 países distintos en el dataset de indicadores de deuda."
   ]
  },
  {
   "cell_type": "code",
   "execution_count": 9,
   "metadata": {
    "collapsed": false
   },
   "outputs": [
    {
     "data": {
      "text/plain": [
       "124"
      ]
     },
     "execution_count": 9,
     "metadata": {},
     "output_type": "execute_result"
    }
   ],
   "source": [
    "paises_deuda = indicadores_deuda.groupBy(\"country_name\").sum().distinct().collect()\n",
    "len(paises_deuda)"
   ]
  },
  {
   "cell_type": "markdown",
   "metadata": {},
   "source": [
    "   1. Dataset Indicadores de Desarrollo:"
   ]
  },
  {
   "cell_type": "markdown",
   "metadata": {},
   "source": [
    "Hay un total de 52 países distintos en el dataset de indicadores de desarrollo."
   ]
  },
  {
   "cell_type": "code",
   "execution_count": 10,
   "metadata": {
    "collapsed": false
   },
   "outputs": [
    {
     "data": {
      "text/plain": [
       "52"
      ]
     },
     "execution_count": 10,
     "metadata": {},
     "output_type": "execute_result"
    }
   ],
   "source": [
    "paises_desarrollo = indicadores_desarrollo.groupBy(\"country_name\").sum().distinct().collect()\n",
    "len(paises_desarrollo)"
   ]
  },
  {
   "cell_type": "markdown",
   "metadata": {},
   "source": [
    "Se puede observar que el número de países distintos en cada dataset no coincide. El dataset de deuda contiene más países que el dataset de desarrollo, presentando 72 países más que el de desarrollo."
   ]
  },
  {
   "cell_type": "markdown",
   "metadata": {},
   "source": [
    "#### 3. Total de deuda contraida por cada pais: total amount of debt (in USD) DT.AMT.MLAT.CD"
   ]
  },
  {
   "cell_type": "markdown",
   "metadata": {},
   "source": [
    "Para calcular el total de deuda contraída por cada país, es necesario calcular la suma de dicha deuda (DT.AMT.MLAT.CD) y agruparlo por países. "
   ]
  },
  {
   "cell_type": "code",
   "execution_count": 34,
   "metadata": {
    "collapsed": false,
    "scrolled": false
   },
   "outputs": [
    {
     "name": "stdout",
     "output_type": "stream",
     "text": [
      "+--------------------+--------------+\n",
      "|        country_name|   Total_deuda|\n",
      "+--------------------+--------------+\n",
      "|          South Asia|7.8517399295E9|\n",
      "|                Chad|  9.57387095E7|\n",
      "|        EgyptArabRep| 2.424904078E9|\n",
      "|            Paraguay| 2.076620309E8|\n",
      "|             Senegal| 1.704379291E8|\n",
      "|          Cabo Verde|  3.99701249E7|\n",
      "|      IranIslamicRep|  7.83540608E7|\n",
      "|Least developed c...|4.0842755242E9|\n",
      "|              Guyana|  3.46518065E7|\n",
      "|             Eritrea|  1.54824754E7|\n",
      "|         Philippines| 7.390564273E8|\n",
      "|            Djibouti|  3.42549092E7|\n",
      "|               Tonga|     2791253.2|\n",
      "|                Fiji|     9082442.6|\n",
      "|              Turkey| 2.932698678E9|\n",
      "|              Malawi|  3.56598314E7|\n",
      "|             Comoros|     2182053.1|\n",
      "|         Afghanistan|   3.9107845E7|\n",
      "|            Cambodia|  7.23070018E7|\n",
      "|              Jordan| 2.704987155E8|\n",
      "+--------------------+--------------+\n",
      "only showing top 20 rows\n",
      "\n"
     ]
    }
   ],
   "source": [
    "total_deuda_pais = indicadores_deuda.groupby([\"country_name\"]).agg(f.sum('dt_amt_mlat_cd').alias(\"Total_deuda\"))\n",
    "total_deuda_pais.show()"
   ]
  },
  {
   "cell_type": "markdown",
   "metadata": {
    "collapsed": true
   },
   "source": [
    "#### 4. Media de los indicadores de deuda (tabla uno): DT.AMT.BLAT.CD, DT.DIS.BLAT.CD, DT.INT.BLAT.CD"
   ]
  },
  {
   "cell_type": "markdown",
   "metadata": {},
   "source": [
    "Para calcular la media de estos indicadores se utiliza la función de agregado que calcula la media.\n",
    "El indicador que tiene mayor media es el indicador DT.DIS.BLAT.CD."
   ]
  },
  {
   "cell_type": "code",
   "execution_count": 13,
   "metadata": {
    "collapsed": false
   },
   "outputs": [
    {
     "name": "stdout",
     "output_type": "stream",
     "text": [
      "+-------------------+\n",
      "|            Media 1|\n",
      "+-------------------+\n",
      "|7.126196346598358E8|\n",
      "+-------------------+\n",
      "\n",
      "+------------------+\n",
      "|           Media 2|\n",
      "+------------------+\n",
      "|1.22313929039823E9|\n",
      "+------------------+\n",
      "\n",
      "+-------------------+\n",
      "|            Media 3|\n",
      "+-------------------+\n",
      "|1.640932856090164E8|\n",
      "+-------------------+\n",
      "\n"
     ]
    }
   ],
   "source": [
    "media_dtamt = indicadores_deuda.agg(f.mean('dt_amt_blat_cd').alias(\"Media 1\")).show()\n",
    "media_dtamt = indicadores_deuda.agg(f.mean('dt_dis_blat_cd').alias(\"Media 2\")).show()\n",
    "media_dtamt = indicadores_deuda.agg(f.mean('dt_int_blat_cd').alias(\"Media 3\")).show()\n"
   ]
  },
  {
   "cell_type": "markdown",
   "metadata": {},
   "source": [
    "#### 5. Los 20 paises con DT.AMT.DLXF.CD más alto"
   ]
  },
  {
   "cell_type": "markdown",
   "metadata": {},
   "source": [
    "Para obtener los 20 países con un DT.AMT.DLXF.CD más alto es necesario ordenar de forma descendente dicho indicador, agrupándolos por el nombre del país y el indicador. \n",
    "\n",
    "Venezuela es el país con mayor valor de dicho indicador, con un total de 9,878,659,207.2 dólares, mientras que en el último puesto se encuentra Guinea-Bissau, con un total de 6,783,629.1 dólares.\n"
   ]
  },
  {
   "cell_type": "code",
   "execution_count": 14,
   "metadata": {
    "collapsed": false
   },
   "outputs": [
    {
     "name": "stdout",
     "output_type": "stream",
     "text": [
      "+---------------+--------------+-----+\n",
      "|   country_name|dt_amt_dlxf_cd|count|\n",
      "+---------------+--------------+-----+\n",
      "|    VenezuelaRB|  9878659207.2|    1|\n",
      "|  Cote d'Ivoire|   979241934.4|    1|\n",
      "|   EgyptArabRep|  9692114176.9|    1|\n",
      "|          China| 96218620835.7|    1|\n",
      "|        Lebanon|  9506919669.6|    1|\n",
      "|   South Africa|  9474257551.9|    1|\n",
      "|         Brazil| 90041840304.1|    1|\n",
      "|        Vietnam|  8873505909.2|    1|\n",
      "|   MacedoniaFYR|   875846538.5|    1|\n",
      "|        Armenia|   845630723.8|    1|\n",
      "|       Pakistan|  8336013891.3|    1|\n",
      "|       Djibouti|    83185188.3|    1|\n",
      "|    Timor-Leste|        825000|    1|\n",
      "|Kyrgyz Republic|   816419045.1|    1|\n",
      "|        Ukraine|  8148995625.6|    1|\n",
      "|        Albania|   790248675.2|    1|\n",
      "|       Cambodia|   775955981.3|    1|\n",
      "|        Moldova|     769232867|    1|\n",
      "|           Togo|    73812591.8|    1|\n",
      "|  Guinea-Bissau|     6783629.1|    1|\n",
      "+---------------+--------------+-----+\n",
      "\n"
     ]
    }
   ],
   "source": [
    "top_20_paises = indicadores_deuda \\\n",
    ".groupby('country_name','dt_amt_dlxf_cd') \\\n",
    ".count() \\\n",
    ".orderBy(f.col(\"dt_amt_dlxf_cd\").desc()) \\\n",
    ".limit(20)\n",
    "top_20_paises.show()\n"
   ]
  },
  {
   "cell_type": "markdown",
   "metadata": {},
   "source": [
    "#### 6. Pais con los datos informados todos los años."
   ]
  },
  {
   "cell_type": "markdown",
   "metadata": {},
   "source": [
    "Para obtener los países que contienen datos todos los años hay que, en primer lugar, conocer los distintos años que aparecen en el dataset de los indicadores de desarrollo. Para ello empleamos la función ___distinct()___ sobre los años. "
   ]
  },
  {
   "cell_type": "code",
   "execution_count": 15,
   "metadata": {
    "collapsed": false,
    "scrolled": false
   },
   "outputs": [
    {
     "data": {
      "text/plain": [
       "[Row(anho='2016 [YR2016]'),\n",
       " Row(anho='2014 [YR2014]'),\n",
       " Row(anho='2017 [YR2017]'),\n",
       " Row(anho='2015 [YR2015]')]"
      ]
     },
     "execution_count": 15,
     "metadata": {},
     "output_type": "execute_result"
    }
   ],
   "source": [
    "anho = indicadores_desarrollo.groupBy(\"anho\").sum().distinct().collect()\n",
    "anho # Hay 4 años distintos"
   ]
  },
  {
   "cell_type": "markdown",
   "metadata": {},
   "source": [
    "En dicho dataset, se recogen datos en los años 2014, 2015, 2016 y 2017, es decir, hay un total de 4 años. \n",
    "Una vez conocido el número máximo de años en los que los países pueden informar de sus datos, realizamos un filtro (___filter()___) poniendo como condición que el count de los años sea igual a 4, agrupándolo por países."
   ]
  },
  {
   "cell_type": "code",
   "execution_count": 16,
   "metadata": {
    "collapsed": false
   },
   "outputs": [
    {
     "name": "stdout",
     "output_type": "stream",
     "text": [
      "+------------+-----+\n",
      "|country_name|count|\n",
      "+------------+-----+\n",
      "|      Malawi|    4|\n",
      "+------------+-----+\n",
      "\n"
     ]
    }
   ],
   "source": [
    "pais_total_anhos = indicadores_desarrollo.groupby('country_name').count().filter(\"`count` = 4\").show()\n"
   ]
  },
  {
   "cell_type": "markdown",
   "metadata": {},
   "source": [
    "De tal forma obtenemos que el único país con los datos informados todos los años es Malawi."
   ]
  },
  {
   "cell_type": "markdown",
   "metadata": {},
   "source": [
    "#### 7.  Media anual de los distintos indicadores de desarrollo"
   ]
  },
  {
   "cell_type": "markdown",
   "metadata": {},
   "source": [
    "Indicadores de desarrollo: GC.DOD.TOTL.CN, GC.DOD.TOTL.GD.ZS, SP.DYN.CBRT.IN"
   ]
  },
  {
   "cell_type": "markdown",
   "metadata": {},
   "source": [
    "A continuación, he realizado cambios en el nombre de ciertas variables para que a la hora de realizar ciertas operaciones no me de problemas. Para ello utilizo withColumnRenamed para renombrar esas columnas."
   ]
  },
  {
   "cell_type": "code",
   "execution_count": 17,
   "metadata": {
    "collapsed": true
   },
   "outputs": [],
   "source": [
    "indicadores_desarrollo = indicadores_desarrollo.withColumnRenamed('GC.DOD.TOTL.CN','gc_dod_totl_cn')\n",
    "indicadores_desarrollo = indicadores_desarrollo.withColumnRenamed('GC.DOD.TOTL.GD.ZS','gc_dod_totl_gd_zs')\n",
    "indicadores_desarrollo = indicadores_desarrollo.withColumnRenamed('SP.DYN.CBRT.IN','sp_dyn_cbrt_in')\n"
   ]
  },
  {
   "cell_type": "markdown",
   "metadata": {},
   "source": [
    "Para calcular la media anual de estos indicadores se utiliza la función de agregado que calcula la media, siendo necesario agruparlos por años."
   ]
  },
  {
   "cell_type": "code",
   "execution_count": 18,
   "metadata": {
    "collapsed": false
   },
   "outputs": [
    {
     "name": "stdout",
     "output_type": "stream",
     "text": [
      "+-------------+--------------------+\n",
      "|         anho|   Media Indicador 1|\n",
      "+-------------+--------------------+\n",
      "|2016 [YR2016]|1.588138215480659...|\n",
      "|2014 [YR2014]|1.034427587329532...|\n",
      "|2017 [YR2017]| 2.23985861996269E12|\n",
      "|2015 [YR2015]|1.318244039159024...|\n",
      "+-------------+--------------------+\n",
      "\n",
      "+-------------+------------------+\n",
      "|         anho| Media Indicador 2|\n",
      "+-------------+------------------+\n",
      "|2016 [YR2016]|58.796949624008356|\n",
      "|2014 [YR2014]|56.843914344384395|\n",
      "|2017 [YR2017]|   48.659564238322|\n",
      "|2015 [YR2015]| 58.36559834488036|\n",
      "+-------------+------------------+\n",
      "\n",
      "+-------------+------------------+\n",
      "|         anho| Media Indicador 3|\n",
      "+-------------+------------------+\n",
      "|2016 [YR2016]| 16.14433333333333|\n",
      "|2014 [YR2014]|          17.58262|\n",
      "|2017 [YR2017]|            34.593|\n",
      "|2015 [YR2015]|16.798477272727276|\n",
      "+-------------+------------------+\n",
      "\n"
     ]
    }
   ],
   "source": [
    "media_1 = indicadores_desarrollo.groupby(\"anho\").agg(f.mean('gc_dod_totl_cn').alias(\"Media Indicador 1\")).show()\n",
    "media_2 = indicadores_desarrollo.groupby(\"anho\").agg(f.mean('gc_dod_totl_gd_zs').alias(\"Media Indicador 2\")).show()\n",
    "media_3 = indicadores_desarrollo.groupby(\"anho\").agg(f.mean('sp_dyn_cbrt_in').alias(\"Media Indicador 3\")).show()\n",
    "\n"
   ]
  },
  {
   "cell_type": "markdown",
   "metadata": {},
   "source": [
    "#### 8. Podrías decirme el total de deuda acumulada DT.AMT.MLAT.CD por los 10 países con un valor en media menor de SP.DYN.CBRT.IN"
   ]
  },
  {
   "cell_type": "markdown",
   "metadata": {},
   "source": [
    "El indicador DT.AMT.MLAT.CD corresponde a un indicador de deuda y el indicador SP.DYN.CBRT.IN (tasaa de nacimientos) corresponde a un indicador de desarrollo.\n",
    "\n",
    "Para poder conocer el total de deuda acumulada por los 10 países con un valor en media menor del indicador de la tasa de nacimientos, es necesario conocer la media de dicha tasa."
   ]
  },
  {
   "cell_type": "code",
   "execution_count": 22,
   "metadata": {
    "collapsed": false
   },
   "outputs": [
    {
     "name": "stdout",
     "output_type": "stream",
     "text": [
      "+-------------------+\n",
      "|avg(sp_dyn_cbrt_in)|\n",
      "+-------------------+\n",
      "| 17.033477611940306|\n",
      "+-------------------+\n",
      "\n"
     ]
    }
   ],
   "source": [
    "from pyspark.sql.functions import mean as _mean, stddev as _stddev, col\n",
    "\n",
    "indicadores_desarrollo.select(_mean('sp_dyn_cbrt_in')).show()"
   ]
  },
  {
   "cell_type": "markdown",
   "metadata": {},
   "source": [
    "Como resultado se obtiene que el indicador que representa la tasa de nacimientos tiene una media de 17.0334."
   ]
  },
  {
   "cell_type": "markdown",
   "metadata": {},
   "source": [
    "A continuación, tomo la tabla calculada en el ejercicio 3 que representa el total de deuda de cada país."
   ]
  },
  {
   "cell_type": "code",
   "execution_count": 46,
   "metadata": {
    "collapsed": false
   },
   "outputs": [
    {
     "name": "stdout",
     "output_type": "stream",
     "text": [
      "+--------------------+--------------+\n",
      "|        country_name|   Total_deuda|\n",
      "+--------------------+--------------+\n",
      "|          South Asia|7.8517399295E9|\n",
      "|                Chad|  9.57387095E7|\n",
      "|        EgyptArabRep| 2.424904078E9|\n",
      "|            Paraguay| 2.076620309E8|\n",
      "|             Senegal| 1.704379291E8|\n",
      "|          Cabo Verde|  3.99701249E7|\n",
      "|      IranIslamicRep|  7.83540608E7|\n",
      "|Least developed c...|4.0842755242E9|\n",
      "|              Guyana|  3.46518065E7|\n",
      "|             Eritrea|  1.54824754E7|\n",
      "+--------------------+--------------+\n",
      "only showing top 10 rows\n",
      "\n"
     ]
    }
   ],
   "source": [
    "total_deuda_pais.show(10)"
   ]
  },
  {
   "cell_type": "markdown",
   "metadata": {},
   "source": [
    "Con mi dataset de los indicadores de desarrollo voy a incluir una columna que corresponda a la media del indicador de la tasa de nacimiento agrupados por país, aplicándole un filtro de tal forma que sólo me aparezcan los 10 países cuya media sea menor a 17.0334."
   ]
  },
  {
   "cell_type": "code",
   "execution_count": 50,
   "metadata": {
    "collapsed": false
   },
   "outputs": [
    {
     "name": "stdout",
     "output_type": "stream",
     "text": [
      "+------------+--------------------+\n",
      "|country_name|Media sp_dyn_cbrt_in|\n",
      "+------------+--------------------+\n",
      "|       Japan|   7.933333333333334|\n",
      "|  San Marino|                8.05|\n",
      "|    KoreaRep|   8.366666666666667|\n",
      "|       Spain|                 9.0|\n",
      "|     Hungary|   9.533333333333333|\n",
      "|   Singapore|   9.633333333333333|\n",
      "| Switzerland|  10.466666666666667|\n",
      "|     Ukraine|                10.6|\n",
      "|     Moldova|  10.604333333333335|\n",
      "|    Barbados|              10.861|\n",
      "+------------+--------------------+\n",
      "only showing top 10 rows\n",
      "\n"
     ]
    }
   ],
   "source": [
    "avg_desarrollo = indicadores_desarrollo \\\n",
    "                    .groupby(\"country_name\") \\\n",
    "                    .agg(f.mean('sp_dyn_cbrt_in').alias(\"Media sp_dyn_cbrt_in\")) \\\n",
    "                    .filter(\"`Media sp_dyn_cbrt_in` < 17.0334\") \\\n",
    "                    .sort((\"Media sp_dyn_cbrt_in\"))\n",
    "                \n",
    "avg_desarrollo.show(10)                                                                                           "
   ]
  },
  {
   "cell_type": "markdown",
   "metadata": {},
   "source": [
    "A continuación, realizo un join de tal forma que me una la tabla que representa la deuda total de cada país y la tabla creada anteriormente que representa la media de la tasa de nacimientos por país."
   ]
  },
  {
   "cell_type": "code",
   "execution_count": 58,
   "metadata": {
    "collapsed": false
   },
   "outputs": [
    {
     "name": "stdout",
     "output_type": "stream",
     "text": [
      "+------------------+--------------+--------------------+\n",
      "|      country_name|   Total_deuda|Media sp_dyn_cbrt_in|\n",
      "+------------------+--------------+--------------------+\n",
      "|            Turkey| 2.932698678E9|  16.717333333333332|\n",
      "|         Sri Lanka| 4.497719611E8|              16.729|\n",
      "|           Albania| 1.821976167E8|  12.178666666666667|\n",
      "|           Belarus|  5.95438826E8|  12.466666666666667|\n",
      "|Russian Federation|    1.416695E8|  13.166666666666666|\n",
      "|          Thailand|  3.90715715E7|             10.9175|\n",
      "|           Ukraine|1.0724728303E9|                10.6|\n",
      "|           Georgia| 1.440624015E8|              14.056|\n",
      "|           Jamaica|  1.74427648E8|   16.63566666666667|\n",
      "|            Brazil|2.5143187416E9|  14.467666666666666|\n",
      "+------------------+--------------+--------------------+\n",
      "\n"
     ]
    }
   ],
   "source": [
    "join_avg_pais = total_deuda_pais.join(avg_desarrollo, on=\"country_name\", how = \"inner\").limit(10)\n",
    "join_avg_pais.show()"
   ]
  },
  {
   "cell_type": "markdown",
   "metadata": {},
   "source": [
    "Como quiero los 10 países con una media menor a 17.0334, los ordeno de forma ascendente. "
   ]
  },
  {
   "cell_type": "code",
   "execution_count": 52,
   "metadata": {
    "collapsed": false
   },
   "outputs": [
    {
     "name": "stdout",
     "output_type": "stream",
     "text": [
      "+------------------+--------------+--------------------+\n",
      "|      country_name|   Total_deuda|Media sp_dyn_cbrt_in|\n",
      "+------------------+--------------+--------------------+\n",
      "|           Ukraine|1.0724728303E9|                10.6|\n",
      "|           Moldova| 1.358428655E8|  10.604333333333335|\n",
      "|          Thailand|  3.90715715E7|             10.9175|\n",
      "|           Albania| 1.821976167E8|  12.178666666666667|\n",
      "|           Belarus|  5.95438826E8|  12.466666666666667|\n",
      "|Russian Federation|    1.416695E8|  13.166666666666666|\n",
      "|           Georgia| 1.440624015E8|              14.056|\n",
      "|            Brazil|2.5143187416E9|  14.467666666666666|\n",
      "|          Colombia|1.1009075536E9|              15.516|\n",
      "|           Jamaica|  1.74427648E8|   16.63566666666667|\n",
      "+------------------+--------------+--------------------+\n",
      "\n"
     ]
    }
   ],
   "source": [
    "total = join_avg_pais.sort((\"Media sp_dyn_cbrt_in\")).limit(10)\n",
    "total.show()"
   ]
  },
  {
   "cell_type": "markdown",
   "metadata": {},
   "source": [
    "Se puede observar que la deuda acumulada del país con un valor en media menor a la tasa de nacimientos es Ucrania. "
   ]
  },
  {
   "cell_type": "markdown",
   "metadata": {},
   "source": [
    "El total de deuda acumulada  por los 10 países con un valor en media menor de la tasa de nacimientos es la que aparece a continuación:\n"
   ]
  },
  {
   "cell_type": "code",
   "execution_count": 45,
   "metadata": {
    "collapsed": false
   },
   "outputs": [
    {
     "name": "stdout",
     "output_type": "stream",
     "text": [
      "+-------------------+\n",
      "|              total|\n",
      "+-------------------+\n",
      "|6.100409554700001E9|\n",
      "+-------------------+\n",
      "\n"
     ]
    }
   ],
   "source": [
    "total.agg(f.sum('Total_deuda').alias(\"total\")).show()"
   ]
  },
  {
   "cell_type": "markdown",
   "metadata": {},
   "source": [
    "#### 9. ¿Hay alguna relación entre los nacimientos y el indicador DT.AMT.DLXF.CD? ¿Cómo podrías demostrarlo?"
   ]
  },
  {
   "cell_type": "markdown",
   "metadata": {},
   "source": [
    "Para poder determinar si hay alguna relación entre ambos indicadores, es necesario primero calcular en formato tabla la deuda acumulada por países y los nacimientos."
   ]
  },
  {
   "cell_type": "code",
   "execution_count": 65,
   "metadata": {
    "collapsed": false
   },
   "outputs": [
    {
     "name": "stdout",
     "output_type": "stream",
     "text": [
      "+--------------------+----------------+\n",
      "|        country_name| indicador_deuda|\n",
      "+--------------------+----------------+\n",
      "|          South Asia|4.87562958982E10|\n",
      "|                Chad|    1.78106958E8|\n",
      "|        EgyptArabRep|  9.6921141769E9|\n",
      "|            Paraguay|  1.5285085736E9|\n",
      "|             Senegal|    4.44722556E8|\n",
      "|          Cabo Verde|    6.77284459E7|\n",
      "|      IranIslamicRep|    1.05885317E8|\n",
      "|Least developed c...|2.51970292994E10|\n",
      "|              Guyana|   1.082646655E8|\n",
      "|             Eritrea|    3.11100778E7|\n",
      "|         Philippines|  6.4791709177E9|\n",
      "|            Djibouti|    8.31851883E7|\n",
      "|               Tonga|    1.03699106E7|\n",
      "|                Fiji|    4.65325085E7|\n",
      "|              Turkey|5.15550310058E10|\n",
      "|              Malawi|    5.74223731E7|\n",
      "|             Comoros|       4792269.1|\n",
      "|         Afghanistan|   1.008471819E8|\n",
      "|            Cambodia|   7.759559813E8|\n",
      "|              Jordan|  1.9903434792E9|\n",
      "+--------------------+----------------+\n",
      "only showing top 20 rows\n",
      "\n"
     ]
    }
   ],
   "source": [
    "indicador_deuda = indicadores_deuda.groupby(\"country_name\").agg(f.sum(\"dt_amt_dlxf_cd\").alias('indicador_deuda'))\n",
    "indicador_deuda.show()"
   ]
  },
  {
   "cell_type": "code",
   "execution_count": 60,
   "metadata": {
    "collapsed": false,
    "scrolled": false
   },
   "outputs": [
    {
     "name": "stdout",
     "output_type": "stream",
     "text": [
      "+--------------------+---------------------+\n",
      "|        country_name|indicador_nacimientos|\n",
      "+--------------------+---------------------+\n",
      "|    MicronesiaFedSts|               46.578|\n",
      "|         Philippines|               22.935|\n",
      "|  St Kitts and Nevis|                 12.6|\n",
      "|               Tonga|               76.087|\n",
      "|            Malaysia|               51.052|\n",
      "|           Singapore|                 28.9|\n",
      "|            KoreaRep|                 25.1|\n",
      "|              Turkey|               50.152|\n",
      "|              Malawi|              142.224|\n",
      "|              Jordan|                48.61|\n",
      "|               Palau|                 39.4|\n",
      "|           Sri Lanka|               33.458|\n",
      "|          San Marino|                 16.1|\n",
      "|            St Lucia|               12.502|\n",
      "|   MicronesiaFed.Sts|               23.069|\n",
      "|             Albania|               36.536|\n",
      "|                Peru|               55.694|\n",
      "|       United States|   37.099999999999994|\n",
      "|             Belarus|                 37.4|\n",
      "|St Vincent and th...|               15.011|\n",
      "+--------------------+---------------------+\n",
      "only showing top 20 rows\n",
      "\n"
     ]
    }
   ],
   "source": [
    "indicador_nacimientos = indicadores_desarrollo.groupby(\"country_name\").agg(f.sum(\"sp_dyn_cbrt_in\").alias('indicador_nacimientos'))\n",
    "indicador_nacimientos.show()"
   ]
  },
  {
   "cell_type": "markdown",
   "metadata": {},
   "source": [
    "A continuación, realizo un join de tal forma que me una ambas tablas, pudiendo observar el indicador de deuda y el indicador de la tasa de nacimientos calculados anteriormente."
   ]
  },
  {
   "cell_type": "code",
   "execution_count": 67,
   "metadata": {
    "collapsed": false
   },
   "outputs": [
    {
     "name": "stdout",
     "output_type": "stream",
     "text": [
      "+------------------+----------------+---------------------+\n",
      "|      country_name| indicador_deuda|indicador_nacimientos|\n",
      "+------------------+----------------+---------------------+\n",
      "|       Philippines|  6.4791709177E9|               22.935|\n",
      "|             Tonga|    1.03699106E7|               76.087|\n",
      "|            Turkey|5.15550310058E10|               50.152|\n",
      "|            Malawi|    5.74223731E7|              142.224|\n",
      "|            Jordan|  1.9903434792E9|                48.61|\n",
      "|         Sri Lanka|  5.7614892559E9|               33.458|\n",
      "|           Albania|   7.902486752E8|               36.536|\n",
      "|              Peru|  5.8812599747E9|               55.694|\n",
      "|           Belarus|  4.6400378842E9|                 37.4|\n",
      "|Russian Federation|6.65897618335E10|                 39.5|\n",
      "|          Thailand|  5.9147069983E9|               21.835|\n",
      "|            Bhutan|   2.132585369E8|   53.373000000000005|\n",
      "|           Ukraine|  8.1489956256E9|                 31.8|\n",
      "|           Georgia|  1.5521169536E9|               42.168|\n",
      "|         Indonesia|3.09161126538E10|               57.492|\n",
      "|         Guatemala|  2.9119819878E9|               76.886|\n",
      "|            Zambia|  1.2176434719E9|               76.595|\n",
      "|           Jamaica|   5.595974314E8|   49.907000000000004|\n",
      "|   Kyrgyz Republic|   8.164190451E8|                 81.1|\n",
      "|            Belize|   1.056099249E8|               22.067|\n",
      "+------------------+----------------+---------------------+\n",
      "only showing top 20 rows\n",
      "\n"
     ]
    }
   ],
   "source": [
    "join = indicador_deuda.join(indicador_nacimientos, on=\"country_name\", how = \"inner\")\n",
    "join.show()"
   ]
  },
  {
   "cell_type": "markdown",
   "metadata": {},
   "source": [
    "Para poder calcular la correlación, es necesario pasar mi dataframe de pyspark a un dataframe de Pandas."
   ]
  },
  {
   "cell_type": "code",
   "execution_count": 68,
   "metadata": {
    "collapsed": true
   },
   "outputs": [],
   "source": [
    "join_pandas = join.toPandas()"
   ]
  },
  {
   "cell_type": "markdown",
   "metadata": {},
   "source": [
    "Paso los valores que recoge la columna 'indicador_nacimientos' a float para poder calcular la correlación."
   ]
  },
  {
   "cell_type": "code",
   "execution_count": 69,
   "metadata": {
    "collapsed": false
   },
   "outputs": [],
   "source": [
    "join_pandas['indicador_nacimientos'] = join_pandas['indicador_nacimientos'].astype(float)"
   ]
  },
  {
   "cell_type": "markdown",
   "metadata": {},
   "source": [
    "* __Correlación:__\n",
    "    Para calcular la correlación he definido lo que va a ser mi x y la y. En este caso la 'x' es el indicador de  nacimientos y la 'y' el indicador de deuda."
   ]
  },
  {
   "cell_type": "code",
   "execution_count": 74,
   "metadata": {
    "collapsed": false
   },
   "outputs": [],
   "source": [
    "x = join_pandas.indicador_nacimientos\n",
    "y = join_pandas.indicador_deuda"
   ]
  },
  {
   "cell_type": "code",
   "execution_count": 80,
   "metadata": {
    "collapsed": false
   },
   "outputs": [
    {
     "data": {
      "text/plain": [
       "-0.17107254161023341"
      ]
     },
     "execution_count": 80,
     "metadata": {},
     "output_type": "execute_result"
    }
   ],
   "source": [
    "correlation = y.corr(x)\n",
    "correlation"
   ]
  },
  {
   "cell_type": "markdown",
   "metadata": {},
   "source": [
    "La correlación de ambas columnas es de -0.17. Representa una correlación negativa, es decir, representa un relación inversa (cuando aumenta una disminuye la otra). La correlación entre ambas es muy baja, siendo poco representativa."
   ]
  },
  {
   "cell_type": "markdown",
   "metadata": {},
   "source": [
    "* __Representación gráfica:__"
   ]
  },
  {
   "cell_type": "code",
   "execution_count": 81,
   "metadata": {
    "collapsed": true
   },
   "outputs": [],
   "source": [
    "import numpy as np\n",
    "import matplotlib.pyplot as plt\n"
   ]
  },
  {
   "cell_type": "code",
   "execution_count": 82,
   "metadata": {
    "collapsed": false
   },
   "outputs": [
    {
     "data": {
      "image/png": "[encoded data removed]",
      "text/plain": [
       "<matplotlib.figure.Figure at 0x7fe9dc925cf8>"
      ]
     },
     "metadata": {},
     "output_type": "display_data"
    }
   ],
   "source": [
    "# Plot\n",
    "colors = 'purple'\n",
    "\n",
    "plt.scatter(x, y, c=colors, alpha=0.7)\n",
    "plt.title('Correlación')\n",
    "plt.xlabel('Birth rate')\n",
    "plt.ylabel('Indicador deuda')\n",
    "plt.show()"
   ]
  },
  {
   "cell_type": "markdown",
   "metadata": {
    "collapsed": true
   },
   "source": [
    "Se puede observar que la correlación que hay entre la tasa de nacimiento y el indicador de deuda DT.AMT.DLXF.CD, siendo el mismo de -0.17. Esto demuestra que la relación entre ambas no es significativa. \n",
    "\n",
    "También ocurre que dicha correlación es negativa, lo cual demuestra que cuando la tasa de nacimientos aumenta, el indicador de deuda DT.AMT.DLXF.CD disminuye. Esto se puede observar en la gráfica. Los datos muestran un patrón descendente a medida que se mueve de izquierda a derecha, esto indica una relación negativa entre X e Y. A medida que los valores X aumentan (se mueven a la derecha) los valores Y tienden a disminuir (se mueven hacia abajo).\n",
    "\n"
   ]
  }
 ],
 "metadata": {
  "kernelspec": {
   "display_name": "Python 3",
   "language": "python",
   "name": "python3"
  },
  "language_info": {
   "codemirror_mode": {
    "name": "ipython",
    "version": 3
   },
   "file_extension": ".py",
   "mimetype": "text/x-python",
   "name": "python",
   "nbconvert_exporter": "python",
   "pygments_lexer": "ipython3",
   "version": "3.5.2"
  }
 },
 "nbformat": 4,
 "nbformat_minor": 2
}
