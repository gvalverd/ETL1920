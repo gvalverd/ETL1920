{
 "cells": [
  {
   "cell_type": "code",
   "execution_count": 1,
   "metadata": {
    "id": "x6CXTbpVEFgd"
   },
   "outputs": [],
   "source": [
    "!apt-get install openjdk-8-jdk-headless -qq > /dev/null\n",
    "!wget -q https://www-us.apache.org/dist/spark/spark-2.4.7/spark-2.4.7-bin-hadoop2.7.tgz\n",
    "!tar xf spark-2.4.7-bin-hadoop2.7.tgz #descomprime el fichero\n",
    "!pip install -q findspark #instala spark\n",
    "\n",
    "import os\n",
    "os.environ[\"JAVA_HOME\"] = \"/usr/lib/jvm/java-8-openjdk-amd64\" #funciones dels sistema de python para cambiar variables de entorno y que funcione\n",
    "os.environ[\"SPARK_HOME\"] = \"/content/spark-2.4.7-bin-hadoop2.7\"\n",
    "\n",
    "import findspark #para tener un contexto spark donde trabajar\n",
    "findspark.init()\n",
    "from pyspark import SparkContext\n",
    "sc = SparkContext()\n",
    "from pyspark.sql import SparkSession\n",
    "spark = SparkSession.builder.master(\"local[*]\").getOrCreate() #para generar una spark sesion sql"
   ]
  },
  {
   "cell_type": "code",
   "execution_count": 2,
   "metadata": {
    "id": "Cwu0NLTGEJ-m"
   },
   "outputs": [],
   "source": [
    "nba_data = sc.textFile(\"partidosLigaNBA.csv\")"
   ]
  },
  {
   "cell_type": "code",
   "execution_count": 3,
   "metadata": {
    "colab": {
     "base_uri": "https://localhost:8080/"
    },
    "id": "0OJPpTUoEcrt",
    "outputId": "abd1e9ab-e278-482c-c6f3-19e1bca01bfc"
   },
   "outputs": [
    {
     "data": {
      "text/plain": [
       "12908"
      ]
     },
     "execution_count": 3,
     "metadata": {
      "tags": []
     },
     "output_type": "execute_result"
    }
   ],
   "source": [
    "nba_data.count() #count es una funcion de accion xq nos esta devolviendo datos"
   ]
  },
  {
   "cell_type": "code",
   "execution_count": 4,
   "metadata": {
    "colab": {
     "base_uri": "https://localhost:8080/"
    },
    "id": "2UiwuYg4EhrH",
    "outputId": "0b298cbe-9caf-4328-852a-cb984e77db01"
   },
   "outputs": [
    {
     "data": {
      "text/plain": [
       "['Date:Start..ET.:Visitor.Neutral:PTS:Home.Neutral:PTS.1',\n",
       " 'Tue, Oct 30, 2007:\"7:30 pm\":Utah Jazz:117:Golden State Warriors:96',\n",
       " 'Tue, Oct 30, 2007:\"7:30 pm\":Houston Rockets:95:Los Angeles Lakers:93',\n",
       " 'Tue, Oct 30, 2007:\"7:00 pm\":Portland Trail Blazers:97:San Antonio Spurs:106',\n",
       " 'Wed, Oct 31, 2007:\"8:00 pm\":Dallas Mavericks:92:Cleveland Cavaliers:74']"
      ]
     },
     "execution_count": 4,
     "metadata": {
      "tags": []
     },
     "output_type": "execute_result"
    }
   ],
   "source": [
    "nba_data.take(5) #debemos quitar la cabecera del fichero"
   ]
  },
  {
   "cell_type": "markdown",
   "metadata": {
    "id": "shYcnuz9E6N7"
   },
   "source": [
    "Vamos a ver como quitar la cabecera en spark"
   ]
  },
  {
   "cell_type": "code",
   "execution_count": 5,
   "metadata": {
    "colab": {
     "base_uri": "https://localhost:8080/"
    },
    "id": "KNzoWRvbFDsZ",
    "outputId": "09718b1c-9c00-4c6e-e4d5-c4cb791f79b1"
   },
   "outputs": [
    {
     "data": {
      "text/plain": [
       "['Tue, Oct 30, 2007:\"7:30 pm\":Utah Jazz:117:Golden State Warriors:96',\n",
       " 'Tue, Oct 30, 2007:\"7:30 pm\":Houston Rockets:95:Los Angeles Lakers:93',\n",
       " 'Tue, Oct 30, 2007:\"7:00 pm\":Portland Trail Blazers:97:San Antonio Spurs:106',\n",
       " 'Wed, Oct 31, 2007:\"8:00 pm\":Dallas Mavericks:92:Cleveland Cavaliers:74',\n",
       " 'Wed, Oct 31, 2007:\"8:30 pm\":Seattle SuperSonics:103:Denver Nuggets:120']"
      ]
     },
     "execution_count": 5,
     "metadata": {
      "tags": []
     },
     "output_type": "execute_result"
    }
   ],
   "source": [
    "head_nba_data = nba_data.take(1)[0] #le damos un valor a take(1)[0]\n",
    "wh_nba_data = nba_data.filter(lambda x: x != head_nba_data) #creamos una funcion filter con lambda para eliminar la cabecera\n",
    "wh_nba_data.take(5) #hasta que no hacemos la funcion take de accion no se ejecuta la funcion lambda de arriba"
   ]
  },
  {
   "cell_type": "markdown",
   "metadata": {
    "id": "Ge3WfsBRFK94"
   },
   "source": [
    "Ahora voy a aplicar una funcion map para separar los elementos en una lista para poder manipularlos."
   ]
  },
  {
   "cell_type": "code",
   "execution_count": 6,
   "metadata": {
    "colab": {
     "base_uri": "https://localhost:8080/"
    },
    "id": "ev537dl8FNkL",
    "outputId": "288de8c9-d86a-446d-f65c-78ac0c0a4fdf"
   },
   "outputs": [
    {
     "data": {
      "text/plain": [
       "[['Tue, Oct 30, 2007',\n",
       "  '\"7',\n",
       "  '30 pm\"',\n",
       "  'Utah Jazz',\n",
       "  '117',\n",
       "  'Golden State Warriors',\n",
       "  '96'],\n",
       " ['Tue, Oct 30, 2007',\n",
       "  '\"7',\n",
       "  '30 pm\"',\n",
       "  'Houston Rockets',\n",
       "  '95',\n",
       "  'Los Angeles Lakers',\n",
       "  '93'],\n",
       " ['Tue, Oct 30, 2007',\n",
       "  '\"7',\n",
       "  '00 pm\"',\n",
       "  'Portland Trail Blazers',\n",
       "  '97',\n",
       "  'San Antonio Spurs',\n",
       "  '106'],\n",
       " ['Wed, Oct 31, 2007',\n",
       "  '\"8',\n",
       "  '00 pm\"',\n",
       "  'Dallas Mavericks',\n",
       "  '92',\n",
       "  'Cleveland Cavaliers',\n",
       "  '74'],\n",
       " ['Wed, Oct 31, 2007',\n",
       "  '\"8',\n",
       "  '30 pm\"',\n",
       "  'Seattle SuperSonics',\n",
       "  '103',\n",
       "  'Denver Nuggets',\n",
       "  '120']]"
      ]
     },
     "execution_count": 6,
     "metadata": {
      "tags": []
     },
     "output_type": "execute_result"
    }
   ],
   "source": [
    "wh_nba_data = nba_data.filter(lambda x: x != head_nba_data).map(lambda x: x.split(\":\")) \n",
    "wh_nba_data.take(5) #hasta que no hacemos la funcion take de accion no se ejecuta la funcion lambda de arriba"
   ]
  },
  {
   "cell_type": "markdown",
   "metadata": {
    "id": "EDT7IGkeFUji"
   },
   "source": [
    "Ahora vamos a aplicar el [-1] para que nos coja el ultimo elemento de la lista"
   ]
  },
  {
   "cell_type": "code",
   "execution_count": 7,
   "metadata": {
    "colab": {
     "base_uri": "https://localhost:8080/"
    },
    "id": "VPlTKm5FFXHk",
    "outputId": "1cd594e5-0725-4de1-b34d-28782eedd076"
   },
   "outputs": [
    {
     "data": {
      "text/plain": [
       "['96', '93', '106', '74', '120']"
      ]
     },
     "execution_count": 7,
     "metadata": {
      "tags": []
     },
     "output_type": "execute_result"
    }
   ],
   "source": [
    "wh_nba_data = nba_data.filter(lambda x: x != head_nba_data).map(lambda x: x.split(\":\")[-1]) \n",
    "wh_nba_data.take(5) #hasta que no hacemos la funcion take de accion no se ejecuta la funcion lambda de arriba"
   ]
  },
  {
   "cell_type": "markdown",
   "metadata": {
    "id": "0MTQAYkgFg_L"
   },
   "source": [
    "Ahora vamos a pasar los numeros a enteros ya que estan en formato string"
   ]
  },
  {
   "cell_type": "code",
   "execution_count": 8,
   "metadata": {
    "colab": {
     "base_uri": "https://localhost:8080/"
    },
    "id": "X686mZfEFitB",
    "outputId": "9ba436bc-d0c1-487c-c7a7-a304e2324d41"
   },
   "outputs": [
    {
     "data": {
      "text/plain": [
       "[96,\n",
       " 93,\n",
       " 106,\n",
       " 74,\n",
       " 120,\n",
       " 119,\n",
       " 101,\n",
       " 112,\n",
       " 104,\n",
       " 102,\n",
       " 106,\n",
       " 80,\n",
       " 99,\n",
       " 95,\n",
       " 101,\n",
       " 103,\n",
       " 102,\n",
       " 85,\n",
       " 110,\n",
       " 87,\n",
       " 120,\n",
       " 91,\n",
       " 69,\n",
       " 113,\n",
       " 92,\n",
       " 98,\n",
       " 96,\n",
       " 123,\n",
       " 89,\n",
       " 111,\n",
       " 78,\n",
       " 88,\n",
       " 133,\n",
       " 82,\n",
       " 88,\n",
       " 92,\n",
       " 115,\n",
       " 119,\n",
       " 88,\n",
       " 97,\n",
       " 103,\n",
       " 95,\n",
       " 107,\n",
       " 83,\n",
       " 91,\n",
       " 104,\n",
       " 89,\n",
       " 104,\n",
       " 112,\n",
       " 103,\n",
       " 87,\n",
       " 119,\n",
       " 104,\n",
       " 105,\n",
       " 119,\n",
       " 89,\n",
       " 94,\n",
       " 93,\n",
       " 88,\n",
       " 98,\n",
       " 96,\n",
       " 103,\n",
       " 97,\n",
       " 115,\n",
       " 87,\n",
       " 106,\n",
       " 96,\n",
       " 103,\n",
       " 104,\n",
       " 107,\n",
       " 101,\n",
       " 85,\n",
       " 102,\n",
       " 103,\n",
       " 110,\n",
       " 91,\n",
       " 101,\n",
       " 92,\n",
       " 71,\n",
       " 106,\n",
       " 101,\n",
       " 96,\n",
       " 91,\n",
       " 100,\n",
       " 118,\n",
       " 90,\n",
       " 82,\n",
       " 95,\n",
       " 72,\n",
       " 72,\n",
       " 113,\n",
       " 103,\n",
       " 122,\n",
       " 82,\n",
       " 117,\n",
       " 91,\n",
       " 99,\n",
       " 86,\n",
       " 105,\n",
       " 103,\n",
       " 113,\n",
       " 102,\n",
       " 107,\n",
       " 117,\n",
       " 91,\n",
       " 116,\n",
       " 110,\n",
       " 104,\n",
       " 90,\n",
       " 84,\n",
       " 95,\n",
       " 102,\n",
       " 108,\n",
       " 95,\n",
       " 88,\n",
       " 103,\n",
       " 105,\n",
       " 112,\n",
       " 123,\n",
       " 92,\n",
       " 99,\n",
       " 122,\n",
       " 103,\n",
       " 118,\n",
       " 89,\n",
       " 70,\n",
       " 92,\n",
       " 123,\n",
       " 90,\n",
       " 110,\n",
       " 100,\n",
       " 108,\n",
       " 115,\n",
       " 105,\n",
       " 117,\n",
       " 73,\n",
       " 105,\n",
       " 82,\n",
       " 87,\n",
       " 109,\n",
       " 106,\n",
       " 104,\n",
       " 105,\n",
       " 100,\n",
       " 101,\n",
       " 125,\n",
       " 88,\n",
       " 102,\n",
       " 83,\n",
       " 107,\n",
       " 105,\n",
       " 112,\n",
       " 114,\n",
       " 82,\n",
       " 98,\n",
       " 116,\n",
       " 105,\n",
       " 111,\n",
       " 98,\n",
       " 94,\n",
       " 101,\n",
       " 89,\n",
       " 79,\n",
       " 110,\n",
       " 86,\n",
       " 93,\n",
       " 127,\n",
       " 101,\n",
       " 128,\n",
       " 107,\n",
       " 99,\n",
       " 83,\n",
       " 111,\n",
       " 98,\n",
       " 105,\n",
       " 113,\n",
       " 87,\n",
       " 101,\n",
       " 93,\n",
       " 99,\n",
       " 115,\n",
       " 95,\n",
       " 111,\n",
       " 109,\n",
       " 89,\n",
       " 124,\n",
       " 97,\n",
       " 87,\n",
       " 85,\n",
       " 120,\n",
       " 98,\n",
       " 93,\n",
       " 106,\n",
       " 100,\n",
       " 101,\n",
       " 93,\n",
       " 98,\n",
       " 129,\n",
       " 71,\n",
       " 94,\n",
       " 113,\n",
       " 74,\n",
       " 112,\n",
       " 90,\n",
       " 109,\n",
       " 110,\n",
       " 106,\n",
       " 110,\n",
       " 99,\n",
       " 103,\n",
       " 96,\n",
       " 109,\n",
       " 109,\n",
       " 95,\n",
       " 94,\n",
       " 89,\n",
       " 96,\n",
       " 109,\n",
       " 94,\n",
       " 103,\n",
       " 104,\n",
       " 113,\n",
       " 127,\n",
       " 86,\n",
       " 91,\n",
       " 123,\n",
       " 85,\n",
       " 91,\n",
       " 91,\n",
       " 85,\n",
       " 110,\n",
       " 95,\n",
       " 91,\n",
       " 120,\n",
       " 111,\n",
       " 109,\n",
       " 91,\n",
       " 94,\n",
       " 112,\n",
       " 107,\n",
       " 101,\n",
       " 80,\n",
       " 115,\n",
       " 118,\n",
       " 95,\n",
       " 97,\n",
       " 104,\n",
       " 100,\n",
       " 96,\n",
       " 98,\n",
       " 117,\n",
       " 105,\n",
       " 79,\n",
       " 98,\n",
       " 110,\n",
       " 95,\n",
       " 79,\n",
       " 117,\n",
       " 78,\n",
       " 95,\n",
       " 117,\n",
       " 82,\n",
       " 107,\n",
       " 120,\n",
       " 105,\n",
       " 93,\n",
       " 76,\n",
       " 103,\n",
       " 97,\n",
       " 95,\n",
       " 123,\n",
       " 105,\n",
       " 90,\n",
       " 109,\n",
       " 112,\n",
       " 112,\n",
       " 91,\n",
       " 120,\n",
       " 89,\n",
       " 118,\n",
       " 109,\n",
       " 101,\n",
       " 87,\n",
       " 104,\n",
       " 104,\n",
       " 107,\n",
       " 86,\n",
       " 96,\n",
       " 81,\n",
       " 125,\n",
       " 101,\n",
       " 100,\n",
       " 77,\n",
       " 104,\n",
       " 94,\n",
       " 123,\n",
       " 91,\n",
       " 117,\n",
       " 93,\n",
       " 104,\n",
       " 89,\n",
       " 87,\n",
       " 100,\n",
       " 113,\n",
       " 96,\n",
       " 88,\n",
       " 123,\n",
       " 118,\n",
       " 96,\n",
       " 103,\n",
       " 82,\n",
       " 89,\n",
       " 102,\n",
       " 90,\n",
       " 108,\n",
       " 105,\n",
       " 80,\n",
       " 117,\n",
       " 100,\n",
       " 110,\n",
       " 98,\n",
       " 103,\n",
       " 105,\n",
       " 92,\n",
       " 102,\n",
       " 91,\n",
       " 104,\n",
       " 87,\n",
       " 101,\n",
       " 89,\n",
       " 91,\n",
       " 108,\n",
       " 93,\n",
       " 91,\n",
       " 88,\n",
       " 105,\n",
       " 99,\n",
       " 99,\n",
       " 93,\n",
       " 86,\n",
       " 83,\n",
       " 103,\n",
       " 95,\n",
       " 101,\n",
       " 94,\n",
       " 119,\n",
       " 102,\n",
       " 96,\n",
       " 92,\n",
       " 105,\n",
       " 109,\n",
       " 113,\n",
       " 77,\n",
       " 116,\n",
       " 104,\n",
       " 111,\n",
       " 117,\n",
       " 91,\n",
       " 92,\n",
       " 88,\n",
       " 95,\n",
       " 91,\n",
       " 77,\n",
       " 101,\n",
       " 114,\n",
       " 85,\n",
       " 98,\n",
       " 108,\n",
       " 92,\n",
       " 102,\n",
       " 88,\n",
       " 89,\n",
       " 98,\n",
       " 108,\n",
       " 101,\n",
       " 93,\n",
       " 84,\n",
       " 94,\n",
       " 112,\n",
       " 103,\n",
       " 107,\n",
       " 105,\n",
       " 102,\n",
       " 94,\n",
       " 131,\n",
       " 94,\n",
       " 101,\n",
       " 99,\n",
       " 123,\n",
       " 92,\n",
       " 98,\n",
       " 93,\n",
       " 97,\n",
       " 104,\n",
       " 103,\n",
       " 100,\n",
       " 110,\n",
       " 122,\n",
       " 99,\n",
       " 103,\n",
       " 96,\n",
       " 94,\n",
       " 90,\n",
       " 105,\n",
       " 96,\n",
       " 122,\n",
       " 89,\n",
       " 107,\n",
       " 104,\n",
       " 125,\n",
       " 105,\n",
       " 98,\n",
       " 83,\n",
       " 110,\n",
       " 96,\n",
       " 69,\n",
       " 94,\n",
       " 99,\n",
       " 81,\n",
       " 88,\n",
       " 96,\n",
       " 85,\n",
       " 103,\n",
       " 114,\n",
       " 120,\n",
       " 123,\n",
       " 83,\n",
       " 114,\n",
       " 109,\n",
       " 94,\n",
       " 109,\n",
       " 80,\n",
       " 73,\n",
       " 97,\n",
       " 91,\n",
       " 92,\n",
       " 95,\n",
       " 86,\n",
       " 104,\n",
       " 109,\n",
       " 98,\n",
       " 96,\n",
       " 95,\n",
       " 91,\n",
       " 83,\n",
       " 97,\n",
       " 102,\n",
       " 111,\n",
       " 107,\n",
       " 110,\n",
       " 114,\n",
       " 95,\n",
       " 91,\n",
       " 92,\n",
       " 90,\n",
       " 111,\n",
       " 97,\n",
       " 97,\n",
       " 98,\n",
       " 121,\n",
       " 72,\n",
       " 81,\n",
       " 98,\n",
       " 79,\n",
       " 97,\n",
       " 95,\n",
       " 110,\n",
       " 93,\n",
       " 109,\n",
       " 80,\n",
       " 104,\n",
       " 100,\n",
       " 97,\n",
       " 94,\n",
       " 104,\n",
       " 113,\n",
       " 124,\n",
       " 77,\n",
       " 107,\n",
       " 102,\n",
       " 94,\n",
       " 97,\n",
       " 85,\n",
       " 107,\n",
       " 94,\n",
       " 85,\n",
       " 103,\n",
       " 113,\n",
       " 103,\n",
       " 89,\n",
       " 109,\n",
       " 82,\n",
       " 112,\n",
       " 101,\n",
       " 78,\n",
       " 90,\n",
       " 108,\n",
       " 130,\n",
       " 137,\n",
       " 115,\n",
       " 100,\n",
       " 95,\n",
       " 101,\n",
       " 101,\n",
       " 83,\n",
       " 104,\n",
       " 111,\n",
       " 84,\n",
       " 90,\n",
       " 83,\n",
       " 102,\n",
       " 106,\n",
       " 98,\n",
       " 99,\n",
       " 80,\n",
       " 92,\n",
       " 129,\n",
       " 109,\n",
       " 109,\n",
       " 116,\n",
       " 80,\n",
       " 108,\n",
       " 98,\n",
       " 113,\n",
       " 113,\n",
       " 116,\n",
       " 113,\n",
       " 110,\n",
       " 77,\n",
       " 114,\n",
       " 90,\n",
       " 97,\n",
       " 70,\n",
       " 100,\n",
       " 94,\n",
       " 122,\n",
       " 105,\n",
       " 105,\n",
       " 119,\n",
       " 85,\n",
       " 105,\n",
       " 106,\n",
       " 82,\n",
       " 100,\n",
       " 89,\n",
       " 116,\n",
       " 83,\n",
       " 119,\n",
       " 73,\n",
       " 122,\n",
       " 89,\n",
       " 121,\n",
       " 98,\n",
       " 104,\n",
       " 103,\n",
       " 107,\n",
       " 97,\n",
       " 124,\n",
       " 98,\n",
       " 105,\n",
       " 102,\n",
       " 100,\n",
       " 99,\n",
       " 125,\n",
       " 96,\n",
       " 87,\n",
       " 105,\n",
       " 123,\n",
       " 116,\n",
       " 120,\n",
       " 98,\n",
       " 88,\n",
       " 116,\n",
       " 111,\n",
       " 93,\n",
       " 124,\n",
       " 91,\n",
       " 112,\n",
       " 115,\n",
       " 89,\n",
       " 106,\n",
       " 111,\n",
       " 105,\n",
       " 97,\n",
       " 111,\n",
       " 111,\n",
       " 83,\n",
       " 104,\n",
       " 120,\n",
       " 84,\n",
       " 99,\n",
       " 101,\n",
       " 99,\n",
       " 116,\n",
       " 109,\n",
       " 86,\n",
       " 108,\n",
       " 96,\n",
       " 93,\n",
       " 116,\n",
       " 104,\n",
       " 90,\n",
       " 106,\n",
       " 93,\n",
       " 102,\n",
       " 103,\n",
       " 102,\n",
       " 105,\n",
       " 128,\n",
       " 112,\n",
       " 95,\n",
       " 108,\n",
       " 121,\n",
       " 107,\n",
       " 111,\n",
       " 85,\n",
       " 117,\n",
       " 96,\n",
       " 78,\n",
       " 103,\n",
       " 107,\n",
       " 121,\n",
       " 89,\n",
       " 104,\n",
       " 87,\n",
       " 77,\n",
       " 108,\n",
       " 112,\n",
       " 100,\n",
       " 101,\n",
       " 111,\n",
       " 89,\n",
       " 79,\n",
       " 90,\n",
       " 106,\n",
       " 127,\n",
       " 104,\n",
       " 96,\n",
       " 125,\n",
       " 98,\n",
       " 78,\n",
       " 77,\n",
       " 90,\n",
       " 106,\n",
       " 89,\n",
       " 95,\n",
       " 105,\n",
       " 98,\n",
       " 96,\n",
       " 94,\n",
       " 101,\n",
       " 100,\n",
       " 84,\n",
       " 117,\n",
       " 97,\n",
       " 96,\n",
       " 111,\n",
       " 104,\n",
       " 120,\n",
       " 87,\n",
       " 87,\n",
       " 125,\n",
       " 88,\n",
       " 108,\n",
       " 95,\n",
       " 102,\n",
       " 83,\n",
       " 103,\n",
       " 107,\n",
       " 112,\n",
       " 83,\n",
       " 105,\n",
       " 122,\n",
       " 100,\n",
       " 96,\n",
       " 90,\n",
       " 81,\n",
       " 101,\n",
       " 127,\n",
       " 103,\n",
       " 85,\n",
       " 104,\n",
       " 106,\n",
       " 94,\n",
       " 112,\n",
       " 101,\n",
       " 87,\n",
       " 104,\n",
       " 98,\n",
       " 117,\n",
       " 115,\n",
       " 91,\n",
       " 83,\n",
       " 105,\n",
       " 86,\n",
       " 90,\n",
       " 91,\n",
       " 96,\n",
       " 82,\n",
       " 86,\n",
       " 94,\n",
       " 98,\n",
       " 118,\n",
       " 103,\n",
       " 108,\n",
       " 110,\n",
       " 114,\n",
       " 89,\n",
       " 97,\n",
       " 90,\n",
       " 101,\n",
       " 98,\n",
       " 111,\n",
       " 107,\n",
       " 115,\n",
       " 100,\n",
       " 100,\n",
       " 100,\n",
       " 130,\n",
       " 100,\n",
       " 92,\n",
       " 77,\n",
       " 108,\n",
       " 92,\n",
       " 101,\n",
       " 95,\n",
       " 90,\n",
       " 92,\n",
       " 111,\n",
       " 91,\n",
       " 86,\n",
       " 93,\n",
       " 113,\n",
       " 103,\n",
       " 117,\n",
       " 98,\n",
       " 105,\n",
       " 108,\n",
       " 101,\n",
       " 98,\n",
       " 112,\n",
       " 101,\n",
       " 97,\n",
       " 98,\n",
       " 83,\n",
       " 113,\n",
       " 94,\n",
       " 82,\n",
       " 101,\n",
       " 108,\n",
       " 97,\n",
       " 120,\n",
       " 95,\n",
       " 89,\n",
       " 111,\n",
       " 84,\n",
       " 88,\n",
       " 90,\n",
       " 86,\n",
       " 97,\n",
       " 107,\n",
       " 113,\n",
       " 92,\n",
       " 111,\n",
       " 100,\n",
       " 105,\n",
       " 96,\n",
       " 96,\n",
       " 120,\n",
       " 89,\n",
       " 89,\n",
       " 107,\n",
       " 92,\n",
       " 109,\n",
       " 102,\n",
       " 93,\n",
       " 109,\n",
       " 99,\n",
       " 109,\n",
       " 85,\n",
       " 124,\n",
       " 85,\n",
       " 122,\n",
       " 104,\n",
       " 94,\n",
       " 85,\n",
       " 108,\n",
       " 119,\n",
       " 100,\n",
       " 119,\n",
       " 97,\n",
       " 100,\n",
       " 103,\n",
       " 110,\n",
       " 104,\n",
       " 124,\n",
       " 124,\n",
       " 119,\n",
       " 127,\n",
       " 112,\n",
       " 99,\n",
       " 92,\n",
       " 115,\n",
       " 135,\n",
       " 90,\n",
       " 127,\n",
       " 110,\n",
       " 113,\n",
       " 114,\n",
       " 83,\n",
       " 80,\n",
       " 103,\n",
       " 115,\n",
       " 85,\n",
       " 99,\n",
       " 95,\n",
       " 96,\n",
       " 115,\n",
       " 102,\n",
       " 98,\n",
       " 100,\n",
       " 110,\n",
       " 109,\n",
       " 110,\n",
       " 83,\n",
       " 112,\n",
       " 86,\n",
       " 102,\n",
       " 91,\n",
       " 115,\n",
       " 102,\n",
       " 93,\n",
       " 98,\n",
       " 76,\n",
       " 92,\n",
       " 89,\n",
       " 105,\n",
       " 94,\n",
       " 96,\n",
       " 113,\n",
       " 107,\n",
       " 105,\n",
       " 111,\n",
       " 92,\n",
       " 123,\n",
       " 92,\n",
       " 107,\n",
       " 80,\n",
       " 120,\n",
       " 113,\n",
       " 101,\n",
       " 96,\n",
       " 107,\n",
       " 103,\n",
       " 106,\n",
       " 120,\n",
       " 97,\n",
       " 99,\n",
       " 108,\n",
       " 91,\n",
       " 92,\n",
       " 115,\n",
       " 110,\n",
       " 119,\n",
       " 116,\n",
       " 110,\n",
       " 119,\n",
       " 93,\n",
       " 111,\n",
       " 73,\n",
       " 92,\n",
       " 94,\n",
       " 118,\n",
       " 114,\n",
       " 98,\n",
       " 110,\n",
       " 95,\n",
       " 110,\n",
       " 103,\n",
       " 128,\n",
       " 108,\n",
       " 108,\n",
       " 83,\n",
       " 120,\n",
       " 101,\n",
       " 80,\n",
       " 88,\n",
       " 116,\n",
       " 118,\n",
       " 112,\n",
       " 100,\n",
       " 89,\n",
       " 102,\n",
       " 92,\n",
       " 105,\n",
       " 81,\n",
       " 90,\n",
       " 118,\n",
       " 126,\n",
       " 117,\n",
       " 116,\n",
       " 100,\n",
       " 83,\n",
       " 118,\n",
       " 116,\n",
       " 105,\n",
       " 105,\n",
       " 92,\n",
       " 107,\n",
       " 98,\n",
       " 108,\n",
       " 116,\n",
       " 108,\n",
       " 109,\n",
       " 119,\n",
       " 99,\n",
       " 101,\n",
       " 107,\n",
       " 97,\n",
       " 117,\n",
       " 118,\n",
       " 103,\n",
       " 106,\n",
       " 97,\n",
       " 103,\n",
       " 111,\n",
       " 106,\n",
       " 96,\n",
       " 89,\n",
       " 114,\n",
       " 95,\n",
       " 132,\n",
       " 97,\n",
       " 116,\n",
       " 113,\n",
       " 97,\n",
       " 94,\n",
       " 114,\n",
       " 88,\n",
       " 108,\n",
       " 91,\n",
       " 98,\n",
       " 123,\n",
       " 86,\n",
       " 107,\n",
       " 108,\n",
       " 114,\n",
       " 117,\n",
       " 96,\n",
       " 132,\n",
       " 105,\n",
       " 75,\n",
       " 111,\n",
       " 118,\n",
       " 108,\n",
       " 82,\n",
       " 117,\n",
       " 88,\n",
       " 110,\n",
       " 104,\n",
       " 100,\n",
       " 110,\n",
       " 123,\n",
       " 96,\n",
       " 101,\n",
       " 117,\n",
       " 92,\n",
       " 106,\n",
       " 116,\n",
       " 137,\n",
       " 84,\n",
       " 89,\n",
       " 94,\n",
       " 108,\n",
       " 116,\n",
       " 110,\n",
       " 77,\n",
       " 117,\n",
       " 122,\n",
       " 103,\n",
       " 127,\n",
       " 107,\n",
       " 119,\n",
       " 98,\n",
       " 168,\n",
       " 105,\n",
       " 104,\n",
       " 73,\n",
       " 98,\n",
       " 106,\n",
       " 110,\n",
       " 98,\n",
       " 99,\n",
       " 108,\n",
       " 104,\n",
       " 91,\n",
       " 96,\n",
       " 96,\n",
       " 112,\n",
       " 100,\n",
       " ...]"
      ]
     },
     "execution_count": 8,
     "metadata": {
      "tags": []
     },
     "output_type": "execute_result"
    }
   ],
   "source": [
    "wh_nba_data = nba_data.filter(lambda s: s != head_nba_data) \\\n",
    "                      .map(lambda s: s.split(\":\")[-1]) \\\n",
    "                      .filter(lambda s_pvisit: s_pvisit.isdigit()) \\\n",
    "                      .map(lambda d_pvisit: int(d_pvisit)) \n",
    "\n",
    "# Primero creamos una funcion filter con lambda para quitar la cabecera\n",
    "\n",
    "# Luego realizamos con la funcion split la separacion del fichero por el simbolo \":\"\n",
    "\n",
    "# Colocamos el lambda s cuando sea un string y colocamos lambda d_pvisit cuando sea un digito\n",
    "\n",
    "# Usamos la funcion isdigit() para que filtre solo aquellas observaciones que sean digitos y no otras que contengan palabras\n",
    "\n",
    "#por ultimo convertimos a entero los numeros que de otro modo serian strings\n",
    "\n",
    "wh_nba_data.take(1500) #hasta que no hacemos la funcion take de accion no se ejecuta la funcion lambda de arriba"
   ]
  },
  {
   "cell_type": "code",
   "execution_count": 9,
   "metadata": {
    "colab": {
     "base_uri": "https://localhost:8080/"
    },
    "id": "omyPqgQgFyJT",
    "outputId": "476fb412-c204-4e6c-e330-2dbba9774be3"
   },
   "outputs": [
    {
     "data": {
      "text/plain": [
       "10.9"
      ]
     },
     "execution_count": 9,
     "metadata": {
      "tags": []
     },
     "output_type": "execute_result"
    }
   ],
   "source": [
    "(wh_nba_data.max() - wh_nba_data.min()) / 10"
   ]
  },
  {
   "cell_type": "code",
   "execution_count": 10,
   "metadata": {
    "colab": {
     "base_uri": "https://localhost:8080/"
    },
    "id": "FuMpELcC8Uih",
    "outputId": "6632b9e7-3e15-4a1a-a7e1-b646ce7747f8"
   },
   "outputs": [
    {
     "data": {
      "text/plain": [
       "59"
      ]
     },
     "execution_count": 10,
     "metadata": {
      "tags": []
     },
     "output_type": "execute_result"
    }
   ],
   "source": [
    "wh_nba_data.min()"
   ]
  },
  {
   "cell_type": "code",
   "execution_count": 11,
   "metadata": {
    "colab": {
     "base_uri": "https://localhost:8080/"
    },
    "id": "ViWjDRpA8Qae",
    "outputId": "29d4ace6-933f-4f70-ad44-2a6d818c674a"
   },
   "outputs": [
    {
     "data": {
      "text/plain": [
       "168"
      ]
     },
     "execution_count": 11,
     "metadata": {
      "tags": []
     },
     "output_type": "execute_result"
    }
   ],
   "source": [
    "wh_nba_data.max()"
   ]
  },
  {
   "cell_type": "code",
   "execution_count": 12,
   "metadata": {
    "id": "AioG5ysYIHWV"
   },
   "outputs": [],
   "source": [
    "def inter(x):\n",
    "  if x<69.9:\n",
    "    return 'int 1'\n",
    "  elif x <80.8:\n",
    "    return 'int 2'\n",
    "  elif x<91.7:\n",
    "    return 'int 3'\n",
    "  elif x<102.6:\n",
    "    return 'int 4'\n",
    "  elif x<113.5:\n",
    "    return 'int 5'\n",
    "  elif x<124.4:\n",
    "    return 'int 6'\n",
    "  elif x<135.3:\n",
    "    return 'int 7'\n",
    "  elif x<146.2:\n",
    "    return 'int 8'\n",
    "  elif x<157.1:\n",
    "    return 'int 9'\n",
    "  elif x<=168:\n",
    "    return 'int 10' "
   ]
  },
  {
   "cell_type": "code",
   "execution_count": 13,
   "metadata": {
    "colab": {
     "base_uri": "https://localhost:8080/",
     "height": 37
    },
    "id": "Ao4v4D5f2oqs",
    "outputId": "9f85a9c5-bc7a-4717-ef96-68efc6c0b0ae"
   },
   "outputs": [
    {
     "data": {
      "application/vnd.google.colaboratory.intrinsic+json": {
       "type": "string"
      },
      "text/plain": [
       "'int 10'"
      ]
     },
     "execution_count": 13,
     "metadata": {
      "tags": []
     },
     "output_type": "execute_result"
    }
   ],
   "source": [
    "inter(160)"
   ]
  },
  {
   "cell_type": "code",
   "execution_count": 14,
   "metadata": {
    "colab": {
     "base_uri": "https://localhost:8080/"
    },
    "id": "2PzJtGK_wHXN",
    "outputId": "5f91b70a-3915-430c-c173-49953be40335"
   },
   "outputs": [
    {
     "data": {
      "text/plain": [
       "pyspark.rdd.PipelinedRDD"
      ]
     },
     "execution_count": 14,
     "metadata": {
      "tags": []
     },
     "output_type": "execute_result"
    }
   ],
   "source": [
    "type(wh_nba_data)"
   ]
  },
  {
   "cell_type": "code",
   "execution_count": 15,
   "metadata": {
    "id": "cFND1IL7JTEK"
   },
   "outputs": [],
   "source": [
    "wh_nba_data_inter = nba_data.filter(lambda s: s != head_nba_data) \\\n",
    "                      .map(lambda s: s.split(\":\")[-1]) \\\n",
    "                      .filter(lambda s_pvisit: s_pvisit.isdigit()) \\\n",
    "                      .map(lambda d_pvisit: int(d_pvisit)) \\\n",
    "                      .map(lambda x : (inter(x),1)) \\\n",
    "                      .reduceByKey(lambda a, b: a + b) \\\n",
    "                      .collect()\n",
    "\n",
    "#wh_nba_data_inter.take(1500)"
   ]
  },
  {
   "cell_type": "code",
   "execution_count": 16,
   "metadata": {
    "colab": {
     "base_uri": "https://localhost:8080/"
    },
    "id": "Uy1KCAS8KnTF",
    "outputId": "d259b54c-3e3d-46b9-ad18-5dad873eee9e"
   },
   "outputs": [
    {
     "data": {
      "text/plain": [
       "[('int 4', 4287),\n",
       " ('int 2', 439),\n",
       " ('int 6', 1717),\n",
       " ('int 8', 59),\n",
       " ('int 10', 1),\n",
       " ('int 9', 5),\n",
       " ('int 5', 3832),\n",
       " ('int 3', 2125),\n",
       " ('int 1', 37),\n",
       " ('int 7', 395)]"
      ]
     },
     "execution_count": 16,
     "metadata": {
      "tags": []
     },
     "output_type": "execute_result"
    }
   ],
   "source": [
    "wh_nba_data_inter"
   ]
  },
  {
   "cell_type": "code",
   "execution_count": 17,
   "metadata": {
    "colab": {
     "base_uri": "https://localhost:8080/"
    },
    "id": "9fJeAXGGO-vq",
    "outputId": "ac8d804b-6b8c-4428-98d9-24c0174cecfa"
   },
   "outputs": [
    {
     "data": {
      "text/plain": [
       "list"
      ]
     },
     "execution_count": 17,
     "metadata": {
      "tags": []
     },
     "output_type": "execute_result"
    }
   ],
   "source": [
    "type(wh_nba_data_inter)"
   ]
  },
  {
   "cell_type": "code",
   "execution_count": 18,
   "metadata": {
    "id": "tvcjaT4jcBQ1"
   },
   "outputs": [],
   "source": [
    "wh_nba_data_inter.sort()"
   ]
  },
  {
   "cell_type": "code",
   "execution_count": 19,
   "metadata": {
    "id": "0LkncQscR1p4"
   },
   "outputs": [],
   "source": [
    "import pandas as pd\n",
    "df_wh_nba_inter = pd.DataFrame(wh_nba_data_inter)"
   ]
  },
  {
   "cell_type": "code",
   "execution_count": 20,
   "metadata": {
    "colab": {
     "base_uri": "https://localhost:8080/"
    },
    "id": "ksRjaZxlSBL0",
    "outputId": "d569e260-6bee-45ed-f971-5576f6f084fb"
   },
   "outputs": [
    {
     "data": {
      "text/plain": [
       "pandas.core.frame.DataFrame"
      ]
     },
     "execution_count": 20,
     "metadata": {
      "tags": []
     },
     "output_type": "execute_result"
    }
   ],
   "source": [
    "type(df_wh_nba_inter)"
   ]
  },
  {
   "cell_type": "code",
   "execution_count": 21,
   "metadata": {
    "id": "ah2YqvgvTUhg"
   },
   "outputs": [],
   "source": [
    "import numpy as np"
   ]
  },
  {
   "cell_type": "code",
   "execution_count": 22,
   "metadata": {
    "id": "4o2KuQ3iTc--"
   },
   "outputs": [],
   "source": [
    "import matplotlib.pyplot as plt"
   ]
  },
  {
   "cell_type": "code",
   "execution_count": 23,
   "metadata": {
    "colab": {
     "base_uri": "https://localhost:8080/",
     "height": 452
    },
    "id": "g5WhKzNxSF1C",
    "outputId": "0d16d4eb-0ed4-4120-beef-34ba383bfda4"
   },
   "outputs": [
    {
     "data": {
      "text/plain": [
       "([<matplotlib.axis.YTick at 0x7ff523679d30>,\n",
       "  <matplotlib.axis.YTick at 0x7ff523679710>,\n",
       "  <matplotlib.axis.YTick at 0x7ff53876e5c0>,\n",
       "  <matplotlib.axis.YTick at 0x7ff522d88b70>,\n",
       "  <matplotlib.axis.YTick at 0x7ff522d24940>,\n",
       "  <matplotlib.axis.YTick at 0x7ff522d24c88>,\n",
       "  <matplotlib.axis.YTick at 0x7ff522d2e198>,\n",
       "  <matplotlib.axis.YTick at 0x7ff522d2e5f8>,\n",
       "  <matplotlib.axis.YTick at 0x7ff522d2ea90>,\n",
       "  <matplotlib.axis.YTick at 0x7ff522d2ef28>],\n",
       " <a list of 10 Text major ticklabel objects>)"
      ]
     },
     "execution_count": 23,
     "metadata": {
      "tags": []
     },
     "output_type": "execute_result"
    },
    {
     "data": {
      "image/png": "[encoded data removed]",
      "text/plain": [
       "<Figure size 432x288 with 1 Axes>"
      ]
     },
     "metadata": {
      "needs_background": "light",
      "tags": []
     },
     "output_type": "display_data"
    }
   ],
   "source": [
    "labels, ys = zip(*wh_nba_data_inter)\n",
    "xs = np.arange(len(labels)) \n",
    "width = 1\n",
    "\n",
    "plt.bar(xs, ys, width, align='center')\n",
    "\n",
    "plt.xticks(xs, labels) #Replace default x-ticks with xs, then replace xs with labels\n",
    "plt.yticks(ys)"
   ]
  }
 ],
 "metadata": {
  "colab": {
   "collapsed_sections": [],
   "name": "histogram_nba.ipynb",
   "provenance": []
  },
  "kernelspec": {
   "display_name": "Python 3",
   "language": "python",
   "name": "python3"
  },
  "language_info": {
   "codemirror_mode": {
    "name": "ipython",
    "version": 3
   },
   "file_extension": ".py",
   "mimetype": "text/x-python",
   "name": "python",
   "nbconvert_exporter": "python",
   "pygments_lexer": "ipython3",
   "version": "3.8.5"
  },
  "toc": {
   "base_numbering": 1,
   "nav_menu": {},
   "number_sections": true,
   "sideBar": true,
   "skip_h1_title": false,
   "title_cell": "Table of Contents",
   "title_sidebar": "Contents",
   "toc_cell": false,
   "toc_position": {},
   "toc_section_display": true,
   "toc_window_display": false
  }
 },
 "nbformat": 4,
 "nbformat_minor": 1
}
