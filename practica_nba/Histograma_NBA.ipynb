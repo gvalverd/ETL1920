{
  "nbformat": 4,
  "nbformat_minor": 0,
  "metadata": {
    "colab": {
      "name": "Histograma_NBA.ipynb",
      "provenance": [],
      "collapsed_sections": [],
      "toc_visible": true
    },
    "kernelspec": {
      "name": "python3",
      "display_name": "Python 3"
    }
  },
  "cells": [
    {
      "cell_type": "markdown",
      "metadata": {
        "id": "PBn0sCJZGFlt"
      },
      "source": [
        "# Histograma puntos visitante"
      ]
    },
    {
      "cell_type": "markdown",
      "metadata": {
        "id": "mgjVolodWHIQ"
      },
      "source": [
        "Isabel Afán de Ribera\r\n",
        "09/12/2020"
      ]
    },
    {
      "cell_type": "code",
      "metadata": {
        "id": "Nph86huLUVY0"
      },
      "source": [
        "# instalacion de spark\n",
        "!apt-get install openjdk-8-jdk-headless -qq > /dev/null\n",
        "!wget -q https://www-us.apache.org/dist/spark/spark-2.4.7/spark-2.4.7-bin-hadoop2.7.tgz\n",
        "!tar xf spark-2.4.7-bin-hadoop2.7.tgz\n",
        "!pip install -q findspark"
      ],
      "execution_count": 1,
      "outputs": []
    },
    {
      "cell_type": "code",
      "metadata": {
        "id": "RqTr4fUsUaP-"
      },
      "source": [
        "# definimos las variables de entorno, Java y Spark\n",
        "import os\n",
        "os.environ[\"JAVA_HOME\"] = \"/usr/lib/jvm/java-8-openjdk-amd64\"\n",
        "os.environ[\"SPARK_HOME\"] = \"/content/spark-2.4.7-bin-hadoop2.7\""
      ],
      "execution_count": 2,
      "outputs": []
    },
    {
      "cell_type": "code",
      "metadata": {
        "id": "Q7hHhC_uUaYX"
      },
      "source": [
        "# generar Spark context\n",
        "import findspark\n",
        "findspark.init()\n",
        "from pyspark import SparkContext\n",
        "sc = SparkContext.getOrCreate()\n",
        "from pyspark.sql import SparkSession\n",
        "spark = SparkSession.builder.master(\"local[*]\").getOrCreate()"
      ],
      "execution_count": 3,
      "outputs": []
    },
    {
      "cell_type": "code",
      "metadata": {
        "id": "6M2rDdZuXGSN"
      },
      "source": [
        "# carga del archivo partidosLigaNBA\r\n",
        "# establecemos conexion entre el RDD y los datos\r\n",
        "data_file = \"./partidosLigaNBA.csv\" \r\n",
        "nba_data = sc.textFile(data_file)"
      ],
      "execution_count": 4,
      "outputs": []
    },
    {
      "cell_type": "code",
      "metadata": {
        "id": "YRuPEtVFZKEK",
        "colab": {
          "base_uri": "https://localhost:8080/"
        },
        "outputId": "48a14711-dfc6-46ca-ebcf-1f37a5d438ba"
      },
      "source": [
        "# recuento de registros, count es un tipo de funcion de accion\r\n",
        "nba_data.count()"
      ],
      "execution_count": 6,
      "outputs": [
        {
          "output_type": "execute_result",
          "data": {
            "text/plain": [
              "12908"
            ]
          },
          "metadata": {
            "tags": []
          },
          "execution_count": 6
        }
      ]
    },
    {
      "cell_type": "code",
      "metadata": {
        "id": "scUEHygBZYjh",
        "colab": {
          "base_uri": "https://localhost:8080/"
        },
        "outputId": "0c8f039b-1807-46a8-d4ea-ff46b9209256"
      },
      "source": [
        "# take devuelve una muestra de los datos, es una funcion de accion\r\n",
        "nba_data.take(5)"
      ],
      "execution_count": 7,
      "outputs": [
        {
          "output_type": "execute_result",
          "data": {
            "text/plain": [
              "['Date:Start..ET.:Visitor.Neutral:PTS:Home.Neutral:PTS.1',\n",
              " 'Tue, Oct 30, 2007:\"7:30 pm\":Utah Jazz:117:Golden State Warriors:96',\n",
              " 'Tue, Oct 30, 2007:\"7:30 pm\":Houston Rockets:95:Los Angeles Lakers:93',\n",
              " 'Tue, Oct 30, 2007:\"7:00 pm\":Portland Trail Blazers:97:San Antonio Spurs:106',\n",
              " 'Wed, Oct 31, 2007:\"8:00 pm\":Dallas Mavericks:92:Cleveland Cavaliers:74']"
            ]
          },
          "metadata": {
            "tags": []
          },
          "execution_count": 7
        }
      ]
    },
    {
      "cell_type": "code",
      "metadata": {
        "id": "OQMUeIboY0RK"
      },
      "source": [
        "head_nba_data = nba_data.take(1)[0]"
      ],
      "execution_count": 8,
      "outputs": []
    },
    {
      "cell_type": "code",
      "metadata": {
        "id": "ek9oaX9oagUG",
        "colab": {
          "base_uri": "https://localhost:8080/",
          "height": 35
        },
        "outputId": "374cf205-85e9-4aae-d9e9-2ddb620b6830"
      },
      "source": [
        "# comprobamos lo que contiene la cabecera\r\n",
        "head_nba_data"
      ],
      "execution_count": 9,
      "outputs": [
        {
          "output_type": "execute_result",
          "data": {
            "application/vnd.google.colaboratory.intrinsic+json": {
              "type": "string"
            },
            "text/plain": [
              "'Date:Start..ET.:Visitor.Neutral:PTS:Home.Neutral:PTS.1'"
            ]
          },
          "metadata": {
            "tags": []
          },
          "execution_count": 9
        }
      ]
    },
    {
      "cell_type": "code",
      "metadata": {
        "id": "r8NqO_wSaxMm",
        "colab": {
          "base_uri": "https://localhost:8080/"
        },
        "outputId": "74f7b1a6-1aac-442d-82bf-da121f775544"
      },
      "source": [
        "# primero filtramos con una funcion lambda para quitar la cabecera (transformacion);\n",
        "# despues aplicamos el metodo map con una funcion split en su interior para separar los elementos y \n",
        "# quedarnos con el ultimo que corresponde a puntos visitantes;\n",
        "# usamos la funcion creada en el paso anteior para filtrar solo los datos numericos;\n",
        "# aplicamos otro map para convertir los puntos de tipo string a numerico \n",
        "wh_nba_data = nba_data.filter(lambda s: s != head_nba_data) \\\n",
        "                      .map(lambda s: s.split(\":\")[-1]) \\\n",
        "                      .filter(isd) \\\n",
        "                      .map(lambda d_pvisit: int(d_pvisit))\n",
        "wh_nba_data.take(1500)"
      ],
      "execution_count": 11,
      "outputs": [
        {
          "output_type": "execute_result",
          "data": {
            "text/plain": [
              "[96,\n",
              " 93,\n",
              " 106,\n",
              " 74,\n",
              " 120,\n",
              " 119,\n",
              " 101,\n",
              " 112,\n",
              " 104,\n",
              " 102,\n",
              " 106,\n",
              " 80,\n",
              " 99,\n",
              " 95,\n",
              " 101,\n",
              " 103,\n",
              " 102,\n",
              " 85,\n",
              " 110,\n",
              " 87,\n",
              " 120,\n",
              " 91,\n",
              " 69,\n",
              " 113,\n",
              " 92,\n",
              " 98,\n",
              " 96,\n",
              " 123,\n",
              " 89,\n",
              " 111,\n",
              " 78,\n",
              " 88,\n",
              " 133,\n",
              " 82,\n",
              " 88,\n",
              " 92,\n",
              " 115,\n",
              " 119,\n",
              " 88,\n",
              " 97,\n",
              " 103,\n",
              " 95,\n",
              " 107,\n",
              " 83,\n",
              " 91,\n",
              " 104,\n",
              " 89,\n",
              " 104,\n",
              " 112,\n",
              " 103,\n",
              " 87,\n",
              " 119,\n",
              " 104,\n",
              " 105,\n",
              " 119,\n",
              " 89,\n",
              " 94,\n",
              " 93,\n",
              " 88,\n",
              " 98,\n",
              " 96,\n",
              " 103,\n",
              " 97,\n",
              " 115,\n",
              " 87,\n",
              " 106,\n",
              " 96,\n",
              " 103,\n",
              " 104,\n",
              " 107,\n",
              " 101,\n",
              " 85,\n",
              " 102,\n",
              " 103,\n",
              " 110,\n",
              " 91,\n",
              " 101,\n",
              " 92,\n",
              " 71,\n",
              " 106,\n",
              " 101,\n",
              " 96,\n",
              " 91,\n",
              " 100,\n",
              " 118,\n",
              " 90,\n",
              " 82,\n",
              " 95,\n",
              " 72,\n",
              " 72,\n",
              " 113,\n",
              " 103,\n",
              " 122,\n",
              " 82,\n",
              " 117,\n",
              " 91,\n",
              " 99,\n",
              " 86,\n",
              " 105,\n",
              " 103,\n",
              " 113,\n",
              " 102,\n",
              " 107,\n",
              " 117,\n",
              " 91,\n",
              " 116,\n",
              " 110,\n",
              " 104,\n",
              " 90,\n",
              " 84,\n",
              " 95,\n",
              " 102,\n",
              " 108,\n",
              " 95,\n",
              " 88,\n",
              " 103,\n",
              " 105,\n",
              " 112,\n",
              " 123,\n",
              " 92,\n",
              " 99,\n",
              " 122,\n",
              " 103,\n",
              " 118,\n",
              " 89,\n",
              " 70,\n",
              " 92,\n",
              " 123,\n",
              " 90,\n",
              " 110,\n",
              " 100,\n",
              " 108,\n",
              " 115,\n",
              " 105,\n",
              " 117,\n",
              " 73,\n",
              " 105,\n",
              " 82,\n",
              " 87,\n",
              " 109,\n",
              " 106,\n",
              " 104,\n",
              " 105,\n",
              " 100,\n",
              " 101,\n",
              " 125,\n",
              " 88,\n",
              " 102,\n",
              " 83,\n",
              " 107,\n",
              " 105,\n",
              " 112,\n",
              " 114,\n",
              " 82,\n",
              " 98,\n",
              " 116,\n",
              " 105,\n",
              " 111,\n",
              " 98,\n",
              " 94,\n",
              " 101,\n",
              " 89,\n",
              " 79,\n",
              " 110,\n",
              " 86,\n",
              " 93,\n",
              " 127,\n",
              " 101,\n",
              " 128,\n",
              " 107,\n",
              " 99,\n",
              " 83,\n",
              " 111,\n",
              " 98,\n",
              " 105,\n",
              " 113,\n",
              " 87,\n",
              " 101,\n",
              " 93,\n",
              " 99,\n",
              " 115,\n",
              " 95,\n",
              " 111,\n",
              " 109,\n",
              " 89,\n",
              " 124,\n",
              " 97,\n",
              " 87,\n",
              " 85,\n",
              " 120,\n",
              " 98,\n",
              " 93,\n",
              " 106,\n",
              " 100,\n",
              " 101,\n",
              " 93,\n",
              " 98,\n",
              " 129,\n",
              " 71,\n",
              " 94,\n",
              " 113,\n",
              " 74,\n",
              " 112,\n",
              " 90,\n",
              " 109,\n",
              " 110,\n",
              " 106,\n",
              " 110,\n",
              " 99,\n",
              " 103,\n",
              " 96,\n",
              " 109,\n",
              " 109,\n",
              " 95,\n",
              " 94,\n",
              " 89,\n",
              " 96,\n",
              " 109,\n",
              " 94,\n",
              " 103,\n",
              " 104,\n",
              " 113,\n",
              " 127,\n",
              " 86,\n",
              " 91,\n",
              " 123,\n",
              " 85,\n",
              " 91,\n",
              " 91,\n",
              " 85,\n",
              " 110,\n",
              " 95,\n",
              " 91,\n",
              " 120,\n",
              " 111,\n",
              " 109,\n",
              " 91,\n",
              " 94,\n",
              " 112,\n",
              " 107,\n",
              " 101,\n",
              " 80,\n",
              " 115,\n",
              " 118,\n",
              " 95,\n",
              " 97,\n",
              " 104,\n",
              " 100,\n",
              " 96,\n",
              " 98,\n",
              " 117,\n",
              " 105,\n",
              " 79,\n",
              " 98,\n",
              " 110,\n",
              " 95,\n",
              " 79,\n",
              " 117,\n",
              " 78,\n",
              " 95,\n",
              " 117,\n",
              " 82,\n",
              " 107,\n",
              " 120,\n",
              " 105,\n",
              " 93,\n",
              " 76,\n",
              " 103,\n",
              " 97,\n",
              " 95,\n",
              " 123,\n",
              " 105,\n",
              " 90,\n",
              " 109,\n",
              " 112,\n",
              " 112,\n",
              " 91,\n",
              " 120,\n",
              " 89,\n",
              " 118,\n",
              " 109,\n",
              " 101,\n",
              " 87,\n",
              " 104,\n",
              " 104,\n",
              " 107,\n",
              " 86,\n",
              " 96,\n",
              " 81,\n",
              " 125,\n",
              " 101,\n",
              " 100,\n",
              " 77,\n",
              " 104,\n",
              " 94,\n",
              " 123,\n",
              " 91,\n",
              " 117,\n",
              " 93,\n",
              " 104,\n",
              " 89,\n",
              " 87,\n",
              " 100,\n",
              " 113,\n",
              " 96,\n",
              " 88,\n",
              " 123,\n",
              " 118,\n",
              " 96,\n",
              " 103,\n",
              " 82,\n",
              " 89,\n",
              " 102,\n",
              " 90,\n",
              " 108,\n",
              " 105,\n",
              " 80,\n",
              " 117,\n",
              " 100,\n",
              " 110,\n",
              " 98,\n",
              " 103,\n",
              " 105,\n",
              " 92,\n",
              " 102,\n",
              " 91,\n",
              " 104,\n",
              " 87,\n",
              " 101,\n",
              " 89,\n",
              " 91,\n",
              " 108,\n",
              " 93,\n",
              " 91,\n",
              " 88,\n",
              " 105,\n",
              " 99,\n",
              " 99,\n",
              " 93,\n",
              " 86,\n",
              " 83,\n",
              " 103,\n",
              " 95,\n",
              " 101,\n",
              " 94,\n",
              " 119,\n",
              " 102,\n",
              " 96,\n",
              " 92,\n",
              " 105,\n",
              " 109,\n",
              " 113,\n",
              " 77,\n",
              " 116,\n",
              " 104,\n",
              " 111,\n",
              " 117,\n",
              " 91,\n",
              " 92,\n",
              " 88,\n",
              " 95,\n",
              " 91,\n",
              " 77,\n",
              " 101,\n",
              " 114,\n",
              " 85,\n",
              " 98,\n",
              " 108,\n",
              " 92,\n",
              " 102,\n",
              " 88,\n",
              " 89,\n",
              " 98,\n",
              " 108,\n",
              " 101,\n",
              " 93,\n",
              " 84,\n",
              " 94,\n",
              " 112,\n",
              " 103,\n",
              " 107,\n",
              " 105,\n",
              " 102,\n",
              " 94,\n",
              " 131,\n",
              " 94,\n",
              " 101,\n",
              " 99,\n",
              " 123,\n",
              " 92,\n",
              " 98,\n",
              " 93,\n",
              " 97,\n",
              " 104,\n",
              " 103,\n",
              " 100,\n",
              " 110,\n",
              " 122,\n",
              " 99,\n",
              " 103,\n",
              " 96,\n",
              " 94,\n",
              " 90,\n",
              " 105,\n",
              " 96,\n",
              " 122,\n",
              " 89,\n",
              " 107,\n",
              " 104,\n",
              " 125,\n",
              " 105,\n",
              " 98,\n",
              " 83,\n",
              " 110,\n",
              " 96,\n",
              " 69,\n",
              " 94,\n",
              " 99,\n",
              " 81,\n",
              " 88,\n",
              " 96,\n",
              " 85,\n",
              " 103,\n",
              " 114,\n",
              " 120,\n",
              " 123,\n",
              " 83,\n",
              " 114,\n",
              " 109,\n",
              " 94,\n",
              " 109,\n",
              " 80,\n",
              " 73,\n",
              " 97,\n",
              " 91,\n",
              " 92,\n",
              " 95,\n",
              " 86,\n",
              " 104,\n",
              " 109,\n",
              " 98,\n",
              " 96,\n",
              " 95,\n",
              " 91,\n",
              " 83,\n",
              " 97,\n",
              " 102,\n",
              " 111,\n",
              " 107,\n",
              " 110,\n",
              " 114,\n",
              " 95,\n",
              " 91,\n",
              " 92,\n",
              " 90,\n",
              " 111,\n",
              " 97,\n",
              " 97,\n",
              " 98,\n",
              " 121,\n",
              " 72,\n",
              " 81,\n",
              " 98,\n",
              " 79,\n",
              " 97,\n",
              " 95,\n",
              " 110,\n",
              " 93,\n",
              " 109,\n",
              " 80,\n",
              " 104,\n",
              " 100,\n",
              " 97,\n",
              " 94,\n",
              " 104,\n",
              " 113,\n",
              " 124,\n",
              " 77,\n",
              " 107,\n",
              " 102,\n",
              " 94,\n",
              " 97,\n",
              " 85,\n",
              " 107,\n",
              " 94,\n",
              " 85,\n",
              " 103,\n",
              " 113,\n",
              " 103,\n",
              " 89,\n",
              " 109,\n",
              " 82,\n",
              " 112,\n",
              " 101,\n",
              " 78,\n",
              " 90,\n",
              " 108,\n",
              " 130,\n",
              " 137,\n",
              " 115,\n",
              " 100,\n",
              " 95,\n",
              " 101,\n",
              " 101,\n",
              " 83,\n",
              " 104,\n",
              " 111,\n",
              " 84,\n",
              " 90,\n",
              " 83,\n",
              " 102,\n",
              " 106,\n",
              " 98,\n",
              " 99,\n",
              " 80,\n",
              " 92,\n",
              " 129,\n",
              " 109,\n",
              " 109,\n",
              " 116,\n",
              " 80,\n",
              " 108,\n",
              " 98,\n",
              " 113,\n",
              " 113,\n",
              " 116,\n",
              " 113,\n",
              " 110,\n",
              " 77,\n",
              " 114,\n",
              " 90,\n",
              " 97,\n",
              " 70,\n",
              " 100,\n",
              " 94,\n",
              " 122,\n",
              " 105,\n",
              " 105,\n",
              " 119,\n",
              " 85,\n",
              " 105,\n",
              " 106,\n",
              " 82,\n",
              " 100,\n",
              " 89,\n",
              " 116,\n",
              " 83,\n",
              " 119,\n",
              " 73,\n",
              " 122,\n",
              " 89,\n",
              " 121,\n",
              " 98,\n",
              " 104,\n",
              " 103,\n",
              " 107,\n",
              " 97,\n",
              " 124,\n",
              " 98,\n",
              " 105,\n",
              " 102,\n",
              " 100,\n",
              " 99,\n",
              " 125,\n",
              " 96,\n",
              " 87,\n",
              " 105,\n",
              " 123,\n",
              " 116,\n",
              " 120,\n",
              " 98,\n",
              " 88,\n",
              " 116,\n",
              " 111,\n",
              " 93,\n",
              " 124,\n",
              " 91,\n",
              " 112,\n",
              " 115,\n",
              " 89,\n",
              " 106,\n",
              " 111,\n",
              " 105,\n",
              " 97,\n",
              " 111,\n",
              " 111,\n",
              " 83,\n",
              " 104,\n",
              " 120,\n",
              " 84,\n",
              " 99,\n",
              " 101,\n",
              " 99,\n",
              " 116,\n",
              " 109,\n",
              " 86,\n",
              " 108,\n",
              " 96,\n",
              " 93,\n",
              " 116,\n",
              " 104,\n",
              " 90,\n",
              " 106,\n",
              " 93,\n",
              " 102,\n",
              " 103,\n",
              " 102,\n",
              " 105,\n",
              " 128,\n",
              " 112,\n",
              " 95,\n",
              " 108,\n",
              " 121,\n",
              " 107,\n",
              " 111,\n",
              " 85,\n",
              " 117,\n",
              " 96,\n",
              " 78,\n",
              " 103,\n",
              " 107,\n",
              " 121,\n",
              " 89,\n",
              " 104,\n",
              " 87,\n",
              " 77,\n",
              " 108,\n",
              " 112,\n",
              " 100,\n",
              " 101,\n",
              " 111,\n",
              " 89,\n",
              " 79,\n",
              " 90,\n",
              " 106,\n",
              " 127,\n",
              " 104,\n",
              " 96,\n",
              " 125,\n",
              " 98,\n",
              " 78,\n",
              " 77,\n",
              " 90,\n",
              " 106,\n",
              " 89,\n",
              " 95,\n",
              " 105,\n",
              " 98,\n",
              " 96,\n",
              " 94,\n",
              " 101,\n",
              " 100,\n",
              " 84,\n",
              " 117,\n",
              " 97,\n",
              " 96,\n",
              " 111,\n",
              " 104,\n",
              " 120,\n",
              " 87,\n",
              " 87,\n",
              " 125,\n",
              " 88,\n",
              " 108,\n",
              " 95,\n",
              " 102,\n",
              " 83,\n",
              " 103,\n",
              " 107,\n",
              " 112,\n",
              " 83,\n",
              " 105,\n",
              " 122,\n",
              " 100,\n",
              " 96,\n",
              " 90,\n",
              " 81,\n",
              " 101,\n",
              " 127,\n",
              " 103,\n",
              " 85,\n",
              " 104,\n",
              " 106,\n",
              " 94,\n",
              " 112,\n",
              " 101,\n",
              " 87,\n",
              " 104,\n",
              " 98,\n",
              " 117,\n",
              " 115,\n",
              " 91,\n",
              " 83,\n",
              " 105,\n",
              " 86,\n",
              " 90,\n",
              " 91,\n",
              " 96,\n",
              " 82,\n",
              " 86,\n",
              " 94,\n",
              " 98,\n",
              " 118,\n",
              " 103,\n",
              " 108,\n",
              " 110,\n",
              " 114,\n",
              " 89,\n",
              " 97,\n",
              " 90,\n",
              " 101,\n",
              " 98,\n",
              " 111,\n",
              " 107,\n",
              " 115,\n",
              " 100,\n",
              " 100,\n",
              " 100,\n",
              " 130,\n",
              " 100,\n",
              " 92,\n",
              " 77,\n",
              " 108,\n",
              " 92,\n",
              " 101,\n",
              " 95,\n",
              " 90,\n",
              " 92,\n",
              " 111,\n",
              " 91,\n",
              " 86,\n",
              " 93,\n",
              " 113,\n",
              " 103,\n",
              " 117,\n",
              " 98,\n",
              " 105,\n",
              " 108,\n",
              " 101,\n",
              " 98,\n",
              " 112,\n",
              " 101,\n",
              " 97,\n",
              " 98,\n",
              " 83,\n",
              " 113,\n",
              " 94,\n",
              " 82,\n",
              " 101,\n",
              " 108,\n",
              " 97,\n",
              " 120,\n",
              " 95,\n",
              " 89,\n",
              " 111,\n",
              " 84,\n",
              " 88,\n",
              " 90,\n",
              " 86,\n",
              " 97,\n",
              " 107,\n",
              " 113,\n",
              " 92,\n",
              " 111,\n",
              " 100,\n",
              " 105,\n",
              " 96,\n",
              " 96,\n",
              " 120,\n",
              " 89,\n",
              " 89,\n",
              " 107,\n",
              " 92,\n",
              " 109,\n",
              " 102,\n",
              " 93,\n",
              " 109,\n",
              " 99,\n",
              " 109,\n",
              " 85,\n",
              " 124,\n",
              " 85,\n",
              " 122,\n",
              " 104,\n",
              " 94,\n",
              " 85,\n",
              " 108,\n",
              " 119,\n",
              " 100,\n",
              " 119,\n",
              " 97,\n",
              " 100,\n",
              " 103,\n",
              " 110,\n",
              " 104,\n",
              " 124,\n",
              " 124,\n",
              " 119,\n",
              " 127,\n",
              " 112,\n",
              " 99,\n",
              " 92,\n",
              " 115,\n",
              " 135,\n",
              " 90,\n",
              " 127,\n",
              " 110,\n",
              " 113,\n",
              " 114,\n",
              " 83,\n",
              " 80,\n",
              " 103,\n",
              " 115,\n",
              " 85,\n",
              " 99,\n",
              " 95,\n",
              " 96,\n",
              " 115,\n",
              " 102,\n",
              " 98,\n",
              " 100,\n",
              " 110,\n",
              " 109,\n",
              " 110,\n",
              " 83,\n",
              " 112,\n",
              " 86,\n",
              " 102,\n",
              " 91,\n",
              " 115,\n",
              " 102,\n",
              " 93,\n",
              " 98,\n",
              " 76,\n",
              " 92,\n",
              " 89,\n",
              " 105,\n",
              " 94,\n",
              " 96,\n",
              " 113,\n",
              " 107,\n",
              " 105,\n",
              " 111,\n",
              " 92,\n",
              " 123,\n",
              " 92,\n",
              " 107,\n",
              " 80,\n",
              " 120,\n",
              " 113,\n",
              " 101,\n",
              " 96,\n",
              " 107,\n",
              " 103,\n",
              " 106,\n",
              " 120,\n",
              " 97,\n",
              " 99,\n",
              " 108,\n",
              " 91,\n",
              " 92,\n",
              " 115,\n",
              " 110,\n",
              " 119,\n",
              " 116,\n",
              " 110,\n",
              " 119,\n",
              " 93,\n",
              " 111,\n",
              " 73,\n",
              " 92,\n",
              " 94,\n",
              " 118,\n",
              " 114,\n",
              " 98,\n",
              " 110,\n",
              " 95,\n",
              " 110,\n",
              " 103,\n",
              " 128,\n",
              " 108,\n",
              " 108,\n",
              " 83,\n",
              " 120,\n",
              " 101,\n",
              " 80,\n",
              " 88,\n",
              " 116,\n",
              " 118,\n",
              " 112,\n",
              " 100,\n",
              " 89,\n",
              " 102,\n",
              " 92,\n",
              " 105,\n",
              " 81,\n",
              " 90,\n",
              " 118,\n",
              " 126,\n",
              " 117,\n",
              " 116,\n",
              " 100,\n",
              " 83,\n",
              " 118,\n",
              " 116,\n",
              " 105,\n",
              " 105,\n",
              " 92,\n",
              " 107,\n",
              " 98,\n",
              " 108,\n",
              " 116,\n",
              " 108,\n",
              " 109,\n",
              " 119,\n",
              " 99,\n",
              " 101,\n",
              " 107,\n",
              " 97,\n",
              " 117,\n",
              " 118,\n",
              " 103,\n",
              " 106,\n",
              " 97,\n",
              " 103,\n",
              " 111,\n",
              " 106,\n",
              " 96,\n",
              " 89,\n",
              " 114,\n",
              " 95,\n",
              " 132,\n",
              " 97,\n",
              " 116,\n",
              " 113,\n",
              " 97,\n",
              " 94,\n",
              " 114,\n",
              " 88,\n",
              " 108,\n",
              " 91,\n",
              " 98,\n",
              " 123,\n",
              " 86,\n",
              " 107,\n",
              " 108,\n",
              " 114,\n",
              " 117,\n",
              " 96,\n",
              " 132,\n",
              " 105,\n",
              " 75,\n",
              " 111,\n",
              " 118,\n",
              " 108,\n",
              " 82,\n",
              " 117,\n",
              " 88,\n",
              " 110,\n",
              " 104,\n",
              " 100,\n",
              " 110,\n",
              " 123,\n",
              " 96,\n",
              " 101,\n",
              " 117,\n",
              " 92,\n",
              " 106,\n",
              " 116,\n",
              " 137,\n",
              " 84,\n",
              " 89,\n",
              " 94,\n",
              " 108,\n",
              " 116,\n",
              " 110,\n",
              " 77,\n",
              " 117,\n",
              " 122,\n",
              " 103,\n",
              " 127,\n",
              " 107,\n",
              " 119,\n",
              " 98,\n",
              " 168,\n",
              " 105,\n",
              " 104,\n",
              " 73,\n",
              " 98,\n",
              " 106,\n",
              " 110,\n",
              " 98,\n",
              " 99,\n",
              " 108,\n",
              " 104,\n",
              " 91,\n",
              " 96,\n",
              " 96,\n",
              " 112,\n",
              " 100,\n",
              " ...]"
            ]
          },
          "metadata": {
            "tags": []
          },
          "execution_count": 11
        }
      ]
    },
    {
      "cell_type": "code",
      "metadata": {
        "colab": {
          "base_uri": "https://localhost:8080/"
        },
        "id": "psd44ZDaOHxs",
        "outputId": "5c0fc3ec-64b4-439f-d25a-0ef96b4aa550"
      },
      "source": [
        "# tipo del RDD\r\n",
        "type(wh_nba_data)"
      ],
      "execution_count": 12,
      "outputs": [
        {
          "output_type": "execute_result",
          "data": {
            "text/plain": [
              "pyspark.rdd.PipelinedRDD"
            ]
          },
          "metadata": {
            "tags": []
          },
          "execution_count": 12
        }
      ]
    },
    {
      "cell_type": "code",
      "metadata": {
        "colab": {
          "base_uri": "https://localhost:8080/"
        },
        "id": "yewptWpaXPMV",
        "outputId": "07814e20-4fed-453c-c38a-79bbd13defd3"
      },
      "source": [
        "# minimo puntos\r\n",
        "wh_nba_data.min()"
      ],
      "execution_count": 13,
      "outputs": [
        {
          "output_type": "execute_result",
          "data": {
            "text/plain": [
              "59"
            ]
          },
          "metadata": {
            "tags": []
          },
          "execution_count": 13
        }
      ]
    },
    {
      "cell_type": "code",
      "metadata": {
        "colab": {
          "base_uri": "https://localhost:8080/"
        },
        "id": "lCsChdP9XPVC",
        "outputId": "692b04c3-455b-4cb3-8ee3-31070feb784a"
      },
      "source": [
        "# maximo puntos\r\n",
        "wh_nba_data.max()"
      ],
      "execution_count": 14,
      "outputs": [
        {
          "output_type": "execute_result",
          "data": {
            "text/plain": [
              "168"
            ]
          },
          "metadata": {
            "tags": []
          },
          "execution_count": 14
        }
      ]
    },
    {
      "cell_type": "code",
      "metadata": {
        "colab": {
          "base_uri": "https://localhost:8080/"
        },
        "id": "2k6Uv6xwXHh7",
        "outputId": "129b72d4-be33-4a94-c34f-4c02963b916a"
      },
      "source": [
        "# intervalos entre el minimo y el maximo\r\n",
        "# diferencia entre maximo y minimo entre 10 divisiones\r\n",
        "(wh_nba_data.max() - wh_nba_data.min()) / 10"
      ],
      "execution_count": 15,
      "outputs": [
        {
          "output_type": "execute_result",
          "data": {
            "text/plain": [
              "10.9"
            ]
          },
          "metadata": {
            "tags": []
          },
          "execution_count": 15
        }
      ]
    },
    {
      "cell_type": "code",
      "metadata": {
        "id": "3IUDT-6DXXhU"
      },
      "source": [
        "# definimos una funcion para las divisiones del histograma \r\n",
        "# al min de puntos le sumamos la diferencia con el max de forma acumulativa hasta llegar a la puntuacion max\r\n",
        "def inter(x):\r\n",
        "  if x<69.9:\r\n",
        "    return 'int1'\r\n",
        "  elif x <80.8:\r\n",
        "    return 'int2'\r\n",
        "  elif x<91.7:\r\n",
        "    return 'int3'\r\n",
        "  elif x<102.6:\r\n",
        "    return 'int4'\r\n",
        "  elif x<113.5:\r\n",
        "    return 'int5'\r\n",
        "  elif x<124.4:\r\n",
        "    return 'int6'\r\n",
        "  elif x<135.3:\r\n",
        "    return 'int7'\r\n",
        "  elif x<146.2:\r\n",
        "    return 'int8'\r\n",
        "  elif x<157.1:\r\n",
        "    return 'int9'\r\n",
        "  elif x<=168:\r\n",
        "    return 'int10'"
      ],
      "execution_count": 16,
      "outputs": []
    },
    {
      "cell_type": "code",
      "metadata": {
        "colab": {
          "base_uri": "https://localhost:8080/",
          "height": 35
        },
        "id": "g-P3LHD_XXmE",
        "outputId": "4b428a6f-ca91-423e-b7ea-1be61bf968de"
      },
      "source": [
        "# el puntuaje 160 corresponde al intervalo 10\r\n",
        "inter(160)"
      ],
      "execution_count": 17,
      "outputs": [
        {
          "output_type": "execute_result",
          "data": {
            "application/vnd.google.colaboratory.intrinsic+json": {
              "type": "string"
            },
            "text/plain": [
              "'int10'"
            ]
          },
          "metadata": {
            "tags": []
          },
          "execution_count": 17
        }
      ]
    },
    {
      "cell_type": "code",
      "metadata": {
        "colab": {
          "base_uri": "https://localhost:8080/"
        },
        "id": "G6Vo-5PDXXsM",
        "outputId": "a76977cb-5a01-43ec-a16a-ae7cc219a22b"
      },
      "source": [
        "# con reduceByKey hacemos groupby y map en un solo paso para la frecuencia de los intervalos\r\n",
        "# con collect transformamos los elementos del RDD en una lista\r\n",
        "nba_data_hist = nba_data.filter(lambda s: s != head_nba_data) \\\r\n",
        "                      .map(lambda s: s.split(\":\")[-1]) \\\r\n",
        "                      .filter(lambda s_pvisit: s_pvisit.isdigit()) \\\r\n",
        "                      .map(lambda d_pvisit: int(d_pvisit)) \\\r\n",
        "                      .map(lambda x : (inter(x),1)) \\\r\n",
        "                      .reduceByKey(lambda a, b: a + b) \\\r\n",
        "                      .collect()\r\n",
        "nba_data_hist"
      ],
      "execution_count": 18,
      "outputs": [
        {
          "output_type": "execute_result",
          "data": {
            "text/plain": [
              "[('int4', 4287),\n",
              " ('int5', 3832),\n",
              " ('int6', 1717),\n",
              " ('int8', 59),\n",
              " ('int9', 5),\n",
              " ('int2', 439),\n",
              " ('int3', 2125),\n",
              " ('int1', 37),\n",
              " ('int7', 395),\n",
              " ('int10', 1)]"
            ]
          },
          "metadata": {
            "tags": []
          },
          "execution_count": 18
        }
      ]
    },
    {
      "cell_type": "code",
      "metadata": {
        "colab": {
          "base_uri": "https://localhost:8080/"
        },
        "id": "XspoPU-BXrrg",
        "outputId": "2aa5513a-223c-4016-8c93-42114553b472"
      },
      "source": [
        "# comprobamos que ahora hay una lista\r\n",
        "type(nba_data_hist)"
      ],
      "execution_count": 19,
      "outputs": [
        {
          "output_type": "execute_result",
          "data": {
            "text/plain": [
              "list"
            ]
          },
          "metadata": {
            "tags": []
          },
          "execution_count": 19
        }
      ]
    },
    {
      "cell_type": "code",
      "metadata": {
        "id": "YAw6ifGoXxtU"
      },
      "source": [
        "# ordenamos la lista\r\n",
        "nba_data_hist.sort()"
      ],
      "execution_count": 20,
      "outputs": []
    },
    {
      "cell_type": "code",
      "metadata": {
        "id": "L7XrAyNbXxzW"
      },
      "source": [
        "# creamos un data frame para ello primero importamos la libreria pandas\r\n",
        "import pandas as pd\r\n",
        "df_nba_hist = pd.DataFrame(nba_data_hist)"
      ],
      "execution_count": 22,
      "outputs": []
    },
    {
      "cell_type": "code",
      "metadata": {
        "colab": {
          "base_uri": "https://localhost:8080/"
        },
        "id": "NEttstAhXr1C",
        "outputId": "aa3089bb-f71e-4d3a-c9a6-d380fabe0b6d"
      },
      "source": [
        "# comprobamos que tenemos un dataframe\r\n",
        "type(df_nba_hist)"
      ],
      "execution_count": 23,
      "outputs": [
        {
          "output_type": "execute_result",
          "data": {
            "text/plain": [
              "pandas.core.frame.DataFrame"
            ]
          },
          "metadata": {
            "tags": []
          },
          "execution_count": 23
        }
      ]
    },
    {
      "cell_type": "code",
      "metadata": {
        "id": "xOh1bC5CYACo"
      },
      "source": [
        "import numpy as np"
      ],
      "execution_count": 24,
      "outputs": []
    },
    {
      "cell_type": "code",
      "metadata": {
        "id": "8W44BgEuYAIq"
      },
      "source": [
        "import matplotlib.pyplot as plt"
      ],
      "execution_count": 25,
      "outputs": []
    },
    {
      "cell_type": "code",
      "metadata": {
        "colab": {
          "base_uri": "https://localhost:8080/",
          "height": 468
        },
        "id": "2VjbA00ZYAQn",
        "outputId": "fe9b162b-8dc2-4289-e957-1cfdd07b502a"
      },
      "source": [
        "# definimos los parametros del histograma\r\n",
        "labels, ys = zip(*nba_data_hist)\r\n",
        "xs = np.arange(len(labels)) \r\n",
        "width = 1\r\n",
        "\r\n",
        "# representamos el histograma\r\n",
        "plt.bar(xs, ys, width, align='center', color = 'lightgreen');\r\n",
        "plt.title(\"Histograma\");\r\n",
        "\r\n",
        "plt.xticks(xs, labels)\r\n",
        "plt.yticks(ys)"
      ],
      "execution_count": 27,
      "outputs": [
        {
          "output_type": "execute_result",
          "data": {
            "text/plain": [
              "([<matplotlib.axis.YTick at 0x7f62519e7f98>,\n",
              "  <matplotlib.axis.YTick at 0x7f62519e7978>,\n",
              "  <matplotlib.axis.YTick at 0x7f62519e5d68>,\n",
              "  <matplotlib.axis.YTick at 0x7f62519b44e0>,\n",
              "  <matplotlib.axis.YTick at 0x7f62519b4ac8>,\n",
              "  <matplotlib.axis.YTick at 0x7f62519b4f60>,\n",
              "  <matplotlib.axis.YTick at 0x7f62519be438>,\n",
              "  <matplotlib.axis.YTick at 0x7f62519be8d0>,\n",
              "  <matplotlib.axis.YTick at 0x7f62519bed68>,\n",
              "  <matplotlib.axis.YTick at 0x7f62519c6240>],\n",
              " <a list of 10 Text major ticklabel objects>)"
            ]
          },
          "metadata": {
            "tags": []
          },
          "execution_count": 27
        },
        {
          "output_type": "display_data",
          "data": {
            "image/png": "[encoded data removed]",
            "text/plain": [
              "<Figure size 432x288 with 1 Axes>"
            ]
          },
          "metadata": {
            "tags": [],
            "needs_background": "light"
          }
        }
      ]
    }
  ]
}