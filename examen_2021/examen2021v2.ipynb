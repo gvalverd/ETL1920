{
 "cells": [
  {
   "cell_type": "markdown",
   "metadata": {},
   "source": [
    "* Autora: Isabel Afán de Ribera\n",
    "* Fecha: 01/02/2021\n",
    "* Institución: CUNEF"
   ]
  },
  {
   "cell_type": "markdown",
   "metadata": {},
   "source": [
    "# TAREA FINAL: Datos de vivienda\n",
    "\n",
    "<p> El negocio inmobiliario es uno de los motores de la economía de España, el carácter turístico de nuesta península hace que sean muchos los inversores extranjeros que se decidan por buscar una inversión de bajo riesgos en nuestras ciudades costeras o grandes urbes. \n",
    "Muchas de estas inversiones se hacen sobre grandes bolsas de inmuebles que deben ser analizados previamente para comprobar la rentabilidad del porfolio </p>\n",
    "\n",
    "<!-- <p> En este caso vamos a trabajar con una tabla que contienen información de distintos inmuebles repartidos por una zona específica, sus carácterísticas y su precio </p>  -->"
   ]
  },
  {
   "cell_type": "markdown",
   "metadata": {},
   "source": [
    "Todas las cuestiones se deben realizar sobre el conjunto de casos que representen viviendas ubicadas en zonas residenciales **(alta, media y baja densidad)**"
   ]
  },
  {
   "cell_type": "markdown",
   "metadata": {},
   "source": [
    "**MUY IMPORTANTE:** En las otras prácticas he detectado colaboraciones involucrando varias personas y he sido flexible aunque a algunos os lo he mencionado en las correcciones, porque al final el trabajo de analista de datos es un trabajo colaborativo. Sin embargo, este trabajo es individual, así que cuidado con las colaboraciones."
   ]
  },
  {
   "cell_type": "markdown",
   "metadata": {},
   "source": [
    "Las variables de las que se compone el dataset son:"
   ]
  },
  {
   "cell_type": "markdown",
   "metadata": {},
   "source": [
    "|NOMBRE VARIABLE|DESCRIPTOR|VALORES|\n",
    "| --- | --- | --- |\n",
    "|Order|Variable de identificación|1 a 2930|\n",
    "|MS Zoning|Zona de ubicación de la vivienda|\"A rural, C comercial, FV residencial flotante, I industrial, RH residencial alta densidad, RL residencial baja densidad, RM residencial media densidad\"|\n",
    "|Lot Frontage|Longitud de la fachada en pies||\n",
    "|Lot Area|Superficie de la vivienda en pies cuadrados||\n",
    "|Land Contour|Contorno del terreno circundante|\"Lvl llano, Bnk Tipo bancal, HLS Ladera, Low Depresión\"|\n",
    "|Land Slope|Tipo de pendiente de la vivienda|\" Gtl pendiente suave, Mod pendiente moderada, Sev fuerte pendiente\"|\n",
    "|Overall Qual|Grado de calidad de materiales y acabado de la vivienda|De 1 (Muy pobre) a 10 (Excelente)|\n",
    "|Year Built|Año de construccion de la vivienda||\n",
    "|Year Remod/Add|Año de última reforma de la vivienda||\n",
    "|Mas Vnr Type|Tipo de revestimiento exterior|\" BrkCmn Ladrillo normal, BrkFace Ladrillo visto, CBlock Bloque de cemento, None Ninguna, Stone Piedra \"|\n",
    "|Exter Qual|Calidad de revestimiento exterior|\"Ex Excelente,Gd Bueno,TA Media,Fa Justo\"|\n",
    "|Bsmt Cond|Estado general del sótano|\"Ex Excelente, Gd Bueno, TA Media, Fa Justo, Po Pobre,Ss sin sótano\"|\n",
    "|Total Bsmt SF|Superficie del sótano en pies cuadrados|\n",
    "|Heating QC|Calidad de la calefacción|\"Ex Excelente,Gd Bueno,TA Media,Fa Justo,Po Pobre\"|\n",
    "|Central Air|Aire acondicionado centralizado|\"N No Y Sí\"|\n",
    "|Full Bath|Número de baños completo en planta||\n",
    "|Half Bath|Número de aseos en planta||\n",
    "|Bedroom AbvGr|Número de dormitorios en planta||\n",
    "|Kitchen AbvGr|Número de cocinas en planta||\n",
    "|Kitchen Qual|Calidad de cocinas|\"Ex Excelente,Gd Bueno,TA Media,Fa Justo,Po Pobre\"|\n",
    "|TotRms AbvGrd|Número total de habitaciones excluidos los cuartos de baño||\n",
    "|Garage Cars|Número de plazas de garaje||\n",
    "|Garage Area|Superficie del garaje|||\n",
    "|Garage Cond|Estado del garaje|\"Ex Excelente,Gd Bueno,TA Media,Fa Justo,Po Pobre,Sg sin garaje\"|\n",
    "|Pool Area|Superficie de la piscina en pies cuadrados|\n",
    "|Pool QC|Calidad de la piscina|\"Ex Excelente,Gd Bueno,TA Media,Fa Justo,Sp no hay piscina\"|\n",
    "|Mo Sold|mes de venta||\n",
    "|Yr Sold|año de venta||\n",
    "|SalePrice|precio de venta en dólares||"
   ]
  },
  {
   "cell_type": "markdown",
   "metadata": {},
   "source": [
    "Recomiendo al leer los datos, eliminar espacios de los nombres de las columnas, realiza un pequeño análisis inicial de los mismos. No olvides fijarte en los tipos de variables, que variables pueden tener tipos confundidos y corrige los. Sobre todo, trabaja con las fechas."
   ]
  },
  {
   "cell_type": "markdown",
   "metadata": {},
   "source": [
    "**NOTA:** Las tareas complementarias sirven para subir nota. El resto de preguntas valen igual y suman 10 puntos."
   ]
  },
  {
   "cell_type": "markdown",
   "metadata": {},
   "source": [
    "## Inicializar y cargar el contexto spark"
   ]
  },
  {
   "cell_type": "code",
   "execution_count": 1,
   "metadata": {
    "collapsed": false
   },
   "outputs": [],
   "source": [
    "# Carga de la libreria y el contexto spark para tener acceso al cluster\n",
    "from pyspark import SparkContext\n",
    "sc = SparkContext.getOrCreate()"
   ]
  },
  {
   "cell_type": "code",
   "execution_count": 2,
   "metadata": {
    "collapsed": true
   },
   "outputs": [],
   "source": [
    "# cargamos la sesion spark\n",
    "from pyspark.sql.session import SparkSession\n",
    "spark = SparkSession(sc)"
   ]
  },
  {
   "cell_type": "code",
   "execution_count": 3,
   "metadata": {
    "collapsed": true
   },
   "outputs": [],
   "source": [
    "# Carga del dataset\n",
    "data_file = \"./BDpracticafinalCSV.csv\"\n",
    "raw_data_vivienda = sc.textFile(data_file)"
   ]
  },
  {
   "cell_type": "code",
   "execution_count": 4,
   "metadata": {
    "collapsed": false
   },
   "outputs": [
    {
     "data": {
      "text/plain": [
       "2937"
      ]
     },
     "execution_count": 4,
     "metadata": {},
     "output_type": "execute_result"
    }
   ],
   "source": [
    "# Comprobación del número de registros del dataset\n",
    "raw_data_vivienda.count()"
   ]
  },
  {
   "cell_type": "code",
   "execution_count": 5,
   "metadata": {
    "collapsed": false
   },
   "outputs": [
    {
     "data": {
      "text/plain": [
       "['Order;MS Zoning;Lot Frontage;Lot Area;Land Contour;Land Slope;Overall Qual;Year Built;Year Remod/Add;Mas Vnr Type;Exter Qual;Bsmt Cond;Total Bsmt SF;Heating QC;Central Air;Full Bath;Half Bath;Bedroom AbvGr;Kitchen AbvGr;Kitchen Qual;TotRms AbvGrd;Garage Cars;Garage Area;Garage Cond;Pool Area;Pool QC;Mo Sold;Yr Sold;SalePrice',\n",
       " '1;RL;141;31770;Lvl;Gtl;6;1960;1960;Stone;TA;Gd;1080;Fa;Y;1;0;3;1;TA;7;2;528;TA;0;Sp;5;2010;215000',\n",
       " '2;RH;80;11622;Lvl;Gtl;5;1961;1961;None;TA;TA;882;TA;Y;1;0;2;1;TA;5;1;730;TA;0;Sp;6;2010;105000',\n",
       " '3;RL;81;14267;Lvl;Gtl;6;1958;1958;BrkFace;TA;TA;1329;TA;Y;1;1;3;1;Gd;6;1;312;TA;0;Sp;6;2010;172000',\n",
       " '4;RL;93;11160;Lvl;Gtl;7;1968;1968;None;Gd;TA;2110;Ex;Y;2;1;3;1;Ex;8;2;522;TA;0;Sp;4;2010;244000']"
      ]
     },
     "execution_count": 5,
     "metadata": {},
     "output_type": "execute_result"
    }
   ],
   "source": [
    "# Vemos la estructura de los datos\n",
    "raw_data_vivienda.take(5)"
   ]
  },
  {
   "cell_type": "code",
   "execution_count": 6,
   "metadata": {
    "collapsed": false
   },
   "outputs": [
    {
     "data": {
      "text/plain": [
       "'Order;MS Zoning;Lot Frontage;Lot Area;Land Contour;Land Slope;Overall Qual;Year Built;Year Remod/Add;Mas Vnr Type;Exter Qual;Bsmt Cond;Total Bsmt SF;Heating QC;Central Air;Full Bath;Half Bath;Bedroom AbvGr;Kitchen AbvGr;Kitchen Qual;TotRms AbvGrd;Garage Cars;Garage Area;Garage Cond;Pool Area;Pool QC;Mo Sold;Yr Sold;SalePrice'"
      ]
     },
     "execution_count": 6,
     "metadata": {},
     "output_type": "execute_result"
    }
   ],
   "source": [
    "# Al hacer el take hemos comprobado que el dataset contiene cabecera\n",
    "# Creamos objeto header para poder quitarlo en el parseado\n",
    "header_vivienda = raw_data_vivienda.take(1)[0]\n",
    "header_vivienda"
   ]
  },
  {
   "cell_type": "code",
   "execution_count": 7,
   "metadata": {
    "collapsed": false
   },
   "outputs": [
    {
     "data": {
      "text/plain": [
       "[['1',\n",
       "  'RL',\n",
       "  '141',\n",
       "  '31770',\n",
       "  'Lvl',\n",
       "  'Gtl',\n",
       "  '6',\n",
       "  '1960',\n",
       "  '1960',\n",
       "  'Stone',\n",
       "  'TA',\n",
       "  'Gd',\n",
       "  '1080',\n",
       "  'Fa',\n",
       "  'Y',\n",
       "  '1',\n",
       "  '0',\n",
       "  '3',\n",
       "  '1',\n",
       "  'TA',\n",
       "  '7',\n",
       "  '2',\n",
       "  '528',\n",
       "  'TA',\n",
       "  '0',\n",
       "  'Sp',\n",
       "  '5',\n",
       "  '2010',\n",
       "  '215000'],\n",
       " ['2',\n",
       "  'RH',\n",
       "  '80',\n",
       "  '11622',\n",
       "  'Lvl',\n",
       "  'Gtl',\n",
       "  '5',\n",
       "  '1961',\n",
       "  '1961',\n",
       "  'None',\n",
       "  'TA',\n",
       "  'TA',\n",
       "  '882',\n",
       "  'TA',\n",
       "  'Y',\n",
       "  '1',\n",
       "  '0',\n",
       "  '2',\n",
       "  '1',\n",
       "  'TA',\n",
       "  '5',\n",
       "  '1',\n",
       "  '730',\n",
       "  'TA',\n",
       "  '0',\n",
       "  'Sp',\n",
       "  '6',\n",
       "  '2010',\n",
       "  '105000']]"
      ]
     },
     "execution_count": 7,
     "metadata": {},
     "output_type": "execute_result"
    }
   ],
   "source": [
    "# Parseamos los datos:\n",
    "# 1. Filtro para coger todos los datos excepto el header\n",
    "# 2. Separamos los datos por punto y coma\n",
    "parsed_data_vivienda = raw_data_vivienda.filter(lambda s: s != header_vivienda) \\\n",
    "                                  .map(lambda x: x.split(\";\"))\n",
    "parsed_data_vivienda.take(2)"
   ]
  },
  {
   "cell_type": "markdown",
   "metadata": {},
   "source": [
    "Como solo vamos a trabajar solo con las viviendas ubicadas en zonas residenciales (alta, media y baja densidad) vamos a filtrar el dataset."
   ]
  },
  {
   "cell_type": "code",
   "execution_count": 8,
   "metadata": {
    "collapsed": false
   },
   "outputs": [
    {
     "data": {
      "text/plain": [
       "['RL', 'C', 'Rl', 'RH', 'rL', 'I', 'A', 'RM', 'FV']"
      ]
     },
     "execution_count": 8,
     "metadata": {},
     "output_type": "execute_result"
    }
   ],
   "source": [
    "# hago un distinct para saber cuantos valores distintos contiene la variable MS Zoning\n",
    "parsed_data_vivienda.map(lambda x: x[1]).distinct().collect()"
   ]
  },
  {
   "cell_type": "code",
   "execution_count": 10,
   "metadata": {
    "collapsed": false
   },
   "outputs": [],
   "source": [
    "# viendo que el valor residencial baja densidad se repite 3 veces con nombres distintos vamos a renombrar mediante una función,\n",
    "# donde cambiamos el nombre de las necesarias y el resto las dejamos igual\n",
    "def renombrar(x):\n",
    "  if x == 'RL':\n",
    "    return 'RL'\n",
    "  elif x == 'C':\n",
    "    return 'C'\n",
    "  elif x == 'Rl':\n",
    "    return 'RL'\n",
    "  elif x == 'RH':\n",
    "    return 'RH'\n",
    "  elif x == 'rL':\n",
    "    return 'RL'\n",
    "  elif x == 'I':\n",
    "    return 'I'\n",
    "  elif x == 'A':\n",
    "    return 'A'\n",
    "  elif x == 'RM':\n",
    "    return 'RM'\n",
    "  elif x == 'FV':\n",
    "    return 'FV'\n",
    "  else:\n",
    "    'none'"
   ]
  },
  {
   "cell_type": "code",
   "execution_count": 11,
   "metadata": {
    "collapsed": false
   },
   "outputs": [],
   "source": [
    "# Creo un nuevo RDD incluyendo todas las variables y renombrando con la función creada la variable MS Zoning\n",
    "data_vivienda_filtrar = parsed_data_vivienda.map(lambda x: (x[0], renombrar(x[1]), x[2], x[3], x[4], x[5], x[6], x[7], x[8], x[9], x[10], x[11], x[12], x[13], \n",
    "                                            x[14], x[15], x[16], x[17], x[18], x[19], x[20], x[21], x[22], x[23], x[24], x[25], x[26], x[27], x[28]))"
   ]
  },
  {
   "cell_type": "code",
   "execution_count": 12,
   "metadata": {
    "collapsed": false
   },
   "outputs": [],
   "source": [
    "# Ahora ya puedo filtrar para que me devuelva un nuevo RDD con todas los valores de MS Zoning que no sean C, I, A, FV\n",
    "data_vivienda = data_vivienda_filtrar.filter(lambda x: not 'C'  in x[1])\\\n",
    "                                 .filter(lambda x: not 'I' in x[1])\\\n",
    "                                 .filter(lambda x: not 'A' in x[1])\\\n",
    "                                 .filter(lambda x: not 'FV' in x[1])"
   ]
  },
  {
   "cell_type": "code",
   "execution_count": 13,
   "metadata": {
    "collapsed": false
   },
   "outputs": [
    {
     "data": {
      "text/plain": [
       "[('1',\n",
       "  'RL',\n",
       "  '141',\n",
       "  '31770',\n",
       "  'Lvl',\n",
       "  'Gtl',\n",
       "  '6',\n",
       "  '1960',\n",
       "  '1960',\n",
       "  'Stone',\n",
       "  'TA',\n",
       "  'Gd',\n",
       "  '1080',\n",
       "  'Fa',\n",
       "  'Y',\n",
       "  '1',\n",
       "  '0',\n",
       "  '3',\n",
       "  '1',\n",
       "  'TA',\n",
       "  '7',\n",
       "  '2',\n",
       "  '528',\n",
       "  'TA',\n",
       "  '0',\n",
       "  'Sp',\n",
       "  '5',\n",
       "  '2010',\n",
       "  '215000'),\n",
       " ('2',\n",
       "  'RH',\n",
       "  '80',\n",
       "  '11622',\n",
       "  'Lvl',\n",
       "  'Gtl',\n",
       "  '5',\n",
       "  '1961',\n",
       "  '1961',\n",
       "  'None',\n",
       "  'TA',\n",
       "  'TA',\n",
       "  '882',\n",
       "  'TA',\n",
       "  'Y',\n",
       "  '1',\n",
       "  '0',\n",
       "  '2',\n",
       "  '1',\n",
       "  'TA',\n",
       "  '5',\n",
       "  '1',\n",
       "  '730',\n",
       "  'TA',\n",
       "  '0',\n",
       "  'Sp',\n",
       "  '6',\n",
       "  '2010',\n",
       "  '105000'),\n",
       " ('3',\n",
       "  'RL',\n",
       "  '81',\n",
       "  '14267',\n",
       "  'Lvl',\n",
       "  'Gtl',\n",
       "  '6',\n",
       "  '1958',\n",
       "  '1958',\n",
       "  'BrkFace',\n",
       "  'TA',\n",
       "  'TA',\n",
       "  '1329',\n",
       "  'TA',\n",
       "  'Y',\n",
       "  '1',\n",
       "  '1',\n",
       "  '3',\n",
       "  '1',\n",
       "  'Gd',\n",
       "  '6',\n",
       "  '1',\n",
       "  '312',\n",
       "  'TA',\n",
       "  '0',\n",
       "  'Sp',\n",
       "  '6',\n",
       "  '2010',\n",
       "  '172000')]"
      ]
     },
     "execution_count": 13,
     "metadata": {},
     "output_type": "execute_result"
    }
   ],
   "source": [
    "# compruebo el resultado\n",
    "data_vivienda.take(3)"
   ]
  },
  {
   "cell_type": "markdown",
   "metadata": {},
   "source": [
    "## Cuántas viviendas distintas encontramos en el dataset? ¿Se repite alguna? Tiene sentido que haya duplicadas? ¿Qué podemos hacer con las duplicadas?"
   ]
  },
  {
   "cell_type": "markdown",
   "metadata": {},
   "source": [
    "Para conocer cuantas viviendas distintas contiene el dataset empleamos la función distinct que nos devolverá los valores distintos, en este caso de la variable Order (posición cero) relativa a la identificación de las viviendas."
   ]
  },
  {
   "cell_type": "code",
   "execution_count": 14,
   "metadata": {
    "collapsed": false
   },
   "outputs": [
    {
     "name": "stdout",
     "output_type": "stream",
     "text": [
      "El dataset deuda contiene 2762 viviendas distintas.\n"
     ]
    }
   ],
   "source": [
    "# Aplicamos función distinct y count para tener un recuento de valores distintos\n",
    "viviendas = data_vivienda.map(lambda x: x[0]).distinct()\n",
    "print(\"El dataset deuda contiene {} viviendas distintas.\".format(viviendas.count()))"
   ]
  },
  {
   "cell_type": "code",
   "execution_count": 15,
   "metadata": {
    "collapsed": false
   },
   "outputs": [
    {
     "data": {
      "text/plain": [
       "2768"
      ]
     },
     "execution_count": 15,
     "metadata": {},
     "output_type": "execute_result"
    }
   ],
   "source": [
    "# También hago un recuento del dataset completo\n",
    "data_vivienda.count()"
   ]
  },
  {
   "cell_type": "markdown",
   "metadata": {},
   "source": [
    "Se han obtenido 2762 viviendas distintas, mientras que en el recuento de registros totales se obtienen 2768, por tanto, hay 6 viviendas repetidas. El hecho de que haya registros repetidos no tiene sentido en este caso pues cada casa debe tener su información recogida una sola vez, no tiene sentido que haya datos distintos sobre la misma vivienda. Esto podría ser un problema de Data Quality pues habría varias fuentes de entrada del mismo registro. Por lo tanto, conviene detectar los registros duplicados y deshacernos de ellos."
   ]
  },
  {
   "cell_type": "code",
   "execution_count": 16,
   "metadata": {
    "collapsed": false
   },
   "outputs": [],
   "source": [
    "# función para detectar duplicados de la columna 0 relativa al codigo identificativo de cada vivienda\n",
    "def duplicate(x):\n",
    "    return \"{0}\".format(x[0])"
   ]
  },
  {
   "cell_type": "code",
   "execution_count": 17,
   "metadata": {
    "collapsed": true
   },
   "outputs": [],
   "source": [
    "duplicados = data_vivienda.map(lambda x: (duplicate(x), x))\n",
    "# aqui me deshago de los duplicados\n",
    "duplicados2 = duplicados.reduceByKey(lambda x,y: (x))"
   ]
  },
  {
   "cell_type": "code",
   "execution_count": 18,
   "metadata": {
    "collapsed": true
   },
   "outputs": [],
   "source": [
    "# creamos nuevo RDD sin valores duplicados con el que vamos a trabajar\n",
    "data_vivienda = duplicados2.map(lambda x: x[1])"
   ]
  },
  {
   "cell_type": "code",
   "execution_count": 19,
   "metadata": {
    "collapsed": false
   },
   "outputs": [
    {
     "data": {
      "text/plain": [
       "2762"
      ]
     },
     "execution_count": 19,
     "metadata": {},
     "output_type": "execute_result"
    }
   ],
   "source": [
    "# comprobamos que hemos quitado los 6 duplicados\n",
    "data_vivienda.count()"
   ]
  },
  {
   "cell_type": "markdown",
   "metadata": {},
   "source": [
    "## ¿Podrías decirme el total de inmuebles y el precio medio (Sale Price) de cada zona (MS Zoning)?"
   ]
  },
  {
   "cell_type": "markdown",
   "metadata": {},
   "source": [
    "Aquí se nos pide por cada zona de ubicación de la vivienda (MS Zoning) el recuento de viviendas y el precio medio de venta."
   ]
  },
  {
   "cell_type": "markdown",
   "metadata": {},
   "source": [
    "En primer lugar creo un RDD con los datos de zona como clave y los de total inmuebles como valor y hago un recuento de inmuebles según zona."
   ]
  },
  {
   "cell_type": "code",
   "execution_count": 20,
   "metadata": {
    "collapsed": false
   },
   "outputs": [
    {
     "data": {
      "text/plain": [
       "[('RL', 2273), ('RH', 27), ('RM', 462)]"
      ]
     },
     "execution_count": 20,
     "metadata": {},
     "output_type": "execute_result"
    }
   ],
   "source": [
    "total = data_vivienda.map(lambda x: (x[1], x[0]))\n",
    "\n",
    "# reduceByKey para agregar valores por la misma clave, valor inicial con count a 1, me da recuento por vivienda\n",
    "recuento = total.map(lambda x: (x[0],1)).reduceByKey(lambda x,y: x + y)\n",
    "recuento.collect()"
   ]
  },
  {
   "cell_type": "markdown",
   "metadata": {},
   "source": [
    "A continuación creo otro RDD con los datos de zonas como clave y precio medio asociado como valor."
   ]
  },
  {
   "cell_type": "code",
   "execution_count": 21,
   "metadata": {
    "collapsed": true
   },
   "outputs": [],
   "source": [
    "precio_vivienda = data_vivienda.map(lambda x: (x[1], (float(x[28]), 1)))"
   ]
  },
  {
   "cell_type": "markdown",
   "metadata": {},
   "source": [
    "Posteriormente, agrupo los valores del precio por zona que es la key."
   ]
  },
  {
   "cell_type": "code",
   "execution_count": 22,
   "metadata": {
    "collapsed": true
   },
   "outputs": [],
   "source": [
    "# sumatorio por zonas\n",
    "grupos_zonas = precio_vivienda.reduceByKey(lambda x,y: (x[0]+y[0], x[1]+y[1]))"
   ]
  },
  {
   "cell_type": "markdown",
   "metadata": {},
   "source": [
    "Por último, calculo el precio medio por zona y uno la información tanto de total de inmuebles como de precio medio por zona. De esta manera obtengo el precio medio de venta y el total de inmuebles de cada zona residencial. En este caso parece que el precio medio más elevado es de la zona residencial de baja densidad donde también se vende el mayor número de residencias."
   ]
  },
  {
   "cell_type": "code",
   "execution_count": 23,
   "metadata": {
    "collapsed": false
   },
   "outputs": [
    {
     "data": {
      "text/plain": [
       "[('RL', (191283.25164980203, 2273)),\n",
       " ('RH', (136419.77777777778, 27)),\n",
       " ('RM', (126781.39393939394, 462))]"
      ]
     },
     "execution_count": 23,
     "metadata": {},
     "output_type": "execute_result"
    }
   ],
   "source": [
    "# persist guarda en memoria\n",
    "precio_medio = grupos_zonas.map(lambda x: (x[0], x[1][0]/x[1][1])).join(recuento).persist()\n",
    "precio_medio.collect()"
   ]
  },
  {
   "cell_type": "markdown",
   "metadata": {},
   "source": [
    "## Media de Total Bsmt SF por cada década de construcción calculada a partir de Year Built. \n",
    "## ¿Cuál es la decada de construcción con viviendas mejor acondicionadas para el frío (Heating QC)?"
   ]
  },
  {
   "cell_type": "markdown",
   "metadata": {},
   "source": [
    "En este apartado se nos pide calcular la media de la variable 'Superficie del sótano en pies cuadrados' (Total Bsmt SF ) por decada de contrucción tomando como referencia el año de construcción (Year Built). Posteriormente se nos pide evaluar cuál es la decada con viviendas mejor aconcionadas para el frío (variable Heating QC) relativa a calidad de la calefacción."
   ]
  },
  {
   "cell_type": "markdown",
   "metadata": {},
   "source": [
    "Primero, creo una función para pasar los años a decadas."
   ]
  },
  {
   "cell_type": "code",
   "execution_count": 24,
   "metadata": {
    "collapsed": true
   },
   "outputs": [],
   "source": [
    "# como voy a aplicarla en la variable Year Built establezco que coja del elemento 0 al 3 de dicha variable que se corresponde\n",
    "# con los tres primeros numeros del año y que le añada 0's para cambiarlos a decadas\n",
    "def decades(x):\n",
    "    return x[0:3] + \"0's\""
   ]
  },
  {
   "cell_type": "markdown",
   "metadata": {},
   "source": [
    "A continuación nuevo RDD con las variables año de construcción como clave aplicandole la función decades y superficie del sótano como valor pasándolo a float para poder operar, pues por defecto el RDD está en formato string."
   ]
  },
  {
   "cell_type": "code",
   "execution_count": 25,
   "metadata": {
    "collapsed": false
   },
   "outputs": [],
   "source": [
    "# Year Built variable 7\n",
    "# Total Bsmt SF variable 12\n",
    "decadas = data_vivienda.map(lambda x: (decades(x[7]), (float(x[12]))))"
   ]
  },
  {
   "cell_type": "code",
   "execution_count": 26,
   "metadata": {
    "collapsed": false,
    "scrolled": true
   },
   "outputs": [
    {
     "data": {
      "text/plain": [
       "[(\"1990's\", 1468.0),\n",
       " (\"2000's\", 1114.0),\n",
       " (\"1970's\", 876.0),\n",
       " (\"1960's\", 1051.0),\n",
       " (\"1910's\", 972.0)]"
      ]
     },
     "execution_count": 26,
     "metadata": {},
     "output_type": "execute_result"
    }
   ],
   "source": [
    "# nos aseguramos de que la función se ha aplicado correctamente mediante un take\n",
    "decadas.take(5)"
   ]
  },
  {
   "cell_type": "markdown",
   "metadata": {},
   "source": [
    "Ahora creo RDD con clave decada y valor superficie, agrupo por clave sumando y calculo la media de superficie. Se ha comprobado que la decada en la que se construyeron casas con mayor superficie de sótano fue en 2010's y la de menor superficie la de 1940's."
   ]
  },
  {
   "cell_type": "code",
   "execution_count": 27,
   "metadata": {
    "collapsed": true
   },
   "outputs": [],
   "source": [
    "s_dec = decadas.map(lambda x: (x[0],x[1])).reduceByKey(lambda x,y: x + y)"
   ]
  },
  {
   "cell_type": "code",
   "execution_count": 28,
   "metadata": {
    "collapsed": true
   },
   "outputs": [],
   "source": [
    "# reduceByKey para agregar valores por la misma clave, valor inicial con count a 1\n",
    "super_decadas = decadas.map(lambda x: (x[0],1)).reduceByKey(lambda x,y: x + y)"
   ]
  },
  {
   "cell_type": "code",
   "execution_count": 29,
   "metadata": {
    "collapsed": false
   },
   "outputs": [
    {
     "data": {
      "text/plain": [
       "[(\"1890's\", 885.5833333333334),\n",
       " (\"1970's\", 952.7225274725274),\n",
       " (\"1930's\", 769.9158878504672),\n",
       " (\"1910's\", 788.3009708737864),\n",
       " (\"2010's\", 1539.0),\n",
       " (\"1880's\", 836.0),\n",
       " (\"1940's\", 706.9261744966443),\n",
       " (\"1920's\", 833.9368421052632),\n",
       " (\"1870's\", 761.0),\n",
       " (\"1960's\", 1082.672268907563),\n",
       " (\"1980's\", 1086.0),\n",
       " (\"1950's\", 968.2955223880597),\n",
       " (\"1900's\", 720.1388888888889),\n",
       " (\"1990's\", 1138.8083067092653),\n",
       " (\"2000's\", 1348.469079939668)]"
      ]
     },
     "execution_count": 29,
     "metadata": {},
     "output_type": "execute_result"
    }
   ],
   "source": [
    "# divido para obtener la media\n",
    "super_media = s_dec.join(super_decadas).map(lambda x:(x[0],(x[1][0]/x[1][1])))\n",
    "super_media.collect()"
   ]
  },
  {
   "cell_type": "markdown",
   "metadata": {},
   "source": [
    "Para la cuestión relativa a decada de construcción con viviendas mejor acondicionadas para el frío se han realizado los siguientes pasos:"
   ]
  },
  {
   "cell_type": "markdown",
   "metadata": {},
   "source": [
    "* 1) Se ha comprobado los distintos valores de la variable Heating QC relativa a la calidad de la calefacción de las viviendas.\n",
    "* 2) Se ha creado un RDD con la variable Year Built convertida en decadas y la variable categórica Heating QC.\n",
    "* 3) Como se nos pide viviendas mejor acondicionadas para el frío hemos filtrado todas aquellas que reunan la caracteristica Excelente.\n",
    "* 4) Por último, para conocer la decada concreta mejor acondicionada, se ha realizado un recuento de la categoria calidad de acondicionamiento excelente según decada."
   ]
  },
  {
   "cell_type": "code",
   "execution_count": 30,
   "metadata": {
    "collapsed": false
   },
   "outputs": [
    {
     "data": {
      "text/plain": [
       "['Fa', 'Po', 'TA', 'Gd', 'Ex']"
      ]
     },
     "execution_count": 30,
     "metadata": {},
     "output_type": "execute_result"
    }
   ],
   "source": [
    "# distinct de la variable Heating QC para saber que valores incluye, las mejores acondicionadas serán las excelentes (Ex)\n",
    "data_vivienda.map(lambda x: x[13]).distinct().collect()"
   ]
  },
  {
   "cell_type": "code",
   "execution_count": 31,
   "metadata": {
    "collapsed": false
   },
   "outputs": [
    {
     "data": {
      "text/plain": [
       "[(\"1990's\", 'Ex'), (\"2000's\", 'Ex'), (\"1970's\", 'TA')]"
      ]
     },
     "execution_count": 31,
     "metadata": {},
     "output_type": "execute_result"
    }
   ],
   "source": [
    "# Year Built variable 7\n",
    "# Heating QC variable 13\n",
    "heating = data_vivienda.map(lambda x: (decades(x[7]), ((x[13]))))\n",
    "heating.take(3)"
   ]
  },
  {
   "cell_type": "code",
   "execution_count": 32,
   "metadata": {
    "collapsed": false
   },
   "outputs": [
    {
     "data": {
      "text/plain": [
       "[(\"1990's\", 'Ex'), (\"2000's\", 'Ex'), (\"1900's\", 'Ex')]"
      ]
     },
     "execution_count": 32,
     "metadata": {},
     "output_type": "execute_result"
    }
   ],
   "source": [
    "# filtramos la categoria excelente de Heating QC\n",
    "excelentes = heating.filter(lambda x: \"Ex\" in x[1])\n",
    "excelentes.take(3)"
   ]
  },
  {
   "cell_type": "markdown",
   "metadata": {},
   "source": [
    "La década mejor acondicionada para el frío es la de los 2000."
   ]
  },
  {
   "cell_type": "code",
   "execution_count": 33,
   "metadata": {
    "collapsed": false
   },
   "outputs": [
    {
     "data": {
      "text/plain": [
       "defaultdict(int,\n",
       "            {\"1880's\": 2,\n",
       "             \"1890's\": 4,\n",
       "             \"1900's\": 12,\n",
       "             \"1910's\": 38,\n",
       "             \"1920's\": 51,\n",
       "             \"1930's\": 40,\n",
       "             \"1940's\": 56,\n",
       "             \"1950's\": 98,\n",
       "             \"1960's\": 88,\n",
       "             \"1970's\": 68,\n",
       "             \"1980's\": 28,\n",
       "             \"1990's\": 233,\n",
       "             \"2000's\": 638,\n",
       "             \"2010's\": 2})"
      ]
     },
     "execution_count": 33,
     "metadata": {},
     "output_type": "execute_result"
    }
   ],
   "source": [
    "# countByKey para ver la frecuencia en variables categoricas\n",
    "recuento_heating = excelentes.countByKey()\n",
    "recuento_heating"
   ]
  },
  {
   "cell_type": "markdown",
   "metadata": {},
   "source": [
    "## ¿Cuáles son las 10 viviendas que se vendieron por un precio más elevado por metro cuadrado en el año 2009?"
   ]
  },
  {
   "cell_type": "markdown",
   "metadata": {},
   "source": [
    "Para conocer las 10 viviendas vendidas a mayor precio por metro cuadrado en 2009 vamos a emplear la variable Order pues nos da la identificación de las viviendas, la variable Lot Area relativa a la superficie de las viviendas en pies cuadrados, la variable Sale Price sobre precio de venta en dólares y la variable Yr Sold relativa al año de venta (pues estamos hablando de precio en el momento de venta no de construcción ni de reforma).  "
   ]
  },
  {
   "cell_type": "markdown",
   "metadata": {},
   "source": [
    "Primero filtro mi RDD original sin duplicados por el año 2009 de la variable Yr Sold pues solo nos interesan estos datos en este caso."
   ]
  },
  {
   "cell_type": "code",
   "execution_count": 34,
   "metadata": {
    "collapsed": true
   },
   "outputs": [],
   "source": [
    "year09 = data_vivienda.filter(lambda x: \"2009\" in x[27])"
   ]
  },
  {
   "cell_type": "markdown",
   "metadata": {},
   "source": [
    "A continuación:\n",
    "* 1) Creo un RDD con identificación del inmueble, año de venta y precio por metro cuadrado (la variable Lot Area realativa a superficie viene dado en pies cudrados, tenemos que pasarlo a metros cuadrados, 1 pie cuadrado = 0.092903 metros cuadrados)\n",
    "* 2) Ordenado de forma descendente para tener las viviendas más caras las primeras\n",
    "* 3) Obtengo los 10 primeros registros que coincidirán con las 10 viviendas vendidas a mayor precio por metro cuadrado en 2009."
   ]
  },
  {
   "cell_type": "code",
   "execution_count": 35,
   "metadata": {
    "collapsed": false
   },
   "outputs": [
    {
     "data": {
      "text/plain": [
       "[('936', '2009', 1026.7118971897073),\n",
       " ('934', '2009', 991.0325013521444),\n",
       " ('464', '2009', 821.0570122815511),\n",
       " ('935', '2009', 807.9613655043873),\n",
       " ('408', '2009', 765.647528938273),\n",
       " ('407', '2009', 756.0368904997173),\n",
       " ('405', '2009', 717.5943367454944),\n",
       " ('933', '2009', 714.281725843034),\n",
       " ('403', '2009', 711.1872444531239),\n",
       " ('411', '2009', 701.0707829388548)]"
      ]
     },
     "execution_count": 35,
     "metadata": {},
     "output_type": "execute_result"
    }
   ],
   "source": [
    "# Order variable en posición 0\n",
    "# Yr Sold variable en posición 27\n",
    "# Sale Price variable en posición 28\n",
    "# Lot Area variable en posición 3\n",
    "viviendas_caras = year09.map(lambda x: (x[0], x[27], float(x[28])/(float(x[3])*0.092903))) \\\n",
    "            .sortBy(lambda x: x[2], ascending = False) \\\n",
    "            .takeOrdered(10, lambda x: len(x))\n",
    "\n",
    "viviendas_caras"
   ]
  },
  {
   "cell_type": "markdown",
   "metadata": {},
   "source": [
    "## Media anual por zonas del precio de venta y metros cuadrados."
   ]
  },
  {
   "cell_type": "markdown",
   "metadata": {},
   "source": [
    "Se quiere conocer la media del precio de venta y de la superficie de la vivienda en metros cuadrados según zona residencial y año. Por tanto, vamos a utilizar las variables MS Zoning referida a la zona de ubicación de la vivienda, Yr Sold del año de venta (si hablamos de precio de venta se considera que debe escogerse este año y no el de construcción), Lot Area para la superficie de la vivienda y Sale Price para precio de venta.  "
   ]
  },
  {
   "cell_type": "markdown",
   "metadata": {},
   "source": [
    "Se crea RDD con las variables mencionadas, siendo necesario pasar el precio a tipo float al igual que la superficie y pasarla a metros cuadrados."
   ]
  },
  {
   "cell_type": "code",
   "execution_count": 36,
   "metadata": {
    "collapsed": false
   },
   "outputs": [],
   "source": [
    "# MS Zoning en posición 1\n",
    "# Yr Sold variable en posición 27\n",
    "# Sale Price variable en posición 28\n",
    "# Lot Area variable en posición 3 \n",
    "precio_metros_zonas = data_vivienda.map(lambda x: (x[1], x[27], (float(x[3])*0.092903), (float(x[28]))))"
   ]
  },
  {
   "cell_type": "markdown",
   "metadata": {
    "collapsed": true
   },
   "source": [
    "* Zona RH residencial alta densidad"
   ]
  },
  {
   "cell_type": "code",
   "execution_count": 37,
   "metadata": {
    "collapsed": false
   },
   "outputs": [
    {
     "data": {
      "text/plain": [
       "[('RH', '2006', 826.8367, 107000.0),\n",
       " ('RH', '2006', 657.939046, 160000.0),\n",
       " ('RH', '2009', 615.853987, 103600.0)]"
      ]
     },
     "execution_count": 37,
     "metadata": {},
     "output_type": "execute_result"
    }
   ],
   "source": [
    "# filtro por la zona RH\n",
    "zona_RH = precio_metros_zonas.filter(lambda x: \"RH\" in x[0])\n",
    "zona_RH.take(3)"
   ]
  },
  {
   "cell_type": "code",
   "execution_count": 38,
   "metadata": {
    "collapsed": true
   },
   "outputs": [],
   "source": [
    "# RDD para media anual de SUPERFICIE de la zona RH\n",
    "rdd_RH = zona_RH.map(lambda x: (x[1], x[2]))"
   ]
  },
  {
   "cell_type": "code",
   "execution_count": 39,
   "metadata": {
    "collapsed": true
   },
   "outputs": [],
   "source": [
    "# agrupación y recuento\n",
    "superf_H = rdd_RH.map(lambda x: (x[0],x[1])).reduceByKey(lambda x,y: x + y)\n",
    "superf_RH = rdd_RH.map(lambda x: (x[0],1)).reduceByKey(lambda x,y: x + y)"
   ]
  },
  {
   "cell_type": "code",
   "execution_count": 40,
   "metadata": {
    "collapsed": false
   },
   "outputs": [
    {
     "data": {
      "text/plain": [
       "[('2007', 651.31970725),\n",
       " ('2010', 753.0345568),\n",
       " ('2008', 766.1400733333334),\n",
       " ('2006', 659.5648484999999),\n",
       " ('2009', 647.1437174)]"
      ]
     },
     "execution_count": 40,
     "metadata": {},
     "output_type": "execute_result"
    }
   ],
   "source": [
    "# superficie media\n",
    "sm_RH = superf_H.join(superf_RH).map(lambda x:(x[0],(x[1][0]/x[1][1])))\n",
    "sm_RH.collect()"
   ]
  },
  {
   "cell_type": "code",
   "execution_count": 41,
   "metadata": {
    "collapsed": true
   },
   "outputs": [],
   "source": [
    "# RDD para calculo de PRECIO medio por año\n",
    "rdd2_RH = zona_RH.map(lambda x: (x[1], x[3]))"
   ]
  },
  {
   "cell_type": "code",
   "execution_count": 42,
   "metadata": {
    "collapsed": true
   },
   "outputs": [],
   "source": [
    "# agrupación y recuento\n",
    "precio_H = rdd2_RH.map(lambda x: (x[0],x[1])).reduceByKey(lambda x,y: x + y)\n",
    "precio_RH = rdd2_RH.map(lambda x: (x[0],1)).reduceByKey(lambda x,y: x + y)"
   ]
  },
  {
   "cell_type": "code",
   "execution_count": 43,
   "metadata": {
    "collapsed": false
   },
   "outputs": [
    {
     "data": {
      "text/plain": [
       "[('2007', 147250.0),\n",
       " ('2010', 126280.0),\n",
       " ('2008', 150333.33333333334),\n",
       " ('2006', 140316.66666666666),\n",
       " ('2009', 116206.8)]"
      ]
     },
     "execution_count": 43,
     "metadata": {},
     "output_type": "execute_result"
    }
   ],
   "source": [
    "# precio medio\n",
    "pm_RH = precio_H.join(precio_RH).map(lambda x:(x[0],(x[1][0]/x[1][1])))\n",
    "pm_RH.collect()"
   ]
  },
  {
   "cell_type": "markdown",
   "metadata": {},
   "source": [
    "* Zona RM residencial media densidad"
   ]
  },
  {
   "cell_type": "code",
   "execution_count": 44,
   "metadata": {
    "collapsed": false
   },
   "outputs": [
    {
     "data": {
      "text/plain": [
       "[('RM', '2009', 957.5512209999999, 103500.0),\n",
       " ('RM', '2007', 791.53356, 136000.0),\n",
       " ('RM', '2008', 557.418, 129400.0)]"
      ]
     },
     "execution_count": 44,
     "metadata": {},
     "output_type": "execute_result"
    }
   ],
   "source": [
    "# filtro por la zona RM\n",
    "zona_RM = precio_metros_zonas.filter(lambda x: \"RM\" in x[0])\n",
    "zona_RM.take(3)"
   ]
  },
  {
   "cell_type": "code",
   "execution_count": 45,
   "metadata": {
    "collapsed": true
   },
   "outputs": [],
   "source": [
    "# RDD para media anual de SUPERFICIE de la zona RM\n",
    "rdd_RM = zona_RM.map(lambda x: (x[1], x[2]))"
   ]
  },
  {
   "cell_type": "code",
   "execution_count": 46,
   "metadata": {
    "collapsed": true
   },
   "outputs": [],
   "source": [
    "# agrupación y recuento\n",
    "superf_M = rdd_RM.map(lambda x: (x[0],x[1])).reduceByKey(lambda x,y: x + y)\n",
    "superf_RM = rdd_RM.map(lambda x: (x[0],1)).reduceByKey(lambda x,y: x + y)"
   ]
  },
  {
   "cell_type": "code",
   "execution_count": 47,
   "metadata": {
    "collapsed": false
   },
   "outputs": [
    {
     "data": {
      "text/plain": [
       "[('2007', 625.4484220842105),\n",
       " ('2010', 586.1042039137931),\n",
       " ('2008', 623.6691686341463),\n",
       " ('2009', 552.5560763333335),\n",
       " ('2006', 575.0140103627451)]"
      ]
     },
     "execution_count": 47,
     "metadata": {},
     "output_type": "execute_result"
    }
   ],
   "source": [
    "# superficie media\n",
    "sm_RM = superf_M.join(superf_RM).map(lambda x:(x[0],(x[1][0]/x[1][1])))\n",
    "sm_RM.collect()"
   ]
  },
  {
   "cell_type": "code",
   "execution_count": 48,
   "metadata": {
    "collapsed": true
   },
   "outputs": [],
   "source": [
    "# RDD para calculo de PRECIO medio por año\n",
    "rdd2_RM = zona_RM.map(lambda x: (x[1], x[3]))"
   ]
  },
  {
   "cell_type": "code",
   "execution_count": 49,
   "metadata": {
    "collapsed": true
   },
   "outputs": [],
   "source": [
    "# agrupación y recuento\n",
    "precio_M = rdd2_RM.map(lambda x: (x[0],x[1])).reduceByKey(lambda x,y: x + y)\n",
    "precio_RM = rdd2_RM.map(lambda x: (x[0],1)).reduceByKey(lambda x,y: x + y)"
   ]
  },
  {
   "cell_type": "code",
   "execution_count": 50,
   "metadata": {
    "collapsed": false
   },
   "outputs": [
    {
     "data": {
      "text/plain": [
       "[('2007', 128947.62105263158),\n",
       " ('2010', 119681.70689655172),\n",
       " ('2008', 133336.1219512195),\n",
       " ('2009', 118759.86904761905),\n",
       " ('2006', 127502.63725490196)]"
      ]
     },
     "execution_count": 50,
     "metadata": {},
     "output_type": "execute_result"
    }
   ],
   "source": [
    "# precio medio\n",
    "pm_RM = precio_M.join(precio_RM).map(lambda x:(x[0],(x[1][0]/x[1][1])))\n",
    "pm_RM.collect()"
   ]
  },
  {
   "cell_type": "markdown",
   "metadata": {},
   "source": [
    "* Zona RL residencial baja densidad"
   ]
  },
  {
   "cell_type": "code",
   "execution_count": 51,
   "metadata": {
    "collapsed": false
   },
   "outputs": [
    {
     "data": {
      "text/plain": [
       "[('RL', '2008', 871.615946, 191000.0),\n",
       " ('RL', '2008', 1272.306585, 155000.0),\n",
       " ('RL', '2010', 694.91444, 127000.0)]"
      ]
     },
     "execution_count": 51,
     "metadata": {},
     "output_type": "execute_result"
    }
   ],
   "source": [
    "# filtro por la zona RL\n",
    "zona_RL = precio_metros_zonas.filter(lambda x: \"RL\" in x[0])\n",
    "zona_RL.take(3)"
   ]
  },
  {
   "cell_type": "code",
   "execution_count": 52,
   "metadata": {
    "collapsed": true
   },
   "outputs": [],
   "source": [
    "# RDD para media anual de SUPERFICIE de la zona RM\n",
    "rdd_RL = zona_RL.map(lambda x: (x[1], x[2]))"
   ]
  },
  {
   "cell_type": "code",
   "execution_count": 53,
   "metadata": {
    "collapsed": true
   },
   "outputs": [],
   "source": [
    "# agrupación y recuento\n",
    "superf_L = rdd_RL.map(lambda x: (x[0],x[1])).reduceByKey(lambda x,y: x + y)\n",
    "superf_RL = rdd_RL.map(lambda x: (x[0],1)).reduceByKey(lambda x,y: x + y)"
   ]
  },
  {
   "cell_type": "code",
   "execution_count": 54,
   "metadata": {
    "collapsed": false
   },
   "outputs": [
    {
     "data": {
      "text/plain": [
       "[('2007', 1059.6779461064984),\n",
       " ('2010', 1011.359316660079),\n",
       " ('2008', 1047.6533375414847),\n",
       " ('2006', 1043.7936291211502),\n",
       " ('2009', 1002.1840689904027)]"
      ]
     },
     "execution_count": 54,
     "metadata": {},
     "output_type": "execute_result"
    }
   ],
   "source": [
    "# superficie media\n",
    "sm_RL = superf_L.join(superf_RL).map(lambda x:(x[0],(x[1][0]/x[1][1])))\n",
    "sm_RL.collect()"
   ]
  },
  {
   "cell_type": "code",
   "execution_count": 55,
   "metadata": {
    "collapsed": true
   },
   "outputs": [],
   "source": [
    "# RDD para calculo de PRECIO medio por año\n",
    "rdd2_RL = zona_RL.map(lambda x: (x[1], x[3]))"
   ]
  },
  {
   "cell_type": "code",
   "execution_count": 56,
   "metadata": {
    "collapsed": true
   },
   "outputs": [],
   "source": [
    "# agrupación y recuento\n",
    "precio_L = rdd2_RL.map(lambda x: (x[0],x[1])).reduceByKey(lambda x,y: x + y)\n",
    "precio_RL = rdd2_RL.map(lambda x: (x[0],1)).reduceByKey(lambda x,y: x + y)"
   ]
  },
  {
   "cell_type": "code",
   "execution_count": 57,
   "metadata": {
    "collapsed": false
   },
   "outputs": [
    {
     "data": {
      "text/plain": [
       "[('2007', 193399.98014440434),\n",
       " ('2010', 184978.418972332),\n",
       " ('2008', 189885.58515283844),\n",
       " ('2006', 194350.64065708418),\n",
       " ('2009', 190455.55086372362)]"
      ]
     },
     "execution_count": 57,
     "metadata": {},
     "output_type": "execute_result"
    }
   ],
   "source": [
    "# precio medio\n",
    "pm_RL = precio_L.join(precio_RL).map(lambda x:(x[0],(x[1][0]/x[1][1])))\n",
    "pm_RL.collect()"
   ]
  },
  {
   "cell_type": "markdown",
   "metadata": {},
   "source": [
    "Estos resultados podrían servirnos para estudiar las diferencias de superficie media y precio medio de venta entre las distintas zonas residenciales. Con respecto a la superficie media se puede apreciar que la zona residencial de baja densidad es la que mayor superficie por metro cuadrado tiene con diferencia siendo el máximo en 2007 con 1059.67 m2. El máximo de la zona de alta densidad es de 766.14 m2 en 2008 y de la zona de media densidad de 625.44 en 2007. \n",
    "\n",
    "En lo relativo al precio medio de venta ocurre los mismo siendo las viviendas de la zona de baja densidad las más caras, precio medio de venta máximo en 2006 con 194350.64 dólares. Mientras las de media densidad en 2008 con 133336.12 dólares y las de alta densidad 150333.3 dólares en 2008.\n",
    "\n",
    "Estos resultados tienen sentido pues las viviendas situadas en zonas de baja densidad suelen ser casas con mucho espacio abierto y alejadas de grandes aglomeraciones, por tanto, son viviendas con mayor superficie y mayor precio generalmente."
   ]
  },
  {
   "cell_type": "markdown",
   "metadata": {},
   "source": [
    "## ¿Podrías decirme el total de recaudación de las casas de revistimiento (Mas Vnr Type) de piedra con respecto a las de ladrillo? ¿Hay diferencia significativa?"
   ]
  },
  {
   "cell_type": "code",
   "execution_count": 58,
   "metadata": {
    "collapsed": false
   },
   "outputs": [
    {
     "data": {
      "text/plain": [
       "['', 'None', 'CBlock', 'Stone', 'BrkFace', 'BrkCmn']"
      ]
     },
     "execution_count": 58,
     "metadata": {},
     "output_type": "execute_result"
    }
   ],
   "source": [
    "# distinct para conocer los distintos valores de la variable Mas Vnr Type\n",
    "data_vivienda.map(lambda x: x[9]).distinct().collect()"
   ]
  },
  {
   "cell_type": "code",
   "execution_count": 59,
   "metadata": {
    "collapsed": false
   },
   "outputs": [
    {
     "data": {
      "text/plain": [
       "[('BrkFace', 191000.0),\n",
       " ('BrkFace', 180000.0),\n",
       " ('Stone', 227680.0),\n",
       " ('BrkFace', 129250.0),\n",
       " ('BrkFace', 142000.0)]"
      ]
     },
     "execution_count": 59,
     "metadata": {},
     "output_type": "execute_result"
    }
   ],
   "source": [
    "# RDD -Mas Vnr Type posición 9 y SalePrice posición 28-\n",
    "rdd_revest = data_vivienda.map(lambda x: (x[9], float(x[28])))\n",
    "# filtro para quedarme solo con revestimiento de piedra y ladrillo \n",
    "revestimiento = rdd_revest.filter(lambda x: not 'None' in x[0]) \\\n",
    "                    .filter(lambda x: not 'CBlock' in x[0]) \n",
    "revestimiento.take(5)"
   ]
  },
  {
   "cell_type": "markdown",
   "metadata": {},
   "source": [
    "Aquí tenemos el total de recaudación de las casas de revestimiento de piedra (Stone), de ladrillo visto (BrkFace) y de ladrillo normal (BrkCmn). Podemos ver una diferencia significativa entre los tres tipos debido principalmente a que hay mucha diferencia entre el número de casas hechas con un material u otro. Las viviendas hechas con ladrillo visto son 848, las de piedra 229 y las de ladrillo normal 25, ello explica las diferencia de recaudación entre los tipos de revestimiento."
   ]
  },
  {
   "cell_type": "code",
   "execution_count": 60,
   "metadata": {
    "collapsed": false
   },
   "outputs": [
    {
     "data": {
      "text/plain": [
       "defaultdict(int, {'': 16, 'BrkCmn': 25, 'BrkFace': 848, 'Stone': 229})"
      ]
     },
     "execution_count": 60,
     "metadata": {},
     "output_type": "execute_result"
    }
   ],
   "source": [
    "# recuento de cada tipo de revestimiento para poder comparar\n",
    "revestimiento.countByKey()"
   ]
  },
  {
   "cell_type": "code",
   "execution_count": 61,
   "metadata": {
    "collapsed": false
   },
   "outputs": [
    {
     "data": {
      "text/plain": [
       "[('', 3831658.0),\n",
       " ('Stone', 60175477.0),\n",
       " ('BrkFace', 178912561.0),\n",
       " ('BrkCmn', 3504975.0)]"
      ]
     },
     "execution_count": 61,
     "metadata": {},
     "output_type": "execute_result"
    }
   ],
   "source": [
    "# sumatorio agrupando por tipo de revestimiento\n",
    "recaudacion = revestimiento.map(lambda x: (x[0], x[1])).reduceByKey(lambda x,y: x+y)\n",
    "recaudacion.collect()"
   ]
  },
  {
   "cell_type": "markdown",
   "metadata": {},
   "source": [
    "## ¿Cuánto son más caras las viviendas con 2 cocinas, con 2 o más plazas de garaje que las que tienen 1 cocina y 1 plaza de garaje? Comparar medias y cuartiles de ambos casos"
   ]
  },
  {
   "cell_type": "code",
   "execution_count": 62,
   "metadata": {
    "collapsed": true
   },
   "outputs": [],
   "source": [
    "# para calcular las medias\n",
    "import statistics as stats "
   ]
  },
  {
   "cell_type": "code",
   "execution_count": 63,
   "metadata": {
    "collapsed": false
   },
   "outputs": [],
   "source": [
    "# Kitchen AbvGr -  Número de cocinas en planta 18\n",
    "# Garage Cars -  Número de plazas de garaje 21\n",
    "# SalePrice 28 - Precio de venta 28\n",
    "cocina_garaje = data_vivienda.map(lambda x: (x[18], x[21], x[28]))"
   ]
  },
  {
   "cell_type": "markdown",
   "metadata": {},
   "source": [
    "Primero vamos a trabajar con las viviendas con 2 cocinas y con 2 o más plazas de garaje."
   ]
  },
  {
   "cell_type": "code",
   "execution_count": 64,
   "metadata": {
    "collapsed": false
   },
   "outputs": [
    {
     "data": {
      "text/plain": [
       "['1', '3', '2']"
      ]
     },
     "execution_count": 64,
     "metadata": {},
     "output_type": "execute_result"
    }
   ],
   "source": [
    "# valores distintos de la variable  Kitchen AbvGr\n",
    "data_vivienda.map(lambda x: x[18]).distinct().collect()"
   ]
  },
  {
   "cell_type": "code",
   "execution_count": 65,
   "metadata": {
    "collapsed": false
   },
   "outputs": [
    {
     "data": {
      "text/plain": [
       "['', '4', '1', '0', '5', '3', '2']"
      ]
     },
     "execution_count": 65,
     "metadata": {},
     "output_type": "execute_result"
    }
   ],
   "source": [
    "# valores distintos de la variable Garage Cars\n",
    "data_vivienda.map(lambda x: x[21]).distinct().collect()"
   ]
  },
  {
   "cell_type": "code",
   "execution_count": 66,
   "metadata": {
    "collapsed": true
   },
   "outputs": [],
   "source": [
    "# filtramos las viviendas con 2 cocinas y 2 o más plazas de garaje\n",
    "casas_2 = cocina_garaje.filter(lambda x: '2' in x[0]) \\\n",
    "                     .filter(lambda x: not '0' in x[1]) \\\n",
    "                     .filter(lambda x: not '1' in x[1])"
   ]
  },
  {
   "cell_type": "code",
   "execution_count": 67,
   "metadata": {
    "collapsed": false
   },
   "outputs": [
    {
     "data": {
      "text/plain": [
       "[('2', '2', '103500'), ('2', '2', '142953')]"
      ]
     },
     "execution_count": 67,
     "metadata": {},
     "output_type": "execute_result"
    }
   ],
   "source": [
    "casas_2.take(2)"
   ]
  },
  {
   "cell_type": "code",
   "execution_count": 68,
   "metadata": {
    "collapsed": false
   },
   "outputs": [
    {
     "data": {
      "text/plain": [
       "145124.27906976748"
      ]
     },
     "execution_count": 68,
     "metadata": {},
     "output_type": "execute_result"
    }
   ],
   "source": [
    "# precio medio\n",
    "precio_casas2 = casas_2.map(lambda x: float(x[2])).mean()\n",
    "precio_casas2"
   ]
  },
  {
   "cell_type": "code",
   "execution_count": 69,
   "metadata": {
    "collapsed": false
   },
   "outputs": [],
   "source": [
    "# collect para que me devuelva una lista de los precios de las casas con 2 cocinas y 2 o más plazas de garaje y lo ordeno \n",
    "# para poder sacar los cuartiles\n",
    "cuartiles_casas2 = casas_2.map(lambda x: x[2])\n",
    "list_precio_casas2 = cuartiles_casas2.collect()\n",
    "list_precio_casas2.sort()"
   ]
  },
  {
   "cell_type": "code",
   "execution_count": 70,
   "metadata": {
    "collapsed": false
   },
   "outputs": [
    {
     "data": {
      "text/plain": [
       "'128600'"
      ]
     },
     "execution_count": 70,
     "metadata": {},
     "output_type": "execute_result"
    }
   ],
   "source": [
    "# 25% - primer cuartil\n",
    "# de la lista de precios el 25%, pasar el precio a entero\n",
    "list_precio_casas2[int(len(list_precio_casas2)*.25)]"
   ]
  },
  {
   "cell_type": "code",
   "execution_count": 71,
   "metadata": {
    "collapsed": false
   },
   "outputs": [
    {
     "data": {
      "text/plain": [
       "'145000'"
      ]
     },
     "execution_count": 71,
     "metadata": {},
     "output_type": "execute_result"
    }
   ],
   "source": [
    "# 50% - segundo cuartil\n",
    "# de la lista de precios el 50%\n",
    "list_precio_casas2[int(len(list_precio_casas2)*.50)]"
   ]
  },
  {
   "cell_type": "code",
   "execution_count": 72,
   "metadata": {
    "collapsed": false
   },
   "outputs": [
    {
     "data": {
      "text/plain": [
       "'190000'"
      ]
     },
     "execution_count": 72,
     "metadata": {},
     "output_type": "execute_result"
    }
   ],
   "source": [
    "# 75% - tercer cuartil\n",
    "# de la lista de precios el  75%\n",
    "list_precio_casas2[int(len(list_precio_casas2)*.75)]"
   ]
  },
  {
   "cell_type": "markdown",
   "metadata": {},
   "source": [
    "Ahora trabajamos con las viviendas de 1 cocina y 1 plaza de garaje."
   ]
  },
  {
   "cell_type": "code",
   "execution_count": 73,
   "metadata": {
    "collapsed": true
   },
   "outputs": [],
   "source": [
    "# 1 cocina y 1 plaza de garaje\n",
    "casas_1 = cocina_garaje.filter(lambda x: '1' in x[0]) \\\n",
    "                     .filter(lambda x: '1' in x[1])"
   ]
  },
  {
   "cell_type": "code",
   "execution_count": 74,
   "metadata": {
    "collapsed": false
   },
   "outputs": [
    {
     "data": {
      "text/plain": [
       "128121.99337748346"
      ]
     },
     "execution_count": 74,
     "metadata": {},
     "output_type": "execute_result"
    }
   ],
   "source": [
    "# precio medio\n",
    "precio_casas1 = casas_1.map(lambda x: float(x[2])).mean()\n",
    "precio_casas1"
   ]
  },
  {
   "cell_type": "code",
   "execution_count": 75,
   "metadata": {
    "collapsed": true
   },
   "outputs": [],
   "source": [
    "cuartiles_casas1 = casas_1.map(lambda x: x[2])\n",
    "list_precio_casas1 = cuartiles_casas1.collect()\n",
    "list_precio_casas1.sort()"
   ]
  },
  {
   "cell_type": "code",
   "execution_count": 76,
   "metadata": {
    "collapsed": false
   },
   "outputs": [
    {
     "data": {
      "text/plain": [
       "'120000'"
      ]
     },
     "execution_count": 76,
     "metadata": {},
     "output_type": "execute_result"
    }
   ],
   "source": [
    "# 25% - primer cuartil\n",
    "list_precio_casas1[int(len(list_precio_casas1)*.25)]"
   ]
  },
  {
   "cell_type": "code",
   "execution_count": 77,
   "metadata": {
    "collapsed": false
   },
   "outputs": [
    {
     "data": {
      "text/plain": [
       "'135000'"
      ]
     },
     "execution_count": 77,
     "metadata": {},
     "output_type": "execute_result"
    }
   ],
   "source": [
    "# 50% - segundo cuartil\n",
    "list_precio_casas1[int(len(list_precio_casas1)*.50)]"
   ]
  },
  {
   "cell_type": "code",
   "execution_count": 78,
   "metadata": {
    "collapsed": false
   },
   "outputs": [
    {
     "data": {
      "text/plain": [
       "'157000'"
      ]
     },
     "execution_count": 78,
     "metadata": {},
     "output_type": "execute_result"
    }
   ],
   "source": [
    "# 75% - tercer cuartil\n",
    "list_precio_casas1[int(len(list_precio_casas1)*.75)]"
   ]
  },
  {
   "cell_type": "code",
   "execution_count": 79,
   "metadata": {
    "collapsed": false
   },
   "outputs": [
    {
     "data": {
      "text/plain": [
       "17002.285692284015"
      ]
     },
     "execution_count": 79,
     "metadata": {},
     "output_type": "execute_result"
    }
   ],
   "source": [
    "# diferencia del precio medio entre las con 2 cocinas, con 2 o más plazas de garaje y las casas con 1 cocina y 1 plaza de garaje\n",
    "precio_casas2 - precio_casas1"
   ]
  },
  {
   "cell_type": "markdown",
   "metadata": {},
   "source": [
    "El precio medio de venta es más elevado en el caso de las viviendas con 2 cocinas, con 2 o más plazas de garaje. En concreto 17002.28 dólares más caras que las casas con 1 cocina y 1 plaza de garaje. Si comparamos por cuartiles ocurre lo mismo, las primeras son más caras en todos los casos."
   ]
  },
  {
   "cell_type": "markdown",
   "metadata": {},
   "source": [
    "## (COMPLEMENTARIA) Estudiar la relación entre el precio y el número de Garajes. (Recomiendo segmentar precio por cuartiles y estudiar el número de casos coincidentes)"
   ]
  },
  {
   "cell_type": "code",
   "execution_count": 80,
   "metadata": {
    "collapsed": true
   },
   "outputs": [],
   "source": [
    "# importamos libreria pyspark.sql y el contexto sql\n",
    "from pyspark.sql import SQLContext\n",
    "sqlContext = SQLContext(sc)"
   ]
  },
  {
   "cell_type": "code",
   "execution_count": 81,
   "metadata": {
    "collapsed": false
   },
   "outputs": [
    {
     "name": "stdout",
     "output_type": "stream",
     "text": [
      "+-----+---------+------------+--------+------------+----------+------------+----------+--------------+------------+----------+---------+-------------+----------+-----------+---------+---------+-------------+-------------+------------+-------------+-----------+-----------+-----------+---------+-------+-------+-------+---------+\n",
      "|Order|MS Zoning|Lot Frontage|Lot Area|Land Contour|Land Slope|Overall Qual|Year Built|Year Remod/Add|Mas Vnr Type|Exter Qual|Bsmt Cond|Total Bsmt SF|Heating QC|Central Air|Full Bath|Half Bath|Bedroom AbvGr|Kitchen AbvGr|Kitchen Qual|TotRms AbvGrd|Garage Cars|Garage Area|Garage Cond|Pool Area|Pool QC|Mo Sold|Yr Sold|SalePrice|\n",
      "+-----+---------+------------+--------+------------+----------+------------+----------+--------------+------------+----------+---------+-------------+----------+-----------+---------+---------+-------------+-------------+------------+-------------+-----------+-----------+-----------+---------+-------+-------+-------+---------+\n",
      "|    1|       RL|         141|   31770|         Lvl|       Gtl|           6|      1960|          1960|       Stone|        TA|       Gd|         1080|        Fa|          Y|        1|        0|            3|            1|          TA|            7|          2|        528|         TA|        0|     Sp|      5|   2010|   215000|\n",
      "|    2|       RH|          80|   11622|         Lvl|       Gtl|           5|      1961|          1961|        None|        TA|       TA|          882|        TA|          Y|        1|        0|            2|            1|          TA|            5|          1|        730|         TA|        0|     Sp|      6|   2010|   105000|\n",
      "+-----+---------+------------+--------+------------+----------+------------+----------+--------------+------------+----------+---------+-------------+----------+-----------+---------+---------+-------------+-------------+------------+-------------+-----------+-----------+-----------+---------+-------+-------+-------+---------+\n",
      "only showing top 2 rows\n",
      "\n"
     ]
    }
   ],
   "source": [
    "# cargamos los datos como DataFrame\n",
    "df = spark.read.csv(\"BDpracticafinalCSV.csv\", header=True, sep=\";\")\n",
    "df.show(2)"
   ]
  },
  {
   "cell_type": "code",
   "execution_count": 82,
   "metadata": {
    "collapsed": false
   },
   "outputs": [
    {
     "name": "stdout",
     "output_type": "stream",
     "text": [
      "+-----------+---------+\n",
      "|Garage Cars|SalePrice|\n",
      "+-----------+---------+\n",
      "|          2|   215000|\n",
      "|          1|   105000|\n",
      "|          1|   172000|\n",
      "|          2|   244000|\n",
      "|          2|   189900|\n",
      "|          2|   195500|\n",
      "|          2|   213500|\n",
      "|          2|   191500|\n",
      "|          2|   236500|\n",
      "|          2|   189000|\n",
      "|          2|   175900|\n",
      "|          2|   185000|\n",
      "|          2|   180400|\n",
      "|          2|   171500|\n",
      "|          2|   212000|\n",
      "|          3|   538000|\n",
      "|          2|   164000|\n",
      "|          3|   394432|\n",
      "|          2|   141000|\n",
      "|          2|   210000|\n",
      "+-----------+---------+\n",
      "only showing top 20 rows\n",
      "\n"
     ]
    }
   ],
   "source": [
    "# creamos nuevo DataFrame con las dos variables objeto de estudio\n",
    "df_gp = df.select([\"Garage Cars\", \"SalePrice\"])\n",
    "df_gp.show()"
   ]
  },
  {
   "cell_type": "code",
   "execution_count": 83,
   "metadata": {
    "collapsed": true
   },
   "outputs": [],
   "source": [
    "# ahora pasamos el DF de Spark a DF de Pandas\n",
    "import pandas as pd\n",
    "df_gp = df_gp.toPandas()"
   ]
  },
  {
   "cell_type": "code",
   "execution_count": 85,
   "metadata": {
    "collapsed": false
   },
   "outputs": [
    {
     "data": {
      "image/png": "[encoded data removed]",
      "text/plain": [
       "<matplotlib.figure.Figure at 0x7efd7105f048>"
      ]
     },
     "metadata": {},
     "output_type": "display_data"
    }
   ],
   "source": [
    "# representamos la relación entre el número de plazas de garaje y el precio mediante un gráfico de dispersión\n",
    "import matplotlib.pyplot as plt\n",
    "%matplotlib inline\n",
    "plt.scatter(df_gp['Garage Cars'], df_gp.SalePrice, c = 'aquamarine')\n",
    "plt.xlabel('Garage Cars')\n",
    "plt.ylabel('SalePrice');"
   ]
  },
  {
   "cell_type": "markdown",
   "metadata": {},
   "source": [
    "Parece que hay muchos casos en los que el precio coincide con independencia de que el número de plazas aumente (intervalo entre 120-450 mil dólares). Pero también se puede ver que en los casos de viviendas con 2 o 3 plazas de garaje si que aumenta el precio en algunos casos, especialmente en viviendas con 3 garajes. Solo hay una vivienda con 5 plazas de garaje, a pesar de ser la que más plazas tiene su precio es bastante inferior a muchas otras viviendas con menos plazas, está por debajo de los 200 mil dólares habiendo otras con menos plazas mucho más caras."
   ]
  },
  {
   "cell_type": "markdown",
   "metadata": {},
   "source": [
    "## (COMPLEMENTARIA) Las 10 viviendas con mejores servicios y mejor precio."
   ]
  },
  {
   "cell_type": "markdown",
   "metadata": {},
   "source": [
    "### Pista:\n",
    "#### Calcula las variables: \n",
    "- Número de servicios excelentes\n",
    "- Número de servicios buenos\n",
    "...\n",
    "\n",
    "#### Tendréis que tener en cuenta también variables como número de baños Full Bath, cocinas Kitchen AbvGr o dormitorios Bedroom AbvGr. Generando por ejemplo (número de estas variables por encima de media)\n",
    "\n",
    "#### Finalmente precio de venta"
   ]
  },
  {
   "cell_type": "code",
   "execution_count": 87,
   "metadata": {
    "collapsed": true
   },
   "outputs": [],
   "source": [
    "# Finalización contexto spark\n",
    "sc.stop()"
   ]
  }
 ],
 "metadata": {
  "kernelspec": {
   "display_name": "Python 3",
   "language": "python",
   "name": "python3"
  },
  "language_info": {
   "codemirror_mode": {
    "name": "ipython",
    "version": 3
   },
   "file_extension": ".py",
   "mimetype": "text/x-python",
   "name": "python",
   "nbconvert_exporter": "python",
   "pygments_lexer": "ipython3",
   "version": "3.5.2"
  },
  "toc": {
   "base_numbering": 1,
   "nav_menu": {},
   "number_sections": true,
   "sideBar": true,
   "skip_h1_title": false,
   "title_cell": "Table of Contents",
   "title_sidebar": "Contents",
   "toc_cell": false,
   "toc_position": {},
   "toc_section_display": true,
   "toc_window_display": true
  }
 },
 "nbformat": 4,
 "nbformat_minor": 2
}
