{
  "nbformat": 4,
  "nbformat_minor": 0,
  "metadata": {
    "kernelspec": {
      "display_name": "Python 3",
      "language": "python",
      "name": "python3"
    },
    "language_info": {
      "codemirror_mode": {
        "name": "ipython",
        "version": 3
      },
      "file_extension": ".py",
      "mimetype": "text/x-python",
      "name": "python",
      "nbconvert_exporter": "python",
      "pygments_lexer": "ipython3",
      "version": "3.7.4"
    },
    "toc": {
      "base_numbering": 1,
      "nav_menu": {},
      "number_sections": true,
      "sideBar": true,
      "skip_h1_title": false,
      "title_cell": "Table of Contents",
      "title_sidebar": "Contents",
      "toc_cell": false,
      "toc_position": {},
      "toc_section_display": true,
      "toc_window_display": true
    },
    "colab": {
      "name": "Ignacio Ruiz de Zuazu Echevarria examen final.ipynb",
      "provenance": [],
      "collapsed_sections": [],
      "toc_visible": true
    }
  },
  "cells": [
    {
      "cell_type": "markdown",
      "metadata": {
        "id": "QyERNJSTBIC2"
      },
      "source": [
        "# CUNEF Colegio Universitario de Estudios Financieros\r\n",
        "\r\n",
        "### Máster en Data Science para Finanzas\r\n",
        "\r\n",
        "#### *Extracción, Transformación y Carga - ETL (2020/2021)*\r\n",
        "\r\n",
        "#### Examen Final \r\n",
        "\r\n",
        "#### 1 de febrero de 2021\r\n",
        "\r\n",
        "Ignacio Ruiz de Zuazu Echevarría"
      ]
    },
    {
      "cell_type": "code",
      "metadata": {
        "id": "aNNcbvF_57ow"
      },
      "source": [
        "!apt-get install openjdk-8-jdk-headless -qq > /dev/null\r\n",
        "!wget -q https://www-us.apache.org/dist/spark/spark-2.4.7/spark-2.4.7-bin-hadoop2.7.tgz\r\n",
        "!tar xf spark-2.4.7-bin-hadoop2.7.tgz\r\n",
        "!pip install -q findspark\r\n",
        "\r\n",
        "import os\r\n",
        "os.environ[\"JAVA_HOME\"] = \"/usr/lib/jvm/java-8-openjdk-amd64\"\r\n",
        "os.environ[\"SPARK_HOME\"] = \"/content/spark-2.4.7-bin-hadoop2.7\"\r\n",
        "\r\n",
        "import re\r\n",
        "import pandas as pd\r\n",
        "import matplotlib.pyplot as plt\r\n",
        "\r\n",
        "import findspark\r\n",
        "findspark.init()\r\n",
        "from pyspark.sql import SparkSession\r\n",
        "spark = SparkSession.builder.master(\"local[*]\").getOrCreate()"
      ],
      "execution_count": 1,
      "outputs": []
    },
    {
      "cell_type": "markdown",
      "metadata": {
        "id": "9NaNASMtMYoz"
      },
      "source": [
        "# TAREA FINAL: Datos de vivienda\n",
        "\n",
        "<p> El negocio inmobiliario es uno de los motores de la economía de España, el carácter turístico de nuesta península hace que sean muchos los inversores extranjeros que se decidan por buscar una inversión de bajo riesgos en nuestras ciudades costeras o grandes urbes. \n",
        "Muchas de estas inversiones se hacen sobre grandes bolsas de inmuebles que deben ser analizados previamente para comprobar la rentabilidad del porfolio </p>\n",
        "\n",
        "<!-- <p> En este caso vamos a trabajar con una tabla que contienen información de distintos inmuebles repartidos por una zona específica, sus carácterísticas y su precio </p>  -->"
      ]
    },
    {
      "cell_type": "markdown",
      "metadata": {
        "id": "qcmp9US7MYo9"
      },
      "source": [
        "Todas las cuestiones se deben realizar sobre el conjunto de casos que representen viviendas ubicadas en zonas residenciales **(alta, media y baja densidad)**"
      ]
    },
    {
      "cell_type": "markdown",
      "metadata": {
        "id": "yMqAFpyBMYo-"
      },
      "source": [
        "**MUY IMPORTANTE:** En las otras prácticas he detectado colaboraciones involucrando varias personas y he sido flexible aunque a algunos os lo he mencionado en las correcciones, porque al final el trabajo de analista de datos es un trabajo colaborativo. Sin embargo, este trabajo es individual, así que cuidado con las colaboraciones."
      ]
    },
    {
      "cell_type": "markdown",
      "metadata": {
        "id": "tUYVPU5bMYo_"
      },
      "source": [
        "Las variables de las que se compone el dataset son:"
      ]
    },
    {
      "cell_type": "markdown",
      "metadata": {
        "id": "uglBEmVNMYo_"
      },
      "source": [
        "|NOMBRE VARIABLE|DESCRIPTOR|VALORES|\n",
        "| --- | --- | --- |\n",
        "|Order|Variable de identificación|1 a 2930|\n",
        "|MS Zoning|Zona de ubicación de la vivienda|\"A rural, C comercial, FV residencial flotante, I industrial, RH residencial alta densidad, RL residencial baja densidad, RM residencial media densidad\"|\n",
        "|Lot Frontage|Longitud de la fachada en pies||\n",
        "|Lot Area|Superficie de la vivienda en pies cuadrados||\n",
        "|Land Contour|Contorno del terreno circundante|\"Lvl llano, Bnk Tipo bancal, HLS Ladera, Low Depresión\"|\n",
        "|Land Slope|Tipo de pendiente de la vivienda|\" Gtl pendiente suave, Mod pendiente moderada, Sev fuerte pendiente\"|\n",
        "|Overall Qual|Grado de calidad de materiales y acabado de la vivienda|De 1 (Muy pobre) a 10 (Excelente)|\n",
        "|Year Built|Año de construccion de la vivienda||\n",
        "|Year Remod/Add|Año de última reforma de la vivienda||\n",
        "|Mas Vnr Type|Tipo de revestimiento exterior|\" BrkCmn Ladrillo normal, BrkFace Ladrillo visto, CBlock Bloque de cemento, None Ninguna, Stone Piedra \"|\n",
        "|Exter Qual|Calidad de revestimiento exterior|\"Ex Excelente,Gd Bueno,TA Media,Fa Justo\"|\n",
        "|Bsmt Cond|Estado general del sótano|\"Ex Excelente, Gd Bueno, TA Media, Fa Justo, Po Pobre,Ss sin sótano\"|\n",
        "|Total Bsmt SF|Superficie del sótano en pies cuadrados|\n",
        "|Heating QC|Calidad de la calefacción|\"Ex Excelente,Gd Bueno,TA Media,Fa Justo,Po Pobre\"|\n",
        "|Central Air|Aire acondicionado centralizado|\"N No Y Sí\"|\n",
        "|Full Bath|Número de baños completo en planta||\n",
        "|Half Bath|Número de aseos en planta||\n",
        "|Bedroom AbvGr|Número de dormitorios en planta||\n",
        "|Kitchen AbvGr|Número de cocinas en planta||\n",
        "|Kitchen Qual|Calidad de cocinas|\"Ex Excelente,Gd Bueno,TA Media,Fa Justo,Po Pobre\"|\n",
        "|TotRms AbvGrd|Número total de habitaciones excluidos los cuartos de baño||\n",
        "|Garage Cars|Número de plazas de garaje||\n",
        "|Garage Area|Superficie del garaje|||\n",
        "|Garage Cond|Estado del garaje|\"Ex Excelente,Gd Bueno,TA Media,Fa Justo,Po Pobre,Sg sin garaje\"|\n",
        "|Pool Area|Superficie de la piscina en pies cuadrados|\n",
        "|Pool QC|Calidad de la piscina|\"Ex Excelente,Gd Bueno,TA Media,Fa Justo,Sp no hay piscina\"|\n",
        "|Mo Sold|mes de venta||\n",
        "|Yr Sold|año de venta||\n",
        "|SalePrice|precio de venta en dólares||"
      ]
    },
    {
      "cell_type": "markdown",
      "metadata": {
        "id": "rnCOV_KRMYpA"
      },
      "source": [
        "Recomiendo al leer los datos, eliminar espacios de los nombres de las columnas, realiza un pequeño análisis inicial de los mismos. No olvides fijarte en los tipos de variables, que variables pueden tener tipos confundidos y corrige los. Sobre todo, trabaja con las fechas."
      ]
    },
    {
      "cell_type": "markdown",
      "metadata": {
        "id": "chxYdpuhMYpB"
      },
      "source": [
        "**NOTA:** Las tareas complementarias sirven para subir nota. El resto de preguntas valen igual y suman 10 puntos."
      ]
    },
    {
      "cell_type": "markdown",
      "metadata": {
        "id": "CsPngpXbMYpC"
      },
      "source": [
        "## Pregunta 1: Inicializar y cargar el contexto spark"
      ]
    },
    {
      "cell_type": "markdown",
      "metadata": {
        "id": "9B_xVXBw6kcV"
      },
      "source": [
        "En primer lugar se importa el contexto y tras ello se inicializa:"
      ]
    },
    {
      "cell_type": "code",
      "metadata": {
        "id": "Anv64vSe5uUk"
      },
      "source": [
        "from pyspark import SparkContext\r\n",
        "sc = SparkContext.getOrCreate()"
      ],
      "execution_count": 2,
      "outputs": []
    },
    {
      "cell_type": "markdown",
      "metadata": {
        "id": "GGSgyUrN5wyC"
      },
      "source": [
        "Carga de los ficheros de los datos"
      ]
    },
    {
      "cell_type": "code",
      "metadata": {
        "id": "QR1gk0_UM7N7"
      },
      "source": [
        "data1 = \"BDpracticafinalCSV.csv\""
      ],
      "execution_count": 3,
      "outputs": []
    },
    {
      "cell_type": "markdown",
      "metadata": {
        "id": "fvgTRCXZabz_"
      },
      "source": [
        "Carga del fichero en excel"
      ]
    },
    {
      "cell_type": "code",
      "metadata": {
        "id": "GgRBVGgsgkF_"
      },
      "source": [
        "import numpy as np\r\n",
        "import pandas as pd"
      ],
      "execution_count": 4,
      "outputs": []
    },
    {
      "cell_type": "code",
      "metadata": {
        "colab": {
          "resources": {
            "http://localhost:8080/nbextensions/google.colab/files.js": {
              "data": "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",
              "ok": true,
              "headers": [
                [
                  "content-type",
                  "application/javascript"
                ]
              ],
              "status": 200,
              "status_text": ""
            }
          },
          "base_uri": "https://localhost:8080/",
          "height": 72
        },
        "id": "zKvMu18VgkOg",
        "outputId": "a6918f4d-91cc-469e-98d3-e62799d08925"
      },
      "source": [
        "from google.colab import files\r\n",
        "uploaded = files.upload()"
      ],
      "execution_count": 5,
      "outputs": [
        {
          "output_type": "display_data",
          "data": {
            "text/html": [
              "\n",
              "     <input type=\"file\" id=\"files-8df77053-bec1-4c47-bb7d-7ec425036956\" name=\"files[]\" multiple disabled\n",
              "        style=\"border:none\" />\n",
              "     <output id=\"result-8df77053-bec1-4c47-bb7d-7ec425036956\">\n",
              "      Upload widget is only available when the cell has been executed in the\n",
              "      current browser session. Please rerun this cell to enable.\n",
              "      </output>\n",
              "      <script src=\"/nbextensions/google.colab/files.js\"></script> "
            ],
            "text/plain": [
              "<IPython.core.display.HTML object>"
            ]
          },
          "metadata": {
            "tags": []
          }
        },
        {
          "output_type": "stream",
          "text": [
            "Saving BDpracticafinal2021.xlsx to BDpracticafinal2021 (1).xlsx\n"
          ],
          "name": "stdout"
        }
      ]
    },
    {
      "cell_type": "code",
      "metadata": {
        "colab": {
          "base_uri": "https://localhost:8080/",
          "height": 473
        },
        "id": "Elf3rvZAhEcT",
        "outputId": "bee901b8-7543-49db-c5eb-ad5d993d3bc1"
      },
      "source": [
        "import io\r\n",
        "df = pd.read_excel(io.BytesIO(uploaded['BDpracticafinal2021.xlsx']))\r\n",
        "df "
      ],
      "execution_count": 6,
      "outputs": [
        {
          "output_type": "execute_result",
          "data": {
            "text/html": [
              "<div>\n",
              "<style scoped>\n",
              "    .dataframe tbody tr th:only-of-type {\n",
              "        vertical-align: middle;\n",
              "    }\n",
              "\n",
              "    .dataframe tbody tr th {\n",
              "        vertical-align: top;\n",
              "    }\n",
              "\n",
              "    .dataframe thead th {\n",
              "        text-align: right;\n",
              "    }\n",
              "</style>\n",
              "<table border=\"1\" class=\"dataframe\">\n",
              "  <thead>\n",
              "    <tr style=\"text-align: right;\">\n",
              "      <th></th>\n",
              "      <th>Order</th>\n",
              "      <th>MS Zoning</th>\n",
              "      <th>Lot Frontage</th>\n",
              "      <th>Lot Area</th>\n",
              "      <th>Land Contour</th>\n",
              "      <th>Land Slope</th>\n",
              "      <th>Overall Qual</th>\n",
              "      <th>Year Built</th>\n",
              "      <th>Year Remod/Add</th>\n",
              "      <th>Mas Vnr Type</th>\n",
              "      <th>Exter Qual</th>\n",
              "      <th>Bsmt Cond</th>\n",
              "      <th>Total Bsmt SF</th>\n",
              "      <th>Heating QC</th>\n",
              "      <th>Central Air</th>\n",
              "      <th>Full Bath</th>\n",
              "      <th>Half Bath</th>\n",
              "      <th>Bedroom AbvGr</th>\n",
              "      <th>Kitchen AbvGr</th>\n",
              "      <th>Kitchen Qual</th>\n",
              "      <th>TotRms AbvGrd</th>\n",
              "      <th>Garage Cars</th>\n",
              "      <th>Garage Area</th>\n",
              "      <th>Garage Cond</th>\n",
              "      <th>Pool Area</th>\n",
              "      <th>Pool QC</th>\n",
              "      <th>Mo Sold</th>\n",
              "      <th>Yr Sold</th>\n",
              "      <th>SalePrice</th>\n",
              "    </tr>\n",
              "  </thead>\n",
              "  <tbody>\n",
              "    <tr>\n",
              "      <th>0</th>\n",
              "      <td>1</td>\n",
              "      <td>RL</td>\n",
              "      <td>141.0</td>\n",
              "      <td>31770</td>\n",
              "      <td>Lvl</td>\n",
              "      <td>Gtl</td>\n",
              "      <td>6</td>\n",
              "      <td>1960</td>\n",
              "      <td>1960</td>\n",
              "      <td>Stone</td>\n",
              "      <td>TA</td>\n",
              "      <td>Gd</td>\n",
              "      <td>1080</td>\n",
              "      <td>Fa</td>\n",
              "      <td>Y</td>\n",
              "      <td>1</td>\n",
              "      <td>0</td>\n",
              "      <td>3</td>\n",
              "      <td>1</td>\n",
              "      <td>TA</td>\n",
              "      <td>7</td>\n",
              "      <td>2.0</td>\n",
              "      <td>528.0</td>\n",
              "      <td>TA</td>\n",
              "      <td>0</td>\n",
              "      <td>Sp</td>\n",
              "      <td>5</td>\n",
              "      <td>2010</td>\n",
              "      <td>215000</td>\n",
              "    </tr>\n",
              "    <tr>\n",
              "      <th>1</th>\n",
              "      <td>2</td>\n",
              "      <td>RH</td>\n",
              "      <td>80.0</td>\n",
              "      <td>11622</td>\n",
              "      <td>Lvl</td>\n",
              "      <td>Gtl</td>\n",
              "      <td>5</td>\n",
              "      <td>1961</td>\n",
              "      <td>1961</td>\n",
              "      <td>None</td>\n",
              "      <td>TA</td>\n",
              "      <td>TA</td>\n",
              "      <td>882</td>\n",
              "      <td>TA</td>\n",
              "      <td>Y</td>\n",
              "      <td>1</td>\n",
              "      <td>0</td>\n",
              "      <td>2</td>\n",
              "      <td>1</td>\n",
              "      <td>TA</td>\n",
              "      <td>5</td>\n",
              "      <td>1.0</td>\n",
              "      <td>730.0</td>\n",
              "      <td>TA</td>\n",
              "      <td>0</td>\n",
              "      <td>Sp</td>\n",
              "      <td>6</td>\n",
              "      <td>2010</td>\n",
              "      <td>105000</td>\n",
              "    </tr>\n",
              "    <tr>\n",
              "      <th>2</th>\n",
              "      <td>3</td>\n",
              "      <td>RL</td>\n",
              "      <td>81.0</td>\n",
              "      <td>14267</td>\n",
              "      <td>Lvl</td>\n",
              "      <td>Gtl</td>\n",
              "      <td>6</td>\n",
              "      <td>1958</td>\n",
              "      <td>1958</td>\n",
              "      <td>BrkFace</td>\n",
              "      <td>TA</td>\n",
              "      <td>TA</td>\n",
              "      <td>1329</td>\n",
              "      <td>TA</td>\n",
              "      <td>Y</td>\n",
              "      <td>1</td>\n",
              "      <td>1</td>\n",
              "      <td>3</td>\n",
              "      <td>1</td>\n",
              "      <td>Gd</td>\n",
              "      <td>6</td>\n",
              "      <td>1.0</td>\n",
              "      <td>312.0</td>\n",
              "      <td>TA</td>\n",
              "      <td>0</td>\n",
              "      <td>Sp</td>\n",
              "      <td>6</td>\n",
              "      <td>2010</td>\n",
              "      <td>172000</td>\n",
              "    </tr>\n",
              "    <tr>\n",
              "      <th>3</th>\n",
              "      <td>4</td>\n",
              "      <td>RL</td>\n",
              "      <td>93.0</td>\n",
              "      <td>11160</td>\n",
              "      <td>Lvl</td>\n",
              "      <td>Gtl</td>\n",
              "      <td>7</td>\n",
              "      <td>1968</td>\n",
              "      <td>1968</td>\n",
              "      <td>None</td>\n",
              "      <td>Gd</td>\n",
              "      <td>TA</td>\n",
              "      <td>2110</td>\n",
              "      <td>Ex</td>\n",
              "      <td>Y</td>\n",
              "      <td>2</td>\n",
              "      <td>1</td>\n",
              "      <td>3</td>\n",
              "      <td>1</td>\n",
              "      <td>Ex</td>\n",
              "      <td>8</td>\n",
              "      <td>2.0</td>\n",
              "      <td>522.0</td>\n",
              "      <td>TA</td>\n",
              "      <td>0</td>\n",
              "      <td>Sp</td>\n",
              "      <td>4</td>\n",
              "      <td>2010</td>\n",
              "      <td>244000</td>\n",
              "    </tr>\n",
              "    <tr>\n",
              "      <th>4</th>\n",
              "      <td>5</td>\n",
              "      <td>RL</td>\n",
              "      <td>74.0</td>\n",
              "      <td>13830</td>\n",
              "      <td>Lvl</td>\n",
              "      <td>Gtl</td>\n",
              "      <td>5</td>\n",
              "      <td>1997</td>\n",
              "      <td>1998</td>\n",
              "      <td>None</td>\n",
              "      <td>TA</td>\n",
              "      <td>TA</td>\n",
              "      <td>928</td>\n",
              "      <td>Gd</td>\n",
              "      <td>Y</td>\n",
              "      <td>2</td>\n",
              "      <td>1</td>\n",
              "      <td>3</td>\n",
              "      <td>1</td>\n",
              "      <td>TA</td>\n",
              "      <td>6</td>\n",
              "      <td>2.0</td>\n",
              "      <td>482.0</td>\n",
              "      <td>TA</td>\n",
              "      <td>0</td>\n",
              "      <td>Sp</td>\n",
              "      <td>3</td>\n",
              "      <td>2010</td>\n",
              "      <td>189900</td>\n",
              "    </tr>\n",
              "    <tr>\n",
              "      <th>...</th>\n",
              "      <td>...</td>\n",
              "      <td>...</td>\n",
              "      <td>...</td>\n",
              "      <td>...</td>\n",
              "      <td>...</td>\n",
              "      <td>...</td>\n",
              "      <td>...</td>\n",
              "      <td>...</td>\n",
              "      <td>...</td>\n",
              "      <td>...</td>\n",
              "      <td>...</td>\n",
              "      <td>...</td>\n",
              "      <td>...</td>\n",
              "      <td>...</td>\n",
              "      <td>...</td>\n",
              "      <td>...</td>\n",
              "      <td>...</td>\n",
              "      <td>...</td>\n",
              "      <td>...</td>\n",
              "      <td>...</td>\n",
              "      <td>...</td>\n",
              "      <td>...</td>\n",
              "      <td>...</td>\n",
              "      <td>...</td>\n",
              "      <td>...</td>\n",
              "      <td>...</td>\n",
              "      <td>...</td>\n",
              "      <td>...</td>\n",
              "      <td>...</td>\n",
              "    </tr>\n",
              "    <tr>\n",
              "      <th>2931</th>\n",
              "      <td>2930</td>\n",
              "      <td>RL</td>\n",
              "      <td>74.0</td>\n",
              "      <td>9627</td>\n",
              "      <td>Lvl</td>\n",
              "      <td>Mod</td>\n",
              "      <td>7</td>\n",
              "      <td>1993</td>\n",
              "      <td>1994</td>\n",
              "      <td>BrkFace</td>\n",
              "      <td>TA</td>\n",
              "      <td>TA</td>\n",
              "      <td>996</td>\n",
              "      <td>Ex</td>\n",
              "      <td>Y</td>\n",
              "      <td>2</td>\n",
              "      <td>1</td>\n",
              "      <td>3</td>\n",
              "      <td>1</td>\n",
              "      <td>TA</td>\n",
              "      <td>9</td>\n",
              "      <td>3.0</td>\n",
              "      <td>650.0</td>\n",
              "      <td>TA</td>\n",
              "      <td>0</td>\n",
              "      <td>Sp</td>\n",
              "      <td>11</td>\n",
              "      <td>2006</td>\n",
              "      <td>188000</td>\n",
              "    </tr>\n",
              "    <tr>\n",
              "      <th>2932</th>\n",
              "      <td>2898</td>\n",
              "      <td>Rl</td>\n",
              "      <td>NaN</td>\n",
              "      <td>11170</td>\n",
              "      <td>Lvl</td>\n",
              "      <td>Gtl</td>\n",
              "      <td>7</td>\n",
              "      <td>1990</td>\n",
              "      <td>1991</td>\n",
              "      <td>None</td>\n",
              "      <td>TA</td>\n",
              "      <td>TA</td>\n",
              "      <td>1216</td>\n",
              "      <td>Ex</td>\n",
              "      <td>Y</td>\n",
              "      <td>2</td>\n",
              "      <td>1</td>\n",
              "      <td>4</td>\n",
              "      <td>1</td>\n",
              "      <td>TA</td>\n",
              "      <td>8</td>\n",
              "      <td>2.0</td>\n",
              "      <td>693.0</td>\n",
              "      <td>TA</td>\n",
              "      <td>0</td>\n",
              "      <td>Sp</td>\n",
              "      <td>4</td>\n",
              "      <td>2006</td>\n",
              "      <td>250000</td>\n",
              "    </tr>\n",
              "    <tr>\n",
              "      <th>2933</th>\n",
              "      <td>2899</td>\n",
              "      <td>Rl</td>\n",
              "      <td>NaN</td>\n",
              "      <td>8098</td>\n",
              "      <td>Lvl</td>\n",
              "      <td>Gtl</td>\n",
              "      <td>6</td>\n",
              "      <td>2000</td>\n",
              "      <td>2000</td>\n",
              "      <td>None</td>\n",
              "      <td>Gd</td>\n",
              "      <td>TA</td>\n",
              "      <td>1381</td>\n",
              "      <td>Ex</td>\n",
              "      <td>Y</td>\n",
              "      <td>2</td>\n",
              "      <td>0</td>\n",
              "      <td>2</td>\n",
              "      <td>1</td>\n",
              "      <td>Gd</td>\n",
              "      <td>5</td>\n",
              "      <td>2.0</td>\n",
              "      <td>470.0</td>\n",
              "      <td>TA</td>\n",
              "      <td>0</td>\n",
              "      <td>Sp</td>\n",
              "      <td>10</td>\n",
              "      <td>2006</td>\n",
              "      <td>202000</td>\n",
              "    </tr>\n",
              "    <tr>\n",
              "      <th>2934</th>\n",
              "      <td>2900</td>\n",
              "      <td>Rl</td>\n",
              "      <td>85.0</td>\n",
              "      <td>14331</td>\n",
              "      <td>Lvl</td>\n",
              "      <td>Gtl</td>\n",
              "      <td>8</td>\n",
              "      <td>2002</td>\n",
              "      <td>2002</td>\n",
              "      <td>BrkFace</td>\n",
              "      <td>Gd</td>\n",
              "      <td>TA</td>\n",
              "      <td>1800</td>\n",
              "      <td>Ex</td>\n",
              "      <td>Y</td>\n",
              "      <td>2</td>\n",
              "      <td>0</td>\n",
              "      <td>3</td>\n",
              "      <td>1</td>\n",
              "      <td>Gd</td>\n",
              "      <td>7</td>\n",
              "      <td>3.0</td>\n",
              "      <td>765.0</td>\n",
              "      <td>TA</td>\n",
              "      <td>0</td>\n",
              "      <td>Sp</td>\n",
              "      <td>5</td>\n",
              "      <td>2006</td>\n",
              "      <td>312500</td>\n",
              "    </tr>\n",
              "    <tr>\n",
              "      <th>2935</th>\n",
              "      <td>2901</td>\n",
              "      <td>rL</td>\n",
              "      <td>95.0</td>\n",
              "      <td>13618</td>\n",
              "      <td>Lvl</td>\n",
              "      <td>Gtl</td>\n",
              "      <td>8</td>\n",
              "      <td>2005</td>\n",
              "      <td>2006</td>\n",
              "      <td>Stone</td>\n",
              "      <td>Gd</td>\n",
              "      <td>Gd</td>\n",
              "      <td>1728</td>\n",
              "      <td>Ex</td>\n",
              "      <td>Y</td>\n",
              "      <td>2</td>\n",
              "      <td>0</td>\n",
              "      <td>3</td>\n",
              "      <td>1</td>\n",
              "      <td>Gd</td>\n",
              "      <td>8</td>\n",
              "      <td>3.0</td>\n",
              "      <td>714.0</td>\n",
              "      <td>TA</td>\n",
              "      <td>0</td>\n",
              "      <td>Sp</td>\n",
              "      <td>11</td>\n",
              "      <td>2006</td>\n",
              "      <td>320000</td>\n",
              "    </tr>\n",
              "  </tbody>\n",
              "</table>\n",
              "<p>2936 rows × 29 columns</p>\n",
              "</div>"
            ],
            "text/plain": [
              "      Order MS Zoning  Lot Frontage  ...  Mo Sold Yr Sold SalePrice\n",
              "0         1        RL         141.0  ...        5    2010    215000\n",
              "1         2        RH          80.0  ...        6    2010    105000\n",
              "2         3        RL          81.0  ...        6    2010    172000\n",
              "3         4        RL          93.0  ...        4    2010    244000\n",
              "4         5        RL          74.0  ...        3    2010    189900\n",
              "...     ...       ...           ...  ...      ...     ...       ...\n",
              "2931   2930        RL          74.0  ...       11    2006    188000\n",
              "2932   2898        Rl           NaN  ...        4    2006    250000\n",
              "2933   2899        Rl           NaN  ...       10    2006    202000\n",
              "2934   2900        Rl          85.0  ...        5    2006    312500\n",
              "2935   2901        rL          95.0  ...       11    2006    320000\n",
              "\n",
              "[2936 rows x 29 columns]"
            ]
          },
          "metadata": {
            "tags": []
          },
          "execution_count": 6
        }
      ]
    },
    {
      "cell_type": "markdown",
      "metadata": {
        "id": "ipXWf0tc6teo"
      },
      "source": [
        "Una vez hecho esto se comienza el parseado:"
      ]
    },
    {
      "cell_type": "code",
      "metadata": {
        "id": "FQSuSWFr4i5r"
      },
      "source": [
        "raw_data1 = sc.textFile(data1)"
      ],
      "execution_count": 7,
      "outputs": []
    },
    {
      "cell_type": "markdown",
      "metadata": {
        "id": "fhP0wMxX6yf4"
      },
      "source": [
        "Se comprueba cuántos registros se han cargado:"
      ]
    },
    {
      "cell_type": "code",
      "metadata": {
        "colab": {
          "base_uri": "https://localhost:8080/"
        },
        "id": "VGBqsfqx61Nj",
        "outputId": "ca09145b-81c8-4605-fcc7-1fd97f45a3b7"
      },
      "source": [
        "raw_data1.count()"
      ],
      "execution_count": 8,
      "outputs": [
        {
          "output_type": "execute_result",
          "data": {
            "text/plain": [
              "2937"
            ]
          },
          "metadata": {
            "tags": []
          },
          "execution_count": 8
        }
      ]
    },
    {
      "cell_type": "markdown",
      "metadata": {
        "id": "on_HAVF-64ft"
      },
      "source": [
        "Se observan los datos:"
      ]
    },
    {
      "cell_type": "code",
      "metadata": {
        "colab": {
          "base_uri": "https://localhost:8080/"
        },
        "id": "lkY38pDa4i9T",
        "outputId": "428e1eef-6942-4b5e-9701-91e54b383aed"
      },
      "source": [
        "raw_data1.take(5)"
      ],
      "execution_count": 9,
      "outputs": [
        {
          "output_type": "execute_result",
          "data": {
            "text/plain": [
              "['Order;MS Zoning;Lot Frontage;Lot Area;Land Contour;Land Slope;Overall Qual;Year Built;Year Remod/Add;Mas Vnr Type;Exter Qual;Bsmt Cond;Total Bsmt SF;Heating QC;Central Air;Full Bath;Half Bath;Bedroom AbvGr;Kitchen AbvGr;Kitchen Qual;TotRms AbvGrd;Garage Cars;Garage Area;Garage Cond;Pool Area;Pool QC;Mo Sold;Yr Sold;SalePrice',\n",
              " '1;RL;141;31770;Lvl;Gtl;6;1960;1960;Stone;TA;Gd;1080;Fa;Y;1;0;3;1;TA;7;2;528;TA;0;Sp;5;2010;215000',\n",
              " '2;RH;80;11622;Lvl;Gtl;5;1961;1961;None;TA;TA;882;TA;Y;1;0;2;1;TA;5;1;730;TA;0;Sp;6;2010;105000',\n",
              " '3;RL;81;14267;Lvl;Gtl;6;1958;1958;BrkFace;TA;TA;1329;TA;Y;1;1;3;1;Gd;6;1;312;TA;0;Sp;6;2010;172000',\n",
              " '4;RL;93;11160;Lvl;Gtl;7;1968;1968;None;Gd;TA;2110;Ex;Y;2;1;3;1;Ex;8;2;522;TA;0;Sp;4;2010;244000']"
            ]
          },
          "metadata": {
            "tags": []
          },
          "execution_count": 9
        }
      ]
    },
    {
      "cell_type": "markdown",
      "metadata": {
        "id": "Hidg_-d-7PxI"
      },
      "source": [
        "Los datos vienen separados por \";\". Se procede al parseado. Antes también se extraerá el nombre de cada variable."
      ]
    },
    {
      "cell_type": "code",
      "metadata": {
        "id": "_eKQRHRz8F_7"
      },
      "source": [
        "data_header = raw_data1.take(1)[0]\r\n",
        "raw_data1 = raw_data1.filter(lambda x: x != data_header)"
      ],
      "execution_count": 10,
      "outputs": []
    },
    {
      "cell_type": "code",
      "metadata": {
        "id": "xGaumkqz7I06"
      },
      "source": [
        "data_vivienda = raw_data1.map(lambda x: x.split(\";\"))"
      ],
      "execution_count": 11,
      "outputs": []
    },
    {
      "cell_type": "code",
      "metadata": {
        "colab": {
          "base_uri": "https://localhost:8080/"
        },
        "id": "YvaetgIH8Vzr",
        "outputId": "0b2bb240-c854-494d-8be3-04897df30428"
      },
      "source": [
        "data_vivienda.take(1)"
      ],
      "execution_count": 12,
      "outputs": [
        {
          "output_type": "execute_result",
          "data": {
            "text/plain": [
              "[['1',\n",
              "  'RL',\n",
              "  '141',\n",
              "  '31770',\n",
              "  'Lvl',\n",
              "  'Gtl',\n",
              "  '6',\n",
              "  '1960',\n",
              "  '1960',\n",
              "  'Stone',\n",
              "  'TA',\n",
              "  'Gd',\n",
              "  '1080',\n",
              "  'Fa',\n",
              "  'Y',\n",
              "  '1',\n",
              "  '0',\n",
              "  '3',\n",
              "  '1',\n",
              "  'TA',\n",
              "  '7',\n",
              "  '2',\n",
              "  '528',\n",
              "  'TA',\n",
              "  '0',\n",
              "  'Sp',\n",
              "  '5',\n",
              "  '2010',\n",
              "  '215000']]"
            ]
          },
          "metadata": {
            "tags": []
          },
          "execution_count": 12
        }
      ]
    },
    {
      "cell_type": "code",
      "metadata": {
        "colab": {
          "base_uri": "https://localhost:8080/",
          "height": 69
        },
        "id": "lFVlXm4kZ6U0",
        "outputId": "4abf3435-339c-4349-b9e4-1b68b70af839"
      },
      "source": [
        "data_header"
      ],
      "execution_count": 13,
      "outputs": [
        {
          "output_type": "execute_result",
          "data": {
            "application/vnd.google.colaboratory.intrinsic+json": {
              "type": "string"
            },
            "text/plain": [
              "'Order;MS Zoning;Lot Frontage;Lot Area;Land Contour;Land Slope;Overall Qual;Year Built;Year Remod/Add;Mas Vnr Type;Exter Qual;Bsmt Cond;Total Bsmt SF;Heating QC;Central Air;Full Bath;Half Bath;Bedroom AbvGr;Kitchen AbvGr;Kitchen Qual;TotRms AbvGrd;Garage Cars;Garage Area;Garage Cond;Pool Area;Pool QC;Mo Sold;Yr Sold;SalePrice'"
            ]
          },
          "metadata": {
            "tags": []
          },
          "execution_count": 13
        }
      ]
    },
    {
      "cell_type": "markdown",
      "metadata": {
        "id": "IJH08Xeq6xNY"
      },
      "source": [
        "Todas las cuestiones se deben realizar sobre el conjunto de casos que representen viviendas ubicadas en zonas residenciales (alta, media y baja densidad)"
      ]
    },
    {
      "cell_type": "code",
      "metadata": {
        "colab": {
          "base_uri": "https://localhost:8080/"
        },
        "id": "2dXb_YYk6wOQ",
        "outputId": "3113ad73-f305-4005-fdcd-0555bc2bbb55"
      },
      "source": [
        "data_vivienda = data_vivienda.filter(lambda x: x[1] in ['RH','RL','RM'])\r\n",
        "data_vivienda_distinct = data_vivienda.map(lambda x: x[1]).distinct().count()\r\n",
        "data_vivienda_distinct"
      ],
      "execution_count": 14,
      "outputs": [
        {
          "output_type": "execute_result",
          "data": {
            "text/plain": [
              "3"
            ]
          },
          "metadata": {
            "tags": []
          },
          "execution_count": 14
        }
      ]
    },
    {
      "cell_type": "markdown",
      "metadata": {
        "id": "ZzRspCzCMYpC"
      },
      "source": [
        "## Pregunta 2: Cuántas viviendas distintas encontramos en el dataset? ¿Se repite alguna? Tiene sentido que haya duplicadas? ¿Qué podemos hacer con las duplicadas?"
      ]
    },
    {
      "cell_type": "markdown",
      "metadata": {
        "id": "Kn95ylqHT2w1"
      },
      "source": [
        "En primer lugar contamos las filas del dataset"
      ]
    },
    {
      "cell_type": "code",
      "metadata": {
        "colab": {
          "base_uri": "https://localhost:8080/"
        },
        "id": "sCJXX9heNe8U",
        "outputId": "686b5d0d-a542-4f17-c9c2-0cfcccb12e18"
      },
      "source": [
        "data_vivienda.count()"
      ],
      "execution_count": 15,
      "outputs": [
        {
          "output_type": "execute_result",
          "data": {
            "text/plain": [
              "2760"
            ]
          },
          "metadata": {
            "tags": []
          },
          "execution_count": 15
        }
      ]
    },
    {
      "cell_type": "markdown",
      "metadata": {
        "id": "MkpPbUrzUEms"
      },
      "source": [
        "Contamos los valores únicos"
      ]
    },
    {
      "cell_type": "code",
      "metadata": {
        "colab": {
          "base_uri": "https://localhost:8080/"
        },
        "id": "7BpaXq7aNe--",
        "outputId": "97162da3-eebe-4ab9-db42-940c9409c5a5"
      },
      "source": [
        "data_vivienda.map(lambda x: x[0]).distinct().count()"
      ],
      "execution_count": 16,
      "outputs": [
        {
          "output_type": "execute_result",
          "data": {
            "text/plain": [
              "2758"
            ]
          },
          "metadata": {
            "tags": []
          },
          "execution_count": 16
        }
      ]
    },
    {
      "cell_type": "markdown",
      "metadata": {
        "id": "z1sb2LbAUKT1"
      },
      "source": [
        "Se repiten 2 valores"
      ]
    },
    {
      "cell_type": "code",
      "metadata": {
        "colab": {
          "base_uri": "https://localhost:8080/"
        },
        "id": "GVHhgKRd6Idx",
        "outputId": "00045360-a5bd-4003-ab5b-08b76aa1be6c"
      },
      "source": [
        "viviendas_repetidas = data_vivienda.map(lambda x: (x[0],1))\r\n",
        "viviendas_repetidas = viviendas_repetidas.reduceByKey(lambda x,y: x+y)\r\n",
        "viviendas_repetidas = viviendas_repetidas.map(lambda x: (x[0], int(x[1])))\r\n",
        "viviendas_repetidas.takeOrdered(2, lambda x: -x[1])"
      ],
      "execution_count": 18,
      "outputs": [
        {
          "output_type": "execute_result",
          "data": {
            "text/plain": [
              "[('2930', 2), ('2929', 2)]"
            ]
          },
          "metadata": {
            "tags": []
          },
          "execution_count": 18
        }
      ]
    },
    {
      "cell_type": "markdown",
      "metadata": {
        "id": "vWMWFNGjrGsF"
      },
      "source": [
        "La vivienda 2930 y la vivienda 2929 son las que se repiten. Para eliminarlas una opción podría ser convertir el rdd en dataframe y mediante dropDuplicates."
      ]
    },
    {
      "cell_type": "markdown",
      "metadata": {
        "id": "k4l6wr3LMYpD"
      },
      "source": [
        "## Pregunta 3:¿Podrías decirme el total de inmuebles y el precio medio (Sale Price) de cada zona (MS Zoning)?"
      ]
    },
    {
      "cell_type": "markdown",
      "metadata": {
        "id": "Ju4Er4v6ZYGc"
      },
      "source": [
        "Total de inmuebles"
      ]
    },
    {
      "cell_type": "code",
      "metadata": {
        "colab": {
          "base_uri": "https://localhost:8080/"
        },
        "id": "XNJy7kqTYdgq",
        "outputId": "5b207e9f-3873-4535-825e-0f3167c1322d"
      },
      "source": [
        "data_vivienda.map(lambda x: x[0]).distinct().count()"
      ],
      "execution_count": 19,
      "outputs": [
        {
          "output_type": "execute_result",
          "data": {
            "text/plain": [
              "2758"
            ]
          },
          "metadata": {
            "tags": []
          },
          "execution_count": 19
        }
      ]
    },
    {
      "cell_type": "markdown",
      "metadata": {
        "id": "w8EqqjU-Mdfr"
      },
      "source": [
        "El número total de inmuebles es de 2758."
      ]
    },
    {
      "cell_type": "markdown",
      "metadata": {
        "id": "ctux0tooas7Q"
      },
      "source": [
        "Miramos el índice de las variables que nos interesan"
      ]
    },
    {
      "cell_type": "code",
      "metadata": {
        "id": "UTsIl0PuMMrg"
      },
      "source": [
        "data_header_1 = data_header.split(';')"
      ],
      "execution_count": 125,
      "outputs": []
    },
    {
      "cell_type": "code",
      "metadata": {
        "colab": {
          "base_uri": "https://localhost:8080/"
        },
        "id": "kw2Mhn3YZwfu",
        "outputId": "f68cc70a-119b-4e51-e148-e9090c031dc5"
      },
      "source": [
        "print(data_header_1.index('MS Zoning'))\r\n",
        "print(data_header_1.index('SalePrice'))"
      ],
      "execution_count": null,
      "outputs": [
        {
          "output_type": "stream",
          "text": [
            "1\n",
            "28\n"
          ],
          "name": "stdout"
        }
      ]
    },
    {
      "cell_type": "markdown",
      "metadata": {
        "id": "AsQatvWkU0H8"
      },
      "source": [
        "Seleccionamos la variable de zona y el precio de venta. Después realizamos el reducebykey por zona y calculamos la media de precio de venta en cada zona."
      ]
    },
    {
      "cell_type": "code",
      "metadata": {
        "colab": {
          "base_uri": "https://localhost:8080/"
        },
        "id": "mCU-lLwOZwiX",
        "outputId": "5eb56138-9b53-4e45-c6e3-692d66177e47"
      },
      "source": [
        "sales_mszone = data_vivienda.map(lambda x: (x[1], (float(x[28]),1)))\r\n",
        "sales_mszone_groupby = sales_mszone.reduceByKey(lambda x,y: (x[0]+y[0], x[1]+y[1]))\r\n",
        "sales_mszone_media = sales_mszone_groupby.map(lambda x: (x[0], round(x[1][0]/x[1][1],2)))\r\n",
        "sales_mszone_media.collect()"
      ],
      "execution_count": 138,
      "outputs": [
        {
          "output_type": "execute_result",
          "data": {
            "text/plain": [
              "[('RL', 191131.81), ('RH', 136419.78), ('RM', 126781.39)]"
            ]
          },
          "metadata": {
            "tags": []
          },
          "execution_count": 138
        }
      ]
    },
    {
      "cell_type": "markdown",
      "metadata": {
        "id": "zh81L_l9M33B"
      },
      "source": [
        "En las zonas de baja densidad, la media del precio de venta es más alta que en el resto de zonas siendo la zona de media densidad la que tenga inmuebles más baratos."
      ]
    },
    {
      "cell_type": "markdown",
      "metadata": {
        "id": "MiqHT8gvMYpE"
      },
      "source": [
        "## Pregunta 4: Media de Total Bsmt SF por cada década de construcción calculada a partir de Year Built. \n",
        "## ¿Cuál es la decada de construcción con viviendas mejor acondicionadas para el frío (Heating QC)?"
      ]
    },
    {
      "cell_type": "markdown",
      "metadata": {
        "id": "Zm8eY9fbfU5l"
      },
      "source": [
        "Media de Total Bsmt SF por cada década de construcción calculada a partir de Year Built"
      ]
    },
    {
      "cell_type": "code",
      "metadata": {
        "colab": {
          "base_uri": "https://localhost:8080/"
        },
        "id": "swCXqIV5fRNc",
        "outputId": "be3a53f2-7ea6-41ce-8682-518286b53e9e"
      },
      "source": [
        "print(data_header_1.index('Year Built'))\r\n",
        "print(data_header_1.index('Total Bsmt SF'))"
      ],
      "execution_count": 126,
      "outputs": [
        {
          "output_type": "stream",
          "text": [
            "7\n",
            "12\n"
          ],
          "name": "stdout"
        }
      ]
    },
    {
      "cell_type": "markdown",
      "metadata": {
        "id": "xyPTq7AGUeLf"
      },
      "source": [
        "Analizamos el caso más antigüo así como el año más reciente para saber el rango de años que se están manejando."
      ]
    },
    {
      "cell_type": "code",
      "metadata": {
        "colab": {
          "base_uri": "https://localhost:8080/"
        },
        "id": "qrHrGx9SiC6N",
        "outputId": "cf5d8171-84fe-4c8f-c30f-87aeab0d2fb4"
      },
      "source": [
        "años_distintos = data_vivienda.map(lambda x: int(x[7])).distinct().collect()\r\n",
        "años_distintos_minimo = min(años_distintos)\r\n",
        "print(\"El año mínimo es\",format(años_distintos_minimo))\r\n",
        "años_distintos_maximo = max(años_distintos)\r\n",
        "print(\"El año máximo es\",format(años_distintos_maximo))"
      ],
      "execution_count": 127,
      "outputs": [
        {
          "output_type": "stream",
          "text": [
            "El año mínimo es 1872\n",
            "El año máximo es 2010\n"
          ],
          "name": "stdout"
        }
      ]
    },
    {
      "cell_type": "markdown",
      "metadata": {
        "id": "0CBpltCWQgS5"
      },
      "source": [
        "Los primeros tres dígitos del año contiene información acerca de la década en la que se puede situar la superficie del sótano en metros cuadrados. Otra opción que se barajó fue la de emplear una función que sustituyese los años por los nombres de las décadas pero finalmente se ha optado por emplear este método. La conversión a metros cuadrados es de 1 pie = 0.092903 metros."
      ]
    },
    {
      "cell_type": "code",
      "metadata": {
        "id": "VnzZCEhtZYzK"
      },
      "source": [
        "def intervalos(x):\r\n",
        "  \r\n",
        "    if x <= 1880:\r\n",
        "      return ('decada 1870-1880')\r\n",
        "    elif x <= 1890:\r\n",
        "      return ('decada 1880-1890')\r\n",
        "    elif x <= 1900:\r\n",
        "      return ('decada 1890-1900')      \r\n",
        "    elif x <= 1910:\r\n",
        "      return ('decada 1900-1910')\r\n",
        "    elif x <= 1920:\r\n",
        "      return ('decada 1910-1920')\r\n",
        "    elif x <= 1930:\r\n",
        "      return ('decada 1920-1930')\r\n",
        "    elif x <= 1940:\r\n",
        "      return ('decada 1930-1940')\r\n",
        "    elif x <= 1950:\r\n",
        "      return ('decada 1940-1950')\r\n",
        "    elif x <= 1960:\r\n",
        "      return ('decada 1950-1960')\r\n",
        "    elif x <= 1970:\r\n",
        "      return ('decada 1960-1970')\r\n",
        "    elif x <= 1980:\r\n",
        "      return ('decada 1970-1980')\r\n",
        "    elif x <= 1990:\r\n",
        "      return ('decada 1980-1990')\r\n",
        "    elif x <= 2000:\r\n",
        "      return ('decada 1990-2000')\r\n",
        "    else:\r\n",
        "      return ('decada 2000-2010')"
      ],
      "execution_count": null,
      "outputs": []
    },
    {
      "cell_type": "code",
      "metadata": {
        "colab": {
          "base_uri": "https://localhost:8080/"
        },
        "id": "fz364RP1wbEs",
        "outputId": "4ceda82b-0d8a-4e2f-d7fe-d0d7af6b9688"
      },
      "source": [
        "total_bsmt_year = data_vivienda.map(lambda x: ((x[7])[0:3], (int(x[28])*0.092903,1)))\r\n",
        "total_bsmt_year = total_bsmt_year.reduceByKey(lambda x,y: (x[0]+y[0], x[1]+y[1]))\r\n",
        "total_bsmt_year = total_bsmt_year.map(lambda x: (x[0], round(x[1][0]/x[1][1],2)))\r\n",
        "total_bsmt_year.takeOrdered(25, lambda x: -x[1])"
      ],
      "execution_count": 32,
      "outputs": [
        {
          "output_type": "execute_result",
          "data": {
            "text/plain": [
              "[('201', 27008.39),\n",
              " ('200', 23519.95),\n",
              " ('199', 20823.31),\n",
              " ('198', 17386.1),\n",
              " ('189', 16888.22),\n",
              " ('188', 15375.2),\n",
              " ('197', 14115.1),\n",
              " ('196', 14064.94),\n",
              " ('193', 13284.73),\n",
              " ('195', 13077.89),\n",
              " ('187', 12418.03),\n",
              " ('191', 12028.45),\n",
              " ('190', 11730.42),\n",
              " ('194', 11716.04),\n",
              " ('192', 11486.9)]"
            ]
          },
          "metadata": {
            "tags": []
          },
          "execution_count": 32
        }
      ]
    },
    {
      "cell_type": "markdown",
      "metadata": {
        "id": "Sja-m6qwR9-g"
      },
      "source": [
        "La década del 2010 es la que registra la media más alta de superfície más grande en metros cuadrados de los sótanos mientras que en los 20 la media es la más baja."
      ]
    },
    {
      "cell_type": "markdown",
      "metadata": {
        "id": "EWe2I3aK4bbW"
      },
      "source": [
        "¿Cuál es la década de construcción con viviendas mejor acondicionadas para el frío (Heating QC)?"
      ]
    },
    {
      "cell_type": "code",
      "metadata": {
        "colab": {
          "base_uri": "https://localhost:8080/"
        },
        "id": "LvNAPJMt4d4e",
        "outputId": "86931971-3c95-4f42-8f0a-9a9915781fb3"
      },
      "source": [
        "print(data_header_1.index('Year Built'))\r\n",
        "print(data_header_1.index('Heating QC'))"
      ],
      "execution_count": null,
      "outputs": [
        {
          "output_type": "stream",
          "text": [
            "7\n",
            "13\n"
          ],
          "name": "stdout"
        }
      ]
    },
    {
      "cell_type": "markdown",
      "metadata": {
        "id": "_mjgflruHx9-"
      },
      "source": [
        "Se extraen las columnas necesarias. Para la columna del año, al igual que en la pregunta anterior, se extraen los tres primeros valores o dígitos ya que contienen la información necesaria para separar los datos por décadas. Después filtramos la variable del acondicionamiento para aquellas que tengan un valor excelente y finalmente realizamos un countbykey para ver cuantas veces se repite ese valor en la década."
      ]
    },
    {
      "cell_type": "code",
      "metadata": {
        "colab": {
          "base_uri": "https://localhost:8080/"
        },
        "id": "j_tW6OW2N8d7",
        "outputId": "c0c56b35-e6f6-45e5-e5d4-019427eb5072"
      },
      "source": [
        "pruebafrio = data_vivienda.map(lambda x: ((x[7])[0:3], (x[13])))\r\n",
        "pruebafrio = pruebafrio.filter(lambda x: x[1] in 'Ex')\r\n",
        "pruebafrio.countByKey()"
      ],
      "execution_count": 31,
      "outputs": [
        {
          "output_type": "execute_result",
          "data": {
            "text/plain": [
              "defaultdict(int,\n",
              "            {'188': 2,\n",
              "             '189': 4,\n",
              "             '190': 12,\n",
              "             '191': 38,\n",
              "             '192': 51,\n",
              "             '193': 40,\n",
              "             '194': 56,\n",
              "             '195': 98,\n",
              "             '196': 88,\n",
              "             '197': 68,\n",
              "             '198': 28,\n",
              "             '199': 233,\n",
              "             '200': 635,\n",
              "             '201': 2})"
            ]
          },
          "metadata": {
            "tags": []
          },
          "execution_count": 31
        }
      ]
    },
    {
      "cell_type": "markdown",
      "metadata": {
        "id": "jwmej93oSi9a"
      },
      "source": [
        "Se ve que en la década del 2000 se registra un mayor número de excelentes en cuanto a la calidad de las vivendas acondicionadas para el frío. La peor década se situaría entre la del 2010 y 1880."
      ]
    },
    {
      "cell_type": "markdown",
      "metadata": {
        "id": "TPlPQojrMYpE"
      },
      "source": [
        "## Pregunta 5:¿Cuáles son las 10 viviendas que se vendieron por un precio más elevado por metro cuadrado en el año 2009?"
      ]
    },
    {
      "cell_type": "code",
      "metadata": {
        "colab": {
          "base_uri": "https://localhost:8080/"
        },
        "id": "k5zv_ZjNvx8Z",
        "outputId": "f45a457e-fec5-4633-91a9-57b4c7a319ad"
      },
      "source": [
        "print(data_header_1.index('Year Built'))\r\n",
        "print(data_header_1.index('Lot Area'))\r\n",
        "print(data_header_1.index('SalePrice'))"
      ],
      "execution_count": null,
      "outputs": [
        {
          "output_type": "stream",
          "text": [
            "7\n",
            "3\n",
            "28\n"
          ],
          "name": "stdout"
        }
      ]
    },
    {
      "cell_type": "markdown",
      "metadata": {
        "id": "dpPbuuq_FNic"
      },
      "source": [
        "Extraemos los datos necesarios en este apartado"
      ]
    },
    {
      "cell_type": "markdown",
      "metadata": {
        "id": "VrIcWvgqHTVZ"
      },
      "source": [
        "Convertimos los square feet en metros cuadrados (1 pie cuadrado = 0.092903 metros cuadrados)."
      ]
    },
    {
      "cell_type": "code",
      "metadata": {
        "colab": {
          "base_uri": "https://localhost:8080/"
        },
        "id": "QzmGB57IBaw-",
        "outputId": "f48d1ae2-4549-47ae-dea9-255698d38428"
      },
      "source": [
        "viviendas_caras_2009 = data_vivienda.map(lambda x: (x[0],x[7], round(float(x[3])*0.092903,2), int(x[28])))\r\n",
        "viviendas_caras_2009.take(5)"
      ],
      "execution_count": 22,
      "outputs": [
        {
          "output_type": "execute_result",
          "data": {
            "text/plain": [
              "[('1', '1960', 2951.53, 215000),\n",
              " ('2', '1961', 1079.72, 105000),\n",
              " ('3', '1958', 1325.45, 172000),\n",
              " ('4', '1968', 1036.8, 244000),\n",
              " ('5', '1997', 1284.85, 189900)]"
            ]
          },
          "metadata": {
            "tags": []
          },
          "execution_count": 22
        }
      ]
    },
    {
      "cell_type": "markdown",
      "metadata": {
        "id": "J1fTc8RKFRt-"
      },
      "source": [
        "Realizamos el cálulo del precio por metro cuadrado, es decir, el precio de cada metro cuadrado y realizamos un filtro en el año para que aparezcan las vivendas del año 2009. Finalmente ordenamos por precio de más alto a más bajo y vemos que la vivienda 568 es la que sale más cara el metro cuadrado."
      ]
    },
    {
      "cell_type": "code",
      "metadata": {
        "colab": {
          "base_uri": "https://localhost:8080/"
        },
        "id": "4G517qmoDOoY",
        "outputId": "3d3c2599-092a-4771-badb-cc91c56cd0ed"
      },
      "source": [
        "prueba = viviendas_caras_2009.map(lambda x: (x[0], x[1], round(x[3]/x[2],2)))\r\n",
        "prueba2 = prueba.filter(lambda x: x[1] in '2009')\r\n",
        "prueba2.takeOrdered(10, lambda x: -x[2])"
      ],
      "execution_count": 141,
      "outputs": [
        {
          "output_type": "execute_result",
          "data": {
            "text/plain": [
              "[('45', '2009', 509.62),\n",
              " ('39', '2009', 418.72),\n",
              " ('46', '2009', 378.45),\n",
              " ('431', '2009', 354.86),\n",
              " ('428', '2009', 347.58),\n",
              " ('819', '2009', 318.26),\n",
              " ('37', '2009', 314.9),\n",
              " ('447', '2009', 263.06),\n",
              " ('40', '2009', 243.09),\n",
              " ('319', '2009', 241.68)]"
            ]
          },
          "metadata": {
            "tags": []
          },
          "execution_count": 141
        }
      ]
    },
    {
      "cell_type": "markdown",
      "metadata": {
        "id": "xOCTk7D2MYpF"
      },
      "source": [
        "## Pregunta 6: Media anual por zonas del precio de venta y metros cuadrados."
      ]
    },
    {
      "cell_type": "code",
      "metadata": {
        "colab": {
          "base_uri": "https://localhost:8080/"
        },
        "id": "stTrXo6Svyk_",
        "outputId": "1f654705-04ad-4e19-a281-b62773e7f0ca"
      },
      "source": [
        "print(data_header_1.index('Yr Sold'))\r\n",
        "print(data_header_1.index('Lot Area'))\r\n",
        "print(data_header_1.index('SalePrice'))\r\n",
        "print(data_header_1.index('MS Zoning'))"
      ],
      "execution_count": null,
      "outputs": [
        {
          "output_type": "stream",
          "text": [
            "27\n",
            "3\n",
            "28\n",
            "1\n"
          ],
          "name": "stdout"
        }
      ]
    },
    {
      "cell_type": "markdown",
      "metadata": {
        "id": "eXJWDnHOTDe0"
      },
      "source": [
        "En este ejercicio se va a evaluar por separado la media anual del precio de venta y de los metros cuadrados por separado para cada zona. Se ha empleado en este ejercicio para hacer la media anual, el año en el que el inmueble fue vendido."
      ]
    },
    {
      "cell_type": "markdown",
      "metadata": {
        "id": "u6nHY3P9-2DA"
      },
      "source": [
        "### PARA RH"
      ]
    },
    {
      "cell_type": "markdown",
      "metadata": {
        "id": "qiZIfQJK_Cin"
      },
      "source": [
        "#### Media de metros cuadrados (en pies)"
      ]
    },
    {
      "cell_type": "code",
      "metadata": {
        "colab": {
          "base_uri": "https://localhost:8080/"
        },
        "id": "ivpS-BiN-1EX",
        "outputId": "0dcd4b8f-40a5-4d5e-a112-4621f3408591"
      },
      "source": [
        "media_anual_RH2 = data_vivienda.filter(lambda x: x[1] in 'RH')\r\n",
        "media_anual_RH3 = media_anual_RH2.map(lambda x: (x[27], (float(x[3])*0.092903, 1)))\r\n",
        "media_anual_RH3 = media_anual_RH3.reduceByKey(lambda x,y: (x[0]+y[0], x[1]+y[1])).map(lambda x: (x[0], round(x[1][0]/x[1][1],2)))\r\n",
        "media_anual_RH3.takeOrdered(5, lambda x: -x[1])"
      ],
      "execution_count": 142,
      "outputs": [
        {
          "output_type": "execute_result",
          "data": {
            "text/plain": [
              "[('2008', 766.14),\n",
              " ('2010', 753.03),\n",
              " ('2006', 659.56),\n",
              " ('2007', 651.32),\n",
              " ('2009', 647.14)]"
            ]
          },
          "metadata": {
            "tags": []
          },
          "execution_count": 142
        }
      ]
    },
    {
      "cell_type": "markdown",
      "metadata": {
        "id": "pk7yq_uWTbjK"
      },
      "source": [
        "En 2008 la media de metros cuadrados fue más alta en zonas de alta densidad."
      ]
    },
    {
      "cell_type": "markdown",
      "metadata": {
        "id": "EoDrNYFLJumX"
      },
      "source": [
        "#### Media precio"
      ]
    },
    {
      "cell_type": "code",
      "metadata": {
        "colab": {
          "base_uri": "https://localhost:8080/"
        },
        "id": "C_xRZ_Y2-zdn",
        "outputId": "6ac71eb6-4850-40a8-ca02-30b9ae476268"
      },
      "source": [
        "media_RH_precio = data_vivienda.filter(lambda x: x[1] in 'RH')\r\n",
        "media_RH_precio = media_RH_precio.map(lambda x: (x[27], (float(x[28]), 1)))\r\n",
        "media_RH_precio = media_RH_precio.reduceByKey(lambda x,y: (x[0]+y[0], x[1]+y[1])).map(lambda x: (x[0], round(x[1][0]/x[1][1],2)))\r\n",
        "media_RH_precio.takeOrdered(5, lambda x: -x[1])"
      ],
      "execution_count": 143,
      "outputs": [
        {
          "output_type": "execute_result",
          "data": {
            "text/plain": [
              "[('2008', 150333.33),\n",
              " ('2007', 147250.0),\n",
              " ('2006', 140316.67),\n",
              " ('2010', 126280.0),\n",
              " ('2009', 116206.8)]"
            ]
          },
          "metadata": {
            "tags": []
          },
          "execution_count": 143
        }
      ]
    },
    {
      "cell_type": "markdown",
      "metadata": {
        "id": "aZqwJHR2URoK"
      },
      "source": [
        "En 2008 la media del precio de venta fue superior para zonas de alta densidad."
      ]
    },
    {
      "cell_type": "markdown",
      "metadata": {
        "id": "tAl_S69KAo2u"
      },
      "source": [
        "### PARA RM"
      ]
    },
    {
      "cell_type": "markdown",
      "metadata": {
        "id": "gI8F090CKFfN"
      },
      "source": [
        "#### Media de metros cuadrados (en pies)"
      ]
    },
    {
      "cell_type": "code",
      "metadata": {
        "colab": {
          "base_uri": "https://localhost:8080/"
        },
        "id": "SpMF75s0AsZn",
        "outputId": "b767fe10-2118-455e-cc22-9074e90fb860"
      },
      "source": [
        "media_rm_pies = data_vivienda.filter(lambda x: x[1] in 'RM')\r\n",
        "media_rm_pies = media_rm_pies.map(lambda x: (x[27], (float(x[3])*0.092903, 1)))\r\n",
        "media_rm_pies = media_rm_pies.reduceByKey(lambda x,y: (x[0]+y[0], x[1]+y[1])).map(lambda x: (x[0], round(x[1][0]/x[1][1],2)))\r\n",
        "media_rm_pies.takeOrdered(5, lambda x: -x[1])"
      ],
      "execution_count": 144,
      "outputs": [
        {
          "output_type": "execute_result",
          "data": {
            "text/plain": [
              "[('2007', 625.45),\n",
              " ('2008', 623.67),\n",
              " ('2010', 586.1),\n",
              " ('2006', 575.01),\n",
              " ('2009', 552.56)]"
            ]
          },
          "metadata": {
            "tags": []
          },
          "execution_count": 144
        }
      ]
    },
    {
      "cell_type": "markdown",
      "metadata": {
        "id": "dL0NUp0eUYoR"
      },
      "source": [
        "En 2007 la media de metros cuadrados fue ligeramente superior al 2008 en zonas de media densidad."
      ]
    },
    {
      "cell_type": "markdown",
      "metadata": {
        "id": "GMZsyPb9KHvm"
      },
      "source": [
        "#### Media precio"
      ]
    },
    {
      "cell_type": "code",
      "metadata": {
        "colab": {
          "base_uri": "https://localhost:8080/"
        },
        "id": "JBSD0fuZAsbn",
        "outputId": "f39f377b-b3aa-42c3-c5fa-42c86745c98f"
      },
      "source": [
        "media_RM_precio = data_vivienda.filter(lambda x: x[1] in 'RM')\r\n",
        "media_RM_precio = media_RM_precio.map(lambda x: (x[27], (float(x[28]), 1)))\r\n",
        "media_RM_precio = media_RM_precio.reduceByKey(lambda x,y: (x[0]+y[0], x[1]+y[1])).map(lambda x: (x[0], round(x[1][0]/x[1][1],2)))\r\n",
        "media_RM_precio.takeOrdered(5, lambda x: -x[1])"
      ],
      "execution_count": 145,
      "outputs": [
        {
          "output_type": "execute_result",
          "data": {
            "text/plain": [
              "[('2008', 133336.12),\n",
              " ('2007', 128947.62),\n",
              " ('2006', 127502.64),\n",
              " ('2010', 119681.71),\n",
              " ('2009', 118759.87)]"
            ]
          },
          "metadata": {
            "tags": []
          },
          "execution_count": 145
        }
      ]
    },
    {
      "cell_type": "markdown",
      "metadata": {
        "id": "wWtl3T6MUisC"
      },
      "source": [
        "En 2008 el precio medio de venta en zonas de densidad media fue superior al resto al igual que también ocurría con el precio de venta en las zonas de alta densidad."
      ]
    },
    {
      "cell_type": "markdown",
      "metadata": {
        "id": "Y0E8z0-XAtuY"
      },
      "source": [
        "### PARA RL"
      ]
    },
    {
      "cell_type": "markdown",
      "metadata": {
        "id": "cMtR4mDmLF8P"
      },
      "source": [
        "#### Media de metros cuadrados (en pies)"
      ]
    },
    {
      "cell_type": "code",
      "metadata": {
        "colab": {
          "base_uri": "https://localhost:8080/"
        },
        "id": "vxyTQhLUAvTJ",
        "outputId": "f032d06c-9b5a-4007-cf78-8b0f1a4e6e84"
      },
      "source": [
        "media_rl_pies = data_vivienda.filter(lambda x: x[1] in 'RL')\r\n",
        "media_rl_pies = media_rl_pies.map(lambda x: (x[27], (float(x[3])*0.092903, 1)))\r\n",
        "media_rl_pies = media_rl_pies.reduceByKey(lambda x,y: (x[0]+y[0], x[1]+y[1])).map(lambda x: (x[0], round(x[1][0]/x[1][1],2)))\r\n",
        "media_rl_pies.takeOrdered(5, lambda x: -x[1])"
      ],
      "execution_count": 146,
      "outputs": [
        {
          "output_type": "execute_result",
          "data": {
            "text/plain": [
              "[('2007', 1059.68),\n",
              " ('2008', 1047.65),\n",
              " ('2006', 1042.81),\n",
              " ('2010', 1011.36),\n",
              " ('2009', 1002.18)]"
            ]
          },
          "metadata": {
            "tags": []
          },
          "execution_count": 146
        }
      ]
    },
    {
      "cell_type": "markdown",
      "metadata": {
        "id": "QCuUb9ztXGtT"
      },
      "source": [
        "En 2007 la media fue ligeramente superior al resto al igual que ocurría con las zonas de baja densidad. Cabe destacar que la superfície en estas zonas es más grande que el resto de zonas."
      ]
    },
    {
      "cell_type": "markdown",
      "metadata": {
        "id": "4TMT5P0-LHrO"
      },
      "source": [
        "#### Media precio"
      ]
    },
    {
      "cell_type": "code",
      "metadata": {
        "colab": {
          "base_uri": "https://localhost:8080/"
        },
        "id": "pqPutW-AAvVX",
        "outputId": "6ca99166-4e94-42a3-f4f4-63088660fff6"
      },
      "source": [
        "media_RL_precio = data_vivienda.filter(lambda x: x[1] in 'RL')\r\n",
        "media_RL_precio = media_RL_precio.map(lambda x: (x[27], (float(x[28]), 1)))\r\n",
        "media_RL_precio = media_RL_precio.reduceByKey(lambda x,y: (x[0]+y[0], x[1]+y[1])).map(lambda x: (x[0], round(x[1][0]/x[1][1],2)))\r\n",
        "media_RL_precio.takeOrdered(5, lambda x: -x[1])"
      ],
      "execution_count": 147,
      "outputs": [
        {
          "output_type": "execute_result",
          "data": {
            "text/plain": [
              "[('2006', 193654.15),\n",
              " ('2007', 193399.98),\n",
              " ('2009', 190455.55),\n",
              " ('2008', 189885.59),\n",
              " ('2010', 184978.42)]"
            ]
          },
          "metadata": {
            "tags": []
          },
          "execution_count": 147
        }
      ]
    },
    {
      "cell_type": "markdown",
      "metadata": {
        "id": "NCBm5BgSXdOx"
      },
      "source": [
        "La media más alta del precio en estas zonas se situa en 2006 a diferencia de las otras dos (2008) y destacar que el precio de este tipo de viviendas es más alto que en el resto de zonas."
      ]
    },
    {
      "cell_type": "markdown",
      "metadata": {
        "id": "7GlJZUJ2MYpG"
      },
      "source": [
        "## Pregunta 7: ¿Podrías decirme el total de recaudación de las casas de revistimiento (Mas Vnr Type) de piedra con respecto a las de ladrillo? ¿Hay diferencia significativa?"
      ]
    },
    {
      "cell_type": "code",
      "metadata": {
        "colab": {
          "base_uri": "https://localhost:8080/"
        },
        "id": "HGS0tLit8FGw",
        "outputId": "f72ca8e2-d9e9-4e40-8d65-76f446ac1c04"
      },
      "source": [
        "print(data_header_1.index('Mas Vnr Type'))\r\n",
        "print(data_header_1.index('SalePrice'))"
      ],
      "execution_count": null,
      "outputs": [
        {
          "output_type": "stream",
          "text": [
            "9\n",
            "28\n"
          ],
          "name": "stdout"
        }
      ]
    },
    {
      "cell_type": "markdown",
      "metadata": {
        "id": "g7Ge4_EmYF6V"
      },
      "source": [
        "En este ejercicio se han usado las variables del precio de venta y de los materiales y se ha realizado una suma total de todas las cantidades. En el caso de los materiales de ladrillo, se ha realizado en primer lugar, un cálculo por separado de sus totales y finalmente uno con ambos tipos de ladrillo. En cada apartado primero se ha filtrado la columna correspondiente al material por el material que queramos estudiar y después se ha realizado la suma total de las cantidades que corresponden a ese material."
      ]
    },
    {
      "cell_type": "markdown",
      "metadata": {
        "id": "s48PE_JFQCQf"
      },
      "source": [
        "CASAS DE PIEDRA"
      ]
    },
    {
      "cell_type": "code",
      "metadata": {
        "colab": {
          "base_uri": "https://localhost:8080/"
        },
        "id": "4jw2z-kKORl5",
        "outputId": "234012fd-346a-45d5-86c4-71782a7c2b70"
      },
      "source": [
        "piedra_precio1 = data_vivienda.filter(lambda x: x[9] in 'Stone')\r\n",
        "piedra_precio = piedra_precio1.map(lambda x: int(x[28])).sum()\r\n",
        "piedra_precio"
      ],
      "execution_count": 134,
      "outputs": [
        {
          "output_type": "execute_result",
          "data": {
            "text/plain": [
              "63687135"
            ]
          },
          "metadata": {
            "tags": []
          },
          "execution_count": 134
        }
      ]
    },
    {
      "cell_type": "markdown",
      "metadata": {
        "id": "HKwJg8ltP563"
      },
      "source": [
        "63,687,135 recaudados"
      ]
    },
    {
      "cell_type": "markdown",
      "metadata": {
        "id": "bjSUzgsBQLqQ"
      },
      "source": [
        "CASAS DE LADRILLO"
      ]
    },
    {
      "cell_type": "code",
      "metadata": {
        "colab": {
          "base_uri": "https://localhost:8080/"
        },
        "id": "1GfC42ZEQK3Y",
        "outputId": "f622ce27-0bfc-4c07-887d-dbcff9d7431e"
      },
      "source": [
        "ladrillonormal_precio = data_vivienda.filter(lambda x: x[9] in ['BrkCmn'])\r\n",
        "ladrillonormal_precio = ladrillonormal_precio.map(lambda x: int(x[28])).sum()\r\n",
        "ladrillonormal_precio"
      ],
      "execution_count": 133,
      "outputs": [
        {
          "output_type": "execute_result",
          "data": {
            "text/plain": [
              "3504975"
            ]
          },
          "metadata": {
            "tags": []
          },
          "execution_count": 133
        }
      ]
    },
    {
      "cell_type": "code",
      "metadata": {
        "colab": {
          "base_uri": "https://localhost:8080/"
        },
        "id": "nAs89Db5SWxX",
        "outputId": "3c72d9ba-d1dd-4d5c-a742-5947e2d20a1d"
      },
      "source": [
        "ladrillovisto_precio = data_vivienda.filter(lambda x: x[9] in ['BrkFace'])\r\n",
        "ladrillovisto_precio = ladrillovisto_precio.map(lambda x: int(x[28])).sum()\r\n",
        "ladrillovisto_precio"
      ],
      "execution_count": 131,
      "outputs": [
        {
          "output_type": "execute_result",
          "data": {
            "text/plain": [
              "178788061"
            ]
          },
          "metadata": {
            "tags": []
          },
          "execution_count": 131
        }
      ]
    },
    {
      "cell_type": "code",
      "metadata": {
        "colab": {
          "base_uri": "https://localhost:8080/"
        },
        "id": "8zs-alSFSYGV",
        "outputId": "508641b4-f94d-41d4-e57b-79500c2d011c"
      },
      "source": [
        "ladrillostotales_precio = data_vivienda.filter(lambda x: x[9] in ['BrkCmn','BrkFace'])\r\n",
        "ladrillostotales_precio = ladrillostotales_precio.map(lambda x: int(x[28])).sum()\r\n",
        "ladrillostotales_precio"
      ],
      "execution_count": 132,
      "outputs": [
        {
          "output_type": "execute_result",
          "data": {
            "text/plain": [
              "182293036"
            ]
          },
          "metadata": {
            "tags": []
          },
          "execution_count": 132
        }
      ]
    },
    {
      "cell_type": "markdown",
      "metadata": {
        "id": "uA6p2AkdQoee"
      },
      "source": [
        "182,293,036 recaudados."
      ]
    },
    {
      "cell_type": "markdown",
      "metadata": {
        "id": "WuhOAxaESJYk"
      },
      "source": [
        "Existe una diferencia significativa entre los dos materiales en cuanto a la cantidad de dinero recaudado por las ventas a pesar de que existen dos tipos de ladrillos siendo el ladrillo visto el tipo de ladrillo que más recauda con una amplia diferencia respecto al ladrillo normal."
      ]
    },
    {
      "cell_type": "markdown",
      "metadata": {
        "id": "ta6e4CMPMYpG"
      },
      "source": [
        "## Pregunta 8:¿Cuánto son más caras las viviendas con 2 cocinas, con 2 o más plazas de garaje que las que tienen 1 cocina y 1 plaza de garaje? Comparar medias y cuartiles de ambos casos"
      ]
    },
    {
      "cell_type": "code",
      "metadata": {
        "colab": {
          "base_uri": "https://localhost:8080/"
        },
        "id": "pM4EkSWMVA_-",
        "outputId": "3d67ed8e-9d5d-4bac-e5d5-7fa7fee73196"
      },
      "source": [
        "print(data_header_1.index('Kitchen AbvGr'))\r\n",
        "print(data_header_1.index('Garage Cars'))\r\n",
        "print(data_header_1.index('SalePrice'))"
      ],
      "execution_count": null,
      "outputs": [
        {
          "output_type": "stream",
          "text": [
            "18\n",
            "21\n",
            "28\n"
          ],
          "name": "stdout"
        }
      ]
    },
    {
      "cell_type": "markdown",
      "metadata": {
        "id": "jiaOr1rgU3uZ"
      },
      "source": [
        "Media precio de venta en viviendas de 2 cocinas y 2 o más plazas de garajes."
      ]
    },
    {
      "cell_type": "code",
      "metadata": {
        "colab": {
          "base_uri": "https://localhost:8080/"
        },
        "id": "YJWIUC1k8GOL",
        "outputId": "d6b4245a-7ae4-472d-e5b6-b1a17268ba85"
      },
      "source": [
        "cocina_sin_nulos = data_vivienda.filter(lambda x: x[18] is not '')\r\n",
        "garaje_sin_nulos = cocina_sin_nulos.filter(lambda x: x[21] is not '')\r\n",
        "cocina_garaje_2 = garaje_sin_nulos.map(lambda x: (int(x[18]), int(x[21]), float(x[28])))\r\n",
        "cocina_garaje_2 = cocina_garaje_2.filter(lambda x: x[0] == 2)\r\n",
        "cocina_garaje_2 = cocina_garaje_2.filter(lambda x: x[1] >= 2)\r\n",
        "cocina_garaje_2 = cocina_garaje_2.map(lambda x: x[2])\r\n",
        "print('La media es de', format(round(cocina_garaje_2.mean(),2)))"
      ],
      "execution_count": 130,
      "outputs": [
        {
          "output_type": "stream",
          "text": [
            "La media es de 145124.28\n"
          ],
          "name": "stdout"
        }
      ]
    },
    {
      "cell_type": "code",
      "metadata": {
        "id": "O2pcpOngo3Dw"
      },
      "source": [
        "import numpy as np"
      ],
      "execution_count": null,
      "outputs": []
    },
    {
      "cell_type": "markdown",
      "metadata": {
        "id": "YMkbg2VArxNl"
      },
      "source": [
        "Cuartiles"
      ]
    },
    {
      "cell_type": "code",
      "metadata": {
        "colab": {
          "base_uri": "https://localhost:8080/"
        },
        "id": "y4-HOmCAlUml",
        "outputId": "23511b19-7beb-438b-afe0-7aea5c121a59"
      },
      "source": [
        "print(\"El cuartil inferior es\",format(np.quantile(cocina_garaje_2.collect(), 0.25)))\r\n",
        "print(\"La mediana es\",format(np.quantile(cocina_garaje_2.collect(), 0.5)))\r\n",
        "print(\"El cuartil superior es\",format(np.quantile(cocina_garaje_2.collect(), 0.75)))"
      ],
      "execution_count": null,
      "outputs": [
        {
          "output_type": "stream",
          "text": [
            "El cuartil inferior es 118973.0\n",
            "La mediana es 141800.0\n",
            "El cuartil superior es 158500.0\n"
          ],
          "name": "stdout"
        }
      ]
    },
    {
      "cell_type": "markdown",
      "metadata": {
        "id": "5mff-8x6aI2B"
      },
      "source": [
        "Media precio de venta en viviendas de 1 cocina y 1 plaza de garaje."
      ]
    },
    {
      "cell_type": "code",
      "metadata": {
        "colab": {
          "base_uri": "https://localhost:8080/"
        },
        "id": "j--WgUJ7aiHH",
        "outputId": "fc7193c7-cad6-433c-8f9f-d8bfb3dc2429"
      },
      "source": [
        "cocina_sin_nulos = data_vivienda.filter(lambda x: x[18] is not '')\r\n",
        "garaje_sin_nulos = cocina_sin_nulos.filter(lambda x: x[21] is not '')\r\n",
        "cocina_garaje_1 = garaje_sin_nulos.map(lambda x: (int(x[18]), int(x[21]), float(x[28])))\r\n",
        "cocina_garaje_1 = cocina_garaje_1.filter(lambda x: x[0] == 1)\r\n",
        "cocina_garaje_1 = cocina_garaje_1.filter(lambda x: x[1] == 1)\r\n",
        "cocina_garaje_1 = cocina_garaje_1.map(lambda x: x[2])\r\n",
        "print('La media es de', format(round(cocina_garaje_1.mean(),2)))"
      ],
      "execution_count": 129,
      "outputs": [
        {
          "output_type": "stream",
          "text": [
            "La media es de 128121.99\n"
          ],
          "name": "stdout"
        }
      ]
    },
    {
      "cell_type": "markdown",
      "metadata": {
        "id": "32EtHxpLr_-G"
      },
      "source": [
        "Cuartiles"
      ]
    },
    {
      "cell_type": "code",
      "metadata": {
        "colab": {
          "base_uri": "https://localhost:8080/"
        },
        "id": "rZoYWmZusBRV",
        "outputId": "26ddf752-4cf9-4f5f-bafa-eab75f3eff8d"
      },
      "source": [
        "print(\"El cuartil inferior es\",format(np.quantile(cocina_garaje_1.collect(), 0.25)))\r\n",
        "print(\"La mediana es\",format(np.quantile(cocina_garaje_1.collect(), 0.5)))\r\n",
        "print(\"El cuartil superior es\",format(np.quantile(cocina_garaje_1.collect(), 0.75)))"
      ],
      "execution_count": null,
      "outputs": [
        {
          "output_type": "stream",
          "text": [
            "El cuartil inferior es 111625.0\n",
            "La mediana es 128000.0\n",
            "El cuartil superior es 142062.5\n"
          ],
          "name": "stdout"
        }
      ]
    },
    {
      "cell_type": "markdown",
      "metadata": {
        "id": "DL8-ytc4Zr-6"
      },
      "source": [
        "En cuanto a la media, el precio es superior en las viviendas con 2 cocinas y 2 garajes o más, y en terminos de cuartiles, el primer cuartil o cuartil inferior es al que más se asemejan los dos tipos de vivienda pero en la mediana y el cuartil superior el precio de las viviendas con 2 cocinas y 2 o más garajes."
      ]
    },
    {
      "cell_type": "markdown",
      "metadata": {
        "id": "6BSVXFM9MYpH"
      },
      "source": [
        "## (COMPLEMENTARIA) Estudiar la relación entre el precio y el número de Garajes. (Recomiendo segmentar precio por cuartiles y estudiar el número de casos coincidentes)"
      ]
    },
    {
      "cell_type": "markdown",
      "metadata": {
        "id": "F-on6oUrYu2D"
      },
      "source": [
        "Para este ejercicio se han empleado funciones de spark-SQL para, en primer lugar y después de hacer una conversión a tipo numérico de las dos variables, realizar una matriz de correlaciones y representarlo gráficamente en una gráfica de dispersión. "
      ]
    },
    {
      "cell_type": "code",
      "metadata": {
        "colab": {
          "base_uri": "https://localhost:8080/"
        },
        "id": "EPU-wawacAdv",
        "outputId": "5dd0d2b1-e8dc-4432-ab8a-1ac1b1edcdb6"
      },
      "source": [
        "print(data_header_1.index('SalePrice'))\r\n",
        "print(data_header_1.index('Garage Cars'))"
      ],
      "execution_count": null,
      "outputs": [
        {
          "output_type": "stream",
          "text": [
            "28\n",
            "21\n"
          ],
          "name": "stdout"
        }
      ]
    },
    {
      "cell_type": "code",
      "metadata": {
        "id": "gytLDgxGcd0P"
      },
      "source": [
        "import pyspark.sql.functions as f"
      ],
      "execution_count": null,
      "outputs": []
    },
    {
      "cell_type": "code",
      "metadata": {
        "id": "iqYunoAucd2j"
      },
      "source": [
        "data_vivienda_sql = spark.read.csv(\"BDpracticafinalCSV.csv\", sep=';', header=True)\r\n",
        "data_vivienda_sql = data_vivienda_sql.select('Garage Cars', 'SalePrice')\r\n",
        "data_vivienda_sql.show()"
      ],
      "execution_count": null,
      "outputs": []
    },
    {
      "cell_type": "code",
      "metadata": {
        "colab": {
          "base_uri": "https://localhost:8080/"
        },
        "id": "a55R5xLVcd5J",
        "outputId": "ecc61883-1a78-4fd9-8faa-16601f179661"
      },
      "source": [
        "data_vivienda_sql = data_vivienda_sql.select('Garage Cars', 'SalePrice')\r\n",
        "data_vivienda_sql = data_vivienda_sql.na.drop(\"all\")\r\n",
        "data_vivienda_sql = data_vivienda_sql.withColumn(\"Garage Cars\", data_vivienda_sql[\"Garage Cars\"].cast(\"int\"))\r\n",
        "data_vivienda_sql = data_vivienda_sql.withColumn(\"SalePrice\", data_vivienda_sql[\"SalePrice\"].cast(\"int\"))\r\n",
        "data_vivienda_sql.show(10)"
      ],
      "execution_count": null,
      "outputs": [
        {
          "output_type": "stream",
          "text": [
            "+-----------+---------+\n",
            "|Garage Cars|SalePrice|\n",
            "+-----------+---------+\n",
            "|          2|   215000|\n",
            "|          1|   105000|\n",
            "|          1|   172000|\n",
            "|          2|   244000|\n",
            "|          2|   189900|\n",
            "|          2|   195500|\n",
            "|          2|   213500|\n",
            "|          2|   191500|\n",
            "|          2|   236500|\n",
            "|          2|   189000|\n",
            "+-----------+---------+\n",
            "only showing top 10 rows\n",
            "\n"
          ],
          "name": "stdout"
        }
      ]
    },
    {
      "cell_type": "code",
      "metadata": {
        "colab": {
          "base_uri": "https://localhost:8080/"
        },
        "id": "yMe0d7LGcd7q",
        "outputId": "53ef87f3-a606-4029-db8c-43a73e4bd68e"
      },
      "source": [
        "correlacion = data_vivienda_sql.stat.corr(\"Garage Cars\",\"SalePrice\")\r\n",
        "correlacion"
      ],
      "execution_count": null,
      "outputs": [
        {
          "output_type": "execute_result",
          "data": {
            "text/plain": [
              "0.6479583634978916"
            ]
          },
          "metadata": {
            "tags": []
          },
          "execution_count": 158
        }
      ]
    },
    {
      "cell_type": "code",
      "metadata": {
        "id": "sR9BYgFjeeO-"
      },
      "source": [
        "tablas_en_panda = data_vivienda_sql.toPandas()"
      ],
      "execution_count": null,
      "outputs": []
    },
    {
      "cell_type": "code",
      "metadata": {
        "colab": {
          "base_uri": "https://localhost:8080/",
          "height": 111
        },
        "id": "PAVSJeuUeeRw",
        "outputId": "d01c3b74-8fa4-421a-99eb-0e14bb494022"
      },
      "source": [
        "tablas_en_panda.corr()"
      ],
      "execution_count": null,
      "outputs": [
        {
          "output_type": "execute_result",
          "data": {
            "text/html": [
              "<div>\n",
              "<style scoped>\n",
              "    .dataframe tbody tr th:only-of-type {\n",
              "        vertical-align: middle;\n",
              "    }\n",
              "\n",
              "    .dataframe tbody tr th {\n",
              "        vertical-align: top;\n",
              "    }\n",
              "\n",
              "    .dataframe thead th {\n",
              "        text-align: right;\n",
              "    }\n",
              "</style>\n",
              "<table border=\"1\" class=\"dataframe\">\n",
              "  <thead>\n",
              "    <tr style=\"text-align: right;\">\n",
              "      <th></th>\n",
              "      <th>Garage Cars</th>\n",
              "      <th>SalePrice</th>\n",
              "    </tr>\n",
              "  </thead>\n",
              "  <tbody>\n",
              "    <tr>\n",
              "      <th>Garage Cars</th>\n",
              "      <td>1.000000</td>\n",
              "      <td>0.648272</td>\n",
              "    </tr>\n",
              "    <tr>\n",
              "      <th>SalePrice</th>\n",
              "      <td>0.648272</td>\n",
              "      <td>1.000000</td>\n",
              "    </tr>\n",
              "  </tbody>\n",
              "</table>\n",
              "</div>"
            ],
            "text/plain": [
              "             Garage Cars  SalePrice\n",
              "Garage Cars     1.000000   0.648272\n",
              "SalePrice       0.648272   1.000000"
            ]
          },
          "metadata": {
            "tags": []
          },
          "execution_count": 160
        }
      ]
    },
    {
      "cell_type": "code",
      "metadata": {
        "colab": {
          "base_uri": "https://localhost:8080/",
          "height": 295
        },
        "id": "16dGKoRVeeTe",
        "outputId": "64ee9d3a-5eb5-48c4-a028-6e7ad9c9fcca"
      },
      "source": [
        "plt.scatter(tablas_en_panda['Garage Cars'], tablas_en_panda['SalePrice'])\r\n",
        "plt.xlabel('Garage Cars')\r\n",
        "plt.ylabel('SalePrice')\r\n",
        "plt.title('Gráfico de dispersión')\r\n",
        "plt.show()"
      ],
      "execution_count": null,
      "outputs": [
        {
          "output_type": "display_data",
          "data": {
            "image/png": "[encoded data removed]",
            "text/plain": [
              "<Figure size 432x288 with 1 Axes>"
            ]
          },
          "metadata": {
            "tags": [],
            "needs_background": "light"
          }
        }
      ]
    },
    {
      "cell_type": "markdown",
      "metadata": {
        "id": "2NJluUOWkNpL"
      },
      "source": [
        "Hay una correlación positiva entre las dos variables, por lo que el aumento en capacidad de garaje es propenso a que el precio de la vivienda suba."
      ]
    },
    {
      "cell_type": "markdown",
      "metadata": {
        "id": "lrOSWWi-MYpH"
      },
      "source": [
        "## (COMPLEMENTARIA) Las 10 viviendas con mejores servicios y mejor precio."
      ]
    },
    {
      "cell_type": "code",
      "metadata": {
        "colab": {
          "base_uri": "https://localhost:8080/"
        },
        "id": "yUEiKn6udk3f",
        "outputId": "3c0439eb-a4d7-4dce-feba-7c7b7221991c"
      },
      "source": [
        "print(data_header_1.index('SalePrice'))\r\n",
        "print(data_header_1.index('Exter Qual'))\r\n",
        "print(data_header_1.index('Bsmt Cond'))\r\n",
        "print(data_header_1.index('Heating QC'))\r\n",
        "print(data_header_1.index('Kitchen Qual'))\r\n",
        "print(data_header_1.index('Garage Cond'))\r\n",
        "print(data_header_1.index('Pool QC'))"
      ],
      "execution_count": null,
      "outputs": [
        {
          "output_type": "stream",
          "text": [
            "28\n",
            "10\n",
            "11\n",
            "13\n",
            "19\n",
            "23\n",
            "25\n"
          ],
          "name": "stdout"
        }
      ]
    },
    {
      "cell_type": "markdown",
      "metadata": {
        "id": "R-d4H9VB58kP"
      },
      "source": [
        "En primer lugar se tratará de averiguar que variables correspondientes a la calidad de una parte de una vivienda tiene el valor suficientes de excelentes que representan el mejor servicio posible para esa variable. Para ello filtraremos por el valor 'Ex' y procederemos a contar los valores de cada uno por separado."
      ]
    },
    {
      "cell_type": "code",
      "metadata": {
        "colab": {
          "base_uri": "https://localhost:8080/"
        },
        "id": "KygkJjvPbKhW",
        "outputId": "af089017-29ee-49da-a1d7-6aa4acb4fdd9"
      },
      "source": [
        "vivienda_servicios_excel = data_vivienda.filter(lambda x: x[10] in 'Ex')\r\n",
        "vivienda_servicios_excel = vivienda_servicios_excel.map(lambda x: (x[0], x[10], int(x[28])))\r\n",
        "print(vivienda_servicios_excel.take(5))\r\n",
        "print('El número de valores totales es de', format(vivienda_servicios_excel.count()))"
      ],
      "execution_count": 23,
      "outputs": [
        {
          "output_type": "stream",
          "text": [
            "[('16', 'Ex', 538000), ('37', 'Ex', 376162), ('39', 'Ex', 395192), ('45', 'Ex', 611657), ('47', 'Ex', 500000)]\n",
            "El número de valores totales es de 102\n"
          ],
          "name": "stdout"
        }
      ]
    },
    {
      "cell_type": "code",
      "metadata": {
        "colab": {
          "base_uri": "https://localhost:8080/"
        },
        "id": "NwMdt2CduVw_",
        "outputId": "28271404-320d-4bce-e1cd-ea2fbc224238"
      },
      "source": [
        "vivienda_bsm_excel = data_vivienda.filter(lambda x: x[11] in 'Ex')\r\n",
        "vivienda_bsm_excel = vivienda_bsm_excel .map(lambda x: (x[0], x[11], int(x[28])))\r\n",
        "print(vivienda_bsm_excel.take(5))\r\n",
        "print('El número de valores totales es de', format(vivienda_bsm_excel.count()))"
      ],
      "execution_count": 24,
      "outputs": [
        {
          "output_type": "stream",
          "text": [
            "[('1184', 'Ex', 290000), ('1491', 'Ex', 135000), ('2137', 'Ex', 160000)]\n",
            "El número de valores totales es de 3\n"
          ],
          "name": "stdout"
        }
      ]
    },
    {
      "cell_type": "code",
      "metadata": {
        "colab": {
          "base_uri": "https://localhost:8080/"
        },
        "id": "wvfuI3V1ulWo",
        "outputId": "bbe567a7-dd00-4248-e5f0-bbd222e5e64d"
      },
      "source": [
        "vivienda_heating_excel = data_vivienda.filter(lambda x: x[13] in 'Ex')\r\n",
        "vivienda_heating_excel = vivienda_heating_excel.map(lambda x: (x[0], x[13], int(x[28])))\r\n",
        "print(vivienda_heating_excel.take(5))\r\n",
        "print('El número de valores totales es de', format(vivienda_heating_excel.count()))"
      ],
      "execution_count": 25,
      "outputs": [
        {
          "output_type": "stream",
          "text": [
            "[('4', 'Ex', 244000), ('6', 'Ex', 195500), ('7', 'Ex', 213500), ('8', 'Ex', 191500), ('9', 'Ex', 236500)]\n",
            "El número de valores totales es de 1355\n"
          ],
          "name": "stdout"
        }
      ]
    },
    {
      "cell_type": "code",
      "metadata": {
        "colab": {
          "base_uri": "https://localhost:8080/"
        },
        "id": "sOksLhj_ulZa",
        "outputId": "04947787-7842-46b2-c4ae-3fa947084ea8"
      },
      "source": [
        "vivienda_kitchen_excel = data_vivienda.filter(lambda x: x[19] in 'Ex')\r\n",
        "vivienda_kitchen_excel = vivienda_kitchen_excel.map(lambda x: (x[0], x[19], int(x[28])))\r\n",
        "print(vivienda_kitchen_excel.take(5))\r\n",
        "print('El número de valores totales es de', format(vivienda_kitchen_excel.count()))"
      ],
      "execution_count": 83,
      "outputs": [
        {
          "output_type": "stream",
          "text": [
            "[('4', 'Ex', 244000), ('16', 'Ex', 538000), ('18', 'Ex', 394432), ('37', 'Ex', 376162), ('39', 'Ex', 395192)]\n",
            "192\n"
          ],
          "name": "stdout"
        }
      ]
    },
    {
      "cell_type": "code",
      "metadata": {
        "colab": {
          "base_uri": "https://localhost:8080/"
        },
        "id": "2B_ccRDPuldn",
        "outputId": "bce790dc-f65f-410b-95d7-22773083ac8d"
      },
      "source": [
        "garage_sin_nulos = data_vivienda.filter(lambda x: x[23] is not '')\r\n",
        "vivienda_garage_excel = garage_sin_nulos.filter(lambda x: x[23] in 'Ex')\r\n",
        "vivienda_garage_excel = vivienda_garage_excel.map(lambda x: (x[0], x[23], int(x[28])))\r\n",
        "print(vivienda_garage_excel.take(5))\r\n",
        "print('El número de valores totales es de', format(vivienda_garage_excel.count()))"
      ],
      "execution_count": 26,
      "outputs": [
        {
          "output_type": "stream",
          "text": [
            "[('602', 'Ex', 127500), ('1549', 'Ex', 120500), ('2143', 'Ex', 127000)]\n",
            "El número de valores totales es de 3\n"
          ],
          "name": "stdout"
        }
      ]
    },
    {
      "cell_type": "code",
      "metadata": {
        "colab": {
          "base_uri": "https://localhost:8080/"
        },
        "id": "CLAoNgSkulfr",
        "outputId": "940813c2-6440-4c04-f825-67ecc559b15d"
      },
      "source": [
        "vivienda_pool_excel = data_vivienda.filter(lambda x: x[25] in 'Ex')\r\n",
        "vivienda_pool_excel = vivienda_pool_excel.map(lambda x: (x[0], x[25], int(x[28])))\r\n",
        "print(vivienda_pool_excel.take(5))\r\n",
        "print('El número de valores totales es de', format(vivienda_pool_excel.count()))"
      ],
      "execution_count": 27,
      "outputs": [
        {
          "output_type": "stream",
          "text": [
            "[('1064', 'Ex', 615000), ('1761', 'Ex', 745000), ('2231', 'Ex', 315000), ('2571', 'Ex', 235000)]\n",
            "El número de valores totales es de 4\n"
          ],
          "name": "stdout"
        }
      ]
    },
    {
      "cell_type": "markdown",
      "metadata": {
        "id": "9WdsBo1GxjY3"
      },
      "source": [
        "Hay variables que tratan sobre la calidad de servicios en algunas características de la vivienda que no resultan importantes para elegir a las 10 mejores vivendas ya que son muy pocas las viviendas con valor excelente en características como el estado de la piscina, la calidad del garaje y la calidad del sótano. A continuación se tratará de juntar el resto de variables con el índice para evaluar si existen 10 viviendas que contengan excelente en todas las características."
      ]
    },
    {
      "cell_type": "code",
      "metadata": {
        "colab": {
          "base_uri": "https://localhost:8080/"
        },
        "id": "OQat_m1d3kp3",
        "outputId": "fead8093-88aa-420d-951e-57558ac6c0d7"
      },
      "source": [
        "vivienda_precio = data_vivienda.filter(lambda x: x[13] in 'Ex')\r\n",
        "vivienda_precio = vivienda_precio.filter(lambda x: x[19] in 'Ex')\r\n",
        "vivienda_precio = vivienda_precio.filter(lambda x: x[10] in 'Ex')\r\n",
        "vivienda_precio.count()"
      ],
      "execution_count": 106,
      "outputs": [
        {
          "output_type": "execute_result",
          "data": {
            "text/plain": [
              "88"
            ]
          },
          "metadata": {
            "tags": []
          },
          "execution_count": 106
        }
      ]
    },
    {
      "cell_type": "code",
      "metadata": {
        "colab": {
          "base_uri": "https://localhost:8080/"
        },
        "id": "113cS2e94Cj_",
        "outputId": "183a26d3-08b7-44f4-b28c-3d024034eeb3"
      },
      "source": [
        "vivienda_precio_calidad = vivienda_precio.map(lambda x: (x[0], x[13], x[19], x[10], int(x[28])))\r\n",
        "vivienda_precio_calidad.take(5)"
      ],
      "execution_count": 108,
      "outputs": [
        {
          "output_type": "execute_result",
          "data": {
            "text/plain": [
              "[('16', 'Ex', 'Ex', 'Ex', 538000),\n",
              " ('37', 'Ex', 'Ex', 'Ex', 376162),\n",
              " ('39', 'Ex', 'Ex', 'Ex', 395192),\n",
              " ('45', 'Ex', 'Ex', 'Ex', 611657),\n",
              " ('47', 'Ex', 'Ex', 'Ex', 500000)]"
            ]
          },
          "metadata": {
            "tags": []
          },
          "execution_count": 108
        }
      ]
    },
    {
      "cell_type": "code",
      "metadata": {
        "colab": {
          "base_uri": "https://localhost:8080/"
        },
        "id": "iUYKp7C44pnB",
        "outputId": "9a5e84e2-575b-44a3-97ec-e69fa58b0f55"
      },
      "source": [
        "vivienda_precio_calidad.takeOrdered(10, lambda x: x[4])"
      ],
      "execution_count": 110,
      "outputs": [
        {
          "output_type": "execute_result",
          "data": {
            "text/plain": [
              "[('1499', 'Ex', 'Ex', 'Ex', 160000),\n",
              " ('2181', 'Ex', 'Ex', 'Ex', 183850),\n",
              " ('2182', 'Ex', 'Ex', 'Ex', 184750),\n",
              " ('945', 'Ex', 'Ex', 'Ex', 230000),\n",
              " ('460', 'Ex', 'Ex', 'Ex', 248500),\n",
              " ('427', 'Ex', 'Ex', 'Ex', 253293),\n",
              " ('1074', 'Ex', 'Ex', 'Ex', 266000),\n",
              " ('1073', 'Ex', 'Ex', 'Ex', 274000),\n",
              " ('1724', 'Ex', 'Ex', 'Ex', 277500),\n",
              " ('1723', 'Ex', 'Ex', 'Ex', 280000)]"
            ]
          },
          "metadata": {
            "tags": []
          },
          "execution_count": 110
        }
      ]
    },
    {
      "cell_type": "markdown",
      "metadata": {
        "id": "ZpMbotvi4rIR"
      },
      "source": [
        "Las vivendas que tienen un mejor precio según los servicios prestados son las viviendas que se encuentran en los resultados de arriba entendiendo como criterios los sigueintes: la calidad del revestimiento, calidad de la calefacción y la calidad de la cocina. El resto de categorías de calidad no contenían un número suficiente de excelentes."
      ]
    },
    {
      "cell_type": "markdown",
      "metadata": {
        "id": "AcBD9oSjMYpI"
      },
      "source": [
        "### Pista:\n",
        "#### Calcula las variables: \n",
        "- Número de servicios excelentes\n",
        "- Número de servicios buenos\n",
        "...\n",
        "\n",
        "#### Tendréis que tener en cuenta también variables como número de baños Full Bath, cocinas Kitchen AbvGr o dormitorios Bedroom AbvGr. Generando por ejemplo (número de estas variables por encima de media)\n",
        "\n",
        "#### Finalmente precio de venta"
      ]
    }
  ]
}