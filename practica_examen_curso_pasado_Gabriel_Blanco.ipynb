{
 "cells": [
  {
   "cell_type": "markdown",
   "metadata": {},
   "source": [
    "# Práctica examen año pasado: ETL\n",
    "\n",
    "#### Autor: Blanco García, Gabriel\n",
    "#### Colegio Universitario de Estudios Financieros \n",
    "#### Madrid, diciembre de 2020"
   ]
  },
  {
   "cell_type": "markdown",
   "metadata": {},
   "source": [
    "La práctica consiste en trabajar con dos conjuntos de datos de indicadores económicos de deuda y desarrollo de diferentes países, y realizar distintos cálculos."
   ]
  },
  {
   "cell_type": "code",
   "execution_count": 1,
   "metadata": {
    "collapsed": false
   },
   "outputs": [],
   "source": [
    "# Operaciones basicas \n",
    "import matplotlib.pyplot as plt\n",
    "import seaborn as sns\n",
    "import numpy as np\n",
    "import pandas as pd\n",
    "\n",
    "# Expresiones regulares\n",
    "import re\n",
    "\n",
    "# Spark para trabajar en rdd\n",
    "import pyspark\n",
    "from pyspark import SparkContext\n",
    "\n",
    "# Operaciones para el último ejercicio\n",
    "from pyspark.sql import SparkSession\n",
    "from pyspark.sql import *\n",
    "from collections import OrderedDict\n",
    "from scipy import stats\n",
    "\n",
    "sns.set()"
   ]
  },
  {
   "cell_type": "markdown",
   "metadata": {},
   "source": [
    "# 0. Leemos los metadatos"
   ]
  },
  {
   "cell_type": "markdown",
   "metadata": {},
   "source": [
    "Primero, se leen los ficheros con metadatos, con el fin de comprender cada variable. Se puede obtener más información consultando la página web del [Banco Central](https://data.worldbank.org/indicator)\n",
    "\n",
    "##### Fichero expliación var 1920\n",
    "\n",
    "- SP.DYN.CBRT.IN: es la tasa de natalidad por cada 1000 habitantes\n",
    "\n",
    "- SH.DTH.INJR.ZS: porcentaje de muertes cuya causa es una lesión, sobre el total de muertes.\n",
    "\n",
    "- GC.DOD.TOTL.CN: deuda total del gobierno central (LCU = local currency, moneda local)\n",
    "\n",
    "- GC.DOD.TOTL.GD.ZS: deuda del gobierno central en porcentaje sobre el PIB \n",
    "\n",
    "- SH.ALC.PCAP.LI: consumo per cápita de alcohol, en litros, estimaciones para ciudadanos de más de 15 años. Son litros de alchohol puro, no de bebidas con alcohol.\n",
    "\n",
    "- SH.ALC.PCAP.FE.LI: mismo indicador, pero para mujeres\n",
    "\n",
    "- SH.ALC.PCAP.MA.LI: mismo indicador, pero para hombres"
   ]
  },
  {
   "cell_type": "markdown",
   "metadata": {},
   "source": [
    "##### Fichero expliación var deuda 1920\n",
    "\n",
    "- contry_name: nombre del país\n",
    "- country_code: código del país  \n",
    "\n",
    "\n",
    "- DT.DIS.DLXF.CD: desembolsos en deuda externa a largo plazoDisbursements on external debt, long-term (DIS, current USD)\n",
    "- DT.INT.DLXF.CD: pago de intereses de deuda externa a largo plazoInterest payments on external debt, long-term (INT, current USD)  \n",
    "\n",
    "\n",
    "- DT.AMT.BLAT.CD: deuda bilateral, cuantia \n",
    "- DT.DIS.BLAT.CD: deuda bilateal, desembolsos\n",
    "- DT.INT.BLAT.CD: deuda bilateral, intereses   \n",
    "\n",
    "\n",
    "- DT.AMT.MLAT.CD: deuda multilateral, cuantia\n",
    "- DT.DIS.MLAT.CD: deuda multilateral, desembolsos \n",
    "- DT.INT.MLAT.CD: deuda multilateral, intereses  \n",
    "  \n",
    "  \n",
    "- DT.AMT.OFFT.CD: creditos oficiales, cuantia \n",
    "- DT.DIS.OFFT.CD: creditos oficiales, desembolsos \n",
    "- DT.INT.OFFT.CD: creditos oficiales, intereses \n",
    "  \n",
    "  \n",
    "- DT.AMT.DLXF.CD: repagos de principal en deuda externa a largo plazo, cuantía\n",
    "  \n",
    "  \n",
    "- DT.INT.DPNG.CD: pagos de interses en deuda externa, privada no garantizada \n",
    "\n",
    "\n",
    "- DT.AMT.PBND.CD: bonos, cuantia \n",
    "- DT.INT.PBND.CD: bonos, intereses \n",
    "  \n",
    "\n",
    "- DT.AMT.PCBK.CD: deuda bancos comerciales, cuantia \n",
    "- DT.DIS.PCBK.CD: deuda bancos comerciales, desembolsos\n",
    "- DT.INT.PCBK.CD: deuda bancos comerciales, interseses\n",
    "\n",
    "\n",
    "- DT.AMT.PROP.CD: otros creditos privados, cuantia  \n",
    "- DT.DIS.PROP.CD: otros creditos privados, desembolsos\n",
    "- DT.INT.PROP.CD: otros creditos privados, intereses\n",
    "\n",
    "\n",
    "- DT.AMT.PRVT.CD: acredores privados, cuantia \n",
    "- DT.DIS.PRVT.CD: acredores privados, desembolsos \n",
    "- DT.INT.PRVT.CD: acredores privados, intereses\n",
    "\n",
    "\n",
    "- DT.AMT.DPNG.CD: repagos de principal en extterna no gartantizada, cuantia."
   ]
  },
  {
   "cell_type": "markdown",
   "metadata": {},
   "source": [
    "## 1. Creamos el contexto Spark"
   ]
  },
  {
   "cell_type": "markdown",
   "metadata": {},
   "source": [
    "Como se está trabajando desde Docker no hace falta instalar nada. Se crea el contexto Spark de la siguiente manera"
   ]
  },
  {
   "cell_type": "code",
   "execution_count": 2,
   "metadata": {
    "collapsed": false
   },
   "outputs": [],
   "source": [
    "sc = SparkContext()"
   ]
  },
  {
   "cell_type": "code",
   "execution_count": 3,
   "metadata": {
    "collapsed": true
   },
   "outputs": [],
   "source": [
    "conf = sc.getConf()"
   ]
  },
  {
   "cell_type": "code",
   "execution_count": 4,
   "metadata": {
    "collapsed": false
   },
   "outputs": [
    {
     "data": {
      "text/plain": [
       "[('spark.driver.host', '172.17.0.2'),\n",
       " ('spark.rdd.compress', 'True'),\n",
       " ('spark.driver.port', '44081'),\n",
       " ('spark.app.id', 'local-1610618679349'),\n",
       " ('spark.serializer.objectStreamReset', '100'),\n",
       " ('spark.master', 'local[*]'),\n",
       " ('spark.executor.id', 'driver'),\n",
       " ('spark.submit.deployMode', 'client'),\n",
       " ('spark.app.name', 'pyspark-shell')]"
      ]
     },
     "execution_count": 4,
     "metadata": {},
     "output_type": "execute_result"
    }
   ],
   "source": [
    "conf.getAll()"
   ]
  },
  {
   "cell_type": "markdown",
   "metadata": {},
   "source": [
    "## 1 Creamos el rdd con los datos"
   ]
  },
  {
   "cell_type": "markdown",
   "metadata": {},
   "source": [
    "Leemos los dos rdd para ver que aspecto tienen"
   ]
  },
  {
   "cell_type": "code",
   "execution_count": 5,
   "metadata": {
    "collapsed": false
   },
   "outputs": [],
   "source": [
    "rdd_desarrollo = sc.textFile('../work/data/indicadores_desarrollo.csv')\n",
    "rdd_deuda = sc.textFile('../work/data/indicadores_deuda.csv')"
   ]
  },
  {
   "cell_type": "code",
   "execution_count": 6,
   "metadata": {
    "collapsed": false,
    "scrolled": true
   },
   "outputs": [
    {
     "data": {
      "text/plain": [
       "['country_name,country_code,anho,GC.DOD.TOTL.CN,GC.DOD.TOTL.GD.ZS,SP.DYN.CBRT.IN',\n",
       " 'Albania,ALB,2014 [YR2014],1023040800000,73.3202469198429,12.259',\n",
       " 'Albania,ALB,2015 [YR2015],1145500940000,79.8644448747259,12.197']"
      ]
     },
     "execution_count": 6,
     "metadata": {},
     "output_type": "execute_result"
    }
   ],
   "source": [
    "rdd_desarrollo.take(3)"
   ]
  },
  {
   "cell_type": "code",
   "execution_count": 7,
   "metadata": {
    "collapsed": false
   },
   "outputs": [
    {
     "data": {
      "text/plain": [
       "['country_name,country_code,DT.AMT.BLAT.CD,DT.AMT.DLXF.CD,DT.AMT.DPNG.CD,DT.AMT.MLAT.CD,DT.AMT.OFFT.CD,DT.AMT.PBND.CD,DT.AMT.PCBK.CD,DT.AMT.PROP.CD,DT.AMT.PRVT.CD,DT.DIS.BLAT.CD,DT.DIS.DLXF.CD,DT.DIS.MLAT.CD,DT.DIS.OFFT.CD,DT.DIS.PCBK.CD,DT.DIS.PROP.CD,DT.DIS.PRVT.CD,DT.INT.BLAT.CD,DT.INT.DLXF.CD,DT.INT.DPNG.CD,DT.INT.MLAT.CD,DT.INT.OFFT.CD,DT.INT.PBND.CD,DT.INT.PCBK.CD,DT.INT.PROP.CD,DT.INT.PRVT.CD',\n",
       " 'Afghanistan,AFG,61739336.9,100847181.9,,39107845,100847181.9,,,,,49114729.4,72894453.7,23779724.3,72894453.7,,,,39903620.1,53239440.1,,13335820,53239440.1,,,,',\n",
       " 'Albania,ALB,54250280.6,790248675.2,514185620,182197616.7,236447897.3,0,39445139.5,170018.4,39615157.9,76050616.1,317194512.5,234321242.3,310371858.4,4542664.9,2279989.2,6822654.1,13847333.6,165602386.9,87884000,28101536.1,41948869.7,31030688.2,4618504.3,120324.7,35769517.2']"
      ]
     },
     "execution_count": 7,
     "metadata": {},
     "output_type": "execute_result"
    }
   ],
   "source": [
    "rdd_deuda.take(3)"
   ]
  },
  {
   "cell_type": "markdown",
   "metadata": {},
   "source": [
    "Antes de nada, se crean diccionarios, con el nombre de cada variable como key, y el número de la columna como value, para no tener que estar buscando en los datos la posición de cada columna."
   ]
  },
  {
   "cell_type": "code",
   "execution_count": 8,
   "metadata": {
    "collapsed": false
   },
   "outputs": [],
   "source": [
    "# Extraccion de los header\n",
    "header_desarrolo = rdd_desarrollo.take(1)\n",
    "header_deuda = rdd_deuda.take(1)"
   ]
  },
  {
   "cell_type": "code",
   "execution_count": 9,
   "metadata": {
    "collapsed": false
   },
   "outputs": [],
   "source": [
    "# Creacion de listas de strings separadas por coma\n",
    "header_desarrollo_split = ' '.join(header_desarrolo).split(',')\n",
    "header_deuda_split = ' '.join(header_deuda).split(',')"
   ]
  },
  {
   "cell_type": "code",
   "execution_count": 10,
   "metadata": {
    "collapsed": false
   },
   "outputs": [],
   "source": [
    "# Generación de los diccionarios\n",
    "# Para desarollo\n",
    "keys_desarrollo = header_desarrollo_split \n",
    "values_desarrolo = range(len(header_desarrollo_split))\n",
    "\n",
    "for i in values_desarrolo:\n",
    "    diccionario_desarrolo = dict(zip(keys_desarrollo, values_desarrolo))\n",
    "\n",
    "# Para deuda \n",
    "keys_deuda = header_deuda_split\n",
    "values_deuda = range(len(header_deuda_split))\n",
    "\n",
    "for i in values_deuda:\n",
    "    diccionario_deuda = dict(zip(keys_deuda, values_deuda))"
   ]
  },
  {
   "cell_type": "markdown",
   "metadata": {},
   "source": [
    "Como los diccionarios están desordenados, los ordeno, aunque no sería necesario"
   ]
  },
  {
   "cell_type": "code",
   "execution_count": 11,
   "metadata": {
    "collapsed": false
   },
   "outputs": [],
   "source": [
    "diccionario_desarrolo = OrderedDict(sorted(diccionario_desarrolo.items(), key = lambda x: x[1]))\n",
    "diccionario_deuda = OrderedDict(sorted(diccionario_deuda.items(), key = lambda x: x[1]))"
   ]
  },
  {
   "cell_type": "markdown",
   "metadata": {},
   "source": [
    "De este modo, si en un ejercicio aparece una variable, se puede acceder rápido al número de su columna, y no hay que estar buscando constantemente su número de columna en los datos raw con header"
   ]
  },
  {
   "cell_type": "code",
   "execution_count": 12,
   "metadata": {
    "collapsed": false
   },
   "outputs": [
    {
     "data": {
      "text/plain": [
       "12"
      ]
     },
     "execution_count": 12,
     "metadata": {},
     "output_type": "execute_result"
    }
   ],
   "source": [
    "# Si necesito la variable DT.DIS.DLXF.CD, accedo\n",
    "diccionario_deuda['DT.DIS.DLXF.CD']\n",
    "# y así conozco el índice en el que está para usarlo en el lambda del rdd"
   ]
  },
  {
   "cell_type": "markdown",
   "metadata": {},
   "source": [
    "# Parseado\n",
    "\n",
    "Parsear los datos significa transformarlos de tal manera que su formato sea el adecuado para trabajar con ellos. Es necesario parsear ambos archivos"
   ]
  },
  {
   "cell_type": "markdown",
   "metadata": {},
   "source": [
    "### Indicadores de desarrollo"
   ]
  },
  {
   "cell_type": "markdown",
   "metadata": {},
   "source": [
    "Problema con desarrolo: hay países, como Bahamas, cuyo nombre está escrito como nombre compuesto, separado por comas \"Bahamas, The\", y si se hace split por comas, se generarían dos columnas, una con Bahamas y otra con The. Para arreglarlo, se utilizan expresiones regulares.\n",
    "\n",
    "Se define una función, que utiliza `re.sub()` para buscar el patrón deseado y eliminarlo. El patrón se compone de comillas, coma, espacio y palabra. También se aprovecha la función para eliminar la parte de los años que está entre brackets, que no sirve para nada. se elimina con `\\s[.*?\\]`. La función funciona sobre linesa individuales, así que para utilizarla hay que usar map. Al escribir toda la expresión en el mismo re.sub, se recorre la lista una sola vez."
   ]
  },
  {
   "cell_type": "code",
   "execution_count": 13,
   "metadata": {
    "collapsed": true
   },
   "outputs": [],
   "source": [
    "def parseo_comillas_y_brackets(linea):\n",
    "\n",
    "    linea = re.sub(r'[\"]|,(\\s)\\w+|\\s\\[.*?\\]', '', linea) # busca el patrón y lo elimina (sustitye por '')\n",
    "\n",
    "    return linea   "
   ]
  },
  {
   "cell_type": "markdown",
   "metadata": {},
   "source": [
    "La función trabaja sobre lineas individuales, así que para aplicarla a todo el rdd, hay que usar `.map()`"
   ]
  },
  {
   "cell_type": "code",
   "execution_count": 14,
   "metadata": {
    "collapsed": false,
    "scrolled": false
   },
   "outputs": [],
   "source": [
    "rdd_desarrollo_parseado = rdd_desarrollo.map(parseo_comillas_y_brackets) # aplico la funcion"
   ]
  },
  {
   "cell_type": "code",
   "execution_count": 15,
   "metadata": {
    "collapsed": false,
    "scrolled": false
   },
   "outputs": [
    {
     "data": {
      "text/plain": [
       "['country_name,country_code,anho,GC.DOD.TOTL.CN,GC.DOD.TOTL.GD.ZS,SP.DYN.CBRT.IN',\n",
       " 'Albania,ALB,2014,1023040800000,73.3202469198429,12.259',\n",
       " 'Albania,ALB,2015,1145500940000,79.8644448747259,12.197',\n",
       " 'Albania,ALB,2016,1188814490000,80.7355748396923,12.08',\n",
       " 'Australia,AUS,2014,674700000,0.042207528166503,13.2',\n",
       " 'Australia,AUS,2015,762718000,0.0469480198522591,12.9',\n",
       " 'Australia,AUS,2016,907555000,0.054648482520169,12.9',\n",
       " 'Bahamas,BHS,2014,5158420000,47.2672793747079,14.34',\n",
       " 'Bahamas,BHS,2015,5655150000,48.1195170307089,14.224',\n",
       " 'Bahamas,BHS,2016,6138814000,51.4207431481606,14.131']"
      ]
     },
     "execution_count": 15,
     "metadata": {},
     "output_type": "execute_result"
    }
   ],
   "source": [
    "rdd_desarrollo_parseado.take(10) # resultado"
   ]
  },
  {
   "cell_type": "markdown",
   "metadata": {},
   "source": [
    "Problema solucionado. Ya se puede hacer split por comas."
   ]
  },
  {
   "cell_type": "code",
   "execution_count": 18,
   "metadata": {
    "collapsed": false,
    "scrolled": false
   },
   "outputs": [],
   "source": [
    "rdd_desarrollo_parseado_split = rdd_desarrollo_parseado.map(lambda x: x.split(','))"
   ]
  },
  {
   "cell_type": "code",
   "execution_count": 19,
   "metadata": {
    "collapsed": false,
    "scrolled": true
   },
   "outputs": [
    {
     "data": {
      "text/plain": [
       "[['country_name',\n",
       "  'country_code',\n",
       "  'anho',\n",
       "  'GC.DOD.TOTL.CN',\n",
       "  'GC.DOD.TOTL.GD.ZS',\n",
       "  'SP.DYN.CBRT.IN'],\n",
       " ['Albania', 'ALB', '2014', '1023040800000', '73.3202469198429', '12.259'],\n",
       " ['Albania', 'ALB', '2015', '1145500940000', '79.8644448747259', '12.197'],\n",
       " ['Albania', 'ALB', '2016', '1188814490000', '80.7355748396923', '12.08'],\n",
       " ['Australia', 'AUS', '2014', '674700000', '0.042207528166503', '13.2'],\n",
       " ['Australia', 'AUS', '2015', '762718000', '0.0469480198522591', '12.9'],\n",
       " ['Australia', 'AUS', '2016', '907555000', '0.054648482520169', '12.9'],\n",
       " ['Bahamas', 'BHS', '2014', '5158420000', '47.2672793747079', '14.34'],\n",
       " ['Bahamas', 'BHS', '2015', '5655150000', '48.1195170307089', '14.224'],\n",
       " ['Bahamas', 'BHS', '2016', '6138814000', '51.4207431481606', '14.131']]"
      ]
     },
     "execution_count": 19,
     "metadata": {},
     "output_type": "execute_result"
    }
   ],
   "source": [
    "rdd_desarrollo_parseado_split.take(10)"
   ]
  },
  {
   "cell_type": "markdown",
   "metadata": {},
   "source": [
    "Elimino el header"
   ]
  },
  {
   "cell_type": "code",
   "execution_count": 20,
   "metadata": {
    "collapsed": false
   },
   "outputs": [],
   "source": [
    "desarrollo_sin_header = rdd_desarrollo_parseado_split.filter(lambda x: 'country_name' not in x)"
   ]
  },
  {
   "cell_type": "markdown",
   "metadata": {},
   "source": [
    "Se define una función que permita especificar cuando se quiere utilizar el formato entero y cuando el decimal"
   ]
  },
  {
   "cell_type": "code",
   "execution_count": 115,
   "metadata": {
    "collapsed": true
   },
   "outputs": [],
   "source": [
    "def parseo_numeros(numero, formato='decimal'):\n",
    "    if (formato == 'decimal'):\n",
    "        return float(numero)\n",
    "    else:\n",
    "        return int(numero)"
   ]
  },
  {
   "cell_type": "code",
   "execution_count": 116,
   "metadata": {
    "collapsed": false
   },
   "outputs": [],
   "source": [
    "#desarrollo_sin_header = desarrollo_sin_header.map(lambda x: [x[0], \n",
    "#                                                              x[1], \n",
    "#                                                              parseo_numeros(x[2], 'entero'),\n",
    "#                                                              parseo_numeros(x[3], 'entereo'),\n",
    "#                                                              parseo_numeros(x[4]),\n",
    "#                                                              parseo_numeros(x[5])])"
   ]
  },
  {
   "cell_type": "markdown",
   "metadata": {},
   "source": [
    "Por algun motivo, si aplico esa función, luego distinct no funciona con el primer elemnto, así que la dejo sin ejecutar. Pero lo más comodo sería poder parsear todos los números a float/int al principio, y así no tener que preocuparse de ello en cada ejercicio, minimizando los errores."
   ]
  },
  {
   "cell_type": "code",
   "execution_count": 21,
   "metadata": {
    "collapsed": false,
    "scrolled": true
   },
   "outputs": [
    {
     "data": {
      "text/plain": [
       "[['Albania', 'ALB', '2014', '1023040800000', '73.3202469198429', '12.259'],\n",
       " ['Albania', 'ALB', '2015', '1145500940000', '79.8644448747259', '12.197'],\n",
       " ['Albania', 'ALB', '2016', '1188814490000', '80.7355748396923', '12.08']]"
      ]
     },
     "execution_count": 21,
     "metadata": {},
     "output_type": "execute_result"
    }
   ],
   "source": [
    "desarrollo_sin_header.take(3) # Los datos sin header"
   ]
  },
  {
   "cell_type": "markdown",
   "metadata": {},
   "source": [
    "### Indicadores de deuda"
   ]
  },
  {
   "cell_type": "markdown",
   "metadata": {},
   "source": [
    "Se inspecciona con un `.take()`"
   ]
  },
  {
   "cell_type": "code",
   "execution_count": 24,
   "metadata": {
    "collapsed": false,
    "scrolled": false
   },
   "outputs": [
    {
     "data": {
      "text/plain": [
       "['country_name,country_code,DT.AMT.BLAT.CD,DT.AMT.DLXF.CD,DT.AMT.DPNG.CD,DT.AMT.MLAT.CD,DT.AMT.OFFT.CD,DT.AMT.PBND.CD,DT.AMT.PCBK.CD,DT.AMT.PROP.CD,DT.AMT.PRVT.CD,DT.DIS.BLAT.CD,DT.DIS.DLXF.CD,DT.DIS.MLAT.CD,DT.DIS.OFFT.CD,DT.DIS.PCBK.CD,DT.DIS.PROP.CD,DT.DIS.PRVT.CD,DT.INT.BLAT.CD,DT.INT.DLXF.CD,DT.INT.DPNG.CD,DT.INT.MLAT.CD,DT.INT.OFFT.CD,DT.INT.PBND.CD,DT.INT.PCBK.CD,DT.INT.PROP.CD,DT.INT.PRVT.CD',\n",
       " 'Afghanistan,AFG,61739336.9,100847181.9,,39107845,100847181.9,,,,,49114729.4,72894453.7,23779724.3,72894453.7,,,,39903620.1,53239440.1,,13335820,53239440.1,,,,',\n",
       " 'Albania,ALB,54250280.6,790248675.2,514185620,182197616.7,236447897.3,0,39445139.5,170018.4,39615157.9,76050616.1,317194512.5,234321242.3,310371858.4,4542664.9,2279989.2,6822654.1,13847333.6,165602386.9,87884000,28101536.1,41948869.7,31030688.2,4618504.3,120324.7,35769517.2',\n",
       " 'Algeria,DZA,95188724.6,171185188.1,75420000,0,95188724.6,,576463.5,0,576463.5,10320772.2,10320772.2,,10320772.2,,,,7680627.6,19031728.7,3220000,8094779,15775406.6,,13192.3,23129.8,36322.1',\n",
       " 'Angola,AGO,8473824016.3,11067045628.1,,124688691.9,8598512708.2,1e+09,1125088719.9,343444200,2468532919.9,8838256901.1,10924018093.1,178989598.2,9017246499.3,1906771593.8,,1906771593.8,1005053965.1,1798550445.5,,47038476.1,1052092441.2,7e+07,580902004.3,95556000,746458004.3']"
      ]
     },
     "execution_count": 24,
     "metadata": {},
     "output_type": "execute_result"
    }
   ],
   "source": [
    "rdd_deuda.take(5)"
   ]
  },
  {
   "cell_type": "markdown",
   "metadata": {},
   "source": [
    "Aquí hay que encargarse de los nulos, y también hay países con una coma en el nombre. Se define otra función de parseo para que los nullos se cambien por 'null' y sean fácilmente localizables."
   ]
  },
  {
   "cell_type": "code",
   "execution_count": 60,
   "metadata": {
    "collapsed": false
   },
   "outputs": [],
   "source": [
    "def parseo_numeros_con_nulos(linea):\n",
    "    \n",
    "    linea = re.sub(r',,,,,|,,,,|,,,', ',null,', linea)  # cuando encuentra esos patrones, de comas sin letras dentro, los \n",
    "                                                        # cambia por ',null,'.\n",
    "    linea = re.sub(r',,', 'null', linea)\n",
    "\n",
    "    return linea"
   ]
  },
  {
   "cell_type": "code",
   "execution_count": 61,
   "metadata": {
    "collapsed": false,
    "scrolled": false
   },
   "outputs": [],
   "source": [
    "rdd_deuda_parseada_split = rdd_deuda.map(parseo_comillas_y_brackets).\\\n",
    "                                     map(parseo_numeros_con_nulos).\\\n",
    "                                     map(lambda x: x.split(','))"
   ]
  },
  {
   "cell_type": "markdown",
   "metadata": {},
   "source": [
    "Se elimina el header"
   ]
  },
  {
   "cell_type": "code",
   "execution_count": 62,
   "metadata": {
    "collapsed": true
   },
   "outputs": [],
   "source": [
    "deuda_sin_header = rdd_deuda_parseada_split.filter(lambda x: 'country_name' not in x)"
   ]
  },
  {
   "cell_type": "code",
   "execution_count": 63,
   "metadata": {
    "collapsed": false
   },
   "outputs": [
    {
     "data": {
      "text/plain": [
       "[['Afghanistan',\n",
       "  'AFG',\n",
       "  '61739336.9',\n",
       "  '100847181.9null39107845',\n",
       "  '100847181.9',\n",
       "  'null',\n",
       "  '49114729.4',\n",
       "  '72894453.7',\n",
       "  '23779724.3',\n",
       "  '72894453.7',\n",
       "  'null',\n",
       "  '39903620.1',\n",
       "  '53239440.1null13335820',\n",
       "  '53239440.1',\n",
       "  'null',\n",
       "  ''],\n",
       " ['Albania',\n",
       "  'ALB',\n",
       "  '54250280.6',\n",
       "  '790248675.2',\n",
       "  '514185620',\n",
       "  '182197616.7',\n",
       "  '236447897.3',\n",
       "  '0',\n",
       "  '39445139.5',\n",
       "  '170018.4',\n",
       "  '39615157.9',\n",
       "  '76050616.1',\n",
       "  '317194512.5',\n",
       "  '234321242.3',\n",
       "  '310371858.4',\n",
       "  '4542664.9',\n",
       "  '2279989.2',\n",
       "  '6822654.1',\n",
       "  '13847333.6',\n",
       "  '165602386.9',\n",
       "  '87884000',\n",
       "  '28101536.1',\n",
       "  '41948869.7',\n",
       "  '31030688.2',\n",
       "  '4618504.3',\n",
       "  '120324.7',\n",
       "  '35769517.2']]"
      ]
     },
     "execution_count": 63,
     "metadata": {},
     "output_type": "execute_result"
    }
   ],
   "source": [
    "deuda_sin_header.take(2)"
   ]
  },
  {
   "cell_type": "markdown",
   "metadata": {},
   "source": [
    "## 2. Numero de países distintos en cada dataset. Coinciden?"
   ]
  },
  {
   "cell_type": "markdown",
   "metadata": {},
   "source": [
    "Se resuelve utilizando:\n",
    "- `.map` y `lambda` para extraer la columna de interés\n",
    "- `.distinct` para extaer el número de elementos únicos\n",
    "- `.count` para contarlos"
   ]
  },
  {
   "cell_type": "code",
   "execution_count": 124,
   "metadata": {
    "collapsed": false,
    "scrolled": false
   },
   "outputs": [
    {
     "name": "stdout",
     "output_type": "stream",
     "text": [
      "El número de países distintos en el dataset de desarrollo es 51\n",
      "El número de países distintos en el dataset de deuda es 124\n"
     ]
    }
   ],
   "source": [
    "distintos_desarrollo = desarrollo_sin_header.map(lambda x: x[0]).distinct().count()\n",
    "distntos_dedua = deuda_sin_header.map(lambda x: x[0]).distinct().count()\n",
    "\n",
    "print('El número de países distintos en el dataset de desarrollo es', distintos_desarrollo)\n",
    "print('El número de países distintos en el dataset de deuda es', distntos_dedua)"
   ]
  },
  {
   "cell_type": "markdown",
   "metadata": {},
   "source": [
    "El numero de países en cada dataset no coincide"
   ]
  },
  {
   "cell_type": "markdown",
   "metadata": {},
   "source": [
    "## 3. Total de deuda contraida por cada país"
   ]
  },
  {
   "cell_type": "markdown",
   "metadata": {},
   "source": [
    "La columna que interesa es el total de deuda DT.AMT.MLAT.CD, se obtiene su posición con el diccionario"
   ]
  },
  {
   "cell_type": "code",
   "execution_count": 64,
   "metadata": {
    "collapsed": false
   },
   "outputs": [
    {
     "data": {
      "text/plain": [
       "5"
      ]
     },
     "execution_count": 64,
     "metadata": {},
     "output_type": "execute_result"
    }
   ],
   "source": [
    "columna_deuda = diccionario_deuda['DT.AMT.MLAT.CD']\n",
    "columna_deuda"
   ]
  },
  {
   "cell_type": "markdown",
   "metadata": {},
   "source": [
    "Hay que eliminar los nulos con un filter. Elimino de la columna 2 a 18 porque prefiero eliminar todos los nulos de una sola vez, que tener que filtar antes de cada ejercicio"
   ]
  },
  {
   "cell_type": "code",
   "execution_count": 146,
   "metadata": {
    "collapsed": false
   },
   "outputs": [],
   "source": [
    "deuda_sin_nulos = deuda_sin_header.filter(lambda x: 'null' not in x[2:18]).cache() # porque se va a volver a usar"
   ]
  },
  {
   "cell_type": "code",
   "execution_count": 147,
   "metadata": {
    "collapsed": false,
    "scrolled": false
   },
   "outputs": [
    {
     "data": {
      "text/plain": [
       "[['Albania',\n",
       "  'ALB',\n",
       "  '54250280.6',\n",
       "  '790248675.2',\n",
       "  '514185620',\n",
       "  '182197616.7',\n",
       "  '236447897.3',\n",
       "  '0',\n",
       "  '39445139.5',\n",
       "  '170018.4',\n",
       "  '39615157.9',\n",
       "  '76050616.1',\n",
       "  '317194512.5',\n",
       "  '234321242.3',\n",
       "  '310371858.4',\n",
       "  '4542664.9',\n",
       "  '2279989.2',\n",
       "  '6822654.1',\n",
       "  '13847333.6',\n",
       "  '165602386.9',\n",
       "  '87884000',\n",
       "  '28101536.1',\n",
       "  '41948869.7',\n",
       "  '31030688.2',\n",
       "  '4618504.3',\n",
       "  '120324.7',\n",
       "  '35769517.2'],\n",
       " ['Cameroon',\n",
       "  'CMR',\n",
       "  '9999925153.3',\n",
       "  '10404814960.2',\n",
       "  '102376444.4',\n",
       "  '152095968.1',\n",
       "  '10152021121.4',\n",
       "  '0',\n",
       "  '128608183.9',\n",
       "  '21809210.5',\n",
       "  '150417394.4',\n",
       "  '17090544247.5',\n",
       "  '18186662060.4',\n",
       "  '850036788.1',\n",
       "  '17940581035.6',\n",
       "  '196167124.8',\n",
       "  '49913900',\n",
       "  '246081024.8',\n",
       "  '120877158.5',\n",
       "  '280795576.4',\n",
       "  '23235000',\n",
       "  '45124721.8',\n",
       "  '166001880.3',\n",
       "  '65222000',\n",
       "  '20590696.1',\n",
       "  '5746000',\n",
       "  '91558696.1']]"
      ]
     },
     "execution_count": 147,
     "metadata": {},
     "output_type": "execute_result"
    }
   ],
   "source": [
    "deuda_sin_nulos.take(2)"
   ]
  },
  {
   "cell_type": "markdown",
   "metadata": {},
   "source": [
    "Se extraen las columnas de país y deuda."
   ]
  },
  {
   "cell_type": "code",
   "execution_count": 148,
   "metadata": {
    "collapsed": false,
    "scrolled": false
   },
   "outputs": [],
   "source": [
    "total_deuda_pais = deuda_sin_nulos.map(lambda x: (x[0], # nombre de cad país\n",
    "                                                  float(x[columna_deuda]))) # deuda de cada país"
   ]
  },
  {
   "cell_type": "code",
   "execution_count": 149,
   "metadata": {
    "collapsed": false
   },
   "outputs": [
    {
     "data": {
      "text/plain": [
       "[('Albania', 182197616.7),\n",
       " ('Cameroon', 152095968.1),\n",
       " ('Dominican Republic', 254728306.1),\n",
       " ('Ghana', 130202003.1),\n",
       " ('IDA only', 4884095623.3),\n",
       " ('Indonesia', 2469145824.7),\n",
       " ('Lao PDR', 80684114.6),\n",
       " ('Least developed countries: UN classification', 4084275524.2),\n",
       " ('Philippines', 739056427.3),\n",
       " ('Serbia', 715223963.7)]"
      ]
     },
     "execution_count": 149,
     "metadata": {},
     "output_type": "execute_result"
    }
   ],
   "source": [
    "total_deuda_pais.take(10) # resultado"
   ]
  },
  {
   "cell_type": "markdown",
   "metadata": {},
   "source": [
    "## 4. Media de los indicadores de deuda DT.AMT.BLAT.CD, DT.DIS.BLAT.CD, DT.INT.BLAT.CD"
   ]
  },
  {
   "cell_type": "markdown",
   "metadata": {},
   "source": [
    "Se obtienen las posiciones de las columnas"
   ]
  },
  {
   "cell_type": "code",
   "execution_count": 143,
   "metadata": {
    "collapsed": false
   },
   "outputs": [
    {
     "name": "stdout",
     "output_type": "stream",
     "text": [
      "2\n",
      "11\n",
      "18\n"
     ]
    }
   ],
   "source": [
    "deuda_total = diccionario_deuda['DT.AMT.BLAT.CD']\n",
    "deuda_pagos = diccionario_deuda['DT.DIS.BLAT.CD']\n",
    "deuda_intereses = diccionario_deuda['DT.INT.BLAT.CD']\n",
    "\n",
    "print(deuda_total)\n",
    "print(deuda_pagos)\n",
    "print(deuda_intereses)"
   ]
  },
  {
   "cell_type": "markdown",
   "metadata": {},
   "source": [
    "Se define una función para calcular la media. La función utiliza `.aggregate` y realiza dos tareas: suma todos los elementos de la lista, y cuenta el número de elementos. Devuelve una tupla con la suma y la cuenta. Así, la media se calcula dividiendo el primer elemento (la suma) entre el segundo (el total) y la lista solo se recorre una vez para sumar y contar al mismo tiempo. Recordemos la expresióm matemática de la media\n",
    "\n",
    "$$Media\\left(X\\right)=\\frac{\\sum_{i=1}^N{X_{i}}}{N}$$"
   ]
  },
  {
   "cell_type": "code",
   "execution_count": 151,
   "metadata": {
    "collapsed": false
   },
   "outputs": [],
   "source": [
    "def media(indicador_columna, nombre_indicador, datos):\n",
    "    \n",
    "    columna = datos.map(lambda x: float(x[indicador_columna])) # extrae la columna de interes como float\n",
    "    \n",
    "    suma_columna = columna.aggregate( # y hace el agregado\n",
    "    (0,0), # lista vacía como valor inicial\n",
    "        \n",
    "    (lambda acc, value: (acc[0] + value, acc[1] + 1)), # a cada valor, le suma el siguiente. acc[1] + 1 para que empieze en 1\n",
    "                                                       # la cuenta\n",
    "    (lambda acc1, acc2: (acc1[0] + acc2[0], acc1[1] + acc2[1]))\n",
    "\n",
    "    )\n",
    "    \n",
    "    media = round(suma_columna[0] / suma_columna[1], 3)\n",
    "    \n",
    "   \n",
    "    print('La media del indicador', nombre_indicador, 'es:', media)"
   ]
  },
  {
   "cell_type": "code",
   "execution_count": 153,
   "metadata": {
    "collapsed": false,
    "scrolled": false
   },
   "outputs": [
    {
     "name": "stdout",
     "output_type": "stream",
     "text": [
      "La media del indicador total de deuda es: 2970822362.392\n",
      "La media del indicador pagos de deuda es: 5410625976.1\n",
      "La media del indicador intereses de deuda es: 562152096.3\n"
     ]
    }
   ],
   "source": [
    "# Aplico la función\n",
    "media(deuda_total, 'total de deuda', deuda_sin_nulos)\n",
    "media(deuda_pagos, 'pagos de deuda', deuda_sin_nulos)\n",
    "media(deuda_intereses, 'intereses de deuda', deuda_sin_nulos)"
   ]
  },
  {
   "cell_type": "markdown",
   "metadata": {},
   "source": [
    "## 5. Los 20 países con DT.AMT.DLXF.CD más alto"
   ]
  },
  {
   "cell_type": "markdown",
   "metadata": {},
   "source": [
    "Se extrae el código de la columna de repagos de deuda extranjera"
   ]
  },
  {
   "cell_type": "code",
   "execution_count": 155,
   "metadata": {
    "collapsed": false
   },
   "outputs": [],
   "source": [
    "repagos_extranjero =  diccionario_deuda['DT.AMT.DLXF.CD']"
   ]
  },
  {
   "cell_type": "markdown",
   "metadata": {},
   "source": [
    "Se construye un key value, donde la key sea la deuda del país, y el value el nombre, para poder usar `.sortByKey` de manera descendente, y obtener los 20 primeros países"
   ]
  },
  {
   "cell_type": "code",
   "execution_count": 157,
   "metadata": {
    "collapsed": false
   },
   "outputs": [],
   "source": [
    "deuda_paises_key_value = deuda_sin_nulos.map(lambda x: (float(x[repagos_extranjero]), # la columna de la deuda hace de key\n",
    "                                                        \n",
    "                                                        x[0]) # el nombre del país hace de value\n",
    "                                            \n",
    "                                            ).sortByKey(ascending= False).take(20)  # orden descendente, 20 países con más deuda"
   ]
  },
  {
   "cell_type": "code",
   "execution_count": 36,
   "metadata": {
    "collapsed": false
   },
   "outputs": [
    {
     "data": {
      "text/plain": [
       "[(96218620835.7, 'China'),\n",
       " (90041840304.1, 'Brazil'),\n",
       " (66589761833.5, 'Russian Federation'),\n",
       " (51555031005.8, 'Turkey'),\n",
       " (48756295898.2, 'South Asia'),\n",
       " (31923507000.8, 'India'),\n",
       " (30916112653.8, 'Indonesia'),\n",
       " (27482093686.4, 'Kazakhstan'),\n",
       " (25218503927.0, 'Mexico'),\n",
       " (25197029299.4, 'Least developed countries: UN classification'),\n",
       " (20483289208.0, 'IDA only'),\n",
       " (14013783350.4, 'Romania'),\n",
       " (11985674438.7, 'Colombia'),\n",
       " (10404814960.2, 'Cameroon'),\n",
       " (9878659207.2, 'Venezuela'),\n",
       " (9692114176.9, 'Egypt Rep.'),\n",
       " (9506919669.6, 'Lebanon'),\n",
       " (9474257551.9, 'South Africa'),\n",
       " (8873505909.2, 'Vietnam'),\n",
       " (8336013891.3, 'Pakistan')]"
      ]
     },
     "execution_count": 36,
     "metadata": {},
     "output_type": "execute_result"
    }
   ],
   "source": [
    "# Resultado\n",
    "deuda_paises_key_value"
   ]
  },
  {
   "cell_type": "markdown",
   "metadata": {},
   "source": [
    "## 6. Países con los datos informados todos los años"
   ]
  },
  {
   "cell_type": "markdown",
   "metadata": {},
   "source": [
    "Hay que ver cuantos años hay en la tabla. Se utiliza distinct"
   ]
  },
  {
   "cell_type": "code",
   "execution_count": 158,
   "metadata": {
    "collapsed": false
   },
   "outputs": [
    {
     "data": {
      "text/plain": [
       "['2014', '2015', '2017', '2016']"
      ]
     },
     "execution_count": 158,
     "metadata": {},
     "output_type": "execute_result"
    }
   ],
   "source": [
    "desarrollo_sin_header.map(lambda x: x[2]).distinct().collect() # Años 2014, 2015, 2016, 2017"
   ]
  },
  {
   "cell_type": "markdown",
   "metadata": {},
   "source": [
    "Los países que aparezcan menos de cuatro veces no tienen datos todos los años. Sec construye un key:value con el nombre del país y la cuenta de las veces que aparecen sus años"
   ]
  },
  {
   "cell_type": "code",
   "execution_count": 159,
   "metadata": {
    "collapsed": false
   },
   "outputs": [],
   "source": [
    "paises_year_key_value = desarrollo_sin_header.map(lambda x: ((x[0]), x[2])).countByKey()"
   ]
  },
  {
   "cell_type": "markdown",
   "metadata": {},
   "source": [
    "Se un nuevo diccionario solo con aquellos países cuyo value, la cuenta de veces que aparece, sea 4. Se emplea la estructura de list comprehension, pero con diccionario. La estructura es `[f(x)for x in list(x1, x2...xn)]`. Funciona igual con diccionarios"
   ]
  },
  {
   "cell_type": "code",
   "execution_count": 162,
   "metadata": {
    "collapsed": false,
    "scrolled": false
   },
   "outputs": [],
   "source": [
    "paises_completos =  {pais:cuenta_years for (pais, cuenta_years) in paises_year_key_value.items() \n",
    "                                                                if cuenta_years  == 4} # solo si satsiface la condición de \n",
    "                                                                                       # aparecer 4 veces"
   ]
  },
  {
   "cell_type": "code",
   "execution_count": 163,
   "metadata": {
    "collapsed": false,
    "scrolled": true
   },
   "outputs": [
    {
     "data": {
      "text/plain": [
       "{'Malawi': 4}"
      ]
     },
     "execution_count": 163,
     "metadata": {},
     "output_type": "execute_result"
    }
   ],
   "source": [
    "paises_completos"
   ]
  },
  {
   "cell_type": "markdown",
   "metadata": {},
   "source": [
    "El único país con datos para los 4 años es Malawi"
   ]
  },
  {
   "cell_type": "markdown",
   "metadata": {},
   "source": [
    "## 7. Media anual de los distintos indicadores de desarrollo"
   ]
  },
  {
   "cell_type": "markdown",
   "metadata": {},
   "source": [
    "Se obtienen los códigos de las columnas, y se crea un pequeño diccionario con la estructura `{número de columna: nombre del indicador}`"
   ]
  },
  {
   "cell_type": "code",
   "execution_count": 83,
   "metadata": {
    "collapsed": false
   },
   "outputs": [
    {
     "data": {
      "text/plain": [
       "OrderedDict([('country_name', 0),\n",
       "             ('country_code', 1),\n",
       "             ('anho', 2),\n",
       "             ('GC.DOD.TOTL.CN', 3),\n",
       "             ('GC.DOD.TOTL.GD.ZS', 4),\n",
       "             ('SP.DYN.CBRT.IN', 5)])"
      ]
     },
     "execution_count": 83,
     "metadata": {},
     "output_type": "execute_result"
    }
   ],
   "source": [
    "diccionario_desarrolo # todas las variables"
   ]
  },
  {
   "cell_type": "code",
   "execution_count": 178,
   "metadata": {
    "collapsed": false
   },
   "outputs": [],
   "source": [
    "# Diccionario con el nombre de las columnas en función del número, para que quede mejor el print\n",
    "nombre_indicadores = dict({3: 'Deuda central total', \n",
    "                           4: 'Deuda central en porcentaje sobre pib', \n",
    "                           5: 'Tasa de natalidad'})"
   ]
  },
  {
   "cell_type": "markdown",
   "metadata": {},
   "source": [
    "Se define una función para calcular las medias anuales. Es similar a la anterior, pero permite especificar el año para el que se quiere calcular"
   ]
  },
  {
   "cell_type": "code",
   "execution_count": 82,
   "metadata": {
    "collapsed": false
   },
   "outputs": [],
   "source": [
    "def media_anual(numero_indicador, año):\n",
    "    \n",
    "    columna = desarrollo_sin_header.filter(lambda x: año in x).\\\n",
    "                                       map(lambda x: float(x[numero_indicador])) # filtra por el año que se especifique\n",
    "                                                                                 # y extrae la variable\n",
    "        \n",
    "    suma_columna = columna.aggregate( # el resto la función es como la función de la media definida antes\n",
    "    (0,0), # lista vacía como valor inicial\n",
    "    (lambda acc, value: (acc[0] + value, acc[1] + 1)), \n",
    "    (lambda acc1, acc2: (acc1[0] + acc2[0], acc1[1] + acc2[1]))\n",
    ")\n",
    "    \n",
    "    media = round(suma_columna[0] / suma_columna[1], 3)\n",
    "    print('La media para el año', año, 'es:', media)"
   ]
  },
  {
   "cell_type": "markdown",
   "metadata": {},
   "source": [
    "Creo una lista con los distintos años para iterar, y una lista con los indicadores de las columnas"
   ]
  },
  {
   "cell_type": "code",
   "execution_count": 172,
   "metadata": {
    "collapsed": false
   },
   "outputs": [],
   "source": [
    "years = desarrollo_sin_header.map(lambda x: x[2]).distinct().collect()"
   ]
  },
  {
   "cell_type": "code",
   "execution_count": 173,
   "metadata": {
    "collapsed": true
   },
   "outputs": [],
   "source": [
    "numeros_indicadores = [3, 4, 5]"
   ]
  },
  {
   "cell_type": "markdown",
   "metadata": {},
   "source": [
    "Defino un doble foor para calcular la media de cada indicador en cada uno de los años, utilizando la función"
   ]
  },
  {
   "cell_type": "code",
   "execution_count": 244,
   "metadata": {
    "collapsed": false
   },
   "outputs": [
    {
     "name": "stdout",
     "output_type": "stream",
     "text": [
      "Deuda central total\n",
      "La media para el año 2014 es: 103442758732953.23\n",
      "La media para el año 2015 es: 131824403915902.5\n",
      "La media para el año 2017 es: 2239858619962.69\n",
      "La media para el año 2016 es: 158813821548065.94\n",
      "-------------------------------------------------\n",
      "Deuda central en porcentaje sobre pib\n",
      "La media para el año 2014 es: 56.844\n",
      "La media para el año 2015 es: 58.366\n",
      "La media para el año 2017 es: 48.66\n",
      "La media para el año 2016 es: 58.797\n",
      "-------------------------------------------------\n",
      "Tasa de natalidad\n",
      "La media para el año 2014 es: 17.583\n",
      "La media para el año 2015 es: 16.798\n",
      "La media para el año 2017 es: 34.593\n",
      "La media para el año 2016 es: 16.144\n",
      "-------------------------------------------------\n"
     ]
    }
   ],
   "source": [
    "for numero in numeros_indicadores:\n",
    "    print(nombre_indicadores[numero])\n",
    "    \n",
    "    for year in years:\n",
    "        media_anual(numero, year)\n",
    "          \n",
    "    print('-------------------------------------------------')"
   ]
  },
  {
   "cell_type": "markdown",
   "metadata": {},
   "source": [
    "## 8.  Podrías decirme el total de deuda acumulada DT.AMT.MLAT.CD por los 10 países con un valor en media menor de SP.DYN.CBRT.IN"
   ]
  },
  {
   "cell_type": "code",
   "execution_count": 184,
   "metadata": {
    "collapsed": true
   },
   "outputs": [],
   "source": [
    "# Extraigo los indicadores de columnas\n",
    "indicador_natalidad = diccionario_desarrolo['SP.DYN.CBRT.IN']\n",
    "indicador_deuda_acumulada = diccionario_deuda['DT.AMT.MLAT.CD']"
   ]
  },
  {
   "cell_type": "markdown",
   "metadata": {},
   "source": [
    "Calculo la media de la natalidad"
   ]
  },
  {
   "cell_type": "code",
   "execution_count": 185,
   "metadata": {
    "collapsed": false,
    "scrolled": true
   },
   "outputs": [
    {
     "name": "stdout",
     "output_type": "stream",
     "text": [
      "La media del indicador tasa de natalidad es: 17.033\n"
     ]
    }
   ],
   "source": [
    "# Media para los cuatro años de la natalidad \n",
    "media(indicador_natalidad, 'tasa de natalidad', desarrollo_sin_header)"
   ]
  },
  {
   "cell_type": "markdown",
   "metadata": {},
   "source": [
    "Hay que hacer un join de las dos tablas. Se preparan los datos para tener estructura key value con el país y las columnas de interés. Entiendo que son los 10 países con valor de tasa de natalidad inferior a la media, los más cercanos por debajo"
   ]
  },
  {
   "cell_type": "code",
   "execution_count": 230,
   "metadata": {
    "collapsed": false,
    "scrolled": true
   },
   "outputs": [],
   "source": [
    "# Se calcula la suma de la natalidad por país\n",
    "totales = desarrollo_sin_header.map(lambda x: (x[0], float(x[indicador_natalidad]))).\\\n",
    "                                reduceByKey(lambda a, b: a + b) # reduce by key suma los elementos"
   ]
  },
  {
   "cell_type": "code",
   "execution_count": 232,
   "metadata": {
    "collapsed": false
   },
   "outputs": [],
   "source": [
    "# Se cuenta el número de veces que aparece cada país. Hay que poner un 1, para que la cuenta empieze en 1\n",
    "conteo = desarrollo_sin_header.map(lambda x: (x[0], 1)).reduceByKey(lambda a, b: a + b)"
   ]
  },
  {
   "cell_type": "code",
   "execution_count": 235,
   "metadata": {
    "collapsed": false
   },
   "outputs": [],
   "source": [
    "# Se unen los dos rdd\n",
    "union_total_conteo = totales.join(conteo)"
   ]
  },
  {
   "cell_type": "code",
   "execution_count": 246,
   "metadata": {
    "collapsed": false
   },
   "outputs": [],
   "source": [
    "# Se calcula la media, dividiendo la suma entre el conteo\n",
    "media_anual_paises = union_total_conteo.map(lambda x: (x[0], x[1][0] / x[1][1]))"
   ]
  },
  {
   "cell_type": "code",
   "execution_count": 247,
   "metadata": {
    "collapsed": false
   },
   "outputs": [
    {
     "data": {
      "text/plain": [
       "[('Hungary', 9.533333333333333),\n",
       " ('Ukraine', 10.6),\n",
       " ('El Salvador', 18.733999999999998),\n",
       " ('Belize', 22.067),\n",
       " ('Malawi', 35.556),\n",
       " ('United States', 12.366666666666665),\n",
       " ('Kyrgyz Republic', 27.03333333333333),\n",
       " ('Kazakhstan', 22.776666666666667),\n",
       " ('Switzerland', 10.466666666666667),\n",
       " ('Palau', 13.133333333333333)]"
      ]
     },
     "execution_count": 247,
     "metadata": {},
     "output_type": "execute_result"
    }
   ],
   "source": [
    "# Resultado\n",
    "media_anual_paises.take(10)"
   ]
  },
  {
   "cell_type": "markdown",
   "metadata": {},
   "source": [
    "Se crea un key:value con los países y su deuda"
   ]
  },
  {
   "cell_type": "code",
   "execution_count": 245,
   "metadata": {
    "collapsed": false,
    "scrolled": false
   },
   "outputs": [
    {
     "data": {
      "text/plain": [
       "[('Afghanistan', 39107845.0),\n",
       " ('Albania', 182197616.7),\n",
       " ('Algeria', 0.0),\n",
       " ('Angola', 124688691.9),\n",
       " ('Armenia', 94331207.1)]"
      ]
     },
     "execution_count": 245,
     "metadata": {},
     "output_type": "execute_result"
    }
   ],
   "source": [
    "deuda_total = deuda_sin_header.map(lambda x: (x[0], float(x[5])))\n",
    "deuda_total.take(5)"
   ]
  },
  {
   "cell_type": "markdown",
   "metadata": {},
   "source": [
    "Se hace el join de los dos rdd"
   ]
  },
  {
   "cell_type": "code",
   "execution_count": 248,
   "metadata": {
    "collapsed": true
   },
   "outputs": [],
   "source": [
    "deuda_y_natalidad = deuda_total.join(media_anual_paises)"
   ]
  },
  {
   "cell_type": "code",
   "execution_count": 250,
   "metadata": {
    "collapsed": false,
    "scrolled": true
   },
   "outputs": [
    {
     "data": {
      "text/plain": [
       "[('Belize', (29683326.5, 22.067)),\n",
       " ('Ukraine', (1072472830.3, 10.6)),\n",
       " ('Zambia', (53068964.9, 38.2975)),\n",
       " ('Guatemala', (339822253.6, 25.628666666666664)),\n",
       " ('Botswana', (125652344.5, 26.417666666666666))]"
      ]
     },
     "execution_count": 250,
     "metadata": {},
     "output_type": "execute_result"
    }
   ],
   "source": [
    "deuda_y_natalidad.take(5)"
   ]
  },
  {
   "cell_type": "markdown",
   "metadata": {},
   "source": [
    "Se deshace el key value y se hace que la key sea la natalidad, para poder ordernarlo de manera descendente usando `sortByKey()`. El value de esta estructura será otro key:value, con el nombre del país como key y la deuda como value\n",
    "\n",
    "Adicioonalmente, se ordenan los paises en función de la natalidad, de manera descendente y filtramos aquellos que tengan menor natalidad que la media. Usamos take para obtener los 10 países."
   ]
  },
  {
   "cell_type": "code",
   "execution_count": 251,
   "metadata": {
    "collapsed": false,
    "scrolled": false
   },
   "outputs": [
    {
     "data": {
      "text/plain": [
       "[(16.729, ('Sri Lanka', 449771961.1)),\n",
       " (16.717333333333332, ('Turkey', 2932698678.0)),\n",
       " (16.63566666666667, ('Jamaica', 174427648.0)),\n",
       " (15.516, ('Colombia', 1100907553.6)),\n",
       " (15.011, ('St. Vincent and the Grenadines', 21615600.7)),\n",
       " (14.467666666666666, ('Brazil', 2514318741.6)),\n",
       " (14.056, ('Georgia', 144062401.5)),\n",
       " (13.166666666666666, ('Russian Federation', 141669500.0)),\n",
       " (12.502, ('St. Lucia', 15019216.3)),\n",
       " (12.466666666666667, ('Belarus', 595438826.0))]"
      ]
     },
     "execution_count": 251,
     "metadata": {},
     "output_type": "execute_result"
    }
   ],
   "source": [
    "deuda_y_natalidad.map(lambda x: (x[1][1], (x[0], x[1][0]))).\\\n",
    "                                sortByKey(ascending= False).\\\n",
    "                                filter(lambda x: x[0] < 17.033).take(10)"
   ]
  },
  {
   "cell_type": "markdown",
   "metadata": {},
   "source": [
    "## 9. ¿Hay alguna relación entre los nacimientos y el indicador DT.AMT.DLXF.CD? ¿Cómo podrías demostrarlo?"
   ]
  },
  {
   "cell_type": "code",
   "execution_count": 254,
   "metadata": {
    "collapsed": false
   },
   "outputs": [],
   "source": [
    "indicador_deuda_externa = diccionario_deuda['DT.AMT.DLXF.CD']"
   ]
  },
  {
   "cell_type": "markdown",
   "metadata": {},
   "source": [
    "Preparo el rdd de la deuda dlx en forma key value para la unión con natalidad. Utilizo el rdd de antes, que contiene la natalidad media de los 4 años para cada país. En lugar de usar el rdd en el que excluí todos los nulos, filtro ahora los nulos solo para esta columna, porque si no se eliminaban muchos países"
   ]
  },
  {
   "cell_type": "code",
   "execution_count": 274,
   "metadata": {
    "collapsed": false
   },
   "outputs": [],
   "source": [
    "deuda_dlx = deuda_sin_header.filter(lambda x: 'null' not in x[indicador_deuda_externa]).\\\n",
    "                             map(lambda x: (x[0], float(x[indicador_deuda_externa])))"
   ]
  },
  {
   "cell_type": "code",
   "execution_count": 275,
   "metadata": {
    "collapsed": false,
    "scrolled": false
   },
   "outputs": [
    {
     "data": {
      "text/plain": [
       "[('Afghanistan', 100847181.9),\n",
       " ('Albania', 790248675.2),\n",
       " ('Algeria', 171185188.1),\n",
       " ('Angola', 11067045628.1),\n",
       " ('Armenia', 845630723.8),\n",
       " ('Azerbaijan', 1513813661.4),\n",
       " ('Bangladesh', 2077014552.9),\n",
       " ('Belarus', 4640037884.2),\n",
       " ('Belize', 105609924.9),\n",
       " ('Benin', 146321958.3)]"
      ]
     },
     "execution_count": 275,
     "metadata": {},
     "output_type": "execute_result"
    }
   ],
   "source": [
    "deuda_dlx.take(10) # resultado"
   ]
  },
  {
   "cell_type": "markdown",
   "metadata": {},
   "source": [
    "Se puede reutilizar el key:value del ejercicio anterior"
   ]
  },
  {
   "cell_type": "code",
   "execution_count": 276,
   "metadata": {
    "collapsed": false
   },
   "outputs": [
    {
     "data": {
      "text/plain": [
       "[('Hungary', 9.533333333333333),\n",
       " ('Ukraine', 10.6),\n",
       " ('El Salvador', 18.733999999999998),\n",
       " ('Belize', 22.067),\n",
       " ('Malawi', 35.556),\n",
       " ('United States', 12.366666666666665),\n",
       " ('Kyrgyz Republic', 27.03333333333333),\n",
       " ('Kazakhstan', 22.776666666666667),\n",
       " ('Switzerland', 10.466666666666667),\n",
       " ('Palau', 13.133333333333333)]"
      ]
     },
     "execution_count": 276,
     "metadata": {},
     "output_type": "execute_result"
    }
   ],
   "source": [
    "media_anual_paises.take(10) "
   ]
  },
  {
   "cell_type": "markdown",
   "metadata": {},
   "source": [
    "Efectuo el join"
   ]
  },
  {
   "cell_type": "code",
   "execution_count": 277,
   "metadata": {
    "collapsed": true
   },
   "outputs": [],
   "source": [
    "natalidad_y_deuda_dlx = deuda_dlx.join(media_anual_paises)"
   ]
  },
  {
   "cell_type": "code",
   "execution_count": 278,
   "metadata": {
    "collapsed": false
   },
   "outputs": [
    {
     "data": {
      "text/plain": [
       "[('Belize', (105609924.9, 22.067)),\n",
       " ('Ukraine', (8148995625.6, 10.6)),\n",
       " ('Zambia', (1217643471.9, 38.2975)),\n",
       " ('Guatemala', (2911981987.8, 25.628666666666664)),\n",
       " ('Botswana', (137995908.0, 26.417666666666666)),\n",
       " ('Russian Federation', (66589761833.5, 13.166666666666666)),\n",
       " ('Turkey', (51555031005.8, 16.717333333333332)),\n",
       " ('Belarus', (4640037884.2, 12.466666666666667)),\n",
       " ('Jordan', (1990343479.2, 24.305)),\n",
       " ('Georgia', (1552116953.6, 14.056))]"
      ]
     },
     "execution_count": 278,
     "metadata": {},
     "output_type": "execute_result"
    }
   ],
   "source": [
    "natalidad_y_deuda_dlx.take(10)"
   ]
  },
  {
   "cell_type": "markdown",
   "metadata": {},
   "source": [
    "Deshago el key value para trabajar con más comodidad"
   ]
  },
  {
   "cell_type": "code",
   "execution_count": 279,
   "metadata": {
    "collapsed": false
   },
   "outputs": [],
   "source": [
    "natalidad_y_deuda_dlx = natalidad_y_deuda_dlx.map(lambda x: (x[0], x[1][0], x[1][1]))"
   ]
  },
  {
   "cell_type": "code",
   "execution_count": 280,
   "metadata": {
    "collapsed": false,
    "scrolled": false
   },
   "outputs": [
    {
     "data": {
      "text/plain": [
       "[('Belize', 105609924.9, 22.067),\n",
       " ('Ukraine', 8148995625.6, 10.6),\n",
       " ('Zambia', 1217643471.9, 38.2975),\n",
       " ('Guatemala', 2911981987.8, 25.628666666666664),\n",
       " ('Botswana', 137995908.0, 26.417666666666666),\n",
       " ('Russian Federation', 66589761833.5, 13.166666666666666),\n",
       " ('Turkey', 51555031005.8, 16.717333333333332),\n",
       " ('Belarus', 4640037884.2, 12.466666666666667),\n",
       " ('Jordan', 1990343479.2, 24.305),\n",
       " ('Georgia', 1552116953.6, 14.056)]"
      ]
     },
     "execution_count": 280,
     "metadata": {},
     "output_type": "execute_result"
    }
   ],
   "source": [
    "natalidad_y_deuda_dlx.take(10)"
   ]
  },
  {
   "cell_type": "markdown",
   "metadata": {},
   "source": [
    "Paso los datos a dataframe para facilitar los cálculos"
   ]
  },
  {
   "cell_type": "code",
   "execution_count": 281,
   "metadata": {
    "collapsed": false
   },
   "outputs": [],
   "source": [
    "spark = SparkSession.builder.master(\"local[*]\").getOrCreate()"
   ]
  },
  {
   "cell_type": "code",
   "execution_count": 282,
   "metadata": {
    "collapsed": false
   },
   "outputs": [],
   "source": [
    "datos = spark.createDataFrame(natalidad_y_deuda_dlx, \n",
    "                              schema=['pais','deuda', 'natalidad']).toPandas()"
   ]
  },
  {
   "cell_type": "code",
   "execution_count": 283,
   "metadata": {
    "collapsed": false,
    "scrolled": false
   },
   "outputs": [
    {
     "data": {
      "text/html": [
       "<div>\n",
       "<table border=\"1\" class=\"dataframe\">\n",
       "  <thead>\n",
       "    <tr style=\"text-align: right;\">\n",
       "      <th></th>\n",
       "      <th>pais</th>\n",
       "      <th>deuda</th>\n",
       "      <th>natalidad</th>\n",
       "    </tr>\n",
       "  </thead>\n",
       "  <tbody>\n",
       "    <tr>\n",
       "      <th>0</th>\n",
       "      <td>Belize</td>\n",
       "      <td>1.056099e+08</td>\n",
       "      <td>22.067000</td>\n",
       "    </tr>\n",
       "    <tr>\n",
       "      <th>1</th>\n",
       "      <td>Ukraine</td>\n",
       "      <td>8.148996e+09</td>\n",
       "      <td>10.600000</td>\n",
       "    </tr>\n",
       "    <tr>\n",
       "      <th>2</th>\n",
       "      <td>Zambia</td>\n",
       "      <td>1.217643e+09</td>\n",
       "      <td>38.297500</td>\n",
       "    </tr>\n",
       "    <tr>\n",
       "      <th>3</th>\n",
       "      <td>Guatemala</td>\n",
       "      <td>2.911982e+09</td>\n",
       "      <td>25.628667</td>\n",
       "    </tr>\n",
       "    <tr>\n",
       "      <th>4</th>\n",
       "      <td>Botswana</td>\n",
       "      <td>1.379959e+08</td>\n",
       "      <td>26.417667</td>\n",
       "    </tr>\n",
       "  </tbody>\n",
       "</table>\n",
       "</div>"
      ],
      "text/plain": [
       "        pais         deuda  natalidad\n",
       "0     Belize  1.056099e+08  22.067000\n",
       "1    Ukraine  8.148996e+09  10.600000\n",
       "2     Zambia  1.217643e+09  38.297500\n",
       "3  Guatemala  2.911982e+09  25.628667\n",
       "4   Botswana  1.379959e+08  26.417667"
      ]
     },
     "execution_count": 283,
     "metadata": {},
     "output_type": "execute_result"
    }
   ],
   "source": [
    "datos.head()"
   ]
  },
  {
   "cell_type": "markdown",
   "metadata": {},
   "source": [
    "Empezamos haciendo un gráfico de dispersión para explorar la posible relación"
   ]
  },
  {
   "cell_type": "code",
   "execution_count": 339,
   "metadata": {
    "collapsed": false,
    "scrolled": true
   },
   "outputs": [
    {
     "data": {
      "image/png": "[encoded data removed]",
      "text/plain": [
       "<matplotlib.figure.Figure at 0x7fbe252cad30>"
      ]
     },
     "metadata": {},
     "output_type": "display_data"
    }
   ],
   "source": [
    "plt.figure(figsize=(7,3))\n",
    "plt.scatter(x=datos.natalidad, y=datos.deuda)\n",
    "\n",
    "plt.title('Relacion entre la deuda externa y la natalidad')\n",
    "plt.xlabel('Tasa de natalidad')\n",
    "plt.ylabel('Deuda externa');"
   ]
  },
  {
   "cell_type": "markdown",
   "metadata": {},
   "source": [
    "En principio no parece que haya relación. Podemos calcular el coeficiente de correlación de pearson"
   ]
  },
  {
   "cell_type": "code",
   "execution_count": 375,
   "metadata": {
    "collapsed": false,
    "scrolled": true
   },
   "outputs": [
    {
     "data": {
      "text/plain": [
       "(-0.25837657467388314, 0.16802000034671716)"
      ]
     },
     "execution_count": 375,
     "metadata": {},
     "output_type": "execute_result"
    }
   ],
   "source": [
    "stats.pearsonr(datos.deuda, datos.natalidad)"
   ]
  },
  {
   "cell_type": "markdown",
   "metadata": {},
   "source": [
    "El valor indica que prácticamente no hay correlación, y el p valor no permite rechazar la ausencia de correlacion. Sin embargo, el coeficiente de correlación lineal  de Pearson asume normalidad en los datos. Utilizo el test de Shapiro-Wilk para ver si las variables se distribuyen de manera normal. La hipótesis nula de este test es que sí que hay normalidad"
   ]
  },
  {
   "cell_type": "code",
   "execution_count": 373,
   "metadata": {
    "collapsed": false,
    "scrolled": true
   },
   "outputs": [
    {
     "data": {
      "text/plain": [
       "(0.5649515390396118, 2.7980471273281182e-08)"
      ]
     },
     "execution_count": 373,
     "metadata": {},
     "output_type": "execute_result"
    }
   ],
   "source": [
    "normalidad_deuda = stats.shapiro(datos.deuda)\n",
    "normalidad_deuda # se rechaza la normalidad"
   ]
  },
  {
   "cell_type": "code",
   "execution_count": 374,
   "metadata": {
    "collapsed": false
   },
   "outputs": [
    {
     "data": {
      "text/plain": [
       "(0.9237159490585327, 0.03352253511548042)"
      ]
     },
     "execution_count": 374,
     "metadata": {},
     "output_type": "execute_result"
    }
   ],
   "source": [
    "normaidad_natalidad = stats.shapiro(datos.natalidad)\n",
    "normaidad_natalidad # se rechaza la normalidad"
   ]
  },
  {
   "cell_type": "markdown",
   "metadata": {},
   "source": [
    "Para ambas variables, el p valor es lo suficientemente bajo como para rechazar la hipótesis nula de noramlidad de los datos. El coeficiente de pearson no es adecuado. La no normalidad imposibilita también el uso de regresión lineal, que asume dicha normalidad.   \n",
    "\n",
    "Sería más correcto utilizar el coeficiente de correlación de Spearman. Este test plantea como hipótesis nula la __ausencia de correlación__, y no asume que los datos se distribuyen de manera normal, así que es adecuado para este caso."
   ]
  },
  {
   "cell_type": "code",
   "execution_count": 370,
   "metadata": {
    "collapsed": false
   },
   "outputs": [
    {
     "data": {
      "text/plain": [
       "SpearmanrResult(correlation=-0.2649610678531702, pvalue=0.15706185937176095)"
      ]
     },
     "execution_count": 370,
     "metadata": {},
     "output_type": "execute_result"
    }
   ],
   "source": [
    "stats.spearmanr(natalidad, deuda) # no se rechaza la no-correlacion"
   ]
  },
  {
   "cell_type": "markdown",
   "metadata": {},
   "source": [
    "Para el p valor obtenido, no se rechaza la hipótesis nula de no correlación. No es posible rechazar que la deuda __no esté correlacionada__ con la natalidad.\n",
    "\n",
    "En síntesis: los datos de deuda no presentan relación con la tasa de natalidad, al menos en este dataset"
   ]
  }
 ],
 "metadata": {
  "kernelspec": {
   "display_name": "Python 3",
   "language": "python",
   "name": "python3"
  },
  "language_info": {
   "codemirror_mode": {
    "name": "ipython",
    "version": 3
   },
   "file_extension": ".py",
   "mimetype": "text/x-python",
   "name": "python",
   "nbconvert_exporter": "python",
   "pygments_lexer": "ipython3",
   "version": "3.5.2"
  }
 },
 "nbformat": 4,
 "nbformat_minor": 2
}
