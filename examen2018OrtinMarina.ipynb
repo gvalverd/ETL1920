{
 "cells": [
  {
   "cell_type": "markdown",
   "metadata": {},
   "source": [
    "# Examen ETL: SPARK 02/02"
   ]
  },
  {
   "cell_type": "markdown",
   "metadata": {},
   "source": [
    "Se podrá utilizar toda la información que se encuentra en el campus. \n",
    "\n",
    "El fichero de datos sobre el que se trabajará es el de partidosLigaNBA.txt.\n",
    "\n",
    "A cada una de las preguntas hay que responder explicando brevemente que se pretende hacer antes de lanzar el código.\n",
    "\n",
    "Al documento lo llamareís con vuestro nombre y apellido. Debeís enviarlo a mi correo de CUNEF antes del final del examen.\n",
    "\n",
    "El lenguaje para trabajar con Spark podrá ser python o R indistintamente."
   ]
  },
  {
   "cell_type": "code",
   "execution_count": 1,
   "metadata": {
    "collapsed": false
   },
   "outputs": [],
   "source": [
    "from pyspark import SparkContext\n",
    "sc = SparkContext(\"local\", \"First App\")\n",
    "\n",
    "from pyspark import SQLContext\n",
    "sqlContext = SQLContext(sc)\n",
    "\n",
    "\n",
    "from pyspark.sql import *\n",
    "from pyspark.sql.functions import *\n",
    "from pyspark.sql.types import *\n",
    "import datetime as dt\n",
    "from pyspark.sql.functions import udf, array\n",
    "from pyspark.sql.types import StringType\n",
    "from pyspark.sql.functions import lit, when, col\n",
    "from pyspark.sql.functions import col\n",
    "from pyspark.sql.functions import substring\n",
    "from pyspark.sql.types import IntegerType"
   ]
  },
  {
   "cell_type": "code",
   "execution_count": 2,
   "metadata": {
    "collapsed": false
   },
   "outputs": [
    {
     "data": {
      "text/plain": [
       "[135, 581, 198, 399, 905]"
      ]
     },
     "execution_count": 2,
     "metadata": {},
     "output_type": "execute_result"
    }
   ],
   "source": [
    "# Le pido que haga una operación cualquiera para comprobar que efectivamente he inicializado bien Spark.\n",
    "rdd = sc.parallelize(range(1000))\n",
    "rdd.takeSample(False, 5)"
   ]
  },
  {
   "cell_type": "markdown",
   "metadata": {},
   "source": [
    "###### Preparación del dataset"
   ]
  },
  {
   "cell_type": "code",
   "execution_count": 2,
   "metadata": {
    "collapsed": false
   },
   "outputs": [],
   "source": [
    "#importar datos\n",
    "liga=sc.textFile('partidosLigaNBA.csv')"
   ]
  },
  {
   "cell_type": "code",
   "execution_count": 3,
   "metadata": {
    "collapsed": false
   },
   "outputs": [
    {
     "data": {
      "text/plain": [
       "['Date:Start..ET.:Visitor.Neutral:PTS:Home.Neutral:PTS.1',\n",
       " 'Tue, Oct 30, 2007:\"7:30 pm\":Utah Jazz:117:Golden State Warriors:96',\n",
       " 'Tue, Oct 30, 2007:\"7:30 pm\":Houston Rockets:95:Los Angeles Lakers:93']"
      ]
     },
     "execution_count": 3,
     "metadata": {},
     "output_type": "execute_result"
    }
   ],
   "source": [
    "liga.take(3)"
   ]
  },
  {
   "cell_type": "code",
   "execution_count": 4,
   "metadata": {
    "collapsed": false,
    "scrolled": true
   },
   "outputs": [],
   "source": [
    "#eliminación de PTS y play-off. Separación de columnas por ':'\n",
    "\n",
    "liga_split = liga.filter(lambda x: \"PTS\" not in x).filter(lambda x: \"Playoffs\" not in x).map(lambda x: x.split(\":\"))"
   ]
  },
  {
   "cell_type": "code",
   "execution_count": 5,
   "metadata": {
    "collapsed": false
   },
   "outputs": [],
   "source": [
    "df_intermedio = sqlContext.createDataFrame(liga_split)\n",
    "df_intermedio.registerTempTable('interactions')"
   ]
  },
  {
   "cell_type": "code",
   "execution_count": 6,
   "metadata": {
    "collapsed": false
   },
   "outputs": [],
   "source": [
    "#Elimino columnas de hora\n",
    "df2 = df_intermedio.drop('_2')\n",
    "df2 = df2.drop('_3')\n",
    "\n"
   ]
  },
  {
   "cell_type": "code",
   "execution_count": 7,
   "metadata": {
    "collapsed": false
   },
   "outputs": [],
   "source": [
    "df2 = df2.select(col(\"_1\").alias(\"fecha\"), \n",
    "                 col(\"_4\").alias(\"visitante\"),\n",
    "                 col(\"_5\").alias(\"puntosVisitante\"),\n",
    "                 col(\"_6\").alias(\"local\"),\n",
    "                 col(\"_7\").alias(\"puntosLocal\"))\n"
   ]
  },
  {
   "cell_type": "code",
   "execution_count": 8,
   "metadata": {
    "collapsed": false
   },
   "outputs": [],
   "source": [
    "#columna mes\n",
    "\n",
    "df2 = df2.withColumn(\"mes y dia\", expr(\"substring(fecha, 1, length(fecha)-8)\"))\n",
    "\n",
    "split_col = split(df2['mes y dia'], ',')\n",
    "df2 = df2.withColumn('diasemana', split_col.getItem(0))\n",
    "df2 = df2.withColumn('mes', split_col.getItem(1))"
   ]
  },
  {
   "cell_type": "code",
   "execution_count": 9,
   "metadata": {
    "collapsed": false
   },
   "outputs": [
    {
     "name": "stdout",
     "output_type": "stream",
     "text": [
      "+-----------------+--------------------+---------------+--------------------+-----------+---------+---------+-----+\n",
      "|            fecha|           visitante|puntosVisitante|               local|puntosLocal|mes y dia|diasemana|  mes|\n",
      "+-----------------+--------------------+---------------+--------------------+-----------+---------+---------+-----+\n",
      "|Tue, Oct 30, 2007|           Utah Jazz|            117|Golden State Warr...|         96|Tue, Oct |      Tue| Oct |\n",
      "|Tue, Oct 30, 2007|     Houston Rockets|             95|  Los Angeles Lakers|         93|Tue, Oct |      Tue| Oct |\n",
      "|Tue, Oct 30, 2007|Portland Trail Bl...|             97|   San Antonio Spurs|        106|Tue, Oct |      Tue| Oct |\n",
      "|Wed, Oct 31, 2007|    Dallas Mavericks|             92| Cleveland Cavaliers|         74|Wed, Oct |      Wed| Oct |\n",
      "|Wed, Oct 31, 2007| Seattle SuperSonics|            103|      Denver Nuggets|        120|Wed, Oct |      Wed| Oct |\n",
      "|Wed, Oct 31, 2007|  Washington Wizards|            110|      Indiana Pacers|        119|Wed, Oct |      Wed| Oct |\n",
      "|Wed, Oct 31, 2007|   San Antonio Spurs|            104|   Memphis Grizzlies|        101|Wed, Oct |      Wed| Oct |\n",
      "|Wed, Oct 31, 2007|       Chicago Bulls|            103|     New Jersey Nets|        112|Wed, Oct |      Wed| Oct |\n",
      "|Wed, Oct 31, 2007|    Sacramento Kings|             90| New Orleans Hornets|        104|Wed, Oct |      Wed| Oct |\n",
      "|Wed, Oct 31, 2007|     Milwaukee Bucks|             83|       Orlando Magic|        102|Wed, Oct |      Wed| Oct |\n",
      "|Wed, Oct 31, 2007|  Philadelphia 76ers|             97|     Toronto Raptors|        106|Wed, Oct |      Wed| Oct |\n",
      "| Thu, Nov 1, 2007|     Detroit Pistons|             91|          Miami Heat|         80| Thu, Nov|      Thu|  Nov|\n",
      "| Thu, Nov 1, 2007|        Phoenix Suns|            106| Seattle SuperSonics|         99| Thu, Nov|      Thu|  Nov|\n",
      "| Thu, Nov 1, 2007|     Houston Rockets|            106|           Utah Jazz|         95| Thu, Nov|      Thu|  Nov|\n",
      "| Fri, Nov 2, 2007|    Dallas Mavericks|             94|       Atlanta Hawks|        101| Fri, Nov|      Fri|  Nov|\n",
      "| Fri, Nov 2, 2007|  Washington Wizards|             83|      Boston Celtics|        103| Fri, Nov|      Fri|  Nov|\n",
      "| Fri, Nov 2, 2007|     Milwaukee Bucks|             99|   Charlotte Bobcats|        102| Fri, Nov|      Fri|  Nov|\n",
      "| Fri, Nov 2, 2007|  Philadelphia 76ers|             96|       Chicago Bulls|         85| Fri, Nov|      Fri|  Nov|\n",
      "| Fri, Nov 2, 2007|     New York Knicks|            106| Cleveland Cavaliers|        110| Fri, Nov|      Fri|  Nov|\n",
      "| Fri, Nov 2, 2007|          Miami Heat|             85|      Indiana Pacers|         87| Fri, Nov|      Fri|  Nov|\n",
      "+-----------------+--------------------+---------------+--------------------+-----------+---------+---------+-----+\n",
      "only showing top 20 rows\n",
      "\n"
     ]
    }
   ],
   "source": [
    "df2.show()"
   ]
  },
  {
   "cell_type": "code",
   "execution_count": 13,
   "metadata": {
    "collapsed": false,
    "scrolled": true
   },
   "outputs": [],
   "source": [
    "#columna año\n",
    "from pyspark.sql.functions import substring\n",
    "\n",
    "df3 = df2.withColumn(\"año\", substring(col(\"fecha\"), -4, df2.count()))"
   ]
  },
  {
   "cell_type": "code",
   "execution_count": 14,
   "metadata": {
    "collapsed": false
   },
   "outputs": [],
   "source": [
    "#hay espacios en blanco en la columna 'mes'\n",
    "from pyspark.sql.functions import trim\n",
    "df3 = df3.withColumn(\"mes\", trim(df3.mes))"
   ]
  },
  {
   "cell_type": "code",
   "execution_count": 15,
   "metadata": {
    "collapsed": false
   },
   "outputs": [
    {
     "name": "stdout",
     "output_type": "stream",
     "text": [
      "+-----------------+--------------------+---------------+--------------------+-----------+---------+---------+---+----+\n",
      "|            fecha|           visitante|puntosVisitante|               local|puntosLocal|mes y dia|diasemana|mes| año|\n",
      "+-----------------+--------------------+---------------+--------------------+-----------+---------+---------+---+----+\n",
      "|Tue, Oct 30, 2007|           Utah Jazz|            117|Golden State Warr...|         96|Tue, Oct |      Tue|Oct|2007|\n",
      "|Tue, Oct 30, 2007|     Houston Rockets|             95|  Los Angeles Lakers|         93|Tue, Oct |      Tue|Oct|2007|\n",
      "|Tue, Oct 30, 2007|Portland Trail Bl...|             97|   San Antonio Spurs|        106|Tue, Oct |      Tue|Oct|2007|\n",
      "|Wed, Oct 31, 2007|    Dallas Mavericks|             92| Cleveland Cavaliers|         74|Wed, Oct |      Wed|Oct|2007|\n",
      "|Wed, Oct 31, 2007| Seattle SuperSonics|            103|      Denver Nuggets|        120|Wed, Oct |      Wed|Oct|2007|\n",
      "|Wed, Oct 31, 2007|  Washington Wizards|            110|      Indiana Pacers|        119|Wed, Oct |      Wed|Oct|2007|\n",
      "|Wed, Oct 31, 2007|   San Antonio Spurs|            104|   Memphis Grizzlies|        101|Wed, Oct |      Wed|Oct|2007|\n",
      "|Wed, Oct 31, 2007|       Chicago Bulls|            103|     New Jersey Nets|        112|Wed, Oct |      Wed|Oct|2007|\n",
      "|Wed, Oct 31, 2007|    Sacramento Kings|             90| New Orleans Hornets|        104|Wed, Oct |      Wed|Oct|2007|\n",
      "|Wed, Oct 31, 2007|     Milwaukee Bucks|             83|       Orlando Magic|        102|Wed, Oct |      Wed|Oct|2007|\n",
      "|Wed, Oct 31, 2007|  Philadelphia 76ers|             97|     Toronto Raptors|        106|Wed, Oct |      Wed|Oct|2007|\n",
      "| Thu, Nov 1, 2007|     Detroit Pistons|             91|          Miami Heat|         80| Thu, Nov|      Thu|Nov|2007|\n",
      "| Thu, Nov 1, 2007|        Phoenix Suns|            106| Seattle SuperSonics|         99| Thu, Nov|      Thu|Nov|2007|\n",
      "| Thu, Nov 1, 2007|     Houston Rockets|            106|           Utah Jazz|         95| Thu, Nov|      Thu|Nov|2007|\n",
      "| Fri, Nov 2, 2007|    Dallas Mavericks|             94|       Atlanta Hawks|        101| Fri, Nov|      Fri|Nov|2007|\n",
      "| Fri, Nov 2, 2007|  Washington Wizards|             83|      Boston Celtics|        103| Fri, Nov|      Fri|Nov|2007|\n",
      "| Fri, Nov 2, 2007|     Milwaukee Bucks|             99|   Charlotte Bobcats|        102| Fri, Nov|      Fri|Nov|2007|\n",
      "| Fri, Nov 2, 2007|  Philadelphia 76ers|             96|       Chicago Bulls|         85| Fri, Nov|      Fri|Nov|2007|\n",
      "| Fri, Nov 2, 2007|     New York Knicks|            106| Cleveland Cavaliers|        110| Fri, Nov|      Fri|Nov|2007|\n",
      "| Fri, Nov 2, 2007|          Miami Heat|             85|      Indiana Pacers|         87| Fri, Nov|      Fri|Nov|2007|\n",
      "+-----------------+--------------------+---------------+--------------------+-----------+---------+---------+---+----+\n",
      "only showing top 20 rows\n",
      "\n"
     ]
    }
   ],
   "source": [
    "df3.show()"
   ]
  },
  {
   "cell_type": "code",
   "execution_count": 16,
   "metadata": {
    "collapsed": false
   },
   "outputs": [],
   "source": [
    "#cambio el tipo de dato de string a integerpara los puntos y así poder operar \n",
    "from pyspark.sql.types import IntegerType\n",
    "\n",
    "df4 = df3.withColumn(\"puntosLocal\", df2[\"puntosLocal\"].cast(IntegerType()))\n"
   ]
  },
  {
   "cell_type": "code",
   "execution_count": 17,
   "metadata": {
    "collapsed": false
   },
   "outputs": [
    {
     "data": {
      "text/plain": [
       "[('fecha', 'string'),\n",
       " ('visitante', 'string'),\n",
       " ('puntosVisitante', 'string'),\n",
       " ('local', 'string'),\n",
       " ('puntosLocal', 'int'),\n",
       " ('mes y dia', 'string'),\n",
       " ('diasemana', 'string'),\n",
       " ('mes', 'string'),\n",
       " ('año', 'string')]"
      ]
     },
     "execution_count": 17,
     "metadata": {},
     "output_type": "execute_result"
    }
   ],
   "source": [
    "df4.dtypes"
   ]
  },
  {
   "cell_type": "code",
   "execution_count": 18,
   "metadata": {
    "collapsed": true
   },
   "outputs": [],
   "source": [
    "df5 = df4.withColumn('puntosVisitante',df4['puntosVisitante'].cast(IntegerType()))"
   ]
  },
  {
   "cell_type": "code",
   "execution_count": 19,
   "metadata": {
    "collapsed": false
   },
   "outputs": [
    {
     "data": {
      "text/plain": [
       "[('fecha', 'string'),\n",
       " ('visitante', 'string'),\n",
       " ('puntosVisitante', 'int'),\n",
       " ('local', 'string'),\n",
       " ('puntosLocal', 'int'),\n",
       " ('mes y dia', 'string'),\n",
       " ('diasemana', 'string'),\n",
       " ('mes', 'string'),\n",
       " ('año', 'string')]"
      ]
     },
     "execution_count": 19,
     "metadata": {},
     "output_type": "execute_result"
    }
   ],
   "source": [
    "df5.dtypes"
   ]
  },
  {
   "cell_type": "code",
   "execution_count": 20,
   "metadata": {
    "collapsed": false
   },
   "outputs": [
    {
     "name": "stdout",
     "output_type": "stream",
     "text": [
      "+-----------------+--------------------+---------------+--------------------+-----------+---------+---------+---+----+\n",
      "|            fecha|           visitante|puntosVisitante|               local|puntosLocal|mes y dia|diasemana|mes| año|\n",
      "+-----------------+--------------------+---------------+--------------------+-----------+---------+---------+---+----+\n",
      "|Tue, Oct 30, 2007|           Utah Jazz|            117|Golden State Warr...|         96|Tue, Oct |      Tue|Oct|2007|\n",
      "|Tue, Oct 30, 2007|     Houston Rockets|             95|  Los Angeles Lakers|         93|Tue, Oct |      Tue|Oct|2007|\n",
      "|Tue, Oct 30, 2007|Portland Trail Bl...|             97|   San Antonio Spurs|        106|Tue, Oct |      Tue|Oct|2007|\n",
      "|Wed, Oct 31, 2007|    Dallas Mavericks|             92| Cleveland Cavaliers|         74|Wed, Oct |      Wed|Oct|2007|\n",
      "|Wed, Oct 31, 2007| Seattle SuperSonics|            103|      Denver Nuggets|        120|Wed, Oct |      Wed|Oct|2007|\n",
      "|Wed, Oct 31, 2007|  Washington Wizards|            110|      Indiana Pacers|        119|Wed, Oct |      Wed|Oct|2007|\n",
      "|Wed, Oct 31, 2007|   San Antonio Spurs|            104|   Memphis Grizzlies|        101|Wed, Oct |      Wed|Oct|2007|\n",
      "|Wed, Oct 31, 2007|       Chicago Bulls|            103|     New Jersey Nets|        112|Wed, Oct |      Wed|Oct|2007|\n",
      "|Wed, Oct 31, 2007|    Sacramento Kings|             90| New Orleans Hornets|        104|Wed, Oct |      Wed|Oct|2007|\n",
      "|Wed, Oct 31, 2007|     Milwaukee Bucks|             83|       Orlando Magic|        102|Wed, Oct |      Wed|Oct|2007|\n",
      "|Wed, Oct 31, 2007|  Philadelphia 76ers|             97|     Toronto Raptors|        106|Wed, Oct |      Wed|Oct|2007|\n",
      "| Thu, Nov 1, 2007|     Detroit Pistons|             91|          Miami Heat|         80| Thu, Nov|      Thu|Nov|2007|\n",
      "| Thu, Nov 1, 2007|        Phoenix Suns|            106| Seattle SuperSonics|         99| Thu, Nov|      Thu|Nov|2007|\n",
      "| Thu, Nov 1, 2007|     Houston Rockets|            106|           Utah Jazz|         95| Thu, Nov|      Thu|Nov|2007|\n",
      "| Fri, Nov 2, 2007|    Dallas Mavericks|             94|       Atlanta Hawks|        101| Fri, Nov|      Fri|Nov|2007|\n",
      "| Fri, Nov 2, 2007|  Washington Wizards|             83|      Boston Celtics|        103| Fri, Nov|      Fri|Nov|2007|\n",
      "| Fri, Nov 2, 2007|     Milwaukee Bucks|             99|   Charlotte Bobcats|        102| Fri, Nov|      Fri|Nov|2007|\n",
      "| Fri, Nov 2, 2007|  Philadelphia 76ers|             96|       Chicago Bulls|         85| Fri, Nov|      Fri|Nov|2007|\n",
      "| Fri, Nov 2, 2007|     New York Knicks|            106| Cleveland Cavaliers|        110| Fri, Nov|      Fri|Nov|2007|\n",
      "| Fri, Nov 2, 2007|          Miami Heat|             85|      Indiana Pacers|         87| Fri, Nov|      Fri|Nov|2007|\n",
      "+-----------------+--------------------+---------------+--------------------+-----------+---------+---------+---+----+\n",
      "only showing top 20 rows\n",
      "\n"
     ]
    }
   ],
   "source": [
    "df5.show()"
   ]
  },
  {
   "cell_type": "code",
   "execution_count": 21,
   "metadata": {
    "collapsed": false
   },
   "outputs": [],
   "source": [
    "#Creo una columna para determinar quién ganó el partido\n",
    "df6 =df5.withColumn('ganador',when(\n",
    "    (col(\"puntosVisitante\") > col(\"puntosLocal\")), col('visitante')).otherwise(col('local')))\n"
   ]
  },
  {
   "cell_type": "code",
   "execution_count": 30,
   "metadata": {
    "collapsed": false,
    "scrolled": true
   },
   "outputs": [
    {
     "name": "stdout",
     "output_type": "stream",
     "text": [
      "+--------------------+---------------+--------------------+-----------+---------+---------+---+----+-------------------+\n",
      "|           visitante|puntosVisitante|               local|puntosLocal|mes y dia|diasemana|mes| año|            ganador|\n",
      "+--------------------+---------------+--------------------+-----------+---------+---------+---+----+-------------------+\n",
      "|           Utah Jazz|            117|Golden State Warr...|         96|Tue, Oct |      Tue|Oct|2007|          Utah Jazz|\n",
      "|     Houston Rockets|             95|  Los Angeles Lakers|         93|Tue, Oct |      Tue|Oct|2007|    Houston Rockets|\n",
      "|Portland Trail Bl...|             97|   San Antonio Spurs|        106|Tue, Oct |      Tue|Oct|2007|  San Antonio Spurs|\n",
      "|    Dallas Mavericks|             92| Cleveland Cavaliers|         74|Wed, Oct |      Wed|Oct|2007|   Dallas Mavericks|\n",
      "| Seattle SuperSonics|            103|      Denver Nuggets|        120|Wed, Oct |      Wed|Oct|2007|     Denver Nuggets|\n",
      "|  Washington Wizards|            110|      Indiana Pacers|        119|Wed, Oct |      Wed|Oct|2007|     Indiana Pacers|\n",
      "|   San Antonio Spurs|            104|   Memphis Grizzlies|        101|Wed, Oct |      Wed|Oct|2007|  San Antonio Spurs|\n",
      "|       Chicago Bulls|            103|     New Jersey Nets|        112|Wed, Oct |      Wed|Oct|2007|    New Jersey Nets|\n",
      "|    Sacramento Kings|             90| New Orleans Hornets|        104|Wed, Oct |      Wed|Oct|2007|New Orleans Hornets|\n",
      "|     Milwaukee Bucks|             83|       Orlando Magic|        102|Wed, Oct |      Wed|Oct|2007|      Orlando Magic|\n",
      "|  Philadelphia 76ers|             97|     Toronto Raptors|        106|Wed, Oct |      Wed|Oct|2007|    Toronto Raptors|\n",
      "|     Detroit Pistons|             91|          Miami Heat|         80| Thu, Nov|      Thu|Nov|2007|    Detroit Pistons|\n",
      "|        Phoenix Suns|            106| Seattle SuperSonics|         99| Thu, Nov|      Thu|Nov|2007|       Phoenix Suns|\n",
      "|     Houston Rockets|            106|           Utah Jazz|         95| Thu, Nov|      Thu|Nov|2007|    Houston Rockets|\n",
      "|    Dallas Mavericks|             94|       Atlanta Hawks|        101| Fri, Nov|      Fri|Nov|2007|      Atlanta Hawks|\n",
      "|  Washington Wizards|             83|      Boston Celtics|        103| Fri, Nov|      Fri|Nov|2007|     Boston Celtics|\n",
      "|     Milwaukee Bucks|             99|   Charlotte Bobcats|        102| Fri, Nov|      Fri|Nov|2007|  Charlotte Bobcats|\n",
      "|  Philadelphia 76ers|             96|       Chicago Bulls|         85| Fri, Nov|      Fri|Nov|2007| Philadelphia 76ers|\n",
      "|     New York Knicks|            106| Cleveland Cavaliers|        110| Fri, Nov|      Fri|Nov|2007|Cleveland Cavaliers|\n",
      "|          Miami Heat|             85|      Indiana Pacers|         87| Fri, Nov|      Fri|Nov|2007|     Indiana Pacers|\n",
      "+--------------------+---------------+--------------------+-----------+---------+---------+---+----+-------------------+\n",
      "only showing top 20 rows\n",
      "\n"
     ]
    }
   ],
   "source": [
    "df6.drop('mes y dia')\n",
    "df6.drop('fecha').show()"
   ]
  },
  {
   "cell_type": "markdown",
   "metadata": {},
   "source": [
    "## Primera pregunta: Describe brevemente que diferencia el persists, cache y collect en spark. Explica brevemente casos en los que es interesante su aplicación"
   ]
  },
  {
   "cell_type": "markdown",
   "metadata": {
    "collapsed": false
   },
   "source": [
    "fuente: https://unraveldata.com/to-cache-or-not-to-cache/\n",
    "\n",
    "El almacenamiento en caché de RDD en Spark es un mecanismo para acelerar las aplicaciones que acceden al mismo RDD varias veces. Un RDD que no se almacena en caché, ni se registra, se vuelve a evaluar cada vez que se invoca una acción en ese RDD. Hay dos llamadas a funciones para almacenar en caché un RDD: cache () y persist (nivel: StorageLevel). La diferencia entre ellos es que el caché () almacenará en caché el RDD en la memoria, mientras que persist puede almacenar en caché en la memoria, en el disco o en la memoria off-heap de acuerdo con la estrategia de almacenamiento en caché especificada por nivel.\n",
    "Persist () sin argumento es equivalente a caché ().\n",
    "Collect, por otra parte, hace referencia a la agrupación de la información distribuida entre varios worker, tras una operación de transformación que reduzca la información."
   ]
  },
  {
   "cell_type": "markdown",
   "metadata": {},
   "source": [
    "## Segunda pregunta: Explica brevemente los pasos a seguir para realizar la carga de un conjunto de datos (pasos que se siguieron en la práctica con datos de logs)"
   ]
  },
  {
   "cell_type": "markdown",
   "metadata": {},
   "source": [
    "1. Descarga datos de campus virtual.\n",
    "2. Intento realizar la carga del archivo al entorno de Python, pero su gran tamaño (>25 MB) no permite realizar la acción.\n",
    "3. Subo el archivo a la nube (mi Drive personal)\n",
    "4. Importo datos a través de urllib2\n",
    "\n",
    "fuente: https://community.cloudera.com/t5/Support-Questions/How-to-import-a-data-from-URL-through-pyspark/td-p/187772"
   ]
  },
  {
   "cell_type": "markdown",
   "metadata": {},
   "source": [
    "## Tercera Pregunta: Índica un tipo de problema que puede empeorar los datos. (pe. Que no exista un representante del CDO en todas las áreas de negocio), pon algún ejemplo específico (pe. Datos duplicados) y cómo lo tratarías con técnicas de data cleaning."
   ]
  },
  {
   "cell_type": "markdown",
   "metadata": {},
   "source": [
    "Para el tratamiento de datos, es imprescindible que estos tengan una buena calidad. En este sentido, solemos tratar a priori los dataset, en buscar de datos irrelevantes, duplicados, errores de sintaxis, valores ausentes y outliers. Cada uno de estos aspectos tiene un tratamiento diferente, y que en muchos casos, depende del científico de datos que los maneje. Por ejemplo, en el caso de valores ausentes se podría plantear la conveniencia de eliminar los registros con valores ausentes (drop), la imputación de valores a través de funciones creadas al efecto o la consideración de los valores ausentes como una categoría más dentro de un factor (por ejemplo, los usuarios que rellenan formularios pueden no declarar cierta información especialmente sensible por desconfianza o con una intención maliciosa, por lo que esos valores ausentes adquieres especial relevancia y resultan informativos)\n",
    "\n",
    "fuente: https://towardsdatascience.com/the-ultimate-guide-to-data-cleaning-3969843991d4"
   ]
  },
  {
   "cell_type": "markdown",
   "metadata": {},
   "source": [
    "## Cuarta tarea: Inicializar spark context y cargar los datos desde el fichero."
   ]
  },
  {
   "cell_type": "markdown",
   "metadata": {},
   "source": [
    "Nos remitimos al apartado anterior \"Preparación del dataset\", donde realizamos la importación de datos y la limpieza de los mismos."
   ]
  },
  {
   "cell_type": "markdown",
   "metadata": {},
   "source": [
    "## Quinta tarea: Media de la diferencia de puntos por año"
   ]
  },
  {
   "cell_type": "code",
   "execution_count": 31,
   "metadata": {
    "collapsed": false
   },
   "outputs": [
    {
     "name": "stdout",
     "output_type": "stream",
     "text": [
      "+----+-------------------+\n",
      "| año|avg(puntos totales)|\n",
      "+----+-------------------+\n",
      "|2016| 207.56714178544635|\n",
      "|2012| 192.98778833107193|\n",
      "|2017| 212.68244084682442|\n",
      "|2014| 202.14917541229386|\n",
      "|2013|  197.5868580060423|\n",
      "|2009|  200.2758358662614|\n",
      "|2011| 198.06892655367233|\n",
      "|2008| 199.08408408408408|\n",
      "|2007|  197.2017543859649|\n",
      "|2015|  200.5049279757392|\n",
      "|2010|  200.1423164269493|\n",
      "+----+-------------------+\n",
      "\n"
     ]
    }
   ],
   "source": [
    "puntos = df6.select('año','puntosLocal','puntosVisitante')\n",
    "puntostotales = puntos.withColumn('puntos totales',puntos['puntosLocal']+puntos['puntosVisitante'])\n",
    "\n",
    "puntostotales.groupBy(\"año\").agg({\"puntos totales\":\"avg\"}).show()\n"
   ]
  },
  {
   "cell_type": "markdown",
   "metadata": {},
   "source": [
    "## Sexta tarea: ¿Han judado todos los equipos el mismo número de partidos? ¿ Si es qué no a que puede deberse?"
   ]
  },
  {
   "cell_type": "markdown",
   "metadata": {},
   "source": [
    "Como se puede observar a continuación, el número de partidos jugados por los distintos equipos a lo largo de los 10 años estudiados es muy dispar."
   ]
  },
  {
   "cell_type": "code",
   "execution_count": 32,
   "metadata": {
    "collapsed": false
   },
   "outputs": [
    {
     "data": {
      "text/plain": [
       "12897"
      ]
     },
     "execution_count": 32,
     "metadata": {},
     "output_type": "execute_result"
    }
   ],
   "source": [
    "#Total de partidos\n",
    "matches = df6.select('local','visitante')\n",
    "matches.count()"
   ]
  },
  {
   "cell_type": "code",
   "execution_count": 33,
   "metadata": {
    "collapsed": false,
    "scrolled": true
   },
   "outputs": [
    {
     "name": "stdout",
     "output_type": "stream",
     "text": [
      "+--------------------+-----+\n",
      "|               local|count|\n",
      "+--------------------+-----+\n",
      "|        Phoenix Suns|  412|\n",
      "|      Boston Celtics|  467|\n",
      "|    Dallas Mavericks|  431|\n",
      "|New Orleans Pelicans|  166|\n",
      "|       Brooklyn Nets|  217|\n",
      "|     New York Knicks|  412|\n",
      "| New Orleans Hornets|  250|\n",
      "|   Memphis Grizzlies|  433|\n",
      "|Minnesota Timberw...|  402|\n",
      "|  Los Angeles Lakers|  450|\n",
      "|Golden State Warr...|  445|\n",
      "|       Orlando Magic|  431|\n",
      "|   Charlotte Bobcats|  283|\n",
      "|Los Angeles Clippers|  431|\n",
      "|     Detroit Pistons|  415|\n",
      "|       Chicago Bulls|  436|\n",
      "|     Milwaukee Bucks|  413|\n",
      "| Cleveland Cavaliers|  449|\n",
      "|      Indiana Pacers|  434|\n",
      "|  Washington Wizards|  421|\n",
      "+--------------------+-----+\n",
      "only showing top 20 rows\n",
      "\n"
     ]
    }
   ],
   "source": [
    "partidosHome = matches.groupby('local').count().show()\n"
   ]
  },
  {
   "cell_type": "code",
   "execution_count": 191,
   "metadata": {
    "collapsed": false
   },
   "outputs": [
    {
     "name": "stdout",
     "output_type": "stream",
     "text": [
      "+--------------------+-----+\n",
      "|           visitante|count|\n",
      "+--------------------+-----+\n",
      "|        Phoenix Suns|  413|\n",
      "|      Boston Celtics|  463|\n",
      "|    Dallas Mavericks|  436|\n",
      "|New Orleans Pelicans|  166|\n",
      "|       Brooklyn Nets|  218|\n",
      "|     New York Knicks|  413|\n",
      "| New Orleans Hornets|  249|\n",
      "|Minnesota Timberw...|  402|\n",
      "|   Memphis Grizzlies|  434|\n",
      "|  Los Angeles Lakers|  447|\n",
      "|Golden State Warr...|  440|\n",
      "|       Orlando Magic|  432|\n",
      "|   Charlotte Bobcats|  283|\n",
      "|Los Angeles Clippers|  430|\n",
      "|     Detroit Pistons|  414|\n",
      "|       Chicago Bulls|  437|\n",
      "|     Milwaukee Bucks|  414|\n",
      "| Cleveland Cavaliers|  452|\n",
      "|      Indiana Pacers|  434|\n",
      "|  Washington Wizards|  423|\n",
      "+--------------------+-----+\n",
      "only showing top 20 rows\n",
      "\n"
     ]
    }
   ],
   "source": [
    "partidosVisit =matches.groupby('visitante').count().show()"
   ]
  },
  {
   "cell_type": "markdown",
   "metadata": {},
   "source": [
    "## Séptima pregunta: ¿Cuantos partidos ha ganado en Enero Clevelant?"
   ]
  },
  {
   "cell_type": "code",
   "execution_count": 34,
   "metadata": {
    "collapsed": false
   },
   "outputs": [
    {
     "data": {
      "text/plain": [
       "83"
      ]
     },
     "execution_count": 34,
     "metadata": {},
     "output_type": "execute_result"
    }
   ],
   "source": [
    "cleveland = df6.select('ganador', 'mes').filter(df6.ganador == 'Cleveland Cavaliers').filter(df6.mes == 'Jan')\n",
    "cleveland.count()"
   ]
  },
  {
   "cell_type": "markdown",
   "metadata": {},
   "source": [
    "A lo largo de todo el periodo considerdo (10 temporadas) los Cleveland Cavaliers han ganado 83 partidos en los meses de enero"
   ]
  },
  {
   "cell_type": "markdown",
   "metadata": {},
   "source": [
    "## Octava pregunta: ¿Los Warrios son mejores fuera de casa o en casa?"
   ]
  },
  {
   "cell_type": "code",
   "execution_count": 35,
   "metadata": {
    "collapsed": false
   },
   "outputs": [],
   "source": [
    "partidosganados = df6.select('local', 'ganador').filter(df6.ganador == 'Golden State Warriors')\n"
   ]
  },
  {
   "cell_type": "code",
   "execution_count": 36,
   "metadata": {
    "collapsed": false
   },
   "outputs": [
    {
     "data": {
      "text/plain": [
       "523"
      ]
     },
     "execution_count": 36,
     "metadata": {},
     "output_type": "execute_result"
    }
   ],
   "source": [
    "partidosganados.count()"
   ]
  },
  {
   "cell_type": "markdown",
   "metadata": {},
   "source": [
    "Los Warriors han **ganado** 523 partidos en total, de los cuales:"
   ]
  },
  {
   "cell_type": "code",
   "execution_count": 37,
   "metadata": {
    "collapsed": false
   },
   "outputs": [],
   "source": [
    "comoLocal = partidosganados.filter(partidosganados.local =='Golden State Warriors')"
   ]
  },
  {
   "cell_type": "code",
   "execution_count": 38,
   "metadata": {
    "collapsed": false
   },
   "outputs": [
    {
     "data": {
      "text/plain": [
       "308"
      ]
     },
     "execution_count": 38,
     "metadata": {},
     "output_type": "execute_result"
    }
   ],
   "source": [
    "comoLocal.count()"
   ]
  },
  {
   "cell_type": "markdown",
   "metadata": {},
   "source": [
    "Los Warriors han ganadado 308 partidos como local frente a 215 partidos como visitante. Por tanto, los Warriors son mejores como equipo local"
   ]
  },
  {
   "cell_type": "markdown",
   "metadata": {},
   "source": [
    "## Novena pregunta: Equipo que ha quedado primerio en victorias más temporadas. (si es que hay alguno que más)"
   ]
  },
  {
   "cell_type": "code",
   "execution_count": 85,
   "metadata": {
    "collapsed": false
   },
   "outputs": [],
   "source": [
    "partidos = df6.select('ganador','año')"
   ]
  },
  {
   "cell_type": "code",
   "execution_count": 104,
   "metadata": {
    "collapsed": false
   },
   "outputs": [
    {
     "name": "stdout",
     "output_type": "stream",
     "text": [
      "+----+--------------------+----+\n",
      "| año|             ganador|vict|\n",
      "+----+--------------------+----+\n",
      "|2009|       Atlanta Hawks|  51|\n",
      "|2011|      Boston Celtics|  38|\n",
      "|2016|   Charlotte Hornets|  53|\n",
      "|2017|    Sacramento Kings|  18|\n",
      "|2010|       Orlando Magic|  67|\n",
      "|2014|       Orlando Magic|  26|\n",
      "|2012|      Indiana Pacers|  63|\n",
      "|2009|       Orlando Magic|  70|\n",
      "|2012|   Charlotte Bobcats|  14|\n",
      "|2015|     Milwaukee Bucks|  39|\n",
      "|2012|     Detroit Pistons|  35|\n",
      "|2014|      Boston Celtics|  23|\n",
      "|2017| Cleveland Cavaliers|  39|\n",
      "|2010|  Washington Wizards|  24|\n",
      "|2015|      Indiana Pacers|  44|\n",
      "|2009|    Sacramento Kings|  23|\n",
      "|2016|Oklahoma City Thu...|  64|\n",
      "|2010|     New Jersey Nets|  18|\n",
      "|2013|  Philadelphia 76ers|  29|\n",
      "|2015|  Philadelphia 76ers|  17|\n",
      "+----+--------------------+----+\n",
      "only showing top 20 rows\n",
      "\n"
     ]
    }
   ],
   "source": [
    "#Suma de partidos ganados por cada equipo.\n",
    "victorias = partidos.groupby('año','ganador').count()\n",
    "victorias = victorias.select(col('año').alias('año'),col('ganador').alias('ganador'),col('count').alias('vict'))\n",
    "victorias.show()\n"
   ]
  },
  {
   "cell_type": "code",
   "execution_count": 105,
   "metadata": {
    "collapsed": false,
    "scrolled": false
   },
   "outputs": [
    {
     "name": "stdout",
     "output_type": "stream",
     "text": [
      "+----+---------+\n",
      "| año|max(vict)|\n",
      "+----+---------+\n",
      "|2016|       87|\n",
      "|2012|       82|\n",
      "|2017|       54|\n",
      "|2014|       73|\n",
      "|2013|       85|\n",
      "|2009|       81|\n",
      "|2011|       53|\n",
      "|2008|       84|\n",
      "|2007|       26|\n",
      "|2015|       88|\n",
      "|2010|       71|\n",
      "+----+---------+\n",
      "\n"
     ]
    }
   ],
   "source": [
    "#Ganador por temporada\n",
    "victoriasPorAño = victorias.groupby('año').agg({\"vict\":\"max\"}).show()"
   ]
  },
  {
   "cell_type": "code",
   "execution_count": null,
   "metadata": {
    "collapsed": true
   },
   "outputs": [],
   "source": [
    "#Join para asociar las líneas de victoriasPorAño con el nombre del equipo"
   ]
  },
  {
   "cell_type": "code",
   "execution_count": 107,
   "metadata": {
    "collapsed": false
   },
   "outputs": [
    {
     "ename": "TypeError",
     "evalue": "'NoneType' object is not subscriptable",
     "output_type": "error",
     "traceback": [
      "\u001b[0;31m---------------------------------------------------------------------------\u001b[0m",
      "\u001b[0;31mTypeError\u001b[0m                                 Traceback (most recent call last)",
      "\u001b[0;32m<ipython-input-107-fd04a5a41473>\u001b[0m in \u001b[0;36m<module>\u001b[0;34m()\u001b[0m\n\u001b[1;32m      1\u001b[0m victorias.join(victoriasPorAño,\n\u001b[0;32m----> 2\u001b[0;31m                on=victoriasPorAño['max(vict)'],how='leftsemi').show()\n\u001b[0m",
      "\u001b[0;31mTypeError\u001b[0m: 'NoneType' object is not subscriptable"
     ]
    }
   ],
   "source": [
    "victorias.join(victoriasPorAño,\n",
    "               on=victoriasPorAño['max(vict)'],how='leftsemi').show()"
   ]
  },
  {
   "cell_type": "markdown",
   "metadata": {},
   "source": [
    "Los Warriors son los que más temporadas han ganado en los 10 años estudiados (2015,2016 y 2017)"
   ]
  },
  {
   "cell_type": "markdown",
   "metadata": {},
   "source": [
    "##  Décima pregunta: Escribe la expresión regular correcta que sólo macheen los teléfonos y el correo del siguiente texto."
   ]
  },
  {
   "cell_type": "code",
   "execution_count": 110,
   "metadata": {
    "collapsed": true
   },
   "outputs": [],
   "source": [
    "'Si eres cliente y necesitas información sobre tus posiciones, productos o realizar operaciones: Desde España. Desde el extranjero. Banca telefónica en castellano. Bandera castellano. 902 13 23 13. Banca telefónica en catalán. Bandera catalana. 902 88 30 08. Banca telefónica en inglés. Bandera inglesa. 902 88 88 35. O por correo electrónico a atencioncliente@bankinter.com'"
   ]
  },
  {
   "cell_type": "code",
   "execution_count": null,
   "metadata": {
    "collapsed": true
   },
   "outputs": [],
   "source": []
  }
 ],
 "metadata": {
  "kernelspec": {
   "display_name": "Python 3",
   "language": "python",
   "name": "python3"
  },
  "language_info": {
   "codemirror_mode": {
    "name": "ipython",
    "version": 3
   },
   "file_extension": ".py",
   "mimetype": "text/x-python",
   "name": "python",
   "nbconvert_exporter": "python",
   "pygments_lexer": "ipython3",
   "version": "3.5.2"
  }
 },
 "nbformat": 4,
 "nbformat_minor": 2
}
