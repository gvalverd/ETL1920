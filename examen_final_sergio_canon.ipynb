{
  "nbformat": 4,
  "nbformat_minor": 0,
  "metadata": {
    "kernelspec": {
      "display_name": "Python 3",
      "language": "python",
      "name": "python3"
    },
    "language_info": {
      "codemirror_mode": {
        "name": "ipython",
        "version": 3
      },
      "file_extension": ".py",
      "mimetype": "text/x-python",
      "name": "python",
      "nbconvert_exporter": "python",
      "pygments_lexer": "ipython3",
      "version": "3.7.4"
    },
    "toc": {
      "base_numbering": 1,
      "nav_menu": {},
      "number_sections": true,
      "sideBar": true,
      "skip_h1_title": false,
      "title_cell": "Table of Contents",
      "title_sidebar": "Contents",
      "toc_cell": false,
      "toc_position": {},
      "toc_section_display": true,
      "toc_window_display": true
    },
    "colab": {
      "name": "sergio_canon_no_complementarias.ipynb",
      "provenance": [],
      "collapsed_sections": []
    }
  },
  "cells": [
    {
      "cell_type": "code",
      "metadata": {
        "id": "No1CrhKmhudT"
      },
      "source": [
        ""
      ],
      "execution_count": null,
      "outputs": []
    },
    {
      "cell_type": "markdown",
      "metadata": {
        "id": "ztyQausEhu_j"
      },
      "source": [
        "# AUTOR : SERGIO CAÑON"
      ]
    },
    {
      "cell_type": "markdown",
      "metadata": {
        "id": "9b33VU2ecGoE"
      },
      "source": [
        "## TAREA FINAL: Datos de vivienda\n",
        "\n",
        "<p> El negocio inmobiliario es uno de los motores de la economía de España, el carácter turístico de nuesta península hace que sean muchos los inversores extranjeros que se decidan por buscar una inversión de bajo riesgos en nuestras ciudades costeras o grandes urbes. \n",
        "Muchas de estas inversiones se hacen sobre grandes bolsas de inmuebles que deben ser analizados previamente para comprobar la rentabilidad del porfolio </p>\n",
        "\n",
        "<!-- <p> En este caso vamos a trabajar con una tabla que contienen información de distintos inmuebles repartidos por una zona específica, sus carácterísticas y su precio </p>  -->"
      ]
    },
    {
      "cell_type": "code",
      "metadata": {
        "id": "n0F_SdtUhtLq"
      },
      "source": [
        ""
      ],
      "execution_count": null,
      "outputs": []
    },
    {
      "cell_type": "markdown",
      "metadata": {
        "id": "Z7kt1YQwhtby"
      },
      "source": [
        ""
      ]
    },
    {
      "cell_type": "markdown",
      "metadata": {
        "id": "dln8CMgFcGoP"
      },
      "source": [
        "Todas las cuestiones se deben realizar sobre el conjunto de casos que representen viviendas ubicadas en zonas residenciales **(alta, media y baja densidad)**"
      ]
    },
    {
      "cell_type": "markdown",
      "metadata": {
        "id": "WAPIMNGecGoR"
      },
      "source": [
        "Las variables de las que se compone el dataset son:"
      ]
    },
    {
      "cell_type": "markdown",
      "metadata": {
        "id": "1pDpTeGzcGoS"
      },
      "source": [
        "|NOMBRE VARIABLE|DESCRIPTOR|VALORES|\n",
        "| --- | --- | --- |\n",
        "|Order|Variable de identificación|1 a 2930|\n",
        "|MS Zoning|Zona de ubicación de la vivienda|\"A rural, C comercial, FV residencial flotante, I industrial, RH residencial alta densidad, RL residencial baja densidad, RM residencial media densidad\"|\n",
        "|Lot Frontage|Longitud de la fachada en pies||\n",
        "|Lot Area|Superficie de la vivienda en pies cuadrados||\n",
        "|Land Contour|Contorno del terreno circundante|\"Lvl llano, Bnk Tipo bancal, HLS Ladera, Low Depresión\"|\n",
        "|Land Slope|Tipo de pendiente de la vivienda|\" Gtl pendiente suave, Mod pendiente moderada, Sev fuerte pendiente\"|\n",
        "|Overall Qual|Grado de calidad de materiales y acabado de la vivienda|De 1 (Muy pobre) a 10 (Excelente)|\n",
        "|Year Built|Año de construccion de la vivienda||\n",
        "|Year Remod/Add|Año de última reforma de la vivienda||\n",
        "|Mas Vnr Type|Tipo de revestimiento exterior|\" BrkCmn Ladrillo normal, BrkFace Ladrillo visto, CBlock Bloque de cemento, None Ninguna, Stone Piedra \"|\n",
        "|Exter Qual|Calidad de revestimiento exterior|\"Ex Excelente,Gd Bueno,TA Media,Fa Justo\"|\n",
        "|Bsmt Cond|Estado general del sótano|\"Ex Excelente, Gd Bueno, TA Media, Fa Justo, Po Pobre,Ss sin sótano\"|\n",
        "|Total Bsmt SF|Superficie del sótano en pies cuadrados|\n",
        "|Heating QC|Calidad de la calefacción|\"Ex Excelente,Gd Bueno,TA Media,Fa Justo,Po Pobre\"|\n",
        "|Central Air|Aire acondicionado centralizado|\"N No Y Sí\"|\n",
        "|Full Bath|Número de baños completo en planta||\n",
        "|Half Bath|Número de aseos en planta||\n",
        "|Bedroom AbvGr|Número de dormitorios en planta||\n",
        "|Kitchen AbvGr|Número de cocinas en planta||\n",
        "|Kitchen Qual|Calidad de cocinas|\"Ex Excelente,Gd Bueno,TA Media,Fa Justo,Po Pobre\"|\n",
        "|TotRms AbvGrd|Número total de habitaciones excluidos los cuartos de baño||\n",
        "|Garage Cars|Número de plazas de garaje||\n",
        "|Garage Area|Superficie del garaje|||\n",
        "|Garage Cond|Estado del garaje|\"Ex Excelente,Gd Bueno,TA Media,Fa Justo,Po Pobre,Sg sin garaje\"|\n",
        "|Pool Area|Superficie de la piscina en pies cuadrados|\n",
        "|Pool QC|Calidad de la piscina|\"Ex Excelente,Gd Bueno,TA Media,Fa Justo,Sp no hay piscina\"|\n",
        "|Mo Sold|mes de venta||\n",
        "|Yr Sold|año de venta||\n",
        "|SalePrice|precio de venta en dólares||"
      ]
    },
    {
      "cell_type": "markdown",
      "metadata": {
        "id": "69l1oy1WRuto"
      },
      "source": [
        " ## INTENTO IMPORTACIÓN EXCEL A SPARK"
      ]
    },
    {
      "cell_type": "markdown",
      "metadata": {
        "id": "MBxzeXY3SAG0"
      },
      "source": [
        "Primero he instalado Scala que es el lenguaje en el que originalmente fue diseñado Spark"
      ]
    },
    {
      "cell_type": "code",
      "metadata": {
        "id": "n9RMiKdYR2zi"
      },
      "source": [
        "%%shell\r\n",
        "SCALA_VERSION=2.12.8 ALMOND_VERSION=0.3.0+16-548dc10f-SNAPSHOT\r\n",
        "curl -Lo coursier https://git.io/coursier-cli\r\n",
        "chmod +x coursier\r\n",
        "./coursier bootstrap \\\r\n",
        "    -r jitpack -r sonatype:snapshots \\\r\n",
        "    -i user -I user:sh.almond:scala-kernel-api_$SCALA_VERSION:$ALMOND_VERSION \\\r\n",
        "    sh.almond:scala-kernel_$SCALA_VERSION:$ALMOND_VERSION \\\r\n",
        "    --sources --default=true \\\r\n",
        "    -o almond-snapshot --embed-files=false\r\n",
        "rm coursier\r\n",
        "./almond-snapshot --install --global --force\r\n",
        "rm almond-snapshot"
      ],
      "execution_count": null,
      "outputs": []
    },
    {
      "cell_type": "markdown",
      "metadata": {
        "id": "xxDmIhoVSMHD"
      },
      "source": [
        "Configuro el Shell y recargo Colab para que funcione Scala"
      ]
    },
    {
      "cell_type": "code",
      "metadata": {
        "id": "TZN-NIozSLdk"
      },
      "source": [
        "%%shell\r\n",
        "echo \"{\r\n",
        "  \\\"language\\\" : \\\"scala\\\",\r\n",
        "  \\\"display_name\\\" : \\\"Scala\\\",\r\n",
        "  \\\"argv\\\" : [\r\n",
        "    \\\"bash\\\",\r\n",
        "    \\\"-c\\\",\r\n",
        "    \\\"env LD_PRELOAD=/usr/lib/x86_64-linux-gnu/libpython3.6m.so:\\$LD_PRELOAD java -jar /usr/local/share/jupyter/kernels/scala/launcher.jar --connection-file {connection_file}\\\"\r\n",
        "  ]\r\n",
        "}\" > /usr/local/share/jupyter/kernels/scala/kernel.json"
      ],
      "execution_count": null,
      "outputs": []
    },
    {
      "cell_type": "markdown",
      "metadata": {
        "id": "zx8u7dAkSeYq"
      },
      "source": [
        "A continuación descargo e instalo com.crealytics que es lo equivalente a una librería en Spark para leer fichero excel"
      ]
    },
    {
      "cell_type": "code",
      "metadata": {
        "id": "iHooNQxGR3Am"
      },
      "source": [
        "import $ivy.`com.crealytics:spark-excel_2.12:0.13.1`\r\n"
      ],
      "execution_count": null,
      "outputs": []
    },
    {
      "cell_type": "markdown",
      "metadata": {
        "id": "7PxkFu-gSxUp"
      },
      "source": [
        "La siguiente parte no llegué ha conseguir hacerlo puestp qeu deduzco qeu me faltaba crear un contexto Saprk con Scala. Aún asi, para la versión instalada de Scala (2.12.8) habría qeu ejecutar lo siguiente:"
      ]
    },
    {
      "cell_type": "code",
      "metadata": {
        "id": "xqz_fnbISrlk"
      },
      "source": [
        "import org.apache.spark.sql._\r\n",
        "\r\n",
        "val spark: SparkSession = ???\r\n",
        "val df = spark.read\r\n",
        "    .format(\"com.crealytics.spark.excel\")\r\n",
        "    .option(\"dataAddress\", \"'My Sheet'!B3:C35\") // Optional, default: \"A1\"\r\n",
        "    .option(\"header\", \"true\") // Required\r\n",
        "    .load(\"BDpracticafinalCSV.xlsx\")"
      ],
      "execution_count": null,
      "outputs": []
    },
    {
      "cell_type": "markdown",
      "metadata": {
        "id": "J4j-Ota4cGoU"
      },
      "source": [
        "## Inicializar y cargar el contexto pyspark\r\n",
        "\r\n",
        "Instalamos Spark 3.0.1"
      ]
    },
    {
      "cell_type": "code",
      "metadata": {
        "id": "TSnjpjqGcwJd"
      },
      "source": [
        "!apt-get install openjdk-8-jdk-headless -qq > /dev/null\r\n",
        "!wget -q https://downloads.apache.org/spark/spark-3.0.1/spark-3.0.1-bin-hadoop3.2.tgz\r\n",
        "!tar xf spark-3.0.1-bin-hadoop3.2.tgz\r\n",
        "!pip install -q findspark\r\n",
        "\r\n",
        "import os\r\n",
        "os.environ[\"JAVA_HOME\"] = \"/usr/lib/jvm/java-8-openjdk-amd64\"\r\n",
        "os.environ[\"SPARK_HOME\"] = \"/content/spark-3.0.1-bin-hadoop3.2\"\r\n",
        "\r\n",
        "import findspark\r\n",
        "findspark.init()\r\n",
        "# en primer lugar inicio el contexto de Spark\r\n",
        "from pyspark import SparkContext\r\n",
        "sc = SparkContext.getOrCreate()\r\n",
        "\r\n",
        "# SPAR SQL\r\n",
        "from pyspark.sql import *\r\n",
        "spark = SparkSession.builder.master(\"local[*]\").getOrCreate()\r\n",
        "from pyspark.sql.functions import *\r\n",
        "from pyspark.sql import Row\r\n",
        "from pyspark.sql.types import FloatType\r\n"
      ],
      "execution_count": null,
      "outputs": []
    },
    {
      "cell_type": "markdown",
      "metadata": {
        "id": "d3LthCNEU1vd"
      },
      "source": [
        " \r\n",
        "\r\n",
        "*   Importo el fichero \r\n",
        "*   Extraigo el el nombre de cada columna y el nombre RDD para filtrar y limpiar los RD sin el nombre de las columnas .\r\n",
        "*    Hago un paseo y vuelvo a filtrar por RM RL RH añadiendo la función Upper() para limpiar los nombres mal escritos\r\n",
        "\r\n",
        "\r\n",
        " "
      ]
    },
    {
      "cell_type": "code",
      "metadata": {
        "id": "Mld3lrtAc553"
      },
      "source": [
        "# IMPORTACIÓN, FILTRADO Y LIMPIEZA\r\n",
        "\r\n",
        "vivienda_RDD = sc.textFile(\"BDpracticafinalCSV.csv\")\r\n",
        "vivienda_RDD_top = vivienda_RDD.take(1)[0]\r\n",
        "vivienda_RDD = vivienda_RDD.filter(lambda x: x != vivienda_RDD_top)\r\n",
        "vivienda_RDD = vivienda_RDD.map(lambda x: x.split(\";\"))\r\n",
        "vivienda_RDD = vivienda_RDD.filter(lambda x: x[1].upper() in [\"RM\",\"RL\",\"RH\"]).map(tuple)"
      ],
      "execution_count": null,
      "outputs": []
    },
    {
      "cell_type": "code",
      "metadata": {
        "colab": {
          "base_uri": "https://localhost:8080/"
        },
        "id": "xQn2B_iT3D61",
        "outputId": "7a654f98-c6f5-4486-8817-5315c4579af9"
      },
      "source": [
        "print(\"NUMERO DE VALORES\", vivienda_RDD.count())\r\n",
        "print(\"ASPECTO RDD\", vivienda_RDD.first())"
      ],
      "execution_count": null,
      "outputs": [
        {
          "output_type": "stream",
          "text": [
            "NUMERO DE VALORES 2768\n",
            "ASPECTO RDD ('1', 'RL', '141', '31770', 'Lvl', 'Gtl', '6', '1960', '1960', 'Stone', 'TA', 'Gd', '1080', 'Fa', 'Y', '1', '0', '3', '1', 'TA', '7', '2', '528', 'TA', '0', 'Sp', '5', '2010', '215000')\n"
          ],
          "name": "stdout"
        }
      ]
    },
    {
      "cell_type": "markdown",
      "metadata": {
        "id": "GW2dmWDccGoU"
      },
      "source": [
        "## Cuántas viviendas distintas encontramos en el dataset? ¿Se repite alguna? Tiene sentido que haya duplicadas? ¿Qué podemos hacer con las duplicadas?"
      ]
    },
    {
      "cell_type": "markdown",
      "metadata": {
        "id": "3fveD-FkYQwp"
      },
      "source": [
        "\r\n",
        "*   Selecciono la fila de Order y añado un 1, para hacer un reduceByKey y saber cuantos Order repetidos hay\r\n",
        "*   Filtro los que haya más de 1 y los localizo en Order\r\n",
        "*   Importo el dataset con el df para usar dropDuplicates. Uso \"subset\" para eliminar estrictamente los duplicados de Order\r\n",
        "*   Convierto el nuevo df en RDD\r\n",
        "*   Compruebo con count() que hay menos valores"
      ]
    },
    {
      "cell_type": "code",
      "metadata": {
        "colab": {
          "base_uri": "https://localhost:8080/"
        },
        "id": "1EBFsUCSlpdV",
        "outputId": "cb4c5174-31c1-486a-998d-d0f02db4b110"
      },
      "source": [
        "viviendas_diferentes = vivienda_RDD.map(lambda x: (x[0], 1)).reduceByKey(lambda a, b: a + b).map(lambda x: (float(x[1]), x[0])).sortByKey(ascending=False)\r\n",
        "viviendas_duplicadas = viviendas_diferentes.filter(lambda x: x[0]!=1).map(lambda x: x[1])\r\n",
        "print(\"VIVIENDAS DUPLICADAS:\", viviendas_duplicadas.collect())"
      ],
      "execution_count": null,
      "outputs": [
        {
          "output_type": "stream",
          "text": [
            "VIVIENDAS DUPLICADAS: ['2898', '2899', '2900', '2901', '2930', '2929']\n"
          ],
          "name": "stdout"
        }
      ]
    },
    {
      "cell_type": "code",
      "metadata": {
        "colab": {
          "base_uri": "https://localhost:8080/"
        },
        "id": "RxyXAmVHjoxt",
        "outputId": "3ad9fa96-cc0c-4de8-c570-721bef6d15d2"
      },
      "source": [
        "vivienda_DF = spark.read.csv('BDpracticafinalCSV.csv',header=True, inferSchema='true', sep=';')\r\n",
        "vivienda_DF.show(5)"
      ],
      "execution_count": null,
      "outputs": [
        {
          "output_type": "stream",
          "text": [
            "+-----+---------+------------+--------+------------+----------+------------+----------+--------------+------------+----------+---------+-------------+----------+-----------+---------+---------+-------------+-------------+------------+-------------+-----------+-----------+-----------+---------+-------+-------+-------+---------+\n",
            "|Order|MS Zoning|Lot Frontage|Lot Area|Land Contour|Land Slope|Overall Qual|Year Built|Year Remod/Add|Mas Vnr Type|Exter Qual|Bsmt Cond|Total Bsmt SF|Heating QC|Central Air|Full Bath|Half Bath|Bedroom AbvGr|Kitchen AbvGr|Kitchen Qual|TotRms AbvGrd|Garage Cars|Garage Area|Garage Cond|Pool Area|Pool QC|Mo Sold|Yr Sold|SalePrice|\n",
            "+-----+---------+------------+--------+------------+----------+------------+----------+--------------+------------+----------+---------+-------------+----------+-----------+---------+---------+-------------+-------------+------------+-------------+-----------+-----------+-----------+---------+-------+-------+-------+---------+\n",
            "|    1|       RL|         141|   31770|         Lvl|       Gtl|           6|      1960|          1960|       Stone|        TA|       Gd|         1080|        Fa|          Y|        1|        0|            3|            1|          TA|            7|          2|        528|         TA|        0|     Sp|      5|   2010|   215000|\n",
            "|    2|       RH|          80|   11622|         Lvl|       Gtl|           5|      1961|          1961|        None|        TA|       TA|          882|        TA|          Y|        1|        0|            2|            1|          TA|            5|          1|        730|         TA|        0|     Sp|      6|   2010|   105000|\n",
            "|    3|       RL|          81|   14267|         Lvl|       Gtl|           6|      1958|          1958|     BrkFace|        TA|       TA|         1329|        TA|          Y|        1|        1|            3|            1|          Gd|            6|          1|        312|         TA|        0|     Sp|      6|   2010|   172000|\n",
            "|    4|       RL|          93|   11160|         Lvl|       Gtl|           7|      1968|          1968|        None|        Gd|       TA|         2110|        Ex|          Y|        2|        1|            3|            1|          Ex|            8|          2|        522|         TA|        0|     Sp|      4|   2010|   244000|\n",
            "|    5|       RL|          74|   13830|         Lvl|       Gtl|           5|      1997|          1998|        None|        TA|       TA|          928|        Gd|          Y|        2|        1|            3|            1|          TA|            6|          2|        482|         TA|        0|     Sp|      3|   2010|   189900|\n",
            "+-----+---------+------------+--------+------------+----------+------------+----------+--------------+------------+----------+---------+-------------+----------+-----------+---------+---------+-------------+-------------+------------+-------------+-----------+-----------+-----------+---------+-------+-------+-------+---------+\n",
            "only showing top 5 rows\n",
            "\n"
          ],
          "name": "stdout"
        }
      ]
    },
    {
      "cell_type": "code",
      "metadata": {
        "id": "Ku8TBE0EiQ-3"
      },
      "source": [
        "vivienda_DF = vivienda_DF.dropDuplicates(subset=[c for c in vivienda_DF.columns if c == 'Order'])\r\n"
      ],
      "execution_count": null,
      "outputs": []
    },
    {
      "cell_type": "code",
      "metadata": {
        "colab": {
          "base_uri": "https://localhost:8080/"
        },
        "id": "ywEeBhTci0TZ",
        "outputId": "e2687b1f-2871-4a01-8dc0-bb8870d5fca6"
      },
      "source": [
        "vivienda_RDD = vivienda_DF.rdd.map(tuple)\r\n",
        "vivienda_RDD = vivienda_RDD.filter(lambda x: x[1].upper() in [\"RM\",\"RL\",\"RH\"]).map(tuple)\r\n",
        "vivienda_RDD.count()"
      ],
      "execution_count": null,
      "outputs": [
        {
          "output_type": "execute_result",
          "data": {
            "text/plain": [
              "2762"
            ]
          },
          "metadata": {
            "tags": []
          },
          "execution_count": 85
        }
      ]
    },
    {
      "cell_type": "markdown",
      "metadata": {
        "id": "T2fdR8-IcGoV"
      },
      "source": [
        "## ¿Podrías decirme el total de inmuebles y el precio medio (Sale Price) de cada zona (MS Zoning)?"
      ]
    },
    {
      "cell_type": "markdown",
      "metadata": {
        "id": "AVC0bavBYy7a"
      },
      "source": [
        "\r\n",
        "*   Selecciono la fila de  ZONA y añado un 1, para hacer un reduceByKey para contar cuátos hay\r\n",
        "*   Para el precio, extraigo la fila de SalePrice, hago un join con la varible anteriomente creada y calculo la media redondeando\r\n"
      ]
    },
    {
      "cell_type": "code",
      "metadata": {
        "colab": {
          "base_uri": "https://localhost:8080/"
        },
        "id": "d9LNWQtujSJj",
        "outputId": "1bc2c08e-29d5-4e60-bee9-5d6be27a7755"
      },
      "source": [
        "# TOTAL DE INMUEBLES\r\n",
        " \r\n",
        "numero_por_zona = vivienda_RDD.map(lambda x: (x[1].upper(), 1)).reduceByKey(lambda a, b: a + b)\r\n",
        "numero_por_zona.take(15)"
      ],
      "execution_count": null,
      "outputs": [
        {
          "output_type": "execute_result",
          "data": {
            "text/plain": [
              "[('RL', 2273), ('RH', 27), ('RM', 462)]"
            ]
          },
          "metadata": {
            "tags": []
          },
          "execution_count": 86
        }
      ]
    },
    {
      "cell_type": "code",
      "metadata": {
        "colab": {
          "base_uri": "https://localhost:8080/"
        },
        "id": "IA4L0PzEj4Ip",
        "outputId": "1b319ed4-1270-44d1-9938-206e0f9dd5bd"
      },
      "source": [
        "# MEDIA PRECIO DE VENTA\r\n",
        "\r\n",
        "sumatorio_precio = vivienda_RDD.map(lambda x: (x[1].upper(), float(x[28]))).reduceByKey(lambda a, b: a + b)\r\n",
        "sumatorio_precio.collect()"
      ],
      "execution_count": null,
      "outputs": [
        {
          "output_type": "execute_result",
          "data": {
            "text/plain": [
              "[('RL', 436229331.0), ('RH', 3683334.0), ('RM', 58573004.0)]"
            ]
          },
          "metadata": {
            "tags": []
          },
          "execution_count": 17
        }
      ]
    },
    {
      "cell_type": "code",
      "metadata": {
        "colab": {
          "base_uri": "https://localhost:8080/"
        },
        "id": "za5es6cjAZUP",
        "outputId": "c39354cb-415c-4246-a760-a7bb8752f928"
      },
      "source": [
        "precio_medio_zona = sumatorio_precio.join(numero_por_zona)\r\n",
        "precio_medio_zona = precio_medio_zona.map(lambda x:  (x[0], round(x[1][0]/x[1][1],2) )).sortByKey() # media\r\n",
        "print(\"PRECIO MEDIO POR ZONA:\" ,precio_medio_zona.collect())"
      ],
      "execution_count": null,
      "outputs": [
        {
          "output_type": "stream",
          "text": [
            "PRECIO MEDIO POR ZONA: [('RH', 136419.78), ('RL', 191412.61), ('RM', 126781.39)]\n"
          ],
          "name": "stdout"
        }
      ]
    },
    {
      "cell_type": "markdown",
      "metadata": {
        "id": "eP_FB72mcGoV"
      },
      "source": [
        "## Media de Total Bsmt SF por cada década de construcción calculada a partir de Year Built. \n",
        "## ¿Cuál es la decada de construcción con viviendas mejor acondicionadas para el frío (Heating QC)?"
      ]
    },
    {
      "cell_type": "markdown",
      "metadata": {
        "id": "fqVpvXIic0Ph"
      },
      "source": [
        "* En este paso a crear un nueva clave qué consiste en el que en las dos primeras cifras es el siglo y la tercera cifra es la década correspondiente a ese siglo "
      ]
    },
    {
      "cell_type": "markdown",
      "metadata": {
        "id": "bgBdgX9wa-Td"
      },
      "source": [
        "### Total Bsmt SF\r\n",
        " * He seguido el mísmo método para la media con ReduceBykey.\r\n",
        " * El resultado ha sido que las viviendas más grandes son las de la decada de los 10 en el siglo xxi\r\n",
        " * además se ve que cada decada se hacen casas más grandes"
      ]
    },
    {
      "cell_type": "code",
      "metadata": {
        "id": "aATC85soBE4u"
      },
      "source": [
        "decada_numero_total = vivienda_RDD.map(lambda x: (str(x[7])[0:3], 1)).reduceByKey(lambda a, b: a + b)"
      ],
      "execution_count": null,
      "outputs": []
    },
    {
      "cell_type": "code",
      "metadata": {
        "colab": {
          "base_uri": "https://localhost:8080/"
        },
        "id": "mRdFpTQlZkPe",
        "outputId": "6ef35545-0a8c-476f-d710-7fa6c155dd9e"
      },
      "source": [
        "decada_numero_total.take(5)"
      ],
      "execution_count": null,
      "outputs": [
        {
          "output_type": "execute_result",
          "data": {
            "text/plain": [
              "[('198', 120), ('192', 190), ('190', 36), ('189', 12), ('188', 8)]"
            ]
          },
          "metadata": {
            "tags": []
          },
          "execution_count": 20
        }
      ]
    },
    {
      "cell_type": "code",
      "metadata": {
        "colab": {
          "base_uri": "https://localhost:8080/"
        },
        "id": "wTp06JFeZkZz",
        "outputId": "a0061f42-0699-42b9-c93c-7c465800b3ed"
      },
      "source": [
        "decada_sumatorio_bsmt = vivienda_RDD.map(lambda x: (str(x[7])[0:3], float(x[12]))).reduceByKey(lambda a, b: a + b)\r\n",
        "decada_sumatorio_bsmt.take(3)"
      ],
      "execution_count": null,
      "outputs": [
        {
          "output_type": "execute_result",
          "data": {
            "text/plain": [
              "[('198', 130320.0), ('192', 158448.0), ('190', 25925.0)]"
            ]
          },
          "metadata": {
            "tags": []
          },
          "execution_count": 21
        }
      ]
    },
    {
      "cell_type": "code",
      "metadata": {
        "colab": {
          "base_uri": "https://localhost:8080/"
        },
        "id": "G2jEgRsCZkcm",
        "outputId": "5e98a702-072c-4492-f6a9-66d39cb0cd58"
      },
      "source": [
        "bsmt_medio_decada = decada_sumatorio_bsmt.join(decada_numero_total)\r\n",
        "bsmt_medio_decada = bsmt_medio_decada.map(lambda x:  (x[0], round(x[1][0]/x[1][1],2) )).sortByKey() # media\r\n",
        "bsmt_medio_decada.collect()"
      ],
      "execution_count": null,
      "outputs": [
        {
          "output_type": "execute_result",
          "data": {
            "text/plain": [
              "[('187', 761.0),\n",
              " ('188', 836.0),\n",
              " ('189', 885.58),\n",
              " ('190', 720.14),\n",
              " ('191', 788.3),\n",
              " ('192', 833.94),\n",
              " ('193', 769.92),\n",
              " ('194', 706.93),\n",
              " ('195', 968.3),\n",
              " ('196', 1082.67),\n",
              " ('197', 953.92),\n",
              " ('198', 1086.0),\n",
              " ('199', 1138.6),\n",
              " ('200', 1349.77),\n",
              " ('201', 1539.0)]"
            ]
          },
          "metadata": {
            "tags": []
          },
          "execution_count": 22
        }
      ]
    },
    {
      "cell_type": "markdown",
      "metadata": {
        "id": "VKjmNF7ybJ1S"
      },
      "source": [
        "### Heating QC\r\n",
        "\r\n",
        "* He creado una función para hacer una escala numerica con el ranking predeterminado y así mejorar la interpretabilidad de los resultados.\r\n",
        "\r\n",
        "* Había cinco posibles casos por lo qeu la escala es del 1 al 5.\r\n",
        "\r\n",
        "* Como era de esperar, a medida que pasan las décadas, mejor es de media la calidad de la calefaccion."
      ]
    },
    {
      "cell_type": "code",
      "metadata": {
        "colab": {
          "base_uri": "https://localhost:8080/"
        },
        "id": "pREAgJzgbm0W",
        "outputId": "a968ae40-9f9e-4abd-9c70-9a968314ba42"
      },
      "source": [
        "vivienda_RDD.map(lambda x: x[13]).distinct().collect()"
      ],
      "execution_count": null,
      "outputs": [
        {
          "output_type": "execute_result",
          "data": {
            "text/plain": [
              "['Fa', 'Po', 'TA', 'Ex', 'Gd']"
            ]
          },
          "metadata": {
            "tags": []
          },
          "execution_count": 23
        }
      ]
    },
    {
      "cell_type": "code",
      "metadata": {
        "id": "Q4YGSS9UbTZM"
      },
      "source": [
        "def heating_transformacion(x):\r\n",
        "  if x == \"Ex\":\r\n",
        "    return 5\r\n",
        "  elif x == \"Gd\":\r\n",
        "    return 4\r\n",
        "  elif x == \"TA\":\r\n",
        "    return 3\r\n",
        "  elif x ==\"Fa\":\r\n",
        "    return 2\r\n",
        "  else:\r\n",
        "    return 1  "
      ],
      "execution_count": null,
      "outputs": []
    },
    {
      "cell_type": "code",
      "metadata": {
        "colab": {
          "base_uri": "https://localhost:8080/"
        },
        "id": "QI59pRMAbB_n",
        "outputId": "d1fe4176-edc6-461d-b4a9-4b33d848cb14"
      },
      "source": [
        "decada_sumatorio_heating = vivienda_RDD.map(lambda x: (str(x[7])[0:3], heating_transformacion(x[13]))).reduceByKey(lambda a, b: a + b)\r\n",
        "decada_sumatorio_heating.take(3)"
      ],
      "execution_count": null,
      "outputs": [
        {
          "output_type": "execute_result",
          "data": {
            "text/plain": [
              "[('198', 450), ('192', 693), ('190', 142)]"
            ]
          },
          "metadata": {
            "tags": []
          },
          "execution_count": 25
        }
      ]
    },
    {
      "cell_type": "code",
      "metadata": {
        "colab": {
          "base_uri": "https://localhost:8080/"
        },
        "id": "MXa5sxVqceHA",
        "outputId": "426e4f7c-b496-4138-9ab9-00e342fc6da6"
      },
      "source": [
        "heating_medio_decada = decada_sumatorio_heating.join(decada_numero_total)\r\n",
        "heating_medio_decada = heating_medio_decada.map(lambda x:  (x[0], round(x[1][0]/x[1][1],2) )).sortByKey() # media\r\n",
        "heating_medio_decada.collect()"
      ],
      "execution_count": null,
      "outputs": [
        {
          "output_type": "execute_result",
          "data": {
            "text/plain": [
              "[('187', 3.0),\n",
              " ('188', 3.88),\n",
              " ('189', 4.0),\n",
              " ('190', 3.94),\n",
              " ('191', 3.92),\n",
              " ('192', 3.65),\n",
              " ('193', 3.92),\n",
              " ('194', 3.83),\n",
              " ('195', 3.75),\n",
              " ('196', 3.69),\n",
              " ('197', 3.45),\n",
              " ('198', 3.75),\n",
              " ('199', 4.72),\n",
              " ('200', 4.96),\n",
              " ('201', 5.0)]"
            ]
          },
          "metadata": {
            "tags": []
          },
          "execution_count": 26
        }
      ]
    },
    {
      "cell_type": "markdown",
      "metadata": {
        "id": "0yJegHChcGoV"
      },
      "source": [
        "## ¿Cuáles son las 10 viviendas que se vendieron por un precio más elevado por metro cuadrado en el año 2009?"
      ]
    },
    {
      "cell_type": "markdown",
      "metadata": {
        "id": "4AJnBB2HfN6T"
      },
      "source": [
        "* Primero, filtro los años. \r\n",
        "* Segundo, he hecho la conversión de pies cuadrados a metros cuadrados multiplicando por 0.092\r\n",
        "* Ordeno ascending=False para hacer un take y seleccionar el top 10\r\n",
        "* En el resultado aparecen \"(precio por metro cuadrado, order)\""
      ]
    },
    {
      "cell_type": "code",
      "metadata": {
        "colab": {
          "base_uri": "https://localhost:8080/"
        },
        "id": "Mb2boEWGBFOt",
        "outputId": "653b56a4-b40e-45be-eed6-33187f23cb22"
      },
      "source": [
        "precio_metro_cuadrado = vivienda_RDD.filter(lambda x: float(x[27])==2009).map(lambda x: ((float(x[28])/(float(x[3])*0.092903),x[0]))).sortByKey(ascending=False).take(10)\r\n",
        "print(\"TOP 10 DEL 2009, PRECIO METRO CUADRADO Y SU ORDER\")\r\n",
        "precio_metro_cuadrado"
      ],
      "execution_count": null,
      "outputs": [
        {
          "output_type": "stream",
          "text": [
            "TOP 10 DEL 2009, PRECIO METRO CUADRADO Y SU ORDER\n"
          ],
          "name": "stdout"
        },
        {
          "output_type": "execute_result",
          "data": {
            "text/plain": [
              "[(1026.7118971897073, '936'),\n",
              " (991.0325013521444, '934'),\n",
              " (821.0570122815511, '464'),\n",
              " (807.9613655043873, '935'),\n",
              " (765.647528938273, '408'),\n",
              " (756.0368904997173, '407'),\n",
              " (717.5943367454944, '405'),\n",
              " (714.281725843034, '933'),\n",
              " (711.1872444531239, '403'),\n",
              " (701.0707829388548, '411')]"
            ]
          },
          "metadata": {
            "tags": []
          },
          "execution_count": 30
        }
      ]
    },
    {
      "cell_type": "markdown",
      "metadata": {
        "id": "DNbimasbcGoW"
      },
      "source": [
        "## Media anual por zonas del precio de venta y metros cuadrados."
      ]
    },
    {
      "cell_type": "markdown",
      "metadata": {
        "id": "I-S9J2q8gElr"
      },
      "source": [
        "*  Aqui he filtrado por zona y de cada zona calculo por separado la media del precio y de los metros cuadrados\r\n",
        "* Filtro con upper() para evitar valores mal escritos\r\n",
        "* Al final hago un print() de los resultados e interpreto"
      ]
    },
    {
      "cell_type": "code",
      "metadata": {
        "colab": {
          "base_uri": "https://localhost:8080/"
        },
        "id": "KUHhQ8XaBFtC",
        "outputId": "6befba9c-c8b8-490f-b354-d6d26506e0bd"
      },
      "source": [
        "numero_por_zona.take(5)"
      ],
      "execution_count": null,
      "outputs": [
        {
          "output_type": "execute_result",
          "data": {
            "text/plain": [
              "[('RL', 2279), ('RH', 27), ('RM', 462)]"
            ]
          },
          "metadata": {
            "tags": []
          },
          "execution_count": 31
        }
      ]
    },
    {
      "cell_type": "markdown",
      "metadata": {
        "id": "Cm2UsDaVJdu2"
      },
      "source": [
        "## RL"
      ]
    },
    {
      "cell_type": "code",
      "metadata": {
        "id": "YLyndwg-GwUZ"
      },
      "source": [
        "# PRECIO MEDIO\r\n",
        "\r\n",
        "RL_sumatorio = vivienda_RDD.filter(lambda x: x[1].upper() == \"RL\").map(lambda x: (x[27], float(x[28]))).reduceByKey(lambda a, b: a + b)\r\n",
        "RL_numero_total = vivienda_RDD.filter(lambda x: x[1].upper() == \"RL\").map(lambda x: (x[27], 1)).reduceByKey(lambda a, b: a + b)\r\n",
        "RL_media_por_año = RL_sumatorio.join(RL_numero_total) \r\n",
        "RL_media_por_año = RL_media_por_año.map(lambda x: (x[0], round(x[1][0]/x[1][1],2) )).sortByKey() # media\r\n",
        "RL_media_por_año = RL_media_por_año.collect()\r\n"
      ],
      "execution_count": null,
      "outputs": []
    },
    {
      "cell_type": "code",
      "metadata": {
        "id": "lyARKuP4GwXW"
      },
      "source": [
        "# METROS CUADRADOS\r\n",
        "\r\n",
        "RL_sumatorio = vivienda_RDD.filter(lambda x: x[1].upper() == \"RL\").map(lambda x: (x[27], float(x[3])*0.092903)).reduceByKey(lambda a, b: a + b)\r\n",
        "RL_numero_total = vivienda_RDD.filter(lambda x: x[1].upper() == \"RL\").map(lambda x: (x[27], 1)).reduceByKey(lambda a, b: a + b)\r\n",
        "RL_media_por_año_metros = RL_sumatorio.join(RL_numero_total) \r\n",
        "RL_media_por_año_metros = RL_media_por_año_metros.map(lambda x: (x[0], round(x[1][0]/x[1][1],2) )).sortByKey() # media\r\n",
        "RL_media_por_año_metros = RL_media_por_año_metros.collect()\r\n"
      ],
      "execution_count": null,
      "outputs": []
    },
    {
      "cell_type": "markdown",
      "metadata": {
        "id": "fr9VB661Kjbc"
      },
      "source": [
        "## RM\r\n"
      ]
    },
    {
      "cell_type": "code",
      "metadata": {
        "id": "iVYIYYlWJSwF"
      },
      "source": [
        "# PRECIO MEDIO\r\n",
        "\r\n",
        "RM_sumatorio = vivienda_RDD.filter(lambda x: x[1].upper() == \"RM\").map(lambda x: (x[27], float(x[28]))).reduceByKey(lambda a, b: a + b)\r\n",
        "RM_numero_total = vivienda_RDD.filter(lambda x: x[1].upper() == \"RM\").map(lambda x: (x[27], 1)).reduceByKey(lambda a, b: a + b)\r\n",
        "RM_media_por_año = RM_sumatorio.join(RM_numero_total) \r\n",
        "RM_media_por_año = RM_media_por_año.map(lambda x: (x[0], round(x[1][0]/x[1][1],2) )).sortByKey() # media\r\n",
        "RM_media_por_año = RM_media_por_año.collect()"
      ],
      "execution_count": null,
      "outputs": []
    },
    {
      "cell_type": "code",
      "metadata": {
        "id": "MUGBmS_QJS36"
      },
      "source": [
        "# METROS CUADRADOS\r\n",
        "\r\n",
        "RM_sumatorio = vivienda_RDD.filter(lambda x: x[1].upper() == \"RM\").map(lambda x: (x[27], float(x[3])*0.092903)).reduceByKey(lambda a, b: a + b)\r\n",
        "RM_numero_total = vivienda_RDD.filter(lambda x: x[1].upper() == \"RM\").map(lambda x: (x[27], 1)).reduceByKey(lambda a, b: a + b)\r\n",
        "RM_media_por_año_metros = RM_sumatorio.join(RM_numero_total) \r\n",
        "RM_media_por_año_metros = RM_media_por_año_metros.map(lambda x: (x[0], round(x[1][0]/x[1][1],2) )).sortByKey() # media\r\n",
        "RM_media_por_año_metros = RM_media_por_año_metros.collect()"
      ],
      "execution_count": null,
      "outputs": []
    },
    {
      "cell_type": "markdown",
      "metadata": {
        "id": "RPvSnsBsMnhb"
      },
      "source": [
        "## RH"
      ]
    },
    {
      "cell_type": "code",
      "metadata": {
        "id": "-FwOcdkXME3d"
      },
      "source": [
        "# PRECIO MEDIO\r\n",
        "\r\n",
        "RH_sumatorio = vivienda_RDD.filter(lambda x: x[1].upper() == \"RH\").map(lambda x: (x[27], float(x[28]))).reduceByKey(lambda a, b: a + b)\r\n",
        "RH_numero_total = vivienda_RDD.filter(lambda x: x[1].upper() == \"RH\").map(lambda x: (x[27], 1)).reduceByKey(lambda a, b: a + b)\r\n",
        "RH_media_por_año = RH_sumatorio.join(RH_numero_total) \r\n",
        "RH_media_por_año = RH_media_por_año.map(lambda x: (x[0], round(x[1][0]/x[1][1],2) )).sortByKey() # media\r\n",
        "RH_media_por_año = RH_media_por_año.collect()"
      ],
      "execution_count": null,
      "outputs": []
    },
    {
      "cell_type": "code",
      "metadata": {
        "id": "1BR9an8-G1UT"
      },
      "source": [
        "# METROS CUADRADOS\r\n",
        "\r\n",
        "RH_sumatorio = vivienda_RDD.filter(lambda x: x[1].upper() == \"RH\").map(lambda x: (x[27], float(x[3])*0.092903)).reduceByKey(lambda a, b: a + b)\r\n",
        "RH_numero_total = vivienda_RDD.filter(lambda x: x[1].upper() == \"RH\").map(lambda x: (x[27], 1)).reduceByKey(lambda a, b: a + b)\r\n",
        "RH_media_por_año_metros = RH_sumatorio.join(RH_numero_total) \r\n",
        "RH_media_por_año_metros = RH_media_por_año_metros.map(lambda x: (x[0], round(x[1][0]/x[1][1],2) )).sortByKey() # media\r\n",
        "RH_media_por_año_metros = RH_media_por_año_metros.collect()"
      ],
      "execution_count": null,
      "outputs": []
    },
    {
      "cell_type": "markdown",
      "metadata": {
        "id": "H6eIZd1q7SNb"
      },
      "source": [
        "### COMPARATIVA PRECIO"
      ]
    },
    {
      "cell_type": "code",
      "metadata": {
        "colab": {
          "base_uri": "https://localhost:8080/"
        },
        "id": "C1hCu3WY7XCe",
        "outputId": "87be571f-e42b-4e2e-8c71-3e7942ed23c8"
      },
      "source": [
        "print(\"RH\",RH_media_por_año)\r\n",
        "print(\"RM\",RM_media_por_año)\r\n",
        "print(\"RL\",RL_media_por_año)"
      ],
      "execution_count": null,
      "outputs": [
        {
          "output_type": "stream",
          "text": [
            "RH [('2006', 140316.67), ('2007', 147250.0), ('2008', 150333.33), ('2009', 116206.8), ('2010', 126280.0)]\n",
            "RM [('2006', 127502.64), ('2007', 128947.62), ('2008', 133336.12), ('2009', 118759.87), ('2010', 119681.71)]\n",
            "RL [('2006', 194911.28), ('2007', 193399.98), ('2008', 189885.59), ('2009', 190455.55), ('2010', 184978.42)]\n"
          ],
          "name": "stdout"
        }
      ]
    },
    {
      "cell_type": "markdown",
      "metadata": {
        "id": "WM8mlPz67jcy"
      },
      "source": [
        "### COMPARATIVA METROS"
      ]
    },
    {
      "cell_type": "code",
      "metadata": {
        "colab": {
          "base_uri": "https://localhost:8080/"
        },
        "id": "WPO51Yl17XLW",
        "outputId": "3927f54b-2c56-4d52-a87d-52a4bf3c2477"
      },
      "source": [
        "print(\"RH\",RH_media_por_año_metros)\r\n",
        "print(\"RM\",RM_media_por_año_metros)\r\n",
        "print(\"RL\",RL_media_por_año_metros)"
      ],
      "execution_count": null,
      "outputs": [
        {
          "output_type": "stream",
          "text": [
            "RH [('2006', 659.56), ('2007', 651.32), ('2008', 766.14), ('2009', 647.14), ('2010', 753.03)]\n",
            "RM [('2006', 575.01), ('2007', 625.45), ('2008', 623.67), ('2009', 552.56), ('2010', 586.1)]\n",
            "RL [('2006', 1043.69), ('2007', 1059.68), ('2008', 1047.65), ('2009', 1002.18), ('2010', 1011.36)]\n"
          ],
          "name": "stdout"
        }
      ]
    },
    {
      "cell_type": "code",
      "metadata": {
        "id": "P8zyv3O87XNo"
      },
      "source": [
        ""
      ],
      "execution_count": null,
      "outputs": []
    },
    {
      "cell_type": "markdown",
      "metadata": {
        "id": "ax_AqTJz-YJ-"
      },
      "source": [
        "### **INTERPRETACION**\r\n",
        "* Las residencias en zonas de alta densidad son las que siben el precio más a lo largo de los años mientras las otras o se mantienen o se reducen"
      ]
    },
    {
      "cell_type": "code",
      "metadata": {
        "id": "5bYjkocg7XQa"
      },
      "source": [
        ""
      ],
      "execution_count": null,
      "outputs": []
    },
    {
      "cell_type": "markdown",
      "metadata": {
        "id": "hFYSDcEycGoW"
      },
      "source": [
        "## ¿Podrías decirme el total de recaudación de las casas de revistimiento (Mas Vnr Type) de piedra con respecto a las de ladrillo? ¿Hay diferencia significativa?"
      ]
    },
    {
      "cell_type": "markdown",
      "metadata": {
        "id": "2Qo8kMKP2FTL"
      },
      "source": [
        "* Primero veo los diferentes tipos de valores\r\n",
        "* Con Stone calculo la suma de los precios con reducebykey para ver la facturacion\r\n",
        "* Con ladrillos, extraigo los tres primeros caracteres que son los que me indican que está hecho de ladrillo (brk)\r\n",
        "* Se ve qeu la facturación es mayor en las casas de ladrillos. Está más demandada"
      ]
    },
    {
      "cell_type": "code",
      "metadata": {
        "colab": {
          "base_uri": "https://localhost:8080/"
        },
        "id": "f3J2di36zWn1",
        "outputId": "073f5365-ace0-42bd-e9d7-8e4e7aa218b3"
      },
      "source": [
        "vivienda_RDD.map(lambda x: x[9]).distinct().collect()"
      ],
      "execution_count": null,
      "outputs": [
        {
          "output_type": "execute_result",
          "data": {
            "text/plain": [
              "['None', '', 'CBlock', 'Stone', 'BrkFace', 'BrkCmn']"
            ]
          },
          "metadata": {
            "tags": []
          },
          "execution_count": 40
        }
      ]
    },
    {
      "cell_type": "code",
      "metadata": {
        "colab": {
          "base_uri": "https://localhost:8080/"
        },
        "id": "_BwBwA-nzXE0",
        "outputId": "2c47eea7-3c12-4d0f-8e55-c9ec657a3d73"
      },
      "source": [
        "stone_sumatorio = vivienda_RDD.filter(lambda x: x[9] == \"Stone\").map(lambda x: (x[9], float(x[28]))).reduceByKey(lambda a, b: a + b)\r\n",
        "stone_sumatorio.take(3)"
      ],
      "execution_count": null,
      "outputs": [
        {
          "output_type": "execute_result",
          "data": {
            "text/plain": [
              "[('Stone', 60495477.0)]"
            ]
          },
          "metadata": {
            "tags": []
          },
          "execution_count": 41
        }
      ]
    },
    {
      "cell_type": "code",
      "metadata": {
        "colab": {
          "base_uri": "https://localhost:8080/"
        },
        "id": "oYEa1YeG0SAD",
        "outputId": "7e1e9675-60d3-486b-bd95-a6e9e20382e4"
      },
      "source": [
        "BrkFace_sumatorio = vivienda_RDD.map(lambda x: (x[9][0:3],float(x[28]))).filter(lambda x : x[0]==\"Brk\").reduceByKey(lambda a, b: a + b)\r\n",
        "BrkFace_sumatorio.take(3)"
      ],
      "execution_count": null,
      "outputs": [
        {
          "output_type": "execute_result",
          "data": {
            "text/plain": [
              "[('Brk', 182918036.0)]"
            ]
          },
          "metadata": {
            "tags": []
          },
          "execution_count": 42
        }
      ]
    },
    {
      "cell_type": "markdown",
      "metadata": {
        "id": "NEqHKkbgcGoX"
      },
      "source": [
        "## ¿Cuánto son más caras las viviendas con 2 cocinas, con 2 o más plazas de garaje que las que tienen 1 cocina y 1 plaza de garaje? Comparar medias y cuartiles de ambos casos"
      ]
    },
    {
      "cell_type": "markdown",
      "metadata": {
        "id": "6NbQvGELPSHz"
      },
      "source": [
        "* Primero veo en los Garajes las opciones que puede haber y las filtro como string para luego filtrar solamente por 2 el de las cocinas. Lo convierto a Float para poderlo pasar a  dataframe y añadir FloatType()\r\n",
        "* Segundo, hago lo mismo con la otras dos condiciones\r\n",
        "* Tercero aplico una versión de una fórmula que hay en el libro \"Learning Pyspark\"\r\n",
        "* Cuarto, dejo la interpretacion de los resultados abajo"
      ]
    },
    {
      "cell_type": "code",
      "metadata": {
        "id": "RbPBBmPDVqp9"
      },
      "source": [
        "import pandas as pd\r\n",
        "import numpy as np\r\n",
        "import matplotlib.pyplot as plt"
      ],
      "execution_count": null,
      "outputs": []
    },
    {
      "cell_type": "code",
      "metadata": {
        "colab": {
          "base_uri": "https://localhost:8080/"
        },
        "id": "cS-kr-xx20Ma",
        "outputId": "d7edf426-9104-4103-dfd8-a09f808d8634"
      },
      "source": [
        "vivienda_RDD.map(lambda x: x[21]).distinct().collect() #GARAJE"
      ],
      "execution_count": null,
      "outputs": [
        {
          "output_type": "execute_result",
          "data": {
            "text/plain": [
              "['1', '0', '4', '', '2', '3', '5']"
            ]
          },
          "metadata": {
            "tags": []
          },
          "execution_count": 44
        }
      ]
    },
    {
      "cell_type": "code",
      "metadata": {
        "id": "RWDdxCElBGw_"
      },
      "source": [
        "dos_cocinas_dos_o_mas_plazas = vivienda_RDD.filter(lambda x: x[21] in [\"2\",\"3\",\"4\",\"5\"]).filter(lambda x: x[18]==\"2\").map(lambda x: float(x[28]))\r\n",
        "una_cocina_una_plaza = vivienda_RDD.filter(lambda x: x[21]==\"1\").filter(lambda x: x[18]==\"1\").map(lambda x: float(x[28]))"
      ],
      "execution_count": null,
      "outputs": []
    },
    {
      "cell_type": "code",
      "metadata": {
        "id": "p0SfyFtXio_-"
      },
      "source": [
        "una_cocina_una_plaza_df = spark.createDataFrame(una_cocina_una_plaza, FloatType())\r\n",
        "dos_cocinas_dos_o_mas_plazas_df = spark.createDataFrame(dos_cocinas_dos_o_mas_plazas, FloatType())"
      ],
      "execution_count": null,
      "outputs": []
    },
    {
      "cell_type": "code",
      "metadata": {
        "id": "PzWRXaNf72G4",
        "colab": {
          "base_uri": "https://localhost:8080/"
        },
        "outputId": "12c83485-2b70-43cc-8052-544859165717"
      },
      "source": [
        "dos_cocinas_dos_o_mas_plazas_df.show(5)"
      ],
      "execution_count": null,
      "outputs": [
        {
          "output_type": "stream",
          "text": [
            "+--------+\n",
            "|   value|\n",
            "+--------+\n",
            "|112000.0|\n",
            "|154300.0|\n",
            "|135000.0|\n",
            "|144000.0|\n",
            "|122500.0|\n",
            "+--------+\n",
            "only showing top 5 rows\n",
            "\n"
          ],
          "name": "stdout"
        }
      ]
    },
    {
      "cell_type": "code",
      "metadata": {
        "id": "Qt7YbnLliPUr"
      },
      "source": [
        "def describe_pd(df_in, columns, deciles=False):\r\n",
        "  percentiles = [25, 50, 75]\r\n",
        "  percs = np.transpose([np.percentile(df_in.select(x).collect(),percentiles) for x in columns])\r\n",
        "  percs = pd.DataFrame(percs, columns=columns)\r\n",
        "  percs['summary'] = [str(p) + '%' for p in percentiles]\r\n",
        "  spark_describe = df_in.describe().toPandas()\r\n",
        "  new_df = pd.concat([spark_describe, percs],ignore_index=True)\r\n",
        "  new_df = new_df.round(2)\r\n",
        "  return new_df[['summary'] + columns]"
      ],
      "execution_count": null,
      "outputs": []
    },
    {
      "cell_type": "code",
      "metadata": {
        "id": "ikqCi_Jaie-l"
      },
      "source": [
        "\"\"\" Function to union the basic stats results and deciles\r\n",
        ":param df_in: the input dataframe\r\n",
        ":param columns: the cloumn name list of the numerical variable\r\n",
        ":param deciles: the deciles output\r\n",
        ":return : the numerical describe info. of the input dataframe\r\n",
        ":author: Ming Chen and Wenqiang Feng\r\n",
        ":email: von198@gmail.com \r\n",
        "\"\"\""
      ],
      "execution_count": null,
      "outputs": []
    },
    {
      "cell_type": "markdown",
      "metadata": {
        "id": "B3qhlIebQyEP"
      },
      "source": [
        "### **INTERPRETACION**\r\n",
        "* Se valora muy positivamente tener mas cocinas y plazas de garaje, además se consideran casas de lujo porqeue sólo hay 86 frente a las 755 del resto\r\n",
        "* Sin embargo, la casa con el precio máximo pertenece al grupo de \"UNA COCINA Y UNA PLAZA\". Habria qeu ver si es porqeu compensa con otros atributos"
      ]
    },
    {
      "cell_type": "code",
      "metadata": {
        "colab": {
          "base_uri": "https://localhost:8080/"
        },
        "id": "1N6LgcekkNQq",
        "outputId": "0288ba48-af12-4198-bcb3-c9e429ed4db9"
      },
      "source": [
        "print(\"DOS PLAZAS O MÁS Y DOS COCINAS\")\r\n",
        "print(describe_pd(dos_cocinas_dos_o_mas_plazas_df,[\"value\"]))\r\n",
        "print(\"-----------------------------------------------------\")\r\n",
        "print(\"-----------------------------------------------------\")\r\n",
        "print(\"UNA COCINA Y UNA PLAZA\")\r\n",
        "print(describe_pd(una_cocina_una_plaza_df,[\"value\"]))"
      ],
      "execution_count": null,
      "outputs": [
        {
          "output_type": "stream",
          "text": [
            "DOS PLAZAS O MÁS Y DOS COCINAS\n",
            "  summary               value\n",
            "0   count                  86\n",
            "1    mean  145124.27906976745\n",
            "2  stddev   40555.86827593909\n",
            "3     min             81400.0\n",
            "4     max            269500.0\n",
            "5     25%              118973\n",
            "6     50%              141800\n",
            "7     75%              158500\n",
            "-----------------------------------------------------\n",
            "-----------------------------------------------------\n",
            "UNA COCINA Y UNA PLAZA\n",
            "  summary               value\n",
            "0   count                 755\n",
            "1    mean  128121.99337748345\n",
            "2  stddev  30303.813376544425\n",
            "3     min             35000.0\n",
            "4     max            330000.0\n",
            "5     25%              111625\n",
            "6     50%              128000\n",
            "7     75%              142062\n"
          ],
          "name": "stdout"
        }
      ]
    },
    {
      "cell_type": "code",
      "metadata": {
        "id": "tT7gHJS5jRK-"
      },
      "source": [
        ""
      ],
      "execution_count": null,
      "outputs": []
    },
    {
      "cell_type": "code",
      "metadata": {
        "id": "v6PS6Eh5AX06"
      },
      "source": [
        ""
      ],
      "execution_count": null,
      "outputs": []
    },
    {
      "cell_type": "code",
      "metadata": {
        "id": "sysPXrXw3kOc"
      },
      "source": [
        ""
      ],
      "execution_count": null,
      "outputs": []
    }
  ]
}