{
 "cells": [
  {
   "cell_type": "markdown",
   "metadata": {},
   "source": [
    "# Examen ETL: SPARK 12+1/02\n",
    "\n",
    "## José María Álvarez Silva"
   ]
  },
  {
   "cell_type": "markdown",
   "metadata": {},
   "source": [
    "Se podrá utilizar toda la información que se encuentra en el campus. \n",
    "\n",
    "Se va a trabajar sobre varios ficheros de datos:\n",
    "\n",
    "Usuarios: id_usuario::sexo::edad::id_profesion::codigo_postal\n",
    "\n",
    "Peliculas: id_pelicula::titulo (año)::tipo1|tipo2|tipo3\n",
    "\n",
    "Ratings: id_pelicula::id_usuario::puntuacion::fecha_timestamp\n",
    "\n",
    "A cada una de las preguntas hay que responder explicando brevemente que se pretende hacer antes de lanzar el código.\n",
    "\n",
    "Al documento lo llamareís con vuestro nombre y apellido. Debeís enviarlo a mi correo de CUNEF antes del final del examen.\n",
    "\n",
    "El lenguaje para trabajar con Spark podrá ser python o R indistintamente."
   ]
  },
  {
   "cell_type": "code",
   "execution_count": 126,
   "metadata": {
    "collapsed": true
   },
   "outputs": [],
   "source": [
    "# Nota: Carga de las puntuaciones\n",
    "# Función para parsear la fecha\n",
    "\n",
    "from datetime import datetime\n",
    "dateparse = lambda x: datetime.fromtimestamp(float(x))"
   ]
  },
  {
   "cell_type": "code",
   "execution_count": 185,
   "metadata": {
    "collapsed": true
   },
   "outputs": [],
   "source": [
    "import pandas as pd"
   ]
  },
  {
   "cell_type": "markdown",
   "metadata": {},
   "source": [
    "## Primera tarea: Inicializar spark context y cargar los datos desde los ficheros."
   ]
  },
  {
   "cell_type": "code",
   "execution_count": 127,
   "metadata": {
    "collapsed": true
   },
   "outputs": [],
   "source": [
    "from pyspark import SparkContext\n"
   ]
  },
  {
   "cell_type": "markdown",
   "metadata": {},
   "source": [
    "SQL"
   ]
  },
  {
   "cell_type": "code",
   "execution_count": 128,
   "metadata": {
    "collapsed": false
   },
   "outputs": [],
   "source": [
    "sc = SparkContext()"
   ]
  },
  {
   "cell_type": "code",
   "execution_count": 129,
   "metadata": {
    "collapsed": false
   },
   "outputs": [],
   "source": [
    "from pyspark.sql import SQLContext\n",
    "sqlContext = SQLContext(sc)\n",
    "from pyspark.sql import Row"
   ]
  },
  {
   "cell_type": "markdown",
   "metadata": {},
   "source": [
    "Ratings"
   ]
  },
  {
   "cell_type": "code",
   "execution_count": 130,
   "metadata": {
    "collapsed": false
   },
   "outputs": [],
   "source": [
    "ratings_data_file = \"./ratings.dat.txt\"\n",
    "ratings_raw_data = sc.textFile(ratings_data_file)"
   ]
  },
  {
   "cell_type": "code",
   "execution_count": 131,
   "metadata": {
    "collapsed": false
   },
   "outputs": [
    {
     "data": {
      "text/plain": [
       "[['1', '1193', 5.0, 2000],\n",
       " ['1', '661', 3.0, 2000],\n",
       " ['1', '914', 3.0, 2000],\n",
       " ['1', '3408', 4.0, 2000],\n",
       " ['1', '2355', 5.0, 2001]]"
      ]
     },
     "execution_count": 131,
     "metadata": {},
     "output_type": "execute_result"
    }
   ],
   "source": [
    "ratings_split_data = ratings_raw_data.map(lambda x : x.split(\"::\")).map(lambda x : [x[0], x[1], float(x[2]), dateparse(x[3]).year])\n",
    "ratings_split_data.take(5)"
   ]
  },
  {
   "cell_type": "code",
   "execution_count": 132,
   "metadata": {
    "collapsed": true
   },
   "outputs": [],
   "source": [
    "ratings_row_data = ratings_split_data.map(lambda p: Row(\n",
    "    id_pelicula_r = p[0], \n",
    "    id_usuario_r = p[1],\n",
    "    puntuacion = float(p[2]),\n",
    "    year_r = p[3]\n",
    "    )\n",
    ")"
   ]
  },
  {
   "cell_type": "code",
   "execution_count": 133,
   "metadata": {
    "collapsed": false
   },
   "outputs": [],
   "source": [
    "ratings_df = sqlContext.createDataFrame(ratings_row_data)\n",
    "ratings_df.registerTempTable(\"ratings\")"
   ]
  },
  {
   "cell_type": "markdown",
   "metadata": {},
   "source": [
    "Users"
   ]
  },
  {
   "cell_type": "code",
   "execution_count": 134,
   "metadata": {
    "collapsed": true
   },
   "outputs": [],
   "source": [
    "users_data_file = \"./users.dat.txt\"\n",
    "users_raw_data = sc.textFile(users_data_file)"
   ]
  },
  {
   "cell_type": "code",
   "execution_count": 135,
   "metadata": {
    "collapsed": false
   },
   "outputs": [
    {
     "data": {
      "text/plain": [
       "[['1', 'F', '1', '10', '48067'],\n",
       " ['2', 'M', '56', '16', '70072'],\n",
       " ['3', 'M', '25', '15', '55117'],\n",
       " ['4', 'M', '45', '7', '02460'],\n",
       " ['5', 'M', '25', '20', '55455']]"
      ]
     },
     "execution_count": 135,
     "metadata": {},
     "output_type": "execute_result"
    }
   ],
   "source": [
    "users_split_data = users_raw_data.map(lambda x : x.split(\"::\"))\n",
    "users_split_data.take(5)"
   ]
  },
  {
   "cell_type": "code",
   "execution_count": 136,
   "metadata": {
    "collapsed": true
   },
   "outputs": [],
   "source": [
    "users_row_data = users_split_data.map(lambda p: Row(\n",
    "    id_usuario = p[0], \n",
    "    sexo = p[1],\n",
    "    edad = int(p[2]),\n",
    "    id_profesion = p[3],\n",
    "    codigo_postal = p[4]\n",
    "    )\n",
    ")"
   ]
  },
  {
   "cell_type": "code",
   "execution_count": 137,
   "metadata": {
    "collapsed": false
   },
   "outputs": [],
   "source": [
    "users_df = sqlContext.createDataFrame(users_row_data)\n",
    "users_df.registerTempTable(\"users\")"
   ]
  },
  {
   "cell_type": "markdown",
   "metadata": {},
   "source": [
    "Movies"
   ]
  },
  {
   "cell_type": "code",
   "execution_count": 138,
   "metadata": {
    "collapsed": true
   },
   "outputs": [],
   "source": [
    "movies_data_file = \"./movies.dat.txt\"\n",
    "movies_raw_data = sc.textFile(movies_data_file)"
   ]
  },
  {
   "cell_type": "code",
   "execution_count": 139,
   "metadata": {
    "collapsed": false
   },
   "outputs": [
    {
     "data": {
      "text/plain": [
       "[['1', 'Toy Story', '1995', ['Animation', \"Children's\", 'Comedy']],\n",
       " ['2', 'Jumanji', '1995', ['Adventure', \"Children's\", 'Fantasy']],\n",
       " ['3', 'Grumpier Old Men', '1995', ['Comedy', 'Romance']],\n",
       " ['4', 'Waiting to Exhale', '1995', ['Comedy', 'Drama']],\n",
       " ['5', 'Father of the Bride Part II', '1995', ['Comedy']]]"
      ]
     },
     "execution_count": 139,
     "metadata": {},
     "output_type": "execute_result"
    }
   ],
   "source": [
    "movies_split_data = movies_raw_data.map(lambda x : x.split(\"::\")).map(lambda x : [x[0], x[1][0:-7], x[1][-5:-1], (x[2].split(\"|\"))])\n",
    "movies_split_data.take(5)"
   ]
  },
  {
   "cell_type": "code",
   "execution_count": 140,
   "metadata": {
    "collapsed": false
   },
   "outputs": [
    {
     "data": {
      "text/plain": [
       "('1995', 'Toy Story')"
      ]
     },
     "execution_count": 140,
     "metadata": {},
     "output_type": "execute_result"
    }
   ],
   "source": [
    "## Probar\n",
    "ejemplo = 'Toy Story (1995)'\n",
    "ejemplo[-5:-1], ejemplo[0:-7]"
   ]
  },
  {
   "cell_type": "code",
   "execution_count": 141,
   "metadata": {
    "collapsed": true
   },
   "outputs": [],
   "source": [
    "movies_row_data = movies_split_data.map(lambda p: Row(\n",
    "    id_pelicula = p[0], \n",
    "    titulo = p[1],\n",
    "    year = p[2],\n",
    "    )\n",
    ")"
   ]
  },
  {
   "cell_type": "code",
   "execution_count": 142,
   "metadata": {
    "collapsed": true
   },
   "outputs": [],
   "source": [
    "movies_df = sqlContext.createDataFrame(movies_row_data)\n",
    "movies_df.registerTempTable(\"movies\")"
   ]
  },
  {
   "cell_type": "markdown",
   "metadata": {},
   "source": [
    "## Segunda tarea: Media de puntuaciones globales por año. ¿Hay algún año significativamente distinto?"
   ]
  },
  {
   "cell_type": "code",
   "execution_count": 95,
   "metadata": {
    "collapsed": false
   },
   "outputs": [
    {
     "name": "stdout",
     "output_type": "stream",
     "text": [
      "+----+------------------+\n",
      "|year|   avg(puntuacion)|\n",
      "+----+------------------+\n",
      "|2003| 3.486559139784946|\n",
      "|2002| 3.458828911253431|\n",
      "|2000|3.5903916742285498|\n",
      "|2001|3.5122542537247643|\n",
      "+----+------------------+\n",
      "\n"
     ]
    }
   ],
   "source": [
    "media_puntuaciones_por_año = sqlContext.sql(\"\"\"\n",
    "    SELECT year_r, AVG(puntuacion) FROM ratings GROUP BY year_r\n",
    "\"\"\")\n",
    "media_puntuaciones_por_año.show()"
   ]
  },
  {
   "cell_type": "markdown",
   "metadata": {},
   "source": [
    "Obtener dos rdd's: uno que contenga el número de puntuaciones y otro que contenga la suma de puntuaciones por año. Otro rdd que sea el join de ambas y mapearlo para dividir la suma entre n; obteniendo asi la media por año."
   ]
  },
  {
   "cell_type": "code",
   "execution_count": 96,
   "metadata": {
    "collapsed": false
   },
   "outputs": [
    {
     "data": {
      "text/plain": [
       "[(2000, 904757), (2001, 68058), (2002, 24046), (2003, 3348)]"
      ]
     },
     "execution_count": 96,
     "metadata": {},
     "output_type": "execute_result"
    }
   ],
   "source": [
    "n_ratings_por_año = ratings_split_data.map(lambda line: (line[3], 1)).reduceByKey(lambda a, b: a + b)\n",
    "n_ratings_por_año.take(5)"
   ]
  },
  {
   "cell_type": "code",
   "execution_count": 97,
   "metadata": {
    "collapsed": false
   },
   "outputs": [
    {
     "data": {
      "text/plain": [
       "[(2000, 3248432.0), (2001, 239037.0), (2002, 83171.0), (2003, 11673.0)]"
      ]
     },
     "execution_count": 97,
     "metadata": {},
     "output_type": "execute_result"
    }
   ],
   "source": [
    "suma_ratings_por_año = ratings_split_data.map(lambda line: (line[3], line[2])).reduceByKey(lambda a, b: a + b)\n",
    "suma_ratings_por_año.take(5)"
   ]
  },
  {
   "cell_type": "code",
   "execution_count": 98,
   "metadata": {
    "collapsed": false
   },
   "outputs": [
    {
     "data": {
      "text/plain": [
       "[(2000, (904757, 3248432.0)),\n",
       " (2001, (68058, 239037.0)),\n",
       " (2002, (24046, 83171.0)),\n",
       " (2003, (3348, 11673.0))]"
      ]
     },
     "execution_count": 98,
     "metadata": {},
     "output_type": "execute_result"
    }
   ],
   "source": [
    "n_ratings_por_año.join(suma_ratings_por_año).collect()"
   ]
  },
  {
   "cell_type": "code",
   "execution_count": 99,
   "metadata": {
    "collapsed": false
   },
   "outputs": [
    {
     "data": {
      "text/plain": [
       "[(2000, 3.5903916742285498),\n",
       " (2001, 3.5122542537247643),\n",
       " (2002, 3.458828911253431),\n",
       " (2003, 3.486559139784946)]"
      ]
     },
     "execution_count": 99,
     "metadata": {},
     "output_type": "execute_result"
    }
   ],
   "source": [
    "n_ratings_por_año.join(suma_ratings_por_año).map(lambda year : (year[0], (int(year[1][1]) / year[1][0]))).collect()"
   ]
  },
  {
   "cell_type": "markdown",
   "metadata": {},
   "source": [
    "## Tercera pregunta: ¿Cuál es la película más votada por los mayores de 60? "
   ]
  },
  {
   "cell_type": "code",
   "execution_count": 108,
   "metadata": {
    "collapsed": false
   },
   "outputs": [
    {
     "name": "stdout",
     "output_type": "stream",
     "text": [
      "+-------------+----+------------+----------+----+\n",
      "|codigo_postal|edad|id_profesion|id_usuario|sexo|\n",
      "+-------------+----+------------+----------+----+\n",
      "+-------------+----+------------+----------+----+\n",
      "\n"
     ]
    }
   ],
   "source": [
    "mayores_60 = sqlContext.sql(\"\"\"\n",
    "    SELECT * FROM users WHERE edad > 59\n",
    "\"\"\")\n",
    "mayores_60.show()"
   ]
  },
  {
   "cell_type": "code",
   "execution_count": 144,
   "metadata": {
    "collapsed": false
   },
   "outputs": [
    {
     "name": "stdout",
     "output_type": "stream",
     "text": [
      "+----+\n",
      "|edad|\n",
      "+----+\n",
      "|  50|\n",
      "|  25|\n",
      "|  56|\n",
      "|   1|\n",
      "|  35|\n",
      "|  18|\n",
      "|  45|\n",
      "+----+\n",
      "\n"
     ]
    }
   ],
   "source": [
    "mayores_60 = sqlContext.sql(\"\"\"\n",
    "    SELECT DISTINCT(edad) FROM users\n",
    "\"\"\")\n",
    "mayores_60.show()"
   ]
  },
  {
   "cell_type": "markdown",
   "metadata": {},
   "source": [
    "### MODIFICACIÓN Tercera pregunta: ¿Cuál es la película más votada por los mayores de 50? "
   ]
  },
  {
   "cell_type": "code",
   "execution_count": 241,
   "metadata": {
    "collapsed": false
   },
   "outputs": [
    {
     "name": "stdout",
     "output_type": "stream",
     "text": [
      "+----------+\n",
      "|max(votos)|\n",
      "+----------+\n",
      "|       429|\n",
      "+----------+\n",
      "\n"
     ]
    }
   ],
   "source": [
    "prueba = sqlContext.sql(\"\"\"\n",
    "    SELECT MAX(votos)\n",
    "    FROM (SELECT titulo, COUNT(titulo) as votos\n",
    "    FROM ((SELECT * FROM users WHERE edad > 49) JOIN ( movies JOIN ratings ON id_pelicula = id_pelicula_r) ON id_usuario = id_usuario_r  )\n",
    "    GROUP BY titulo)\n",
    "\"\"\")\n",
    "prueba.show()"
   ]
  },
  {
   "cell_type": "markdown",
   "metadata": {},
   "source": [
    "Hacer un join de las tres bases de datos para tener en un mismo rdd el título de la pelicula y las calificaciones. Antes de unir las bases de datos necesito hacer un filtro para que contenga solo mayores de 50 (tabla users). las conecciones de las tablas se establecen atravez de las variables  id user y id pelicula, las cuales utilizaremos como key para el join. Depués contaremos las veces que cada titulo fue votado para encontrar la pelucila con más votos."
   ]
  },
  {
   "cell_type": "code",
   "execution_count": 191,
   "metadata": {
    "collapsed": false
   },
   "outputs": [
    {
     "data": {
      "text/plain": [
       "[('1', '1193'), ('1', '661'), ('1', '914'), ('1', '3408'), ('1', '2355')]"
      ]
     },
     "execution_count": 191,
     "metadata": {},
     "output_type": "execute_result"
    }
   ],
   "source": [
    "## id user, id pelicula \n",
    "temp_ratings = ratings_split_data.map(lambda line: (line[0], line[1]))\n",
    "temp_ratings.take(5)"
   ]
  },
  {
   "cell_type": "code",
   "execution_count": 192,
   "metadata": {
    "collapsed": false
   },
   "outputs": [
    {
     "data": {
      "text/plain": [
       "[('1', 'Toy Story'),\n",
       " ('2', 'Jumanji'),\n",
       " ('3', 'Grumpier Old Men'),\n",
       " ('4', 'Waiting to Exhale'),\n",
       " ('5', 'Father of the Bride Part II')]"
      ]
     },
     "execution_count": 192,
     "metadata": {},
     "output_type": "execute_result"
    }
   ],
   "source": [
    "## id pelicula, titulo \n",
    "temp_movies = movies_split_data.map(lambda line: (line[0], line[1]))\n",
    "temp_movies.take(5)"
   ]
  },
  {
   "cell_type": "code",
   "execution_count": 193,
   "metadata": {
    "collapsed": false
   },
   "outputs": [
    {
     "data": {
      "text/plain": [
       "[('2', '56'), ('6', '50'), ('17', '50'), ('31', '56'), ('54', '50')]"
      ]
     },
     "execution_count": 193,
     "metadata": {},
     "output_type": "execute_result"
    }
   ],
   "source": [
    "## id user, edad\n",
    "temp_users = users_split_data.filter(lambda user : int(user[2])>49).map(lambda line: (line[0], line[2]))\n",
    "temp_users.take(5)"
   ]
  },
  {
   "cell_type": "code",
   "execution_count": 194,
   "metadata": {
    "collapsed": false
   },
   "outputs": [
    {
     "data": {
      "text/plain": [
       "[('2265', ('1249', '56')),\n",
       " ('2265', ('3936', '56')),\n",
       " ('2265', ('3937', '56')),\n",
       " ('2265', ('2054', '56')),\n",
       " ('2265', ('1254', '56'))]"
      ]
     },
     "execution_count": 194,
     "metadata": {},
     "output_type": "execute_result"
    }
   ],
   "source": [
    "## id user, (id pelicula,edad)\n",
    "ratings_users = temp_ratings.join(temp_users)\n",
    "ratings_users.take(5)"
   ]
  },
  {
   "cell_type": "code",
   "execution_count": 195,
   "metadata": {
    "collapsed": false
   },
   "outputs": [
    {
     "data": {
      "text/plain": [
       "[('1249', '2265'),\n",
       " ('3936', '2265'),\n",
       " ('3937', '2265'),\n",
       " ('2054', '2265'),\n",
       " ('1254', '2265')]"
      ]
     },
     "execution_count": 195,
     "metadata": {},
     "output_type": "execute_result"
    }
   ],
   "source": [
    "## id_pelicula, id users\n",
    "ratings_users = ratings_users.map(lambda x : (x[1][0], x[0]))\n",
    "ratings_users.take(5)"
   ]
  },
  {
   "cell_type": "code",
   "execution_count": 196,
   "metadata": {
    "collapsed": false
   },
   "outputs": [
    {
     "data": {
      "text/plain": [
       "[('1805', ('571', 'Wild Things')),\n",
       " ('1805', ('2025', 'Wild Things')),\n",
       " ('1805', ('4497', 'Wild Things')),\n",
       " ('1805', ('1925', 'Wild Things')),\n",
       " ('1805', ('4156', 'Wild Things'))]"
      ]
     },
     "execution_count": 196,
     "metadata": {},
     "output_type": "execute_result"
    }
   ],
   "source": [
    "## id_pelicula, (id_users, titulo)\n",
    "ratings_users_movies = ratings_users.join(temp_movies)\n",
    "ratings_users_movies.take(5)"
   ]
  },
  {
   "cell_type": "code",
   "execution_count": 197,
   "metadata": {
    "collapsed": false
   },
   "outputs": [
    {
     "data": {
      "text/plain": [
       "[('City, The', 1),\n",
       " ('Six Days Seven Nights', 50),\n",
       " ('Tora! Tora! Tora!', 44),\n",
       " ('Army of Darkness', 33),\n",
       " ('Different for Girls', 4)]"
      ]
     },
     "execution_count": 197,
     "metadata": {},
     "output_type": "execute_result"
    }
   ],
   "source": [
    "votos_movies = ratings_users_movies.map(lambda movie : (movie[1][1],1)).reduceByKey(lambda a, b: a + b)\n",
    "votos_movies.take(5)"
   ]
  },
  {
   "cell_type": "code",
   "execution_count": 198,
   "metadata": {
    "collapsed": false
   },
   "outputs": [
    {
     "name": "stderr",
     "output_type": "stream",
     "text": [
      "/opt/conda/lib/python3.5/site-packages/ipykernel/__main__.py:1: FutureWarning: sort(columns=....) is deprecated, use sort_values(by=.....)\n",
      "  if __name__ == '__main__':\n"
     ]
    },
    {
     "data": {
      "text/html": [
       "<div>\n",
       "<table border=\"1\" class=\"dataframe\">\n",
       "  <thead>\n",
       "    <tr style=\"text-align: right;\">\n",
       "      <th></th>\n",
       "      <th>0</th>\n",
       "      <th>1</th>\n",
       "    </tr>\n",
       "  </thead>\n",
       "  <tbody>\n",
       "    <tr>\n",
       "      <th>763</th>\n",
       "      <td>American Beauty</td>\n",
       "      <td>432</td>\n",
       "    </tr>\n",
       "    <tr>\n",
       "      <th>1725</th>\n",
       "      <td>Star Wars: Episode IV - A New Hope</td>\n",
       "      <td>331</td>\n",
       "    </tr>\n",
       "    <tr>\n",
       "      <th>1030</th>\n",
       "      <td>Shakespeare in Love</td>\n",
       "      <td>326</td>\n",
       "    </tr>\n",
       "    <tr>\n",
       "      <th>396</th>\n",
       "      <td>Godfather, The</td>\n",
       "      <td>320</td>\n",
       "    </tr>\n",
       "    <tr>\n",
       "      <th>2812</th>\n",
       "      <td>Star Wars: Episode V - The Empire Strikes Back</td>\n",
       "      <td>319</td>\n",
       "    </tr>\n",
       "    <tr>\n",
       "      <th>1706</th>\n",
       "      <td>Fargo</td>\n",
       "      <td>317</td>\n",
       "    </tr>\n",
       "    <tr>\n",
       "      <th>686</th>\n",
       "      <td>L.A. Confidential</td>\n",
       "      <td>307</td>\n",
       "    </tr>\n",
       "    <tr>\n",
       "      <th>544</th>\n",
       "      <td>Jurassic Park</td>\n",
       "      <td>306</td>\n",
       "    </tr>\n",
       "    <tr>\n",
       "      <th>1937</th>\n",
       "      <td>Schindler's List</td>\n",
       "      <td>305</td>\n",
       "    </tr>\n",
       "    <tr>\n",
       "      <th>177</th>\n",
       "      <td>Star Wars: Episode VI - Return of the Jedi</td>\n",
       "      <td>300</td>\n",
       "    </tr>\n",
       "    <tr>\n",
       "      <th>553</th>\n",
       "      <td>Back to the Future</td>\n",
       "      <td>297</td>\n",
       "    </tr>\n",
       "    <tr>\n",
       "      <th>47</th>\n",
       "      <td>Saving Private Ryan</td>\n",
       "      <td>296</td>\n",
       "    </tr>\n",
       "    <tr>\n",
       "      <th>2705</th>\n",
       "      <td>Braveheart</td>\n",
       "      <td>289</td>\n",
       "    </tr>\n",
       "    <tr>\n",
       "      <th>2049</th>\n",
       "      <td>Silence of the Lambs, The</td>\n",
       "      <td>287</td>\n",
       "    </tr>\n",
       "    <tr>\n",
       "      <th>2756</th>\n",
       "      <td>Butch Cassidy and the Sundance Kid</td>\n",
       "      <td>284</td>\n",
       "    </tr>\n",
       "    <tr>\n",
       "      <th>1380</th>\n",
       "      <td>Raiders of the Lost Ark</td>\n",
       "      <td>272</td>\n",
       "    </tr>\n",
       "    <tr>\n",
       "      <th>3293</th>\n",
       "      <td>Forrest Gump</td>\n",
       "      <td>270</td>\n",
       "    </tr>\n",
       "    <tr>\n",
       "      <th>2642</th>\n",
       "      <td>Men in Black</td>\n",
       "      <td>268</td>\n",
       "    </tr>\n",
       "    <tr>\n",
       "      <th>363</th>\n",
       "      <td>2001: A Space Odyssey</td>\n",
       "      <td>267</td>\n",
       "    </tr>\n",
       "    <tr>\n",
       "      <th>2946</th>\n",
       "      <td>Annie Hall</td>\n",
       "      <td>265</td>\n",
       "    </tr>\n",
       "    <tr>\n",
       "      <th>2465</th>\n",
       "      <td>Casablanca</td>\n",
       "      <td>264</td>\n",
       "    </tr>\n",
       "    <tr>\n",
       "      <th>572</th>\n",
       "      <td>One Flew Over the Cuckoo's Nest</td>\n",
       "      <td>264</td>\n",
       "    </tr>\n",
       "    <tr>\n",
       "      <th>2352</th>\n",
       "      <td>Shawshank Redemption, The</td>\n",
       "      <td>252</td>\n",
       "    </tr>\n",
       "    <tr>\n",
       "      <th>2942</th>\n",
       "      <td>Terminator 2: Judgment Day</td>\n",
       "      <td>250</td>\n",
       "    </tr>\n",
       "    <tr>\n",
       "      <th>1488</th>\n",
       "      <td>Groundhog Day</td>\n",
       "      <td>247</td>\n",
       "    </tr>\n",
       "    <tr>\n",
       "      <th>2301</th>\n",
       "      <td>Chinatown</td>\n",
       "      <td>246</td>\n",
       "    </tr>\n",
       "    <tr>\n",
       "      <th>2593</th>\n",
       "      <td>Godfather: Part II, The</td>\n",
       "      <td>242</td>\n",
       "    </tr>\n",
       "    <tr>\n",
       "      <th>1376</th>\n",
       "      <td>E.T. the Extra-Terrestrial</td>\n",
       "      <td>240</td>\n",
       "    </tr>\n",
       "    <tr>\n",
       "      <th>135</th>\n",
       "      <td>North by Northwest</td>\n",
       "      <td>239</td>\n",
       "    </tr>\n",
       "    <tr>\n",
       "      <th>1730</th>\n",
       "      <td>African Queen, The</td>\n",
       "      <td>237</td>\n",
       "    </tr>\n",
       "    <tr>\n",
       "      <th>...</th>\n",
       "      <td>...</td>\n",
       "      <td>...</td>\n",
       "    </tr>\n",
       "    <tr>\n",
       "      <th>2731</th>\n",
       "      <td>Secret Agent, The</td>\n",
       "      <td>1</td>\n",
       "    </tr>\n",
       "    <tr>\n",
       "      <th>2733</th>\n",
       "      <td>Class Reunion</td>\n",
       "      <td>1</td>\n",
       "    </tr>\n",
       "    <tr>\n",
       "      <th>1291</th>\n",
       "      <td>Brother Minister: The Assassination of Malcolm X</td>\n",
       "      <td>1</td>\n",
       "    </tr>\n",
       "    <tr>\n",
       "      <th>617</th>\n",
       "      <td>Train of Life (Train De Vie)</td>\n",
       "      <td>1</td>\n",
       "    </tr>\n",
       "    <tr>\n",
       "      <th>620</th>\n",
       "      <td>Faithful</td>\n",
       "      <td>1</td>\n",
       "    </tr>\n",
       "    <tr>\n",
       "      <th>1288</th>\n",
       "      <td>Child's Play 3</td>\n",
       "      <td>1</td>\n",
       "    </tr>\n",
       "    <tr>\n",
       "      <th>1282</th>\n",
       "      <td>Kestrel's Eye (Falkens �ga)</td>\n",
       "      <td>1</td>\n",
       "    </tr>\n",
       "    <tr>\n",
       "      <th>3041</th>\n",
       "      <td>Feast of July</td>\n",
       "      <td>1</td>\n",
       "    </tr>\n",
       "    <tr>\n",
       "      <th>1392</th>\n",
       "      <td>Quiet Room, The</td>\n",
       "      <td>1</td>\n",
       "    </tr>\n",
       "    <tr>\n",
       "      <th>2699</th>\n",
       "      <td>Captives</td>\n",
       "      <td>1</td>\n",
       "    </tr>\n",
       "    <tr>\n",
       "      <th>1484</th>\n",
       "      <td>Follow the Bitch</td>\n",
       "      <td>1</td>\n",
       "    </tr>\n",
       "    <tr>\n",
       "      <th>1406</th>\n",
       "      <td>Cleo From 5 to 7 (Cl�o de 5 � 7)</td>\n",
       "      <td>1</td>\n",
       "    </tr>\n",
       "    <tr>\n",
       "      <th>2657</th>\n",
       "      <td>Very Natural Thing, A</td>\n",
       "      <td>1</td>\n",
       "    </tr>\n",
       "    <tr>\n",
       "      <th>1474</th>\n",
       "      <td>Substance of Fire, The</td>\n",
       "      <td>1</td>\n",
       "    </tr>\n",
       "    <tr>\n",
       "      <th>1472</th>\n",
       "      <td>Alan Smithee Film: Burn Hollywood Burn, An</td>\n",
       "      <td>1</td>\n",
       "    </tr>\n",
       "    <tr>\n",
       "      <th>2669</th>\n",
       "      <td>Heaven's Burning</td>\n",
       "      <td>1</td>\n",
       "    </tr>\n",
       "    <tr>\n",
       "      <th>1465</th>\n",
       "      <td>Dog of Flanders, A</td>\n",
       "      <td>1</td>\n",
       "    </tr>\n",
       "    <tr>\n",
       "      <th>506</th>\n",
       "      <td>Ed's Next Move</td>\n",
       "      <td>1</td>\n",
       "    </tr>\n",
       "    <tr>\n",
       "      <th>507</th>\n",
       "      <td>Black Sunday (La Maschera Del Demonio)</td>\n",
       "      <td>1</td>\n",
       "    </tr>\n",
       "    <tr>\n",
       "      <th>1454</th>\n",
       "      <td>Frogs for Snakes</td>\n",
       "      <td>1</td>\n",
       "    </tr>\n",
       "    <tr>\n",
       "      <th>2676</th>\n",
       "      <td>Number Seventeen</td>\n",
       "      <td>1</td>\n",
       "    </tr>\n",
       "    <tr>\n",
       "      <th>1446</th>\n",
       "      <td>Tetsuo II: Body Hammer</td>\n",
       "      <td>1</td>\n",
       "    </tr>\n",
       "    <tr>\n",
       "      <th>1443</th>\n",
       "      <td>Blood Spattered Bride, The (La Novia Ensangren...</td>\n",
       "      <td>1</td>\n",
       "    </tr>\n",
       "    <tr>\n",
       "      <th>1433</th>\n",
       "      <td>Chopping Mall (a.k.a. Killbots)</td>\n",
       "      <td>1</td>\n",
       "    </tr>\n",
       "    <tr>\n",
       "      <th>2686</th>\n",
       "      <td>Chain of Fools</td>\n",
       "      <td>1</td>\n",
       "    </tr>\n",
       "    <tr>\n",
       "      <th>1428</th>\n",
       "      <td>Schizopolis</td>\n",
       "      <td>1</td>\n",
       "    </tr>\n",
       "    <tr>\n",
       "      <th>1426</th>\n",
       "      <td>Don't Look in the Basement!</td>\n",
       "      <td>1</td>\n",
       "    </tr>\n",
       "    <tr>\n",
       "      <th>1421</th>\n",
       "      <td>Love Jones</td>\n",
       "      <td>1</td>\n",
       "    </tr>\n",
       "    <tr>\n",
       "      <th>2695</th>\n",
       "      <td>SubUrbia</td>\n",
       "      <td>1</td>\n",
       "    </tr>\n",
       "    <tr>\n",
       "      <th>0</th>\n",
       "      <td>City, The</td>\n",
       "      <td>1</td>\n",
       "    </tr>\n",
       "  </tbody>\n",
       "</table>\n",
       "<p>3330 rows × 2 columns</p>\n",
       "</div>"
      ],
      "text/plain": [
       "                                                      0    1\n",
       "763                                     American Beauty  432\n",
       "1725                 Star Wars: Episode IV - A New Hope  331\n",
       "1030                                Shakespeare in Love  326\n",
       "396                                      Godfather, The  320\n",
       "2812     Star Wars: Episode V - The Empire Strikes Back  319\n",
       "1706                                              Fargo  317\n",
       "686                                   L.A. Confidential  307\n",
       "544                                       Jurassic Park  306\n",
       "1937                                   Schindler's List  305\n",
       "177          Star Wars: Episode VI - Return of the Jedi  300\n",
       "553                                  Back to the Future  297\n",
       "47                                  Saving Private Ryan  296\n",
       "2705                                         Braveheart  289\n",
       "2049                          Silence of the Lambs, The  287\n",
       "2756                 Butch Cassidy and the Sundance Kid  284\n",
       "1380                            Raiders of the Lost Ark  272\n",
       "3293                                       Forrest Gump  270\n",
       "2642                                       Men in Black  268\n",
       "363                               2001: A Space Odyssey  267\n",
       "2946                                         Annie Hall  265\n",
       "2465                                         Casablanca  264\n",
       "572                     One Flew Over the Cuckoo's Nest  264\n",
       "2352                          Shawshank Redemption, The  252\n",
       "2942                         Terminator 2: Judgment Day  250\n",
       "1488                                      Groundhog Day  247\n",
       "2301                                          Chinatown  246\n",
       "2593                            Godfather: Part II, The  242\n",
       "1376                         E.T. the Extra-Terrestrial  240\n",
       "135                                  North by Northwest  239\n",
       "1730                                 African Queen, The  237\n",
       "...                                                 ...  ...\n",
       "2731                                  Secret Agent, The    1\n",
       "2733                                      Class Reunion    1\n",
       "1291   Brother Minister: The Assassination of Malcolm X    1\n",
       "617                        Train of Life (Train De Vie)    1\n",
       "620                                            Faithful    1\n",
       "1288                                     Child's Play 3    1\n",
       "1282                        Kestrel's Eye (Falkens �ga)    1\n",
       "3041                                      Feast of July    1\n",
       "1392                                    Quiet Room, The    1\n",
       "2699                                           Captives    1\n",
       "1484                                   Follow the Bitch    1\n",
       "1406                   Cleo From 5 to 7 (Cl�o de 5 � 7)    1\n",
       "2657                              Very Natural Thing, A    1\n",
       "1474                             Substance of Fire, The    1\n",
       "1472         Alan Smithee Film: Burn Hollywood Burn, An    1\n",
       "2669                                   Heaven's Burning    1\n",
       "1465                                 Dog of Flanders, A    1\n",
       "506                                      Ed's Next Move    1\n",
       "507              Black Sunday (La Maschera Del Demonio)    1\n",
       "1454                                   Frogs for Snakes    1\n",
       "2676                                   Number Seventeen    1\n",
       "1446                             Tetsuo II: Body Hammer    1\n",
       "1443  Blood Spattered Bride, The (La Novia Ensangren...    1\n",
       "1433                    Chopping Mall (a.k.a. Killbots)    1\n",
       "2686                                     Chain of Fools    1\n",
       "1428                                        Schizopolis    1\n",
       "1426                        Don't Look in the Basement!    1\n",
       "1421                                         Love Jones    1\n",
       "2695                                           SubUrbia    1\n",
       "0                                             City, The    1\n",
       "\n",
       "[3330 rows x 2 columns]"
      ]
     },
     "execution_count": 198,
     "metadata": {},
     "output_type": "execute_result"
    }
   ],
   "source": [
    "pd.DataFrame(votos_movies.collect()).sort(1, ascending = False)"
   ]
  },
  {
   "cell_type": "code",
   "execution_count": 270,
   "metadata": {
    "collapsed": false
   },
   "outputs": [
    {
     "data": {
      "text/plain": [
       "('American Beauty', 432)"
      ]
     },
     "execution_count": 270,
     "metadata": {},
     "output_type": "execute_result"
    }
   ],
   "source": [
    "votos_movies.max(lambda x : x[1])"
   ]
  },
  {
   "cell_type": "markdown",
   "metadata": {},
   "source": [
    "## Cuarta pregunta: ¿Cuál es la puntuación media de las peliculas de acción del año 2000?"
   ]
  },
  {
   "cell_type": "markdown",
   "metadata": {},
   "source": [
    "Filtraremos por Tipo accion el rdd de movies y por año 2000 el rdd ratings. Haremos un join entre las tablas a partir del key (id pelicula). Contaremos las calificaciones y sumaremos las puntuaciones para despues dividir y obtener la media de puntuaciones de las peliculas de accion para le año 2000."
   ]
  },
  {
   "cell_type": "code",
   "execution_count": 208,
   "metadata": {
    "collapsed": false
   },
   "outputs": [],
   "source": [
    "def f_tipo(x):\n",
    "    y = \"\"\n",
    "    for i in x:\n",
    "        y = y+i\n",
    "    return(y)"
   ]
  },
  {
   "cell_type": "code",
   "execution_count": 225,
   "metadata": {
    "collapsed": true
   },
   "outputs": [],
   "source": [
    "def accion(x):\n",
    "    y = 0\n",
    "    for i in x:\n",
    "        if(i == \"Action\"):\n",
    "            y = 1\n",
    "    return(y)"
   ]
  },
  {
   "cell_type": "code",
   "execution_count": 226,
   "metadata": {
    "collapsed": true
   },
   "outputs": [],
   "source": [
    "movies_row_data2 = movies_split_data.map(lambda p: Row(\n",
    "    id_pelicula = p[0], \n",
    "    titulo = p[1],\n",
    "    year = p[2],\n",
    "    action = accion(p[3])\n",
    "    )\n",
    ")"
   ]
  },
  {
   "cell_type": "code",
   "execution_count": 227,
   "metadata": {
    "collapsed": true
   },
   "outputs": [],
   "source": [
    "movies_df2 = sqlContext.createDataFrame(movies_row_data2)\n",
    "movies_df2.registerTempTable(\"movies2\")"
   ]
  },
  {
   "cell_type": "code",
   "execution_count": 230,
   "metadata": {
    "collapsed": false
   },
   "outputs": [
    {
     "name": "stdout",
     "output_type": "stream",
     "text": [
      "+------+-----------+-------------------+----+\n",
      "|action|id_pelicula|             titulo|year|\n",
      "+------+-----------+-------------------+----+\n",
      "|     1|          6|               Heat|1995|\n",
      "|     1|          9|       Sudden Death|1995|\n",
      "|     1|         10|          GoldenEye|1995|\n",
      "|     1|         15|   Cutthroat Island|1995|\n",
      "|     1|         20|        Money Train|1995|\n",
      "|     1|         21|         Get Shorty|1995|\n",
      "|     1|         42|    Dead Presidents|1995|\n",
      "|     1|         44|      Mortal Kombat|1995|\n",
      "|     1|         51|     Guardian Angel|1994|\n",
      "|     1|         70|From Dusk Till Dawn|1996|\n",
      "|     1|         71|          Fair Game|1995|\n",
      "|     1|         89|       Nick of Time|1995|\n",
      "|     1|         95|       Broken Arrow|1996|\n",
      "|     1|         98|           Shopping|1994|\n",
      "|     1|        110|         Braveheart|1995|\n",
      "|     1|        112|Rumble in the Bronx|1995|\n",
      "|     1|        139|             Target|1995|\n",
      "|     1|        145|           Bad Boys|1995|\n",
      "|     1|        153|     Batman Forever|1995|\n",
      "|     1|        160|              Congo|1995|\n",
      "+------+-----------+-------------------+----+\n",
      "only showing top 20 rows\n",
      "\n"
     ]
    }
   ],
   "source": [
    "prueba = sqlContext.sql(\"\"\"\n",
    "    SELECT * FROM movies2 WHERE action = 1\n",
    "\"\"\")\n",
    "prueba.show()"
   ]
  },
  {
   "cell_type": "code",
   "execution_count": 231,
   "metadata": {
    "collapsed": false
   },
   "outputs": [
    {
     "name": "stdout",
     "output_type": "stream",
     "text": [
      "+-------------+------------+----------+------+\n",
      "|id_pelicula_r|id_usuario_r|puntuacion|year_r|\n",
      "+-------------+------------+----------+------+\n",
      "|            1|        1193|       5.0|  2000|\n",
      "|            1|         661|       3.0|  2000|\n",
      "|            1|         914|       3.0|  2000|\n",
      "|            1|        3408|       4.0|  2000|\n",
      "|            1|        1197|       3.0|  2000|\n",
      "|            1|        1287|       5.0|  2000|\n",
      "|            1|        2804|       5.0|  2000|\n",
      "|            1|         594|       4.0|  2000|\n",
      "|            1|         919|       4.0|  2000|\n",
      "|            1|         938|       4.0|  2000|\n",
      "|            1|        2398|       4.0|  2000|\n",
      "|            1|        2918|       4.0|  2000|\n",
      "|            1|        1035|       5.0|  2000|\n",
      "|            1|        2791|       4.0|  2000|\n",
      "|            1|        2018|       4.0|  2000|\n",
      "|            1|        3105|       5.0|  2000|\n",
      "|            1|        2797|       4.0|  2000|\n",
      "|            1|        2321|       3.0|  2000|\n",
      "|            1|         720|       3.0|  2000|\n",
      "|            1|        1270|       5.0|  2000|\n",
      "+-------------+------------+----------+------+\n",
      "only showing top 20 rows\n",
      "\n"
     ]
    }
   ],
   "source": [
    "prueba = sqlContext.sql(\"\"\"\n",
    "    SELECT * FROM ratings WHERE year_r = 2000\n",
    "\"\"\")\n",
    "prueba.show()"
   ]
  },
  {
   "cell_type": "code",
   "execution_count": 237,
   "metadata": {
    "collapsed": false
   },
   "outputs": [
    {
     "name": "stdout",
     "output_type": "stream",
     "text": [
      "+------------------+\n",
      "|   avg(puntuacion)|\n",
      "+------------------+\n",
      "|3.5394796457746964|\n",
      "+------------------+\n",
      "\n"
     ]
    }
   ],
   "source": [
    "prueba = sqlContext.sql(\"\"\"\n",
    "    SELECT AVG(puntuacion) FROM ((SELECT * FROM movies2 WHERE action = 1) JOIN (SELECT * FROM ratings WHERE year_r = 2000) ON id_pelicula = id_pelicula_r)\n",
    "\"\"\")\n",
    "prueba.show()"
   ]
  },
  {
   "cell_type": "code",
   "execution_count": 242,
   "metadata": {
    "collapsed": false
   },
   "outputs": [
    {
     "data": {
      "text/plain": [
       "[['1', 'Toy Story', '1995', 0],\n",
       " ['2', 'Jumanji', '1995', 0],\n",
       " ['3', 'Grumpier Old Men', '1995', 0],\n",
       " ['4', 'Waiting to Exhale', '1995', 0],\n",
       " ['5', 'Father of the Bride Part II', '1995', 0]]"
      ]
     },
     "execution_count": 242,
     "metadata": {},
     "output_type": "execute_result"
    }
   ],
   "source": [
    "movies_action = movies_raw_data.map(lambda x : x.split(\"::\")).map(lambda x : [x[0], x[1][0:-7], x[1][-5:-1], accion(x[2].split(\"|\"))])\n",
    "movies_action.take(5)"
   ]
  },
  {
   "cell_type": "code",
   "execution_count": 244,
   "metadata": {
    "collapsed": false
   },
   "outputs": [
    {
     "data": {
      "text/plain": [
       "[['1', '1193', 5.0, 2000],\n",
       " ['1', '661', 3.0, 2000],\n",
       " ['1', '914', 3.0, 2000],\n",
       " ['1', '3408', 4.0, 2000],\n",
       " ['1', '1197', 3.0, 2000]]"
      ]
     },
     "execution_count": 244,
     "metadata": {},
     "output_type": "execute_result"
    }
   ],
   "source": [
    "ratings_2000 = ratings_split_data.filter(lambda rate : int(rate[3]) == 2000)\n",
    "ratings_2000.take(5)"
   ]
  },
  {
   "cell_type": "code",
   "execution_count": 246,
   "metadata": {
    "collapsed": false
   },
   "outputs": [
    {
     "data": {
      "text/plain": [
       "[('1440', (0, 3.0)),\n",
       " ('1440', (0, 3.0)),\n",
       " ('1440', (0, 3.0)),\n",
       " ('1440', (0, 4.0)),\n",
       " ('1440', (0, 3.0))]"
      ]
     },
     "execution_count": 246,
     "metadata": {},
     "output_type": "execute_result"
    }
   ],
   "source": [
    "action_2000 = movies_action.map(lambda x : (x[0], x[3])).join(ratings_2000.map(lambda x : (x[0], x[2])))\n",
    "action_2000.take(5)"
   ]
  },
  {
   "cell_type": "code",
   "execution_count": 248,
   "metadata": {
    "collapsed": false
   },
   "outputs": [
    {
     "data": {
      "text/plain": [
       "3.5816669721007757"
      ]
     },
     "execution_count": 248,
     "metadata": {},
     "output_type": "execute_result"
    }
   ],
   "source": [
    "action_2000.map(lambda x : x[1][1]).sum() / action_2000.map(lambda x : x[1][1]).count()"
   ]
  },
  {
   "cell_type": "markdown",
   "metadata": {},
   "source": [
    "## Quinta pregunta: ¿ Cuál es el año en que mayor número de usuarios votaron?"
   ]
  },
  {
   "cell_type": "markdown",
   "metadata": {},
   "source": [
    "Agrupamos por año y contamos el número de usuarios diferentes que votaron (unicos; i.e. sin duplicar)"
   ]
  },
  {
   "cell_type": "code",
   "execution_count": 256,
   "metadata": {
    "collapsed": false
   },
   "outputs": [
    {
     "name": "stdout",
     "output_type": "stream",
     "text": [
      "+------+----------------------------+\n",
      "|year_r|count(DISTINCT id_usuario_r)|\n",
      "+------+----------------------------+\n",
      "|  2003|                        1601|\n",
      "|  2002|                        2971|\n",
      "|  2000|                        3678|\n",
      "|  2001|                        3289|\n",
      "+------+----------------------------+\n",
      "\n"
     ]
    }
   ],
   "source": [
    "prueba = sqlContext.sql(\"\"\"\n",
    "    SELECT year_r, COUNT(DISTINCT(id_usuario_r)) FROM ratings GROUP BY year_r\n",
    "\"\"\")\n",
    "prueba.show()"
   ]
  },
  {
   "cell_type": "code",
   "execution_count": 262,
   "metadata": {
    "collapsed": false
   },
   "outputs": [
    {
     "data": {
      "text/plain": [
       "[('2003', 1601), ('2001', 3289), ('2002', 2971), ('2000', 3678)]"
      ]
     },
     "execution_count": 262,
     "metadata": {},
     "output_type": "execute_result"
    }
   ],
   "source": [
    "ratings_year = ratings_split_data.map(lambda x : (str(x[3])+x[1])).distinct().map(lambda x :(x[0:4],1)).reduceByKey(lambda a, b: a + b)\n",
    "pd.DataFrame(ratings_year.collect())"
   ]
  },
  {
   "cell_type": "markdown",
   "metadata": {},
   "source": [
    "## Sexta pregunta: ¿ Cuál es la película con mejor puntación media?"
   ]
  },
  {
   "cell_type": "markdown",
   "metadata": {},
   "source": [
    "Join entre los rdd ratings y movies, sumamos las puntuaciones por pelicula, contamos los votos por pelicula. Mapeamos para dividir la suma entre el número de votos por pelicula y obtenemos el máximo."
   ]
  },
  {
   "cell_type": "code",
   "execution_count": 263,
   "metadata": {
    "collapsed": false
   },
   "outputs": [
    {
     "data": {
      "text/plain": [
       "[('2250', (4.0, \"Men Don't Leave\")),\n",
       " ('2250', (3.0, \"Men Don't Leave\")),\n",
       " ('2250', (1.0, \"Men Don't Leave\")),\n",
       " ('2250', (5.0, \"Men Don't Leave\")),\n",
       " ('2250', (4.0, \"Men Don't Leave\"))]"
      ]
     },
     "execution_count": 263,
     "metadata": {},
     "output_type": "execute_result"
    }
   ],
   "source": [
    "ratings_movies_join = ratings_split_data.map(lambda x : (x[0],x[2])).join(movies_split_data.map(lambda x : (x[0],x[1])))\n",
    "ratings_movies_join.take(5)"
   ]
  },
  {
   "cell_type": "code",
   "execution_count": 264,
   "metadata": {
    "collapsed": false
   },
   "outputs": [
    {
     "data": {
      "text/plain": [
       "[(\"Men Don't Leave\", 4.0),\n",
       " (\"Men Don't Leave\", 3.0),\n",
       " (\"Men Don't Leave\", 1.0),\n",
       " (\"Men Don't Leave\", 5.0),\n",
       " (\"Men Don't Leave\", 4.0)]"
      ]
     },
     "execution_count": 264,
     "metadata": {},
     "output_type": "execute_result"
    }
   ],
   "source": [
    "title_ratings = ratings_movies_join.map(lambda x : (x[1][1],x[1][0]))\n",
    "title_ratings.take(5)"
   ]
  },
  {
   "cell_type": "code",
   "execution_count": 265,
   "metadata": {
    "collapsed": false
   },
   "outputs": [
    {
     "data": {
      "text/plain": [
       "[('City, The', 1228.0),\n",
       " ('How to Make an American Quilt', 173.0),\n",
       " ('Weird Science', 212.0),\n",
       " ('Surviving Picasso', 542.0),\n",
       " ('Outrageous Fortune', 1246.0)]"
      ]
     },
     "execution_count": 265,
     "metadata": {},
     "output_type": "execute_result"
    }
   ],
   "source": [
    "title_sum_rating = title_ratings.reduceByKey(lambda a, b: a + b)\n",
    "title_sum_rating.take(5)"
   ]
  },
  {
   "cell_type": "code",
   "execution_count": 266,
   "metadata": {
    "collapsed": false
   },
   "outputs": [
    {
     "data": {
      "text/plain": [
       "[('City, The', 377),\n",
       " ('How to Make an American Quilt', 41),\n",
       " ('Weird Science', 59),\n",
       " ('Surviving Picasso', 144),\n",
       " ('Outrageous Fortune', 378)]"
      ]
     },
     "execution_count": 266,
     "metadata": {},
     "output_type": "execute_result"
    }
   ],
   "source": [
    "n_title_rating = title_ratings.map(lambda x : (x[0],1)).reduceByKey(lambda a, b: a + b)\n",
    "n_title_rating.take(5)"
   ]
  },
  {
   "cell_type": "code",
   "execution_count": 269,
   "metadata": {
    "collapsed": false
   },
   "outputs": [
    {
     "name": "stderr",
     "output_type": "stream",
     "text": [
      "/opt/conda/lib/python3.5/site-packages/ipykernel/__main__.py:1: FutureWarning: sort(columns=....) is deprecated, use sort_values(by=.....)\n",
      "  if __name__ == '__main__':\n"
     ]
    },
    {
     "data": {
      "text/html": [
       "<div>\n",
       "<table border=\"1\" class=\"dataframe\">\n",
       "  <thead>\n",
       "    <tr style=\"text-align: right;\">\n",
       "      <th></th>\n",
       "      <th>0</th>\n",
       "      <th>1</th>\n",
       "    </tr>\n",
       "  </thead>\n",
       "  <tbody>\n",
       "    <tr>\n",
       "      <th>3158</th>\n",
       "      <td>New Jersey Drive</td>\n",
       "      <td>4.962963</td>\n",
       "    </tr>\n",
       "    <tr>\n",
       "      <th>324</th>\n",
       "      <td>I'll Be Home For Christmas</td>\n",
       "      <td>4.956522</td>\n",
       "    </tr>\n",
       "    <tr>\n",
       "      <th>390</th>\n",
       "      <td>Drowning Mona</td>\n",
       "      <td>4.904762</td>\n",
       "    </tr>\n",
       "    <tr>\n",
       "      <th>3651</th>\n",
       "      <td>Goya in Bordeaux (Goya en Bodeos)</td>\n",
       "      <td>4.890909</td>\n",
       "    </tr>\n",
       "    <tr>\n",
       "      <th>1139</th>\n",
       "      <td>Farewell My Concubine</td>\n",
       "      <td>4.843137</td>\n",
       "    </tr>\n",
       "    <tr>\n",
       "      <th>2196</th>\n",
       "      <td>Favor, The</td>\n",
       "      <td>4.837838</td>\n",
       "    </tr>\n",
       "    <tr>\n",
       "      <th>1418</th>\n",
       "      <td>Jean de Florette</td>\n",
       "      <td>4.796117</td>\n",
       "    </tr>\n",
       "    <tr>\n",
       "      <th>1589</th>\n",
       "      <td>Tigrero: A Film That Was Never Made</td>\n",
       "      <td>4.733333</td>\n",
       "    </tr>\n",
       "    <tr>\n",
       "      <th>3832</th>\n",
       "      <td>Welcome To Sarajevo</td>\n",
       "      <td>4.714286</td>\n",
       "    </tr>\n",
       "    <tr>\n",
       "      <th>663</th>\n",
       "      <td>Lord of the Flies</td>\n",
       "      <td>4.702703</td>\n",
       "    </tr>\n",
       "    <tr>\n",
       "      <th>913</th>\n",
       "      <td>Angels in the Outfield</td>\n",
       "      <td>4.694656</td>\n",
       "    </tr>\n",
       "    <tr>\n",
       "      <th>1147</th>\n",
       "      <td>Kurt &amp; Courtney</td>\n",
       "      <td>4.694030</td>\n",
       "    </tr>\n",
       "    <tr>\n",
       "      <th>1623</th>\n",
       "      <td>Slums of Beverly Hills, The</td>\n",
       "      <td>4.690141</td>\n",
       "    </tr>\n",
       "    <tr>\n",
       "      <th>2400</th>\n",
       "      <td>It's a Wonderful Life</td>\n",
       "      <td>4.687831</td>\n",
       "    </tr>\n",
       "    <tr>\n",
       "      <th>520</th>\n",
       "      <td>Screwed</td>\n",
       "      <td>4.687500</td>\n",
       "    </tr>\n",
       "    <tr>\n",
       "      <th>3083</th>\n",
       "      <td>Broadcast News</td>\n",
       "      <td>4.683333</td>\n",
       "    </tr>\n",
       "    <tr>\n",
       "      <th>2892</th>\n",
       "      <td>Schlafes Bruder (Brother of Sleep)</td>\n",
       "      <td>4.681818</td>\n",
       "    </tr>\n",
       "    <tr>\n",
       "      <th>2916</th>\n",
       "      <td>Bottle Rocket</td>\n",
       "      <td>4.679245</td>\n",
       "    </tr>\n",
       "    <tr>\n",
       "      <th>197</th>\n",
       "      <td>Gentleman's Agreement</td>\n",
       "      <td>4.671875</td>\n",
       "    </tr>\n",
       "    <tr>\n",
       "      <th>3647</th>\n",
       "      <td>Circus, The</td>\n",
       "      <td>4.666667</td>\n",
       "    </tr>\n",
       "    <tr>\n",
       "      <th>3259</th>\n",
       "      <td>Nosferatu a Venezia</td>\n",
       "      <td>4.651163</td>\n",
       "    </tr>\n",
       "    <tr>\n",
       "      <th>522</th>\n",
       "      <td>James and the Giant Peach</td>\n",
       "      <td>4.647887</td>\n",
       "    </tr>\n",
       "    <tr>\n",
       "      <th>3525</th>\n",
       "      <td>Starman</td>\n",
       "      <td>4.606557</td>\n",
       "    </tr>\n",
       "    <tr>\n",
       "      <th>1786</th>\n",
       "      <td>Out-of-Towners, The</td>\n",
       "      <td>4.606061</td>\n",
       "    </tr>\n",
       "    <tr>\n",
       "      <th>882</th>\n",
       "      <td>Killing, The</td>\n",
       "      <td>4.595238</td>\n",
       "    </tr>\n",
       "    <tr>\n",
       "      <th>3691</th>\n",
       "      <td>Three Colors: Blue</td>\n",
       "      <td>4.593407</td>\n",
       "    </tr>\n",
       "    <tr>\n",
       "      <th>1053</th>\n",
       "      <td>Gypsy</td>\n",
       "      <td>4.592593</td>\n",
       "    </tr>\n",
       "    <tr>\n",
       "      <th>1483</th>\n",
       "      <td>Halloween 5: The Revenge of Michael Myers</td>\n",
       "      <td>4.590909</td>\n",
       "    </tr>\n",
       "    <tr>\n",
       "      <th>120</th>\n",
       "      <td>Natural Born Killers</td>\n",
       "      <td>4.589286</td>\n",
       "    </tr>\n",
       "    <tr>\n",
       "      <th>3169</th>\n",
       "      <td>My Best Friend's Wedding</td>\n",
       "      <td>4.588889</td>\n",
       "    </tr>\n",
       "    <tr>\n",
       "      <th>...</th>\n",
       "      <td>...</td>\n",
       "      <td>...</td>\n",
       "    </tr>\n",
       "    <tr>\n",
       "      <th>3174</th>\n",
       "      <td>Blown Away</td>\n",
       "      <td>2.500000</td>\n",
       "    </tr>\n",
       "    <tr>\n",
       "      <th>1716</th>\n",
       "      <td>Kill, Baby... Kill! (Operazione Paura)</td>\n",
       "      <td>2.494186</td>\n",
       "    </tr>\n",
       "    <tr>\n",
       "      <th>2290</th>\n",
       "      <td>Out of Sight</td>\n",
       "      <td>2.487856</td>\n",
       "    </tr>\n",
       "    <tr>\n",
       "      <th>2664</th>\n",
       "      <td>Love Bug, The</td>\n",
       "      <td>2.475100</td>\n",
       "    </tr>\n",
       "    <tr>\n",
       "      <th>1996</th>\n",
       "      <td>How to Be a Player</td>\n",
       "      <td>2.472050</td>\n",
       "    </tr>\n",
       "    <tr>\n",
       "      <th>60</th>\n",
       "      <td>Blade</td>\n",
       "      <td>2.463964</td>\n",
       "    </tr>\n",
       "    <tr>\n",
       "      <th>617</th>\n",
       "      <td>Next Best Thing, The</td>\n",
       "      <td>2.461538</td>\n",
       "    </tr>\n",
       "    <tr>\n",
       "      <th>1970</th>\n",
       "      <td>Metropolis</td>\n",
       "      <td>2.458390</td>\n",
       "    </tr>\n",
       "    <tr>\n",
       "      <th>3007</th>\n",
       "      <td>Where the Money Is</td>\n",
       "      <td>2.456140</td>\n",
       "    </tr>\n",
       "    <tr>\n",
       "      <th>1660</th>\n",
       "      <td>Cats Don't Dance</td>\n",
       "      <td>2.443763</td>\n",
       "    </tr>\n",
       "    <tr>\n",
       "      <th>2443</th>\n",
       "      <td>Love and Death on Long Island</td>\n",
       "      <td>2.428256</td>\n",
       "    </tr>\n",
       "    <tr>\n",
       "      <th>3218</th>\n",
       "      <td>Summer of Sam</td>\n",
       "      <td>2.414634</td>\n",
       "    </tr>\n",
       "    <tr>\n",
       "      <th>902</th>\n",
       "      <td>Stranger, The</td>\n",
       "      <td>2.405018</td>\n",
       "    </tr>\n",
       "    <tr>\n",
       "      <th>3534</th>\n",
       "      <td>Chain Reaction</td>\n",
       "      <td>2.400000</td>\n",
       "    </tr>\n",
       "    <tr>\n",
       "      <th>1755</th>\n",
       "      <td>To Kill a Mockingbird</td>\n",
       "      <td>2.394822</td>\n",
       "    </tr>\n",
       "    <tr>\n",
       "      <th>182</th>\n",
       "      <td>Burnt Offerings</td>\n",
       "      <td>2.379310</td>\n",
       "    </tr>\n",
       "    <tr>\n",
       "      <th>3724</th>\n",
       "      <td>Postman, The</td>\n",
       "      <td>2.350785</td>\n",
       "    </tr>\n",
       "    <tr>\n",
       "      <th>2060</th>\n",
       "      <td>Roustabout</td>\n",
       "      <td>2.333333</td>\n",
       "    </tr>\n",
       "    <tr>\n",
       "      <th>3484</th>\n",
       "      <td>To Wong Foo, Thanks for Everything! Julie Newmar</td>\n",
       "      <td>2.291339</td>\n",
       "    </tr>\n",
       "    <tr>\n",
       "      <th>341</th>\n",
       "      <td>Mark of Zorro, The</td>\n",
       "      <td>2.285714</td>\n",
       "    </tr>\n",
       "    <tr>\n",
       "      <th>819</th>\n",
       "      <td>Lay of the Land, The</td>\n",
       "      <td>2.264957</td>\n",
       "    </tr>\n",
       "    <tr>\n",
       "      <th>2299</th>\n",
       "      <td>American Strays</td>\n",
       "      <td>2.259259</td>\n",
       "    </tr>\n",
       "    <tr>\n",
       "      <th>2876</th>\n",
       "      <td>Swing Kids</td>\n",
       "      <td>2.245556</td>\n",
       "    </tr>\n",
       "    <tr>\n",
       "      <th>3560</th>\n",
       "      <td>Days of Thunder</td>\n",
       "      <td>2.198819</td>\n",
       "    </tr>\n",
       "    <tr>\n",
       "      <th>2036</th>\n",
       "      <td>Desperado</td>\n",
       "      <td>2.182879</td>\n",
       "    </tr>\n",
       "    <tr>\n",
       "      <th>791</th>\n",
       "      <td>Bride of Frankenstein</td>\n",
       "      <td>2.162733</td>\n",
       "    </tr>\n",
       "    <tr>\n",
       "      <th>1533</th>\n",
       "      <td>Wag the Dog</td>\n",
       "      <td>2.138889</td>\n",
       "    </tr>\n",
       "    <tr>\n",
       "      <th>3282</th>\n",
       "      <td>Air Force One</td>\n",
       "      <td>2.083333</td>\n",
       "    </tr>\n",
       "    <tr>\n",
       "      <th>1357</th>\n",
       "      <td>Loves of Carmen, The</td>\n",
       "      <td>2.060870</td>\n",
       "    </tr>\n",
       "    <tr>\n",
       "      <th>3798</th>\n",
       "      <td>Otello</td>\n",
       "      <td>1.304348</td>\n",
       "    </tr>\n",
       "  </tbody>\n",
       "</table>\n",
       "<p>3841 rows × 2 columns</p>\n",
       "</div>"
      ],
      "text/plain": [
       "                                                     0         1\n",
       "3158                                  New Jersey Drive  4.962963\n",
       "324                         I'll Be Home For Christmas  4.956522\n",
       "390                                      Drowning Mona  4.904762\n",
       "3651                 Goya in Bordeaux (Goya en Bodeos)  4.890909\n",
       "1139                             Farewell My Concubine  4.843137\n",
       "2196                                        Favor, The  4.837838\n",
       "1418                                  Jean de Florette  4.796117\n",
       "1589               Tigrero: A Film That Was Never Made  4.733333\n",
       "3832                               Welcome To Sarajevo  4.714286\n",
       "663                                  Lord of the Flies  4.702703\n",
       "913                             Angels in the Outfield  4.694656\n",
       "1147                                   Kurt & Courtney  4.694030\n",
       "1623                       Slums of Beverly Hills, The  4.690141\n",
       "2400                             It's a Wonderful Life  4.687831\n",
       "520                                            Screwed  4.687500\n",
       "3083                                    Broadcast News  4.683333\n",
       "2892                Schlafes Bruder (Brother of Sleep)  4.681818\n",
       "2916                                     Bottle Rocket  4.679245\n",
       "197                              Gentleman's Agreement  4.671875\n",
       "3647                                       Circus, The  4.666667\n",
       "3259                               Nosferatu a Venezia  4.651163\n",
       "522                          James and the Giant Peach  4.647887\n",
       "3525                                           Starman  4.606557\n",
       "1786                               Out-of-Towners, The  4.606061\n",
       "882                                       Killing, The  4.595238\n",
       "3691                                Three Colors: Blue  4.593407\n",
       "1053                                             Gypsy  4.592593\n",
       "1483         Halloween 5: The Revenge of Michael Myers  4.590909\n",
       "120                               Natural Born Killers  4.589286\n",
       "3169                          My Best Friend's Wedding  4.588889\n",
       "...                                                ...       ...\n",
       "3174                                        Blown Away  2.500000\n",
       "1716            Kill, Baby... Kill! (Operazione Paura)  2.494186\n",
       "2290                                      Out of Sight  2.487856\n",
       "2664                                     Love Bug, The  2.475100\n",
       "1996                                How to Be a Player  2.472050\n",
       "60                                               Blade  2.463964\n",
       "617                               Next Best Thing, The  2.461538\n",
       "1970                                        Metropolis  2.458390\n",
       "3007                                Where the Money Is  2.456140\n",
       "1660                                  Cats Don't Dance  2.443763\n",
       "2443                     Love and Death on Long Island  2.428256\n",
       "3218                                     Summer of Sam  2.414634\n",
       "902                                      Stranger, The  2.405018\n",
       "3534                                    Chain Reaction  2.400000\n",
       "1755                             To Kill a Mockingbird  2.394822\n",
       "182                                    Burnt Offerings  2.379310\n",
       "3724                                      Postman, The  2.350785\n",
       "2060                                        Roustabout  2.333333\n",
       "3484  To Wong Foo, Thanks for Everything! Julie Newmar  2.291339\n",
       "341                                 Mark of Zorro, The  2.285714\n",
       "819                               Lay of the Land, The  2.264957\n",
       "2299                                   American Strays  2.259259\n",
       "2876                                        Swing Kids  2.245556\n",
       "3560                                   Days of Thunder  2.198819\n",
       "2036                                         Desperado  2.182879\n",
       "791                              Bride of Frankenstein  2.162733\n",
       "1533                                       Wag the Dog  2.138889\n",
       "3282                                     Air Force One  2.083333\n",
       "1357                              Loves of Carmen, The  2.060870\n",
       "3798                                            Otello  1.304348\n",
       "\n",
       "[3841 rows x 2 columns]"
      ]
     },
     "execution_count": 269,
     "metadata": {},
     "output_type": "execute_result"
    }
   ],
   "source": [
    "pd.DataFrame(title_sum_rating.join(n_title_rating).map(lambda x : (x[0], x[1][0]/x[1][1])).collect()).sort(1, ascending = False)"
   ]
  },
  {
   "cell_type": "code",
   "execution_count": 272,
   "metadata": {
    "collapsed": false
   },
   "outputs": [
    {
     "data": {
      "text/plain": [
       "('New Jersey Drive', 4.962962962962963)"
      ]
     },
     "execution_count": 272,
     "metadata": {},
     "output_type": "execute_result"
    }
   ],
   "source": [
    "title_sum_rating.join(n_title_rating).map(lambda x : (x[0], x[1][0]/x[1][1])).max(lambda x : x[1])"
   ]
  },
  {
   "cell_type": "code",
   "execution_count": 125,
   "metadata": {
    "collapsed": true
   },
   "outputs": [],
   "source": [
    "sc.stop()"
   ]
  }
 ],
 "metadata": {
  "kernelspec": {
   "display_name": "Python 3",
   "language": "python",
   "name": "python3"
  },
  "language_info": {
   "codemirror_mode": {
    "name": "ipython",
    "version": 3
   },
   "file_extension": ".py",
   "mimetype": "text/x-python",
   "name": "python",
   "nbconvert_exporter": "python",
   "pygments_lexer": "ipython3",
   "version": "3.5.2"
  }
 },
 "nbformat": 4,
 "nbformat_minor": 2
}
