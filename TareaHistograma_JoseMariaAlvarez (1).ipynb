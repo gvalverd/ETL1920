{
 "cells": [
  {
   "cell_type": "markdown",
   "metadata": {},
   "source": [
    "# Histograma Puntos Visitante\n",
    "\n",
    "### ETL\n",
    "\n",
    "Start Date: 11/11/2019\n",
    "\n",
    "End Date:   29/12/2019\n",
    "\n",
    "### José María Álvarez Silva\n"
   ]
  },
  {
   "cell_type": "markdown",
   "metadata": {},
   "source": [
    "## 1. Describe brevemente que diferencia el persists, cache y collect en spark. Explica brevemente casos en los que es interesante su aplicación."
   ]
  },
  {
   "cell_type": "markdown",
   "metadata": {},
   "source": [
    "* __Respuesta:__ \n",
    "\n",
    " 1. `cache( )`: utiliza en nivel de almacenamiento standar (i.e. almacena un RDD en la memoria y un dataset en memoria y disco.\n",
    " 2. `persist( )`: se especifica el nivel de almacenamiento tanto para RDD como para datasets. \n",
    " 3. `collect( )`: regresa todos los objeto de un RDD en forma de lista."
   ]
  },
  {
   "cell_type": "markdown",
   "metadata": {},
   "source": [
    "## 2. Explica brevemente los pasos a seguir para realizar la carga de un conjunto de datos (pasos que se siguieron en la práctica con datos de logs)."
   ]
  },
  {
   "cell_type": "markdown",
   "metadata": {},
   "source": [
    "* __Respuesta:__ \n",
    "\n",
    " 1. Cargar el archivo de los datos con la función textFile( ) de pyspark.\n",
    " 2. Contar el número de observaciones del dataset para entender la magnitud de los datos con los que trabajaremos para tener cuidado ha ejecutar acciones.\n",
    " 3. Observar la estructura de los datos mirando directamente el archivo o utilizando la función take( ) de pyspark.\n",
    " 4. Teniendo el cuenta la estructura de los datos, realizar un parseo con expresiones regulares para evitar capturar datos o headers que no queremos incluir en el análisis."
   ]
  },
  {
   "cell_type": "markdown",
   "metadata": {},
   "source": [
    "## 3. Índica un tipo de problema que puede empeorar los datos. (pe. Que no exista un representante del CDO en todas las áreas de negocio), pon algún ejemplo específico (pe. Datos duplicados) y cómo lo tratarías con técnicas de data cleaning."
   ]
  },
  {
   "cell_type": "markdown",
   "metadata": {},
   "source": [
    "* __Respuesta:__ \n",
    "\n",
    " * Headers intermedios (e.g. Playoffs en dataset de NBA); lo trataría con un parseo con expresiones regulares para que sólo tenga datos de los partidos (no los headers) en el RDD."
   ]
  },
  {
   "cell_type": "markdown",
   "metadata": {},
   "source": [
    "## 4. Inicializar spark context y cargar los datos desde el fichero."
   ]
  },
  {
   "cell_type": "code",
   "execution_count": 837,
   "metadata": {
    "collapsed": false
   },
   "outputs": [],
   "source": [
    "from pyspark import SparkContext\n",
    "sc = SparkContext(\"local\", \"Firts App\")"
   ]
  },
  {
   "cell_type": "code",
   "execution_count": 840,
   "metadata": {
    "collapsed": false
   },
   "outputs": [],
   "source": [
    "import matplotlib.pyplot as plt\n",
    "import pandas as pd"
   ]
  },
  {
   "cell_type": "code",
   "execution_count": 841,
   "metadata": {
    "collapsed": false
   },
   "outputs": [],
   "source": [
    "data_file = \"./partidosLigaNBA.csv\"\n",
    "liga_data = sc.textFile(data_file)"
   ]
  },
  {
   "cell_type": "markdown",
   "metadata": {},
   "source": [
    "Calcular la suma de puntos del equipo vistante"
   ]
  },
  {
   "cell_type": "code",
   "execution_count": 842,
   "metadata": {
    "collapsed": false
   },
   "outputs": [
    {
     "data": {
      "text/plain": [
       "['Date:Start..ET.:Visitor.Neutral:PTS:Home.Neutral:PTS.1',\n",
       " 'Tue, Oct 30, 2007:\"7:30 pm\":Utah Jazz:117:Golden State Warriors:96',\n",
       " 'Tue, Oct 30, 2007:\"7:30 pm\":Houston Rockets:95:Los Angeles Lakers:93',\n",
       " 'Tue, Oct 30, 2007:\"7:00 pm\":Portland Trail Blazers:97:San Antonio Spurs:106',\n",
       " 'Wed, Oct 31, 2007:\"8:00 pm\":Dallas Mavericks:92:Cleveland Cavaliers:74']"
      ]
     },
     "execution_count": 842,
     "metadata": {},
     "output_type": "execute_result"
    }
   ],
   "source": [
    "liga_data.take(5)"
   ]
  },
  {
   "cell_type": "code",
   "execution_count": 843,
   "metadata": {
    "collapsed": false
   },
   "outputs": [],
   "source": [
    "header = liga_data.filter(lambda x: \"PTS\" in x).filter(lambda x: \"Playoffs\" in x)"
   ]
  },
  {
   "cell_type": "code",
   "execution_count": 844,
   "metadata": {
    "collapsed": false
   },
   "outputs": [],
   "source": [
    "## without header\n",
    "liga_data_wo_header = liga_data.subtract(header)\n",
    "## liga_data_split = liga_data.filter(lambda x: \"PTS\" not in x).map(lambda x: float(x.slpit(\":\"[6])))\n",
    "## tendriamos rdd con scores"
   ]
  },
  {
   "cell_type": "markdown",
   "metadata": {},
   "source": [
    "OJO ---> no aparecen los errores en las transformaciones; sino hasta que se ejecute una acción"
   ]
  },
  {
   "cell_type": "markdown",
   "metadata": {},
   "source": [
    "## Parsear los datos"
   ]
  },
  {
   "cell_type": "code",
   "execution_count": 845,
   "metadata": {
    "collapsed": true
   },
   "outputs": [],
   "source": [
    "raw_data = liga_data"
   ]
  },
  {
   "cell_type": "code",
   "execution_count": 846,
   "metadata": {
    "collapsed": true
   },
   "outputs": [],
   "source": [
    "import re"
   ]
  },
  {
   "cell_type": "code",
   "execution_count": 847,
   "metadata": {
    "collapsed": false
   },
   "outputs": [
    {
     "data": {
      "text/plain": [
       "12908"
      ]
     },
     "execution_count": 847,
     "metadata": {},
     "output_type": "execute_result"
    }
   ],
   "source": [
    "raw_data.count()"
   ]
  },
  {
   "cell_type": "code",
   "execution_count": 848,
   "metadata": {
    "collapsed": true
   },
   "outputs": [],
   "source": [
    "def parse_log(line):\n",
    "    match = re.search('^(\\w+[,]\\s\\w+\\s\\S+\\s\\S+)\\:\"(\\S+\\s\\w+)\"\\:(\\D+)\\:(\\d+)\\:(\\D+)\\:(\\d+)',line)\n",
    "    if match is None:\n",
    "        match = re.search('^(\\w+[,]\\s\\w+\\s\\S+\\s\\S+)\\:\"(\\S+\\s\\w+)\"\\:(\\D+\\s\\S+)\\:(\\d+)\\:(\\D+)\\:(\\d+)',line)\n",
    "    if match is None:\n",
    "        match = re.search('^(\\w+[,]\\s\\w+\\s\\S+\\s\\S+)\\:\"(\\S+\\s\\w+)\"\\:(\\D+)\\:(\\d+)\\:(\\D+\\s\\S+)\\:(\\d+)',line)\n",
    "    if match is None:\n",
    "        return (line, 0)\n",
    "    else:\n",
    "        return (line, 1)\n"
   ]
  },
  {
   "cell_type": "code",
   "execution_count": 849,
   "metadata": {
    "collapsed": false
   },
   "outputs": [
    {
     "data": {
      "text/plain": [
       "('Tue, Oct 30, 2007:\"7:30 pm\":Utah Jazz:117:Golden State Warriors:96', 1)"
      ]
     },
     "execution_count": 849,
     "metadata": {},
     "output_type": "execute_result"
    }
   ],
   "source": [
    "parse_log('Tue, Oct 30, 2007:\"7:30 pm\":Utah Jazz:117:Golden State Warriors:96')"
   ]
  },
  {
   "cell_type": "code",
   "execution_count": 850,
   "metadata": {
    "collapsed": false
   },
   "outputs": [
    {
     "data": {
      "text/plain": [
       "('Fri, Nov 16, 2007:\"7:00 pm\":Portland Trail Blazers:88:Philadelphia 76ers:92',\n",
       " 1)"
      ]
     },
     "execution_count": 850,
     "metadata": {},
     "output_type": "execute_result"
    }
   ],
   "source": [
    "parse_log('Fri, Nov 16, 2007:\"7:00 pm\":Portland Trail Blazers:88:Philadelphia 76ers:92')"
   ]
  },
  {
   "cell_type": "code",
   "execution_count": 851,
   "metadata": {
    "collapsed": false
   },
   "outputs": [
    {
     "data": {
      "text/plain": [
       "('Tue, Nov 20, 2007:\"7:00 pm\":Philadelphia 76ers:101:Washington Wizards:116',\n",
       " 1)"
      ]
     },
     "execution_count": 851,
     "metadata": {},
     "output_type": "execute_result"
    }
   ],
   "source": [
    "parse_log('Tue, Nov 20, 2007:\"7:00 pm\":Philadelphia 76ers:101:Washington Wizards:116')"
   ]
  },
  {
   "cell_type": "code",
   "execution_count": 852,
   "metadata": {
    "collapsed": false
   },
   "outputs": [],
   "source": [
    "def map_log(line):\n",
    "    match = re.search('^(\\w+[,]\\s\\w+\\s\\S+\\s\\S+)\\:\"(\\S+\\s\\w+)\"\\:(\\D+)\\:(\\d+)\\:(\\D+)\\:(\\d+)',line)\n",
    "    if match is None:\n",
    "        match = re.search('^(\\w+[,]\\s\\w+\\s\\S+\\s\\S+)\\:\"(\\S+\\s\\w+)\"\\:(\\D+\\s\\S+)\\:(\\d+)\\:(\\D+)\\:(\\d+)',line)\n",
    "    if match is None:\n",
    "        match = re.search('^(\\w+[,]\\s\\w+\\s\\S+\\s\\S+)\\:\"(\\S+\\s\\w+)\"\\:(\\D+)\\:(\\d+)\\:(\\D+\\s\\S+)\\:(\\d+)',line)\n",
    "    return(match.groups())\n",
    "parsed_rdd = raw_data.map(lambda line: parse_log(line)).filter(lambda line: line[1] == 1).map(lambda line : line[0])\n",
    "parsed_def = parsed_rdd.map(lambda line: map_log(line))"
   ]
  },
  {
   "cell_type": "code",
   "execution_count": 853,
   "metadata": {
    "collapsed": false
   },
   "outputs": [
    {
     "data": {
      "text/plain": [
       "(['Tue, Oct 30, 2007:\"7:30 pm\":Utah Jazz:117:Golden State Warriors:96',\n",
       "  'Tue, Oct 30, 2007:\"7:30 pm\":Houston Rockets:95:Los Angeles Lakers:93',\n",
       "  'Tue, Oct 30, 2007:\"7:00 pm\":Portland Trail Blazers:97:San Antonio Spurs:106',\n",
       "  'Wed, Oct 31, 2007:\"8:00 pm\":Dallas Mavericks:92:Cleveland Cavaliers:74',\n",
       "  'Wed, Oct 31, 2007:\"8:30 pm\":Seattle SuperSonics:103:Denver Nuggets:120'],\n",
       " 12897)"
      ]
     },
     "execution_count": 853,
     "metadata": {},
     "output_type": "execute_result"
    }
   ],
   "source": [
    "parsed_rdd.take(5), parsed_rdd.count()"
   ]
  },
  {
   "cell_type": "code",
   "execution_count": 854,
   "metadata": {
    "collapsed": false
   },
   "outputs": [
    {
     "data": {
      "text/plain": [
       "([('Tue, Oct 30, 2007',\n",
       "   '7:30 pm',\n",
       "   'Utah Jazz',\n",
       "   '117',\n",
       "   'Golden State Warriors',\n",
       "   '96'),\n",
       "  ('Tue, Oct 30, 2007',\n",
       "   '7:30 pm',\n",
       "   'Houston Rockets',\n",
       "   '95',\n",
       "   'Los Angeles Lakers',\n",
       "   '93'),\n",
       "  ('Tue, Oct 30, 2007',\n",
       "   '7:00 pm',\n",
       "   'Portland Trail Blazers',\n",
       "   '97',\n",
       "   'San Antonio Spurs',\n",
       "   '106'),\n",
       "  ('Wed, Oct 31, 2007',\n",
       "   '8:00 pm',\n",
       "   'Dallas Mavericks',\n",
       "   '92',\n",
       "   'Cleveland Cavaliers',\n",
       "   '74'),\n",
       "  ('Wed, Oct 31, 2007',\n",
       "   '8:30 pm',\n",
       "   'Seattle SuperSonics',\n",
       "   '103',\n",
       "   'Denver Nuggets',\n",
       "   '120')],\n",
       " pyspark.rdd.PipelinedRDD)"
      ]
     },
     "execution_count": 854,
     "metadata": {},
     "output_type": "execute_result"
    }
   ],
   "source": [
    "parsed_def.take(5), type(parsed_def)"
   ]
  },
  {
   "cell_type": "code",
   "execution_count": 855,
   "metadata": {
    "collapsed": false
   },
   "outputs": [],
   "source": [
    "sample_def = sc.parallelize(parsed_def.takeSample(False, 1200))"
   ]
  },
  {
   "cell_type": "code",
   "execution_count": 856,
   "metadata": {
    "collapsed": false
   },
   "outputs": [],
   "source": [
    "def convert_long(x):\n",
    "    x = re.sub('[^0-9]',\"\",x) \n",
    "    if x ==\"\":\n",
    "        return 0\n",
    "    else:\n",
    "        return int(x)\n",
    "sample_py = sample_def.map(lambda line: convert_long(line[3])).collect()"
   ]
  },
  {
   "cell_type": "code",
   "execution_count": 857,
   "metadata": {
    "collapsed": false
   },
   "outputs": [
    {
     "data": {
      "text/plain": [
       "list"
      ]
     },
     "execution_count": 857,
     "metadata": {},
     "output_type": "execute_result"
    }
   ],
   "source": [
    "type(sample_py)"
   ]
  },
  {
   "cell_type": "code",
   "execution_count": 858,
   "metadata": {
    "collapsed": false
   },
   "outputs": [],
   "source": [
    "sample_py.sort()"
   ]
  },
  {
   "cell_type": "code",
   "execution_count": 859,
   "metadata": {
    "collapsed": false
   },
   "outputs": [
    {
     "name": "stdout",
     "output_type": "stream",
     "text": [
      "[64, 64, 64, 67, 67, 68, 69, 69, 71, 71, 71, 72, 72, 72, 73, 73, 74, 74, 75, 75, 75, 75, 75, 75, 75, 75, 76, 76, 76, 76, 76, 76, 76, 77, 77, 77, 77, 77, 77, 77, 78, 78, 78, 78, 78, 78, 78, 78, 78, 78, 78, 78, 78, 78, 78, 78, 79, 79, 79, 79, 79, 79, 79, 79, 79, 79, 80, 80, 80, 80, 80, 80, 80, 80, 80, 80, 80, 80, 80, 80, 80, 80, 80, 80, 80, 81, 81, 81, 81, 81, 81, 81, 81, 81, 81, 82, 82, 82, 82, 82, 82, 82, 82, 82, 82, 82, 82, 82, 82, 82, 82, 82, 83, 83, 83, 83, 83, 83, 83, 83, 83, 83, 83, 83, 83, 83, 83, 83, 83, 83, 83, 83, 83, 83, 84, 84, 84, 84, 84, 84, 84, 84, 84, 84, 84, 84, 84, 84, 84, 84, 84, 84, 84, 84, 84, 84, 84, 84, 84, 85, 85, 85, 85, 85, 85, 85, 85, 85, 85, 85, 85, 85, 85, 85, 86, 86, 86, 86, 86, 86, 86, 86, 86, 86, 86, 86, 86, 86, 86, 86, 86, 86, 86, 86, 87, 87, 87, 87, 87, 87, 87, 87, 87, 87, 87, 87, 87, 87, 87, 87, 87, 87, 87, 87, 88, 88, 88, 88, 88, 88, 88, 88, 88, 88, 88, 88, 88, 88, 88, 88, 88, 88, 88, 88, 88, 88, 88, 88, 88, 88, 88, 88, 88, 88, 88, 89, 89, 89, 89, 89, 89, 89, 89, 89, 89, 89, 89, 89, 89, 89, 89, 89, 89, 89, 89, 89, 89, 89, 89, 89, 89, 89, 89, 90, 90, 90, 90, 90, 90, 90, 90, 90, 90, 90, 90, 90, 90, 90, 90, 90, 90, 90, 90, 90, 90, 90, 91, 91, 91, 91, 91, 91, 91, 91, 91, 91, 91, 91, 91, 91, 91, 91, 91, 91, 91, 91, 91, 91, 91, 91, 91, 91, 91, 91, 91, 91, 91, 91, 91, 91, 91, 91, 91, 91, 91, 92, 92, 92, 92, 92, 92, 92, 92, 92, 92, 92, 92, 92, 92, 92, 92, 92, 92, 92, 92, 92, 92, 92, 92, 92, 92, 92, 93, 93, 93, 93, 93, 93, 93, 93, 93, 93, 93, 93, 93, 93, 93, 93, 93, 93, 93, 93, 93, 93, 93, 93, 93, 93, 93, 93, 93, 93, 93, 93, 93, 93, 93, 93, 93, 93, 93, 93, 93, 93, 94, 94, 94, 94, 94, 94, 94, 94, 94, 94, 94, 94, 94, 94, 94, 94, 94, 94, 94, 94, 94, 94, 94, 94, 94, 94, 94, 94, 94, 94, 94, 94, 94, 94, 94, 94, 94, 94, 94, 94, 94, 94, 94, 94, 94, 94, 94, 94, 94, 94, 94, 95, 95, 95, 95, 95, 95, 95, 95, 95, 95, 95, 95, 95, 95, 95, 95, 95, 95, 95, 95, 95, 95, 95, 95, 95, 95, 95, 95, 95, 95, 95, 95, 95, 95, 95, 95, 95, 95, 95, 95, 95, 96, 96, 96, 96, 96, 96, 96, 96, 96, 96, 96, 96, 96, 96, 96, 96, 96, 96, 96, 96, 96, 96, 96, 96, 96, 96, 96, 96, 96, 96, 96, 96, 96, 96, 96, 97, 97, 97, 97, 97, 97, 97, 97, 97, 97, 97, 97, 97, 97, 97, 97, 97, 97, 97, 97, 97, 97, 97, 97, 97, 97, 97, 97, 97, 97, 97, 97, 97, 97, 97, 97, 97, 97, 97, 97, 97, 97, 97, 97, 97, 97, 97, 97, 97, 98, 98, 98, 98, 98, 98, 98, 98, 98, 98, 98, 98, 98, 98, 98, 98, 98, 98, 98, 98, 98, 98, 98, 98, 98, 98, 98, 98, 98, 98, 98, 98, 98, 98, 98, 98, 98, 98, 98, 98, 98, 98, 98, 98, 98, 98, 98, 98, 98, 98, 99, 99, 99, 99, 99, 99, 99, 99, 99, 99, 99, 99, 99, 99, 99, 99, 99, 99, 99, 99, 99, 99, 99, 99, 99, 99, 99, 99, 99, 99, 99, 99, 99, 99, 99, 99, 99, 99, 99, 99, 99, 99, 99, 99, 100, 100, 100, 100, 100, 100, 100, 100, 100, 100, 100, 100, 100, 100, 100, 100, 100, 100, 100, 100, 100, 100, 100, 100, 100, 100, 101, 101, 101, 101, 101, 101, 101, 101, 101, 101, 101, 101, 101, 101, 101, 101, 101, 101, 101, 101, 101, 101, 101, 101, 101, 101, 101, 101, 101, 101, 101, 101, 101, 101, 101, 101, 101, 101, 101, 101, 101, 101, 101, 101, 101, 102, 102, 102, 102, 102, 102, 102, 102, 102, 102, 102, 102, 102, 102, 102, 102, 102, 102, 102, 102, 102, 102, 102, 102, 102, 102, 102, 102, 102, 102, 102, 102, 103, 103, 103, 103, 103, 103, 103, 103, 103, 103, 103, 103, 103, 103, 103, 103, 103, 103, 103, 103, 103, 103, 103, 103, 103, 103, 103, 103, 103, 103, 104, 104, 104, 104, 104, 104, 104, 104, 104, 104, 104, 104, 104, 104, 104, 104, 104, 104, 104, 104, 104, 104, 104, 104, 104, 104, 104, 104, 104, 104, 104, 104, 104, 104, 104, 105, 105, 105, 105, 105, 105, 105, 105, 105, 105, 105, 105, 105, 105, 105, 105, 105, 105, 105, 105, 105, 105, 105, 105, 105, 105, 105, 105, 105, 105, 105, 106, 106, 106, 106, 106, 106, 106, 106, 106, 106, 106, 106, 106, 106, 106, 106, 106, 106, 106, 106, 106, 106, 106, 106, 106, 106, 106, 106, 106, 106, 107, 107, 107, 107, 107, 107, 107, 107, 107, 107, 107, 107, 107, 107, 107, 107, 107, 107, 107, 107, 107, 107, 107, 107, 107, 107, 107, 107, 107, 107, 107, 107, 108, 108, 108, 108, 108, 108, 108, 108, 108, 108, 108, 108, 108, 108, 108, 108, 108, 108, 108, 108, 108, 108, 108, 108, 108, 108, 108, 109, 109, 109, 109, 109, 109, 109, 109, 109, 109, 109, 109, 109, 109, 109, 109, 109, 109, 109, 109, 109, 110, 110, 110, 110, 110, 110, 110, 110, 110, 110, 110, 110, 110, 110, 110, 110, 110, 110, 110, 110, 110, 110, 111, 111, 111, 111, 111, 111, 111, 111, 111, 111, 111, 111, 111, 111, 111, 111, 111, 111, 111, 111, 111, 111, 111, 111, 111, 111, 111, 111, 111, 111, 112, 112, 112, 112, 112, 112, 112, 112, 112, 112, 112, 112, 112, 112, 112, 112, 112, 112, 112, 112, 112, 112, 112, 112, 112, 113, 113, 113, 113, 113, 113, 113, 113, 113, 113, 113, 113, 113, 113, 113, 113, 113, 113, 113, 114, 114, 114, 114, 114, 114, 114, 114, 114, 114, 114, 114, 114, 115, 115, 115, 115, 115, 115, 115, 115, 115, 115, 116, 116, 116, 116, 116, 116, 116, 116, 116, 116, 116, 116, 116, 116, 117, 117, 117, 117, 117, 117, 117, 117, 117, 117, 117, 117, 117, 117, 118, 118, 118, 118, 118, 118, 118, 118, 118, 118, 118, 119, 119, 119, 119, 119, 119, 119, 120, 120, 120, 120, 120, 120, 120, 121, 121, 121, 121, 121, 121, 121, 121, 121, 121, 121, 121, 121, 122, 122, 122, 122, 122, 123, 123, 123, 123, 124, 124, 125, 125, 125, 125, 126, 126, 126, 126, 126, 127, 127, 128, 128, 128, 129, 130, 131, 131, 132, 132, 134]\n"
     ]
    }
   ],
   "source": [
    "print(sample_py)"
   ]
  },
  {
   "cell_type": "code",
   "execution_count": 860,
   "metadata": {
    "collapsed": false
   },
   "outputs": [
    {
     "data": {
      "text/plain": [
       "int"
      ]
     },
     "execution_count": 860,
     "metadata": {},
     "output_type": "execute_result"
    }
   ],
   "source": [
    "type(sample_py[-1])"
   ]
  },
  {
   "cell_type": "code",
   "execution_count": 861,
   "metadata": {
    "collapsed": false
   },
   "outputs": [
    {
     "data": {
      "text/plain": [
       "[83, 88, 92, 95, 98, 101, 104, 108, 114, 134]"
      ]
     },
     "execution_count": 861,
     "metadata": {},
     "output_type": "execute_result"
    }
   ],
   "source": [
    "## el menos uno (-1) es porque en python empieza en 0\n",
    "deciles = [sample_py[int(len(sample_py)*.10)-1],\n",
    "           sample_py[int(len(sample_py)*.20)-1],\n",
    "           sample_py[int(len(sample_py)*.30)-1],\n",
    "           sample_py[int(len(sample_py)*.40)-1],\n",
    "           sample_py[int(len(sample_py)*.50)-1],\n",
    "           sample_py[int(len(sample_py)*.60)-1],\n",
    "           sample_py[int(len(sample_py)*.70)-1],\n",
    "           sample_py[int(len(sample_py)*.80)-1],\n",
    "           sample_py[int(len(sample_py)*.90)-1],\n",
    "           sample_py[-1]]\n",
    "deciles"
   ]
  },
  {
   "cell_type": "code",
   "execution_count": 862,
   "metadata": {
    "collapsed": false
   },
   "outputs": [
    {
     "data": {
      "text/plain": [
       "(6, 101, 98)"
      ]
     },
     "execution_count": 862,
     "metadata": {},
     "output_type": "execute_result"
    }
   ],
   "source": [
    "def decilHistograma(x):\n",
    "    if x <= deciles[5]:\n",
    "        if x > deciles[4]:\n",
    "            return(6)\n",
    "        elif x > deciles[3]:\n",
    "            return(5)\n",
    "        elif x > deciles[2]:\n",
    "            return(4)\n",
    "        elif x > deciles[1]:\n",
    "            return(3)\n",
    "        elif x > deciles[0]:\n",
    "            return(2)\n",
    "        else:\n",
    "            return(1)\n",
    "    else:\n",
    "        if x <= deciles[6]:\n",
    "            return(7)\n",
    "        if x <= deciles[7]:\n",
    "            return(8)\n",
    "        if x <= deciles[8]:\n",
    "            return(9)\n",
    "        if x <= deciles[9]:\n",
    "            return(10)\n",
    "        else:\n",
    "            return(11)\n",
    "        \n",
    "decilHistograma(100), deciles[5], deciles[4]"
   ]
  },
  {
   "cell_type": "code",
   "execution_count": 863,
   "metadata": {
    "collapsed": false
   },
   "outputs": [
    {
     "data": {
      "text/plain": [
       "9"
      ]
     },
     "execution_count": 863,
     "metadata": {},
     "output_type": "execute_result"
    }
   ],
   "source": [
    "decilHistograma(110)"
   ]
  },
  {
   "cell_type": "code",
   "execution_count": 864,
   "metadata": {
    "collapsed": false
   },
   "outputs": [],
   "source": [
    "bars = parsed_def.map(lambda line : convert_long(line[3])).map(lambda x : (decilHistograma(x),1)).reduceByKey(lambda a, b: a + b).collect()"
   ]
  },
  {
   "cell_type": "code",
   "execution_count": 865,
   "metadata": {
    "collapsed": false
   },
   "outputs": [
    {
     "data": {
      "text/plain": [
       "[(1, 1310),\n",
       " (2, 1267),\n",
       " (3, 1376),\n",
       " (4, 1260),\n",
       " (5, 1264),\n",
       " (6, 1242),\n",
       " (7, 1175),\n",
       " (8, 1319),\n",
       " (9, 1434),\n",
       " (10, 1209),\n",
       " (11, 41)]"
      ]
     },
     "execution_count": 865,
     "metadata": {},
     "output_type": "execute_result"
    }
   ],
   "source": [
    "bars"
   ]
  },
  {
   "cell_type": "code",
   "execution_count": 866,
   "metadata": {
    "collapsed": false
   },
   "outputs": [],
   "source": [
    "dfBars = pd.DataFrame(bars)"
   ]
  },
  {
   "cell_type": "code",
   "execution_count": 867,
   "metadata": {
    "collapsed": false
   },
   "outputs": [
    {
     "data": {
      "text/html": [
       "<div>\n",
       "<table border=\"1\" class=\"dataframe\">\n",
       "  <thead>\n",
       "    <tr style=\"text-align: right;\">\n",
       "      <th></th>\n",
       "      <th>0</th>\n",
       "      <th>1</th>\n",
       "    </tr>\n",
       "  </thead>\n",
       "  <tbody>\n",
       "    <tr>\n",
       "      <th>0</th>\n",
       "      <td>1</td>\n",
       "      <td>1310</td>\n",
       "    </tr>\n",
       "    <tr>\n",
       "      <th>1</th>\n",
       "      <td>2</td>\n",
       "      <td>1267</td>\n",
       "    </tr>\n",
       "    <tr>\n",
       "      <th>2</th>\n",
       "      <td>3</td>\n",
       "      <td>1376</td>\n",
       "    </tr>\n",
       "    <tr>\n",
       "      <th>3</th>\n",
       "      <td>4</td>\n",
       "      <td>1260</td>\n",
       "    </tr>\n",
       "    <tr>\n",
       "      <th>4</th>\n",
       "      <td>5</td>\n",
       "      <td>1264</td>\n",
       "    </tr>\n",
       "    <tr>\n",
       "      <th>5</th>\n",
       "      <td>6</td>\n",
       "      <td>1242</td>\n",
       "    </tr>\n",
       "    <tr>\n",
       "      <th>6</th>\n",
       "      <td>7</td>\n",
       "      <td>1175</td>\n",
       "    </tr>\n",
       "    <tr>\n",
       "      <th>7</th>\n",
       "      <td>8</td>\n",
       "      <td>1319</td>\n",
       "    </tr>\n",
       "    <tr>\n",
       "      <th>8</th>\n",
       "      <td>9</td>\n",
       "      <td>1434</td>\n",
       "    </tr>\n",
       "    <tr>\n",
       "      <th>9</th>\n",
       "      <td>10</td>\n",
       "      <td>1209</td>\n",
       "    </tr>\n",
       "    <tr>\n",
       "      <th>10</th>\n",
       "      <td>11</td>\n",
       "      <td>41</td>\n",
       "    </tr>\n",
       "  </tbody>\n",
       "</table>\n",
       "</div>"
      ],
      "text/plain": [
       "     0     1\n",
       "0    1  1310\n",
       "1    2  1267\n",
       "2    3  1376\n",
       "3    4  1260\n",
       "4    5  1264\n",
       "5    6  1242\n",
       "6    7  1175\n",
       "7    8  1319\n",
       "8    9  1434\n",
       "9   10  1209\n",
       "10  11    41"
      ]
     },
     "execution_count": 867,
     "metadata": {},
     "output_type": "execute_result"
    }
   ],
   "source": [
    "dfBars"
   ]
  },
  {
   "cell_type": "code",
   "execution_count": 868,
   "metadata": {
    "collapsed": false
   },
   "outputs": [
    {
     "data": {
      "text/plain": [
       "12897"
      ]
     },
     "execution_count": 868,
     "metadata": {},
     "output_type": "execute_result"
    }
   ],
   "source": [
    "dfBars[1].sum()"
   ]
  },
  {
   "cell_type": "markdown",
   "metadata": {},
   "source": [
    "### Histograma puntos Vistitantes"
   ]
  },
  {
   "cell_type": "code",
   "execution_count": 869,
   "metadata": {
    "collapsed": false
   },
   "outputs": [
    {
     "data": {
      "text/plain": [
       "([<matplotlib.axis.YTick at 0x7f1fd05bda58>,\n",
       "  <matplotlib.axis.YTick at 0x7f1fd066b518>,\n",
       "  <matplotlib.axis.YTick at 0x7f1fd05d0710>,\n",
       "  <matplotlib.axis.YTick at 0x7f1fd0633978>,\n",
       "  <matplotlib.axis.YTick at 0x7f1fd048d898>,\n",
       "  <matplotlib.axis.YTick at 0x7f1fd048e4a8>,\n",
       "  <matplotlib.axis.YTick at 0x7f1fd048eeb8>,\n",
       "  <matplotlib.axis.YTick at 0x7f1fd0477240>,\n",
       "  <matplotlib.axis.YTick at 0x7f1fd0490a58>,\n",
       "  <matplotlib.axis.YTick at 0x7f1fd04905c0>,\n",
       "  <matplotlib.axis.YTick at 0x7f1fd047b4e0>],\n",
       " <a list of 11 Text yticklabel objects>)"
      ]
     },
     "execution_count": 869,
     "metadata": {},
     "output_type": "execute_result"
    },
    {
     "data": {
      "image/png": "[encoded data removed]",
      "text/plain": [
       "<matplotlib.figure.Figure at 0x7f1fd0507be0>"
      ]
     },
     "metadata": {},
     "output_type": "display_data"
    }
   ],
   "source": [
    "labels, ys = zip(*bars)\n",
    "xs = np.arange(len(labels)) \n",
    "width = 1\n",
    "\n",
    "plt.bar(xs, ys, width, align='center')\n",
    "\n",
    "plt.xticks(xs, labels) #Replace default x-ticks with xs, then replace xs with labels\n",
    "plt.yticks(ys)"
   ]
  },
  {
   "cell_type": "markdown",
   "metadata": {},
   "source": [
    "### ¿Cuántos puntos ha metido UTAH JAZZ?"
   ]
  },
  {
   "cell_type": "code",
   "execution_count": 870,
   "metadata": {
    "collapsed": true
   },
   "outputs": [],
   "source": [
    "liga_data_split = liga_data.filter(lambda x : \"PTS\" not in x).filter(lambda x : \"Playoffs\" not in x).map(lambda x : x.split(\":\"))"
   ]
  },
  {
   "cell_type": "code",
   "execution_count": 871,
   "metadata": {
    "collapsed": false
   },
   "outputs": [
    {
     "data": {
      "text/plain": [
       "41635"
      ]
     },
     "execution_count": 871,
     "metadata": {},
     "output_type": "execute_result"
    }
   ],
   "source": [
    "liga_data_utah = liga_data_split.filter(lambda x: \"Utah\" in x[3]).map(lambda x: int(x[4])).sum()\n",
    "liga_data_utah"
   ]
  },
  {
   "cell_type": "markdown",
   "metadata": {},
   "source": [
    "### ¿Cuántos puntos metió cada equipo como visitante?\n",
    "- map reduce\n",
    "- SQL"
   ]
  },
  {
   "cell_type": "code",
   "execution_count": 872,
   "metadata": {
    "collapsed": true
   },
   "outputs": [],
   "source": [
    "from pyspark.sql import SQLContext\n",
    "sqlContext = SQLContext(sc)"
   ]
  },
  {
   "cell_type": "code",
   "execution_count": 873,
   "metadata": {
    "collapsed": false
   },
   "outputs": [],
   "source": [
    "from pyspark.sql import Row\n",
    "\n",
    "row_data = liga_data_split.map(lambda p: Row(\n",
    "    visitor=p[3], \n",
    "    visit_points=int(p[4]),\n",
    "    )\n",
    ")"
   ]
  },
  {
   "cell_type": "code",
   "execution_count": 874,
   "metadata": {
    "collapsed": false
   },
   "outputs": [
    {
     "data": {
      "text/plain": [
       "[Row(visit_points=117, visitor='Utah Jazz'),\n",
       " Row(visit_points=95, visitor='Houston Rockets'),\n",
       " Row(visit_points=97, visitor='Portland Trail Blazers'),\n",
       " Row(visit_points=92, visitor='Dallas Mavericks'),\n",
       " Row(visit_points=103, visitor='Seattle SuperSonics'),\n",
       " Row(visit_points=110, visitor='Washington Wizards'),\n",
       " Row(visit_points=104, visitor='San Antonio Spurs'),\n",
       " Row(visit_points=103, visitor='Chicago Bulls'),\n",
       " Row(visit_points=90, visitor='Sacramento Kings'),\n",
       " Row(visit_points=83, visitor='Milwaukee Bucks')]"
      ]
     },
     "execution_count": 874,
     "metadata": {},
     "output_type": "execute_result"
    }
   ],
   "source": [
    "row_data.take(10)"
   ]
  },
  {
   "cell_type": "code",
   "execution_count": 875,
   "metadata": {
    "collapsed": false
   },
   "outputs": [
    {
     "data": {
      "text/plain": [
       "(117, 'Utah Jazz')"
      ]
     },
     "execution_count": 875,
     "metadata": {},
     "output_type": "execute_result"
    }
   ],
   "source": [
    "row_data.take(1)[0][0], row_data.take(1)[0][1]"
   ]
  },
  {
   "cell_type": "code",
   "execution_count": 876,
   "metadata": {
    "collapsed": false
   },
   "outputs": [
    {
     "data": {
      "text/plain": [
       "'Oct'"
      ]
     },
     "execution_count": 876,
     "metadata": {},
     "output_type": "execute_result"
    }
   ],
   "source": [
    "def mes(x):\n",
    "    x = re.search('\\D+',x) \n",
    "    if x ==\"\":\n",
    "        return 0\n",
    "    else:\n",
    "        return(x.group().strip()[-3:])\n",
    "mes('Tue, Oct 30, 2007')"
   ]
  },
  {
   "cell_type": "code",
   "execution_count": 877,
   "metadata": {
    "collapsed": false
   },
   "outputs": [],
   "source": [
    "matches_data = liga_data_split.map(lambda p: Row(\n",
    "    year = p[0][-4:],\n",
    "    mnth = mes(p[0]),\n",
    "    visitor = p[3], \n",
    "    visit_points = int(p[4]),\n",
    "    home =  p[5],\n",
    "    home_points = int(p[6])\n",
    "    )\n",
    ")"
   ]
  },
  {
   "cell_type": "code",
   "execution_count": 878,
   "metadata": {
    "collapsed": true
   },
   "outputs": [],
   "source": [
    "matches = sqlContext.createDataFrame(matches_data)\n",
    "matches.registerTempTable(\"matches\")"
   ]
  },
  {
   "cell_type": "markdown",
   "metadata": {},
   "source": [
    "## 5. Media de la diferencia de puntos por año"
   ]
  },
  {
   "cell_type": "markdown",
   "metadata": {},
   "source": [
    "- Entiendo por diferencia de puntos por año la media (por año) de los puntos que el local anotó sobre los que anotó el visitante"
   ]
  },
  {
   "cell_type": "code",
   "execution_count": 879,
   "metadata": {
    "collapsed": false
   },
   "outputs": [
    {
     "data": {
      "text/plain": [
       "[2016, 2017, 2007, 2008, 2009, 2010, 2011, 2012, 2013, 2014, 2015]"
      ]
     },
     "execution_count": 879,
     "metadata": {},
     "output_type": "execute_result"
    }
   ],
   "source": [
    "def years(x):\n",
    "    x = re.sub('[^0-9]',\"\",x) \n",
    "    if x ==\"\":\n",
    "        return 0\n",
    "    else:\n",
    "        return int(x[-4:])\n",
    "parsed_def.map(lambda line: years(line[0])).distinct().collect()"
   ]
  },
  {
   "cell_type": "code",
   "execution_count": 880,
   "metadata": {
    "collapsed": false
   },
   "outputs": [
    {
     "data": {
      "text/plain": [
       "[(2007, '117', '96'),\n",
       " (2007, '95', '93'),\n",
       " (2007, '97', '106'),\n",
       " (2007, '92', '74'),\n",
       " (2007, '103', '120')]"
      ]
     },
     "execution_count": 880,
     "metadata": {},
     "output_type": "execute_result"
    }
   ],
   "source": [
    "parsed_def.map(lambda line: (years(line[0]), line[3], line[-1])).take(5)"
   ]
  },
  {
   "cell_type": "code",
   "execution_count": 881,
   "metadata": {
    "collapsed": false
   },
   "outputs": [
    {
     "data": {
      "text/plain": [
       "[(2016, 1333),\n",
       " (2017, 803),\n",
       " (2007, 456),\n",
       " (2008, 1332),\n",
       " (2009, 1316),\n",
       " (2010, 1321),\n",
       " (2011, 885),\n",
       " (2012, 1474),\n",
       " (2013, 1324),\n",
       " (2014, 1334),\n",
       " (2015, 1319)]"
      ]
     },
     "execution_count": 881,
     "metadata": {},
     "output_type": "execute_result"
    }
   ],
   "source": [
    "npart = parsed_def.map(lambda line: (years(line[0]), 1)).reduceByKey(lambda a, b: a + b)\n",
    "npart.collect()"
   ]
  },
  {
   "cell_type": "code",
   "execution_count": 882,
   "metadata": {
    "collapsed": false
   },
   "outputs": [
    {
     "data": {
      "text/plain": [
       "[(2016, 4245),\n",
       " (2017, 2580),\n",
       " (2007, 1244),\n",
       " (2008, 4698),\n",
       " (2009, 4775),\n",
       " (2010, 3876),\n",
       " (2011, 2705),\n",
       " (2012, 4586),\n",
       " (2013, 3679),\n",
       " (2014, 3467),\n",
       " (2015, 3388)]"
      ]
     },
     "execution_count": 882,
     "metadata": {},
     "output_type": "execute_result"
    }
   ],
   "source": [
    "difpart = parsed_def.map(lambda line: (years(line[0]), int(line[-1]) - int(line[3]))).reduceByKey(lambda a, b: a + b)\n",
    "difpart.collect()"
   ]
  },
  {
   "cell_type": "code",
   "execution_count": 883,
   "metadata": {
    "collapsed": false
   },
   "outputs": [
    {
     "data": {
      "text/plain": [
       "[(2016, (4245, 1333)),\n",
       " (2017, (2580, 803)),\n",
       " (2007, (1244, 456)),\n",
       " (2008, (4698, 1332)),\n",
       " (2009, (4775, 1316)),\n",
       " (2010, (3876, 1321)),\n",
       " (2011, (2705, 885)),\n",
       " (2012, (4586, 1474)),\n",
       " (2013, (3679, 1324)),\n",
       " (2014, (3467, 1334)),\n",
       " (2015, (3388, 1319))]"
      ]
     },
     "execution_count": 883,
     "metadata": {},
     "output_type": "execute_result"
    }
   ],
   "source": [
    "difpart.join(npart).collect()"
   ]
  },
  {
   "cell_type": "markdown",
   "metadata": {},
   "source": [
    "* __Respuesta:__ "
   ]
  },
  {
   "cell_type": "code",
   "execution_count": 884,
   "metadata": {
    "collapsed": false
   },
   "outputs": [
    {
     "data": {
      "text/plain": [
       "[(2016, 3.1845461365341334),\n",
       " (2017, 3.2129514321295143),\n",
       " (2007, 2.7280701754385963),\n",
       " (2008, 3.527027027027027),\n",
       " (2009, 3.628419452887538),\n",
       " (2010, 2.9341408024224074),\n",
       " (2011, 3.056497175141243),\n",
       " (2012, 3.1112618724559025),\n",
       " (2013, 2.778700906344411),\n",
       " (2014, 2.598950524737631),\n",
       " (2015, 2.5686125852918877)]"
      ]
     },
     "execution_count": 884,
     "metadata": {},
     "output_type": "execute_result"
    }
   ],
   "source": [
    "difpart.join(npart).map(lambda line: (line[0], line[1][0]/line[1][1])).collect()"
   ]
  },
  {
   "cell_type": "markdown",
   "metadata": {},
   "source": [
    "#### Ahora con SQL"
   ]
  },
  {
   "cell_type": "code",
   "execution_count": 885,
   "metadata": {
    "collapsed": false
   },
   "outputs": [],
   "source": [
    "matches = sqlContext.createDataFrame(matches_data)\n",
    "matches.registerTempTable(\"matches\")"
   ]
  },
  {
   "cell_type": "code",
   "execution_count": 886,
   "metadata": {
    "collapsed": false
   },
   "outputs": [
    {
     "name": "stdout",
     "output_type": "stream",
     "text": [
      "+----+-------+\n",
      "|  hy|hpoints|\n",
      "+----+-------+\n",
      "|2016| 140466|\n",
      "|2012| 144525|\n",
      "|2017|  86682|\n",
      "|2014| 136567|\n",
      "|2013| 132642|\n",
      "|2009| 134169|\n",
      "|2011|  88998|\n",
      "|2008| 134939|\n",
      "|2007|  45584|\n",
      "|2015| 133927|\n",
      "|2010| 134132|\n",
      "+----+-------+\n",
      "\n"
     ]
    }
   ],
   "source": [
    "# Number of points home team per year\n",
    "points_home = sqlContext.sql(\"\"\"\n",
    "    SELECT year as hy, SUM(home_points) as hpoints FROM matches GROUP BY year\n",
    "\"\"\")\n",
    "points_home.show()"
   ]
  },
  {
   "cell_type": "code",
   "execution_count": 887,
   "metadata": {
    "collapsed": false
   },
   "outputs": [
    {
     "name": "stdout",
     "output_type": "stream",
     "text": [
      "+----+-------+\n",
      "|  vy|vpoints|\n",
      "+----+-------+\n",
      "|2016| 136221|\n",
      "|2012| 139939|\n",
      "|2017|  84102|\n",
      "|2014| 133100|\n",
      "|2013| 128963|\n",
      "|2009| 129394|\n",
      "|2011|  86293|\n",
      "|2008| 130241|\n",
      "|2007|  44340|\n",
      "|2015| 130539|\n",
      "|2010| 130256|\n",
      "+----+-------+\n",
      "\n"
     ]
    }
   ],
   "source": [
    "# Number of points visitit team per year\n",
    "points_home = sqlContext.sql(\"\"\"\n",
    "    SELECT year as vy, SUM(visit_points) as vpoints FROM matches GROUP BY year\n",
    "\"\"\")\n",
    "points_home.show()"
   ]
  },
  {
   "cell_type": "code",
   "execution_count": 888,
   "metadata": {
    "collapsed": false
   },
   "outputs": [
    {
     "name": "stdout",
     "output_type": "stream",
     "text": [
      "+----+-----+\n",
      "|year|games|\n",
      "+----+-----+\n",
      "|2016| 1333|\n",
      "|2012| 1474|\n",
      "|2017|  803|\n",
      "|2014| 1334|\n",
      "|2013| 1324|\n",
      "|2009| 1316|\n",
      "|2011|  885|\n",
      "|2008| 1332|\n",
      "|2007|  456|\n",
      "|2015| 1319|\n",
      "|2010| 1321|\n",
      "+----+-----+\n",
      "\n"
     ]
    }
   ],
   "source": [
    "# Number of games team per year\n",
    "games = sqlContext.sql(\"\"\"\n",
    "    SELECT year, COUNT(*) as games FROM matches GROUP BY year\n",
    "\"\"\")\n",
    "games.show()"
   ]
  },
  {
   "cell_type": "code",
   "execution_count": 889,
   "metadata": {
    "collapsed": false
   },
   "outputs": [
    {
     "name": "stdout",
     "output_type": "stream",
     "text": [
      "+----+---------+\n",
      "|   y|difPoints|\n",
      "+----+---------+\n",
      "|2016|     4245|\n",
      "|2012|     4586|\n",
      "|2017|     2580|\n",
      "|2014|     3467|\n",
      "|2013|     3679|\n",
      "|2009|     4775|\n",
      "|2011|     2705|\n",
      "|2008|     4698|\n",
      "|2007|     1244|\n",
      "|2015|     3388|\n",
      "+----+---------+\n",
      "only showing top 10 rows\n",
      "\n"
     ]
    }
   ],
   "source": [
    "join_by_year = sqlContext.sql(\"\"\"\n",
    "    SELECT vy as y, hpoints - vpoints as difPoints\n",
    "    FROM (SELECT year as vy, SUM(visit_points) as vpoints FROM matches GROUP BY year) JOIN (SELECT year as hy, SUM(home_points) as hpoints FROM matches GROUP BY year)\n",
    "    ON vy = hy\n",
    "\"\"\")\n",
    "join_by_year.show(10)"
   ]
  },
  {
   "cell_type": "markdown",
   "metadata": {},
   "source": [
    "* __Respuesta:__ "
   ]
  },
  {
   "cell_type": "code",
   "execution_count": 890,
   "metadata": {
    "collapsed": false
   },
   "outputs": [
    {
     "name": "stdout",
     "output_type": "stream",
     "text": [
      "+----+------------------+\n",
      "|year|        meanDifPts|\n",
      "+----+------------------+\n",
      "|2016|3.1845461365341334|\n",
      "|2012|3.1112618724559025|\n",
      "|2017|3.2129514321295143|\n",
      "|2014| 2.598950524737631|\n",
      "|2013| 2.778700906344411|\n",
      "|2009| 3.628419452887538|\n",
      "|2011| 3.056497175141243|\n",
      "|2008| 3.527027027027027|\n",
      "|2007|2.7280701754385963|\n",
      "|2015|2.5686125852918877|\n",
      "+----+------------------+\n",
      "only showing top 10 rows\n",
      "\n"
     ]
    }
   ],
   "source": [
    "join_by_year_tot = sqlContext.sql(\"\"\"\n",
    "    SELECT vy as year, difPoints/games as meanDifPts\n",
    "    FROM (SELECT year as vy, COUNT(*) as games FROM matches GROUP BY year) JOIN (SELECT vy as y, hpoints - vpoints as difPoints\n",
    "    FROM (SELECT year as vy, SUM(visit_points) as vpoints FROM matches GROUP BY year) JOIN (SELECT year as hy, SUM(home_points) as hpoints FROM matches GROUP BY year)\n",
    "    ON vy = hy)\n",
    "    ON vy = y\n",
    "\"\"\")\n",
    "join_by_year_tot.show(10)"
   ]
  },
  {
   "cell_type": "markdown",
   "metadata": {},
   "source": [
    "## 6. ¿Han jugado todos los equipos el mismo número de partidos? ¿ Si es qué no a que puede deberse?"
   ]
  },
  {
   "cell_type": "code",
   "execution_count": 891,
   "metadata": {
    "collapsed": false
   },
   "outputs": [
    {
     "data": {
      "text/plain": [
       "[('New Orleans Pelicans', 166),\n",
       " ('Sacramento Kings', 402),\n",
       " ('Charlotte Hornets', 127),\n",
       " ('Phoenix Suns', 413),\n",
       " ('San Antonio Spurs', 466),\n",
       " ('Miami Heat', 456),\n",
       " ('Golden State Warriors', 440),\n",
       " ('Brooklyn Nets', 218),\n",
       " ('Milwaukee Bucks', 414),\n",
       " ('New Jersey Nets', 197),\n",
       " ('Seattle SuperSonics', 41),\n",
       " ('Utah Jazz', 424),\n",
       " ('Los Angeles Lakers', 447),\n",
       " ('Indiana Pacers', 434),\n",
       " ('Houston Rockets', 434),\n",
       " ('Dallas Mavericks', 436),\n",
       " ('Oklahoma City Thunder', 408),\n",
       " ('Washington Wizards', 423),\n",
       " ('Cleveland Cavaliers', 452),\n",
       " ('Chicago Bulls', 437),\n",
       " ('Toronto Raptors', 424),\n",
       " ('Portland Trail Blazers', 428),\n",
       " ('New Orleans Hornets', 249),\n",
       " ('Memphis Grizzlies', 434),\n",
       " ('Denver Nuggets', 424),\n",
       " ('Philadelphia 76ers', 418),\n",
       " ('New York Knicks', 413),\n",
       " ('Orlando Magic', 432),\n",
       " ('Boston Celtics', 463),\n",
       " ('Atlanta Hawks', 448),\n",
       " ('Detroit Pistons', 414),\n",
       " ('Minnesota Timberwolves', 402),\n",
       " ('Charlotte Bobcats', 283),\n",
       " ('Los Angeles Clippers', 430)]"
      ]
     },
     "execution_count": 891,
     "metadata": {},
     "output_type": "execute_result"
    }
   ],
   "source": [
    "visita = parsed_def.map(lambda line: (str(line[2]),1)).reduceByKey(lambda a, b: a + b)\n",
    "visita.collect()"
   ]
  },
  {
   "cell_type": "code",
   "execution_count": 892,
   "metadata": {
    "collapsed": false
   },
   "outputs": [
    {
     "data": {
      "text/plain": [
       "[('New Orleans Pelicans', 166),\n",
       " ('Sacramento Kings', 402),\n",
       " ('Atlanta Hawks', 448),\n",
       " ('Charlotte Hornets', 126),\n",
       " ('Phoenix Suns', 412),\n",
       " ('San Antonio Spurs', 467),\n",
       " ('Golden State Warriors', 445),\n",
       " ('Brooklyn Nets', 217),\n",
       " ('Toronto Raptors', 426),\n",
       " ('New Jersey Nets', 197),\n",
       " ('Boston Celtics', 467),\n",
       " ('Utah Jazz', 422),\n",
       " ('Los Angeles Lakers', 450),\n",
       " ('Miami Heat', 461),\n",
       " ('Houston Rockets', 434),\n",
       " ('Dallas Mavericks', 431),\n",
       " ('Oklahoma City Thunder', 410),\n",
       " ('Washington Wizards', 421),\n",
       " ('Cleveland Cavaliers', 449),\n",
       " ('Chicago Bulls', 436),\n",
       " ('Milwaukee Bucks', 413),\n",
       " ('New Orleans Hornets', 250),\n",
       " ('Seattle SuperSonics', 41),\n",
       " ('Denver Nuggets', 424),\n",
       " ('Detroit Pistons', 415),\n",
       " ('Philadelphia 76ers', 416),\n",
       " ('New York Knicks', 412),\n",
       " ('Orlando Magic', 431),\n",
       " ('Indiana Pacers', 434),\n",
       " ('Charlotte Bobcats', 283),\n",
       " ('Portland Trail Blazers', 425),\n",
       " ('Minnesota Timberwolves', 402),\n",
       " ('Memphis Grizzlies', 433),\n",
       " ('Los Angeles Clippers', 431)]"
      ]
     },
     "execution_count": 892,
     "metadata": {},
     "output_type": "execute_result"
    }
   ],
   "source": [
    "home = parsed_def.map(lambda line: (str(line[-2]),1)).reduceByKey(lambda a, b: a + b)\n",
    "home.collect()"
   ]
  },
  {
   "cell_type": "code",
   "execution_count": 893,
   "metadata": {
    "collapsed": false
   },
   "outputs": [
    {
     "data": {
      "text/plain": [
       "[('New Orleans Pelicans', 332),\n",
       " ('Atlanta Hawks', 896),\n",
       " ('Charlotte Hornets', 253),\n",
       " ('Phoenix Suns', 825),\n",
       " ('Utah Jazz', 846),\n",
       " ('Golden State Warriors', 885),\n",
       " ('Brooklyn Nets', 435),\n",
       " ('Milwaukee Bucks', 827),\n",
       " ('New Jersey Nets', 394),\n",
       " ('Boston Celtics', 930),\n",
       " ('Toronto Raptors', 850),\n",
       " ('Houston Rockets', 868),\n",
       " ('Los Angeles Lakers', 897),\n",
       " ('Miami Heat', 917),\n",
       " ('San Antonio Spurs', 933),\n",
       " ('Dallas Mavericks', 867),\n",
       " ('Oklahoma City Thunder', 818),\n",
       " ('Washington Wizards', 844),\n",
       " ('Cleveland Cavaliers', 901),\n",
       " ('Chicago Bulls', 873),\n",
       " ('Denver Nuggets', 848),\n",
       " ('New Orleans Hornets', 499),\n",
       " ('Memphis Grizzlies', 867),\n",
       " ('Sacramento Kings', 804),\n",
       " ('Detroit Pistons', 829),\n",
       " ('Philadelphia 76ers', 834),\n",
       " ('New York Knicks', 825),\n",
       " ('Orlando Magic', 863),\n",
       " ('Indiana Pacers', 868),\n",
       " ('Charlotte Bobcats', 566),\n",
       " ('Portland Trail Blazers', 853),\n",
       " ('Minnesota Timberwolves', 804),\n",
       " ('Seattle SuperSonics', 82),\n",
       " ('Los Angeles Clippers', 861)]"
      ]
     },
     "execution_count": 893,
     "metadata": {},
     "output_type": "execute_result"
    }
   ],
   "source": [
    "home.join(visita).map(lambda linea : (linea[0], linea[1][0] + linea[1][1])).collect()"
   ]
  },
  {
   "cell_type": "code",
   "execution_count": 894,
   "metadata": {
    "collapsed": false
   },
   "outputs": [],
   "source": [
    "from pyspark.sql import SQLContext\n",
    "sqlContext = SQLContext(sc)"
   ]
  },
  {
   "cell_type": "code",
   "execution_count": 895,
   "metadata": {
    "collapsed": false
   },
   "outputs": [],
   "source": [
    "visitor = sqlContext.createDataFrame(row_data)\n",
    "visitor.registerTempTable(\"visitor_table\")"
   ]
  },
  {
   "cell_type": "code",
   "execution_count": 896,
   "metadata": {
    "collapsed": false
   },
   "outputs": [],
   "source": [
    "matches = sqlContext.createDataFrame(matches_data)\n",
    "matches.registerTempTable(\"matches\")"
   ]
  },
  {
   "cell_type": "code",
   "execution_count": 897,
   "metadata": {
    "collapsed": false
   },
   "outputs": [
    {
     "name": "stdout",
     "output_type": "stream",
     "text": [
      "+-----------------------+\n",
      "|count(DISTINCT visitor)|\n",
      "+-----------------------+\n",
      "|                     34|\n",
      "+-----------------------+\n",
      "\n"
     ]
    }
   ],
   "source": [
    "# Number of distinct teams in data set\n",
    "number_of_teams = sqlContext.sql(\"\"\"\n",
    "    SELECT COUNT(DISTINCT visitor) FROM visitor_table\n",
    "\"\"\")\n",
    "number_of_teams.show()"
   ]
  },
  {
   "cell_type": "code",
   "execution_count": 898,
   "metadata": {
    "collapsed": false
   },
   "outputs": [
    {
     "name": "stdout",
     "output_type": "stream",
     "text": [
      "+--------------------+--------+\n",
      "|             visitor|count(1)|\n",
      "+--------------------+--------+\n",
      "|        Phoenix Suns|     413|\n",
      "|      Boston Celtics|     463|\n",
      "|    Dallas Mavericks|     436|\n",
      "|New Orleans Pelicans|     166|\n",
      "|       Brooklyn Nets|     218|\n",
      "|     New York Knicks|     413|\n",
      "| New Orleans Hornets|     249|\n",
      "|Minnesota Timberw...|     402|\n",
      "|   Memphis Grizzlies|     434|\n",
      "|  Los Angeles Lakers|     447|\n",
      "|Golden State Warr...|     440|\n",
      "|       Orlando Magic|     432|\n",
      "|   Charlotte Bobcats|     283|\n",
      "|Los Angeles Clippers|     430|\n",
      "|     Detroit Pistons|     414|\n",
      "|       Chicago Bulls|     437|\n",
      "|     Milwaukee Bucks|     414|\n",
      "| Cleveland Cavaliers|     452|\n",
      "|      Indiana Pacers|     434|\n",
      "|  Washington Wizards|     423|\n",
      "+--------------------+--------+\n",
      "only showing top 20 rows\n",
      "\n"
     ]
    }
   ],
   "source": [
    "# Number games for visitor teams\n",
    "visits_by_teams = sqlContext.sql(\"\"\"\n",
    "    SELECT visitor, count(*) FROM visitor_table GROUP BY visitor\n",
    "\"\"\")\n",
    "visits_by_teams.show()"
   ]
  },
  {
   "cell_type": "code",
   "execution_count": 899,
   "metadata": {
    "collapsed": false
   },
   "outputs": [
    {
     "name": "stdout",
     "output_type": "stream",
     "text": [
      "+--------------------+--------+\n",
      "|                home|count(1)|\n",
      "+--------------------+--------+\n",
      "|        Phoenix Suns|     412|\n",
      "|      Boston Celtics|     467|\n",
      "|    Dallas Mavericks|     431|\n",
      "|New Orleans Pelicans|     166|\n",
      "|       Brooklyn Nets|     217|\n",
      "|     New York Knicks|     412|\n",
      "| New Orleans Hornets|     250|\n",
      "|   Memphis Grizzlies|     433|\n",
      "|Minnesota Timberw...|     402|\n",
      "|  Los Angeles Lakers|     450|\n",
      "|Golden State Warr...|     445|\n",
      "|       Orlando Magic|     431|\n",
      "|   Charlotte Bobcats|     283|\n",
      "|Los Angeles Clippers|     431|\n",
      "|     Detroit Pistons|     415|\n",
      "|       Chicago Bulls|     436|\n",
      "|     Milwaukee Bucks|     413|\n",
      "| Cleveland Cavaliers|     449|\n",
      "|      Indiana Pacers|     434|\n",
      "|  Washington Wizards|     421|\n",
      "+--------------------+--------+\n",
      "only showing top 20 rows\n",
      "\n"
     ]
    }
   ],
   "source": [
    "visits_by_teams = sqlContext.sql(\"\"\"\n",
    "    SELECT home, count(*) FROM matches GROUP BY home\n",
    "\"\"\")\n",
    "visits_by_teams.show()"
   ]
  },
  {
   "cell_type": "markdown",
   "metadata": {},
   "source": [
    "* __Respuesta:__ No, debe ser por la diferencia en juegos por serie y playoffs"
   ]
  },
  {
   "cell_type": "code",
   "execution_count": 900,
   "metadata": {
    "collapsed": false,
    "scrolled": true
   },
   "outputs": [
    {
     "name": "stdout",
     "output_type": "stream",
     "text": [
      "+--------------------+----------------+\n",
      "|                home|(pHome + pVisit)|\n",
      "+--------------------+----------------+\n",
      "|        Phoenix Suns|             825|\n",
      "|      Boston Celtics|             930|\n",
      "|    Dallas Mavericks|             867|\n",
      "|New Orleans Pelicans|             332|\n",
      "|       Brooklyn Nets|             435|\n",
      "|     New York Knicks|             825|\n",
      "| New Orleans Hornets|             499|\n",
      "|   Memphis Grizzlies|             867|\n",
      "|Minnesota Timberw...|             804|\n",
      "|  Los Angeles Lakers|             897|\n",
      "+--------------------+----------------+\n",
      "only showing top 10 rows\n",
      "\n"
     ]
    }
   ],
   "source": [
    "join_by_teams = sqlContext.sql(\"\"\"\n",
    "    SELECT home, pHome + pVisit\n",
    "    FROM (SELECT home, count(*) as pHome FROM matches GROUP BY home) JOIN (SELECT visitor, count(*) as pVisit FROM visitor_table GROUP BY visitor)\n",
    "    ON home = visitor\n",
    "\"\"\")\n",
    "join_by_teams.show(10)"
   ]
  },
  {
   "cell_type": "markdown",
   "metadata": {},
   "source": [
    "## 7. ¿Cuantos partidos ha ganado en Enero Cleveland?"
   ]
  },
  {
   "cell_type": "code",
   "execution_count": 901,
   "metadata": {
    "collapsed": false
   },
   "outputs": [],
   "source": [
    "cleveland_visit_wins = liga_data_split.filter(lambda x: \"Cleveland\" in x[3]).filter(lambda x: int(x[4])>int(x[6])).filter(lambda x: \"Jan\" in x[0])\n",
    "cleveland_home_wins = liga_data_split.filter(lambda x: \"Cleveland\" in x[5]).filter(lambda x: int(x[4])<int(x[6])).filter(lambda x: \"Jan\" in x[0])"
   ]
  },
  {
   "cell_type": "code",
   "execution_count": 902,
   "metadata": {
    "collapsed": false
   },
   "outputs": [
    {
     "data": {
      "text/plain": [
       "83"
      ]
     },
     "execution_count": 902,
     "metadata": {},
     "output_type": "execute_result"
    }
   ],
   "source": [
    "cleveland_visit_wins.count() + cleveland_home_wins.count()"
   ]
  },
  {
   "cell_type": "code",
   "execution_count": 903,
   "metadata": {
    "collapsed": false
   },
   "outputs": [
    {
     "name": "stdout",
     "output_type": "stream",
     "text": [
      "+-----------+\n",
      "|count(home)|\n",
      "+-----------+\n",
      "|         42|\n",
      "+-----------+\n",
      "\n"
     ]
    }
   ],
   "source": [
    "Cleveland_home = sqlContext.sql(\"\"\"\n",
    "    SELECT COUNT(home) FROM matches WHERE mnth = \"Jan\" AND home = \"Cleveland Cavaliers\" AND home_points > visit_points\n",
    "\"\"\")\n",
    "Cleveland_home.show()"
   ]
  },
  {
   "cell_type": "code",
   "execution_count": 904,
   "metadata": {
    "collapsed": false
   },
   "outputs": [
    {
     "name": "stdout",
     "output_type": "stream",
     "text": [
      "+--------------+\n",
      "|count(visitor)|\n",
      "+--------------+\n",
      "|            41|\n",
      "+--------------+\n",
      "\n"
     ]
    }
   ],
   "source": [
    "Cleveland_visit = sqlContext.sql(\"\"\"\n",
    "    SELECT COUNT(visitor) FROM matches WHERE mnth = \"Jan\" AND visitor = \"Cleveland Cavaliers\" AND home_points < visit_points\n",
    "\"\"\")\n",
    "Cleveland_visit.show()"
   ]
  },
  {
   "cell_type": "code",
   "execution_count": 905,
   "metadata": {
    "collapsed": false
   },
   "outputs": [
    {
     "name": "stdout",
     "output_type": "stream",
     "text": [
      "+-----------+\n",
      "|count(home)|\n",
      "+-----------+\n",
      "|         83|\n",
      "+-----------+\n",
      "\n"
     ]
    }
   ],
   "source": [
    "Cleveland_Jan_W = sqlContext.sql(\"\"\"\n",
    "    SELECT count(home) FROM matches WHERE visitor = \"Cleveland Cavaliers\" AND mnth = \"Jan\" AND home_points < visit_points\n",
    "    OR home = \"Cleveland Cavaliers\" AND mnth = \"Jan\" AND home_points > visit_points\n",
    "\"\"\")\n",
    "Cleveland_Jan_W.show()"
   ]
  },
  {
   "cell_type": "markdown",
   "metadata": {},
   "source": [
    "* __Respuesta:__ 83 victorias en enero para los cavs"
   ]
  },
  {
   "cell_type": "markdown",
   "metadata": {},
   "source": [
    "## 8. ¿Los Warrios son mejores fuera de casa o en casa?"
   ]
  },
  {
   "cell_type": "code",
   "execution_count": 906,
   "metadata": {
    "collapsed": false
   },
   "outputs": [
    {
     "data": {
      "text/plain": [
       "215"
      ]
     },
     "execution_count": 906,
     "metadata": {},
     "output_type": "execute_result"
    }
   ],
   "source": [
    "## away\n",
    "liga_data_split.filter(lambda x: \"Golden State Warriors\" in x[3]).filter(lambda x: int(x[4])>int(x[6])).count()"
   ]
  },
  {
   "cell_type": "code",
   "execution_count": 907,
   "metadata": {
    "collapsed": false
   },
   "outputs": [
    {
     "data": {
      "text/plain": [
       "308"
      ]
     },
     "execution_count": 907,
     "metadata": {},
     "output_type": "execute_result"
    }
   ],
   "source": [
    "## home\n",
    "liga_data_split.filter(lambda x: \"Golden State Warriors\" in x[5]).filter(lambda x: int(x[4])<int(x[6])).count()"
   ]
  },
  {
   "cell_type": "code",
   "execution_count": 908,
   "metadata": {
    "collapsed": false
   },
   "outputs": [
    {
     "name": "stdout",
     "output_type": "stream",
     "text": [
      "+-----------+\n",
      "|count(home)|\n",
      "+-----------+\n",
      "|        308|\n",
      "+-----------+\n",
      "\n"
     ]
    }
   ],
   "source": [
    "Warriors_home = sqlContext.sql(\"\"\"\n",
    "    SELECT COUNT(home) FROM matches WHERE home = \"Golden State Warriors\" AND home_points > visit_points\n",
    "\"\"\")\n",
    "Warriors_home.show()"
   ]
  },
  {
   "cell_type": "code",
   "execution_count": 909,
   "metadata": {
    "collapsed": false
   },
   "outputs": [
    {
     "name": "stdout",
     "output_type": "stream",
     "text": [
      "+--------------+\n",
      "|count(visitor)|\n",
      "+--------------+\n",
      "|           215|\n",
      "+--------------+\n",
      "\n"
     ]
    }
   ],
   "source": [
    "Warriors_visit = sqlContext.sql(\"\"\"\n",
    "    SELECT COUNT(visitor) FROM matches WHERE visitor = \"Golden State Warriors\" AND home_points < visit_points\n",
    "\"\"\")\n",
    "Warriors_visit.show()"
   ]
  },
  {
   "cell_type": "markdown",
   "metadata": {},
   "source": [
    "* __Respuesta:__ Los warriors son mejores en casa"
   ]
  },
  {
   "cell_type": "markdown",
   "metadata": {},
   "source": [
    "## 9. Equipo que ha quedado primerio en victorias más temporadas. (si es que hay alguno que más)"
   ]
  },
  {
   "cell_type": "code",
   "execution_count": 910,
   "metadata": {
    "collapsed": true
   },
   "outputs": [],
   "source": [
    "# Create new variable: winner of the match.\n",
    "# Count\n",
    "def winner(line):\n",
    "    if line[3] > line[5]:\n",
    "        return (str(years(line[0]))+(line[2]), 1)\n",
    "    elif line[3] < line[5]:\n",
    "        return (str(years(line[0]))+(line[4]), 1)\n",
    "    \n"
   ]
  },
  {
   "cell_type": "code",
   "execution_count": 911,
   "metadata": {
    "collapsed": false
   },
   "outputs": [
    {
     "data": {
      "text/plain": [
       "[('2007Golden State Warriors', 1),\n",
       " ('2007Houston Rockets', 1),\n",
       " ('2007Portland Trail Blazers', 1),\n",
       " ('2007Dallas Mavericks', 1),\n",
       " ('2007Denver Nuggets', 1)]"
      ]
     },
     "execution_count": 911,
     "metadata": {},
     "output_type": "execute_result"
    }
   ],
   "source": [
    "parsed_def.map(lambda line: winner(line)).take(5)"
   ]
  },
  {
   "cell_type": "code",
   "execution_count": 912,
   "metadata": {
    "collapsed": false
   },
   "outputs": [
    {
     "data": {
      "text/plain": [
       "[('2010Boston Celtics', 62),\n",
       " ('2016Golden State Warriors', 62),\n",
       " ('2008Boston Celtics', 60),\n",
       " ('2012Los Angeles Lakers', 59),\n",
       " ('2015Houston Rockets', 59)]"
      ]
     },
     "execution_count": 912,
     "metadata": {},
     "output_type": "execute_result"
    }
   ],
   "source": [
    "parsed_def.map(lambda line: winner(line)).map(lambda line: (str(line[-2]),1)).reduceByKey(lambda a, b: a + b).sortBy(lambda line :line[1], ascending =False).take(5)"
   ]
  },
  {
   "cell_type": "code",
   "execution_count": 913,
   "metadata": {
    "collapsed": true
   },
   "outputs": [],
   "source": [
    "# Create new variable: winner of the match.\n",
    "# Count\n",
    "def winner2(line):\n",
    "    if line[3] > line[5]:\n",
    "        return (str(years(line[0])),(line[2]))\n",
    "    elif line[3] < line[5]:\n",
    "        return (str(years(line[0])),(line[4]))\n",
    "    \n"
   ]
  },
  {
   "cell_type": "code",
   "execution_count": 919,
   "metadata": {
    "collapsed": false
   },
   "outputs": [
    {
     "data": {
      "text/plain": [
       "[(('2013', 'Los Angeles Clippers'), 44),\n",
       " (('2013', 'Indiana Pacers'), 52),\n",
       " (('2012', 'Minnesota Timberwolves'), 49),\n",
       " (('2007', 'Atlanta Hawks'), 17),\n",
       " (('2013', 'Sacramento Kings'), 34)]"
      ]
     },
     "execution_count": 919,
     "metadata": {},
     "output_type": "execute_result"
    }
   ],
   "source": [
    "tabla1 = parsed_def.map(lambda line: winner2(line)).map(lambda line: ((line),1)).reduceByKey(lambda a, b: a + b).reduceByKey(max)\n",
    "tabla1.take(5)"
   ]
  },
  {
   "cell_type": "code",
   "execution_count": 939,
   "metadata": {
    "collapsed": false
   },
   "outputs": [
    {
     "data": {
      "text/plain": [
       "[('2017', 43),\n",
       " ('2013', 57),\n",
       " ('2011', 40),\n",
       " ('2016', 62),\n",
       " ('2014', 56),\n",
       " ('2008', 60),\n",
       " ('2007', 19),\n",
       " ('2015', 59),\n",
       " ('2009', 56),\n",
       " ('2010', 62),\n",
       " ('2012', 59)]"
      ]
     },
     "execution_count": 939,
     "metadata": {},
     "output_type": "execute_result"
    }
   ],
   "source": [
    "parsed_def.map(lambda line: winner2(line)).map(lambda line: ((line),1)).reduceByKey(lambda a, b: a + b).map(lambda linea:(linea[0][0],linea[1])).reduceByKey(max).collect()"
   ]
  },
  {
   "cell_type": "code",
   "execution_count": 934,
   "metadata": {
    "collapsed": false
   },
   "outputs": [
    {
     "data": {
      "text/plain": [
       "[(('2017', 43), ''),\n",
       " (('2013', 57), ''),\n",
       " (('2011', 40), ''),\n",
       " (('2016', 62), ''),\n",
       " (('2014', 56), ''),\n",
       " (('2008', 60), ''),\n",
       " (('2007', 19), ''),\n",
       " (('2015', 59), ''),\n",
       " (('2009', 56), ''),\n",
       " (('2010', 62), ''),\n",
       " (('2012', 59), '')]"
      ]
     },
     "execution_count": 934,
     "metadata": {},
     "output_type": "execute_result"
    }
   ],
   "source": [
    "tabla2 = parsed_def.map(lambda line: winner2(line)).map(lambda line: ((line),1)).reduceByKey(lambda a, b: a + b).map(lambda linea:(linea[0][0],linea[1])).reduceByKey(max).map(lambda line:(line,\"\"))\n",
    "tabla2.collect()"
   ]
  },
  {
   "cell_type": "code",
   "execution_count": 925,
   "metadata": {
    "collapsed": false
   },
   "outputs": [
    {
     "data": {
      "text/plain": [
       "[(('2013', 44), 'Los Angeles Clippers'),\n",
       " (('2013', 52), 'Indiana Pacers'),\n",
       " (('2012', 49), 'Minnesota Timberwolves'),\n",
       " (('2007', 17), 'Atlanta Hawks'),\n",
       " (('2013', 34), 'Sacramento Kings')]"
      ]
     },
     "execution_count": 925,
     "metadata": {},
     "output_type": "execute_result"
    }
   ],
   "source": [
    "tabla1 = tabla1.map(lambda line: ((line[0][0],line[1]), line[0][1]))\n",
    "tabla1.take(5)"
   ]
  },
  {
   "cell_type": "code",
   "execution_count": 937,
   "metadata": {
    "collapsed": false
   },
   "outputs": [
    {
     "data": {
      "text/plain": [
       "[(('2010', 62), ('Boston Celtics', '')),\n",
       " (('2016', 62), ('Golden State Warriors', '')),\n",
       " (('2014', 56), ('Indiana Pacers', '')),\n",
       " (('2011', 40), ('Chicago Bulls', '')),\n",
       " (('2009', 56), ('Orlando Magic', '')),\n",
       " (('2013', 57), ('Memphis Grizzlies', '')),\n",
       " (('2007', 19), ('Cleveland Cavaliers', '')),\n",
       " (('2007', 19), ('Portland Trail Blazers', '')),\n",
       " (('2007', 19), ('Milwaukee Bucks', '')),\n",
       " (('2017', 43), ('Cleveland Cavaliers', '')),\n",
       " (('2012', 59), ('Los Angeles Lakers', '')),\n",
       " (('2008', 60), ('Boston Celtics', '')),\n",
       " (('2015', 59), ('Houston Rockets', ''))]"
      ]
     },
     "execution_count": 937,
     "metadata": {},
     "output_type": "execute_result"
    }
   ],
   "source": [
    "tabla1.join(tabla2).collect()"
   ]
  },
  {
   "cell_type": "markdown",
   "metadata": {},
   "source": [
    "* __Respuesta:__ Ninguno"
   ]
  },
  {
   "cell_type": "code",
   "execution_count": 916,
   "metadata": {
    "collapsed": false
   },
   "outputs": [
    {
     "name": "stdout",
     "output_type": "stream",
     "text": [
      "+----+-------------------+\n",
      "|year|             winner|\n",
      "+----+-------------------+\n",
      "|2007|          Utah Jazz|\n",
      "|2007|    Houston Rockets|\n",
      "|2007|  San Antonio Spurs|\n",
      "|2007|   Dallas Mavericks|\n",
      "|2007|     Denver Nuggets|\n",
      "|2007|     Indiana Pacers|\n",
      "|2007|  San Antonio Spurs|\n",
      "|2007|    New Jersey Nets|\n",
      "|2007|New Orleans Hornets|\n",
      "|2007|      Orlando Magic|\n",
      "|2007|    Toronto Raptors|\n",
      "|2007|    Detroit Pistons|\n",
      "|2007|       Phoenix Suns|\n",
      "|2007|    Houston Rockets|\n",
      "|2007|      Atlanta Hawks|\n",
      "|2007|     Boston Celtics|\n",
      "|2007|  Charlotte Bobcats|\n",
      "|2007| Philadelphia 76ers|\n",
      "|2007|Cleveland Cavaliers|\n",
      "|2007|     Indiana Pacers|\n",
      "+----+-------------------+\n",
      "only showing top 20 rows\n",
      "\n"
     ]
    }
   ],
   "source": [
    "primero_temporadas = sqlContext.sql(\"\"\"\n",
    "    SELECT year, IF(home_points > visit_points, home, visitor) as winner FROM matches \n",
    "\"\"\")\n",
    "primero_temporadas.show()"
   ]
  },
  {
   "cell_type": "markdown",
   "metadata": {
    "collapsed": true
   },
   "source": [
    "## 10. Escribe la expresión regular correcta que sólo macheen los teléfonos y el correo del siguiente texto."
   ]
  },
  {
   "cell_type": "code",
   "execution_count": 461,
   "metadata": {
    "collapsed": true
   },
   "outputs": [],
   "source": [
    "texto = 'Si eres cliente y necesitas información sobre tus posiciones, productos o realizar operaciones: Desde España. Desde el extranjero. Banca telefónica en castellano. Bandera castellano. 902 13 23 13. Banca telefónica en catalán. Bandera catalana. 902 88 30 08. Banca telefónica en inglés. Bandera inglesa. 902 88 88 35. O por correo electrónico a atencioncliente@bankinter.com'"
   ]
  },
  {
   "cell_type": "code",
   "execution_count": 462,
   "metadata": {
    "collapsed": true
   },
   "outputs": [],
   "source": [
    "telefono = '(\\d+\\s\\d+\\s\\d+\\s\\d+)'\n",
    "mail = '(\\S+[@]\\S+)'"
   ]
  },
  {
   "cell_type": "code",
   "execution_count": 463,
   "metadata": {
    "collapsed": false
   },
   "outputs": [
    {
     "data": {
      "text/plain": [
       "['902 13 23 13', '902 88 30 08', '902 88 88 35']"
      ]
     },
     "execution_count": 463,
     "metadata": {},
     "output_type": "execute_result"
    }
   ],
   "source": [
    "re.findall(telefono,texto)"
   ]
  },
  {
   "cell_type": "code",
   "execution_count": 464,
   "metadata": {
    "collapsed": false
   },
   "outputs": [
    {
     "data": {
      "text/plain": [
       "<_sre.SRE_Match object; span=(344, 373), match='atencioncliente@bankinter.com'>"
      ]
     },
     "execution_count": 464,
     "metadata": {},
     "output_type": "execute_result"
    }
   ],
   "source": [
    "re.search(mail, texto)"
   ]
  },
  {
   "cell_type": "code",
   "execution_count": 465,
   "metadata": {
    "collapsed": false
   },
   "outputs": [
    {
     "data": {
      "text/plain": [
       "[]"
      ]
     },
     "execution_count": 465,
     "metadata": {},
     "output_type": "execute_result"
    }
   ],
   "source": [
    "re.findall(telefono+mail, texto)"
   ]
  },
  {
   "cell_type": "markdown",
   "metadata": {},
   "source": [
    "Siempre al final:"
   ]
  },
  {
   "cell_type": "code",
   "execution_count": 836,
   "metadata": {
    "collapsed": true
   },
   "outputs": [],
   "source": [
    "sc.stop()"
   ]
  }
 ],
 "metadata": {
  "kernelspec": {
   "display_name": "Python 3",
   "language": "python",
   "name": "python3"
  },
  "language_info": {
   "codemirror_mode": {
    "name": "ipython",
    "version": 3
   },
   "file_extension": ".py",
   "mimetype": "text/x-python",
   "name": "python",
   "nbconvert_exporter": "python",
   "pygments_lexer": "ipython3",
   "version": "3.5.2"
  }
 },
 "nbformat": 4,
 "nbformat_minor": 2
}
