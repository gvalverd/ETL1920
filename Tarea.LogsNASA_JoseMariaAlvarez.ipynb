{
 "cells": [
  {
   "cell_type": "markdown",
   "metadata": {},
   "source": [
    "# TAREA. Dataset logs nasa\n",
    "\n",
    "### ETL\n",
    "\n",
    "Start Date: 29/11/2019\n",
    "\n",
    "End Date: 29/11/2019\n",
    "\n",
    "### José María Álvarez Silva"
   ]
  },
  {
   "cell_type": "markdown",
   "metadata": {},
   "source": [
    "El objetivo de esta práctica es emplear el RDD access_logs para realizar una serie de cálculos:\n",
    "\n",
    " * Se ha realizado con `pyspark`\n",
    " * Ahora se hará con `pyspark sql`"
   ]
  },
  {
   "cell_type": "markdown",
   "metadata": {},
   "source": [
    "## 1. En primer lugar se deben cargar los datos en un contexto Spark:"
   ]
  },
  {
   "cell_type": "code",
   "execution_count": 17,
   "metadata": {
    "collapsed": true
   },
   "outputs": [],
   "source": [
    "from pyspark import SparkContext\n",
    "from datetime import datetime\n",
    "import pandas as pd"
   ]
  },
  {
   "cell_type": "code",
   "execution_count": 2,
   "metadata": {
    "collapsed": false
   },
   "outputs": [],
   "source": [
    "sc = SparkContext()"
   ]
  },
  {
   "cell_type": "code",
   "execution_count": 3,
   "metadata": {
    "collapsed": true
   },
   "outputs": [],
   "source": [
    "data_file = \"./apache.access.log\"\n",
    "raw_data = sc.textFile(data_file)"
   ]
  },
  {
   "cell_type": "markdown",
   "metadata": {},
   "source": [
    "Hasta aquí se han cargado los datos en el RDD raw_data. Como primera medida para asegurar que los datos se han subido de manera correcta se procede al conteo de los mismos:"
   ]
  },
  {
   "cell_type": "code",
   "execution_count": 4,
   "metadata": {
    "collapsed": false
   },
   "outputs": [
    {
     "data": {
      "text/plain": [
       "3432"
      ]
     },
     "execution_count": 4,
     "metadata": {},
     "output_type": "execute_result"
    }
   ],
   "source": [
    "raw_data.count()"
   ]
  },
  {
   "cell_type": "markdown",
   "metadata": {},
   "source": [
    "Además vamos a visualizar los primero elementos del RDD:"
   ]
  },
  {
   "cell_type": "code",
   "execution_count": 5,
   "metadata": {
    "collapsed": false
   },
   "outputs": [
    {
     "data": {
      "text/plain": [
       "['in24.inetnebr.com - - [01/Aug/1995:00:00:01 -0400] \"GET /shuttle/missions/sts-68/news/sts-68-mcc-05.txt HTTP/1.0\" 200 1839',\n",
       " 'uplherc.upl.com - - [01/Aug/1995:00:00:07 -0400] \"GET / HTTP/1.0\" 304 0',\n",
       " 'uplherc.upl.com - - [01/Aug/1995:00:00:08 -0400] \"GET /images/ksclogo-medium.gif HTTP/1.0\" 304 0',\n",
       " 'uplherc.upl.com - - [01/Aug/1995:00:00:08 -0400] \"GET /images/MOSAIC-logosmall.gif HTTP/1.0\" 304 0',\n",
       " 'uplherc.upl.com - - [01/Aug/1995:00:00:08 -0400] \"GET /images/USA-logosmall.gif HTTP/1.0\" 304 0']"
      ]
     },
     "execution_count": 5,
     "metadata": {},
     "output_type": "execute_result"
    }
   ],
   "source": [
    "raw_data.take(5)"
   ]
  },
  {
   "cell_type": "markdown",
   "metadata": {},
   "source": [
    "Una vez confirmado que la carga ha sido realizada de manera correcta se procede al parseado de los datos:"
   ]
  },
  {
   "cell_type": "markdown",
   "metadata": {},
   "source": [
    "En el parseado se emplea la expresión regular vista hoy en clase:"
   ]
  },
  {
   "cell_type": "code",
   "execution_count": 6,
   "metadata": {
    "collapsed": false
   },
   "outputs": [],
   "source": [
    "import re\n",
    "def parse_log1(line):\n",
    "    match = re.search('^(\\S+) (\\S+) (\\S+) \\[(\\S+) [-](\\d{4})\\] \"(\\S+)\\s*(\\S+)\\s*(\\S+)\\s*([\\w\\.\\s*]+)?\\s*\"*(\\d{3}) (\\S+)', line)\n",
    "    if match is None:\n",
    "        return 0\n",
    "    else:\n",
    "        return 1\n",
    "n_logs = raw_data.count()"
   ]
  },
  {
   "cell_type": "code",
   "execution_count": 7,
   "metadata": {
    "collapsed": false
   },
   "outputs": [],
   "source": [
    "def parse_log2(line):\n",
    "    match = re.search('^(\\S+) (\\S+) (\\S+) \\[(\\S+) [-](\\d{4})\\] \"(\\S+)\\s*(\\S+)\\s*(\\S+)\\s*([/\\w\\.\\s*]+)?\\s*\"* (\\d{3}) (\\S+)',line)\n",
    "    if match is None:\n",
    "        match = re.search('^(\\S+) (\\S+) (\\S+) \\[(\\S+) [-](\\d{4})\\] \"(\\S+)\\s*([/\\w\\.]+)>*([\\w/\\s\\.]+)\\s*(\\S+)\\s*(\\d{3})\\s*(\\S+)',line)\n",
    "    if match is None:\n",
    "        return (line, 0)\n",
    "    else:\n",
    "        return (line, 1)\n"
   ]
  },
  {
   "cell_type": "code",
   "execution_count": 8,
   "metadata": {
    "collapsed": false
   },
   "outputs": [],
   "source": [
    "def map_log(line):\n",
    "    match = re.search('^(\\S+) (\\S+) (\\S+) \\[(\\S+) [-](\\d{4})\\] \"(\\S+)\\s*(\\S+)\\s*(\\S+)\\s*([/\\w\\.\\s*]+)?\\s*\"* (\\d{3}) (\\S+)',line)\n",
    "    if match is None:\n",
    "        match = re.search('^(\\S+) (\\S+) (\\S+) \\[(\\S+) [-](\\d{4})\\] \"(\\S+)\\s*([/\\w\\.]+)>*([\\w/\\s\\.]+)\\s*(\\S+)\\s*(\\d{3})\\s*(\\S+)',line)\n",
    "    return(match.groups())\n",
    "parsed_rdd = raw_data.map(lambda line: parse_log2(line)).filter(lambda line: line[1] == 1).map(lambda line : line[0])\n",
    "parsed_def = parsed_rdd.map(lambda line: map_log(line))"
   ]
  },
  {
   "cell_type": "code",
   "execution_count": 9,
   "metadata": {
    "collapsed": false
   },
   "outputs": [
    {
     "data": {
      "text/plain": [
       "['in24.inetnebr.com - - [01/Aug/1995:00:00:01 -0400] \"GET /shuttle/missions/sts-68/news/sts-68-mcc-05.txt HTTP/1.0\" 200 1839',\n",
       " 'uplherc.upl.com - - [01/Aug/1995:00:00:07 -0400] \"GET / HTTP/1.0\" 304 0',\n",
       " 'uplherc.upl.com - - [01/Aug/1995:00:00:08 -0400] \"GET /images/ksclogo-medium.gif HTTP/1.0\" 304 0',\n",
       " 'uplherc.upl.com - - [01/Aug/1995:00:00:08 -0400] \"GET /images/MOSAIC-logosmall.gif HTTP/1.0\" 304 0',\n",
       " 'uplherc.upl.com - - [01/Aug/1995:00:00:08 -0400] \"GET /images/USA-logosmall.gif HTTP/1.0\" 304 0']"
      ]
     },
     "execution_count": 9,
     "metadata": {},
     "output_type": "execute_result"
    }
   ],
   "source": [
    "parsed_rdd.take(5)"
   ]
  },
  {
   "cell_type": "code",
   "execution_count": 10,
   "metadata": {
    "collapsed": false
   },
   "outputs": [
    {
     "data": {
      "text/plain": [
       "[('in24.inetnebr.com',\n",
       "  '-',\n",
       "  '-',\n",
       "  '01/Aug/1995:00:00:01',\n",
       "  '0400',\n",
       "  'GET',\n",
       "  '/shuttle/missions/sts-68/news/sts-68-mcc-05.txt',\n",
       "  'HTTP/1.0\"',\n",
       "  None,\n",
       "  '200',\n",
       "  '1839'),\n",
       " ('uplherc.upl.com',\n",
       "  '-',\n",
       "  '-',\n",
       "  '01/Aug/1995:00:00:07',\n",
       "  '0400',\n",
       "  'GET',\n",
       "  '/',\n",
       "  'HTTP/1.0\"',\n",
       "  None,\n",
       "  '304',\n",
       "  '0')]"
      ]
     },
     "execution_count": 10,
     "metadata": {},
     "output_type": "execute_result"
    }
   ],
   "source": [
    "parsed_def.take(2)"
   ]
  },
  {
   "cell_type": "markdown",
   "metadata": {},
   "source": [
    "## Pregunta 1\n",
    "\n",
    "## Mínimo, máximo y media del tamaño de las peticiones"
   ]
  },
  {
   "cell_type": "markdown",
   "metadata": {},
   "source": [
    "A continuación se presentan las estadísticas (incluyendo mínimo, máximo y media) del tamaño de las peticiones:"
   ]
  },
  {
   "cell_type": "code",
   "execution_count": 11,
   "metadata": {
    "collapsed": false
   },
   "outputs": [
    {
     "data": {
      "text/plain": [
       "(count: 3432, mean: 16051.863636363621, stdev: 53247.8157482, max: 887988.0, min: 0.0)"
      ]
     },
     "execution_count": 11,
     "metadata": {},
     "output_type": "execute_result"
    }
   ],
   "source": [
    "def convert_long(x):\n",
    "    x = re.sub('[^0-9]',\"\",x) \n",
    "    if x ==\"\":\n",
    "        return 0\n",
    "    else:\n",
    "        return int(x)\n",
    "parsed_def.map(lambda line: convert_long(line[-1])).stats()"
   ]
  },
  {
   "cell_type": "code",
   "execution_count": 12,
   "metadata": {
    "collapsed": false
   },
   "outputs": [],
   "source": [
    "from pyspark.sql import SQLContext\n",
    "sqlContext = SQLContext(sc)\n",
    "from pyspark.sql import Row"
   ]
  },
  {
   "cell_type": "code",
   "execution_count": 20,
   "metadata": {
    "collapsed": true
   },
   "outputs": [],
   "source": [
    "row_data = parsed_def.map(lambda p: Row(\n",
    "    host = p[0], \n",
    "#     fecha = (datetime.strptime(p[3][:11], \"%d/%b%Y\")),\n",
    "    endpoint = p[6],\n",
    "    size = convert_long(p[-1]),\n",
    "    repuesta = p[-2]\n",
    "    )\n",
    ")"
   ]
  },
  {
   "cell_type": "code",
   "execution_count": 21,
   "metadata": {
    "collapsed": false
   },
   "outputs": [],
   "source": [
    "lognasa_df = sqlContext.createDataFrame(row_data)\n",
    "lognasa_df.registerTempTable(\"lognasa\")"
   ]
  },
  {
   "cell_type": "code",
   "execution_count": 24,
   "metadata": {
    "collapsed": false
   },
   "outputs": [
    {
     "name": "stdout",
     "output_type": "stream",
     "text": [
      "+---------+---------+------------------+\n",
      "|min(size)|max(size)|         avg(size)|\n",
      "+---------+---------+------------------+\n",
      "|        0|   887988|16051.863636363636|\n",
      "+---------+---------+------------------+\n",
      "\n"
     ]
    }
   ],
   "source": [
    "statsNASA = sqlContext.sql(\"\"\"\n",
    "    SELECT MIN(size), MAX(size), MEAN(size) FROM lognasa\n",
    "\"\"\")\n",
    "statsNASA.show()"
   ]
  },
  {
   "cell_type": "markdown",
   "metadata": {},
   "source": [
    "## Pregunta 2\n",
    "\n",
    "## Número de peticiones de cada código de respuesta"
   ]
  },
  {
   "cell_type": "markdown",
   "metadata": {},
   "source": [
    "El siguiente objetivo es calcular el número de peticiones de cada código de respuesta:"
   ]
  },
  {
   "cell_type": "code",
   "execution_count": null,
   "metadata": {
    "collapsed": false
   },
   "outputs": [],
   "source": [
    "n_codes = parsed_def.map(lambda line: (line[-2], 1)).distinct().count()\n",
    "codes_count = (parsed_def.map(lambda line: (line[-2], 1))\n",
    "          .reduceByKey(lambda a, b: a + b)\n",
    "          .takeOrdered(n_codes, lambda x: -x[1]))\n",
    "codes_count"
   ]
  },
  {
   "cell_type": "code",
   "execution_count": 29,
   "metadata": {
    "collapsed": false
   },
   "outputs": [
    {
     "name": "stdout",
     "output_type": "stream",
     "text": [
      "+--------+---------------+\n",
      "|repuesta|count(repuesta)|\n",
      "+--------+---------------+\n",
      "|     200|           3140|\n",
      "|     302|             50|\n",
      "|     404|             22|\n",
      "|     403|              1|\n",
      "|     304|            219|\n",
      "+--------+---------------+\n",
      "\n"
     ]
    }
   ],
   "source": [
    "respuestasCode = sqlContext.sql(\"\"\"\n",
    "    SELECT repuesta, COUNT(repuesta) FROM lognasa GROUP BY repuesta\n",
    "\"\"\")\n",
    "respuestasCode.show()"
   ]
  },
  {
   "cell_type": "markdown",
   "metadata": {},
   "source": [
    "## Pregunta 3\n",
    "\n",
    "## Mostrar 20 hosts que han sido visitados más de 10 veces"
   ]
  },
  {
   "cell_type": "markdown",
   "metadata": {},
   "source": [
    "Si se desean ver  20 hosts visitados más de diez veces:"
   ]
  },
  {
   "cell_type": "code",
   "execution_count": 33,
   "metadata": {
    "collapsed": false
   },
   "outputs": [
    {
     "data": {
      "text/plain": [
       "[('ix-min1-02.ix.netcom.com', 78),\n",
       " ('uplherc.upl.com', 71),\n",
       " ('port26.ts1.msstate.edu', 59),\n",
       " ('h96-158.ccnet.com', 56),\n",
       " ('in24.inetnebr.com', 55),\n",
       " ('piweba3y.prodigy.com', 54),\n",
       " ('thing1.cchem.berkeley.edu', 54),\n",
       " ('adam.tower.com.au', 44),\n",
       " ('ip55.van2.pacifier.com', 43),\n",
       " ('ppp1016.po.iijnet.or.jp', 41),\n",
       " ('hsccs_gatorbox07.unm.edu', 40),\n",
       " ('www-b2.proxy.aol.com', 40),\n",
       " ('www-d1.proxy.aol.com', 39),\n",
       " ('133.43.96.45', 37),\n",
       " ('port13.wavenet.com', 37),\n",
       " ('pc-heh.icl.dk', 33),\n",
       " ('haraway.ucet.ufl.edu', 32),\n",
       " ('193.84.66.147', 31),\n",
       " ('www-c1.proxy.aol.com', 30),\n",
       " ('143.158.26.50', 29)]"
      ]
     },
     "execution_count": 33,
     "metadata": {},
     "output_type": "execute_result"
    }
   ],
   "source": [
    "result = parsed_def.map(lambda line: (line[0],1)).reduceByKey(lambda a, b: a + b).filter(lambda x : x[1] > 10).takeOrdered(20, lambda x: -x[1])\n",
    "result"
   ]
  },
  {
   "cell_type": "code",
   "execution_count": 41,
   "metadata": {
    "collapsed": false
   },
   "outputs": [
    {
     "name": "stdout",
     "output_type": "stream",
     "text": [
      "+--------------------+---+\n",
      "|                host|num|\n",
      "+--------------------+---+\n",
      "|ix-min1-02.ix.net...| 78|\n",
      "|     uplherc.upl.com| 71|\n",
      "|port26.ts1.msstat...| 59|\n",
      "|   h96-158.ccnet.com| 56|\n",
      "|   in24.inetnebr.com| 55|\n",
      "|piweba3y.prodigy.com| 54|\n",
      "|thing1.cchem.berk...| 54|\n",
      "|   adam.tower.com.au| 44|\n",
      "|ip55.van2.pacifie...| 43|\n",
      "|ppp1016.po.iijnet...| 41|\n",
      "|hsccs_gatorbox07....| 40|\n",
      "|www-b2.proxy.aol.com| 40|\n",
      "|www-d1.proxy.aol.com| 39|\n",
      "|        133.43.96.45| 37|\n",
      "|  port13.wavenet.com| 37|\n",
      "|       pc-heh.icl.dk| 33|\n",
      "|haraway.ucet.ufl.edu| 32|\n",
      "|       193.84.66.147| 31|\n",
      "|www-c1.proxy.aol.com| 30|\n",
      "|term1-24.sb.west.net| 29|\n",
      "+--------------------+---+\n",
      "\n"
     ]
    }
   ],
   "source": [
    "host20 = sqlContext.sql(\"\"\"\n",
    "   SELECT host, num FROM (SELECT host, COUNT(host) as num FROM lognasa GROUP BY host) WHERE num > 10 ORDER BY num DESC LIMIT 20\n",
    "\"\"\")\n",
    "host20.show()"
   ]
  },
  {
   "cell_type": "markdown",
   "metadata": {},
   "source": [
    "## Pregunta 4 \n",
    "\n",
    "## Mostrar los 10 endpoints más visitados"
   ]
  },
  {
   "cell_type": "markdown",
   "metadata": {},
   "source": [
    "A continuación se muestran los 10 endpoints más visitados:"
   ]
  },
  {
   "cell_type": "code",
   "execution_count": 42,
   "metadata": {
    "collapsed": false
   },
   "outputs": [
    {
     "data": {
      "text/plain": [
       "[('/images/KSC-logosmall.gif', 167),\n",
       " ('/images/NASA-logosmall.gif', 160),\n",
       " ('/images/MOSAIC-logosmall.gif', 122),\n",
       " ('/images/WORLD-logosmall.gif', 120),\n",
       " ('/images/USA-logosmall.gif', 118),\n",
       " ('/images/ksclogo-medium.gif', 106),\n",
       " ('/', 85),\n",
       " ('/history/apollo/images/apollo-logo1.gif', 74),\n",
       " ('/images/launch-logo.gif', 69),\n",
       " ('/images/ksclogosmall.gif', 66)]"
      ]
     },
     "execution_count": 42,
     "metadata": {},
     "output_type": "execute_result"
    }
   ],
   "source": [
    "result = parsed_def.map(lambda line: (line[6],1)).reduceByKey(lambda a, b: a + b).takeOrdered(10, lambda x: -x[1])\n",
    "result"
   ]
  },
  {
   "cell_type": "code",
   "execution_count": 46,
   "metadata": {
    "collapsed": false
   },
   "outputs": [
    {
     "name": "stdout",
     "output_type": "stream",
     "text": [
      "+--------------------+---+\n",
      "|            endpoint|num|\n",
      "+--------------------+---+\n",
      "|/images/KSC-logos...|167|\n",
      "|/images/NASA-logo...|160|\n",
      "|/images/MOSAIC-lo...|122|\n",
      "|/images/WORLD-log...|120|\n",
      "|/images/USA-logos...|118|\n",
      "|/images/ksclogo-m...|106|\n",
      "|                   /| 85|\n",
      "|/history/apollo/i...| 74|\n",
      "|/images/launch-lo...| 69|\n",
      "|/images/ksclogosm...| 66|\n",
      "+--------------------+---+\n",
      "\n"
     ]
    }
   ],
   "source": [
    "endpoints10 = sqlContext.sql(\"\"\"\n",
    "   SELECT endpoint, COUNT(endpoint) as num FROM lognasa GROUP BY endpoint ORDER BY num DESC LIMIT 10\n",
    "\"\"\")\n",
    "endpoints10.show()"
   ]
  },
  {
   "cell_type": "markdown",
   "metadata": {},
   "source": [
    "## Pregunta 5\n",
    "\n",
    "## Mostrar los 10 endpoints mas visitados que no tienen el codigo de respuesta 200"
   ]
  },
  {
   "cell_type": "markdown",
   "metadata": {},
   "source": [
    "Si se desean los 10 endpoints más visitados que no han devuelto un resultado (es decir, que tienen un código distinto de 200):"
   ]
  },
  {
   "cell_type": "code",
   "execution_count": 47,
   "metadata": {
    "collapsed": false
   },
   "outputs": [
    {
     "data": {
      "text/plain": [
       "[('/images/NASA-logosmall.gif', 25),\n",
       " ('/images/KSC-logosmall.gif', 24),\n",
       " ('/images/MOSAIC-logosmall.gif', 17),\n",
       " ('/images/WORLD-logosmall.gif', 17),\n",
       " ('/images/USA-logosmall.gif', 16),\n",
       " ('/images/ksclogo-medium.gif', 10),\n",
       " ('/software/winvn/bluemarb.gif', 8),\n",
       " ('/software/winvn/winvn.html', 8),\n",
       " ('/images/construct.gif', 8),\n",
       " ('/software/winvn/wvsmall.gif', 6)]"
      ]
     },
     "execution_count": 47,
     "metadata": {},
     "output_type": "execute_result"
    }
   ],
   "source": [
    "result = (parsed_def.filter(lambda line: line[9] != '200')\n",
    "          .map(lambda line: (line[6], 1))\n",
    "          .reduceByKey(lambda a, b: a+b)\n",
    "          .takeOrdered(10, lambda x: -x[1]))\n",
    "result"
   ]
  },
  {
   "cell_type": "code",
   "execution_count": 54,
   "metadata": {
    "collapsed": false
   },
   "outputs": [
    {
     "name": "stdout",
     "output_type": "stream",
     "text": [
      "+--------------------+---+\n",
      "|            endpoint|num|\n",
      "+--------------------+---+\n",
      "|/images/NASA-logo...| 25|\n",
      "|/images/KSC-logos...| 24|\n",
      "|/images/MOSAIC-lo...| 17|\n",
      "|/images/WORLD-log...| 17|\n",
      "|/images/USA-logos...| 16|\n",
      "|/images/ksclogo-m...| 10|\n",
      "|/software/winvn/b...|  8|\n",
      "|/images/construct...|  8|\n",
      "|/software/winvn/w...|  8|\n",
      "|/software/winvn/w...|  6|\n",
      "+--------------------+---+\n",
      "\n"
     ]
    }
   ],
   "source": [
    "endpoints10sin200 = sqlContext.sql(\"\"\"\n",
    "   SELECT endpoint, COUNT(endpoint) as num FROM (SELECT endpoint FROM lognasa WHERE repuesta != 200) GROUP BY endpoint ORDER BY num DESC LIMIT 10 \n",
    "\"\"\")\n",
    "endpoints10sin200.show()"
   ]
  },
  {
   "cell_type": "markdown",
   "metadata": {},
   "source": [
    "## Pregunta 6\n",
    "\n",
    "## Número de Hosts Distintos"
   ]
  },
  {
   "cell_type": "markdown",
   "metadata": {},
   "source": [
    "A continuación se calcula el número de hosts distintos:"
   ]
  },
  {
   "cell_type": "code",
   "execution_count": 55,
   "metadata": {
    "collapsed": false
   },
   "outputs": [
    {
     "data": {
      "text/plain": [
       "311"
      ]
     },
     "execution_count": 55,
     "metadata": {},
     "output_type": "execute_result"
    }
   ],
   "source": [
    "parsed_def.map(lambda line: line[0]).distinct().count()"
   ]
  },
  {
   "cell_type": "code",
   "execution_count": 57,
   "metadata": {
    "collapsed": false
   },
   "outputs": [
    {
     "name": "stdout",
     "output_type": "stream",
     "text": [
      "+--------------------+\n",
      "|count(DISTINCT host)|\n",
      "+--------------------+\n",
      "|                 311|\n",
      "+--------------------+\n",
      "\n"
     ]
    }
   ],
   "source": [
    "distinctHosts = sqlContext.sql(\"\"\"\n",
    "   SELECT COUNT(DISTINCT host) FROM lognasa \n",
    "\"\"\")\n",
    "distinctHosts.show()"
   ]
  },
  {
   "cell_type": "markdown",
   "metadata": {},
   "source": [
    "## Pregunta 7\n",
    "\n",
    "## Número de Hosts unicos por día"
   ]
  },
  {
   "cell_type": "markdown",
   "metadata": {},
   "source": [
    "Tras ello se puede calcular el número de hosts únicos cada día:"
   ]
  },
  {
   "cell_type": "code",
   "execution_count": 58,
   "metadata": {
    "collapsed": false
   },
   "outputs": [
    {
     "data": {
      "text/plain": [
       "[(datetime.datetime(1995, 8, 1, 0, 0), 3432)]"
      ]
     },
     "execution_count": 58,
     "metadata": {},
     "output_type": "execute_result"
    }
   ],
   "source": [
    "def day_month(line):\n",
    "    date_time = line[3]\n",
    "    return datetime.strptime(date_time[:11], \"%d/%b/%Y\") #Se parsea la fecha para trabajar con ella tal y como vimos en clase.\n",
    "result = parsed_def.map(lambda line:  (day_month(line), 1)).reduceByKey(lambda a, b: a + b).distinct().collect()\n",
    "result\n",
    "\n"
   ]
  },
  {
   "cell_type": "code",
   "execution_count": 68,
   "metadata": {
    "collapsed": false
   },
   "outputs": [
    {
     "data": {
      "text/plain": [
       "PythonRDD[179] at RDD at PythonRDD.scala:48"
      ]
     },
     "execution_count": 68,
     "metadata": {},
     "output_type": "execute_result"
    }
   ],
   "source": [
    "row_data = parsed_def.map(lambda p: Row(\n",
    "    host = p[0], \n",
    "    fecha = p[3][:11],\n",
    "    endpoint = p[6],\n",
    "    size = convert_long(p[-1]),\n",
    "    repuesta = p[-2]\n",
    "    )\n",
    ")\n",
    "row_data"
   ]
  },
  {
   "cell_type": "code",
   "execution_count": 69,
   "metadata": {
    "collapsed": false
   },
   "outputs": [],
   "source": [
    "lognasa_df = sqlContext.createDataFrame(row_data)\n",
    "lognasa_df.registerTempTable(\"lognasa\")"
   ]
  },
  {
   "cell_type": "code",
   "execution_count": 70,
   "metadata": {
    "collapsed": false
   },
   "outputs": [
    {
     "name": "stdout",
     "output_type": "stream",
     "text": [
      "+-----------+--------------------+\n",
      "|      fecha|count(DISTINCT host)|\n",
      "+-----------+--------------------+\n",
      "|01/Aug/1995|                 311|\n",
      "+-----------+--------------------+\n",
      "\n"
     ]
    }
   ],
   "source": [
    "distinctHosts = sqlContext.sql(\"\"\"\n",
    "   SELECT fecha, COUNT(DISTINCT host) FROM lognasa GROUP BY fecha\n",
    "\"\"\")\n",
    "distinctHosts.show()"
   ]
  },
  {
   "cell_type": "markdown",
   "metadata": {},
   "source": [
    "__Nota:__ En este dataset solo se poseén datos de un día por esa razón se obtiene este resultado."
   ]
  },
  {
   "cell_type": "markdown",
   "metadata": {},
   "source": [
    "## Pregunta 9 \n",
    "\n",
    "## media de peticiones diarias por host"
   ]
  },
  {
   "cell_type": "markdown",
   "metadata": {},
   "source": [
    "Tras esto se pide calcular la media de peticiones diaria por host."
   ]
  },
  {
   "cell_type": "code",
   "execution_count": 71,
   "metadata": {
    "collapsed": false
   },
   "outputs": [],
   "source": [
    "unique_result = (parsed_def.map(lambda line:  (day_month(line),line[0]))\n",
    "          .groupByKey().mapValues(set)\n",
    "          .map(lambda x: (x[0], len(x[1]))))\n",
    "\n",
    "length_result = (parsed_def.map(lambda line:  (day_month(line),line[0]))\n",
    "          .groupByKey().mapValues(len))\n",
    "\n",
    "joined = length_result.join(unique_result).map(lambda a: (a[0], (a[1][0])/(a[1][1]))).collect()\n",
    "day = [x[0] for x in joined]\n",
    "count = [x[1] for x in joined]\n",
    "day_count_dct = {'Día':day, 'Media':count}\n",
    "day_count_df = pd.DataFrame(day_count_dct )\n"
   ]
  },
  {
   "cell_type": "markdown",
   "metadata": {},
   "source": [
    "El panda en este caso no se usa para realizar ningún cálculo si no simplemente para una mejor visualización."
   ]
  },
  {
   "cell_type": "markdown",
   "metadata": {},
   "source": [
    "__Solución:__ "
   ]
  },
  {
   "cell_type": "code",
   "execution_count": 72,
   "metadata": {
    "collapsed": false
   },
   "outputs": [
    {
     "data": {
      "text/html": [
       "<div>\n",
       "<table border=\"1\" class=\"dataframe\">\n",
       "  <thead>\n",
       "    <tr style=\"text-align: right;\">\n",
       "      <th></th>\n",
       "      <th>Día</th>\n",
       "      <th>Media</th>\n",
       "    </tr>\n",
       "  </thead>\n",
       "  <tbody>\n",
       "    <tr>\n",
       "      <th>0</th>\n",
       "      <td>1995-08-01</td>\n",
       "      <td>11.03537</td>\n",
       "    </tr>\n",
       "  </tbody>\n",
       "</table>\n",
       "</div>"
      ],
      "text/plain": [
       "         Día     Media\n",
       "0 1995-08-01  11.03537"
      ]
     },
     "execution_count": 72,
     "metadata": {},
     "output_type": "execute_result"
    }
   ],
   "source": [
    "day_count_df"
   ]
  },
  {
   "cell_type": "code",
   "execution_count": 81,
   "metadata": {
    "collapsed": false
   },
   "outputs": [
    {
     "name": "stdout",
     "output_type": "stream",
     "text": [
      "+-----------+------------------+\n",
      "|      fecha|         avg(size)|\n",
      "+-----------+------------------+\n",
      "|01/Aug/1995|16051.863636363636|\n",
      "+-----------+------------------+\n",
      "\n"
     ]
    }
   ],
   "source": [
    "sizeFecha = sqlContext.sql(\"\"\"\n",
    "   SELECT fecha, MEAN(size) FROM lognasa GROUP BY fecha\n",
    "\"\"\")\n",
    "sizeFecha.show()"
   ]
  },
  {
   "cell_type": "code",
   "execution_count": 92,
   "metadata": {
    "collapsed": false
   },
   "outputs": [
    {
     "name": "stdout",
     "output_type": "stream",
     "text": [
      "+--------------------+------+\n",
      "|                host|nfecha|\n",
      "+--------------------+------+\n",
      "|ix-sea6-23.ix.net...|     1|\n",
      "|grimnet23.idirect...|     1|\n",
      "|        hella.stm.it|     1|\n",
      "|ix-sd6-29.ix.netc...|     1|\n",
      "|       198.161.85.36|     1|\n",
      "|engei.engei-hs.oy...|     1|\n",
      "|     info.telenor.no|     1|\n",
      "|dd08-029.compuser...|     1|\n",
      "|in2pc2.med.niigat...|     1|\n",
      "|  server.indo.net.id|     1|\n",
      "|ip-pdx4-15.telepo...|     1|\n",
      "|ix-sf10-28.ix.net...|     1|\n",
      "|   in24.inetnebr.com|     1|\n",
      "|     204.199.188.113|     1|\n",
      "|  pwestec.sierra.net|     1|\n",
      "|roseanne06.slip.y...|     1|\n",
      "|        206.24.43.11|     1|\n",
      "|empedocles.cfar.u...|     1|\n",
      "|     pm6a3.sover.net|     1|\n",
      "|mcnaught.chem.su....|     1|\n",
      "+--------------------+------+\n",
      "only showing top 20 rows\n",
      "\n"
     ]
    }
   ],
   "source": [
    "sizeFecha = sqlContext.sql(\"\"\"\n",
    "   SELECT host, COUNT(DISTInCT fecha) as nfecha FROM lognasa GROUP BY host\n",
    "\"\"\")\n",
    "sizeFecha.show()"
   ]
  },
  {
   "cell_type": "code",
   "execution_count": 93,
   "metadata": {
    "collapsed": false
   },
   "outputs": [
    {
     "name": "stdout",
     "output_type": "stream",
     "text": [
      "+--------------------+-----+\n",
      "|                host|nhost|\n",
      "+--------------------+-----+\n",
      "|ix-sea6-23.ix.net...|    9|\n",
      "|grimnet23.idirect...|   10|\n",
      "|        hella.stm.it|   10|\n",
      "|       198.161.85.36|    1|\n",
      "|ix-sd6-29.ix.netc...|    6|\n",
      "|     info.telenor.no|   15|\n",
      "|dd08-029.compuser...|    5|\n",
      "|engei.engei-hs.oy...|   10|\n",
      "|  server.indo.net.id|    1|\n",
      "|in2pc2.med.niigat...|   14|\n",
      "|ix-sf10-28.ix.net...|   12|\n",
      "|ip-pdx4-15.telepo...|    4|\n",
      "|   in24.inetnebr.com|   55|\n",
      "|  pwestec.sierra.net|    8|\n",
      "|roseanne06.slip.y...|    4|\n",
      "|     204.199.188.113|   12|\n",
      "|        206.24.43.11|    6|\n",
      "|empedocles.cfar.u...|    1|\n",
      "|     pm6a3.sover.net|   11|\n",
      "|www-b5.proxy.aol.com|   28|\n",
      "+--------------------+-----+\n",
      "only showing top 20 rows\n",
      "\n"
     ]
    }
   ],
   "source": [
    "sizeHost = sqlContext.sql(\"\"\"\n",
    "   SELECT host, COUNT(host) as nhost FROM lognasa GROUP BY host\n",
    "\"\"\")\n",
    "sizeHost.show()"
   ]
  },
  {
   "cell_type": "code",
   "execution_count": 101,
   "metadata": {
    "collapsed": false
   },
   "outputs": [
    {
     "name": "stdout",
     "output_type": "stream",
     "text": [
      "+--------------------+------------------------+\n",
      "|                host|media_Peticiones_Diarias|\n",
      "+--------------------+------------------------+\n",
      "|grimnet23.idirect...|                    10.0|\n",
      "|ix-sea6-23.ix.net...|                     9.0|\n",
      "|        hella.stm.it|                    10.0|\n",
      "|       198.161.85.36|                     1.0|\n",
      "|ix-sd6-29.ix.netc...|                     6.0|\n",
      "|dd08-029.compuser...|                     5.0|\n",
      "|engei.engei-hs.oy...|                    10.0|\n",
      "|     info.telenor.no|                    15.0|\n",
      "|in2pc2.med.niigat...|                    14.0|\n",
      "|  server.indo.net.id|                     1.0|\n",
      "|ip-pdx4-15.telepo...|                     4.0|\n",
      "|ix-sf10-28.ix.net...|                    12.0|\n",
      "|     204.199.188.113|                    12.0|\n",
      "|   in24.inetnebr.com|                    55.0|\n",
      "|  pwestec.sierra.net|                     8.0|\n",
      "|roseanne06.slip.y...|                     4.0|\n",
      "|        206.24.43.11|                     6.0|\n",
      "|empedocles.cfar.u...|                     1.0|\n",
      "|     pm6a3.sover.net|                    11.0|\n",
      "|freenet2.scri.fsu...|                     2.0|\n",
      "+--------------------+------------------------+\n",
      "only showing top 20 rows\n",
      "\n"
     ]
    }
   ],
   "source": [
    "meanHostByFecha = sqlContext.sql(\"\"\"\n",
    "   Select host, nhost/nfecha as media_Peticiones_Diarias  FROM (SELECT host, COUNT(host) as nhost FROM lognasa GROUP BY host) JOIN (SELECT host as fhost, COUNT(DISTInCT fecha) as nfecha FROM lognasa GROUP BY host) ON fhost = host \n",
    "\"\"\")\n",
    "meanHostByFecha.show()"
   ]
  },
  {
   "cell_type": "markdown",
   "metadata": {},
   "source": [
    "## Pregunta 10\n",
    "\n",
    "## se muestra una lista de 40 endpoints que generan código de respuesta = 404"
   ]
  },
  {
   "cell_type": "markdown",
   "metadata": {},
   "source": [
    "A continuación, se muestra una lista de 40 endpoints que generan código de respuesta = 404:"
   ]
  },
  {
   "cell_type": "code",
   "execution_count": 84,
   "metadata": {
    "collapsed": false
   },
   "outputs": [
    {
     "data": {
      "text/plain": [
       "[('/pub/winvn/release.txt', 4),\n",
       " ('/history/apollo/a-001/a-001-patch-small.gif', 4),\n",
       " ('/pub/winvn/readme.txt', 2),\n",
       " ('/history/apollo/a-001/movies/', 2),\n",
       " ('/history/apollo/a-004/a-004-patch-small.gif', 2),\n",
       " ('/history/apollo/a-004/movies/', 1),\n",
       " ('/history/history.htm', 1),\n",
       " ('/www/software/winvn/winvn.html', 1),\n",
       " ('/history/apollo/a-001/images/', 1),\n",
       " ('/sts-71/launch/', 1),\n",
       " ('/elv/DELTA/uncons.htm', 1),\n",
       " ('/history/apollo/apollo-13.html', 1),\n",
       " ('/shuttle/resources/orbiters/discovery.gif', 1)]"
      ]
     },
     "execution_count": 84,
     "metadata": {},
     "output_type": "execute_result"
    }
   ],
   "source": [
    "result = (parsed_def.filter(lambda line: line[9] == '404')\n",
    "          .map(lambda line: (line[6], 1))\n",
    "          .reduceByKey(lambda a, b: a+b).distinct()\n",
    "          .takeOrdered(40, lambda x: -x[1]))\n",
    "result"
   ]
  },
  {
   "cell_type": "markdown",
   "metadata": {},
   "source": [
    "__Nota:__ En la lista solo aparecen 13 endpoints porque se está trabajando con la base de datos reducida."
   ]
  },
  {
   "cell_type": "code",
   "execution_count": 85,
   "metadata": {
    "collapsed": false
   },
   "outputs": [
    {
     "name": "stdout",
     "output_type": "stream",
     "text": [
      "+--------------------+\n",
      "|            endpoint|\n",
      "+--------------------+\n",
      "|/pub/winvn/readme...|\n",
      "|/elv/DELTA/uncons...|\n",
      "|/history/apollo/a...|\n",
      "|/history/apollo/a...|\n",
      "|     /sts-71/launch/|\n",
      "|/history/apollo/a...|\n",
      "|/history/apollo/a...|\n",
      "|/shuttle/resource...|\n",
      "|/www/software/win...|\n",
      "|/pub/winvn/releas...|\n",
      "|/history/apollo/a...|\n",
      "|/history/apollo/a...|\n",
      "|/history/history.htm|\n",
      "+--------------------+\n",
      "\n"
     ]
    }
   ],
   "source": [
    "codigo404 = sqlContext.sql(\"\"\"\n",
    "   SELECT DISTINCT(endpoint) FROM lognasa WHERE repuesta = \"404\"\n",
    "\"\"\")\n",
    "codigo404.show()"
   ]
  },
  {
   "cell_type": "markdown",
   "metadata": {},
   "source": [
    "## Pregunta 11\n",
    "\n",
    "## mostrar los 25 endpoints que más código 404 generan"
   ]
  },
  {
   "cell_type": "markdown",
   "metadata": {},
   "source": [
    "El siguiente comando mostraría el top 25 de endpoints que más códigos 404 generan de dispnerse de más de 13:"
   ]
  },
  {
   "cell_type": "code",
   "execution_count": 102,
   "metadata": {
    "collapsed": false
   },
   "outputs": [
    {
     "data": {
      "text/plain": [
       "[('/pub/winvn/release.txt', 4),\n",
       " ('/history/apollo/a-001/a-001-patch-small.gif', 4),\n",
       " ('/pub/winvn/readme.txt', 2),\n",
       " ('/history/apollo/a-001/movies/', 2),\n",
       " ('/history/apollo/a-004/a-004-patch-small.gif', 2),\n",
       " ('/history/apollo/a-004/movies/', 1),\n",
       " ('/history/history.htm', 1),\n",
       " ('/www/software/winvn/winvn.html', 1),\n",
       " ('/history/apollo/a-001/images/', 1),\n",
       " ('/sts-71/launch/', 1),\n",
       " ('/elv/DELTA/uncons.htm', 1),\n",
       " ('/history/apollo/apollo-13.html', 1),\n",
       " ('/shuttle/resources/orbiters/discovery.gif', 1)]"
      ]
     },
     "execution_count": 102,
     "metadata": {},
     "output_type": "execute_result"
    }
   ],
   "source": [
    "result = (parsed_def.filter(lambda line: line[9] == '404')\n",
    "          .map(lambda line: (line[6], 1))\n",
    "          .reduceByKey(lambda a, b: a+b).distinct()\n",
    "          .takeOrdered(25, lambda x: -x[1]))\n",
    "result"
   ]
  },
  {
   "cell_type": "code",
   "execution_count": 106,
   "metadata": {
    "collapsed": false
   },
   "outputs": [
    {
     "name": "stdout",
     "output_type": "stream",
     "text": [
      "+--------------------+---+\n",
      "|            endpoint|top|\n",
      "+--------------------+---+\n",
      "|/pub/winvn/releas...|  4|\n",
      "|/history/apollo/a...|  4|\n",
      "|/history/apollo/a...|  2|\n",
      "|/history/apollo/a...|  2|\n",
      "|/pub/winvn/readme...|  2|\n",
      "|/elv/DELTA/uncons...|  1|\n",
      "|     /sts-71/launch/|  1|\n",
      "|/history/apollo/a...|  1|\n",
      "|/shuttle/resource...|  1|\n",
      "|/history/apollo/a...|  1|\n",
      "|/history/apollo/a...|  1|\n",
      "|/www/software/win...|  1|\n",
      "|/history/history.htm|  1|\n",
      "+--------------------+---+\n",
      "\n"
     ]
    }
   ],
   "source": [
    "topCodigo404 = sqlContext.sql(\"\"\"\n",
    "   SELECT endpoint, COUNT(endpoint) as top FROM lognasa WHERE repuesta = \"404\" GROUP BY endpoint ORDER BY top DESC LIMIT 25\n",
    "\"\"\")\n",
    "topCodigo404.show()"
   ]
  },
  {
   "cell_type": "markdown",
   "metadata": {},
   "source": [
    "## Pregunta 12\n",
    "\n",
    "## TOP 5 días con mayor número de 404's"
   ]
  },
  {
   "cell_type": "markdown",
   "metadata": {},
   "source": [
    "Si se desean obtener el top 5 de días que más códigos de error 404 generan:"
   ]
  },
  {
   "cell_type": "code",
   "execution_count": 107,
   "metadata": {
    "collapsed": true
   },
   "outputs": [],
   "source": [
    "result = (parsed_def.filter(lambda line: line[9] == '404')\n",
    "          .map(lambda line:  (day_month(line), 1))\n",
    "          .reduceByKey(lambda a, b: a+b).collect())\n",
    "day = [x[0] for x in result]\n",
    "count = [x[1] for x in result]\n",
    "day_count_dct = {'day':day, 'count':count}\n",
    "day_count_df = pd.DataFrame(day_count_dct )\n"
   ]
  },
  {
   "cell_type": "markdown",
   "metadata": {},
   "source": [
    "De nuevo el paso a DF se emplea únicamente para una mejor visualización:"
   ]
  },
  {
   "cell_type": "code",
   "execution_count": 108,
   "metadata": {
    "collapsed": false
   },
   "outputs": [
    {
     "data": {
      "text/html": [
       "<div>\n",
       "<table border=\"1\" class=\"dataframe\">\n",
       "  <thead>\n",
       "    <tr style=\"text-align: right;\">\n",
       "      <th></th>\n",
       "      <th>count</th>\n",
       "      <th>day</th>\n",
       "    </tr>\n",
       "  </thead>\n",
       "  <tbody>\n",
       "    <tr>\n",
       "      <th>0</th>\n",
       "      <td>22</td>\n",
       "      <td>1995-08-01</td>\n",
       "    </tr>\n",
       "  </tbody>\n",
       "</table>\n",
       "</div>"
      ],
      "text/plain": [
       "   count        day\n",
       "0     22 1995-08-01"
      ]
     },
     "execution_count": 108,
     "metadata": {},
     "output_type": "execute_result"
    }
   ],
   "source": [
    "day_count_df.sort_values('count', ascending = False)[:10]\n"
   ]
  },
  {
   "cell_type": "markdown",
   "metadata": {
    "collapsed": true
   },
   "source": [
    "__Nota:__ De nuevo se obtiene un solo día por trabajarse con la base de datos reducida."
   ]
  },
  {
   "cell_type": "code",
   "execution_count": 109,
   "metadata": {
    "collapsed": false
   },
   "outputs": [
    {
     "name": "stdout",
     "output_type": "stream",
     "text": [
      "+-----------+---+\n",
      "|      fecha|top|\n",
      "+-----------+---+\n",
      "|01/Aug/1995| 22|\n",
      "+-----------+---+\n",
      "\n"
     ]
    }
   ],
   "source": [
    "top5 = sqlContext.sql(\"\"\"\n",
    "   SELECT fecha, COUNT(fecha) as top FROM lognasa WHERE repuesta = \"404\" GROUP BY fecha ORDER BY top DESC LIMIT 5\n",
    "\"\"\")\n",
    "top5.show()"
   ]
  },
  {
   "cell_type": "markdown",
   "metadata": {},
   "source": [
    "## SQL Spark"
   ]
  },
  {
   "cell_type": "code",
   "execution_count": null,
   "metadata": {
    "collapsed": true
   },
   "outputs": [],
   "source": [
    "from pyspark.sql import SQLContext\n",
    "sqlContext = SQLContext(sc)"
   ]
  },
  {
   "cell_type": "code",
   "execution_count": null,
   "metadata": {
    "collapsed": true
   },
   "outputs": [],
   "source": [
    "from pyspark.sql import Row"
   ]
  },
  {
   "cell_type": "markdown",
   "metadata": {},
   "source": [
    "HOST, FECHA, ENDPOINT, TAMAÑO y ERROR"
   ]
  },
  {
   "cell_type": "code",
   "execution_count": null,
   "metadata": {
    "collapsed": false
   },
   "outputs": [],
   "source": [
    "row_data = parsed_def.map(lambda p: Row(\n",
    "    host = p[0], \n",
    "    fecha = (datetime.strptime(p[3][:11], \"%d/%b%Y\")),\n",
    "    endpoint = p[6],\n",
    "    size = convert_long(p[-1]),\n",
    "    repuesta = p[-2]\n",
    "    )\n",
    ")"
   ]
  },
  {
   "cell_type": "code",
   "execution_count": null,
   "metadata": {
    "collapsed": false
   },
   "outputs": [],
   "source": [
    "row_data.take(5)"
   ]
  },
  {
   "cell_type": "code",
   "execution_count": null,
   "metadata": {
    "collapsed": false
   },
   "outputs": [],
   "source": [
    "lognasa_df = sqlContext.createDataFrame(row_data)\n",
    "lognasa_df.registerTempTable(\"lognasa\")"
   ]
  },
  {
   "cell_type": "code",
   "execution_count": null,
   "metadata": {
    "collapsed": true
   },
   "outputs": [],
   "source": [
    "sc.stop()"
   ]
  }
 ],
 "metadata": {
  "kernelspec": {
   "display_name": "Python 3",
   "language": "python",
   "name": "python3"
  },
  "language_info": {
   "codemirror_mode": {
    "name": "ipython",
    "version": 3
   },
   "file_extension": ".py",
   "mimetype": "text/x-python",
   "name": "python",
   "nbconvert_exporter": "python",
   "pygments_lexer": "ipython3",
   "version": "3.5.2"
  }
 },
 "nbformat": 4,
 "nbformat_minor": 2
}
