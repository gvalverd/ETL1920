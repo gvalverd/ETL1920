{
  "nbformat": 4,
  "nbformat_minor": 0,
  "metadata": {
    "colab": {
      "name": "hist_NBA_def.ipynb",
      "provenance": []
    },
    "kernelspec": {
      "name": "python3",
      "display_name": "Python 3"
    }
  },
  "cells": [
    {
      "cell_type": "markdown",
      "metadata": {
        "id": "najVuLc9MV1R"
      },
      "source": [
        "# Histograma puntos visitante\r\n",
        "## Beatriz Cárdaba Rico\r\n",
        "El objetivo es realizar un histograma con los puntos de los equipos visitantes a partir del archivo partidosLigaNBA.csv mediante Spark\r\n",
        "Para ello se segurán los pasos pautados.\r\n",
        "\r\n",
        "\r\n",
        "- IMPORTAMOS DATOS Y SPARK\r\n",
        "\r\n",
        " - Instalamos Apache y Spark"
      ]
    },
    {
      "cell_type": "code",
      "metadata": {
        "id": "WC_KIaDyMUNP"
      },
      "source": [
        "!apt-get install openjdk-8-jdk-headless -qq > /dev/null\r\n",
        "!wget -q https://www-us.apache.org/dist/spark/spark-2.4.7/spark-2.4.7-bin-hadoop2.7.tgz\r\n",
        "!tar xf spark-2.4.7-bin-hadoop2.7.tgz\r\n",
        "!pip install -q findspark"
      ],
      "execution_count": 96,
      "outputs": []
    },
    {
      "cell_type": "markdown",
      "metadata": {
        "id": "xzf9KnOfMSXp"
      },
      "source": [
        "- Importamos JAVA_HOME y SPARK_HOME"
      ]
    },
    {
      "cell_type": "code",
      "metadata": {
        "id": "eRQ6wrJVxFXk"
      },
      "source": [
        "import os\r\n",
        "os.environ[\"JAVA_HOME\"] = \"/usr/lib/jvm/java-8-openjdk-amd64\"\r\n",
        "os.environ[\"SPARK_HOME\"] = \"/content/spark-2.4.7-bin-hadoop2.7\""
      ],
      "execution_count": 97,
      "outputs": []
    },
    {
      "cell_type": "markdown",
      "metadata": {
        "id": "C0a9HkmwM7Fn"
      },
      "source": [
        " - Importamos findspark y SparkContext"
      ]
    },
    {
      "cell_type": "code",
      "metadata": {
        "id": "AK0fOO-0xFbL"
      },
      "source": [
        "import findspark\r\n",
        "findspark.init()\r\n",
        "from pyspark import SparkContext\r\n"
      ],
      "execution_count": 98,
      "outputs": []
    },
    {
      "cell_type": "markdown",
      "metadata": {
        "id": "8KUGo-ToNCCp"
      },
      "source": [
        " - Indicammos las caraterísticas del Sparkcontext"
      ]
    },
    {
      "cell_type": "code",
      "metadata": {
        "id": "qDI6ZeMEP0VG"
      },
      "source": [
        ".sc = SparkContext(\"local\", \"First App\")"
      ],
      "execution_count": null,
      "outputs": []
    },
    {
      "cell_type": "markdown",
      "metadata": {
        "id": "y75f58CvNKSx"
      },
      "source": [
        " - Importamos el cvs \"partidosLigaNBA.csv\""
      ]
    },
    {
      "cell_type": "code",
      "metadata": {
        "id": "ysAN67Y9xFeo"
      },
      "source": [
        "data_file = \"partidosLigaNBA.csv\" # lo hemos subido a los archivos del colaborate\r\n",
        "raw_data = sc.textFile(data_file) # lee los datos como texto según hemos indicado en sc"
      ],
      "execution_count": 101,
      "outputs": []
    },
    {
      "cell_type": "markdown",
      "metadata": {
        "id": "Hj6yenxoNlog"
      },
      "source": [
        " - Visualizamos las primeras 5 filas"
      ]
    },
    {
      "cell_type": "code",
      "metadata": {
        "colab": {
          "base_uri": "https://localhost:8080/"
        },
        "id": "zkJovfQ2xFoh",
        "outputId": "74ddc8b6-a516-4bf2-bb34-40994730b71c"
      },
      "source": [
        "raw_data.take(5) # para ver las filas que indiquemos"
      ],
      "execution_count": 102,
      "outputs": [
        {
          "output_type": "execute_result",
          "data": {
            "text/plain": [
              "['Date:Start..ET.:Visitor.Neutral:PTS:Home.Neutral:PTS.1',\n",
              " 'Tue, Oct 30, 2007:\"7:30 pm\":Utah Jazz:117:Golden State Warriors:96',\n",
              " 'Tue, Oct 30, 2007:\"7:30 pm\":Houston Rockets:95:Los Angeles Lakers:93',\n",
              " 'Tue, Oct 30, 2007:\"7:00 pm\":Portland Trail Blazers:97:San Antonio Spurs:106',\n",
              " 'Wed, Oct 31, 2007:\"8:00 pm\":Dallas Mavericks:92:Cleveland Cavaliers:74']"
            ]
          },
          "metadata": {
            "tags": []
          },
          "execution_count": 102
        }
      ]
    },
    {
      "cell_type": "markdown",
      "metadata": {
        "id": "NYs5iyDMOCIh"
      },
      "source": [
        "- Identificamos la primera fila y la eliminamos"
      ]
    },
    {
      "cell_type": "code",
      "metadata": {
        "id": "Y390mb3hxFsY"
      },
      "source": [
        "header1 = raw_data.filter(lambda x: 'PTS' in x) #asiganmos el indice de las variables"
      ],
      "execution_count": 103,
      "outputs": []
    },
    {
      "cell_type": "code",
      "metadata": {
        "id": "s2DbkMEmxQy0"
      },
      "source": [
        "datos = raw_data.subtract(header1) #substraemos el header"
      ],
      "execution_count": 104,
      "outputs": []
    },
    {
      "cell_type": "markdown",
      "metadata": {
        "id": "4YNNfKGrOJgS"
      },
      "source": [
        "Ahora \"datos\" no tiene encabezado"
      ]
    },
    {
      "cell_type": "code",
      "metadata": {
        "colab": {
          "base_uri": "https://localhost:8080/"
        },
        "id": "y8mSeG0HxQ1c",
        "outputId": "078dd968-6b2f-46a0-8b94-56d6ec419928"
      },
      "source": [
        "datos.take(5)"
      ],
      "execution_count": 108,
      "outputs": [
        {
          "output_type": "execute_result",
          "data": {
            "text/plain": [
              "['Wed, Oct 31, 2007:\"8:00 pm\":Dallas Mavericks:92:Cleveland Cavaliers:74',\n",
              " 'Wed, Oct 31, 2007:\"7:30 pm\":Chicago Bulls:103:New Jersey Nets:112',\n",
              " 'Wed, Oct 31, 2007:\"7:00 pm\":Milwaukee Bucks:83:Orlando Magic:102',\n",
              " 'Thu, Nov 1, 2007:\"8:00 pm\":Detroit Pistons:91:Miami Heat:80',\n",
              " 'Thu, Nov 1, 2007:\"7:30 pm\":Phoenix Suns:106:Seattle SuperSonics:99']"
            ]
          },
          "metadata": {
            "tags": []
          },
          "execution_count": 108
        }
      ]
    },
    {
      "cell_type": "markdown",
      "metadata": {
        "id": "ylKy_y1GOPzx"
      },
      "source": [
        "Separamos cada parte del string que componen las filas, en este caso están separadas las diferentes partes de cada fila con \":\""
      ]
    },
    {
      "cell_type": "code",
      "metadata": {
        "id": "tCXn0Ji7xQ4e"
      },
      "source": [
        "from pprint import pprint\r\n",
        "data_separar = datos.map(lambda x: x.split(\":\")) #realizamos la separación de las variables"
      ],
      "execution_count": 109,
      "outputs": []
    },
    {
      "cell_type": "code",
      "metadata": {
        "colab": {
          "base_uri": "https://localhost:8080/"
        },
        "id": "QMa4XdkkxQ7l",
        "outputId": "bc23796b-6ab4-4a44-f738-ba8f21fe50da"
      },
      "source": [
        "data_separar.take(5) #comprobamos"
      ],
      "execution_count": 110,
      "outputs": [
        {
          "output_type": "execute_result",
          "data": {
            "text/plain": [
              "[['Wed, Oct 31, 2007',\n",
              "  '\"8',\n",
              "  '00 pm\"',\n",
              "  'Dallas Mavericks',\n",
              "  '92',\n",
              "  'Cleveland Cavaliers',\n",
              "  '74'],\n",
              " ['Wed, Oct 31, 2007',\n",
              "  '\"7',\n",
              "  '30 pm\"',\n",
              "  'Chicago Bulls',\n",
              "  '103',\n",
              "  'New Jersey Nets',\n",
              "  '112'],\n",
              " ['Wed, Oct 31, 2007',\n",
              "  '\"7',\n",
              "  '00 pm\"',\n",
              "  'Milwaukee Bucks',\n",
              "  '83',\n",
              "  'Orlando Magic',\n",
              "  '102'],\n",
              " ['Thu, Nov 1, 2007',\n",
              "  '\"8',\n",
              "  '00 pm\"',\n",
              "  'Detroit Pistons',\n",
              "  '91',\n",
              "  'Miami Heat',\n",
              "  '80'],\n",
              " ['Thu, Nov 1, 2007',\n",
              "  '\"7',\n",
              "  '30 pm\"',\n",
              "  'Phoenix Suns',\n",
              "  '106',\n",
              "  'Seattle SuperSonics',\n",
              "  '99']]"
            ]
          },
          "metadata": {
            "tags": []
          },
          "execution_count": 110
        }
      ]
    },
    {
      "cell_type": "markdown",
      "metadata": {
        "id": "5PG6r1rROpLW"
      },
      "source": [
        "Creamos los datos de los puntos para los visitantes y los locales"
      ]
    },
    {
      "cell_type": "code",
      "metadata": {
        "id": "GEU-ZDl8xdO5"
      },
      "source": [
        "#En la posición 4 están los puntos de local, #los puntos eran strings, al realizar el mapeo, los he convertido a númericos.\r\n",
        "datos_puntos_local= data_separar.map(lambda x: int(x[6]))\r\n",
        "datos_puntos_visit = data_separar.map(lambda x: int(x[4]))"
      ],
      "execution_count": 111,
      "outputs": []
    },
    {
      "cell_type": "code",
      "metadata": {
        "colab": {
          "base_uri": "https://localhost:8080/"
        },
        "id": "Etns2xbjxdSn",
        "outputId": "33aaa60c-d741-4814-ce8b-a1805b0233ea"
      },
      "source": [
        "datos_puntos_visit.take(10) # vemos que hemos creado una lista con los puntos del visitante"
      ],
      "execution_count": 112,
      "outputs": [
        {
          "output_type": "execute_result",
          "data": {
            "text/plain": [
              "[92, 103, 83, 91, 106, 106, 83, 99, 96, 114]"
            ]
          },
          "metadata": {
            "tags": []
          },
          "execution_count": 112
        }
      ]
    },
    {
      "cell_type": "markdown",
      "metadata": {
        "id": "Fb0kzS_lO_E_"
      },
      "source": [
        "- Definimos una función \"intervalos\" para asignar los puntos de los visitantes a un grupo en función de su valor. Definimos ocho posibles grupos:"
      ]
    },
    {
      "cell_type": "code",
      "metadata": {
        "id": "8NdvGfGgxdWc"
      },
      "source": [
        "def intervalos(x):   \r\n",
        "  if x<50 : # si es menos de 50\r\n",
        "\t   return '1_int50' # asignamos el grupo 1 (ponemos el 1 delante para que lo ordene de manera ascendente)\r\n",
        "  elif x<70:\r\n",
        "\t    return '2_int50_70'\r\n",
        "  elif x<80:\r\n",
        "      return '3_int70_80'\r\n",
        "  elif x<90:\r\n",
        "      return '4_int80_90'\r\n",
        "  elif x<100:\r\n",
        "      return '5_int90_100'\r\n",
        "  elif x<110:\r\n",
        "      return '6_int100_110'\r\n",
        "  elif x<120:\r\n",
        "      return '7_int110_120'\r\n",
        "  elif x<200:\r\n",
        "      return '8_int120_200'"
      ],
      "execution_count": 113,
      "outputs": []
    },
    {
      "cell_type": "markdown",
      "metadata": {
        "id": "178ScRJHRTYx"
      },
      "source": [
        "Definimos la función que sea capaz de\r\n",
        "* Extraer los datos. Del csv y separados por :\r\n",
        "\r\n",
        "* Filtrar aquellos casos que no sean. Sólo queremos los dígitos\r\n",
        "\r\n",
        "* Aplicar una función map que transforme cada número en uno de los intervalos del histograma (elegidos por vosotros mismos). Aplicar la función intervalos\r\n",
        "\r\n",
        "* Método de agrupación para generar un vector formado por cada elemento asociado a cada intervalo.  ReduceByKEy"
      ]
    },
    {
      "cell_type": "code",
      "metadata": {
        "id": "cUFs33KD9ekT"
      },
      "source": [
        "# FUNCION EXPLICADA\r\n",
        "#puntos_intervalos = datos.map(lambda s: s.split(\":\")[-1]) \\ #queremos que seleccione los datos separados por\r\n",
        "                     # .filter(lambda puntos_visit: puntos_visit.isdigit()) \\ # que seleccione los datos que son dígitos\r\n",
        "                      #.map(lambda puntos_visit: int(puntos_visit)) \\ # pasamos los puntos visitantes a formato int\r\n",
        "                     # .map(lambda x : (intervalos(x),1)) \\ # aplicamos la función intervalos a los puntos de visitantes\r\n",
        "                      #.reduceByKey(lambda a, b: a + b) \\ # queremos que agrupe por el intervalo asociado y sume todos los partidos de ese intervalo\r\n",
        "                      #.collect()"
      ],
      "execution_count": 141,
      "outputs": []
    },
    {
      "cell_type": "markdown",
      "metadata": {
        "id": "xcasYEkIW0ag"
      },
      "source": [
        ""
      ]
    },
    {
      "cell_type": "code",
      "metadata": {
        "id": "2-xxbxazVp4y"
      },
      "source": [
        "puntos_intervalos = datos.map(lambda s: s.split(\":\")[-1]) \\\r\n",
        "                      .filter(lambda puntos_visit: puntos_visit.isdigit()) \\\r\n",
        "                      .map(lambda puntos_visit: int(puntos_visit)) \\\r\n",
        "                      .map(lambda x : (intervalos(x),1)) \\\r\n",
        "                      .reduceByKey(lambda a, b: a + b) \\\r\n",
        "                      .collect()"
      ],
      "execution_count": 136,
      "outputs": []
    },
    {
      "cell_type": "code",
      "metadata": {
        "colab": {
          "base_uri": "https://localhost:8080/"
        },
        "id": "_7LBLdB5yDFu",
        "outputId": "a8807248-2af0-4869-bb6f-40e1aa23f307"
      },
      "source": [
        "puntos_intervalos # vemos los puntos agrupados según el intervalo\r\n"
      ],
      "execution_count": 137,
      "outputs": [
        {
          "output_type": "execute_result",
          "data": {
            "text/plain": [
              "[('7_int110_120', 2276),\n",
              " ('6_int100_110', 3976),\n",
              " ('2_int50_70', 37),\n",
              " ('3_int70_80', 365),\n",
              " ('4_int80_90', 1615),\n",
              " ('5_int90_100', 3611),\n",
              " ('8_int120_200', 1017)]"
            ]
          },
          "metadata": {
            "tags": []
          },
          "execution_count": 137
        }
      ]
    },
    {
      "cell_type": "markdown",
      "metadata": {
        "id": "qTyNJ1tXTi57"
      },
      "source": [
        " - Ordenamos los datos en función del primer dígito del nombre del grupo"
      ]
    },
    {
      "cell_type": "code",
      "metadata": {
        "id": "IJB8kjWb72lA"
      },
      "source": [
        "\r\n",
        "puntos_intervalos.sort()"
      ],
      "execution_count": 139,
      "outputs": []
    },
    {
      "cell_type": "markdown",
      "metadata": {
        "id": "jYbCE5eXTwd8"
      },
      "source": [
        "- Importamos pandas y numpy para poder crear un dataframe de los datos obtenidos"
      ]
    },
    {
      "cell_type": "code",
      "metadata": {
        "id": "l7rLxrAvyDJu"
      },
      "source": [
        "import pandas as pd\r\n",
        "import numpy as np\r\n",
        "puntos_intervalos_df = pd.DataFrame(puntos_intervalos)"
      ],
      "execution_count": null,
      "outputs": []
    },
    {
      "cell_type": "markdown",
      "metadata": {
        "id": "c9yFPuzyT6CT"
      },
      "source": [
        "- Importamos Matplot para dibujar el histograma"
      ]
    },
    {
      "cell_type": "code",
      "metadata": {
        "id": "iMx-4r0_yDNr"
      },
      "source": [
        "\r\n",
        "import matplotlib.pyplot as plt"
      ],
      "execution_count": null,
      "outputs": []
    },
    {
      "cell_type": "markdown",
      "metadata": {
        "id": "rqpdj6Q3UPza"
      },
      "source": [
        "- Dibujamos el Histograma:"
      ]
    },
    {
      "cell_type": "code",
      "metadata": {
        "colab": {
          "base_uri": "https://localhost:8080/",
          "height": 728
        },
        "id": "irdX_hTO5bwW",
        "outputId": "7f335d3e-4b64-4288-9259-5f7fc9d2d1de"
      },
      "source": [
        "\r\n",
        "intervalos_names, y_points = zip(*puntos_intervalos) # separamos en los nombres de los intervalos y los puntos asociados\r\n",
        "intervalos_num = np.arange(len(intervalos_names)) # número de categorias creadas\r\n",
        "\r\n",
        "\r\n",
        "f, ax = plt.subplots(figsize=(18,10)) # establecemos el tamaño del histograma\r\n",
        "plt.bar(intervalos_num, y_points, width = 1, align='center') # queremos que dibuje los intervalos y los puntos\r\n",
        "\r\n",
        "plt.xticks(intervalos_num, intervalos_names)  # Establece las ubicaciones y las etiquetas. Que a los 8 intervalos les ponga su nombre que se ha separado en intervalos_names\r\n",
        "plt.yticks(y_points) # Establece las ubicaciones y las etiquetas. Los puntos"
      ],
      "execution_count": 140,
      "outputs": [
        {
          "output_type": "execute_result",
          "data": {
            "text/plain": [
              "([<matplotlib.axis.YTick at 0x7f40df4d6f28>,\n",
              "  <matplotlib.axis.YTick at 0x7f40df4d6908>,\n",
              "  <matplotlib.axis.YTick at 0x7f40df4d3d30>,\n",
              "  <matplotlib.axis.YTick at 0x7f40df496668>,\n",
              "  <matplotlib.axis.YTick at 0x7f40df496b00>,\n",
              "  <matplotlib.axis.YTick at 0x7f40df496e80>,\n",
              "  <matplotlib.axis.YTick at 0x7f40df49f470>],\n",
              " <a list of 7 Text major ticklabel objects>)"
            ]
          },
          "metadata": {
            "tags": []
          },
          "execution_count": 140
        },
        {
          "output_type": "display_data",
          "data": {
            "image/png": "[encoded data removed]",
            "text/plain": [
              "<Figure size 1296x720 with 1 Axes>"
            ]
          },
          "metadata": {
            "tags": [],
            "needs_background": "light"
          }
        }
      ]
    }
  ]
}