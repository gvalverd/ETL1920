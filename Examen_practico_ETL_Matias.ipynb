{
 "cells": [
  {
   "cell_type": "markdown",
   "metadata": {},
   "source": [
    "Nombre:  Manuel Matías Corredoira de Soto\n",
    "Fecha: 31/01/2021"
   ]
  },
  {
   "cell_type": "markdown",
   "metadata": {},
   "source": [
    "# TAREA FINAL: Datos de vivienda\n",
    "\n",
    "<p> El negocio inmobiliario es uno de los motores de la economía de España, el carácter turístico de nuesta península hace que sean muchos los inversores extranjeros que se decidan por buscar una inversión de bajo riesgos en nuestras ciudades costeras o grandes urbes. \n",
    "Muchas de estas inversiones se hacen sobre grandes bolsas de inmuebles que deben ser analizados previamente para comprobar la rentabilidad del porfolio </p>\n",
    "\n",
    "<!-- <p> En este caso vamos a trabajar con una tabla que contienen información de distintos inmuebles repartidos por una zona específica, sus carácterísticas y su precio </p>  -->"
   ]
  },
  {
   "cell_type": "markdown",
   "metadata": {},
   "source": [
    "Todas las cuestiones se deben realizar sobre el conjunto de casos que representen viviendas ubicadas en zonas residenciales **(alta, media y baja densidad)**"
   ]
  },
  {
   "cell_type": "markdown",
   "metadata": {},
   "source": [
    "**MUY IMPORTANTE:** En las otras prácticas he detectado colaboraciones involucrando varias personas y he sido flexible aunque a algunos os lo he mencionado en las correcciones, porque al final el trabajo de analista de datos es un trabajo colaborativo. Sin embargo, este trabajo es individual, así que cuidado con las colaboraciones."
   ]
  },
  {
   "cell_type": "markdown",
   "metadata": {},
   "source": [
    "Las variables de las que se compone el dataset son:"
   ]
  },
  {
   "cell_type": "markdown",
   "metadata": {},
   "source": [
    "|NOMBRE VARIABLE|DESCRIPTOR|VALORES|\n",
    "| --- | --- | --- |\n",
    "|Order|Variable de identificación|1 a 2930|\n",
    "|MS Zoning|Zona de ubicación de la vivienda|\"A rural, C comercial, FV residencial flotante, I industrial, RH residencial alta densidad, RL residencial baja densidad, RM residencial media densidad\"|\n",
    "|Lot Frontage|Longitud de la fachada en pies||\n",
    "|Lot Area|Superficie de la vivienda en pies cuadrados||\n",
    "|Land Contour|Contorno del terreno circundante|\"Lvl llano, Bnk Tipo bancal, HLS Ladera, Low Depresión\"|\n",
    "|Land Slope|Tipo de pendiente de la vivienda|\" Gtl pendiente suave, Mod pendiente moderada, Sev fuerte pendiente\"|\n",
    "|Overall Qual|Grado de calidad de materiales y acabado de la vivienda|De 1 (Muy pobre) a 10 (Excelente)|\n",
    "|Year Built|Año de construccion de la vivienda||\n",
    "|Year Remod/Add|Año de última reforma de la vivienda||\n",
    "|Mas Vnr Type|Tipo de revestimiento exterior|\" BrkCmn Ladrillo normal, BrkFace Ladrillo visto, CBlock Bloque de cemento, None Ninguna, Stone Piedra \"|\n",
    "|Exter Qual|Calidad de revestimiento exterior|\"Ex Excelente,Gd Bueno,TA Media,Fa Justo\"|\n",
    "|Bsmt Cond|Estado general del sótano|\"Ex Excelente, Gd Bueno, TA Media, Fa Justo, Po Pobre,Ss sin sótano\"|\n",
    "|Total Bsmt SF|Superficie del sótano en pies cuadrados|\n",
    "|Heating QC|Calidad de la calefacción|\"Ex Excelente,Gd Bueno,TA Media,Fa Justo,Po Pobre\"|\n",
    "|Central Air|Aire acondicionado centralizado|\"N No Y Sí\"|\n",
    "|Full Bath|Número de baños completo en planta||\n",
    "|Half Bath|Número de aseos en planta||\n",
    "|Bedroom AbvGr|Número de dormitorios en planta||\n",
    "|Kitchen AbvGr|Número de cocinas en planta||\n",
    "|Kitchen Qual|Calidad de cocinas|\"Ex Excelente,Gd Bueno,TA Media,Fa Justo,Po Pobre\"|\n",
    "|TotRms AbvGrd|Número total de habitaciones excluidos los cuartos de baño||\n",
    "|Garage Cars|Número de plazas de garaje||\n",
    "|Garage Area|Superficie del garaje|||\n",
    "|Garage Cond|Estado del garaje|\"Ex Excelente,Gd Bueno,TA Media,Fa Justo,Po Pobre,Sg sin garaje\"|\n",
    "|Pool Area|Superficie de la piscina en pies cuadrados|\n",
    "|Pool QC|Calidad de la piscina|\"Ex Excelente,Gd Bueno,TA Media,Fa Justo,Sp no hay piscina\"|\n",
    "|Mo Sold|mes de venta||\n",
    "|Yr Sold|año de venta||\n",
    "|SalePrice|precio de venta en dólares||"
   ]
  },
  {
   "cell_type": "markdown",
   "metadata": {},
   "source": [
    "Recomiendo al leer los datos, eliminar espacios de los nombres de las columnas, realiza un pequeño análisis inicial de los mismos. No olvides fijarte en los tipos de variables, que variables pueden tener tipos confundidos y corrige los. Sobre todo, trabaja con las fechas."
   ]
  },
  {
   "cell_type": "markdown",
   "metadata": {},
   "source": [
    "**NOTA:** Las tareas complementarias sirven para subir nota. El resto de preguntas valen igual y suman 10 puntos."
   ]
  },
  {
   "cell_type": "markdown",
   "metadata": {},
   "source": [
    "## Inicializar y cargar el contexto spark"
   ]
  },
  {
   "cell_type": "code",
   "execution_count": 1,
   "metadata": {},
   "outputs": [],
   "source": [
    "import pandas as pd                   ##Importamos lo necesario\n",
    "import  numpy as np\n",
    "import matplotlib as plt"
   ]
  },
  {
   "cell_type": "code",
   "execution_count": 2,
   "metadata": {},
   "outputs": [],
   "source": [
    "from pyspark import SparkContext\n",
    "from pyspark.sql import Row\n",
    "from pyspark import SQLContext\n",
    "import datetime\n",
    "import time\n",
    "import pyspark.sql.functions as F\n",
    "from pyspark.sql import SparkSession"
   ]
  },
  {
   "cell_type": "code",
   "execution_count": 3,
   "metadata": {},
   "outputs": [],
   "source": [
    "sc = SparkContext()"
   ]
  },
  {
   "cell_type": "code",
   "execution_count": 4,
   "metadata": {},
   "outputs": [
    {
     "data": {
      "text/plain": [
       "['Order;MS Zoning;Lot Frontage;Lot Area;Land Contour;Land Slope;Overall Qual;Year Built;Year Remod/Add;Mas Vnr Type;Exter Qual;Bsmt Cond;Total Bsmt SF;Heating QC;Central Air;Full Bath;Half Bath;Bedroom AbvGr;Kitchen AbvGr;Kitchen Qual;TotRms AbvGrd;Garage Cars;Garage Area;Garage Cond;Pool Area;Pool QC;Mo Sold;Yr Sold;SalePrice',\n",
       " '1;RL;141;31770;Lvl;Gtl;6;1960;1960;Stone;TA;Gd;1080;Fa;Y;1;0;3;1;TA;7;2;528;TA;0;Sp;5;2010;215000',\n",
       " '2;RH;80;11622;Lvl;Gtl;5;1961;1961;None;TA;TA;882;TA;Y;1;0;2;1;TA;5;1;730;TA;0;Sp;6;2010;105000']"
      ]
     },
     "execution_count": 4,
     "metadata": {},
     "output_type": "execute_result"
    }
   ],
   "source": [
    "datos = sc.textFile('./data/BDpracticafinalCSV.csv')           #Cargamos los datos\n",
    "datos.take(3)"
   ]
  },
  {
   "cell_type": "code",
   "execution_count": 5,
   "metadata": {},
   "outputs": [
    {
     "data": {
      "text/plain": [
       "[['Order',\n",
       "  'MS Zoning',\n",
       "  'Lot Frontage',\n",
       "  'Lot Area',\n",
       "  'Land Contour',\n",
       "  'Land Slope',\n",
       "  'Overall Qual',\n",
       "  'Year Built',\n",
       "  'Year Remod/Add',\n",
       "  'Mas Vnr Type',\n",
       "  'Exter Qual',\n",
       "  'Bsmt Cond',\n",
       "  'Total Bsmt SF',\n",
       "  'Heating QC',\n",
       "  'Central Air',\n",
       "  'Full Bath',\n",
       "  'Half Bath',\n",
       "  'Bedroom AbvGr',\n",
       "  'Kitchen AbvGr',\n",
       "  'Kitchen Qual',\n",
       "  'TotRms AbvGrd',\n",
       "  'Garage Cars',\n",
       "  'Garage Area',\n",
       "  'Garage Cond',\n",
       "  'Pool Area',\n",
       "  'Pool QC',\n",
       "  'Mo Sold',\n",
       "  'Yr Sold',\n",
       "  'SalePrice'],\n",
       " ['1',\n",
       "  'RL',\n",
       "  '141',\n",
       "  '31770',\n",
       "  'Lvl',\n",
       "  'Gtl',\n",
       "  '6',\n",
       "  '1960',\n",
       "  '1960',\n",
       "  'Stone',\n",
       "  'TA',\n",
       "  'Gd',\n",
       "  '1080',\n",
       "  'Fa',\n",
       "  'Y',\n",
       "  '1',\n",
       "  '0',\n",
       "  '3',\n",
       "  '1',\n",
       "  'TA',\n",
       "  '7',\n",
       "  '2',\n",
       "  '528',\n",
       "  'TA',\n",
       "  '0',\n",
       "  'Sp',\n",
       "  '5',\n",
       "  '2010',\n",
       "  '215000'],\n",
       " ['2',\n",
       "  'RH',\n",
       "  '80',\n",
       "  '11622',\n",
       "  'Lvl',\n",
       "  'Gtl',\n",
       "  '5',\n",
       "  '1961',\n",
       "  '1961',\n",
       "  'None',\n",
       "  'TA',\n",
       "  'TA',\n",
       "  '882',\n",
       "  'TA',\n",
       "  'Y',\n",
       "  '1',\n",
       "  '0',\n",
       "  '2',\n",
       "  '1',\n",
       "  'TA',\n",
       "  '5',\n",
       "  '1',\n",
       "  '730',\n",
       "  'TA',\n",
       "  '0',\n",
       "  'Sp',\n",
       "  '6',\n",
       "  '2010',\n",
       "  '105000']]"
      ]
     },
     "execution_count": 5,
     "metadata": {},
     "output_type": "execute_result"
    }
   ],
   "source": [
    "datos_2 = datos.map(lambda x: x.split(';'))                   #Aplicamos el separador\n",
    "datos_2.take(3)"
   ]
  },
  {
   "cell_type": "markdown",
   "metadata": {},
   "source": [
    "### encabezado fuera"
   ]
  },
  {
   "cell_type": "code",
   "execution_count": 6,
   "metadata": {},
   "outputs": [
    {
     "data": {
      "text/plain": [
       "[['1',\n",
       "  'RL',\n",
       "  '141',\n",
       "  '31770',\n",
       "  'Lvl',\n",
       "  'Gtl',\n",
       "  '6',\n",
       "  '1960',\n",
       "  '1960',\n",
       "  'Stone',\n",
       "  'TA',\n",
       "  'Gd',\n",
       "  '1080',\n",
       "  'Fa',\n",
       "  'Y',\n",
       "  '1',\n",
       "  '0',\n",
       "  '3',\n",
       "  '1',\n",
       "  'TA',\n",
       "  '7',\n",
       "  '2',\n",
       "  '528',\n",
       "  'TA',\n",
       "  '0',\n",
       "  'Sp',\n",
       "  '5',\n",
       "  '2010',\n",
       "  '215000']]"
      ]
     },
     "execution_count": 6,
     "metadata": {},
     "output_type": "execute_result"
    }
   ],
   "source": [
    "header = datos_2.first()                                   #Creamos el encabezado para eliminarlo y tratar mejor los datos\n",
    "datos_3 = datos_2.filter(lambda x: x !=header)\n",
    "datos_3.take(1)"
   ]
  },
  {
   "cell_type": "code",
   "execution_count": 7,
   "metadata": {},
   "outputs": [],
   "source": [
    "def function (x):                                    #Aplicamos una función para juntar los distintos RL\n",
    "    if x == 'Rl':\n",
    "        xn = 'RL'\n",
    "    elif x == 'rL':\n",
    "        xn='RL'\n",
    "    else:\n",
    "        xn = x\n",
    "    return (xn)"
   ]
  },
  {
   "cell_type": "code",
   "execution_count": 8,
   "metadata": {},
   "outputs": [
    {
     "data": {
      "text/plain": [
       "['RL', 'RH', 'C', 'FV', 'RM', 'I', 'A']"
      ]
     },
     "execution_count": 8,
     "metadata": {},
     "output_type": "execute_result"
    }
   ],
   "source": [
    "datos_3.map(lambda x:function(x[1])).distinct().collect()    #Comprobamos  que se han unificado"
   ]
  },
  {
   "cell_type": "code",
   "execution_count": 9,
   "metadata": {},
   "outputs": [],
   "source": [
    "def function_2 (x):                                          # Esta para eliminar los espacios en blanco, esta no se usará solo es de muestra \n",
    "    if x == '':\n",
    "        xn = 'no_rev'\n",
    "    else:\n",
    "        xn = x\n",
    "    return (xn)"
   ]
  },
  {
   "cell_type": "code",
   "execution_count": 10,
   "metadata": {},
   "outputs": [
    {
     "data": {
      "text/plain": [
       "['None', 'no_rev', 'CBlock', 'Stone', 'BrkFace', 'BrkCmn']"
      ]
     },
     "execution_count": 10,
     "metadata": {},
     "output_type": "execute_result"
    }
   ],
   "source": [
    "datos_3.map(lambda x:function_2(x[9])).distinct().collect()  # Comprobamos  de nuevo"
   ]
  },
  {
   "cell_type": "code",
   "execution_count": 11,
   "metadata": {},
   "outputs": [],
   "source": [
    "def function_3 (x):                                          # Realizamos la última con el mismo objetivo que en la anterior\n",
    "    if x == '':\n",
    "        xn = 'desconocido'\n",
    "    else:\n",
    "        xn = x\n",
    "    return (xn)"
   ]
  },
  {
   "cell_type": "code",
   "execution_count": 12,
   "metadata": {},
   "outputs": [
    {
     "data": {
      "text/plain": [
       "['Fa', 'Po', 'desconocido', 'TA', 'Sg', 'Gd', 'Ex']"
      ]
     },
     "execution_count": 12,
     "metadata": {},
     "output_type": "execute_result"
    }
   ],
   "source": [
    "datos_3.map(lambda x:function_3(x[23])).distinct().collect()  # Comprobamos los resultados"
   ]
  },
  {
   "cell_type": "markdown",
   "metadata": {},
   "source": [
    "#### Aplicación"
   ]
  },
  {
   "cell_type": "code",
   "execution_count": 13,
   "metadata": {},
   "outputs": [],
   "source": [
    "datos_4 = datos_3.map(lambda x: x).map(lambda x: function(x))   #Aplicamos las funciones realizadas antes sobra la base de datos"
   ]
  },
  {
   "cell_type": "code",
   "execution_count": 14,
   "metadata": {},
   "outputs": [],
   "source": [
    "datos_4 = datos_3.map(lambda x: x).map(lambda x: function_2(x))"
   ]
  },
  {
   "cell_type": "markdown",
   "metadata": {},
   "source": [
    "## Cuántas viviendas distintas encontramos en el dataset? ¿Se repite alguna? Tiene sentido que haya duplicadas? ¿Qué podemos hacer con las duplicadas?"
   ]
  },
  {
   "cell_type": "markdown",
   "metadata": {},
   "source": [
    "A continuación compobamos si los datos pertenecientes a cada inmueble coinciden"
   ]
  },
  {
   "cell_type": "code",
   "execution_count": 15,
   "metadata": {},
   "outputs": [
    {
     "data": {
      "text/plain": [
       "2936"
      ]
     },
     "execution_count": 15,
     "metadata": {},
     "output_type": "execute_result"
    }
   ],
   "source": [
    "datos_4.map(lambda x:x[0]).count()                  # Contamos las casas observadas"
   ]
  },
  {
   "cell_type": "code",
   "execution_count": 16,
   "metadata": {},
   "outputs": [
    {
     "data": {
      "text/plain": [
       "2930"
      ]
     },
     "execution_count": 16,
     "metadata": {},
     "output_type": "execute_result"
    }
   ],
   "source": [
    "datos_4.map(lambda x:x[0]).distinct().count()       # Las que son distintas"
   ]
  },
  {
   "cell_type": "markdown",
   "metadata": {},
   "source": [
    "Podemos comprobar que respecto al total de las observaciones de la base hay una diferencia de 6, que son los bienes inmuebles que se encuentran duplicados.\n",
    "Para este caso se considera que tienen sentido su presencia dado que se podrían tratar de casas en las que se ha realizado más de una operación de venta. Sin embargo no deja de resultar extraño que se den coincidencias también incluso en su precio de venta "
   ]
  },
  {
   "cell_type": "markdown",
   "metadata": {},
   "source": [
    "## ¿Podrías decirme el total de inmuebles y el precio medio (Sale Price) de cada zona (MS Zoning)?"
   ]
  },
  {
   "cell_type": "code",
   "execution_count": 17,
   "metadata": {},
   "outputs": [],
   "source": [
    "grupo_zonas = datos_4.groupBy(lambda x: (x[1]))                       # Filtramos por zonas\n",
    "grupo_zonas_RL = datos_4.filter(lambda x:x[1]=='RL')\n",
    "grupo_zonas_RM = datos_4.filter(lambda x:x[1]=='RM')\n",
    "grupo_zonas_RH = datos_4.filter(lambda x:x[1]=='RH')"
   ]
  },
  {
   "cell_type": "code",
   "execution_count": 18,
   "metadata": {},
   "outputs": [],
   "source": [
    " def tofloat(x):        # Dado que nos resultará necesario transformar datos a float, generamos la función.\n",
    "        if x in [\"\", \" \",\"nan\",\"NULL\"]: \n",
    "            return 0.0\n",
    "        else:\n",
    "            return float(x)"
   ]
  },
  {
   "cell_type": "markdown",
   "metadata": {},
   "source": [
    "#### Sobre todos los bienes inmuebles"
   ]
  },
  {
   "cell_type": "code",
   "execution_count": 19,
   "metadata": {},
   "outputs": [
    {
     "data": {
      "text/plain": [
       "531174956.0"
      ]
     },
     "execution_count": 19,
     "metadata": {},
     "output_type": "execute_result"
    }
   ],
   "source": [
    "datos_4.map(lambda x: tofloat(x[28])).mean()                 # Calcula la media\n",
    "datos_4.map(lambda x: tofloat(x[28])).sum()                  # Calcula la suma"
   ]
  },
  {
   "cell_type": "markdown",
   "metadata": {},
   "source": [
    "#### Para RL"
   ]
  },
  {
   "cell_type": "code",
   "execution_count": 20,
   "metadata": {},
   "outputs": [
    {
     "data": {
      "text/plain": [
       "2271"
      ]
     },
     "execution_count": 20,
     "metadata": {},
     "output_type": "execute_result"
    }
   ],
   "source": [
    "grupo_zonas_RL.count()"
   ]
  },
  {
   "cell_type": "code",
   "execution_count": 21,
   "metadata": {},
   "outputs": [
    {
     "data": {
      "text/plain": [
       "191131.80581241753"
      ]
     },
     "execution_count": 21,
     "metadata": {},
     "output_type": "execute_result"
    }
   ],
   "source": [
    "grupo_zonas_RL.map(lambda x: tofloat(x[28])).mean()          # Calcula la media"
   ]
  },
  {
   "cell_type": "code",
   "execution_count": 22,
   "metadata": {},
   "outputs": [
    {
     "data": {
      "text/plain": [
       "434060331.0"
      ]
     },
     "execution_count": 22,
     "metadata": {},
     "output_type": "execute_result"
    }
   ],
   "source": [
    "grupo_zonas_RL.map(lambda x: tofloat(x[28])).sum()           # Calcula la suma"
   ]
  },
  {
   "cell_type": "markdown",
   "metadata": {},
   "source": [
    "Todas estas cifras para las zonas indicadas las usaremos más tarde para la obtención de más información"
   ]
  },
  {
   "cell_type": "markdown",
   "metadata": {},
   "source": [
    "#### Para RM"
   ]
  },
  {
   "cell_type": "code",
   "execution_count": 23,
   "metadata": {},
   "outputs": [
    {
     "data": {
      "text/plain": [
       "462"
      ]
     },
     "execution_count": 23,
     "metadata": {},
     "output_type": "execute_result"
    }
   ],
   "source": [
    "grupo_zonas_RM.count()"
   ]
  },
  {
   "cell_type": "code",
   "execution_count": 24,
   "metadata": {},
   "outputs": [
    {
     "data": {
      "text/plain": [
       "126781.39393939397"
      ]
     },
     "execution_count": 24,
     "metadata": {},
     "output_type": "execute_result"
    }
   ],
   "source": [
    "grupo_zonas_RM.map(lambda x: tofloat(x[28])).mean()          # Calcula la media"
   ]
  },
  {
   "cell_type": "code",
   "execution_count": 25,
   "metadata": {},
   "outputs": [
    {
     "data": {
      "text/plain": [
       "58573004.0"
      ]
     },
     "execution_count": 25,
     "metadata": {},
     "output_type": "execute_result"
    }
   ],
   "source": [
    "grupo_zonas_RM.map(lambda x: tofloat(x[28])).sum()           # Calcula la suma"
   ]
  },
  {
   "cell_type": "markdown",
   "metadata": {},
   "source": [
    "#### Para RH"
   ]
  },
  {
   "cell_type": "code",
   "execution_count": 26,
   "metadata": {},
   "outputs": [
    {
     "data": {
      "text/plain": [
       "27"
      ]
     },
     "execution_count": 26,
     "metadata": {},
     "output_type": "execute_result"
    }
   ],
   "source": [
    "grupo_zonas_RH.count()"
   ]
  },
  {
   "cell_type": "code",
   "execution_count": 27,
   "metadata": {},
   "outputs": [
    {
     "data": {
      "text/plain": [
       "136419.77777777778"
      ]
     },
     "execution_count": 27,
     "metadata": {},
     "output_type": "execute_result"
    }
   ],
   "source": [
    "grupo_zonas_RH.map(lambda x: tofloat(x[28])).mean()          # Calcula la media"
   ]
  },
  {
   "cell_type": "code",
   "execution_count": 28,
   "metadata": {},
   "outputs": [
    {
     "data": {
      "text/plain": [
       "3683334.0"
      ]
     },
     "execution_count": 28,
     "metadata": {},
     "output_type": "execute_result"
    }
   ],
   "source": [
    "grupo_zonas_RH.map(lambda x: tofloat(x[28])).sum()           # Calcula la suma"
   ]
  },
  {
   "cell_type": "markdown",
   "metadata": {},
   "source": [
    "## Media de Total Bsmt SF por cada década de construcción calculada a partir de Year Built. \n",
    "## ¿Cuál es la decada de construcción con viviendas mejor acondicionadas para el frío (Heating QC)?"
   ]
  },
  {
   "cell_type": "markdown",
   "metadata": {},
   "source": [
    "En primer lugar buscamos el primer y el último año en los que se han realizado los bienes"
   ]
  },
  {
   "cell_type": "code",
   "execution_count": 29,
   "metadata": {},
   "outputs": [
    {
     "data": {
      "text/plain": [
       "'1872'"
      ]
     },
     "execution_count": 29,
     "metadata": {},
     "output_type": "execute_result"
    }
   ],
   "source": [
    "datos_4.map(lambda x:x[7]).min()                  # El primer año registrado"
   ]
  },
  {
   "cell_type": "code",
   "execution_count": 30,
   "metadata": {},
   "outputs": [
    {
     "data": {
      "text/plain": [
       "'2010'"
      ]
     },
     "execution_count": 30,
     "metadata": {},
     "output_type": "execute_result"
    }
   ],
   "source": [
    "datos_4.map(lambda x:x[7]).max()                   # El último año registrado"
   ]
  },
  {
   "cell_type": "markdown",
   "metadata": {},
   "source": [
    "#### Filtramos los bienes realizados en intervalos de 10 años para poder hacer los cáculos pertinentes."
   ]
  },
  {
   "cell_type": "code",
   "execution_count": 31,
   "metadata": {},
   "outputs": [],
   "source": [
    "decade_1882 = datos_4.filter(lambda x:'1872'<= x[7] < '1882').map(lambda x: (x[0], x[7], x[12], x[13])) #Filtramos cada 10 años\n",
    "decade_1892 = datos_4.filter(lambda x:'1882'<= x[7] < '1892').map(lambda x: (x[0], x[7], x[12], x[13]))\n",
    "decade_1902 = datos_4.filter(lambda x:'1892'<= x[7] < '1902').map(lambda x: (x[0], x[7], x[12], x[13]))\n",
    "decade_1912 = datos_4.filter(lambda x:'1902'<= x[7] < '1912').map(lambda x: (x[0], x[7], x[12], x[13]))\n",
    "decade_1922 = datos_4.filter(lambda x:'1912'<= x[7] < '1922').map(lambda x: (x[0], x[7], x[12], x[13]))\n",
    "decade_1932 = datos_4.filter(lambda x:'1922'<= x[7] < '1932').map(lambda x: (x[0], x[7], x[12], x[13]))\n",
    "decade_1942 = datos_4.filter(lambda x:'1932'<= x[7] < '1942').map(lambda x: (x[0], x[7], x[12], x[13]))\n",
    "decade_1952 = datos_4.filter(lambda x:'1942'<= x[7] < '1952').map(lambda x: (x[0], x[7], x[12], x[13]))\n",
    "decade_1962 = datos_4.filter(lambda x:'1952'<= x[7] < '1962').map(lambda x: (x[0], x[7], x[12], x[13]))\n",
    "decade_1972 = datos_4.filter(lambda x:'1962'<= x[7] < '1972').map(lambda x: (x[0], x[7], x[12], x[13]))\n",
    "decade_1982 = datos_4.filter(lambda x:'1972'<= x[7] < '1982').map(lambda x: (x[0], x[7], x[12], x[13]))\n",
    "decade_1992 = datos_4.filter(lambda x:'1982'<= x[7] < '1992').map(lambda x: (x[0], x[7], x[12], x[13]))\n",
    "decade_2002 = datos_4.filter(lambda x:'1992'<= x[7] < '2002').map(lambda x: (x[0], x[7], x[12], x[13]))\n",
    "decade_2012 = datos_4.filter(lambda x:'2002'<= x[7] < '2012').map(lambda x: (x[0], x[7], x[12], x[13]))"
   ]
  },
  {
   "cell_type": "markdown",
   "metadata": {},
   "source": [
    "#### Solicitamos la media para cada década de la superficie en pies cuadrados"
   ]
  },
  {
   "cell_type": "code",
   "execution_count": 32,
   "metadata": {},
   "outputs": [
    {
     "name": "stdout",
     "output_type": "stream",
     "text": [
      "1ª DÉCADA: 829.625 2ª DÉCADA: 803.8 3ª DÉCADA: 740.8974358974357 4ª DÉCADA: 714.622641509434 5ª DÉCADA: 793.4626865671642 6ª DÉCADA: 837.9068322981368 7ª DÉCADA: 779.3259259259262\n"
     ]
    }
   ],
   "source": [
    "print('1ª DÉCADA:',decade_1882.map(lambda x: tofloat(x[2])).mean()     # Cálculo de cada media\n",
    "     ,'2ª DÉCADA:',decade_1892.map(lambda x: tofloat(x[2])).mean()\n",
    "     ,'3ª DÉCADA:',decade_1902.map(lambda x: tofloat(x[2])).mean()                \n",
    "     ,'4ª DÉCADA:',decade_1912.map(lambda x: tofloat(x[2])).mean()\n",
    "     ,'5ª DÉCADA:',decade_1922.map(lambda x: tofloat(x[2])).mean()\n",
    "     ,'6ª DÉCADA:',decade_1932.map(lambda x: tofloat(x[2])).mean()\n",
    "     ,'7ª DÉCADA:',decade_1942.map(lambda x: tofloat(x[2])).mean())"
   ]
  },
  {
   "cell_type": "code",
   "execution_count": 33,
   "metadata": {},
   "outputs": [
    {
     "name": "stdout",
     "output_type": "stream",
     "text": [
      "8ª DÉCADA: 708.6824324324323 9ª DÉCADA: 1016.4957746478873 10ª DÉCADA: 1038.4986376021795 11ª DÉCADA: 979.0280373831772 12ª DÉCADA: 1122.3478260869565 13ª DÉCADA: 1125.6211340206185 14ª DÉCADA: 1330.283475783477\n"
     ]
    }
   ],
   "source": [
    "print('8ª DÉCADA:',decade_1952.map(lambda x: tofloat(x[2])).mean()      # Continuamos\n",
    "     ,'9ª DÉCADA:',decade_1962.map(lambda x: tofloat(x[2])).mean()\n",
    "     ,'10ª DÉCADA:',decade_1972.map(lambda x: tofloat(x[2])).mean()                \n",
    "     ,'11ª DÉCADA:',decade_1982.map(lambda x: tofloat(x[2])).mean()\n",
    "     ,'12ª DÉCADA:',decade_1992.map(lambda x: tofloat(x[2])).mean()\n",
    "     ,'13ª DÉCADA:',decade_2002.map(lambda x: tofloat(x[2])).mean()\n",
    "     ,'14ª DÉCADA:',decade_2012.map(lambda x: tofloat(x[2])).mean())"
   ]
  },
  {
   "cell_type": "markdown",
   "metadata": {},
   "source": [
    "###  Pasamos a la década con más casas mejor condicionadas"
   ]
  },
  {
   "cell_type": "code",
   "execution_count": 34,
   "metadata": {},
   "outputs": [],
   "source": [
    "cal_1882 = decade_1882.filter(lambda x: x[3]=='Ex').map(lambda x: (x[0], x[1], x[2], x[3]))   # Lo realizamos para la calefacción\n",
    "cal_1892 = decade_1892.filter(lambda x: x[3]=='Ex').map(lambda x: (x[0], x[1], x[2], x[3]))\n",
    "cal_1902 = decade_1902.filter(lambda x: x[3]=='Ex').map(lambda x: (x[0], x[1], x[2], x[3]))\n",
    "cal_1912 = decade_1912.filter(lambda x: x[3]=='Ex').map(lambda x: (x[0], x[1], x[2], x[3]))\n",
    "cal_1922 = decade_1922.filter(lambda x: x[3]=='Ex').map(lambda x: (x[0], x[1], x[2], x[3]))\n",
    "cal_1932 = decade_1932.filter(lambda x: x[3]=='Ex').map(lambda x: (x[0], x[1], x[2], x[3]))\n",
    "cal_1942 = decade_1942.filter(lambda x: x[3]=='Ex').map(lambda x: (x[0], x[1], x[2], x[3]))\n",
    "cal_1952 = decade_1952.filter(lambda x: x[3]=='Ex').map(lambda x: (x[0], x[1], x[2], x[3]))\n",
    "cal_1962 = decade_1962.filter(lambda x: x[3]=='Ex').map(lambda x: (x[0], x[1], x[2], x[3]))\n",
    "cal_1972 = decade_1972.filter(lambda x: x[3]=='Ex').map(lambda x: (x[0], x[1], x[2], x[3]))\n",
    "cal_1982 = decade_1982.filter(lambda x: x[3]=='Ex').map(lambda x: (x[0], x[1], x[2], x[3]))\n",
    "cal_1992 = decade_1892.filter(lambda x: x[3]=='Ex').map(lambda x: (x[0], x[1], x[2], x[3]))\n",
    "cal_2002 = decade_2002.filter(lambda x: x[3]=='Ex').map(lambda x: (x[0], x[1], x[2], x[3]))\n",
    "cal_2012 = decade_2012.filter(lambda x: x[3]=='Ex').map(lambda x: (x[0], x[1], x[2], x[3]))"
   ]
  },
  {
   "cell_type": "markdown",
   "metadata": {},
   "source": [
    "Impresión de los conteos"
   ]
  },
  {
   "cell_type": "code",
   "execution_count": 35,
   "metadata": {},
   "outputs": [
    {
     "name": "stdout",
     "output_type": "stream",
     "text": [
      "1ª DÉCADA: 2 2ª DÉCADA: 2 3ª DÉCADA: 13 4ª DÉCADA: 15 5ª DÉCADA: 15 6ª DÉCADA: 46 7ª DÉCADA: 53 8ª DÉCADA: 43 9ª DÉCADA: 103 10ª DÉCADA: 88 11ª DÉCADA: 54 12ª DÉCADA: 2 13ª DÉCADA: 324 14ª DÉCADA: 674\n"
     ]
    }
   ],
   "source": [
    "print('1ª DÉCADA:',cal_1882.count(),                           \n",
    "     '2ª DÉCADA:',cal_1892.count(),\n",
    "     '3ª DÉCADA:',cal_1902.count(),\n",
    "     '4ª DÉCADA:',cal_1912.count(),\n",
    "     '5ª DÉCADA:',cal_1912.count(),\n",
    "     '6ª DÉCADA:',cal_1932.count(),\n",
    "     '7ª DÉCADA:',cal_1942.count(),\n",
    "     '8ª DÉCADA:',cal_1952.count(),\n",
    "     '9ª DÉCADA:',cal_1962.count(),\n",
    "     '10ª DÉCADA:',cal_1972.count(),\n",
    "     '11ª DÉCADA:',cal_1982.count(),\n",
    "     '12ª DÉCADA:',cal_1992.count(),\n",
    "     '13ª DÉCADA:',cal_2002.count(),\n",
    "     '14ª DÉCADA:',cal_2012.count(),)"
   ]
  },
  {
   "cell_type": "markdown",
   "metadata": {},
   "source": [
    "Se puede comprobar como  a medida que transcurren los años los inmuebles mejor condicionados aumentan de forma muy marcada. Hasta el punto que en la última decada registrada casi se dobla el número de casas condicionadas como Excelentes, haciendo de esta, la decada con más casas mejor condicionadas."
   ]
  },
  {
   "cell_type": "markdown",
   "metadata": {},
   "source": [
    "## ¿Cuáles son las 10 viviendas que se vendieron por un precio más elevado por metro cuadrado en el año 2009?"
   ]
  },
  {
   "cell_type": "markdown",
   "metadata": {},
   "source": [
    "Se filtra por año. Se divide p de venta por la superficie y se anexiona al número de observación."
   ]
  },
  {
   "cell_type": "code",
   "execution_count": 36,
   "metadata": {},
   "outputs": [
    {
     "data": {
      "text/plain": [
       "[('566', 97.48263888888889),\n",
       " ('936', 95.38461538461539),\n",
       " ('934', 92.06989247311827),\n",
       " ('464', 76.27865961199295),\n",
       " ('935', 75.06203473945409)]"
      ]
     },
     "execution_count": 36,
     "metadata": {},
     "output_type": "execute_result"
    }
   ],
   "source": [
    "año_2009 = datos_4.filter(lambda x: x[27] == '2009').map(lambda x: (x[0],(tofloat(x[28])/tofloat(x[3])))).reduceByKey(lambda a,b:a + b)\n",
    "\n",
    "datos_max = año_2009.sortBy(lambda x: tofloat(x[1]), ascending = False) \n",
    "datos_max.take(5)"
   ]
  },
  {
   "cell_type": "markdown",
   "metadata": {},
   "source": [
    "## Media anual por zonas del precio de venta y metros cuadrados."
   ]
  },
  {
   "cell_type": "markdown",
   "metadata": {},
   "source": [
    "Operamos de mmodo parecido pero para obtener las medias"
   ]
  },
  {
   "cell_type": "markdown",
   "metadata": {},
   "source": [
    "#### Medias anuales para RL"
   ]
  },
  {
   "cell_type": "code",
   "execution_count": 37,
   "metadata": {},
   "outputs": [
    {
     "data": {
      "text/plain": [
       "[('2010', [581432.0, 18754.0, 2]),\n",
       " ('2009', [4622756.0, 173506.0, 15]),\n",
       " ('2008', [12946411.0, 534783.0, 39]),\n",
       " ('2007', [24463323.0, 976197.0, 90]),\n",
       " ('2006', [30015092.0, 1244930.0, 113])]"
      ]
     },
     "execution_count": 37,
     "metadata": {},
     "output_type": "execute_result"
    }
   ],
   "source": [
    "media_anual_venta_RL = grupo_zonas_RL.map(lambda x: (x[7], [tofloat(x[28]), tofloat(x[3]), 1]))\n",
    "media_anual_venta_RL = media_anual_venta_RL.reduceByKey(lambda x,y: [x[0]+y[0], x[1]+y[1], x[2]+y[2]])\n",
    "media_anual_venta_RL = media_anual_venta_RL.sortBy(lambda x: tofloat(x[0]), ascending=False)\n",
    "media_anual_venta_RL.take(5)"
   ]
  },
  {
   "cell_type": "markdown",
   "metadata": {},
   "source": [
    "#### Medias anuales para  RM"
   ]
  },
  {
   "cell_type": "code",
   "execution_count": 38,
   "metadata": {},
   "outputs": [
    {
     "data": {
      "text/plain": [
       "[('2008', [535500.0, 15423.0, 2]),\n",
       " ('2007', [524464.0, 7686.0, 2]),\n",
       " ('2006', [610000.0, 10318.0, 2]),\n",
       " ('2005', [1236000.0, 27798.0, 7]),\n",
       " ('2004', [3590930.0, 78054.0, 20])]"
      ]
     },
     "execution_count": 38,
     "metadata": {},
     "output_type": "execute_result"
    }
   ],
   "source": [
    "media_anual_venta_RM = grupo_zonas_RM.map(lambda x: (x[7], [tofloat(x[28]), tofloat(x[3]), 1]))\n",
    "media_anual_venta_RM = media_anual_venta_RM.reduceByKey(lambda x,y: [x[0]+y[0], x[1]+y[1], x[2]+y[2]])\n",
    "media_anual_venta_RM = media_anual_venta_RM.sortBy(lambda x: tofloat(x[0]), ascending=False)\n",
    "media_anual_venta_RM.take(5)"
   ]
  },
  {
   "cell_type": "markdown",
   "metadata": {},
   "source": [
    "#### Media anual precio en RH"
   ]
  },
  {
   "cell_type": "code",
   "execution_count": 39,
   "metadata": {},
   "outputs": [
    {
     "data": {
      "text/plain": [
       "[('2002', [190000.0, 8773.0, 1]),\n",
       " ('2001', [155000.0, 4113.0, 1]),\n",
       " ('1999', [184000.0, 5858.0, 1]),\n",
       " ('1998', [314000.0, 8118.0, 2]),\n",
       " ('1997', [177000.0, 10943.0, 1])]"
      ]
     },
     "execution_count": 39,
     "metadata": {},
     "output_type": "execute_result"
    }
   ],
   "source": [
    "media_anual_venta_RH = grupo_zonas_RH.map(lambda x: (x[7], [tofloat(x[28]), tofloat(x[3]), 1]))\n",
    "media_anual_venta_RH = media_anual_venta_RH.reduceByKey(lambda x,y: [x[0]+y[0], x[1]+y[1], x[2]+y[2]])\n",
    "media_anual_venta_RH = media_anual_venta_RH.sortBy(lambda x: tofloat(x[0]), ascending=False)\n",
    "media_anual_venta_RH.take(5)"
   ]
  },
  {
   "cell_type": "markdown",
   "metadata": {},
   "source": [
    "## ¿Podrías decirme el total de recaudación de las casas de revistimiento (Mas Vnr Type) de piedra con respecto a las de ladrillo? ¿Hay diferencia significativa?"
   ]
  },
  {
   "cell_type": "markdown",
   "metadata": {},
   "source": [
    "Filtramos los bienes por revestimiento de ladrillo y piedra"
   ]
  },
  {
   "cell_type": "code",
   "execution_count": 40,
   "metadata": {},
   "outputs": [],
   "source": [
    "ladrillo = datos_4.filter(lambda x : x[9]=='BrkCmn').map(lambda x:(x[28],x[0]))\n",
    "piedra = datos_4.filter(lambda x : x[9]=='Stone').map(lambda x:(x[28],x[0]))"
   ]
  },
  {
   "cell_type": "markdown",
   "metadata": {},
   "source": [
    "Se realiza la suma de los p de venta de las casas de cada grupo."
   ]
  },
  {
   "cell_type": "code",
   "execution_count": 41,
   "metadata": {},
   "outputs": [
    {
     "data": {
      "text/plain": [
       "3504975.0"
      ]
     },
     "execution_count": 41,
     "metadata": {},
     "output_type": "execute_result"
    }
   ],
   "source": [
    "total_ladrillo = ladrillo.map(lambda x: tofloat(x[0]))\n",
    "total_ladrillo.sum()"
   ]
  },
  {
   "cell_type": "code",
   "execution_count": 42,
   "metadata": {},
   "outputs": [
    {
     "data": {
      "text/plain": [
       "65196277.0"
      ]
     },
     "execution_count": 42,
     "metadata": {},
     "output_type": "execute_result"
    }
   ],
   "source": [
    "total_piedra = piedra.map(lambda x: tofloat(x[0]))\n",
    "total_piedra.sum()"
   ]
  },
  {
   "cell_type": "markdown",
   "metadata": {},
   "source": [
    "Podemos comprobar que la totalidad de las cifras de dinero obtenidas con ventas de las casas con revestimiento de piedra han movido una cantidad sustancialmente superior de dinero en comparación con las de ladrillo teniendo en cuenta que la cifra de las primeras casii alcanza el doble del de las segundas."
   ]
  },
  {
   "cell_type": "markdown",
   "metadata": {},
   "source": [
    "## ¿Cuánto son más caras las viviendas con 2 cocinas, con 2 o más plazas de garaje que las que tienen 1 cocina y 1 plaza de garaje? Comparar medias y cuartiles de ambos casos"
   ]
  },
  {
   "cell_type": "markdown",
   "metadata": {},
   "source": [
    "1º Realizamos la comparativa de medias en los precios"
   ]
  },
  {
   "cell_type": "code",
   "execution_count": 43,
   "metadata": {},
   "outputs": [
    {
     "data": {
      "text/plain": [
       "180611.11111111112"
      ]
     },
     "execution_count": 43,
     "metadata": {},
     "output_type": "execute_result"
    }
   ],
   "source": [
    "g2_c2 = datos_4.filter(lambda x: x[18] == '2' and x[21] > '2').map(lambda x: (x[0], x[18], x[21], x[28]))\n",
    "g2_c2.map(lambda x: tofloat(x[3])).mean()"
   ]
  },
  {
   "cell_type": "code",
   "execution_count": 44,
   "metadata": {},
   "outputs": [
    {
     "data": {
      "text/plain": [
       "127367.04161248378"
      ]
     },
     "execution_count": 44,
     "metadata": {},
     "output_type": "execute_result"
    }
   ],
   "source": [
    "g1_c1 = datos_4.filter(lambda x: x[18] == '1' and x[21] == '1').map(lambda x: (x[0], x[18], x[21], x[28]))\n",
    "g1_c1.map(lambda x: tofloat(x[3])).mean()"
   ]
  },
  {
   "cell_type": "markdown",
   "metadata": {},
   "source": [
    "## (COMPLEMENTARIA) Estudiar la relación entre el precio y el número de Garajes. (Recomiendo segmentar precio por cuartiles y estudiar el número de casos coincidentes)"
   ]
  },
  {
   "cell_type": "markdown",
   "metadata": {},
   "source": [
    "## (COMPLEMENTARIA) Las 10 viviendas con mejores servicios y mejor precio."
   ]
  },
  {
   "cell_type": "markdown",
   "metadata": {},
   "source": [
    "### Pista:\n",
    "#### Calcula las variables: \n",
    "- Número de servicios excelentes\n",
    "- Número de servicios buenos\n",
    "...\n",
    "\n",
    "#### Tendréis que tener en cuenta también variables como número de baños Full Bath, cocinas Kitchen AbvGr o dormitorios Bedroom AbvGr. Generando por ejemplo (número de estas variables por encima de media)\n",
    "\n",
    "#### Finalmente precio de venta"
   ]
  }
 ],
 "metadata": {
  "kernelspec": {
   "display_name": "Python 3",
   "language": "python",
   "name": "python3"
  },
  "language_info": {
   "codemirror_mode": {
    "name": "ipython",
    "version": 3
   },
   "file_extension": ".py",
   "mimetype": "text/x-python",
   "name": "python",
   "nbconvert_exporter": "python",
   "pygments_lexer": "ipython3",
   "version": "3.8.3"
  },
  "toc": {
   "base_numbering": 1,
   "nav_menu": {},
   "number_sections": true,
   "sideBar": true,
   "skip_h1_title": false,
   "title_cell": "Table of Contents",
   "title_sidebar": "Contents",
   "toc_cell": false,
   "toc_position": {},
   "toc_section_display": true,
   "toc_window_display": true
  }
 },
 "nbformat": 4,
 "nbformat_minor": 2
}
