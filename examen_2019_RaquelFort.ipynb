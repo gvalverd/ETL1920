{
 "cells": [
  {
   "cell_type": "markdown",
   "metadata": {},
   "source": [
    "2019/2020 - MDS-1 - Extracción, Transformación y Carga - Etl"
   ]
  },
  {
   "cell_type": "markdown",
   "metadata": {},
   "source": [
    "Raquel Fort Serra"
   ]
  },
  {
   "cell_type": "markdown",
   "metadata": {},
   "source": [
    "# Examen ETL: SPARK 12+1/02"
   ]
  },
  {
   "cell_type": "markdown",
   "metadata": {},
   "source": [
    "Se podrá utilizar toda la información que se encuentra en el campus. \n",
    "\n",
    "Se va a trabajar sobre varios ficheros de datos:\n",
    "\n",
    "Usuarios: id_usuario::sexo::edad::id_profesion::codigo_postal\n",
    "\n",
    "Peliculas: id_pelicula::titulo (año)::tipo1|tipo2|tipo3\n",
    "\n",
    "Ratings: id_pelicula::id_usuario::puntuacion::fecha_timestamp\n",
    "\n",
    "A cada una de las preguntas hay que responder explicando brevemente que se pretende hacer antes de lanzar el código.\n",
    "\n",
    "Al documento lo llamareís con vuestro nombre y apellido. Debeís enviarlo a mi correo de CUNEF antes del final del examen.\n",
    "\n",
    "El lenguaje para trabajar con Spark podrá ser python o R indistintamente."
   ]
  },
  {
   "cell_type": "markdown",
   "metadata": {},
   "source": [
    "## Primera tarea: Inicializar spark context y cargar los datos desde los ficheros."
   ]
  },
  {
   "cell_type": "code",
   "execution_count": 1,
   "metadata": {
    "collapsed": false
   },
   "outputs": [],
   "source": [
    "from pyspark import SparkContext\n",
    "sc = SparkContext(\"local\", \"First App\")"
   ]
  },
  {
   "cell_type": "code",
   "execution_count": 2,
   "metadata": {
    "collapsed": true
   },
   "outputs": [],
   "source": [
    "usuar = \"users.dat\"\n",
    "usuar = sc.textFile(usuar)"
   ]
  },
  {
   "cell_type": "code",
   "execution_count": 3,
   "metadata": {
    "collapsed": true
   },
   "outputs": [],
   "source": [
    "peli = \"movies.dat.txt\"\n",
    "peli = sc.textFile(peli)"
   ]
  },
  {
   "cell_type": "code",
   "execution_count": 4,
   "metadata": {
    "collapsed": true
   },
   "outputs": [],
   "source": [
    "ratings = \"ratings.dat\"\n",
    "ratings = sc.textFile(ratings)"
   ]
  },
  {
   "cell_type": "code",
   "execution_count": 5,
   "metadata": {
    "collapsed": true
   },
   "outputs": [],
   "source": [
    "from pyspark.sql import SQLContext\n",
    "sqlContext = SQLContext(sc)"
   ]
  },
  {
   "cell_type": "markdown",
   "metadata": {},
   "source": [
    "Parseamos los datos, determinamos cómo se separan las columnas (::) y convertimos la fecha a año ya que está en formato timestamp"
   ]
  },
  {
   "cell_type": "code",
   "execution_count": 6,
   "metadata": {
    "collapsed": false
   },
   "outputs": [],
   "source": [
    "from datetime import datetime\n",
    "usuar = usuar.map(lambda x: x.split(\"::\"))\n",
    "peli = peli.map(lambda x: x.split(\"::\"))\n",
    "ratings = ratings.map(lambda x: x.split(\"::\")).map(lambda x: [x[0], x[1], int(x[2]), datetime.fromtimestamp(float(x[3])).year])"
   ]
  },
  {
   "cell_type": "code",
   "execution_count": 7,
   "metadata": {
    "collapsed": false
   },
   "outputs": [
    {
     "data": {
      "text/plain": [
       "[['1', 'F', '1', '10', '48067']]"
      ]
     },
     "execution_count": 7,
     "metadata": {},
     "output_type": "execute_result"
    }
   ],
   "source": [
    "usuar.take(1)"
   ]
  },
  {
   "cell_type": "code",
   "execution_count": 8,
   "metadata": {
    "collapsed": false
   },
   "outputs": [
    {
     "data": {
      "text/plain": [
       "[['1', 'Toy Story (1995)', \"Animation|Children's|Comedy\"]]"
      ]
     },
     "execution_count": 8,
     "metadata": {},
     "output_type": "execute_result"
    }
   ],
   "source": [
    "peli.take(1)"
   ]
  },
  {
   "cell_type": "code",
   "execution_count": 9,
   "metadata": {
    "collapsed": false
   },
   "outputs": [
    {
     "data": {
      "text/plain": [
       "[['1', '1193', 5, 2000]]"
      ]
     },
     "execution_count": 9,
     "metadata": {},
     "output_type": "execute_result"
    }
   ],
   "source": [
    "ratings.take(1)"
   ]
  },
  {
   "cell_type": "markdown",
   "metadata": {},
   "source": [
    "## Segunda tarea: Media de puntuaciones globales por año. ¿Hay algún año significativamente distinto?"
   ]
  },
  {
   "cell_type": "markdown",
   "metadata": {},
   "source": [
    "Únicamente vamos a utilizar la base de datos de ratings, ya que contiene las columnas que vamos a necesitar: puntuación y fecha. \n",
    "En primer lugar agrupamos por año todas las puntuaciones:"
   ]
  },
  {
   "cell_type": "code",
   "execution_count": 10,
   "metadata": {
    "collapsed": false
   },
   "outputs": [],
   "source": [
    "totalrating = ratings.map(lambda x: (x[3], int(x[2]))) \n",
    "totalrating = totalrating.reduceByKey(lambda x, y: x + y)"
   ]
  },
  {
   "cell_type": "code",
   "execution_count": 11,
   "metadata": {
    "collapsed": false
   },
   "outputs": [
    {
     "data": {
      "text/plain": [
       "[(2000, 3248432)]"
      ]
     },
     "execution_count": 11,
     "metadata": {},
     "output_type": "execute_result"
    }
   ],
   "source": [
    "totalrating.take(1)"
   ]
  },
  {
   "cell_type": "markdown",
   "metadata": {},
   "source": [
    "Luego contamos cuántas veces se ha votado por año para calcular la media"
   ]
  },
  {
   "cell_type": "code",
   "execution_count": 12,
   "metadata": {
    "collapsed": true
   },
   "outputs": [],
   "source": [
    "numrat_año = ratings.map(lambda x: (x[3], 1))\n",
    "numrat_año = numrat_año.reduceByKey(lambda x, y: x + y)"
   ]
  },
  {
   "cell_type": "code",
   "execution_count": 13,
   "metadata": {
    "collapsed": false
   },
   "outputs": [
    {
     "data": {
      "text/plain": [
       "[(2000, 904757)]"
      ]
     },
     "execution_count": 13,
     "metadata": {},
     "output_type": "execute_result"
    }
   ],
   "source": [
    "numrat_año.take(1)"
   ]
  },
  {
   "cell_type": "markdown",
   "metadata": {},
   "source": [
    "Ahora juntamos las dos bases de datos (totalrating y numrat_año) para tener para cada año, las puntuaciones totales y el número de veces que se ha votado"
   ]
  },
  {
   "cell_type": "code",
   "execution_count": 14,
   "metadata": {
    "collapsed": true
   },
   "outputs": [],
   "source": [
    "año = totalrating.join(numrat_año)"
   ]
  },
  {
   "cell_type": "code",
   "execution_count": 15,
   "metadata": {
    "collapsed": false
   },
   "outputs": [
    {
     "data": {
      "text/plain": [
       "[(2000, (3248432, 904757)), (2001, (239037, 68058)), (2002, (83171, 24046))]"
      ]
     },
     "execution_count": 15,
     "metadata": {},
     "output_type": "execute_result"
    }
   ],
   "source": [
    "año.take(3)"
   ]
  },
  {
   "cell_type": "markdown",
   "metadata": {},
   "source": [
    "Y calculamos la media"
   ]
  },
  {
   "cell_type": "code",
   "execution_count": 16,
   "metadata": {
    "collapsed": true
   },
   "outputs": [],
   "source": [
    "media = año.map(lambda x: (x[0], x[1][0]/x[1][1]))"
   ]
  },
  {
   "cell_type": "code",
   "execution_count": 17,
   "metadata": {
    "collapsed": false
   },
   "outputs": [
    {
     "data": {
      "text/plain": [
       "[(2000, 3.5903916742285498),\n",
       " (2001, 3.5122542537247643),\n",
       " (2002, 3.458828911253431)]"
      ]
     },
     "execution_count": 17,
     "metadata": {},
     "output_type": "execute_result"
    }
   ],
   "source": [
    "media.take(3)"
   ]
  },
  {
   "cell_type": "code",
   "execution_count": 18,
   "metadata": {
    "collapsed": true
   },
   "outputs": [],
   "source": [
    "#redondeo porque tenía demasiados decimales\n",
    "media = media.map(lambda x: (x[0], round(x[1],2)))"
   ]
  },
  {
   "cell_type": "code",
   "execution_count": 19,
   "metadata": {
    "collapsed": false
   },
   "outputs": [
    {
     "data": {
      "text/plain": [
       "[(2000, 3.59), (2001, 3.51), (2002, 3.46), (2003, 3.49)]"
      ]
     },
     "execution_count": 19,
     "metadata": {},
     "output_type": "execute_result"
    }
   ],
   "source": [
    "#Y aquí tenemos las medias para cada año\n",
    "media.take(4)"
   ]
  },
  {
   "cell_type": "markdown",
   "metadata": {},
   "source": [
    "Como podemos ver, estas son las medias para cada año:\n",
    "- 2000 = 3.59\n",
    "- 2001 = 3.51\n",
    "- 2002 = 3.46\n",
    "- 2003 = 3.49\n",
    "\n",
    "Todas las medias son muy parecidas, no hay ningun año significativamente distinto"
   ]
  },
  {
   "cell_type": "markdown",
   "metadata": {},
   "source": [
    "## Tercera pregunta: ¿Cuál es la película más votada por los mayores de 60? "
   ]
  },
  {
   "cell_type": "markdown",
   "metadata": {
    "collapsed": true
   },
   "source": [
    "En primer lugar, nos quedamos con el id. usuario para los de la edad >60, ya que es la variable en común con la base de datos que contiene la puntuación. "
   ]
  },
  {
   "cell_type": "code",
   "execution_count": 20,
   "metadata": {
    "collapsed": false
   },
   "outputs": [],
   "source": [
    "#nos quedamos con las variables que necesitamos\n",
    "usuarios = usuar.map(lambda x: (x[0], int(x[2])))"
   ]
  },
  {
   "cell_type": "code",
   "execution_count": 21,
   "metadata": {
    "collapsed": false
   },
   "outputs": [
    {
     "data": {
      "text/plain": [
       "[('1', 1), ('2', 56), ('3', 25)]"
      ]
     },
     "execution_count": 21,
     "metadata": {},
     "output_type": "execute_result"
    }
   ],
   "source": [
    "usuarios.take(3)"
   ]
  },
  {
   "cell_type": "code",
   "execution_count": 22,
   "metadata": {
    "collapsed": false
   },
   "outputs": [],
   "source": [
    "#filtramos las observaciones de los usuarios mayores a 60 años\n",
    "usuarios60 = usuarios.filter(lambda x: x[1] >= 60)"
   ]
  },
  {
   "cell_type": "code",
   "execution_count": 23,
   "metadata": {
    "collapsed": false
   },
   "outputs": [
    {
     "data": {
      "text/plain": [
       "[]"
      ]
     },
     "execution_count": 23,
     "metadata": {},
     "output_type": "execute_result"
    }
   ],
   "source": [
    "usuarios60.take(3) #no hay observaciones¿?"
   ]
  },
  {
   "cell_type": "code",
   "execution_count": 24,
   "metadata": {
    "collapsed": false
   },
   "outputs": [
    {
     "data": {
      "text/plain": [
       "('2', 56)"
      ]
     },
     "execution_count": 24,
     "metadata": {},
     "output_type": "execute_result"
    }
   ],
   "source": [
    "usuarios.max(lambda x: x[1]) #vale, la edad máxima de los usuarios es 56 años"
   ]
  },
  {
   "cell_type": "markdown",
   "metadata": {},
   "source": [
    "No hay usuarios mayores de 60 años, la edad máxima de personas que han votado es de 56 años, así que no podemos responder a la pregunta"
   ]
  },
  {
   "cell_type": "markdown",
   "metadata": {},
   "source": [
    "## Cuarta pregunta: ¿Cuál es la puntuación media de las peliculas de acción del año 2000?"
   ]
  },
  {
   "cell_type": "markdown",
   "metadata": {},
   "source": [
    "En primer lugar miro en el tipo de película cómo está escrito que una película es de acción"
   ]
  },
  {
   "cell_type": "code",
   "execution_count": 28,
   "metadata": {
    "collapsed": false
   },
   "outputs": [
    {
     "data": {
      "text/plain": [
       "['Comedy|Romance|Thriller',\n",
       " 'Drama|Sci-Fi',\n",
       " \"Animation|Children's|Musical|Romance\",\n",
       " 'Horror',\n",
       " 'Adventure|Romance',\n",
       " 'Comedy|Romance',\n",
       " \"Adventure|Animation|Children's|Sci-Fi\",\n",
       " 'Adventure|Comedy',\n",
       " \"Animation|Children's|Comedy\",\n",
       " 'Action|Sci-Fi|War',\n",
       " 'Comedy|Fantasy|Romance|Sci-Fi',\n",
       " \"Adventure|Children's|Drama\",\n",
       " 'Romance',\n",
       " 'Adventure|Drama|Romance|Sci-Fi',\n",
       " 'Action|Drama|Romance|Thriller',\n",
       " 'Action|Sci-Fi|Western',\n",
       " 'Drama|Film-Noir|Thriller',\n",
       " 'Adventure|Drama',\n",
       " 'Crime|Film-Noir|Mystery|Thriller',\n",
       " 'Animation|Comedy',\n",
       " 'Adventure',\n",
       " 'Comedy|Crime',\n",
       " \"Animation|Children's|Musical\",\n",
       " 'Action|Adventure|Crime|Drama',\n",
       " \"Children's\",\n",
       " 'Action|Adventure|Drama|Thriller',\n",
       " 'Crime|Horror|Mystery|Thriller',\n",
       " 'Horror|Sci-Fi|Thriller',\n",
       " 'Adventure|Comedy|Romance',\n",
       " 'Romance|Thriller',\n",
       " 'Action|Adventure|Crime',\n",
       " 'Action|Adventure|Horror|Thriller',\n",
       " 'Crime|Thriller',\n",
       " \"Children's|Drama\",\n",
       " 'Comedy|Fantasy|Romance',\n",
       " \"Action|Adventure|Animation|Children's|Fantasy\",\n",
       " 'Action|Adventure|Animation|Horror|Sci-Fi',\n",
       " 'Comedy|Mystery',\n",
       " 'Action|Adventure|Comedy|War',\n",
       " 'Action|Adventure|War',\n",
       " 'Action|Adventure|Horror',\n",
       " 'Action|Adventure|Sci-Fi|Thriller',\n",
       " 'Documentary|Musical',\n",
       " 'Action|Adventure|Comedy|Horror',\n",
       " 'Comedy|Romance|Sci-Fi',\n",
       " 'Action|Adventure|Mystery',\n",
       " 'Drama|Mystery|Thriller',\n",
       " \"Action|Animation|Children's|Sci-Fi|Thriller|War\",\n",
       " \"Action|Adventure|Children's|Sci-Fi\",\n",
       " 'Action|Comedy|Western',\n",
       " 'Action',\n",
       " \"Adventure|Children's|Drama|Musical\",\n",
       " \"Adventure|Animation|Children's|Comedy|Musical\",\n",
       " 'Drama|Musical',\n",
       " 'Romance|Western',\n",
       " \"Action|Children's\",\n",
       " 'Action|Crime|Mystery|Thriller',\n",
       " \"Animation|Children's|Fantasy|War\",\n",
       " \"Adventure|Children's|Comedy|Fantasy|Romance\",\n",
       " \"Children's|Comedy|Western\",\n",
       " 'Action|Drama|War',\n",
       " 'Action|Crime|Sci-Fi',\n",
       " 'Action|Comedy|Musical|Sci-Fi',\n",
       " 'Comedy|Film-Noir|Thriller',\n",
       " 'Drama|Fantasy|Romance|Thriller',\n",
       " 'Action|Adventure|Romance|Sci-Fi|War',\n",
       " 'Film-Noir|Sci-Fi|Thriller',\n",
       " 'Animation|Musical',\n",
       " \"Animation|Children's|Drama|Fantasy\",\n",
       " 'Comedy|Musical|Romance',\n",
       " 'Crime|Drama|Film-Noir',\n",
       " 'Drama|Thriller|War',\n",
       " 'Action|Mystery|Sci-Fi|Thriller',\n",
       " 'War',\n",
       " 'Drama|Mystery|Romance',\n",
       " 'Adventure|Comedy|Musical',\n",
       " 'Action|Comedy|Musical',\n",
       " \"Animation|Children's|Fantasy|Musical\",\n",
       " 'Crime|Drama|Film-Noir|Thriller',\n",
       " 'Drama|Fantasy',\n",
       " 'Adventure|War',\n",
       " \"Adventure|Animation|Children's\",\n",
       " 'Action|Comedy',\n",
       " 'Action|Drama|Mystery|Romance|Thriller',\n",
       " 'Crime|Drama|Romance',\n",
       " 'Action|Adventure|Drama',\n",
       " 'Mystery|Romance|Thriller',\n",
       " 'Action|Comedy|Crime|Drama',\n",
       " 'Comedy|Mystery|Thriller',\n",
       " 'Drama|Romance|War',\n",
       " 'Romance|War',\n",
       " 'Action|Adventure|Sci-Fi|Thriller|War',\n",
       " 'Adventure|Western',\n",
       " 'Adventure|Drama|Western',\n",
       " 'Action|Comedy|Crime',\n",
       " 'Comedy|Crime|Horror',\n",
       " 'Action|Sci-Fi|Thriller|War',\n",
       " 'Action|Drama|Western',\n",
       " 'Comedy|Sci-Fi|Western',\n",
       " 'Adventure|Sci-Fi',\n",
       " \"Adventure|Children's|Drama|Romance\",\n",
       " \"Adventure|Children's\",\n",
       " 'Action|Horror|Thriller',\n",
       " 'Sci-Fi|War',\n",
       " 'Adventure|Drama|Romance',\n",
       " 'Action|Adventure|Comedy|Horror|Sci-Fi',\n",
       " 'Action|Horror',\n",
       " 'Film-Noir|Mystery|Thriller',\n",
       " 'Western',\n",
       " 'Drama|Sci-Fi|Thriller',\n",
       " 'Film-Noir|Romance|Thriller',\n",
       " 'Documentary',\n",
       " 'Crime|Drama|Romance|Thriller',\n",
       " 'Action|Comedy|Fantasy',\n",
       " 'Drama|Romance',\n",
       " 'Comedy|Crime|Drama|Mystery',\n",
       " 'Action|Sci-Fi',\n",
       " 'Drama|Western',\n",
       " \"Action|Adventure|Children's\",\n",
       " \"Action|Adventure|Children's|Comedy\",\n",
       " \"Children's|Comedy|Mystery\",\n",
       " 'Action|Horror|Sci-Fi|Thriller',\n",
       " 'Comedy|Mystery|Romance|Thriller',\n",
       " \"Children's|Drama|Fantasy\",\n",
       " \"Adventure|Children's|Fantasy|Sci-Fi\",\n",
       " 'Drama|Thriller',\n",
       " 'Adventure|Comedy|Drama',\n",
       " 'Adventure|Animation|Sci-Fi|Thriller',\n",
       " \"Adventure|Children's|Romance\",\n",
       " 'Action|Adventure|Comedy',\n",
       " 'Action|Romance|War',\n",
       " 'Crime|Drama|Sci-Fi',\n",
       " 'Film-Noir|Mystery',\n",
       " 'Horror|Romance',\n",
       " 'Action|Drama|Mystery',\n",
       " 'Action|Comedy|Drama',\n",
       " 'Mystery|Sci-Fi|Thriller',\n",
       " 'Crime',\n",
       " 'Mystery|Sci-Fi',\n",
       " 'Action|Crime|Romance',\n",
       " \"Adventure|Animation|Children's|Fantasy\",\n",
       " 'Action|Adventure|Sci-Fi',\n",
       " 'Musical|War',\n",
       " 'Comedy',\n",
       " 'Action|Mystery|Thriller',\n",
       " \"Adventure|Children's|Sci-Fi\",\n",
       " \"Children's|Horror\",\n",
       " 'Film-Noir|Thriller',\n",
       " 'Action|Adventure|Comedy|Romance',\n",
       " 'Action|Adventure|Romance',\n",
       " 'Action|Thriller|War',\n",
       " 'Action|Drama|Romance',\n",
       " 'Adventure|Drama|Thriller',\n",
       " \"Children's|Drama|Fantasy|Sci-Fi\",\n",
       " 'Action|Adventure|Comedy|Crime',\n",
       " 'Comedy|Drama|Sci-Fi',\n",
       " \"Animation|Children's|Comedy|Musical\",\n",
       " 'Crime|Horror',\n",
       " 'Drama|Horror',\n",
       " 'Sci-Fi',\n",
       " 'Action|Drama|Thriller|War',\n",
       " 'Horror|Thriller',\n",
       " \"Children's|Comedy|Drama\",\n",
       " 'Action|Adventure|Romance|War',\n",
       " 'Adventure|Comedy|Sci-Fi',\n",
       " 'Animation|Comedy|Thriller',\n",
       " 'Action|Adventure|Fantasy',\n",
       " 'Action|Sci-Fi|Thriller',\n",
       " 'Action|Adventure|Animation',\n",
       " 'Animation|Mystery',\n",
       " 'Film-Noir|Horror',\n",
       " 'Action|Drama|Fantasy|Romance',\n",
       " 'Comedy|Sci-Fi',\n",
       " 'Crime|Film-Noir',\n",
       " 'Comedy|Horror|Musical',\n",
       " \"Adventure|Children's|Comedy|Fantasy|Sci-Fi\",\n",
       " 'Crime|Film-Noir|Thriller',\n",
       " 'Comedy|Crime|Mystery|Thriller',\n",
       " 'Crime|Mystery',\n",
       " \"Adventure|Children's|Comedy|Fantasy\",\n",
       " 'Drama',\n",
       " 'Action|Mystery|Romance|Thriller',\n",
       " 'Animation',\n",
       " \"Children's|Fantasy|Sci-Fi\",\n",
       " 'Crime|Drama|Mystery',\n",
       " 'Thriller',\n",
       " 'Drama|Musical|War',\n",
       " \"Children's|Fantasy\",\n",
       " 'Action|Sci-Fi|Thriller|Western',\n",
       " 'Action|Adventure|Romance|Thriller',\n",
       " 'Comedy|Horror',\n",
       " 'Comedy|Drama|War',\n",
       " 'Action|Adventure',\n",
       " 'Action|Adventure|Drama|Sci-Fi|War',\n",
       " 'Action|Adventure|Thriller',\n",
       " 'Film-Noir',\n",
       " 'Action|Crime|Mystery',\n",
       " 'Action|Adventure|Drama|Romance',\n",
       " \"Animation|Children's|Comedy|Musical|Romance\",\n",
       " 'Comedy|War',\n",
       " 'Sci-Fi|Thriller|War',\n",
       " \"Adventure|Children's|Comedy|Musical\",\n",
       " \"Adventure|Animation|Children's|Comedy|Fantasy\",\n",
       " 'Action|Adventure|Western',\n",
       " 'Mystery|Thriller',\n",
       " \"Children's|Musical\",\n",
       " 'Action|War',\n",
       " 'Adventure|Animation|Sci-Fi',\n",
       " 'Comedy|Drama|Thriller',\n",
       " 'Drama|Romance|Sci-Fi',\n",
       " 'Adventure|Fantasy|Romance',\n",
       " 'Action|Drama|Thriller',\n",
       " \"Children's|Comedy|Sci-Fi\",\n",
       " 'Drama|War',\n",
       " 'Comedy|Horror|Thriller',\n",
       " 'Comedy|Drama',\n",
       " 'Documentary|War',\n",
       " 'Drama|Romance|Western',\n",
       " 'Comedy|Drama|Musical',\n",
       " 'Drama|Romance|Thriller',\n",
       " 'Action|Western',\n",
       " 'Action|Comedy|Sci-Fi|War',\n",
       " 'Comedy|Crime|Thriller',\n",
       " 'Comedy|Drama|Western',\n",
       " \"Animation|Children's\",\n",
       " 'Action|Adventure|Sci-Fi|War',\n",
       " 'Comedy|Romance|War',\n",
       " \"Action|Children's|Fantasy\",\n",
       " 'Action|Crime',\n",
       " 'Drama|Mystery|Sci-Fi|Thriller',\n",
       " \"Adventure|Children's|Comedy\",\n",
       " 'Action|Adventure|Crime|Thriller',\n",
       " 'Crime|Drama|Mystery|Thriller',\n",
       " 'Comedy|Horror|Musical|Sci-Fi',\n",
       " 'Comedy|Fantasy',\n",
       " 'Action|Thriller',\n",
       " \"Children's|Sci-Fi\",\n",
       " \"Children's|Comedy|Fantasy\",\n",
       " \"Adventure|Animation|Children's|Musical\",\n",
       " 'Comedy|Mystery|Romance',\n",
       " \"Adventure|Children's|Fantasy\",\n",
       " 'Action|Crime|Drama',\n",
       " 'Adventure|Fantasy',\n",
       " 'Comedy|Musical',\n",
       " 'Horror|Mystery|Thriller',\n",
       " 'Action|Adventure|Comedy|Sci-Fi',\n",
       " 'Comedy|Horror|Sci-Fi',\n",
       " 'Action|Crime|Drama|Thriller',\n",
       " 'Drama|Film-Noir',\n",
       " 'Adventure|Thriller',\n",
       " 'Sci-Fi|Thriller',\n",
       " 'Musical|Romance',\n",
       " 'Fantasy|Sci-Fi',\n",
       " 'Drama|Horror|Thriller',\n",
       " 'Crime|Film-Noir|Mystery',\n",
       " \"Children's|Fantasy|Musical\",\n",
       " 'Action|Adventure|Fantasy|Sci-Fi',\n",
       " 'Fantasy',\n",
       " 'Comedy|Crime|Drama',\n",
       " 'Action|Romance',\n",
       " 'Comedy|Documentary',\n",
       " 'Action|Adventure|Mystery|Sci-Fi',\n",
       " 'Horror|Sci-Fi',\n",
       " 'Comedy|Thriller',\n",
       " 'Action|Romance|Thriller',\n",
       " 'Musical|Romance|War',\n",
       " 'Horror|Mystery',\n",
       " 'Comedy|Crime|Fantasy',\n",
       " 'Crime|Drama|Thriller',\n",
       " 'Crime|Horror|Thriller',\n",
       " \"Action|Adventure|Children's|Fantasy\",\n",
       " 'Action|Comedy|War',\n",
       " 'Documentary|Drama',\n",
       " 'Musical',\n",
       " \"Children's|Comedy\",\n",
       " 'Adventure|Fantasy|Sci-Fi',\n",
       " 'Action|Horror|Sci-Fi',\n",
       " 'Action|Drama|Sci-Fi|Thriller',\n",
       " 'Adventure|Romance|Sci-Fi',\n",
       " 'Comedy|Western',\n",
       " \"Animation|Children's|Comedy|Romance\",\n",
       " 'Film-Noir|Sci-Fi',\n",
       " 'Action|Comedy|Sci-Fi|Thriller',\n",
       " 'Adventure|Sci-Fi|Thriller',\n",
       " \"Children's|Comedy|Musical\",\n",
       " 'Comedy|Drama|Romance',\n",
       " 'Adventure|Musical|Romance',\n",
       " 'Crime|Drama',\n",
       " 'Animation|Sci-Fi',\n",
       " 'Mystery',\n",
       " \"Adventure|Children's|Musical\",\n",
       " 'Adventure|Animation|Film-Noir',\n",
       " 'Adventure|Musical',\n",
       " 'Action|Comedy|Romance|Thriller',\n",
       " 'Drama|Romance|War|Western',\n",
       " 'Action|Romance|Sci-Fi',\n",
       " 'Action|Comedy|Crime|Horror|Thriller',\n",
       " 'Action|Drama',\n",
       " 'Adventure|Crime|Sci-Fi|Thriller',\n",
       " 'Drama|Mystery',\n",
       " 'Action|Crime|Thriller']"
      ]
     },
     "execution_count": 28,
     "metadata": {},
     "output_type": "execute_result"
    }
   ],
   "source": [
    "peli.map(lambda x: x[2]).distinct().collect() #veo que es 'Action'"
   ]
  },
  {
   "cell_type": "markdown",
   "metadata": {},
   "source": [
    "Primero tenemos que seleccionar las películas que tengan como tipo \"Action\", junto con su id de película, para luego (a partir del id de película) buscar la puntuacion de cada una y sacar la media.  "
   ]
  },
  {
   "cell_type": "code",
   "execution_count": 29,
   "metadata": {
    "collapsed": false
   },
   "outputs": [
    {
     "data": {
      "text/plain": [
       "[['6', 'Heat (1995)', 'Action|Crime|Thriller']]"
      ]
     },
     "execution_count": 29,
     "metadata": {},
     "output_type": "execute_result"
    }
   ],
   "source": [
    "#seleccionamos las peliculas de acción\n",
    "peliAction = peli.filter(lambda x: 'Action' in x[2]) \n",
    "peliAction.take(1)"
   ]
  },
  {
   "cell_type": "code",
   "execution_count": 30,
   "metadata": {
    "collapsed": false
   },
   "outputs": [
    {
     "data": {
      "text/plain": [
       "[('6', 'Action|Crime|Thriller')]"
      ]
     },
     "execution_count": 30,
     "metadata": {},
     "output_type": "execute_result"
    }
   ],
   "source": [
    "#no nos quedamos con los títulos porque no nos interesa\n",
    "peliAction = peliAction.map(lambda x: (x[0], x[2]))\n",
    "peliAction.take(1)"
   ]
  },
  {
   "cell_type": "markdown",
   "metadata": {},
   "source": [
    "Ahora seleccionamos de la base de datos de ratings, los id de pelicula con la puntuacion para los que sean del año 2000"
   ]
  },
  {
   "cell_type": "code",
   "execution_count": 31,
   "metadata": {
    "collapsed": true
   },
   "outputs": [],
   "source": [
    "#Seleccionamos las variables de la base de datos de ratings que nos interesa, y transformmos a \n",
    "#numérica la puntuación\n",
    "ratAction = ratings.map(lambda x: (x[0], int(x[2]), x[3]))"
   ]
  },
  {
   "cell_type": "code",
   "execution_count": 32,
   "metadata": {
    "collapsed": false
   },
   "outputs": [
    {
     "data": {
      "text/plain": [
       "[('1', 5, 2000)]"
      ]
     },
     "execution_count": 32,
     "metadata": {},
     "output_type": "execute_result"
    }
   ],
   "source": [
    "ratAction.take(1)"
   ]
  },
  {
   "cell_type": "code",
   "execution_count": 33,
   "metadata": {
    "collapsed": false
   },
   "outputs": [
    {
     "data": {
      "text/plain": [
       "[('1', 5, 2000)]"
      ]
     },
     "execution_count": 33,
     "metadata": {},
     "output_type": "execute_result"
    }
   ],
   "source": [
    "#filtramos las observaciones para el año 2000\n",
    "ratAction2 = ratAction.filter(lambda x: x[2] == 2000)\n",
    "ratAction2.take(1)"
   ]
  },
  {
   "cell_type": "code",
   "execution_count": 34,
   "metadata": {
    "collapsed": false
   },
   "outputs": [
    {
     "data": {
      "text/plain": [
       "[('1', 5, 2000),\n",
       " ('1', 3, 2000),\n",
       " ('1', 3, 2000),\n",
       " ('1', 4, 2000),\n",
       " ('1', 3, 2000),\n",
       " ('1', 5, 2000),\n",
       " ('1', 5, 2000),\n",
       " ('1', 4, 2000),\n",
       " ('1', 4, 2000),\n",
       " ('1', 4, 2000)]"
      ]
     },
     "execution_count": 34,
     "metadata": {},
     "output_type": "execute_result"
    }
   ],
   "source": [
    "ratAction2.take(10)"
   ]
  },
  {
   "cell_type": "markdown",
   "metadata": {},
   "source": [
    "Nos interesa la media de todas las películas de Acción, no nos interesa el id de película, así que utilizamos el mismo índice para todas ('Acción') y sumamos todas las puntuaciones para luego calcular la media "
   ]
  },
  {
   "cell_type": "code",
   "execution_count": 44,
   "metadata": {
    "collapsed": true
   },
   "outputs": [],
   "source": [
    "ratActionTotal = ratAction2.map(lambda x: ('Acción', x[1]))"
   ]
  },
  {
   "cell_type": "code",
   "execution_count": 45,
   "metadata": {
    "collapsed": true
   },
   "outputs": [],
   "source": [
    "#aquí tenemos la suma de todas las puntuaciones de las películas de acción\n",
    "ratActionTotal = ratActionTotal.reduceByKey(lambda x, y: x + y) "
   ]
  },
  {
   "cell_type": "code",
   "execution_count": 46,
   "metadata": {
    "collapsed": false
   },
   "outputs": [
    {
     "data": {
      "text/plain": [
       "[('Acción', 3248432)]"
      ]
     },
     "execution_count": 46,
     "metadata": {},
     "output_type": "execute_result"
    }
   ],
   "source": [
    "ratActionTotal.take(1) "
   ]
  },
  {
   "cell_type": "markdown",
   "metadata": {},
   "source": [
    "Calculamos el número de veces que se ha votado para la obtención de la media"
   ]
  },
  {
   "cell_type": "code",
   "execution_count": 41,
   "metadata": {
    "collapsed": true
   },
   "outputs": [],
   "source": [
    "mediaAction = ratAction2.map(lambda x: ('Acción', 1))\n",
    "mediaAction = mediaAction.reduceByKey(lambda x, y: x + y)"
   ]
  },
  {
   "cell_type": "code",
   "execution_count": 42,
   "metadata": {
    "collapsed": false
   },
   "outputs": [
    {
     "data": {
      "text/plain": [
       "[('Acción', 904757)]"
      ]
     },
     "execution_count": 42,
     "metadata": {},
     "output_type": "execute_result"
    }
   ],
   "source": [
    "mediaAction.take(1)"
   ]
  },
  {
   "cell_type": "code",
   "execution_count": 47,
   "metadata": {
    "collapsed": false
   },
   "outputs": [
    {
     "data": {
      "text/plain": [
       "[('Acción', (3248432, 904757))]"
      ]
     },
     "execution_count": 47,
     "metadata": {},
     "output_type": "execute_result"
    }
   ],
   "source": [
    "mediaAction2 = ratActionTotal.join(mediaAction)\n",
    "mediaAction2.take(1)"
   ]
  },
  {
   "cell_type": "code",
   "execution_count": 53,
   "metadata": {
    "collapsed": false
   },
   "outputs": [
    {
     "data": {
      "text/plain": [
       "[('Acción', 3.59)]"
      ]
     },
     "execution_count": 53,
     "metadata": {},
     "output_type": "execute_result"
    }
   ],
   "source": [
    "mediaAction3 = mediaAction2.map(lambda x: (x[0], round((x[1][0]/x[1][1]),2)))\n",
    "mediaAction3.take(1)                             "
   ]
  },
  {
   "cell_type": "markdown",
   "metadata": {},
   "source": [
    "## Quinta pregunta: ¿ Cuál es el año en que mayor número de usuarios votaron?"
   ]
  },
  {
   "cell_type": "markdown",
   "metadata": {
    "collapsed": true
   },
   "source": [
    "Primero guardamos lo que nos interesa de ratings: el año, y el id de usuario"
   ]
  },
  {
   "cell_type": "code",
   "execution_count": 54,
   "metadata": {
    "collapsed": false
   },
   "outputs": [],
   "source": [
    "ratusuarios = ratings.map(lambda x: (x[1], x[3])).distinct()"
   ]
  },
  {
   "cell_type": "code",
   "execution_count": 55,
   "metadata": {
    "collapsed": false
   },
   "outputs": [
    {
     "data": {
      "text/plain": [
       "[('2435', 2000), ('3524', 2002), ('2306', 2001)]"
      ]
     },
     "execution_count": 55,
     "metadata": {},
     "output_type": "execute_result"
    }
   ],
   "source": [
    "ratusuarios.take(3)"
   ]
  },
  {
   "cell_type": "markdown",
   "metadata": {},
   "source": [
    "Ahora contamos cuantos hay por año "
   ]
  },
  {
   "cell_type": "code",
   "execution_count": 56,
   "metadata": {
    "collapsed": true
   },
   "outputs": [],
   "source": [
    "numYear = ratusuarios.map(lambda x: (x[1], 1))\n",
    "numYear = numYear.reduceByKey(lambda x, y: x + y)"
   ]
  },
  {
   "cell_type": "code",
   "execution_count": 57,
   "metadata": {
    "collapsed": false
   },
   "outputs": [
    {
     "data": {
      "text/plain": [
       "[(2000, 3678), (2001, 3289), (2002, 2971), (2003, 1601)]"
      ]
     },
     "execution_count": 57,
     "metadata": {},
     "output_type": "execute_result"
    }
   ],
   "source": [
    "numYear.take(5)"
   ]
  },
  {
   "cell_type": "code",
   "execution_count": 58,
   "metadata": {
    "collapsed": false
   },
   "outputs": [
    {
     "data": {
      "text/plain": [
       "(2000, 3678)"
      ]
     },
     "execution_count": 58,
     "metadata": {},
     "output_type": "execute_result"
    }
   ],
   "source": [
    "numYear.max(lambda x: x[1])"
   ]
  },
  {
   "cell_type": "markdown",
   "metadata": {},
   "source": [
    "En el año 2000 votaron mayor número de usuarios (3678 usuarios)"
   ]
  },
  {
   "cell_type": "markdown",
   "metadata": {},
   "source": [
    "## Sexta pregunta: ¿ Cuál es la película con mejor puntación media?"
   ]
  },
  {
   "cell_type": "markdown",
   "metadata": {
    "collapsed": true
   },
   "source": [
    "Primero nos quedamos con las columnas que nos interesan en cada base de datos:  con el id de pelicula y el título (para la base de datos de 'peli') y con el id de película y la puntuación (para la base de datos de ratings)."
   ]
  },
  {
   "cell_type": "code",
   "execution_count": 59,
   "metadata": {
    "collapsed": true
   },
   "outputs": [],
   "source": [
    "peliculas = peli.map(lambda x: (x[0], x[1]))"
   ]
  },
  {
   "cell_type": "code",
   "execution_count": 60,
   "metadata": {
    "collapsed": false
   },
   "outputs": [
    {
     "data": {
      "text/plain": [
       "[('1', 'Toy Story (1995)'), ('2', 'Jumanji (1995)')]"
      ]
     },
     "execution_count": 60,
     "metadata": {},
     "output_type": "execute_result"
    }
   ],
   "source": [
    "peliculas.take(2)"
   ]
  },
  {
   "cell_type": "code",
   "execution_count": 61,
   "metadata": {
    "collapsed": false
   },
   "outputs": [
    {
     "data": {
      "text/plain": [
       "[('1', 5), ('1', 3)]"
      ]
     },
     "execution_count": 61,
     "metadata": {},
     "output_type": "execute_result"
    }
   ],
   "source": [
    "puntu = ratings.map(lambda x: (x[0], x[2]))\n",
    "puntu.take(2)"
   ]
  },
  {
   "cell_type": "markdown",
   "metadata": {},
   "source": [
    "Sumamos las puntuaciones para cada película "
   ]
  },
  {
   "cell_type": "code",
   "execution_count": 62,
   "metadata": {
    "collapsed": false
   },
   "outputs": [
    {
     "data": {
      "text/plain": [
       "[('4334', 564), ('4986', 118)]"
      ]
     },
     "execution_count": 62,
     "metadata": {},
     "output_type": "execute_result"
    }
   ],
   "source": [
    "puntupeli = puntu.map(lambda x: (x[0], x[1]))\n",
    "puntupeli = puntupeli.reduceByKey(lambda x, y: x + y)\n",
    "puntupeli.take(2)"
   ]
  },
  {
   "cell_type": "markdown",
   "metadata": {},
   "source": [
    "Vemos cuantas veces se ha votado para cada pelicula"
   ]
  },
  {
   "cell_type": "code",
   "execution_count": 63,
   "metadata": {
    "collapsed": false
   },
   "outputs": [
    {
     "data": {
      "text/plain": [
       "[('4334', 157), ('4986', 27)]"
      ]
     },
     "execution_count": 63,
     "metadata": {},
     "output_type": "execute_result"
    }
   ],
   "source": [
    "numpeli = puntu.map(lambda x: (x[0],1))\n",
    "numpeli = numpeli.reduceByKey(lambda x, y: x + y)\n",
    "numpeli.take(2)"
   ]
  },
  {
   "cell_type": "markdown",
   "metadata": {},
   "source": [
    "Unimos las dos bases de datos"
   ]
  },
  {
   "cell_type": "code",
   "execution_count": 64,
   "metadata": {
    "collapsed": false
   },
   "outputs": [
    {
     "data": {
      "text/plain": [
       "[('4334', (564, 157)), ('4986', (118, 27)), ('2265', (845, 232))]"
      ]
     },
     "execution_count": 64,
     "metadata": {},
     "output_type": "execute_result"
    }
   ],
   "source": [
    "puntotal = puntupeli.join(numpeli)\n",
    "puntotal.take(3)"
   ]
  },
  {
   "cell_type": "markdown",
   "metadata": {},
   "source": [
    "Y calculamos las medias, redondeando con dos decimales."
   ]
  },
  {
   "cell_type": "code",
   "execution_count": 65,
   "metadata": {
    "collapsed": false
   },
   "outputs": [
    {
     "data": {
      "text/plain": [
       "[('4334', 3.59), ('4986', 4.37), ('2265', 3.64)]"
      ]
     },
     "execution_count": 65,
     "metadata": {},
     "output_type": "execute_result"
    }
   ],
   "source": [
    "mediaPeli = puntotal.map(lambda x: (x[0], round((x[1][0]/x[1][1]),2)))\n",
    "mediaPeli.take(3)"
   ]
  },
  {
   "cell_type": "code",
   "execution_count": 66,
   "metadata": {
    "collapsed": false
   },
   "outputs": [
    {
     "data": {
      "text/plain": [
       "[('2250', (3.07, \"Men Don't Leave (1990)\")),\n",
       " ('2265', (3.64, 'Nothing But Trouble (1991)'))]"
      ]
     },
     "execution_count": 66,
     "metadata": {},
     "output_type": "execute_result"
    }
   ],
   "source": [
    "mediaPeliFinal = mediaPeli.join(peliculas)\n",
    "mediaPeliFinal.take(2)"
   ]
  },
  {
   "cell_type": "code",
   "execution_count": 67,
   "metadata": {
    "collapsed": false
   },
   "outputs": [
    {
     "data": {
      "text/plain": [
       "('283', (4.96, 'New Jersey Drive (1995)'))"
      ]
     },
     "execution_count": 67,
     "metadata": {},
     "output_type": "execute_result"
    }
   ],
   "source": [
    "mediaPeliFinal.max(lambda x: x[1])"
   ]
  },
  {
   "cell_type": "markdown",
   "metadata": {},
   "source": [
    "Obtenemos que la película con la nota media más alta es New Jersey Drive (1995), con un 4.96"
   ]
  },
  {
   "cell_type": "code",
   "execution_count": 68,
   "metadata": {
    "collapsed": true
   },
   "outputs": [],
   "source": [
    "sc.stop()"
   ]
  },
  {
   "cell_type": "code",
   "execution_count": null,
   "metadata": {
    "collapsed": true
   },
   "outputs": [],
   "source": []
  }
 ],
 "metadata": {
  "kernelspec": {
   "display_name": "Python 3",
   "language": "python",
   "name": "python3"
  },
  "language_info": {
   "codemirror_mode": {
    "name": "ipython",
    "version": 3
   },
   "file_extension": ".py",
   "mimetype": "text/x-python",
   "name": "python",
   "nbconvert_exporter": "python",
   "pygments_lexer": "ipython3",
   "version": "3.5.2"
  }
 },
 "nbformat": 4,
 "nbformat_minor": 2
}
