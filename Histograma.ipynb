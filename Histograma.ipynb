{
  "nbformat": 4,
  "nbformat_minor": 0,
  "metadata": {
    "colab": {
      "name": "Histograma.ipynb",
      "provenance": [],
      "collapsed_sections": []
    },
    "kernelspec": {
      "name": "python3",
      "display_name": "Python 3"
    }
  },
  "cells": [
    {
      "cell_type": "markdown",
      "metadata": {
        "id": "pweEzboHwMA1"
      },
      "source": [
        "*Francisco del Val Yagüe*\r\n"
      ]
    },
    {
      "cell_type": "markdown",
      "metadata": {
        "id": "EKMU7LFkKX87"
      },
      "source": [
        "## Histograma de los puntos de los visitantes"
      ]
    },
    {
      "cell_type": "markdown",
      "metadata": {
        "id": "OOMf5sPjKqXw"
      },
      "source": [
        "__OBJETIVO:__ \n",
        "\n",
        "Replicar la función histogram de los rdd, esta nos ofrece una lista de tuplas formadas por los cortes de las columnas y las frecuencias de cada columna.\n",
        "\n",
        "Realizo un mapeo sobre el rdd liga_parsed y me quedo con los puntos de los equipos visitantes."
      ]
    },
    {
      "cell_type": "markdown",
      "metadata": {
        "id": "Sqr5GnksMRPD"
      },
      "source": [
        "\n",
        "En primer lugar se ha de inicializar el contexto spark."
      ]
    },
    {
      "cell_type": "code",
      "metadata": {
        "id": "4E1W3tzYxR7P"
      },
      "source": [
        "!apt-get install openjdk-8-jdk-headless -qq > /dev/null\r\n",
        "!wget -q https://www-us.apache.org/dist/spark/spark-2.4.7/spark-2.4.7-bin-hadoop2.7.tgz\r\n",
        "!tar xf spark-2.4.7-bin-hadoop2.7.tgz #descomprime el fichero\r\n",
        "!pip install -q findspark #instala spark\r\n",
        "\r\n",
        "import os\r\n",
        "os.environ[\"JAVA_HOME\"] = \"/usr/lib/jvm/java-8-openjdk-amd64\" \r\n",
        "os.environ[\"SPARK_HOME\"] = \"/content/spark-2.4.7-bin-hadoop2.7\"\r\n",
        "\r\n",
        "import findspark #para trabajar con spark\r\n",
        "findspark.init()\r\n",
        "from pyspark import SparkContext\r\n",
        "sc = SparkContext()\r\n",
        "from pyspark.sql import SparkSession\r\n",
        "spark = SparkSession.builder.master(\"local[*]\").getOrCreate() "
      ],
      "execution_count": null,
      "outputs": []
    },
    {
      "cell_type": "markdown",
      "metadata": {
        "id": "9Dk3ocioMer5"
      },
      "source": [
        "\n",
        "Ahora cargamos el archivo propiamente dicho:"
      ]
    },
    {
      "cell_type": "code",
      "metadata": {
        "id": "-xJsWNTkMhFx"
      },
      "source": [
        "data= \"partidosLigaNBA.csv\"\n",
        "nba = sc.textFile(data)  "
      ],
      "execution_count": null,
      "outputs": []
    },
    {
      "cell_type": "code",
      "metadata": {
        "id": "CDQvmKRlLlSX",
        "colab": {
          "base_uri": "https://localhost:8080/"
        },
        "outputId": "a52d7e8f-9712-457b-ce72-ed1bd6579331"
      },
      "source": [
        "nba.count() #count es funcion de accion: nos devuelve datos"
      ],
      "execution_count": null,
      "outputs": [
        {
          "output_type": "execute_result",
          "data": {
            "text/plain": [
              "12908"
            ]
          },
          "metadata": {
            "tags": []
          },
          "execution_count": 5
        }
      ]
    },
    {
      "cell_type": "code",
      "metadata": {
        "colab": {
          "base_uri": "https://localhost:8080/"
        },
        "id": "FuqGE17jzljY",
        "outputId": "9362812c-c615-4f3b-8f18-e284cb4eee26"
      },
      "source": [
        "nba.take(5) # quitamos la cabecera del fichero"
      ],
      "execution_count": null,
      "outputs": [
        {
          "output_type": "execute_result",
          "data": {
            "text/plain": [
              "['Date:Start..ET.:Visitor.Neutral:PTS:Home.Neutral:PTS.1',\n",
              " 'Tue, Oct 30, 2007:\"7:30 pm\":Utah Jazz:117:Golden State Warriors:96',\n",
              " 'Tue, Oct 30, 2007:\"7:30 pm\":Houston Rockets:95:Los Angeles Lakers:93',\n",
              " 'Tue, Oct 30, 2007:\"7:00 pm\":Portland Trail Blazers:97:San Antonio Spurs:106',\n",
              " 'Wed, Oct 31, 2007:\"8:00 pm\":Dallas Mavericks:92:Cleveland Cavaliers:74']"
            ]
          },
          "metadata": {
            "tags": []
          },
          "execution_count": 7
        }
      ]
    },
    {
      "cell_type": "code",
      "metadata": {
        "colab": {
          "base_uri": "https://localhost:8080/"
        },
        "id": "b9OMl4w8zyRC",
        "outputId": "83a5472a-6151-4687-d984-dfd2ba0d9ea0"
      },
      "source": [
        "#¿cómo quitar la cabecera con spark?\r\n",
        "head_nba = nba.take(1)[0] #damos un valor a take(1)[0]\r\n",
        "wh_nba = nba.filter(lambda x: x != head_nba) #creamos un filtro con lambda para eliminar la cabecera\r\n",
        "wh_nba.take(5) #hasta que no se haga la funcion take de accion, no se ejecuta lambda de arriba"
      ],
      "execution_count": null,
      "outputs": [
        {
          "output_type": "execute_result",
          "data": {
            "text/plain": [
              "['Tue, Oct 30, 2007:\"7:30 pm\":Utah Jazz:117:Golden State Warriors:96',\n",
              " 'Tue, Oct 30, 2007:\"7:30 pm\":Houston Rockets:95:Los Angeles Lakers:93',\n",
              " 'Tue, Oct 30, 2007:\"7:00 pm\":Portland Trail Blazers:97:San Antonio Spurs:106',\n",
              " 'Wed, Oct 31, 2007:\"8:00 pm\":Dallas Mavericks:92:Cleveland Cavaliers:74',\n",
              " 'Wed, Oct 31, 2007:\"8:30 pm\":Seattle SuperSonics:103:Denver Nuggets:120']"
            ]
          },
          "metadata": {
            "tags": []
          },
          "execution_count": 8
        }
      ]
    },
    {
      "cell_type": "markdown",
      "metadata": {
        "id": "CxC4qhI50lpZ"
      },
      "source": [
        "\r\n",
        "Aplicamos map para separar los elementos en una lista para poder trabajar con ellos:\r\n"
      ]
    },
    {
      "cell_type": "code",
      "metadata": {
        "colab": {
          "base_uri": "https://localhost:8080/"
        },
        "id": "Fpm75u0j0t_t",
        "outputId": "3b18784f-fe05-4ac9-c4d1-9a168819ed16"
      },
      "source": [
        "wh_nba = nba.filter(lambda x: x != head_nba).map(lambda x: x.split(\":\")) \r\n",
        "wh_nba.take(5) #hasta que no hacemos take,  no se ejecuta el lambda de arriba"
      ],
      "execution_count": null,
      "outputs": [
        {
          "output_type": "execute_result",
          "data": {
            "text/plain": [
              "[['Tue, Oct 30, 2007',\n",
              "  '\"7',\n",
              "  '30 pm\"',\n",
              "  'Utah Jazz',\n",
              "  '117',\n",
              "  'Golden State Warriors',\n",
              "  '96'],\n",
              " ['Tue, Oct 30, 2007',\n",
              "  '\"7',\n",
              "  '30 pm\"',\n",
              "  'Houston Rockets',\n",
              "  '95',\n",
              "  'Los Angeles Lakers',\n",
              "  '93'],\n",
              " ['Tue, Oct 30, 2007',\n",
              "  '\"7',\n",
              "  '00 pm\"',\n",
              "  'Portland Trail Blazers',\n",
              "  '97',\n",
              "  'San Antonio Spurs',\n",
              "  '106'],\n",
              " ['Wed, Oct 31, 2007',\n",
              "  '\"8',\n",
              "  '00 pm\"',\n",
              "  'Dallas Mavericks',\n",
              "  '92',\n",
              "  'Cleveland Cavaliers',\n",
              "  '74'],\n",
              " ['Wed, Oct 31, 2007',\n",
              "  '\"8',\n",
              "  '30 pm\"',\n",
              "  'Seattle SuperSonics',\n",
              "  '103',\n",
              "  'Denver Nuggets',\n",
              "  '120']]"
            ]
          },
          "metadata": {
            "tags": []
          },
          "execution_count": 9
        }
      ]
    },
    {
      "cell_type": "markdown",
      "metadata": {
        "id": "-M-DDtlo1Bdn"
      },
      "source": [
        "Cogemo el ultimo elemento de la lista:"
      ]
    },
    {
      "cell_type": "code",
      "metadata": {
        "colab": {
          "base_uri": "https://localhost:8080/"
        },
        "id": "ot6Yx8TK1WiB",
        "outputId": "8dd6078c-eef9-4224-c40f-224f12b5694b"
      },
      "source": [
        "wh_nba = nba.filter(lambda x: x != head_nba).map(lambda x: x.split(\":\")[-1]) \r\n",
        "wh_nba.take(5) "
      ],
      "execution_count": null,
      "outputs": [
        {
          "output_type": "execute_result",
          "data": {
            "text/plain": [
              "['96', '93', '106', '74', '120']"
            ]
          },
          "metadata": {
            "tags": []
          },
          "execution_count": 10
        }
      ]
    },
    {
      "cell_type": "markdown",
      "metadata": {
        "id": "AqsqdefW1kf2"
      },
      "source": [
        "Pasamos los numeros en formato string a enteros:"
      ]
    },
    {
      "cell_type": "code",
      "metadata": {
        "colab": {
          "base_uri": "https://localhost:8080/"
        },
        "id": "9axqVLkU6cPN",
        "outputId": "ec8d038b-370c-42d4-e47b-54c863ea667f"
      },
      "source": [
        "wh_nba = nba.filter(lambda s: s != head_nba) \\\r\n",
        "                      .map(lambda s: s.split(\":\")[-1]) \\\r\n",
        "                      .filter(lambda s_pvisit: s_pvisit.isdigit()) \\\r\n",
        "                      .map(lambda d_pvisit: int(d_pvisit)) \r\n",
        "\r\n",
        "wh_nba.take(1500) "
      ],
      "execution_count": null,
      "outputs": [
        {
          "output_type": "execute_result",
          "data": {
            "text/plain": [
              "[96,\n",
              " 93,\n",
              " 106,\n",
              " 74,\n",
              " 120,\n",
              " 119,\n",
              " 101,\n",
              " 112,\n",
              " 104,\n",
              " 102,\n",
              " 106,\n",
              " 80,\n",
              " 99,\n",
              " 95,\n",
              " 101,\n",
              " 103,\n",
              " 102,\n",
              " 85,\n",
              " 110,\n",
              " 87,\n",
              " 120,\n",
              " 91,\n",
              " 69,\n",
              " 113,\n",
              " 92,\n",
              " 98,\n",
              " 96,\n",
              " 123,\n",
              " 89,\n",
              " 111,\n",
              " 78,\n",
              " 88,\n",
              " 133,\n",
              " 82,\n",
              " 88,\n",
              " 92,\n",
              " 115,\n",
              " 119,\n",
              " 88,\n",
              " 97,\n",
              " 103,\n",
              " 95,\n",
              " 107,\n",
              " 83,\n",
              " 91,\n",
              " 104,\n",
              " 89,\n",
              " 104,\n",
              " 112,\n",
              " 103,\n",
              " 87,\n",
              " 119,\n",
              " 104,\n",
              " 105,\n",
              " 119,\n",
              " 89,\n",
              " 94,\n",
              " 93,\n",
              " 88,\n",
              " 98,\n",
              " 96,\n",
              " 103,\n",
              " 97,\n",
              " 115,\n",
              " 87,\n",
              " 106,\n",
              " 96,\n",
              " 103,\n",
              " 104,\n",
              " 107,\n",
              " 101,\n",
              " 85,\n",
              " 102,\n",
              " 103,\n",
              " 110,\n",
              " 91,\n",
              " 101,\n",
              " 92,\n",
              " 71,\n",
              " 106,\n",
              " 101,\n",
              " 96,\n",
              " 91,\n",
              " 100,\n",
              " 118,\n",
              " 90,\n",
              " 82,\n",
              " 95,\n",
              " 72,\n",
              " 72,\n",
              " 113,\n",
              " 103,\n",
              " 122,\n",
              " 82,\n",
              " 117,\n",
              " 91,\n",
              " 99,\n",
              " 86,\n",
              " 105,\n",
              " 103,\n",
              " 113,\n",
              " 102,\n",
              " 107,\n",
              " 117,\n",
              " 91,\n",
              " 116,\n",
              " 110,\n",
              " 104,\n",
              " 90,\n",
              " 84,\n",
              " 95,\n",
              " 102,\n",
              " 108,\n",
              " 95,\n",
              " 88,\n",
              " 103,\n",
              " 105,\n",
              " 112,\n",
              " 123,\n",
              " 92,\n",
              " 99,\n",
              " 122,\n",
              " 103,\n",
              " 118,\n",
              " 89,\n",
              " 70,\n",
              " 92,\n",
              " 123,\n",
              " 90,\n",
              " 110,\n",
              " 100,\n",
              " 108,\n",
              " 115,\n",
              " 105,\n",
              " 117,\n",
              " 73,\n",
              " 105,\n",
              " 82,\n",
              " 87,\n",
              " 109,\n",
              " 106,\n",
              " 104,\n",
              " 105,\n",
              " 100,\n",
              " 101,\n",
              " 125,\n",
              " 88,\n",
              " 102,\n",
              " 83,\n",
              " 107,\n",
              " 105,\n",
              " 112,\n",
              " 114,\n",
              " 82,\n",
              " 98,\n",
              " 116,\n",
              " 105,\n",
              " 111,\n",
              " 98,\n",
              " 94,\n",
              " 101,\n",
              " 89,\n",
              " 79,\n",
              " 110,\n",
              " 86,\n",
              " 93,\n",
              " 127,\n",
              " 101,\n",
              " 128,\n",
              " 107,\n",
              " 99,\n",
              " 83,\n",
              " 111,\n",
              " 98,\n",
              " 105,\n",
              " 113,\n",
              " 87,\n",
              " 101,\n",
              " 93,\n",
              " 99,\n",
              " 115,\n",
              " 95,\n",
              " 111,\n",
              " 109,\n",
              " 89,\n",
              " 124,\n",
              " 97,\n",
              " 87,\n",
              " 85,\n",
              " 120,\n",
              " 98,\n",
              " 93,\n",
              " 106,\n",
              " 100,\n",
              " 101,\n",
              " 93,\n",
              " 98,\n",
              " 129,\n",
              " 71,\n",
              " 94,\n",
              " 113,\n",
              " 74,\n",
              " 112,\n",
              " 90,\n",
              " 109,\n",
              " 110,\n",
              " 106,\n",
              " 110,\n",
              " 99,\n",
              " 103,\n",
              " 96,\n",
              " 109,\n",
              " 109,\n",
              " 95,\n",
              " 94,\n",
              " 89,\n",
              " 96,\n",
              " 109,\n",
              " 94,\n",
              " 103,\n",
              " 104,\n",
              " 113,\n",
              " 127,\n",
              " 86,\n",
              " 91,\n",
              " 123,\n",
              " 85,\n",
              " 91,\n",
              " 91,\n",
              " 85,\n",
              " 110,\n",
              " 95,\n",
              " 91,\n",
              " 120,\n",
              " 111,\n",
              " 109,\n",
              " 91,\n",
              " 94,\n",
              " 112,\n",
              " 107,\n",
              " 101,\n",
              " 80,\n",
              " 115,\n",
              " 118,\n",
              " 95,\n",
              " 97,\n",
              " 104,\n",
              " 100,\n",
              " 96,\n",
              " 98,\n",
              " 117,\n",
              " 105,\n",
              " 79,\n",
              " 98,\n",
              " 110,\n",
              " 95,\n",
              " 79,\n",
              " 117,\n",
              " 78,\n",
              " 95,\n",
              " 117,\n",
              " 82,\n",
              " 107,\n",
              " 120,\n",
              " 105,\n",
              " 93,\n",
              " 76,\n",
              " 103,\n",
              " 97,\n",
              " 95,\n",
              " 123,\n",
              " 105,\n",
              " 90,\n",
              " 109,\n",
              " 112,\n",
              " 112,\n",
              " 91,\n",
              " 120,\n",
              " 89,\n",
              " 118,\n",
              " 109,\n",
              " 101,\n",
              " 87,\n",
              " 104,\n",
              " 104,\n",
              " 107,\n",
              " 86,\n",
              " 96,\n",
              " 81,\n",
              " 125,\n",
              " 101,\n",
              " 100,\n",
              " 77,\n",
              " 104,\n",
              " 94,\n",
              " 123,\n",
              " 91,\n",
              " 117,\n",
              " 93,\n",
              " 104,\n",
              " 89,\n",
              " 87,\n",
              " 100,\n",
              " 113,\n",
              " 96,\n",
              " 88,\n",
              " 123,\n",
              " 118,\n",
              " 96,\n",
              " 103,\n",
              " 82,\n",
              " 89,\n",
              " 102,\n",
              " 90,\n",
              " 108,\n",
              " 105,\n",
              " 80,\n",
              " 117,\n",
              " 100,\n",
              " 110,\n",
              " 98,\n",
              " 103,\n",
              " 105,\n",
              " 92,\n",
              " 102,\n",
              " 91,\n",
              " 104,\n",
              " 87,\n",
              " 101,\n",
              " 89,\n",
              " 91,\n",
              " 108,\n",
              " 93,\n",
              " 91,\n",
              " 88,\n",
              " 105,\n",
              " 99,\n",
              " 99,\n",
              " 93,\n",
              " 86,\n",
              " 83,\n",
              " 103,\n",
              " 95,\n",
              " 101,\n",
              " 94,\n",
              " 119,\n",
              " 102,\n",
              " 96,\n",
              " 92,\n",
              " 105,\n",
              " 109,\n",
              " 113,\n",
              " 77,\n",
              " 116,\n",
              " 104,\n",
              " 111,\n",
              " 117,\n",
              " 91,\n",
              " 92,\n",
              " 88,\n",
              " 95,\n",
              " 91,\n",
              " 77,\n",
              " 101,\n",
              " 114,\n",
              " 85,\n",
              " 98,\n",
              " 108,\n",
              " 92,\n",
              " 102,\n",
              " 88,\n",
              " 89,\n",
              " 98,\n",
              " 108,\n",
              " 101,\n",
              " 93,\n",
              " 84,\n",
              " 94,\n",
              " 112,\n",
              " 103,\n",
              " 107,\n",
              " 105,\n",
              " 102,\n",
              " 94,\n",
              " 131,\n",
              " 94,\n",
              " 101,\n",
              " 99,\n",
              " 123,\n",
              " 92,\n",
              " 98,\n",
              " 93,\n",
              " 97,\n",
              " 104,\n",
              " 103,\n",
              " 100,\n",
              " 110,\n",
              " 122,\n",
              " 99,\n",
              " 103,\n",
              " 96,\n",
              " 94,\n",
              " 90,\n",
              " 105,\n",
              " 96,\n",
              " 122,\n",
              " 89,\n",
              " 107,\n",
              " 104,\n",
              " 125,\n",
              " 105,\n",
              " 98,\n",
              " 83,\n",
              " 110,\n",
              " 96,\n",
              " 69,\n",
              " 94,\n",
              " 99,\n",
              " 81,\n",
              " 88,\n",
              " 96,\n",
              " 85,\n",
              " 103,\n",
              " 114,\n",
              " 120,\n",
              " 123,\n",
              " 83,\n",
              " 114,\n",
              " 109,\n",
              " 94,\n",
              " 109,\n",
              " 80,\n",
              " 73,\n",
              " 97,\n",
              " 91,\n",
              " 92,\n",
              " 95,\n",
              " 86,\n",
              " 104,\n",
              " 109,\n",
              " 98,\n",
              " 96,\n",
              " 95,\n",
              " 91,\n",
              " 83,\n",
              " 97,\n",
              " 102,\n",
              " 111,\n",
              " 107,\n",
              " 110,\n",
              " 114,\n",
              " 95,\n",
              " 91,\n",
              " 92,\n",
              " 90,\n",
              " 111,\n",
              " 97,\n",
              " 97,\n",
              " 98,\n",
              " 121,\n",
              " 72,\n",
              " 81,\n",
              " 98,\n",
              " 79,\n",
              " 97,\n",
              " 95,\n",
              " 110,\n",
              " 93,\n",
              " 109,\n",
              " 80,\n",
              " 104,\n",
              " 100,\n",
              " 97,\n",
              " 94,\n",
              " 104,\n",
              " 113,\n",
              " 124,\n",
              " 77,\n",
              " 107,\n",
              " 102,\n",
              " 94,\n",
              " 97,\n",
              " 85,\n",
              " 107,\n",
              " 94,\n",
              " 85,\n",
              " 103,\n",
              " 113,\n",
              " 103,\n",
              " 89,\n",
              " 109,\n",
              " 82,\n",
              " 112,\n",
              " 101,\n",
              " 78,\n",
              " 90,\n",
              " 108,\n",
              " 130,\n",
              " 137,\n",
              " 115,\n",
              " 100,\n",
              " 95,\n",
              " 101,\n",
              " 101,\n",
              " 83,\n",
              " 104,\n",
              " 111,\n",
              " 84,\n",
              " 90,\n",
              " 83,\n",
              " 102,\n",
              " 106,\n",
              " 98,\n",
              " 99,\n",
              " 80,\n",
              " 92,\n",
              " 129,\n",
              " 109,\n",
              " 109,\n",
              " 116,\n",
              " 80,\n",
              " 108,\n",
              " 98,\n",
              " 113,\n",
              " 113,\n",
              " 116,\n",
              " 113,\n",
              " 110,\n",
              " 77,\n",
              " 114,\n",
              " 90,\n",
              " 97,\n",
              " 70,\n",
              " 100,\n",
              " 94,\n",
              " 122,\n",
              " 105,\n",
              " 105,\n",
              " 119,\n",
              " 85,\n",
              " 105,\n",
              " 106,\n",
              " 82,\n",
              " 100,\n",
              " 89,\n",
              " 116,\n",
              " 83,\n",
              " 119,\n",
              " 73,\n",
              " 122,\n",
              " 89,\n",
              " 121,\n",
              " 98,\n",
              " 104,\n",
              " 103,\n",
              " 107,\n",
              " 97,\n",
              " 124,\n",
              " 98,\n",
              " 105,\n",
              " 102,\n",
              " 100,\n",
              " 99,\n",
              " 125,\n",
              " 96,\n",
              " 87,\n",
              " 105,\n",
              " 123,\n",
              " 116,\n",
              " 120,\n",
              " 98,\n",
              " 88,\n",
              " 116,\n",
              " 111,\n",
              " 93,\n",
              " 124,\n",
              " 91,\n",
              " 112,\n",
              " 115,\n",
              " 89,\n",
              " 106,\n",
              " 111,\n",
              " 105,\n",
              " 97,\n",
              " 111,\n",
              " 111,\n",
              " 83,\n",
              " 104,\n",
              " 120,\n",
              " 84,\n",
              " 99,\n",
              " 101,\n",
              " 99,\n",
              " 116,\n",
              " 109,\n",
              " 86,\n",
              " 108,\n",
              " 96,\n",
              " 93,\n",
              " 116,\n",
              " 104,\n",
              " 90,\n",
              " 106,\n",
              " 93,\n",
              " 102,\n",
              " 103,\n",
              " 102,\n",
              " 105,\n",
              " 128,\n",
              " 112,\n",
              " 95,\n",
              " 108,\n",
              " 121,\n",
              " 107,\n",
              " 111,\n",
              " 85,\n",
              " 117,\n",
              " 96,\n",
              " 78,\n",
              " 103,\n",
              " 107,\n",
              " 121,\n",
              " 89,\n",
              " 104,\n",
              " 87,\n",
              " 77,\n",
              " 108,\n",
              " 112,\n",
              " 100,\n",
              " 101,\n",
              " 111,\n",
              " 89,\n",
              " 79,\n",
              " 90,\n",
              " 106,\n",
              " 127,\n",
              " 104,\n",
              " 96,\n",
              " 125,\n",
              " 98,\n",
              " 78,\n",
              " 77,\n",
              " 90,\n",
              " 106,\n",
              " 89,\n",
              " 95,\n",
              " 105,\n",
              " 98,\n",
              " 96,\n",
              " 94,\n",
              " 101,\n",
              " 100,\n",
              " 84,\n",
              " 117,\n",
              " 97,\n",
              " 96,\n",
              " 111,\n",
              " 104,\n",
              " 120,\n",
              " 87,\n",
              " 87,\n",
              " 125,\n",
              " 88,\n",
              " 108,\n",
              " 95,\n",
              " 102,\n",
              " 83,\n",
              " 103,\n",
              " 107,\n",
              " 112,\n",
              " 83,\n",
              " 105,\n",
              " 122,\n",
              " 100,\n",
              " 96,\n",
              " 90,\n",
              " 81,\n",
              " 101,\n",
              " 127,\n",
              " 103,\n",
              " 85,\n",
              " 104,\n",
              " 106,\n",
              " 94,\n",
              " 112,\n",
              " 101,\n",
              " 87,\n",
              " 104,\n",
              " 98,\n",
              " 117,\n",
              " 115,\n",
              " 91,\n",
              " 83,\n",
              " 105,\n",
              " 86,\n",
              " 90,\n",
              " 91,\n",
              " 96,\n",
              " 82,\n",
              " 86,\n",
              " 94,\n",
              " 98,\n",
              " 118,\n",
              " 103,\n",
              " 108,\n",
              " 110,\n",
              " 114,\n",
              " 89,\n",
              " 97,\n",
              " 90,\n",
              " 101,\n",
              " 98,\n",
              " 111,\n",
              " 107,\n",
              " 115,\n",
              " 100,\n",
              " 100,\n",
              " 100,\n",
              " 130,\n",
              " 100,\n",
              " 92,\n",
              " 77,\n",
              " 108,\n",
              " 92,\n",
              " 101,\n",
              " 95,\n",
              " 90,\n",
              " 92,\n",
              " 111,\n",
              " 91,\n",
              " 86,\n",
              " 93,\n",
              " 113,\n",
              " 103,\n",
              " 117,\n",
              " 98,\n",
              " 105,\n",
              " 108,\n",
              " 101,\n",
              " 98,\n",
              " 112,\n",
              " 101,\n",
              " 97,\n",
              " 98,\n",
              " 83,\n",
              " 113,\n",
              " 94,\n",
              " 82,\n",
              " 101,\n",
              " 108,\n",
              " 97,\n",
              " 120,\n",
              " 95,\n",
              " 89,\n",
              " 111,\n",
              " 84,\n",
              " 88,\n",
              " 90,\n",
              " 86,\n",
              " 97,\n",
              " 107,\n",
              " 113,\n",
              " 92,\n",
              " 111,\n",
              " 100,\n",
              " 105,\n",
              " 96,\n",
              " 96,\n",
              " 120,\n",
              " 89,\n",
              " 89,\n",
              " 107,\n",
              " 92,\n",
              " 109,\n",
              " 102,\n",
              " 93,\n",
              " 109,\n",
              " 99,\n",
              " 109,\n",
              " 85,\n",
              " 124,\n",
              " 85,\n",
              " 122,\n",
              " 104,\n",
              " 94,\n",
              " 85,\n",
              " 108,\n",
              " 119,\n",
              " 100,\n",
              " 119,\n",
              " 97,\n",
              " 100,\n",
              " 103,\n",
              " 110,\n",
              " 104,\n",
              " 124,\n",
              " 124,\n",
              " 119,\n",
              " 127,\n",
              " 112,\n",
              " 99,\n",
              " 92,\n",
              " 115,\n",
              " 135,\n",
              " 90,\n",
              " 127,\n",
              " 110,\n",
              " 113,\n",
              " 114,\n",
              " 83,\n",
              " 80,\n",
              " 103,\n",
              " 115,\n",
              " 85,\n",
              " 99,\n",
              " 95,\n",
              " 96,\n",
              " 115,\n",
              " 102,\n",
              " 98,\n",
              " 100,\n",
              " 110,\n",
              " 109,\n",
              " 110,\n",
              " 83,\n",
              " 112,\n",
              " 86,\n",
              " 102,\n",
              " 91,\n",
              " 115,\n",
              " 102,\n",
              " 93,\n",
              " 98,\n",
              " 76,\n",
              " 92,\n",
              " 89,\n",
              " 105,\n",
              " 94,\n",
              " 96,\n",
              " 113,\n",
              " 107,\n",
              " 105,\n",
              " 111,\n",
              " 92,\n",
              " 123,\n",
              " 92,\n",
              " 107,\n",
              " 80,\n",
              " 120,\n",
              " 113,\n",
              " 101,\n",
              " 96,\n",
              " 107,\n",
              " 103,\n",
              " 106,\n",
              " 120,\n",
              " 97,\n",
              " 99,\n",
              " 108,\n",
              " 91,\n",
              " 92,\n",
              " 115,\n",
              " 110,\n",
              " 119,\n",
              " 116,\n",
              " 110,\n",
              " 119,\n",
              " 93,\n",
              " 111,\n",
              " 73,\n",
              " 92,\n",
              " 94,\n",
              " 118,\n",
              " 114,\n",
              " 98,\n",
              " 110,\n",
              " 95,\n",
              " 110,\n",
              " 103,\n",
              " 128,\n",
              " 108,\n",
              " 108,\n",
              " 83,\n",
              " 120,\n",
              " 101,\n",
              " 80,\n",
              " 88,\n",
              " 116,\n",
              " 118,\n",
              " 112,\n",
              " 100,\n",
              " 89,\n",
              " 102,\n",
              " 92,\n",
              " 105,\n",
              " 81,\n",
              " 90,\n",
              " 118,\n",
              " 126,\n",
              " 117,\n",
              " 116,\n",
              " 100,\n",
              " 83,\n",
              " 118,\n",
              " 116,\n",
              " 105,\n",
              " 105,\n",
              " 92,\n",
              " 107,\n",
              " 98,\n",
              " 108,\n",
              " 116,\n",
              " 108,\n",
              " 109,\n",
              " 119,\n",
              " 99,\n",
              " 101,\n",
              " 107,\n",
              " 97,\n",
              " 117,\n",
              " 118,\n",
              " 103,\n",
              " 106,\n",
              " 97,\n",
              " 103,\n",
              " 111,\n",
              " 106,\n",
              " 96,\n",
              " 89,\n",
              " 114,\n",
              " 95,\n",
              " 132,\n",
              " 97,\n",
              " 116,\n",
              " 113,\n",
              " 97,\n",
              " 94,\n",
              " 114,\n",
              " 88,\n",
              " 108,\n",
              " 91,\n",
              " 98,\n",
              " 123,\n",
              " 86,\n",
              " 107,\n",
              " 108,\n",
              " 114,\n",
              " 117,\n",
              " 96,\n",
              " 132,\n",
              " 105,\n",
              " 75,\n",
              " 111,\n",
              " 118,\n",
              " 108,\n",
              " 82,\n",
              " 117,\n",
              " 88,\n",
              " 110,\n",
              " 104,\n",
              " 100,\n",
              " 110,\n",
              " 123,\n",
              " 96,\n",
              " 101,\n",
              " 117,\n",
              " 92,\n",
              " 106,\n",
              " 116,\n",
              " 137,\n",
              " 84,\n",
              " 89,\n",
              " 94,\n",
              " 108,\n",
              " 116,\n",
              " 110,\n",
              " 77,\n",
              " 117,\n",
              " 122,\n",
              " 103,\n",
              " 127,\n",
              " 107,\n",
              " 119,\n",
              " 98,\n",
              " 168,\n",
              " 105,\n",
              " 104,\n",
              " 73,\n",
              " 98,\n",
              " 106,\n",
              " 110,\n",
              " 98,\n",
              " 99,\n",
              " 108,\n",
              " 104,\n",
              " 91,\n",
              " 96,\n",
              " 96,\n",
              " 112,\n",
              " 100,\n",
              " ...]"
            ]
          },
          "metadata": {
            "tags": []
          },
          "execution_count": 25
        }
      ]
    },
    {
      "cell_type": "code",
      "metadata": {
        "colab": {
          "base_uri": "https://localhost:8080/"
        },
        "id": "hTrgTAdP6o5M",
        "outputId": "9f1f2647-d5af-4089-d052-3b4e53359d86"
      },
      "source": [
        "(wh_nba.max() - wh_nba.min()) / 10"
      ],
      "execution_count": null,
      "outputs": [
        {
          "output_type": "execute_result",
          "data": {
            "text/plain": [
              "10.9"
            ]
          },
          "metadata": {
            "tags": []
          },
          "execution_count": 26
        }
      ]
    },
    {
      "cell_type": "code",
      "metadata": {
        "colab": {
          "base_uri": "https://localhost:8080/"
        },
        "id": "3YmMNOZd6tjC",
        "outputId": "e3e77f41-bcc9-46a8-da07-6ba95075c5c6"
      },
      "source": [
        "wh_nba.min()"
      ],
      "execution_count": null,
      "outputs": [
        {
          "output_type": "execute_result",
          "data": {
            "text/plain": [
              "59"
            ]
          },
          "metadata": {
            "tags": []
          },
          "execution_count": 28
        }
      ]
    },
    {
      "cell_type": "code",
      "metadata": {
        "colab": {
          "base_uri": "https://localhost:8080/"
        },
        "id": "xtgJvgn86tmV",
        "outputId": "48e5041b-92b9-4947-860e-f13bc9ccff76"
      },
      "source": [
        "wh_nba.max()"
      ],
      "execution_count": null,
      "outputs": [
        {
          "output_type": "execute_result",
          "data": {
            "text/plain": [
              "168"
            ]
          },
          "metadata": {
            "tags": []
          },
          "execution_count": 29
        }
      ]
    },
    {
      "cell_type": "code",
      "metadata": {
        "id": "dBleT0H361d-"
      },
      "source": [
        "def inter(x):\r\n",
        "  if x<69.9:\r\n",
        "    return 'int 1'\r\n",
        "  elif x <80.8:\r\n",
        "    return 'int 2'\r\n",
        "  elif x<91.7:\r\n",
        "    return 'int 3'\r\n",
        "  elif x<102.6:\r\n",
        "    return 'int 4'\r\n",
        "  elif x<113.5:\r\n",
        "    return 'int 5'\r\n",
        "  elif x<124.4:\r\n",
        "    return 'int 6'\r\n",
        "  elif x<135.3:\r\n",
        "    return 'int 7'\r\n",
        "  elif x<146.2:\r\n",
        "    return 'int 8'\r\n",
        "  elif x<157.1:\r\n",
        "    return 'int 9'\r\n",
        "  elif x<=168:\r\n",
        "    return 'int 10'"
      ],
      "execution_count": null,
      "outputs": []
    },
    {
      "cell_type": "code",
      "metadata": {
        "colab": {
          "base_uri": "https://localhost:8080/",
          "height": 35
        },
        "id": "xAi_AOsH65oZ",
        "outputId": "c59ed157-b807-4996-a51c-4cd4adec5e7f"
      },
      "source": [
        "inter(160)"
      ],
      "execution_count": null,
      "outputs": [
        {
          "output_type": "execute_result",
          "data": {
            "application/vnd.google.colaboratory.intrinsic+json": {
              "type": "string"
            },
            "text/plain": [
              "'int 10'"
            ]
          },
          "metadata": {
            "tags": []
          },
          "execution_count": 31
        }
      ]
    },
    {
      "cell_type": "code",
      "metadata": {
        "colab": {
          "base_uri": "https://localhost:8080/"
        },
        "id": "LP2WtNam65q0",
        "outputId": "bed83e90-bc8e-494a-93d2-468895c1765c"
      },
      "source": [
        "type(wh_nba)"
      ],
      "execution_count": null,
      "outputs": [
        {
          "output_type": "execute_result",
          "data": {
            "text/plain": [
              "pyspark.rdd.PipelinedRDD"
            ]
          },
          "metadata": {
            "tags": []
          },
          "execution_count": 33
        }
      ]
    },
    {
      "cell_type": "code",
      "metadata": {
        "id": "qOnZIlXi65xB"
      },
      "source": [
        "wh_nba_inter = nba.filter(lambda s: s != head_nba) \\\r\n",
        "                      .map(lambda s: s.split(\":\")[-1]) \\\r\n",
        "                      .filter(lambda s_pvisit: s_pvisit.isdigit()) \\\r\n",
        "                      .map(lambda d_pvisit: int(d_pvisit)) \\\r\n",
        "                      .map(lambda x : (inter(x),1)) \\\r\n",
        "                      .reduceByKey(lambda a, b: a + b) \\\r\n",
        "                      .collect()\r\n",
        "\r\n",
        "#wh_nba_data_inter.take(1500)"
      ],
      "execution_count": null,
      "outputs": []
    },
    {
      "cell_type": "code",
      "metadata": {
        "colab": {
          "base_uri": "https://localhost:8080/"
        },
        "id": "X8hLZAGI65zl",
        "outputId": "80a7228a-8ac1-411b-e019-bf3bbda8092e"
      },
      "source": [
        "wh_nba_inter"
      ],
      "execution_count": null,
      "outputs": [
        {
          "output_type": "execute_result",
          "data": {
            "text/plain": [
              "[('int 4', 4287),\n",
              " ('int 2', 439),\n",
              " ('int 6', 1717),\n",
              " ('int 8', 59),\n",
              " ('int 10', 1),\n",
              " ('int 9', 5),\n",
              " ('int 5', 3832),\n",
              " ('int 3', 2125),\n",
              " ('int 1', 37),\n",
              " ('int 7', 395)]"
            ]
          },
          "metadata": {
            "tags": []
          },
          "execution_count": 37
        }
      ]
    },
    {
      "cell_type": "code",
      "metadata": {
        "colab": {
          "base_uri": "https://localhost:8080/"
        },
        "id": "herTncm58Dlg",
        "outputId": "da8bfaa1-c1ae-4abf-92f5-f6aaa80452b7"
      },
      "source": [
        "type(wh_nba_inter)"
      ],
      "execution_count": null,
      "outputs": [
        {
          "output_type": "execute_result",
          "data": {
            "text/plain": [
              "list"
            ]
          },
          "metadata": {
            "tags": []
          },
          "execution_count": 39
        }
      ]
    },
    {
      "cell_type": "code",
      "metadata": {
        "id": "NzdxFK6B8Miq"
      },
      "source": [
        "import pandas as pd\r\n",
        "df_wh_nba_inter = pd.DataFrame(wh_nba_inter)"
      ],
      "execution_count": null,
      "outputs": []
    },
    {
      "cell_type": "code",
      "metadata": {
        "colab": {
          "base_uri": "https://localhost:8080/"
        },
        "id": "SsKZC1uV8Yxq",
        "outputId": "af6f877b-e808-49d1-d358-382d0d7b8f7c"
      },
      "source": [
        "type(df_wh_nba_inter)"
      ],
      "execution_count": null,
      "outputs": [
        {
          "output_type": "execute_result",
          "data": {
            "text/plain": [
              "pandas.core.frame.DataFrame"
            ]
          },
          "metadata": {
            "tags": []
          },
          "execution_count": 42
        }
      ]
    },
    {
      "cell_type": "code",
      "metadata": {
        "id": "mYDcCKKK8bQS"
      },
      "source": [
        "import numpy as np\r\n",
        "import matplotlib.pyplot as plt"
      ],
      "execution_count": null,
      "outputs": []
    },
    {
      "cell_type": "code",
      "metadata": {
        "colab": {
          "base_uri": "https://localhost:8080/",
          "height": 460
        },
        "id": "BKCzadD68bSd",
        "outputId": "f9227e09-ba68-491d-f79c-167c18d6f32a"
      },
      "source": [
        "labels, ys = zip(*wh_nba_inter)\r\n",
        "xs = np.arange(len(labels)) \r\n",
        "width = 1\r\n",
        "\r\n",
        "plt.bar(xs, ys, width, align='center')\r\n",
        "\r\n",
        "plt.xticks(xs, labels) \r\n",
        "plt.yticks(ys)"
      ],
      "execution_count": null,
      "outputs": [
        {
          "output_type": "execute_result",
          "data": {
            "text/plain": [
              "([<matplotlib.axis.YTick at 0x7f4c1c88c710>,\n",
              "  <matplotlib.axis.YTick at 0x7f4c1c88c0f0>,\n",
              "  <matplotlib.axis.YTick at 0x7f4c1e8617f0>,\n",
              "  <matplotlib.axis.YTick at 0x7f4c1c86c240>,\n",
              "  <matplotlib.axis.YTick at 0x7f4c1c86c6d8>,\n",
              "  <matplotlib.axis.YTick at 0x7f4c1c86cb70>,\n",
              "  <matplotlib.axis.YTick at 0x7f4c1c8760b8>,\n",
              "  <matplotlib.axis.YTick at 0x7f4c1c86c780>,\n",
              "  <matplotlib.axis.YTick at 0x7f4c1c8659e8>,\n",
              "  <matplotlib.axis.YTick at 0x7f4c1c85efd0>],\n",
              " <a list of 10 Text major ticklabel objects>)"
            ]
          },
          "metadata": {
            "tags": []
          },
          "execution_count": 46
        },
        {
          "output_type": "display_data",
          "data": {
            "image/png": "[encoded data removed]",
            "text/plain": [
              "<Figure size 432x288 with 1 Axes>"
            ]
          },
          "metadata": {
            "tags": [],
            "needs_background": "light"
          }
        }
      ]
    },
    {
      "cell_type": "code",
      "metadata": {
        "id": "kEkojGul8bUK"
      },
      "source": [
        ""
      ],
      "execution_count": null,
      "outputs": []
    }
  ]
}