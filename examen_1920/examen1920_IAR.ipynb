{
 "cells": [
  {
   "cell_type": "markdown",
   "metadata": {},
   "source": [
    "* Autora: Isabel Afán de Ribera\n",
    "* Fecha: 14/01/2021\n",
    "* Institución: CUNEF"
   ]
  },
  {
   "cell_type": "markdown",
   "metadata": {},
   "source": [
    "## 1. The World Bank's international debt data\n",
    "<p>No es que los humanos solo tengamos deudas para administrar nuestras necesidades. Un país también puede endeudarse para administrar su economía. Por ejemplo, el gasto en infraestructura es un ingrediente costoso requerido para que los ciudadanos de un país lleven una vida cómoda. El Banco Mundial es la organización que proporciona deuda a los países.</p>\n",
    "\n",
    "<!-- <p>En este notebook, vamos a analizar los datos de la deuda internacional recopilados por el Banco Mundial. El conjunto de datos contiene información sobre el monto de la deuda (en USD) que deben los países en desarrollo en varias categorías.</p>  -->\n",
    "    "
   ]
  },
  {
   "cell_type": "markdown",
   "metadata": {},
   "source": [
    "\"Disbursements on external debt, long-term (DIS, current US$)\",DT.DIS.DLXF.CD\n",
    "\"Interest payments on external debt, long-term (INT, current US$)\",DT.INT.DLXF.CD\n",
    "\"PPG, bilateral (AMT, current US$)\",DT.AMT.BLAT.CD\n",
    "\"PPG, bilateral (DIS, current US$)\",DT.DIS.BLAT.CD\n",
    "\"PPG, bilateral (INT, current US$)\",DT.INT.BLAT.CD\n",
    "\"PPG, multilateral (AMT, current US$)\",DT.AMT.MLAT.CD\n",
    "\"PPG, multilateral (DIS, current US$)\",DT.DIS.MLAT.CD\n",
    "\"PPG, multilateral (INT, current US$)\",DT.INT.MLAT.CD\n",
    "\"PPG, official creditors (AMT, current US$)\",DT.AMT.OFFT.CD\n",
    "\"PPG, official creditors (DIS, current US$)\",DT.DIS.OFFT.CD\n",
    "\"PPG, official creditors (INT, current US$)\",DT.INT.OFFT.CD\n",
    "\"Principal repayments on external debt, long-term (AMT, current US$)\",DT.AMT.DLXF.CD\n",
    "\"Interest payments on external debt, private nonguaranteed (PNG) (INT, current US$)\",DT.INT.DPNG.CD\n",
    "\"PPG, bonds (AMT, current US$)\",DT.AMT.PBND.CD\n",
    "\"PPG, bonds (INT, current US$)\",DT.INT.PBND.CD\n",
    "\"PPG, commercial banks (AMT, current US$)\",DT.AMT.PCBK.CD\n",
    "\"PPG, commercial banks (DIS, current US$)\",DT.DIS.PCBK.CD\n",
    "\"PPG, commercial banks (INT, current US$)\",DT.INT.PCBK.CD\n",
    "\"PPG, other private creditors (AMT, current US$)\",DT.AMT.PROP.CD\n",
    "\"PPG, other private creditors (DIS, current US$)\",DT.DIS.PROP.CD\n",
    "\"PPG, other private creditors (INT, current US$)\",DT.INT.PROP.CD\n",
    "\"PPG, private creditors (AMT, current US$)\",DT.AMT.PRVT.CD\n",
    "\"PPG, private creditors (DIS, current US$)\",DT.DIS.PRVT.CD\n",
    "\"PPG, private creditors (INT, current US$)\",DT.INT.PRVT.CD\n",
    "\"Principal repayments on external debt, private nonguaranteed (PNG) (AMT, current US$)\",DT.AMT.DPNG.CD"
   ]
  },
  {
   "cell_type": "markdown",
   "metadata": {},
   "source": [
    "<p>Vamos a encontrar las respuestas a preguntas como:\n",
    "\n",
    "<p>¿Cuál es el monto total de la deuda que deben los países enumerados en el conjunto de datos?\n",
    "<p>¿Qué país posee la cantidad máxima de deuda y cómo se ve esa cantidad?\n",
    "<p>¿Cuál es el monto promedio de la deuda de los países a través de diferentes indicadores de deuda?\n",
    "    \n",
    "Además tenemos otro dataset en el que encontramos información histórica de algunos índices de desarrollo, entre los que se encuentran algunos de deuda como son:"
   ]
  },
  {
   "cell_type": "markdown",
   "metadata": {},
   "source": [
    "Series Name,Series Code\n",
    "\"Birth rate, crude (per 1,000 people)\",SP.DYN.CBRT.IN\n",
    "\n",
    "\"Central government debt, total (current LCU)\",GC.DOD.TOTL.CN\n",
    "\n",
    "\"Central government debt, total (% of GDP)\",GC.DOD.TOTL.GD.ZS"
   ]
  },
  {
   "cell_type": "markdown",
   "metadata": {},
   "source": [
    "#### 1. Inicializar y cargar el contexto spark"
   ]
  },
  {
   "cell_type": "markdown",
   "metadata": {},
   "source": [
    "* Carga del contexto spark y librerias necesarias"
   ]
  },
  {
   "cell_type": "code",
   "execution_count": 1,
   "metadata": {
    "collapsed": false
   },
   "outputs": [],
   "source": [
    "# cargamos la libreria y el contexto spark para tener acceso al cluster\n",
    "from pyspark import SparkContext\n",
    "sc = SparkContext()"
   ]
  },
  {
   "cell_type": "code",
   "execution_count": 2,
   "metadata": {
    "collapsed": true
   },
   "outputs": [],
   "source": [
    "# tambien la sesion spark\n",
    "from pyspark.sql.session import SparkSession\n",
    "spark = SparkSession(sc)"
   ]
  },
  {
   "cell_type": "code",
   "execution_count": 3,
   "metadata": {
    "collapsed": false
   },
   "outputs": [],
   "source": [
    "# importamos libreria pyspark.sql y el contexto sql\n",
    "from pyspark.sql import SQLContext\n",
    "sqlContext = SQLContext(sc)"
   ]
  },
  {
   "cell_type": "code",
   "execution_count": 4,
   "metadata": {
    "collapsed": true
   },
   "outputs": [],
   "source": [
    "# libreria functions para trabajar con funciones agregadas\n",
    "import pyspark.sql.functions as f"
   ]
  },
  {
   "cell_type": "code",
   "execution_count": 5,
   "metadata": {
    "collapsed": false
   },
   "outputs": [],
   "source": [
    "# para convertir el tipo de dato\n",
    "from pyspark.sql.types import (StringType, DoubleType, FloatType,\n",
    "                               IntegerType)"
   ]
  },
  {
   "cell_type": "markdown",
   "metadata": {},
   "source": [
    "* Carga y tratamiento de datos"
   ]
  },
  {
   "cell_type": "code",
   "execution_count": 6,
   "metadata": {
    "collapsed": true
   },
   "outputs": [],
   "source": [
    "# cargamos el dataset de deuda con la funcion textFile\n",
    "data_file = \"./indicadores_deuda.csv\"\n",
    "raw_data_deuda = sc.textFile(data_file)"
   ]
  },
  {
   "cell_type": "code",
   "execution_count": 7,
   "metadata": {
    "collapsed": true
   },
   "outputs": [],
   "source": [
    "# y a continuación el de desarrollo\n",
    "data_file_d = \"./indicadores_desarrollo.csv\"\n",
    "raw_data_desarrollo = sc.textFile(data_file_d)"
   ]
  },
  {
   "cell_type": "code",
   "execution_count": 8,
   "metadata": {
    "collapsed": false
   },
   "outputs": [
    {
     "data": {
      "text/plain": [
       "125"
      ]
     },
     "execution_count": 8,
     "metadata": {},
     "output_type": "execute_result"
    }
   ],
   "source": [
    "# conteo de registros de deuda\n",
    "raw_data_deuda.count()"
   ]
  },
  {
   "cell_type": "code",
   "execution_count": 9,
   "metadata": {
    "collapsed": false
   },
   "outputs": [
    {
     "data": {
      "text/plain": [
       "135"
      ]
     },
     "execution_count": 9,
     "metadata": {},
     "output_type": "execute_result"
    }
   ],
   "source": [
    "# conteo de registros de desarrollo\n",
    "raw_data_desarrollo.count()"
   ]
  },
  {
   "cell_type": "code",
   "execution_count": 10,
   "metadata": {
    "collapsed": false
   },
   "outputs": [
    {
     "data": {
      "text/plain": [
       "['country_name,country_code,DT.AMT.BLAT.CD,DT.AMT.DLXF.CD,DT.AMT.DPNG.CD,DT.AMT.MLAT.CD,DT.AMT.OFFT.CD,DT.AMT.PBND.CD,DT.AMT.PCBK.CD,DT.AMT.PROP.CD,DT.AMT.PRVT.CD,DT.DIS.BLAT.CD,DT.DIS.DLXF.CD,DT.DIS.MLAT.CD,DT.DIS.OFFT.CD,DT.DIS.PCBK.CD,DT.DIS.PROP.CD,DT.DIS.PRVT.CD,DT.INT.BLAT.CD,DT.INT.DLXF.CD,DT.INT.DPNG.CD,DT.INT.MLAT.CD,DT.INT.OFFT.CD,DT.INT.PBND.CD,DT.INT.PCBK.CD,DT.INT.PROP.CD,DT.INT.PRVT.CD',\n",
       " 'Afghanistan,AFG,61739336.9,100847181.9,,39107845,100847181.9,,,,,49114729.4,72894453.7,23779724.3,72894453.7,,,,39903620.1,53239440.1,,13335820,53239440.1,,,,',\n",
       " 'Albania,ALB,54250280.6,790248675.2,514185620,182197616.7,236447897.3,0,39445139.5,170018.4,39615157.9,76050616.1,317194512.5,234321242.3,310371858.4,4542664.9,2279989.2,6822654.1,13847333.6,165602386.9,87884000,28101536.1,41948869.7,31030688.2,4618504.3,120324.7,35769517.2',\n",
       " 'Algeria,DZA,95188724.6,171185188.1,75420000,0,95188724.6,,576463.5,0,576463.5,10320772.2,10320772.2,,10320772.2,,,,7680627.6,19031728.7,3220000,8094779,15775406.6,,13192.3,23129.8,36322.1',\n",
       " 'Angola,AGO,8473824016.3,11067045628.1,,124688691.9,8598512708.2,1e+09,1125088719.9,343444200,2468532919.9,8838256901.1,10924018093.1,178989598.2,9017246499.3,1906771593.8,,1906771593.8,1005053965.1,1798550445.5,,47038476.1,1052092441.2,7e+07,580902004.3,95556000,746458004.3']"
      ]
     },
     "execution_count": 10,
     "metadata": {},
     "output_type": "execute_result"
    }
   ],
   "source": [
    "# vemos la estructura de los datos de deuda, son datos de tipo string\n",
    "\n",
    "raw_data_deuda.take(5)"
   ]
  },
  {
   "cell_type": "code",
   "execution_count": 11,
   "metadata": {
    "collapsed": false
   },
   "outputs": [
    {
     "data": {
      "text/plain": [
       "'country_name,country_code,DT.AMT.BLAT.CD,DT.AMT.DLXF.CD,DT.AMT.DPNG.CD,DT.AMT.MLAT.CD,DT.AMT.OFFT.CD,DT.AMT.PBND.CD,DT.AMT.PCBK.CD,DT.AMT.PROP.CD,DT.AMT.PRVT.CD,DT.DIS.BLAT.CD,DT.DIS.DLXF.CD,DT.DIS.MLAT.CD,DT.DIS.OFFT.CD,DT.DIS.PCBK.CD,DT.DIS.PROP.CD,DT.DIS.PRVT.CD,DT.INT.BLAT.CD,DT.INT.DLXF.CD,DT.INT.DPNG.CD,DT.INT.MLAT.CD,DT.INT.OFFT.CD,DT.INT.PBND.CD,DT.INT.PCBK.CD,DT.INT.PROP.CD,DT.INT.PRVT.CD'"
      ]
     },
     "execution_count": 11,
     "metadata": {},
     "output_type": "execute_result"
    }
   ],
   "source": [
    "# con el take anterior hemos visto que el dataset deuda contiene una cabecera\n",
    "# comprobamos lo que contiene \n",
    "head_deuda = raw_data_deuda.take(1)[0]\n",
    "head_deuda"
   ]
  },
  {
   "cell_type": "code",
   "execution_count": 12,
   "metadata": {
    "collapsed": false
   },
   "outputs": [
    {
     "data": {
      "text/plain": [
       "[['Afghanistan',\n",
       "  'AFG',\n",
       "  '61739336.9',\n",
       "  '100847181.9',\n",
       "  '',\n",
       "  '39107845',\n",
       "  '100847181.9',\n",
       "  '',\n",
       "  '',\n",
       "  '',\n",
       "  '',\n",
       "  '49114729.4',\n",
       "  '72894453.7',\n",
       "  '23779724.3',\n",
       "  '72894453.7',\n",
       "  '',\n",
       "  '',\n",
       "  '',\n",
       "  '39903620.1',\n",
       "  '53239440.1',\n",
       "  '',\n",
       "  '13335820',\n",
       "  '53239440.1',\n",
       "  '',\n",
       "  '',\n",
       "  '',\n",
       "  ''],\n",
       " ['Albania',\n",
       "  'ALB',\n",
       "  '54250280.6',\n",
       "  '790248675.2',\n",
       "  '514185620',\n",
       "  '182197616.7',\n",
       "  '236447897.3',\n",
       "  '0',\n",
       "  '39445139.5',\n",
       "  '170018.4',\n",
       "  '39615157.9',\n",
       "  '76050616.1',\n",
       "  '317194512.5',\n",
       "  '234321242.3',\n",
       "  '310371858.4',\n",
       "  '4542664.9',\n",
       "  '2279989.2',\n",
       "  '6822654.1',\n",
       "  '13847333.6',\n",
       "  '165602386.9',\n",
       "  '87884000',\n",
       "  '28101536.1',\n",
       "  '41948869.7',\n",
       "  '31030688.2',\n",
       "  '4618504.3',\n",
       "  '120324.7',\n",
       "  '35769517.2']]"
      ]
     },
     "execution_count": 12,
     "metadata": {},
     "output_type": "execute_result"
    }
   ],
   "source": [
    "# tras ver la estructura realizamos un parseo de los datos con el objetivo de facilitar su tratamiento\n",
    "# primero quitamos la cabecera y luego separamos por coma\n",
    "# obtenemos una lista\n",
    "parsed_data_deuda = raw_data_deuda.filter(lambda s: s != head_deuda) \\\n",
    "                                  .map(lambda x: x.split(\",\"))\n",
    "parsed_data_deuda.take(2)"
   ]
  },
  {
   "cell_type": "code",
   "execution_count": 13,
   "metadata": {
    "collapsed": false
   },
   "outputs": [
    {
     "data": {
      "text/plain": [
       "['country_name,country_code,anho,GC.DOD.TOTL.CN,GC.DOD.TOTL.GD.ZS,SP.DYN.CBRT.IN',\n",
       " 'Albania,ALB,2014 [YR2014],1023040800000,73.3202469198429,12.259',\n",
       " 'Albania,ALB,2015 [YR2015],1145500940000,79.8644448747259,12.197',\n",
       " 'Albania,ALB,2016 [YR2016],1188814490000,80.7355748396923,12.08',\n",
       " 'Australia,AUS,2014 [YR2014],674700000,0.042207528166503,13.2']"
      ]
     },
     "execution_count": 13,
     "metadata": {},
     "output_type": "execute_result"
    }
   ],
   "source": [
    "# vemos la estructura de los datos de desarrollo, son datos de tipo string\n",
    "raw_data_desarrollo.take(5)"
   ]
  },
  {
   "cell_type": "code",
   "execution_count": 14,
   "metadata": {
    "collapsed": false
   },
   "outputs": [
    {
     "data": {
      "text/plain": [
       "'country_name,country_code,anho,GC.DOD.TOTL.CN,GC.DOD.TOTL.GD.ZS,SP.DYN.CBRT.IN'"
      ]
     },
     "execution_count": 14,
     "metadata": {},
     "output_type": "execute_result"
    }
   ],
   "source": [
    "# en el dataset desarrollo tambien hay cabecera, le echamos un vistazo\n",
    "head_desarrollo = raw_data_desarrollo.take(1)[0]\n",
    "head_desarrollo"
   ]
  },
  {
   "cell_type": "code",
   "execution_count": 15,
   "metadata": {
    "collapsed": false
   },
   "outputs": [
    {
     "data": {
      "text/plain": [
       "[['Albania',\n",
       "  'ALB',\n",
       "  '2014 [YR2014]',\n",
       "  '1023040800000',\n",
       "  '73.3202469198429',\n",
       "  '12.259'],\n",
       " ['Albania',\n",
       "  'ALB',\n",
       "  '2015 [YR2015]',\n",
       "  '1145500940000',\n",
       "  '79.8644448747259',\n",
       "  '12.197']]"
      ]
     },
     "execution_count": 15,
     "metadata": {},
     "output_type": "execute_result"
    }
   ],
   "source": [
    "# repetimos con los datos de desarrollo\n",
    "parsed_data_desarrollo = raw_data_desarrollo.filter(lambda s: s != head_desarrollo) \\\n",
    "                                            .map(lambda x: x.split(\",\"))\n",
    "parsed_data_desarrollo.take(2)"
   ]
  },
  {
   "cell_type": "markdown",
   "metadata": {},
   "source": [
    "##### 2. Número de países distintos en cada dataset. ¿Coinciden?"
   ]
  },
  {
   "cell_type": "code",
   "execution_count": 16,
   "metadata": {
    "collapsed": false
   },
   "outputs": [
    {
     "name": "stdout",
     "output_type": "stream",
     "text": [
      "El dataset deuda contiene 123 países distintos.\n"
     ]
    }
   ],
   "source": [
    "countries_deuda = parsed_data_deuda.map(lambda x: x[0]).distinct()\n",
    "print(\"El dataset deuda contiene {} países distintos.\".format(countries_deuda.count()))"
   ]
  },
  {
   "cell_type": "code",
   "execution_count": 17,
   "metadata": {
    "collapsed": false
   },
   "outputs": [
    {
     "name": "stdout",
     "output_type": "stream",
     "text": [
      "El dataset desarrollo contiene 51 países distintos.\n"
     ]
    }
   ],
   "source": [
    "countries_desarrollo = parsed_data_desarrollo.map(lambda x: x[0]).distinct()\n",
    "print(\"El dataset desarrollo contiene {} países distintos.\".format(countries_desarrollo.count()))"
   ]
  },
  {
   "cell_type": "markdown",
   "metadata": {},
   "source": [
    "* __Nota__: a partir de aquí trabajaré con Spark's DataFrame por lo tanto volveré a cargar los datos, esta vez como Data Frame en lugar de RDD."
   ]
  },
  {
   "cell_type": "markdown",
   "metadata": {},
   "source": [
    "##### 3. Total de deuda contraida por cada pais: total amount of debt (in USD) DT.AMT.MLAT.CD"
   ]
  },
  {
   "cell_type": "code",
   "execution_count": 18,
   "metadata": {
    "collapsed": false
   },
   "outputs": [
    {
     "name": "stdout",
     "output_type": "stream",
     "text": [
      "+------------+------------+--------------+--------------+--------------+--------------+--------------+--------------+--------------+--------------+--------------+--------------+--------------+--------------+--------------+--------------+--------------+--------------+--------------+--------------+--------------+--------------+--------------+--------------+--------------+--------------+--------------+\n",
      "|country_name|country_code|DT.AMT.BLAT.CD|DT.AMT.DLXF.CD|DT.AMT.DPNG.CD|DT.AMT.MLAT.CD|DT.AMT.OFFT.CD|DT.AMT.PBND.CD|DT.AMT.PCBK.CD|DT.AMT.PROP.CD|DT.AMT.PRVT.CD|DT.DIS.BLAT.CD|DT.DIS.DLXF.CD|DT.DIS.MLAT.CD|DT.DIS.OFFT.CD|DT.DIS.PCBK.CD|DT.DIS.PROP.CD|DT.DIS.PRVT.CD|DT.INT.BLAT.CD|DT.INT.DLXF.CD|DT.INT.DPNG.CD|DT.INT.MLAT.CD|DT.INT.OFFT.CD|DT.INT.PBND.CD|DT.INT.PCBK.CD|DT.INT.PROP.CD|DT.INT.PRVT.CD|\n",
      "+------------+------------+--------------+--------------+--------------+--------------+--------------+--------------+--------------+--------------+--------------+--------------+--------------+--------------+--------------+--------------+--------------+--------------+--------------+--------------+--------------+--------------+--------------+--------------+--------------+--------------+--------------+\n",
      "| Afghanistan|         AFG|    61739336.9|   100847181.9|          null|      39107845|   100847181.9|          null|          null|          null|          null|    49114729.4|    72894453.7|    23779724.3|    72894453.7|          null|          null|          null|    39903620.1|    53239440.1|          null|      13335820|    53239440.1|          null|          null|          null|          null|\n",
      "|     Albania|         ALB|    54250280.6|   790248675.2|     514185620|   182197616.7|   236447897.3|             0|    39445139.5|      170018.4|    39615157.9|    76050616.1|   317194512.5|   234321242.3|   310371858.4|     4542664.9|     2279989.2|     6822654.1|    13847333.6|   165602386.9|      87884000|    28101536.1|    41948869.7|    31030688.2|     4618504.3|      120324.7|    35769517.2|\n",
      "+------------+------------+--------------+--------------+--------------+--------------+--------------+--------------+--------------+--------------+--------------+--------------+--------------+--------------+--------------+--------------+--------------+--------------+--------------+--------------+--------------+--------------+--------------+--------------+--------------+--------------+--------------+\n",
      "only showing top 2 rows\n",
      "\n"
     ]
    }
   ],
   "source": [
    "deuda_df = spark.read.csv(\"indicadores_deuda.csv\", header=True)\n",
    "deuda_df.show(2)"
   ]
  },
  {
   "cell_type": "code",
   "execution_count": 19,
   "metadata": {
    "collapsed": false
   },
   "outputs": [
    {
     "name": "stdout",
     "output_type": "stream",
     "text": [
      "+------------+------------+--------------+--------------+--------------+--------------+--------------+--------------+--------------+--------------+--------------+--------------+--------------+--------------+--------------+--------------+--------------+--------------+--------------+--------------+--------------+--------------+--------------+--------------+--------------+--------------+--------------+\n",
      "|country_name|country_code|dt_amt_blat_cd|dt_amt_dlxf_cd|DT.AMT.DPNG.CD|dt_amt_mlat_cd|DT.AMT.OFFT.CD|DT.AMT.PBND.CD|DT.AMT.PCBK.CD|DT.AMT.PROP.CD|DT.AMT.PRVT.CD|dt_dis_blat_cd|DT.DIS.DLXF.CD|DT.DIS.MLAT.CD|DT.DIS.OFFT.CD|DT.DIS.PCBK.CD|DT.DIS.PROP.CD|DT.DIS.PRVT.CD|dt_int_blat_cd|DT.INT.DLXF.CD|DT.INT.DPNG.CD|DT.INT.MLAT.CD|DT.INT.OFFT.CD|DT.INT.PBND.CD|DT.INT.PCBK.CD|DT.INT.PROP.CD|DT.INT.PRVT.CD|\n",
      "+------------+------------+--------------+--------------+--------------+--------------+--------------+--------------+--------------+--------------+--------------+--------------+--------------+--------------+--------------+--------------+--------------+--------------+--------------+--------------+--------------+--------------+--------------+--------------+--------------+--------------+--------------+\n",
      "| Afghanistan|         AFG|    61739336.9|   100847181.9|          null|      39107845|   100847181.9|          null|          null|          null|          null|    49114729.4|    72894453.7|    23779724.3|    72894453.7|          null|          null|          null|    39903620.1|    53239440.1|          null|      13335820|    53239440.1|          null|          null|          null|          null|\n",
      "|     Albania|         ALB|    54250280.6|   790248675.2|     514185620|   182197616.7|   236447897.3|             0|    39445139.5|      170018.4|    39615157.9|    76050616.1|   317194512.5|   234321242.3|   310371858.4|     4542664.9|     2279989.2|     6822654.1|    13847333.6|   165602386.9|      87884000|    28101536.1|    41948869.7|    31030688.2|     4618504.3|      120324.7|    35769517.2|\n",
      "+------------+------------+--------------+--------------+--------------+--------------+--------------+--------------+--------------+--------------+--------------+--------------+--------------+--------------+--------------+--------------+--------------+--------------+--------------+--------------+--------------+--------------+--------------+--------------+--------------+--------------+--------------+\n",
      "only showing top 2 rows\n",
      "\n"
     ]
    }
   ],
   "source": [
    "# teniendo en cuenta que el dataset deuda contiene muchas columnas voy a renombrar solo aquellas que \n",
    "# me van a ser de utilidad en este análisis, para que no me den problemas al trabajar con ellas\n",
    "\n",
    "deuda_df = (deuda_df.withColumnRenamed(\"DT.AMT.MLAT.CD\",\"dt_amt_mlat_cd\")\n",
    "                   .withColumnRenamed(\"DT.AMT.BLAT.CD\", \"dt_amt_blat_cd\")\n",
    "                   .withColumnRenamed(\"DT.DIS.BLAT.CD\", \"dt_dis_blat_cd\")\n",
    "                   .withColumnRenamed(\"DT.INT.BLAT.CD\", \"dt_int_blat_cd\")\n",
    "                   .withColumnRenamed(\"DT.AMT.DLXF.CD\",\"dt_amt_dlxf_cd\"))\n",
    "\n",
    "deuda_df.show(2)"
   ]
  },
  {
   "cell_type": "code",
   "execution_count": 20,
   "metadata": {
    "collapsed": false
   },
   "outputs": [
    {
     "name": "stdout",
     "output_type": "stream",
     "text": [
      "root\n",
      " |-- country_name: string (nullable = true)\n",
      " |-- country_code: string (nullable = true)\n",
      " |-- dt_amt_blat_cd: string (nullable = true)\n",
      " |-- dt_amt_dlxf_cd: string (nullable = true)\n",
      " |-- DT.AMT.DPNG.CD: string (nullable = true)\n",
      " |-- dt_amt_mlat_cd: string (nullable = true)\n",
      " |-- DT.AMT.OFFT.CD: string (nullable = true)\n",
      " |-- DT.AMT.PBND.CD: string (nullable = true)\n",
      " |-- DT.AMT.PCBK.CD: string (nullable = true)\n",
      " |-- DT.AMT.PROP.CD: string (nullable = true)\n",
      " |-- DT.AMT.PRVT.CD: string (nullable = true)\n",
      " |-- dt_dis_blat_cd: string (nullable = true)\n",
      " |-- DT.DIS.DLXF.CD: string (nullable = true)\n",
      " |-- DT.DIS.MLAT.CD: string (nullable = true)\n",
      " |-- DT.DIS.OFFT.CD: string (nullable = true)\n",
      " |-- DT.DIS.PCBK.CD: string (nullable = true)\n",
      " |-- DT.DIS.PROP.CD: string (nullable = true)\n",
      " |-- DT.DIS.PRVT.CD: string (nullable = true)\n",
      " |-- dt_int_blat_cd: string (nullable = true)\n",
      " |-- DT.INT.DLXF.CD: string (nullable = true)\n",
      " |-- DT.INT.DPNG.CD: string (nullable = true)\n",
      " |-- DT.INT.MLAT.CD: string (nullable = true)\n",
      " |-- DT.INT.OFFT.CD: string (nullable = true)\n",
      " |-- DT.INT.PBND.CD: string (nullable = true)\n",
      " |-- DT.INT.PCBK.CD: string (nullable = true)\n",
      " |-- DT.INT.PROP.CD: string (nullable = true)\n",
      " |-- DT.INT.PRVT.CD: string (nullable = true)\n",
      "\n"
     ]
    }
   ],
   "source": [
    "# compruebo el tipo de datos\n",
    "deuda_df.printSchema()"
   ]
  },
  {
   "cell_type": "code",
   "execution_count": 21,
   "metadata": {
    "collapsed": false
   },
   "outputs": [
    {
     "data": {
      "text/plain": [
       "DataFrame[country_name: string, country_code: string, dt_amt_blat_cd: string, dt_amt_dlxf_cd: string, DT.AMT.DPNG.CD: string, dt_amt_mlat_cd: float, DT.AMT.OFFT.CD: string, DT.AMT.PBND.CD: string, DT.AMT.PCBK.CD: string, DT.AMT.PROP.CD: string, DT.AMT.PRVT.CD: string, dt_dis_blat_cd: string, DT.DIS.DLXF.CD: string, DT.DIS.MLAT.CD: string, DT.DIS.OFFT.CD: string, DT.DIS.PCBK.CD: string, DT.DIS.PROP.CD: string, DT.DIS.PRVT.CD: string, dt_int_blat_cd: string, DT.INT.DLXF.CD: string, DT.INT.DPNG.CD: string, DT.INT.MLAT.CD: string, DT.INT.OFFT.CD: string, DT.INT.PBND.CD: string, DT.INT.PCBK.CD: string, DT.INT.PROP.CD: string, DT.INT.PRVT.CD: string]"
      ]
     },
     "execution_count": 21,
     "metadata": {},
     "output_type": "execute_result"
    }
   ],
   "source": [
    "# casteo el tipo de dato string a float de la variable dt_amt_mlat_cd\n",
    "deuda_df.withColumn(\"dt_amt_mlat_cd\", f.col(\"dt_amt_mlat_cd\").cast(FloatType()))"
   ]
  },
  {
   "cell_type": "code",
   "execution_count": 22,
   "metadata": {
    "collapsed": false
   },
   "outputs": [
    {
     "name": "stdout",
     "output_type": "stream",
     "text": [
      "+--------------------+--------------+\n",
      "|        country_name|   deuda_total|\n",
      "+--------------------+--------------+\n",
      "|          South Asia|7.8517399295E9|\n",
      "|                Chad|  9.57387095E7|\n",
      "|            Paraguay| 2.076620309E8|\n",
      "|    Congo, Dem. Rep.|  1.43105462E8|\n",
      "|             Senegal| 1.704379291E8|\n",
      "|          Cabo Verde|  3.99701249E7|\n",
      "|Least developed c...|4.0842755242E9|\n",
      "|      Macedonia, FYR| 1.859528672E8|\n",
      "|              Guyana|  3.46518065E7|\n",
      "|             Eritrea|  1.54824754E7|\n",
      "|         Philippines| 7.390564273E8|\n",
      "|            Djibouti|  3.42549092E7|\n",
      "|               Tonga|     2791253.2|\n",
      "|                Fiji|     9082442.6|\n",
      "|              Turkey| 2.932698678E9|\n",
      "|              Malawi|  3.56598314E7|\n",
      "|             Comoros|     2182053.1|\n",
      "|         Afghanistan|   3.9107845E7|\n",
      "|            Cambodia|  7.23070018E7|\n",
      "|              Jordan| 2.704987155E8|\n",
      "+--------------------+--------------+\n",
      "only showing top 20 rows\n",
      "\n"
     ]
    }
   ],
   "source": [
    "# agrupo los datos por paises y hago un sumatorio para calcular el total de deuda multilateral de cada pais\n",
    "\n",
    "deuda_pais = deuda_df.groupby([\"country_name\"]).agg(f.sum(\"dt_amt_mlat_cd\").alias('deuda_total'))\n",
    "deuda_pais.show()\n",
    "\n",
    "# el resultado es dado en notación científica"
   ]
  },
  {
   "cell_type": "markdown",
   "metadata": {},
   "source": [
    "##### 4. Media de los indicadores de deuda (tabla uno): DT.AMT.BLAT.CD, DT.DIS.BLAT.CD, DT.INT.BLAT.CD"
   ]
  },
  {
   "cell_type": "code",
   "execution_count": 23,
   "metadata": {
    "collapsed": false
   },
   "outputs": [
    {
     "name": "stdout",
     "output_type": "stream",
     "text": [
      "+-------------------+\n",
      "|              media|\n",
      "+-------------------+\n",
      "|7.126196346598358E8|\n",
      "+-------------------+\n",
      "\n"
     ]
    }
   ],
   "source": [
    "# media del indicador DT.AMT.BLAT.CD \n",
    "\n",
    "media_indicador1 = deuda_df.select(['dt_amt_blat_cd']).agg(f.avg('dt_amt_blat_cd').alias('media'))\n",
    "media_indicador1.show()"
   ]
  },
  {
   "cell_type": "code",
   "execution_count": 24,
   "metadata": {
    "collapsed": false
   },
   "outputs": [
    {
     "name": "stdout",
     "output_type": "stream",
     "text": [
      "+------------------+\n",
      "|             media|\n",
      "+------------------+\n",
      "|1.22313929039823E9|\n",
      "+------------------+\n",
      "\n"
     ]
    }
   ],
   "source": [
    "# media del indicador DT.DIS.BLAT.CD\n",
    "deuda_df.select(['dt_dis_blat_cd']).agg(f.avg('dt_dis_blat_cd').alias('media')).show()"
   ]
  },
  {
   "cell_type": "code",
   "execution_count": 25,
   "metadata": {
    "collapsed": false
   },
   "outputs": [
    {
     "name": "stdout",
     "output_type": "stream",
     "text": [
      "+-------------------+\n",
      "|              media|\n",
      "+-------------------+\n",
      "|1.640932856090164E8|\n",
      "+-------------------+\n",
      "\n"
     ]
    }
   ],
   "source": [
    "# media del indicador DT.INT.BLAT.CD\n",
    "deuda_df.select(['dt_int_blat_cd']).agg(f.avg('dt_int_blat_cd').alias('media')).show()"
   ]
  },
  {
   "cell_type": "markdown",
   "metadata": {},
   "source": [
    "##### 5. Los 20 paises con DT.AMT.DLXF.CD más alto"
   ]
  },
  {
   "cell_type": "markdown",
   "metadata": {},
   "source": [
    "Primero agrupo por países y hago el sumatorio de la variable DT.AMT.DLXF.CD para saber el total de cada país. Posteriomente aplico la funcion orderBy para que devuelva los valores ordenados de forma descendente apareciendo en primer lugar los 20 con DT.AMT.DLXF.CD más alto."
   ]
  },
  {
   "cell_type": "code",
   "execution_count": 26,
   "metadata": {
    "collapsed": false
   },
   "outputs": [
    {
     "name": "stdout",
     "output_type": "stream",
     "text": [
      "+--------------------+----------------+\n",
      "|        country_name|      repayments|\n",
      "+--------------------+----------------+\n",
      "|               China|9.62186208357E10|\n",
      "|              Brazil|9.00418403041E10|\n",
      "|  Russian Federation|6.65897618335E10|\n",
      "|              Turkey|5.15550310058E10|\n",
      "|          South Asia|4.87562958982E10|\n",
      "|               India|3.19235070008E10|\n",
      "|           Indonesia|3.09161126538E10|\n",
      "|          Kazakhstan|2.74820936864E10|\n",
      "|              Mexico| 2.5218503927E10|\n",
      "|Least developed c...|2.51970292994E10|\n",
      "|            IDA only| 2.0483289208E10|\n",
      "|             Romania|1.40137833504E10|\n",
      "|            Colombia|1.19856744387E10|\n",
      "|              Angola|1.10670456281E10|\n",
      "|            Cameroon|1.04048149602E10|\n",
      "|       Venezuela, RB|  9.8786592072E9|\n",
      "|    Egypt, Arab Rep.|  9.6921141769E9|\n",
      "|             Lebanon|  9.5069196696E9|\n",
      "|        South Africa|  9.4742575519E9|\n",
      "|             Vietnam|  8.8735059092E9|\n",
      "+--------------------+----------------+\n",
      "only showing top 20 rows\n",
      "\n"
     ]
    }
   ],
   "source": [
    "#  DT.AMT.DLXF.CD - Principal repayments on external debt, long-term \n",
    "\n",
    "pre_20_paises = deuda_df.groupby([\"country_name\"]).agg(f.sum(\"dt_amt_dlxf_cd\").alias('repayments'))\n",
    "pre_20_paises.orderBy('repayments', ascending=False).show()"
   ]
  },
  {
   "cell_type": "markdown",
   "metadata": {},
   "source": [
    "##### 6. Pais con los datos informados todos los años."
   ]
  },
  {
   "cell_type": "code",
   "execution_count": 27,
   "metadata": {
    "collapsed": false
   },
   "outputs": [
    {
     "name": "stdout",
     "output_type": "stream",
     "text": [
      "+------------+------------+-------------+----------------+------------------+--------------+\n",
      "|country_name|country_code|         anho|  GC.DOD.TOTL.CN| GC.DOD.TOTL.GD.ZS|SP.DYN.CBRT.IN|\n",
      "+------------+------------+-------------+----------------+------------------+--------------+\n",
      "|     Albania|         ALB|2014 [YR2014]|   1023040800000|  73.3202469198429|        12.259|\n",
      "|     Albania|         ALB|2015 [YR2015]|   1145500940000|  79.8644448747259|        12.197|\n",
      "|     Albania|         ALB|2016 [YR2016]|   1188814490000|  80.7355748396923|         12.08|\n",
      "|   Australia|         AUS|2014 [YR2014]|       674700000| 0.042207528166503|          13.2|\n",
      "|   Australia|         AUS|2015 [YR2015]|       762718000|0.0469480198522591|          12.9|\n",
      "|   Australia|         AUS|2016 [YR2016]|       907555000| 0.054648482520169|          12.9|\n",
      "|Bahamas, The|         BHS|2014 [YR2014]|      5158420000|  47.2672793747079|         14.34|\n",
      "|Bahamas, The|         BHS|2015 [YR2015]|      5655150000|  48.1195170307089|        14.224|\n",
      "|Bahamas, The|         BHS|2016 [YR2016]|      6138814000|  51.4207431481606|        14.131|\n",
      "|    Barbados|         BRB|2014 [YR2014]|     12175704025|  129.629591844133|        10.916|\n",
      "|    Barbados|         BRB|2015 [YR2015]|     13365027241|  141.413895259761|        10.806|\n",
      "|     Belarus|         BLR|2014 [YR2014]|     19781184418|  24.5487262642116|          12.5|\n",
      "|     Belarus|         BLR|2015 [YR2015]|33804450453.3197|  37.5981780556757|          12.5|\n",
      "|     Belarus|         BLR|2016 [YR2016]|37941765765.7758|   39.960153098796|          12.4|\n",
      "|      Belize|         BLZ|2014 [YR2014]|      2609974000|  78.4811739351877|        22.067|\n",
      "|      Bhutan|         BTN|2014 [YR2014]|      1.0837e+11|  89.8206297688459|        17.965|\n",
      "|      Bhutan|         BTN|2015 [YR2015]|    120783002000|  91.4048311527287|        17.783|\n",
      "|      Bhutan|         BTN|2016 [YR2016]|    160562057000|  107.650111182046|        17.625|\n",
      "|    Botswana|         BWA|2014 [YR2014]|     25447260000|  17.4453597097219|         26.87|\n",
      "|    Botswana|         BWA|2015 [YR2015]|26159246269.7519|  17.9091592446388|         26.44|\n",
      "+------------+------------+-------------+----------------+------------------+--------------+\n",
      "only showing top 20 rows\n",
      "\n"
     ]
    }
   ],
   "source": [
    "# cargamos los datos como dataframe\n",
    "desarrollo_df = spark.read.csv(\"indicadores_desarrollo.csv\", header=True)\n",
    "desarrollo_df.show()"
   ]
  },
  {
   "cell_type": "code",
   "execution_count": 28,
   "metadata": {
    "collapsed": false
   },
   "outputs": [
    {
     "name": "stdout",
     "output_type": "stream",
     "text": [
      "+------------+------------+-------------+----------------+------------------+--------------+\n",
      "|country_name|country_code|         year|  gc_dod_totl_cn| gc_dod_totl_gd_zs|sp_dyn_cbrt_in|\n",
      "+------------+------------+-------------+----------------+------------------+--------------+\n",
      "|     Albania|         ALB|2014 [YR2014]|   1023040800000|  73.3202469198429|        12.259|\n",
      "|     Albania|         ALB|2015 [YR2015]|   1145500940000|  79.8644448747259|        12.197|\n",
      "|     Albania|         ALB|2016 [YR2016]|   1188814490000|  80.7355748396923|         12.08|\n",
      "|   Australia|         AUS|2014 [YR2014]|       674700000| 0.042207528166503|          13.2|\n",
      "|   Australia|         AUS|2015 [YR2015]|       762718000|0.0469480198522591|          12.9|\n",
      "|   Australia|         AUS|2016 [YR2016]|       907555000| 0.054648482520169|          12.9|\n",
      "|Bahamas, The|         BHS|2014 [YR2014]|      5158420000|  47.2672793747079|         14.34|\n",
      "|Bahamas, The|         BHS|2015 [YR2015]|      5655150000|  48.1195170307089|        14.224|\n",
      "|Bahamas, The|         BHS|2016 [YR2016]|      6138814000|  51.4207431481606|        14.131|\n",
      "|    Barbados|         BRB|2014 [YR2014]|     12175704025|  129.629591844133|        10.916|\n",
      "|    Barbados|         BRB|2015 [YR2015]|     13365027241|  141.413895259761|        10.806|\n",
      "|     Belarus|         BLR|2014 [YR2014]|     19781184418|  24.5487262642116|          12.5|\n",
      "|     Belarus|         BLR|2015 [YR2015]|33804450453.3197|  37.5981780556757|          12.5|\n",
      "|     Belarus|         BLR|2016 [YR2016]|37941765765.7758|   39.960153098796|          12.4|\n",
      "|      Belize|         BLZ|2014 [YR2014]|      2609974000|  78.4811739351877|        22.067|\n",
      "|      Bhutan|         BTN|2014 [YR2014]|      1.0837e+11|  89.8206297688459|        17.965|\n",
      "|      Bhutan|         BTN|2015 [YR2015]|    120783002000|  91.4048311527287|        17.783|\n",
      "|      Bhutan|         BTN|2016 [YR2016]|    160562057000|  107.650111182046|        17.625|\n",
      "|    Botswana|         BWA|2014 [YR2014]|     25447260000|  17.4453597097219|         26.87|\n",
      "|    Botswana|         BWA|2015 [YR2015]|26159246269.7519|  17.9091592446388|         26.44|\n",
      "+------------+------------+-------------+----------------+------------------+--------------+\n",
      "only showing top 20 rows\n",
      "\n"
     ]
    }
   ],
   "source": [
    "# renombramos las columnas para poder trabajar con ellas\n",
    "\n",
    "desarrollo_df = (desarrollo_df.withColumnRenamed(\"anho\",\"year\")\n",
    "                              .withColumnRenamed(\"GC.DOD.TOTL.GD.ZS\",\"gc_dod_totl_gd_zs\")\n",
    "                              .withColumnRenamed(\"GC.DOD.TOTL.CN\",\"gc_dod_totl_cn\")\n",
    "                              .withColumnRenamed(\"SP.DYN.CBRT.IN\",\"sp_dyn_cbrt_in\"))\n",
    "desarrollo_df.show()"
   ]
  },
  {
   "cell_type": "markdown",
   "metadata": {},
   "source": [
    "Los distintos años que incluye el dataset desarrollo son 2014, 2015, 2016 y 2017."
   ]
  },
  {
   "cell_type": "code",
   "execution_count": 29,
   "metadata": {
    "collapsed": false,
    "scrolled": true
   },
   "outputs": [
    {
     "name": "stdout",
     "output_type": "stream",
     "text": [
      "+-------------+\n",
      "|         year|\n",
      "+-------------+\n",
      "|2016 [YR2016]|\n",
      "|2014 [YR2014]|\n",
      "|2017 [YR2017]|\n",
      "|2015 [YR2015]|\n",
      "+-------------+\n",
      "\n"
     ]
    }
   ],
   "source": [
    "desarrollo_df.select('year').distinct().show()"
   ]
  },
  {
   "cell_type": "markdown",
   "metadata": {},
   "source": [
    "Ahora agrupamos el dataset _desarrollo_ por el nombre de país y contamos cuantas veces se repite. De este modo sabremos que país se repite 4 veces y, por tanto, que incluye sus datos durante los 4 años. En último lugar filtro por recuento de 4 y obtengo que el único país con los datos informados todos los años es Malawi."
   ]
  },
  {
   "cell_type": "code",
   "execution_count": 30,
   "metadata": {
    "collapsed": false
   },
   "outputs": [
    {
     "name": "stdout",
     "output_type": "stream",
     "text": [
      "+------------+-----+\n",
      "|country_name|count|\n",
      "+------------+-----+\n",
      "|      Malawi|    4|\n",
      "+------------+-----+\n",
      "\n"
     ]
    }
   ],
   "source": [
    "country_count = desarrollo_df.groupby('country_name').count()\n",
    "country_count.filter(\"count == 4\").show()"
   ]
  },
  {
   "cell_type": "markdown",
   "metadata": {},
   "source": [
    "##### 7. Media anual de los distintos indicadores de desarrollo"
   ]
  },
  {
   "cell_type": "markdown",
   "metadata": {},
   "source": [
    "Para calcular la media anual de los distintos indicadores de desarrollo agrupamos cada indicador por años y realizamos una función de agregado average para calcular la media anual. Después, se ha aplicado la función orderBy para que nos devuelva los datos por orden de años de 2014 a 2017."
   ]
  },
  {
   "cell_type": "code",
   "execution_count": 31,
   "metadata": {
    "collapsed": false
   },
   "outputs": [
    {
     "name": "stdout",
     "output_type": "stream",
     "text": [
      "+-------------+--------------------+\n",
      "|         year|         media_anual|\n",
      "+-------------+--------------------+\n",
      "|2014 [YR2014]|1.034427587329532...|\n",
      "|2015 [YR2015]|1.318244039159024...|\n",
      "|2016 [YR2016]|1.588138215480659...|\n",
      "|2017 [YR2017]| 2.23985861996269E12|\n",
      "+-------------+--------------------+\n",
      "\n"
     ]
    }
   ],
   "source": [
    "# media anual GC.DOD.TOTL.GD.ZS\n",
    "indicador_1_avg = desarrollo_df.groupby('year').agg(f.avg('gc_dod_totl_cn').alias('media_anual')).orderBy('year', ascending=True)\n",
    "indicador_1_avg.show(5)"
   ]
  },
  {
   "cell_type": "code",
   "execution_count": 32,
   "metadata": {
    "collapsed": false
   },
   "outputs": [
    {
     "name": "stdout",
     "output_type": "stream",
     "text": [
      "+-------------+------------------+\n",
      "|         year|       media_anual|\n",
      "+-------------+------------------+\n",
      "|2014 [YR2014]|56.843914344384395|\n",
      "|2015 [YR2015]| 58.36559834488036|\n",
      "|2016 [YR2016]|58.796949624008356|\n",
      "|2017 [YR2017]|   48.659564238322|\n",
      "+-------------+------------------+\n",
      "\n"
     ]
    }
   ],
   "source": [
    "# media anual GC.DOD.TOTL.CN\n",
    "indicador_2_avg = desarrollo_df.groupby('year').agg(f.avg('gc_dod_totl_gd_zs').alias('media_anual')).orderBy('year', ascending=True)\n",
    "indicador_2_avg.show(5)"
   ]
  },
  {
   "cell_type": "code",
   "execution_count": 33,
   "metadata": {
    "collapsed": false
   },
   "outputs": [
    {
     "name": "stdout",
     "output_type": "stream",
     "text": [
      "+-------------+------------------+\n",
      "|         year|       media_anual|\n",
      "+-------------+------------------+\n",
      "|2014 [YR2014]|          17.58262|\n",
      "|2015 [YR2015]|16.798477272727276|\n",
      "|2016 [YR2016]| 16.14433333333333|\n",
      "|2017 [YR2017]|            34.593|\n",
      "+-------------+------------------+\n",
      "\n"
     ]
    }
   ],
   "source": [
    "# media anual SP.DYN.CBRT.IN\n",
    "indicador_3_avg = desarrollo_df.groupby('year').agg(f.avg('sp_dyn_cbrt_in').alias('media_anual')).orderBy('year', ascending=True)\n",
    "indicador_3_avg.show(5)"
   ]
  },
  {
   "cell_type": "markdown",
   "metadata": {},
   "source": [
    "##### 8. Podrías decirme el total de deuda acumulada DT.AMT.MLAT.CD por los 10 países con un valor en media menor de SP.DYN.CBRT.IN"
   ]
  },
  {
   "cell_type": "markdown",
   "metadata": {},
   "source": [
    "En primer lugar cargo los datos de deuda acumulada DT.AMT.MLAT.CD que habia calculado en el apartado 3."
   ]
  },
  {
   "cell_type": "code",
   "execution_count": 34,
   "metadata": {
    "collapsed": false
   },
   "outputs": [
    {
     "name": "stdout",
     "output_type": "stream",
     "text": [
      "+--------------------+--------------+\n",
      "|        country_name|   deuda_total|\n",
      "+--------------------+--------------+\n",
      "|          South Asia|7.8517399295E9|\n",
      "|                Chad|  9.57387095E7|\n",
      "|            Paraguay| 2.076620309E8|\n",
      "|    Congo, Dem. Rep.|  1.43105462E8|\n",
      "|             Senegal| 1.704379291E8|\n",
      "|          Cabo Verde|  3.99701249E7|\n",
      "|Least developed c...|4.0842755242E9|\n",
      "|      Macedonia, FYR| 1.859528672E8|\n",
      "|              Guyana|  3.46518065E7|\n",
      "|             Eritrea|  1.54824754E7|\n",
      "|         Philippines| 7.390564273E8|\n",
      "|            Djibouti|  3.42549092E7|\n",
      "|               Tonga|     2791253.2|\n",
      "|                Fiji|     9082442.6|\n",
      "|              Turkey| 2.932698678E9|\n",
      "|              Malawi|  3.56598314E7|\n",
      "|             Comoros|     2182053.1|\n",
      "|         Afghanistan|   3.9107845E7|\n",
      "|            Cambodia|  7.23070018E7|\n",
      "|              Jordan| 2.704987155E8|\n",
      "+--------------------+--------------+\n",
      "only showing top 20 rows\n",
      "\n"
     ]
    }
   ],
   "source": [
    "deuda_pais.show()"
   ]
  },
  {
   "cell_type": "markdown",
   "metadata": {},
   "source": [
    "Posteriormente, calculo la tasa media de natalidad agrupando los datos por país."
   ]
  },
  {
   "cell_type": "code",
   "execution_count": 35,
   "metadata": {
    "collapsed": false
   },
   "outputs": [
    {
     "name": "stdout",
     "output_type": "stream",
     "text": [
      "+-------------------+------------------+\n",
      "|       country_name|        tasa_media|\n",
      "+-------------------+------------------+\n",
      "|        Philippines|            22.935|\n",
      "|              Tonga|25.362333333333336|\n",
      "|           Malaysia|17.017333333333333|\n",
      "|          Singapore| 9.633333333333333|\n",
      "|             Turkey|16.717333333333332|\n",
      "|             Malawi|            35.556|\n",
      "|             Jordan|            24.305|\n",
      "|              Palau|13.133333333333333|\n",
      "|          Sri Lanka|            16.729|\n",
      "|         San Marino|              8.05|\n",
      "|            Albania|12.178666666666667|\n",
      "|               Peru|18.564666666666668|\n",
      "|          St. Lucia|            12.502|\n",
      "|      United States|12.366666666666665|\n",
      "|            Belarus|12.466666666666667|\n",
      "|St. Kitts and Nevis|              12.6|\n",
      "|              Spain|               9.0|\n",
      "|           Barbados|            10.861|\n",
      "| Russian Federation|13.166666666666666|\n",
      "|            Ireland|              13.9|\n",
      "+-------------------+------------------+\n",
      "only showing top 20 rows\n",
      "\n"
     ]
    }
   ],
   "source": [
    "# SP.DYN.CBRT.IN - tasa de natalidad\n",
    "tasa_media = desarrollo_df.groupby(\"country_name\").agg(f.avg(\"sp_dyn_cbrt_in\").alias('tasa_media'))\n",
    "tasa_media.show()"
   ]
  },
  {
   "cell_type": "markdown",
   "metadata": {},
   "source": [
    "Ahora uno los dos dataset, el de deuda total y el de tasa media."
   ]
  },
  {
   "cell_type": "code",
   "execution_count": 36,
   "metadata": {
    "collapsed": false
   },
   "outputs": [
    {
     "name": "stdout",
     "output_type": "stream",
     "text": [
      "+------------------+--------------+------------------+\n",
      "|      country_name|   deuda_total|        tasa_media|\n",
      "+------------------+--------------+------------------+\n",
      "|       Philippines| 7.390564273E8|            22.935|\n",
      "|             Tonga|     2791253.2|25.362333333333336|\n",
      "|            Turkey| 2.932698678E9|16.717333333333332|\n",
      "|            Malawi|  3.56598314E7|            35.556|\n",
      "|            Jordan| 2.704987155E8|            24.305|\n",
      "|         Sri Lanka| 4.497719611E8|            16.729|\n",
      "|           Albania| 1.821976167E8|12.178666666666667|\n",
      "|              Peru|   5.5363409E8|18.564666666666668|\n",
      "|         St. Lucia|  1.50192163E7|            12.502|\n",
      "|           Belarus|  5.95438826E8|12.466666666666667|\n",
      "|Russian Federation|    1.416695E8|13.166666666666666|\n",
      "|          Thailand|  3.90715715E7|           10.9175|\n",
      "|            Bhutan|  1.73904205E7|            17.791|\n",
      "|           Ukraine|1.0724728303E9|              10.6|\n",
      "|           Georgia| 1.440624015E8|            14.056|\n",
      "|         Indonesia|2.4691458247E9|19.163999999999998|\n",
      "|         Guatemala| 3.398222536E8|25.628666666666664|\n",
      "|            Zambia|  5.30689649E7|           38.2975|\n",
      "|           Jamaica|  1.74427648E8| 16.63566666666667|\n",
      "|   Kyrgyz Republic|  7.52780372E7| 27.03333333333333|\n",
      "+------------------+--------------+------------------+\n",
      "only showing top 20 rows\n",
      "\n"
     ]
    }
   ],
   "source": [
    "union_df = deuda_pais.join(tasa_media, on='country_name', how ='inner')\n",
    "union_df.show()"
   ]
  },
  {
   "cell_type": "markdown",
   "metadata": {},
   "source": [
    "Y ordeno los datos de forma ascendente según tasa media de natalidad limitandolo a los 10 primeros registros que se corresponderán con los países con tasa media más baja."
   ]
  },
  {
   "cell_type": "code",
   "execution_count": 37,
   "metadata": {
    "collapsed": false
   },
   "outputs": [
    {
     "name": "stdout",
     "output_type": "stream",
     "text": [
      "+--------------------+--------------+------------------+\n",
      "|        country_name|   deuda_total|        tasa_media|\n",
      "+--------------------+--------------+------------------+\n",
      "|             Ukraine|1.0724728303E9|              10.6|\n",
      "|             Moldova| 1.358428655E8|10.604333333333335|\n",
      "|            Thailand|  3.90715715E7|           10.9175|\n",
      "|             Albania| 1.821976167E8|12.178666666666667|\n",
      "|             Belarus|  5.95438826E8|12.466666666666667|\n",
      "|           St. Lucia|  1.50192163E7|            12.502|\n",
      "|  Russian Federation|    1.416695E8|13.166666666666666|\n",
      "|             Georgia| 1.440624015E8|            14.056|\n",
      "|              Brazil|2.5143187416E9|14.467666666666666|\n",
      "|St. Vincent and t...|  2.16156007E7|            15.011|\n",
      "+--------------------+--------------+------------------+\n",
      "\n"
     ]
    }
   ],
   "source": [
    "deuda_nat = union_df.orderBy('tasa_media', ascending=True).limit(10)\n",
    "deuda_nat.show()\n",
    "# aquí tenemos los 10 países con menor tasa de natalidad y su correspondiente deuda"
   ]
  },
  {
   "cell_type": "code",
   "execution_count": 38,
   "metadata": {
    "collapsed": false
   },
   "outputs": [
    {
     "name": "stdout",
     "output_type": "stream",
     "text": [
      "+-------------------+\n",
      "|   sum(deuda_total)|\n",
      "+-------------------+\n",
      "|4.861709170099999E9|\n",
      "+-------------------+\n",
      "\n"
     ]
    }
   ],
   "source": [
    "deuda_nat.agg(f.sum(\"deuda_total\")).show()\n",
    "# total de deuda acumulada por los 10 paises con menor tasa de natalidad"
   ]
  },
  {
   "cell_type": "markdown",
   "metadata": {},
   "source": [
    "##### 9. ¿Hay alguna relación entre los nacimientos y el indicador DT.AMT.DLXF.CD? ¿Cómo podrías demostrarlo?"
   ]
  },
  {
   "cell_type": "markdown",
   "metadata": {},
   "source": [
    "Para comprobar si existe relación entre estas dos variables vamos a calcular su correlación y a realizar un scatter plot con el que ver de forma visual la relación entre estas dos variables."
   ]
  },
  {
   "cell_type": "code",
   "execution_count": 39,
   "metadata": {
    "collapsed": false
   },
   "outputs": [],
   "source": [
    "# DT.AMT.DLXF.CD - Principal repayments on external debt, long-term \n",
    "# hago el sumatorio de esta variable del dataset deuda_df para luego juntar unicamente esa columna con el dataset de desarrollo \n",
    "# donde se encuntra la variable sobre tasa de natalidad\n",
    "repay = deuda_df.groupby([\"country_name\"]).agg(f.sum(\"dt_amt_dlxf_cd\"). alias('dt_amt_dlxf_cd'))"
   ]
  },
  {
   "cell_type": "code",
   "execution_count": 40,
   "metadata": {
    "collapsed": false
   },
   "outputs": [
    {
     "name": "stdout",
     "output_type": "stream",
     "text": [
      "+------------+----------------+------------+-------------+----------------+-----------------+--------------+\n",
      "|country_name|  dt_amt_dlxf_cd|country_code|         year|  gc_dod_totl_cn|gc_dod_totl_gd_zs|sp_dyn_cbrt_in|\n",
      "+------------+----------------+------------+-------------+----------------+-----------------+--------------+\n",
      "| Philippines|  6.4791709177E9|         PHL|2014 [YR2014]|    5.735242e+12| 45.3946271793812|        22.935|\n",
      "|       Tonga|    1.03699106E7|         TON|2016 [YR2016]|       460835620| 51.8083889825745|        24.977|\n",
      "|       Tonga|    1.03699106E7|         TON|2015 [YR2015]|       434560045| 51.3603646141118|        25.354|\n",
      "|       Tonga|    1.03699106E7|         TON|2014 [YR2014]|       378478931|   47.04523691734|        25.756|\n",
      "|      Turkey|5.15550310058E10|         TUR|2016 [YR2016]|831394045789.176| 31.8721809053214|        16.494|\n",
      "|      Turkey|5.15550310058E10|         TUR|2015 [YR2015]|683048720324.166| 29.2069977270683|        16.718|\n",
      "|      Turkey|5.15550310058E10|         TUR|2014 [YR2014]|645312129880.536| 31.5638493902928|         16.94|\n",
      "|      Malawi|    5.74223731E7|         MWI|2017 [YR2017]|2239858619962.69|  48.659564238322|        34.593|\n",
      "|      Malawi|    5.74223731E7|         MWI|2016 [YR2016]|2151680949747.66| 55.1578705122511|        35.163|\n",
      "|      Malawi|    5.74223731E7|         MWI|2015 [YR2015]|    1.259062e+12| 39.5422371324465|        35.839|\n",
      "+------------+----------------+------------+-------------+----------------+-----------------+--------------+\n",
      "only showing top 10 rows\n",
      "\n"
     ]
    }
   ],
   "source": [
    "# juntos los dataset\n",
    "union_df2 = repay.join(desarrollo_df, on='country_name', how='inner')\n",
    "union_df2.show(10)"
   ]
  },
  {
   "cell_type": "code",
   "execution_count": 41,
   "metadata": {
    "collapsed": false
   },
   "outputs": [
    {
     "name": "stdout",
     "output_type": "stream",
     "text": [
      "+------------+----------------+--------------+\n",
      "|country_name|  dt_amt_dlxf_cd|sp_dyn_cbrt_in|\n",
      "+------------+----------------+--------------+\n",
      "| Philippines|  6.4791709177E9|        22.935|\n",
      "|       Tonga|    1.03699106E7|        24.977|\n",
      "|       Tonga|    1.03699106E7|        25.354|\n",
      "|       Tonga|    1.03699106E7|        25.756|\n",
      "|      Turkey|5.15550310058E10|        16.494|\n",
      "|      Turkey|5.15550310058E10|        16.718|\n",
      "|      Turkey|5.15550310058E10|         16.94|\n",
      "|      Malawi|    5.74223731E7|        34.593|\n",
      "|      Malawi|    5.74223731E7|        35.163|\n",
      "|      Malawi|    5.74223731E7|        35.839|\n",
      "|      Malawi|    5.74223731E7|        36.629|\n",
      "|      Jordan|  1.9903434792E9|        23.396|\n",
      "|      Jordan|  1.9903434792E9|        25.214|\n",
      "|   Sri Lanka|  5.7614892559E9|        16.609|\n",
      "|   Sri Lanka|  5.7614892559E9|        16.849|\n",
      "|     Albania|   7.902486752E8|         12.08|\n",
      "|     Albania|   7.902486752E8|        12.197|\n",
      "|     Albania|   7.902486752E8|        12.259|\n",
      "|        Peru|  5.8812599747E9|        18.323|\n",
      "|        Peru|  5.8812599747E9|        18.544|\n",
      "+------------+----------------+--------------+\n",
      "only showing top 20 rows\n",
      "\n"
     ]
    }
   ],
   "source": [
    "union_df2 = union_df2.select([\"country_name\", \"dt_amt_dlxf_cd\", \"sp_dyn_cbrt_in\"])\n",
    "union_df2.show()"
   ]
  },
  {
   "cell_type": "markdown",
   "metadata": {},
   "source": [
    "Convierto el dataframe de spark en dataframe de Pandas para poder representar graficamente con la librería \"matplotlib\"."
   ]
  },
  {
   "cell_type": "code",
   "execution_count": 42,
   "metadata": {
    "collapsed": true
   },
   "outputs": [],
   "source": [
    "import pandas as pd"
   ]
  },
  {
   "cell_type": "code",
   "execution_count": 43,
   "metadata": {
    "collapsed": false
   },
   "outputs": [],
   "source": [
    "# Convert a spark DataFrame to pandas DF\n",
    "union_df2 = union_df2.toPandas()\n",
    "# https://stackoverflow.com/questions/50958721/convert-a-spark-dataframe-to-pandas-df"
   ]
  },
  {
   "cell_type": "code",
   "execution_count": 44,
   "metadata": {
    "collapsed": false
   },
   "outputs": [],
   "source": [
    "# paso la columna sp_dyn_cbrt_in de tipo string a float\n",
    "union_df2['sp_dyn_cbrt_in'] = union_df2['sp_dyn_cbrt_in'].astype(float)"
   ]
  },
  {
   "cell_type": "code",
   "execution_count": 45,
   "metadata": {
    "collapsed": false
   },
   "outputs": [
    {
     "data": {
      "text/html": [
       "<div>\n",
       "<table border=\"1\" class=\"dataframe\">\n",
       "  <thead>\n",
       "    <tr style=\"text-align: right;\">\n",
       "      <th></th>\n",
       "      <th>dt_amt_dlxf_cd</th>\n",
       "      <th>sp_dyn_cbrt_in</th>\n",
       "    </tr>\n",
       "  </thead>\n",
       "  <tbody>\n",
       "    <tr>\n",
       "      <th>dt_amt_dlxf_cd</th>\n",
       "      <td>1.000000</td>\n",
       "      <td>-0.286635</td>\n",
       "    </tr>\n",
       "    <tr>\n",
       "      <th>sp_dyn_cbrt_in</th>\n",
       "      <td>-0.286635</td>\n",
       "      <td>1.000000</td>\n",
       "    </tr>\n",
       "  </tbody>\n",
       "</table>\n",
       "</div>"
      ],
      "text/plain": [
       "                dt_amt_dlxf_cd  sp_dyn_cbrt_in\n",
       "dt_amt_dlxf_cd        1.000000       -0.286635\n",
       "sp_dyn_cbrt_in       -0.286635        1.000000"
      ]
     },
     "execution_count": 45,
     "metadata": {},
     "output_type": "execute_result"
    }
   ],
   "source": [
    "union_df2.corr()\n",
    "# correlación negativa"
   ]
  },
  {
   "cell_type": "code",
   "execution_count": 46,
   "metadata": {
    "collapsed": false
   },
   "outputs": [],
   "source": [
    "import matplotlib.pyplot as plt\n",
    "%matplotlib inline"
   ]
  },
  {
   "cell_type": "code",
   "execution_count": 47,
   "metadata": {
    "collapsed": false
   },
   "outputs": [
    {
     "data": {
      "text/plain": [
       "<matplotlib.text.Text at 0x7fdb78141320>"
      ]
     },
     "execution_count": 47,
     "metadata": {},
     "output_type": "execute_result"
    },
    {
     "data": {
      "image/png": "[encoded data removed]",
      "text/plain": [
       "<matplotlib.figure.Figure at 0x7fdb781902b0>"
      ]
     },
     "metadata": {},
     "output_type": "display_data"
    }
   ],
   "source": [
    "# representación gráfica de la relación\n",
    "plt.scatter(union_df2.dt_amt_dlxf_cd, union_df2.sp_dyn_cbrt_in, c = 'aquamarine')\n",
    "plt.xlabel('dt_amt_dlxf_cd')\n",
    "plt.ylabel('sp_dyn_cbrt_in')\n",
    "\n",
    "# la correlación entre los nacimientos y el indicador DT.AMT.DLXF.CD es negativa, a medida que 'dt_amt_dlxf_cd' aumenta \n",
    "# 'sp_dyn_cbrt_in' disminuye. Además, la relación entre estas variables es muy pequeña, pues es muy cercana a 0."
   ]
  },
  {
   "cell_type": "code",
   "execution_count": 48,
   "metadata": {
    "collapsed": true
   },
   "outputs": [],
   "source": [
    "# Finalización contexto spark\n",
    "sc.stop()"
   ]
  }
 ],
 "metadata": {
  "kernelspec": {
   "display_name": "Python 3",
   "language": "python",
   "name": "python3"
  },
  "language_info": {
   "codemirror_mode": {
    "name": "ipython",
    "version": 3
   },
   "file_extension": ".py",
   "mimetype": "text/x-python",
   "name": "python",
   "nbconvert_exporter": "python",
   "pygments_lexer": "ipython3",
   "version": "3.5.2"
  }
 },
 "nbformat": 4,
 "nbformat_minor": 2
}
