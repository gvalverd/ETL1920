{
  "nbformat": 4,
  "nbformat_minor": 0,
  "metadata": {
    "kernelspec": {
      "display_name": "Python 3",
      "language": "python",
      "name": "python3"
    },
    "language_info": {
      "codemirror_mode": {
        "name": "ipython",
        "version": 3
      },
      "file_extension": ".py",
      "mimetype": "text/x-python",
      "name": "python",
      "nbconvert_exporter": "python",
      "pygments_lexer": "ipython3",
      "version": "3.7.4"
    },
    "colab": {
      "name": "examen1920v2.ipynb",
      "provenance": [],
      "toc_visible": true
    }
  },
  "cells": [
    {
      "cell_type": "markdown",
      "metadata": {
        "id": "1JHBFAMie4D4"
      },
      "source": [
        "# BEATRIZ CÁRDABA RICO\n",
        "## 1. The World Bank's international debt data\n",
        "<p>No es que los humanos solo tengamos deudas para administrar nuestras necesidades. Un país también puede endeudarse para administrar su economía. Por ejemplo, el gasto en infraestructura es un ingrediente costoso requerido para que los ciudadanos de un país lleven una vida cómoda. El Banco Mundial es la organización que proporciona deuda a los países.</p>\n",
        "\n",
        "<!-- <p>En este notebook, vamos a analizar los datos de la deuda internacional recopilados por el Banco Mundial. El conjunto de datos contiene información sobre el monto de la deuda (en USD) que deben los países en desarrollo en varias categorías.</p>  -->\n",
        "    "
      ]
    },
    {
      "cell_type": "markdown",
      "metadata": {
        "id": "7u61FOthe4EF"
      },
      "source": [
        "\"Disbursements on external debt, long-term (DIS, current US$)\",DT.DIS.DLXF.CD\n",
        "\"Interest payments on external debt, long-term (INT, current US$)\",DT.INT.DLXF.CD\n",
        "\"PPG, bilateral (AMT, current US$)\",DT.AMT.BLAT.CD\n",
        "\"PPG, bilateral (DIS, current US$)\",DT.DIS.BLAT.CD\n",
        "\"PPG, bilateral (INT, current US$)\",DT.INT.BLAT.CD\n",
        "\"PPG, multilateral (AMT, current US$)\",DT.AMT.MLAT.CD\n",
        "\"PPG, multilateral (DIS, current US$)\",DT.DIS.MLAT.CD\n",
        "\"PPG, multilateral (INT, current US$)\",DT.INT.MLAT.CD\n",
        "\"PPG, official creditors (AMT, current US$)\",DT.AMT.OFFT.CD\n",
        "\"PPG, official creditors (DIS, current US$)\",DT.DIS.OFFT.CD\n",
        "\"PPG, official creditors (INT, current US$)\",DT.INT.OFFT.CD\n",
        "\"Principal repayments on external debt, long-term (AMT, current US$)\",DT.AMT.DLXF.CD\n",
        "\"Interest payments on external debt, private nonguaranteed (PNG) (INT, current US$)\",DT.INT.DPNG.CD\n",
        "\"PPG, bonds (AMT, current US$)\",DT.AMT.PBND.CD\n",
        "\"PPG, bonds (INT, current US$)\",DT.INT.PBND.CD\n",
        "\"PPG, commercial banks (AMT, current US$)\",DT.AMT.PCBK.CD\n",
        "\"PPG, commercial banks (DIS, current US$)\",DT.DIS.PCBK.CD\n",
        "\"PPG, commercial banks (INT, current US$)\",DT.INT.PCBK.CD\n",
        "\"PPG, other private creditors (AMT, current US$)\",DT.AMT.PROP.CD\n",
        "\"PPG, other private creditors (DIS, current US$)\",DT.DIS.PROP.CD\n",
        "\"PPG, other private creditors (INT, current US$)\",DT.INT.PROP.CD\n",
        "\"PPG, private creditors (AMT, current US$)\",DT.AMT.PRVT.CD\n",
        "\"PPG, private creditors (DIS, current US$)\",DT.DIS.PRVT.CD\n",
        "\"PPG, private creditors (INT, current US$)\",DT.INT.PRVT.CD\n",
        "\"Principal repayments on external debt, private nonguaranteed (PNG) (AMT, current US$)\",DT.AMT.DPNG.CD"
      ]
    },
    {
      "cell_type": "markdown",
      "metadata": {
        "id": "0Rt55Hd1e4EH"
      },
      "source": [
        "<p>Vamos a encontrar las respuestas a preguntas como:\n",
        "\n",
        "<p>¿Cuál es el monto total de la deuda que deben los países enumerados en el conjunto de datos?\n",
        "<p>¿Qué país posee la cantidad máxima de deuda y cómo se ve esa cantidad?\n",
        "<p>¿Cuál es el monto promedio de la deuda de los países a través de diferentes indicadores de deuda?\n",
        "    \n",
        "Además tenemos otro dataset en el que encontramos información histórica de algunos índices de desarrollo, entre los que se encuentran algunos de deuda como son:"
      ]
    },
    {
      "cell_type": "markdown",
      "metadata": {
        "id": "9qEkwQFTe4EI"
      },
      "source": [
        "Series Name,Series Code\n",
        "\"Birth rate, crude (per 1,000 people)\",SP.DYN.CBRT.IN\n",
        "\n",
        "\"Central government debt, total (current LCU)\",GC.DOD.TOTL.CN\n",
        "\n",
        "\"Central government debt, total (% of GDP)\",GC.DOD.TOTL.GD.ZS"
      ]
    },
    {
      "cell_type": "markdown",
      "metadata": {
        "id": "YzKFFtE3e4EI"
      },
      "source": [
        "#### 1. Inicializar y cargar el contexto spark"
      ]
    },
    {
      "cell_type": "code",
      "metadata": {
        "id": "8gGaLbLoff4O"
      },
      "source": [
        "!apt-get install openjdk-8-jdk-headless -qq > /dev/null\r\n",
        "!wget -q https://www-us.apache.org/dist/spark/spark-2.4.7/spark-2.4.7-bin-hadoop2.7.tgz\r\n",
        "!tar xf spark-2.4.7-bin-hadoop2.7.tgz\r\n",
        "!pip install -q findspark\r\n",
        "\r\n",
        "\r\n",
        "import os\r\n",
        "os.environ[\"JAVA_HOME\"] = \"/usr/lib/jvm/java-8-openjdk-amd64\"\r\n",
        "os.environ[\"SPARK_HOME\"] = \"/content/spark-2.4.7-bin-hadoop2.7\"\r\n",
        "\r\n",
        "import findspark\r\n",
        "findspark.init()\r\n",
        "from pyspark import SparkContext"
      ],
      "execution_count": 524,
      "outputs": []
    },
    {
      "cell_type": "code",
      "metadata": {
        "id": "Ep2tm5rQlHfl"
      },
      "source": [
        "from pyspark import SparkContext\r\n",
        "from pyspark.sql import *\r\n",
        "from pyspark.sql import SQLContext, functions as F, Row\r\n",
        "from pyspark.sql.types import *\r\n",
        "from pyspark.sql.types import StringType, IntegerType\r\n",
        "\r\n",
        "# Librería para dar formato a las salidas obtenidas\r\n",
        "import pandas as pd\r\n",
        "# Librería para aplicar expresiones regulares en el parseado\r\n",
        "import re\r\n",
        "# librería para parsear las fechas con formato date\r\n",
        "from datetime import datetime\r\n",
        "# Librería que permite descargar información de una url desde python\r\n",
        "import urllib\r\n",
        "from urllib.request import urlretrieve\r\n",
        "# Librería para llamar a funciones relacionadas con el sistema operativo\r\n",
        "import os"
      ],
      "execution_count": 525,
      "outputs": []
    },
    {
      "cell_type": "code",
      "metadata": {
        "id": "4HPwB4-alb_i"
      },
      "source": [
        "sc = SparkContext.getOrCreate()\r\n"
      ],
      "execution_count": 526,
      "outputs": []
    },
    {
      "cell_type": "code",
      "metadata": {
        "id": "ybDv8J5JlfTM"
      },
      "source": [
        "sqlContext = SQLContext(sc)"
      ],
      "execution_count": 527,
      "outputs": []
    },
    {
      "cell_type": "markdown",
      "metadata": {
        "id": "7lEtJJcfpPwd"
      },
      "source": [
        "Importamos los datos desde CSV textfil de spark:\r\n"
      ]
    },
    {
      "cell_type": "code",
      "metadata": {
        "id": "GN432CwPlulK"
      },
      "source": [
        "indicadores_desarrollo = \"indicadores_desarrollo.csv\"\r\n",
        "raw_desarrollo = sc.textFile(indicadores_desarrollo)"
      ],
      "execution_count": 528,
      "outputs": []
    },
    {
      "cell_type": "code",
      "metadata": {
        "id": "O2tEp93wrIg_"
      },
      "source": [
        "indicadores_deuda = \"indicadores_deuda.csv\"\r\n",
        "raw_deuda = sc.textFile(indicadores_deuda)"
      ],
      "execution_count": 529,
      "outputs": []
    },
    {
      "cell_type": "markdown",
      "metadata": {
        "id": "jVTv1ek-pafd"
      },
      "source": [
        "# PARSEO\r\n",
        " -  DATOS DE DESARROLLO"
      ]
    },
    {
      "cell_type": "code",
      "metadata": {
        "colab": {
          "base_uri": "https://localhost:8080/"
        },
        "id": "bbYU5qlLrIj5",
        "outputId": "162adadb-0e97-4bbb-9da2-d56972ac4b29"
      },
      "source": [
        "raw_desarrollo.take(5) # visualizamos las 5 primeras filas"
      ],
      "execution_count": 530,
      "outputs": [
        {
          "output_type": "execute_result",
          "data": {
            "text/plain": [
              "['country_name,country_code,anho,GC.DOD.TOTL.CN,GC.DOD.TOTL.GD.ZS,SP.DYN.CBRT.IN',\n",
              " 'Albania,ALB,2014 [YR2014],1023040800000,73.3202469198429,12.259',\n",
              " 'Albania,ALB,2015 [YR2015],1145500940000,79.8644448747259,12.197',\n",
              " 'Albania,ALB,2016 [YR2016],1188814490000,80.7355748396923,12.08',\n",
              " 'Australia,AUS,2014 [YR2014],674700000,0.042207528166503,13.2']"
            ]
          },
          "metadata": {
            "tags": []
          },
          "execution_count": 530
        }
      ]
    },
    {
      "cell_type": "markdown",
      "metadata": {
        "id": "pLxhRMLEp_Ny"
      },
      "source": [
        "Comprobamos que las columnas están separadas por comas, parseamos los datos de desarrollo:"
      ]
    },
    {
      "cell_type": "code",
      "metadata": {
        "id": "q77ay8t8rfOC"
      },
      "source": [
        "dt_desarrollo = raw_desarrollo.map(lambda x: x.split(\",\")) # para separar los diferentes campos"
      ],
      "execution_count": 531,
      "outputs": []
    },
    {
      "cell_type": "markdown",
      "metadata": {
        "id": "eJeBPE3BqLhk"
      },
      "source": [
        "Visualizamos que ahora las columnas se diferencian correctamente:\r\n",
        "\r\n",
        "\r\n"
      ]
    },
    {
      "cell_type": "code",
      "metadata": {
        "colab": {
          "base_uri": "https://localhost:8080/"
        },
        "id": "DpWCHDngrm7i",
        "outputId": "b3d83551-565a-4389-bc77-8cb3363d74b1"
      },
      "source": [
        "dt_desarrollo.take(2) # visualizamos las dos primeras filas y comprobamos que se diferencian las columnas correctamente"
      ],
      "execution_count": 532,
      "outputs": [
        {
          "output_type": "execute_result",
          "data": {
            "text/plain": [
              "[['country_name',\n",
              "  'country_code',\n",
              "  'anho',\n",
              "  'GC.DOD.TOTL.CN',\n",
              "  'GC.DOD.TOTL.GD.ZS',\n",
              "  'SP.DYN.CBRT.IN'],\n",
              " ['Albania',\n",
              "  'ALB',\n",
              "  '2014 [YR2014]',\n",
              "  '1023040800000',\n",
              "  '73.3202469198429',\n",
              "  '12.259']]"
            ]
          },
          "metadata": {
            "tags": []
          },
          "execution_count": 532
        }
      ]
    },
    {
      "cell_type": "markdown",
      "metadata": {
        "id": "K3fqIKdhqirh"
      },
      "source": [
        "- DATOS DEUDA"
      ]
    },
    {
      "cell_type": "code",
      "metadata": {
        "colab": {
          "base_uri": "https://localhost:8080/"
        },
        "id": "rtgpj018rs_i",
        "outputId": "9c31085c-dd88-4ef7-c386-b55ac739cf80"
      },
      "source": [
        "raw_deuda.take(5)  # visualizamos las 5 primeras filas"
      ],
      "execution_count": 533,
      "outputs": [
        {
          "output_type": "execute_result",
          "data": {
            "text/plain": [
              "['country_name,country_code,DT.AMT.BLAT.CD,DT.AMT.DLXF.CD,DT.AMT.DPNG.CD,DT.AMT.MLAT.CD,DT.AMT.OFFT.CD,DT.AMT.PBND.CD,DT.AMT.PCBK.CD,DT.AMT.PROP.CD,DT.AMT.PRVT.CD,DT.DIS.BLAT.CD,DT.DIS.DLXF.CD,DT.DIS.MLAT.CD,DT.DIS.OFFT.CD,DT.DIS.PCBK.CD,DT.DIS.PROP.CD,DT.DIS.PRVT.CD,DT.INT.BLAT.CD,DT.INT.DLXF.CD,DT.INT.DPNG.CD,DT.INT.MLAT.CD,DT.INT.OFFT.CD,DT.INT.PBND.CD,DT.INT.PCBK.CD,DT.INT.PROP.CD,DT.INT.PRVT.CD',\n",
              " 'Afghanistan,AFG,61739336.9,100847181.9,,39107845,100847181.9,,,,,49114729.4,72894453.7,23779724.3,72894453.7,,,,39903620.1,53239440.1,,13335820,53239440.1,,,,',\n",
              " 'Albania,ALB,54250280.6,790248675.2,514185620,182197616.7,236447897.3,0,39445139.5,170018.4,39615157.9,76050616.1,317194512.5,234321242.3,310371858.4,4542664.9,2279989.2,6822654.1,13847333.6,165602386.9,87884000,28101536.1,41948869.7,31030688.2,4618504.3,120324.7,35769517.2',\n",
              " 'Algeria,DZA,95188724.6,171185188.1,75420000,0,95188724.6,,576463.5,0,576463.5,10320772.2,10320772.2,,10320772.2,,,,7680627.6,19031728.7,3220000,8094779,15775406.6,,13192.3,23129.8,36322.1',\n",
              " 'Angola,AGO,8473824016.3,11067045628.1,,124688691.9,8598512708.2,1e+09,1125088719.9,343444200,2468532919.9,8838256901.1,10924018093.1,178989598.2,9017246499.3,1906771593.8,,1906771593.8,1005053965.1,1798550445.5,,47038476.1,1052092441.2,7e+07,580902004.3,95556000,746458004.3']"
            ]
          },
          "metadata": {
            "tags": []
          },
          "execution_count": 533
        }
      ]
    },
    {
      "cell_type": "markdown",
      "metadata": {
        "id": "yagvsJEoqrI-"
      },
      "source": [
        "Comprobamos que las columnas están separadas por comas, parseamos los datos de deuda:"
      ]
    },
    {
      "cell_type": "code",
      "metadata": {
        "id": "ti0ktW-4rtCb"
      },
      "source": [
        "dt_deuda = raw_deuda.map(lambda x: x.split(\",\")) # para separar los diferentes campos"
      ],
      "execution_count": 534,
      "outputs": []
    },
    {
      "cell_type": "code",
      "metadata": {
        "colab": {
          "base_uri": "https://localhost:8080/"
        },
        "id": "xHZSLmoer6Py",
        "outputId": "9fdf0435-8d68-456d-928a-8cf9759df5c2"
      },
      "source": [
        "dt_deuda.take(2) # visualizamos las dos primeras filas y comprobamos que se diferencian las columnas correctamente"
      ],
      "execution_count": 535,
      "outputs": [
        {
          "output_type": "execute_result",
          "data": {
            "text/plain": [
              "[['country_name',\n",
              "  'country_code',\n",
              "  'DT.AMT.BLAT.CD',\n",
              "  'DT.AMT.DLXF.CD',\n",
              "  'DT.AMT.DPNG.CD',\n",
              "  'DT.AMT.MLAT.CD',\n",
              "  'DT.AMT.OFFT.CD',\n",
              "  'DT.AMT.PBND.CD',\n",
              "  'DT.AMT.PCBK.CD',\n",
              "  'DT.AMT.PROP.CD',\n",
              "  'DT.AMT.PRVT.CD',\n",
              "  'DT.DIS.BLAT.CD',\n",
              "  'DT.DIS.DLXF.CD',\n",
              "  'DT.DIS.MLAT.CD',\n",
              "  'DT.DIS.OFFT.CD',\n",
              "  'DT.DIS.PCBK.CD',\n",
              "  'DT.DIS.PROP.CD',\n",
              "  'DT.DIS.PRVT.CD',\n",
              "  'DT.INT.BLAT.CD',\n",
              "  'DT.INT.DLXF.CD',\n",
              "  'DT.INT.DPNG.CD',\n",
              "  'DT.INT.MLAT.CD',\n",
              "  'DT.INT.OFFT.CD',\n",
              "  'DT.INT.PBND.CD',\n",
              "  'DT.INT.PCBK.CD',\n",
              "  'DT.INT.PROP.CD',\n",
              "  'DT.INT.PRVT.CD'],\n",
              " ['Afghanistan',\n",
              "  'AFG',\n",
              "  '61739336.9',\n",
              "  '100847181.9',\n",
              "  '',\n",
              "  '39107845',\n",
              "  '100847181.9',\n",
              "  '',\n",
              "  '',\n",
              "  '',\n",
              "  '',\n",
              "  '49114729.4',\n",
              "  '72894453.7',\n",
              "  '23779724.3',\n",
              "  '72894453.7',\n",
              "  '',\n",
              "  '',\n",
              "  '',\n",
              "  '39903620.1',\n",
              "  '53239440.1',\n",
              "  '',\n",
              "  '13335820',\n",
              "  '53239440.1',\n",
              "  '',\n",
              "  '',\n",
              "  '',\n",
              "  '']]"
            ]
          },
          "metadata": {
            "tags": []
          },
          "execution_count": 535
        }
      ]
    },
    {
      "cell_type": "markdown",
      "metadata": {
        "id": "Y84hlUUEe4EJ"
      },
      "source": [
        "##### 2. Número de países distintos en cada dataset. Coinciden?\r\n",
        "\r\n",
        " - Desarrollo:\r\n",
        "\r\n",
        "En primer lugar vamos a comprobar los datos diferentes para la columna de country_name en los datos de desarrollo. Lo realizamos mediante un distict count. NO se ha eliminado la fila de la cabecera por lo que al resultado habrá que restarle 1"
      ]
    },
    {
      "cell_type": "code",
      "metadata": {
        "colab": {
          "base_uri": "https://localhost:8080/"
        },
        "id": "_sqANu7fsByZ",
        "outputId": "fdcc1740-5b1e-40e0-c1a8-e40c0c394b23"
      },
      "source": [
        "(dt_desarrollo.map(lambda line: line[0]).distinct().count())-1 # realizamos un distict count de los paises y eliminamos el valor de la cabecera pra que no lo cuente"
      ],
      "execution_count": 599,
      "outputs": [
        {
          "output_type": "execute_result",
          "data": {
            "text/plain": [
              "51"
            ]
          },
          "metadata": {
            "tags": []
          },
          "execution_count": 599
        }
      ]
    },
    {
      "cell_type": "code",
      "metadata": {
        "id": "PXbQ5xDfvW3j"
      },
      "source": [
        "countries_desarrollo = dt_desarrollo.map(lambda line: line[0]).\\\r\n",
        "                                     filter(lambda line: line[0] != 'country_name').\\\r\n",
        "                                     distinct()"
      ],
      "execution_count": 611,
      "outputs": []
    },
    {
      "cell_type": "code",
      "metadata": {
        "colab": {
          "base_uri": "https://localhost:8080/"
        },
        "id": "cmQHz-dLvjBh",
        "outputId": "7f15d1f0-f392-4398-9cd1-2b0409484b6b"
      },
      "source": [
        "countries_desarrollo.take(51)"
      ],
      "execution_count": 612,
      "outputs": [
        {
          "output_type": "execute_result",
          "data": {
            "text/plain": [
              "['Albania',\n",
              " 'Australia',\n",
              " '\"Bahamas',\n",
              " 'Barbados',\n",
              " 'Belize',\n",
              " 'Bhutan',\n",
              " 'Botswana',\n",
              " 'Brazil',\n",
              " 'El Salvador',\n",
              " 'Guatemala',\n",
              " 'Hungary',\n",
              " 'Ireland',\n",
              " 'Kazakhstan',\n",
              " 'Kyrgyz Republic',\n",
              " 'Malawi',\n",
              " 'Palau',\n",
              " 'Peru',\n",
              " 'Philippines',\n",
              " 'Russian Federation',\n",
              " 'Solomon Islands',\n",
              " 'St. Kitts and Nevis',\n",
              " 'St. Vincent and the Grenadines',\n",
              " 'Switzerland',\n",
              " 'Thailand',\n",
              " 'Ukraine',\n",
              " 'United States',\n",
              " 'Uruguay',\n",
              " 'Zambia',\n",
              " 'country_name',\n",
              " 'Belarus',\n",
              " 'Colombia',\n",
              " 'Georgia',\n",
              " 'Indonesia',\n",
              " 'Jamaica',\n",
              " 'Japan',\n",
              " 'Jordan',\n",
              " '\"Korea',\n",
              " 'Malaysia',\n",
              " '\"Micronesia',\n",
              " 'Moldova',\n",
              " 'Namibia',\n",
              " 'New Zealand',\n",
              " 'Papua New Guinea',\n",
              " 'San Marino',\n",
              " 'Seychelles',\n",
              " 'Singapore',\n",
              " 'Spain',\n",
              " 'Sri Lanka',\n",
              " 'St. Lucia',\n",
              " 'Tonga',\n",
              " 'Turkey']"
            ]
          },
          "metadata": {
            "tags": []
          },
          "execution_count": 612
        }
      ]
    },
    {
      "cell_type": "markdown",
      "metadata": {
        "id": "JpkG7BVgsg_W"
      },
      "source": [
        " - Deuda:\r\n",
        "\r\n",
        " En primer lugar vamos a comprobar los datos diferentes para la columna de country_name en los datos de desarrollo. Lo realizamos mediante un distict count. NO se ha eliminado la fila de la cabecera por lo que al resultado habrá que restarle 1"
      ]
    },
    {
      "cell_type": "code",
      "metadata": {
        "colab": {
          "base_uri": "https://localhost:8080/"
        },
        "id": "tyNhHqR8sB1x",
        "outputId": "6d79664f-9637-42f3-82ac-7d5eeacc3790"
      },
      "source": [
        "(dt_deuda.map(lambda line: line[0]).distinct().count())-1 # hacemos un count ditict de los paises y restamos 1 que viene de la cabecera"
      ],
      "execution_count": 613,
      "outputs": [
        {
          "output_type": "execute_result",
          "data": {
            "text/plain": [
              "123"
            ]
          },
          "metadata": {
            "tags": []
          },
          "execution_count": 613
        }
      ]
    },
    {
      "cell_type": "markdown",
      "metadata": {
        "id": "9NXws3qTtSep"
      },
      "source": [
        "Eliminamos la cabecera de la columna country_name:"
      ]
    },
    {
      "cell_type": "code",
      "metadata": {
        "id": "TuBSVUNuvrdA"
      },
      "source": [
        "# queremos seleccionaar la columna 0 y de esta quere filtrar y que no aparezca la cabecera\r\n",
        "countries_deuda = dt_deuda.map(lambda line: line[0]).\\\r\n",
        "                           filter(lambda line: line[0] != 'country_name').\\\r\n",
        "                           distinct()\r\n"
      ],
      "execution_count": 614,
      "outputs": []
    },
    {
      "cell_type": "code",
      "metadata": {
        "colab": {
          "base_uri": "https://localhost:8080/"
        },
        "id": "m40WqqZVv_po",
        "outputId": "886b2213-1b63-4318-906b-00c21784a470"
      },
      "source": [
        "countries_deuda.take(123) # visualizamos los 123 países de deuda"
      ],
      "execution_count": 615,
      "outputs": [
        {
          "output_type": "execute_result",
          "data": {
            "text/plain": [
              "['Albania',\n",
              " 'Algeria',\n",
              " 'Angola',\n",
              " 'Belize',\n",
              " 'Bhutan',\n",
              " 'Botswana',\n",
              " 'Brazil',\n",
              " 'Cabo Verde',\n",
              " 'Cambodia',\n",
              " 'China',\n",
              " 'Costa Rica',\n",
              " \"Cote d'Ivoire\",\n",
              " 'Ecuador',\n",
              " '\"Egypt',\n",
              " 'El Salvador',\n",
              " 'Eritrea',\n",
              " 'Ethiopia',\n",
              " 'Fiji',\n",
              " 'Gabon',\n",
              " '\"Gambia',\n",
              " 'Ghana',\n",
              " 'Guatemala',\n",
              " 'Guinea-Bissau',\n",
              " 'Honduras',\n",
              " 'India',\n",
              " 'Kazakhstan',\n",
              " 'Kenya',\n",
              " 'Kosovo',\n",
              " 'Kyrgyz Republic',\n",
              " 'Least developed countries: UN classification',\n",
              " 'Lebanon',\n",
              " 'Liberia',\n",
              " 'Malawi',\n",
              " 'Maldives',\n",
              " 'Mauritania',\n",
              " 'Mauritius',\n",
              " 'Mexico',\n",
              " 'Montenegro',\n",
              " 'Mozambique',\n",
              " 'Myanmar',\n",
              " 'Nepal',\n",
              " 'Nigeria',\n",
              " 'Pakistan',\n",
              " 'Paraguay',\n",
              " 'Peru',\n",
              " 'Philippines',\n",
              " 'Russian Federation',\n",
              " 'Solomon Islands',\n",
              " 'Somalia',\n",
              " 'South Africa',\n",
              " 'St. Vincent and the Grenadines',\n",
              " 'Syrian Arab Republic',\n",
              " 'Tanzania',\n",
              " 'Thailand',\n",
              " 'Timor-Leste',\n",
              " 'Togo',\n",
              " 'Tunisia',\n",
              " 'Turkmenistan',\n",
              " 'Ukraine',\n",
              " 'Uzbekistan',\n",
              " '\"Venezuela',\n",
              " 'Vietnam',\n",
              " '\"Yemen',\n",
              " 'Zambia',\n",
              " 'country_name',\n",
              " 'Afghanistan',\n",
              " 'Armenia',\n",
              " 'Azerbaijan',\n",
              " 'Bangladesh',\n",
              " 'Belarus',\n",
              " 'Benin',\n",
              " 'Bolivia',\n",
              " 'Bosnia and Herzegovina',\n",
              " 'Bulgaria',\n",
              " 'Burkina Faso',\n",
              " 'Burundi',\n",
              " 'Cameroon',\n",
              " 'Central African Republic',\n",
              " 'Chad',\n",
              " 'Colombia',\n",
              " 'Comoros',\n",
              " '\"Congo',\n",
              " 'Djibouti',\n",
              " 'Dominica',\n",
              " 'Dominican Republic',\n",
              " 'Eswatini',\n",
              " 'Georgia',\n",
              " 'Grenada',\n",
              " 'Guinea',\n",
              " 'Guyana',\n",
              " 'Haiti',\n",
              " 'IDA only',\n",
              " 'Indonesia',\n",
              " '\"Iran',\n",
              " 'Jamaica',\n",
              " 'Jordan',\n",
              " 'Lao PDR',\n",
              " 'Lesotho',\n",
              " '\"Macedonia',\n",
              " 'Madagascar',\n",
              " 'Mali',\n",
              " 'Moldova',\n",
              " 'Mongolia',\n",
              " 'Morocco',\n",
              " 'Nicaragua',\n",
              " 'Niger',\n",
              " 'Papua New Guinea',\n",
              " 'Romania',\n",
              " 'Rwanda',\n",
              " 'Samoa',\n",
              " 'Sao Tome and Principe',\n",
              " 'Senegal',\n",
              " 'Serbia',\n",
              " 'Sierra Leone',\n",
              " 'South Asia',\n",
              " 'Sri Lanka',\n",
              " 'St. Lucia',\n",
              " 'Sudan',\n",
              " 'Tajikistan',\n",
              " 'Tonga',\n",
              " 'Turkey',\n",
              " 'Uganda',\n",
              " 'Vanuatu',\n",
              " 'Zimbabwe']"
            ]
          },
          "metadata": {
            "tags": []
          },
          "execution_count": 615
        }
      ]
    },
    {
      "cell_type": "markdown",
      "metadata": {
        "id": "wOYDp1oJsxCC"
      },
      "source": [
        "- Solución 2:\r\n",
        "\r\n",
        "En esta pregunat concluimos que el data set desarrollo contine 51 países diferentes y el datset de duda contiene 123 países diferenets"
      ]
    },
    {
      "cell_type": "markdown",
      "metadata": {
        "id": "nulHH8VAe4EK"
      },
      "source": [
        "##### 3. Total de deuda contraida por cada pais: total amount of debt (in USD) DT.AMT.MLAT.CD"
      ]
    },
    {
      "cell_type": "markdown",
      "metadata": {
        "id": "2MXYrnHU2gVq"
      },
      "source": [
        "Lo que vamos a realixar en este ejercicio es un map apara seleccionar las columnas en las que estamos interesados. En primer lugar nos interesa la columna country_name, que ocupa la posición 0 y en segundo lugar nos interesa la columna DT.AMT.MLAT.CD, que ocupa la posición 5. Ambas en el data set de deuda.\r\n",
        "\r\n",
        "En el parseo de datos y comprobando el dataset deuda en el csv, vista excel, se ha visto que se produce un error ya que hay países que en la primera columna \"country_name\" tienen una coma, por lo que su parseo es erróneo. Comporbamos que países tienen su parseo erróneo visualizzando las tres primeras columnas del data set deuda:\r\n"
      ]
    },
    {
      "cell_type": "code",
      "metadata": {
        "colab": {
          "base_uri": "https://localhost:8080/"
        },
        "id": "a6-c2h2xvhY4",
        "outputId": "9f3b2a88-0f23-4c7f-80ca-b65ec0fdebd8"
      },
      "source": [
        "dt_deuda.map(lambda x: (x[0], x[1], x[2])).collect()"
      ],
      "execution_count": 622,
      "outputs": [
        {
          "output_type": "execute_result",
          "data": {
            "text/plain": [
              "[('country_name', 'country_code', 'DT.AMT.BLAT.CD'),\n",
              " ('Afghanistan', 'AFG', '61739336.9'),\n",
              " ('Albania', 'ALB', '54250280.6'),\n",
              " ('Algeria', 'DZA', '95188724.6'),\n",
              " ('Angola', 'AGO', '8473824016.3'),\n",
              " ('Armenia', 'ARM', '68968314.7'),\n",
              " ('Azerbaijan', 'AZE', '106369937'),\n",
              " ('Bangladesh', 'BGD', '386702219.8'),\n",
              " ('Belarus', 'BLR', '1487363278.5'),\n",
              " ('Belize', 'BLZ', '23329498.4'),\n",
              " ('Benin', 'BEN', '26014505.8'),\n",
              " ('Bhutan', 'BTN', '189877869.8'),\n",
              " ('Bolivia', 'BOL', '67814879.9'),\n",
              " ('Bosnia and Herzegovina', 'BIH', '108704966.2'),\n",
              " ('Botswana', 'BWA', '7903563.5'),\n",
              " ('Brazil', 'BRA', '2097380010.6'),\n",
              " ('Bulgaria', 'BGR', '35764202.8'),\n",
              " ('Burkina Faso', 'BFA', '27371336'),\n",
              " ('Burundi', 'BDI', '10461498.5'),\n",
              " ('Cabo Verde', 'CPV', '11767654.3'),\n",
              " ('Cambodia', 'KHM', '223300273.6'),\n",
              " ('Cameroon', 'CMR', '9999925153.3'),\n",
              " ('Central African Republic', 'CAF', '8462062.9'),\n",
              " ('Chad', 'TCD', '82357214.9'),\n",
              " ('China', 'CHN', '6532446441.9'),\n",
              " ('Colombia', 'COL', '447557894.1'),\n",
              " ('Comoros', 'COM', '2610216'),\n",
              " ('\"Congo', ' Dem. Rep.\"', 'COD'),\n",
              " ('\"Congo', ' Rep.\"', 'COG'),\n",
              " ('Costa Rica', 'CRI', '34085176.1'),\n",
              " (\"Cote d'Ivoire\", 'CIV', '478283000.5'),\n",
              " ('Djibouti', 'DJI', '48803279.1'),\n",
              " ('Dominica', 'DMA', '8487067.1'),\n",
              " ('Dominican Republic', 'DOM', '214014574.6'),\n",
              " ('Ecuador', 'ECU', '1177917742.6'),\n",
              " ('\"Egypt', ' Arab Rep.\"', 'EGY'),\n",
              " ('El Salvador', 'SLV', '46180727.2'),\n",
              " ('Eritrea', 'ERI', '15627602.4'),\n",
              " ('Eswatini', 'SWZ', '21586421.3'),\n",
              " ('Ethiopia', 'ETH', '510741366.9'),\n",
              " ('Fiji', 'FJI', '37382876.6'),\n",
              " ('Gabon', 'GAB', '114697076'),\n",
              " ('\"Gambia', ' The\"', 'GMB'),\n",
              " ('Georgia', 'GEO', '63831412.1'),\n",
              " ('Ghana', 'GHA', '865892038.7'),\n",
              " ('Grenada', 'GRD', '11639110.2'),\n",
              " ('Guatemala', 'GTM', '41738434.7'),\n",
              " ('Guinea', 'GIN', '8832105.1'),\n",
              " ('Guinea-Bissau', 'GNB', '70371.9'),\n",
              " ('Guyana', 'GUY', '21758525.7'),\n",
              " ('Haiti', 'HTI', '51356369.6'),\n",
              " ('Honduras', 'HND', '35890751.9'),\n",
              " ('IDA only', 'IDX', '6273480947.8'),\n",
              " ('India', 'IND', '2451995834.5'),\n",
              " ('Indonesia', 'IDN', '3233436193.9'),\n",
              " ('\"Iran', ' Islamic Rep.\"', 'IRN'),\n",
              " ('Jamaica', 'JAM', '93733672.1'),\n",
              " ('Jordan', 'JOR', '230204467.2'),\n",
              " ('Kazakhstan', 'KAZ', '44784496.7'),\n",
              " ('Kenya', 'KEN', '515101268.1'),\n",
              " ('Kosovo', 'XKX', '5173195.2'),\n",
              " ('Kyrgyz Republic', 'KGZ', '62213250.6'),\n",
              " ('Lao PDR', 'LAO', '346861942.2'),\n",
              " ('Least developed countries: UN classification', 'LDC', '12944703036.6'),\n",
              " ('Lebanon', 'LBN', '137130312.1'),\n",
              " ('Lesotho', 'LSO', '12806231.5'),\n",
              " ('Liberia', 'LBR', '602095.8'),\n",
              " ('\"Macedonia', ' FYR\"', 'MKD'),\n",
              " ('Madagascar', 'MDG', '34102362.9'),\n",
              " ('Malawi', 'MWI', '21762541.7'),\n",
              " ('Maldives', 'MDV', '48054924.5'),\n",
              " ('Mali', 'MLI', '80562273.4'),\n",
              " ('Mauritania', 'MRT', '197041185.1'),\n",
              " ('Mauritius', 'MUS', '113174983.3'),\n",
              " ('Mexico', 'MEX', '382457219.1'),\n",
              " ('Moldova', 'MDA', '52456210.6'),\n",
              " ('Mongolia', 'MNG', '52159543.5'),\n",
              " ('Montenegro', 'MNE', '127450152.9'),\n",
              " ('Morocco', 'MAR', '742287180.6'),\n",
              " ('Mozambique', 'MOZ', '307444585.4'),\n",
              " ('Myanmar', 'MMR', '519713545.7'),\n",
              " ('Nepal', 'NPL', '48512381.5'),\n",
              " ('Nicaragua', 'NIC', '33414678.5'),\n",
              " ('Niger', 'NER', '38815599.9'),\n",
              " ('Nigeria', 'NGA', '86761615.4'),\n",
              " ('Pakistan', 'PAK', '2175483884.5'),\n",
              " ('Papua New Guinea', 'PNG', '30768505.2'),\n",
              " ('Paraguay', 'PRY', '58314162.7'),\n",
              " ('Peru', 'PER', '114574694.7'),\n",
              " ('Philippines', 'PHL', '670475417.9'),\n",
              " ('Romania', 'ROU', '46961486.3'),\n",
              " ('Russian Federation', 'RUS', '69924222.2'),\n",
              " ('Rwanda', 'RWA', '8604526'),\n",
              " ('Samoa', 'WSM', '11727921.8'),\n",
              " ('Sao Tome and Principe', 'STP', '522448.7'),\n",
              " ('Senegal', 'SEN', '132241030.2'),\n",
              " ('Serbia', 'SRB', '328727524.6'),\n",
              " ('Sierra Leone', 'SLE', '8755657.7'),\n",
              " ('Solomon Islands', 'SLB', '1207375'),\n",
              " ('Somalia', 'SOM', '8301771.4'),\n",
              " ('South Africa', 'ZAF', ''),\n",
              " ('South Asia', 'SAS', '6437804448.1'),\n",
              " ('Sri Lanka', 'LKA', '1075437996.6'),\n",
              " ('St. Lucia', 'LCA', '5113457.5'),\n",
              " ('St. Vincent and the Grenadines', 'VCT', '3070092.3'),\n",
              " ('Sudan', 'SDN', '262918897.8'),\n",
              " ('Syrian Arab Republic', 'SYR', '159358328.9'),\n",
              " ('Tajikistan', 'TJK', '73281257.2'),\n",
              " ('Tanzania', 'TZA', '194944695.3'),\n",
              " ('Thailand', 'THA', '277799616.8'),\n",
              " ('Timor-Leste', 'TLS', ''),\n",
              " ('Togo', 'TGO', '25160550.3'),\n",
              " ('Tonga', 'TON', '7554054'),\n",
              " ('Tunisia', 'TUN', '507052864.2'),\n",
              " ('Turkey', 'TUR', '646463879.8'),\n",
              " ('Turkmenistan', 'TKM', '14046164.6'),\n",
              " ('Uganda', 'UGA', '64110341.2'),\n",
              " ('Ukraine', 'UKR', '95941219.4'),\n",
              " ('Uzbekistan', 'UZB', '273378640'),\n",
              " ('Vanuatu', 'VUT', '10956691'),\n",
              " ('\"Venezuela', ' RB\"', 'VEN'),\n",
              " ('Vietnam', 'VNM', '1561158600.3'),\n",
              " ('\"Yemen', ' Rep.\"', 'YEM'),\n",
              " ('Zambia', 'ZMB', '211048374.3'),\n",
              " ('Zimbabwe', 'ZWE', '71794214.8')]"
            ]
          },
          "metadata": {
            "tags": []
          },
          "execution_count": 622
        }
      ]
    },
    {
      "cell_type": "markdown",
      "metadata": {
        "id": "zdNk0WJDv1WR"
      },
      "source": [
        "Los países pobrematicos son aquellos que en su columna [2] tienen el código del país en vez de una cifra. Tras observar que esto no sucede en muchos países vamos a eliminar éstos de la muestra para llegar al objetivo del ejercicio, proporcionar la relación entre cada país y la deuda"
      ]
    },
    {
      "cell_type": "code",
      "metadata": {
        "id": "0z8CjJE8uV85"
      },
      "source": [
        "\r\n",
        "# seleccionamos las columnas que nos interesn, en este caso la posicion 0 y 1 para identificar al país  y la 5.\r\n",
        "# como he comentado anteriormente vamos a eliminar de la miestra los países mal parseados porque sino apareciría como deuda DT.AMT.MLAT.CD otra columna diferente\r\n",
        "\r\n",
        "dt_deuda_3 = dt_deuda.map(lambda x: (x[0], x[1],x[2], x[5])).\\\r\n",
        "                filter(lambda x: x[1] != '').\\\r\n",
        "                filter(lambda x: x[1] != (\"\") ).\\\r\n",
        "                filter(lambda x: x[2] != (\"COD\") ).\\\r\n",
        "                filter(lambda x: x[2] != (\"COG\") ).\\\r\n",
        "                filter(lambda x: x[2] != (\"EGY\") ).\\\r\n",
        "                filter(lambda x: x[2] != (\"MKD\") ).\\\r\n",
        "                filter(lambda x: x[2] != (\"VEN\") ).\\\r\n",
        "                filter(lambda x: x[2] != (\"YEM\") ).\\\r\n",
        "                filter(lambda x: x[2] != ('IRN') ).\\\r\n",
        "                filter(lambda x: x[2] != (\"GMB\") )"
      ],
      "execution_count": 659,
      "outputs": []
    },
    {
      "cell_type": "code",
      "metadata": {
        "colab": {
          "base_uri": "https://localhost:8080/"
        },
        "id": "KYZuOJZS35Z_",
        "outputId": "75624ae6-7d9c-460a-b43b-b3f20dc36566"
      },
      "source": [
        "dt_deuda_3.map(lambda x: (x[0], x[3])).collect()"
      ],
      "execution_count": 663,
      "outputs": [
        {
          "output_type": "execute_result",
          "data": {
            "text/plain": [
              "[('country_name', 'DT.AMT.MLAT.CD'),\n",
              " ('Afghanistan', '39107845'),\n",
              " ('Albania', '182197616.7'),\n",
              " ('Algeria', '0'),\n",
              " ('Angola', '124688691.9'),\n",
              " ('Armenia', '94331207.1'),\n",
              " ('Azerbaijan', '513623656.5'),\n",
              " ('Bangladesh', '1039564682.7'),\n",
              " ('Belarus', '595438826'),\n",
              " ('Belize', '29683326.5'),\n",
              " ('Benin', '91631639.5'),\n",
              " ('Bhutan', '17390420.5'),\n",
              " ('Bolivia', '357721211.5'),\n",
              " ('Bosnia and Herzegovina', '290170946.5'),\n",
              " ('Botswana', '125652344.5'),\n",
              " ('Brazil', '2514318741.6'),\n",
              " ('Bulgaria', '228993019.8'),\n",
              " ('Burkina Faso', '119510893'),\n",
              " ('Burundi', '16115111.8'),\n",
              " ('Cabo Verde', '39970124.9'),\n",
              " ('Cambodia', '72307001.8'),\n",
              " ('Cameroon', '152095968.1'),\n",
              " ('Central African Republic', '2241813.8'),\n",
              " ('Chad', '95738709.5'),\n",
              " ('China', '2615723714.1'),\n",
              " ('Colombia', '1100907553.6'),\n",
              " ('Comoros', '2182053.1'),\n",
              " ('Costa Rica', '272808260.7'),\n",
              " (\"Cote d'Ivoire\", '84629406.5'),\n",
              " ('Djibouti', '34254909.2'),\n",
              " ('Dominica', '11130355.8'),\n",
              " ('Dominican Republic', '254728306.1'),\n",
              " ('Ecuador', '578894793.9'),\n",
              " ('El Salvador', '298939687.1'),\n",
              " ('Eritrea', '15482475.4'),\n",
              " ('Eswatini', '18130218.8'),\n",
              " ('Ethiopia', '171590722.7'),\n",
              " ('Fiji', '9082442.6'),\n",
              " ('Gabon', '62404132.3'),\n",
              " ('Georgia', '144062401.5'),\n",
              " ('Ghana', '130202003.1'),\n",
              " ('Grenada', '13740888.8'),\n",
              " ('Guatemala', '339822253.6'),\n",
              " ('Guinea', '29819676.8'),\n",
              " ('Guinea-Bissau', '6713257.2'),\n",
              " ('Guyana', '34651806.5'),\n",
              " ('Haiti', '10087968.8'),\n",
              " ('Honduras', '148225048.7'),\n",
              " ('IDA only', '4884095623.3'),\n",
              " ('India', '4545609909.9'),\n",
              " ('Indonesia', '2469145824.7'),\n",
              " ('Jamaica', '174427648'),\n",
              " ('Jordan', '270498715.5'),\n",
              " ('Kazakhstan', '1079948889.7'),\n",
              " ('Kenya', '391340889.9'),\n",
              " ('Kosovo', '33590154.6'),\n",
              " ('Kyrgyz Republic', '75278037.2'),\n",
              " ('Lao PDR', '80684114.6'),\n",
              " ('Least developed countries: UN classification', '4084275524.2'),\n",
              " ('Lebanon', '167638089.7'),\n",
              " ('Lesotho', '32459403.7'),\n",
              " ('Liberia', '7383619.4'),\n",
              " ('Madagascar', '60669367.3'),\n",
              " ('Malawi', '35659831.4'),\n",
              " ('Maldives', '17896143.5'),\n",
              " ('Mali', '135472245.9'),\n",
              " ('Mauritania', '184408220.2'),\n",
              " ('Mauritius', '74568335.5'),\n",
              " ('Mexico', '864181883.5'),\n",
              " ('Moldova', '135842865.5'),\n",
              " ('Mongolia', '75937145.9'),\n",
              " ('Montenegro', '77948064.8'),\n",
              " ('Morocco', '1381649282.3'),\n",
              " ('Mozambique', '91225626.1'),\n",
              " ('Myanmar', '30569845.2'),\n",
              " ('Nepal', '163747512.9'),\n",
              " ('Nicaragua', '181115898'),\n",
              " ('Niger', '115132364.5'),\n",
              " ('Nigeria', '297246686.6'),\n",
              " ('Pakistan', '1578651453.9'),\n",
              " ('Papua New Guinea', '78345326'),\n",
              " ('Paraguay', '207662030.9'),\n",
              " ('Peru', '553634090'),\n",
              " ('Philippines', '739056427.3'),\n",
              " ('Romania', '1798305095.8'),\n",
              " ('Russian Federation', '141669500'),\n",
              " ('Rwanda', '31090382.5'),\n",
              " ('Samoa', '9987486.6'),\n",
              " ('Sao Tome and Principe', '2418947.6'),\n",
              " ('Senegal', '170437929.1'),\n",
              " ('Serbia', '715223963.7'),\n",
              " ('Sierra Leone', '24144262.8'),\n",
              " ('Solomon Islands', '3952828.9'),\n",
              " ('Somalia', '24683262.9'),\n",
              " ('South Africa', '346393763.9'),\n",
              " ('South Asia', '7851739929.5'),\n",
              " ('Sri Lanka', '449771961.1'),\n",
              " ('St. Lucia', '15019216.3'),\n",
              " ('St. Vincent and the Grenadines', '21615600.7'),\n",
              " ('Sudan', '217194878.8'),\n",
              " ('Syrian Arab Republic', '147903571.1'),\n",
              " ('Tajikistan', '59062982'),\n",
              " ('Tanzania', '141436637'),\n",
              " ('Thailand', '39071571.5'),\n",
              " ('Timor-Leste', '825000'),\n",
              " ('Togo', '44198800.7'),\n",
              " ('Tonga', '2791253.2'),\n",
              " ('Tunisia', '956604000.1'),\n",
              " ('Turkey', '2932698678'),\n",
              " ('Turkmenistan', '5831189.2'),\n",
              " ('Uganda', '145310077.2'),\n",
              " ('Ukraine', '1072472830.3'),\n",
              " ('Uzbekistan', '244240575.6'),\n",
              " ('Vanuatu', '2593419.3'),\n",
              " ('Vietnam', '947632152.5'),\n",
              " ('Zambia', '53068964.9'),\n",
              " ('Zimbabwe', '26697905.1')]"
            ]
          },
          "metadata": {
            "tags": []
          },
          "execution_count": 663
        }
      ]
    },
    {
      "cell_type": "markdown",
      "metadata": {
        "id": "YgcGNFg1e4EK"
      },
      "source": [
        "##### 4. Media de los indicadores de deuda (tabla uno): DT.AMT.BLAT.CD, DT.DIS.BLAT.CD, DT.INT.BLAT.CD.\r\n",
        "\r\n",
        "Para conseguir el resuultado de esta cuestión se va a proceder con diferentes procedimientos:\r\n",
        "\r\n",
        "- Primero vamos a seleccionar las filas de estos indicadorees de deuda, que están en la posición 2,11 y 18.\r\n",
        "\r\n",
        "\r\n",
        "Como en el ejercicio anterior, como hay países que no se han parseado correctamente los eliminamos de la muestra. Seleccionamos las filas que nos interesan. en este caso si no hubieramos eliminado bien las filas el resultado de la media de DT.AMT.BLAT.CD no se podría realizar porquie habría elementos str"
      ]
    },
    {
      "cell_type": "code",
      "metadata": {
        "id": "QSwJuBw9o_gQ",
        "colab": {
          "base_uri": "https://localhost:8080/"
        },
        "outputId": "59259124-d07f-4d11-c83d-8be37556d338"
      },
      "source": [
        "# seleccionamos las columnas que nos intereasn en este caso y eliminamos las filas que han dado error en el parseo\r\n",
        "\r\n",
        "dt_deuda_filter_4 = dt_deuda.map(lambda x: (x[0], x[1], x[2], x[11], x[18])).\\\r\n",
        "                filter(lambda x: x[1] != '').\\\r\n",
        "                filter(lambda x: x[1] != (\"\") ).\\\r\n",
        "                filter(lambda x: x[2] != (\"COD\") ).\\\r\n",
        "                filter(lambda x: x[2] != (\"COG\") ).\\\r\n",
        "                filter(lambda x: x[2] != (\"EGY\") ).\\\r\n",
        "                filter(lambda x: x[2] != (\"MKD\") ).\\\r\n",
        "                filter(lambda x: x[2] != (\"VEN\") ).\\\r\n",
        "                filter(lambda x: x[2] != (\"YEM\") ).\\\r\n",
        "                filter(lambda x: x[2] != ('IRN') ).\\\r\n",
        "                filter(lambda x: x[2] != (\"GMB\") )\r\n",
        "\r\n",
        "dt_deuda_filter_4.take(200) # visualizamos que el filtro es correcto "
      ],
      "execution_count": 697,
      "outputs": [
        {
          "output_type": "execute_result",
          "data": {
            "text/plain": [
              "[('country_name',\n",
              "  'country_code',\n",
              "  'DT.AMT.BLAT.CD',\n",
              "  'DT.DIS.BLAT.CD',\n",
              "  'DT.INT.BLAT.CD'),\n",
              " ('Afghanistan', 'AFG', '61739336.9', '49114729.4', '39903620.1'),\n",
              " ('Albania', 'ALB', '54250280.6', '76050616.1', '13847333.6'),\n",
              " ('Algeria', 'DZA', '95188724.6', '10320772.2', '7680627.6'),\n",
              " ('Angola', 'AGO', '8473824016.3', '8838256901.1', '1005053965.1'),\n",
              " ('Armenia', 'ARM', '68968314.7', '174269846.7', '24094832'),\n",
              " ('Azerbaijan', 'AZE', '106369937', '84748079.6', '10085950'),\n",
              " ('Bangladesh', 'BGD', '386702219.8', '6141785637.5', '309079773.4'),\n",
              " ('Belarus', 'BLR', '1487363278.5', '2265336386.7', '630234914.9'),\n",
              " ('Belize', 'BLZ', '23329498.4', '3581448.7', '3455608.4'),\n",
              " ('Benin', 'BEN', '26014505.8', '334698287.3', '13208408.6'),\n",
              " ('Bhutan', 'BTN', '189877869.8', '95819437.4', '184064524.8'),\n",
              " ('Bolivia', 'BOL', '67814879.9', '554128686.3', '32609012.4'),\n",
              " ('Bosnia and Herzegovina', 'BIH', '108704966.2', '114375048.3', '12605397.7'),\n",
              " ('Botswana', 'BWA', '7903563.5', '1316332.2', '884447.5'),\n",
              " ('Brazil', 'BRA', '2097380010.6', '1179125278.8', '333237826.9'),\n",
              " ('Bulgaria', 'BGR', '35764202.8', '', '6012379.2'),\n",
              " ('Burkina Faso', 'BFA', '27371336', '90915960.2', '7382485.5'),\n",
              " ('Burundi', 'BDI', '10461498.5', '42339024.4', '520425.7'),\n",
              " ('Cabo Verde', 'CPV', '11767654.3', '37178444.8', '4216236.3'),\n",
              " ('Cambodia', 'KHM', '223300273.6', '476683829.4', '63836683.2'),\n",
              " ('Cameroon', 'CMR', '9999925153.3', '17090544247.5', '120877158.5'),\n",
              " ('Central African Republic', 'CAF', '8462062.9', '19477551.6', '860961'),\n",
              " ('Chad', 'TCD', '82357214.9', '27987660.9', '11882770.9'),\n",
              " ('China', 'CHN', '6532446441.9', '', '514898407.1'),\n",
              " ('Colombia', 'COL', '447557894.1', '110671664.3', '122715407.2'),\n",
              " ('Comoros', 'COM', '2610216', '8492726.4', '782831.5'),\n",
              " ('Costa Rica', 'CRI', '34085176.1', '105969275.9', '10709783.4'),\n",
              " (\"Cote d'Ivoire\", 'CIV', '478283000.5', '526901028', '73124399.9'),\n",
              " ('Djibouti', 'DJI', '48803279.1', '85687012.1', '44878881.9'),\n",
              " ('Dominica', 'DMA', '8487067.1', '1092575', '1693891.5'),\n",
              " ('Dominican Republic', 'DOM', '214014574.6', '311336450.8', '43812226.9'),\n",
              " ('Ecuador', 'ECU', '1177917742.6', '415778474.8', '424453624.8'),\n",
              " ('El Salvador', 'SLV', '46180727.2', '16377537.9', '10447436.1'),\n",
              " ('Eritrea', 'ERI', '15627602.4', '2678802.6', '1556112.1'),\n",
              " ('Eswatini', 'SWZ', '21586421.3', '54462529.7', '5511319'),\n",
              " ('Ethiopia', 'ETH', '510741366.9', '1142444763.3', '331367061.4'),\n",
              " ('Fiji', 'FJI', '37382876.6', '3902886.7', '6175526.5'),\n",
              " ('Gabon', 'GAB', '114697076', '354919707', '33263802.5'),\n",
              " ('Georgia', 'GEO', '63831412.1', '110677830.3', '2435342284.4'),\n",
              " ('Ghana', 'GHA', '865892038.7', '1163413713.8', '105007672'),\n",
              " ('Grenada', 'GRD', '11639110.2', '23225424.8', '3290655.4'),\n",
              " ('Guatemala', 'GTM', '41738434.7', '56408511.8', '8721281.3'),\n",
              " ('Guinea', 'GIN', '8832105.1', '61782399.4', '3723822.7'),\n",
              " ('Guinea-Bissau', 'GNB', '70371.9', '', '24800'),\n",
              " ('Guyana', 'GUY', '21758525.7', '35584684.1', '4885618.3'),\n",
              " ('Haiti', 'HTI', '51356369.6', '1597000', '10474000'),\n",
              " ('Honduras', 'HND', '35890751.9', '91251459.7', '31044538.5'),\n",
              " ('IDA only', 'IDX', '6273480947.8', '16882903064.4', '2351375435.8'),\n",
              " ('India', 'IND', '2451995834.5', '5588550763.4', '455965157.6'),\n",
              " ('Indonesia', 'IDN', '3233436193.9', '2289402723.3', '476814537.9'),\n",
              " ('Jamaica', 'JAM', '93733672.1', '112848973.6', '19718160.9'),\n",
              " ('Jordan', 'JOR', '230204467.2', '175484307.3', '62136103.7'),\n",
              " ('Kazakhstan', 'KAZ', '44784496.7', '254112169.3', '49233512.4'),\n",
              " ('Kenya', 'KEN', '515101268.1', '1582905042', '342056817'),\n",
              " ('Kosovo', 'XKX', '5173195.2', '29959141.9', '1704127.3'),\n",
              " ('Kyrgyz Republic', 'KGZ', '62213250.6', '153027414.4', '43802082.9'),\n",
              " ('Lao PDR', 'LAO', '346861942.2', '966004791.1', '134508386.6'),\n",
              " ('Least developed countries: UN classification',\n",
              "  'LDC',\n",
              "  '12944703036.6',\n",
              "  '23333956388.4',\n",
              "  '3029826352.3'),\n",
              " ('Lebanon', 'LBN', '137130312.1', '129913451.7', '16970779.5'),\n",
              " ('Lesotho', 'LSO', '12806231.5', '13239867.2', '2704841.4'),\n",
              " ('Liberia', 'LBR', '602095.8', '33122214.9', '2971664.1'),\n",
              " ('Madagascar', 'MDG', '34102362.9', '201529156.1', '3611119.1'),\n",
              " ('Malawi', 'MWI', '21762541.7', '26559943.3', '7850229.4'),\n",
              " ('Maldives', 'MDV', '48054924.5', '171056385.2', '17789090.5'),\n",
              " ('Mali', 'MLI', '80562273.4', '174563540.6', '14961901.1'),\n",
              " ('Mauritania', 'MRT', '197041185.1', '262893890.2', '39896318.9'),\n",
              " ('Mauritius', 'MUS', '113174983.3', '43276477.1', '13702507.5'),\n",
              " ('Mexico', 'MEX', '382457219.1', '10959800', '59839853.4'),\n",
              " ('Moldova', 'MDA', '52456210.6', '31959827.1', '3292727.3'),\n",
              " ('Mongolia', 'MNG', '52159543.5', '122040716.9', '23580386.5'),\n",
              " ('Montenegro', 'MNE', '127450152.9', '159653202.4', '20505157.3'),\n",
              " ('Morocco', 'MAR', '742287180.6', '381225311.4', '147741097.6'),\n",
              " ('Mozambique', 'MOZ', '307444585.4', '428319700.7', '89226721.5'),\n",
              " ('Myanmar', 'MMR', '519713545.7', '704626596.3', '217742156'),\n",
              " ('Nepal', 'NPL', '48512381.5', '211256468.1', '8120651.8'),\n",
              " ('Nicaragua', 'NIC', '33414678.5', '91410630.2', '9117269.5'),\n",
              " ('Niger', 'NER', '38815599.9', '150675402.1', '20553332.6'),\n",
              " ('Nigeria', 'NGA', '86761615.4', '197807330.6', '69169718.3'),\n",
              " ('Pakistan', 'PAK', '2175483884.5', '3281555124', '719897921.2'),\n",
              " ('Papua New Guinea', 'PNG', '30768505.2', '272745704.4', '17727088.6'),\n",
              " ('Paraguay', 'PRY', '58314162.7', '132431540.4', '5158922.3'),\n",
              " ('Peru', 'PER', '114574694.7', '123873090.2', '20175359.1'),\n",
              " ('Philippines', 'PHL', '670475417.9', '544148527.8', '104237992.9'),\n",
              " ('Romania', 'ROU', '46961486.3', '115066917.8', '8014478.4'),\n",
              " ('Russian Federation', 'RUS', '69924222.2', '', '11030000'),\n",
              " ('Rwanda', 'RWA', '8604526', '69086251.9', '7310975.7'),\n",
              " ('Samoa', 'WSM', '11727921.8', '3362614.4', '2965245'),\n",
              " ('Sao Tome and Principe', 'STP', '522448.7', '1918.9', '802594.2'),\n",
              " ('Senegal', 'SEN', '132241030.2', '548648509.1', '62856549.3'),\n",
              " ('Serbia', 'SRB', '328727524.6', '703434606.4', '156469393.1'),\n",
              " ('Sierra Leone', 'SLE', '8755657.7', '32566565', '2736397.7'),\n",
              " ('Solomon Islands', 'SLB', '1207375', '', '284000'),\n",
              " ('Somalia', 'SOM', '8301771.4', '', '925000'),\n",
              " ('South Africa', 'ZAF', '', '', ''),\n",
              " ('South Asia', 'SAS', '6437804448.1', '17269114040.9', '2004917449.3'),\n",
              " ('Sri Lanka', 'LKA', '1075437996.6', '1729975495.9', '270096709.9'),\n",
              " ('St. Lucia', 'LCA', '5113457.5', '5713700.5', '1375737.7'),\n",
              " ('St. Vincent and the Grenadines',\n",
              "  'VCT',\n",
              "  '3070092.3',\n",
              "  '8155461.4',\n",
              "  '1181883.8'),\n",
              " ('Sudan', 'SDN', '262918897.8', '376666146.5', '40572544.5'),\n",
              " ('Syrian Arab Republic', 'SYR', '159358328.9', '126505578', '9269996.5'),\n",
              " ('Tajikistan', 'TJK', '73281257.2', '4600834.4', '26333637.2'),\n",
              " ('Tanzania', 'TZA', '194944695.3', '150348676', '40941173.9'),\n",
              " ('Thailand', 'THA', '277799616.8', '301616651.9', '59731471.1'),\n",
              " ('Timor-Leste', 'TLS', '', '9869907', ''),\n",
              " ('Togo', 'TGO', '25160550.3', '79978552.9', '12931550.3'),\n",
              " ('Tonga', 'TON', '7554054', '', '1559371'),\n",
              " ('Tunisia', 'TUN', '507052864.2', '855186119.9', '87248174.8'),\n",
              " ('Turkey', 'TUR', '646463879.8', '415269075.4', '110410777.7'),\n",
              " ('Turkmenistan', 'TKM', '14046164.6', '', '2505907.3'),\n",
              " ('Uganda', 'UGA', '64110341.2', '538450864.4', '73813147'),\n",
              " ('Ukraine', 'UKR', '95941219.4', '', '19809816.8'),\n",
              " ('Uzbekistan', 'UZB', '273378640', '503520641.3', '64937572.1'),\n",
              " ('Vanuatu', 'VUT', '10956691', '9007166.6', '3160158.4'),\n",
              " ('Vietnam', 'VNM', '1561158600.3', '4134438674.8', '502741840.9'),\n",
              " ('Zambia', 'ZMB', '211048374.3', '711130463.7', '121800491.2'),\n",
              " ('Zimbabwe', 'ZWE', '71794214.8', '42332836.7', '11769908.3')]"
            ]
          },
          "metadata": {
            "tags": []
          },
          "execution_count": 697
        }
      ]
    },
    {
      "cell_type": "markdown",
      "metadata": {
        "id": "Uet6utefxxNX"
      },
      "source": [
        "- Para poder calcular la media hay que eliminar las cabeceras de cada columna:"
      ]
    },
    {
      "cell_type": "code",
      "metadata": {
        "colab": {
          "base_uri": "https://localhost:8080/"
        },
        "id": "h9_HNRnT4aBJ",
        "outputId": "734711d4-977b-4266-f2f1-efff14fefb3b"
      },
      "source": [
        "header = dt_deuda_filter_4.take(1)[0] # nombramos las cabecera\r\n",
        "header # visualizamos que ha seleccionado correctamente la cabecera"
      ],
      "execution_count": 698,
      "outputs": [
        {
          "output_type": "execute_result",
          "data": {
            "text/plain": [
              "('country_name',\n",
              " 'country_code',\n",
              " 'DT.AMT.BLAT.CD',\n",
              " 'DT.DIS.BLAT.CD',\n",
              " 'DT.INT.BLAT.CD')"
            ]
          },
          "metadata": {
            "tags": []
          },
          "execution_count": 698
        }
      ]
    },
    {
      "cell_type": "code",
      "metadata": {
        "id": "4Ho7m6SvqnNy"
      },
      "source": [
        "# eliminamos del rdd la cabecera pra poder realizar cáculos numericos con las columnas\r\n",
        "dt_deuda_filter_4 = dt_deuda_filter_4 \\\r\n",
        "    .filter(lambda line: line!=header) # selecciona todas las filas menos header"
      ],
      "execution_count": 699,
      "outputs": []
    },
    {
      "cell_type": "code",
      "metadata": {
        "colab": {
          "base_uri": "https://localhost:8080/"
        },
        "id": "a6ZIvKlBryUb",
        "outputId": "0671b974-ccd8-498d-8c81-d07ef1f8580c"
      },
      "source": [
        "dt_deuda_filter_4.take(1) # comprobamos que la  primera fila no es el header"
      ],
      "execution_count": 705,
      "outputs": [
        {
          "output_type": "execute_result",
          "data": {
            "text/plain": [
              "[('Afghanistan', 'AFG', '61739336.9', '49114729.4', '39903620.1')]"
            ]
          },
          "metadata": {
            "tags": []
          },
          "execution_count": 705
        }
      ]
    },
    {
      "cell_type": "markdown",
      "metadata": {
        "id": "Emxud1CpyU_l"
      },
      "source": [
        "- Tenemos que pasar todas las columnas a tipo float para poder operar con ellas, Para poder hacerlo hay que eliminar aquellas filas que tengan valores nulos:"
      ]
    },
    {
      "cell_type": "code",
      "metadata": {
        "id": "JTa7r4U-9XW0"
      },
      "source": [
        "dt_deuda_filter_clean_4 = dt_deuda_filter_4.map(lambda x: (x[0], x[1], x[2], x[3], x[4])).\\\r\n",
        "                filter(lambda x: x[2] != '').\\\r\n",
        "                filter(lambda x: x[2] != (\"\")).\\\r\n",
        "                filter(lambda x: x[3] != '').\\\r\n",
        "                filter(lambda x: x[3] != (\"\")).\\\r\n",
        "                filter(lambda x: x[4] != '').\\\r\n",
        "                filter(lambda x: x[4] != (\"\") )\r\n",
        "\r\n"
      ],
      "execution_count": 729,
      "outputs": []
    },
    {
      "cell_type": "markdown",
      "metadata": {
        "id": "-yxk23Jqy7FF"
      },
      "source": [
        "Nos aseguramos que todos los datos sobre los que se van a arealizar los cáculos son numéricos mediante la siguiente función:"
      ]
    },
    {
      "cell_type": "code",
      "metadata": {
        "id": "fUHbQ6L58xU_"
      },
      "source": [
        "dt_deuda_filter_clean_4 = dt_deuda_filter_clean_4.map(lambda x: (str(x[0]), str(x[1]), float(x[2]), float(x[3]), float(x[4]) ))\r\n"
      ],
      "execution_count": 730,
      "outputs": []
    },
    {
      "cell_type": "markdown",
      "metadata": {
        "id": "0uhuvPJhzWNX"
      },
      "source": [
        "- Calculamos las medias de cada columna:\r\n",
        "\r\n",
        "### Solución\r\n",
        "\r\n",
        "- Media: 'DT.AMT.BLAT.CD'"
      ]
    },
    {
      "cell_type": "code",
      "metadata": {
        "colab": {
          "base_uri": "https://localhost:8080/"
        },
        "id": "vwhXLV_ExPrb",
        "outputId": "e93075de-0b15-42d1-997e-75240fa31b2a"
      },
      "source": [
        "dt_deuda_filter_clean_4.map(lambda x: (x[2])).mean() # DT.AMT.BLAT.CD'"
      ],
      "execution_count": 731,
      "outputs": [
        {
          "output_type": "execute_result",
          "data": {
            "text/plain": [
              "691089509.5199999"
            ]
          },
          "metadata": {
            "tags": []
          },
          "execution_count": 731
        }
      ]
    },
    {
      "cell_type": "markdown",
      "metadata": {
        "id": "jLalMquyzia2"
      },
      "source": [
        "   - Media: 'DT.DIS.BLAT.CD'"
      ]
    },
    {
      "cell_type": "code",
      "metadata": {
        "id": "S8newPZV8339",
        "colab": {
          "base_uri": "https://localhost:8080/"
        },
        "outputId": "5a6b5c99-8c56-422d-ed6a-525d714458a7"
      },
      "source": [
        "dt_deuda_filter_clean_4.map(lambda x: (x[3])).mean() # 'DT.DIS.BLAT.CD'"
      ],
      "execution_count": 732,
      "outputs": [
        {
          "output_type": "execute_result",
          "data": {
            "text/plain": [
              "1241875121.030476"
            ]
          },
          "metadata": {
            "tags": []
          },
          "execution_count": 732
        }
      ]
    },
    {
      "cell_type": "markdown",
      "metadata": {
        "id": "S0IoLs6HzoTP"
      },
      "source": [
        "  - Media: 'DT.INT.BLAT.CD'"
      ]
    },
    {
      "cell_type": "code",
      "metadata": {
        "id": "DrI5lHhBsBha",
        "colab": {
          "base_uri": "https://localhost:8080/"
        },
        "outputId": "38146868-dea4-41ba-ddf5-22c25f24f65c"
      },
      "source": [
        "dt_deuda_filter_clean_4.map(lambda x: (x[4])).mean() # 'DT.INT.BLAT.CD'"
      ],
      "execution_count": 733,
      "outputs": [
        {
          "output_type": "execute_result",
          "data": {
            "text/plain": [
              "179530290.29714286"
            ]
          },
          "metadata": {
            "tags": []
          },
          "execution_count": 733
        }
      ]
    },
    {
      "cell_type": "markdown",
      "metadata": {
        "id": "PBYPtiHQe4EL"
      },
      "source": [
        "### 5. Los 20 paises con DT.AMT.DLXF.CD más alto. Columna: DT.AMT.DLXF.CD \r\n",
        "\r\n",
        "\r\n",
        "En primer lugar seleccionamos las columnas que vamos a usar y eliminamos las filas que se han parseado mal"
      ]
    },
    {
      "cell_type": "code",
      "metadata": {
        "id": "raTAmya9CP6X"
      },
      "source": [
        "dt_deuda_filter_5 = dt_deuda.map(lambda x: (x[0], x[1], x[3])).\\\r\n",
        "                filter(lambda x: x[1] != '').\\\r\n",
        "                filter(lambda x: x[1] != (\"\") ).\\\r\n",
        "                filter(lambda x: x[1] != (\"COD\") ).\\\r\n",
        "                filter(lambda x: x[1] != (\"COG\") ).\\\r\n",
        "                filter(lambda x: x[1] != (\"EGY\") ).\\\r\n",
        "                filter(lambda x: x[1] != (\"MKD\") ).\\\r\n",
        "                filter(lambda x: x[1] != (\"VEN\") ).\\\r\n",
        "                filter(lambda x: x[1] != (\"YEM\") ).\\\r\n",
        "                filter(lambda x: x[1] != ('IRN') ).\\\r\n",
        "                filter(lambda x: x[1] != (\"GMB\") )"
      ],
      "execution_count": 734,
      "outputs": []
    },
    {
      "cell_type": "code",
      "metadata": {
        "colab": {
          "base_uri": "https://localhost:8080/"
        },
        "id": "XvdgdTEKCTxm",
        "outputId": "86e7b5f7-9060-45ba-a504-5ddb1a72b307"
      },
      "source": [
        "dt_deuda_filter_5.take(5) # comprobamos que se carga"
      ],
      "execution_count": 764,
      "outputs": [
        {
          "output_type": "execute_result",
          "data": {
            "text/plain": [
              "[('country_name', 'country_code', 'DT.AMT.DLXF.CD'),\n",
              " ('Afghanistan', 'AFG', '100847181.9'),\n",
              " ('Albania', 'ALB', '790248675.2'),\n",
              " ('Algeria', 'DZA', '171185188.1'),\n",
              " ('Angola', 'AGO', '11067045628.1')]"
            ]
          },
          "metadata": {
            "tags": []
          },
          "execution_count": 764
        }
      ]
    },
    {
      "cell_type": "markdown",
      "metadata": {
        "id": "141eQrTHBcCg"
      },
      "source": [
        "A continucación:\r\n",
        "\r\n",
        "- Seleccionamos las columnas a estudiar, posicion 0 y 2.\r\n",
        "- Eliminamos las filas con valores no infados.\r\n",
        "- eliminamos el header (otra manera a la del ejercicio anterior)"
      ]
    },
    {
      "cell_type": "code",
      "metadata": {
        "id": "KFOcFO6t5xiP"
      },
      "source": [
        "dt_deuda_DT_AMT_DLXF_CD = dt_deuda_filter_5.map(lambda x: (x[0], x[2])).filter(lambda x: x[1] != '').filter(lambda x: x[0] != 'country_name')"
      ],
      "execution_count": 767,
      "outputs": []
    },
    {
      "cell_type": "code",
      "metadata": {
        "colab": {
          "base_uri": "https://localhost:8080/"
        },
        "id": "_157lup67tGr",
        "outputId": "88878f3b-3dde-410d-e198-c9be6850491e"
      },
      "source": [
        "\r\n",
        "dt_deuda_DT_AMT_DLXF_CD.take(5) # comporbamos que se ha filtado correctamente"
      ],
      "execution_count": 768,
      "outputs": [
        {
          "output_type": "execute_result",
          "data": {
            "text/plain": [
              "[('Afghanistan', '100847181.9'),\n",
              " ('Albania', '790248675.2'),\n",
              " ('Algeria', '171185188.1'),\n",
              " ('Angola', '11067045628.1'),\n",
              " ('Armenia', '845630723.8')]"
            ]
          },
          "metadata": {
            "tags": []
          },
          "execution_count": 768
        }
      ]
    },
    {
      "cell_type": "markdown",
      "metadata": {
        "id": "ca7xhbbgCJR0"
      },
      "source": [
        "Cambiamos el tipo de los datos para que se puedan ordenar:"
      ]
    },
    {
      "cell_type": "code",
      "metadata": {
        "id": "CfTduXZZRQeq"
      },
      "source": [
        "dt_deuda_DT_AMT_DLXF_CD = dt_deuda_DT_AMT_DLXF_CD.\\\r\n",
        "        map(lambda x: (str(x[0]), float(x[1])))"
      ],
      "execution_count": 748,
      "outputs": []
    },
    {
      "cell_type": "markdown",
      "metadata": {
        "id": "PRaoOrQRCQY2"
      },
      "source": [
        "## Solución:\r\n",
        "\r\n",
        "Ordenamos según el valor de la columna 1, DT_AMT_DLXF_CD, de mayor a menor y seleccionamos las 20 primeras"
      ]
    },
    {
      "cell_type": "code",
      "metadata": {
        "colab": {
          "base_uri": "https://localhost:8080/"
        },
        "id": "2EVR_HbOQaCS",
        "outputId": "ca0f30ed-3f26-41e2-d819-5a338f050b02"
      },
      "source": [
        "(dt_deuda_DT_AMT_DLXF_CD.sortBy(lambda x: x[1])\r\n",
        "    .zipWithIndex()\r\n",
        "    .map(lambda x: x[0])\r\n",
        "    .sortBy(lambda x: x[1], ascending= False)\r\n",
        ").take(20)"
      ],
      "execution_count": 749,
      "outputs": [
        {
          "output_type": "execute_result",
          "data": {
            "text/plain": [
              "[('China', 96218620835.7),\n",
              " ('Brazil', 90041840304.1),\n",
              " ('Russian Federation', 66589761833.5),\n",
              " ('Turkey', 51555031005.8),\n",
              " ('South Asia', 48756295898.2),\n",
              " ('India', 31923507000.8),\n",
              " ('Indonesia', 30916112653.8),\n",
              " ('Kazakhstan', 27482093686.4),\n",
              " ('Mexico', 25218503927.0),\n",
              " ('Least developed countries: UN classification', 25197029299.4),\n",
              " ('IDA only', 20483289208.0),\n",
              " ('Romania', 14013783350.4),\n",
              " ('Colombia', 11985674438.7),\n",
              " ('Angola', 11067045628.1),\n",
              " ('Cameroon', 10404814960.2),\n",
              " ('Lebanon', 9506919669.6),\n",
              " ('South Africa', 9474257551.9),\n",
              " ('Vietnam', 8873505909.2),\n",
              " ('Pakistan', 8336013891.3),\n",
              " ('Ukraine', 8148995625.6)]"
            ]
          },
          "metadata": {
            "tags": []
          },
          "execution_count": 749
        }
      ]
    },
    {
      "cell_type": "markdown",
      "metadata": {
        "id": "Y95mGyZLe4EM"
      },
      "source": [
        "##### 6. Pais con los datos informados todos los años."
      ]
    },
    {
      "cell_type": "code",
      "metadata": {
        "colab": {
          "base_uri": "https://localhost:8080/"
        },
        "id": "t550Zs0BX7lS",
        "outputId": "6be01791-c150-429f-9cbf-0dfe73aaa40f"
      },
      "source": [
        "dt_desarrollo.take(2) # visualizamos los datos desarrollo para ver las variables y el orden que tienen"
      ],
      "execution_count": 769,
      "outputs": [
        {
          "output_type": "execute_result",
          "data": {
            "text/plain": [
              "[['country_name',\n",
              "  'country_code',\n",
              "  'anho',\n",
              "  'GC.DOD.TOTL.CN',\n",
              "  'GC.DOD.TOTL.GD.ZS',\n",
              "  'SP.DYN.CBRT.IN'],\n",
              " ['Albania',\n",
              "  'ALB',\n",
              "  '2014 [YR2014]',\n",
              "  '1023040800000',\n",
              "  '73.3202469198429',\n",
              "  '12.259']]"
            ]
          },
          "metadata": {
            "tags": []
          },
          "execution_count": 769
        }
      ]
    },
    {
      "cell_type": "markdown",
      "metadata": {
        "id": "Iaoci5kBEkYP"
      },
      "source": [
        "Vemos los diferentes años posibles:"
      ]
    },
    {
      "cell_type": "code",
      "metadata": {
        "colab": {
          "base_uri": "https://localhost:8080/"
        },
        "id": "u6gckKZ6hXc3",
        "outputId": "8ca8bb8b-00dd-42db-9cfd-b1bc54517930"
      },
      "source": [
        "years_desarrollo = dt_desarrollo.map(lambda line: line[2]).distinct()\r\n",
        "years_desarrollo.take(10)"
      ],
      "execution_count": 770,
      "outputs": [
        {
          "output_type": "execute_result",
          "data": {
            "text/plain": [
              "['2014 [YR2014]',\n",
              " '2015 [YR2015]',\n",
              " 'KOR',\n",
              " 'FSM',\n",
              " 'anho',\n",
              " '2016 [YR2016]',\n",
              " 'BHS',\n",
              " '2017 [YR2017]']"
            ]
          },
          "metadata": {
            "tags": []
          },
          "execution_count": 770
        }
      ]
    },
    {
      "cell_type": "markdown",
      "metadata": {
        "id": "mNE2fshUEohJ"
      },
      "source": [
        "Hay 4 años disponibles. Seleccionaremos estos países agrupando los datos por país y sumamos cuantas veces aparece cada país. Nos interesan los paises que aparezzcan 4 veces"
      ]
    },
    {
      "cell_type": "code",
      "metadata": {
        "colab": {
          "base_uri": "https://localhost:8080/"
        },
        "id": "FM3-vn0KZ6EZ",
        "outputId": "c676f610-8b6a-47c9-d6c5-77378ba66eae"
      },
      "source": [
        "dt_desarrollo.map(lambda x: (x[0], x[2]))\\\r\n",
        "    .groupByKey()\\\r\n",
        "    .mapValues(lambda vals: len((vals)))\\\r\n",
        "    .sortByKey()\\\r\n",
        "    .filter(lambda x: x[1] ==4)\\\r\n",
        "    .collect()\r\n"
      ],
      "execution_count": 776,
      "outputs": [
        {
          "output_type": "execute_result",
          "data": {
            "text/plain": [
              "[('Malawi', 4)]"
            ]
          },
          "metadata": {
            "tags": []
          },
          "execution_count": 776
        }
      ]
    },
    {
      "cell_type": "markdown",
      "metadata": {
        "id": "UUpszky9Fkur"
      },
      "source": [
        "Malawi es el único país que tiene informado los 4 años "
      ]
    },
    {
      "cell_type": "markdown",
      "metadata": {
        "id": "2Z7GxRoOe4EM"
      },
      "source": [
        "##### 7. Media anual de los distintos indicadores de desarrollo\r\n",
        "\r\n",
        "En primer lugar como nos interesa calcular la media de los datos de desarrollo vamos a quitar las cabeceras para poder hjacer los calculos"
      ]
    },
    {
      "cell_type": "code",
      "metadata": {
        "colab": {
          "base_uri": "https://localhost:8080/"
        },
        "id": "FGSS2cdZJRly",
        "outputId": "063bd902-ae93-4e08-c83e-3b7f8eaf9d2a"
      },
      "source": [
        "header = dt_desarrollo.take(1)[0]\r\n",
        "header"
      ],
      "execution_count": 777,
      "outputs": [
        {
          "output_type": "execute_result",
          "data": {
            "text/plain": [
              "['country_name',\n",
              " 'country_code',\n",
              " 'anho',\n",
              " 'GC.DOD.TOTL.CN',\n",
              " 'GC.DOD.TOTL.GD.ZS',\n",
              " 'SP.DYN.CBRT.IN']"
            ]
          },
          "metadata": {
            "tags": []
          },
          "execution_count": 777
        }
      ]
    },
    {
      "cell_type": "code",
      "metadata": {
        "id": "iyOXLByJJRoD"
      },
      "source": [
        "# Seleccionamos la primera fila como la cabecera \r\n",
        "header = dt_desarrollo.take(1)[0]\r\n",
        "    # Eliminamos la cabecera del rdd para poder trabajar con el\r\n",
        "dt_desarrollo_nh= dt_desarrollo \\\r\n",
        "    .filter(lambda line: line!=header)"
      ],
      "execution_count": 778,
      "outputs": []
    },
    {
      "cell_type": "code",
      "metadata": {
        "colab": {
          "base_uri": "https://localhost:8080/"
        },
        "id": "W2FjErTLJRqr",
        "outputId": "ba28abfa-3718-45a8-f1cd-9b47e4e6bed8"
      },
      "source": [
        "dt_desarrollo_nh.take(2) # comporbamos que hemos eliminado la cabecera"
      ],
      "execution_count": 779,
      "outputs": [
        {
          "output_type": "execute_result",
          "data": {
            "text/plain": [
              "[['Albania',\n",
              "  'ALB',\n",
              "  '2014 [YR2014]',\n",
              "  '1023040800000',\n",
              "  '73.3202469198429',\n",
              "  '12.259'],\n",
              " ['Albania',\n",
              "  'ALB',\n",
              "  '2015 [YR2015]',\n",
              "  '1145500940000',\n",
              "  '79.8644448747259',\n",
              "  '12.197']]"
            ]
          },
          "metadata": {
            "tags": []
          },
          "execution_count": 779
        }
      ]
    },
    {
      "cell_type": "markdown",
      "metadata": {
        "id": "FqOWfHVZF6Lw"
      },
      "source": [
        "En el ejercicio anterior al visualizar os datos hemos observado que hay tres filas que no se han parseado correctamente y hay que eliminarlas para poder realizar las medias.\r\n",
        "Seleccionamos los datos que nos interesan y filtramos:"
      ]
    },
    {
      "cell_type": "code",
      "metadata": {
        "id": "ByYG43z7E_Ym"
      },
      "source": [
        "dt_desarrollo_filter_7 = dt_desarrollo_nh.map(lambda x: (x[0], x[2], x[3], x[4], x[5])).\\\r\n",
        "                filter(lambda x: x[1] != '').\\\r\n",
        "                filter(lambda x: x[1] != (\"\") ).\\\r\n",
        "                filter(lambda x: x[1] != (\"KOR\") ).\\\r\n",
        "                filter(lambda x: x[1] != (\"FSM\") ).\\\r\n",
        "                filter(lambda x: x[1] != (\"BHS\") )\r\n",
        "                \r\n"
      ],
      "execution_count": 780,
      "outputs": []
    },
    {
      "cell_type": "code",
      "metadata": {
        "colab": {
          "base_uri": "https://localhost:8080/"
        },
        "id": "sBUWrrH2JurF",
        "outputId": "46702c2c-31d3-43af-edf1-0954e1367ea7"
      },
      "source": [
        "dt_desarrollo_filter_7.take(5) # visualizamos que se han filtardo los datos correctamente"
      ],
      "execution_count": 784,
      "outputs": [
        {
          "output_type": "execute_result",
          "data": {
            "text/plain": [
              "[('Albania', '2014 [YR2014]', '1023040800000', '73.3202469198429', '12.259'),\n",
              " ('Albania', '2015 [YR2015]', '1145500940000', '79.8644448747259', '12.197'),\n",
              " ('Albania', '2016 [YR2016]', '1188814490000', '80.7355748396923', '12.08'),\n",
              " ('Australia', '2014 [YR2014]', '674700000', '0.042207528166503', '13.2'),\n",
              " ('Australia', '2015 [YR2015]', '762718000', '0.0469480198522591', '12.9')]"
            ]
          },
          "metadata": {
            "tags": []
          },
          "execution_count": 784
        }
      ]
    },
    {
      "cell_type": "markdown",
      "metadata": {
        "id": "-TDuL060GR_m"
      },
      "source": [
        "Cambiamos el formato de las columnas:\r\n",
        "\r\n",
        " Indicamos que la columna 1 es un dato  que nos explica el año, y el resto de columnas son de formato int"
      ]
    },
    {
      "cell_type": "code",
      "metadata": {
        "colab": {
          "base_uri": "https://localhost:8080/"
        },
        "id": "NhJ57E_kPFgD",
        "outputId": "4cd4d3df-276c-41be-a97d-27ca6180fdc4"
      },
      "source": [
        "dt_desarrollo_filter_7.map(lambda l: (year(l[1]),  int(l[2]), int(l[3]), int(l[4]), int(l[5])))"
      ],
      "execution_count": 782,
      "outputs": [
        {
          "output_type": "execute_result",
          "data": {
            "text/plain": [
              "PythonRDD[1858] at RDD at PythonRDD.scala:53"
            ]
          },
          "metadata": {
            "tags": []
          },
          "execution_count": 782
        }
      ]
    },
    {
      "cell_type": "code",
      "metadata": {
        "colab": {
          "base_uri": "https://localhost:8080/"
        },
        "id": "bCoV04MGLHjz",
        "outputId": "f4a9e21e-64c8-4469-9876-8e17f5bf3bf6"
      },
      "source": [
        "dt_desarrollo_filter_7.take(5)"
      ],
      "execution_count": 786,
      "outputs": [
        {
          "output_type": "execute_result",
          "data": {
            "text/plain": [
              "[('Albania', '2014 [YR2014]', '1023040800000', '73.3202469198429', '12.259'),\n",
              " ('Albania', '2015 [YR2015]', '1145500940000', '79.8644448747259', '12.197'),\n",
              " ('Albania', '2016 [YR2016]', '1188814490000', '80.7355748396923', '12.08'),\n",
              " ('Australia', '2014 [YR2014]', '674700000', '0.042207528166503', '13.2'),\n",
              " ('Australia', '2015 [YR2015]', '762718000', '0.0469480198522591', '12.9')]"
            ]
          },
          "metadata": {
            "tags": []
          },
          "execution_count": 786
        }
      ]
    },
    {
      "cell_type": "markdown",
      "metadata": {
        "id": "nMS6O050G8Aa"
      },
      "source": [
        " Seleccionamos la primera fila de la que queremos obtener la media:"
      ]
    },
    {
      "cell_type": "code",
      "metadata": {
        "id": "z2_IyUPYTKGe"
      },
      "source": [
        "dt_desarrollo_GC_DOD_TOTL_CN = dt_desarrollo_filter_7.map(lambda x: (x[1], x[2])).\\\r\n",
        "                filter(lambda x: x[1] != '')"
      ],
      "execution_count": 788,
      "outputs": []
    },
    {
      "cell_type": "markdown",
      "metadata": {
        "id": "RtxWHAwzG_x6"
      },
      "source": [
        "Definimos una función según lo dado en el notebok Logs NASA Arturo Sanchez. Sin embargo, viendo el resultado me he dado cuenta que lo que hace es un count para cada año y no la media como interesaba en ete caso"
      ]
    },
    {
      "cell_type": "code",
      "metadata": {
        "id": "YSpUe6jFRV2q"
      },
      "source": [
        "unique_result = (dt_desarrollo_GC_DOD_TOTL_CN.map(lambda line:  ((line[0]),line[0]))\r\n",
        "          .groupByKey().mapValues(set)\r\n",
        "          .map(lambda x: (x[0], len(x[1]))))\r\n",
        "\r\n",
        "length_result = (dt_desarrollo_GC_DOD_TOTL_CN.map(lambda line:  ((line[0]),line[0]))\r\n",
        "          .groupByKey().mapValues(len))\r\n",
        "\r\n",
        "joined = length_result.join(unique_result).map(lambda a: (a[0], (a[1][0])/(a[1][1]))).collect()\r\n",
        "day = [x[0] for x in joined]\r\n",
        "count = [x[1] for x in joined]\r\n",
        "day_count_dct = {'Día':day, 'Media':count}\r\n",
        "day_count_df = pd.DataFrame(day_count_dct )\r\n"
      ],
      "execution_count": 789,
      "outputs": []
    },
    {
      "cell_type": "code",
      "metadata": {
        "colab": {
          "base_uri": "https://localhost:8080/",
          "height": 173
        },
        "id": "-jddUda7UD0f",
        "outputId": "0d741adf-5373-4353-9913-36d3a50712af"
      },
      "source": [
        "day_count_df"
      ],
      "execution_count": 790,
      "outputs": [
        {
          "output_type": "execute_result",
          "data": {
            "text/html": [
              "<div>\n",
              "<style scoped>\n",
              "    .dataframe tbody tr th:only-of-type {\n",
              "        vertical-align: middle;\n",
              "    }\n",
              "\n",
              "    .dataframe tbody tr th {\n",
              "        vertical-align: top;\n",
              "    }\n",
              "\n",
              "    .dataframe thead th {\n",
              "        text-align: right;\n",
              "    }\n",
              "</style>\n",
              "<table border=\"1\" class=\"dataframe\">\n",
              "  <thead>\n",
              "    <tr style=\"text-align: right;\">\n",
              "      <th></th>\n",
              "      <th>Día</th>\n",
              "      <th>Media</th>\n",
              "    </tr>\n",
              "  </thead>\n",
              "  <tbody>\n",
              "    <tr>\n",
              "      <th>0</th>\n",
              "      <td>2014 [YR2014]</td>\n",
              "      <td>47.0</td>\n",
              "    </tr>\n",
              "    <tr>\n",
              "      <th>1</th>\n",
              "      <td>2015 [YR2015]</td>\n",
              "      <td>41.0</td>\n",
              "    </tr>\n",
              "    <tr>\n",
              "      <th>2</th>\n",
              "      <td>2016 [YR2016]</td>\n",
              "      <td>36.0</td>\n",
              "    </tr>\n",
              "    <tr>\n",
              "      <th>3</th>\n",
              "      <td>2017 [YR2017]</td>\n",
              "      <td>1.0</td>\n",
              "    </tr>\n",
              "  </tbody>\n",
              "</table>\n",
              "</div>"
            ],
            "text/plain": [
              "             Día  Media\n",
              "0  2014 [YR2014]   47.0\n",
              "1  2015 [YR2015]   41.0\n",
              "2  2016 [YR2016]   36.0\n",
              "3  2017 [YR2017]    1.0"
            ]
          },
          "metadata": {
            "tags": []
          },
          "execution_count": 790
        }
      ]
    },
    {
      "cell_type": "markdown",
      "metadata": {
        "id": "tQRwcGeFHT7C"
      },
      "source": [
        "Repetimos el procedimiento para el segundo indicador:"
      ]
    },
    {
      "cell_type": "code",
      "metadata": {
        "id": "4hxfuDo6frAm"
      },
      "source": [
        "dt_desarrollo_GC_DOD_TOTL_GD_ZS = dt_desarrollo_filter.map(lambda x: (x[1], x[3])).\\\r\n",
        "                filter(lambda x: x[1] != '')"
      ],
      "execution_count": null,
      "outputs": []
    },
    {
      "cell_type": "code",
      "metadata": {
        "id": "h_liJFhSfrDd"
      },
      "source": [
        "unique_result = (dt_desarrollo_GC_DOD_TOTL_GD_ZS.map(lambda line:  ((line[0]),line[0]))\r\n",
        "          .groupByKey().mapValues(set)\r\n",
        "          .map(lambda x: (x[0], len(x[1]))))\r\n",
        "\r\n",
        "length_result = (dt_desarrollo_GC_DOD_TOTL_GD_ZS.map(lambda line:  ((line[0]),line[0]))\r\n",
        "          .groupByKey().mapValues(len))\r\n",
        "\r\n",
        "joined = length_result.join(unique_result).map(lambda a: (a[0], (a[1][0])/(a[1][1]))).collect()\r\n",
        "day = [x[0] for x in joined]\r\n",
        "count = [x[1] for x in joined]\r\n",
        "day_count_dct = {'Día':day, 'Media':count}\r\n",
        "day_count_df_2 = pd.DataFrame(day_count_dct )"
      ],
      "execution_count": null,
      "outputs": []
    },
    {
      "cell_type": "code",
      "metadata": {
        "id": "hxZgicHjfrF8"
      },
      "source": [
        "day_count_df_2"
      ],
      "execution_count": null,
      "outputs": []
    },
    {
      "cell_type": "markdown",
      "metadata": {
        "id": "GZ0m25YwHb97"
      },
      "source": [
        "Repetimos el procedimiento para el tercer indicador:"
      ]
    },
    {
      "cell_type": "code",
      "metadata": {
        "id": "hEop7-ykfrLq"
      },
      "source": [
        "dt_desarrollo_SP_DYN_CBRT_IN = dt_desarrollo_filter.map(lambda x: (x[1], x[4])).\\\r\n",
        "                filter(lambda x: x[1] != '')"
      ],
      "execution_count": null,
      "outputs": []
    },
    {
      "cell_type": "code",
      "metadata": {
        "id": "o-7NNVS7gRkZ"
      },
      "source": [
        "unique_result = (dt_desarrollo_SP_DYN_CBRT_IN.map(lambda line:  ((line[0]),line[0]))\r\n",
        "          .groupByKey().mapValues(set)\r\n",
        "          .map(lambda x: (x[0], len(x[1]))))\r\n",
        "\r\n",
        "length_result = (dt_desarrollo_SP_DYN_CBRT_IN.map(lambda line:  ((line[0]),line[0]))\r\n",
        "          .groupByKey().mapValues(len))\r\n",
        "\r\n",
        "joined = length_result.join(unique_result).map(lambda a: (a[0], (a[1][0])/(a[1][1]))).collect()\r\n",
        "day = [x[0] for x in joined]\r\n",
        "count = [x[1] for x in joined]\r\n",
        "day_count_dct = {'Día':day, 'Media':count}\r\n",
        "day_count_df_3 = pd.DataFrame(day_count_dct )"
      ],
      "execution_count": null,
      "outputs": []
    },
    {
      "cell_type": "code",
      "metadata": {
        "id": "VGnUV3tngRm2"
      },
      "source": [
        "day_count_df_3"
      ],
      "execution_count": null,
      "outputs": []
    },
    {
      "cell_type": "markdown",
      "metadata": {
        "id": "zmiV84dfmcfw"
      },
      "source": [
        "Como esta función no ha servido para el resultado que pedía el ejercicio  he decidido parar los datos a formato tabla sql:"
      ]
    },
    {
      "cell_type": "code",
      "metadata": {
        "id": "-CEkuurimY86"
      },
      "source": [
        "desarrollo_DF = sqlContext.createDataFrame(dt_desarrollo_filter) # convertimos el rdd en un tabla sql"
      ],
      "execution_count": 791,
      "outputs": []
    },
    {
      "cell_type": "code",
      "metadata": {
        "colab": {
          "base_uri": "https://localhost:8080/"
        },
        "id": "_cZTDYpKmY_n",
        "outputId": "e9792616-3dda-4788-b653-bf8a70f29da6"
      },
      "source": [
        "desarrollo_DF.show(10) # observamos la tabla sql y las nuevas cabeceras:"
      ],
      "execution_count": 792,
      "outputs": [
        {
          "output_type": "stream",
          "text": [
            "+---------+-------------+----------------+------------------+------+\n",
            "|       _1|           _2|              _3|                _4|    _5|\n",
            "+---------+-------------+----------------+------------------+------+\n",
            "|  Albania|2014 [YR2014]|   1023040800000|  73.3202469198429|12.259|\n",
            "|  Albania|2015 [YR2015]|   1145500940000|  79.8644448747259|12.197|\n",
            "|  Albania|2016 [YR2016]|   1188814490000|  80.7355748396923| 12.08|\n",
            "|Australia|2014 [YR2014]|       674700000| 0.042207528166503|  13.2|\n",
            "|Australia|2015 [YR2015]|       762718000|0.0469480198522591|  12.9|\n",
            "|Australia|2016 [YR2016]|       907555000| 0.054648482520169|  12.9|\n",
            "| Barbados|2014 [YR2014]|     12175704025|  129.629591844133|10.916|\n",
            "| Barbados|2015 [YR2015]|     13365027241|  141.413895259761|10.806|\n",
            "|  Belarus|2014 [YR2014]|     19781184418|  24.5487262642116|  12.5|\n",
            "|  Belarus|2015 [YR2015]|33804450453.3197|  37.5981780556757|  12.5|\n",
            "+---------+-------------+----------------+------------------+------+\n",
            "only showing top 10 rows\n",
            "\n"
          ],
          "name": "stdout"
        }
      ]
    },
    {
      "cell_type": "markdown",
      "metadata": {
        "id": "TBag5pqkqOrG"
      },
      "source": [
        " - Correspondecia de las columnas con las cabeceras\r\n",
        " \r\n",
        " _3 = 'GC.DOD.TOTL.CN',\r\n",
        "\r\n",
        " _4 ='GC.DOD.TOTL.GD.ZS',\r\n",
        "\r\n",
        " _5 = 'SP.DYN.CBRT.IN'"
      ]
    },
    {
      "cell_type": "markdown",
      "metadata": {
        "id": "fIDpZs3JIJL0"
      },
      "source": [
        "Se calcula la media de los valores de cada columna agrupando por año:\r\n"
      ]
    },
    {
      "cell_type": "code",
      "metadata": {
        "colab": {
          "base_uri": "https://localhost:8080/"
        },
        "id": "eSsgs2WDrsdk",
        "outputId": "8bccd305-0581-478d-e06a-dd0145653ad2"
      },
      "source": [
        "from pyspark.sql.functions import mean # importamos la fórmula para calcular la media\r\n",
        "\r\n",
        "(desarrollo_DF\r\n",
        "    .groupBy((\"_2\")) # agrupamos por año\r\n",
        "    .agg(mean(\"_3\"),mean(\"_4\"),mean(\"_5\")) # hacemos la media de cada columna \r\n",
        "    .show())"
      ],
      "execution_count": 793,
      "outputs": [
        {
          "output_type": "stream",
          "text": [
            "+-------------+--------------------+-----------------+------------------+\n",
            "|           _2|             avg(_3)|          avg(_4)|           avg(_5)|\n",
            "+-------------+--------------------+-----------------+------------------+\n",
            "|2016 [YR2016]|  1.5364155866984E14|60.44188301621869|16.236916666666666|\n",
            "|2014 [YR2014]|9.790764954429488E13|58.15214676864469|17.719702127659573|\n",
            "|2017 [YR2017]| 2.23985861996269E12|  48.659564238322|            34.593|\n",
            "|2015 [YR2015]|1.263079791448871E14|59.76292583345262|16.904780487804878|\n",
            "+-------------+--------------------+-----------------+------------------+\n",
            "\n"
          ],
          "name": "stdout"
        }
      ]
    },
    {
      "cell_type": "markdown",
      "metadata": {
        "id": "zL96yjEBe4EN"
      },
      "source": [
        "##### 8. Podrías decirme el total de deuda acumulada DT.AMT.MLAT.CD por los 10 países con un valor en media menor de SP.DYN.CBRT.IN"
      ]
    },
    {
      "cell_type": "markdown",
      "metadata": {
        "id": "XArWZZrFJKk4"
      },
      "source": [
        "Para realizar este ejercico aprovechamos los cálculos y transformaciones del ejercico anterior. Ahora creamos una tabla en formto sql que contenga los 10 paises con un valor en media menor en el indicador SP.DYN.CBRT.IN.\r\n",
        "\r\n",
        "Crecamos la tabla que asigne a cada país el valor medio de las observaciones del indicador P.DYN.CBRT.IN:"
      ]
    },
    {
      "cell_type": "code",
      "metadata": {
        "id": "8sqoCEQist8k"
      },
      "source": [
        "\r\n",
        "desarrollo_DF_sol = (desarrollo_DF\r\n",
        "    .groupBy((\"_1\")) # queremos que agrupe por páis\r\n",
        "    .agg(mean(\"_5\")) # que calcule la media de la columna para cada país\r\n",
        "    .sort(F.col(\"avg(_5)\"))) # queremos orden ascendente"
      ],
      "execution_count": 794,
      "outputs": []
    },
    {
      "cell_type": "code",
      "metadata": {
        "colab": {
          "base_uri": "https://localhost:8080/"
        },
        "id": "6uyRb3Zq7mID",
        "outputId": "91147b7b-460f-482d-d0b5-286778c309d4"
      },
      "source": [
        "desarrollo_DF_sol.show(10) # visualizamos la tabla creada y qué 10 países necesitams para ver su deuda acomulada"
      ],
      "execution_count": 795,
      "outputs": [
        {
          "output_type": "stream",
          "text": [
            "+-----------+------------------+\n",
            "|         _1|           avg(_5)|\n",
            "+-----------+------------------+\n",
            "|      Japan| 7.933333333333334|\n",
            "| San Marino|              8.05|\n",
            "|      Spain|               9.0|\n",
            "|    Hungary| 9.533333333333333|\n",
            "|  Singapore| 9.633333333333333|\n",
            "|Switzerland|10.466666666666667|\n",
            "|    Ukraine|              10.6|\n",
            "|    Moldova|10.604333333333335|\n",
            "|   Barbados|            10.861|\n",
            "|   Thailand|           10.9175|\n",
            "+-----------+------------------+\n",
            "only showing top 10 rows\n",
            "\n"
          ],
          "name": "stdout"
        }
      ]
    },
    {
      "cell_type": "markdown",
      "metadata": {
        "id": "EPimH0ZkJ51E"
      },
      "source": [
        "Creamos una tabla que contenga el nombre del pais y la deuda que queremos estudair qu eestá en la posión 5, además eliminamos la cabecera:"
      ]
    },
    {
      "cell_type": "code",
      "metadata": {
        "id": "vY5VkP6X82Ed"
      },
      "source": [
        "dt_deuda_DT_AMT_MLAT_CD= dt_deuda.map(lambda x: (x[0], x[5])).\\\r\n",
        "                filter(lambda x: x[0] != 'country_name')"
      ],
      "execution_count": 796,
      "outputs": []
    },
    {
      "cell_type": "markdown",
      "metadata": {
        "id": "xxGg0Ch3KJIO"
      },
      "source": [
        "Cambiamos el formato a tabla sql para que tenga el mismo formato que la tabla con los paises anteriores"
      ]
    },
    {
      "cell_type": "code",
      "metadata": {
        "id": "pnWMVJVI-wvV"
      },
      "source": [
        "dt_deuda_DT_AMT_MLAT_CD_DF = sqlContext.createDataFrame(dt_deuda_DT_AMT_MLAT_CD) # cambiamos a formato sql"
      ],
      "execution_count": 797,
      "outputs": []
    },
    {
      "cell_type": "code",
      "metadata": {
        "colab": {
          "base_uri": "https://localhost:8080/"
        },
        "id": "DMHPYetk-w9e",
        "outputId": "0a29f074-cc69-45b7-f403-9319da38377f"
      },
      "source": [
        "dt_deuda_DT_AMT_MLAT_CD_DF.show(10) # visualizamos la forma de la tabla"
      ],
      "execution_count": 798,
      "outputs": [
        {
          "output_type": "stream",
          "text": [
            "+-----------+------------+\n",
            "|         _1|          _2|\n",
            "+-----------+------------+\n",
            "|Afghanistan|    39107845|\n",
            "|    Albania| 182197616.7|\n",
            "|    Algeria|           0|\n",
            "|     Angola| 124688691.9|\n",
            "|    Armenia|  94331207.1|\n",
            "| Azerbaijan| 513623656.5|\n",
            "| Bangladesh|1039564682.7|\n",
            "|    Belarus|   595438826|\n",
            "|     Belize|  29683326.5|\n",
            "|      Benin|  91631639.5|\n",
            "+-----------+------------+\n",
            "only showing top 10 rows\n",
            "\n"
          ],
          "name": "stdout"
        }
      ]
    },
    {
      "cell_type": "markdown",
      "metadata": {
        "id": "oj0tFltEKTn4"
      },
      "source": [
        "Unimos las tablas para ver para cada pais el valor SP.DYN.CBRT.IN y el valor DT_AMT_MLAT_CD_DF. en este caso he elegido una join left ya que quiero para cada valor de la tabla 1 su valor DT_AMT_MLAT_CD_DF."
      ]
    },
    {
      "cell_type": "code",
      "metadata": {
        "id": "jRK1FyEW_JrV"
      },
      "source": [
        "data_join = desarrollo_DF_sol.join(dt_deuda_DT_AMT_MLAT_CD_DF,\"_1\",\"left\")"
      ],
      "execution_count": 799,
      "outputs": []
    },
    {
      "cell_type": "code",
      "metadata": {
        "colab": {
          "base_uri": "https://localhost:8080/"
        },
        "id": "UPaegARS_Jtr",
        "outputId": "1a4b8079-6866-4288-f97d-afb8c94f6b4d"
      },
      "source": [
        "data_join.take(1) # visualizamos que se ha credado correctamente"
      ],
      "execution_count": 800,
      "outputs": [
        {
          "output_type": "execute_result",
          "data": {
            "text/plain": [
              "[Row(_1='Philippines', avg(_5)=22.935, _2='739056427.3')]"
            ]
          },
          "metadata": {
            "tags": []
          },
          "execution_count": 800
        }
      ]
    },
    {
      "cell_type": "code",
      "metadata": {
        "colab": {
          "base_uri": "https://localhost:8080/"
        },
        "id": "kYtiH5al_Jw3",
        "outputId": "7cc2cf26-40ad-466f-c428-ba20ef128771"
      },
      "source": [
        "# Creamos una tabla con los paises que nos interesan a partir de la los 10 menores en SP.DYN.CBRT.IN \r\n",
        "data_join.createOrReplaceTempView(\"join_table\")\r\n",
        "    \r\n",
        "    # Hacemos un WHERE para que nos vuelve solo aquellos paises que nos interesan:\r\n",
        "join_df = sqlContext.sql(\"\"\"\r\n",
        "                SELECT _1, 'avg(_5)', _2\r\n",
        "                FROM join_table \r\n",
        "                WHERE( _1 = 'Japan' OR\r\n",
        "               _1 = 'San Marino' OR\r\n",
        "                 _1 = 'Spain' OR\r\n",
        "                 _1 = 'Hungary' OR\r\n",
        "                 _1 = 'Singapore' OR\r\n",
        "                _1 = 'Switzerland' OR\r\n",
        "                 _1 = 'Ukraine' OR\r\n",
        "                 _1 = 'Moldova' OR\r\n",
        "                 _1 = 'Barbados' OR\r\n",
        "                 _1 = 'Thailand')\r\n",
        "                \"\"\")\r\n",
        "join_df.show(10)"
      ],
      "execution_count": 802,
      "outputs": [
        {
          "output_type": "stream",
          "text": [
            "+-----------+-------+------------+\n",
            "|         _1|avg(_5)|          _2|\n",
            "+-----------+-------+------------+\n",
            "|  Singapore|avg(_5)|        null|\n",
            "| San Marino|avg(_5)|        null|\n",
            "|      Spain|avg(_5)|        null|\n",
            "|   Barbados|avg(_5)|        null|\n",
            "|   Thailand|avg(_5)|  39071571.5|\n",
            "|    Ukraine|avg(_5)|1072472830.3|\n",
            "|Switzerland|avg(_5)|        null|\n",
            "|      Japan|avg(_5)|        null|\n",
            "|    Hungary|avg(_5)|        null|\n",
            "|    Moldova|avg(_5)| 135842865.5|\n",
            "+-----------+-------+------------+\n",
            "\n"
          ],
          "name": "stdout"
        }
      ]
    },
    {
      "cell_type": "markdown",
      "metadata": {
        "id": "NAdGpWEKLlOn"
      },
      "source": [
        "del resultado observamos que muchos de estos paises no están recoguidos en la tabla deuda, nos quedamos con los únicos dos países que sí estaán:"
      ]
    },
    {
      "cell_type": "code",
      "metadata": {
        "id": "oW8tQktkEtni"
      },
      "source": [
        "joindf_def= sqlContext.sql(\"\"\"\r\n",
        "                SELECT _1, 'avg(_5)', _2\r\n",
        "                FROM table4 \r\n",
        "                WHERE( _1 = 'Ukraine' OR\r\n",
        "                 _1 = 'Moldova' OR\r\n",
        "                 _1 = 'Thailand')\r\n",
        "                \"\"\")"
      ],
      "execution_count": 806,
      "outputs": []
    },
    {
      "cell_type": "markdown",
      "metadata": {
        "id": "M0SOo6gLLvCu"
      },
      "source": [
        "#### Solución:\r\n",
        "\r\n",
        "Sumamos los valores de estospaíes para DT_AMT_MLAT_CD_DF"
      ]
    },
    {
      "cell_type": "code",
      "metadata": {
        "id": "620S1bu6D2tQ"
      },
      "source": [
        "joindf_def.select(sum(\"_2\")).show()"
      ],
      "execution_count": null,
      "outputs": []
    },
    {
      "cell_type": "markdown",
      "metadata": {
        "id": "DGnex__re4EO"
      },
      "source": [
        "##### 9. ¿Hay alguna relación entre los nacimientos y el indicador DT.AMT.DLXF.CD? ¿Cómo podrías demostrarlo?"
      ]
    }
  ]
}