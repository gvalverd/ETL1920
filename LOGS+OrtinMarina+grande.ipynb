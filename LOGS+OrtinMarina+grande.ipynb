{
 "cells": [
  {
   "cell_type": "markdown",
   "metadata": {},
   "source": [
    "# Ejercicio LOGS NASA\n",
    "## Marina Ortín Fernández.\n",
    "   ### ETL"
   ]
  },
  {
   "cell_type": "code",
   "execution_count": 8,
   "metadata": {
    "collapsed": false
   },
   "outputs": [],
   "source": [
    "\n",
    "from pyspark import SparkContext\n",
    "sc = SparkContext()\n",
    "from pyspark import SQLContext\n",
    "sqlContext = SQLContext(sc)\n",
    "\n",
    "\n",
    "from pyspark.sql import *\n",
    "from pyspark.sql.functions import *\n",
    "from pyspark.sql.types import *\n",
    "import datetime as dt\n",
    "from pyspark.sql.functions import udf, array\n",
    "from pyspark.sql.types import StringType\n",
    "from pyspark.sql.functions import lit, when, col\n",
    "from pyspark.sql.functions import col\n",
    "from pyspark.sql.functions import substring\n",
    "from pyspark.sql.types import IntegerType"
   ]
  },
  {
   "cell_type": "code",
   "execution_count": 47,
   "metadata": {
    "collapsed": false
   },
   "outputs": [],
   "source": [
    "import urllib.request\n",
    "f = urllib.request.urlretrieve(\"https://www.dropbox.com/s/73wr8xb5s6fdj7g/apache.access.log.PROJECT?dl=1\", \"apache.access.log.PROJECT\")"
   ]
  },
  {
   "cell_type": "code",
   "execution_count": 53,
   "metadata": {
    "collapsed": false
   },
   "outputs": [],
   "source": [
    "datos = \"./apache.access.log.PROJECT\"\n",
    "data = sc.textFile(datos)"
   ]
  },
  {
   "cell_type": "code",
   "execution_count": 54,
   "metadata": {
    "collapsed": false
   },
   "outputs": [
    {
     "data": {
      "text/plain": [
       "1043177"
      ]
     },
     "execution_count": 54,
     "metadata": {},
     "output_type": "execute_result"
    }
   ],
   "source": [
    "data.count()"
   ]
  },
  {
   "cell_type": "code",
   "execution_count": 55,
   "metadata": {
    "collapsed": true
   },
   "outputs": [],
   "source": [
    "from datetime import datetime\n",
    "def day_month(line):\n",
    "    date_time = line[3]\n",
    "    return datetime.strptime(date_time[:11], \"%d/%b/%Y\")"
   ]
  },
  {
   "cell_type": "code",
   "execution_count": 56,
   "metadata": {
    "collapsed": false
   },
   "outputs": [
    {
     "data": {
      "text/plain": [
       "['in24.inetnebr.com - - [01/Aug/1995:00:00:01 -0400] \"GET /shuttle/missions/sts-68/news/sts-68-mcc-05.txt HTTP/1.0\" 200 1839',\n",
       " 'uplherc.upl.com - - [01/Aug/1995:00:00:07 -0400] \"GET / HTTP/1.0\" 304 0']"
      ]
     },
     "execution_count": 56,
     "metadata": {},
     "output_type": "execute_result"
    }
   ],
   "source": [
    "data.take(2)"
   ]
  },
  {
   "cell_type": "code",
   "execution_count": 57,
   "metadata": {
    "collapsed": false
   },
   "outputs": [],
   "source": [
    "datosLimpio = data.map(lambda x: x.replace(\" -\", ' 0')).map(lambda x: x.split(\" \"))"
   ]
  },
  {
   "cell_type": "code",
   "execution_count": 61,
   "metadata": {
    "collapsed": false
   },
   "outputs": [],
   "source": [
    "row_data = datosLimpio.map(lambda p: Row(\n",
    "    host = p[0], \n",
    "    vacia1 = int(p[1]),\n",
    "    vacia2 = p[2],\n",
    "    date = p[3],\n",
    "    protocol = p[4],\n",
    "    endpoint = p[6],\n",
    "    version = p[7],\n",
    "    response_code = int(p[-2]),\n",
    "    size = p[-1]\n",
    "    )\n",
    ")\n",
    "\n",
    "\n",
    "interactions_df = sqlContext.createDataFrame(row_data)\n",
    "\n"
   ]
  },
  {
   "cell_type": "code",
   "execution_count": 62,
   "metadata": {
    "collapsed": false
   },
   "outputs": [],
   "source": [
    "df = interactions_df.withColumn('date', regexp_replace('date', '[', ''))\n",
    "df2 = interactions_df.withColumn(\"fecha\", substring('date', 2, 11))\n",
    "\n",
    "from pyspark.sql.types import IntegerType\n",
    "\n",
    "df3 = df2.withColumn(\"size\", df2[\"size\"].cast(IntegerType()))"
   ]
  },
  {
   "cell_type": "code",
   "execution_count": 63,
   "metadata": {
    "collapsed": false
   },
   "outputs": [],
   "source": [
    "df4a = df3.drop('vacia1')\n",
    "df4b = df4a.drop('vacia2')\n",
    "df4 = df4b.drop('date')"
   ]
  },
  {
   "cell_type": "code",
   "execution_count": 64,
   "metadata": {
    "collapsed": false,
    "scrolled": false
   },
   "outputs": [
    {
     "name": "stdout",
     "output_type": "stream",
     "text": [
      "+--------------------+--------------------+--------+-------------+-----+---------+-----------+\n",
      "|            endpoint|                host|protocol|response_code| size|  version|      fecha|\n",
      "+--------------------+--------------------+--------+-------------+-----+---------+-----------+\n",
      "|/shuttle/missions...|   in24.inetnebr.com|  00400]|          200| 1839|HTTP/1.0\"|01/Aug/1995|\n",
      "|                   /|     uplherc.upl.com|  00400]|          304|    0|HTTP/1.0\"|01/Aug/1995|\n",
      "|/images/ksclogo-m...|     uplherc.upl.com|  00400]|          304|    0|HTTP/1.0\"|01/Aug/1995|\n",
      "|/images/MOSAIC-lo...|     uplherc.upl.com|  00400]|          304|    0|HTTP/1.0\"|01/Aug/1995|\n",
      "|/images/USA-logos...|     uplherc.upl.com|  00400]|          304|    0|HTTP/1.0\"|01/Aug/1995|\n",
      "|/images/launch-lo...|ix-esc-ca2-07.ix....|  00400]|          200| 1713|HTTP/1.0\"|01/Aug/1995|\n",
      "|/images/WORLD-log...|     uplherc.upl.com|  00400]|          304|    0|HTTP/1.0\"|01/Aug/1995|\n",
      "|/history/skylab/s...|slppp6.intermind.net|  00400]|          200| 1687|HTTP/1.0\"|01/Aug/1995|\n",
      "|/images/launchmed...|piweba4y.prodigy.com|  00400]|          200|11853|HTTP/1.0\"|01/Aug/1995|\n",
      "|/history/skylab/s...|slppp6.intermind.net|  00400]|          200| 9202|HTTP/1.0\"|01/Aug/1995|\n",
      "|/images/ksclogosm...|slppp6.intermind.net|  00400]|          200| 3635|HTTP/1.0\"|01/Aug/1995|\n",
      "|/history/apollo/i...|ix-esc-ca2-07.ix....|  00400]|          200| 1173|HTTP/1.0\"|01/Aug/1995|\n",
      "|/history/apollo/i...|slppp6.intermind.net|  00400]|          200| 3047|HTTP/1.0\"|01/Aug/1995|\n",
      "|/images/NASA-logo...|     uplherc.upl.com|  00400]|          304|    0|HTTP/1.0\"|01/Aug/1995|\n",
      "|/shuttle/missions...|        133.43.96.45|  00400]|          200|10566|HTTP/1.0\"|01/Aug/1995|\n",
      "|                   /|kgtyk4.kj.yamagat...|  00400]|          200| 7280|HTTP/1.0\"|01/Aug/1995|\n",
      "|/images/ksclogo-m...|kgtyk4.kj.yamagat...|  00400]|          200| 5866|HTTP/1.0\"|01/Aug/1995|\n",
      "|/history/apollo/a...|     d0ucr6.fnal.gov|  00400]|          200| 2743|HTTP/1.0\"|01/Aug/1995|\n",
      "|/shuttle/resource...|ix-esc-ca2-07.ix....|  00400]|          200| 6849|HTTP/1.0\"|01/Aug/1995|\n",
      "|/history/apollo/a...|     d0ucr6.fnal.gov|  00400]|          200|14897|HTTP/1.0\"|01/Aug/1995|\n",
      "+--------------------+--------------------+--------+-------------+-----+---------+-----------+\n",
      "only showing top 20 rows\n",
      "\n"
     ]
    }
   ],
   "source": [
    "df4.show()"
   ]
  },
  {
   "cell_type": "code",
   "execution_count": 65,
   "metadata": {
    "collapsed": false
   },
   "outputs": [],
   "source": [
    "split_col = split(df4['fecha'], '/')\n",
    "df5 = df4.withColumn('dia', split_col.getItem(0))\n",
    "df6 = df5.withColumn('mes', split_col.getItem(1))\n",
    "df7 = df6.withColumn('año', split_col.getItem(2))\n",
    "df7 = df7.na.fill(0)"
   ]
  },
  {
   "cell_type": "code",
   "execution_count": 66,
   "metadata": {
    "collapsed": false
   },
   "outputs": [
    {
     "name": "stdout",
     "output_type": "stream",
     "text": [
      "+--------------------+--------------------+--------+-------------+-----+---------+-----------+---+---+----+\n",
      "|            endpoint|                host|protocol|response_code| size|  version|      fecha|dia|mes| año|\n",
      "+--------------------+--------------------+--------+-------------+-----+---------+-----------+---+---+----+\n",
      "|/shuttle/missions...|   in24.inetnebr.com|  00400]|          200| 1839|HTTP/1.0\"|01/Aug/1995| 01|Aug|1995|\n",
      "|                   /|     uplherc.upl.com|  00400]|          304|    0|HTTP/1.0\"|01/Aug/1995| 01|Aug|1995|\n",
      "|/images/ksclogo-m...|     uplherc.upl.com|  00400]|          304|    0|HTTP/1.0\"|01/Aug/1995| 01|Aug|1995|\n",
      "|/images/MOSAIC-lo...|     uplherc.upl.com|  00400]|          304|    0|HTTP/1.0\"|01/Aug/1995| 01|Aug|1995|\n",
      "|/images/USA-logos...|     uplherc.upl.com|  00400]|          304|    0|HTTP/1.0\"|01/Aug/1995| 01|Aug|1995|\n",
      "|/images/launch-lo...|ix-esc-ca2-07.ix....|  00400]|          200| 1713|HTTP/1.0\"|01/Aug/1995| 01|Aug|1995|\n",
      "|/images/WORLD-log...|     uplherc.upl.com|  00400]|          304|    0|HTTP/1.0\"|01/Aug/1995| 01|Aug|1995|\n",
      "|/history/skylab/s...|slppp6.intermind.net|  00400]|          200| 1687|HTTP/1.0\"|01/Aug/1995| 01|Aug|1995|\n",
      "|/images/launchmed...|piweba4y.prodigy.com|  00400]|          200|11853|HTTP/1.0\"|01/Aug/1995| 01|Aug|1995|\n",
      "|/history/skylab/s...|slppp6.intermind.net|  00400]|          200| 9202|HTTP/1.0\"|01/Aug/1995| 01|Aug|1995|\n",
      "|/images/ksclogosm...|slppp6.intermind.net|  00400]|          200| 3635|HTTP/1.0\"|01/Aug/1995| 01|Aug|1995|\n",
      "|/history/apollo/i...|ix-esc-ca2-07.ix....|  00400]|          200| 1173|HTTP/1.0\"|01/Aug/1995| 01|Aug|1995|\n",
      "|/history/apollo/i...|slppp6.intermind.net|  00400]|          200| 3047|HTTP/1.0\"|01/Aug/1995| 01|Aug|1995|\n",
      "|/images/NASA-logo...|     uplherc.upl.com|  00400]|          304|    0|HTTP/1.0\"|01/Aug/1995| 01|Aug|1995|\n",
      "|/shuttle/missions...|        133.43.96.45|  00400]|          200|10566|HTTP/1.0\"|01/Aug/1995| 01|Aug|1995|\n",
      "|                   /|kgtyk4.kj.yamagat...|  00400]|          200| 7280|HTTP/1.0\"|01/Aug/1995| 01|Aug|1995|\n",
      "|/images/ksclogo-m...|kgtyk4.kj.yamagat...|  00400]|          200| 5866|HTTP/1.0\"|01/Aug/1995| 01|Aug|1995|\n",
      "|/history/apollo/a...|     d0ucr6.fnal.gov|  00400]|          200| 2743|HTTP/1.0\"|01/Aug/1995| 01|Aug|1995|\n",
      "|/shuttle/resource...|ix-esc-ca2-07.ix....|  00400]|          200| 6849|HTTP/1.0\"|01/Aug/1995| 01|Aug|1995|\n",
      "|/history/apollo/a...|     d0ucr6.fnal.gov|  00400]|          200|14897|HTTP/1.0\"|01/Aug/1995| 01|Aug|1995|\n",
      "+--------------------+--------------------+--------+-------------+-----+---------+-----------+---+---+----+\n",
      "only showing top 20 rows\n",
      "\n"
     ]
    }
   ],
   "source": [
    "df7.show()"
   ]
  },
  {
   "cell_type": "markdown",
   "metadata": {},
   "source": [
    "### Pregunta 1. Mínimo,máximo y media del tamaño de peticiones (size)"
   ]
  },
  {
   "cell_type": "code",
   "execution_count": 67,
   "metadata": {
    "collapsed": false
   },
   "outputs": [],
   "source": [
    "size = df4.select('size')"
   ]
  },
  {
   "cell_type": "code",
   "execution_count": 70,
   "metadata": {
    "collapsed": false
   },
   "outputs": [
    {
     "name": "stdout",
     "output_type": "stream",
     "text": [
      "+---------+\n",
      "|max(size)|\n",
      "+---------+\n",
      "|  3421948|\n",
      "+---------+\n",
      "\n"
     ]
    }
   ],
   "source": [
    "size.agg({\"size\": \"max\"}).show()"
   ]
  },
  {
   "cell_type": "code",
   "execution_count": 71,
   "metadata": {
    "collapsed": false
   },
   "outputs": [
    {
     "name": "stdout",
     "output_type": "stream",
     "text": [
      "+---------+\n",
      "|min(size)|\n",
      "+---------+\n",
      "|        0|\n",
      "+---------+\n",
      "\n"
     ]
    }
   ],
   "source": [
    "size.agg({\"size\": \"min\"}).show()"
   ]
  },
  {
   "cell_type": "code",
   "execution_count": 72,
   "metadata": {
    "collapsed": false
   },
   "outputs": [
    {
     "name": "stdout",
     "output_type": "stream",
     "text": [
      "+------------------+\n",
      "|         avg(size)|\n",
      "+------------------+\n",
      "|17531.555702435926|\n",
      "+------------------+\n",
      "\n"
     ]
    }
   ],
   "source": [
    "size.agg({\"size\": \"avg\"}).show()"
   ]
  },
  {
   "cell_type": "markdown",
   "metadata": {},
   "source": [
    "### Pregunta 2. Número de peticiones de cada código de respuesta"
   ]
  },
  {
   "cell_type": "code",
   "execution_count": 73,
   "metadata": {
    "collapsed": false
   },
   "outputs": [
    {
     "name": "stdout",
     "output_type": "stream",
     "text": [
      "+-------------+------+\n",
      "|response_code|cuenta|\n",
      "+-------------+------+\n",
      "|          304| 79824|\n",
      "|          404|  6185|\n",
      "|          500|     2|\n",
      "|          501|    17|\n",
      "|          403|    58|\n",
      "|          200|940847|\n",
      "|          302| 16244|\n",
      "+-------------+------+\n",
      "\n"
     ]
    }
   ],
   "source": [
    "peticiones = df4.groupby('response_code').agg(count('host').alias('cuenta')).show()"
   ]
  },
  {
   "cell_type": "markdown",
   "metadata": {
    "collapsed": true
   },
   "source": [
    "### Pregunta 3.Mostrar 20 hosts que han sido visitados más de 10 veces"
   ]
  },
  {
   "cell_type": "code",
   "execution_count": 74,
   "metadata": {
    "collapsed": false
   },
   "outputs": [
    {
     "name": "stdout",
     "output_type": "stream",
     "text": [
      "+--------------------+-----+\n",
      "|                host|count|\n",
      "+--------------------+-----+\n",
      "|  edams.ksc.nasa.gov| 4034|\n",
      "|piweba5y.prodigy.com| 3237|\n",
      "|piweba4y.prodigy.com| 3043|\n",
      "|piweba3y.prodigy.com| 2830|\n",
      "|www-d1.proxy.aol.com| 2715|\n",
      "|www-b3.proxy.aol.com| 2518|\n",
      "|         news.ti.com| 2507|\n",
      "|www-b2.proxy.aol.com| 2481|\n",
      "|        163.206.89.4| 2478|\n",
      "|www-c2.proxy.aol.com| 2438|\n",
      "|www-c3.proxy.aol.com| 2400|\n",
      "|www-d2.proxy.aol.com| 2371|\n",
      "|www-d4.proxy.aol.com| 2356|\n",
      "|www-b5.proxy.aol.com| 2354|\n",
      "|www-b4.proxy.aol.com| 2297|\n",
      "|www-d3.proxy.aol.com| 2284|\n",
      "|www-a2.proxy.aol.com| 2238|\n",
      "|www-c4.proxy.aol.com| 2207|\n",
      "|www-c5.proxy.aol.com| 2198|\n",
      "|www-c6.proxy.aol.com| 2181|\n",
      "+--------------------+-----+\n",
      "only showing top 20 rows\n",
      "\n"
     ]
    }
   ],
   "source": [
    "from pyspark.sql.functions import col\n",
    "\n",
    "hosts = df4.groupby('host').count().sort(col(\"count\").desc()).show(20)"
   ]
  },
  {
   "cell_type": "markdown",
   "metadata": {
    "collapsed": true
   },
   "source": [
    "### Pregunta 4. Mostrar los 10 endpoints más visitados."
   ]
  },
  {
   "cell_type": "code",
   "execution_count": 75,
   "metadata": {
    "collapsed": false
   },
   "outputs": [
    {
     "name": "stdout",
     "output_type": "stream",
     "text": [
      "+--------------------+-----+\n",
      "|            endpoint|count|\n",
      "+--------------------+-----+\n",
      "|/images/NASA-logo...|59666|\n",
      "|/images/KSC-logos...|50420|\n",
      "|/images/MOSAIC-lo...|43831|\n",
      "|/images/USA-logos...|43604|\n",
      "|/images/WORLD-log...|43217|\n",
      "|/images/ksclogo-m...|41267|\n",
      "|           /ksc.html|28536|\n",
      "|/history/apollo/i...|26766|\n",
      "|/images/launch-lo...|24742|\n",
      "|                   /|20175|\n",
      "+--------------------+-----+\n",
      "only showing top 10 rows\n",
      "\n"
     ]
    }
   ],
   "source": [
    "endpoints = df4.groupby('endpoint').count().sort(col(\"count\").desc()).show(10)"
   ]
  },
  {
   "cell_type": "markdown",
   "metadata": {
    "collapsed": true
   },
   "source": [
    "### Pregunta 5. Mostrar los 10 endpoints más visitados que no tienen código de respuesta 200."
   ]
  },
  {
   "cell_type": "code",
   "execution_count": 76,
   "metadata": {
    "collapsed": false
   },
   "outputs": [
    {
     "name": "stdout",
     "output_type": "stream",
     "text": [
      "+--------------------+-----+\n",
      "|            endpoint|count|\n",
      "+--------------------+-----+\n",
      "|/images/NASA-logo...| 8761|\n",
      "|/images/KSC-logos...| 7236|\n",
      "|/images/MOSAIC-lo...| 5197|\n",
      "|/images/USA-logos...| 5157|\n",
      "|/images/WORLD-log...| 5020|\n",
      "|/images/ksclogo-m...| 4728|\n",
      "|/history/apollo/i...| 2907|\n",
      "|/images/launch-lo...| 2811|\n",
      "|                   /| 2199|\n",
      "|/images/ksclogosm...| 1622|\n",
      "+--------------------+-----+\n",
      "only showing top 10 rows\n",
      "\n"
     ]
    }
   ],
   "source": [
    "endpointsNo200 = df4.filter(df4.response_code != '200').groupby('endpoint').count().sort(col(\"count\").desc()).show(10)"
   ]
  },
  {
   "cell_type": "markdown",
   "metadata": {},
   "source": [
    "### Pregunta 6. Calcular el número de hosts distintos"
   ]
  },
  {
   "cell_type": "code",
   "execution_count": 77,
   "metadata": {
    "collapsed": false
   },
   "outputs": [
    {
     "data": {
      "text/plain": [
       "54507"
      ]
     },
     "execution_count": 77,
     "metadata": {},
     "output_type": "execute_result"
    }
   ],
   "source": [
    "hostsDistintos = df4.select(\"host\").distinct().count()\n",
    "hostsDistintos"
   ]
  },
  {
   "cell_type": "markdown",
   "metadata": {},
   "source": [
    "### Pregunta 7. Calcular número de hosts distintos cada día."
   ]
  },
  {
   "cell_type": "code",
   "execution_count": 85,
   "metadata": {
    "collapsed": false
   },
   "outputs": [
    {
     "name": "stdout",
     "output_type": "stream",
     "text": [
      "+---+--------------------+\n",
      "|dia|count(DISTINCT host)|\n",
      "+---+--------------------+\n",
      "| 01|                2582|\n",
      "| 03|                3222|\n",
      "| 04|                4190|\n",
      "| 05|                2502|\n",
      "| 06|                2537|\n",
      "| 07|                4106|\n",
      "| 08|                4406|\n",
      "| 09|                4317|\n",
      "| 10|                4523|\n",
      "| 11|                4346|\n",
      "| 12|                2864|\n",
      "| 13|                2650|\n",
      "| 14|                4454|\n",
      "| 15|                4214|\n",
      "| 16|                4340|\n",
      "| 17|                4385|\n",
      "| 18|                4168|\n",
      "| 19|                2550|\n",
      "| 20|                2560|\n",
      "| 21|                4134|\n",
      "+---+--------------------+\n",
      "only showing top 20 rows\n",
      "\n"
     ]
    }
   ],
   "source": [
    "#Muestra los host distintos de cada día del mes de Agosto\n",
    "hostpordia = df7.groupby(\"dia\").agg(countDistinct('host')).sort('dia').show()\n"
   ]
  },
  {
   "cell_type": "markdown",
   "metadata": {},
   "source": [
    "### Pregunta 9. Mostrar una lista de 40 endpoints distintos que generan un código de respuesta 404"
   ]
  },
  {
   "cell_type": "code",
   "execution_count": 199,
   "metadata": {
    "collapsed": false,
    "scrolled": true
   },
   "outputs": [
    {
     "name": "stdout",
     "output_type": "stream",
     "text": [
      "+--------------------+\n",
      "|            endpoint|\n",
      "+--------------------+\n",
      "|/biomed/wwwicons/...|\n",
      "|    /mdss/s_md-2.gif|\n",
      "|/shuttle/missions...|\n",
      "|/history/apollo/a...|\n",
      "|/shuttle/missions...|\n",
      "|/shuttle/technolo...|\n",
      "|/cgi-bin/imagemap...|\n",
      "|/shuttle/missions...|\n",
      "|/shuttle/resource...|\n",
      "|/shuttle/missions...|\n",
      "|/history/apollo/a...|\n",
      "|/pub/winvn/readme...|\n",
      "|/shuttle/missions...|\n",
      "|/shuttle/resource...|\n",
      "|/shuttle/missions...|\n",
      "|/cgi-bin/imagemap...|\n",
      "|/shuttle/technolo...|\n",
      "|/shuttle/missions...|\n",
      "|/images/dual-pad.gif|\n",
      "|/shuttle/missions...|\n",
      "|/shuttle/missions...|\n",
      "|/facilities/tour....|\n",
      "|/shuttle/countdow...|\n",
      "|          /ksc.html/|\n",
      "|      /mdss/dcy2.gif|\n",
      "|/shuttle/missions...|\n",
      "|/history/apollo/a...|\n",
      "|/history/apollo/s...|\n",
      "|/history/apollo/a...|\n",
      "|/shuttle/missions...|\n",
      "|/history/apollo/a...|\n",
      "|/history/apollo/a...|\n",
      "|/history/apollo/i...|\n",
      "|/history/apollo/a...|\n",
      "|          /ksc.html\"|\n",
      "|/shuttle/technolo...|\n",
      "|/elv/ATLAS_CENTAU...|\n",
      "|/software/winvn/f...|\n",
      "|/elv/DELTA/uncons...|\n",
      "|/shuttle/missions...|\n",
      "+--------------------+\n",
      "only showing top 40 rows\n",
      "\n"
     ]
    }
   ],
   "source": [
    "\n",
    "endpointDistintos = df4.select(\"endpoint\").distinct().show(40)"
   ]
  },
  {
   "cell_type": "markdown",
   "metadata": {},
   "source": [
    "### Pregunta 10. Mostrar top 25 endpoints que más códigos de respuesta 404 generan."
   ]
  },
  {
   "cell_type": "code",
   "execution_count": 80,
   "metadata": {
    "collapsed": false
   },
   "outputs": [
    {
     "name": "stdout",
     "output_type": "stream",
     "text": [
      "+--------------------+-----+\n",
      "|            endpoint|count|\n",
      "+--------------------+-----+\n",
      "|/pub/winvn/readme...|  633|\n",
      "|/pub/winvn/releas...|  494|\n",
      "|/shuttle/missions...|  430|\n",
      "|/images/nasa-logo...|  319|\n",
      "|/elv/DELTA/uncons...|  178|\n",
      "|/shuttle/missions...|  154|\n",
      "|/history/apollo/s...|  146|\n",
      "|/images/crawlerwa...|  120|\n",
      "|/://spacelink.msf...|  117|\n",
      "|/history/apollo/p...|  100|\n",
      "|/history/apollo/a...|   97|\n",
      "|/images/Nasa-logo...|   85|\n",
      "|/shuttle/resource...|   63|\n",
      "|/history/apollo/i...|   62|\n",
      "| /images/lf-logo.gif|   59|\n",
      "|/shuttle/resource...|   56|\n",
      "|/shuttle/resource...|   54|\n",
      "|         /robots.txt|   53|\n",
      "|     /elv/new01.gif>|   43|\n",
      "|/history/apollo/p...|   38|\n",
      "|                /pub|   36|\n",
      "|               /pub/|   36|\n",
      "|/history/apollo/s...|   35|\n",
      "|/history/apollo/s...|   32|\n",
      "|/shuttle/countdow...|   31|\n",
      "+--------------------+-----+\n",
      "only showing top 25 rows\n",
      "\n"
     ]
    }
   ],
   "source": [
    "endpoints404 = df4.filter(df4.response_code == '404').groupby('endpoint').count().sort(col(\"count\").desc()).show(25)"
   ]
  },
  {
   "cell_type": "code",
   "execution_count": null,
   "metadata": {
    "collapsed": true
   },
   "outputs": [],
   "source": []
  },
  {
   "cell_type": "markdown",
   "metadata": {},
   "source": [
    "### Pregunta 11. Top 5 de días que generaron código 404"
   ]
  },
  {
   "cell_type": "code",
   "execution_count": 81,
   "metadata": {
    "collapsed": false
   },
   "outputs": [
    {
     "name": "stdout",
     "output_type": "stream",
     "text": [
      "+-----------+-------------+-----+\n",
      "|      fecha|response_code|count|\n",
      "+-----------+-------------+-----+\n",
      "|09/Aug/1995|          404|  279|\n",
      "|06/Aug/1995|          404|  372|\n",
      "|18/Aug/1995|          404|  255|\n",
      "|13/Aug/1995|          404|  216|\n",
      "|21/Aug/1995|          404|  305|\n",
      "|12/Aug/1995|          404|  195|\n",
      "|14/Aug/1995|          404|  287|\n",
      "|16/Aug/1995|          404|  258|\n",
      "|01/Aug/1995|          404|  243|\n",
      "|04/Aug/1995|          404|  346|\n",
      "|20/Aug/1995|          404|  312|\n",
      "|15/Aug/1995|          404|  326|\n",
      "|03/Aug/1995|          404|  303|\n",
      "|22/Aug/1995|          404|  288|\n",
      "|17/Aug/1995|          404|  269|\n",
      "|05/Aug/1995|          404|  234|\n",
      "|10/Aug/1995|          404|  314|\n",
      "|08/Aug/1995|          404|  381|\n",
      "|07/Aug/1995|          404|  532|\n",
      "|11/Aug/1995|          404|  263|\n",
      "+-----------+-------------+-----+\n",
      "only showing top 20 rows\n",
      "\n"
     ]
    }
   ],
   "source": [
    "top404 = df4.select('fecha','response_code').filter(df4.response_code == '404')\n",
    "response = top404.groupby('fecha','response_code').count().show()\n"
   ]
  }
 ],
 "metadata": {
  "kernelspec": {
   "display_name": "Python 3",
   "language": "python",
   "name": "python3"
  },
  "language_info": {
   "codemirror_mode": {
    "name": "ipython",
    "version": 3
   },
   "file_extension": ".py",
   "mimetype": "text/x-python",
   "name": "python",
   "nbconvert_exporter": "python",
   "pygments_lexer": "ipython3",
   "version": "3.5.2"
  }
 },
 "nbformat": 4,
 "nbformat_minor": 2
}
