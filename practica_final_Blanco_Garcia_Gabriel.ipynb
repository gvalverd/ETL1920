{
 "cells": [
  {
   "cell_type": "markdown",
   "metadata": {},
   "source": [
    "# Práctica examen final ETL: datos de vivienda.\n",
    "\n",
    "### Autor: \n",
    "Blanco García, Gabriel: gabriel.blanco@cunef.edu\n",
    "\n",
    "#### Colegio Universitario de Estudios Financieros \n",
    "#### Madrid, enero de 2021"
   ]
  },
  {
   "cell_type": "code",
   "execution_count": 3,
   "metadata": {
    "collapsed": true
   },
   "outputs": [],
   "source": [
    "# Operaciones basicas \n",
    "import numpy as np\n",
    "import pandas as pd\n",
    "\n",
    "# Expresiones regulares\n",
    "import re\n",
    "\n",
    "# Spark para trabajar en rdd\n",
    "import pyspark\n",
    "from pyspark import SparkContext\n",
    "\n",
    "# Algunas operaciones en dataframe\n",
    "from pyspark.sql import SQLContext\n",
    "from pyspark.sql import SparkSession\n",
    "from pyspark.sql import *"
   ]
  },
  {
   "cell_type": "markdown",
   "metadata": {},
   "source": [
    "## 1. Inicializar y cargar el contexto Spark\n",
    "\n",
    "Al trabajar desde Docker, no es necesario volver a instalar Spark, como sí sucede en Google Colab. La inicialización y la carga del contexto Spark son como se muestra a continuación"
   ]
  },
  {
   "cell_type": "code",
   "execution_count": 4,
   "metadata": {
    "collapsed": false
   },
   "outputs": [
    {
     "data": {
      "text/plain": [
       "[('spark.driver.host', '172.17.0.2'),\n",
       " ('spark.driver.port', '33813'),\n",
       " ('spark.rdd.compress', 'True'),\n",
       " ('spark.app.id', 'local-1612172159572'),\n",
       " ('spark.serializer.objectStreamReset', '100'),\n",
       " ('spark.master', 'local[*]'),\n",
       " ('spark.executor.id', 'driver'),\n",
       " ('spark.submit.deployMode', 'client'),\n",
       " ('spark.app.name', 'pyspark-shell')]"
      ]
     },
     "execution_count": 4,
     "metadata": {},
     "output_type": "execute_result"
    }
   ],
   "source": [
    "sc = SparkContext()\n",
    "conf = sc.getConf()\n",
    "conf.getAll()"
   ]
  },
  {
   "cell_type": "markdown",
   "metadata": {},
   "source": [
    "### Lectura de los datos y creación del diccionario de columnas"
   ]
  },
  {
   "cell_type": "markdown",
   "metadata": {},
   "source": [
    "Estos son los datos con los que se va a trabajar"
   ]
  },
  {
   "cell_type": "code",
   "execution_count": 5,
   "metadata": {
    "collapsed": false
   },
   "outputs": [],
   "source": [
    "datos = sc.textFile('../work/data/BDpracticafinalCSV.csv')"
   ]
  },
  {
   "cell_type": "markdown",
   "metadata": {},
   "source": [
    "Los metadatos se encuentran en la segunda página del fichero excel. La tabla que se muestra a continuación se ha copiado del enunciado del ejerecicio, ya que quedaba mejor que leyendo el excel."
   ]
  },
  {
   "cell_type": "markdown",
   "metadata": {},
   "source": [
    "|NOMBRE VARIABLE|DESCRIPTOR|VALORES|\n",
    "| --- | --- | --- |\n",
    "|Order|Variable de identificación|1 a 2930|\n",
    "|MS Zoning|Zona de ubicación de la vivienda|\"A rural, C comercial, FV residencial flotante, I industrial, RH residencial alta densidad, RL residencial baja densidad, RM residencial media densidad\"|\n",
    "|Lot Frontage|Longitud de la fachada en pies||\n",
    "|Lot Area|Superficie de la vivienda en pies cuadrados||\n",
    "|Land Contour|Contorno del terreno circundante|\"Lvl llano, Bnk Tipo bancal, HLS Ladera, Low Depresión\"|\n",
    "|Land Slope|Tipo de pendiente de la vivienda|\" Gtl pendiente suave, Mod pendiente moderada, Sev fuerte pendiente\"|\n",
    "|Overall Qual|Grado de calidad de materiales y acabado de la vivienda|De 1 (Muy pobre) a 10 (Excelente)|\n",
    "|Year Built|Año de construccion de la vivienda||\n",
    "|Year Remod/Add|Año de última reforma de la vivienda||\n",
    "|Mas Vnr Type|Tipo de revestimiento exterior|\" BrkCmn Ladrillo normal, BrkFace Ladrillo visto, CBlock Bloque de cemento, None Ninguna, Stone Piedra \"|\n",
    "|Exter Qual|Calidad de revestimiento exterior|\"Ex Excelente,Gd Bueno,TA Media,Fa Justo\"|\n",
    "|Bsmt Cond|Estado general del sótano|\"Ex Excelente, Gd Bueno, TA Media, Fa Justo, Po Pobre,Ss sin sótano\"|\n",
    "|Total Bsmt SF|Superficie del sótano en pies cuadrados|\n",
    "|Heating QC|Calidad de la calefacción|\"Ex Excelente,Gd Bueno,TA Media,Fa Justo,Po Pobre\"|\n",
    "|Central Air|Aire acondicionado centralizado|\"N No Y Sí\"|\n",
    "|Full Bath|Número de baños completo en planta||\n",
    "|Half Bath|Número de aseos en planta||\n",
    "|Bedroom AbvGr|Número de dormitorios en planta||\n",
    "|Kitchen AbvGr|Número de cocinas en planta||\n",
    "|Kitchen Qual|Calidad de cocinas|\"Ex Excelente,Gd Bueno,TA Media,Fa Justo,Po Pobre\"|\n",
    "|TotRms AbvGrd|Número total de habitaciones excluidos los cuartos de baño||\n",
    "|Garage Cars|Número de plazas de garaje||\n",
    "|Garage Area|Superficie del garaje||\n",
    "|Garage Cond|Estado del garaje|\"Ex Excelente,Gd Bueno,TA Media,Fa Justo,Po Pobre,Sg sin garaje\"|\n",
    "|Pool Area|Superficie de la piscina en pies cuadrados|\n",
    "|Pool QC|Calidad de la piscina|\"Ex Excelente,Gd Bueno,TA Media,Fa Justo,Sp no hay piscina\"|\n",
    "|Mo Sold|mes de venta||\n",
    "|Yr Sold|año de venta||\n",
    "|SalePrice|precio de venta en dólares||"
   ]
  },
  {
   "cell_type": "markdown",
   "metadata": {},
   "source": [
    "Lo primero es hacer un `take` de los datos en formato rdd para ver su aspecto"
   ]
  },
  {
   "cell_type": "code",
   "execution_count": 6,
   "metadata": {
    "collapsed": false
   },
   "outputs": [
    {
     "data": {
      "text/plain": [
       "['Order;MS Zoning;Lot Frontage;Lot Area;Land Contour;Land Slope;Overall Qual;Year Built;Year Remod/Add;Mas Vnr Type;Exter Qual;Bsmt Cond;Total Bsmt SF;Heating QC;Central Air;Full Bath;Half Bath;Bedroom AbvGr;Kitchen AbvGr;Kitchen Qual;TotRms AbvGrd;Garage Cars;Garage Area;Garage Cond;Pool Area;Pool QC;Mo Sold;Yr Sold;SalePrice',\n",
       " '1;RL;141;31770;Lvl;Gtl;6;1960;1960;Stone;TA;Gd;1080;Fa;Y;1;0;3;1;TA;7;2;528;TA;0;Sp;5;2010;215000',\n",
       " '2;RH;80;11622;Lvl;Gtl;5;1961;1961;None;TA;TA;882;TA;Y;1;0;2;1;TA;5;1;730;TA;0;Sp;6;2010;105000',\n",
       " '3;RL;81;14267;Lvl;Gtl;6;1958;1958;BrkFace;TA;TA;1329;TA;Y;1;1;3;1;Gd;6;1;312;TA;0;Sp;6;2010;172000',\n",
       " '4;RL;93;11160;Lvl;Gtl;7;1968;1968;None;Gd;TA;2110;Ex;Y;2;1;3;1;Ex;8;2;522;TA;0;Sp;4;2010;244000']"
      ]
     },
     "execution_count": 6,
     "metadata": {},
     "output_type": "execute_result"
    }
   ],
   "source": [
    "datos.take(5) # split punto y coma"
   ]
  },
  {
   "cell_type": "markdown",
   "metadata": {},
   "source": [
    "Los datos están separados por punto y coma, algo a tener en cuenta a la hora de hacer el split. Ahora se crea un diccionario con las columnas y su posición, para agilizar el trabajo. Se aprovecha la extracción del header para sustiuir los espacios por\n",
    "guión bajo y pasarlos a minúsculas"
   ]
  },
  {
   "cell_type": "markdown",
   "metadata": {},
   "source": [
    "Primero se accede al header filtrando solo las que contengan `Order`, que es una de las columnas. Después, con `.map` y `re.sub` se cambian los espacios por guiones bajos. Finalmente, se utiliza collect `collect` (acción) para pasaralo a Python, que se usará para crear el diccionario."
   ]
  },
  {
   "cell_type": "code",
   "execution_count": 7,
   "metadata": {
    "collapsed": false,
    "scrolled": false
   },
   "outputs": [
    {
     "data": {
      "text/plain": [
       "['order;ms_zoning;lot_frontage;lot_area;land_contour;land_slope;overall_qual;year_built;year_remod/add;mas_vnr_type;exter_qual;bsmt_cond;total_bsmt_sf;heating_qc;central_air;full_bath;half_bath;bedroom_abvgr;kitchen_abvgr;kitchen_qual;totrms_abvgrd;garage_cars;garage_area;garage_cond;pool_area;pool_qc;mo_sold;yr_sold;saleprice']"
      ]
     },
     "execution_count": 7,
     "metadata": {},
     "output_type": "execute_result"
    }
   ],
   "source": [
    "header = datos.\\\n",
    "    filter(lambda x: 'Order' in x).\\\n",
    "    map(lambda x: x.lower()).\\\n",
    "    map(lambda x: re.sub(' ', '_', x)).collect() # Collect para quedármelo en Python\n",
    "\n",
    "header"
   ]
  },
  {
   "cell_type": "code",
   "execution_count": 8,
   "metadata": {
    "collapsed": false,
    "scrolled": false
   },
   "outputs": [
    {
     "data": {
      "text/plain": [
       "['order',\n",
       " 'ms_zoning',\n",
       " 'lot_frontage',\n",
       " 'lot_area',\n",
       " 'land_contour',\n",
       " 'land_slope',\n",
       " 'overall_qual',\n",
       " 'year_built',\n",
       " 'year_remod/add',\n",
       " 'mas_vnr_type',\n",
       " 'exter_qual',\n",
       " 'bsmt_cond',\n",
       " 'total_bsmt_sf',\n",
       " 'heating_qc',\n",
       " 'central_air',\n",
       " 'full_bath',\n",
       " 'half_bath',\n",
       " 'bedroom_abvgr',\n",
       " 'kitchen_abvgr',\n",
       " 'kitchen_qual',\n",
       " 'totrms_abvgrd',\n",
       " 'garage_cars',\n",
       " 'garage_area',\n",
       " 'garage_cond',\n",
       " 'pool_area',\n",
       " 'pool_qc',\n",
       " 'mo_sold',\n",
       " 'yr_sold',\n",
       " 'saleprice']"
      ]
     },
     "execution_count": 8,
     "metadata": {},
     "output_type": "execute_result"
    }
   ],
   "source": [
    "# Creacion de lista de strings separadas por punto y coma\n",
    "header = ''.join(header).split(';')\n",
    "\n",
    "header # este es el aspecto de lo que serán las keys"
   ]
  },
  {
   "cell_type": "markdown",
   "metadata": {},
   "source": [
    "Se crean las keys con el header, los values con números de 0 a la longitud del header, y el diccionario que combina ambos elementos."
   ]
  },
  {
   "cell_type": "code",
   "execution_count": 9,
   "metadata": {
    "collapsed": true
   },
   "outputs": [],
   "source": [
    "# Generación del diccionario \n",
    "keys_header = header\n",
    "values_header = range(len(header)) # de 0 a la longitud del header\n",
    "\n",
    "# Para cada value, lo empareja con su key\n",
    "for i in values_header:\n",
    "    diccionario_columnas = dict(zip(keys_header, values_header))"
   ]
  },
  {
   "cell_type": "markdown",
   "metadata": {},
   "source": [
    "De este modo, se puede acceder fácilmente al número de la columna con la siguiente sintaxis"
   ]
  },
  {
   "cell_type": "code",
   "execution_count": 10,
   "metadata": {
    "collapsed": false
   },
   "outputs": [
    {
     "data": {
      "text/plain": [
       "4"
      ]
     },
     "execution_count": 10,
     "metadata": {},
     "output_type": "execute_result"
    }
   ],
   "source": [
    "diccionario_columnas['land_contour'] # ejmplo para land_contour"
   ]
  },
  {
   "cell_type": "markdown",
   "metadata": {},
   "source": [
    "Ahora se dejan los datos preparados para trabajar con ellos, esto es, sin header y separados por punto y coma. Utilizo `filter` para quedarme con aquellas filas que __no__ son el header, y `map(lanmbda x: x.split(';')` para dividir los datos por punto y coma, que es el separador que utilizan"
   ]
  },
  {
   "cell_type": "code",
   "execution_count": 11,
   "metadata": {
    "collapsed": false,
    "scrolled": false
   },
   "outputs": [],
   "source": [
    "datos = datos.filter(lambda x: 'Order' not in x).\\\n",
    "              map(lambda x: x.split(';'))"
   ]
  },
  {
   "cell_type": "markdown",
   "metadata": {},
   "source": [
    "Solo se va a trabajar con viviendas. Hay registros de inmuebles comerciales e industriales que no interesan, se eliminan. Son aquellos cuya ms zoning es `I` o `C` (industrial o commercial)"
   ]
  },
  {
   "cell_type": "code",
   "execution_count": 12,
   "metadata": {
    "collapsed": true
   },
   "outputs": [],
   "source": [
    "# Localizo la columna con las zonas\n",
    "zona = diccionario_columnas['ms_zoning']\n",
    "\n",
    "# Elimino las observaciones de industrial y commercial\n",
    "datos = datos.filter(lambda x: 'I' not in x[zona] and 'C' not in x[zona]) # utilizo and, porque no quiero ninguno de los dos"
   ]
  },
  {
   "cell_type": "markdown",
   "metadata": {},
   "source": [
    "### 2.Viviendas distintas en el dataset\n",
    "Utilizo `distinct` y `count` para contar el numero de viviendas distintas. La diferencia entre el número de viviendas distintas y el número total de viviendas es igual a las viviendas duplicadas. En principio, no tiene sentido que haya viviendas duplicadas. Si no hubiese duplicadas, el total de viviendas únicas coincidiría con el total de observaciones\n",
    "\n",
    "El indicador de la vivienda, según los metadatos, se encuentra en la columna `order`"
   ]
  },
  {
   "cell_type": "code",
   "execution_count": 13,
   "metadata": {
    "collapsed": false,
    "scrolled": true
   },
   "outputs": [
    {
     "data": {
      "text/plain": [
       "2903"
      ]
     },
     "execution_count": 13,
     "metadata": {},
     "output_type": "execute_result"
    }
   ],
   "source": [
    "order = diccionario_columnas['order'] # está en la posición 0\n",
    "\n",
    "datos.map(lambda x: x[order]).distinct().count()"
   ]
  },
  {
   "cell_type": "markdown",
   "metadata": {},
   "source": [
    "Hay 2903 viviendas únicas. Comparo ese dato con el `count` de los datos en general, sin tener en cuenta si son distintos o no."
   ]
  },
  {
   "cell_type": "markdown",
   "metadata": {},
   "source": [
    "El total de datos se obteine con count, y son 2909"
   ]
  },
  {
   "cell_type": "code",
   "execution_count": 14,
   "metadata": {
    "collapsed": false
   },
   "outputs": [
    {
     "data": {
      "text/plain": [
       "2909"
      ]
     },
     "execution_count": 14,
     "metadata": {},
     "output_type": "execute_result"
    }
   ],
   "source": [
    "datos.count()"
   ]
  },
  {
   "cell_type": "markdown",
   "metadata": {},
   "source": [
    "Efectivamente, hay 6 viviendas duplicadas. Lo que se puede hacer con ellas es eliminarlas. Podemos contar el número de veces que aparece cada vivienda, y eliminar aquellas que aparezcan más de una vez. Lo haco con `reduceByKey`. El proceso es:\n",
    "\n",
    "1. map para construir un key value de la columna que quiero contar, con el order como key, y 1 como value, para que la cuenta empieze en 1\n",
    "2. reduceByKey para ir contando los elementos\n",
    "3. filter para filtrar aquellas viviendas cuyo order aparece más de una vez"
   ]
  },
  {
   "cell_type": "code",
   "execution_count": 15,
   "metadata": {
    "collapsed": false,
    "scrolled": false
   },
   "outputs": [
    {
     "data": {
      "text/plain": [
       "[('2930', 2), ('2900', 2), ('2901', 2), ('2898', 2), ('2899', 2), ('2929', 2)]"
      ]
     },
     "execution_count": 15,
     "metadata": {},
     "output_type": "execute_result"
    }
   ],
   "source": [
    "datos.\\\n",
    "        map(lambda x: (x[order], 1)).\\\n",
    "        reduceByKey(lambda x, y: x + y).\\\n",
    "        filter(lambda x: x[1] > 1).collect()"
   ]
  },
  {
   "cell_type": "markdown",
   "metadata": {},
   "source": [
    "El resultado coincide con las cuentas hechas con `distinct` y `count`. Una opción para eliminar los duplicados sería filtrar el order de tal modo que no contenga a los order duplicados. El problema es que se perderían tanto el dato original como el duplicado. Como no he encotnrado el modo de hacerlo, lo paso a dataframe, tiro los duplicados, y lo vuelvo a pasar a rdd para seguir trabajando."
   ]
  },
  {
   "cell_type": "code",
   "execution_count": 16,
   "metadata": {
    "collapsed": true
   },
   "outputs": [],
   "source": [
    "spark = SparkSession.builder.master(\"local[*]\").getOrCreate()"
   ]
  },
  {
   "cell_type": "code",
   "execution_count": 17,
   "metadata": {
    "collapsed": false,
    "scrolled": false
   },
   "outputs": [],
   "source": [
    "# Genero el dataframe\n",
    "pandas_dataframe = spark.createDataFrame(datos, \n",
    "                      schema=header).toPandas()"
   ]
  },
  {
   "cell_type": "code",
   "execution_count": 18,
   "metadata": {
    "collapsed": false,
    "scrolled": false
   },
   "outputs": [],
   "source": [
    "# Elimino los duplicados\n",
    "pandas_dataframe.drop_duplicates(inplace=True) # eliminados en el sitio"
   ]
  },
  {
   "cell_type": "code",
   "execution_count": 19,
   "metadata": {
    "collapsed": true
   },
   "outputs": [],
   "source": [
    "# Paso de pandas a dataframe de spark y luego a rdd\n",
    "sqlContext = SQLContext(sc)\n",
    "\n",
    "spark_dataframe = sqlContext.createDataFrame(pandas_dataframe)\n",
    "datos = spark_dataframe.rdd # vuelta a rdd"
   ]
  },
  {
   "cell_type": "markdown",
   "metadata": {},
   "source": [
    "### 3. Total de inmuebles y precio medio de cada zona\n",
    "\n",
    "Interpreto que el ejercicio pide obtener, para cada zona, el precio medio de los inmuebles, y el número total de inmuebles de cada zona."
   ]
  },
  {
   "cell_type": "markdown",
   "metadata": {},
   "source": [
    "Las columnas de interés son la zona y el precio"
   ]
  },
  {
   "cell_type": "code",
   "execution_count": 20,
   "metadata": {
    "collapsed": false
   },
   "outputs": [],
   "source": [
    "# Localizo las columnas\n",
    "# La zona ya la he creado arriba, no hace falta volver a extrarla\n",
    "precio = diccionario_columnas['saleprice']"
   ]
  },
  {
   "cell_type": "code",
   "execution_count": 21,
   "metadata": {
    "collapsed": false,
    "scrolled": true
   },
   "outputs": [
    {
     "data": {
      "text/plain": [
       "[('RL', 215000),\n",
       " ('RH', 105000),\n",
       " ('RL', 172000),\n",
       " ('RL', 244000),\n",
       " ('RL', 189900),\n",
       " ('RL', 195500),\n",
       " ('RL', 213500),\n",
       " ('RL', 191500),\n",
       " ('RL', 236500),\n",
       " ('RL', 189000)]"
      ]
     },
     "execution_count": 21,
     "metadata": {},
     "output_type": "execute_result"
    }
   ],
   "source": [
    "datos.map(lambda x: (x[zona], int(x[precio]))).take(10)"
   ]
  },
  {
   "cell_type": "markdown",
   "metadata": {},
   "source": [
    "Interesa algo así, pero agrupado por zona, y con el precio medio por zona y el conteo"
   ]
  },
  {
   "cell_type": "code",
   "execution_count": 22,
   "metadata": {
    "collapsed": false
   },
   "outputs": [
    {
     "data": {
      "text/plain": [
       "defaultdict(int,\n",
       "            {'A': 2,\n",
       "             'FV': 139,\n",
       "             'RH': 27,\n",
       "             'RL': 2269,\n",
       "             'RM': 462,\n",
       "             'Rl': 3,\n",
       "             'rL': 1})"
      ]
     },
     "execution_count": 22,
     "metadata": {},
     "output_type": "execute_result"
    }
   ],
   "source": [
    "# Este es el total de inmuebles de cada zona.\n",
    "datos.map(lambda x: (x[zona], int(x[precio]))).countByKey()"
   ]
  },
  {
   "cell_type": "markdown",
   "metadata": {},
   "source": [
    "Hay un problema, y es que rL está mal escrito, aparece varias veces con distitnas escrituras. Para solucionarlo, paso la columna a minúsculas. Aplico combine by key y obtengo, para cada key, que es la zona, la suma de los precios, y el total de casas para cada zona."
   ]
  },
  {
   "cell_type": "code",
   "execution_count": 23,
   "metadata": {
    "collapsed": false,
    "scrolled": true
   },
   "outputs": [
    {
     "data": {
      "text/plain": [
       "{'a': (94600, 2),\n",
       " 'fv': (30439186, 139),\n",
       " 'rh': (3683334, 27),\n",
       " 'rl': (434786831, 2273),\n",
       " 'rm': (58573004, 462)}"
      ]
     },
     "execution_count": 23,
     "metadata": {},
     "output_type": "execute_result"
    }
   ],
   "source": [
    "precios_zona = datos.map(lambda x: (x[zona].lower(), int(x[precio]))).combineByKey(\n",
    "    (lambda x: (x, 1)), # valor inicial de la cuenta, siempre 1\n",
    "    \n",
    "    (lambda acc, value: (acc[0] + value, acc[1] + 1)), \n",
    "    (lambda acc1, acc2: (acc1[0]+acc2[0], acc1[1]+acc2[1])) # se combina el acumulador\n",
    "\n",
    ")\n",
    "\n",
    "precios_zona.collectAsMap()"
   ]
  },
  {
   "cell_type": "markdown",
   "metadata": {},
   "source": [
    "Ahora para calcular la media, lo unico que hay que hacer es dividir el sumatorio entre el conteo. Aplico map y devuelvo tres elementos: el identificador de la zona, la media, y el total de casas de cada categoría"
   ]
  },
  {
   "cell_type": "code",
   "execution_count": 24,
   "metadata": {
    "collapsed": false,
    "scrolled": true
   },
   "outputs": [
    {
     "data": {
      "text/plain": [
       "[('fv', 218986.95, 139),\n",
       " ('a', 47300.0, 2),\n",
       " ('rl', 191283.25, 2273),\n",
       " ('rh', 136419.78, 27),\n",
       " ('rm', 126781.39, 462)]"
      ]
     },
     "execution_count": 24,
     "metadata": {},
     "output_type": "execute_result"
    }
   ],
   "source": [
    "precios_zona.map(lambda x: (x[0], round(x[1][0] / x[1][1], 2), x[1][1])).collect()"
   ]
  },
  {
   "cell_type": "markdown",
   "metadata": {},
   "source": [
    "La zona fv es la más cara en términos medios"
   ]
  },
  {
   "cell_type": "markdown",
   "metadata": {},
   "source": [
    "### 4. Media de Total Bsmt SF por cada decada de construcción (year built)"
   ]
  },
  {
   "cell_type": "markdown",
   "metadata": {},
   "source": [
    "El problema se divide en dos partes:   \n",
    "1. Extraer la década de cada año\n",
    "2. Caclcular la media para cada década\n",
    "\n",
    "Primero localizo las columnas de interés"
   ]
  },
  {
   "cell_type": "code",
   "execution_count": 25,
   "metadata": {
    "collapsed": false
   },
   "outputs": [],
   "source": [
    "# Localizo las columnas \n",
    "bsmt_sf = diccionario_columnas['total_bsmt_sf']\n",
    "year_built = diccionario_columnas['year_built']"
   ]
  },
  {
   "cell_type": "code",
   "execution_count": 26,
   "metadata": {
    "collapsed": false
   },
   "outputs": [
    {
     "data": {
      "text/plain": [
       "[('1080', '1960'),\n",
       " ('882', '1961'),\n",
       " ('1329', '1958'),\n",
       " ('2110', '1968'),\n",
       " ('928', '1997'),\n",
       " ('926', '1998'),\n",
       " ('1338', '2001'),\n",
       " ('1280', '1992'),\n",
       " ('1595', '1995'),\n",
       " ('994', '1999')]"
      ]
     },
     "execution_count": 26,
     "metadata": {},
     "output_type": "execute_result"
    }
   ],
   "source": [
    "datos.map(lambda x: (x[bsmt_sf], x[year_built])).take(10) # estos son los datos. Como saco la década?"
   ]
  },
  {
   "cell_type": "markdown",
   "metadata": {},
   "source": [
    "Primera cuestión para sacar la década ¿cuántos años hay?"
   ]
  },
  {
   "cell_type": "code",
   "execution_count": 27,
   "metadata": {
    "collapsed": false,
    "scrolled": false
   },
   "outputs": [
    {
     "data": {
      "text/plain": [
       "['1890',\n",
       " '1948',\n",
       " '1983',\n",
       " '1940',\n",
       " '1970',\n",
       " '1938',\n",
       " '1918',\n",
       " '1936',\n",
       " '1969',\n",
       " '1978',\n",
       " '1993',\n",
       " '1928',\n",
       " '1972',\n",
       " '1882',\n",
       " '1898',\n",
       " '1895',\n",
       " '1997',\n",
       " '2008',\n",
       " '1996',\n",
       " '1942',\n",
       " '1905',\n",
       " '1955',\n",
       " '1945',\n",
       " '1929',\n",
       " '1932',\n",
       " '1885',\n",
       " '1984',\n",
       " '1974',\n",
       " '1924',\n",
       " '1914',\n",
       " '1952',\n",
       " '1995',\n",
       " '1982',\n",
       " '1954',\n",
       " '1990',\n",
       " '2007',\n",
       " '1880',\n",
       " '2003',\n",
       " '1964',\n",
       " '1941',\n",
       " '1947',\n",
       " '1971',\n",
       " '1960',\n",
       " '1988',\n",
       " '1926',\n",
       " '1953',\n",
       " '1915',\n",
       " '1966',\n",
       " '1900',\n",
       " '1958',\n",
       " '1961',\n",
       " '2001',\n",
       " '1930',\n",
       " '1910',\n",
       " '1963',\n",
       " '1904',\n",
       " '1967',\n",
       " '2005',\n",
       " '1973',\n",
       " '1998',\n",
       " '1901',\n",
       " '2004',\n",
       " '1920',\n",
       " '1991',\n",
       " '1921',\n",
       " '1951',\n",
       " '2002',\n",
       " '1911',\n",
       " '1872',\n",
       " '1937',\n",
       " '1925',\n",
       " '1939',\n",
       " '1922',\n",
       " '1935',\n",
       " '1968',\n",
       " '1999',\n",
       " '1917',\n",
       " '1893',\n",
       " '1950',\n",
       " '1912',\n",
       " '1985',\n",
       " '1908',\n",
       " '1902',\n",
       " '1986',\n",
       " '1949',\n",
       " '1956',\n",
       " '1962',\n",
       " '1934',\n",
       " '1913',\n",
       " '2010',\n",
       " '1879',\n",
       " '1977',\n",
       " '1994',\n",
       " '1979',\n",
       " '1957',\n",
       " '1981',\n",
       " '1927',\n",
       " '1980',\n",
       " '1965',\n",
       " '1976',\n",
       " '1906',\n",
       " '1919',\n",
       " '2000',\n",
       " '1987',\n",
       " '1989',\n",
       " '2009',\n",
       " '1992',\n",
       " '2006',\n",
       " '1916',\n",
       " '1923',\n",
       " '1959',\n",
       " '1875',\n",
       " '1946',\n",
       " '1975',\n",
       " '1892',\n",
       " '1931']"
      ]
     },
     "execution_count": 27,
     "metadata": {},
     "output_type": "execute_result"
    }
   ],
   "source": [
    "years = datos.map(lambda x: x[year_built]).distinct().collect()\n",
    "years"
   ]
  },
  {
   "cell_type": "markdown",
   "metadata": {},
   "source": [
    "Hay datos desde 1870 hasta pasdo el 2010. Necesito algo que me indique, por un lado, la década, y por otro lado, el siglo, puesto que de usar solo algo que indique la década, la primera década del siglo XX no sería distinguible de la primera década del siglo XXI. \n",
    "\n",
    "Los años de la misma década y siglocomparten el segundo y tercer número de su año. Aprovechando que los años están en formato string, se puede acceder al segundo y tercer elemento, para sacar el número que indique el siglo y la década. Por ejemplo, para 1890, la extracción es la siguiente"
   ]
  },
  {
   "cell_type": "code",
   "execution_count": 28,
   "metadata": {
    "collapsed": false
   },
   "outputs": [
    {
     "data": {
      "text/plain": [
       "'89'"
      ]
     },
     "execution_count": 28,
     "metadata": {},
     "output_type": "execute_result"
    }
   ],
   "source": [
    "years[0][1:3] # siglo XIX, decada 9"
   ]
  },
  {
   "cell_type": "markdown",
   "metadata": {},
   "source": [
    "De este modo, se identifican las decadas y el siglo, puesto que el primer dígito hace referencia al siglo (en centenares, claro) y el segundo dígito a la década. 1__99__5 y 1__99__2 quedan correctamente capturados en el mismo grupo. Y se diferencian de 1__88__5 y 1__88__2. \n",
    "\n",
    "Este sistema solo da probelmas si se manejan datos con diferencias temporales de 1.000 o más años, puesto que con 2 números se pueden identificar 99 décadas diferentes. Como no es el caso de este dataset, el sistema es conveniente."
   ]
  },
  {
   "cell_type": "markdown",
   "metadata": {},
   "source": [
    "Aplicando esta idea a toda la columna, el resultado sería el siguiente"
   ]
  },
  {
   "cell_type": "code",
   "execution_count": 29,
   "metadata": {
    "collapsed": false,
    "scrolled": true
   },
   "outputs": [
    {
     "data": {
      "text/plain": [
       "[('96', 1080),\n",
       " ('96', 882),\n",
       " ('95', 1329),\n",
       " ('96', 2110),\n",
       " ('99', 928),\n",
       " ('99', 926),\n",
       " ('00', 1338),\n",
       " ('99', 1280),\n",
       " ('99', 1595),\n",
       " ('99', 994)]"
      ]
     },
     "execution_count": 29,
     "metadata": {},
     "output_type": "execute_result"
    }
   ],
   "source": [
    "por_decada = datos.map(lambda x: (x[year_built][1:3], int(x[bsmt_sf])))\n",
    "\n",
    "por_decada.take(10)"
   ]
  },
  {
   "cell_type": "markdown",
   "metadata": {},
   "source": [
    "Ahora es el mimso procedimiento de antes, `combineByKey`"
   ]
  },
  {
   "cell_type": "code",
   "execution_count": 30,
   "metadata": {
    "collapsed": false,
    "scrolled": false
   },
   "outputs": [
    {
     "data": {
      "text/plain": [
       "{'00': (1021917, 780),\n",
       " '01': (4720, 3),\n",
       " '87': (2283, 3),\n",
       " '88': (6688, 8),\n",
       " '89': (10627, 12),\n",
       " '90': (25925, 36),\n",
       " '91': (81195, 103),\n",
       " '92': (158448, 190),\n",
       " '93': (82381, 107),\n",
       " '94': (105332, 149),\n",
       " '95': (324379, 337),\n",
       " '96': (386514, 357),\n",
       " '97': (346791, 364),\n",
       " '98': (130320, 120),\n",
       " '99': (375481, 334)}"
      ]
     },
     "execution_count": 30,
     "metadata": {},
     "output_type": "execute_result"
    }
   ],
   "source": [
    "bsmt_decada = por_decada.map(lambda x: (x[0], x[1])).combineByKey(\n",
    "    (lambda x: (x, 1)), # valor inicial de la cuenta, siempre 1\n",
    "    \n",
    "    (lambda acc, value: (acc[0] + value, acc[1] + 1)), # el contador\n",
    "    (lambda acc1, acc2: (acc1[0]+acc2[0], acc1[1]+acc2[1]))  # el acumulador, va sumando los valores de bsmt_sf\n",
    "\n",
    ")\n",
    "\n",
    "bsmt_decada.collectAsMap()"
   ]
  },
  {
   "cell_type": "markdown",
   "metadata": {},
   "source": [
    "Y ahora la media dividiendo el sumatorio por el conteo. Podemos usar sort by key para ordenar los resultados. Lo único que hay que tener en cuenta es que las dos primeras décadas del siglo XXI aparecen primero, porque su indicador es menor que el resto, aunque cronológicamente sucedan después"
   ]
  },
  {
   "cell_type": "code",
   "execution_count": 31,
   "metadata": {
    "collapsed": false
   },
   "outputs": [
    {
     "data": {
      "text/plain": [
       "[('00', 1310.15),\n",
       " ('01', 1573.33),\n",
       " ('87', 761.0),\n",
       " ('88', 836.0),\n",
       " ('89', 885.58),\n",
       " ('90', 720.14),\n",
       " ('91', 788.3),\n",
       " ('92', 833.94),\n",
       " ('93', 769.92),\n",
       " ('94', 706.93),\n",
       " ('95', 962.55),\n",
       " ('96', 1082.67),\n",
       " ('97', 952.72),\n",
       " ('98', 1086.0),\n",
       " ('99', 1124.19)]"
      ]
     },
     "execution_count": 31,
     "metadata": {},
     "output_type": "execute_result"
    }
   ],
   "source": [
    "bsmt_decada.map(lambda x: (x[0], round(x[1][0] / x[1][1], 2))).sortByKey().collect()"
   ]
  },
  {
   "cell_type": "markdown",
   "metadata": {},
   "source": [
    "Esa es la media de la superficie del sótano por cada década."
   ]
  },
  {
   "cell_type": "markdown",
   "metadata": {},
   "source": [
    "### 5. ¿Cuál es la decada de construcción con viviendas mejor acondicionadas para el frío (Heating QC)?"
   ]
  },
  {
   "cell_type": "markdown",
   "metadata": {},
   "source": [
    "Se va a aplicar el mismo procedimiento para obtener la década, explicado en el ejercicio anterior."
   ]
  },
  {
   "cell_type": "code",
   "execution_count": 32,
   "metadata": {
    "collapsed": false
   },
   "outputs": [],
   "source": [
    "# Localizo la columna de interés\n",
    "revestimiento = diccionario_columnas['heating_qc']"
   ]
  },
  {
   "cell_type": "markdown",
   "metadata": {},
   "source": [
    "Primero obtengo el revesitmiento y la década tal que así"
   ]
  },
  {
   "cell_type": "code",
   "execution_count": 33,
   "metadata": {
    "collapsed": false,
    "scrolled": true
   },
   "outputs": [
    {
     "data": {
      "text/plain": [
       "[('96', 'Fa'),\n",
       " ('96', 'TA'),\n",
       " ('95', 'TA'),\n",
       " ('96', 'Ex'),\n",
       " ('99', 'Gd'),\n",
       " ('99', 'Ex'),\n",
       " ('00', 'Ex')]"
      ]
     },
     "execution_count": 33,
     "metadata": {},
     "output_type": "execute_result"
    }
   ],
   "source": [
    "revestimiento_decada = datos.map(lambda x: (x[year_built][1:3], x[revestimiento]))\n",
    "\n",
    "revestimiento_decada.take(7)"
   ]
  },
  {
   "cell_type": "markdown",
   "metadata": {},
   "source": [
    "No sirve de nada así. Aplico encoding a los revesitmientos con una puntuación del 1 al 5 para poder trabajar con números. Voy a generar un diccionario cuya key sean los tipos de revestimiento, y values de 1 a 5. De este modo, evito usar if-else"
   ]
  },
  {
   "cell_type": "code",
   "execution_count": 34,
   "metadata": {
    "collapsed": false
   },
   "outputs": [
    {
     "data": {
      "text/plain": [
       "['Fa', 'TA', 'Gd', 'Ex', 'Po']"
      ]
     },
     "execution_count": 34,
     "metadata": {},
     "output_type": "execute_result"
    }
   ],
   "source": [
    "keys_revestimientos = datos.map(lambda x: x[revestimiento]).distinct().collect()\n",
    "\n",
    "keys_revestimientos"
   ]
  },
  {
   "cell_type": "markdown",
   "metadata": {},
   "source": [
    "Quiero que estén ordenados de peor a mejor, lo reordeno aplicando list comprehension"
   ]
  },
  {
   "cell_type": "code",
   "execution_count": 35,
   "metadata": {
    "collapsed": false
   },
   "outputs": [
    {
     "data": {
      "text/plain": [
       "['Po', 'Fa', 'TA', 'Gd', 'Ex']"
      ]
     },
     "execution_count": 35,
     "metadata": {},
     "output_type": "execute_result"
    }
   ],
   "source": [
    "orden = [4, 0, 1, 2, 3] # el orden en que los quiero respecto a su posición actual\n",
    "\n",
    "keys_revestimientos = [keys_revestimientos[i] for i in orden] # la ordenación\n",
    "\n",
    "keys_revestimientos # resultado"
   ]
  },
  {
   "cell_type": "markdown",
   "metadata": {},
   "source": [
    "Ahora genero los values, puntuaciones de 1 a 5"
   ]
  },
  {
   "cell_type": "code",
   "execution_count": 36,
   "metadata": {
    "collapsed": true
   },
   "outputs": [],
   "source": [
    "values_revestimiento = range(1, 6) # los valores del diccionario"
   ]
  },
  {
   "cell_type": "markdown",
   "metadata": {},
   "source": [
    "Y creo el diccionario"
   ]
  },
  {
   "cell_type": "code",
   "execution_count": 37,
   "metadata": {
    "collapsed": false
   },
   "outputs": [
    {
     "data": {
      "text/plain": [
       "{'Ex': 5, 'Fa': 2, 'Gd': 4, 'Po': 1, 'TA': 3}"
      ]
     },
     "execution_count": 37,
     "metadata": {},
     "output_type": "execute_result"
    }
   ],
   "source": [
    "# Genero el diccionario\n",
    "for i in values_revestimiento:\n",
    "    diccionario_revestimiento = dict(zip(keys_revestimientos, values_revestimiento))\n",
    "\n",
    "diccionario_revestimiento # resultado"
   ]
  },
  {
   "cell_type": "markdown",
   "metadata": {},
   "source": [
    "¿Por qué empleo el diccionario? Porque lo voy a aplicar en una función de tal manera que me evite el if else 5 veces. Al usar el diccionario para cambiar por puntuación, el resultado es más directo.  \n",
    "\n",
    "Además, no estoy seguro, pero creo que es más eficiente computacionalmente, puesto que el if else con 5 condiciones implicaría hacer varias comprobaciones hasta encontrar el match"
   ]
  },
  {
   "cell_type": "code",
   "execution_count": 38,
   "metadata": {
    "collapsed": true
   },
   "outputs": [],
   "source": [
    "def puntuacion_revestimiento(revestimiento):\n",
    "    return diccionario_revestimiento[revestimiento] # la función es así de simple"
   ]
  },
  {
   "cell_type": "markdown",
   "metadata": {},
   "source": [
    "Nota: realmente no haría falta definir la función, bastaría con usar la propia columna del rdd como key en el diccionario. Lo hago porque el código queda más limpio."
   ]
  },
  {
   "cell_type": "markdown",
   "metadata": {},
   "source": [
    "Este sería el resultado de aplicar la función, compruebo que funciona y devuelve los resultados esperados"
   ]
  },
  {
   "cell_type": "code",
   "execution_count": 39,
   "metadata": {
    "collapsed": false
   },
   "outputs": [
    {
     "data": {
      "text/plain": [
       "[('Fa', 2),\n",
       " ('TA', 3),\n",
       " ('TA', 3),\n",
       " ('Ex', 5),\n",
       " ('Gd', 4),\n",
       " ('Ex', 5),\n",
       " ('Ex', 5),\n",
       " ('Ex', 5),\n",
       " ('Ex', 5),\n",
       " ('Gd', 4)]"
      ]
     },
     "execution_count": 39,
     "metadata": {},
     "output_type": "execute_result"
    }
   ],
   "source": [
    "datos.map(lambda x: (x[revestimiento], puntuacion_revestimiento(x[revestimiento]))).take(10)"
   ]
  },
  {
   "cell_type": "markdown",
   "metadata": {},
   "source": [
    "Ahora genero una estrucutra con las décadas, como antes, y con las __puntuaciones__ del revesitmineto, en lugar de la string"
   ]
  },
  {
   "cell_type": "code",
   "execution_count": 40,
   "metadata": {
    "collapsed": false,
    "scrolled": false
   },
   "outputs": [
    {
     "data": {
      "text/plain": [
       "[('96', 2),\n",
       " ('96', 3),\n",
       " ('95', 3),\n",
       " ('96', 5),\n",
       " ('99', 4),\n",
       " ('99', 5),\n",
       " ('00', 5),\n",
       " ('99', 5),\n",
       " ('99', 5),\n",
       " ('99', 4)]"
      ]
     },
     "execution_count": 40,
     "metadata": {},
     "output_type": "execute_result"
    }
   ],
   "source": [
    "puntuacion_decadas = datos.map(lambda x: (x[year_built][1:3], # obtención de la década igual que antes \n",
    "                                          puntuacion_revestimiento(x[revestimiento]))) # encoding del revestimiento\n",
    "\n",
    "puntuacion_decadas.take(10)"
   ]
  },
  {
   "cell_type": "markdown",
   "metadata": {},
   "source": [
    "Utilizando `combineByKey` sobre la década y la puntuación, genero una estructura con la década, la suma de la puntuación, y la cuenta de pisos de esa década"
   ]
  },
  {
   "cell_type": "code",
   "execution_count": 41,
   "metadata": {
    "collapsed": false
   },
   "outputs": [
    {
     "data": {
      "text/plain": [
       "[('88', (31, 8)),\n",
       " ('00', (3872, 780)),\n",
       " ('99', (1577, 334)),\n",
       " ('01', (15, 3)),\n",
       " ('97', (1257, 364)),\n",
       " ('95', (1261, 337)),\n",
       " ('94', (571, 149)),\n",
       " ('98', (450, 120)),\n",
       " ('91', (404, 103)),\n",
       " ('93', (419, 107)),\n",
       " ('96', (1316, 357)),\n",
       " ('87', (9, 3)),\n",
       " ('92', (693, 190)),\n",
       " ('89', (48, 12)),\n",
       " ('90', (142, 36))]"
      ]
     },
     "execution_count": 41,
     "metadata": {},
     "output_type": "execute_result"
    }
   ],
   "source": [
    "datos_decadas = datos.map(lambda x: (x[year_built][1:3], puntuacion_revestimiento(x[revestimiento]))).combineByKey(\n",
    "    (lambda x: (x, 1)), # valor inicial de la cuenta, siempre 1\n",
    "    \n",
    "    (lambda acc, value: (acc[0] + value, acc[1] + 1)), # el contador\n",
    "    (lambda acc1, acc2: (acc1[0]+acc2[0], acc1[1]+acc2[1])) \n",
    "\n",
    ")\n",
    "\n",
    "datos_decadas.collect()"
   ]
  },
  {
   "cell_type": "markdown",
   "metadata": {},
   "source": [
    "Y ahora saco la puntuación media de cada década, como siempre, dividiento la suma entre la cuenta. Ordeno los resultados"
   ]
  },
  {
   "cell_type": "code",
   "execution_count": 42,
   "metadata": {
    "collapsed": false,
    "scrolled": false
   },
   "outputs": [
    {
     "data": {
      "text/plain": [
       "[(5.0, '01'),\n",
       " (4.96, '00'),\n",
       " (4.72, '99'),\n",
       " (4.0, '89'),\n",
       " (3.94, '90'),\n",
       " (3.92, '91'),\n",
       " (3.92, '93'),\n",
       " (3.88, '88'),\n",
       " (3.83, '94'),\n",
       " (3.75, '98'),\n",
       " (3.74, '95'),\n",
       " (3.69, '96'),\n",
       " (3.65, '92'),\n",
       " (3.45, '97'),\n",
       " (3.0, '87')]"
      ]
     },
     "execution_count": 42,
     "metadata": {},
     "output_type": "execute_result"
    }
   ],
   "source": [
    "datos_decadas.map(lambda x: (round(x[1][0] / x[1][1], 2), x[0])).sortByKey(ascending=False).collect()"
   ]
  },
  {
   "cell_type": "markdown",
   "metadata": {},
   "source": [
    "La década en la que los pisos están mejor revestidos contra el frío, en términos medios, es la segunda del 2000, años del 2010 en adelante."
   ]
  },
  {
   "cell_type": "markdown",
   "metadata": {},
   "source": [
    "### 6. Cuáles son las 10 viviendas que se vendieron por un precio más elevado por metro cuadrado en el año 2009"
   ]
  },
  {
   "cell_type": "markdown",
   "metadata": {},
   "source": [
    "Entiendo que el ejercicio hace referencia solo al año 2009, así que empiezo filtrando los datos. Entiendo que sólo se considera la superficie de la vivienda, porque dice vivienda, no la de la piscina o garaje, pero el resultado sería el mismo sumando las superficies."
   ]
  },
  {
   "cell_type": "code",
   "execution_count": 43,
   "metadata": {
    "collapsed": false,
    "scrolled": false
   },
   "outputs": [],
   "source": [
    "year_sold = diccionario_columnas['yr_sold'] # año de venta\n",
    "\n",
    "datos_2009 = datos.filter(lambda x: '2009' in x[year_sold]) # filtro y me quedo con 2009"
   ]
  },
  {
   "cell_type": "markdown",
   "metadata": {},
   "source": [
    "Ahora hay que calcular el precio en términos del metro cuadrado, dividiendo el precio entre los metros cuadrados de la vivienda. __Cuidado__, los datos están en pies cuadrados. Hay que pasar a metro cuadrado. Un pie cuadrado equivale a 0,092903 metros cuadrados"
   ]
  },
  {
   "cell_type": "code",
   "execution_count": 44,
   "metadata": {
    "collapsed": false
   },
   "outputs": [],
   "source": [
    "# Columnas de interés\n",
    "precio = diccionario_columnas['saleprice']\n",
    "superficie = diccionario_columnas['lot_area']"
   ]
  },
  {
   "cell_type": "markdown",
   "metadata": {},
   "source": [
    "Hago la operación. Incluyo el indicador de la vivienda para ver cuales son exactamente. El precio entre __metros__ cuadrados se utiliza como key para poder usar `sortByKey`, y mostrar los 10 más altos."
   ]
  },
  {
   "cell_type": "code",
   "execution_count": 45,
   "metadata": {
    "collapsed": false,
    "scrolled": false
   },
   "outputs": [
    {
     "data": {
      "text/plain": [
       "[(1049.29, '566'),\n",
       " (1026.71, '936'),\n",
       " (991.03, '934'),\n",
       " (821.06, '464'),\n",
       " (807.96, '935'),\n",
       " (765.65, '408'),\n",
       " (756.04, '407'),\n",
       " (717.59, '405'),\n",
       " (714.28, '933'),\n",
       " (711.19, '403')]"
      ]
     },
     "execution_count": 45,
     "metadata": {},
     "output_type": "execute_result"
    }
   ],
   "source": [
    "datos_2009.map(lambda x: (round(int(x[precio]) / (float(x[superficie])*0.092903), 2), \n",
    "                          x[order])).sortByKey(False).take(10)"
   ]
  },
  {
   "cell_type": "markdown",
   "metadata": {},
   "source": [
    "La vivienda más cara por metro cuadrado vendida en 2009 es la 566"
   ]
  },
  {
   "cell_type": "markdown",
   "metadata": {},
   "source": [
    "### 7. Media anual por zonas del precio de venta y metros cuadrados."
   ]
  },
  {
   "cell_type": "markdown",
   "metadata": {},
   "source": [
    "De nuevo, entiendo que hay que considerar solo la superficie de la vivienda. Primero calculo el precio en términos de superficie para cada casa"
   ]
  },
  {
   "cell_type": "code",
   "execution_count": 46,
   "metadata": {
    "collapsed": false
   },
   "outputs": [
    {
     "data": {
      "text/plain": [
       "[('1960', 'rl', 72.84),\n",
       " ('1961', 'rh', 97.25),\n",
       " ('1958', 'rl', 129.77),\n",
       " ('1968', 'rl', 235.34),\n",
       " ('1997', 'rl', 147.8),\n",
       " ('1998', 'rl', 210.9),\n",
       " ('2001', 'rl', 467.09),\n",
       " ('1992', 'rl', 411.85)]"
      ]
     },
     "execution_count": 46,
     "metadata": {},
     "output_type": "execute_result"
    }
   ],
   "source": [
    "# Genero los datos, tomo 2 decimales en precio/superficie, convierto a pies\n",
    "precios_year_zona = datos.map(lambda x: (x[year_built], \n",
    "                                         x[zona].lower(), \n",
    "                                         round(int(x[precio]) / (float(x[superficie])*0.092903), 2)))\n",
    "\n",
    "precios_year_zona.take(8)"
   ]
  },
  {
   "cell_type": "markdown",
   "metadata": {},
   "source": [
    "Ahora utilizo `combineByKey` para calcular la suma por año y zona y el conteo. La diferencia es que ahora la key es una tupla de años y zona, en lugar de un solo valor"
   ]
  },
  {
   "cell_type": "code",
   "execution_count": 47,
   "metadata": {
    "collapsed": false,
    "scrolled": false
   },
   "outputs": [
    {
     "data": {
      "text/plain": [
       "[(('1916', 'rl'), (666.08, 4)),\n",
       " (('1946', 'rl'), (1411.32, 10)),\n",
       " (('1915', 'rm'), (2715.87, 13)),\n",
       " (('1930', 'rm'), (3469.48, 18)),\n",
       " (('1904', 'rm'), (162.39, 1))]"
      ]
     },
     "execution_count": 47,
     "metadata": {},
     "output_type": "execute_result"
    }
   ],
   "source": [
    "precios_zona_year_combinado = precios_year_zona.map(lambda x: ((x[0], x[1]), x[2])).combineByKey(\n",
    "    (lambda x: (x, 1)), # valor inicial de la cuenta, siempre 1\n",
    "    \n",
    "    (lambda acc, value: (acc[0] + value, acc[1] + 1)), # el contador\n",
    "    (lambda acc1, acc2: (acc1[0]+acc2[0], acc1[1]+acc2[1]))\n",
    ")\n",
    "\n",
    "precios_zona_year_combinado.take(5)"
   ]
  },
  {
   "cell_type": "markdown",
   "metadata": {},
   "source": [
    "Y ahora saco la media como siempre. La pongo como key para poder ordenar, aunque el ejercicio no pide ordenarlos. El resultado es el siguiente"
   ]
  },
  {
   "cell_type": "code",
   "execution_count": 48,
   "metadata": {
    "collapsed": false
   },
   "outputs": [
    {
     "data": {
      "text/plain": [
       "[(749.82, ('1980', 'rm')),\n",
       " (734.49, ('2007', 'rm')),\n",
       " (684.29, ('1999', 'fv')),\n",
       " (669.86, ('1998', 'fv')),\n",
       " (648.72, ('2000', 'fv')),\n",
       " (628.74, ('2006', 'rm')),\n",
       " (626.47, ('1972', 'rm')),\n",
       " (620.76, ('1971', 'rm')),\n",
       " (568.73, ('1973', 'rm')),\n",
       " (568.54, ('1970', 'rm'))]"
      ]
     },
     "execution_count": 48,
     "metadata": {},
     "output_type": "execute_result"
    }
   ],
   "source": [
    "precios_zona_year_combinado.map(lambda x: (round(x[1][0] / x[1][1], 2), x[0])).sortByKey(False).take(10)"
   ]
  },
  {
   "cell_type": "markdown",
   "metadata": {},
   "source": [
    "La zona más cara en 1980 es rm, también lo fue en 2007. Se trata de residencias en zonas de densidad medias"
   ]
  },
  {
   "cell_type": "markdown",
   "metadata": {},
   "source": [
    "### 8. Podrías decirme el total de recaudación de las casas de revistimiento (Mas Vnr Type) de piedra con respecto a las de ladrillo? ¿Hay diferencia significativa?"
   ]
  },
  {
   "cell_type": "markdown",
   "metadata": {},
   "source": [
    "Considero ladrillo visto y ladrillo normal en la misma categoría. Para piedra considero solo Stone. También interpreto que el total recaudado es la suma de los precios, en valor absoluto"
   ]
  },
  {
   "cell_type": "code",
   "execution_count": 49,
   "metadata": {
    "collapsed": false
   },
   "outputs": [],
   "source": [
    "# columna de interés \n",
    "tipo =  diccionario_columnas['mas_vnr_type']"
   ]
  },
  {
   "cell_type": "markdown",
   "metadata": {},
   "source": [
    "Primero compruebo el estado de las categorías"
   ]
  },
  {
   "cell_type": "code",
   "execution_count": 50,
   "metadata": {
    "collapsed": false
   },
   "outputs": [
    {
     "data": {
      "text/plain": [
       "['', 'None', 'Stone', 'BrkCmn', 'BrkFace', 'CBlock']"
      ]
     },
     "execution_count": 50,
     "metadata": {},
     "output_type": "execute_result"
    }
   ],
   "source": [
    "datos.map(lambda x: x[tipo]).distinct().collect() "
   ]
  },
  {
   "cell_type": "markdown",
   "metadata": {},
   "source": [
    "Genero dos subset con cada uno de los tipos, uno con ladrillos y otro con piedra."
   ]
  },
  {
   "cell_type": "code",
   "execution_count": 51,
   "metadata": {
    "collapsed": false
   },
   "outputs": [],
   "source": [
    "casas_ladrillo = datos.filter(lambda x: 'BrkCmn' in x[tipo] or 'BrkFace' in x[tipo])\n",
    "casas_piedra = datos.filter(lambda x: 'Stone' in x[tipo])"
   ]
  },
  {
   "cell_type": "markdown",
   "metadata": {},
   "source": [
    "Calculo la suma de los precios para cada rdd e imprimo la información"
   ]
  },
  {
   "cell_type": "code",
   "execution_count": 52,
   "metadata": {
    "collapsed": false,
    "scrolled": false
   },
   "outputs": [
    {
     "name": "stdout",
     "output_type": "stream",
     "text": [
      "El total de recaudación de las casas de ladrillo es de 189007736 dólares.\n",
      "El total de recaudación de las casas de piedra es de 64876277 dólares\n",
      "\n",
      "La diferencia entre ambos tipos de casa es de 124131459 dólares, sinedo la recaudación de las casas de ladrillo muy superior a la recaudación de las casas de piedra\n"
     ]
    }
   ],
   "source": [
    "recaudacion_ladrillo = casas_ladrillo.map(lambda x: int(x[precio])).sum()\n",
    "recaudacion_piedra = casas_piedra.map(lambda x: int(x[precio])).sum()\n",
    "\n",
    "# Imprimo los datos\n",
    "print('El total de recaudación de las casas de ladrillo es de', recaudacion_ladrillo, 'dólares.') \n",
    "print('El total de recaudación de las casas de piedra es de', recaudacion_piedra, 'dólares') \n",
    "\n",
    "print()\n",
    "\n",
    "print('La diferencia entre ambos tipos de casa es de', recaudacion_ladrillo - recaudacion_piedra, \n",
    "      'dólares, sinedo la recaudación de las casas de ladrillo muy superior a la recaudación de las casas de piedra')"
   ]
  },
  {
   "cell_type": "markdown",
   "metadata": {},
   "source": [
    "### 9. Cuánto son más caras las viviendas con 2 cocinas, con 2 o más plazas de garaje que las que tienen 1 cocina y 1 plaza de garaje? Comparar medias y cuartiles de ambos caso"
   ]
  },
  {
   "cell_type": "markdown",
   "metadata": {},
   "source": [
    "Preparo los datos, primero filtro las que tienen 2 cocinas y 2 o más plazas de garaje"
   ]
  },
  {
   "cell_type": "code",
   "execution_count": 53,
   "metadata": {
    "collapsed": false
   },
   "outputs": [],
   "source": [
    "# Columnas de interés \n",
    "cocinas = diccionario_columnas['kitchen_abvgr']\n",
    "plazas_garaje = diccionario_columnas['garage_cars']"
   ]
  },
  {
   "cell_type": "code",
   "execution_count": 54,
   "metadata": {
    "collapsed": false
   },
   "outputs": [],
   "source": [
    "# Genero los subsets filtrando acorde con el enunciado.\n",
    "casas_big = datos.filter(lambda x: (int(x[cocinas]) == 2) and (int(x[plazas_garaje]) >= 2))\n",
    "\n",
    "# Filtro los garajes como string, porque para las casas de una sola cocina, algunas tenían nulos \n",
    "# en el número de garajes. De este modo, evito los nulos\n",
    "casas_small = datos.filter(lambda x: (int(x[cocinas]) == 1) and ('1' in x[plazas_garaje])) "
   ]
  },
  {
   "cell_type": "markdown",
   "metadata": {},
   "source": [
    "Defino una función para calcular la media. La función, al recorrer la lista, hace dos cosas:\n",
    "1. Sumar los elementos\n",
    "2. Contar los elementos  \n",
    "\n",
    "De este modo, se consiguen los dos elementos necesarios para la media (sumatorio y conteo) en un solo recorrido del rdd. La función genera una tupla cuyo primer elemento es el total, y cuyo segundo elemento es el sumatorio. Lo que devuelve es la media, que es el resultado de dividir el pimer elemento de la tupla entre el segundo. Se usan 2 decimales."
   ]
  },
  {
   "cell_type": "code",
   "execution_count": 67,
   "metadata": {
    "collapsed": true
   },
   "outputs": [],
   "source": [
    "# Utilizo una función para no repetir exacatemente el mismo código dos veces\n",
    "def media(indicador_columna, datos):\n",
    "    \n",
    "    columna = datos.map(lambda x: float(x[indicador_columna])) # extrae la columna de interes como float\n",
    "    \n",
    "    suma_columna = columna.aggregate( # y hace el agregado\n",
    "    (0,0), # lista vacía como valor inicial\n",
    "        \n",
    "    (lambda acc, value: (acc[0] + value, acc[1] + 1)), # a cada valor, le suma el siguiente. acc[1] + 1 para que empieze en 1\n",
    "                                                       # la cuenta\n",
    "    (lambda acc1, acc2: (acc1[0] + acc2[0], acc1[1] + acc2[1]))\n",
    "\n",
    "    )\n",
    "    \n",
    "    media = round(suma_columna[0] / suma_columna[1], 2)\n",
    "    \n",
    "    return media"
   ]
  },
  {
   "cell_type": "markdown",
   "metadata": {},
   "source": [
    "Aplico la función e imprimo los datos"
   ]
  },
  {
   "cell_type": "code",
   "execution_count": 68,
   "metadata": {
    "collapsed": false,
    "scrolled": false
   },
   "outputs": [
    {
     "name": "stdout",
     "output_type": "stream",
     "text": [
      "El precio medio de las casas con 2 cocinas y 2 o más plazas de garaje es de 145124.28 $\n",
      "El precio medio de las casas con 1 cocina y una plaza de garaje es de 128155.36 $\n",
      "\n",
      "La diferencia de precios medios es de 16968.92 dólares. Es significativa\n"
     ]
    }
   ],
   "source": [
    "# Calculo la media para cada subset\n",
    "media_big = media(precio, casas_big)\n",
    "media_small = media(precio, casas_small) \n",
    "\n",
    "# Imprimo los datos\n",
    "print('El precio medio de las casas con 2 cocinas y 2 o más plazas de garaje es de', media_big, '$')\n",
    "print('El precio medio de las casas con 1 cocina y una plaza de garaje es de', media_small, '$')\n",
    "print()\n",
    "print('La diferencia de precios medios es de', round(media_big - media_small, 2), 'dólares. Es significativa')"
   ]
  },
  {
   "cell_type": "markdown",
   "metadata": {},
   "source": [
    "Vemos que la diferencia en precios entre los dos tipos de casas es significativa, de más de 16.000 dólares. Es coherente, puesto que las casas con 2 cocinas y dos o más plazas de garaje son más grandes que las de una cocina y una plaza de garaje.\n",
    "\n",
    "Para calcular los cuartiles, habría que ordenar los precios de menor a mayor, y partirlos en 3 trozos que dejasen cuartas partes de los datos a cada lado. A raíz de lo comentado en la tutoría, dejo solo el cálculo de la media, puesto que se comentó que los cuartiles no eran absolutamente necesarios si no nos salían."
   ]
  }
 ],
 "metadata": {
  "kernelspec": {
   "display_name": "Python 3",
   "language": "python",
   "name": "python3"
  },
  "language_info": {
   "codemirror_mode": {
    "name": "ipython",
    "version": 3
   },
   "file_extension": ".py",
   "mimetype": "text/x-python",
   "name": "python",
   "nbconvert_exporter": "python",
   "pygments_lexer": "ipython3",
   "version": "3.5.2"
  }
 },
 "nbformat": 4,
 "nbformat_minor": 2
}
