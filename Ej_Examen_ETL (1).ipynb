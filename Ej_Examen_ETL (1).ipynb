{
 "cells": [
  {
   "cell_type": "markdown",
   "metadata": {
    "id": "zsRxPrYSh1Pt"
   },
   "source": [
    "García Girón, Alejandro\n",
    "\n",
    "ETL//Examen Final\n",
    "MDS / CUNEF\n",
    "\n",
    "\n"
   ]
  },
  {
   "cell_type": "markdown",
   "metadata": {
    "id": "hdow1KcKJZFB"
   },
   "source": [
    "COMENTARIOS INICIALES\n",
    "\n",
    "La base de datos parseada manualmente (linea9,,,, 519, 540, 869, 1121, 1124, 1456, 1729, 1753, 1785, 1801, 1841, 1842, 2231, 2262, 2383, 2394, 2457,  sin_rvst y linea23 ,,,, 2238  sin_grj) la use en otro notebook de ensayo donde el parseado solo consistió en aplicar seaparador.\n",
    "\n",
    "En este notebook no consigo fijar las funciones donde se reemplacen los huecos. (están definidas)\n",
    "\n",
    "el parseado consistió en un split por coma y una trata de los valores de las columnas 0, 9 y 23.\n",
    "los valores con la base parseada con notepad++ difieren en muy poco de la original.\n",
    "\n",
    "La trata de duplicados no se habria llevado ya que son pocos (6), en la base parseada a mano sí se hizo. ya que se vio en excel y se manipuló en notepad++\n",
    "\n",
    "el proceso ha sido llevado a cabo en Google Collaborate.\n",
    "\n",
    "\n",
    "\n"
   ]
  },
  {
   "cell_type": "markdown",
   "metadata": {
    "id": "hSobky8PDh8N"
   },
   "source": [
    "Preparamos el entorno"
   ]
  },
  {
   "cell_type": "code",
   "execution_count": 296,
   "metadata": {
    "id": "hG6EHwWyC-FI"
   },
   "outputs": [],
   "source": [
    "!apt-get install openjdk-8-jdk-headless -qq > /dev/null\n",
    "!wget -q https://www-us.apache.org/dist/spark/spark-2.4.7/spark-2.4.7-bin-hadoop2.7.tgz\n",
    "!tar xf spark-2.4.7-bin-hadoop2.7.tgz\n",
    "!pip install -q findspark"
   ]
  },
  {
   "cell_type": "code",
   "execution_count": 297,
   "metadata": {
    "id": "7-ZsQgYjDCht"
   },
   "outputs": [],
   "source": [
    "import os\n",
    "os.environ[\"JAVA_HOME\"] = \"/usr/lib/jvm/java-8-openjdk-amd64\"\n",
    "os.environ[\"SPARK_HOME\"] = \"/content/spark-2.4.7-bin-hadoop2.7\""
   ]
  },
  {
   "cell_type": "code",
   "execution_count": 298,
   "metadata": {
    "id": "fYjPxLedDIr9"
   },
   "outputs": [],
   "source": [
    "import findspark\n",
    "findspark.init()\n",
    "from pyspark import SparkContext\n",
    "sc = SparkContext.getOrCreate()\n",
    "from pyspark.sql import SparkSession\n",
    "spark = SparkSession.builder.master(\"local[*]\").getOrCreate()"
   ]
  },
  {
   "cell_type": "markdown",
   "metadata": {
    "id": "A8g6SIpDFjN9"
   },
   "source": [
    "Inicializar y cargar el contexto spark"
   ]
  },
  {
   "cell_type": "code",
   "execution_count": 299,
   "metadata": {
    "id": "RUQ2otTXFiK6"
   },
   "outputs": [],
   "source": [
    "#Carga de datos\n",
    "\n",
    "casa = sc.textFile('bd_etl.csv')"
   ]
  },
  {
   "cell_type": "code",
   "execution_count": 300,
   "metadata": {
    "colab": {
     "base_uri": "https://localhost:8080/"
    },
    "id": "-hFJEDHLGGLl",
    "outputId": "e3913345-dd5c-47e6-f8e0-944350d9d61f"
   },
   "outputs": [
    {
     "data": {
      "text/plain": [
       "2937"
      ]
     },
     "execution_count": 300,
     "metadata": {
      "tags": []
     },
     "output_type": "execute_result"
    }
   ],
   "source": [
    "#Comprobación de carga óptima de datos\n",
    "\n",
    "casa.count()"
   ]
  },
  {
   "cell_type": "code",
   "execution_count": 301,
   "metadata": {
    "colab": {
     "base_uri": "https://localhost:8080/"
    },
    "id": "SGMUvgeDKCDZ",
    "outputId": "8c727029-ec7b-450f-e549-1b1ca22c25b0"
   },
   "outputs": [
    {
     "data": {
      "text/plain": [
       "[['Order',\n",
       "  'MS Zoning',\n",
       "  'Lot Frontage',\n",
       "  'Lot Area',\n",
       "  'Land Contour',\n",
       "  'Land Slope',\n",
       "  'Overall Qual',\n",
       "  'Year Built',\n",
       "  'Year Remod/Add',\n",
       "  'Mas Vnr Type',\n",
       "  'Exter Qual',\n",
       "  'Bsmt Cond',\n",
       "  'Total Bsmt SF',\n",
       "  'Heating QC',\n",
       "  'Central Air',\n",
       "  'Full Bath',\n",
       "  'Half Bath',\n",
       "  'Bedroom AbvGr',\n",
       "  'Kitchen AbvGr',\n",
       "  'Kitchen Qual',\n",
       "  'TotRms AbvGrd',\n",
       "  'Garage Cars',\n",
       "  'Garage Area',\n",
       "  'Garage Cond',\n",
       "  'Pool Area',\n",
       "  'Pool QC',\n",
       "  'Mo Sold',\n",
       "  'Yr Sold',\n",
       "  'SalePrice'],\n",
       " ['1',\n",
       "  'RL',\n",
       "  '141',\n",
       "  '31770',\n",
       "  'Lvl',\n",
       "  'Gtl',\n",
       "  '6',\n",
       "  '1960',\n",
       "  '1960',\n",
       "  'Stone',\n",
       "  'TA',\n",
       "  'Gd',\n",
       "  '1080',\n",
       "  'Fa',\n",
       "  'Y',\n",
       "  '1',\n",
       "  '0',\n",
       "  '3',\n",
       "  '1',\n",
       "  'TA',\n",
       "  '7',\n",
       "  '2',\n",
       "  '528',\n",
       "  'TA',\n",
       "  '0',\n",
       "  'Sp',\n",
       "  '5',\n",
       "  '2010',\n",
       "  '215000'],\n",
       " ['2',\n",
       "  'RH',\n",
       "  '80',\n",
       "  '11622',\n",
       "  'Lvl',\n",
       "  'Gtl',\n",
       "  '5',\n",
       "  '1961',\n",
       "  '1961',\n",
       "  'None',\n",
       "  'TA',\n",
       "  'TA',\n",
       "  '882',\n",
       "  'TA',\n",
       "  'Y',\n",
       "  '1',\n",
       "  '0',\n",
       "  '2',\n",
       "  '1',\n",
       "  'TA',\n",
       "  '5',\n",
       "  '1',\n",
       "  '730',\n",
       "  'TA',\n",
       "  '0',\n",
       "  'Sp',\n",
       "  '6',\n",
       "  '2010',\n",
       "  '105000']]"
      ]
     },
     "execution_count": 301,
     "metadata": {
      "tags": []
     },
     "output_type": "execute_result"
    }
   ],
   "source": [
    "#Parseado de los datos y limpieza\n",
    "#Separamos las bases de datos por p y  comas ';'\n",
    "\n",
    "casa_alfa = casa.map(lambda x :x.split(\";\"))\n",
    "casa_alfa.take(3)"
   ]
  },
  {
   "cell_type": "code",
   "execution_count": 302,
   "metadata": {
    "colab": {
     "base_uri": "https://localhost:8080/"
    },
    "id": "XBSEb8ZSO1oC",
    "outputId": "7ef50ac0-1eab-4be4-a02f-473887e08ba2"
   },
   "outputs": [
    {
     "data": {
      "text/plain": [
       "2937"
      ]
     },
     "execution_count": 302,
     "metadata": {
      "tags": []
     },
     "output_type": "execute_result"
    }
   ],
   "source": [
    "#Recuento de los datos\n",
    "\n",
    "casa_alfa.count()"
   ]
  },
  {
   "cell_type": "code",
   "execution_count": 303,
   "metadata": {
    "colab": {
     "base_uri": "https://localhost:8080/"
    },
    "id": "d-6oDPF5c8co",
    "outputId": "78d157f2-1e9d-4b94-e453-08e9e5611228"
   },
   "outputs": [
    {
     "data": {
      "text/plain": [
       "[['1',\n",
       "  'RL',\n",
       "  '141',\n",
       "  '31770',\n",
       "  'Lvl',\n",
       "  'Gtl',\n",
       "  '6',\n",
       "  '1960',\n",
       "  '1960',\n",
       "  'Stone',\n",
       "  'TA',\n",
       "  'Gd',\n",
       "  '1080',\n",
       "  'Fa',\n",
       "  'Y',\n",
       "  '1',\n",
       "  '0',\n",
       "  '3',\n",
       "  '1',\n",
       "  'TA',\n",
       "  '7',\n",
       "  '2',\n",
       "  '528',\n",
       "  'TA',\n",
       "  '0',\n",
       "  'Sp',\n",
       "  '5',\n",
       "  '2010',\n",
       "  '215000'],\n",
       " ['2',\n",
       "  'RH',\n",
       "  '80',\n",
       "  '11622',\n",
       "  'Lvl',\n",
       "  'Gtl',\n",
       "  '5',\n",
       "  '1961',\n",
       "  '1961',\n",
       "  'None',\n",
       "  'TA',\n",
       "  'TA',\n",
       "  '882',\n",
       "  'TA',\n",
       "  'Y',\n",
       "  '1',\n",
       "  '0',\n",
       "  '2',\n",
       "  '1',\n",
       "  'TA',\n",
       "  '5',\n",
       "  '1',\n",
       "  '730',\n",
       "  'TA',\n",
       "  '0',\n",
       "  'Sp',\n",
       "  '6',\n",
       "  '2010',\n",
       "  '105000']]"
      ]
     },
     "execution_count": 303,
     "metadata": {
      "tags": []
     },
     "output_type": "execute_result"
    }
   ],
   "source": [
    "#eliminamos encabezado que nos está dando problemas \n",
    "#cuando conteamos los valores de cada rdd se suma uno distinto que es el nombre de la variable\n",
    "#por eso, la suprimimos.\n",
    "\n",
    "encab = casa_alfa.first()\n",
    "casa_alfa = casa_alfa.filter(lambda x : x != encab) \n",
    "\n",
    "#comprobamos, efectivamente:\n",
    "\n",
    "casa_alfa.take(2)\n"
   ]
  },
  {
   "cell_type": "code",
   "execution_count": 304,
   "metadata": {
    "colab": {
     "base_uri": "https://localhost:8080/"
    },
    "id": "wz8dfpqPO1h-",
    "outputId": "813a342e-4a80-43fd-854d-c6a8b2bc1cfa"
   },
   "outputs": [
    {
     "data": {
      "text/plain": [
       "['RL', 'RH', 'C', 'Rl', 'FV', 'RM', 'I', 'A', 'rL']"
      ]
     },
     "execution_count": 304,
     "metadata": {
      "tags": []
     },
     "output_type": "execute_result"
    }
   ],
   "source": [
    "#comenzamos el parseado \n",
    "#trata de valores anómalos en columnas categóricas, col 1, 9 y 23\n",
    "\n",
    "casa_alfa.map(lambda x: x[1]).distinct().collect()"
   ]
  },
  {
   "cell_type": "code",
   "execution_count": 305,
   "metadata": {
    "id": "sy1CSvbGQ440"
   },
   "outputs": [],
   "source": [
    "def ParseaditoBombaAtomica (x):\n",
    "    if x == 'Rl':\n",
    "        xn = 'RL'\n",
    "    elif x == 'rL':\n",
    "        xn='RL'\n",
    "    else:\n",
    "        xn = x\n",
    "    return (xn)\n",
    "\n",
    "#esta función nos permite integrar los valores Rl y rL en el conjunto RL"
   ]
  },
  {
   "cell_type": "code",
   "execution_count": 306,
   "metadata": {
    "colab": {
     "base_uri": "https://localhost:8080/"
    },
    "id": "yqxOshKvoA2w",
    "outputId": "9bc4045d-5c41-4ecc-94bb-ac8837352c36"
   },
   "outputs": [
    {
     "data": {
      "text/plain": [
       "['RL', 'RH', 'C', 'FV', 'RM', 'I', 'A']"
      ]
     },
     "execution_count": 306,
     "metadata": {
      "tags": []
     },
     "output_type": "execute_result"
    }
   ],
   "source": [
    "casa_alfa.map(lambda x: ParseaditoBombaAtomica(x[1])).distinct().collect()\n",
    "\n",
    "#Se comprueba que así sea y vemos que los datos Rl y rL se integran en RL"
   ]
  },
  {
   "cell_type": "code",
   "execution_count": 307,
   "metadata": {
    "colab": {
     "base_uri": "https://localhost:8080/"
    },
    "id": "ByTeC6NJO0zM",
    "outputId": "3dec321c-0914-4cda-e68b-f87458990deb"
   },
   "outputs": [
    {
     "data": {
      "text/plain": [
       "['None', '', 'CBlock', 'Stone', 'BrkFace', 'BrkCmn']"
      ]
     },
     "execution_count": 307,
     "metadata": {
      "tags": []
     },
     "output_type": "execute_result"
    }
   ],
   "source": [
    "casa_alfa.map(lambda x: x [9]).distinct().collect()\n",
    "\n",
    "#Analizamos la columna 9 que detectamos valores vacios"
   ]
  },
  {
   "cell_type": "code",
   "execution_count": 308,
   "metadata": {
    "id": "az72QrQ9mFCb"
   },
   "outputs": [],
   "source": [
    "def ParseaditoBombaAtomica1 (x):\n",
    "    if x == '':\n",
    "        xn = 'sin_rvst'\n",
    "    \n",
    "    else:\n",
    "        xn = x\n",
    "    return (xn)\n",
    "\n",
    "  #Creamos una función que a sustituya los huecos vacios"
   ]
  },
  {
   "cell_type": "code",
   "execution_count": 309,
   "metadata": {
    "colab": {
     "base_uri": "https://localhost:8080/"
    },
    "id": "5r__cWGT2kQo",
    "outputId": "240db8cd-8441-46dc-c9cf-90aaae867e7f"
   },
   "outputs": [
    {
     "data": {
      "text/plain": [
       "['None', 'sin_rvst', 'CBlock', 'Stone', 'BrkFace', 'BrkCmn']"
      ]
     },
     "execution_count": 309,
     "metadata": {
      "tags": []
     },
     "output_type": "execute_result"
    }
   ],
   "source": [
    "casa_alfa.map(lambda x: ParseaditoBombaAtomica1(x[9])).distinct().collect()\n",
    "\n",
    "#Denominamos los huecos vacios como 'sin_rvst'"
   ]
  },
  {
   "cell_type": "code",
   "execution_count": 310,
   "metadata": {
    "colab": {
     "base_uri": "https://localhost:8080/"
    },
    "id": "jt1kKqF5taYh",
    "outputId": "ddffa5e3-a923-4cbf-af91-005765c048ca"
   },
   "outputs": [
    {
     "data": {
      "text/plain": [
       "['Fa', 'Po', '', 'TA', 'Sg', 'Gd', 'Ex']"
      ]
     },
     "execution_count": 310,
     "metadata": {
      "tags": []
     },
     "output_type": "execute_result"
    }
   ],
   "source": [
    "#Analizamos la columna 23 que también tiene espacios vacios\n",
    "\n",
    "casa_alfa.map(lambda x: x[23]).distinct().collect()"
   ]
  },
  {
   "cell_type": "code",
   "execution_count": 311,
   "metadata": {
    "id": "GtT0V2-BtaR9"
   },
   "outputs": [],
   "source": [
    "def ParseaditoBombaAtomica2 (x):\n",
    "    if x == '':\n",
    "        xn = 'sin_grj'\n",
    "    \n",
    "    else:\n",
    "        xn = x\n",
    "    return (xn)\n",
    "\n",
    " #Creamos una función que a sustituya los huecos vacios por 'sin_grj'"
   ]
  },
  {
   "cell_type": "code",
   "execution_count": 312,
   "metadata": {
    "colab": {
     "base_uri": "https://localhost:8080/"
    },
    "id": "DuUeFSvdrMY7",
    "outputId": "0ffb3556-9aef-40af-87dc-648d0d77c1e5"
   },
   "outputs": [
    {
     "data": {
      "text/plain": [
       "['Fa', 'Po', 'sin_grj', 'TA', 'Sg', 'Gd', 'Ex']"
      ]
     },
     "execution_count": 312,
     "metadata": {
      "tags": []
     },
     "output_type": "execute_result"
    }
   ],
   "source": [
    "casa_alfa.map(lambda x: ParseaditoBombaAtomica2(x[23])).distinct().collect()\n",
    "\n",
    "#Denominamos los huecos vacios como 'sin_grj'"
   ]
  },
  {
   "cell_type": "markdown",
   "metadata": {
    "id": "akwuqfohxKlN"
   },
   "source": [
    "Cuántas viviendas distintas encontramos en el dataset? ¿Se repite alguna? Tiene sentido que haya duplicadas? ¿Qué podemos hacer con las duplicadas?\n"
   ]
  },
  {
   "cell_type": "code",
   "execution_count": 313,
   "metadata": {
    "colab": {
     "base_uri": "https://localhost:8080/"
    },
    "id": "8RcgIXRbtaFf",
    "outputId": "a1bb4bed-299b-492c-a253-29dfa36b8257"
   },
   "outputs": [
    {
     "name": "stdout",
     "output_type": "stream",
     "text": [
      "Cuántas viviendas distintas encontramos en el dataset?. 2936 ¿Se repite alguna? 2930 hay 6, repetidas. ¿Tiene sentido que haya duplicadas? no tiene pero debido a algun error en  la recopilación hay 6 filas que se repiten. ¿Qué podemos hacer con las duplicadas? En este caso, eliminanrlas.\n"
     ]
    }
   ],
   "source": [
    "print('Cuántas viviendas distintas encontramos en el dataset?.', \n",
    "casa_alfa.map(lambda x: x[0]).count(),\n",
    "'¿Se repite alguna?',\n",
    "casa_alfa.map(lambda x: x[0]).distinct().count(),\n",
    "'hay 6, repetidas. ¿Tiene sentido que haya duplicadas? no tiene', \n",
    "'pero debido a algun error en  la recopilación hay 6 filas que se repiten. ¿Qué podemos hacer con las duplicadas? En este caso, eliminanrlas.')"
   ]
  },
  {
   "cell_type": "markdown",
   "metadata": {
    "id": "rw-bSnxZxT7H"
   },
   "source": [
    "## ¿Podrías decirme el total de inmuebles y el precio medio (Sale Price) de cada zona (MS Zoning)?"
   ]
  },
  {
   "cell_type": "code",
   "execution_count": 314,
   "metadata": {
    "id": "Tg1xNk38Sfkc"
   },
   "outputs": [],
   "source": [
    "zonaRL = casa_alfa.filter(lambda x: x[1] == 'RL')\n",
    "zonaRM = casa_alfa.filter(lambda x: x[1] == 'RM')\n",
    "zonaRH = casa_alfa.filter(lambda x: x[1] == 'RH')"
   ]
  },
  {
   "cell_type": "code",
   "execution_count": 315,
   "metadata": {
    "colab": {
     "base_uri": "https://localhost:8080/"
    },
    "id": "I3Fe_zo1tZ3N",
    "outputId": "69359829-b7d3-4180-804b-e0934d85dc8c"
   },
   "outputs": [
    {
     "data": {
      "text/plain": [
       "2760"
      ]
     },
     "execution_count": 315,
     "metadata": {
      "tags": []
     },
     "output_type": "execute_result"
    }
   ],
   "source": [
    "#zona x[1], vamos a usar 3 zonas solo. de acuerdo con el enunciado\n",
    "#precio x[28]\n",
    "\n",
    "inmb_precio_RL = casa_alfa.filter(lambda x: x[1] == 'RL').map(lambda x: (x[0], x[28])) \n",
    "inmb_precio_RM = casa_alfa.filter(lambda x: x[1] == 'RM').map(lambda x: (x[0], x[28])) \n",
    "inmb_precio_RH = casa_alfa.filter(lambda x: x[1] == 'RH').map(lambda x: (x[0], x[28])) \n",
    "\n",
    "#Contamos los inmuebles de cada clase\n",
    "inmb_precio_RL.count() + inmb_precio_RM.count() +inmb_precio_RH.count()\n"
   ]
  },
  {
   "cell_type": "code",
   "execution_count": 316,
   "metadata": {
    "colab": {
     "base_uri": "https://localhost:8080/"
    },
    "id": "D2LB8t8ICtfR",
    "outputId": "54ebbc6c-1d3f-44e9-85df-0301f1c8b1ee"
   },
   "outputs": [
    {
     "data": {
      "text/plain": [
       "2271"
      ]
     },
     "execution_count": 316,
     "metadata": {
      "tags": []
     },
     "output_type": "execute_result"
    }
   ],
   "source": [
    "inmb_precio_RL.count() "
   ]
  },
  {
   "cell_type": "code",
   "execution_count": 317,
   "metadata": {
    "id": "2w887NKR--DM"
   },
   "outputs": [],
   "source": [
    "#funcion que pasa a float, ya que los numeros es necesario que esten en este formato para operar\n",
    "def tofloat(x):\n",
    "        if x in [\"\", \" \",\"nan\",\"NULL\"]: \n",
    "            return 0.0\n",
    "        else:\n",
    "            return float(x)"
   ]
  },
  {
   "cell_type": "code",
   "execution_count": 318,
   "metadata": {
    "colab": {
     "base_uri": "https://localhost:8080/"
    },
    "id": "l1lfMhmx--MD",
    "outputId": "3ff1aa2e-72a8-499e-f91e-9f8c703a016a"
   },
   "outputs": [
    {
     "name": "stdout",
     "output_type": "stream",
     "text": [
      "El precio medio de la zona RL es, 191131.80581241753 Dólares\n"
     ]
    }
   ],
   "source": [
    "print('El precio medio de la zona RL es,', inmb_precio_RL.map(lambda x: tofloat(x[1])).mean(), 'Dólares')"
   ]
  },
  {
   "cell_type": "code",
   "execution_count": 319,
   "metadata": {
    "colab": {
     "base_uri": "https://localhost:8080/"
    },
    "id": "YatFBno1--Pd",
    "outputId": "8d254e28-1e62-4eef-dfdd-c377687dd221"
   },
   "outputs": [
    {
     "name": "stdout",
     "output_type": "stream",
     "text": [
      "El precio medio de la zona RM es, 126781.39393939397 Dólares\n"
     ]
    }
   ],
   "source": [
    "print('El precio medio de la zona RM es,',inmb_precio_RM.map(lambda x: tofloat(x[1])).mean() , 'Dólares')"
   ]
  },
  {
   "cell_type": "code",
   "execution_count": 320,
   "metadata": {
    "colab": {
     "base_uri": "https://localhost:8080/"
    },
    "id": "s_hGeLV3--Tb",
    "outputId": "14d4b54b-62df-4d30-a848-f60588734161"
   },
   "outputs": [
    {
     "name": "stdout",
     "output_type": "stream",
     "text": [
      "El precio medio de la zona RH es, 136419.77777777778 Dólares\n"
     ]
    }
   ],
   "source": [
    "print('El precio medio de la zona RH es,',inmb_precio_RH.map(lambda x: tofloat(x[1])).mean() , 'Dólares')"
   ]
  },
  {
   "cell_type": "markdown",
   "metadata": {
    "id": "CUbQ4Ukztvu8"
   },
   "source": [
    "##Media de Total Bsmt SF por cada década de construcción calculada a partir de Year Built. "
   ]
  },
  {
   "cell_type": "code",
   "execution_count": 321,
   "metadata": {
    "colab": {
     "base_uri": "https://localhost:8080/"
    },
    "id": "20U84SJ_trhn",
    "outputId": "ed3ee4e3-5888-4913-b359-9dd272938593"
   },
   "outputs": [
    {
     "data": {
      "text/plain": [
       "['1995',\n",
       " '1993',\n",
       " '1990',\n",
       " '2003',\n",
       " '2010',\n",
       " '1951',\n",
       " '1978',\n",
       " '1977',\n",
       " '1970',\n",
       " '2007',\n",
       " '2004',\n",
       " '2002',\n",
       " '1994',\n",
       " '1980',\n",
       " '1979',\n",
       " '1920',\n",
       " '1962',\n",
       " '1964',\n",
       " '1949',\n",
       " '1940',\n",
       " '1954',\n",
       " '1957',\n",
       " '1956',\n",
       " '1948',\n",
       " '1927',\n",
       " '1938',\n",
       " '1928',\n",
       " '1890',\n",
       " '1925',\n",
       " '1939',\n",
       " '1936',\n",
       " '1921',\n",
       " '1907',\n",
       " '1969',\n",
       " '1947',\n",
       " '1941',\n",
       " '1896',\n",
       " '1991',\n",
       " '1981',\n",
       " '1880',\n",
       " '1937',\n",
       " '1934',\n",
       " '1982',\n",
       " '1983',\n",
       " '1918',\n",
       " '1872',\n",
       " '1911',\n",
       " '1879',\n",
       " '1901',\n",
       " '1913',\n",
       " '1960',\n",
       " '1961',\n",
       " '1958',\n",
       " '1968',\n",
       " '1997',\n",
       " '1998',\n",
       " '2001',\n",
       " '1992',\n",
       " '1999',\n",
       " '1985',\n",
       " '1988',\n",
       " '1974',\n",
       " '2000',\n",
       " '1971',\n",
       " '1975',\n",
       " '2009',\n",
       " '2005',\n",
       " '2006',\n",
       " '1996',\n",
       " '2008',\n",
       " '1984',\n",
       " '1965',\n",
       " '1967',\n",
       " '1963',\n",
       " '1976',\n",
       " '1972',\n",
       " '1966',\n",
       " '1959',\n",
       " '1950',\n",
       " '1952',\n",
       " '1955',\n",
       " '1953',\n",
       " '1900',\n",
       " '1910',\n",
       " '1915',\n",
       " '1945',\n",
       " '1929',\n",
       " '1923',\n",
       " '1885',\n",
       " '1922',\n",
       " '1942',\n",
       " '1930',\n",
       " '1912',\n",
       " '1917',\n",
       " '1875',\n",
       " '1946',\n",
       " '1987',\n",
       " '1924',\n",
       " '1914',\n",
       " '1931',\n",
       " '1919',\n",
       " '1989',\n",
       " '1973',\n",
       " '1986',\n",
       " '1916',\n",
       " '1926',\n",
       " '1935',\n",
       " '1892',\n",
       " '1898',\n",
       " '1882',\n",
       " '1902',\n",
       " '1932',\n",
       " '1904',\n",
       " '1905',\n",
       " '1893',\n",
       " '1906',\n",
       " '1908',\n",
       " '1895']"
      ]
     },
     "execution_count": 321,
     "metadata": {
      "tags": []
     },
     "output_type": "execute_result"
    }
   ],
   "source": [
    "casa_alfa.map(lambda x: x[7]).distinct().collect()\n",
    "\n",
    "#el primer registro es de 1872, por lo que trabajaremos con 15 decadas"
   ]
  },
  {
   "cell_type": "code",
   "execution_count": 322,
   "metadata": {
    "colab": {
     "base_uri": "https://localhost:8080/"
    },
    "id": "XyoRHSQbtrdy",
    "outputId": "2596de3c-2d71-4336-e630-a11da024cb26"
   },
   "outputs": [
    {
     "name": "stdout",
     "output_type": "stream",
     "text": [
      "Para la década de 1870 los pies cuadrados promedio del sótano son 761.0\n"
     ]
    }
   ],
   "source": [
    "decada1 = casa_alfa.filter(lambda x: x[7] < '1880').map(lambda x: (x[0], x[7], x[12], x[13]))\n",
    "decada1.collect()\n",
    "print('Para la década de 1870 los pies cuadrados promedio del sótano son', decada1.map(lambda x: tofloat(x[2])).mean())"
   ]
  },
  {
   "cell_type": "code",
   "execution_count": 323,
   "metadata": {
    "colab": {
     "base_uri": "https://localhost:8080/"
    },
    "id": "TrvpzwCotrby",
    "outputId": "3cd91cfe-1673-46b1-c456-942fb704f5e1"
   },
   "outputs": [
    {
     "name": "stdout",
     "output_type": "stream",
     "text": [
      "Para la década de 1880 los pies cuadrados promedio del sótano son 836.0\n"
     ]
    }
   ],
   "source": [
    "decada2 = casa_alfa.filter(lambda x:'1880'<= x[7] < '1890').map(lambda x: (x[0], x[7], x[12], x[13]))\n",
    "print('Para la década de 1880 los pies cuadrados promedio del sótano son', decada2.map(lambda x: tofloat(x[2])).mean())"
   ]
  },
  {
   "cell_type": "code",
   "execution_count": 324,
   "metadata": {
    "colab": {
     "base_uri": "https://localhost:8080/"
    },
    "id": "P0Of9twVtrXC",
    "outputId": "a1f1e868-5ee5-4d8f-c8f4-725b7199e0fb"
   },
   "outputs": [
    {
     "name": "stdout",
     "output_type": "stream",
     "text": [
      "Para la década de 1890 los pies cuadrados promedio del sótano son 834.2\n"
     ]
    }
   ],
   "source": [
    "decada3 = casa_alfa.filter(lambda x:'1890'<= x[7] < '1900').map(lambda x: (x[0], x[7], x[12], x[13]))\n",
    "print('Para la década de 1890 los pies cuadrados promedio del sótano son', decada3.map(lambda x: tofloat(x[2])).mean())"
   ]
  },
  {
   "cell_type": "code",
   "execution_count": 241,
   "metadata": {
    "colab": {
     "base_uri": "https://localhost:8080/"
    },
    "id": "o5_ZWu_vtrUE",
    "outputId": "e566abbe-c5b4-4d52-eac9-2016f1c34793"
   },
   "outputs": [
    {
     "name": "stdout",
     "output_type": "stream",
     "text": [
      "Para la década de 1900 los pies cuadrados promedio del sótano son 710.55\n"
     ]
    }
   ],
   "source": [
    "decada4 = casa_alfa.filter(lambda x:'1900'<= x[7] < '1910').map(lambda x: (x[0], x[7], x[12], x[13]))\n",
    "print('Para la década de 1900 los pies cuadrados promedio del sótano son', decada4.map(lambda x: tofloat(x[2])).mean())"
   ]
  },
  {
   "cell_type": "code",
   "execution_count": 242,
   "metadata": {
    "colab": {
     "base_uri": "https://localhost:8080/"
    },
    "id": "zi3bpgCttrQd",
    "outputId": "e4c8c568-6be7-4196-86ee-f69c10f4a547"
   },
   "outputs": [
    {
     "name": "stdout",
     "output_type": "stream",
     "text": [
      "Para la década de 1910 los pies cuadrados promedio del sótano son 778.5272727272727\n"
     ]
    }
   ],
   "source": [
    "decada5 = casa_alfa.filter(lambda x:'1910'<= x[7] < '1920').map(lambda x: (x[0], x[7], x[12], x[13]))\n",
    "print('Para la década de 1910 los pies cuadrados promedio del sótano son', decada5.map(lambda x: tofloat(x[2])).mean())"
   ]
  },
  {
   "cell_type": "code",
   "execution_count": 243,
   "metadata": {
    "colab": {
     "base_uri": "https://localhost:8080/"
    },
    "id": "VuqxYBywtrNZ",
    "outputId": "47a4798c-cf5c-4af3-9088-046a2fa7d303"
   },
   "outputs": [
    {
     "name": "stdout",
     "output_type": "stream",
     "text": [
      "Para la década de 1920 los pies cuadrados promedio del sótano son 828.1428571428571\n"
     ]
    }
   ],
   "source": [
    "decada5 = casa_alfa.filter(lambda x:'1920'<= x[7] < '1930').map(lambda x: (x[0], x[7], x[12], x[13]))\n",
    "print('Para la década de 1920 los pies cuadrados promedio del sótano son', decada5.map(lambda x: tofloat(x[2])).mean())"
   ]
  },
  {
   "cell_type": "code",
   "execution_count": 244,
   "metadata": {
    "colab": {
     "base_uri": "https://localhost:8080/"
    },
    "id": "gkhniRrCtrKc",
    "outputId": "451cd945-f8ec-4770-a9e1-8c18d5e4dd09"
   },
   "outputs": [
    {
     "name": "stdout",
     "output_type": "stream",
     "text": [
      "Para la década de 1930 los pies cuadrados promedio del sótano son 828.1428571428571\n"
     ]
    }
   ],
   "source": [
    "decada6 = casa_alfa.filter(lambda x:'1930'<= x[7] < '1940').map(lambda x: (x[0], x[7], x[12], x[13]))\n",
    "print('Para la década de 1930 los pies cuadrados promedio del sótano son', decada5.map(lambda x: tofloat(x[2])).mean())"
   ]
  },
  {
   "cell_type": "code",
   "execution_count": 245,
   "metadata": {
    "colab": {
     "base_uri": "https://localhost:8080/"
    },
    "id": "TUf3dpXjtq8K",
    "outputId": "2e58c9b4-aaa6-494f-d92f-7230f60e4755"
   },
   "outputs": [
    {
     "name": "stdout",
     "output_type": "stream",
     "text": [
      "Para la década de 1940 los pies cuadrados promedio del sótano son 700.7417218543046\n"
     ]
    }
   ],
   "source": [
    "decada7 = casa_alfa.filter(lambda x:'1940'<= x[7] < '1950').map(lambda x: (x[0], x[7], x[12], x[13]))\n",
    "print('Para la década de 1940 los pies cuadrados promedio del sótano son', decada7.map(lambda x: tofloat(x[2])).mean())"
   ]
  },
  {
   "cell_type": "code",
   "execution_count": 246,
   "metadata": {
    "colab": {
     "base_uri": "https://localhost:8080/"
    },
    "id": "ko2wxmNAuVy9",
    "outputId": "75c467ea-b476-43b8-8163-c69314d41408"
   },
   "outputs": [
    {
     "name": "stdout",
     "output_type": "stream",
     "text": [
      "Para la década de 1950 los pies cuadrados promedio del sótano son 960.7411764705882\n"
     ]
    }
   ],
   "source": [
    "decada8 = casa_alfa.filter(lambda x:'1950'<= x[7] < '1960').map(lambda x: (x[0], x[7], x[12], x[13]))\n",
    "print('Para la década de 1950 los pies cuadrados promedio del sótano son', decada8.map(lambda x: tofloat(x[2])).mean())"
   ]
  },
  {
   "cell_type": "code",
   "execution_count": 247,
   "metadata": {
    "colab": {
     "base_uri": "https://localhost:8080/"
    },
    "id": "Tz0v9vLHuVwp",
    "outputId": "aeb4af86-70d3-459e-faed-27d2e33a2d6d"
   },
   "outputs": [
    {
     "name": "stdout",
     "output_type": "stream",
     "text": [
      "Para la década de 1960 los pies cuadrados promedio del sótano son 1082.6722689075627\n"
     ]
    }
   ],
   "source": [
    "decada9 = casa_alfa.filter(lambda x:'1960'<= x[7] < '1970').map(lambda x: (x[0], x[7], x[12], x[13]))\n",
    "print('Para la década de 1960 los pies cuadrados promedio del sótano son', decada9.map(lambda x: tofloat(x[2])).mean())"
   ]
  },
  {
   "cell_type": "code",
   "execution_count": 248,
   "metadata": {
    "colab": {
     "base_uri": "https://localhost:8080/"
    },
    "id": "5FzjDMZSuVr6",
    "outputId": "f947ccd0-6407-4e5d-9cf9-a4d9eb457a9c"
   },
   "outputs": [
    {
     "name": "stdout",
     "output_type": "stream",
     "text": [
      "Para la década de 1970 los pies cuadrados promedio del sótano son 953.9178082191784\n"
     ]
    }
   ],
   "source": [
    "decada10 = casa_alfa.filter(lambda x:'1970'<= x[7] < '1980').map(lambda x: (x[0], x[7], x[12], x[13], x[13]))\n",
    "print('Para la década de 1970 los pies cuadrados promedio del sótano son', decada10.map(lambda x: tofloat(x[2])).mean())"
   ]
  },
  {
   "cell_type": "code",
   "execution_count": 249,
   "metadata": {
    "colab": {
     "base_uri": "https://localhost:8080/"
    },
    "id": "gZcgH8xguVnz",
    "outputId": "262d9050-f200-4978-b891-cde79c8692be"
   },
   "outputs": [
    {
     "name": "stdout",
     "output_type": "stream",
     "text": [
      "Para la década de 1980 los pies cuadrados promedio del sótano son 1086.0000000000002\n"
     ]
    }
   ],
   "source": [
    "decada11 = casa_alfa.filter(lambda x:'1980'<= x[7] < '1990').map(lambda x: (x[0], x[7], x[12], x[13]))\n",
    "print('Para la década de 1980 los pies cuadrados promedio del sótano son', decada11.map(lambda x: tofloat(x[2])).mean())"
   ]
  },
  {
   "cell_type": "code",
   "execution_count": 250,
   "metadata": {
    "colab": {
     "base_uri": "https://localhost:8080/"
    },
    "id": "2WGw0MGNuVii",
    "outputId": "23de841c-544a-45e7-8191-bea3abcddee1"
   },
   "outputs": [
    {
     "name": "stdout",
     "output_type": "stream",
     "text": [
      "Para la década de 1990 los pies cuadrados promedio del sótano son 1124.0863095238103\n"
     ]
    }
   ],
   "source": [
    "decada12 = casa_alfa.filter(lambda x:'1990'<= x[7] < '2000').map(lambda x: (x[0], x[7], x[12], x[13]))\n",
    "print('Para la década de 1990 los pies cuadrados promedio del sótano son', decada12.map(lambda x: tofloat(x[2])).mean())"
   ]
  },
  {
   "cell_type": "code",
   "execution_count": 251,
   "metadata": {
    "colab": {
     "base_uri": "https://localhost:8080/"
    },
    "id": "qzTVIcCDuVfX",
    "outputId": "2fd53a2e-b235-4eaa-d765-038a34c67f31"
   },
   "outputs": [
    {
     "name": "stdout",
     "output_type": "stream",
     "text": [
      "Para la década del 2000 los pies cuadrados promedio del sótano son 1311.3997445721573\n"
     ]
    }
   ],
   "source": [
    "decada13 = casa_alfa.filter(lambda x:'2000'<= x[7] < '2010').map(lambda x: (x[0], x[7], x[12], x[13]))\n",
    "print('Para la década del 2000 los pies cuadrados promedio del sótano son', decada13.map(lambda x: tofloat(x[2])).mean())"
   ]
  },
  {
   "cell_type": "markdown",
   "metadata": {
    "id": "YstWF-9AvrWe"
   },
   "source": [
    "## ¿Cuál es la decada de construcción con viviendas mejor acondicionadas para el frío (Heating QC)?"
   ]
  },
  {
   "cell_type": "code",
   "execution_count": 325,
   "metadata": {
    "id": "eqlZXnmAuVbN"
   },
   "outputs": [],
   "source": [
    "#Apliamos un filtro por Ex y conteamos\n",
    "\n",
    "acond1 = decada1.filter(lambda x: x[3] == 'Ex').map(lambda x: (x[0], x[3]))\n",
    "acond2= decada2.filter(lambda x: x[3] == 'Ex').map(lambda x: (x[0], x[3]))\n",
    "acond3 = decada3.filter(lambda x: x[3] == 'Ex').map(lambda x: (x[0], x[3]))\n",
    "acond4 = decada4.filter(lambda x: x[3] == 'Ex').map(lambda x: (x[0], x[3]))\n",
    "acond5 = decada5.filter(lambda x: x[3] == 'Ex').map(lambda x: (x[0], x[3]))\n",
    "acond6 = decada6.filter(lambda x: x[3] == 'Ex').map(lambda x: (x[0], x[3]))\n",
    "acond7 = decada7.filter(lambda x: x[3] == 'Ex').map(lambda x: (x[0], x[3]))\n",
    "acond8 = decada8.filter(lambda x: x[3] == 'Ex').map(lambda x: (x[0], x[3]))\n",
    "acond9 = decada9.filter(lambda x: x[3] == 'Ex').map(lambda x: (x[0], x[3]))\n",
    "acond10 = decada10.filter(lambda x: x[3] == 'Ex').map(lambda x: (x[0], x[3]))\n",
    "acond11 = decada11.filter(lambda x: x[3] == 'Ex').map(lambda x: (x[0], x[3]))\n",
    "acond12 = decada12.filter(lambda x: x[3] == 'Ex').map(lambda x: (x[0], x[3]))\n",
    "acond13 = decada13.filter(lambda x: x[3] == 'Ex').map(lambda x: (x[0], x[3]))"
   ]
  },
  {
   "cell_type": "code",
   "execution_count": 326,
   "metadata": {
    "colab": {
     "base_uri": "https://localhost:8080/"
    },
    "id": "SgfZPebzuVWW",
    "outputId": "a1df635d-65d2-4900-f58d-2462e534214b"
   },
   "outputs": [
    {
     "name": "stdout",
     "output_type": "stream",
     "text": [
      "0 2 5 13 52 41 56 98 88 68 28 251 755 visto el número de viviendas con calefacción excelente la mejor década en cifras absolutas es la última\n"
     ]
    }
   ],
   "source": [
    "print(\n",
    "acond1.count(), \n",
    "acond2.count(), \n",
    "acond3.count(), \n",
    "acond4.count(), \n",
    "acond5.count(), \n",
    "acond6.count(), \n",
    "acond7.count(), \n",
    "acond8.count(), \n",
    "acond9.count(), \n",
    "acond10.count(), \n",
    "acond11.count(), \n",
    "acond12.count(), \n",
    "acond13.count(), 'visto el número de viviendas con calefacción excelente la mejor década en cifras absolutas es la última' )"
   ]
  },
  {
   "cell_type": "markdown",
   "metadata": {
    "id": "XIt2PRohv51V"
   },
   "source": [
    "## ¿Cuáles son las 10 viviendas que se vendieron por un precio más elevado por metro cuadrado en el año 2009?"
   ]
  },
  {
   "cell_type": "code",
   "execution_count": 327,
   "metadata": {
    "colab": {
     "base_uri": "https://localhost:8080/"
    },
    "id": "bW_DgsNXuVRa",
    "outputId": "8503b2e0-b1d9-422f-dc8c-9432fa586350"
   },
   "outputs": [
    {
     "data": {
      "text/plain": [
       "[('342', 9.571033210332104),\n",
       " ('344', 24.89177489177489),\n",
       " ('345', 18.61675999607034),\n",
       " ('346', 22.89687924016282),\n",
       " ('347', 22.5),\n",
       " ('348', 25.34918076819769),\n",
       " ('351', 49.0819209039548),\n",
       " ('353', 29.88893048795707),\n",
       " ('354', 19.892412865628152),\n",
       " ('356', 25.466666666666665),\n",
       " ('359', 20.597069180961036),\n",
       " ('361', 18.47239518472395),\n",
       " ('365', 15.23078221247152),\n",
       " ('370', 15.546218487394958),\n",
       " ('372', 10.62019597488705),\n",
       " ('375', 11.622641509433961),\n",
       " ('376', 18.301610541727673),\n",
       " ('378', 13.28374070138151),\n",
       " ('380', 28.958333333333332),\n",
       " ('383', 19.167313664596275),\n",
       " ('385', 32.912918540729635),\n",
       " ('386', 29.333333333333332),\n",
       " ('387', 27.744982290436838),\n",
       " ('389', 16.558185404339252),\n",
       " ('390', 14.298642533936652),\n",
       " ('408', 71.13095238095238),\n",
       " ('410', 63.258232235701904),\n",
       " ('411', 65.13157894736842),\n",
       " ('412', 53.94736842105263),\n",
       " ('413', 63.69150779896014),\n",
       " ('414', 58.70583226905066),\n",
       " ('417', 58.3756345177665),\n",
       " ('419', 13.986013986013987),\n",
       " ('422', 32.40513431998317),\n",
       " ('426', 18.011243851018975),\n",
       " ('429', 29.625044216483904),\n",
       " ('433', 44.548309355144966),\n",
       " ('435', 31.09345310070824),\n",
       " ('440', 28.662287561255344),\n",
       " ('441', 27.59381898454746),\n",
       " ('442', 23.975136895071778),\n",
       " ('445', 26.65415297982168),\n",
       " ('446', 20.927162602888647),\n",
       " ('447', 24.438738077769624),\n",
       " ('449', 29.134476888830694),\n",
       " ('451', 26.496168979084697),\n",
       " ('452', 30.85168018539977),\n",
       " ('453', 36.42445642073964),\n",
       " ('456', 45.99080183963208),\n",
       " ('457', 37.20679428417363),\n",
       " ('458', 25.062246101428386),\n",
       " ('461', 17.08407871198569),\n",
       " ('464', 76.27865961199295),\n",
       " ('465', 16.837481698389457),\n",
       " ('467', 13.82159027722615),\n",
       " ('468', 14.608345227101),\n",
       " ('469', 47.23127035830619),\n",
       " ('470', 48.39064649243466),\n",
       " ('473', 56.56819610307982),\n",
       " ('474', 50.345694531741046),\n",
       " ('477', 18.019927920288318),\n",
       " ('478', 23.73496993987976),\n",
       " ('481', 21.416620189626325),\n",
       " ('483', 40.98360655737705),\n",
       " ('485', 19.97517647971453),\n",
       " ('486', 19.960732984293195),\n",
       " ('488', 22.03619352455989),\n",
       " ('490', 20.129032258064516),\n",
       " ('492', 7.333279312859574),\n",
       " ('495', 35.73700954400849),\n",
       " ('496', 26.621746597965384),\n",
       " ('499', 27.53421289846759),\n",
       " ('501', 29.302325581395348),\n",
       " ('502', 26.262626262626263),\n",
       " ('503', 28.618602091359385),\n",
       " ('504', 22.54105371193979),\n",
       " ('505', 8.628646246968168),\n",
       " ('506', 8.277979905871357),\n",
       " ('508', 24.566732177952474),\n",
       " ('509', 25.230256711738193),\n",
       " ('512', 26.808184702921544),\n",
       " ('513', 26.149870801033593),\n",
       " ('514', 42.05607476635514),\n",
       " ('515', 29.24513888888889),\n",
       " ('517', 26.494530653777666),\n",
       " ('519', 26.557407407407407),\n",
       " ('520', 26.59722222222222),\n",
       " ('522', 40.369870469141176),\n",
       " ('526', 23.83204085492718),\n",
       " ('530', 28.053333333333335),\n",
       " ('536', 19.133333333333333),\n",
       " ('537', 18.15957847196086),\n",
       " ('538', 20.01774972882359),\n",
       " ('539', 18.33779629078647),\n",
       " ('540', 12.163402692778458),\n",
       " ('541', 10.862913096695227),\n",
       " ('542', 12.289156626506024),\n",
       " ('545', 23.376387120247408),\n",
       " ('548', 11.150343802267237),\n",
       " ('552', 19.393939393939394),\n",
       " ('553', 9.761904761904763),\n",
       " ('557', 16.59018708083304),\n",
       " ('560', 16.557566422795535),\n",
       " ('562', 7.5332689288733246),\n",
       " ('564', 17.54274049502424),\n",
       " ('566', 97.48263888888889),\n",
       " ('570', 46.24140384159355),\n",
       " ('571', 53.40557275541796),\n",
       " ('572', 60.04002668445631),\n",
       " ('579', 15.01351216094485),\n",
       " ('580', 13.162393162393162),\n",
       " ('581', 15.789024494324487),\n",
       " ('582', 20.287243337702055),\n",
       " ('583', 19.264110961279137),\n",
       " ('584', 16.17970468111844),\n",
       " ('585', 12.523191094619666),\n",
       " ('586', 24.701923076923077),\n",
       " ('588', 16.979166666666668),\n",
       " ('590', 16.698126905764482),\n",
       " ('595', 14.895833333333334),\n",
       " ('596', 12.912087912087912),\n",
       " ('598', 10.454545454545455),\n",
       " ('600', 19.029047875201723),\n",
       " ('602', 14.010989010989011),\n",
       " ('603', 14.814814814814815),\n",
       " ('608', 13.81904761904762),\n",
       " ('610', 19.788182831661093),\n",
       " ('611', 13.063249276560562),\n",
       " ('612', 12.96875),\n",
       " ('616', 15.680684248039915),\n",
       " ('621', 14.583333333333334),\n",
       " ('623', 13.864042933810376),\n",
       " ('628', 14.884615384615385),\n",
       " ('629', 8.112094395280236),\n",
       " ('630', 8.38328138735715),\n",
       " ('631', 17.123287671232877),\n",
       " ('633', 14.326414326414326),\n",
       " ('634', 16.17965367965368),\n",
       " ('635', 14.479166666666666),\n",
       " ('637', 13.714285714285714),\n",
       " ('640', 9.12106135986733),\n",
       " ('641', 17.932489451476794),\n",
       " ('642', 14.237502636574563),\n",
       " ('643', 16.117125984251967),\n",
       " ('644', 11.56667293586609),\n",
       " ('645', 9.640397857689365),\n",
       " ('648', 13.325471698113208),\n",
       " ('649', 19.079464988198268),\n",
       " ('654', 16.5),\n",
       " ('656', 12.968299711815561),\n",
       " ('657', 13.796296296296296),\n",
       " ('658', 13.994598575988215),\n",
       " ('659', 12.136998448237641),\n",
       " ('660', 12.218963831867057),\n",
       " ('662', 21.73611111111111),\n",
       " ('664', 19.444444444444443),\n",
       " ('667', 19.64636542239686),\n",
       " ('668', 15.18288474810214),\n",
       " ('671', 17.915106117353307),\n",
       " ('674', 8.948863636363637),\n",
       " ('675', 12.61111111111111),\n",
       " ('676', 10.951910408432148),\n",
       " ('677', 10.87312734082397),\n",
       " ('679', 12.5),\n",
       " ('682', 18.386243386243386),\n",
       " ('683', 16.51388888888889),\n",
       " ('685', 16.70659437649729),\n",
       " ('690', 16.003024193548388),\n",
       " ('691', 16.59090909090909),\n",
       " ('694', 31.59313725490196),\n",
       " ('695', 10.041719219947609),\n",
       " ('697', 8.301404853128991),\n",
       " ('698', 13.030303030303031),\n",
       " ('699', 23.415547923821418),\n",
       " ('700', 16.28787878787879),\n",
       " ('703', 39.96447602131439),\n",
       " ('705', 15.5),\n",
       " ('707', 15.5),\n",
       " ('712', 11.678403755868544),\n",
       " ('715', 31.428571428571427),\n",
       " ('716', 13.08641975308642),\n",
       " ('717', 22.733247863247865),\n",
       " ('718', 19.047619047619047),\n",
       " ('720', 9.50710203157716),\n",
       " ('721', 17.727272727272727),\n",
       " ('722', 15.88888888888889),\n",
       " ('723', 11.805555555555555),\n",
       " ('724', 14.160997732426305),\n",
       " ('725', 22.037037037037038),\n",
       " ('727', 4.429496128950374),\n",
       " ('733', 13.666139597921843),\n",
       " ('736', 19.5),\n",
       " ('737', 22.083333333333332),\n",
       " ('738', 15.5),\n",
       " ('742', 21.73202614379085),\n",
       " ('743', 9.803921568627452),\n",
       " ('744', 17.15686274509804),\n",
       " ('745', 18.790849673202615),\n",
       " ('747', 14.64968152866242),\n",
       " ('752', 18.120467365028205),\n",
       " ('756', 16.506410256410255),\n",
       " ('757', 21.2987012987013),\n",
       " ('760', 13.565891472868216),\n",
       " ('762', 20.735981308411215),\n",
       " ('763', 16.574074074074073),\n",
       " ('767', 15.62829989440338),\n",
       " ('770', 15.766787658802178),\n",
       " ('771', 15.42381974248927),\n",
       " ('772', 9.763440860215054),\n",
       " ('778', 10.714285714285714),\n",
       " ('779', 9.665621734587251),\n",
       " ('780', 10.587782340862423),\n",
       " ('782', 14.355555555555556),\n",
       " ('783', 5.698346284120342),\n",
       " ('786', 17.743742995890923),\n",
       " ('787', 10.2046783625731),\n",
       " ('790', 12.694598265593982),\n",
       " ('791', 6.268937415108139),\n",
       " ('792', 16.513368983957218),\n",
       " ('796', 32.93978748524203),\n",
       " ('797', 11.482163204487685),\n",
       " ('799', 11.889035667107),\n",
       " ('801', 8.127759023630226),\n",
       " ('802', 25.683459073578323),\n",
       " ('805', 22.71780303030303),\n",
       " ('806', 24.36914936914937),\n",
       " ('812', 16.936164149330292),\n",
       " ('813', 20.369478483898547),\n",
       " ('814', 21.068892045454547),\n",
       " ('815', 16.22977022977023),\n",
       " ('816', 22.733024040489244),\n",
       " ('819', 29.56754779109119),\n",
       " ('820', 27.921406411582215),\n",
       " ('823', 26.13859228590107),\n",
       " ('824', 19.68613613148853),\n",
       " ('825', 23.857468044125373),\n",
       " ('829', 21.48392096086788),\n",
       " ('830', 26.592835657642876),\n",
       " ('831', 20.352082438814943),\n",
       " ('833', 21.484375),\n",
       " ('834', 13.983710624026829),\n",
       " ('835', 6.446442260784724),\n",
       " ('839', 19.874378925658572),\n",
       " ('840', 14.031044533315258),\n",
       " ('846', 22.857142857142858),\n",
       " ('849', 18.51851851851852),\n",
       " ('852', 18.00107469102633),\n",
       " ('853', 14.709371293001187),\n",
       " ('854', 8.605323006945724),\n",
       " ('857', 19.5),\n",
       " ('862', 15.748963883955003),\n",
       " ('868', 22.688307235112585),\n",
       " ('873', 24.0),\n",
       " ('875', 21.82857142857143),\n",
       " ('880', 28.745098039215687),\n",
       " ('881', 20.401589176420057),\n",
       " ('883', 20.097301054094753),\n",
       " ('885', 12.304887774866128),\n",
       " ('886', 16.805877025259132),\n",
       " ('887', 11.265067027148811),\n",
       " ('889', 20.062893081761008),\n",
       " ('894', 12.546517809675704),\n",
       " ('897', 11.659726353361094),\n",
       " ('898', 24.60591133004926),\n",
       " ('900', 10.973823906278602),\n",
       " ('901', 8.795784821959717),\n",
       " ('902', 12.547613712749271),\n",
       " ('912', 17.298821117375706),\n",
       " ('914', 22.273537514179225),\n",
       " ('915', 21.52777777777778),\n",
       " ('920', 14.985380116959064),\n",
       " ('922', 16.666666666666668),\n",
       " ('924', 12.238023952095809),\n",
       " ('925', 20.16664496810311),\n",
       " ('927', 15.912087912087912),\n",
       " ('929', 14.468850738436165),\n",
       " ('930', 10.128205128205128),\n",
       " ('932', 12.8),\n",
       " ('933', 66.35891517599538),\n",
       " ('934', 92.06989247311827),\n",
       " ('935', 75.06203473945409),\n",
       " ('936', 95.38461538461539),\n",
       " ('939', 10.232772528232312),\n",
       " ('942', 12.18369259606373),\n",
       " ('943', 10.035419126328216),\n",
       " ('945', 59.84907624251886),\n",
       " ('947', 24.790123456790123),\n",
       " ('948', 18.693339572609577),\n",
       " ('949', 19.805248390823568),\n",
       " ('950', 17.609959865672863),\n",
       " ('953', 12.444444444444445),\n",
       " ('956', 9.565217391304348),\n",
       " ('957', 1.7422007479848545),\n",
       " ('959', 17.06056691237936),\n",
       " ('960', 30.510492632832268),\n",
       " ('962', 22.521008403361346),\n",
       " ('966', 32.102728731942214),\n",
       " ('970', 11.143952708100336),\n",
       " ('971', 5.287356321839081),\n",
       " ('972', 36.0),\n",
       " ('973', 36.666666666666664),\n",
       " ('975', 13.187259078920674),\n",
       " ('978', 54.16384563303995),\n",
       " ('979', 63.27462491846053),\n",
       " ('980', 39.69327920613441),\n",
       " ('982', 17.032182714767714),\n",
       " ('986', 10.131066241586964),\n",
       " ('987', 12.465241154473103),\n",
       " ('343', 15.392156862745098),\n",
       " ('349', 19.753810082063307),\n",
       " ('350', 51.39802631578947),\n",
       " ('352', 32.520325203252035),\n",
       " ('355', 18.242776846464846),\n",
       " ('357', 22.712772744672705),\n",
       " ('358', 18.94521249359959),\n",
       " ('360', 22.896551724137932),\n",
       " ('362', 21.415384615384614),\n",
       " ('363', 18.70674740484429),\n",
       " ('364', 20.90689462925107),\n",
       " ('366', 32.24974200206398),\n",
       " ('367', 28.80313378867015),\n",
       " ('368', 31.450523471800068),\n",
       " ('369', 16.091100383710856),\n",
       " ('371', 19.992310649750095),\n",
       " ('373', 6.932773109243698),\n",
       " ('374', 12.924556657649534),\n",
       " ('377', 20.100096867936713),\n",
       " ('379', 16.594516594516595),\n",
       " ('381', 13.215488215488216),\n",
       " ('382', 14.615384615384615),\n",
       " ('384', 34.41428571428571),\n",
       " ('388', 22.724847967566415),\n",
       " ('391', 16.272189349112427),\n",
       " ('392', 15.122511485451762),\n",
       " ('393', 15.11111111111111),\n",
       " ('394', 16.97142857142857),\n",
       " ('395', 19.672131147540984),\n",
       " ('396', 16.347381864623244),\n",
       " ('397', 16.803760282021152),\n",
       " ('398', 10.869565217391305),\n",
       " ('399', 17.313218390804597),\n",
       " ('400', 15.332512315270936),\n",
       " ('401', 9.238095238095237),\n",
       " ('402', 14.444444444444445),\n",
       " ('403', 66.07142857142857),\n",
       " ('404', 52.78716216216216),\n",
       " ('405', 66.66666666666667),\n",
       " ('406', 57.73809523809524),\n",
       " ('407', 70.23809523809524),\n",
       " ('409', 29.1700487012987),\n",
       " ('415', 62.18274111675127),\n",
       " ('416', 64.87549148099608),\n",
       " ('418', 61.07414448669201),\n",
       " ('420', 13.893557422969188),\n",
       " ('421', 27.095375722543352),\n",
       " ('423', 35.87808847462642),\n",
       " ('424', 35.96656081913032),\n",
       " ('425', 24.671676914901692),\n",
       " ('427', 19.938051007556677),\n",
       " ('428', 32.2914979757085),\n",
       " ('430', 32.71255060728745),\n",
       " ('431', 32.96734860883797),\n",
       " ('432', 33.532423208191126),\n",
       " ('434', 41.96479735080268),\n",
       " ('436', 17.545939537640784),\n",
       " ('437', 17.590009869973823),\n",
       " ('438', 22.92302171182487),\n",
       " ('439', 32.31407350245973),\n",
       " ('443', 39.61965134706814),\n",
       " ('444', 24.643548671008624),\n",
       " ('448', 28.670576009501186),\n",
       " ('450', 21.866988387875132),\n",
       " ('454', 36.0210855134713),\n",
       " ('455', 20.61705636945765),\n",
       " ('459', 43.301759133964815),\n",
       " ('460', 38.396168108776266),\n",
       " ('462', 40.705128205128204),\n",
       " ('463', 49.71264367816092),\n",
       " ('466', 18.815877999551468),\n",
       " ('471', 60.49654305468259),\n",
       " ('472', 56.882463859208045),\n",
       " ('475', 24.18216805644644),\n",
       " ('476', 24.789291026276647),\n",
       " ('479', 23.75483870967742),\n",
       " ('480', 19.308641975308642),\n",
       " ('482', 21.77636408123318),\n",
       " ('484', 26.833428084138717),\n",
       " ('487', 17.156359153482637),\n",
       " ('489', 22.530534803747184),\n",
       " ('491', 15.412682435832913),\n",
       " ('493', 24.44317532838378),\n",
       " ('494', 21.406727828746178),\n",
       " ('497', 25.70754716981132),\n",
       " ('498', 20.550015110305228),\n",
       " ('500', 25.96003134796238),\n",
       " ('507', 25.44735746982938),\n",
       " ('510', 30.99654502267329),\n",
       " ('511', 27.1964461994077),\n",
       " ('516', 23.333333333333332),\n",
       " ('518', 28.149630927061178),\n",
       " ('521', 19.831826114548626),\n",
       " ('523', 31.8),\n",
       " ('524', 28.174134327001727),\n",
       " ('525', 25.464491181741018),\n",
       " ('527', 29.661538461538463),\n",
       " ('528', 32.55384615384615),\n",
       " ('529', 27.388235294117646),\n",
       " ('531', 24.666666666666668),\n",
       " ('532', 26.84294871794872),\n",
       " ('533', 25.716746646979207),\n",
       " ('534', 16.55387818844352),\n",
       " ('535', 20.266666666666666),\n",
       " ('543', 30.600846069868997),\n",
       " ('544', 19.143752175426382),\n",
       " ('546', 22.159690467815686),\n",
       " ('547', 22.264052966376735),\n",
       " ('549', 20.209059233449477),\n",
       " ('550', 20.19980239323746),\n",
       " ('551', 15.767957952112127),\n",
       " ('554', 8.444444444444445),\n",
       " ('555', 11.282051282051283),\n",
       " ('556', 19.110985277463193),\n",
       " ('558', 13.437603260270954),\n",
       " ('559', 13.321167883211679),\n",
       " ('561', 13.14),\n",
       " ('563', 17.202797202797203),\n",
       " ('565', 19.666917733701563),\n",
       " ('567', 41.6350291065553),\n",
       " ('568', 57.911),\n",
       " ('569', 57.96344647519582),\n",
       " ('573', 41.40127388535032),\n",
       " ('574', 65.21739130434783),\n",
       " ('575', 21.692527562270314),\n",
       " ('576', 55.922792173453196),\n",
       " ('577', 15.671012518648245),\n",
       " ('578', 18.802083333333332),\n",
       " ('587', 11.073806725980639),\n",
       " ('589', 12.555555555555555),\n",
       " ('591', 17.39896373056995),\n",
       " ('592', 21.030571992110453),\n",
       " ('593', 27.023809523809526),\n",
       " ('594', 18.2328190743338),\n",
       " ('597', 17.552083333333332),\n",
       " ('599', 16.496424923391217),\n",
       " ('601', 14.523076923076923),\n",
       " ('604', 13.162282326787698),\n",
       " ('605', 9.586056644880175),\n",
       " ('606', 16.69332267093163),\n",
       " ('607', 16.363636363636363),\n",
       " ('609', 14.0),\n",
       " ('613', 15.206971677559913),\n",
       " ('614', 12.489762489762489),\n",
       " ('615', 15.47842401500938),\n",
       " ('617', 12.294407894736842),\n",
       " ('618', 17.67676767676768),\n",
       " ('619', 17.395833333333332),\n",
       " ('620', 13.427083333333334),\n",
       " ('622', 15.3125),\n",
       " ('624', 17.733850373593114),\n",
       " ('625', 16.736842105263158),\n",
       " ('626', 17.420891459680163),\n",
       " ('627', 15.073529411764707),\n",
       " ('632', 18.63095238095238),\n",
       " ('636', 12.5),\n",
       " ('638', 17.485714285714284),\n",
       " ('639', 13.846153846153847),\n",
       " ('646', 11.02165995783017),\n",
       " ('647', 11.32632735764819),\n",
       " ('650', 10.794083709220603),\n",
       " ('651', 8.949599623174752),\n",
       " ('652', 13.354934757859708),\n",
       " ('653', 13.53125),\n",
       " ('655', 18.26325411334552),\n",
       " ('661', 13.72718539865514),\n",
       " ('663', 10.925925925925926),\n",
       " ('665', 9.814814814814815),\n",
       " ('666', 7.268518518518518),\n",
       " ('669', 14.173913043478262),\n",
       " ('670', 17.1777033410633),\n",
       " ('672', 12.913717237421082),\n",
       " ('673', 17.56198347107438),\n",
       " ('678', 15.935019841269842),\n",
       " ('680', 19.166666666666668),\n",
       " ('681', 17.41496598639456),\n",
       " ('684', 17.25),\n",
       " ('686', 12.36111111111111),\n",
       " ('687', 16.741071428571427),\n",
       " ('688', 19.121532364597094),\n",
       " ('689', 16.852626685262667),\n",
       " ('692', 29.11392405063291),\n",
       " ('693', 10.53639846743295),\n",
       " ('696', 11.625874125874127),\n",
       " ('701', 12.396748393863904),\n",
       " ('702', 16.390205371248026),\n",
       " ('704', 10.163805012828103),\n",
       " ('706', 21.583333333333332),\n",
       " ('708', 10.804970286331713),\n",
       " ('709', 7.594936708860759),\n",
       " ('710', 6.39662447257384),\n",
       " ('711', 15.784923928077456),\n",
       " ('713', 25.359066427289047),\n",
       " ('714', 9.114583333333334),\n",
       " ('719', 33.05555555555556),\n",
       " ('726', 15.072016460905349),\n",
       " ('728', 4.6848381601362865),\n",
       " ('729', 10.451739618406284),\n",
       " ('730', 22.52456538170824),\n",
       " ('731', 28.22136563876652),\n",
       " ('732', 27.620967741935484),\n",
       " ('734', 21.333333333333332),\n",
       " ('735', 22.483333333333334),\n",
       " ('739', 19.833333333333332),\n",
       " ('740', 14.46968600781363),\n",
       " ('741', 23.12091503267974),\n",
       " ('746', 24.50980392156863),\n",
       " ('748', 18.043405114401075),\n",
       " ('749', 14.674960574732784),\n",
       " ('750', 19.14998764516926),\n",
       " ('751', 62.0),\n",
       " ('753', 18.840579710144926),\n",
       " ('754', 20.833333333333332),\n",
       " ('755', 21.669575334496802),\n",
       " ('758', 16.660970608339028),\n",
       " ('759', 26.162790697674417),\n",
       " ('761', 11.24031007751938),\n",
       " ('764', 16.574074074074073),\n",
       " ('765', 15.160709206409406),\n",
       " ('766', 6.087824351297405),\n",
       " ('768', 6.441717791411043),\n",
       " ('769', 13.580630141238553),\n",
       " ('773', 16.666666666666668),\n",
       " ('774', 18.704766658347893),\n",
       " ('775', 18.60176503033646),\n",
       " ('776', 15.675057208237986),\n",
       " ('777', 11.96625344352617),\n",
       " ('781', 7.1),\n",
       " ('784', 7.8763127187864646),\n",
       " ('785', 6.684491978609626),\n",
       " ('788', 7.803006076111289),\n",
       " ('789', 12.937595129375952),\n",
       " ('793', 12.098501070663811),\n",
       " ('794', 16.801075268817204),\n",
       " ('795', 7.304347826086956),\n",
       " ('798', 11.589403973509933),\n",
       " ('800', 15.0306179254036),\n",
       " ('803', 18.516752928357395),\n",
       " ('804', 22.86143608457658),\n",
       " ('807', 4.962121212121212),\n",
       " ('808', 16.951268167569108),\n",
       " ('809', 21.849102308349956),\n",
       " ('810', 21.086206896551722),\n",
       " ('811', 16.936164149330292),\n",
       " ('817', 33.94634084897342),\n",
       " ('818', 33.7888665997994),\n",
       " ('821', 28.89624486602777),\n",
       " ('822', 30.69526627218935),\n",
       " ('826', 20.04529061477816),\n",
       " ('827', 24.96029044701611),\n",
       " ('828', 29.577048210588583),\n",
       " ('832', 14.854885797698781),\n",
       " ('836', 12.195121951219512),\n",
       " ('837', 14.656144306651635),\n",
       " ('838', 15.007130818099313),\n",
       " ('841', 13.352979095681002),\n",
       " ('842', 17.09613478691774),\n",
       " ('843', 19.028846153846153),\n",
       " ('844', 19.738751814223512),\n",
       " ('845', 21.293113008761228),\n",
       " ('847', 21.824286513710128),\n",
       " ('848', 23.144371941272432),\n",
       " ('850', 11.489100399140312),\n",
       " ('851', 18.903063599962753),\n",
       " ('855', 19.41007194244604),\n",
       " ('856', 17.102272727272727),\n",
       " ('858', 15.453370665517983),\n",
       " ('859', 8.600141725181988),\n",
       " ('860', 17.083333333333332),\n",
       " ('861', 18.59722222222222),\n",
       " ('863', 21.43347050754458),\n",
       " ('864', 20.654288957353657),\n",
       " ('865', 19.9780368305457),\n",
       " ('866', 22.002524190155658),\n",
       " ('867', 28.32579185520362),\n",
       " ('869', 18.755555555555556),\n",
       " ('870', 13.968253968253968),\n",
       " ('871', 17.083228141041825),\n",
       " ('872', 21.866687529338133),\n",
       " ('874', 23.413333333333334),\n",
       " ('876', 19.560439560439562),\n",
       " ('877', 21.846153846153847),\n",
       " ('878', 32.468996617812856),\n",
       " ('879', 31.567080045095828),\n",
       " ('882', 22.387180393543066),\n",
       " ('884', 15.358207606829886),\n",
       " ('888', 27.18805643062594),\n",
       " ('890', 11.889159333458155),\n",
       " ('891', 17.36111111111111),\n",
       " ('892', 24.08550353755833),\n",
       " ('893', 39.59183673469388),\n",
       " ('895', 13.260530421216849),\n",
       " ('896', 10.198011387779383),\n",
       " ('899', 8.034489515970998),\n",
       " ('903', 8.903998704872915),\n",
       " ('904', 14.856307842182172),\n",
       " ('905', 10.638297872340425),\n",
       " ('906', 25.396825396825395),\n",
       " ('907', 35.42977777777778),\n",
       " ('908', 7.142857142857143),\n",
       " ('909', 14.090909090909092),\n",
       " ('910', 12.418836285696274),\n",
       " ('911', 18.398458033993343),\n",
       " ('913', 17.20317238161885),\n",
       " ('916', 23.418893887271764),\n",
       " ('917', 23.045136681500317),\n",
       " ('918', 19.14744933612858),\n",
       " ('919', 21.432496794284667),\n",
       " ('921', 23.666666666666668),\n",
       " ('923', 10.55858310626703),\n",
       " ('926', 25.16881522406384),\n",
       " ('928', 14.541666666666666),\n",
       " ('931', 11.321428571428571),\n",
       " ('937', 15.286249724406556),\n",
       " ('938', 17.900778541796896),\n",
       " ('940', 13.751169317118803),\n",
       " ('941', 14.203233256351039),\n",
       " ('944', 7.352941176470588),\n",
       " ('946', 2.645775941230487),\n",
       " ('951', 16.046153846153846),\n",
       " ('952', 18.482905982905983),\n",
       " ('954', 17.392178546295366),\n",
       " ('955', 13.730803974706413),\n",
       " ('958', 24.46115676849124),\n",
       " ('961', 21.8834266749637),\n",
       " ('963', 15.274504669634284),\n",
       " ('964', 20.733814412033745),\n",
       " ('965', 14.806852070185172),\n",
       " ('967', 18.5650322157912),\n",
       " ('968', 21.573864803780562),\n",
       " ('969', 33.64204860286551),\n",
       " ('974', 57.01754385964912),\n",
       " ('976', 56.3564875491481),\n",
       " ('977', 11.955465889561383),\n",
       " ('981', 17.154376381844195),\n",
       " ('983', 18.184814855510382),\n",
       " ('984', 12.75626423690205),\n",
       " ('985', 19.42886947450776),\n",
       " ('988', 19.961299521336183),\n",
       " ('989', 16.543941857129195)]"
      ]
     },
     "execution_count": 327,
     "metadata": {
      "tags": []
     },
     "output_type": "execute_result"
    }
   ],
   "source": [
    "#Aplicar Reduce By Key nos hace ahorrar código vemos que en otras celdas no se ha aplicado\n",
    "\n",
    "\n",
    "año2009 = casa_alfa.filter(lambda x: x[27] == '2009').map(lambda x: (x[0], (tofloat(x[28])/tofloat(x[3])))).reduceByKey(lambda a,b:a + b)\n",
    "año2009.collect()"
   ]
  },
  {
   "cell_type": "code",
   "execution_count": 328,
   "metadata": {
    "colab": {
     "base_uri": "https://localhost:8080/"
    },
    "id": "F-09nw0JvWjN",
    "outputId": "2c9b5ab8-a6e5-4a36-d582-e7f8d5354d16"
   },
   "outputs": [
    {
     "data": {
      "text/plain": [
       "('566', 97.48263888888889)"
      ]
     },
     "execution_count": 328,
     "metadata": {
      "tags": []
     },
     "output_type": "execute_result"
    }
   ],
   "source": [
    "#De los registros analizados el que mayor precio tiene por metro cuadrado es el 568 \n",
    "\n",
    "año2009.max(lambda x: x[1])"
   ]
  },
  {
   "cell_type": "code",
   "execution_count": 329,
   "metadata": {
    "colab": {
     "base_uri": "https://localhost:8080/"
    },
    "id": "J5h7d93GvWfm",
    "outputId": "3c50ee9a-6939-4337-ba90-341fdd17971e"
   },
   "outputs": [
    {
     "name": "stdout",
     "output_type": "stream",
     "text": [
      "Los registros mas caros ordenados de manera descendente son [('566', 97.48263888888889), ('936', 95.38461538461539), ('934', 92.06989247311827), ('464', 76.27865961199295), ('935', 75.06203473945409), ('408', 71.13095238095238), ('407', 70.23809523809524), ('405', 66.66666666666667), ('933', 66.35891517599538), ('403', 66.07142857142857)]\n"
     ]
    }
   ],
   "source": [
    "datos_de_max = año2009.sortBy(lambda x: tofloat(x[1]), ascending = False) \n",
    "print('Los registros mas caros ordenados de manera descendente son', datos_de_max.take(10))"
   ]
  },
  {
   "cell_type": "markdown",
   "metadata": {
    "id": "hXFJwZHpwMQc"
   },
   "source": [
    "## Media anual por zonas del precio de venta y metros cuadrados"
   ]
  },
  {
   "cell_type": "markdown",
   "metadata": {
    "id": "RYTL5-eaU8Vk"
   },
   "source": [
    "Aquí empleamos el reducebykey para hacerlo por claves en funcion del numero que queramos recuperar del rdd ya que ahorramos muchas lineas de código"
   ]
  },
  {
   "cell_type": "code",
   "execution_count": 330,
   "metadata": {
    "colab": {
     "base_uri": "https://localhost:8080/"
    },
    "id": "53FPPOH70jwq",
    "outputId": "53664588-7781-444f-94f1-c605a5d42dd7"
   },
   "outputs": [
    {
     "data": {
      "text/plain": [
       "[('1978', 112000.0, 8930.0),\n",
       " ('1920', 113161.29032258065, 6772.129032258064),\n",
       " ('1927', 123333.33333333333, 7197.166666666667),\n",
       " ('1957', 136050.0, 7068.0),\n",
       " ('1940', 118778.54545454546, 6859.363636363636),\n",
       " ('1938', 125466.66666666667, 6520.0),\n",
       " ('1948', 132111.11111111112, 8596.666666666666),\n",
       " ('1928', 138633.33333333334, 8120.0),\n",
       " ('1890', 160680.0, 9066.8),\n",
       " ('1925', 113547.22222222222, 7013.555555555556)]"
      ]
     },
     "execution_count": 330,
     "metadata": {
      "tags": []
     },
     "output_type": "execute_result"
    }
   ],
   "source": [
    "pvZonaRL = zonaRL.map(lambda x: (x[7], [tofloat(x[28]), tofloat(x[3]), 1]))\n",
    "pvZonaRL = pmRL.reduceByKey(lambda x,y: [x[0]+y[0], x[1]+y[1], x[2]+y[2]]).map(lambda x: (x[0], x[1][0]/x[1][2], x[1][1]/x[1][2]))\n",
    "pvZonaRL.take(10)"
   ]
  },
  {
   "cell_type": "code",
   "execution_count": 331,
   "metadata": {
    "colab": {
     "base_uri": "https://localhost:8080/"
    },
    "id": "ULRDqW7e0jnk",
    "outputId": "e2f68160-ee15-47e3-cb8c-8ac217e6eb20"
   },
   "outputs": [
    {
     "data": {
      "text/plain": [
       "[('1978', 112000.0, 8930.0),\n",
       " ('1920', 113161.29032258065, 6772.129032258064),\n",
       " ('1927', 123333.33333333333, 7197.166666666667),\n",
       " ('1957', 136050.0, 7068.0),\n",
       " ('1940', 118778.54545454546, 6859.363636363636),\n",
       " ('1938', 125466.66666666667, 6520.0),\n",
       " ('1948', 132111.11111111112, 8596.666666666666),\n",
       " ('1928', 138633.33333333334, 8120.0),\n",
       " ('1890', 160680.0, 9066.8),\n",
       " ('1925', 113547.22222222222, 7013.555555555556)]"
      ]
     },
     "execution_count": 331,
     "metadata": {
      "tags": []
     },
     "output_type": "execute_result"
    }
   ],
   "source": [
    "pvZonaRM = zonaRM.map(lambda x: (x[7], [tofloat(x[28]), tofloat(x[3]), 1]))\n",
    "pvZonaRM = pvZonaRM.reduceByKey(lambda x,y: [x[0]+y[0], x[1]+y[1], x[2]+y[2]]).map(lambda x: (x[0], x[1][0]/x[1][2], x[1][1]/x[1][2]))\n",
    "pvZonaRM.take(10)"
   ]
  },
  {
   "cell_type": "code",
   "execution_count": 332,
   "metadata": {
    "colab": {
     "base_uri": "https://localhost:8080/"
    },
    "id": "RQPkssg0S03t",
    "outputId": "bc5ab087-967f-4f0e-a0bc-8a7b2885b2d3"
   },
   "outputs": [
    {
     "data": {
      "text/plain": [
       "[('1920', 67500.0, 9800.0),\n",
       " ('1928', 76000.0, 9000.0),\n",
       " ('1925', 121800.0, 9392.0),\n",
       " ('1938', 160000.0, 6300.0),\n",
       " ('1911', 130000.0, 8525.0),\n",
       " ('1977', 144000.0, 8400.0),\n",
       " ('1949', 145000.0, 6270.0),\n",
       " ('2002', 190000.0, 8773.0),\n",
       " ('1993', 137000.0, 3612.0),\n",
       " ('1961', 105000.0, 11622.0)]"
      ]
     },
     "execution_count": 332,
     "metadata": {
      "tags": []
     },
     "output_type": "execute_result"
    }
   ],
   "source": [
    "pvZonaRH = zonaRH.map(lambda x: (x[7], [tofloat(x[28]), tofloat(x[3]), 1]))\n",
    "pvZonaRH = pvZonaRH.reduceByKey(lambda x,y: [x[0]+y[0], x[1]+y[1], x[2]+y[2]]).map(lambda x: (x[0], x[1][0]/x[1][2], x[1][1]/x[1][2]))\n",
    "pvZonaRH.take(10)"
   ]
  },
  {
   "cell_type": "markdown",
   "metadata": {
    "id": "MMaxQ3-xwXnR"
   },
   "source": [
    "## ¿Podrías decirme el total de recaudación de las casas de revistimiento (Mas Vnr Type) de piedra con respecto a las de ladrillo? ¿Hay diferencia significativa"
   ]
  },
  {
   "cell_type": "code",
   "execution_count": 333,
   "metadata": {
    "id": "k7ec67-lvWQt"
   },
   "outputs": [],
   "source": [
    "ladrillo = casa_alfa.filter(lambda x: x[9] == 'BrkCmn').map(lambda x: (x[0], x[9], x[28]))\n",
    "Stones  = casa_alfa.filter(lambda x: x[9] == 'Stone').map(lambda x: (x[0], x[9], x[28]))"
   ]
  },
  {
   "cell_type": "code",
   "execution_count": 334,
   "metadata": {
    "colab": {
     "base_uri": "https://localhost:8080/"
    },
    "id": "Q1Oky64fvWNJ",
    "outputId": "19aca6e4-9ac3-424f-e2ec-d95a9210eca4"
   },
   "outputs": [
    {
     "name": "stdout",
     "output_type": "stream",
     "text": [
      "el precio medio de las viviendas de ladrillo es de 3504975.0\n"
     ]
    }
   ],
   "source": [
    "precioladrillo = ladrillo.map(lambda x: tofloat(x[2])).sum()\n",
    "print('el precio medio de las viviendas de ladrillo es de', precioladrillo)"
   ]
  },
  {
   "cell_type": "code",
   "execution_count": 335,
   "metadata": {
    "colab": {
     "base_uri": "https://localhost:8080/"
    },
    "id": "lXohifOXvWJt",
    "outputId": "cc2c63f4-4466-4034-9d0d-7db1c114f11f"
   },
   "outputs": [
    {
     "name": "stdout",
     "output_type": "stream",
     "text": [
      "el precio medio de las viviendas de piedra es de 65196277.0 la diferencia entre estas últimas es considerable ya que el monto difiere en más de 60 millones de Euros\n"
     ]
    }
   ],
   "source": [
    "preciostone = Stones.map(lambda x: tofloat(x[2])).sum()\n",
    "print('el precio medio de las viviendas de piedra es de', preciostone, 'la diferencia entre estas últimas es considerable ya que el monto difiere en más de 60 millones de Euros')"
   ]
  },
  {
   "cell_type": "code",
   "execution_count": null,
   "metadata": {
    "id": "dEjlq8PYvWGN"
   },
   "outputs": [],
   "source": [
    "#la diferencia proviene de el volumen de venta 25 de ladrillo frente a 250 de piedra, aun así el precio medio de venta de ladrillo es de 140 mil Euros\n",
    "#frente a 260 mil Euros"
   ]
  },
  {
   "cell_type": "markdown",
   "metadata": {
    "id": "LBITxvfYw1ye"
   },
   "source": [
    "## ¿Cuánto son más caras las viviendas con 2 cocinas, con 2 o más plazas de garaje que las que tienen 1 cocina y 1 plaza de garaje? Comparar medias y cuartiles de ambos casos"
   ]
  },
  {
   "cell_type": "code",
   "execution_count": 336,
   "metadata": {
    "colab": {
     "base_uri": "https://localhost:8080/"
    },
    "id": "JBGsSi2zvWCs",
    "outputId": "2e538cec-9a4c-4057-ba16-c9c571afb628"
   },
   "outputs": [
    {
     "name": "stdout",
     "output_type": "stream",
     "text": [
      "El precio medio de las casa con dos cocinas y mas de dos plazas de garaje es de 180611.11111111112 Euros\n"
     ]
    }
   ],
   "source": [
    "dos_masdedos = casa_alfa.filter(lambda x: x[18] == '2' and x[21] > '2').map(lambda x: (x[0], x[18], x[21], x[28]))\n",
    "print('El precio medio de las casa con dos cocinas y mas de dos plazas de garaje es de',dos_masdedos.map(lambda x: tofloat(x[3])).mean(), 'Euros')\n"
   ]
  },
  {
   "cell_type": "code",
   "execution_count": 337,
   "metadata": {
    "colab": {
     "base_uri": "https://localhost:8080/"
    },
    "id": "NP0_k1twvV_H",
    "outputId": "36d338cb-4306-4a42-b63d-0372b32ce9d0"
   },
   "outputs": [
    {
     "name": "stdout",
     "output_type": "stream",
     "text": [
      "El precio medio de las casa con una cocina y una plaza de garaje es de 127367.04161248378 Euros\n"
     ]
    }
   ],
   "source": [
    "uno_y_uno = casa_alfa.filter(lambda x: x[18] == '1' and x[21] == '1').map(lambda x: (x[0], x[18], x[21], x[28]))\n",
    "print('El precio medio de las casa con una cocina y una plaza de garaje es de', uno_y_uno.map(lambda x: tofloat(x[3])).mean(), 'Euros')"
   ]
  },
  {
   "cell_type": "code",
   "execution_count": null,
   "metadata": {
    "id": "4Ij4AeGjvV8z"
   },
   "outputs": [],
   "source": []
  },
  {
   "cell_type": "code",
   "execution_count": null,
   "metadata": {
    "id": "QCiT0TGjvV5e"
   },
   "outputs": [],
   "source": []
  },
  {
   "cell_type": "code",
   "execution_count": null,
   "metadata": {
    "id": "QuJ-vGoavV3G"
   },
   "outputs": [],
   "source": []
  },
  {
   "cell_type": "code",
   "execution_count": null,
   "metadata": {
    "id": "4vVdliitvVzY"
   },
   "outputs": [],
   "source": []
  },
  {
   "cell_type": "code",
   "execution_count": null,
   "metadata": {
    "id": "PNslUcoXvVvy"
   },
   "outputs": [],
   "source": []
  },
  {
   "cell_type": "code",
   "execution_count": null,
   "metadata": {
    "id": "A9ZWdohnvVtu"
   },
   "outputs": [],
   "source": []
  },
  {
   "cell_type": "code",
   "execution_count": null,
   "metadata": {
    "id": "Y10SwUu5vVrX"
   },
   "outputs": [],
   "source": []
  },
  {
   "cell_type": "code",
   "execution_count": null,
   "metadata": {
    "id": "qWjZCvBgvVnv"
   },
   "outputs": [],
   "source": []
  },
  {
   "cell_type": "code",
   "execution_count": null,
   "metadata": {
    "id": "Wc3vuM_jvVll"
   },
   "outputs": [],
   "source": []
  },
  {
   "cell_type": "code",
   "execution_count": null,
   "metadata": {
    "id": "odrSjw8IvVcW"
   },
   "outputs": [],
   "source": []
  },
  {
   "cell_type": "code",
   "execution_count": null,
   "metadata": {
    "id": "-ieLmIfvvVYf"
   },
   "outputs": [],
   "source": []
  },
  {
   "cell_type": "code",
   "execution_count": null,
   "metadata": {
    "id": "0dOoramLvVUW"
   },
   "outputs": [],
   "source": []
  },
  {
   "cell_type": "code",
   "execution_count": null,
   "metadata": {
    "id": "ym9PpcxrvVRG"
   },
   "outputs": [],
   "source": []
  },
  {
   "cell_type": "code",
   "execution_count": null,
   "metadata": {
    "id": "l-ZQdvXjvVNl"
   },
   "outputs": [],
   "source": []
  },
  {
   "cell_type": "code",
   "execution_count": null,
   "metadata": {
    "id": "XFiEeId9vVKS"
   },
   "outputs": [],
   "source": []
  },
  {
   "cell_type": "code",
   "execution_count": null,
   "metadata": {
    "id": "OU9Albp7vVHI"
   },
   "outputs": [],
   "source": []
  },
  {
   "cell_type": "code",
   "execution_count": null,
   "metadata": {
    "id": "x-SQgxVVvVFA"
   },
   "outputs": [],
   "source": []
  },
  {
   "cell_type": "code",
   "execution_count": null,
   "metadata": {
    "id": "BXa8TO4QvVBQ"
   },
   "outputs": [],
   "source": []
  },
  {
   "cell_type": "code",
   "execution_count": null,
   "metadata": {
    "id": "KFJGL6mLvU9J"
   },
   "outputs": [],
   "source": []
  },
  {
   "cell_type": "code",
   "execution_count": null,
   "metadata": {
    "id": "86ah44DuvU2P"
   },
   "outputs": [],
   "source": []
  },
  {
   "cell_type": "code",
   "execution_count": null,
   "metadata": {
    "id": "yOOD9Bb6vUxZ"
   },
   "outputs": [],
   "source": []
  },
  {
   "cell_type": "code",
   "execution_count": null,
   "metadata": {
    "id": "BJa3rOW_vUuC"
   },
   "outputs": [],
   "source": []
  },
  {
   "cell_type": "code",
   "execution_count": null,
   "metadata": {
    "id": "qLC2I3rlvUpY"
   },
   "outputs": [],
   "source": []
  },
  {
   "cell_type": "code",
   "execution_count": null,
   "metadata": {
    "id": "a6kIouHXvUlV"
   },
   "outputs": [],
   "source": []
  },
  {
   "cell_type": "code",
   "execution_count": null,
   "metadata": {
    "id": "_kEjwFVmvUhx"
   },
   "outputs": [],
   "source": []
  },
  {
   "cell_type": "code",
   "execution_count": null,
   "metadata": {
    "id": "gTgBUVtHvUev"
   },
   "outputs": [],
   "source": []
  },
  {
   "cell_type": "code",
   "execution_count": null,
   "metadata": {
    "id": "L0vLWGdjvUay"
   },
   "outputs": [],
   "source": []
  },
  {
   "cell_type": "code",
   "execution_count": null,
   "metadata": {
    "id": "bI6QrRvCvUWS"
   },
   "outputs": [],
   "source": []
  },
  {
   "cell_type": "code",
   "execution_count": null,
   "metadata": {
    "id": "_9u7FEi8vUTK"
   },
   "outputs": [],
   "source": []
  },
  {
   "cell_type": "code",
   "execution_count": null,
   "metadata": {
    "id": "X7ewg7q1vUPY"
   },
   "outputs": [],
   "source": []
  },
  {
   "cell_type": "code",
   "execution_count": null,
   "metadata": {
    "id": "UV1mFe2RvUL3"
   },
   "outputs": [],
   "source": []
  },
  {
   "cell_type": "code",
   "execution_count": null,
   "metadata": {
    "id": "9wttRepCvUAy"
   },
   "outputs": [],
   "source": []
  },
  {
   "cell_type": "code",
   "execution_count": null,
   "metadata": {
    "id": "_jie5pUEvT69"
   },
   "outputs": [],
   "source": []
  },
  {
   "cell_type": "code",
   "execution_count": null,
   "metadata": {
    "id": "5u2tpxHgvT3C"
   },
   "outputs": [],
   "source": []
  },
  {
   "cell_type": "code",
   "execution_count": null,
   "metadata": {
    "id": "anIicoqdvTzZ"
   },
   "outputs": [],
   "source": []
  },
  {
   "cell_type": "code",
   "execution_count": null,
   "metadata": {
    "id": "VH-8B-dEvTv7"
   },
   "outputs": [],
   "source": []
  },
  {
   "cell_type": "code",
   "execution_count": null,
   "metadata": {
    "id": "VcXumjNzvTte"
   },
   "outputs": [],
   "source": []
  },
  {
   "cell_type": "code",
   "execution_count": null,
   "metadata": {
    "id": "AsVbS0jvvToL"
   },
   "outputs": [],
   "source": []
  },
  {
   "cell_type": "code",
   "execution_count": null,
   "metadata": {
    "id": "CNhsaaR9vTkw"
   },
   "outputs": [],
   "source": []
  },
  {
   "cell_type": "code",
   "execution_count": null,
   "metadata": {
    "id": "UPe3PGdsvTe2"
   },
   "outputs": [],
   "source": []
  },
  {
   "cell_type": "code",
   "execution_count": null,
   "metadata": {
    "id": "l-SYlZDtvTaV"
   },
   "outputs": [],
   "source": []
  },
  {
   "cell_type": "code",
   "execution_count": null,
   "metadata": {
    "id": "HJsEeFhsvTXu"
   },
   "outputs": [],
   "source": []
  },
  {
   "cell_type": "code",
   "execution_count": null,
   "metadata": {
    "id": "hDJamHEdvTU0"
   },
   "outputs": [],
   "source": []
  },
  {
   "cell_type": "code",
   "execution_count": null,
   "metadata": {
    "id": "i7_a2J58vTPg"
   },
   "outputs": [],
   "source": []
  },
  {
   "cell_type": "code",
   "execution_count": null,
   "metadata": {
    "id": "PcRTpO8jvTMV"
   },
   "outputs": [],
   "source": []
  },
  {
   "cell_type": "code",
   "execution_count": null,
   "metadata": {
    "id": "qb9blHJhvTJk"
   },
   "outputs": [],
   "source": []
  },
  {
   "cell_type": "code",
   "execution_count": null,
   "metadata": {
    "id": "jzx7rOFWvTEf"
   },
   "outputs": [],
   "source": []
  },
  {
   "cell_type": "code",
   "execution_count": null,
   "metadata": {
    "id": "Lm2dR3mlvS_-"
   },
   "outputs": [],
   "source": []
  }
 ],
 "metadata": {
  "colab": {
   "collapsed_sections": [],
   "name": "Ej_Examen_ETL.ipynb",
   "provenance": []
  },
  "kernelspec": {
   "display_name": "Python 3",
   "language": "python",
   "name": "python3"
  },
  "language_info": {
   "codemirror_mode": {
    "name": "ipython",
    "version": 3
   },
   "file_extension": ".py",
   "mimetype": "text/x-python",
   "name": "python",
   "nbconvert_exporter": "python",
   "pygments_lexer": "ipython3",
   "version": "3.8.3"
  }
 },
 "nbformat": 4,
 "nbformat_minor": 1
}
