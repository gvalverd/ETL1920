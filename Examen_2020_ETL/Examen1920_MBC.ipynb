{
 "cells": [
  {
   "cell_type": "markdown",
   "metadata": {
    "id": "QlZYhpoDBxTK"
   },
   "source": [
    "<div align = 'center'>\n",
    "\n",
    "# __MARCOS BARRAGÁN CORREDERA__\n",
    "\n",
    "## Práctica: Examen 2019\n",
    "\n",
    "### ETL\n",
    "\n",
    "<div align = 'right'>\n",
    "<font color = 'orange'>\n",
    "CUNEF"
   ]
  },
  {
   "cell_type": "markdown",
   "metadata": {
    "id": "m7k6_jQAY6g-"
   },
   "source": [
    "## 1. The World Bank's international debt data\n",
    "<p>No es que los humanos solo tengamos deudas para administrar nuestras necesidades. Un país también puede endeudarse para administrar su economía. Por ejemplo, el gasto en infraestructura es un ingrediente costoso requerido para que los ciudadanos de un país lleven una vida cómoda. El Banco Mundial es la organización que proporciona deuda a los países.</p>\n",
    "\n",
    "<!-- <p>En este notebook, vamos a analizar los datos de la deuda internacional recopilados por el Banco Mundial. El conjunto de datos contiene información sobre el monto de la deuda (en USD) que deben los países en desarrollo en varias categorías.</p>  -->\n",
    "    "
   ]
  },
  {
   "cell_type": "markdown",
   "metadata": {
    "id": "NErIBIsOY6hD"
   },
   "source": [
    "\"Disbursements on external debt, long-term (DIS, current US$)\",DT.DIS.DLXF.CD\n",
    "\n",
    "\"Interest payments on external debt, long-term (INT, current US$)\",DT.INT.DLXF.CD\n",
    "\n",
    "\"PPG, bilateral (AMT, current US$)\",DT.AMT.BLAT.CD\n",
    "\n",
    "\"PPG, bilateral (DIS, current US$)\",DT.DIS.BLAT.CD\n",
    "\n",
    "\"PPG, bilateral (INT, current US$)\",DT.INT.BLAT.CD\n",
    "\n",
    "\"PPG, multilateral (AMT, current US$)\",DT.AMT.MLAT.CD\n",
    "\n",
    "\"PPG, multilateral (DIS, current US$)\",DT.DIS.MLAT.CD\n",
    "\n",
    "\"PPG, multilateral (INT, current US$)\",DT.INT.MLAT.CD\n",
    "\n",
    "\"PPG, official creditors (AMT, current US$)\",DT.AMT.OFFT.CD\n",
    "\n",
    "\"PPG, official creditors (DIS, current US$)\",DT.DIS.OFFT.CD\n",
    "\n",
    "\"PPG, official creditors (INT, current US$)\",DT.INT.OFFT.CD\n",
    "\n",
    "\"Principal repayments on external debt, long-term (AMT, current US$)\",DT.AMT.DLXF.CD\n",
    "\n",
    "\"Interest payments on external debt, private nonguaranteed (PNG) (INT, current US$)\",DT.INT.DPNG.CD\n",
    "\n",
    "\"PPG, bonds (AMT, current US$)\",DT.AMT.PBND.CD\n",
    "\n",
    "\"PPG, bonds (INT, current US$)\",DT.INT.PBND.CD\n",
    "\n",
    "\"PPG, commercial banks (AMT, current US$)\",DT.AMT.PCBK.CD\n",
    "\n",
    "\"PPG, commercial banks (DIS, current US$)\",DT.DIS.PCBK.CD\n",
    "\n",
    "\"PPG, commercial banks (INT, current US$)\",DT.INT.PCBK.CD\n",
    "\n",
    "\"PPG, other private creditors (AMT, current US$)\",DT.AMT.PROP.CD\n",
    "\n",
    "\"PPG, other private creditors (DIS, current US$)\",DT.DIS.PROP.CD\n",
    "\n",
    "\"PPG, other private creditors (INT, current US$)\",DT.INT.PROP.CD\n",
    "\n",
    "\"PPG, private creditors (AMT, current US$)\",DT.AMT.PRVT.CD\n",
    "\n",
    "\"PPG, private creditors (DIS, current US$)\",DT.DIS.PRVT.CD\n",
    "\n",
    "\"PPG, private creditors (INT, current US$)\",DT.INT.PRVT.CD\n",
    "\n",
    "\"Principal repayments on external debt, private nonguaranteed (PNG) (AMT, current US$)\",DT.AMT.DPNG.CD"
   ]
  },
  {
   "cell_type": "markdown",
   "metadata": {
    "id": "4SxFd6sgY6hE"
   },
   "source": [
    "Series Name,Series Code\n",
    "\"Birth rate, crude (per 1,000 people)\",SP.DYN.CBRT.IN\n",
    "\n",
    "\"Central government debt, total (current LCU)\",GC.DOD.TOTL.CN\n",
    "\n",
    "\"Central government debt, total (% of GDP)\",GC.DOD.TOTL.GD.ZS"
   ]
  },
  {
   "cell_type": "markdown",
   "metadata": {
    "id": "pBddN2AmY6hE"
   },
   "source": [
    "### __1. Inicializar y cargar el contexto spark__"
   ]
  },
  {
   "cell_type": "code",
   "execution_count": 1,
   "metadata": {
    "id": "QIO2BlPGbF04"
   },
   "outputs": [],
   "source": [
    "!apt-get install openjdk-8-jdk-headless -qq > /dev/null\n",
    "!wget -q https://www-us.apache.org/dist/spark/spark-2.4.7/spark-2.4.7-bin-hadoop2.7.tgz\n",
    "!tar xf spark-2.4.7-bin-hadoop2.7.tgz\n",
    "!pip install -q findspark"
   ]
  },
  {
   "cell_type": "code",
   "execution_count": 2,
   "metadata": {
    "id": "cIIbMayRarCp"
   },
   "outputs": [],
   "source": [
    "import os\n",
    "os.environ[\"JAVA_HOME\"] = \"/usr/lib/jvm/java-8-openjdk-amd64\"\n",
    "os.environ[\"SPARK_HOME\"] = \"/content/spark-2.4.7-bin-hadoop2.7\""
   ]
  },
  {
   "cell_type": "code",
   "execution_count": 3,
   "metadata": {
    "id": "PkZn87qZZnVW"
   },
   "outputs": [],
   "source": [
    "import findspark \n",
    "findspark.init()\n",
    "from pyspark import SparkContext\n",
    "sc = SparkContext.getOrCreate()\n",
    "from pyspark.sql import SparkSession\n",
    "spark = SparkSession.builder.master(\"local[*]\").getOrCreate()"
   ]
  },
  {
   "cell_type": "markdown",
   "metadata": {
    "id": "Llhpyw0ycHpU"
   },
   "source": [
    "Abrimos los datos que tenemos que leer para la práctica:"
   ]
  },
  {
   "cell_type": "code",
   "execution_count": 52,
   "metadata": {
    "id": "_HHEmE3IsSM_"
   },
   "outputs": [],
   "source": [
    "from pyspark.sql import Row"
   ]
  },
  {
   "cell_type": "code",
   "execution_count": 53,
   "metadata": {
    "id": "SFqlGr2sZnNF"
   },
   "outputs": [],
   "source": [
    "data_file_1 = \"./indicadores_deuda.csv\"\n",
    "raw_data_1 = sc.textFile(data_file_1)\n",
    "data_file_2 = \"./indicadores_desarrollo.csv\"\n",
    "raw_data_2 = sc.textFile(data_file_2)\n",
    "data_file_3 = \"./explicacion_varDeu1920.csv\"\n",
    "raw_data_3 = sc.textFile(data_file_3)\n",
    "data_file_4 = \"./explicacion_var1920.csv\"\n",
    "raw_data_4 = sc.textFile(data_file_4)"
   ]
  },
  {
   "cell_type": "markdown",
   "metadata": {
    "id": "911Nlp5lfgez"
   },
   "source": [
    "Si observamos el comportamiento de las diferentes bases de datos:"
   ]
  },
  {
   "cell_type": "code",
   "execution_count": 154,
   "metadata": {
    "colab": {
     "base_uri": "https://localhost:8080/"
    },
    "id": "cQnB7OYHZm9h",
    "outputId": "824f42ce-82eb-4f2e-a6a3-c00d5e7692ac"
   },
   "outputs": [
    {
     "data": {
      "text/plain": [
       "['country_name,country_code,DT.AMT.BLAT.CD,DT.AMT.DLXF.CD,DT.AMT.DPNG.CD,DT.AMT.MLAT.CD,DT.AMT.OFFT.CD,DT.AMT.PBND.CD,DT.AMT.PCBK.CD,DT.AMT.PROP.CD,DT.AMT.PRVT.CD,DT.DIS.BLAT.CD,DT.DIS.DLXF.CD,DT.DIS.MLAT.CD,DT.DIS.OFFT.CD,DT.DIS.PCBK.CD,DT.DIS.PROP.CD,DT.DIS.PRVT.CD,DT.INT.BLAT.CD,DT.INT.DLXF.CD,DT.INT.DPNG.CD,DT.INT.MLAT.CD,DT.INT.OFFT.CD,DT.INT.PBND.CD,DT.INT.PCBK.CD,DT.INT.PROP.CD,DT.INT.PRVT.CD',\n",
       " 'Afghanistan,AFG,61739336.9,100847181.9,,39107845,100847181.9,,,,,49114729.4,72894453.7,23779724.3,72894453.7,,,,39903620.1,53239440.1,,13335820,53239440.1,,,,',\n",
       " 'Albania,ALB,54250280.6,790248675.2,514185620,182197616.7,236447897.3,0,39445139.5,170018.4,39615157.9,76050616.1,317194512.5,234321242.3,310371858.4,4542664.9,2279989.2,6822654.1,13847333.6,165602386.9,87884000,28101536.1,41948869.7,31030688.2,4618504.3,120324.7,35769517.2',\n",
       " 'Algeria,DZA,95188724.6,171185188.1,75420000,0,95188724.6,,576463.5,0,576463.5,10320772.2,10320772.2,,10320772.2,,,,7680627.6,19031728.7,3220000,8094779,15775406.6,,13192.3,23129.8,36322.1',\n",
       " 'Angola,AGO,8473824016.3,11067045628.1,,124688691.9,8598512708.2,1e+09,1125088719.9,343444200,2468532919.9,8838256901.1,10924018093.1,178989598.2,9017246499.3,1906771593.8,,1906771593.8,1005053965.1,1798550445.5,,47038476.1,1052092441.2,7e+07,580902004.3,95556000,746458004.3']"
      ]
     },
     "execution_count": 154,
     "metadata": {
      "tags": []
     },
     "output_type": "execute_result"
    }
   ],
   "source": [
    "raw_data_1.take(5)"
   ]
  },
  {
   "cell_type": "code",
   "execution_count": 6,
   "metadata": {
    "colab": {
     "base_uri": "https://localhost:8080/"
    },
    "id": "fTTzjEqHflMq",
    "outputId": "9fd6c5f2-6f32-4dbe-addc-597ce7df67fe"
   },
   "outputs": [
    {
     "data": {
      "text/plain": [
       "['country_name,country_code,anho,GC.DOD.TOTL.CN,GC.DOD.TOTL.GD.ZS,SP.DYN.CBRT.IN',\n",
       " 'Albania,ALB,2014 [YR2014],1023040800000,73.3202469198429,12.259',\n",
       " 'Albania,ALB,2015 [YR2015],1145500940000,79.8644448747259,12.197',\n",
       " 'Albania,ALB,2016 [YR2016],1188814490000,80.7355748396923,12.08',\n",
       " 'Australia,AUS,2014 [YR2014],674700000,0.042207528166503,13.2']"
      ]
     },
     "execution_count": 6,
     "metadata": {
      "tags": []
     },
     "output_type": "execute_result"
    }
   ],
   "source": [
    "raw_data_2.take(5)"
   ]
  },
  {
   "cell_type": "code",
   "execution_count": 7,
   "metadata": {
    "colab": {
     "base_uri": "https://localhost:8080/"
    },
    "id": "G1BxjQQRflUI",
    "outputId": "d6cbb16b-2a20-48a7-c813-7f644b6b906f"
   },
   "outputs": [
    {
     "data": {
      "text/plain": [
       "['indicator_name,indicator_code',\n",
       " '\"Disbursements on external debt, long-term (DIS, current US$)\",DT.DIS.DLXF.CD',\n",
       " '\"Interest payments on external debt, long-term (INT, current US$)\",DT.INT.DLXF.CD',\n",
       " '\"PPG, bilateral (AMT, current US$)\",DT.AMT.BLAT.CD',\n",
       " '\"PPG, bilateral (DIS, current US$)\",DT.DIS.BLAT.CD']"
      ]
     },
     "execution_count": 7,
     "metadata": {
      "tags": []
     },
     "output_type": "execute_result"
    }
   ],
   "source": [
    "raw_data_3.take(5)"
   ]
  },
  {
   "cell_type": "code",
   "execution_count": 8,
   "metadata": {
    "colab": {
     "base_uri": "https://localhost:8080/"
    },
    "id": "lhbfGy6pflcm",
    "outputId": "67331feb-10b7-4599-8178-1e45c3e30e3e"
   },
   "outputs": [
    {
     "data": {
      "text/plain": [
       "['Series Name,Series Code',\n",
       " '\"Birth rate, crude (per 1,000 people)\",SP.DYN.CBRT.IN',\n",
       " '\"Cause of death, by injury (% of total)\",SH.DTH.INJR.ZS',\n",
       " '\"Central government debt, total (current LCU)\",GC.DOD.TOTL.CN',\n",
       " '\"Central government debt, total (% of GDP)\",GC.DOD.TOTL.GD.ZS',\n",
       " '\"Total alcohol consumption per capita (liters of pure alcohol, projected estimates, 15+ years of age)\",SH.ALC.PCAP.LI',\n",
       " '\"Total alcohol consumption per capita, female (liters of pure alcohol, projected estimates, female 15+ years of age)\",SH.ALC.PCAP.FE.LI',\n",
       " '\"Total alcohol consumption per capita, male (liters of pure alcohol, projected estimates, male 15+ years of age)\",SH.ALC.PCAP.MA.LI']"
      ]
     },
     "execution_count": 8,
     "metadata": {
      "tags": []
     },
     "output_type": "execute_result"
    }
   ],
   "source": [
    "raw_data_4.take(8)"
   ]
  },
  {
   "cell_type": "markdown",
   "metadata": {
    "id": "SWH2fOG7hgyH"
   },
   "source": [
    "Para trabajar más cómodamente con los datos, debemos eliminar previamente la cabecera. Esto se puede hacer de varias maneras, pero la que utilicé yo será emplear la función _parallelize_. Esto es:\n",
    "\n",
    "\n",
    "\n"
   ]
  },
  {
   "cell_type": "code",
   "execution_count": 421,
   "metadata": {
    "id": "-foYReajiSXT"
   },
   "outputs": [],
   "source": [
    "cabecera_deuda = raw_data_1.first()\n",
    "cabecera_deuda_paralellize = sc.parallelize([cabecera_deuda])\n",
    "deuda = raw_data_1.subtract(cabecera_deuda_paralellize)"
   ]
  },
  {
   "cell_type": "code",
   "execution_count": 422,
   "metadata": {
    "id": "DhMMUFMvsccb"
   },
   "outputs": [],
   "source": [
    "datos_deuda = deuda.\\\n",
    "  map(lambda x: x.split(',')).\\\n",
    "  map(lambda x: Row(\n",
    "      nombre_pais = x[-0],\n",
    "      indicador_AMT_BLAT = (x[-25]),\n",
    "      indicador_AMT_DLXF = (x[-24]),\n",
    "      indicador_DIS_BLAT = (x[-16]),\n",
    "      indicador_INT_BLAT = (x[-9]),\n",
    "      indicador_AMT_MLAT = (x[-22])\n",
    "  ))"
   ]
  },
  {
   "cell_type": "code",
   "execution_count": 423,
   "metadata": {
    "colab": {
     "base_uri": "https://localhost:8080/"
    },
    "id": "6Pd8pWdxBpld",
    "outputId": "7726d8af-bd4e-4341-9a8c-f14ea55fec74"
   },
   "outputs": [
    {
     "data": {
      "text/plain": [
       "[Row(indicador_AMT_BLAT='8473824016.3', indicador_AMT_DLXF='11067045628.1', indicador_AMT_MLAT='124688691.9', indicador_DIS_BLAT='8838256901.1', indicador_INT_BLAT='1005053965.1', nombre_pais='Angola'),\n",
       " Row(indicador_AMT_BLAT='68968314.7', indicador_AMT_DLXF='845630723.8', indicador_AMT_MLAT='94331207.1', indicador_DIS_BLAT='174269846.7', indicador_INT_BLAT='24094832', nombre_pais='Armenia'),\n",
       " Row(indicador_AMT_BLAT='35764202.8', indicador_AMT_DLXF='1883205166.2', indicador_AMT_MLAT='228993019.8', indicador_DIS_BLAT='', indicador_INT_BLAT='6012379.2', nombre_pais='Bulgaria')]"
      ]
     },
     "execution_count": 423,
     "metadata": {
      "tags": []
     },
     "output_type": "execute_result"
    }
   ],
   "source": [
    "datos_deuda.take(3)"
   ]
  },
  {
   "cell_type": "code",
   "execution_count": 279,
   "metadata": {
    "id": "ZaJ1scNxtV_r"
   },
   "outputs": [],
   "source": [
    "def remove_nas(x):\n",
    "\n",
    "  if x == '':\n",
    "\n",
    "    return 0\n",
    "\n",
    "  else:\n",
    "\n",
    "    return float(x)\n",
    "\n",
    "datos_deuda = datos_deuda.map(lambda line: (line[-1], remove_nas(line[0]), remove_nas(line[1]), remove_nas(line[2]), remove_nas(line[3]), remove_nas(line[4])))"
   ]
  },
  {
   "cell_type": "markdown",
   "metadata": {
    "id": "e3jj8vygMX8G"
   },
   "source": [
    "El orden es: \n",
    "\n",
    "+ Posición [0]: País\n",
    "+ Posición [1]: AMT_BLAT\n",
    "+ Posición [2]: AMT_DLXF\n",
    "+ Posición [3]: AMT_MLAT\n",
    "+ Posición [4]: DIS_BLAT\n",
    "+ Posición [5]: INT_BLAT"
   ]
  },
  {
   "cell_type": "code",
   "execution_count": 348,
   "metadata": {
    "colab": {
     "base_uri": "https://localhost:8080/"
    },
    "id": "PipFPIgyikTY",
    "outputId": "a9b1a59e-47a4-4da5-b378-e96c356625bf"
   },
   "outputs": [
    {
     "data": {
      "text/plain": [
       "[('Angola',\n",
       "  8473824016.3,\n",
       "  11067045628.1,\n",
       "  124688691.9,\n",
       "  8838256901.1,\n",
       "  1005053965.1),\n",
       " ('Armenia', 68968314.7, 845630723.8, 94331207.1, 174269846.7, 24094832.0)]"
      ]
     },
     "execution_count": 348,
     "metadata": {
      "tags": []
     },
     "output_type": "execute_result"
    }
   ],
   "source": [
    "datos_deuda.take(2)"
   ]
  },
  {
   "cell_type": "markdown",
   "metadata": {
    "id": "KbiVLXCkk6pa"
   },
   "source": [
    "En el caso de __indicadores de desarrollo__ la cosa es más sencilla, pues no aparecen valores nulos, por lo que simplemente hay que separarlo por comas y escoger las columnas que queremos. \n",
    "\n",
    "Primero, como antes, eliminaré la cabecera:"
   ]
  },
  {
   "cell_type": "code",
   "execution_count": 12,
   "metadata": {
    "id": "NS0tu2T3k3yc"
   },
   "outputs": [],
   "source": [
    "cabecera_desarrollo = raw_data_2.first()\n",
    "cabecera_desarrollo_paralellize = sc.parallelize([cabecera_desarrollo])\n",
    "desarrollo = raw_data_2.subtract(cabecera_desarrollo_paralellize)"
   ]
  },
  {
   "cell_type": "code",
   "execution_count": 229,
   "metadata": {
    "colab": {
     "base_uri": "https://localhost:8080/"
    },
    "id": "bkfCrztgk38t",
    "outputId": "2f129a98-f208-46ef-a9ac-9afa3e77ade8"
   },
   "outputs": [
    {
     "data": {
      "text/plain": [
       "['Albania,ALB,2015 [YR2015],1145500940000,79.8644448747259,12.197',\n",
       " 'Australia,AUS,2014 [YR2014],674700000,0.042207528166503,13.2',\n",
       " 'Belarus,BLR,2015 [YR2015],33804450453.3197,37.5981780556757,12.5']"
      ]
     },
     "execution_count": 229,
     "metadata": {
      "tags": []
     },
     "output_type": "execute_result"
    }
   ],
   "source": [
    "desarrollo.take(3)"
   ]
  },
  {
   "cell_type": "markdown",
   "metadata": {
    "id": "cyHV6SQM0yue"
   },
   "source": [
    "Los datos de desarrollo hay que separarlos, igual que los anteriores, por comas. Una vez separados, procedo de forma similar a los de deuda."
   ]
  },
  {
   "cell_type": "code",
   "execution_count": 17,
   "metadata": {
    "id": "wVLE00lolZ5c"
   },
   "outputs": [],
   "source": [
    "datos_desarrollo = desarrollo.map(lambda x: x.split(\",\"))"
   ]
  },
  {
   "cell_type": "code",
   "execution_count": 18,
   "metadata": {
    "colab": {
     "base_uri": "https://localhost:8080/"
    },
    "id": "-y6WTgZulaFo",
    "outputId": "2f75520b-9a71-4a09-e806-c727109c4185"
   },
   "outputs": [
    {
     "data": {
      "text/plain": [
       "[['Albania',\n",
       "  'ALB',\n",
       "  '2015 [YR2015]',\n",
       "  '1145500940000',\n",
       "  '79.8644448747259',\n",
       "  '12.197'],\n",
       " ['Australia',\n",
       "  'AUS',\n",
       "  '2014 [YR2014]',\n",
       "  '674700000',\n",
       "  '0.042207528166503',\n",
       "  '13.2']]"
      ]
     },
     "execution_count": 18,
     "metadata": {
      "tags": []
     },
     "output_type": "execute_result"
    }
   ],
   "source": [
    "datos_desarrollo.take(2)"
   ]
  },
  {
   "cell_type": "markdown",
   "metadata": {
    "id": "aMyUDsDENNrQ"
   },
   "source": [
    "Realmente, para la práctica, solo vamos a necesitar los datos de nombre del país, años e indicadores. Ocurre lo mismo que antes: algunos países, al tener nombres más largos o posibles pseudónimos, puede que presenten ese valor en la columna 2, generando un desplazamiento de todas ellas hacia la derecha. Sin embargo, esto no ocurre ni con los años ni con los indicadores, que siempre ocupan una única posición. Por tanto, para evitar complicaciones en las definiciones de las transformaciones, tomaré los datos \"a la inversa\"; es decir,cogeré los datos como los \"- i-ésima posición\". Además, como sé (por estudio anterior) que no hay strings ni nulos en esta tabla, podré formatearlos directamente a tipo float a los distintos indicadores."
   ]
  },
  {
   "cell_type": "code",
   "execution_count": 241,
   "metadata": {
    "colab": {
     "base_uri": "https://localhost:8080/"
    },
    "id": "ulhphrUUNMvP",
    "outputId": "88cb5f07-960f-4c85-cef1-cbcd91190a42"
   },
   "outputs": [
    {
     "data": {
      "text/plain": [
       "[('Albania', '2015 [YR2015]', 1145500940000.0, 79.8644448747259, 12.197),\n",
       " ('Australia', '2014 [YR2014]', 674700000.0, 0.042207528166503, 13.2),\n",
       " ('Belarus', '2015 [YR2015]', 33804450453.3197, 37.5981780556757, 12.5)]"
      ]
     },
     "execution_count": 241,
     "metadata": {
      "tags": []
     },
     "output_type": "execute_result"
    }
   ],
   "source": [
    "datos_desarrollo = datos_desarrollo.map(lambda x: (x[0], x[-4], float(x[-3]), float(x[-2]), float(x[-1])))\n",
    "\n",
    "datos_desarrollo.take(3)"
   ]
  },
  {
   "cell_type": "markdown",
   "metadata": {
    "id": "Iw4o3LxDOnxn"
   },
   "source": [
    "El orden de _datos_desarrollo_ es: \n",
    "\n",
    "+ Posición [0]: País\n",
    "+ Posición [1]: Años\n",
    "+ Posición [2]: GC.DOD.TOTL.CN\n",
    "+ Posición [3]: GC.DOD.TOTL.GD.ZS\n",
    "+ Posición [4]: SP.DYN.CBRT.IN"
   ]
  },
  {
   "cell_type": "markdown",
   "metadata": {
    "id": "87jBEgWNY6hE"
   },
   "source": [
    "### __2. Número de países distintos en cada dataset. ¿Coinciden?__\n",
    "\n",
    "---\n",
    "\n"
   ]
  },
  {
   "cell_type": "markdown",
   "metadata": {
    "id": "QoLfE-4Mf9Xf"
   },
   "source": [
    "Las dos únicas columnas útiles para averiguar el número de países son los dos primeros datasets, ya que los que comienzan como \"explicacion_...\" no presentan información acerca de los países."
   ]
  },
  {
   "cell_type": "code",
   "execution_count": 418,
   "metadata": {
    "colab": {
     "base_uri": "https://localhost:8080/"
    },
    "id": "rQTB3eBgmLwJ",
    "outputId": "b0df23db-a327-4e87-ae93-8761fb922e9c"
   },
   "outputs": [
    {
     "name": "stdout",
     "output_type": "stream",
     "text": [
      "En el dataset indicadores_deuda, hay un total de: 123 países diferentes\n"
     ]
    }
   ],
   "source": [
    "paises_deuda = datos_deuda.map(lambda x: (x[0]))\n",
    "print(\"En el dataset indicadores_deuda, hay un total de:\", \n",
    "      paises_deuda.distinct().count(), \"países diferentes\")"
   ]
  },
  {
   "cell_type": "code",
   "execution_count": 419,
   "metadata": {
    "colab": {
     "base_uri": "https://localhost:8080/"
    },
    "id": "ERgCzrmXgz6A",
    "outputId": "1fc35fa5-68bf-4a7d-ab09-99c280569b42"
   },
   "outputs": [
    {
     "name": "stdout",
     "output_type": "stream",
     "text": [
      "En el dataset indicadores_desarrollo, hay un total de: 51 países diferentes\n"
     ]
    }
   ],
   "source": [
    "paises_desarrollo = datos_desarrollo.map(lambda x: x[0])\n",
    "\n",
    "print(\"En el dataset indicadores_desarrollo, hay un total de:\", \n",
    "      paises_desarrollo.distinct().count(), \"países diferentes\")"
   ]
  },
  {
   "cell_type": "markdown",
   "metadata": {
    "id": "R1A4wkxcSFs8"
   },
   "source": [
    "Como vemos, el número de países difiere en ambos conjuntos. En el dataset de indicadores de deuda aparecen más del doble de los que aparecen en el de desarrollo"
   ]
  },
  {
   "cell_type": "markdown",
   "metadata": {
    "id": "FldM14R8Y6hF"
   },
   "source": [
    "### __3. Total de deuda contraida por cada pais: total amount of debt (in USD) DT.AMT.MLAT.CD__"
   ]
  },
  {
   "cell_type": "markdown",
   "metadata": {
    "id": "PeLQlRsEnGSi"
   },
   "source": [
    "La columna DT.AMT.MLAT.CD es la columna 2 en el RDD de _datos_deuda_ ya tratado (recordemos que en Python la primera columna es la 0). Mostraré los resultados como una tupla tipo (País, Deuda) para ver cómodamente el valor de la deuda para cada país."
   ]
  },
  {
   "cell_type": "code",
   "execution_count": 412,
   "metadata": {
    "id": "qnM_0-vYgZ_E"
   },
   "outputs": [],
   "source": [
    "total_deuda = datos_deuda.map(lambda x: (x[0], float(x[3])))"
   ]
  },
  {
   "cell_type": "markdown",
   "metadata": {
    "id": "NkOQaEeWz_WG"
   },
   "source": [
    "Pongo el distinct para que me coja cada país una sola vez.\n",
    "\n",
    "Ordenándolos de menor a mayor (por ponerlos de alguna manera), vemos que en Algeria aparece un 0, ya que lo había introducido como inmputación de los nulos."
   ]
  },
  {
   "cell_type": "code",
   "execution_count": 417,
   "metadata": {
    "colab": {
     "base_uri": "https://localhost:8080/"
    },
    "id": "JCvJ9NqPPHOa",
    "outputId": "1448704f-a302-49a9-cb6c-784c2b4bce67"
   },
   "outputs": [
    {
     "data": {
      "text/plain": [
       "[('Algeria', 0.0),\n",
       " ('Timor-Leste', 825000.0),\n",
       " ('Comoros', 2182053.1),\n",
       " ('Vanuatu', 2593419.3),\n",
       " ('Solomon Islands', 3952828.9)]"
      ]
     },
     "execution_count": 417,
     "metadata": {
      "tags": []
     },
     "output_type": "execute_result"
    }
   ],
   "source": [
    "total_deuda.sortBy(lambda x: x[-1], True).distinct().take(5)"
   ]
  },
  {
   "cell_type": "markdown",
   "metadata": {
    "id": "vyrmO_V6Y6hF"
   },
   "source": [
    "### __4. Media de los indicadores de deuda (tabla uno): DT.AMT.BLAT.CD, DT.DIS.BLAT.CD, DT.INT.BLAT.CD__"
   ]
  },
  {
   "cell_type": "markdown",
   "metadata": {
    "id": "8kfbmIvWUY7M"
   },
   "source": [
    "Importante: aunque antes haya decidido, por simplicidad, imputar los valores nulos por 0, no los consideraré a la hora de realizar la media, ya que estaría introduciendo cierto sesgo \"hacia abajo\", pues un valor de 0 en unas observaciones de tipo $10^{7-9}$. Además, la media penaliza mucho los valores extremos, ya que es muy sensible a los mismos. Por ello, los dejo fuera para el cálculo de las mismas en los diferentes indicadores."
   ]
  },
  {
   "cell_type": "code",
   "execution_count": 270,
   "metadata": {
    "id": "ow6X8s05P23D"
   },
   "outputs": [],
   "source": [
    "media_AMT_BLAT = datos_deuda.map(lambda x: (x[0], x[1])).filter(lambda x: x[1] != 0).map(lambda x: x[1]).mean()"
   ]
  },
  {
   "cell_type": "code",
   "execution_count": 271,
   "metadata": {
    "colab": {
     "base_uri": "https://localhost:8080/"
    },
    "id": "5MJrezcLP2ys",
    "outputId": "ab3c92b3-ba5c-4861-903e-dc7a149eedb0"
   },
   "outputs": [
    {
     "name": "stdout",
     "output_type": "stream",
     "text": [
      "La media del indicador DT.AMT.BLAT.CD es: 5904868401.5\n"
     ]
    }
   ],
   "source": [
    "print(\"La media del indicador DT.AMT.BLAT.CD es:\", round(media_AMT_BLAT,2))"
   ]
  },
  {
   "cell_type": "code",
   "execution_count": 282,
   "metadata": {
    "id": "wnY9hSSuP2sr"
   },
   "outputs": [],
   "source": [
    "media_AMT_BLAT = datos_deuda.map(lambda x: (x[0], x[4])).filter(lambda x: x[1] != 0).map(lambda x: x[1]).mean()"
   ]
  },
  {
   "cell_type": "code",
   "execution_count": 283,
   "metadata": {
    "colab": {
     "base_uri": "https://localhost:8080/"
    },
    "id": "512STCxWUKHX",
    "outputId": "9d374e16-6ca9-48ea-cc52-953963b34ce0"
   },
   "outputs": [
    {
     "name": "stdout",
     "output_type": "stream",
     "text": [
      "La media del indicador DT.INT.BLAT.CD es: 1223139290.4\n"
     ]
    }
   ],
   "source": [
    "print(\"La media del indicador DT.INT.BLAT.CD es:\", round(media_AMT_BLAT,2))"
   ]
  },
  {
   "cell_type": "code",
   "execution_count": 284,
   "metadata": {
    "id": "AhQD5qGZUKBe"
   },
   "outputs": [],
   "source": [
    "media_AMT_BLAT = datos_deuda.map(lambda x: (x[0], x[-1])).filter(lambda x: x[1] != 0).map(lambda x: x[1]).mean()"
   ]
  },
  {
   "cell_type": "code",
   "execution_count": 285,
   "metadata": {
    "colab": {
     "base_uri": "https://localhost:8080/"
    },
    "id": "KYrK46gKUJ9l",
    "outputId": "b54bfeea-47c7-406b-c9cd-c22176e6445a"
   },
   "outputs": [
    {
     "name": "stdout",
     "output_type": "stream",
     "text": [
      "La media del indicador DT.DIS.BLAT.CD es: 164093285.61\n"
     ]
    }
   ],
   "source": [
    "print(\"La media del indicador DT.DIS.BLAT.CD es:\", round(media_AMT_BLAT,2))"
   ]
  },
  {
   "cell_type": "markdown",
   "metadata": {
    "id": "XZ1as7l3VNyB"
   },
   "source": [
    "La otra forma de hacer la media, sin usar el _.mean()_, sería: "
   ]
  },
  {
   "cell_type": "code",
   "execution_count": 286,
   "metadata": {
    "colab": {
     "base_uri": "https://localhost:8080/"
    },
    "id": "OgkQmaSKUJ3u",
    "outputId": "3e983cfc-d767-44ce-d983-3c85eeec6ef9"
   },
   "outputs": [
    {
     "data": {
      "text/plain": [
       "164093285.6090164"
      ]
     },
     "execution_count": 286,
     "metadata": {
      "tags": []
     },
     "output_type": "execute_result"
    }
   ],
   "source": [
    "datos_deuda.map(lambda x: (x[0], x[-1])).filter(lambda x: x[1] != 0).map(lambda x: x[1]).sum()/datos_deuda.map(lambda x: (x[0], x[-1])).filter(lambda x: x[1] != 0).map(lambda x: x[1]).count()"
   ]
  },
  {
   "cell_type": "markdown",
   "metadata": {
    "id": "1UcLVZmzVSB5"
   },
   "source": [
    "Como vemos, coinciden, por lo que da lo mismo usar el _.mean()_ de Python o la forma tradicional de calcularlo."
   ]
  },
  {
   "cell_type": "markdown",
   "metadata": {
    "id": "VD_-r5PTY6hF"
   },
   "source": [
    "### __5. Los 20 paises con DT.AMT.DLXF.CD más alto__"
   ]
  },
  {
   "cell_type": "markdown",
   "metadata": {
    "id": "s78k_KowW5Rh"
   },
   "source": [
    "Dicho indicador es el que se encuentra en la segunda posición del _datos_deuda_ que he generado antes. Ordenándolo de mayor a menor y cogiendo los 20 primeros que nos piden:"
   ]
  },
  {
   "cell_type": "code",
   "execution_count": 293,
   "metadata": {
    "colab": {
     "base_uri": "https://localhost:8080/"
    },
    "id": "nXdIUVhc-M-k",
    "outputId": "6af27360-e471-4510-fd80-69e74b8ec063"
   },
   "outputs": [
    {
     "data": {
      "text/plain": [
       "[('China', 96218620835.7),\n",
       " ('Brazil', 90041840304.1),\n",
       " ('Russian Federation', 66589761833.5),\n",
       " ('Turkey', 51555031005.8),\n",
       " ('South Asia', 48756295898.2),\n",
       " ('India', 31923507000.8),\n",
       " ('Indonesia', 30916112653.8),\n",
       " ('Kazakhstan', 27482093686.4),\n",
       " ('Mexico', 25218503927.0),\n",
       " ('Least developed countries: UN classification', 25197029299.4),\n",
       " ('IDA only', 20483289208.0),\n",
       " ('Romania', 14013783350.4),\n",
       " ('Colombia', 11985674438.7),\n",
       " ('Angola', 11067045628.1),\n",
       " ('Cameroon', 10404814960.2),\n",
       " ('\"Venezuela', 9878659207.2),\n",
       " ('\"Egypt', 9692114176.9),\n",
       " ('Lebanon', 9506919669.6),\n",
       " ('South Africa', 9474257551.9),\n",
       " ('Vietnam', 8873505909.2)]"
      ]
     },
     "execution_count": 293,
     "metadata": {
      "tags": []
     },
     "output_type": "execute_result"
    }
   ],
   "source": [
    "top_paises = datos_deuda.map(lambda x: (x[0],x[2])).sortBy(lambda x: x[-1], False)\n",
    "\n",
    "top_paises.take(20)"
   ]
  },
  {
   "cell_type": "markdown",
   "metadata": {
    "id": "0kco3i6xY6hF"
   },
   "source": [
    "### __6. Pais con los datos informados todos los años.__"
   ]
  },
  {
   "cell_type": "markdown",
   "metadata": {
    "id": "GQijGy3mXQee"
   },
   "source": [
    "Este ejercicio es algo más complejo. En primer lugar, tomaré la columna de los países de los datos de indicadores de desarrollo y le asignaré un 1 a cada uno. En segundo lugar, con un reduceByKey, lo que hará será sumar aquellos valores para los casos coincidentes en países. Una vez hecho esto, lo que haré será ordenarlos de mayor a menor valor de dicho conteo.\n",
    "Por último, si ponemos el filtro de los que sean iguales a 4, obtenemos que el único que hay es Malawi."
   ]
  },
  {
   "cell_type": "code",
   "execution_count": 298,
   "metadata": {
    "id": "ZRcxgSKfCQP1"
   },
   "outputs": [],
   "source": [
    "years_completo = datos_desarrollo.map(lambda x: (x[0], 1)).reduceByKey(lambda x, y: x+y).sortBy(lambda x: x[1], False)\n",
    "\n",
    "# Hacemos un filtro para que nos devuelva únicamente los que tengan 4 valores. \n",
    "\n",
    "years_completo = years_completo.filter(lambda x: x[1] == 4)"
   ]
  },
  {
   "cell_type": "markdown",
   "metadata": {
    "id": "rBBRKYRozUl2"
   },
   "source": [
    "Solo hay un país que es __Malawi__."
   ]
  },
  {
   "cell_type": "code",
   "execution_count": 299,
   "metadata": {
    "colab": {
     "base_uri": "https://localhost:8080/"
    },
    "id": "GdOMUR_1EK9D",
    "outputId": "c2e95c98-fe60-4acc-9b7f-707c4cdba66f"
   },
   "outputs": [
    {
     "data": {
      "text/plain": [
       "[('Malawi', 4)]"
      ]
     },
     "execution_count": 299,
     "metadata": {
      "tags": []
     },
     "output_type": "execute_result"
    }
   ],
   "source": [
    "years_completo.collect()"
   ]
  },
  {
   "cell_type": "markdown",
   "metadata": {
    "id": "EpJhQsEEY6hF"
   },
   "source": [
    "### __7. Media anual de los distintos indicadores de desarrollo__"
   ]
  },
  {
   "cell_type": "markdown",
   "metadata": {
    "id": "NyJmjMCQypNA"
   },
   "source": [
    "Emplearé un _combineByKey_ para el cálculo conjunto de las medias en los diferentes años. De esta manera, lo primero que haré será considerar la suma total de los valores de cada indicador (por la columna) y aplicar un conteo por el número de veces que aparece la clave de \"year\" en este caso. \n",
    "\n",
    "Posteriormente, dividiendo uno entre otro, obtenemos la media por países."
   ]
  },
  {
   "cell_type": "markdown",
   "metadata": {
    "id": "hlQsYWQCawzS"
   },
   "source": [
    "__a) Indicadores GC.DOD.TOTL.CN__:"
   ]
  },
  {
   "cell_type": "code",
   "execution_count": 333,
   "metadata": {
    "colab": {
     "base_uri": "https://localhost:8080/"
    },
    "id": "tt7ggJj0Y8u4",
    "outputId": "6168974b-f67b-46eb-ba01-c64284c58d44"
   },
   "outputs": [
    {
     "data": {
      "text/plain": [
       "[('2014 [YR2014]', (5172137936647662.0, 50)),\n",
       " ('2015 [YR2015]', (5800273772299710.0, 44)),\n",
       " ('2016 [YR2016]', (6193739040374572.0, 39)),\n",
       " ('2017 [YR2017]', (2239858619962.69, 1))]"
      ]
     },
     "execution_count": 333,
     "metadata": {
      "tags": []
     },
     "output_type": "execute_result"
    }
   ],
   "source": [
    "# La posición 1 es el año y la 2 la del indicador:\n",
    "indicadores_desarrollo_1_años = datos_desarrollo.map(lambda x: (x[1], x[2])) #reduceByKey(lambda x, y: x+y)\n",
    "\n",
    "contadores_1 = indicadores_desarrollo_1_años.combineByKey(\n",
    "                                                          (lambda x: (x, 1)), # the initial value, with value x and count 1\n",
    "                                                          (lambda x, y: (acc[0]+value, acc[1]+1)), # how to combine a pair value with the accumulator: sum value, and increment count\n",
    "                                                          (lambda x, y: (x[0]+y[0], x[1]+y[1])) # combine accumulators\n",
    "\n",
    "                                                  )\n",
    "\n",
    "contadores_1.collect()"
   ]
  },
  {
   "cell_type": "code",
   "execution_count": 334,
   "metadata": {
    "colab": {
     "base_uri": "https://localhost:8080/"
    },
    "id": "L7GkGeF4Y8rz",
    "outputId": "144a4f22-3775-4141-9721-a56de3e47393"
   },
   "outputs": [
    {
     "data": {
      "text/plain": [
       "[('2014 [YR2014]', 103442758732953.23),\n",
       " ('2015 [YR2015]', 131824403915902.5),\n",
       " ('2016 [YR2016]', 158813821548065.94),\n",
       " ('2017 [YR2017]', 2239858619962.69)]"
      ]
     },
     "execution_count": 334,
     "metadata": {
      "tags": []
     },
     "output_type": "execute_result"
    }
   ],
   "source": [
    "media_años_indicadores_1 = contadores_1.map(lambda x: (x[0], round(x[1][0]/x[1][1], 2))).sortBy(lambda y: y[0]).collect()\n",
    "media_años_indicadores_1"
   ]
  },
  {
   "cell_type": "markdown",
   "metadata": {
    "id": "mwIHmhBha3tR"
   },
   "source": [
    "__b) Indicadores GC.DOD.TOTL.GD.ZS__"
   ]
  },
  {
   "cell_type": "code",
   "execution_count": 328,
   "metadata": {
    "colab": {
     "base_uri": "https://localhost:8080/"
    },
    "id": "adUYnxaXY8aI",
    "outputId": "d131c9ba-a8fc-4174-916f-d34d9712f616"
   },
   "outputs": [
    {
     "data": {
      "text/plain": [
       "[('2014 [YR2014]', (2842.195717219219, 50)),\n",
       " ('2015 [YR2015]', (2568.0863271747353, 44)),\n",
       " ('2016 [YR2016]', (2293.081035336326, 39)),\n",
       " ('2017 [YR2017]', (48.659564238322, 1))]"
      ]
     },
     "execution_count": 328,
     "metadata": {
      "tags": []
     },
     "output_type": "execute_result"
    }
   ],
   "source": [
    "# La posición 1 es el año y la 3 la del indicador:\n",
    "indicadores_desarrollo_2_años = datos_desarrollo.map(lambda x: (x[1], x[3])) \n",
    "\n",
    "contadores_2 = indicadores_desarrollo_2_años.combineByKey(\n",
    "                                                          (lambda x: (x, 1)), # the initial value, with value x and count 1\n",
    "                                                          (lambda x, y: (x[0]+y, x[1]+1)), # how to combine a pair value with the accumulator: sum value, and increment count\n",
    "                                                          (lambda x, y: (x[0]+y[0], x[1]+y[1])) # combine accumulators\n",
    "\n",
    "                                                          )\n",
    "\n",
    "contadores_2.collect()"
   ]
  },
  {
   "cell_type": "code",
   "execution_count": 331,
   "metadata": {
    "colab": {
     "base_uri": "https://localhost:8080/"
    },
    "id": "j6e-Po-ObHra",
    "outputId": "106da13e-70c6-4a0b-cd8c-160b1cf58bff"
   },
   "outputs": [
    {
     "data": {
      "text/plain": [
       "[('2014 [YR2014]', 56.84),\n",
       " ('2015 [YR2015]', 58.37),\n",
       " ('2016 [YR2016]', 58.8),\n",
       " ('2017 [YR2017]', 48.66)]"
      ]
     },
     "execution_count": 331,
     "metadata": {
      "tags": []
     },
     "output_type": "execute_result"
    }
   ],
   "source": [
    "media_años_indicadores_2 = contadores_2.map(lambda x: (x[0], round(x[1][0]/x[1][1], 2))).sortBy(lambda y: y[0]).collect()\n",
    "media_años_indicadores_2"
   ]
  },
  {
   "cell_type": "markdown",
   "metadata": {
    "id": "RXYOX4C8c0Oo"
   },
   "source": [
    "__c) Indicadores de SP.DYN.CBRT.IN__"
   ]
  },
  {
   "cell_type": "code",
   "execution_count": 335,
   "metadata": {
    "colab": {
     "base_uri": "https://localhost:8080/"
    },
    "id": "_u9LKzJeczPm",
    "outputId": "cb759620-72dd-43b2-9960-20dc562e30d9"
   },
   "outputs": [
    {
     "data": {
      "text/plain": [
       "[('2014 [YR2014]', (879.1310000000001, 50)),\n",
       " ('2015 [YR2015]', (739.133, 44)),\n",
       " ('2016 [YR2016]', (629.6290000000001, 39)),\n",
       " ('2017 [YR2017]', (34.593, 1))]"
      ]
     },
     "execution_count": 335,
     "metadata": {
      "tags": []
     },
     "output_type": "execute_result"
    }
   ],
   "source": [
    "# La posición 1 es el año y la 4 la del indicador:\n",
    "\n",
    "indicadores_desarrollo_3_años = datos_desarrollo.map(lambda x: (x[1], x[4])) #reduceByKey(lambda x, y: x+y)\n",
    "\n",
    "contadores_3 = indicadores_desarrollo_3_años.combineByKey(\n",
    "                                                          (lambda x: (x, 1)), # the initial value, with value x and count 1\n",
    "                                                          (lambda acc, value: (acc[0]+value, acc[1]+1)), # how to combine a pair value with the accumulator: sum value, and increment count\n",
    "                                                          (lambda acc1, acc2: (acc1[0]+acc2[0], acc1[1]+acc2[1])) # combine accumulators\n",
    "\n",
    "                                                          )\n",
    "\n",
    "contadores_3.collect()"
   ]
  },
  {
   "cell_type": "code",
   "execution_count": 336,
   "metadata": {
    "colab": {
     "base_uri": "https://localhost:8080/"
    },
    "id": "da4jXDMgczF8",
    "outputId": "f67c64a8-9541-4869-b733-bfdbb301c4da"
   },
   "outputs": [
    {
     "data": {
      "text/plain": [
       "[('2014 [YR2014]', 17.58),\n",
       " ('2015 [YR2015]', 16.8),\n",
       " ('2016 [YR2016]', 16.14),\n",
       " ('2017 [YR2017]', 34.59)]"
      ]
     },
     "execution_count": 336,
     "metadata": {
      "tags": []
     },
     "output_type": "execute_result"
    }
   ],
   "source": [
    "media_años_indicadores_3 = contadores_3.map(lambda x: (x[0], round(x[1][0]/x[1][1], 2))).sortBy(lambda y: y[0]).collect()\n",
    "media_años_indicadores_3"
   ]
  },
  {
   "cell_type": "markdown",
   "metadata": {
    "id": "D1iHFmv2Y6hG"
   },
   "source": [
    "### __8. Podrías decirme el total de deuda acumulada DT.AMT.MLAT.CD por los 10 países con un valor en media menor de SP.DYN.CBRT.IN__"
   ]
  },
  {
   "cell_type": "markdown",
   "metadata": {
    "id": "_f2Iz5ZOogSj"
   },
   "source": [
    "Calculamos los países que menor deuda acumulada presentan mediante un _combineByKey_. Lo hago así porque hay países que presentan más datos que otros, pues aparecen sus resultados varios años consecutivos. \n",
    "\n",
    "Para evitar introducir este sesgo en los cálculos, calculo la media de dicho indicador para cada país por separado; una vez tengo esos datos, calcularé la media de dicha media por países, de manera que no tenemos penalización para aquellos países que aparecen menos años que otros. "
   ]
  },
  {
   "cell_type": "code",
   "execution_count": null,
   "metadata": {
    "colab": {
     "base_uri": "https://localhost:8080/"
    },
    "id": "0ZTvA6FhwVGH",
    "outputId": "92297aa6-0faf-48fd-9d9d-2d1e6231d15c"
   },
   "outputs": [
    {
     "data": {
      "text/plain": [
       "[('Japan', 7.8),\n",
       " ('\"Korea', 7.9),\n",
       " ('San Marino', 7.9),\n",
       " ('Japan', 8.0),\n",
       " ('Japan', 8.0),\n",
       " ('San Marino', 8.2),\n",
       " ('\"Korea', 8.6),\n",
       " ('\"Korea', 8.6),\n",
       " ('Spain', 8.8),\n",
       " ('Spain', 9.0)]"
      ]
     },
     "execution_count": 79,
     "metadata": {
      "tags": []
     },
     "output_type": "execute_result"
    }
   ],
   "source": [
    "paises_menores = datos_desarrollo.map(lambda x: (x[0], float(x[-1]))).filter(lambda y: y[-1] < media_SP_DYN).sortBy(lambda z: z[-1], True)\n",
    "\n",
    "paises_menores = paises_menores.map(lambda x: (x[0], x[1]))\n",
    "\n",
    "paises_menores.take(10)"
   ]
  },
  {
   "cell_type": "code",
   "execution_count": null,
   "metadata": {
    "colab": {
     "base_uri": "https://localhost:8080/"
    },
    "id": "YSOBKLa8ExX4",
    "outputId": "521c7201-ab1c-4f4c-df07-4dd064e8b147"
   },
   "outputs": [
    {
     "data": {
      "text/plain": [
       "[('Georgia', 1552116953.6),\n",
       " ('Ukraine', 8148995625.6),\n",
       " ('Albania', 790248675.2),\n",
       " ('Colombia', 11985674438.7),\n",
       " ('St. Lucia', 20332673.8),\n",
       " ('St. Vincent and the Grenadines', 26411052.2),\n",
       " ('Turkey', 51555031005.8),\n",
       " ('Brazil', 90041840304.1),\n",
       " ('Sri Lanka', 5761489255.9),\n",
       " ('Russian Federation', 66589761833.5)]"
      ]
     },
     "execution_count": 95,
     "metadata": {
      "tags": []
     },
     "output_type": "execute_result"
    }
   ],
   "source": [
    "# Indicador AMT.MLAT es la posición 3 en datos_deuda:\n",
    "\n",
    "a = (datos_deuda.map(lambda x: (x[0], float(x[3])))).join(paises_menores)\n",
    "\n",
    "a.map(lambda x: (x[0], float(x[1][0]))).distinct().take(10)"
   ]
  },
  {
   "cell_type": "code",
   "execution_count": 362,
   "metadata": {
    "colab": {
     "base_uri": "https://localhost:8080/"
    },
    "id": "j49mnjMFprcr",
    "outputId": "fb218192-7beb-4298-9217-654efa37da15"
   },
   "outputs": [
    {
     "data": {
      "text/plain": [
       "[('Botswana', (79.253, 3)),\n",
       " ('Guatemala', (76.886, 3)),\n",
       " ('Russian Federation', (39.5, 3)),\n",
       " ('Zambia', (76.595, 2)),\n",
       " ('Hungary', (28.599999999999998, 3)),\n",
       " ('Palau', (39.4, 3)),\n",
       " ('United States', (37.1, 3)),\n",
       " ('Belize', (22.067, 1)),\n",
       " ('Switzerland', (31.4, 3)),\n",
       " ('Ukraine', (31.8, 3)),\n",
       " ('Uruguay', (42.383, 3)),\n",
       " ('Belarus', (37.4, 3)),\n",
       " ('Japan', (23.8, 3)),\n",
       " ('Jordan', (48.61, 2)),\n",
       " ('Moldova', (31.813000000000002, 3)),\n",
       " ('New Zealand', (38.599999999999994, 3)),\n",
       " ('Papua New Guinea', (56.337, 2)),\n",
       " ('Seychelles', (34.0, 2)),\n",
       " ('Spain', (27.0, 3)),\n",
       " ('Jamaica', (49.907000000000004, 3)),\n",
       " ('Georgia', (42.168, 3)),\n",
       " ('Namibia', (30.192, 1)),\n",
       " ('Singapore', (28.9, 3)),\n",
       " ('Turkey', (50.152, 3)),\n",
       " ('United Kingdom', (35.7, 3)),\n",
       " ('St. Lucia', (12.502, 1)),\n",
       " ('Albania', (36.536, 3)),\n",
       " ('Australia', (39.0, 3)),\n",
       " ('Brazil', (43.403, 3)),\n",
       " ('El Salvador', (56.202, 3)),\n",
       " ('Ireland', (41.7, 3)),\n",
       " ('Kazakhstan', (68.33000000000001, 3)),\n",
       " ('Kyrgyz Republic', (81.1, 3)),\n",
       " ('Malawi', (142.224, 4)),\n",
       " ('Peru', (55.694, 3)),\n",
       " ('Solomon Islands', (100.577, 3)),\n",
       " ('\"Bahamas', (42.695, 3)),\n",
       " ('St. Kitts and Nevis', (12.6, 1)),\n",
       " ('Thailand', (21.835, 2)),\n",
       " ('Barbados', (21.722, 2)),\n",
       " ('Bhutan', (53.373000000000005, 3)),\n",
       " ('Philippines', (22.935, 1)),\n",
       " ('St. Vincent and the Grenadines', (15.011, 1)),\n",
       " ('Colombia', (46.548, 3)),\n",
       " ('Indonesia', (57.492, 3)),\n",
       " ('\"Korea', (25.1, 3)),\n",
       " ('Malaysia', (51.052, 3)),\n",
       " ('San Marino', (16.1, 2)),\n",
       " ('Tonga', (76.087, 3)),\n",
       " ('\"Micronesia', (69.64699999999999, 3)),\n",
       " ('Sri Lanka', (33.458, 2))]"
      ]
     },
     "execution_count": 362,
     "metadata": {
      "tags": []
     },
     "output_type": "execute_result"
    }
   ],
   "source": [
    "# Media por países, para que no haya sesgo de que países repetidos y otros que no.\n",
    "\n",
    "datos_desarrollo_paises = datos_desarrollo.map(lambda x: (x[0], float(x[-1]))) #reduceByKey(lambda x, y: x+y)\n",
    "\n",
    "contador = datos_desarrollo_paises.combineByKey(\n",
    "                                                  (lambda x: (x, 1)), # the initial value, with value x and count 1\n",
    "                                                  (lambda acc, value: (acc[0] + value, acc[1] + 1)), # how to combine a pair value with the accumulator: sum value, and increment count\n",
    "                                                  (lambda acc1, acc2: (acc1[0] + acc2[0], acc1[1] + acc2[1])) # combine accumulators\n",
    "\n",
    "                                                  )\n",
    "\n",
    "contador.collect()"
   ]
  },
  {
   "cell_type": "code",
   "execution_count": 363,
   "metadata": {
    "colab": {
     "base_uri": "https://localhost:8080/"
    },
    "id": "WRkvhkTvrHQV",
    "outputId": "07bec425-d9e8-4274-e1f3-99503fc4b32d"
   },
   "outputs": [
    {
     "data": {
      "text/plain": [
       "17.202156862745102"
      ]
     },
     "execution_count": 363,
     "metadata": {
      "tags": []
     },
     "output_type": "execute_result"
    }
   ],
   "source": [
    "media_por_contador = contador.map(lambda x: (x[0], round(x[1][0]/x[1][1], 2))).sortBy(lambda y: y[-1])#.collect()\n",
    "media = media_por_contador.map(lambda x: x[-1]).mean()\n",
    "media"
   ]
  },
  {
   "cell_type": "code",
   "execution_count": 364,
   "metadata": {
    "colab": {
     "base_uri": "https://localhost:8080/"
    },
    "id": "KuX3fax3wCig",
    "outputId": "108fb1e7-c68f-48db-e07f-fb35b24b587a"
   },
   "outputs": [
    {
     "data": {
      "text/plain": [
       "[('Ukraine', (1072472830.3, 10.6)),\n",
       " ('Belarus', (595438826.0, 12.47)),\n",
       " ('St. Lucia', (15019216.3, 12.5)),\n",
       " ('Jamaica', (174427648.0, 16.64)),\n",
       " ('St. Vincent and the Grenadines', (21615600.7, 15.01)),\n",
       " ('Russian Federation', (141669500.0, 13.17)),\n",
       " ('Georgia', (144062401.5, 14.06)),\n",
       " ('Turkey', (2932698678.0, 16.72)),\n",
       " ('Moldova', (135842865.5, 10.6)),\n",
       " ('Thailand', (39071571.5, 10.92)),\n",
       " ('Albania', (182197616.7, 12.18)),\n",
       " ('Brazil', (2514318741.6, 14.47)),\n",
       " ('Colombia', (1100907553.6, 15.52)),\n",
       " ('Sri Lanka', (449771961.1, 16.73))]"
      ]
     },
     "execution_count": 364,
     "metadata": {
      "tags": []
     },
     "output_type": "execute_result"
    }
   ],
   "source": [
    "paises_filtrados = duration_means_by_type.map(lambda x: (x[0], float(x[1]))).filter(lambda x: x[-1] < media)\n",
    "\n",
    "a = datos_deuda.map(lambda x: (x[0], float(x[3]))).join(paises_filtrados)\n",
    "\n",
    "a.collect()"
   ]
  },
  {
   "cell_type": "markdown",
   "metadata": {
    "id": "qlmGZ6T4m8JI"
   },
   "source": [
    "Cogemos solo los 10 menores, __ordenados por la media del indicador__, no por el valor de deuda:"
   ]
  },
  {
   "cell_type": "code",
   "execution_count": 354,
   "metadata": {
    "colab": {
     "base_uri": "https://localhost:8080/"
    },
    "id": "CPCt-Y0AnCY1",
    "outputId": "b97eb5c6-0bb2-40ff-fead-f136c8e0a15c"
   },
   "outputs": [
    {
     "data": {
      "text/plain": [
       "[('Ukraine', 1072472830.3),\n",
       " ('Moldova', 135842865.5),\n",
       " ('Thailand', 39071571.5),\n",
       " ('Albania', 182197616.7),\n",
       " ('Belarus', 595438826.0),\n",
       " ('St. Lucia', 15019216.3),\n",
       " ('Russian Federation', 141669500.0),\n",
       " ('Georgia', 144062401.5),\n",
       " ('Brazil', 2514318741.6),\n",
       " ('St. Vincent and the Grenadines', 21615600.7)]"
      ]
     },
     "execution_count": 354,
     "metadata": {
      "tags": []
     },
     "output_type": "execute_result"
    }
   ],
   "source": [
    "a.sortBy(lambda x: x[-1][-1]).map(lambda x: (x[0], float(x[1][0]))).take(10)"
   ]
  },
  {
   "cell_type": "markdown",
   "metadata": {
    "id": "aDmTHdKGY6hG"
   },
   "source": [
    "### __9. ¿Hay alguna relación entre los nacimientos (SP.DYN.CBRT.IN) y el indicador DT.AMT.DLXF.CD? ¿Cómo podrías demostrarlo?__"
   ]
  },
  {
   "cell_type": "markdown",
   "metadata": {
    "id": "oi3cE26Ytl66"
   },
   "source": [
    "En este ejercicio nos piden calcular la correlación existente entre el indicador de nacimientos de la tabla de desarrollo y el indicador de deuda AMT.DLXF. Para llevarlo a cabo, consideraré únicamente aquellos países que coincidan en ambos bloques de datos, pues considerar todos los datos puede introducir un sesgo debido a que, como comentábamos antes, hay países que presentan información de más años que otros. Por ello, tomo la media de los países consigo mismos para el número de veces que aparecen en los datos. Esto ya lo teníamos del ejercicio anterior, y recordemos que era:"
   ]
  },
  {
   "cell_type": "code",
   "execution_count": 367,
   "metadata": {
    "colab": {
     "base_uri": "https://localhost:8080/"
    },
    "id": "IfQDmhVqtjt_",
    "outputId": "bb8c08ec-cfbd-4aae-8256-cc42b4eeda00"
   },
   "outputs": [
    {
     "data": {
      "text/plain": [
       "[('Japan', 7.93),\n",
       " ('San Marino', 8.05),\n",
       " ('\"Korea', 8.37),\n",
       " ('Spain', 9.0),\n",
       " ('Hungary', 9.53),\n",
       " ('Singapore', 9.63),\n",
       " ('Switzerland', 10.47),\n",
       " ('Ukraine', 10.6)]"
      ]
     },
     "execution_count": 367,
     "metadata": {
      "tags": []
     },
     "output_type": "execute_result"
    }
   ],
   "source": [
    "media_por_contador.take(8)"
   ]
  },
  {
   "cell_type": "markdown",
   "metadata": {
    "id": "u0l9sYL1xIiw"
   },
   "source": [
    "Una vez tengo esto, haré un join para que coincidan los países de ambos bloques, ya que si no comprobamos que son las mismas observaciones consideradas, podríamos estar considerando, por ejemplo, los datos de nacimientos de Angola con los de la deuda China, lo cual arrojaría unos resultados, en mi opinión, carentes de sentido. Por ello llevo a cabo un _join_ con los indicadores de deuda por el país:"
   ]
  },
  {
   "cell_type": "code",
   "execution_count": 384,
   "metadata": {
    "colab": {
     "base_uri": "https://localhost:8080/"
    },
    "id": "q9Fi8i--tjre",
    "outputId": "74b91380-8b98-43e1-d0f1-679c54b47499"
   },
   "outputs": [
    {
     "data": {
      "text/plain": [
       "[('Botswana', (137995908.0, 26.42)),\n",
       " ('Ukraine', (8148995625.6, 10.6)),\n",
       " ('Guatemala', (2911981987.8, 25.63)),\n",
       " ('Jordan', (1990343479.2, 24.3)),\n",
       " ('Belarus', (4640037884.2, 12.47)),\n",
       " ('St. Lucia', (20332673.8, 12.5))]"
      ]
     },
     "execution_count": 384,
     "metadata": {
      "tags": []
     },
     "output_type": "execute_result"
    }
   ],
   "source": [
    "deuda_nacimientos = datos_deuda.map(lambda x: (x[0], x[2])).join(media_por_contador)\n",
    "\n",
    "deuda_nacimientos.take(6)"
   ]
  },
  {
   "cell_type": "markdown",
   "metadata": {
    "id": "vv8Jlg0eudl2"
   },
   "source": [
    "Me quedo únicamente con los datos numéricos: "
   ]
  },
  {
   "cell_type": "code",
   "execution_count": 385,
   "metadata": {
    "colab": {
     "base_uri": "https://localhost:8080/"
    },
    "id": "v5CNNPUCtjpf",
    "outputId": "d8dff7b5-77d2-4cc1-eeb5-432e2ed25b49"
   },
   "outputs": [
    {
     "data": {
      "text/plain": [
       "[(137995908.0, 26.42),\n",
       " (8148995625.6, 10.6),\n",
       " (2911981987.8, 25.63),\n",
       " (1990343479.2, 24.3),\n",
       " (4640037884.2, 12.47)]"
      ]
     },
     "execution_count": 385,
     "metadata": {
      "tags": []
     },
     "output_type": "execute_result"
    }
   ],
   "source": [
    "deuda_nacimientos = deuda_nacimientos.map(lambda x: (x[1][0], x[1][1]))\n",
    "\n",
    "deuda_nacimientos.take(5)"
   ]
  },
  {
   "cell_type": "code",
   "execution_count": 387,
   "metadata": {
    "id": "0GCPIspvvEMI"
   },
   "outputs": [],
   "source": [
    "deud = deuda_nacimientos.map(lambda x: x[0]).collect()\n",
    "\n",
    "nacim = deuda_nacimientos.map(lambda x: x[1]).collect()"
   ]
  },
  {
   "cell_type": "code",
   "execution_count": 392,
   "metadata": {
    "colab": {
     "base_uri": "https://localhost:8080/"
    },
    "id": "Q-Pda1vdtjmq",
    "outputId": "3465aa19-c1c4-485d-f0f9-3228387fc831"
   },
   "outputs": [
    {
     "name": "stdout",
     "output_type": "stream",
     "text": [
      "El coeficiente de correlación entre ambas variables es de: -0.25828338549202556\n"
     ]
    }
   ],
   "source": [
    "import numpy as np\n",
    "\n",
    "print('El coeficiente de correlación entre ambas variables es de:', np.corrcoef(deud, nacim)[0][1])"
   ]
  },
  {
   "cell_type": "markdown",
   "metadata": {
    "id": "ffFjbT1kvp1l"
   },
   "source": [
    "Si los graficamos, para ver el comportamiento de una frente a la otra:"
   ]
  },
  {
   "cell_type": "code",
   "execution_count": 410,
   "metadata": {
    "colab": {
     "base_uri": "https://localhost:8080/",
     "height": 513
    },
    "id": "0O2ykOuDtjlT",
    "outputId": "674774eb-a207-4c8f-9e1d-8aa65dee92f2"
   },
   "outputs": [
    {
     "data": {
      "image/png": "[encoded data removed]",
      "text/plain": [
       "<Figure size 720x576 with 1 Axes>"
      ]
     },
     "metadata": {
      "needs_background": "light",
      "tags": []
     },
     "output_type": "display_data"
    }
   ],
   "source": [
    "import matplotlib.pyplot as plt\n",
    "\n",
    "plt.figure(figsize = (10, 8))\n",
    "\n",
    "plt.plot(deud, nacim, marker = '.', ls = 'None')\n",
    "plt.xlabel('Indicador de deuda DT.AMT.DLXF.CD')\n",
    "plt.title('Comportamiento de los datos de deuda con los indicadores de nacimiento');"
   ]
  },
  {
   "cell_type": "markdown",
   "metadata": {
    "id": "Retb7KLoyCEx"
   },
   "source": [
    "A la vista de los resultados matemáticos y gráficos, vemos que no parece haber una correlación, para nuestros datos, entre el indicador de nacimientos y el indicador de deuda citado. \n",
    "\n",
    "Si ponemos el eje X en escala logarítmica (pues los datos son mucho mayores y tienen un rango de valores mucho mayor), no aclaramos gran cosa. \n",
    "\n",
    "Por tanto, concluiré en que la relación patente entre ambas variables es muy baja."
   ]
  },
  {
   "cell_type": "code",
   "execution_count": 411,
   "metadata": {
    "colab": {
     "base_uri": "https://localhost:8080/",
     "height": 517
    },
    "id": "kt8UxzU-xplD",
    "outputId": "7d0e0a10-b6c8-4a74-90e4-fd6ae521a4f7"
   },
   "outputs": [
    {
     "data": {
      "image/png": "[encoded data removed]",
      "text/plain": [
       "<Figure size 720x576 with 1 Axes>"
      ]
     },
     "metadata": {
      "needs_background": "light",
      "tags": []
     },
     "output_type": "display_data"
    }
   ],
   "source": [
    "plt.figure(figsize = (10, 8))\n",
    "\n",
    "plt.plot(deud, nacim, marker = '.', ls = 'None')\n",
    "plt.xscale('log')\n",
    "plt.xlabel('Indicador de deuda DT.AMT.DLXF.CD')\n",
    "plt.title('Comportamiento de los datos de deuda con los indicadores de nacimiento');"
   ]
  }
 ],
 "metadata": {
  "colab": {
   "collapsed_sections": [],
   "name": "Examen1920_MBC",
   "provenance": []
  },
  "kernelspec": {
   "display_name": "Python 3",
   "language": "python",
   "name": "python3"
  },
  "language_info": {
   "codemirror_mode": {
    "name": "ipython",
    "version": 3
   },
   "file_extension": ".py",
   "mimetype": "text/x-python",
   "name": "python",
   "nbconvert_exporter": "python",
   "pygments_lexer": "ipython3",
   "version": "3.8.5"
  }
 },
 "nbformat": 4,
 "nbformat_minor": 1
}
