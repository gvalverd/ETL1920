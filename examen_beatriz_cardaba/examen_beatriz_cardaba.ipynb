{
  "nbformat": 4,
  "nbformat_minor": 0,
  "metadata": {
    "kernelspec": {
      "display_name": "Python 3",
      "language": "python",
      "name": "python3"
    },
    "language_info": {
      "codemirror_mode": {
        "name": "ipython",
        "version": 3
      },
      "file_extension": ".py",
      "mimetype": "text/x-python",
      "name": "python",
      "nbconvert_exporter": "python",
      "pygments_lexer": "ipython3",
      "version": "3.7.4"
    },
    "toc": {
      "base_numbering": 1,
      "nav_menu": {},
      "number_sections": true,
      "sideBar": true,
      "skip_h1_title": false,
      "title_cell": "Table of Contents",
      "title_sidebar": "Contents",
      "toc_cell": false,
      "toc_position": {},
      "toc_section_display": true,
      "toc_window_display": true
    },
    "colab": {
      "name": "examen2021v2_Beatriz_Cardaba.ipynb",
      "provenance": []
    }
  },
  "cells": [
    {
      "cell_type": "markdown",
      "metadata": {
        "id": "S11wlviYU-Jj"
      },
      "source": [
        "# Beatriz Cárdaba Rico\n",
        "\n",
        "## TAREA FINAL: Datos de vivienda\n",
        "\n",
        "<p> El negocio inmobiliario es uno de los motores de la economía de España, el carácter turístico de nuesta península hace que sean muchos los inversores extranjeros que se decidan por buscar una inversión de bajo riesgos en nuestras ciudades costeras o grandes urbes. \n",
        "Muchas de estas inversiones se hacen sobre grandes bolsas de inmuebles que deben ser analizados previamente para comprobar la rentabilidad del porfolio </p>\n",
        "\n",
        "<!-- <p> En este caso vamos a trabajar con una tabla que contienen información de distintos inmuebles repartidos por una zona específica, sus carácterísticas y su precio </p>  -->"
      ]
    },
    {
      "cell_type": "markdown",
      "metadata": {
        "id": "UyFQV7YwU-Jl"
      },
      "source": [
        "Todas las cuestiones se deben realizar sobre el conjunto de casos que representen viviendas ubicadas en zonas residenciales **(alta, media y baja densidad)**"
      ]
    },
    {
      "cell_type": "markdown",
      "metadata": {
        "id": "kR-VIZ7XU-Jm"
      },
      "source": [
        "**MUY IMPORTANTE:** En las otras prácticas he detectado colaboraciones involucrando varias personas y he sido flexible aunque a algunos os lo he mencionado en las correcciones, porque al final el trabajo de analista de datos es un trabajo colaborativo. Sin embargo, este trabajo es individual, así que cuidado con las colaboraciones."
      ]
    },
    {
      "cell_type": "markdown",
      "metadata": {
        "id": "G0nZ3gEaU-Jm"
      },
      "source": [
        "Las variables de las que se compone el dataset son:"
      ]
    },
    {
      "cell_type": "markdown",
      "metadata": {
        "id": "xdUCS8_KU-Jn"
      },
      "source": [
        "|NOMBRE VARIABLE|DESCRIPTOR|VALORES|\n",
        "| --- | --- | --- |\n",
        "|Order|Variable de identificación|1 a 2930|\n",
        "|MS Zoning|Zona de ubicación de la vivienda|\"A rural, C comercial, FV residencial flotante, I industrial, RH residencial alta densidad, RL residencial baja densidad, RM residencial media densidad\"|\n",
        "|Lot Frontage|Longitud de la fachada en pies||\n",
        "|Lot Area|Superficie de la vivienda en pies cuadrados||\n",
        "|Land Contour|Contorno del terreno circundante|\"Lvl llano, Bnk Tipo bancal, HLS Ladera, Low Depresión\"|\n",
        "|Land Slope|Tipo de pendiente de la vivienda|\" Gtl pendiente suave, Mod pendiente moderada, Sev fuerte pendiente\"|\n",
        "|Overall Qual|Grado de calidad de materiales y acabado de la vivienda|De 1 (Muy pobre) a 10 (Excelente)|\n",
        "|Year Built|Año de construccion de la vivienda||\n",
        "|Year Remod/Add|Año de última reforma de la vivienda||\n",
        "|Mas Vnr Type|Tipo de revestimiento exterior|\" BrkCmn Ladrillo normal, BrkFace Ladrillo visto, CBlock Bloque de cemento, None Ninguna, Stone Piedra \"|\n",
        "|Exter Qual|Calidad de revestimiento exterior|\"Ex Excelente,Gd Bueno,TA Media,Fa Justo\"|\n",
        "|Bsmt Cond|Estado general del sótano|\"Ex Excelente, Gd Bueno, TA Media, Fa Justo, Po Pobre,Ss sin sótano\"|\n",
        "|Total Bsmt SF|Superficie del sótano en pies cuadrados|\n",
        "|Heating QC|Calidad de la calefacción|\"Ex Excelente,Gd Bueno,TA Media,Fa Justo,Po Pobre\"|\n",
        "|Central Air|Aire acondicionado centralizado|\"N No Y Sí\"|\n",
        "|Full Bath|Número de baños completo en planta||\n",
        "|Half Bath|Número de aseos en planta||\n",
        "|Bedroom AbvGr|Número de dormitorios en planta||\n",
        "|Kitchen AbvGr|Número de cocinas en planta||\n",
        "|Kitchen Qual|Calidad de cocinas|\"Ex Excelente,Gd Bueno,TA Media,Fa Justo,Po Pobre\"|\n",
        "|TotRms AbvGrd|Número total de habitaciones excluidos los cuartos de baño||\n",
        "|Garage Cars|Número de plazas de garaje||\n",
        "|Garage Area|Superficie del garaje|||\n",
        "|Garage Cond|Estado del garaje|\"Ex Excelente,Gd Bueno,TA Media,Fa Justo,Po Pobre,Sg sin garaje\"|\n",
        "|Pool Area|Superficie de la piscina en pies cuadrados|\n",
        "|Pool QC|Calidad de la piscina|\"Ex Excelente,Gd Bueno,TA Media,Fa Justo,Sp no hay piscina\"|\n",
        "|Mo Sold|mes de venta||\n",
        "|Yr Sold|año de venta||\n",
        "|SalePrice|precio de venta en dólares||"
      ]
    },
    {
      "cell_type": "markdown",
      "metadata": {
        "id": "2IBkjPrZU-Jn"
      },
      "source": [
        "Recomiendo al leer los datos, eliminar espacios de los nombres de las columnas, realiza un pequeño análisis inicial de los mismos. No olvides fijarte en los tipos de variables, que variables pueden tener tipos confundidos y corrige los. Sobre todo, trabaja con las fechas."
      ]
    },
    {
      "cell_type": "markdown",
      "metadata": {
        "id": "e6WGw_5sU-Jo"
      },
      "source": [
        "**NOTA:** Las tareas complementarias sirven para subir nota. El resto de preguntas valen igual y suman 10 puntos."
      ]
    },
    {
      "cell_type": "markdown",
      "metadata": {
        "id": "OXKNO6r-U-Jo"
      },
      "source": [
        "## Inicializar y cargar el contexto spark"
      ]
    },
    {
      "cell_type": "code",
      "metadata": {
        "id": "aQG7KTZFVLzz"
      },
      "source": [
        "!apt-get install openjdk-8-jdk-headless -qq > /dev/null\r\n",
        "!wget -q https://www-us.apache.org/dist/spark/spark-2.4.7/spark-2.4.7-bin-hadoop2.7.tgz\r\n",
        "!tar xf spark-2.4.7-bin-hadoop2.7.tgz\r\n",
        "!pip install -q findspark\r\n",
        "\r\n",
        "\r\n",
        "import os\r\n",
        "os.environ[\"JAVA_HOME\"] = \"/usr/lib/jvm/java-8-openjdk-amd64\"\r\n",
        "os.environ[\"SPARK_HOME\"] = \"/content/spark-2.4.7-bin-hadoop2.7\"\r\n",
        "\r\n",
        "import findspark\r\n",
        "findspark.init()\r\n",
        "from pyspark import SparkContext"
      ],
      "execution_count": null,
      "outputs": []
    },
    {
      "cell_type": "code",
      "metadata": {
        "id": "jGjlxpUFVL2X"
      },
      "source": [
        "from pyspark import SparkContext\r\n",
        "from pyspark.sql import *\r\n",
        "from pyspark.sql import SQLContext, functions as F, Row\r\n",
        "from pyspark.sql.types import *\r\n",
        "from pyspark.sql.types import StringType, IntegerType\r\n",
        "\r\n",
        "# Librería para dar formato a las salidas obtenidas\r\n",
        "import pandas as pd\r\n",
        "# Librería para aplicar expresiones regulares en el parseado\r\n",
        "import re\r\n",
        "# librería para parsear las fechas con formato date\r\n",
        "from datetime import datetime\r\n",
        "# Librería que permite descargar información de una url desde python\r\n",
        "import urllib\r\n",
        "from urllib.request import urlretrieve\r\n",
        "# Librería para llamar a funciones relacionadas con el sistema operativo\r\n",
        "import os"
      ],
      "execution_count": null,
      "outputs": []
    },
    {
      "cell_type": "code",
      "metadata": {
        "id": "Az9JYqOGV0dz"
      },
      "source": [
        "sc = SparkContext.getOrCreate()"
      ],
      "execution_count": null,
      "outputs": []
    },
    {
      "cell_type": "code",
      "metadata": {
        "id": "qLdLaLWPV0nk"
      },
      "source": [
        "sqlContext = SQLContext(sc)"
      ],
      "execution_count": null,
      "outputs": []
    },
    {
      "cell_type": "markdown",
      "metadata": {
        "id": "3G5q0dWoV56I"
      },
      "source": [
        "## Importamos CSV"
      ]
    },
    {
      "cell_type": "code",
      "metadata": {
        "id": "9wiHAZSTV43D"
      },
      "source": [
        "# se importan los datos en formato csv\r\n",
        "data = \"BDpracticafinalCSV.csv\" \r\n",
        "raw_data = sc.textFile(data)"
      ],
      "execution_count": null,
      "outputs": []
    },
    {
      "cell_type": "markdown",
      "metadata": {
        "id": "gEjHZsYPq-KM"
      },
      "source": [
        "Parseo de datos: se observa que los datos están separados por \";\". "
      ]
    },
    {
      "cell_type": "code",
      "metadata": {
        "id": "xjv4WNrcWZLb"
      },
      "source": [
        "# separamos en columnas\r\n",
        "dt_data= raw_data.map(lambda x: x.split(\";\")) "
      ],
      "execution_count": null,
      "outputs": []
    },
    {
      "cell_type": "code",
      "metadata": {
        "id": "x9dZmr2HWOjp"
      },
      "source": [
        "# visualizamos las dos primeras filas\r\n",
        "dt_data.take(2)  "
      ],
      "execution_count": null,
      "outputs": []
    },
    {
      "cell_type": "markdown",
      "metadata": {
        "id": "HJekFl-dU-Jo"
      },
      "source": [
        "## Cuántas viviendas distintas encontramos en el dataset? ¿Se repite alguna? Tiene sentido que haya duplicadas? ¿Qué podemos hacer con las duplicadas?"
      ]
    },
    {
      "cell_type": "markdown",
      "metadata": {
        "id": "JazZkl8RsBJF"
      },
      "source": [
        "Para conocer cuantas viviendas hay y si están duplicadas, primero se van a realizar transformaciones en los datos para que la contabilización sea la correcta.\r\n",
        "\r\n",
        " - Se elimina la primera fila que es la cabecera, para que no se tenga en cuenta en los análisis"
      ]
    },
    {
      "cell_type": "code",
      "metadata": {
        "id": "pKvyggW3ZGSv"
      },
      "source": [
        "# identificamos  la cabecera\r\n",
        "header = dt_data.take(1)[0] \r\n",
        "header"
      ],
      "execution_count": null,
      "outputs": []
    },
    {
      "cell_type": "code",
      "metadata": {
        "id": "lEDPTqfjZGdV"
      },
      "source": [
        "# eliminamos la cabecera del rdd de los datos\r\n",
        "dt_data_nh = dt_data \\\r\n",
        "    .filter(lambda line: line!=header)"
      ],
      "execution_count": null,
      "outputs": []
    },
    {
      "cell_type": "markdown",
      "metadata": {
        "id": "mv01BG4vsnjO"
      },
      "source": [
        "## Filtramos las zonas residenciales (alta, media y baja densidad)\r\n",
        "Se observa que estas zonas contienen diferentes nombres por lo que se decide eliminar aquellos que NO son de estas zonas.\r\n",
        "Se eliminan de los datos las ventas de zonas A <- RURAL, C <- COMERCIAL, FV <- RESIDENCIAL FLOTANTE y I <- INDUSTRIAL.\r\n",
        "\r\n",
        "Se seleccionan todas las columnas.\r\n"
      ]
    },
    {
      "cell_type": "code",
      "metadata": {
        "id": "fXoTuq9Ky5DW"
      },
      "source": [
        "dt_data_nh_filter = dt_data_nh.map(lambda x: (x[0], x[1], x[2], x[3], x[4], x[5], x[6], x[7], x[8], x[9], x[10], x[11], x[12], x[13], x[14], x[15], x[16], x[17], x[18], x[19], x[20], x[21], x[22],x[23],x[24],x[25],x[26],x[27],x[28])).\\\r\n",
        "                filter(lambda x: x[1] != (\"A\")).\\\r\n",
        "                filter(lambda x: x[1] != (\"C\") ).\\\r\n",
        "                filter(lambda x: x[1] != (\"FV\")).\\\r\n",
        "                filter(lambda x: x[1] != (\"I\") ) "
      ],
      "execution_count": null,
      "outputs": []
    },
    {
      "cell_type": "markdown",
      "metadata": {
        "id": "VzDKth0NtV39"
      },
      "source": [
        "El rdd dt_data_nh_filter contiene todos los datos de las zonas seleccionadas sin cabecera.\r\n",
        "De aquí en adelante todas las operaciones se realizarán sobre la muestra ya filtrada en estas zonas\r\n",
        "\r\n",
        "A continuación conocemos cuantos registros contiene:"
      ]
    },
    {
      "cell_type": "code",
      "metadata": {
        "id": "lxc10e7xXcjH"
      },
      "source": [
        "# cuenta del número de filas\r\n",
        "(dt_data_nh_filter.map(lambda line: line[0]).count()) \r\n"
      ],
      "execution_count": null,
      "outputs": []
    },
    {
      "cell_type": "markdown",
      "metadata": {
        "id": "95lFrzAltlqU"
      },
      "source": [
        "Hay 2768 registros en los datos.\r\n",
        "\r\n",
        "Se pasa el RDD a formato tabla SQL para poder realizar diferentes cálculos y operaciones.\r\n",
        "\r\n",
        "Hay que tener en cuenta que se realiza con un rdd que no tiene cabecera."
      ]
    },
    {
      "cell_type": "code",
      "metadata": {
        "id": "QdNGxCJKbxo2"
      },
      "source": [
        "df_data = sqlContext.createDataFrame (dt_data_nh_filter  )"
      ],
      "execution_count": null,
      "outputs": []
    },
    {
      "cell_type": "code",
      "metadata": {
        "id": "oOTNS02RfkrK"
      },
      "source": [
        "# visualizamos el dataframe SQL creado con el rdd\r\n",
        "df_data.show(10)"
      ],
      "execution_count": null,
      "outputs": []
    },
    {
      "cell_type": "markdown",
      "metadata": {
        "id": "kPeuhuU64JHS"
      },
      "source": [
        "Al no tener cabecera, es importante conocer que el orden es el mismo que el expuesto en metada. Siendo _1 la variable Order y _29 la variable de precio."
      ]
    },
    {
      "cell_type": "code",
      "metadata": {
        "id": "DfzvRlJXiMVi"
      },
      "source": [
        "df_data.createOrReplaceTempView(\"df_data\") # necesario para operar con el df"
      ],
      "execution_count": null,
      "outputs": []
    },
    {
      "cell_type": "markdown",
      "metadata": {
        "id": "I0MM5DMlwOxR"
      },
      "source": [
        "Cuenta de valores únicos en el DF.\r\n",
        "Para este cálculo se utiliza la primera columna \"Order\" que es un identificador único por vivienda:"
      ]
    },
    {
      "cell_type": "code",
      "metadata": {
        "id": "NczlBklGYdDH"
      },
      "source": [
        "sqlContext.sql(\"\"\"SELECT COUNT(DISTINCT _1) AS Nro_viviendas\r\n",
        "                  FROM df_data \"\"\").show()"
      ],
      "execution_count": null,
      "outputs": []
    },
    {
      "cell_type": "markdown",
      "metadata": {
        "id": "_WJwsRdgwfM5"
      },
      "source": [
        "Hay 2768 viviendas únicas y 2762 registros. Esto nos indica que hay viviendas que se encunetran más de una vez en el registro.\r\n",
        "Interpretando que tipo de base de datos y qué significa cada uno de los registros he decidido no eliminar los duplicados ya que una sola vivienda puede haber formado parte de dos transacciones diferentes en momentos diferentes, aunque sea en el mismo año. Esto puede aportar posible informacion acerca de la evolución de los precios de mercado.No existe en la metadata más infromación para descartar que una misma vivienda no pueda venderse y registrarse más de una vez y que esto sea una errata. Por lo tanto, se mantienen todos los registros."
      ]
    },
    {
      "cell_type": "markdown",
      "metadata": {
        "id": "I83d1lzsU-Jp"
      },
      "source": [
        "## ¿Podrías decirme el total de inmuebles y el precio medio (Sale Price) de cada zona (MS Zoning)?"
      ]
    },
    {
      "cell_type": "markdown",
      "metadata": {
        "id": "3rGrij_WzXDV"
      },
      "source": [
        "Mediante SPARK SQL se realiza la siguiente tabla que muestra el conteo de ventas por cada zona y su precio medio. \r\n",
        "\r\n",
        "Ha hanido que unificar las zonas de las viviendas ya que presentaban formas diferentes como rL y Rl."
      ]
    },
    {
      "cell_type": "code",
      "metadata": {
        "colab": {
          "base_uri": "https://localhost:8080/"
        },
        "id": "djwQdRTVi-vh",
        "outputId": "082c1d03-e43c-4ebd-ba4d-e918d1cfa128"
      },
      "source": [
        "sqlContext.sql(\"\"\"SELECT  count( _1) AS Nro_viviendas, AVG(_29) AS precio_medio,\r\n",
        "                  CASE _2 WHEN 'Rl' THEN 'RL'\r\n",
        "                          WHEN 'rL' THEN 'RL'\r\n",
        "                          WHEN 'RL' THEN 'RL'\r\n",
        "                          WHEN 'RH' THEN 'RH'\r\n",
        "                          ELSE 'RM' END AS ZONA\r\n",
        "                  FROM df_data \r\n",
        "                  GROUP BY ZONA \"\"\").show()"
      ],
      "execution_count": null,
      "outputs": [
        {
          "output_type": "stream",
          "text": [
            "+-------------+------------------+----+\n",
            "|Nro_viviendas|      precio_medio|ZONA|\n",
            "+-------------+------------------+----+\n",
            "|           27|136419.77777777778|  RH|\n",
            "|         2279| 191412.6068451075|  RL|\n",
            "|          462|126781.39393939394|  RM|\n",
            "+-------------+------------------+----+\n",
            "\n"
          ],
          "name": "stdout"
        }
      ]
    },
    {
      "cell_type": "markdown",
      "metadata": {
        "id": "7o3G4cLD0JEY"
      },
      "source": [
        "Como se ha explicado en el ejercicio anterior se decide tener en cuenta todos los registros ya que hay viviendas que pueden haberse vendido en más de una ocasión.\r\n",
        "\r\n",
        "Por lo que esta tabla tabla muestra el total de inmuebles de la BBDD agrupados por zona e indicando su precio medio"
      ]
    },
    {
      "cell_type": "markdown",
      "metadata": {
        "id": "Z6I43iYWU-Jp"
      },
      "source": [
        "## Media de Total Bsmt SF por cada década de construcción calculada a partir de Year Built. \n",
        "## ¿Cuál es la decada de construcción con viviendas mejor acondicionadas para el frío (Heating QC)?"
      ]
    },
    {
      "cell_type": "markdown",
      "metadata": {
        "id": "Am7Tikau1E-q"
      },
      "source": [
        "El objetivo es agrupar cada transaccion por decadas calculada mediante el campo Year Buit. \r\n",
        "\r\n",
        "Despues, habrá que utilizar la clasificación Heating QC para identificar cual es la media de este ratio para cada década y así poder establecer un ranking por décadas en función de esta caraterística.\r\n",
        "\r\n",
        "En primer lugar, para realizar la agrupación visualizamos el primer y el último año de construcción de las viviendas:"
      ]
    },
    {
      "cell_type": "code",
      "metadata": {
        "colab": {
          "base_uri": "https://localhost:8080/"
        },
        "id": "7epKmVefjqLI",
        "outputId": "69010c66-6622-49f6-b5e4-060dc3481bdd"
      },
      "source": [
        "sqlContext.sql(\"\"\"SELECT  min( _8) , max(_8)\r\n",
        "                  FROM df_data \"\"\").show()"
      ],
      "execution_count": null,
      "outputs": [
        {
          "output_type": "stream",
          "text": [
            "+-------+-------+\n",
            "|min(_8)|max(_8)|\n",
            "+-------+-------+\n",
            "|   1872|   2010|\n",
            "+-------+-------+\n",
            "\n"
          ],
          "name": "stdout"
        }
      ]
    },
    {
      "cell_type": "markdown",
      "metadata": {
        "id": "cltln65F2JqF"
      },
      "source": [
        "La primera vivienda de la bbdd fue construida en 1872 y la última en 2010.\r\n",
        "\r\n",
        "A continuación mediante SPARK SQL se realiza la agrupación por décadas, indicando en esta nueva columna el siglo y la década a la que pertence cada vivienda.\r\n",
        "\r\n",
        "Además, para poder realizar un ratio acerca de la calidad de de su acondicionamiento al frío se crea otra nueva columna num_heatingQ, que identificará numericamente mediante la siguiente equivalencia: \r\n",
        "\r\n",
        "Heating QC\tCalidad de la calefacción\t\"Ex Excelente = 5 ,Gd Bueno = 4,TA Media = 3,Fa Justo = 2 ,Po Pobre = 1\".\r\n",
        "\r\n",
        "Así las viviendas con mayor calificación numérica serán las mejor acondicionadas al frío.\r\n",
        "\r\n",
        "Esta nueva identificación permite calcula cual es la media de la calidad del acondicionamiento de las viviendas según la década en la que fueron construidas. A mayor media de esta nueva variable en la década de construcción mejoe es el acondicionamiento"
      ]
    },
    {
      "cell_type": "code",
      "metadata": {
        "id": "g6fNUztWjqTt"
      },
      "source": [
        "from pyspark.sql.functions import*\r\n",
        "df_data.createOrReplaceTempView(\"df_decade_quality\")\r\n",
        "df_decade_quality = sqlContext.sql(\"\"\" SELECT*, \r\n",
        "CASE\r\n",
        "    WHEN _8 < 1880 THEN 'XIX_70s'\r\n",
        "    WHEN _8<1890 THEN 'XIX_80s'\r\n",
        "    WHEN _8<1900 THEN 'XIX_90s'\r\n",
        "    WHEN _8<1910 THEN 'XX_00s'\r\n",
        "    WHEN _8<1920 THEN 'XX_10s'\r\n",
        "    WHEN _8<1930 THEN 'XX_20s'\r\n",
        "    WHEN _8<1940 THEN 'XX_30s'\r\n",
        "    WHEN _8<1950 THEN 'XX_40s'\r\n",
        "    WHEN _8<1960 THEN 'XX_50s'\r\n",
        "    WHEN _8<1970 THEN 'XX_60s'\r\n",
        "    WHEN _8<1980 THEN 'XX_70s'\r\n",
        "    WHEN _8<1990 THEN 'XX_80s'\r\n",
        "    WHEN _8<2000 THEN 'XX_90s'\r\n",
        "    WHEN _8<2010 THEN 'XXI_00s'\r\n",
        "    ELSE 'XXI_10s'\r\n",
        "END  AS decada,\r\n",
        "CASE\r\n",
        "    WHEN _14 = 'Ex' THEN 5\r\n",
        "    WHEN _14 = 'Gd' THEN 4\r\n",
        "    WHEN _14 = 'TA' THEN 3\r\n",
        "    WHEN _14 = 'Fa' THEN 2\r\n",
        "    ELSE 1\r\n",
        "END  AS num_heatingQ\r\n",
        "FROM df_data \r\n",
        "\"\"\").persist()"
      ],
      "execution_count": null,
      "outputs": []
    },
    {
      "cell_type": "markdown",
      "metadata": {
        "id": "tKwaR2cs3nMC"
      },
      "source": [
        "Se ha relaizado un persist para poder guardar las nuevas columnas creadas. Visualizamos los datos a continuación:"
      ]
    },
    {
      "cell_type": "code",
      "metadata": {
        "colab": {
          "base_uri": "https://localhost:8080/"
        },
        "id": "HfTvkjR2CY1w",
        "outputId": "37e808cd-12ed-4da8-8982-24573662d42a"
      },
      "source": [
        "df_decade_quality.show(10)"
      ],
      "execution_count": null,
      "outputs": [
        {
          "output_type": "stream",
          "text": [
            "+---+---+---+-----+---+---+---+----+----+-------+---+---+----+---+---+---+---+---+---+---+---+---+---+---+---+---+---+----+------+-------+------------+\n",
            "| _1| _2| _3|   _4| _5| _6| _7|  _8|  _9|    _10|_11|_12| _13|_14|_15|_16|_17|_18|_19|_20|_21|_22|_23|_24|_25|_26|_27| _28|   _29| decada|num_heatingQ|\n",
            "+---+---+---+-----+---+---+---+----+----+-------+---+---+----+---+---+---+---+---+---+---+---+---+---+---+---+---+---+----+------+-------+------------+\n",
            "|  1| RL|141|31770|Lvl|Gtl|  6|1960|1960|  Stone| TA| Gd|1080| Fa|  Y|  1|  0|  3|  1| TA|  7|  2|528| TA|  0| Sp|  5|2010|215000| XX_60s|           2|\n",
            "|  2| RH| 80|11622|Lvl|Gtl|  5|1961|1961|   None| TA| TA| 882| TA|  Y|  1|  0|  2|  1| TA|  5|  1|730| TA|  0| Sp|  6|2010|105000| XX_60s|           3|\n",
            "|  3| RL| 81|14267|Lvl|Gtl|  6|1958|1958|BrkFace| TA| TA|1329| TA|  Y|  1|  1|  3|  1| Gd|  6|  1|312| TA|  0| Sp|  6|2010|172000| XX_50s|           3|\n",
            "|  4| RL| 93|11160|Lvl|Gtl|  7|1968|1968|   None| Gd| TA|2110| Ex|  Y|  2|  1|  3|  1| Ex|  8|  2|522| TA|  0| Sp|  4|2010|244000| XX_60s|           5|\n",
            "|  5| RL| 74|13830|Lvl|Gtl|  5|1997|1998|   None| TA| TA| 928| Gd|  Y|  2|  1|  3|  1| TA|  6|  2|482| TA|  0| Sp|  3|2010|189900| XX_90s|           4|\n",
            "|  6| RL| 78| 9978|Lvl|Gtl|  6|1998|1998|BrkFace| TA| TA| 926| Ex|  Y|  2|  1|  3|  1| Gd|  7|  2|470| TA|  0| Sp|  6|2010|195500| XX_90s|           5|\n",
            "|  7| RL| 41| 4920|Lvl|Gtl|  8|2001|2001|   None| Gd| TA|1338| Ex|  Y|  2|  0|  2|  1| Gd|  6|  2|582| TA|  0| Sp|  4|2010|213500|XXI_00s|           5|\n",
            "|  8| RL| 43| 5005|HLS|Gtl|  8|1992|1992|   None| Gd| TA|1280| Ex|  Y|  2|  0|  2|  1| Gd|  5|  2|506| TA|  0| Sp|  1|2010|191500| XX_90s|           5|\n",
            "|  9| RL| 39| 5389|Lvl|Gtl|  8|1995|1996|   None| Gd| TA|1595| Ex|  Y|  2|  0|  2|  1| Gd|  5|  2|608| TA|  0| Sp|  3|2010|236500| XX_90s|           5|\n",
            "| 10| RL| 60| 7500|Lvl|Gtl|  7|1999|1999|   None| TA| TA| 994| Gd|  Y|  2|  1|  3|  1| Gd|  7|  2|442| TA|  0| Sp|  6|2010|189000| XX_90s|           4|\n",
            "+---+---+---+-----+---+---+---+----+----+-------+---+---+----+---+---+---+---+---+---+---+---+---+---+---+---+---+---+----+------+-------+------------+\n",
            "only showing top 10 rows\n",
            "\n"
          ],
          "name": "stdout"
        }
      ]
    },
    {
      "cell_type": "code",
      "metadata": {
        "id": "u9EGOOGGDPjH"
      },
      "source": [
        "df_decade_quality.createOrReplaceTempView(\"df_decade_quality\")"
      ],
      "execution_count": null,
      "outputs": []
    },
    {
      "cell_type": "markdown",
      "metadata": {
        "id": "eNybkwTD5GMJ"
      },
      "source": [
        "__Media de tamaño de los sótanos en pies cuadrados por dácada de construcción:__"
      ]
    },
    {
      "cell_type": "markdown",
      "metadata": {
        "id": "QyXgQb5L5XBa"
      },
      "source": [
        "Una vez tenemos a que década ha pertenecido cada vivienda es posible calcula la media, en pies cuadrados, del tamaño de los sótanos. La variable Total Bsmt SF es la _13 de la tabla de datos."
      ]
    },
    {
      "cell_type": "code",
      "metadata": {
        "colab": {
          "base_uri": "https://localhost:8080/"
        },
        "id": "ZBspq5C95m_d",
        "outputId": "bbcf96a9-3f16-44de-cc45-001504bb3156"
      },
      "source": [
        "\r\n",
        "sqlContext.sql(\"\"\" SELECT decada , AVG(_13) AS media_sotano\r\n",
        " FROM df_decade_quality\r\n",
        " GROUP BY decada\r\n",
        " \"\"\").show()"
      ],
      "execution_count": null,
      "outputs": [
        {
          "output_type": "stream",
          "text": [
            "+-------+------------------+\n",
            "| decada|      media_sotano|\n",
            "+-------+------------------+\n",
            "| XX_10s| 788.3009708737864|\n",
            "| XX_00s| 720.1388888888889|\n",
            "|XIX_70s|             761.0|\n",
            "|XIX_80s|             836.0|\n",
            "| XX_30s| 769.9158878504672|\n",
            "|XXI_00s|1349.7657657657658|\n",
            "| XX_90s|            1138.6|\n",
            "|XIX_90s| 885.5833333333334|\n",
            "| XX_20s| 833.9368421052632|\n",
            "| XX_70s|  953.917808219178|\n",
            "| XX_80s|            1086.0|\n",
            "| XX_50s| 968.2955223880597|\n",
            "| XX_60s| 1082.672268907563|\n",
            "| XX_40s| 706.9261744966443|\n",
            "|XXI_10s|            1539.0|\n",
            "+-------+------------------+\n",
            "\n"
          ],
          "name": "stdout"
        }
      ]
    },
    {
      "cell_type": "code",
      "metadata": {
        "id": "Mxhoeb4r5S4I"
      },
      "source": [
        ""
      ],
      "execution_count": null,
      "outputs": []
    },
    {
      "cell_type": "markdown",
      "metadata": {
        "id": "F1bifrWk5Ta7"
      },
      "source": [
        "__Década con las viviendas mejor acondcionadas al frío:__\r\n",
        "\r\n",
        "Agrupamos los registros por décadas y calculamos la calidad media de sua condicionamiento al frío a traves de la columna numérica calculada.\r\n",
        "\r\n",
        "La década con una media mayor será la mejor acondicionada al frío."
      ]
    },
    {
      "cell_type": "code",
      "metadata": {
        "colab": {
          "base_uri": "https://localhost:8080/"
        },
        "id": "lQMgArZrriRc",
        "outputId": "163cdbef-046a-48aa-81eb-1d47afff4946"
      },
      "source": [
        "sqlContext.sql(\"\"\" SELECT decada, AVG(num_quality) AS calidad_media\r\n",
        "FROM df_decade_quality\r\n",
        "GROUP BY decada\r\n",
        "ORDER BY calidad_media DESC\r\n",
        "\"\"\").show()"
      ],
      "execution_count": null,
      "outputs": [
        {
          "output_type": "stream",
          "text": [
            "+-------+------------------+\n",
            "| decada|     calidad_media|\n",
            "+-------+------------------+\n",
            "|XXI_10s|               5.0|\n",
            "|XXI_00s|4.9624624624624625|\n",
            "| XX_90s| 4.720634920634921|\n",
            "|XIX_90s|               4.0|\n",
            "| XX_00s|3.9444444444444446|\n",
            "| XX_10s|3.9223300970873787|\n",
            "| XX_30s|3.9158878504672896|\n",
            "|XIX_80s|             3.875|\n",
            "| XX_40s|3.8322147651006713|\n",
            "| XX_50s|3.7522388059701495|\n",
            "| XX_80s|              3.75|\n",
            "| XX_60s|3.6862745098039214|\n",
            "| XX_20s|3.6473684210526316|\n",
            "| XX_70s|3.4547945205479453|\n",
            "|XIX_70s|               3.0|\n",
            "+-------+------------------+\n",
            "\n"
          ],
          "name": "stdout"
        }
      ]
    },
    {
      "cell_type": "markdown",
      "metadata": {
        "id": "jyf1cpEY56CM"
      },
      "source": [
        "Se ha ordenado de mayor a menor calidad de acondicionamiento y el resultado muestra que la década con mviviendas mejores acondicionadas al frío es la década que comienza en el 2010. Por el contrario las viviendas peor acondicionadas son las construídas en la decada que comenzó en 1870."
      ]
    },
    {
      "cell_type": "markdown",
      "metadata": {
        "id": "V_GgtfUmU-Jp"
      },
      "source": [
        "## ¿Cuáles son las 10 viviendas que se vendieron por un precio más elevado por metro cuadrado en el año 2009?"
      ]
    },
    {
      "cell_type": "markdown",
      "metadata": {
        "id": "jj6TTU-26RGT"
      },
      "source": [
        "Para calcular estas 10 viviendas se va a utilizar SPARK SQL. \r\n",
        "Hayq ue tener en cuenta que la información del tamaño de la vivienda viene dada en pies cuadrados. Para obtener los metros cuadrados se aplica : 1 pie cudrado = 0.092903 metros cuadrados.\r\n",
        "\r\n",
        "Para conocer el precio de las viviendas por metro cuadrados hay que dividir el valor total de la vivienda entre los metros cuadrados:\r\n",
        "\r\n",
        "Precio_Vivienda/(pies_cudrdados*0.092903)\r\n",
        "\r\n",
        "El precio de la vivienda es la columna _29 y el tamaño en pies cuadrados es la columna _4 \r\n",
        "\r\n",
        "Se añade un orden descente y nos quedamos con los 10 primeros registros:"
      ]
    },
    {
      "cell_type": "code",
      "metadata": {
        "colab": {
          "base_uri": "https://localhost:8080/"
        },
        "id": "kU0biULyDmU0",
        "outputId": "bfa8d907-7304-4480-e2b3-078c63945a31"
      },
      "source": [
        "\r\n",
        "sqlContext.sql(\"\"\" SELECT _1 AS id_vivienda, _29/(_4*0.092903) AS precio_metros_cuadrados\r\n",
        "FROM df_data\r\n",
        "WHERE _28 =2009\r\n",
        "ORDER BY precio_metros_cuadrados DESC\r\n",
        "\"\"\").show(10)"
      ],
      "execution_count": null,
      "outputs": [
        {
          "output_type": "stream",
          "text": [
            "+-----------+-----------------------+\n",
            "|id_vivienda|precio_metros_cuadrados|\n",
            "+-----------+-----------------------+\n",
            "|        936|     1026.7118971897073|\n",
            "|        934|      991.0325013521444|\n",
            "|        464|      821.0570122815511|\n",
            "|        935|      807.9613655043873|\n",
            "|        408|       765.647528938273|\n",
            "|        407|      756.0368904997173|\n",
            "|        405|      717.5943367454944|\n",
            "|        933|       714.281725843034|\n",
            "|        403|      711.1872444531239|\n",
            "|        411|      701.0707829388548|\n",
            "+-----------+-----------------------+\n",
            "only showing top 10 rows\n",
            "\n"
          ],
          "name": "stdout"
        }
      ]
    },
    {
      "cell_type": "markdown",
      "metadata": {
        "id": "uUhdflTB7aEy"
      },
      "source": [
        "La vivienda identificada con el número 936 fue la que se vendión por un precio más elevado por metros cuadrados, 1026 dolares por metro cuadrado"
      ]
    },
    {
      "cell_type": "markdown",
      "metadata": {
        "id": "HA7xJqTwU-Jp"
      },
      "source": [
        "## Media anual por zonas del precio de venta y metros cuadrados."
      ]
    },
    {
      "cell_type": "markdown",
      "metadata": {
        "id": "pVlEbTd883t_"
      },
      "source": [
        "El objetivo es identificar para cada año en el que estamos estudiando las ventas, cual es el precio medio de las viviendas en cada zona.\r\n",
        "La bbdd de las ventas comienza en 2006 y finaliza en 2010.\r\n",
        "\r\n",
        "Agrupamos las ventas por años y por zonas, y para cada una de estas combianciones estudiamos su precio medio y su tamaño medio en metros cuadrados.\r\n",
        "\r\n",
        "Se ha procedido a realizar este cálculo mediante SPARK SQL. Hay que tener en cuenta que el año de venta es la columna _28, la zona la columna _2 (sobre la que realizamos la agrupación correcta anteriormente comentada), el precio la columna _29 y el tamaño en metros cuadrados los calculamos _4*0.092903"
      ]
    },
    {
      "cell_type": "code",
      "metadata": {
        "colab": {
          "base_uri": "https://localhost:8080/"
        },
        "id": "T0S4PE3hJrkg",
        "outputId": "5077f44b-2bb7-4811-f97d-d797e5f6465e"
      },
      "source": [
        "sqlContext.sql(\"\"\" SELECT _28 AS YEAR, CASE _2 WHEN 'Rl' THEN 'RL'\r\n",
        "                          WHEN 'rL' THEN 'RL'\r\n",
        "                          WHEN 'RL' THEN 'RL'\r\n",
        "                          WHEN 'RH' THEN 'RH'\r\n",
        "                          ELSE 'RM' END AS ZONA, AVG(_29) AS precio_medio, AVG(_4*0.092903) AS metros_cuadrados_medios\r\n",
        "FROM df_data\r\n",
        "GROUP BY _28, ZONA\r\n",
        "ORDER BY YEAR\r\n",
        "\"\"\").show()"
      ],
      "execution_count": null,
      "outputs": [
        {
          "output_type": "stream",
          "text": [
            "+----+----+------------------+-----------------------+\n",
            "|YEAR|ZONA|      precio_medio|metros_cuadrados_medios|\n",
            "+----+----+------------------+-----------------------+\n",
            "|2006|  RL|194911.28194726165|     1043.6885082028389|\n",
            "|2006|  RM|127502.63725490196|      575.0140103627449|\n",
            "|2006|  RH|140316.66666666666|      659.5648484999999|\n",
            "|2007|  RL|193399.98014440434|     1059.6779461064987|\n",
            "|2007|  RM|128947.62105263158|      625.4484220842105|\n",
            "|2007|  RH|          147250.0|           651.31970725|\n",
            "|2008|  RM| 133336.1219512195|      623.6691686341463|\n",
            "|2008|  RL|189885.58515283844|     1047.6533375414854|\n",
            "|2008|  RH|150333.33333333334|      766.1400733333334|\n",
            "|2009|  RM|118759.86904761905|      552.5560763333336|\n",
            "|2009|  RL|190455.55086372362|     1002.1840689904019|\n",
            "|2009|  RH|          116206.8|      647.1437173999999|\n",
            "|2010|  RM|119681.70689655172|      586.1042039137931|\n",
            "|2010|  RH|          126280.0|            753.0345568|\n",
            "|2010|  RL|  184978.418972332|     1011.3593166600795|\n",
            "+----+----+------------------+-----------------------+\n",
            "\n"
          ],
          "name": "stdout"
        }
      ]
    },
    {
      "cell_type": "markdown",
      "metadata": {
        "id": "dydIj2G8U-Jq"
      },
      "source": [
        "## ¿Podrías decirme el total de recaudación de las casas de revistimiento (Mas Vnr Type) de piedra con respecto a las de ladrillo? ¿Hay diferencia significativa?"
      ]
    },
    {
      "cell_type": "markdown",
      "metadata": {
        "id": "uw12saoOOneA"
      },
      "source": [
        "El obtivo es identificar la suma total de los precios de las viviendas, analizando si influye que su revestimiento sea piedra o ladrillo.\r\n",
        "\r\n",
        "En primer lugar bisualizamos todos los tipos de revestimiento y la suma de los precios de todas las ventas"
      ]
    },
    {
      "cell_type": "code",
      "metadata": {
        "colab": {
          "base_uri": "https://localhost:8080/"
        },
        "id": "t3SM_pfdQcw2",
        "outputId": "f16c3bd7-9a5e-4def-ed26-b66b3378e212"
      },
      "source": [
        "from pyspark.sql.functions import sum\r\n",
        "sqlContext.sql(\"\"\"  SELECT _10 AS material_revestimietno , COUNT(_1) AS num_viviendas,SUM(_29) AS precio_total\r\n",
        "FROM df_data\r\n",
        "GROUP BY _10\r\n",
        "\"\"\").show()"
      ],
      "execution_count": null,
      "outputs": [
        {
          "output_type": "stream",
          "text": [
            "+----------------------+-------------+------------+\n",
            "|material_revestimietno|num_viviendas|precio_total|\n",
            "+----------------------+-------------+------------+\n",
            "|                  None|         1646|2.51160498E8|\n",
            "|                BrkCmn|           25|   3504975.0|\n",
            "|                 Stone|          230| 6.0495477E7|\n",
            "|                      |           16|   3831658.0|\n",
            "|               BrkFace|          850|1.79413061E8|\n",
            "|                CBlock|            1|     80000.0|\n",
            "+----------------------+-------------+------------+\n",
            "\n"
          ],
          "name": "stdout"
        }
      ]
    },
    {
      "cell_type": "markdown",
      "metadata": {
        "id": "Lhde5AjWQmuW"
      },
      "source": [
        "\r\n",
        "Hay que tener en cuenta que de ladrillo hay 875 ventas en total mientras que de piedra hay 230. Para poder hacer un cáculo en el que se puedan comparar mejor ambos recubrimientos calcularemos el precio medio para las de ladrillo y el precio medio para las de piedra.\r\n",
        "\r\n",
        "\r\n",
        "Realizamos estos cáculos mediante SPARK SQL agrupando las casas por los carácteres contenidos en su tipo de recubriemietno,\r\n",
        "Se observa que aquella que están revestidas con ladrillo tienen en común la parte Brk.\r\n",
        "Y las de piedra Stone.\r\n"
      ]
    },
    {
      "cell_type": "code",
      "metadata": {
        "colab": {
          "base_uri": "https://localhost:8080/"
        },
        "id": "zp215rVCO_mG",
        "outputId": "da943d40-bfff-4b9d-ac9a-d2ebda93cee9"
      },
      "source": [
        "from pyspark.sql.functions import sum\r\n",
        "sqlContext.sql(\"\"\"  SELECT AVG(_29) AS precio_medio_ladrillo\r\n",
        "FROM df_data\r\n",
        "WHERE _10 LIKE '%Brk%'\r\n",
        "\"\"\").show()"
      ],
      "execution_count": null,
      "outputs": [
        {
          "output_type": "stream",
          "text": [
            "+---------------------+\n",
            "|precio_medio_ladrillo|\n",
            "+---------------------+\n",
            "|           209049.184|\n",
            "+---------------------+\n",
            "\n"
          ],
          "name": "stdout"
        }
      ]
    },
    {
      "cell_type": "code",
      "metadata": {
        "colab": {
          "base_uri": "https://localhost:8080/"
        },
        "id": "mZ_L3GUNQOzr",
        "outputId": "dc49bdee-57b9-44a9-9788-64106c20a880"
      },
      "source": [
        "from pyspark.sql.functions import sum\r\n",
        "sqlContext.sql(\"\"\"  SELECT AVG(_29) AS precio_medio_piedra\r\n",
        "FROM df_data\r\n",
        "WHERE _10 LIKE '%Stone%'\r\n",
        "\"\"\").show()"
      ],
      "execution_count": null,
      "outputs": [
        {
          "output_type": "stream",
          "text": [
            "+-------------------+\n",
            "|precio_medio_piedra|\n",
            "+-------------------+\n",
            "| 263023.81304347824|\n",
            "+-------------------+\n",
            "\n"
          ],
          "name": "stdout"
        }
      ]
    },
    {
      "cell_type": "markdown",
      "metadata": {
        "id": "Nyb0xissUE_5"
      },
      "source": [
        "Se observa que la recaudación media por vivienda es mayor para las recubiertas por piedra. Sin embargo, al haber más casas de ladrillo la recudación total es mayor la de las casas recubiertas de ladrillo"
      ]
    },
    {
      "cell_type": "markdown",
      "metadata": {
        "id": "Poi9Tih7U-Jq"
      },
      "source": [
        "## ¿Cuánto son más caras las viviendas con 2 cocinas, con 2 o más plazas de garaje que las que tienen 1 cocina y 1 plaza de garaje? Comparar medias y cuartiles de ambos casos"
      ]
    },
    {
      "cell_type": "markdown",
      "metadata": {
        "id": "MSVwtdQTWeS4"
      },
      "source": [
        "El objetivo es conocer las estadísticas de las vivivendas con las caracterísiticas señaladas.\r\n",
        "\r\n",
        "\r\n",
        "__Viendas con dos cocinas y dos o más plazas de garage.__\r\n",
        "\r\n",
        "En primer lugar, se va a estudiar la distribución y los valores medios de los precios para viviedas con dos cocinas y dos o más plazas de garages.\r\n",
        "Para ello se va trabajar con los rdd. Nos interesa filtrar aquellas viviendas con dos cocinas, el número de cocinas es la columna [18], y con dos o más garges, columna [21]. Además necesitamos conocer el precio de estas viviendas"
      ]
    },
    {
      "cell_type": "code",
      "metadata": {
        "id": "_OM_5_bESh3D"
      },
      "source": [
        "dt_2coci_2bath = dt_data_nh_filter.map(lambda x: (x[0],x[18],x[21],x[28])).\\\r\n",
        "                filter(lambda x: x[1] == '2').\\\r\n",
        "                filter(lambda x: x[2] >'1' )"
      ],
      "execution_count": null,
      "outputs": []
    },
    {
      "cell_type": "code",
      "metadata": {
        "id": "C7Gt1q5qWPKu"
      },
      "source": [
        "dt_2coci_2bath.take(10) # visualizamos que ha cogido las características correctas"
      ],
      "execution_count": null,
      "outputs": []
    },
    {
      "cell_type": "code",
      "metadata": {
        "id": "UavUFwHcXdr7"
      },
      "source": [
        "# indicamos el tipo de columnas con el que estamos trabajando ya que necesimaos hacer algunos cálculos"
      ],
      "execution_count": null,
      "outputs": []
    },
    {
      "cell_type": "code",
      "metadata": {
        "id": "CC3p19a5V-8h"
      },
      "source": [
        "dt_2coci_2bath_clean = dt_2coci_2bath.map(lambda x: (str(x[0]),  float(x[1]), float(x[2]), float(x[3]) ))"
      ],
      "execution_count": null,
      "outputs": []
    },
    {
      "cell_type": "code",
      "metadata": {
        "id": "dyeCfJcPXnOd"
      },
      "source": [
        "# se crea el df para poder extraer las carácterisicas numéricas"
      ],
      "execution_count": null,
      "outputs": []
    },
    {
      "cell_type": "code",
      "metadata": {
        "id": "c6swL82SZLlO"
      },
      "source": [
        "df_2coci_2bath_clean = sqlContext.createDataFrame (dt_2coci_2bath_clean  )"
      ],
      "execution_count": null,
      "outputs": []
    },
    {
      "cell_type": "markdown",
      "metadata": {
        "id": "ow-2FtN0Xtnl"
      },
      "source": [
        "Caracterísiticas numéricas: nos interesa las de la columna _4 ya que nos indica el precio"
      ]
    },
    {
      "cell_type": "code",
      "metadata": {
        "id": "dv_o_4tsZPwf"
      },
      "source": [
        "df_2coci_2bath_clean.summary().show()"
      ],
      "execution_count": null,
      "outputs": []
    },
    {
      "cell_type": "markdown",
      "metadata": {
        "id": "1k_fb64uX6Sy"
      },
      "source": [
        "Para viviendas con dos cocinas y dos o más plazas de garage el precio medio es 145124.28 dollars. En cuanto a los cuartiles, el cuartil 25% es 118964$, esto quiere decir que el 25% de las vivivendas de estas caracterísiticas su precio de venta fue menor que 118964. La mediana es 141000. Y el cuartil 75% es 159000, esto indica que el 75% de las viviendas de estas caracterísitcas  se vendieron por menos de 159000 dólares.\r\n",
        "\r\n",
        "Comprobamos que la media es igual que calculandolo sobre el rdd"
      ]
    },
    {
      "cell_type": "code",
      "metadata": {
        "colab": {
          "base_uri": "https://localhost:8080/"
        },
        "id": "imj7rSK3UyYQ",
        "outputId": "84d28a1b-2c4c-40ca-d7e0-c8d3d755b745"
      },
      "source": [
        "dt_2coci_2bath_clean.map(lambda x: (x[3])).mean()"
      ],
      "execution_count": null,
      "outputs": [
        {
          "output_type": "execute_result",
          "data": {
            "text/plain": [
              "145124.27906976745"
            ]
          },
          "metadata": {
            "tags": []
          },
          "execution_count": 267
        }
      ]
    },
    {
      "cell_type": "markdown",
      "metadata": {
        "id": "Xd2sP-hsY67q"
      },
      "source": [
        "Realizamos el mismo porceso para:\r\n",
        "\r\n",
        "__Viviendas con una cocina y una plaza de garage:__\r\n",
        "\r\n",
        "Como se ha realiza anteriormente filtramos el rdd para que tenga las caraterísticas que se han indicado"
      ]
    },
    {
      "cell_type": "code",
      "metadata": {
        "id": "ilmJMOIGUyfl"
      },
      "source": [
        "dt_1coci_1gara = dt_data_nh_filter.map(lambda x: (x[0],x[18],x[21],x[28])).\\\r\n",
        "                filter(lambda x: x[1] == '1').\\\r\n",
        "                filter(lambda x: x[2] =='1' )"
      ],
      "execution_count": null,
      "outputs": []
    },
    {
      "cell_type": "markdown",
      "metadata": {
        "id": "PZLzaO23ZWwS"
      },
      "source": [
        "Indicamos el tipo de columnas con el que estamos trabajando para poder realizar los cálculos sobre ellas:"
      ]
    },
    {
      "cell_type": "code",
      "metadata": {
        "id": "n-TxwbHjUyi0"
      },
      "source": [
        "dt_1coci_1gara_clean = dt_1coci_1gara.map(lambda x: (str(x[0]),  float(x[1]), float(x[2]), float(x[3]) ))"
      ],
      "execution_count": null,
      "outputs": []
    },
    {
      "cell_type": "code",
      "metadata": {
        "colab": {
          "base_uri": "https://localhost:8080/"
        },
        "id": "Tia3O64RXGwX",
        "outputId": "9a8f2018-8b31-448b-8201-a38f7f911b3b"
      },
      "source": [
        "dt_1coci_1gara.take(10)"
      ],
      "execution_count": null,
      "outputs": [
        {
          "output_type": "execute_result",
          "data": {
            "text/plain": [
              "[('2', '1', '1', '105000'),\n",
              " ('3', '1', '1', '172000'),\n",
              " ('26', '1', '1', '142000'),\n",
              " ('30', '1', '1', '96000'),\n",
              " ('31', '1', '1', '105500'),\n",
              " ('32', '1', '1', '88000'),\n",
              " ('35', '1', '1', '120000'),\n",
              " ('76', '1', '1', '143000'),\n",
              " ('78', '1', '1', '99500'),\n",
              " ('79', '1', '1', '125000')]"
            ]
          },
          "metadata": {
            "tags": []
          },
          "execution_count": 271
        }
      ]
    },
    {
      "cell_type": "markdown",
      "metadata": {
        "id": "-BVzgcAgZdw0"
      },
      "source": [
        "Se crea un data frame para poder realizar las medidas estadísitcas de las variables"
      ]
    },
    {
      "cell_type": "code",
      "metadata": {
        "id": "ijpSbAQlZaYG"
      },
      "source": [
        "df_1coci_1gara = sqlContext.createDataFrame (dt_1coci_1gara  )"
      ],
      "execution_count": null,
      "outputs": []
    },
    {
      "cell_type": "markdown",
      "metadata": {
        "id": "1YckCMGqZsPY"
      },
      "source": [
        "Visualizamos las medidas estadísticas. La variable precio es la columna_4, con las otras dos columnas podemos comprobar que la muestra seleccionada cumple con los reqisitos"
      ]
    },
    {
      "cell_type": "code",
      "metadata": {
        "colab": {
          "base_uri": "https://localhost:8080/"
        },
        "id": "h8tbTcXbZgvr",
        "outputId": "acee0af3-ea1f-4281-e469-668649e9ecd8"
      },
      "source": [
        "df_1coci_1gara.summary().show()"
      ],
      "execution_count": null,
      "outputs": [
        {
          "output_type": "stream",
          "text": [
            "+-------+------------------+---+---+------------------+\n",
            "|summary|                _1| _2| _3|                _4|\n",
            "+-------+------------------+---+---+------------------+\n",
            "|  count|               755|755|755|               755|\n",
            "|   mean|1515.2503311258279|1.0|1.0|128121.99337748345|\n",
            "| stddev| 844.3682739651009|0.0|0.0|30303.813376544425|\n",
            "|    min|              1036|  1|  1|            100000|\n",
            "|    25%|             759.0|1.0|1.0|          111500.0|\n",
            "|    50%|            1489.0|1.0|1.0|          128000.0|\n",
            "|    75%|            2202.0|1.0|1.0|          142125.0|\n",
            "|    max|               982|  1|  1|             99900|\n",
            "+-------+------------------+---+---+------------------+\n",
            "\n"
          ],
          "name": "stdout"
        }
      ]
    },
    {
      "cell_type": "markdown",
      "metadata": {
        "id": "JqJ9iopMZrIH"
      },
      "source": [
        "Para viviendas con una cocina y una plaza de garage el precio medio es 128122 dollars. En cuanto a los cuartiles, el cuartil 25% es 111500$, esto quiere decir que el 25% de las vivivendas de estas caracterísiticas su precio de venta fue menor que 111500. La mediana es 128000. Y el cuartil 75% es 142125, esto indica que el 75% de las viviendas de estas caracterísitcas  se vendieron por menos de 142125 dólares.\r\n",
        "\r\n",
        "Comprobamos que la media es igual que calculandolo sobre el rdd"
      ]
    },
    {
      "cell_type": "code",
      "metadata": {
        "colab": {
          "base_uri": "https://localhost:8080/"
        },
        "id": "NY4kVtsFUymo",
        "outputId": "37c21e21-de24-47c9-dbb1-e96f03b13208"
      },
      "source": [
        "dt_1coci_1gara_clean.map(lambda x: (x[3])).mean()"
      ],
      "execution_count": null,
      "outputs": [
        {
          "output_type": "execute_result",
          "data": {
            "text/plain": [
              "128121.9933774834"
            ]
          },
          "metadata": {
            "tags": []
          },
          "execution_count": 273
        }
      ]
    },
    {
      "cell_type": "code",
      "metadata": {
        "colab": {
          "base_uri": "https://localhost:8080/"
        },
        "id": "SotN5osnc17J",
        "outputId": "854c10ae-9672-4eff-ba09-ae6051adebce"
      },
      "source": [
        "\r\n",
        "145124.27906976745 - 128121.9933774834 # diferencia en precios medios\r\n",
        "\r\n",
        "\r\n"
      ],
      "execution_count": 9,
      "outputs": [
        {
          "output_type": "execute_result",
          "data": {
            "text/plain": [
              "17002.285692284044"
            ]
          },
          "metadata": {
            "tags": []
          },
          "execution_count": 9
        }
      ]
    },
    {
      "cell_type": "code",
      "metadata": {
        "colab": {
          "base_uri": "https://localhost:8080/"
        },
        "id": "fCa2Q2LIdWo3",
        "outputId": "ed69a624-81e3-452a-c089-fcf86a323f65"
      },
      "source": [
        "141000 - 128000.0 # diferencia en las medianas"
      ],
      "execution_count": null,
      "outputs": [
        {
          "output_type": "execute_result",
          "data": {
            "text/plain": [
              "13000.0"
            ]
          },
          "metadata": {
            "tags": []
          },
          "execution_count": 50
        }
      ]
    },
    {
      "cell_type": "markdown",
      "metadata": {
        "id": "pnBM8pbwas2I"
      },
      "source": [
        "__COMPARACIÓN__\r\n",
        "\r\n",
        "Analizando la media de los precios de las viviendas analizadas se observa que  la viviendas con dos cocionas y dos o más plazas de garage son en promedio 17002 dólares más caras. La mediana del primer tipo de viviendas es  13000 más que las del primer tipo. Estas diferencias se observan también en los valores de los cuartiles. Con esto, se puede concluir que al aumentar el número de cocinas de una a dos y de la pzadas de garage a más de una, supone un incremento en el precio medio de las viviendas."
      ]
    },
    {
      "cell_type": "markdown",
      "metadata": {
        "id": "ET-LfkuKU-Jr"
      },
      "source": [
        "## (COMPLEMENTARIA) Estudiar la relación entre el precio y el número de Garajes. (Recomiendo segmentar precio por cuartiles y estudiar el número de casos coincidentes)"
      ]
    },
    {
      "cell_type": "markdown",
      "metadata": {
        "id": "pSksVOYieAnW"
      },
      "source": [
        "Se desea conocer la posible correlación entre el precio y el número de garages. Ya que no se especifica la técnica a seguir se decide realizarlo de una manera simple que nos puede dar una idea de la exisitencia de correlaciones positivas o negativas para una fácil interpretación.\r\n",
        "Se realiza mediante una fórmula de SPARK SQ, en la que la variable dependiente es el precio y la explicativa será el número de plazas de garages de la vivienda"
      ]
    },
    {
      "cell_type": "code",
      "metadata": {
        "colab": {
          "base_uri": "https://localhost:8080/"
        },
        "id": "2QUDDzgWh_9u",
        "outputId": "f877eda2-e2fd-4b6c-da21-f0886d30dd7b"
      },
      "source": [
        "sqlContext.sql(\"\"\"SELECT CORR(_29,_22) AS correlacion_precio_ngarages\r\n",
        "                  FROM df_data \"\"\").show()"
      ],
      "execution_count": null,
      "outputs": [
        {
          "output_type": "stream",
          "text": [
            "+---------------------------+\n",
            "|correlacion_precio_ngarages|\n",
            "+---------------------------+\n",
            "|         0.6460054684088166|\n",
            "+---------------------------+\n",
            "\n"
          ],
          "name": "stdout"
        }
      ]
    },
    {
      "cell_type": "markdown",
      "metadata": {
        "id": "60f9427beq6d"
      },
      "source": [
        "Se puede realizar una sencilla interpretación del resultado. Existe una correlación positiva entre el número de plazas de garage y el precio. Cuando las plazas de garage aumentan, el precio también aumenta."
      ]
    },
    {
      "cell_type": "markdown",
      "metadata": {
        "id": "8DtUdcP1fLR2"
      },
      "source": [
        "## (COMPLEMENTARIA) Las 10 viviendas con mejores servicios y mejor precio."
      ]
    },
    {
      "cell_type": "markdown",
      "metadata": {
        "id": "90nOKmQgU-Jr"
      },
      "source": [
        "### Pista:\n",
        "#### Calcula las variables: \n",
        "- Número de servicios excelentes\n",
        "- Número de servicios buenos\n",
        "...\n",
        "\n",
        "#### Tendréis que tener en cuenta también variables como número de baños Full Bath, cocinas Kitchen AbvGr o dormitorios Bedroom AbvGr. Generando por ejemplo (número de estas variables por encima de media)\n",
        "\n",
        "#### Finalmente precio de venta"
      ]
    },
    {
      "cell_type": "markdown",
      "metadata": {
        "id": "VgGDtlNoU-Jr"
      },
      "source": [
        "## (COMPLEMENTARIA) Importar los datos en formato EXCEL"
      ]
    },
    {
      "cell_type": "markdown",
      "metadata": {
        "id": "CZEqLVezg5vg"
      },
      "source": [
        "A continuación se han importado los datos en excel para trabajar con ellos en un formato data frame en el que poder trabajar con SPARK"
      ]
    },
    {
      "cell_type": "code",
      "metadata": {
        "id": "26CUNjg9jgRM"
      },
      "source": [
        "data_excel = \"BDpracticafinal2021.xlsx\""
      ],
      "execution_count": null,
      "outputs": []
    },
    {
      "cell_type": "markdown",
      "metadata": {
        "id": "pbag3Qh8hJID"
      },
      "source": [
        "Importamos los datos nombrados y los visualizamos"
      ]
    },
    {
      "cell_type": "code",
      "metadata": {
        "colab": {
          "base_uri": "https://localhost:8080/",
          "height": 473
        },
        "id": "7J4awXL3jJGd",
        "outputId": "dbfe9330-1e3a-4aca-f839-ae7035a76a7e"
      },
      "source": [
        "pdf = pd.read_excel(data_excel)\r\n",
        "pdf"
      ],
      "execution_count": null,
      "outputs": [
        {
          "output_type": "execute_result",
          "data": {
            "text/html": [
              "<div>\n",
              "<style scoped>\n",
              "    .dataframe tbody tr th:only-of-type {\n",
              "        vertical-align: middle;\n",
              "    }\n",
              "\n",
              "    .dataframe tbody tr th {\n",
              "        vertical-align: top;\n",
              "    }\n",
              "\n",
              "    .dataframe thead th {\n",
              "        text-align: right;\n",
              "    }\n",
              "</style>\n",
              "<table border=\"1\" class=\"dataframe\">\n",
              "  <thead>\n",
              "    <tr style=\"text-align: right;\">\n",
              "      <th></th>\n",
              "      <th>Order</th>\n",
              "      <th>MS Zoning</th>\n",
              "      <th>Lot Frontage</th>\n",
              "      <th>Lot Area</th>\n",
              "      <th>Land Contour</th>\n",
              "      <th>Land Slope</th>\n",
              "      <th>Overall Qual</th>\n",
              "      <th>Year Built</th>\n",
              "      <th>Year Remod/Add</th>\n",
              "      <th>Mas Vnr Type</th>\n",
              "      <th>Exter Qual</th>\n",
              "      <th>Bsmt Cond</th>\n",
              "      <th>Total Bsmt SF</th>\n",
              "      <th>Heating QC</th>\n",
              "      <th>Central Air</th>\n",
              "      <th>Full Bath</th>\n",
              "      <th>Half Bath</th>\n",
              "      <th>Bedroom AbvGr</th>\n",
              "      <th>Kitchen AbvGr</th>\n",
              "      <th>Kitchen Qual</th>\n",
              "      <th>TotRms AbvGrd</th>\n",
              "      <th>Garage Cars</th>\n",
              "      <th>Garage Area</th>\n",
              "      <th>Garage Cond</th>\n",
              "      <th>Pool Area</th>\n",
              "      <th>Pool QC</th>\n",
              "      <th>Mo Sold</th>\n",
              "      <th>Yr Sold</th>\n",
              "      <th>SalePrice</th>\n",
              "    </tr>\n",
              "  </thead>\n",
              "  <tbody>\n",
              "    <tr>\n",
              "      <th>0</th>\n",
              "      <td>1</td>\n",
              "      <td>RL</td>\n",
              "      <td>141.0</td>\n",
              "      <td>31770</td>\n",
              "      <td>Lvl</td>\n",
              "      <td>Gtl</td>\n",
              "      <td>6</td>\n",
              "      <td>1960</td>\n",
              "      <td>1960</td>\n",
              "      <td>Stone</td>\n",
              "      <td>TA</td>\n",
              "      <td>Gd</td>\n",
              "      <td>1080</td>\n",
              "      <td>Fa</td>\n",
              "      <td>Y</td>\n",
              "      <td>1</td>\n",
              "      <td>0</td>\n",
              "      <td>3</td>\n",
              "      <td>1</td>\n",
              "      <td>TA</td>\n",
              "      <td>7</td>\n",
              "      <td>2.0</td>\n",
              "      <td>528.0</td>\n",
              "      <td>TA</td>\n",
              "      <td>0</td>\n",
              "      <td>Sp</td>\n",
              "      <td>5</td>\n",
              "      <td>2010</td>\n",
              "      <td>215000</td>\n",
              "    </tr>\n",
              "    <tr>\n",
              "      <th>1</th>\n",
              "      <td>2</td>\n",
              "      <td>RH</td>\n",
              "      <td>80.0</td>\n",
              "      <td>11622</td>\n",
              "      <td>Lvl</td>\n",
              "      <td>Gtl</td>\n",
              "      <td>5</td>\n",
              "      <td>1961</td>\n",
              "      <td>1961</td>\n",
              "      <td>None</td>\n",
              "      <td>TA</td>\n",
              "      <td>TA</td>\n",
              "      <td>882</td>\n",
              "      <td>TA</td>\n",
              "      <td>Y</td>\n",
              "      <td>1</td>\n",
              "      <td>0</td>\n",
              "      <td>2</td>\n",
              "      <td>1</td>\n",
              "      <td>TA</td>\n",
              "      <td>5</td>\n",
              "      <td>1.0</td>\n",
              "      <td>730.0</td>\n",
              "      <td>TA</td>\n",
              "      <td>0</td>\n",
              "      <td>Sp</td>\n",
              "      <td>6</td>\n",
              "      <td>2010</td>\n",
              "      <td>105000</td>\n",
              "    </tr>\n",
              "    <tr>\n",
              "      <th>2</th>\n",
              "      <td>3</td>\n",
              "      <td>RL</td>\n",
              "      <td>81.0</td>\n",
              "      <td>14267</td>\n",
              "      <td>Lvl</td>\n",
              "      <td>Gtl</td>\n",
              "      <td>6</td>\n",
              "      <td>1958</td>\n",
              "      <td>1958</td>\n",
              "      <td>BrkFace</td>\n",
              "      <td>TA</td>\n",
              "      <td>TA</td>\n",
              "      <td>1329</td>\n",
              "      <td>TA</td>\n",
              "      <td>Y</td>\n",
              "      <td>1</td>\n",
              "      <td>1</td>\n",
              "      <td>3</td>\n",
              "      <td>1</td>\n",
              "      <td>Gd</td>\n",
              "      <td>6</td>\n",
              "      <td>1.0</td>\n",
              "      <td>312.0</td>\n",
              "      <td>TA</td>\n",
              "      <td>0</td>\n",
              "      <td>Sp</td>\n",
              "      <td>6</td>\n",
              "      <td>2010</td>\n",
              "      <td>172000</td>\n",
              "    </tr>\n",
              "    <tr>\n",
              "      <th>3</th>\n",
              "      <td>4</td>\n",
              "      <td>RL</td>\n",
              "      <td>93.0</td>\n",
              "      <td>11160</td>\n",
              "      <td>Lvl</td>\n",
              "      <td>Gtl</td>\n",
              "      <td>7</td>\n",
              "      <td>1968</td>\n",
              "      <td>1968</td>\n",
              "      <td>None</td>\n",
              "      <td>Gd</td>\n",
              "      <td>TA</td>\n",
              "      <td>2110</td>\n",
              "      <td>Ex</td>\n",
              "      <td>Y</td>\n",
              "      <td>2</td>\n",
              "      <td>1</td>\n",
              "      <td>3</td>\n",
              "      <td>1</td>\n",
              "      <td>Ex</td>\n",
              "      <td>8</td>\n",
              "      <td>2.0</td>\n",
              "      <td>522.0</td>\n",
              "      <td>TA</td>\n",
              "      <td>0</td>\n",
              "      <td>Sp</td>\n",
              "      <td>4</td>\n",
              "      <td>2010</td>\n",
              "      <td>244000</td>\n",
              "    </tr>\n",
              "    <tr>\n",
              "      <th>4</th>\n",
              "      <td>5</td>\n",
              "      <td>RL</td>\n",
              "      <td>74.0</td>\n",
              "      <td>13830</td>\n",
              "      <td>Lvl</td>\n",
              "      <td>Gtl</td>\n",
              "      <td>5</td>\n",
              "      <td>1997</td>\n",
              "      <td>1998</td>\n",
              "      <td>None</td>\n",
              "      <td>TA</td>\n",
              "      <td>TA</td>\n",
              "      <td>928</td>\n",
              "      <td>Gd</td>\n",
              "      <td>Y</td>\n",
              "      <td>2</td>\n",
              "      <td>1</td>\n",
              "      <td>3</td>\n",
              "      <td>1</td>\n",
              "      <td>TA</td>\n",
              "      <td>6</td>\n",
              "      <td>2.0</td>\n",
              "      <td>482.0</td>\n",
              "      <td>TA</td>\n",
              "      <td>0</td>\n",
              "      <td>Sp</td>\n",
              "      <td>3</td>\n",
              "      <td>2010</td>\n",
              "      <td>189900</td>\n",
              "    </tr>\n",
              "    <tr>\n",
              "      <th>...</th>\n",
              "      <td>...</td>\n",
              "      <td>...</td>\n",
              "      <td>...</td>\n",
              "      <td>...</td>\n",
              "      <td>...</td>\n",
              "      <td>...</td>\n",
              "      <td>...</td>\n",
              "      <td>...</td>\n",
              "      <td>...</td>\n",
              "      <td>...</td>\n",
              "      <td>...</td>\n",
              "      <td>...</td>\n",
              "      <td>...</td>\n",
              "      <td>...</td>\n",
              "      <td>...</td>\n",
              "      <td>...</td>\n",
              "      <td>...</td>\n",
              "      <td>...</td>\n",
              "      <td>...</td>\n",
              "      <td>...</td>\n",
              "      <td>...</td>\n",
              "      <td>...</td>\n",
              "      <td>...</td>\n",
              "      <td>...</td>\n",
              "      <td>...</td>\n",
              "      <td>...</td>\n",
              "      <td>...</td>\n",
              "      <td>...</td>\n",
              "      <td>...</td>\n",
              "    </tr>\n",
              "    <tr>\n",
              "      <th>2931</th>\n",
              "      <td>2930</td>\n",
              "      <td>RL</td>\n",
              "      <td>74.0</td>\n",
              "      <td>9627</td>\n",
              "      <td>Lvl</td>\n",
              "      <td>Mod</td>\n",
              "      <td>7</td>\n",
              "      <td>1993</td>\n",
              "      <td>1994</td>\n",
              "      <td>BrkFace</td>\n",
              "      <td>TA</td>\n",
              "      <td>TA</td>\n",
              "      <td>996</td>\n",
              "      <td>Ex</td>\n",
              "      <td>Y</td>\n",
              "      <td>2</td>\n",
              "      <td>1</td>\n",
              "      <td>3</td>\n",
              "      <td>1</td>\n",
              "      <td>TA</td>\n",
              "      <td>9</td>\n",
              "      <td>3.0</td>\n",
              "      <td>650.0</td>\n",
              "      <td>TA</td>\n",
              "      <td>0</td>\n",
              "      <td>Sp</td>\n",
              "      <td>11</td>\n",
              "      <td>2006</td>\n",
              "      <td>188000</td>\n",
              "    </tr>\n",
              "    <tr>\n",
              "      <th>2932</th>\n",
              "      <td>2898</td>\n",
              "      <td>Rl</td>\n",
              "      <td>NaN</td>\n",
              "      <td>11170</td>\n",
              "      <td>Lvl</td>\n",
              "      <td>Gtl</td>\n",
              "      <td>7</td>\n",
              "      <td>1990</td>\n",
              "      <td>1991</td>\n",
              "      <td>None</td>\n",
              "      <td>TA</td>\n",
              "      <td>TA</td>\n",
              "      <td>1216</td>\n",
              "      <td>Ex</td>\n",
              "      <td>Y</td>\n",
              "      <td>2</td>\n",
              "      <td>1</td>\n",
              "      <td>4</td>\n",
              "      <td>1</td>\n",
              "      <td>TA</td>\n",
              "      <td>8</td>\n",
              "      <td>2.0</td>\n",
              "      <td>693.0</td>\n",
              "      <td>TA</td>\n",
              "      <td>0</td>\n",
              "      <td>Sp</td>\n",
              "      <td>4</td>\n",
              "      <td>2006</td>\n",
              "      <td>250000</td>\n",
              "    </tr>\n",
              "    <tr>\n",
              "      <th>2933</th>\n",
              "      <td>2899</td>\n",
              "      <td>Rl</td>\n",
              "      <td>NaN</td>\n",
              "      <td>8098</td>\n",
              "      <td>Lvl</td>\n",
              "      <td>Gtl</td>\n",
              "      <td>6</td>\n",
              "      <td>2000</td>\n",
              "      <td>2000</td>\n",
              "      <td>None</td>\n",
              "      <td>Gd</td>\n",
              "      <td>TA</td>\n",
              "      <td>1381</td>\n",
              "      <td>Ex</td>\n",
              "      <td>Y</td>\n",
              "      <td>2</td>\n",
              "      <td>0</td>\n",
              "      <td>2</td>\n",
              "      <td>1</td>\n",
              "      <td>Gd</td>\n",
              "      <td>5</td>\n",
              "      <td>2.0</td>\n",
              "      <td>470.0</td>\n",
              "      <td>TA</td>\n",
              "      <td>0</td>\n",
              "      <td>Sp</td>\n",
              "      <td>10</td>\n",
              "      <td>2006</td>\n",
              "      <td>202000</td>\n",
              "    </tr>\n",
              "    <tr>\n",
              "      <th>2934</th>\n",
              "      <td>2900</td>\n",
              "      <td>Rl</td>\n",
              "      <td>85.0</td>\n",
              "      <td>14331</td>\n",
              "      <td>Lvl</td>\n",
              "      <td>Gtl</td>\n",
              "      <td>8</td>\n",
              "      <td>2002</td>\n",
              "      <td>2002</td>\n",
              "      <td>BrkFace</td>\n",
              "      <td>Gd</td>\n",
              "      <td>TA</td>\n",
              "      <td>1800</td>\n",
              "      <td>Ex</td>\n",
              "      <td>Y</td>\n",
              "      <td>2</td>\n",
              "      <td>0</td>\n",
              "      <td>3</td>\n",
              "      <td>1</td>\n",
              "      <td>Gd</td>\n",
              "      <td>7</td>\n",
              "      <td>3.0</td>\n",
              "      <td>765.0</td>\n",
              "      <td>TA</td>\n",
              "      <td>0</td>\n",
              "      <td>Sp</td>\n",
              "      <td>5</td>\n",
              "      <td>2006</td>\n",
              "      <td>312500</td>\n",
              "    </tr>\n",
              "    <tr>\n",
              "      <th>2935</th>\n",
              "      <td>2901</td>\n",
              "      <td>rL</td>\n",
              "      <td>95.0</td>\n",
              "      <td>13618</td>\n",
              "      <td>Lvl</td>\n",
              "      <td>Gtl</td>\n",
              "      <td>8</td>\n",
              "      <td>2005</td>\n",
              "      <td>2006</td>\n",
              "      <td>Stone</td>\n",
              "      <td>Gd</td>\n",
              "      <td>Gd</td>\n",
              "      <td>1728</td>\n",
              "      <td>Ex</td>\n",
              "      <td>Y</td>\n",
              "      <td>2</td>\n",
              "      <td>0</td>\n",
              "      <td>3</td>\n",
              "      <td>1</td>\n",
              "      <td>Gd</td>\n",
              "      <td>8</td>\n",
              "      <td>3.0</td>\n",
              "      <td>714.0</td>\n",
              "      <td>TA</td>\n",
              "      <td>0</td>\n",
              "      <td>Sp</td>\n",
              "      <td>11</td>\n",
              "      <td>2006</td>\n",
              "      <td>320000</td>\n",
              "    </tr>\n",
              "  </tbody>\n",
              "</table>\n",
              "<p>2936 rows × 29 columns</p>\n",
              "</div>"
            ],
            "text/plain": [
              "      Order MS Zoning  Lot Frontage  ...  Mo Sold Yr Sold SalePrice\n",
              "0         1        RL         141.0  ...        5    2010    215000\n",
              "1         2        RH          80.0  ...        6    2010    105000\n",
              "2         3        RL          81.0  ...        6    2010    172000\n",
              "3         4        RL          93.0  ...        4    2010    244000\n",
              "4         5        RL          74.0  ...        3    2010    189900\n",
              "...     ...       ...           ...  ...      ...     ...       ...\n",
              "2931   2930        RL          74.0  ...       11    2006    188000\n",
              "2932   2898        Rl           NaN  ...        4    2006    250000\n",
              "2933   2899        Rl           NaN  ...       10    2006    202000\n",
              "2934   2900        Rl          85.0  ...        5    2006    312500\n",
              "2935   2901        rL          95.0  ...       11    2006    320000\n",
              "\n",
              "[2936 rows x 29 columns]"
            ]
          },
          "metadata": {
            "tags": []
          },
          "execution_count": 52
        }
      ]
    },
    {
      "cell_type": "markdown",
      "metadata": {
        "id": "AlhgfnxQha8x"
      },
      "source": [
        "Se observa que actualmente tienen forma de dataframe de python, por lo que es necesario realizar más transformaciones para porde leerlos con spark.\r\n",
        "\r\n",
        "Es necesario importar el paquete que habilita la lectura de datos en excel:"
      ]
    },
    {
      "cell_type": "code",
      "metadata": {
        "id": "8EYb2hdaksQb"
      },
      "source": [
        "spark = SparkSession.builder \\\r\n",
        ".master(\"local\") \\\r\n",
        ".appName(\"Word Count\") \\\r\n",
        ".config(\"spark.jars.packages\", \"com.crealytics:spark-excel_2.11:0.12.2\") \\\r\n",
        ".getOrCreate()"
      ],
      "execution_count": null,
      "outputs": []
    },
    {
      "cell_type": "markdown",
      "metadata": {
        "id": "Mq8fNxJBh1ux"
      },
      "source": [
        "Definimos la estructura de los datos que vamos a importar. Hay que indicar que tipo de columna es cada una para que más tarde se pueda leer el excel correctamente y formar un data frame en el que se puedan realizar los cálculos en SPARK"
      ]
    },
    {
      "cell_type": "code",
      "metadata": {
        "id": "9yfBUlSdkt7m"
      },
      "source": [
        "from pyspark.sql.types import *\r\n",
        "\r\n",
        "mySchema = StructType([ StructField(\"col1\", StringType(), True)\\\r\n",
        "                       ,StructField(\"col2\", StringType(), True)\\\r\n",
        "                       ,StructField(\"col3\", FloatType(), True)\\\r\n",
        "                       ,StructField(\"col4\", IntegerType(), True)\\\r\n",
        "                       ,StructField(\"col5\", StringType(), True)\\\r\n",
        "                       ,StructField(\"col6\", StringType(), True)\\\r\n",
        "                       ,StructField(\"col7\", IntegerType(), True)\\\r\n",
        "                       ,StructField(\"col8\", IntegerType(), True)\\\r\n",
        "                       ,StructField(\"col9\", IntegerType(), True)\\\r\n",
        "                       ,StructField(\"col10\", StringType(), True)\\\r\n",
        "                       ,StructField(\"col11\", StringType(), True)\\\r\n",
        "                       ,StructField(\"col12\", StringType(), True)\\\r\n",
        "                       ,StructField(\"col13\", IntegerType(), True)\\\r\n",
        "                       ,StructField(\"col14\", StringType(), True)\\\r\n",
        "                       ,StructField(\"col15\", StringType(), True)\\\r\n",
        "                       ,StructField(\"col16\", IntegerType(), True)\\\r\n",
        "                       ,StructField(\"col17\", IntegerType(), True)\\\r\n",
        "                       ,StructField(\"col18\", IntegerType(), True)\\\r\n",
        "                       ,StructField(\"col19\", IntegerType(), True)\\\r\n",
        "                       ,StructField(\"col20\", StringType(), True)\\\r\n",
        "                       ,StructField(\"col21\", IntegerType(), True)\\\r\n",
        "                       ,StructField(\"col22\", FloatType(), True)\\\r\n",
        "                       ,StructField(\"col23\", FloatType(), True)\\\r\n",
        "                       ,StructField(\"col24\", StringType(), True)\\\r\n",
        "                       ,StructField(\"col25\", IntegerType(), True)\\\r\n",
        "                       ,StructField(\"col26\", StringType(), True)\\\r\n",
        "                       ,StructField(\"col27\", IntegerType(), True)\\\r\n",
        "                       ,StructField(\"col28\", IntegerType(), True)\\\r\n",
        "                       ,StructField(\"col29\", IntegerType(), True)\r\n",
        "                       ])"
      ],
      "execution_count": null,
      "outputs": []
    },
    {
      "cell_type": "markdown",
      "metadata": {
        "id": "okAHUNWujDK_"
      },
      "source": [
        "Aplicamos al data frame de python que hemos creado el formato de datos que hemos indicado en el esquema"
      ]
    },
    {
      "cell_type": "code",
      "metadata": {
        "id": "qdakkIxfl7Oe"
      },
      "source": [
        "df = spark.createDataFrame(pdf,schema=mySchema)"
      ],
      "execution_count": null,
      "outputs": []
    },
    {
      "cell_type": "markdown",
      "metadata": {
        "id": "OUivgIZ7jKUN"
      },
      "source": [
        "Se muestra el data frame creado en SPARK"
      ]
    },
    {
      "cell_type": "code",
      "metadata": {
        "colab": {
          "base_uri": "https://localhost:8080/"
        },
        "id": "IAEUkhbUnS7o",
        "outputId": "b872eea1-41cb-42b0-c7fe-0616c1e5448d"
      },
      "source": [
        "df.show()"
      ],
      "execution_count": null,
      "outputs": [
        {
          "output_type": "stream",
          "text": [
            "+----+----+-----+-----+----+----+----+----+----+-------+-----+-----+-----+-----+-----+-----+-----+-----+-----+-----+-----+-----+-----+-----+-----+-----+-----+-----+------+\n",
            "|col1|col2| col3| col4|col5|col6|col7|col8|col9|  col10|col11|col12|col13|col14|col15|col16|col17|col18|col19|col20|col21|col22|col23|col24|col25|col26|col27|col28| col29|\n",
            "+----+----+-----+-----+----+----+----+----+----+-------+-----+-----+-----+-----+-----+-----+-----+-----+-----+-----+-----+-----+-----+-----+-----+-----+-----+-----+------+\n",
            "|   1|  RL|141.0|31770| Lvl| Gtl|   6|1960|1960|  Stone|   TA|   Gd| 1080|   Fa|    Y|    1|    0|    3|    1|   TA|    7|  2.0|528.0|   TA|    0|   Sp|    5| 2010|215000|\n",
            "|   2|  RH| 80.0|11622| Lvl| Gtl|   5|1961|1961|   None|   TA|   TA|  882|   TA|    Y|    1|    0|    2|    1|   TA|    5|  1.0|730.0|   TA|    0|   Sp|    6| 2010|105000|\n",
            "|   3|  RL| 81.0|14267| Lvl| Gtl|   6|1958|1958|BrkFace|   TA|   TA| 1329|   TA|    Y|    1|    1|    3|    1|   Gd|    6|  1.0|312.0|   TA|    0|   Sp|    6| 2010|172000|\n",
            "|   4|  RL| 93.0|11160| Lvl| Gtl|   7|1968|1968|   None|   Gd|   TA| 2110|   Ex|    Y|    2|    1|    3|    1|   Ex|    8|  2.0|522.0|   TA|    0|   Sp|    4| 2010|244000|\n",
            "|   5|  RL| 74.0|13830| Lvl| Gtl|   5|1997|1998|   None|   TA|   TA|  928|   Gd|    Y|    2|    1|    3|    1|   TA|    6|  2.0|482.0|   TA|    0|   Sp|    3| 2010|189900|\n",
            "|   6|  RL| 78.0| 9978| Lvl| Gtl|   6|1998|1998|BrkFace|   TA|   TA|  926|   Ex|    Y|    2|    1|    3|    1|   Gd|    7|  2.0|470.0|   TA|    0|   Sp|    6| 2010|195500|\n",
            "|   7|  RL| 41.0| 4920| Lvl| Gtl|   8|2001|2001|   None|   Gd|   TA| 1338|   Ex|    Y|    2|    0|    2|    1|   Gd|    6|  2.0|582.0|   TA|    0|   Sp|    4| 2010|213500|\n",
            "|   8|  RL| 43.0| 5005| HLS| Gtl|   8|1992|1992|   None|   Gd|   TA| 1280|   Ex|    Y|    2|    0|    2|    1|   Gd|    5|  2.0|506.0|   TA|    0|   Sp|    1| 2010|191500|\n",
            "|   9|  RL| 39.0| 5389| Lvl| Gtl|   8|1995|1996|   None|   Gd|   TA| 1595|   Ex|    Y|    2|    0|    2|    1|   Gd|    5|  2.0|608.0|   TA|    0|   Sp|    3| 2010|236500|\n",
            "|  10|  RL| 60.0| 7500| Lvl| Gtl|   7|1999|1999|   None|   TA|   TA|  994|   Gd|    Y|    2|    1|    3|    1|   Gd|    7|  2.0|442.0|   TA|    0|   Sp|    6| 2010|189000|\n",
            "|  11|  RL| 75.0|10000| Lvl| Gtl|   6|1993|1994|   None|   TA|   TA|  763|   Gd|    Y|    2|    1|    3|    1|   TA|    7|  2.0|440.0|   TA|    0|   Sp|    4| 2010|175900|\n",
            "|  12|  RL|  NaN| 7980| Lvl| Gtl|   6|1992|2007|   None|   TA|   TA| 1168|   Ex|    Y|    2|    0|    3|    1|   TA|    6|  2.0|420.0|   TA|    0|   Sp|    3| 2010|185000|\n",
            "|  13|  RL| 63.0| 8402| Lvl| Gtl|   6|1998|1998|   None|   TA|   TA|  789|   Gd|    Y|    2|    1|    3|    1|   TA|    7|  2.0|393.0|   TA|    0|   Sp|    5| 2010|180400|\n",
            "|  14|  RL| 85.0|10176| Lvl| Gtl|   7|1990|1990|   None|   TA|   TA| 1300|   Gd|    Y|    1|    1|    2|    1|   Gd|    5|  2.0|506.0|   TA|    0|   Sp|    2| 2010|171500|\n",
            "|  15|  RL|  NaN| 6820| Lvl| Gtl|   8|1985|1985|   None|   Gd|   TA| 1488|   TA|    Y|    1|    1|    1|    1|   Gd|    4|  2.0|528.0|   TA|    0|   Sp|    6| 2010|212000|\n",
            "|  16|  RL| 47.0|53504| HLS| Mod|   8|2003|2003|BrkFace|   Ex|   TA| 1650|   Ex|    Y|    3|    1|    4|    1|   Ex|   12|  3.0|841.0|   TA|    0|   Sp|    6| 2010|538000|\n",
            "|  17|  RL|152.0|12134| Bnk| Mod|   8|1988|2005|   None|   Gd|   TA|  559|   Gd|    Y|    2|    0|    4|    1|   TA|    8|  2.0|492.0|   TA|    0|   Sp|    6| 2010|164000|\n",
            "|  18|  RL| 88.0|11394| Lvl| Gtl|   9|2010|2010|  Stone|   Gd|   TA| 1856|   Ex|    Y|    1|    1|    1|    1|   Ex|    8|  3.0|834.0|   TA|    0|   Sp|    6| 2010|394432|\n",
            "|  19|  RL|140.0|19138| Lvl| Gtl|   4|1951|1951|   None|   TA|   TA|  864|   Ex|    Y|    1|    0|    2|    1|   TA|    4|  2.0|400.0|   TA|    0|   Sp|    6| 2010|141000|\n",
            "|  20|  RL| 85.0|13175| Lvl| Gtl|   6|1978|1988|  Stone|   TA|   TA| 1542|   TA|    Y|    2|    0|    3|    1|   TA|    7|  2.0|500.0|   TA|    0|   Sp|    2| 2010|210000|\n",
            "+----+----+-----+-----+----+----+----+----+----+-------+-----+-----+-----+-----+-----+-----+-----+-----+-----+-----+-----+-----+-----+-----+-----+-----+-----+-----+------+\n",
            "only showing top 20 rows\n",
            "\n"
          ],
          "name": "stdout"
        }
      ]
    }
  ]
}