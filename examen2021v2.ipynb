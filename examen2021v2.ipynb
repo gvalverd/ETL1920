{
 "cells": [
  {
   "cell_type": "markdown",
   "metadata": {},
   "source": [
    "# TAREA FINAL: Datos de vivienda\n",
    "\n",
    "<p> El negocio inmobiliario es uno de los motores de la economía de España, el carácter turístico de nuesta península hace que sean muchos los inversores extranjeros que se decidan por buscar una inversión de bajo riesgos en nuestras ciudades costeras o grandes urbes. \n",
    "Muchas de estas inversiones se hacen sobre grandes bolsas de inmuebles que deben ser analizados previamente para comprobar la rentabilidad del porfolio </p>\n",
    "\n",
    "<!-- <p> En este caso vamos a trabajar con una tabla que contienen información de distintos inmuebles repartidos por una zona específica, sus carácterísticas y su precio </p>  -->"
   ]
  },
  {
   "cell_type": "markdown",
   "metadata": {},
   "source": [
    "Todas las cuestiones se deben realizar sobre el conjunto de casos que representen viviendas ubicadas en zonas residenciales **(alta, media y baja densidad)**"
   ]
  },
  {
   "cell_type": "markdown",
   "metadata": {},
   "source": [
    "**MUY IMPORTANTE:** En las otras prácticas he detectado colaboraciones involucrando varias personas y he sido flexible aunque a algunos os lo he mencionado en las correcciones, porque al final el trabajo de analista de datos es un trabajo colaborativo. Sin embargo, este trabajo es individual, así que cuidado con las colaboraciones."
   ]
  },
  {
   "cell_type": "markdown",
   "metadata": {},
   "source": [
    "Las variables de las que se compone el dataset son:"
   ]
  },
  {
   "cell_type": "markdown",
   "metadata": {},
   "source": [
    "|NOMBRE VARIABLE|DESCRIPTOR|VALORES|\n",
    "| --- | --- | --- |\n",
    "|Order|Variable de identificación|1 a 2930|\n",
    "|MS Zoning|Zona de ubicación de la vivienda|\"A rural, C comercial, FV residencial flotante, I industrial, RH residencial alta densidad, RL residencial baja densidad, RM residencial media densidad\"|\n",
    "|Lot Frontage|Longitud de la fachada en pies||\n",
    "|Lot Area|Superficie de la vivienda en pies cuadrados||\n",
    "|Land Contour|Contorno del terreno circundante|\"Lvl llano, Bnk Tipo bancal, HLS Ladera, Low Depresión\"|\n",
    "|Land Slope|Tipo de pendiente de la vivienda|\" Gtl pendiente suave, Mod pendiente moderada, Sev fuerte pendiente\"|\n",
    "|Overall Qual|Grado de calidad de materiales y acabado de la vivienda|De 1 (Muy pobre) a 10 (Excelente)|\n",
    "|Year Built|Año de construccion de la vivienda||\n",
    "|Year Remod/Add|Año de última reforma de la vivienda||\n",
    "|Mas Vnr Type|Tipo de revestimiento exterior|\" BrkCmn Ladrillo normal, BrkFace Ladrillo visto, CBlock Bloque de cemento, None Ninguna, Stone Piedra \"|\n",
    "|Exter Qual|Calidad de revestimiento exterior|\"Ex Excelente,Gd Bueno,TA Media,Fa Justo\"|\n",
    "|Bsmt Cond|Estado general del sótano|\"Ex Excelente, Gd Bueno, TA Media, Fa Justo, Po Pobre,Ss sin sótano\"|\n",
    "|Total Bsmt SF|Superficie del sótano en pies cuadrados|\n",
    "|Heating QC|Calidad de la calefacción|\"Ex Excelente,Gd Bueno,TA Media,Fa Justo,Po Pobre\"|\n",
    "|Central Air|Aire acondicionado centralizado|\"N No Y Sí\"|\n",
    "|Full Bath|Número de baños completo en planta||\n",
    "|Half Bath|Número de aseos en planta||\n",
    "|Bedroom AbvGr|Número de dormitorios en planta||\n",
    "|Kitchen AbvGr|Número de cocinas en planta||\n",
    "|Kitchen Qual|Calidad de cocinas|\"Ex Excelente,Gd Bueno,TA Media,Fa Justo,Po Pobre\"|\n",
    "|TotRms AbvGrd|Número total de habitaciones excluidos los cuartos de baño||\n",
    "|Garage Cars|Número de plazas de garaje||\n",
    "|Garage Area|Superficie del garaje|||\n",
    "|Garage Cond|Estado del garaje|\"Ex Excelente,Gd Bueno,TA Media,Fa Justo,Po Pobre,Sg sin garaje\"|\n",
    "|Pool Area|Superficie de la piscina en pies cuadrados|\n",
    "|Pool QC|Calidad de la piscina|\"Ex Excelente,Gd Bueno,TA Media,Fa Justo,Sp no hay piscina\"|\n",
    "|Mo Sold|mes de venta||\n",
    "|Yr Sold|año de venta||\n",
    "|SalePrice|precio de venta en dólares||"
   ]
  },
  {
   "cell_type": "markdown",
   "metadata": {},
   "source": [
    "Recomiendo al leer los datos, eliminar espacios de los nombres de las columnas, realiza un pequeño análisis inicial de los mismos. No olvides fijarte en los tipos de variables, que variables pueden tener tipos confundidos y corrige los. Sobre todo, trabaja con las fechas."
   ]
  },
  {
   "cell_type": "markdown",
   "metadata": {},
   "source": [
    "**NOTA:** Las tareas complementarias sirven para subir nota. El resto de preguntas valen igual y suman 10 puntos."
   ]
  },
  {
   "cell_type": "markdown",
   "metadata": {},
   "source": [
    "## Inicializar y cargar el contexto spark"
   ]
  },
  {
   "cell_type": "code",
   "execution_count": 389,
   "metadata": {},
   "outputs": [],
   "source": [
    "     # Initialize the spark context\n",
    "from pyspark import SparkContext\n",
    "sc = SparkContext.getOrCreate()\n",
    "\n",
    "    # Due to we are going to work with sparkSQL we will introduce the sparksql context\n",
    "from pyspark.sql import SparkSession\n",
    "from pyspark.sql.functions import *\n",
    "from pyspark.sql.types import *\n",
    "from pyspark.sql.window import Window\n",
    "spark = SparkSession.builder.master(\"local[*]\").getOrCreate()"
   ]
  },
  {
   "cell_type": "code",
   "execution_count": 390,
   "metadata": {},
   "outputs": [
    {
     "name": "stdout",
     "output_type": "stream",
     "text": [
      "<class 'pyspark.sql.dataframe.DataFrame'>\n"
     ]
    }
   ],
   "source": [
    "raw_data = spark.read.format(\"csv\") \\\n",
    "                       .option(\"sep\", \";\") \\\n",
    "                       .option(\"inferSchema\", \"true\") \\\n",
    "                       .option(\"header\", \"true\") \\\n",
    "                       .load('BDpracticafinalCSV.csv') \n",
    "print(type(raw_data))"
   ]
  },
  {
   "cell_type": "code",
   "execution_count": 391,
   "metadata": {},
   "outputs": [
    {
     "data": {
      "text/plain": [
       "[Row(Order=1, MS Zoning='RL', Lot Frontage=141, Lot Area=31770, Land Contour='Lvl', Land Slope='Gtl', Overall Qual=6, Year Built=1960, Year Remod/Add=1960, Mas Vnr Type='Stone', Exter Qual='TA', Bsmt Cond='Gd', Total Bsmt SF=1080, Heating QC='Fa', Central Air='Y', Full Bath=1, Half Bath=0, Bedroom AbvGr=3, Kitchen AbvGr=1, Kitchen Qual='TA', TotRms AbvGrd=7, Garage Cars=2, Garage Area=528, Garage Cond='TA', Pool Area=0, Pool QC='Sp', Mo Sold=5, Yr Sold=2010, SalePrice=215000)]"
      ]
     },
     "execution_count": 391,
     "metadata": {},
     "output_type": "execute_result"
    }
   ],
   "source": [
    "     # The first 5 observations with take function\n",
    "raw_data.take(1)"
   ]
  },
  {
   "cell_type": "code",
   "execution_count": 392,
   "metadata": {},
   "outputs": [
    {
     "data": {
      "text/plain": [
       "2936"
      ]
     },
     "execution_count": 392,
     "metadata": {},
     "output_type": "execute_result"
    }
   ],
   "source": [
    "    # count the observations\n",
    "raw_data.count()"
   ]
  },
  {
   "cell_type": "code",
   "execution_count": 393,
   "metadata": {},
   "outputs": [
    {
     "name": "stdout",
     "output_type": "stream",
     "text": [
      "+-----+---------+------------+--------+------------+----------+------------+----------+--------------+------------+----------+---------+-------------+----------+-----------+---------+---------+-------------+-------------+------------+-------------+-----------+-----------+-----------+---------+-------+-------+-------+---------+\n",
      "|Order|MS Zoning|Lot Frontage|Lot Area|Land Contour|Land Slope|Overall Qual|Year Built|Year Remod/Add|Mas Vnr Type|Exter Qual|Bsmt Cond|Total Bsmt SF|Heating QC|Central Air|Full Bath|Half Bath|Bedroom AbvGr|Kitchen AbvGr|Kitchen Qual|TotRms AbvGrd|Garage Cars|Garage Area|Garage Cond|Pool Area|Pool QC|Mo Sold|Yr Sold|SalePrice|\n",
      "+-----+---------+------------+--------+------------+----------+------------+----------+--------------+------------+----------+---------+-------------+----------+-----------+---------+---------+-------------+-------------+------------+-------------+-----------+-----------+-----------+---------+-------+-------+-------+---------+\n",
      "|    1|       RL|         141|   31770|         Lvl|       Gtl|           6|      1960|          1960|       Stone|        TA|       Gd|         1080|        Fa|          Y|        1|        0|            3|            1|          TA|            7|          2|        528|         TA|        0|     Sp|      5|   2010|   215000|\n",
      "+-----+---------+------------+--------+------------+----------+------------+----------+--------------+------------+----------+---------+-------------+----------+-----------+---------+---------+-------------+-------------+------------+-------------+-----------+-----------+-----------+---------+-------+-------+-------+---------+\n",
      "only showing top 1 row\n",
      "\n"
     ]
    }
   ],
   "source": [
    "    # Le pedimos la primera fila de observaciones con show(1)\n",
    "raw_data.show(1)"
   ]
  },
  {
   "cell_type": "code",
   "execution_count": 394,
   "metadata": {},
   "outputs": [
    {
     "name": "stdout",
     "output_type": "stream",
     "text": [
      "root\n",
      " |-- Order: integer (nullable = true)\n",
      " |-- MS Zoning: string (nullable = true)\n",
      " |-- Lot Frontage: integer (nullable = true)\n",
      " |-- Lot Area: integer (nullable = true)\n",
      " |-- Land Contour: string (nullable = true)\n",
      " |-- Land Slope: string (nullable = true)\n",
      " |-- Overall Qual: integer (nullable = true)\n",
      " |-- Year Built: integer (nullable = true)\n",
      " |-- Year Remod/Add: integer (nullable = true)\n",
      " |-- Mas Vnr Type: string (nullable = true)\n",
      " |-- Exter Qual: string (nullable = true)\n",
      " |-- Bsmt Cond: string (nullable = true)\n",
      " |-- Total Bsmt SF: integer (nullable = true)\n",
      " |-- Heating QC: string (nullable = true)\n",
      " |-- Central Air: string (nullable = true)\n",
      " |-- Full Bath: integer (nullable = true)\n",
      " |-- Half Bath: integer (nullable = true)\n",
      " |-- Bedroom AbvGr: integer (nullable = true)\n",
      " |-- Kitchen AbvGr: integer (nullable = true)\n",
      " |-- Kitchen Qual: string (nullable = true)\n",
      " |-- TotRms AbvGrd: integer (nullable = true)\n",
      " |-- Garage Cars: integer (nullable = true)\n",
      " |-- Garage Area: integer (nullable = true)\n",
      " |-- Garage Cond: string (nullable = true)\n",
      " |-- Pool Area: integer (nullable = true)\n",
      " |-- Pool QC: string (nullable = true)\n",
      " |-- Mo Sold: integer (nullable = true)\n",
      " |-- Yr Sold: integer (nullable = true)\n",
      " |-- SalePrice: integer (nullable = true)\n",
      "\n"
     ]
    }
   ],
   "source": [
    "  # Show the schema \n",
    "raw_data.printSchema()"
   ]
  },
  {
   "cell_type": "markdown",
   "metadata": {},
   "source": [
    "Una vez que revisamos que el esquema del fichero sea el correcto para cada una de las variables pasamos a chequear los tipos de residencias que hay para luego filtrar aquellas que nos interesan"
   ]
  },
  {
   "cell_type": "code",
   "execution_count": 395,
   "metadata": {},
   "outputs": [
    {
     "name": "stdout",
     "output_type": "stream",
     "text": [
      "+---------+\n",
      "|MS Zoning|\n",
      "+---------+\n",
      "|       RH|\n",
      "|       FV|\n",
      "|        C|\n",
      "|        A|\n",
      "|       Rl|\n",
      "|       RL|\n",
      "|       rL|\n",
      "|        I|\n",
      "|       RM|\n",
      "+---------+\n",
      "\n"
     ]
    }
   ],
   "source": [
    "raw_data.select(\"MS Zoning\").distinct().show()"
   ]
  },
  {
   "cell_type": "markdown",
   "metadata": {},
   "source": [
    "Aqui podemos observar que hay diferentes tipos RL donde algunas letras estan en minusculas y otras en mayusculas. Por lo tanto, corregiremos esos nombres y luego pasaremos a filtrar por los tipos de zonas que nos interesen"
   ]
  },
  {
   "cell_type": "code",
   "execution_count": 396,
   "metadata": {},
   "outputs": [],
   "source": [
    "    # Utilizamos la funcion withColumn para cambiar las filas mal nombradas y luego con regexp_replace buscamos el nombre que queremos cambiar\n",
    "raw_data = raw_data.withColumn('MS Zoning', regexp_replace('MS Zoning', 'Rl', 'RL'))\n",
    "raw_data = raw_data.withColumn('MS Zoning', regexp_replace('MS Zoning', 'rL', 'RL'))"
   ]
  },
  {
   "cell_type": "code",
   "execution_count": 397,
   "metadata": {},
   "outputs": [
    {
     "name": "stdout",
     "output_type": "stream",
     "text": [
      "+---------+\n",
      "|MS Zoning|\n",
      "+---------+\n",
      "|       RH|\n",
      "|       FV|\n",
      "|        C|\n",
      "|        A|\n",
      "|       RL|\n",
      "|        I|\n",
      "|       RM|\n",
      "+---------+\n",
      "\n"
     ]
    }
   ],
   "source": [
    "    # Chequeamos los resultados\n",
    "raw_data.select(\"MS Zoning\").distinct().show()"
   ]
  },
  {
   "cell_type": "code",
   "execution_count": 398,
   "metadata": {},
   "outputs": [
    {
     "name": "stdout",
     "output_type": "stream",
     "text": [
      "+-----+---------+------------+--------+------------+----------+------------+----------+--------------+------------+----------+---------+-------------+----------+-----------+---------+---------+-------------+-------------+------------+-------------+-----------+-----------+-----------+---------+-------+-------+-------+---------+\n",
      "|Order|MS Zoning|Lot Frontage|Lot Area|Land Contour|Land Slope|Overall Qual|Year Built|Year Remod/Add|Mas Vnr Type|Exter Qual|Bsmt Cond|Total Bsmt SF|Heating QC|Central Air|Full Bath|Half Bath|Bedroom AbvGr|Kitchen AbvGr|Kitchen Qual|TotRms AbvGrd|Garage Cars|Garage Area|Garage Cond|Pool Area|Pool QC|Mo Sold|Yr Sold|SalePrice|\n",
      "+-----+---------+------------+--------+------------+----------+------------+----------+--------------+------------+----------+---------+-------------+----------+-----------+---------+---------+-------------+-------------+------------+-------------+-----------+-----------+-----------+---------+-------+-------+-------+---------+\n",
      "|    1|       RL|         141|   31770|         Lvl|       Gtl|           6|      1960|          1960|       Stone|        TA|       Gd|         1080|        Fa|          Y|        1|        0|            3|            1|          TA|            7|          2|        528|         TA|        0|     Sp|      5|   2010|   215000|\n",
      "+-----+---------+------------+--------+------------+----------+------------+----------+--------------+------------+----------+---------+-------------+----------+-----------+---------+---------+-------------+-------------+------------+-------------+-----------+-----------+-----------+---------+-------+-------+-------+---------+\n",
      "only showing top 1 row\n",
      "\n"
     ]
    }
   ],
   "source": [
    "    # Filtramos por viviendas ubicadas en zonas residenciales (alta, media y baja densidad)\n",
    "data_filter = raw_data.filter((raw_data[\"MS Zoning\"] == \"RM\") | (raw_data[\"MS Zoning\"] == \"RH\") | (raw_data[\"MS Zoning\"] == \"RL\"))\n",
    "data_filter.show(1)"
   ]
  },
  {
   "cell_type": "code",
   "execution_count": 399,
   "metadata": {},
   "outputs": [
    {
     "data": {
      "text/plain": [
       "2768"
      ]
     },
     "execution_count": 399,
     "metadata": {},
     "output_type": "execute_result"
    }
   ],
   "source": [
    "data_filter.count()"
   ]
  },
  {
   "cell_type": "markdown",
   "metadata": {},
   "source": [
    "Revisamos ahora los valores nulos"
   ]
  },
  {
   "cell_type": "code",
   "execution_count": 400,
   "metadata": {},
   "outputs": [
    {
     "name": "stdout",
     "output_type": "stream",
     "text": [
      "+-----+---------+------------+--------+------------+----------+------------+----------+--------------+------------+----------+---------+-------------+----------+-----------+---------+---------+-------------+-------------+------------+-------------+-----------+-----------+-----------+---------+-------+-------+-------+---------+\n",
      "|Order|MS Zoning|Lot Frontage|Lot Area|Land Contour|Land Slope|Overall Qual|Year Built|Year Remod/Add|Mas Vnr Type|Exter Qual|Bsmt Cond|Total Bsmt SF|Heating QC|Central Air|Full Bath|Half Bath|Bedroom AbvGr|Kitchen AbvGr|Kitchen Qual|TotRms AbvGrd|Garage Cars|Garage Area|Garage Cond|Pool Area|Pool QC|Mo Sold|Yr Sold|SalePrice|\n",
      "+-----+---------+------------+--------+------------+----------+------------+----------+--------------+------------+----------+---------+-------------+----------+-----------+---------+---------+-------------+-------------+------------+-------------+-----------+-----------+-----------+---------+-------+-------+-------+---------+\n",
      "|    0|        0|         469|       0|           0|         0|           0|         0|             0|          16|         0|        0|            0|         0|          0|        0|        0|            0|            0|           0|            0|          1|          1|          2|        0|      0|      0|      0|        0|\n",
      "+-----+---------+------------+--------+------------+----------+------------+----------+--------------+------------+----------+---------+-------------+----------+-----------+---------+---------+-------------+-------------+------------+-------------+-----------+-----------+-----------+---------+-------+-------+-------+---------+\n",
      "\n"
     ]
    }
   ],
   "source": [
    "data_filter.select([count(when(col(c).isNull(), c)).alias(c) for c in \n",
    "           data_filter.columns]).show()"
   ]
  },
  {
   "cell_type": "markdown",
   "metadata": {},
   "source": [
    "Luego de revisar los valores nulos podemos observar que la unica variable con un numero significativo de nulos es Lot Frontage pero el resto de variable tiene un numero practicamente insignificante de valores NaN que no nos afectaran en nuestro análisis."
   ]
  },
  {
   "cell_type": "markdown",
   "metadata": {},
   "source": [
    "## Cuántas viviendas distintas encontramos en el dataset? ¿Se repite alguna? Tiene sentido que haya duplicadas? ¿Qué podemos hacer con las duplicadas?"
   ]
  },
  {
   "cell_type": "markdown",
   "metadata": {},
   "source": [
    "Observamos los valores distintos"
   ]
  },
  {
   "cell_type": "code",
   "execution_count": 401,
   "metadata": {},
   "outputs": [
    {
     "data": {
      "text/plain": [
       "2762"
      ]
     },
     "execution_count": 401,
     "metadata": {},
     "output_type": "execute_result"
    }
   ],
   "source": [
    "data_filter.distinct().count()"
   ]
  },
  {
   "cell_type": "code",
   "execution_count": 402,
   "metadata": {},
   "outputs": [
    {
     "data": {
      "text/plain": [
       "2768"
      ]
     },
     "execution_count": 402,
     "metadata": {},
     "output_type": "execute_result"
    }
   ],
   "source": [
    "data_filter.count()"
   ]
  },
  {
   "cell_type": "markdown",
   "metadata": {},
   "source": [
    "El dataframe tiene 6 valores duplicados. Desde mi punto de vista, los duplicados se refieren a personas que compraron dos o mas apartamentos de la misma edificacion o en otra edificacion con condiciones similares. Estos duplicados podrian ser eliminados del analisis."
   ]
  },
  {
   "cell_type": "code",
   "execution_count": 403,
   "metadata": {},
   "outputs": [
    {
     "data": {
      "text/plain": [
       "2762"
      ]
     },
     "execution_count": 403,
     "metadata": {},
     "output_type": "execute_result"
    }
   ],
   "source": [
    "data_clean = data_filter.dropDuplicates()\n",
    "data_clean.count()"
   ]
  },
  {
   "cell_type": "markdown",
   "metadata": {},
   "source": [
    "## ¿Podrías decirme el total de inmuebles y el precio medio (Sale Price) de cada zona (MS Zoning)?"
   ]
  },
  {
   "cell_type": "markdown",
   "metadata": {},
   "source": [
    "Para responder a esta pregunta vamos a seleccionar las tres zonas residenciales de alta, media y baja densidad que estamos analizando junto con el precio de venta. Luego, agruparemos por las zonas, haremos el conteo de los inmuebles en cada una de estas y calcularemos la media por zona con la funcion `agg` para calcular funciones de agrugados. Finalmente con withColumnRenamed vamos a cambiar la columna del conteo por un nombre mas representativo."
   ]
  },
  {
   "cell_type": "code",
   "execution_count": 404,
   "metadata": {},
   "outputs": [
    {
     "name": "stdout",
     "output_type": "stream",
     "text": [
      "+---------+-------------+------------------+\n",
      "|MS Zoning|num_inmuebles|    avg(SalePrice)|\n",
      "+---------+-------------+------------------+\n",
      "|       RH|           27|136419.77777777778|\n",
      "|       RL|         2273|191283.25164980203|\n",
      "|       RM|          462|126781.39393939394|\n",
      "+---------+-------------+------------------+\n",
      "\n"
     ]
    }
   ],
   "source": [
    "data_inmuebles = data_clean.select(\"MS Zoning\", \"SalePrice\") \\\n",
    "    .groupBy(\"MS Zoning\") \\\n",
    "    .agg(count(\"MS Zoning\"), avg(\"SalePrice\"))\\\n",
    "    .withColumnRenamed(\"count(MS Zoning)\", \"num_inmuebles\")\n",
    "\n",
    "data_inmuebles.show()"
   ]
  },
  {
   "cell_type": "markdown",
   "metadata": {},
   "source": [
    "Aqui podemos observar que las zonas de baja densidad poblacional `RL` tienen el mayor numero de inmuebles y el precio de venta promedio mas alto comparado con las demas zonas residenciales."
   ]
  },
  {
   "cell_type": "markdown",
   "metadata": {},
   "source": [
    "## Media de Total Bsmt SF por cada década de construcción calculada a partir de Year Built. "
   ]
  },
  {
   "cell_type": "markdown",
   "metadata": {},
   "source": [
    "Para responder a esta pregunta voy a realizar primero un chequeo de los primeros y los ultimos años en los que se contruyo para poder agrupar con la clausula case when. Realizado este proceso, voy a seleccionar la agrupacion realizada en el `case when` junto con la superficie del sótano en pies cuadrados `Total Bsmt SF` y calculare el promedio de Total Bsmt agrupando y ordenando por las decadas que he creado."
   ]
  },
  {
   "cell_type": "code",
   "execution_count": 405,
   "metadata": {},
   "outputs": [
    {
     "name": "stdout",
     "output_type": "stream",
     "text": [
      "+---------------+---------------+\n",
      "|min(Year Built)|max(Year Built)|\n",
      "+---------------+---------------+\n",
      "|           1872|           2010|\n",
      "+---------------+---------------+\n",
      "\n"
     ]
    }
   ],
   "source": [
    "    # chequeo minimo y maximo año de construccion\n",
    "data_clean.select(min(\"Year Built\"), max(\"Year Built\")).show()"
   ]
  },
  {
   "cell_type": "code",
   "execution_count": 422,
   "metadata": {},
   "outputs": [],
   "source": [
    "    # Con withColumn y expr hago uso de case when para realizar una nueva columna de agrupamiento\n",
    "df1 = data_clean.withColumn(\"decadas\", \n",
    "      expr(\"case when `Year Built` between 1870 and 1879 then 'Años 1870' \" +\n",
    "                       \"when `Year Built` between 1880 and 1889 then 'Años 1880' \" +\n",
    "                       \"when `Year Built` between 1890 and 1899 then 'Años 1890' \" +\n",
    "                       \"when `Year Built` between 1900 and 1909 then 'Años 1900' \" + \n",
    "                       \"when `Year Built` between 1910 and 1919 then 'Años 1910' \" +\n",
    "                       \"when `Year Built` between 1920 and 1929 then 'Años 1920' \" +\n",
    "                       \"when `Year Built` between 1930 and 1939 then 'Años 1930' \" +\n",
    "                       \"when `Year Built` between 1940 and 1949 then 'Años 1940' \" +\n",
    "                       \"when `Year Built` between 1950 and 1959 then 'Años 1950' \" +\n",
    "                       \"when `Year Built` between 1960 and 1969 then 'Años 1960' \" + \n",
    "                       \"when `Year Built` between 1970 and 1979 then 'Años 1970' \" +\n",
    "                       \"when `Year Built` between 1980 and 1989 then 'Años 1980' \" +\n",
    "                       \"when `Year Built` between 1990 and 1999 then 'Años 1990' \" +\n",
    "                       \"when `Year Built` between 2000 and 2009 then 'Años 2000' \" +\n",
    "                       \"when `Year Built` between 2010 and 2019 then 'Años 2010' \" +\n",
    "                       \"end\"))"
   ]
  },
  {
   "cell_type": "code",
   "execution_count": 423,
   "metadata": {},
   "outputs": [
    {
     "name": "stdout",
     "output_type": "stream",
     "text": [
      "+---------+------------------+\n",
      "|  decadas|avg(Total Bsmt SF)|\n",
      "+---------+------------------+\n",
      "|Años 1870|             761.0|\n",
      "|Años 1880|             836.0|\n",
      "|Años 1890| 885.5833333333334|\n",
      "|Años 1900| 720.1388888888889|\n",
      "|Años 1910| 788.3009708737864|\n",
      "|Años 1920| 833.9368421052632|\n",
      "|Años 1930| 769.9158878504672|\n",
      "|Años 1940| 706.9261744966443|\n",
      "|Años 1950| 968.2955223880597|\n",
      "|Años 1960| 1082.672268907563|\n",
      "|Años 1970| 952.7225274725274|\n",
      "|Años 1980|            1086.0|\n",
      "|Años 1990|1138.8083067092653|\n",
      "|Años 2000| 1348.469079939668|\n",
      "|Años 2010|            1539.0|\n",
      "+---------+------------------+\n",
      "\n"
     ]
    }
   ],
   "source": [
    "    # Finalmente realizamos la query que nos interesa a los fines del enunciado\n",
    "data_superficie = df1.select(\"Total Bsmt SF\", \"decadas\") \\\n",
    "    .groupBy(\"decadas\") \\\n",
    "    .agg(avg(\"Total Bsmt SF\")) \\\n",
    "    .orderBy(\"decadas\")\n",
    "\n",
    "data_superficie.show()"
   ]
  },
  {
   "cell_type": "markdown",
   "metadata": {},
   "source": [
    "## ¿Cuál es la decada de construcción con viviendas mejor acondicionadas para el frío (Heating QC)?"
   ]
  },
  {
   "cell_type": "markdown",
   "metadata": {},
   "source": [
    "Para responder a esta pregunta voy a seleccionar las decadas creadas anteriormente junto con Heating QC. Agruparemos por estas dos variables categoricas y luego, con una funcion de agregado como el conteo voy a contar la califaccion de las construcciones para cada decada. Al final, ordenamos por decada y por conteo para que queden bien presentados los resultados."
   ]
  },
  {
   "cell_type": "code",
   "execution_count": 424,
   "metadata": {},
   "outputs": [
    {
     "name": "stdout",
     "output_type": "stream",
     "text": [
      "+---------+----------+-----------------+\n",
      "|  decadas|Heating QC|count(Heating QC)|\n",
      "+---------+----------+-----------------+\n",
      "|Años 1870|        Fa|                1|\n",
      "|Años 1870|        TA|                1|\n",
      "|Años 1870|        Gd|                1|\n",
      "|Años 1880|        Ex|                2|\n",
      "|Años 1880|        TA|                3|\n",
      "|Años 1880|        Gd|                3|\n",
      "|Años 1890|        Gd|                4|\n",
      "|Años 1890|        TA|                4|\n",
      "|Años 1890|        Ex|                4|\n",
      "|Años 1900|        Fa|                1|\n",
      "|Años 1900|        Gd|               11|\n",
      "|Años 1900|        TA|               12|\n",
      "|Años 1900|        Ex|               12|\n",
      "|Años 1910|        Fa|                9|\n",
      "|Años 1910|        Gd|               28|\n",
      "|Años 1910|        TA|               28|\n",
      "|Años 1910|        Ex|               38|\n",
      "|Años 1920|        Po|                1|\n",
      "|Años 1920|        Fa|               20|\n",
      "|Años 1920|        Gd|               43|\n",
      "|Años 1920|        Ex|               51|\n",
      "|Años 1920|        TA|               75|\n",
      "|Años 1930|        Fa|                4|\n",
      "|Años 1930|        Gd|               22|\n",
      "|Años 1930|        Ex|               40|\n",
      "|Años 1930|        TA|               41|\n",
      "|Años 1940|        Po|                1|\n",
      "|Años 1940|        Fa|               12|\n",
      "|Años 1940|        Gd|               26|\n",
      "|Años 1940|        TA|               54|\n",
      "|Años 1940|        Ex|               56|\n",
      "|Años 1950|        Fa|               19|\n",
      "|Años 1950|        Gd|               75|\n",
      "|Años 1950|        Ex|               98|\n",
      "|Años 1950|        TA|              143|\n",
      "|Años 1960|        Fa|               10|\n",
      "|Años 1960|        Gd|               79|\n",
      "|Años 1960|        Ex|               88|\n",
      "|Años 1960|        TA|              180|\n",
      "|Años 1970|        Fa|               12|\n",
      "|Años 1970|        Gd|               41|\n",
      "|Años 1970|        Ex|               68|\n",
      "|Años 1970|        TA|              243|\n",
      "|Años 1980|        Ex|               28|\n",
      "|Años 1980|        Gd|               34|\n",
      "|Años 1980|        TA|               58|\n",
      "|Años 1990|        TA|                8|\n",
      "|Años 1990|        Gd|               72|\n",
      "|Años 1990|        Ex|              233|\n",
      "|Años 2000|        Gd|               25|\n",
      "|Años 2000|        Ex|              638|\n",
      "|Años 2010|        Ex|                2|\n",
      "+---------+----------+-----------------+\n",
      "\n"
     ]
    }
   ],
   "source": [
    "data_calefaccion = df1.select(\"Heating QC\", \"decadas\") \\\n",
    "    .groupBy(\"decadas\", \"Heating QC\") \\\n",
    "    .agg(count(\"Heating QC\")) \\\n",
    "    .orderBy(\"decadas\", \"count(Heating QC)\")\n",
    "\n",
    "data_calefaccion.show(100)"
   ]
  },
  {
   "cell_type": "markdown",
   "metadata": {},
   "source": [
    "Del dataframe presentado arriba podemos observar que las viviendas mejor acondicionadas para el frio son las construidas en los años 2000 porque tienen el mayor numero de Ex que significa Excelente"
   ]
  },
  {
   "cell_type": "markdown",
   "metadata": {},
   "source": [
    "## ¿Cuáles son las 10 viviendas que se vendieron por un precio más elevado por metro cuadrado en el año 2009?"
   ]
  },
  {
   "cell_type": "markdown",
   "metadata": {},
   "source": [
    "Aqui voy a seleccionar el precio de venta, el año de la venta, el Lot Area (medido en pies cuadrados) y luego haciendo un cociente entre el precio de venta y el Lot Area por el numero 10.76 para convertirlo a metros cuadrados podemos conseguir visualizar el precio por metro cuadrado. A continuacion, filtramos solo los diez inmuebles con precio por metro cuadrado mas elevado del año 2009"
   ]
  },
  {
   "cell_type": "code",
   "execution_count": 409,
   "metadata": {},
   "outputs": [
    {
     "name": "stdout",
     "output_type": "stream",
     "text": [
      "+---------+-------+--------+------------------------+\n",
      "|SalePrice|Yr Sold|Lot Area|Precio_por_metrocuadrado|\n",
      "+---------+-------+--------+------------------------+\n",
      "|   124000|   2009|    1300|    1026.745048000290...|\n",
      "|   137000|   2009|    1488|    991.0645001346164...|\n",
      "|   173000|   2009|    2268|    821.0835228395432...|\n",
      "|   121000|   2009|    1612|    807.9874532258410...|\n",
      "|   119500|   2009|    1680|    765.6722504165740...|\n",
      "|   118000|   2009|    1680|    756.0613016665752...|\n",
      "|   112000|   2009|    1680|    717.6175066665798...|\n",
      "|   115000|   2009|    1733|    714.3047888057206...|\n",
      "|   111000|   2009|    1680|    711.2102074999139...|\n",
      "|   148500|   2009|    2280|    701.0934193420441...|\n",
      "+---------+-------+--------+------------------------+\n",
      "only showing top 10 rows\n",
      "\n"
     ]
    }
   ],
   "source": [
    "    # Creo una tabla temporal para hacer la query SQL\n",
    "data_clean.createOrReplaceTempView(\"table1\")\n",
    "    \n",
    "    # Realizamos la query\n",
    "df1 = spark.sql(\"\"\"\n",
    "                SELECT `SalePrice`, `Yr Sold`, `Lot Area`, (`SalePrice` / (`Lot Area` / 10.7642626)) AS Precio_por_metrocuadrado\n",
    "                FROM table1 \n",
    "                WHERE `Yr Sold` = 2009 \n",
    "                ORDER BY Precio_por_metrocuadrado DESC\n",
    "                \"\"\")\n",
    "    # Presento los resultados\n",
    "df1.show(10)"
   ]
  },
  {
   "cell_type": "markdown",
   "metadata": {},
   "source": [
    "## Media anual por zonas del precio de venta y metros cuadrados."
   ]
  },
  {
   "cell_type": "markdown",
   "metadata": {},
   "source": [
    "Para hacer frente a esta pregunta lo que voy a realizar es una seleccion de la variable correspondiente a la zona, al año de venta, el promedio del precio de venta y el promedio de los metros cuadrados. De nuevo, para conseguir los metros cuadrados voy a dividir por 10.76 para obtener la equivalencia. Despues agrupo y ordeno por zona y por año de venta y presentare los resultados."
   ]
  },
  {
   "cell_type": "code",
   "execution_count": 410,
   "metadata": {},
   "outputs": [
    {
     "name": "stdout",
     "output_type": "stream",
     "text": [
      "+---------+-------+------------------+-------------------+\n",
      "|MS Zoning|Yr Sold|    avg(SalePrice)|   Metros_cuadrados|\n",
      "+---------+-------+------------------+-------------------+\n",
      "|       RH|   2006|140316.66666666666| 659.54355294158000|\n",
      "|       RH|   2007|          147250.0| 651.29867790481000|\n",
      "|       RH|   2008|150333.33333333334| 766.11533675020000|\n",
      "|       RH|   2009|          116206.8| 647.12282288616000|\n",
      "|       RH|   2010|          126280.0| 753.01024335844000|\n",
      "|       RL|   2006|194350.64065708418|1043.75992785845000|\n",
      "|       RL|   2007|193399.98014440434|1059.64373198233000|\n",
      "|       RL|   2008|189885.58515283844|1047.61951165928000|\n",
      "|       RL|   2009|190455.55086372362|1002.15171118745000|\n",
      "|       RL|   2010|  184978.418972332|1011.32666261328000|\n",
      "|       RM|   2006|127502.63725490196| 574.99544472135000|\n",
      "|       RM|   2007|128947.62105263158| 625.42822805256000|\n",
      "|       RM|   2008| 133336.1219512195| 623.64903204976000|\n",
      "|       RM|   2009|118759.86904761905| 552.53823579765000|\n",
      "|       RM|   2010|119681.70689655172| 586.08528020015000|\n",
      "+---------+-------+------------------+-------------------+\n",
      "\n"
     ]
    }
   ],
   "source": [
    "    # creamos una tabla temporal\n",
    "data_clean.createOrReplaceTempView(\"table2\")\n",
    "    \n",
    "    # realizo la query SQL\n",
    "df2 = spark.sql(\"\"\"\n",
    "                SELECT `MS Zoning`, `Yr Sold`, AVG(SalePrice), AVG(`Lot Area` / 10.7642626) AS Metros_cuadrados\n",
    "                FROM table2 \n",
    "                GROUP BY `MS Zoning`, `Yr Sold` \n",
    "                ORDER BY `MS Zoning`, `Yr Sold`  ASC\n",
    "                \"\"\")\n",
    "df2.show()"
   ]
  },
  {
   "cell_type": "markdown",
   "metadata": {},
   "source": [
    "## ¿Podrías decirme el total de recaudación de las casas de revistimiento (Mas Vnr Type) de piedra con respecto a las de ladrillo? ¿Hay diferencia significativa?"
   ]
  },
  {
   "cell_type": "markdown",
   "metadata": {},
   "source": [
    "En este apartado voy a filtrar por las casas de revestimiento de piedra y las de ladrillo que hacen referencia a los tipos `BrkCmn`, `BrkFace` y `Stone`. Luego de haber filtrado voy a crear una query que agrupe por estos tipos de revestimiento y calcule el promedio recaudado para poder compararlos."
   ]
  },
  {
   "cell_type": "code",
   "execution_count": 411,
   "metadata": {},
   "outputs": [
    {
     "name": "stdout",
     "output_type": "stream",
     "text": [
      "+------------+\n",
      "|Mas Vnr Type|\n",
      "+------------+\n",
      "|        None|\n",
      "|      BrkCmn|\n",
      "|        null|\n",
      "|       Stone|\n",
      "|     BrkFace|\n",
      "|      CBlock|\n",
      "+------------+\n",
      "\n"
     ]
    }
   ],
   "source": [
    "    # primero observamos los valores distintos\n",
    "data_clean.select(\"Mas Vnr Type\").distinct().show()"
   ]
  },
  {
   "cell_type": "code",
   "execution_count": 412,
   "metadata": {},
   "outputs": [
    {
     "data": {
      "text/plain": [
       "1102"
      ]
     },
     "execution_count": 412,
     "metadata": {},
     "output_type": "execute_result"
    }
   ],
   "source": [
    "data_revestimiento = data_clean.filter((data_clean[\"Mas Vnr Type\"] == \"BrkCmn\") | (data_clean[\"Mas Vnr Type\"] == \"BrkFace\") | (data_clean[\"Mas Vnr Type\"] == \"Stone\"))\n",
    "data_revestimiento.count()"
   ]
  },
  {
   "cell_type": "code",
   "execution_count": 413,
   "metadata": {},
   "outputs": [
    {
     "name": "stdout",
     "output_type": "stream",
     "text": [
      "+------------+------------------+\n",
      "|Mas Vnr Type|    avg(SalePrice)|\n",
      "+------------+------------------+\n",
      "|      BrkCmn|          140199.0|\n",
      "|     BrkFace|210981.79363207548|\n",
      "|       Stone| 262775.0087336245|\n",
      "+------------+------------------+\n",
      "\n"
     ]
    }
   ],
   "source": [
    "    # creamos una tabla temporal en base al dataset con los revestimientos que nos interesan\n",
    "data_revestimiento.createOrReplaceTempView(\"table3\")\n",
    "    \n",
    "    # hacemos la query SQL\n",
    "df3 = spark.sql(\"\"\"\n",
    "                SELECT `Mas Vnr Type`, AVG(SalePrice)\n",
    "                FROM table3 \n",
    "                GROUP BY `Mas Vnr Type`\n",
    "                ORDER BY `Mas Vnr Type` ASC\n",
    "                \"\"\")\n",
    "df3.show()"
   ]
  },
  {
   "cell_type": "code",
   "execution_count": 428,
   "metadata": {},
   "outputs": [
    {
     "name": "stdout",
     "output_type": "stream",
     "text": [
      "+------------+--------------+\n",
      "|Mas Vnr Type|sum(SalePrice)|\n",
      "+------------+--------------+\n",
      "|      BrkCmn|       3504975|\n",
      "|     BrkFace|     178912561|\n",
      "|       Stone|      60175477|\n",
      "+------------+--------------+\n",
      "\n"
     ]
    }
   ],
   "source": [
    "# creamos una tabla temporal en base al dataset con los revestimientos que nos interesan\n",
    "data_revestimiento.createOrReplaceTempView(\"table4\")\n",
    "    \n",
    "    # hacemos la query SQL\n",
    "df4 = spark.sql(\"\"\"\n",
    "                SELECT `Mas Vnr Type`, SUM(SalePrice)\n",
    "                FROM table4 \n",
    "                GROUP BY `Mas Vnr Type`\n",
    "                ORDER BY `Mas Vnr Type` ASC\n",
    "                \"\"\")\n",
    "df4.show()"
   ]
  },
  {
   "cell_type": "markdown",
   "metadata": {},
   "source": [
    "Podemos observar como las casas con revestimiento de ladrillo tienen una recaudacion significativa respecto de las viviendas de piedra. No obstante, las viviendas de revestimiento de piedra son mas caras en promedio respecto de las casas con revestimiento de ladrillo. Las de piedra tienen precios en un 87%  superiores respecto de las de ladrillo normal y un 25% superior de las de ladrillo visto pero las de Ladrillo recaudan mas porque evidentemente son mayor cantidad que las de piedra."
   ]
  },
  {
   "cell_type": "markdown",
   "metadata": {},
   "source": [
    "## ¿Cuánto son más caras las viviendas con 2 cocinas, con 2 o más plazas de garaje que las que tienen 1 cocina y 1 plaza de garaje? Comparar medias y cuartiles de ambos casos"
   ]
  },
  {
   "cell_type": "markdown",
   "metadata": {},
   "source": [
    "Para responder a esta ultima pregunta obligatoria voy a hacer uso de la clausula case when utilizada comunmente en SQL para poder responder. Aqui creare una nueva columna que contenga en el grupo 1 a las casas con dos cocinas y mas de dos plazas de garage y a un grupo dos compuesto por las viviendas con una cocina y una plaza de garage. Luego de hacer esto, voy a seleccionar el precio de venta promedio junto con el grupo para poder compararlos y poder verificar cuanto son mas caras unas viviendas de otras."
   ]
  },
  {
   "cell_type": "code",
   "execution_count": 414,
   "metadata": {},
   "outputs": [
    {
     "name": "stdout",
     "output_type": "stream",
     "text": [
      "+-------------+\n",
      "|Kitchen AbvGr|\n",
      "+-------------+\n",
      "|            1|\n",
      "|            3|\n",
      "|            2|\n",
      "+-------------+\n",
      "\n"
     ]
    }
   ],
   "source": [
    "# primero observamos los valores distintos\n",
    "data_clean.select(\"Kitchen AbvGr\").distinct().show()"
   ]
  },
  {
   "cell_type": "code",
   "execution_count": 415,
   "metadata": {},
   "outputs": [
    {
     "name": "stdout",
     "output_type": "stream",
     "text": [
      "+-----------+\n",
      "|Garage Cars|\n",
      "+-----------+\n",
      "|       null|\n",
      "|          1|\n",
      "|          3|\n",
      "|          5|\n",
      "|          4|\n",
      "|          2|\n",
      "|          0|\n",
      "+-----------+\n",
      "\n"
     ]
    }
   ],
   "source": [
    "data_clean.select(\"Garage Cars\").distinct().show()"
   ]
  },
  {
   "cell_type": "code",
   "execution_count": 426,
   "metadata": {},
   "outputs": [],
   "source": [
    "df4 = data_clean.withColumn(\"Grupo\", \n",
    "      expr(\"case when `Kitchen AbvGr` = 2 and `Garage Cars` >= 2 then 'Grupo 1' \" +\n",
    "                       \"when `Kitchen AbvGr` = 1 and `Garage Cars` = 1 then 'Grupo 2' \" +\n",
    "                       \"end\"))"
   ]
  },
  {
   "cell_type": "code",
   "execution_count": 427,
   "metadata": {},
   "outputs": [
    {
     "name": "stdout",
     "output_type": "stream",
     "text": [
      "+-------+------------------+\n",
      "|  Grupo|    avg(SalePrice)|\n",
      "+-------+------------------+\n",
      "|Grupo 1|145124.27906976745|\n",
      "|Grupo 2|128121.99337748345|\n",
      "+-------+------------------+\n",
      "\n"
     ]
    }
   ],
   "source": [
    "data_equipamiento = df4.select(\"SalePrice\", \"Grupo\") \\\n",
    "    .filter(df4.Grupo.isNotNull()) \\\n",
    "    .groupBy(\"Grupo\") \\\n",
    "    .agg(avg(\"SalePrice\")) \\\n",
    "    .orderBy(\"Grupo\")\n",
    "\n",
    "data_equipamiento.show()"
   ]
  },
  {
   "cell_type": "markdown",
   "metadata": {},
   "source": [
    "Se puede observar que las viviendas del primer grupo son superiores en un 13% en precio promedio que las del grupo 2, por lo tanto, concluimos que tiene significancia el hecho de tener mas de una cocina o de una plaza de garage"
   ]
  },
  {
   "cell_type": "markdown",
   "metadata": {},
   "source": [
    "## (COMPLEMENTARIA) Estudiar la relación entre el precio y el número de Garajes. (Recomiendo segmentar precio por cuartiles y estudiar el número de casos coincidentes)"
   ]
  },
  {
   "cell_type": "markdown",
   "metadata": {},
   "source": [
    "Para responder voy a investigar los minimos, maximos y los cuartiles del precio de venta. Una vez que tenemos estos valores identificados, voy a averiguar en que parte de la distribucion del precio cae el numero de garages. Es decir, averiguaremos si las viviendas de un garage caen en el primer cuartil o en el segundo, etc."
   ]
  },
  {
   "cell_type": "code",
   "execution_count": 418,
   "metadata": {},
   "outputs": [
    {
     "name": "stdout",
     "output_type": "stream",
     "text": [
      "+-------+------------------+\n",
      "|summary|         SalePrice|\n",
      "+-------+------------------+\n",
      "|  count|              2762|\n",
      "|   mean|179957.70057929037|\n",
      "| stddev|  80219.2667393635|\n",
      "|    min|             12789|\n",
      "|    max|            755000|\n",
      "+-------+------------------+\n",
      "\n"
     ]
    }
   ],
   "source": [
    "data_clean.describe(\"SalePrice\").show()"
   ]
  },
  {
   "cell_type": "code",
   "execution_count": 419,
   "metadata": {},
   "outputs": [
    {
     "data": {
      "text/plain": [
       "[129000.0, 159000.0, 211500.0]"
      ]
     },
     "execution_count": 419,
     "metadata": {},
     "output_type": "execute_result"
    }
   ],
   "source": [
    "data_clean.approxQuantile(\"SalePrice\", [0.25, 0.5, 0.75], 0)"
   ]
  },
  {
   "cell_type": "code",
   "execution_count": 420,
   "metadata": {},
   "outputs": [],
   "source": [
    "df5 = data_clean.withColumn(\"Cuartiles\", \n",
    "      expr(\"case when SalePrice between 12789 and 129000 then 'Primer_Cuartil' \" +\n",
    "                       \"when SalePrice between 129000 and 159000 then 'Segundo_Cuartil' \" +\n",
    "                       \"when SalePrice between 159000 and 211500 then 'Tercer_Cuartil' \" +\n",
    "                       \"end\"))"
   ]
  },
  {
   "cell_type": "code",
   "execution_count": 421,
   "metadata": {},
   "outputs": [
    {
     "name": "stdout",
     "output_type": "stream",
     "text": [
      "+---------------+-----------+------------------+\n",
      "|      Cuartiles|Garage Cars|count(Garage Cars)|\n",
      "+---------------+-----------+------------------+\n",
      "| Primer_Cuartil|          0|               111|\n",
      "| Primer_Cuartil|          3|                 7|\n",
      "| Primer_Cuartil|          4|                 1|\n",
      "| Primer_Cuartil|          5|                 1|\n",
      "| Primer_Cuartil|          2|               170|\n",
      "| Primer_Cuartil|          1|               411|\n",
      "|Segundo_Cuartil|          3|                12|\n",
      "|Segundo_Cuartil|          4|                 2|\n",
      "|Segundo_Cuartil|          0|                28|\n",
      "|Segundo_Cuartil|          1|               279|\n",
      "|Segundo_Cuartil|          2|               366|\n",
      "| Tercer_Cuartil|          0|                 7|\n",
      "| Tercer_Cuartil|          3|                25|\n",
      "| Tercer_Cuartil|          4|                 4|\n",
      "| Tercer_Cuartil|          1|                61|\n",
      "| Tercer_Cuartil|          2|               586|\n",
      "+---------------+-----------+------------------+\n",
      "\n"
     ]
    }
   ],
   "source": [
    "data_cuartiles = df5.select(\"Garage Cars\", \"Cuartiles\") \\\n",
    "    .filter(df5.Cuartiles.isNotNull() & df5['Garage Cars'].isNotNull()) \\\n",
    "    .groupBy(\"Cuartiles\", \"Garage Cars\") \\\n",
    "    .agg(count(\"Garage Cars\")) \\\n",
    "    .orderBy(\"Cuartiles\")\n",
    "\n",
    "data_cuartiles.show()"
   ]
  },
  {
   "cell_type": "markdown",
   "metadata": {},
   "source": [
    "Del analisis realizado anteriorment podemos observar como el primer cuartil del precio se ve representado principalmente por las viviendas con un garage. Luego, en el segundo cuartil del precio se observa que esta representado por casas con dos o una plaza de garage ya que la mayoria de estos se encuentran en esta parte de la distribucion. Por ultimo, podemos observar que el tercer cuartil se encuentra representado principalmente por viviendas con dos plazas de garage"
   ]
  },
  {
   "cell_type": "markdown",
   "metadata": {},
   "source": [
    "## (COMPLEMENTARIA) Las 10 viviendas con mejores servicios y mejor precio."
   ]
  },
  {
   "cell_type": "markdown",
   "metadata": {},
   "source": [
    "### Pista:\n",
    "#### Calcula las variables: \n",
    "- Número de servicios excelentes\n",
    "- Número de servicios buenos\n",
    "...\n",
    "\n",
    "#### Tendréis que tener en cuenta también variables como número de baños Full Bath, cocinas Kitchen AbvGr o dormitorios Bedroom AbvGr. Generando por ejemplo (número de estas variables por encima de media)\n",
    "\n",
    "#### Finalmente precio de venta"
   ]
  }
 ],
 "metadata": {
  "kernelspec": {
   "display_name": "Python 3",
   "language": "python",
   "name": "python3"
  },
  "language_info": {
   "codemirror_mode": {
    "name": "ipython",
    "version": 3
   },
   "file_extension": ".py",
   "mimetype": "text/x-python",
   "name": "python",
   "nbconvert_exporter": "python",
   "pygments_lexer": "ipython3",
   "version": "3.8.5"
  },
  "toc": {
   "base_numbering": 1,
   "nav_menu": {},
   "number_sections": true,
   "sideBar": true,
   "skip_h1_title": false,
   "title_cell": "Table of Contents",
   "title_sidebar": "Contents",
   "toc_cell": false,
   "toc_position": {},
   "toc_section_display": true,
   "toc_window_display": true
  }
 },
 "nbformat": 4,
 "nbformat_minor": 2
}
