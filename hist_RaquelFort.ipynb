{
 "cells": [
  {
   "cell_type": "markdown",
   "metadata": {},
   "source": [
    "2019/2020 - MDS-1 - Extracción, Transformación y Carga - Etl"
   ]
  },
  {
   "cell_type": "markdown",
   "metadata": {},
   "source": [
    "Raquel Fort Serra"
   ]
  },
  {
   "cell_type": "markdown",
   "metadata": {},
   "source": [
    "# Histograma puntos visitante"
   ]
  },
  {
   "cell_type": "markdown",
   "metadata": {},
   "source": [
    "Se podrá utilizar toda la información que se encuentra en el campus. \n",
    "\n",
    "El fichero de datos sobre el que se trabajará es el de partidosLigaNBA.txt.\n",
    "\n",
    "A cada una de las preguntas hay que responder explicando brevemente que se pretende hacer antes de lanzar el código.\n",
    "\n",
    "Al documento lo llamareís con vuestro nombre y apellido. Debeís enviarlo a mi correo de CUNEF antes del final del examen.\n",
    "\n",
    "El lenguaje para trabajar con Spark podrá ser python o R indistintamente."
   ]
  },
  {
   "cell_type": "markdown",
   "metadata": {},
   "source": [
    "## Primera pregunta: Describe brevemente que diferencia el persists, cache y collect en spark. Explica brevemente casos en los que es interesante su aplicación"
   ]
  },
  {
   "cell_type": "markdown",
   "metadata": {},
   "source": [
    "Los tres son conceptos clave para programar de manera más eficiente con Apache Spark.\n",
    "Por una parte, el almacenamiento en caché o la persistencia de Spark RDD son técnicas de optimización para aplicaciones de Spark iterativas e interactivas.\n",
    "El almacenamiento en caché y la persistencia ayudan a almacenar resultados parciales intermedios en la memoria o en un almacenamiento más sólido como el disco para que puedan reutilizarse en las etapas posteriores. \n",
    "Hay varios beneficios del almacenamiento en caché RDD y el mecanismo de persistencia en Spark. Funcionan bien con grandes conjuntos de datos, no hay que almacenar en caché el dataFrame con una pequeña cantidad de datos.\n",
    "- Cost efficient: no es necesario calcular el resultado en cada etapa.\n",
    "- Time efficient: la computación será más rápida\n",
    "- Ayuda a reducir el tiempo de ejecución de algoritmos iterativos en conjuntos de datos muy grandes.\n",
    "\n",
    "Por su parte, la función collect intentará copiar cada elemento del RDD en el programa del driver y, si nuestro RDD es pesado, a continuación se quedará sin memoria y se bloqueará. Para que no suceda, esto debemos intentar reducir el número de elementos del RDD con take o takesample, realizando filtrados o muestreando.\n"
   ]
  },
  {
   "cell_type": "markdown",
   "metadata": {},
   "source": [
    "#### CACHE \n",
    "Almacena los resultados intermedios solo en MEMORIA. Es decir, el almacenamiento predeterminado del caché RDD es la memoria. El caché RDD simplemente persiste con el nivel de almacenamiento predeterminado MEMORY_ONLY. "
   ]
  },
  {
   "cell_type": "markdown",
   "metadata": {},
   "source": [
    "#### PERSISTS\n",
    "Debido a la muy pequeña y sintáctica diferencia entre el almacenamiento en caché y los métodos de persistencia de los RDD, los dos métodos a menudo se usan indistintamente.\n",
    "En el método persist (), podemos usar varios niveles de almacenamiento como MEMORY_ONLY, MEMORY_AND_DISK, MEMORY_ONLY_SER, MEMORY_AND_DISK_SER, DISK_ONLY.\n"
   ]
  },
  {
   "cell_type": "markdown",
   "metadata": {},
   "source": [
    "#### COLLECT\n",
    "La acción collect () es la operación más simple y común que devuelve todo el contenido de los RDD al programa del controlador. La aplicación de collect () es una prueba unitaria en la que se espera que todo el RDD encaje en la memoria. Como resultado, facilita la comparación del resultado de RDD con el resultado esperado.\n",
    "Action Collect () tenía la restricción de que todos los datos deberían caber en la máquina y las copias en el controlador."
   ]
  },
  {
   "cell_type": "markdown",
   "metadata": {},
   "source": [
    "## Segunda pregunta: Explica brevemente los pasos a seguir para realizar la carga de un conjunto de datos (pasos que se siguieron en la práctica con datos de logs)"
   ]
  },
  {
   "cell_type": "markdown",
   "metadata": {},
   "source": [
    "- El primer paso que debemos realizar al momento de cualquier análisis que hagamos es, obviamente, tener los datos con los que vamos a trabajar, por lo que necesitamos importarlos, para ello vamos a utilizar la librería de Pandas de Python. \n",
    "- Para realizar este proceso debemos tomar en cuenta el formato y la ubicación del archivo. El formato se refiere a la forma en que codifican los datos. Por lo general, podemos distinguir diferentes esquemas de codificación mirando el final del nombre del archivo. Algunas codificaciones comunes son csv, json, xlsx, entre otros. Por su parte la ubicación del archivo o ruta nos dice dónde están almacenados los datos. Por lo general, se almacenan en la computadora que estamos usando o en internet.\n",
    "- Como dijimos anteriormente vamos a utilizar la librería de Pandas, por lo que primero que debemos hacer es importarla con el siguiente comando: import pandas as pd. Realizado esto podemos utilizar todos los métodos dentro de esta librería.\n",
    "- Seguidamente definimos una variable en donde colocamos la ruta en donde se encuentran los datos. \n",
    "- Y a continuación podemos utilizar los diferentes métodos de Pandas que se utilizan para leer archivos según el formato. Por ejemplo si el formato que tenmos es csv podemos utilizar df = pd.read_csv(\"nombrearchivo\"). Otros comandos por ejemplo: pd.read_json(), pd.read_excel(), pd.read_sql(), etc.\n",
    "- Con esta ya todos nuestros datos se encuentran almacenados dentro de la variable df."
   ]
  },
  {
   "cell_type": "markdown",
   "metadata": {},
   "source": [
    "## Tercera Pregunta: Índica un tipo de problema que puede empeorar los datos. (pe. Que no exista un representante del CDO en todas las áreas de negocio), pon algún ejemplo específico (pe. Datos duplicados) y cómo lo tratarías con técnicas de data cleaning."
   ]
  },
  {
   "cell_type": "markdown",
   "metadata": {},
   "source": [
    "Los conjuntos de datos que podemos obtener no siempre cuentan con el formato o completitud necesarios para ser analizados apropiadamente. Por ejemplo, algo que puede empeorar los datos es que algunas filas tienen valores faltantes. Para solucionarlo \n",
    "El proceso de limpieza consiste en eliminar o reemplazar elementos de un conjunto de datos de forma que afecten lo menos posible los resultados finales.\n",
    "Podemos ver los datos nulos de una columna con el siguiente comando: df.filter(\"columna is null\").show\n",
    "Para solucionar esto, cuando tenemos muchos valores nulos, tenemos diferentes opciones. \n",
    "- Podemos eliminarlos: join_Df1= Name.filter(Name.col(FirstName).isnotnull()).show()\n",
    "- Si creemos que la existencia de valores nulos para una observación puede aportarnos información, podemos sustituir por el número 0 los valores nulos y por 1 los que no lo son con el siguiente comando: df.withColumn(\"id\", when($\"id\".isNull, 0).otherwise(1)).show \n"
   ]
  },
  {
   "cell_type": "markdown",
   "metadata": {},
   "source": [
    "## Cuarta tarea: Inicializar spark context y cargar los datos desde el fichero."
   ]
  },
  {
   "cell_type": "code",
   "execution_count": 114,
   "metadata": {
    "collapsed": false
   },
   "outputs": [],
   "source": [
    "from pyspark import SparkContext\n",
    "sc = SparkContext(\"local\", \"First App\")"
   ]
  },
  {
   "cell_type": "code",
   "execution_count": 115,
   "metadata": {
    "collapsed": true
   },
   "outputs": [],
   "source": [
    "data = \"partidosLigaNBA.csv\"\n",
    "data = sc.textFile(data)"
   ]
  },
  {
   "cell_type": "code",
   "execution_count": 116,
   "metadata": {
    "collapsed": true
   },
   "outputs": [],
   "source": [
    "from pyspark.sql import SQLContext\n",
    "sqlContext = SQLContext(sc)"
   ]
  },
  {
   "cell_type": "markdown",
   "metadata": {},
   "source": [
    "#### Parsear"
   ]
  },
  {
   "cell_type": "code",
   "execution_count": 117,
   "metadata": {
    "collapsed": true
   },
   "outputs": [],
   "source": [
    "data = data.filter(lambda x: \"PTS\" not in x).map(lambda x: x.split(\":\"))"
   ]
  },
  {
   "cell_type": "code",
   "execution_count": 118,
   "metadata": {
    "collapsed": true
   },
   "outputs": [],
   "source": [
    "data = data.filter(lambda x: \"Playoffs\" not in x)"
   ]
  },
  {
   "cell_type": "markdown",
   "metadata": {},
   "source": [
    "#### EDA"
   ]
  },
  {
   "cell_type": "code",
   "execution_count": 119,
   "metadata": {
    "collapsed": false
   },
   "outputs": [
    {
     "data": {
      "text/plain": [
       "[['Tue, Oct 30, 2007',\n",
       "  '\"7',\n",
       "  '30 pm\"',\n",
       "  'Utah Jazz',\n",
       "  '117',\n",
       "  'Golden State Warriors',\n",
       "  '96']]"
      ]
     },
     "execution_count": 119,
     "metadata": {},
     "output_type": "execute_result"
    }
   ],
   "source": [
    "data.take(1) #vemos que forma tiene nuestro dataset"
   ]
  },
  {
   "cell_type": "code",
   "execution_count": 120,
   "metadata": {
    "collapsed": false
   },
   "outputs": [
    {
     "data": {
      "text/plain": [
       "12897"
      ]
     },
     "execution_count": 120,
     "metadata": {},
     "output_type": "execute_result"
    }
   ],
   "source": [
    "data.count() #y vemos las observaciones con las que cuenta nuestra base de datos"
   ]
  },
  {
   "cell_type": "markdown",
   "metadata": {},
   "source": [
    "## Quinta tarea: Media de la diferencia de puntos por año"
   ]
  },
  {
   "cell_type": "markdown",
   "metadata": {},
   "source": [
    "Primero creamos datarfames con las fechas, puntos de los visitantes y puntos de casa por separado. "
   ]
  },
  {
   "cell_type": "code",
   "execution_count": 121,
   "metadata": {
    "collapsed": false
   },
   "outputs": [],
   "source": [
    "fecha = data.map(lambda x: x[0][-4:])\n",
    "ptosVisit = data.map(lambda x : int(x[4]))\n",
    "ptosCasa = data.map(lambda x : int(x[6]))\n",
    "                    "
   ]
  },
  {
   "cell_type": "code",
   "execution_count": 122,
   "metadata": {
    "collapsed": false
   },
   "outputs": [
    {
     "data": {
      "text/plain": [
       "[96, 93, 106]"
      ]
     },
     "execution_count": 122,
     "metadata": {},
     "output_type": "execute_result"
    }
   ],
   "source": [
    "ptosCasa.take(3)"
   ]
  },
  {
   "cell_type": "markdown",
   "metadata": {},
   "source": [
    "Ahora agrupamos por año todos los puntos "
   ]
  },
  {
   "cell_type": "code",
   "execution_count": 123,
   "metadata": {
    "collapsed": true
   },
   "outputs": [],
   "source": [
    "ptosVisitFecha = data.map(lambda x: (x[0][-4:], int(x[4])))\n",
    "ptosVisitFecha = ptosVisitFecha.reduceByKey(lambda x, y: x + y)"
   ]
  },
  {
   "cell_type": "code",
   "execution_count": 124,
   "metadata": {
    "collapsed": false
   },
   "outputs": [
    {
     "data": {
      "text/plain": [
       "[('2017', 84102), ('2013', 128963)]"
      ]
     },
     "execution_count": 124,
     "metadata": {},
     "output_type": "execute_result"
    }
   ],
   "source": [
    "ptosVisitFecha.take(2)"
   ]
  },
  {
   "cell_type": "code",
   "execution_count": 125,
   "metadata": {
    "collapsed": true
   },
   "outputs": [],
   "source": [
    "ptosCasaFecha = data.map(lambda x: (x[0][-a:], int(x[6])))\n",
    "ptosCasaFecha = ptosCasaFecha.reduceByKey(lambda x, y: x + y)"
   ]
  },
  {
   "cell_type": "markdown",
   "metadata": {},
   "source": [
    "Ahora creamos otro objeto con la diferencia de puntos entre los visitantes y los de casa por año (hacemos la resta en valores absolutos porque vamos a restar sin saber que puntos son mayores y para que no nos de negativo). "
   ]
  },
  {
   "cell_type": "code",
   "execution_count": 126,
   "metadata": {
    "collapsed": false
   },
   "outputs": [
    {
     "data": {
      "text/plain": [
       "[('2017', 9172),\n",
       " ('2013', 14659),\n",
       " ('2016', 15397),\n",
       " ('2011', 9435),\n",
       " ('2014', 14547)]"
      ]
     },
     "execution_count": 126,
     "metadata": {},
     "output_type": "execute_result"
    }
   ],
   "source": [
    "ptosFecha = data.map(lambda x: (x[0][-4:], abs(int(x[4])-int(x[6]))))\n",
    "ptosFecha = ptosFecha.reduceByKey(lambda x, y: x + y)\n",
    "ptosFecha.take(5)"
   ]
  },
  {
   "cell_type": "markdown",
   "metadata": {},
   "source": [
    "Ahora vamos a contar el número de partidos por año "
   ]
  },
  {
   "cell_type": "code",
   "execution_count": 127,
   "metadata": {
    "collapsed": false
   },
   "outputs": [
    {
     "data": {
      "text/plain": [
       "[('2017', 803), ('2013', 1324), ('2016', 1333)]"
      ]
     },
     "execution_count": 127,
     "metadata": {},
     "output_type": "execute_result"
    }
   ],
   "source": [
    "partidosFecha = data.map(lambda x: (x[0][-4:], 1))\n",
    "partidosFecha = partidosFecha.reduceByKey(lambda x, y: x + y)\n",
    "partidosFecha.take(3)"
   ]
  },
  {
   "cell_type": "markdown",
   "metadata": {},
   "source": [
    "Ahora unimos con join la diferencia de puntos por año y el numero de partidos por fecha "
   ]
  },
  {
   "cell_type": "code",
   "execution_count": 128,
   "metadata": {
    "collapsed": false
   },
   "outputs": [
    {
     "data": {
      "text/plain": [
       "[('2017', (9172, 803)), ('2013', (14659, 1324)), ('2016', (15397, 1333))]"
      ]
     },
     "execution_count": 128,
     "metadata": {},
     "output_type": "execute_result"
    }
   ],
   "source": [
    "ptosPartidos = ptosFecha.join(partidosFecha)\n",
    "ptosPartidos.take(3)"
   ]
  },
  {
   "cell_type": "markdown",
   "metadata": {},
   "source": [
    "Ahora calculamos la media de la diferencia de puntos por año y utilizamos sortBy para ordenarlos de forma ascendente ya que los datos nos salian desordenados"
   ]
  },
  {
   "cell_type": "code",
   "execution_count": 129,
   "metadata": {
    "collapsed": false
   },
   "outputs": [
    {
     "data": {
      "text/plain": [
       "[('2007', 11.096491228070175),\n",
       " ('2008', 11.543543543543544),\n",
       " ('2009', 11.090425531914894),\n",
       " ('2010', 10.86903860711582),\n",
       " ('2011', 10.661016949152541),\n",
       " ('2012', 10.845318860244234),\n",
       " ('2013', 11.071752265861027),\n",
       " ('2014', 10.9047976011994),\n",
       " ('2015', 11.159969673995452),\n",
       " ('2016', 11.550637659414853),\n",
       " ('2017', 11.422166874221668)]"
      ]
     },
     "execution_count": 129,
     "metadata": {},
     "output_type": "execute_result"
    }
   ],
   "source": [
    "media = ptosPartidos.map(lambda x: (x[0], int(x[1][0])/int(x[1][1]))).sortBy(lambda x: x[0])\n",
    "media.collect()"
   ]
  },
  {
   "cell_type": "markdown",
   "metadata": {},
   "source": [
    "## Sexta tarea: ¿Han judado todos los equipos el mismo número de partidos? ¿ Si es qué no a que puede deberse?"
   ]
  },
  {
   "cell_type": "markdown",
   "metadata": {},
   "source": [
    "En primer lugar, hacemos un map que nos recorra la columna del equipo, por una parte el visitante y por otra el de casa, para saber cuantos partidos ha jugado cada equipo"
   ]
  },
  {
   "cell_type": "code",
   "execution_count": 130,
   "metadata": {
    "collapsed": false
   },
   "outputs": [
    {
     "data": {
      "text/plain": [
       "[('New Orleans Pelicans', 166),\n",
       " ('Sacramento Kings', 402),\n",
       " ('Charlotte Hornets', 127)]"
      ]
     },
     "execution_count": 130,
     "metadata": {},
     "output_type": "execute_result"
    }
   ],
   "source": [
    "partidosVisit = data.map(lambda x: (x[3],1))\n",
    "partidosVisit = partidosVisit.reduceByKey(lambda x, y: x + y)\n",
    "partidosVisit.take(3)"
   ]
  },
  {
   "cell_type": "code",
   "execution_count": 131,
   "metadata": {
    "collapsed": true
   },
   "outputs": [],
   "source": [
    "partidosCasa = data.map(lambda x: (x[5],1))\n",
    "partidosCasa = partidosCasa.reduceByKey(lambda x, y: x + y)"
   ]
  },
  {
   "cell_type": "markdown",
   "metadata": {},
   "source": [
    "Unimos las dos bases de datos y sumamos el numero de partidos jugados en casa y como visitante"
   ]
  },
  {
   "cell_type": "code",
   "execution_count": 132,
   "metadata": {
    "collapsed": false
   },
   "outputs": [
    {
     "data": {
      "text/plain": [
       "[('New Orleans Pelicans', (166, 166)),\n",
       " ('Charlotte Hornets', (127, 126)),\n",
       " ('Phoenix Suns', (413, 412))]"
      ]
     },
     "execution_count": 132,
     "metadata": {},
     "output_type": "execute_result"
    }
   ],
   "source": [
    "partidosVC = partidosVisit.join(partidosCasa)\n",
    "partidosVC.take(3)"
   ]
  },
  {
   "cell_type": "code",
   "execution_count": 133,
   "metadata": {
    "collapsed": false
   },
   "outputs": [
    {
     "data": {
      "text/plain": [
       "[('Seattle SuperSonics', 82),\n",
       " ('Charlotte Hornets', 253),\n",
       " ('New Orleans Pelicans', 332),\n",
       " ('New Jersey Nets', 394),\n",
       " ('Brooklyn Nets', 435),\n",
       " ('New Orleans Hornets', 499),\n",
       " ('Charlotte Bobcats', 566),\n",
       " ('Sacramento Kings', 804),\n",
       " ('Minnesota Timberwolves', 804),\n",
       " ('Oklahoma City Thunder', 818),\n",
       " ('Phoenix Suns', 825),\n",
       " ('New York Knicks', 825),\n",
       " ('Milwaukee Bucks', 827),\n",
       " ('Detroit Pistons', 829),\n",
       " ('Philadelphia 76ers', 834),\n",
       " ('Washington Wizards', 844),\n",
       " ('Utah Jazz', 846),\n",
       " ('Denver Nuggets', 848),\n",
       " ('Toronto Raptors', 850),\n",
       " ('Portland Trail Blazers', 853),\n",
       " ('Los Angeles Clippers', 861),\n",
       " ('Orlando Magic', 863),\n",
       " ('Dallas Mavericks', 867),\n",
       " ('Memphis Grizzlies', 867),\n",
       " ('Indiana Pacers', 868),\n",
       " ('Houston Rockets', 868),\n",
       " ('Chicago Bulls', 873),\n",
       " ('Golden State Warriors', 885),\n",
       " ('Atlanta Hawks', 896),\n",
       " ('Los Angeles Lakers', 897),\n",
       " ('Cleveland Cavaliers', 901),\n",
       " ('Miami Heat', 917),\n",
       " ('Boston Celtics', 930),\n",
       " ('San Antonio Spurs', 933)]"
      ]
     },
     "execution_count": 133,
     "metadata": {},
     "output_type": "execute_result"
    }
   ],
   "source": [
    "partidosTotal = partidosVC.map(lambda x: (x[0], (int(x[1][0]) + int(x[1][1])))).sortBy(lambda x: x[1])\n",
    "partidosTotal.collect() #hemos ordenado de forma ascendente los partidos (con sortBy) "
   ]
  },
  {
   "cell_type": "markdown",
   "metadata": {},
   "source": [
    "Como se puede comprobar, no han jugado todos los equipos el mismo número de partidos, esto se puede explicar porque los partidos de Playoffs son partidos de una competición eliminatoria y solo los equipos clasificados se enfrentan en las finales. "
   ]
  },
  {
   "cell_type": "markdown",
   "metadata": {},
   "source": [
    "## Séptima pregunta: ¿Cuantos partidos ha ganado en Enero Clevelant?"
   ]
  },
  {
   "cell_type": "markdown",
   "metadata": {},
   "source": [
    "Recorremos la columna de la fecha pero solo el mes, que es lo que nos interesa para ver cómo se escribe el mes de enero, y seleccionamos todos los datos que ocurrieron solo en enero"
   ]
  },
  {
   "cell_type": "code",
   "execution_count": 134,
   "metadata": {
    "collapsed": false
   },
   "outputs": [
    {
     "data": {
      "text/plain": [
       "[['Tue, Oct 30, 2007',\n",
       "  '\"7',\n",
       "  '30 pm\"',\n",
       "  'Utah Jazz',\n",
       "  '117',\n",
       "  'Golden State Warriors',\n",
       "  '96']]"
      ]
     },
     "execution_count": 134,
     "metadata": {},
     "output_type": "execute_result"
    }
   ],
   "source": [
    "data.take(1)"
   ]
  },
  {
   "cell_type": "code",
   "execution_count": 135,
   "metadata": {
    "collapsed": false
   },
   "outputs": [
    {
     "data": {
      "text/plain": [
       "['Apr', 'Jan', 'Nov', 'Jun', 'Mar', 'Oct', 'Dec', 'May', 'Feb']"
      ]
     },
     "execution_count": 135,
     "metadata": {},
     "output_type": "execute_result"
    }
   ],
   "source": [
    "data.map(lambda x: x[0][5:8]).distinct().collect()"
   ]
  },
  {
   "cell_type": "code",
   "execution_count": 136,
   "metadata": {
    "collapsed": false
   },
   "outputs": [],
   "source": [
    "enero = data.filter(lambda x: x[0][5:8] == 'Jan')"
   ]
  },
  {
   "cell_type": "code",
   "execution_count": 137,
   "metadata": {
    "collapsed": false
   },
   "outputs": [
    {
     "data": {
      "text/plain": [
       "[['Wed, Jan 2, 2008',\n",
       "  '\"7',\n",
       "  '30 pm\"',\n",
       "  'Houston Rockets',\n",
       "  '93',\n",
       "  'Boston Celtics',\n",
       "  '97']]"
      ]
     },
     "execution_count": 137,
     "metadata": {},
     "output_type": "execute_result"
    }
   ],
   "source": [
    "enero.take(1)"
   ]
  },
  {
   "cell_type": "markdown",
   "metadata": {},
   "source": [
    "Hacemos lo mismo con el equipo, recorriendo los equipos visitantes por una parte y los equipos que juegan en casa por otra. Pero nos quedamos en cada caso solo con el número de partidos gnados. Y luego los sumamos para tener el total de partidos ganados"
   ]
  },
  {
   "cell_type": "code",
   "execution_count": 138,
   "metadata": {
    "collapsed": false
   },
   "outputs": [
    {
     "data": {
      "text/plain": [
       "['New Orleans Pelicans',\n",
       " 'Sacramento Kings',\n",
       " 'Charlotte Hornets',\n",
       " 'Phoenix Suns',\n",
       " 'San Antonio Spurs',\n",
       " 'Miami Heat',\n",
       " 'Golden State Warriors',\n",
       " 'Brooklyn Nets',\n",
       " 'Milwaukee Bucks',\n",
       " 'New Jersey Nets',\n",
       " 'Seattle SuperSonics',\n",
       " 'Utah Jazz',\n",
       " 'Los Angeles Lakers',\n",
       " 'Indiana Pacers',\n",
       " 'Houston Rockets',\n",
       " 'Dallas Mavericks',\n",
       " 'Oklahoma City Thunder',\n",
       " 'Washington Wizards',\n",
       " 'Cleveland Cavaliers',\n",
       " 'Chicago Bulls',\n",
       " 'Toronto Raptors',\n",
       " 'Portland Trail Blazers',\n",
       " 'New Orleans Hornets',\n",
       " 'Memphis Grizzlies',\n",
       " 'Denver Nuggets',\n",
       " 'Philadelphia 76ers',\n",
       " 'New York Knicks',\n",
       " 'Orlando Magic',\n",
       " 'Boston Celtics',\n",
       " 'Atlanta Hawks',\n",
       " 'Detroit Pistons',\n",
       " 'Minnesota Timberwolves',\n",
       " 'Charlotte Bobcats',\n",
       " 'Los Angeles Clippers']"
      ]
     },
     "execution_count": 138,
     "metadata": {},
     "output_type": "execute_result"
    }
   ],
   "source": [
    "data.map(lambda x: x[3]).distinct().collect()"
   ]
  },
  {
   "cell_type": "code",
   "execution_count": 139,
   "metadata": {
    "collapsed": false
   },
   "outputs": [
    {
     "data": {
      "text/plain": [
       "[['Sun, Jan 6, 2008',\n",
       "  '\"1',\n",
       "  '00 pm\"',\n",
       "  'Cleveland Cavaliers',\n",
       "  '93',\n",
       "  'Toronto Raptors',\n",
       "  '90']]"
      ]
     },
     "execution_count": 139,
     "metadata": {},
     "output_type": "execute_result"
    }
   ],
   "source": [
    "clevVisit = enero.filter(lambda x: x[3] == 'Cleveland Cavaliers')  \n",
    "clevVisit.take(1)"
   ]
  },
  {
   "cell_type": "code",
   "execution_count": 140,
   "metadata": {
    "collapsed": false
   },
   "outputs": [
    {
     "data": {
      "text/plain": [
       "41"
      ]
     },
     "execution_count": 140,
     "metadata": {},
     "output_type": "execute_result"
    }
   ],
   "source": [
    "ganadosVisit = clevVisit.filter(lambda x: int(x[4]) > int(x[6]))\n",
    "ganadosVisitSum = ganadosVisit.count()\n",
    "ganadosVisitSum"
   ]
  },
  {
   "cell_type": "code",
   "execution_count": 141,
   "metadata": {
    "collapsed": false
   },
   "outputs": [
    {
     "data": {
      "text/plain": [
       "[['Wed, Jan 2, 2008',\n",
       "  '\"7',\n",
       "  '00 pm\"',\n",
       "  'Atlanta Hawks',\n",
       "  '94',\n",
       "  'Cleveland Cavaliers',\n",
       "  '98']]"
      ]
     },
     "execution_count": 141,
     "metadata": {},
     "output_type": "execute_result"
    }
   ],
   "source": [
    "clevCasa = enero.filter(lambda x: x[5] == 'Cleveland Cavaliers') \n",
    "clevCasa.take(1)"
   ]
  },
  {
   "cell_type": "code",
   "execution_count": 142,
   "metadata": {
    "collapsed": false
   },
   "outputs": [
    {
     "data": {
      "text/plain": [
       "42"
      ]
     },
     "execution_count": 142,
     "metadata": {},
     "output_type": "execute_result"
    }
   ],
   "source": [
    "ganadosCasa = clevCasa.filter(lambda x: int(x[6]) > int(x[4]))\n",
    "ganadosCasaSum = ganadosCasa.count()\n",
    "ganadosCasaSum"
   ]
  },
  {
   "cell_type": "markdown",
   "metadata": {},
   "source": [
    "ganadosTotal nos va a dar la respuesta a la séptima pregunta"
   ]
  },
  {
   "cell_type": "code",
   "execution_count": 143,
   "metadata": {
    "collapsed": false
   },
   "outputs": [
    {
     "data": {
      "text/plain": [
       "83"
      ]
     },
     "execution_count": 143,
     "metadata": {},
     "output_type": "execute_result"
    }
   ],
   "source": [
    "ganadosTotal = ganadosVisitSum + ganadosCasaSum\n",
    "ganadosTotal"
   ]
  },
  {
   "cell_type": "markdown",
   "metadata": {},
   "source": [
    "Como podemos observar, los Cleveland han ganado 83 partidos en enero."
   ]
  },
  {
   "cell_type": "markdown",
   "metadata": {},
   "source": [
    "## Octava pregunta: ¿Los Warrios son mejores fuera de casa o en casa?"
   ]
  },
  {
   "cell_type": "markdown",
   "metadata": {},
   "source": [
    "Seleccionamos por una parte los partidos que han jugado los Warriors como visitantes y nos quedamos solo con los ganados"
   ]
  },
  {
   "cell_type": "code",
   "execution_count": 144,
   "metadata": {
    "collapsed": false
   },
   "outputs": [
    {
     "data": {
      "text/plain": [
       "[['Fri, Nov 2, 2007',\n",
       "  '\"7',\n",
       "  '30 pm\"',\n",
       "  'Golden State Warriors',\n",
       "  '114',\n",
       "  'Los Angeles Clippers',\n",
       "  '120']]"
      ]
     },
     "execution_count": 144,
     "metadata": {},
     "output_type": "execute_result"
    }
   ],
   "source": [
    "warriorsVisit = data.filter(lambda x: x[3] == 'Golden State Warriors')\n",
    "warriorsVisit.take(1)"
   ]
  },
  {
   "cell_type": "code",
   "execution_count": 145,
   "metadata": {
    "collapsed": false
   },
   "outputs": [
    {
     "data": {
      "text/plain": [
       "215"
      ]
     },
     "execution_count": 145,
     "metadata": {},
     "output_type": "execute_result"
    }
   ],
   "source": [
    "ganadosVisitw = warriorsVisit.filter(lambda x: int(x[4]) > int(x[6]))\n",
    "ganadosVisitWSum = ganadosVisitw.count()\n",
    "ganadosVisitWSum"
   ]
  },
  {
   "cell_type": "markdown",
   "metadata": {},
   "source": [
    "Hacemos lo mismo pero con los partidos jugados en casa por los Warriors"
   ]
  },
  {
   "cell_type": "code",
   "execution_count": 146,
   "metadata": {
    "collapsed": false
   },
   "outputs": [
    {
     "data": {
      "text/plain": [
       "[['Tue, Oct 30, 2007',\n",
       "  '\"7',\n",
       "  '30 pm\"',\n",
       "  'Utah Jazz',\n",
       "  '117',\n",
       "  'Golden State Warriors',\n",
       "  '96']]"
      ]
     },
     "execution_count": 146,
     "metadata": {},
     "output_type": "execute_result"
    }
   ],
   "source": [
    "warriorsCasa = data.filter(lambda x: x[5] == 'Golden State Warriors')\n",
    "warriorsCasa.take(1)"
   ]
  },
  {
   "cell_type": "code",
   "execution_count": 147,
   "metadata": {
    "collapsed": false
   },
   "outputs": [
    {
     "data": {
      "text/plain": [
       "308"
      ]
     },
     "execution_count": 147,
     "metadata": {},
     "output_type": "execute_result"
    }
   ],
   "source": [
    "ganadosCasaw = warriorsCasa.filter(lambda x: int(x[6]) > int(x[4]))\n",
    "ganadosCasaWSum = ganadosCasaw.count()\n",
    "ganadosCasaWSum"
   ]
  },
  {
   "cell_type": "code",
   "execution_count": 148,
   "metadata": {
    "collapsed": false
   },
   "outputs": [
    {
     "data": {
      "text/plain": [
       "(215, 308)"
      ]
     },
     "execution_count": 148,
     "metadata": {},
     "output_type": "execute_result"
    }
   ],
   "source": [
    "ganadosVisitWSum, ganadosCasaWSum"
   ]
  },
  {
   "cell_type": "markdown",
   "metadata": {},
   "source": [
    "Observamos que hay mayor número de partidos ganados en casa (308) frente a los partidos ganados como visitantes (215)"
   ]
  },
  {
   "cell_type": "markdown",
   "metadata": {},
   "source": [
    "## Novena pregunta: Equipo que ha quedado primerio en victorias más temporadas. (si es que hay alguno que más)"
   ]
  },
  {
   "cell_type": "markdown",
   "metadata": {},
   "source": [
    "Obtenemos los distintos años que tenemos, para ver las temporadas"
   ]
  },
  {
   "cell_type": "code",
   "execution_count": 149,
   "metadata": {
    "collapsed": false
   },
   "outputs": [
    {
     "data": {
      "text/plain": [
       "['2017',\n",
       " '2013',\n",
       " '2016',\n",
       " '2011',\n",
       " '2014',\n",
       " '2008',\n",
       " '2007',\n",
       " '2015',\n",
       " '2009',\n",
       " '2010',\n",
       " '2012']"
      ]
     },
     "execution_count": 149,
     "metadata": {},
     "output_type": "execute_result"
    }
   ],
   "source": [
    "data.map(lambda x: x[0][-4:]).distinct().collect()"
   ]
  },
  {
   "cell_type": "markdown",
   "metadata": {},
   "source": [
    "Seleccionamos los partidos ganados(visita y casa)"
   ]
  },
  {
   "cell_type": "code",
   "execution_count": 150,
   "metadata": {
    "collapsed": true
   },
   "outputs": [],
   "source": [
    "ganadosVisit = data.filter(lambda x: int(x[4]) > int(x[6]))\n",
    "ganadosCasa = data.filter(lambda x: int(x[6]) > int(x[4]))"
   ]
  },
  {
   "cell_type": "markdown",
   "metadata": {},
   "source": [
    "Vamos a ir buscando los equipos que han ganado más partidos por temporada (años)."
   ]
  },
  {
   "cell_type": "markdown",
   "metadata": {},
   "source": [
    "2007"
   ]
  },
  {
   "cell_type": "code",
   "execution_count": 151,
   "metadata": {
    "collapsed": false
   },
   "outputs": [],
   "source": [
    "g2007visit = ganadosVisit.filter(lambda x: x[0][-4:] == '2007') #seleccionmos de las observaciones ganadas las del año 2007 para visita y para casa  \n",
    "g2007casa = ganadosCasa.filter(lambda x: x[0][-4:] == '2007')"
   ]
  },
  {
   "cell_type": "code",
   "execution_count": 152,
   "metadata": {
    "collapsed": false
   },
   "outputs": [
    {
     "data": {
      "text/plain": [
       "[('Minnesota Timberwolves', (1, 3)),\n",
       " ('Utah Jazz', (6, 11)),\n",
       " ('Phoenix Suns', (13, 9))]"
      ]
     },
     "execution_count": 152,
     "metadata": {},
     "output_type": "execute_result"
    }
   ],
   "source": [
    "visita2007 = g2007visit.map(lambda x: (x[3], 1)) \n",
    "visita2007 = visita2007.reduceByKey(lambda x, y: x + y) #obtenemos las veces ganadas por equipo visitante\n",
    "casa2007 = g2007casa.map(lambda x: (x[5], 1))\n",
    "casa2007 = casa2007.reduceByKey(lambda x, y: x + y) #veces ganadas por equipo que juega en casa\n",
    "total2007 = visita2007.join(casa2007) \n",
    "total2007.take(3)"
   ]
  },
  {
   "cell_type": "code",
   "execution_count": 153,
   "metadata": {
    "collapsed": false
   },
   "outputs": [
    {
     "data": {
      "text/plain": [
       "('Boston Celtics', 26)"
      ]
     },
     "execution_count": 153,
     "metadata": {},
     "output_type": "execute_result"
    }
   ],
   "source": [
    "final2007 = total2007.map(lambda x: (x[0], (int(x[1][0]) + int(x[1][1])))) #sumamos partido ganados en casa y como visitante por equipos\n",
    "final2007.max(lambda x: (x[1])) #asi obtenemos el maximo "
   ]
  },
  {
   "cell_type": "markdown",
   "metadata": {},
   "source": [
    "2008"
   ]
  },
  {
   "cell_type": "code",
   "execution_count": 154,
   "metadata": {
    "collapsed": true
   },
   "outputs": [],
   "source": [
    "g2008visit = ganadosVisit.filter(lambda x: x[0][-4:] == '2008')\n",
    "g2008casa = ganadosCasa.filter(lambda x: x[0][-4:] == '2008')"
   ]
  },
  {
   "cell_type": "code",
   "execution_count": 155,
   "metadata": {
    "collapsed": false
   },
   "outputs": [
    {
     "data": {
      "text/plain": [
       "[('Atlanta Hawks', (14, 32)),\n",
       " ('Utah Jazz', (20, 42)),\n",
       " ('Phoenix Suns', (21, 31))]"
      ]
     },
     "execution_count": 155,
     "metadata": {},
     "output_type": "execute_result"
    }
   ],
   "source": [
    "visita2008 = g2008visit.map(lambda x: (x[3], 1))\n",
    "visita2008 = visita2008.reduceByKey(lambda x, y: x + y)\n",
    "casa2008 = g2008casa.map(lambda x: (x[5], 1))\n",
    "casa2008 = casa2008.reduceByKey(lambda x, y: x + y)\n",
    "total2008 = visita2008.join(casa2008)\n",
    "total2008.take(3)"
   ]
  },
  {
   "cell_type": "code",
   "execution_count": 156,
   "metadata": {
    "collapsed": false
   },
   "outputs": [
    {
     "data": {
      "text/plain": [
       "('Boston Celtics', 84)"
      ]
     },
     "execution_count": 156,
     "metadata": {},
     "output_type": "execute_result"
    }
   ],
   "source": [
    "final2008 = total2008.map(lambda x: (x[0], (int(x[1][0]) + int(x[1][1]))))\n",
    "final2008.max(lambda x: (x[1]))"
   ]
  },
  {
   "cell_type": "markdown",
   "metadata": {},
   "source": [
    "2009"
   ]
  },
  {
   "cell_type": "code",
   "execution_count": 160,
   "metadata": {
    "collapsed": false
   },
   "outputs": [
    {
     "data": {
      "text/plain": [
       "('Los Angeles Lakers', 81)"
      ]
     },
     "execution_count": 160,
     "metadata": {},
     "output_type": "execute_result"
    }
   ],
   "source": [
    "g2009visit = ganadosVisit.filter(lambda x: x[0][-4:] == '2009')\n",
    "g2009casa = ganadosCasa.filter(lambda x: x[0][-4:] == '2009')\n",
    "visita2009 = g2009visit.map(lambda x: (x[3], 1))\n",
    "visita2009 = visita2009.reduceByKey(lambda x, y: x + y)\n",
    "casa2009 = g2009casa.map(lambda x: (x[5], 1))\n",
    "casa2009 = casa2009.reduceByKey(lambda x, y: x + y)\n",
    "total2009 = visita2009.join(casa2009)\n",
    "final2009 = total2009.map(lambda x: (x[0], (int(x[1][0]) + int(x[1][1]))))\n",
    "final2009.max(lambda x: (x[1]))"
   ]
  },
  {
   "cell_type": "markdown",
   "metadata": {},
   "source": [
    "2010"
   ]
  },
  {
   "cell_type": "code",
   "execution_count": 161,
   "metadata": {
    "collapsed": false
   },
   "outputs": [
    {
     "data": {
      "text/plain": [
       "('Los Angeles Lakers', 71)"
      ]
     },
     "execution_count": 161,
     "metadata": {},
     "output_type": "execute_result"
    }
   ],
   "source": [
    "g2010visit = ganadosVisit.filter(lambda x: x[0][-4:] == '2010')\n",
    "g2010casa = ganadosCasa.filter(lambda x: x[0][-4:] == '2010')\n",
    "visita2010 = g2010visit.map(lambda x: (x[3], 1))\n",
    "visita2010 = visita2010.reduceByKey(lambda x, y: x + y)\n",
    "casa2010 = g2010casa.map(lambda x: (x[5], 1))\n",
    "casa2010 = casa2010.reduceByKey(lambda x, y: x + y)\n",
    "total2010 = visita2010.join(casa2010)\n",
    "final2010 = total2010.map(lambda x: (x[0], (int(x[1][0]) + int(x[1][1]))))\n",
    "final2010.max(lambda x: (x[1]))"
   ]
  },
  {
   "cell_type": "markdown",
   "metadata": {},
   "source": [
    "2011"
   ]
  },
  {
   "cell_type": "code",
   "execution_count": 163,
   "metadata": {
    "collapsed": false
   },
   "outputs": [
    {
     "data": {
      "text/plain": [
       "('Chicago Bulls', 53)"
      ]
     },
     "execution_count": 163,
     "metadata": {},
     "output_type": "execute_result"
    }
   ],
   "source": [
    "g2011visit = ganadosVisit.filter(lambda x: x[0][-4:] == '2011')\n",
    "g2011casa = ganadosCasa.filter(lambda x: x[0][-4:] == '2011')\n",
    "visita2011 = g2011visit.map(lambda x: (x[3], 1))\n",
    "visita2011 = visita2011.reduceByKey(lambda x, y: x + y)\n",
    "casa2011 = g2011casa.map(lambda x: (x[5], 1))\n",
    "casa2011 = casa2011.reduceByKey(lambda x, y: x + y)\n",
    "total2011 = visita2011.join(casa2011)\n",
    "final2011 = total2011.map(lambda x: (x[0], (int(x[1][0]) + int(x[1][1]))))\n",
    "final2011.max(lambda x: (x[1]))"
   ]
  },
  {
   "cell_type": "markdown",
   "metadata": {},
   "source": [
    "2012"
   ]
  },
  {
   "cell_type": "code",
   "execution_count": 164,
   "metadata": {
    "collapsed": false
   },
   "outputs": [
    {
     "data": {
      "text/plain": [
       "('San Antonio Spurs', 82)"
      ]
     },
     "execution_count": 164,
     "metadata": {},
     "output_type": "execute_result"
    }
   ],
   "source": [
    "g2012visit = ganadosVisit.filter(lambda x: x[0][-4:] == '2012')\n",
    "g2012casa = ganadosCasa.filter(lambda x: x[0][-4:] == '2012')\n",
    "visita2012 = g2012visit.map(lambda x: (x[3], 1))\n",
    "visita2012 = visita2012.reduceByKey(lambda x, y: x + y)\n",
    "casa2012 = g2012casa.map(lambda x: (x[5], 1))\n",
    "casa2012 = casa2012.reduceByKey(lambda x, y: x + y)\n",
    "total2012 = visita2012.join(casa2012)\n",
    "final2012 = total2012.map(lambda x: (x[0], (int(x[1][0]) + int(x[1][1]))))\n",
    "final2012.max(lambda x: (x[1]))"
   ]
  },
  {
   "cell_type": "markdown",
   "metadata": {},
   "source": [
    "2013"
   ]
  },
  {
   "cell_type": "code",
   "execution_count": 165,
   "metadata": {
    "collapsed": false
   },
   "outputs": [
    {
     "data": {
      "text/plain": [
       "('Miami Heat', 85)"
      ]
     },
     "execution_count": 165,
     "metadata": {},
     "output_type": "execute_result"
    }
   ],
   "source": [
    "g2013visit = ganadosVisit.filter(lambda x: x[0][-4:] == '2013')\n",
    "g2013casa = ganadosCasa.filter(lambda x: x[0][-4:] == '2013')\n",
    "visita2013 = g2013visit.map(lambda x: (x[3], 1))\n",
    "visita2013 = visita2013.reduceByKey(lambda x, y: x + y)\n",
    "casa2013 = g2013casa.map(lambda x: (x[5], 1))\n",
    "casa2013 = casa2013.reduceByKey(lambda x, y: x + y)\n",
    "total2013 = visita2013.join(casa2013)\n",
    "final2013 = total2013.map(lambda x: (x[0], (int(x[1][0]) + int(x[1][1]))))\n",
    "final2013.max(lambda x: (x[1]))"
   ]
  },
  {
   "cell_type": "markdown",
   "metadata": {},
   "source": [
    "2014"
   ]
  },
  {
   "cell_type": "code",
   "execution_count": 166,
   "metadata": {
    "collapsed": false
   },
   "outputs": [
    {
     "data": {
      "text/plain": [
       "('San Antonio Spurs', 73)"
      ]
     },
     "execution_count": 166,
     "metadata": {},
     "output_type": "execute_result"
    }
   ],
   "source": [
    "g2014visit = ganadosVisit.filter(lambda x: x[0][-4:] == '2014')\n",
    "g2014casa = ganadosCasa.filter(lambda x: x[0][-4:] == '2014')\n",
    "visita2014 = g2014visit.map(lambda x: (x[3], 1))\n",
    "visita2014 = visita2014.reduceByKey(lambda x, y: x + y)\n",
    "casa2014 = g2014casa.map(lambda x: (x[5], 1))\n",
    "casa2014 = casa2014.reduceByKey(lambda x, y: x + y)\n",
    "total2014 = visita2014.join(casa2014)\n",
    "final2014 = total2014.map(lambda x: (x[0], (int(x[1][0]) + int(x[1][1]))))\n",
    "final2014.max(lambda x: (x[1]))"
   ]
  },
  {
   "cell_type": "markdown",
   "metadata": {},
   "source": [
    "2015"
   ]
  },
  {
   "cell_type": "code",
   "execution_count": 167,
   "metadata": {
    "collapsed": false
   },
   "outputs": [
    {
     "data": {
      "text/plain": [
       "('Golden State Warriors', 88)"
      ]
     },
     "execution_count": 167,
     "metadata": {},
     "output_type": "execute_result"
    }
   ],
   "source": [
    "g2015visit = ganadosVisit.filter(lambda x: x[0][-4:] == '2015')\n",
    "g2015casa = ganadosCasa.filter(lambda x: x[0][-4:] == '2015')\n",
    "visita2015 = g2015visit.map(lambda x: (x[3], 1))\n",
    "visita2015 = visita2015.reduceByKey(lambda x, y: x + y)\n",
    "casa2015 = g2015casa.map(lambda x: (x[5], 1))\n",
    "casa2015 = casa2015.reduceByKey(lambda x, y: x + y)\n",
    "total2015 = visita2015.join(casa2015)\n",
    "final2015 = total2015.map(lambda x: (x[0], (int(x[1][0]) + int(x[1][1]))))\n",
    "final2015.max(lambda x: (x[1]))"
   ]
  },
  {
   "cell_type": "markdown",
   "metadata": {},
   "source": [
    "2016"
   ]
  },
  {
   "cell_type": "code",
   "execution_count": 168,
   "metadata": {
    "collapsed": false
   },
   "outputs": [
    {
     "data": {
      "text/plain": [
       "('Golden State Warriors', 87)"
      ]
     },
     "execution_count": 168,
     "metadata": {},
     "output_type": "execute_result"
    }
   ],
   "source": [
    "g2016visit = ganadosVisit.filter(lambda x: x[0][-4:] == '2016')\n",
    "g2016casa = ganadosCasa.filter(lambda x: x[0][-4:] == '2016')\n",
    "visita2016 = g2016visit.map(lambda x: (x[3], 1))\n",
    "visita2016 = visita2016.reduceByKey(lambda x, y: x + y)\n",
    "casa2016 = g2016casa.map(lambda x: (x[5], 1))\n",
    "casa2016 = casa2016.reduceByKey(lambda x, y: x + y)\n",
    "total2016 = visita2016.join(casa2016)\n",
    "final2016 = total2016.map(lambda x: (x[0], (int(x[1][0]) + int(x[1][1]))))\n",
    "final2016.max(lambda x: (x[1]))"
   ]
  },
  {
   "cell_type": "markdown",
   "metadata": {},
   "source": [
    "2017"
   ]
  },
  {
   "cell_type": "code",
   "execution_count": 169,
   "metadata": {
    "collapsed": false
   },
   "outputs": [
    {
     "data": {
      "text/plain": [
       "('Golden State Warriors', 54)"
      ]
     },
     "execution_count": 169,
     "metadata": {},
     "output_type": "execute_result"
    }
   ],
   "source": [
    "g2017visit = ganadosVisit.filter(lambda x: x[0][-4:] == '2017')\n",
    "g2017casa = ganadosCasa.filter(lambda x: x[0][-4:] == '2017')\n",
    "visita2017 = g2017visit.map(lambda x: (x[3], 1))\n",
    "visita2017 = visita2017.reduceByKey(lambda x, y: x + y)\n",
    "casa2017 = g2017casa.map(lambda x: (x[5], 1))\n",
    "casa2017 = casa2017.reduceByKey(lambda x, y: x + y)\n",
    "total2017 = visita2017.join(casa2017)\n",
    "final2017 = total2017.map(lambda x: (x[0], (int(x[1][0]) + int(x[1][1]))))\n",
    "final2017.max(lambda x: (x[1]))"
   ]
  },
  {
   "cell_type": "markdown",
   "metadata": {},
   "source": [
    "##  Décima pregunta: Escribe la expresión regular correcta que sólo macheen los teléfonos y el correo del siguiente texto."
   ]
  },
  {
   "cell_type": "markdown",
   "metadata": {},
   "source": [
    "Si eres cliente y necesitas información sobre tus posiciones, productos o realizar operaciones: Desde España. Desde el extranjero. Banca telefónica en castellano. Bandera castellano. 902 13 23 13. Banca telefónica en catalán. Bandera catalana. 902 88 30 08. Banca telefónica en inglés. Bandera inglesa. 902 88 88 35. O por correo electrónico a atencioncliente@bankinter.com"
   ]
  },
  {
   "cell_type": "code",
   "execution_count": 100,
   "metadata": {
    "collapsed": true
   },
   "outputs": [],
   "source": [
    "import re"
   ]
  },
  {
   "cell_type": "code",
   "execution_count": 101,
   "metadata": {
    "collapsed": true
   },
   "outputs": [],
   "source": [
    "texto = \"Si eres cliente y necesitas información sobre tus posiciones, productos o realizar operaciones: Desde España. Desde el extranjero. Banca telefónica en castellano. Bandera castellano. 902 13 23 13. Banca telefónica en catalán. Bandera catalana. 902 88 30 08. Banca telefónica en inglés. Bandera inglesa. 902 88 88 35. O por correo electrónico a atencioncliente@bankinter.com\""
   ]
  },
  {
   "cell_type": "code",
   "execution_count": 102,
   "metadata": {
    "collapsed": true
   },
   "outputs": [],
   "source": [
    "tlf = '\\d{3} \\d{2} \\d{2} \\d{2}'\n",
    "mail = '\\S+[@]\\S+[.com]'"
   ]
  },
  {
   "cell_type": "code",
   "execution_count": 103,
   "metadata": {
    "collapsed": false
   },
   "outputs": [
    {
     "data": {
      "text/plain": [
       "['902 13 23 13', '902 88 30 08', '902 88 88 35']"
      ]
     },
     "execution_count": 103,
     "metadata": {},
     "output_type": "execute_result"
    }
   ],
   "source": [
    "re.findall(tlf, texto)"
   ]
  },
  {
   "cell_type": "code",
   "execution_count": 104,
   "metadata": {
    "collapsed": false
   },
   "outputs": [
    {
     "data": {
      "text/plain": [
       "['atencioncliente@bankinter.com']"
      ]
     },
     "execution_count": 104,
     "metadata": {},
     "output_type": "execute_result"
    }
   ],
   "source": [
    "re.findall(mail, texto)"
   ]
  },
  {
   "cell_type": "code",
   "execution_count": 111,
   "metadata": {
    "collapsed": true
   },
   "outputs": [],
   "source": [
    "sc.stop()"
   ]
  }
 ],
 "metadata": {
  "kernelspec": {
   "display_name": "Python 3",
   "language": "python",
   "name": "python3"
  },
  "language_info": {
   "codemirror_mode": {
    "name": "ipython",
    "version": 3
   },
   "file_extension": ".py",
   "mimetype": "text/x-python",
   "name": "python",
   "nbconvert_exporter": "python",
   "pygments_lexer": "ipython3",
   "version": "3.5.2"
  }
 },
 "nbformat": 4,
 "nbformat_minor": 2
}
