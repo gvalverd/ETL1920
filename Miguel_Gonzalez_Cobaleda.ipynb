{
 "cells": [
  {
   "cell_type": "markdown",
   "metadata": {},
   "source": [
    "# Nombre: Miguel González Cobaleda"
   ]
  },
  {
   "cell_type": "markdown",
   "metadata": {},
   "source": [
    "# TAREA FINAL: Datos de vivienda\n",
    "\n",
    "<p> El negocio inmobiliario es uno de los motores de la economía de España, el carácter turístico de nuesta península hace que sean muchos los inversores extranjeros que se decidan por buscar una inversión de bajo riesgos en nuestras ciudades costeras o grandes urbes. \n",
    "Muchas de estas inversiones se hacen sobre grandes bolsas de inmuebles que deben ser analizados previamente para comprobar la rentabilidad del porfolio </p>\n",
    "\n",
    "<!-- <p> En este caso vamos a trabajar con una tabla que contienen información de distintos inmuebles repartidos por una zona específica, sus carácterísticas y su precio </p>  -->"
   ]
  },
  {
   "cell_type": "markdown",
   "metadata": {},
   "source": [
    "Todas las cuestiones se deben realizar sobre el conjunto de casos que representen viviendas ubicadas en zonas residenciales **(alta, media y baja densidad)**"
   ]
  },
  {
   "cell_type": "markdown",
   "metadata": {},
   "source": [
    "**MUY IMPORTANTE:** En las otras prácticas he detectado colaboraciones involucrando varias personas y he sido flexible aunque a algunos os lo he mencionado en las correcciones, porque al final el trabajo de analista de datos es un trabajo colaborativo. Sin embargo, este trabajo es individual, así que cuidado con las colaboraciones."
   ]
  },
  {
   "cell_type": "markdown",
   "metadata": {},
   "source": [
    "Las variables de las que se compone el dataset son:"
   ]
  },
  {
   "cell_type": "markdown",
   "metadata": {},
   "source": [
    "|NOMBRE VARIABLE|DESCRIPTOR|VALORES|\n",
    "| --- | --- | --- |\n",
    "|Order|Variable de identificación|1 a 2930|\n",
    "|MS Zoning|Zona de ubicación de la vivienda|\"A rural, C comercial, FV residencial flotante, I industrial, RH residencial alta densidad, RL residencial baja densidad, RM residencial media densidad\"|\n",
    "|Lot Frontage|Longitud de la fachada en pies||\n",
    "|Lot Area|Superficie de la vivienda en pies cuadrados||\n",
    "|Land Contour|Contorno del terreno circundante|\"Lvl llano, Bnk Tipo bancal, HLS Ladera, Low Depresión\"|\n",
    "|Land Slope|Tipo de pendiente de la vivienda|\" Gtl pendiente suave, Mod pendiente moderada, Sev fuerte pendiente\"|\n",
    "|Overall Qual|Grado de calidad de materiales y acabado de la vivienda|De 1 (Muy pobre) a 10 (Excelente)|\n",
    "|Year Built|Año de construccion de la vivienda||\n",
    "|Year Remod/Add|Año de última reforma de la vivienda||\n",
    "|Mas Vnr Type|Tipo de revestimiento exterior|\" BrkCmn Ladrillo normal, BrkFace Ladrillo visto, CBlock Bloque de cemento, None Ninguna, Stone Piedra \"|\n",
    "|Exter Qual|Calidad de revestimiento exterior|\"Ex Excelente,Gd Bueno,TA Media,Fa Justo\"|\n",
    "|Bsmt Cond|Estado general del sótano|\"Ex Excelente, Gd Bueno, TA Media, Fa Justo, Po Pobre,Ss sin sótano\"|\n",
    "|Total Bsmt SF|Superficie del sótano en pies cuadrados|\n",
    "|Heating QC|Calidad de la calefacción|\"Ex Excelente,Gd Bueno,TA Media,Fa Justo,Po Pobre\"|\n",
    "|Central Air|Aire acondicionado centralizado|\"N No Y Sí\"|\n",
    "|Full Bath|Número de baños completo en planta||\n",
    "|Half Bath|Número de aseos en planta||\n",
    "|Bedroom AbvGr|Número de dormitorios en planta||\n",
    "|Kitchen AbvGr|Número de cocinas en planta||\n",
    "|Kitchen Qual|Calidad de cocinas|\"Ex Excelente,Gd Bueno,TA Media,Fa Justo,Po Pobre\"|\n",
    "|TotRms AbvGrd|Número total de habitaciones excluidos los cuartos de baño||\n",
    "|Garage Cars|Número de plazas de garaje||\n",
    "|Garage Area|Superficie del garaje|||\n",
    "|Garage Cond|Estado del garaje|\"Ex Excelente,Gd Bueno,TA Media,Fa Justo,Po Pobre,Sg sin garaje\"|\n",
    "|Pool Area|Superficie de la piscina en pies cuadrados|\n",
    "|Pool QC|Calidad de la piscina|\"Ex Excelente,Gd Bueno,TA Media,Fa Justo,Sp no hay piscina\"|\n",
    "|Mo Sold|mes de venta||\n",
    "|Yr Sold|año de venta||\n",
    "|SalePrice|precio de venta en dólares||"
   ]
  },
  {
   "cell_type": "markdown",
   "metadata": {},
   "source": [
    "Recomiendo al leer los datos, eliminar espacios de los nombres de las columnas, realiza un pequeño análisis inicial de los mismos. No olvides fijarte en los tipos de variables, que variables pueden tener tipos confundidos y corrige los. Sobre todo, trabaja con las fechas."
   ]
  },
  {
   "cell_type": "markdown",
   "metadata": {},
   "source": [
    "**NOTA:** Las tareas complementarias sirven para subir nota. El resto de preguntas valen igual y suman 10 puntos."
   ]
  },
  {
   "cell_type": "markdown",
   "metadata": {},
   "source": [
    "## Inicializar y cargar el contexto spark"
   ]
  },
  {
   "cell_type": "markdown",
   "metadata": {},
   "source": [
    "Lo primero que haremos será cargar pyspark y el contexto y las funciones de pyspark-SQL"
   ]
  },
  {
   "cell_type": "code",
   "execution_count": 1,
   "metadata": {},
   "outputs": [],
   "source": [
    "import pyspark"
   ]
  },
  {
   "cell_type": "code",
   "execution_count": 2,
   "metadata": {},
   "outputs": [],
   "source": [
    "from pyspark.sql import SQLContext"
   ]
  },
  {
   "cell_type": "code",
   "execution_count": 3,
   "metadata": {},
   "outputs": [],
   "source": [
    "from pyspark.sql.functions import *"
   ]
  },
  {
   "cell_type": "code",
   "execution_count": 4,
   "metadata": {},
   "outputs": [],
   "source": [
    "sc = pyspark.SparkContext()"
   ]
  },
  {
   "cell_type": "code",
   "execution_count": 5,
   "metadata": {},
   "outputs": [],
   "source": [
    "sqlContext = SQLContext(sc)"
   ]
  },
  {
   "cell_type": "markdown",
   "metadata": {},
   "source": [
    "Procedemos a la carga de datos "
   ]
  },
  {
   "cell_type": "code",
   "execution_count": 6,
   "metadata": {},
   "outputs": [],
   "source": [
    "df = sqlContext.read.csv(\"BDpracticafinalCSV.csv\", header=True, sep=';', inferSchema= True)"
   ]
  },
  {
   "cell_type": "markdown",
   "metadata": {},
   "source": [
    "Cargamos un esquema con la estructora de los datos en el que vemos todas las variables y el tipo de dato. También observamos que existen observaciones nulas en todas las columnas por lo que más adelante tendramos que eliminarlas."
   ]
  },
  {
   "cell_type": "code",
   "execution_count": 7,
   "metadata": {},
   "outputs": [
    {
     "name": "stdout",
     "output_type": "stream",
     "text": [
      "root\n",
      " |-- Order: integer (nullable = true)\n",
      " |-- MS Zoning: string (nullable = true)\n",
      " |-- Lot Frontage: integer (nullable = true)\n",
      " |-- Lot Area: integer (nullable = true)\n",
      " |-- Land Contour: string (nullable = true)\n",
      " |-- Land Slope: string (nullable = true)\n",
      " |-- Overall Qual: integer (nullable = true)\n",
      " |-- Year Built: integer (nullable = true)\n",
      " |-- Year Remod/Add: integer (nullable = true)\n",
      " |-- Mas Vnr Type: string (nullable = true)\n",
      " |-- Exter Qual: string (nullable = true)\n",
      " |-- Bsmt Cond: string (nullable = true)\n",
      " |-- Total Bsmt SF: integer (nullable = true)\n",
      " |-- Heating QC: string (nullable = true)\n",
      " |-- Central Air: string (nullable = true)\n",
      " |-- Full Bath: integer (nullable = true)\n",
      " |-- Half Bath: integer (nullable = true)\n",
      " |-- Bedroom AbvGr: integer (nullable = true)\n",
      " |-- Kitchen AbvGr: integer (nullable = true)\n",
      " |-- Kitchen Qual: string (nullable = true)\n",
      " |-- TotRms AbvGrd: integer (nullable = true)\n",
      " |-- Garage Cars: integer (nullable = true)\n",
      " |-- Garage Area: integer (nullable = true)\n",
      " |-- Garage Cond: string (nullable = true)\n",
      " |-- Pool Area: integer (nullable = true)\n",
      " |-- Pool QC: string (nullable = true)\n",
      " |-- Mo Sold: integer (nullable = true)\n",
      " |-- Yr Sold: integer (nullable = true)\n",
      " |-- SalePrice: integer (nullable = true)\n",
      "\n"
     ]
    }
   ],
   "source": [
    "df.printSchema()"
   ]
  },
  {
   "cell_type": "markdown",
   "metadata": {},
   "source": [
    "Siguiendo lo que dice el enunciado nos quedaremos con las viviendas ubicadas en las zonas residenciales con alta, baja y media densidad. Para ello utilizamos un filter"
   ]
  },
  {
   "cell_type": "code",
   "execution_count": 8,
   "metadata": {},
   "outputs": [],
   "source": [
    "df = df.filter((df['MS Zoning'] == 'RH') | (df['MS Zoning'] == 'RL') | (df['MS Zoning'] == 'RM'))"
   ]
  },
  {
   "cell_type": "markdown",
   "metadata": {},
   "source": [
    "Procedemos a eliminar las filas con valores NA. Borramos todos las observaciones con valores nulos y no variable por variable, para que resulte menos tedioso. Lo suyo sería ir variable por variable y borrar o imputar valores a las columnas según cada variable."
   ]
  },
  {
   "cell_type": "code",
   "execution_count": 9,
   "metadata": {},
   "outputs": [],
   "source": [
    "df = df.na.drop()"
   ]
  },
  {
   "cell_type": "markdown",
   "metadata": {},
   "source": [
    "Las variables de tamaño están medidas en **pies** y debido a que mas adelante trabajaremos con **metros** pues vamos a transformar las columnas de pies a metros, teniendo en cuata que **1 pie = 0,093 metros**.\n",
    "Al realizar esta tranformación la he realizado columna por columna debido a que son pocas, si fueran muchas columnas para cambiar la manera más fácil hubiera sido por medio de una función."
   ]
  },
  {
   "cell_type": "code",
   "execution_count": 10,
   "metadata": {},
   "outputs": [],
   "source": [
    "df = df.withColumn(\"Lot Frontage\", df[\"Lot Frontage\"]*0.093)\n",
    "df = df.withColumn(\"Lot Area\", df[\"Lot Area\"]*0.093)\n",
    "df = df.withColumn(\"Total Bsmt SF\", df[\"Total Bsmt SF\"]*0.093)\n",
    "df = df.withColumn(\"Garage Area\", df[\"Garage Area\"]*0.093)\n",
    "df = df.withColumn(\"Pool Area\", df[\"Pool Area\"]*0.093)"
   ]
  },
  {
   "cell_type": "markdown",
   "metadata": {},
   "source": [
    "## Cuántas viviendas distintas encontramos en el dataset? ¿Se repite alguna? Tiene sentido que haya duplicadas? ¿Qué podemos hacer con las duplicadas?"
   ]
  },
  {
   "cell_type": "markdown",
   "metadata": {},
   "source": [
    "Primero contamos las viviendas distintas que hay en el dataset, y depués las totales"
   ]
  },
  {
   "cell_type": "code",
   "execution_count": 11,
   "metadata": {},
   "outputs": [
    {
     "data": {
      "text/plain": [
       "2280"
      ]
     },
     "execution_count": 11,
     "metadata": {},
     "output_type": "execute_result"
    }
   ],
   "source": [
    "df.distinct().count()"
   ]
  },
  {
   "cell_type": "code",
   "execution_count": 12,
   "metadata": {},
   "outputs": [
    {
     "data": {
      "text/plain": [
       "2282"
      ]
     },
     "execution_count": 12,
     "metadata": {},
     "output_type": "execute_result"
    }
   ],
   "source": [
    "df.count()"
   ]
  },
  {
   "cell_type": "markdown",
   "metadata": {},
   "source": [
    "Como podemos observar, hay 2 viviendas duplicadas por lo tanto como no tiene sentido tener observaciones repetidas, las eliminaremos."
   ]
  },
  {
   "cell_type": "code",
   "execution_count": 13,
   "metadata": {},
   "outputs": [],
   "source": [
    "df = df.distinct()"
   ]
  },
  {
   "cell_type": "markdown",
   "metadata": {},
   "source": [
    "## ¿Podrías decirme el total de inmuebles y el precio medio (Sale Price) de cada zona (MS Zoning)?"
   ]
  },
  {
   "cell_type": "markdown",
   "metadata": {},
   "source": [
    "Calculamos el total de viviendas como ya lo calculamos antes, pero ahora ya sin observaciones duplicadas"
   ]
  },
  {
   "cell_type": "code",
   "execution_count": 14,
   "metadata": {},
   "outputs": [
    {
     "data": {
      "text/plain": [
       "2280"
      ]
     },
     "execution_count": 14,
     "metadata": {},
     "output_type": "execute_result"
    }
   ],
   "source": [
    "df.count()"
   ]
  },
  {
   "cell_type": "markdown",
   "metadata": {},
   "source": [
    "Para ver el precio medio en cada zona, lo primero que hay que hacer es agrupar por zonas, y una vez agrupado por zonas obtendremos la media del precio de venta, así como el número de viviendas en cada zona."
   ]
  },
  {
   "cell_type": "code",
   "execution_count": 15,
   "metadata": {},
   "outputs": [
    {
     "name": "stdout",
     "output_type": "stream",
     "text": [
      "+---------+------------+------------------+\n",
      "|MS Zoning|count(Order)|    avg(SalePrice)|\n",
      "+---------+------------+------------------+\n",
      "|       RH|          23|136492.78260869565|\n",
      "|       RL|        1833| 191550.3109656301|\n",
      "|       RM|         424|125216.66273584905|\n",
      "+---------+------------+------------------+\n",
      "\n"
     ]
    }
   ],
   "source": [
    "df.groupBy('MS Zoning').agg({'SalePrice': 'mean', 'Order':'count'}).show()"
   ]
  },
  {
   "cell_type": "markdown",
   "metadata": {},
   "source": [
    "## Media de Total Bsmt SF por cada década de construcción calculada a partir de Year Built. \n",
    "## ¿Cuál es la decada de construcción con viviendas mejor acondicionadas para el frío (Heating QC)?"
   ]
  },
  {
   "cell_type": "markdown",
   "metadata": {},
   "source": [
    "Debido a que las dos preguntas son muy parecidas, he decidido hacerlas las dos juntas para ahorrar tiempo, tambien las he hecho de dos formas diferentes una rápida y otra corta.\n",
    "\n",
    "Lo primero de todo es hacer un summary de la variable año de construcción, para ver desde que año hasta que año hay datos"
   ]
  },
  {
   "cell_type": "code",
   "execution_count": 16,
   "metadata": {},
   "outputs": [
    {
     "name": "stdout",
     "output_type": "stream",
     "text": [
      "+-------+------------------+\n",
      "|summary|        Year Built|\n",
      "+-------+------------------+\n",
      "|  count|              2280|\n",
      "|   mean|1969.1429824561403|\n",
      "| stddev| 31.04392129644678|\n",
      "|    min|              1872|\n",
      "|    max|              2010|\n",
      "+-------+------------------+\n",
      "\n"
     ]
    }
   ],
   "source": [
    "df.describe('Year Built').show()"
   ]
  },
  {
   "cell_type": "markdown",
   "metadata": {},
   "source": [
    "Comenzamos haciendo un filtro por cada decada y agrupando por si tienen o no aire acondicionado, además obtendremos la media de metros cuadrados del sótano y contaremos las viviendas con aire y sin aire acondicionado."
   ]
  },
  {
   "cell_type": "code",
   "execution_count": 17,
   "metadata": {},
   "outputs": [
    {
     "name": "stdout",
     "output_type": "stream",
     "text": [
      "+-----------+------------------+------------------+\n",
      "|Central Air|avg(Total bsmt SF)|count(Central Air)|\n",
      "+-----------+------------------+------------------+\n",
      "|          Y|            76.167|                 1|\n",
      "|          N| 68.07600000000001|                 2|\n",
      "+-----------+------------------+------------------+\n",
      "\n"
     ]
    }
   ],
   "source": [
    "df.filter((df['Year Built'] >= 1870) & (df['Year Built'] < 1880)).groupBy('Central Air') \\\n",
    ".agg({'Total bsmt SF': 'mean', 'Central Air':'count'}).show()"
   ]
  },
  {
   "cell_type": "code",
   "execution_count": 18,
   "metadata": {},
   "outputs": [
    {
     "name": "stdout",
     "output_type": "stream",
     "text": [
      "+-----------+------------------+------------------+\n",
      "|Central Air|avg(Total bsmt SF)|count(Central Air)|\n",
      "+-----------+------------------+------------------+\n",
      "|          Y| 72.38057142857143|                 7|\n",
      "|          N|            115.32|                 1|\n",
      "+-----------+------------------+------------------+\n",
      "\n"
     ]
    }
   ],
   "source": [
    "df.filter((df['Year Built'] >= 1880) & (df['Year Built'] < 1890)).groupBy('Central Air') \\\n",
    ".agg({'Total bsmt SF': 'mean', 'Central Air':'count'}).show()"
   ]
  },
  {
   "cell_type": "code",
   "execution_count": 19,
   "metadata": {},
   "outputs": [
    {
     "name": "stdout",
     "output_type": "stream",
     "text": [
      "+-----------+------------------+------------------+\n",
      "|Central Air|avg(Total bsmt SF)|count(Central Air)|\n",
      "+-----------+------------------+------------------+\n",
      "|          Y| 81.69120000000001|                10|\n",
      "|          N|           85.6995|                 2|\n",
      "+-----------+------------------+------------------+\n",
      "\n"
     ]
    }
   ],
   "source": [
    "df.filter((df['Year Built'] >= 1890) & (df['Year Built'] < 1900)).groupBy('Central Air') \\\n",
    ".agg({'Total bsmt SF': 'mean', 'Central Air':'count'}).show()"
   ]
  },
  {
   "cell_type": "code",
   "execution_count": 20,
   "metadata": {},
   "outputs": [
    {
     "name": "stdout",
     "output_type": "stream",
     "text": [
      "+-----------+------------------+------------------+\n",
      "|Central Air|avg(Total bsmt SF)|count(Central Air)|\n",
      "+-----------+------------------+------------------+\n",
      "|          Y| 66.01309090909092|                22|\n",
      "|          N| 68.48121428571429|                14|\n",
      "+-----------+------------------+------------------+\n",
      "\n"
     ]
    }
   ],
   "source": [
    "df.filter((df['Year Built'] >= 1900) & (df['Year Built'] < 1910)).groupBy('Central Air') \\\n",
    ".agg({'Total bsmt SF': 'mean', 'Central Air':'count'}).show()"
   ]
  },
  {
   "cell_type": "code",
   "execution_count": 21,
   "metadata": {},
   "outputs": [
    {
     "name": "stdout",
     "output_type": "stream",
     "text": [
      "+-----------+------------------+------------------+\n",
      "|Central Air|avg(Total bsmt SF)|count(Central Air)|\n",
      "+-----------+------------------+------------------+\n",
      "|          Y|       72.86840625|                64|\n",
      "|          N| 73.26299999999999|                31|\n",
      "+-----------+------------------+------------------+\n",
      "\n"
     ]
    }
   ],
   "source": [
    "df.filter((df['Year Built'] >= 1910) & (df['Year Built'] < 1920)).groupBy('Central Air') \\\n",
    ".agg({'Total bsmt SF': 'mean', 'Central Air':'count'}).show()"
   ]
  },
  {
   "cell_type": "code",
   "execution_count": 22,
   "metadata": {},
   "outputs": [
    {
     "name": "stdout",
     "output_type": "stream",
     "text": [
      "+-----------+------------------+------------------+\n",
      "|Central Air|avg(Total bsmt SF)|count(Central Air)|\n",
      "+-----------+------------------+------------------+\n",
      "|          Y| 79.91961940298508|               134|\n",
      "|          N| 72.15665853658535|                41|\n",
      "+-----------+------------------+------------------+\n",
      "\n"
     ]
    }
   ],
   "source": [
    "df.filter((df['Year Built'] >= 1920) & (df['Year Built'] < 1930)).groupBy('Central Air') \\\n",
    ".agg({'Total bsmt SF': 'mean', 'Central Air':'count'}).show()"
   ]
  },
  {
   "cell_type": "code",
   "execution_count": 23,
   "metadata": {},
   "outputs": [
    {
     "name": "stdout",
     "output_type": "stream",
     "text": [
      "+-----------+------------------+------------------+\n",
      "|Central Air|avg(Total bsmt SF)|count(Central Air)|\n",
      "+-----------+------------------+------------------+\n",
      "|          Y|            73.036|                87|\n",
      "|          N|          41.73375|                 8|\n",
      "+-----------+------------------+------------------+\n",
      "\n"
     ]
    }
   ],
   "source": [
    "df.filter((df['Year Built'] >= 1930) & (df['Year Built'] < 1940)).groupBy('Central Air') \\\n",
    ".agg({'Total bsmt SF': 'mean', 'Central Air':'count'}).show()"
   ]
  },
  {
   "cell_type": "code",
   "execution_count": 24,
   "metadata": {},
   "outputs": [
    {
     "name": "stdout",
     "output_type": "stream",
     "text": [
      "+-----------+------------------+------------------+\n",
      "|Central Air|avg(Total bsmt SF)|count(Central Air)|\n",
      "+-----------+------------------+------------------+\n",
      "|          Y| 72.52735922330099|               103|\n",
      "|          N|           53.3293|                30|\n",
      "+-----------+------------------+------------------+\n",
      "\n"
     ]
    }
   ],
   "source": [
    "df.filter((df['Year Built'] >= 1940) & (df['Year Built'] < 1950)).groupBy('Central Air') \\\n",
    ".agg({'Total bsmt SF': 'mean', 'Central Air':'count'}).show()"
   ]
  },
  {
   "cell_type": "code",
   "execution_count": 25,
   "metadata": {},
   "outputs": [
    {
     "name": "stdout",
     "output_type": "stream",
     "text": [
      "+-----------+------------------+------------------+\n",
      "|Central Air|avg(Total bsmt SF)|count(Central Air)|\n",
      "+-----------+------------------+------------------+\n",
      "|          Y| 90.35375824175829|               273|\n",
      "|          N|59.581999999999994|                18|\n",
      "+-----------+------------------+------------------+\n",
      "\n"
     ]
    }
   ],
   "source": [
    "df.filter((df['Year Built'] >= 1950) & (df['Year Built'] < 1960)).groupBy('Central Air') \\\n",
    ".agg({'Total bsmt SF': 'mean', 'Central Air':'count'}).show()"
   ]
  },
  {
   "cell_type": "code",
   "execution_count": 26,
   "metadata": {},
   "outputs": [
    {
     "name": "stdout",
     "output_type": "stream",
     "text": [
      "+-----------+------------------+------------------+\n",
      "|Central Air|avg(Total bsmt SF)|count(Central Air)|\n",
      "+-----------+------------------+------------------+\n",
      "|          Y| 99.40260714285722|               252|\n",
      "|          N|115.69199999999998|                 9|\n",
      "+-----------+------------------+------------------+\n",
      "\n"
     ]
    }
   ],
   "source": [
    "df.filter((df['Year Built'] >= 1960) & (df['Year Built'] < 1970)).groupBy('Central Air') \\\n",
    ".agg({'Total bsmt SF': 'mean', 'Central Air':'count'}).show()"
   ]
  },
  {
   "cell_type": "code",
   "execution_count": 27,
   "metadata": {},
   "outputs": [
    {
     "name": "stdout",
     "output_type": "stream",
     "text": [
      "+-----------+------------------+------------------+\n",
      "|Central Air|avg(Total bsmt SF)|count(Central Air)|\n",
      "+-----------+------------------+------------------+\n",
      "|          Y| 84.14640000000004|               270|\n",
      "|          N|            84.816|                 2|\n",
      "+-----------+------------------+------------------+\n",
      "\n"
     ]
    }
   ],
   "source": [
    "df.filter((df['Year Built'] >= 1970) & (df['Year Built'] < 1980)).groupBy('Central Air') \\\n",
    ".agg({'Total bsmt SF': 'mean', 'Central Air':'count'}).show()"
   ]
  },
  {
   "cell_type": "code",
   "execution_count": 28,
   "metadata": {},
   "outputs": [
    {
     "name": "stdout",
     "output_type": "stream",
     "text": [
      "+-----------+------------------+------------------+\n",
      "|Central Air|avg(Total bsmt SF)|count(Central Air)|\n",
      "+-----------+------------------+------------------+\n",
      "|          Y| 100.0316551724138|                87|\n",
      "+-----------+------------------+------------------+\n",
      "\n"
     ]
    }
   ],
   "source": [
    "df.filter((df['Year Built'] >= 1980) & (df['Year Built'] < 1990)).groupBy('Central Air') \\\n",
    ".agg({'Total bsmt SF': 'mean', 'Central Air':'count'}).show()"
   ]
  },
  {
   "cell_type": "code",
   "execution_count": 29,
   "metadata": {},
   "outputs": [
    {
     "name": "stdout",
     "output_type": "stream",
     "text": [
      "+-----------+------------------+------------------+\n",
      "|Central Air|avg(Total bsmt SF)|count(Central Air)|\n",
      "+-----------+------------------+------------------+\n",
      "|          Y|107.34564406779663|               236|\n",
      "+-----------+------------------+------------------+\n",
      "\n"
     ]
    }
   ],
   "source": [
    "df.filter((df['Year Built'] >= 1990) & (df['Year Built'] < 2000)).groupBy('Central Air') \\\n",
    ".agg({'Total bsmt SF': 'mean', 'Central Air':'count'}).show()"
   ]
  },
  {
   "cell_type": "code",
   "execution_count": 30,
   "metadata": {},
   "outputs": [
    {
     "name": "stdout",
     "output_type": "stream",
     "text": [
      "+-----------+------------------+------------------+\n",
      "|Central Air|avg(Total bsmt SF)|count(Central Air)|\n",
      "+-----------+------------------+------------------+\n",
      "|          Y| 128.1739633507853|               573|\n",
      "|          N|            17.856|                 1|\n",
      "+-----------+------------------+------------------+\n",
      "\n"
     ]
    }
   ],
   "source": [
    "df.filter((df['Year Built'] >= 2000) & (df['Year Built'] < 2010)).groupBy('Central Air') \\\n",
    ".agg({'Total bsmt SF': 'mean', 'Central Air':'count'}).show()"
   ]
  },
  {
   "cell_type": "code",
   "execution_count": 31,
   "metadata": {},
   "outputs": [
    {
     "name": "stdout",
     "output_type": "stream",
     "text": [
      "+-----------+------------------+------------------+\n",
      "|Central Air|avg(Total bsmt SF)|count(Central Air)|\n",
      "+-----------+------------------+------------------+\n",
      "|          Y|           143.127|                 2|\n",
      "+-----------+------------------+------------------+\n",
      "\n"
     ]
    }
   ],
   "source": [
    "df.filter((df['Year Built'] >= 2010) & (df['Year Built'] < 2020)).groupBy('Central Air') \\\n",
    ".agg({'Total bsmt SF': 'mean', 'Central Air':'count'}).show()"
   ]
  },
  {
   "cell_type": "markdown",
   "metadata": {},
   "source": [
    "Después de realizar el análisis de cada decada, podemos concluir que la decada de los 2000s en la que más casas acondicionadas hay"
   ]
  },
  {
   "cell_type": "markdown",
   "metadata": {},
   "source": [
    "Otra forma de hacer lo que hemos hecho antes, será crear una nueva columna en el dataframe con el número de la década, este número lo obtenermos de dividir la cadena de texto Year Built y quedándonos con la 3ª posición.\n",
    "Este método tiene un problema y es que como tenemos observaciones de viviendas en varios siglos, pues se solaparán los resultados. Pero podría ser una buena aproximación."
   ]
  },
  {
   "cell_type": "code",
   "execution_count": 32,
   "metadata": {},
   "outputs": [],
   "source": [
    "split_col = split(df['Year Built'], '')\n",
    "df = df.withColumn('Dec const', split_col.getItem(2))"
   ]
  },
  {
   "cell_type": "code",
   "execution_count": 33,
   "metadata": {},
   "outputs": [
    {
     "name": "stdout",
     "output_type": "stream",
     "text": [
      "+---------+-----------+------------------+------------------+\n",
      "|Dec const|Central Air|avg(Total bsmt SF)|count(Central Air)|\n",
      "+---------+-----------+------------------+------------------+\n",
      "|        0|          N|           65.1062|                15|\n",
      "|        7|          Y| 84.11695571955727|               271|\n",
      "|        5|          N|59.581999999999994|                18|\n",
      "|        8|          N|            115.32|                 1|\n",
      "|        2|          N| 72.15665853658535|                41|\n",
      "|        3|          N|          41.73375|                 8|\n",
      "|        9|          Y| 106.3027804878049|               246|\n",
      "|        1|          Y| 74.99745454545454|                66|\n",
      "|        2|          Y| 79.91961940298508|               134|\n",
      "|        9|          N|           85.6995|                 2|\n",
      "|        4|          N|           53.3293|                30|\n",
      "|        5|          Y| 90.35375824175829|               273|\n",
      "|        0|          Y|125.87557815126047|               595|\n",
      "|        3|          Y|            73.036|                87|\n",
      "|        1|          N| 73.26299999999999|                31|\n",
      "|        6|          N|115.69199999999998|                 9|\n",
      "|        7|          N|            76.446|                 4|\n",
      "|        6|          Y| 99.40260714285722|               252|\n",
      "|        4|          Y| 72.52735922330099|               103|\n",
      "|        8|          Y| 97.97253191489361|                94|\n",
      "+---------+-----------+------------------+------------------+\n",
      "\n"
     ]
    }
   ],
   "source": [
    "df.groupBy('Dec const','Central Air').agg({'Total bsmt SF': 'mean', 'Central Air':'count'}).show()"
   ]
  },
  {
   "cell_type": "markdown",
   "metadata": {},
   "source": [
    "## ¿Cuáles son las 10 viviendas que se vendieron por un precio más elevado por metro cuadrado en el año 2009?"
   ]
  },
  {
   "cell_type": "markdown",
   "metadata": {},
   "source": [
    "Para realizar esta pregunta, lo primero que haremos será crear una nueva columna llamada **pxm** que contendrá el precio por metro cuadrado de cada casa"
   ]
  },
  {
   "cell_type": "code",
   "execution_count": 34,
   "metadata": {},
   "outputs": [],
   "source": [
    "df = df.withColumn(\"pxm\", (df.SalePrice/df['Lot Area']))"
   ]
  },
  {
   "cell_type": "markdown",
   "metadata": {},
   "source": [
    "Lo siguiente será hacer un filtro para quedarnos con las viviendas vendidas en el año 2009 y las ordenaremos en orden descendente para ver las casas por las que más se ha pagado por metro cuadrado."
   ]
  },
  {
   "cell_type": "code",
   "execution_count": 35,
   "metadata": {},
   "outputs": [
    {
     "name": "stdout",
     "output_type": "stream",
     "text": [
      "+-----+---------+------------+--------+------------+----------+------------+----------+--------------+------------+----------+---------+------------------+----------+-----------+---------+---------+-------------+-------------+------------+-------------+-----------+-----------+-----------+---------+-------+-------+-------+---------+---------+------------------+\n",
      "|Order|MS Zoning|Lot Frontage|Lot Area|Land Contour|Land Slope|Overall Qual|Year Built|Year Remod/Add|Mas Vnr Type|Exter Qual|Bsmt Cond|     Total Bsmt SF|Heating QC|Central Air|Full Bath|Half Bath|Bedroom AbvGr|Kitchen AbvGr|Kitchen Qual|TotRms AbvGrd|Garage Cars|Garage Area|Garage Cond|Pool Area|Pool QC|Mo Sold|Yr Sold|SalePrice|Dec const|               pxm|\n",
      "+-----+---------+------------+--------+------------+----------+------------+----------+--------------+------------+----------+---------+------------------+----------+-----------+---------+---------+-------------+-------------+------------+-------------+-----------+-----------+-----------+---------+-------+-------+-------+---------+---------+------------------+\n",
      "|  936|       RM|       2.232|   120.9|         Lvl|       Gtl|           6|      1980|          1980|        None|        TA|       TA|            52.173|        TA|          Y|        1|        1|            2|            1|          TA|            5|          2|     42.966|         TA|      0.0|     Sp|      5|   2009|   124000|        8|1025.6410256410256|\n",
      "|  934|       RM|       2.232| 138.384|         Lvl|       Gtl|           6|      1980|          1992|        None|        TA|       TA|            52.173|        TA|          Y|        1|        1|            2|            1|          Gd|            5|          2|     42.966|         TA|      0.0|     Sp|     10|   2009|   137000|        8| 989.9988437969708|\n",
      "|  464|       RL|       3.348| 210.924|         Lvl|       Gtl|           7|      2003|          2004|       Stone|        Gd|       TA| 71.05199999999999|        Ex|          Y|        2|        0|            2|            1|          Gd|            6|          2|     44.082|         TA|      0.0|     Sp|      7|   2009|   173000|        0| 820.2006409891715|\n",
      "|  935|       RM|       2.232| 149.916|         Lvl|       Gtl|           6|      1980|          1980|        None|        TA|       TA|            52.173|        TA|          Y|        1|        1|            2|            1|          TA|            5|          2|     42.966|         TA|      0.0|     Sp|      7|   2009|   121000|        8| 807.1186531124097|\n",
      "|  408|       RM|       1.953|  156.24|         Lvl|       Gtl|           5|      1972|          1972|     BrkFace|        TA|       TA|58.589999999999996|        TA|          Y|        2|        1|            3|            1|          TA|            6|          1|     24.552|         TA|      0.0|     Sp|      2|   2009|   119500|        7| 764.8489503328212|\n",
      "|  407|       RM|       1.953|  156.24|         Lvl|       Gtl|           6|      1972|          2007|     BrkFace|        TA|       TA|            44.919|        Gd|          Y|        1|        1|            2|            1|          Gd|            5|          1|     24.552|         TA|      0.0|     Sp|      5|   2009|   118000|        7| 755.2483358934971|\n",
      "|  405|       RM|       1.953|  156.24|         Lvl|       Gtl|           5|      1971|          1971|     BrkFace|        TA|       TA|58.589999999999996|        TA|          Y|        2|        1|            3|            1|          TA|            6|          1|      26.04|         TA|      0.0|     Sp|      5|   2009|   112000|        7| 716.8458781362007|\n",
      "|  933|       RM|       2.232| 161.169|         Lvl|       Gtl|           6|      1980|          1980|        None|        TA|       TA|            47.988|        TA|          Y|        1|        0|            2|            1|          TA|            5|          2|     42.036|         TA|      0.0|     Sp|      5|   2009|   115000|        8|  713.536722322531|\n",
      "|  403|       RM|       1.953|  156.24|         Lvl|       Gtl|           6|      1973|          1973|     BrkFace|        TA|       TA|            44.919|        TA|          Y|        1|        1|            2|            1|          TA|            5|          1|     24.552|         TA|      0.0|     Sp|      7|   2009|   111000|        7| 710.4454685099846|\n",
      "|  411|       RL|       2.232|  212.04|         Lvl|       Gtl|           6|      1976|          1976|        None|        TA|       TA|            79.515|        TA|          Y|        2|        1|            3|            1|          TA|            7|          2|      40.92|         TA|      0.0|     Sp|      7|   2009|   148500|        7|  700.339558573854|\n",
      "+-----+---------+------------+--------+------------+----------+------------+----------+--------------+------------+----------+---------+------------------+----------+-----------+---------+---------+-------------+-------------+------------+-------------+-----------+-----------+-----------+---------+-------+-------+-------+---------+---------+------------------+\n",
      "only showing top 10 rows\n",
      "\n"
     ]
    }
   ],
   "source": [
    "df.filter(df['Yr Sold'] == 2009).orderBy('pxm', ascending=False).show(10)"
   ]
  },
  {
   "cell_type": "markdown",
   "metadata": {},
   "source": [
    "## Media anual por zonas del precio de venta y metros cuadrados."
   ]
  },
  {
   "cell_type": "markdown",
   "metadata": {},
   "source": [
    "Simplemente tendremos que agrupar por zona y calcular la media del precio de venta y la media de metros cuadrados por vivienda."
   ]
  },
  {
   "cell_type": "code",
   "execution_count": 36,
   "metadata": {},
   "outputs": [
    {
     "name": "stdout",
     "output_type": "stream",
     "text": [
      "+---------+------------------+-----------------+\n",
      "|MS Zoning|    avg(SalePrice)|    avg(Lot Area)|\n",
      "+---------+------------------+-----------------+\n",
      "|       RH|136492.78260869565|675.3862173913043|\n",
      "|       RL| 191550.3109656301|991.1073927986907|\n",
      "|       RM|125216.66273584905|601.1502452830185|\n",
      "+---------+------------------+-----------------+\n",
      "\n"
     ]
    }
   ],
   "source": [
    "df.groupBy('MS Zoning').agg({'SalePrice': 'mean', 'Lot Area':'mean'}).show()"
   ]
  },
  {
   "cell_type": "markdown",
   "metadata": {},
   "source": [
    "## ¿Podrías decirme el total de recaudación de las casas de revistimiento (Mas Vnr Type) de piedra con respecto a las de ladrillo? ¿Hay diferencia significativa?"
   ]
  },
  {
   "cell_type": "markdown",
   "metadata": {},
   "source": [
    "Creamos un filtro para seleccionar únicamente las casas con revestimiento de piedra o ladrillo y calculamos el total de recaudación.\n",
    "Como podemos comprobar, el ladrillo liso es el que ha tenido una recaudación casi 3 veces mayor a la de la piedra; y el ladrillo normal es el que menos recaudación ha tenido más de 18 veces menos que la piedra."
   ]
  },
  {
   "cell_type": "code",
   "execution_count": 37,
   "metadata": {},
   "outputs": [
    {
     "name": "stdout",
     "output_type": "stream",
     "text": [
      "+------------+--------------+\n",
      "|Mas Vnr Type|sum(SalePrice)|\n",
      "+------------+--------------+\n",
      "|      BrkCmn|       2377175|\n",
      "|       Stone|      56766127|\n",
      "|     BrkFace|     139015565|\n",
      "+------------+--------------+\n",
      "\n"
     ]
    }
   ],
   "source": [
    "df.filter((df['Mas Vnr Type'] == 'BrkCmn')|(df['Mas Vnr Type']=='BrkFace')|(df['Mas Vnr Type']=='Stone')) \\\n",
    ".groupBy('Mas Vnr Type').sum('SalePrice').show()"
   ]
  },
  {
   "cell_type": "markdown",
   "metadata": {},
   "source": [
    "## ¿Cuánto son más caras las viviendas con 2 cocinas, con 2 o más plazas de garaje que las que tienen 1 cocina y 1 plaza de garaje? Comparar medias y cuartiles de ambos casos"
   ]
  },
  {
   "cell_type": "markdown",
   "metadata": {},
   "source": [
    "Primero calcularemos los cuatriles y la media de las casas con 2 cocinas y 2 o más garajes. Para ello utilizaremos filter y las funciones para calcular los cuartiles y la media."
   ]
  },
  {
   "cell_type": "code",
   "execution_count": 38,
   "metadata": {},
   "outputs": [
    {
     "data": {
      "text/plain": [
       "[118858.0, 139500.0, 153337.0]"
      ]
     },
     "execution_count": 38,
     "metadata": {},
     "output_type": "execute_result"
    }
   ],
   "source": [
    "df.filter((df['Kitchen AbvGr'] == 2) & (df['Garage Cars'] >= 2)).approxQuantile(\"SalePrice\", [0.25, 0.5, 0.75], 0)"
   ]
  },
  {
   "cell_type": "code",
   "execution_count": 39,
   "metadata": {},
   "outputs": [
    {
     "name": "stdout",
     "output_type": "stream",
     "text": [
      "+------------------+\n",
      "|    avg(SalePrice)|\n",
      "+------------------+\n",
      "|139113.31944444444|\n",
      "+------------------+\n",
      "\n"
     ]
    }
   ],
   "source": [
    "df.filter((df['Kitchen AbvGr'] == 2) & (df['Garage Cars'] >= 2)).agg({'SalePrice': 'mean'}).show()"
   ]
  },
  {
   "cell_type": "markdown",
   "metadata": {},
   "source": [
    "A continuación calcularemos los cuatriles y la media de las casas con 1 cocina y 1 garaje. "
   ]
  },
  {
   "cell_type": "code",
   "execution_count": 40,
   "metadata": {},
   "outputs": [
    {
     "data": {
      "text/plain": [
       "[110000.0, 127000.0, 140000.0]"
      ]
     },
     "execution_count": 40,
     "metadata": {},
     "output_type": "execute_result"
    }
   ],
   "source": [
    "df.filter((df['Kitchen AbvGr'] == 1) & (df['Garage Cars'] == 1)).approxQuantile(\"SalePrice\", [0.25, 0.5, 0.75], 0)"
   ]
  },
  {
   "cell_type": "code",
   "execution_count": 41,
   "metadata": {},
   "outputs": [
    {
     "name": "stdout",
     "output_type": "stream",
     "text": [
      "+------------------+\n",
      "|    avg(SalePrice)|\n",
      "+------------------+\n",
      "|126712.92424242424|\n",
      "+------------------+\n",
      "\n"
     ]
    }
   ],
   "source": [
    "df.filter((df['Kitchen AbvGr'] == 1) & (df['Garage Cars'] == 1)).agg({'SalePrice': 'mean'}).show()"
   ]
  },
  {
   "cell_type": "markdown",
   "metadata": {},
   "source": [
    "Podemos observar que claramente las viviendas con 2 cocinas y 2 o más garajes tienen un precio medio y unos cuartiles mayores que las viviendas con 1 cocina y 1 garaje. La conclusión erá la esperada debido a que una casa mejor equipada deberia de costar más."
   ]
  },
  {
   "cell_type": "markdown",
   "metadata": {},
   "source": [
    "## (COMPLEMENTARIA) Estudiar la relación entre el precio y el número de Garajes. (Recomiendo segmentar precio por cuartiles y estudiar el número de casos coincidentes)"
   ]
  },
  {
   "cell_type": "markdown",
   "metadata": {},
   "source": [
    "Para ver la distribución entre el precio y el número de garajes, lo primero que haremos será agrupar por número de garajes y despues obtener la media. Además ordenaremos los garages en orden ascendente para ver como cambia el precio cuando le vamos sumando garajes a la vivienda.\n",
    "Como resultado vemos que el precio de las viviendas sube a medida que tienen más garajes hasta llegar a 3, momento en el cual empieza a descender su precio."
   ]
  },
  {
   "cell_type": "code",
   "execution_count": 42,
   "metadata": {},
   "outputs": [
    {
     "name": "stdout",
     "output_type": "stream",
     "text": [
      "+-----------+------------------+\n",
      "|Garage Cars|    avg(SalePrice)|\n",
      "+-----------+------------------+\n",
      "|          0|107568.06569343066|\n",
      "|          1|126567.36131934033|\n",
      "|          2| 179271.7467476149|\n",
      "|          3|318224.63344051444|\n",
      "|          4|217361.72727272726|\n",
      "|          5|          126500.0|\n",
      "+-----------+------------------+\n",
      "\n"
     ]
    }
   ],
   "source": [
    "df.groupBy('Garage Cars').mean('SalePrice').sort(asc(\"Garage Cars\")).show()"
   ]
  },
  {
   "cell_type": "markdown",
   "metadata": {},
   "source": [
    "## (COMPLEMENTARIA) Las 10 viviendas con mejores servicios y mejor precio."
   ]
  },
  {
   "cell_type": "markdown",
   "metadata": {},
   "source": [
    "Para llevar a cabo este análisis he filtrado por la calidad del revestimiento, sótano, calefacción, cocina, garaje y piscina. He filtrado para que solo aparezacan en las que estas características sean buenas o excelentes. Después he ordenado las viviendas por precio de manera ascendente, mostrándose primero las más barates"
   ]
  },
  {
   "cell_type": "code",
   "execution_count": 43,
   "metadata": {},
   "outputs": [
    {
     "name": "stdout",
     "output_type": "stream",
     "text": [
      "+-----+---------+------------+--------+------------+----------+------------+----------+--------------+------------+----------+---------+-------------+----------+-----------+---------+---------+-------------+-------------+------------+-------------+-----------+-----------+-----------+---------+-------+-------+-------+---------+---------+------------------+\n",
      "|Order|MS Zoning|Lot Frontage|Lot Area|Land Contour|Land Slope|Overall Qual|Year Built|Year Remod/Add|Mas Vnr Type|Exter Qual|Bsmt Cond|Total Bsmt SF|Heating QC|Central Air|Full Bath|Half Bath|Bedroom AbvGr|Kitchen AbvGr|Kitchen Qual|TotRms AbvGrd|Garage Cars|Garage Area|Garage Cond|Pool Area|Pool QC|Mo Sold|Yr Sold|SalePrice|Dec const|               pxm|\n",
      "+-----+---------+------------+--------+------------+----------+------------+----------+--------------+------------+----------+---------+-------------+----------+-----------+---------+---------+-------------+-------------+------------+-------------+-----------+-----------+-----------+---------+-------+-------+-------+---------+---------+------------------+\n",
      "| 1414|       RL|        4.65| 781.665|         Lvl|       Gtl|           5|      1900|          1950|        None|        TA|       Gd|       80.073|        Ex|          Y|        1|        0|            4|            1|          TA|            7|          1|     35.712|         TA|      0.0|     Sp|      4|   2008|   119000|        0| 152.2391305738392|\n",
      "| 1506|       RL|        5.58| 1132.74|         Lvl|       Gtl|           5|      1938|          2007|        None|        TA|       TA|       54.405|        Gd|          Y|        1|        1|            2|            1|          Ex|            5|          0|        0.0|         Sg|      0.0|     Sp|      1|   2008|   120000|        3|105.93781450288681|\n",
      "| 1295|       RM|       7.533| 679.644|         Lvl|       Gtl|           5|      1920|          1950|        None|        Fa|       TA|       87.048|        Gd|          N|        1|        0|            2|            1|          Ex|            6|          1|     20.925|         Fa|      0.0|     Sp|      6|   2008|   122250|        2|179.87358087469323|\n",
      "| 2143|       RL|        5.58|   669.6|         Lvl|       Gtl|           5|      1972|          2000|        None|        TA|       TA|       80.352|        Gd|          Y|        1|        0|            3|            1|          Ex|            5|          2|     53.568|         Ex|      0.0|     Sp|      9|   2007|   127000|        7|189.66547192353644|\n",
      "| 1359|       RM|       5.859| 404.271|         Lvl|       Gtl|           6|      1910|          1950|        None|        Gd|       Gd|       74.028|        Ex|          Y|        1|        0|            3|            1|          TA|            7|          1|     21.204|         Fa|      0.0|     Sp|      6|   2008|   127500|        1|315.38250332079224|\n",
      "| 1356|       RL|       5.115| 954.831|         Lvl|       Gtl|           6|      1918|          2000|        None|        TA|       Gd|       75.888|        Ex|          Y|        1|        0|            2|            1|          Fa|            5|          1|     25.575|         TA|      0.0|     Sp|      5|   2008|   130000|        1| 136.1497479658704|\n",
      "| 2012|       RM|        5.58|   558.0|         Lvl|       Gtl|           6|      1941|          1950|        None|        TA|       Gd|       68.355|        Ex|          Y|        1|        0|            3|            1|          TA|            6|          2|      40.92|         TA|      0.0|     Sp|      3|   2007|   131000|        4|234.76702508960574|\n",
      "|  842|       RL|        5.58| 750.696|         Lvl|       Gtl|           5|      1994|          1995|        None|        TA|       Gd|        92.07|        Ex|          Y|        1|        0|            3|            1|          TA|            5|          2|      44.64|         TA|      0.0|     Sp|      5|   2009|   138000|        9|183.82940631094343|\n",
      "| 1606|       RL|        5.58|   613.8|         Lvl|       Gtl|           5|      1982|          2003|        None|        TA|       Gd|       75.888|        Ex|          Y|        1|        0|            2|            1|          TA|            4|          2|     75.888|         TA|      0.0|     Sp|      6|   2008|   138000|        8|224.82893450635387|\n",
      "| 1931|       RL|        5.58|1074.708|         Lvl|       Gtl|           5|      1953|          2006|        None|        TA|       TA|       80.352|        Gd|          Y|        1|        1|            3|            1|          Ex|            6|          1|     31.248|         TA|      0.0|     Sp|      7|   2007|   142000|        5| 132.1289131559456|\n",
      "+-----+---------+------------+--------+------------+----------+------------+----------+--------------+------------+----------+---------+-------------+----------+-----------+---------+---------+-------------+-------------+------------+-------------+-----------+-----------+-----------+---------+-------+-------+-------+---------+---------+------------------+\n",
      "only showing top 10 rows\n",
      "\n"
     ]
    }
   ],
   "source": [
    "df.filter((df['Exter Qual'] == 'Ex')|(df['Exter Qual'] == 'Gd')&(df['Bsmt Cond'] == 'Ex')|(df['Bsmt Cond'] == 'Gd')& \\\n",
    "         (df['Heating QC'] == 'Ex')|(df['Heating QC'] == 'Gd')&(df['Kitchen Qual'] == 'Ex')|(df['Kitchen Qual'] == 'Gd')& \\\n",
    "         (df['Garage Cond'] == 'Ex')|(df['Garage Cond'] == 'Gd')&(df['Pool QC'] == 'Ex')|(df['Pool QC'] == 'Gd')) \\\n",
    ".orderBy('SalePrice', ascending=True).show(10)"
   ]
  },
  {
   "cell_type": "markdown",
   "metadata": {},
   "source": [
    "### Pista:\n",
    "#### Calcula las variables: \n",
    "- Número de servicios excelentes\n",
    "- Número de servicios buenos\n",
    "...\n",
    "\n",
    "#### Tendréis que tener en cuenta también variables como número de baños Full Bath, cocinas Kitchen AbvGr o dormitorios Bedroom AbvGr. Generando por ejemplo (número de estas variables por encima de media)\n",
    "\n",
    "#### Finalmente precio de venta"
   ]
  }
 ],
 "metadata": {
  "kernelspec": {
   "display_name": "Python 3",
   "language": "python",
   "name": "python3"
  },
  "language_info": {
   "codemirror_mode": {
    "name": "ipython",
    "version": 3
   },
   "file_extension": ".py",
   "mimetype": "text/x-python",
   "name": "python",
   "nbconvert_exporter": "python",
   "pygments_lexer": "ipython3",
   "version": "3.8.3"
  },
  "toc": {
   "base_numbering": 1,
   "nav_menu": {},
   "number_sections": true,
   "sideBar": true,
   "skip_h1_title": false,
   "title_cell": "Table of Contents",
   "title_sidebar": "Contents",
   "toc_cell": false,
   "toc_position": {},
   "toc_section_display": true,
   "toc_window_display": true
  }
 },
 "nbformat": 4,
 "nbformat_minor": 2
}
