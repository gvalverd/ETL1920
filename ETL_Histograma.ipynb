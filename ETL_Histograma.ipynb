{
  "nbformat": 4,
  "nbformat_minor": 0,
  "metadata": {
    "colab": {
      "name": "ETL_Histograma.ipynb",
      "provenance": [],
      "collapsed_sections": []
    },
    "kernelspec": {
      "name": "python3",
      "display_name": "Python 3"
    }
  },
  "cells": [
    {
      "cell_type": "markdown",
      "metadata": {
        "id": "-pbUG8-PFY4-"
      },
      "source": [
        "**HISTOGRAMA PUNTOS VISITANTE**\n",
        "\n",
        "\n",
        "CUNEF, Colegio Universitario de Estudios Financieros\n",
        "\n",
        "\n",
        "MDS - Extracción, Transformación y Carga - ETL\n",
        "\n",
        "\n",
        "Marta Ruedas Burgos \n",
        "\n"
      ]
    },
    {
      "cell_type": "markdown",
      "metadata": {
        "id": "9BakXBRqGoTY"
      },
      "source": [
        "**Descripción de la tarea**\n",
        "\n",
        "Vamos a empezar a trabajar con spark\n",
        "\n",
        "Para ellos vamos a trabajar con la siguiente fuente de datos:\n",
        "\n",
        "partidosLigaNBA Enlace\n",
        "\n",
        " \n",
        "\n",
        "El objetivo es realizar un histograma con SPARK de la variable puntos de visitante.\n",
        "\n",
        "Para ello es necesario que:\n",
        "\n",
        "* Cargar los datos en un rdd como vimos en la última clase \n",
        "\n",
        "* Aplicar el método map con una función split en su interior para separar por comas\n",
        "\n",
        "* Seleccionar el elemento del vector generado que hace referencia a los puntos visitantes y transformar a numérico\n",
        "\n",
        "* Filtrar aquellos casos que no sean \n",
        "\n",
        "* Aplicar una función map que transforme cada número en uno de los intervalos del histograma (elegidos por vosotros mismos)\n",
        "\n",
        "Nota: Todas las funciones map se pueden resumir en una.\n",
        "\n",
        "* Método de agrupación para generar un vector formado por cada elemento asociado a cada intervalor\n",
        "\n",
        "* Función map para hacer un len y sacar el histograma\n",
        "\n",
        " \n",
        "\n",
        "Debéis subir el código, en .py o en .ipynb (sin los datos resultantes que si puede ocupar mucho).\n",
        "\n",
        "El objetivo es aplicar map-reduce, veremos más adelante como se puede hacer de manera más sencilla con sql."
      ]
    },
    {
      "cell_type": "markdown",
      "metadata": {
        "id": "FXx7nTXhG4Md"
      },
      "source": [
        "**HISTOGRAMA PUNTOS VISITANTES**"
      ]
    },
    {
      "cell_type": "code",
      "metadata": {
        "id": "Avxh8i9J_JdF"
      },
      "source": [
        "!apt-get install openjdk-8-jdk-headless -qq > /dev/null\n",
        "!wget -q https://www-us.apache.org/dist/spark/spark-2.4.7/spark-2.4.7-bin-hadoop2.7.tgz\n",
        "!tar xf spark-2.4.7-bin-hadoop2.7.tgz\n",
        "!pip install -q findspark"
      ],
      "execution_count": 33,
      "outputs": []
    },
    {
      "cell_type": "code",
      "metadata": {
        "id": "miE35aRX_ryx"
      },
      "source": [
        "import os\n",
        "os.environ[\"JAVA_HOME\"] = \"/usr/lib/jvm/java-8-openjdk-amd64\"\n",
        "os.environ[\"SPARK_HOME\"] = \"/content/spark-2.4.7-bin-hadoop2.7\""
      ],
      "execution_count": 34,
      "outputs": []
    },
    {
      "cell_type": "code",
      "metadata": {
        "id": "ZHvy3Igd_sAp"
      },
      "source": [
        "import findspark\n",
        "findspark.init()\n",
        "from pyspark import SparkContext\n",
        "sc = SparkContext.getOrCreate()\n",
        "from pyspark.sql import SparkSession\n",
        "spark = SparkSession.builder.master(\"local[*]\").getOrCreate()"
      ],
      "execution_count": 35,
      "outputs": []
    },
    {
      "cell_type": "code",
      "metadata": {
        "id": "PMUjqDEg_sKO"
      },
      "source": [
        "data = sc.textFile('partidosLigaNBA.csv')"
      ],
      "execution_count": 36,
      "outputs": []
    },
    {
      "cell_type": "code",
      "metadata": {
        "colab": {
          "base_uri": "https://localhost:8080/"
        },
        "id": "7J17zNgIAjId",
        "outputId": "edf8c5ef-dd99-4e1e-af3e-ebebaf71f790"
      },
      "source": [
        "data.count() "
      ],
      "execution_count": 37,
      "outputs": [
        {
          "output_type": "execute_result",
          "data": {
            "text/plain": [
              "12908"
            ]
          },
          "metadata": {
            "tags": []
          },
          "execution_count": 37
        }
      ]
    },
    {
      "cell_type": "code",
      "metadata": {
        "id": "ca4AN9CWAjSH",
        "colab": {
          "base_uri": "https://localhost:8080/",
          "height": 35
        },
        "outputId": "e902c0db-d2d1-4991-a322-c058a64a3f43"
      },
      "source": [
        "header_data = data.take(1)[0] \n",
        "header_data"
      ],
      "execution_count": 38,
      "outputs": [
        {
          "output_type": "execute_result",
          "data": {
            "application/vnd.google.colaboratory.intrinsic+json": {
              "type": "string"
            },
            "text/plain": [
              "'Date:Start..ET.:Visitor.Neutral:PTS:Home.Neutral:PTS.1'"
            ]
          },
          "metadata": {
            "tags": []
          },
          "execution_count": 38
        }
      ]
    },
    {
      "cell_type": "code",
      "metadata": {
        "id": "uq3nq-j6Ajdn",
        "colab": {
          "base_uri": "https://localhost:8080/"
        },
        "outputId": "744bff02-530a-4539-c82e-efce7f920fbf"
      },
      "source": [
        "noheader_data = data.filter(lambda x: x != header_data) #:\n",
        "noheader_data.take(5)"
      ],
      "execution_count": 39,
      "outputs": [
        {
          "output_type": "execute_result",
          "data": {
            "text/plain": [
              "['Tue, Oct 30, 2007:\"7:30 pm\":Utah Jazz:117:Golden State Warriors:96',\n",
              " 'Tue, Oct 30, 2007:\"7:30 pm\":Houston Rockets:95:Los Angeles Lakers:93',\n",
              " 'Tue, Oct 30, 2007:\"7:00 pm\":Portland Trail Blazers:97:San Antonio Spurs:106',\n",
              " 'Wed, Oct 31, 2007:\"8:00 pm\":Dallas Mavericks:92:Cleveland Cavaliers:74',\n",
              " 'Wed, Oct 31, 2007:\"8:30 pm\":Seattle SuperSonics:103:Denver Nuggets:120']"
            ]
          },
          "metadata": {
            "tags": []
          },
          "execution_count": 39
        }
      ]
    },
    {
      "cell_type": "code",
      "metadata": {
        "colab": {
          "base_uri": "https://localhost:8080/"
        },
        "id": "QC3IH9wbCF2L",
        "outputId": "2d49c4ff-310b-47f2-fb14-3f222a2de6f9"
      },
      "source": [
        "noheader_data = data.filter(lambda x: x != header_data).map(lambda x: x.split(':')) \n",
        "noheader_data.take(5)"
      ],
      "execution_count": 40,
      "outputs": [
        {
          "output_type": "execute_result",
          "data": {
            "text/plain": [
              "[['Tue, Oct 30, 2007',\n",
              "  '\"7',\n",
              "  '30 pm\"',\n",
              "  'Utah Jazz',\n",
              "  '117',\n",
              "  'Golden State Warriors',\n",
              "  '96'],\n",
              " ['Tue, Oct 30, 2007',\n",
              "  '\"7',\n",
              "  '30 pm\"',\n",
              "  'Houston Rockets',\n",
              "  '95',\n",
              "  'Los Angeles Lakers',\n",
              "  '93'],\n",
              " ['Tue, Oct 30, 2007',\n",
              "  '\"7',\n",
              "  '00 pm\"',\n",
              "  'Portland Trail Blazers',\n",
              "  '97',\n",
              "  'San Antonio Spurs',\n",
              "  '106'],\n",
              " ['Wed, Oct 31, 2007',\n",
              "  '\"8',\n",
              "  '00 pm\"',\n",
              "  'Dallas Mavericks',\n",
              "  '92',\n",
              "  'Cleveland Cavaliers',\n",
              "  '74'],\n",
              " ['Wed, Oct 31, 2007',\n",
              "  '\"8',\n",
              "  '30 pm\"',\n",
              "  'Seattle SuperSonics',\n",
              "  '103',\n",
              "  'Denver Nuggets',\n",
              "  '120']]"
            ]
          },
          "metadata": {
            "tags": []
          },
          "execution_count": 40
        }
      ]
    },
    {
      "cell_type": "code",
      "metadata": {
        "colab": {
          "base_uri": "https://localhost:8080/"
        },
        "id": "e-5scuIzCGCJ",
        "outputId": "a9e0edc3-0f2b-4e76-f820-269c4d39213a"
      },
      "source": [
        "noheader_data = data.filter(lambda x: x != header_data).map(lambda x: x.split(':')[-1]) \n",
        "noheader_data.take(5) #tipo categórico entre comillas, hay que pasarlo a numérico"
      ],
      "execution_count": 41,
      "outputs": [
        {
          "output_type": "execute_result",
          "data": {
            "text/plain": [
              "['96', '93', '106', '74', '120']"
            ]
          },
          "metadata": {
            "tags": []
          },
          "execution_count": 41
        }
      ]
    },
    {
      "cell_type": "code",
      "metadata": {
        "colab": {
          "base_uri": "https://localhost:8080/"
        },
        "id": "FEVw-_SECrU1",
        "outputId": "449636e8-4ae7-4cc9-b07f-334fc59741f9"
      },
      "source": [
        "noheader_data = data.filter(lambda x: x != header_data).map(lambda x: x.split(':')[-1]).map(lambda x: int(x)) \n",
        "noheader_data.take(5) #numérico #quitamos playoffs"
      ],
      "execution_count": 42,
      "outputs": [
        {
          "output_type": "execute_result",
          "data": {
            "text/plain": [
              "[96, 93, 106, 74, 120]"
            ]
          },
          "metadata": {
            "tags": []
          },
          "execution_count": 42
        }
      ]
    },
    {
      "cell_type": "code",
      "metadata": {
        "id": "w0mazRGKCGFb"
      },
      "source": [
        "noheader_data = data.filter(lambda x: x != header_data).map(lambda x: x.split(':')[-1]).map(lambda x: int(x)) #para que se entienda"
      ],
      "execution_count": 43,
      "outputs": []
    },
    {
      "cell_type": "code",
      "metadata": {
        "id": "ks5SVvXiCGJm"
      },
      "source": [
        "noheader_data = data.filter(lambda s: s != header_data).map(lambda s: s.split(':')[-1]).filter(lambda s_pvisit: s_pvisit.isdigit()).map(lambda i_pvisit: int(i_pvisit))"
      ],
      "execution_count": 44,
      "outputs": []
    },
    {
      "cell_type": "code",
      "metadata": {
        "id": "xqnlN69ED1qD"
      },
      "source": [
        "x = noheader_data.collect() # lista, conversión"
      ],
      "execution_count": 45,
      "outputs": []
    },
    {
      "cell_type": "code",
      "metadata": {
        "id": "jO1Q3mKeD1wN"
      },
      "source": [
        "x.sort()"
      ],
      "execution_count": 46,
      "outputs": []
    },
    {
      "cell_type": "code",
      "metadata": {
        "colab": {
          "base_uri": "https://localhost:8080/"
        },
        "id": "UW1cYqr4D1zH",
        "outputId": "7e4258c5-fc9e-4d64-a90b-8f6126a01a7b"
      },
      "source": [
        "# sacamos cuartiles para que luego en el histograma los dividamos en cuatro frecuencias. \n",
        "print(x[int(len(x)*.25)])\n",
        "print(x[int(len(x)*.50)])\n",
        "print(x[int(len(x)*.75)])"
      ],
      "execution_count": 47,
      "outputs": [
        {
          "output_type": "stream",
          "text": [
            "93\n",
            "101\n",
            "110\n"
          ],
          "name": "stdout"
        }
      ]
    },
    {
      "cell_type": "code",
      "metadata": {
        "id": "ZrxCwwCWD12C"
      },
      "source": [
        "# función, en clase dijo que la hiciesemos\n",
        "# ponemos nombre a cada valor dependiendo el numero que sea entra en un intervalo o otro\n",
        "def intervalos(x):\n",
        "    if x <= 101:\n",
        "        if x <= 93:\n",
        "            return ('Interval 1')\n",
        "        else:\n",
        "            return ('Interval 2')\n",
        "    else:\n",
        "        if x <= 110:\n",
        "            return ('Interval 3')\n",
        "        else:\n",
        "            return ('Interval 4') "
      ],
      "execution_count": 48,
      "outputs": []
    },
    {
      "cell_type": "code",
      "metadata": {
        "colab": {
          "base_uri": "https://localhost:8080/"
        },
        "id": "A90Rj01FD14e",
        "outputId": "eeb69148-6ab9-4585-87c0-d9b5b84ed1ac"
      },
      "source": [
        "noheader_data.map(lambda x: (intervalos(x),1)).reduceByKey(lambda y,z: y + z).collect() # cada intervalo junto con su frecuencia"
      ],
      "execution_count": 49,
      "outputs": [
        {
          "output_type": "execute_result",
          "data": {
            "text/plain": [
              "[('Interval 3', 3464),\n",
              " ('Interval 4', 2976),\n",
              " ('Interval 2', 3196),\n",
              " ('Interval 1', 3261)]"
            ]
          },
          "metadata": {
            "tags": []
          },
          "execution_count": 49
        }
      ]
    },
    {
      "cell_type": "code",
      "metadata": {
        "id": "JaQvLfq0EsWK"
      },
      "source": [
        "# Histograma sin graficar, todo lo anterior"
      ],
      "execution_count": 50,
      "outputs": []
    },
    {
      "cell_type": "markdown",
      "metadata": {
        "id": "6pR_8T2fHB_c"
      },
      "source": [
        "**HISTOGRAMA - GRÁFICO**"
      ]
    },
    {
      "cell_type": "code",
      "metadata": {
        "colab": {
          "base_uri": "https://localhost:8080/",
          "height": 282
        },
        "id": "-slaxrBIEsjM",
        "outputId": "6c0eac77-2937-446c-af5f-81a6ae334cdb"
      },
      "source": [
        "import matplotlib.pyplot as plt\n",
        "\n",
        "a_dictionary = {\"INTERVAL 1\": 3261, \"INTERVAL 2\": 3196, \"INTERVAL 3\": 3464, 'INTERVAL 4': 2976}\n",
        "keys = a_dictionary.keys()\n",
        "values = a_dictionary.values()\n",
        "\n",
        "plt.bar(keys, values) # FRECUENCIA DE LOS PUNTOS VISITANTES"
      ],
      "execution_count": 51,
      "outputs": [
        {
          "output_type": "execute_result",
          "data": {
            "text/plain": [
              "<BarContainer object of 4 artists>"
            ]
          },
          "metadata": {
            "tags": []
          },
          "execution_count": 51
        },
        {
          "output_type": "display_data",
          "data": {
            "image/png": "[encoded data removed]",
            "text/plain": [
              "<Figure size 432x288 with 1 Axes>"
            ]
          },
          "metadata": {
            "tags": [],
            "needs_background": "light"
          }
        }
      ]
    }
  ]
}