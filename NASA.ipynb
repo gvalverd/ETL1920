{
 "cells": [
  {
   "cell_type": "markdown",
   "metadata": {},
   "source": [
    "# TAREA LOG NASA EN SQL "
   ]
  },
  {
   "cell_type": "markdown",
   "metadata": {},
   "source": [
    "* Autor: Beltrán Aller López\n",
    "* Fecha: 02/12/2019\n",
    "* Asignatura: ETL"
   ]
  },
  {
   "cell_type": "markdown",
   "metadata": {},
   "source": [
    "En primer lugar se genera el contexto spark."
   ]
  },
  {
   "cell_type": "code",
   "execution_count": 1,
   "metadata": {
    "collapsed": true
   },
   "outputs": [],
   "source": [
    "from pyspark import SparkContext"
   ]
  },
  {
   "cell_type": "code",
   "execution_count": 2,
   "metadata": {
    "collapsed": true
   },
   "outputs": [],
   "source": [
    "sc = SparkContext()"
   ]
  },
  {
   "cell_type": "markdown",
   "metadata": {},
   "source": [
    "Procedo a la carga del archivo, utilizaré la base de datos pequeña, por lo que los resultados serán distintos."
   ]
  },
  {
   "cell_type": "code",
   "execution_count": 3,
   "metadata": {
    "collapsed": true
   },
   "outputs": [],
   "source": [
    "data_file = \"./apache.access.log_small\"\n",
    "raw_data = sc.textFile(data_file)"
   ]
  },
  {
   "cell_type": "markdown",
   "metadata": {},
   "source": [
    "Realizo un conteo para comprobar que se ha cargado bien."
   ]
  },
  {
   "cell_type": "code",
   "execution_count": 4,
   "metadata": {
    "collapsed": false
   },
   "outputs": [
    {
     "data": {
      "text/plain": [
       "3432"
      ]
     },
     "execution_count": 4,
     "metadata": {},
     "output_type": "execute_result"
    }
   ],
   "source": [
    "raw_data.count()"
   ]
  },
  {
   "cell_type": "markdown",
   "metadata": {},
   "source": [
    "Extraigo una muestra para visualizar el formato que tiene."
   ]
  },
  {
   "cell_type": "code",
   "execution_count": 5,
   "metadata": {
    "collapsed": false
   },
   "outputs": [
    {
     "data": {
      "text/plain": [
       "['in24.inetnebr.com - - [01/Aug/1995:00:00:01 -0400] \"GET /shuttle/missions/sts-68/news/sts-68-mcc-05.txt HTTP/1.0\" 200 1839',\n",
       " 'uplherc.upl.com - - [01/Aug/1995:00:00:07 -0400] \"GET / HTTP/1.0\" 304 0',\n",
       " 'uplherc.upl.com - - [01/Aug/1995:00:00:08 -0400] \"GET /images/ksclogo-medium.gif HTTP/1.0\" 304 0',\n",
       " 'uplherc.upl.com - - [01/Aug/1995:00:00:08 -0400] \"GET /images/MOSAIC-logosmall.gif HTTP/1.0\" 304 0']"
      ]
     },
     "execution_count": 5,
     "metadata": {},
     "output_type": "execute_result"
    }
   ],
   "source": [
    "raw_data.take(4)"
   ]
  },
  {
   "cell_type": "markdown",
   "metadata": {},
   "source": [
    "Observo lo siguiente:"
   ]
  },
  {
   "cell_type": "markdown",
   "metadata": {},
   "source": [
    "* En primer lugar hay una cadena de caractéres.\n",
    "* Luego dos espacios en blanco y dos guiones.\n",
    "* Entre corchetes la fecha en formato: dd/MM/yyyy:hh:mm:ss y un guión con 4 números.\n",
    "* Se observa un espacio en blanco justo después de la fecha.\n",
    "* Comienza una cadena de caractéres entre comillas y separados por /,- y un espacio en blanco al principio y otro al final.\n",
    "* Espacio en blanco, y dos números de distinta longitud, el primero para el código y el segundo para el tamaño."
   ]
  },
  {
   "cell_type": "markdown",
   "metadata": {},
   "source": [
    "Guardo una de las muestras para poner a prueba la expresión regular."
   ]
  },
  {
   "cell_type": "code",
   "execution_count": 6,
   "metadata": {
    "collapsed": true
   },
   "outputs": [],
   "source": [
    "prueba = raw_data.take(1)"
   ]
  },
  {
   "cell_type": "code",
   "execution_count": 7,
   "metadata": {
    "collapsed": false
   },
   "outputs": [
    {
     "data": {
      "text/plain": [
       "'in24.inetnebr.com - - [01/Aug/1995:00:00:01 -0400] \"GET /shuttle/missions/sts-68/news/sts-68-mcc-05.txt HTTP/1.0\" 200 1839'"
      ]
     },
     "execution_count": 7,
     "metadata": {},
     "output_type": "execute_result"
    }
   ],
   "source": [
    "prueba[0]"
   ]
  },
  {
   "cell_type": "markdown",
   "metadata": {},
   "source": [
    "Importo el paquete de expresiones regulares."
   ]
  },
  {
   "cell_type": "code",
   "execution_count": 8,
   "metadata": {
    "collapsed": true
   },
   "outputs": [],
   "source": [
    "import re"
   ]
  },
  {
   "cell_type": "markdown",
   "metadata": {},
   "source": [
    "Defino mi expresión regular."
   ]
  },
  {
   "cell_type": "code",
   "execution_count": 9,
   "metadata": {
    "collapsed": true
   },
   "outputs": [],
   "source": [
    "expresion = '^(\\S+)\\s\\-\\s\\- \\[(\\S+) ([-]\\d{4})\\] \"(\\S+)\\s*(\\S+)\\s*(\\S+)\\s*([/\\w+\\.\\s*]+)\"* (\\d{3}) (\\S+)'"
   ]
  },
  {
   "cell_type": "markdown",
   "metadata": {},
   "source": [
    "La pongo a prueba."
   ]
  },
  {
   "cell_type": "code",
   "execution_count": 10,
   "metadata": {
    "collapsed": false
   },
   "outputs": [
    {
     "data": {
      "text/plain": [
       "('in24.inetnebr.com',\n",
       " '01/Aug/1995:00:00:01',\n",
       " '-0400',\n",
       " 'GET',\n",
       " '/shuttle/missions/sts-68/news/sts-68-mcc-05.txt',\n",
       " 'HTTP/1.',\n",
       " '0',\n",
       " '200',\n",
       " '1839')"
      ]
     },
     "execution_count": 10,
     "metadata": {},
     "output_type": "execute_result"
    }
   ],
   "source": [
    "re.search(expresion, prueba[0]).groups()"
   ]
  },
  {
   "cell_type": "markdown",
   "metadata": {},
   "source": [
    "Defino la función de parseado, parseo el archivo y también defino una función para convertir a entero el tamaño."
   ]
  },
  {
   "cell_type": "code",
   "execution_count": 11,
   "metadata": {
    "collapsed": true
   },
   "outputs": [],
   "source": [
    "def map_log(line):\n",
    "    match = re.search(expresion, line)\n",
    "    return match.groups()"
   ]
  },
  {
   "cell_type": "code",
   "execution_count": 12,
   "metadata": {
    "collapsed": true
   },
   "outputs": [],
   "source": [
    "parse_def = raw_data.map(lambda x: map_log(x))"
   ]
  },
  {
   "cell_type": "code",
   "execution_count": 13,
   "metadata": {
    "collapsed": true
   },
   "outputs": [],
   "source": [
    "def convert_long(x):\n",
    "    x = re.sub('[^0-9]',\"\",x) \n",
    "    if x ==\"\":\n",
    "        return 0\n",
    "    else:\n",
    "        return int(x)"
   ]
  },
  {
   "cell_type": "markdown",
   "metadata": {},
   "source": [
    "Creo el contexto SQL e importo la librería Row para SQL y datetime para las fechas."
   ]
  },
  {
   "cell_type": "code",
   "execution_count": 14,
   "metadata": {
    "collapsed": true
   },
   "outputs": [],
   "source": [
    "from pyspark.sql import SQLContext\n",
    "sqlContext = SQLContext(sc)"
   ]
  },
  {
   "cell_type": "code",
   "execution_count": 15,
   "metadata": {
    "collapsed": true
   },
   "outputs": [],
   "source": [
    "from pyspark.sql import Row "
   ]
  },
  {
   "cell_type": "code",
   "execution_count": 16,
   "metadata": {
    "collapsed": true
   },
   "outputs": [],
   "source": [
    "from datetime import datetime"
   ]
  },
  {
   "cell_type": "code",
   "execution_count": 17,
   "metadata": {
    "collapsed": true
   },
   "outputs": [],
   "source": [
    "base_datos = parse_def.map(lambda p: Row(\n",
    "    host=p[0], \n",
    "    fecha=datetime.strptime(p[1][:11], \"%d/%b/%Y\"),\n",
    "    endpoint=p[4],\n",
    "    codigo=p[7],\n",
    "    size=convert_long(p[8])\n",
    "    )\n",
    ")"
   ]
  },
  {
   "cell_type": "code",
   "execution_count": 18,
   "metadata": {
    "collapsed": true
   },
   "outputs": [],
   "source": [
    "lognasa_df = sqlContext.createDataFrame(base_datos)\n",
    "lognasa_df.registerTempTable(\"NASA\")"
   ]
  },
  {
   "cell_type": "markdown",
   "metadata": {},
   "source": [
    "### Ejercicio 1: Mínimo, máximo y media del tamaño de las peticiones "
   ]
  },
  {
   "cell_type": "code",
   "execution_count": 19,
   "metadata": {
    "collapsed": false
   },
   "outputs": [
    {
     "name": "stdout",
     "output_type": "stream",
     "text": [
      "+---------+---------+------------------+\n",
      "|max(size)|min(size)|         avg(size)|\n",
      "+---------+---------+------------------+\n",
      "|   887988|        0|16051.863636363636|\n",
      "+---------+---------+------------------+\n",
      "\n"
     ]
    }
   ],
   "source": [
    "stats = sqlContext.sql(\"\"\"\n",
    "SELECT MAX(size), MIN(size), AVG(size)\n",
    "FROM NASA\n",
    "\"\"\")\n",
    "stats.show()"
   ]
  },
  {
   "cell_type": "markdown",
   "metadata": {},
   "source": [
    "### Ejercicio 2: Nº de peticiones de cada código respuesta"
   ]
  },
  {
   "cell_type": "code",
   "execution_count": 20,
   "metadata": {
    "collapsed": false
   },
   "outputs": [
    {
     "name": "stdout",
     "output_type": "stream",
     "text": [
      "+------+-------------+\n",
      "|codigo|count(codigo)|\n",
      "+------+-------------+\n",
      "|   200|         3140|\n",
      "|   302|           50|\n",
      "|   404|           22|\n",
      "|   403|            1|\n",
      "|   304|          219|\n",
      "+------+-------------+\n",
      "\n"
     ]
    }
   ],
   "source": [
    "num_peticiones = sqlContext.sql(\"\"\"\n",
    "SELECT codigo, COUNT(codigo)\n",
    "FROM NASA\n",
    "GROUP BY codigo\n",
    "\"\"\")\n",
    "num_peticiones.show()"
   ]
  },
  {
   "cell_type": "markdown",
   "metadata": {},
   "source": [
    "### Ejercicio 3: Mostrar 20 hosts que han sido visitados más de 10 veces"
   ]
  },
  {
   "cell_type": "code",
   "execution_count": 21,
   "metadata": {
    "collapsed": false
   },
   "outputs": [
    {
     "name": "stdout",
     "output_type": "stream",
     "text": [
      "+--------------------+-----------+\n",
      "|                host|count(host)|\n",
      "+--------------------+-----------+\n",
      "|     info.telenor.no|         15|\n",
      "|in2pc2.med.niigat...|         14|\n",
      "|ix-sf10-28.ix.net...|         12|\n",
      "|   in24.inetnebr.com|         55|\n",
      "|     204.199.188.113|         12|\n",
      "|     pm6a3.sover.net|         11|\n",
      "|www-b5.proxy.aol.com|         28|\n",
      "|ix-min1-02.ix.net...|         78|\n",
      "|pppa006.compuserv...|         17|\n",
      "|ad14-027.compuser...|         16|\n",
      "|term1-24.sb.west.net|         29|\n",
      "|       193.84.66.147|         31|\n",
      "| mac19.ils.uec.ac.jp|         14|\n",
      "|       133.68.18.180|         17|\n",
      "|      139.230.35.135|         17|\n",
      "|haraway.ucet.ufl.edu|         32|\n",
      "|ad11-061.compuser...|         13|\n",
      "|hsccs_gatorbox07....|         40|\n",
      "|  cs1-06.leh.ptd.net|         19|\n",
      "|violin-05.synapse...|         17|\n",
      "+--------------------+-----------+\n",
      "\n"
     ]
    }
   ],
   "source": [
    "hosts = sqlContext.sql(\"\"\"\n",
    "SELECT host, COUNT(host)\n",
    "FROM NASA\n",
    "GROUP BY host\n",
    "HAVING COUNT(host) > 10\n",
    "LIMIT 20\n",
    "\"\"\")\n",
    "hosts.show()"
   ]
  },
  {
   "cell_type": "markdown",
   "metadata": {},
   "source": [
    "### Ejercicio 4: Mostrar los 10 endpoints más visitados"
   ]
  },
  {
   "cell_type": "code",
   "execution_count": 22,
   "metadata": {
    "collapsed": false
   },
   "outputs": [
    {
     "name": "stdout",
     "output_type": "stream",
     "text": [
      "+--------------------+---------------+\n",
      "|            endpoint|count(endpoint)|\n",
      "+--------------------+---------------+\n",
      "|/images/KSC-logos...|            167|\n",
      "|/images/NASA-logo...|            159|\n",
      "|/images/MOSAIC-lo...|            121|\n",
      "|/images/WORLD-log...|            119|\n",
      "|/images/USA-logos...|            117|\n",
      "|/images/ksclogo-m...|            105|\n",
      "|                   /|             84|\n",
      "|/history/apollo/i...|             74|\n",
      "|/images/launch-lo...|             69|\n",
      "|/images/ksclogosm...|             66|\n",
      "+--------------------+---------------+\n",
      "\n"
     ]
    }
   ],
   "source": [
    "endpoint = sqlContext.sql(\"\"\"\n",
    "SELECT endpoint, COUNT(endpoint)\n",
    "FROM NASA\n",
    "GROUP BY endpoint\n",
    "ORDER BY COUNT(endpoint) DESC\n",
    "LIMIT 10\n",
    "\"\"\")\n",
    "endpoint.show()"
   ]
  },
  {
   "cell_type": "markdown",
   "metadata": {},
   "source": [
    "### Ejercicio 5: Mostrar los 10 endpoints más visitados que no tienen código de respuesta =200"
   ]
  },
  {
   "cell_type": "code",
   "execution_count": 23,
   "metadata": {
    "collapsed": false
   },
   "outputs": [
    {
     "name": "stdout",
     "output_type": "stream",
     "text": [
      "+--------------------+---------------+\n",
      "|            endpoint|count(endpoint)|\n",
      "+--------------------+---------------+\n",
      "|/images/NASA-logo...|             25|\n",
      "|/images/KSC-logos...|             24|\n",
      "|/images/MOSAIC-lo...|             17|\n",
      "|/images/WORLD-log...|             17|\n",
      "|/images/USA-logos...|             16|\n",
      "|/images/ksclogo-m...|             10|\n",
      "|/software/winvn/b...|              8|\n",
      "|/images/construct...|              8|\n",
      "|/software/winvn/w...|              8|\n",
      "|/software/winvn/w...|              6|\n",
      "+--------------------+---------------+\n",
      "\n"
     ]
    }
   ],
   "source": [
    "endpoint = sqlContext.sql(\"\"\"\n",
    "SELECT endpoint, COUNT(endpoint)\n",
    "FROM NASA\n",
    "WHERE codigo != 200\n",
    "GROUP BY endpoint\n",
    "ORDER BY COUNT(endpoint) DESC\n",
    "LIMIT 10\n",
    "\"\"\")\n",
    "endpoint.show()"
   ]
  },
  {
   "cell_type": "markdown",
   "metadata": {},
   "source": [
    "### Ejercicio 6:  Calcular el nº de hosts distintos"
   ]
  },
  {
   "cell_type": "code",
   "execution_count": 24,
   "metadata": {
    "collapsed": false
   },
   "outputs": [
    {
     "name": "stdout",
     "output_type": "stream",
     "text": [
      "+--------------------+\n",
      "|count(DISTINCT host)|\n",
      "+--------------------+\n",
      "|                 311|\n",
      "+--------------------+\n",
      "\n"
     ]
    }
   ],
   "source": [
    "hosts_distintos = sqlContext.sql(\"\"\"\n",
    "SELECT COUNT(DISTINCT host)\n",
    "FROM NASA\n",
    "\"\"\")\n",
    "hosts_distintos.show()"
   ]
  },
  {
   "cell_type": "markdown",
   "metadata": {},
   "source": [
    "__NOTA:__ El número de host distintos en la base de datos grandes será otro."
   ]
  },
  {
   "cell_type": "markdown",
   "metadata": {},
   "source": [
    "### Ejercicio 7: Contar el nº de hosts únicos cada día"
   ]
  },
  {
   "cell_type": "code",
   "execution_count": 25,
   "metadata": {
    "collapsed": false
   },
   "outputs": [
    {
     "name": "stdout",
     "output_type": "stream",
     "text": [
      "+--------------------+--------------------+\n",
      "|               fecha|count(DISTINCT host)|\n",
      "+--------------------+--------------------+\n",
      "|1995-08-01 00:00:...|                 311|\n",
      "+--------------------+--------------------+\n",
      "\n"
     ]
    }
   ],
   "source": [
    "hosts_unicos = sqlContext.sql(\"\"\"\n",
    "SELECT fecha, COUNT(DISTINCT host)\n",
    "FROM NASA\n",
    "GROUP BY fecha\n",
    "\"\"\")\n",
    "hosts_unicos.show()"
   ]
  },
  {
   "cell_type": "markdown",
   "metadata": {},
   "source": [
    "__NOTA__: Al trabajar con la base de datos pequeña, se disponde de un único día."
   ]
  },
  {
   "cell_type": "markdown",
   "metadata": {},
   "source": [
    "### Ejercicio 8: Calcular la media de peticiones diarias "
   ]
  },
  {
   "cell_type": "code",
   "execution_count": 26,
   "metadata": {
    "collapsed": false
   },
   "outputs": [
    {
     "name": "stdout",
     "output_type": "stream",
     "text": [
      "+--------------------+------------------------+\n",
      "|               fecha|media_peticiones_diarias|\n",
      "+--------------------+------------------------+\n",
      "|1995-08-01 00:00:...|                  3432.0|\n",
      "+--------------------+------------------------+\n",
      "\n"
     ]
    }
   ],
   "source": [
    "peticiones = sqlContext.sql(\"\"\"\n",
    "SELECT fecha, (COUNT(host) / COUNT(DISTINCT fecha)) AS media_peticiones_diarias \n",
    "FROM NASA\n",
    "GROUP BY fecha\n",
    "\"\"\")\n",
    "peticiones.show()"
   ]
  },
  {
   "cell_type": "markdown",
   "metadata": {},
   "source": [
    "__NOTA:__ Sólo tenemos un día al estar usando la base de datos pequeña. Por tanto, la media en este caso será el número de peticiones que tenemos este día."
   ]
  },
  {
   "cell_type": "markdown",
   "metadata": {},
   "source": [
    "### Ejercicio 9: Mostrar una lista de 40 endpoints distintos que generan código de respuesta =404 "
   ]
  },
  {
   "cell_type": "code",
   "execution_count": 27,
   "metadata": {
    "collapsed": false
   },
   "outputs": [
    {
     "name": "stdout",
     "output_type": "stream",
     "text": [
      "+--------------------+\n",
      "|            endpoint|\n",
      "+--------------------+\n",
      "|/pub/winvn/readme...|\n",
      "|/elv/DELTA/uncons...|\n",
      "|/history/apollo/a...|\n",
      "|/history/apollo/a...|\n",
      "|       /sts-71/launc|\n",
      "|/history/apollo/a...|\n",
      "|/history/apollo/a...|\n",
      "|/shuttle/resource...|\n",
      "|/www/software/win...|\n",
      "|/pub/winvn/releas...|\n",
      "|/history/apollo/a...|\n",
      "|/history/apollo/a...|\n",
      "|/history/history.htm|\n",
      "+--------------------+\n",
      "\n"
     ]
    }
   ],
   "source": [
    "endpoint_404 = sqlContext.sql(\"\"\"\n",
    "SELECT DISTINCT(endpoint)\n",
    "FROM NASA\n",
    "WHERE codigo = 404\n",
    "LIMIT 40\n",
    "\"\"\")\n",
    "endpoint_404.show()"
   ]
  },
  {
   "cell_type": "markdown",
   "metadata": {},
   "source": [
    "__NOTA:__ El resultado esá condicionado por la base de datos."
   ]
  },
  {
   "cell_type": "markdown",
   "metadata": {},
   "source": [
    "### Ejercicio 10: Mostrar el top 25 de endpoints que más códigos de respuesta 404 generan"
   ]
  },
  {
   "cell_type": "code",
   "execution_count": 28,
   "metadata": {
    "collapsed": false
   },
   "outputs": [
    {
     "name": "stdout",
     "output_type": "stream",
     "text": [
      "+--------------------+-------------+\n",
      "|            endpoint|count(codigo)|\n",
      "+--------------------+-------------+\n",
      "|/pub/winvn/releas...|            4|\n",
      "|/history/apollo/a...|            4|\n",
      "|/history/apollo/a...|            2|\n",
      "|/history/apollo/a...|            2|\n",
      "|/pub/winvn/readme...|            2|\n",
      "|/elv/DELTA/uncons...|            1|\n",
      "|       /sts-71/launc|            1|\n",
      "|/history/apollo/a...|            1|\n",
      "|/shuttle/resource...|            1|\n",
      "|/history/apollo/a...|            1|\n",
      "|/history/apollo/a...|            1|\n",
      "|/www/software/win...|            1|\n",
      "|/history/history.htm|            1|\n",
      "+--------------------+-------------+\n",
      "\n"
     ]
    }
   ],
   "source": [
    "endpoint_top25 = sqlContext.sql(\"\"\"\n",
    "SELECT endpoint, COUNT(codigo)\n",
    "FROM NASA\n",
    "WHERE codigo = 404\n",
    "GROUP BY endpoint\n",
    "ORDER BY COUNT(codigo) DESC\n",
    "LIMIT 25\n",
    "\"\"\")\n",
    "endpoint_top25.show()"
   ]
  },
  {
   "cell_type": "markdown",
   "metadata": {},
   "source": [
    "__NOTA:__ El resultado esá condicionado por la base de datos."
   ]
  },
  {
   "cell_type": "markdown",
   "metadata": {},
   "source": [
    "### Ejercicio 11: El top 5 de días que se generaron código de respuestas 404"
   ]
  },
  {
   "cell_type": "code",
   "execution_count": 29,
   "metadata": {
    "collapsed": false
   },
   "outputs": [
    {
     "name": "stdout",
     "output_type": "stream",
     "text": [
      "+--------------------+-------------+\n",
      "|               fecha|count(codigo)|\n",
      "+--------------------+-------------+\n",
      "|1995-08-01 00:00:...|           22|\n",
      "+--------------------+-------------+\n",
      "\n"
     ]
    }
   ],
   "source": [
    "date_top5 = sqlContext.sql(\"\"\"\n",
    "SELECT fecha, COUNT(codigo)\n",
    "FROM NASA\n",
    "WHERE codigo = 404\n",
    "GROUP BY fecha\n",
    "ORDER BY COUNT(codigo) DESC\n",
    "LIMIT 5\n",
    "\"\"\")\n",
    "date_top5.show()"
   ]
  },
  {
   "cell_type": "markdown",
   "metadata": {},
   "source": [
    "__NOTA:__ Sólo tenemos un día al estar operando con la base de datos pequeña."
   ]
  }
 ],
 "metadata": {
  "kernelspec": {
   "display_name": "Python 3",
   "language": "python",
   "name": "python3"
  },
  "language_info": {
   "codemirror_mode": {
    "name": "ipython",
    "version": 3
   },
   "file_extension": ".py",
   "mimetype": "text/x-python",
   "name": "python",
   "nbconvert_exporter": "python",
   "pygments_lexer": "ipython3",
   "version": "3.5.2"
  }
 },
 "nbformat": 4,
 "nbformat_minor": 2
}
