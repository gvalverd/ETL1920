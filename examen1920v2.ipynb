{
 "cells": [
  {
   "cell_type": "markdown",
   "metadata": {},
   "source": [
    "## 1. The World Bank's international debt data\n",
    "<p>No es que los humanos solo tengamos deudas para administrar nuestras necesidades. Un país también puede endeudarse para administrar su economía. Por ejemplo, el gasto en infraestructura es un ingrediente costoso requerido para que los ciudadanos de un país lleven una vida cómoda. El Banco Mundial es la organización que proporciona deuda a los países.</p>\n",
    "\n",
    "<!-- <p>En este notebook, vamos a analizar los datos de la deuda internacional recopilados por el Banco Mundial. El conjunto de datos contiene información sobre el monto de la deuda (en USD) que deben los países en desarrollo en varias categorías.</p>  -->\n",
    "    "
   ]
  },
  {
   "cell_type": "markdown",
   "metadata": {},
   "source": [
    "\"Disbursements on external debt, long-term (DIS, current US$)\",DT.DIS.DLXF.CD\n",
    "\"Interest payments on external debt, long-term (INT, current US$)\",DT.INT.DLXF.CD\n",
    "\"PPG, bilateral (AMT, current US$)\",DT.AMT.BLAT.CD\n",
    "\"PPG, bilateral (DIS, current US$)\",DT.DIS.BLAT.CD\n",
    "\"PPG, bilateral (INT, current US$)\",DT.INT.BLAT.CD\n",
    "\"PPG, multilateral (AMT, current US$)\",DT.AMT.MLAT.CD\n",
    "\"PPG, multilateral (DIS, current US$)\",DT.DIS.MLAT.CD\n",
    "\"PPG, multilateral (INT, current US$)\",DT.INT.MLAT.CD\n",
    "\"PPG, official creditors (AMT, current US$)\",DT.AMT.OFFT.CD\n",
    "\"PPG, official creditors (DIS, current US$)\",DT.DIS.OFFT.CD\n",
    "\"PPG, official creditors (INT, current US$)\",DT.INT.OFFT.CD\n",
    "\"Principal repayments on external debt, long-term (AMT, current US$)\",DT.AMT.DLXF.CD\n",
    "\"Interest payments on external debt, private nonguaranteed (PNG) (INT, current US$)\",DT.INT.DPNG.CD\n",
    "\"PPG, bonds (AMT, current US$)\",DT.AMT.PBND.CD\n",
    "\"PPG, bonds (INT, current US$)\",DT.INT.PBND.CD\n",
    "\"PPG, commercial banks (AMT, current US$)\",DT.AMT.PCBK.CD\n",
    "\"PPG, commercial banks (DIS, current US$)\",DT.DIS.PCBK.CD\n",
    "\"PPG, commercial banks (INT, current US$)\",DT.INT.PCBK.CD\n",
    "\"PPG, other private creditors (AMT, current US$)\",DT.AMT.PROP.CD\n",
    "\"PPG, other private creditors (DIS, current US$)\",DT.DIS.PROP.CD\n",
    "\"PPG, other private creditors (INT, current US$)\",DT.INT.PROP.CD\n",
    "\"PPG, private creditors (AMT, current US$)\",DT.AMT.PRVT.CD\n",
    "\"PPG, private creditors (DIS, current US$)\",DT.DIS.PRVT.CD\n",
    "\"PPG, private creditors (INT, current US$)\",DT.INT.PRVT.CD\n",
    "\"Principal repayments on external debt, private nonguaranteed (PNG) (AMT, current US$)\",DT.AMT.DPNG.CD"
   ]
  },
  {
   "cell_type": "markdown",
   "metadata": {},
   "source": [
    "<p>Vamos a encontrar las respuestas a preguntas como:\n",
    "\n",
    "<p>¿Cuál es el monto total de la deuda que deben los países enumerados en el conjunto de datos?\n",
    "<p>¿Qué país posee la cantidad máxima de deuda y cómo se ve esa cantidad?\n",
    "<p>¿Cuál es el monto promedio de la deuda de los países a través de diferentes indicadores de deuda?\n",
    "    \n",
    "Además tenemos otro dataset en el que encontramos información histórica de algunos índices de desarrollo, entre los que se encuentran algunos de deuda como son:"
   ]
  },
  {
   "cell_type": "markdown",
   "metadata": {},
   "source": [
    "Series Name,Series Code\n",
    "\"Birth rate, crude (per 1,000 people)\",SP.DYN.CBRT.IN\n",
    "\n",
    "\"Central government debt, total (current LCU)\",GC.DOD.TOTL.CN\n",
    "\n",
    "\"Central government debt, total (% of GDP)\",GC.DOD.TOTL.GD.ZS"
   ]
  },
  {
   "cell_type": "markdown",
   "metadata": {},
   "source": [
    "#### 1. Inicializar y cargar el contexto spark"
   ]
  },
  {
   "cell_type": "code",
   "execution_count": 40,
   "metadata": {},
   "outputs": [],
   "source": [
    "    # Importo FindSpark para encontrar Spark en el sistema\n",
    "import findspark\n",
    "findspark.init()\n",
    "    \n",
    "    # Inicio el contesto spark\n",
    "from pyspark import SparkContext\n",
    "sc = SparkContext.getOrCreate()\n",
    "    \n",
    "    # Debido aque voy a trabajar con sparkSQL introduzo el contexto sparksql\n",
    "from pyspark.sql import SparkSession\n",
    "    # Importamos Row para darle nombre a los RDD\n",
    "from pyspark.sql import Row\n",
    "    # Importamos las funciones de pysparksql\n",
    "from pyspark.sql.functions import *\n",
    "    # Importamos los distintos tipos que puede ser uno a uno o todos juntos con el simbolo *\n",
    "from pyspark.sql.types import *\n",
    "from pyspark.sql.types import StructType, IntegerType, StringType, FloatType\n",
    "\n",
    "    #Importamos Statictics de mllib para calcular los estadisticos basicos\n",
    "from pyspark.mllib.stat import Statistics  \n",
    "\n",
    "    # Importamos Handy para hacer Scatter Plots\n",
    "from handyspark import *\n",
    "    # Importamos Correlation de stats para calcular correlaciones\n",
    "from pyspark.ml.stat import Correlation\n",
    "\n",
    "    # Configuracion de spark a 5 gb\n",
    "from pyspark import SparkConf\n",
    "conf = SparkConf()\n",
    "conf.set(\"spark.driver.memory\", \"5g\")\n",
    "\n",
    "    # Creo la SparkSession\n",
    "spark = SparkSession.builder \\\n",
    "            .config(conf=conf) \\\n",
    "            .master(\"local[*]\") \\\n",
    "            .getOrCreate()"
   ]
  },
  {
   "cell_type": "code",
   "execution_count": 41,
   "metadata": {},
   "outputs": [],
   "source": [
    "    # Creamos los objetos con los nombres de los archivos para llamarlos luego\n",
    "ind_desarrollo = \"indicadores_desarrollo.csv\"\n",
    "ind_deuda = \"indicadores_deuda.csv\""
   ]
  },
  {
   "cell_type": "markdown",
   "metadata": {},
   "source": [
    "### Indice de desarrollo"
   ]
  },
  {
   "cell_type": "code",
   "execution_count": 42,
   "metadata": {},
   "outputs": [
    {
     "name": "stdout",
     "output_type": "stream",
     "text": [
      "<class 'pyspark.rdd.RDD'>\n"
     ]
    }
   ],
   "source": [
    "    # Cargamos el fichero con los indices de desarrollo como rdd\n",
    "raw_desarrollo = sc.textFile(ind_desarrollo)\n",
    "    \n",
    "    # Muestrame el tipo de objeto que se acaba de crear\n",
    "print(type(raw_desarrollo))"
   ]
  },
  {
   "cell_type": "code",
   "execution_count": 43,
   "metadata": {},
   "outputs": [
    {
     "data": {
      "text/plain": [
       "['country_name,country_code,anho,GC.DOD.TOTL.CN,GC.DOD.TOTL.GD.ZS,SP.DYN.CBRT.IN',\n",
       " 'Albania,ALB,2014 [YR2014],1023040800000,73.3202469198429,12.259',\n",
       " 'Albania,ALB,2015 [YR2015],1145500940000,79.8644448747259,12.197',\n",
       " 'Albania,ALB,2016 [YR2016],1188814490000,80.7355748396923,12.08',\n",
       " 'Australia,AUS,2014 [YR2014],674700000,0.042207528166503,13.2']"
      ]
     },
     "execution_count": 43,
     "metadata": {},
     "output_type": "execute_result"
    }
   ],
   "source": [
    "    # Le aplico la accion de transformacion take para observar como esta \n",
    "raw_desarrollo.take(5)"
   ]
  },
  {
   "cell_type": "markdown",
   "metadata": {},
   "source": [
    "Aqui ya nos vamos dando cuenta de que lleva cabecera y como estan estructurados los datos"
   ]
  },
  {
   "cell_type": "code",
   "execution_count": 44,
   "metadata": {},
   "outputs": [
    {
     "data": {
      "text/plain": [
       "135"
      ]
     },
     "execution_count": 44,
     "metadata": {},
     "output_type": "execute_result"
    }
   ],
   "source": [
    "    # otra de las acciones principales que se pueden aplicar a un rdd una vez hecha la transformacion es count\n",
    "raw_desarrollo.count()"
   ]
  },
  {
   "cell_type": "code",
   "execution_count": 45,
   "metadata": {},
   "outputs": [],
   "source": [
    "    # Seleccionamos la primera fila como la cabecera \n",
    "header = raw_desarrollo.take(1)[0]\n",
    "    # Eliminamos la cabecera del rdd para poder trabajar con el\n",
    "raw_desarrollo = raw_desarrollo \\\n",
    "    .filter(lambda line: line!=header)"
   ]
  },
  {
   "cell_type": "code",
   "execution_count": 46,
   "metadata": {},
   "outputs": [
    {
     "data": {
      "text/plain": [
       "['Albania,ALB,2014 [YR2014],1023040800000,73.3202469198429,12.259',\n",
       " 'Albania,ALB,2015 [YR2015],1145500940000,79.8644448747259,12.197',\n",
       " 'Albania,ALB,2016 [YR2016],1188814490000,80.7355748396923,12.08',\n",
       " 'Australia,AUS,2014 [YR2014],674700000,0.042207528166503,13.2',\n",
       " 'Australia,AUS,2015 [YR2015],762718000,0.0469480198522591,12.9']"
      ]
     },
     "execution_count": 46,
     "metadata": {},
     "output_type": "execute_result"
    }
   ],
   "source": [
    "    # Comprobamos como queda el rdd\n",
    "raw_desarrollo.take(5)"
   ]
  },
  {
   "cell_type": "code",
   "execution_count": 47,
   "metadata": {},
   "outputs": [
    {
     "data": {
      "text/plain": [
       "[['Albania',\n",
       "  'ALB',\n",
       "  '2014 [YR2014]',\n",
       "  '1023040800000',\n",
       "  '73.3202469198429',\n",
       "  '12.259'],\n",
       " ['Albania',\n",
       "  'ALB',\n",
       "  '2015 [YR2015]',\n",
       "  '1145500940000',\n",
       "  '79.8644448747259',\n",
       "  '12.197'],\n",
       " ['Albania',\n",
       "  'ALB',\n",
       "  '2016 [YR2016]',\n",
       "  '1188814490000',\n",
       "  '80.7355748396923',\n",
       "  '12.08'],\n",
       " ['Australia',\n",
       "  'AUS',\n",
       "  '2014 [YR2014]',\n",
       "  '674700000',\n",
       "  '0.042207528166503',\n",
       "  '13.2'],\n",
       " ['Australia',\n",
       "  'AUS',\n",
       "  '2015 [YR2015]',\n",
       "  '762718000',\n",
       "  '0.0469480198522591',\n",
       "  '12.9']]"
      ]
     },
     "execution_count": 47,
     "metadata": {},
     "output_type": "execute_result"
    }
   ],
   "source": [
    "    # Parseamos el rdd con la funcion split\n",
    "raw_desarrollo_parsed = raw_desarrollo \\\n",
    "                        .map(lambda x: x.split(\",\"))\n",
    "\n",
    "    # Con la funcion de accion take le pedimos que nos muestre los resultados\n",
    "raw_desarrollo_parsed.take(5)"
   ]
  },
  {
   "cell_type": "code",
   "execution_count": 48,
   "metadata": {},
   "outputs": [
    {
     "data": {
      "text/plain": [
       "PythonRDD[7] at RDD at PythonRDD.scala:53"
      ]
     },
     "execution_count": 48,
     "metadata": {},
     "output_type": "execute_result"
    }
   ],
   "source": [
    "    # Aplicamos un persist ya que estaremos utilizando el fichero mas adelante\n",
    "raw_desarrollo_parsed.persist()"
   ]
  },
  {
   "cell_type": "code",
   "execution_count": 49,
   "metadata": {},
   "outputs": [
    {
     "data": {
      "text/plain": [
       "134"
      ]
     },
     "execution_count": 49,
     "metadata": {},
     "output_type": "execute_result"
    }
   ],
   "source": [
    "    # ejecutamos el conteo para ver los registros\n",
    "raw_desarrollo_parsed.count() "
   ]
  },
  {
   "cell_type": "markdown",
   "metadata": {},
   "source": [
    "Ahora voy a cargar el fichero como spark Data Frame para poder trabajar con el con comando SQL"
   ]
  },
  {
   "cell_type": "code",
   "execution_count": 50,
   "metadata": {},
   "outputs": [
    {
     "data": {
      "text/plain": [
       "[Row(country_name='Albania', country_code='ALB', year='2014 [YR2014]', GC_DOD_TOTL_CN=1023040815104.0, GC_DOD_TOTL_GD_ZS=73.32024383544922, SP_DYN_CBRT_IN=12.258999824523926),\n",
       " Row(country_name='Albania', country_code='ALB', year='2015 [YR2015]', GC_DOD_TOTL_CN=1145500991488.0, GC_DOD_TOTL_GD_ZS=79.86444854736328, SP_DYN_CBRT_IN=12.196999549865723)]"
      ]
     },
     "execution_count": 50,
     "metadata": {},
     "output_type": "execute_result"
    }
   ],
   "source": [
    "    # Ya que conocemos la estructura del fichero le pongo la estructura que debe llevar\n",
    "schema = StructType([\n",
    "    StructField(\"country_name\", StringType(), True),\n",
    "    StructField(\"country_code\", StringType(), True),\n",
    "    StructField(\"year\", StringType(), True),\n",
    "    StructField(\"GC_DOD_TOTL_CN\", FloatType(), True),\n",
    "    StructField(\"GC_DOD_TOTL_GD_ZS\", FloatType(), True),\n",
    "    StructField(\"SP_DYN_CBRT_IN\", FloatType(), True)\n",
    "])\n",
    "\n",
    "    # Utilizamos la estructura anterior para crear el fichero. Le pedimos que nos ponga la cabecera y lo separe por ,\n",
    "raw_desarrollo_parsed_data = spark \\\n",
    "    .read.format(\"com.databricks.spark.csv\") \\\n",
    "    .option(\"header\", \"true\") \\\n",
    "    .schema(schema) \\\n",
    "    .option(\"mode\", \"PERMISSIVE\") \\\n",
    "    .option(\"delimiter\", \",\") \\\n",
    "    .load(ind_desarrollo)\n",
    "raw_desarrollo_parsed_data.take(2)\n"
   ]
  },
  {
   "cell_type": "code",
   "execution_count": 51,
   "metadata": {},
   "outputs": [
    {
     "name": "stdout",
     "output_type": "stream",
     "text": [
      "root\n",
      " |-- country_name: string (nullable = true)\n",
      " |-- country_code: string (nullable = true)\n",
      " |-- year: string (nullable = true)\n",
      " |-- GC_DOD_TOTL_CN: float (nullable = true)\n",
      " |-- GC_DOD_TOTL_GD_ZS: float (nullable = true)\n",
      " |-- SP_DYN_CBRT_IN: float (nullable = true)\n",
      "\n"
     ]
    }
   ],
   "source": [
    "    # Muestrame el esquema con printSchema para ver si resulto bien la carga del archivo\n",
    "raw_desarrollo_parsed_data.printSchema()"
   ]
  },
  {
   "cell_type": "markdown",
   "metadata": {},
   "source": [
    "### Indice de deuda"
   ]
  },
  {
   "cell_type": "code",
   "execution_count": 52,
   "metadata": {},
   "outputs": [
    {
     "data": {
      "text/plain": [
       "[Row(country_name='Afghanistan', country_code='AFG', DT_AMT_BLAT_CD=61739336.0, DT_AMT_DLXF_CD=100847184.0, DT_AMT_DPNG_CD=None, DT_AMT_MLAT_CD=39107844.0, DT_AMT_OFFT_CD=100847184.0, DT_AMT_PBND_CD=None, DT_AMT_PCBK_CD=None, DT_AMT_PROP_CD=None, DT_AMT_PRVT_CD=None, DT_DIS_BLAT_CD=49114728.0, DT_DIS_DLXF_CD=72894456.0, DT_DIS_MLAT_CD=23779724.0, DT_DIS_OFFT_CD=72894456.0, DT_DIS_PCBK_CD=None, DT_DIS_PROP_CD=None, DT_DIS_PRVT_CD=None, DT_INT_BLAT_CD=39903620.0, DT_INT_DLXF_CD=53239440.0, DT_INT_DPNG_CD=None, DT_INT_MLAT_CD=13335820.0, DT_INT_OFFT_CD=53239440.0, DT_INT_PBND_CD=None, DT_INT_PCBK_CD=None, DT_INT_PROP_CD=None, DT_INT_PRVT_CD=None),\n",
       " Row(country_name='Albania', country_code='ALB', DT_AMT_BLAT_CD=54250280.0, DT_AMT_DLXF_CD=790248704.0, DT_AMT_DPNG_CD=514185632.0, DT_AMT_MLAT_CD=182197616.0, DT_AMT_OFFT_CD=236447904.0, DT_AMT_PBND_CD=0.0, DT_AMT_PCBK_CD=39445140.0, DT_AMT_PROP_CD=170018.40625, DT_AMT_PRVT_CD=39615156.0, DT_DIS_BLAT_CD=76050616.0, DT_DIS_DLXF_CD=317194528.0, DT_DIS_MLAT_CD=234321248.0, DT_DIS_OFFT_CD=310371872.0, DT_DIS_PCBK_CD=4542665.0, DT_DIS_PROP_CD=2279989.25, DT_DIS_PRVT_CD=6822654.0, DT_INT_BLAT_CD=13847334.0, DT_INT_DLXF_CD=165602384.0, DT_INT_DPNG_CD=87884000.0, DT_INT_MLAT_CD=28101536.0, DT_INT_OFFT_CD=41948868.0, DT_INT_PBND_CD=31030688.0, DT_INT_PCBK_CD=4618504.5, DT_INT_PROP_CD=120324.703125, DT_INT_PRVT_CD=35769516.0)]"
      ]
     },
     "execution_count": 52,
     "metadata": {},
     "output_type": "execute_result"
    }
   ],
   "source": [
    "    # Ahora hare lo mismo con el fichero de indices de deuda. Le coloco la estructura y luego la usamos\n",
    "schema = StructType([\n",
    "    StructField(\"country_name\", StringType(), True),\n",
    "    StructField(\"country_code\", StringType(), True),\n",
    "    StructField(\"DT_AMT_BLAT_CD\", FloatType(), True),\n",
    "    StructField(\"DT_AMT_DLXF_CD\", FloatType(), True),\n",
    "    StructField(\"DT_AMT_DPNG_CD\", FloatType(), True),\n",
    "    StructField(\"DT_AMT_MLAT_CD\", FloatType(), True),\n",
    "    StructField(\"DT_AMT_OFFT_CD\", FloatType(), True),\n",
    "    StructField(\"DT_AMT_PBND_CD\", FloatType(), True),\n",
    "    StructField(\"DT_AMT_PCBK_CD\", FloatType(), True),\n",
    "    StructField(\"DT_AMT_PROP_CD\", FloatType(), True),\n",
    "    StructField(\"DT_AMT_PRVT_CD\", FloatType(), True),\n",
    "    StructField(\"DT_DIS_BLAT_CD\", FloatType(), True),\n",
    "    StructField(\"DT_DIS_DLXF_CD\", FloatType(), True),\n",
    "    StructField(\"DT_DIS_MLAT_CD\", FloatType(), True),\n",
    "    StructField(\"DT_DIS_OFFT_CD\", FloatType(), True),\n",
    "    StructField(\"DT_DIS_PCBK_CD\", FloatType(), True),\n",
    "    StructField(\"DT_DIS_PROP_CD\", FloatType(), True),\n",
    "    StructField(\"DT_DIS_PRVT_CD\", FloatType(), True),\n",
    "    StructField(\"DT_INT_BLAT_CD\", FloatType(), True),\n",
    "    StructField(\"DT_INT_DLXF_CD\", FloatType(), True),\n",
    "    StructField(\"DT_INT_DPNG_CD\", FloatType(), True),\n",
    "    StructField(\"DT_INT_MLAT_CD\", FloatType(), True),\n",
    "    StructField(\"DT_INT_OFFT_CD\", FloatType(), True),\n",
    "    StructField(\"DT_INT_PBND_CD\", FloatType(), True),\n",
    "    StructField(\"DT_INT_PCBK_CD\", FloatType(), True),\n",
    "    StructField(\"DT_INT_PROP_CD\", FloatType(), True),\n",
    "    StructField(\"DT_INT_PRVT_CD\", FloatType(), True)\n",
    "])\n",
    "\n",
    "    # Cargamos el spark Data Frame del mismo modo que trabajamos el fichero de indices de desarrollo\n",
    "raw_deuda_parsed = spark \\\n",
    "    .read.format(\"com.databricks.spark.csv\") \\\n",
    "    .option(\"header\", \"true\") \\\n",
    "    .schema(schema) \\\n",
    "    .option(\"mode\", \"PERMISSIVE\") \\\n",
    "    .option(\"delimiter\", \",\") \\\n",
    "    .load(ind_deuda)\n",
    "\n",
    "     # Con un take observamos los resultados\n",
    "raw_deuda_parsed.take(2)"
   ]
  },
  {
   "cell_type": "markdown",
   "metadata": {},
   "source": [
    "Aqui podemos observar que esta bien cargado el spark data frame ya que, aquellos indicadores que no tienen valores, tienen una etiqueta None cuando se encuentran vacios. Ahora continuamos con el conteo"
   ]
  },
  {
   "cell_type": "code",
   "execution_count": 53,
   "metadata": {},
   "outputs": [
    {
     "data": {
      "text/plain": [
       "124"
      ]
     },
     "execution_count": 53,
     "metadata": {},
     "output_type": "execute_result"
    }
   ],
   "source": [
    "    # Cuentame la cantidad de observaciones\n",
    "raw_deuda_parsed.count()"
   ]
  },
  {
   "cell_type": "code",
   "execution_count": 54,
   "metadata": {},
   "outputs": [
    {
     "name": "stdout",
     "output_type": "stream",
     "text": [
      "root\n",
      " |-- country_name: string (nullable = true)\n",
      " |-- country_code: string (nullable = true)\n",
      " |-- DT_AMT_BLAT_CD: float (nullable = true)\n",
      " |-- DT_AMT_DLXF_CD: float (nullable = true)\n",
      " |-- DT_AMT_DPNG_CD: float (nullable = true)\n",
      " |-- DT_AMT_MLAT_CD: float (nullable = true)\n",
      " |-- DT_AMT_OFFT_CD: float (nullable = true)\n",
      " |-- DT_AMT_PBND_CD: float (nullable = true)\n",
      " |-- DT_AMT_PCBK_CD: float (nullable = true)\n",
      " |-- DT_AMT_PROP_CD: float (nullable = true)\n",
      " |-- DT_AMT_PRVT_CD: float (nullable = true)\n",
      " |-- DT_DIS_BLAT_CD: float (nullable = true)\n",
      " |-- DT_DIS_DLXF_CD: float (nullable = true)\n",
      " |-- DT_DIS_MLAT_CD: float (nullable = true)\n",
      " |-- DT_DIS_OFFT_CD: float (nullable = true)\n",
      " |-- DT_DIS_PCBK_CD: float (nullable = true)\n",
      " |-- DT_DIS_PROP_CD: float (nullable = true)\n",
      " |-- DT_DIS_PRVT_CD: float (nullable = true)\n",
      " |-- DT_INT_BLAT_CD: float (nullable = true)\n",
      " |-- DT_INT_DLXF_CD: float (nullable = true)\n",
      " |-- DT_INT_DPNG_CD: float (nullable = true)\n",
      " |-- DT_INT_MLAT_CD: float (nullable = true)\n",
      " |-- DT_INT_OFFT_CD: float (nullable = true)\n",
      " |-- DT_INT_PBND_CD: float (nullable = true)\n",
      " |-- DT_INT_PCBK_CD: float (nullable = true)\n",
      " |-- DT_INT_PROP_CD: float (nullable = true)\n",
      " |-- DT_INT_PRVT_CD: float (nullable = true)\n",
      "\n"
     ]
    }
   ],
   "source": [
    "    # Muestrame el esquema para ver si esta bien la carga\n",
    "raw_deuda_parsed.printSchema()"
   ]
  },
  {
   "cell_type": "code",
   "execution_count": 55,
   "metadata": {},
   "outputs": [
    {
     "data": {
      "text/plain": [
       "DataFrame[country_name: string, country_code: string, DT_AMT_BLAT_CD: float, DT_AMT_DLXF_CD: float, DT_AMT_DPNG_CD: float, DT_AMT_MLAT_CD: float, DT_AMT_OFFT_CD: float, DT_AMT_PBND_CD: float, DT_AMT_PCBK_CD: float, DT_AMT_PROP_CD: float, DT_AMT_PRVT_CD: float, DT_DIS_BLAT_CD: float, DT_DIS_DLXF_CD: float, DT_DIS_MLAT_CD: float, DT_DIS_OFFT_CD: float, DT_DIS_PCBK_CD: float, DT_DIS_PROP_CD: float, DT_DIS_PRVT_CD: float, DT_INT_BLAT_CD: float, DT_INT_DLXF_CD: float, DT_INT_DPNG_CD: float, DT_INT_MLAT_CD: float, DT_INT_OFFT_CD: float, DT_INT_PBND_CD: float, DT_INT_PCBK_CD: float, DT_INT_PROP_CD: float, DT_INT_PRVT_CD: float]"
      ]
     },
     "execution_count": 55,
     "metadata": {},
     "output_type": "execute_result"
    }
   ],
   "source": [
    "     # Aplicamos un persist ya que estaremos utilizando el fichero mas adelante\n",
    "raw_deuda_parsed.persist()"
   ]
  },
  {
   "cell_type": "markdown",
   "metadata": {},
   "source": [
    "##### 2. Número de países distintos en cada dataset. Coinciden?"
   ]
  },
  {
   "cell_type": "markdown",
   "metadata": {},
   "source": [
    "Para responder a esta pregunta utilizaremos unas query de rdd's con una funcion map + lambda + distinct. Luego le pedimos el conteo para que nos saque el numero de paises distintos. Haremos lo mismo para ambos ficheros para ver si coincide o no el numero de paises distintos."
   ]
  },
  {
   "cell_type": "code",
   "execution_count": 56,
   "metadata": {},
   "outputs": [
    {
     "data": {
      "text/plain": [
       "51"
      ]
     },
     "execution_count": 56,
     "metadata": {},
     "output_type": "execute_result"
    }
   ],
   "source": [
    "    # Toma el primer objeto de la lista y muestrame los distintos, luego, cuentamelos.\n",
    "raw_desarrollo_parsed.map(lambda x: x[0]).distinct().count()"
   ]
  },
  {
   "cell_type": "code",
   "execution_count": 57,
   "metadata": {},
   "outputs": [
    {
     "data": {
      "text/plain": [
       "124"
      ]
     },
     "execution_count": 57,
     "metadata": {},
     "output_type": "execute_result"
    }
   ],
   "source": [
    "    # Veamos ahora los paises distintos en el dataset de deuda\n",
    "paises_data_deuda = raw_deuda_parsed.rdd.map(lambda x: x[0]).distinct()\n",
    "paises_data_deuda.count()"
   ]
  },
  {
   "cell_type": "markdown",
   "metadata": {},
   "source": [
    "Por tanto al tener 51 paises distintos en el dataset de indicadores de desarrollo y 124 paises distintos en el dataset de deuda podemos decir que no coincide la cantidad de paises distintos"
   ]
  },
  {
   "cell_type": "markdown",
   "metadata": {},
   "source": [
    "##### 3. Total de deuda contraida por cada pais: total amount of debt (in USD) DT.AMT.MLAT.CD"
   ]
  },
  {
   "cell_type": "markdown",
   "metadata": {},
   "source": [
    "Responderemos esta pregunta con una query de rdd y con query SQL para el spark Data Frame. Para hacerlo con rdd primero usamos la funcion rdd para que podamos realizar una query rdd en spark data frames, luego usamos una funcion map con lambda y finalmente un take para ver los resultados. "
   ]
  },
  {
   "cell_type": "code",
   "execution_count": 58,
   "metadata": {},
   "outputs": [
    {
     "data": {
      "text/plain": [
       "[('Afghanistan', 39107844.0),\n",
       " ('Albania', 182197616.0),\n",
       " ('Algeria', 0.0),\n",
       " ('Angola', 124688688.0),\n",
       " ('Armenia', 94331208.0),\n",
       " ('Azerbaijan', 513623648.0),\n",
       " ('Bangladesh', 1039564672.0),\n",
       " ('Belarus', 595438848.0),\n",
       " ('Belize', 29683326.0),\n",
       " ('Benin', 91631640.0),\n",
       " ('Bhutan', 17390420.0),\n",
       " ('Bolivia', 357721216.0),\n",
       " ('Bosnia and Herzegovina', 290170944.0),\n",
       " ('Botswana', 125652344.0),\n",
       " ('Brazil', 2514318848.0),\n",
       " ('Bulgaria', 228993024.0),\n",
       " ('Burkina Faso', 119510896.0),\n",
       " ('Burundi', 16115112.0),\n",
       " ('Cabo Verde', 39970124.0),\n",
       " ('Cambodia', 72307000.0),\n",
       " ('Cameroon', 152095968.0),\n",
       " ('Central African Republic', 2241813.75),\n",
       " ('Chad', 95738712.0),\n",
       " ('China', 2615723776.0),\n",
       " ('Colombia', 1100907520.0),\n",
       " ('Comoros', 2182053.0),\n",
       " ('Congo', None),\n",
       " ('Congo Rep', 18114468.0),\n",
       " ('Costa Rica', 272808256.0),\n",
       " (\"Cote d'Ivoire\", 84629408.0),\n",
       " ('Djibouti', 34254908.0),\n",
       " ('Dominica', 11130356.0),\n",
       " ('Dominican Republic', 254728304.0),\n",
       " ('Ecuador', 578894784.0),\n",
       " ('Egypt Arab Rep', 2424904192.0),\n",
       " ('El Salvador', 298939680.0),\n",
       " ('Eritrea', 15482475.0),\n",
       " ('Eswatini', 18130218.0),\n",
       " ('Ethiopia', 171590720.0),\n",
       " ('Fiji', 9082443.0),\n",
       " ('Gabon', 62404132.0),\n",
       " ('Gambia The', 33231516.0),\n",
       " ('Georgia', 144062400.0),\n",
       " ('Ghana', 130202000.0),\n",
       " ('Grenada', 13740889.0),\n",
       " ('Guatemala', 339822240.0),\n",
       " ('Guinea', 29819676.0),\n",
       " ('Guinea-Bissau', 6713257.0),\n",
       " ('Guyana', 34651808.0),\n",
       " ('Haiti', 10087969.0),\n",
       " ('Honduras', 148225056.0),\n",
       " ('IDA only', 4884095488.0),\n",
       " ('India', 4545609728.0),\n",
       " ('Indonesia', 2469145856.0),\n",
       " ('Iran Islamic Rep', 78354064.0),\n",
       " ('Jamaica', 174427648.0),\n",
       " ('Jordan', 270498720.0),\n",
       " ('Kazakhstan', 1079948928.0),\n",
       " ('Kenya', 391340896.0),\n",
       " ('Kosovo', 33590156.0),\n",
       " ('Kyrgyz Republic', 75278040.0),\n",
       " ('Lao PDR', 80684112.0),\n",
       " ('Least developed countries: UN classification', 4084275456.0),\n",
       " ('Lebanon', 167638096.0),\n",
       " ('Lesotho', 32459404.0),\n",
       " ('Liberia', 7383619.5),\n",
       " ('Macedonia', 571657472.0),\n",
       " ('Madagascar', 60669368.0),\n",
       " ('Malawi', 35659832.0),\n",
       " ('Maldives', 17896144.0),\n",
       " ('Mali', 135472240.0),\n",
       " ('Mauritania', 184408224.0),\n",
       " ('Mauritius', 74568336.0),\n",
       " ('Mexico', 864181888.0),\n",
       " ('Moldova', 135842864.0),\n",
       " ('Mongolia', 75937144.0),\n",
       " ('Montenegro', 77948064.0),\n",
       " ('Morocco', 1381649280.0),\n",
       " ('Mozambique', 91225624.0),\n",
       " ('Myanmar', 30569846.0),\n",
       " ('Nepal', 163747520.0),\n",
       " ('Nicaragua', 181115904.0),\n",
       " ('Niger', 115132368.0),\n",
       " ('Nigeria', 297246688.0),\n",
       " ('Pakistan', 1578651392.0),\n",
       " ('Papua New Guinea', 78345328.0),\n",
       " ('Paraguay', 207662032.0),\n",
       " ('Peru', 553634112.0),\n",
       " ('Philippines', 739056448.0),\n",
       " ('Romania', 1798305152.0),\n",
       " ('Russian Federation', 141669504.0),\n",
       " ('Rwanda', 31090382.0),\n",
       " ('Samoa', 9987487.0),\n",
       " ('Sao Tome and Principe', 2418947.5),\n",
       " ('Senegal', 170437936.0),\n",
       " ('Serbia', 715223936.0),\n",
       " ('Sierra Leone', 24144262.0),\n",
       " ('Solomon Islands', 3952829.0),\n",
       " ('Somalia', 24683262.0),\n",
       " ('South Africa', 346393760.0),\n",
       " ('South Asia', 7851740160.0),\n",
       " ('Sri Lanka', 449771968.0),\n",
       " ('St. Lucia', 15019216.0),\n",
       " ('St. Vincent and the Grenadines', 21615600.0),\n",
       " ('Sudan', 217194880.0),\n",
       " ('Syrian Arab Republic', 147903568.0),\n",
       " ('Tajikistan', 59062984.0),\n",
       " ('Tanzania', 141436640.0),\n",
       " ('Thailand', 39071572.0),\n",
       " ('Timor-Leste', 825000.0),\n",
       " ('Togo', 44198800.0),\n",
       " ('Tonga', 2791253.25),\n",
       " ('Tunisia', 956604032.0),\n",
       " ('Turkey', 2932698624.0),\n",
       " ('Turkmenistan', 5831189.0),\n",
       " ('Uganda', 145310080.0),\n",
       " ('Ukraine', 1072472832.0),\n",
       " ('Uzbekistan', 244240576.0),\n",
       " ('Vanuatu', 2593419.25),\n",
       " ('Venezuela RB', 509512576.0),\n",
       " ('Vietnam', 947632128.0),\n",
       " ('Yemen Rep', 220743136.0),\n",
       " ('Zambia', 53068964.0),\n",
       " ('Zimbabwe', 26697906.0)]"
      ]
     },
     "execution_count": 58,
     "metadata": {},
     "output_type": "execute_result"
    }
   ],
   "source": [
    "   # Aplicamos un map con lambda para que seleccione la columna 0 (country_name) y la 5 (DT.AMT.MLAT.CD)\n",
    "df_pruebita = raw_deuda_parsed.rdd.map(lambda x: (x[0], x[5]))\n",
    "\n",
    "    # Hacemos un take para que nos muestre los paises con el indicador de deuda\n",
    "df_pruebita.take(125)"
   ]
  },
  {
   "cell_type": "markdown",
   "metadata": {},
   "source": [
    "Para hacer la query con SQL creamos una tabla temporal a partir del dataframe creado y luego hacemos la query sql con un SELECT + FROM.\n",
    "\n",
    "Finalmente hacemos un take segun esa query para ver los resultados."
   ]
  },
  {
   "cell_type": "code",
   "execution_count": 59,
   "metadata": {},
   "outputs": [
    {
     "data": {
      "text/plain": [
       "[Row(country_name='Afghanistan', DT_AMT_MLAT_CD=39107844.0),\n",
       " Row(country_name='Albania', DT_AMT_MLAT_CD=182197616.0),\n",
       " Row(country_name='Algeria', DT_AMT_MLAT_CD=0.0),\n",
       " Row(country_name='Angola', DT_AMT_MLAT_CD=124688688.0),\n",
       " Row(country_name='Armenia', DT_AMT_MLAT_CD=94331208.0)]"
      ]
     },
     "execution_count": 59,
     "metadata": {},
     "output_type": "execute_result"
    }
   ],
   "source": [
    "    # Solucion con Query SQL\n",
    "raw_deuda_parsed.createOrReplaceTempView('table1')\n",
    "df2 = spark.sql(\"\"\"\n",
    "SELECT country_name, DT_AMT_MLAT_CD \\\n",
    "FROM table1\n",
    "\"\"\")\n",
    "df2.take(5)"
   ]
  },
  {
   "cell_type": "markdown",
   "metadata": {},
   "source": [
    "##### 4. Media de los indicadores de deuda (tabla uno): DT.AMT.BLAT.CD, DT.DIS.BLAT.CD, DT.INT.BLAT.CD"
   ]
  },
  {
   "cell_type": "markdown",
   "metadata": {},
   "source": [
    "Para responder a esta pregunta haremos un select y calcularemos con la funcion avg el promedio de cada uno de los indicadores. Al finalizar, aplicamos la accion show para mostrar los resultados"
   ]
  },
  {
   "cell_type": "code",
   "execution_count": 60,
   "metadata": {},
   "outputs": [
    {
     "name": "stdout",
     "output_type": "stream",
     "text": [
      "+-------------------+-------------------+--------------------+\n",
      "|avg(DT_AMT_BLAT_CD)|avg(DT_DIS_BLAT_CD)| avg(DT_INT_BLAT_CD)|\n",
      "+-------------------+-------------------+--------------------+\n",
      "|7.229381092262369E8|1.221752424974779E9|1.6494835978305784E8|\n",
      "+-------------------+-------------------+--------------------+\n",
      "\n"
     ]
    }
   ],
   "source": [
    "    # Seleccioname DT_AMT_BLAT_CD, DT_DIS_BLAT_CD, DT_INT_BLAT_CD y calculame el promedio de cada uno de estos\n",
    "    # indicadores\n",
    "raw_deuda_parsed.select(avg(\"DT_AMT_BLAT_CD\"), avg(\"DT_DIS_BLAT_CD\"), avg(\"DT_INT_BLAT_CD\")).show()"
   ]
  },
  {
   "cell_type": "markdown",
   "metadata": {},
   "source": [
    "##### 5. Los 20 paises con DT.AMT.DLXF.CD más alto"
   ]
  },
  {
   "cell_type": "markdown",
   "metadata": {},
   "source": [
    "Aqui aplicaremos un select del country_name y del indicador que queremos analizar + un orderBy de los primeros 20 en orden descendente."
   ]
  },
  {
   "cell_type": "code",
   "execution_count": 61,
   "metadata": {},
   "outputs": [
    {
     "name": "stdout",
     "output_type": "stream",
     "text": [
      "+--------------------+--------------+\n",
      "|        country_name|DT_AMT_DLXF_CD|\n",
      "+--------------------+--------------+\n",
      "|               China|   9.621862E10|\n",
      "|              Brazil|  9.0041844E10|\n",
      "|  Russian Federation|  6.6589762E10|\n",
      "|              Turkey|  5.1555029E10|\n",
      "|          South Asia|  4.8756298E10|\n",
      "|               India| 3.19235072E10|\n",
      "|           Indonesia| 3.09161124E10|\n",
      "|          Kazakhstan| 2.74820936E10|\n",
      "|              Mexico| 2.52185047E10|\n",
      "|Least developed c...| 2.51970294E10|\n",
      "|            IDA only| 2.04832891E10|\n",
      "|             Romania|  1.4013783E10|\n",
      "|            Colombia| 1.19856742E10|\n",
      "|              Angola| 1.10670459E10|\n",
      "|            Cameroon| 1.04048148E10|\n",
      "|        Venezuela RB|   9.8786591E9|\n",
      "|      Egypt Arab Rep|   9.6921139E9|\n",
      "|             Lebanon|   9.5069194E9|\n",
      "|        South Africa|   9.4742579E9|\n",
      "|             Vietnam|   8.8735058E9|\n",
      "+--------------------+--------------+\n",
      "only showing top 20 rows\n",
      "\n"
     ]
    }
   ],
   "source": [
    "raw_deuda_parsed.select(\"country_name\", \"DT_AMT_DLXF_CD\").orderBy(desc(\"DT_AMT_DLXF_CD\")).show(20)"
   ]
  },
  {
   "cell_type": "markdown",
   "metadata": {},
   "source": [
    "##### 6. Pais con los datos informados todos los años."
   ]
  },
  {
   "cell_type": "markdown",
   "metadata": {},
   "source": [
    "Ya que sabemos que la tabla tiene un componente temporal, aparece cada año la informacion de los distintos indicadores, entonces, hay que ver cuantas veces aparece cada pais y ver cuales aparecen el mayor numero de veces posible. Como conocemos que el numero total de años que aparece en el fichero es 4 haciendo referencia a los años 2014, 2015, 2016 y 2017 buscaremos aquellos paises que tengan datos de 4 años. Finalmente encontramos que Malawi tiene datos informados todos los años."
   ]
  },
  {
   "cell_type": "code",
   "execution_count": 62,
   "metadata": {},
   "outputs": [
    {
     "name": "stdout",
     "output_type": "stream",
     "text": [
      "+-------------+\n",
      "|         year|\n",
      "+-------------+\n",
      "|2016 [YR2016]|\n",
      "|2014 [YR2014]|\n",
      "|2017 [YR2017]|\n",
      "|2015 [YR2015]|\n",
      "+-------------+\n",
      "\n"
     ]
    }
   ],
   "source": [
    "    # Hacemos una query con un select distinct para ver el numero de años distintos que aparecen\n",
    "distinct_year = raw_desarrollo_parsed_data.select(\"year\").distinct()\n",
    "distinct_year.show()"
   ]
  },
  {
   "cell_type": "code",
   "execution_count": 63,
   "metadata": {},
   "outputs": [
    {
     "name": "stdout",
     "output_type": "stream",
     "text": [
      "+------------+---------------+\n",
      "|country_name|years_with_data|\n",
      "+------------+---------------+\n",
      "|      Malawi|              4|\n",
      "+------------+---------------+\n",
      "\n"
     ]
    }
   ],
   "source": [
    "    # Seleccionamos aquellos paises que aparecen con informacion todos los años\n",
    "raw_desarrollo_parsed_data.createOrReplaceTempView(\"table1\")\n",
    "df2 = spark.sql(\"\"\"\n",
    "                SELECT country_name, COUNT(*) AS years_with_data FROM table1\n",
    "                GROUP BY country_name \n",
    "                HAVING COUNT(*) == 4 \"\"\")\n",
    "df2.show()"
   ]
  },
  {
   "cell_type": "markdown",
   "metadata": {},
   "source": [
    "##### 7. Media anual de los distintos indicadores de desarrollo"
   ]
  },
  {
   "cell_type": "markdown",
   "metadata": {},
   "source": [
    "Para responder a esta pregunta vamos a buscar la tabla de los indicadores de desarrollo de los tres indicadores q hay. Realizaremos una query SQL creando una tabla temporal. Vamos a seleccionar el año y el promedio de los tres indicadores, agrupado y ordenado por los años que hay."
   ]
  },
  {
   "cell_type": "code",
   "execution_count": 64,
   "metadata": {},
   "outputs": [
    {
     "name": "stdout",
     "output_type": "stream",
     "text": [
      "+-------------+-------------------+--------------------+----------------------+\n",
      "|         year|avg(SP_DYN_CBRT_IN)| avg(GC_DOD_TOTL_CN)|avg(GC_DOD_TOTL_GD_ZS)|\n",
      "+-------------+-------------------+--------------------+----------------------+\n",
      "|2014 [YR2014]| 17.582620067596437|1.034427578858493...|     56.84391439057887|\n",
      "|2015 [YR2015]| 16.798477281223644|1.318244027299965...|     58.36559826821428|\n",
      "|2016 [YR2016]|  16.14433327699319|1.588138188919624...|    58.796949523190655|\n",
      "|2017 [YR2017]|  34.59299850463867|   2.239858737152E12|     48.65956497192383|\n",
      "+-------------+-------------------+--------------------+----------------------+\n",
      "\n"
     ]
    }
   ],
   "source": [
    "raw_desarrollo_parsed_data.createOrReplaceTempView(\"table2\")\n",
    "df3 = spark.sql(\"\"\"\n",
    "                SELECT year, avg(SP_DYN_CBRT_IN), avg(GC_DOD_TOTL_CN), avg(GC_DOD_TOTL_GD_ZS) FROM table2 \\\n",
    "                GROUP BY year \\\n",
    "                ORDER BY year\"\"\")\n",
    "df3.show()"
   ]
  },
  {
   "cell_type": "markdown",
   "metadata": {},
   "source": [
    "##### 8. Podrías decirme el total de deuda acumulada DT.AMT.MLAT.CD por los 10 países con un valor en media menor de SP.DYN.CBRT.IN"
   ]
  },
  {
   "cell_type": "code",
   "execution_count": 65,
   "metadata": {},
   "outputs": [
    {
     "name": "stdout",
     "output_type": "stream",
     "text": [
      "+-------------------+\n",
      "|avg(SP_DYN_CBRT_IN)|\n",
      "+-------------------+\n",
      "| 17.033477612395785|\n",
      "+-------------------+\n",
      "\n"
     ]
    }
   ],
   "source": [
    "    # Averiguamos primero el promedio del indicador SP.DYN.CBRT.IN\n",
    "raw_desarrollo_parsed_data.select(avg(\"SP_DYN_CBRT_IN\")).show()"
   ]
  },
  {
   "cell_type": "code",
   "execution_count": 66,
   "metadata": {},
   "outputs": [
    {
     "name": "stdout",
     "output_type": "stream",
     "text": [
      "+--------------------+--------------------+\n",
      "|        country_name|MEDIA_SP_DYN_CBRT_IN|\n",
      "+--------------------+--------------------+\n",
      "|            Malaysia|   17.01733334859212|\n",
      "|          Seychelles|                17.0|\n",
      "|           Sri Lanka|  16.729000091552734|\n",
      "|              Turkey|    16.7173334757487|\n",
      "|             Jamaica|  16.635665893554688|\n",
      "|            Colombia|  15.516000111897787|\n",
      "|St. Vincent and t...|   15.01099967956543|\n",
      "|              Brazil|  14.467666625976562|\n",
      "|         Bahamas The|  14.231666564941406|\n",
      "|             Uruguay|  14.127666791280111|\n",
      "+--------------------+--------------------+\n",
      "\n"
     ]
    }
   ],
   "source": [
    "    # Creamos una query con una tabla temporal donde selecionaremos el pais y el promedio del indicador,\n",
    "    # Agrupamos por pais y buscamos que el promedio del indicador sea menor al promedio global que encontramos\n",
    "    # En la query anterior. Finalmente ordenamos por los valores del indicador y le colocamos de limite un 10\n",
    "raw_desarrollo_parsed_data.createOrReplaceTempView(\"table3\")\n",
    "df3 = spark.sql(\"\"\"\n",
    "                SELECT country_name, avg(SP_DYN_CBRT_IN) AS MEDIA_SP_DYN_CBRT_IN\n",
    "                FROM table3 \n",
    "                GROUP BY country_name\n",
    "                HAVING avg(SP_DYN_CBRT_IN) < 17.0334\n",
    "                ORDER BY MEDIA_SP_DYN_CBRT_IN DESC\n",
    "                LIMIT 10\n",
    "                \"\"\")\n",
    "df3.show(10)"
   ]
  },
  {
   "cell_type": "code",
   "execution_count": 67,
   "metadata": {},
   "outputs": [
    {
     "data": {
      "text/plain": [
       "[Row(country_name='Afghanistan', country_code='AFG', DT_AMT_BLAT_CD=61739336.0, DT_AMT_DLXF_CD=100847184.0, DT_AMT_DPNG_CD=None, DT_AMT_MLAT_CD=39107844.0, DT_AMT_OFFT_CD=100847184.0, DT_AMT_PBND_CD=None, DT_AMT_PCBK_CD=None, DT_AMT_PROP_CD=None, DT_AMT_PRVT_CD=None, DT_DIS_BLAT_CD=49114728.0, DT_DIS_DLXF_CD=72894456.0, DT_DIS_MLAT_CD=23779724.0, DT_DIS_OFFT_CD=72894456.0, DT_DIS_PCBK_CD=None, DT_DIS_PROP_CD=None, DT_DIS_PRVT_CD=None, DT_INT_BLAT_CD=39903620.0, DT_INT_DLXF_CD=53239440.0, DT_INT_DPNG_CD=None, DT_INT_MLAT_CD=13335820.0, DT_INT_OFFT_CD=53239440.0, DT_INT_PBND_CD=None, DT_INT_PCBK_CD=None, DT_INT_PROP_CD=None, DT_INT_PRVT_CD=None, MEDIA_SP_DYN_CBRT_IN=None)]"
      ]
     },
     "execution_count": 67,
     "metadata": {},
     "output_type": "execute_result"
    }
   ],
   "source": [
    "    # Ahora haremos un left join de las dos tablas\n",
    "data_join = raw_deuda_parsed.join(df3,\"country_name\",\"left\")\n",
    "    # Con el take le pedimos que nos muestre los resultados\n",
    "data_join.take(1)"
   ]
  },
  {
   "cell_type": "code",
   "execution_count": 68,
   "metadata": {},
   "outputs": [
    {
     "data": {
      "text/plain": [
       "124"
      ]
     },
     "execution_count": 68,
     "metadata": {},
     "output_type": "execute_result"
    }
   ],
   "source": [
    "    # Hacemos el conteo para chequear que no perdemos informacion\n",
    "data_join.count()"
   ]
  },
  {
   "cell_type": "code",
   "execution_count": 69,
   "metadata": {},
   "outputs": [
    {
     "name": "stdout",
     "output_type": "stream",
     "text": [
      "+--------------------+--------------+--------------------+\n",
      "|        country_name|DT_AMT_MLAT_CD|MEDIA_SP_DYN_CBRT_IN|\n",
      "+--------------------+--------------+--------------------+\n",
      "|              Turkey|  2.93269862E9|    16.7173334757487|\n",
      "|              Brazil|  2.51431885E9|  14.467666625976562|\n",
      "|            Colombia|  1.10090752E9|  15.516000111897787|\n",
      "|           Sri Lanka|  4.49771968E8|  16.729000091552734|\n",
      "|             Jamaica|  1.74427648E8|  16.635665893554688|\n",
      "|St. Vincent and t...|     2.16156E7|   15.01099967956543|\n",
      "+--------------------+--------------+--------------------+\n",
      "\n"
     ]
    }
   ],
   "source": [
    "    # Finalmente hacemos la query de aquellos paises con un valor en media del SP.DYN.CBRT.IN\n",
    "data_join.createOrReplaceTempView(\"table4\")\n",
    "    \n",
    "    # Con el WHERE buscamos aquellos paises que tienen informacion en la columna del indicador MEDIA_SP_DYN_CBRT_IN\n",
    "df4 = spark.sql(\"\"\"\n",
    "                SELECT country_name, DT_AMT_MLAT_CD, MEDIA_SP_DYN_CBRT_IN\n",
    "                FROM table4 \n",
    "                WHERE MEDIA_SP_DYN_CBRT_IN > 0 \n",
    "                ORDER BY DT_AMT_MLAT_CD DESC\n",
    "                \"\"\")\n",
    "df4.show(10)"
   ]
  },
  {
   "cell_type": "code",
   "execution_count": 70,
   "metadata": {},
   "outputs": [
    {
     "name": "stdout",
     "output_type": "stream",
     "text": [
      "+-------------------+\n",
      "|sum(DT_AMT_MLAT_CD)|\n",
      "+-------------------+\n",
      "|      7.193740208E9|\n",
      "+-------------------+\n",
      "\n"
     ]
    }
   ],
   "source": [
    "    # Ahora sumamos el total del indicador DT_AMT_MLAT_CD para contestar a la pregunta del enunciado\n",
    "df4.select(sum(\"DT_AMT_MLAT_CD\")).show()"
   ]
  },
  {
   "cell_type": "markdown",
   "metadata": {},
   "source": [
    "##### 9. ¿Hay alguna relación entre los nacimientos y el indicador DT.AMT.DLXF.CD? ¿Cómo podrías demostrarlo?"
   ]
  },
  {
   "cell_type": "markdown",
   "metadata": {},
   "source": [
    "Para responder a esta ultima pregunta haremos un left join de las dos tablas poniendo como key \"country_name\", luego seleccionaremos la columna de nacimientos y del indicador para calcular su correlacion. Tambien realizaremos un scatter plot para comprobar los resultado que nos de la correlacion de Pearson."
   ]
  },
  {
   "cell_type": "code",
   "execution_count": 71,
   "metadata": {},
   "outputs": [
    {
     "data": {
      "text/plain": [
       "[Row(country_name='Albania', country_code='ALB', DT_AMT_BLAT_CD=54250280.0, DT_AMT_DLXF_CD=790248704.0, DT_AMT_DPNG_CD=514185632.0, DT_AMT_MLAT_CD=182197616.0, DT_AMT_OFFT_CD=236447904.0, DT_AMT_PBND_CD=0.0, DT_AMT_PCBK_CD=39445140.0, DT_AMT_PROP_CD=170018.40625, DT_AMT_PRVT_CD=39615156.0, DT_DIS_BLAT_CD=76050616.0, DT_DIS_DLXF_CD=317194528.0, DT_DIS_MLAT_CD=234321248.0, DT_DIS_OFFT_CD=310371872.0, DT_DIS_PCBK_CD=4542665.0, DT_DIS_PROP_CD=2279989.25, DT_DIS_PRVT_CD=6822654.0, DT_INT_BLAT_CD=13847334.0, DT_INT_DLXF_CD=165602384.0, DT_INT_DPNG_CD=87884000.0, DT_INT_MLAT_CD=28101536.0, DT_INT_OFFT_CD=41948868.0, DT_INT_PBND_CD=31030688.0, DT_INT_PCBK_CD=4618504.5, DT_INT_PROP_CD=120324.703125, DT_INT_PRVT_CD=35769516.0, country_code='ALB', year='2016 [YR2016]', GC_DOD_TOTL_CN=1188814520320.0, GC_DOD_TOTL_GD_ZS=80.7355728149414, SP_DYN_CBRT_IN=12.079999923706055)]"
      ]
     },
     "execution_count": 71,
     "metadata": {},
     "output_type": "execute_result"
    }
   ],
   "source": [
    "    # Join de las dos tablas\n",
    "data_join_completo = raw_deuda_parsed.join(raw_desarrollo_parsed_data,\"country_name\",\"inner\")\n",
    "data_join_completo.take(1)"
   ]
  },
  {
   "cell_type": "code",
   "execution_count": 72,
   "metadata": {},
   "outputs": [
    {
     "data": {
      "text/plain": [
       "78"
      ]
     },
     "execution_count": 72,
     "metadata": {},
     "output_type": "execute_result"
    }
   ],
   "source": [
    "    # Hacemos el conteo para ver los resultados\n",
    "data_join_completo.count()"
   ]
  },
  {
   "cell_type": "code",
   "execution_count": 73,
   "metadata": {},
   "outputs": [
    {
     "data": {
      "text/plain": [
       "[Row(DT_AMT_DLXF_CD=790248704.0, SP_DYN_CBRT_IN=12.079999923706055)]"
      ]
     },
     "execution_count": 73,
     "metadata": {},
     "output_type": "execute_result"
    }
   ],
   "source": [
    "    # Seleccionamos las columnas que nos interesan y guardamos los resultados \n",
    "data_join_filter = data_join_completo.select(\"DT_AMT_DLXF_CD\", \"SP_DYN_CBRT_IN\")\n",
    "    # Hacemos un take para ver como quedan los resultados\n",
    "data_join_filter.take(1)"
   ]
  },
  {
   "cell_type": "code",
   "execution_count": 74,
   "metadata": {},
   "outputs": [
    {
     "name": "stdout",
     "output_type": "stream",
     "text": [
      "root\n",
      " |-- DT_AMT_DLXF_CD: float (nullable = true)\n",
      " |-- SP_DYN_CBRT_IN: float (nullable = true)\n",
      "\n"
     ]
    }
   ],
   "source": [
    "    # Chequeamos que quedo bien el join\n",
    "data_join_filter.printSchema()"
   ]
  },
  {
   "cell_type": "code",
   "execution_count": 75,
   "metadata": {},
   "outputs": [
    {
     "name": "stdout",
     "output_type": "stream",
     "text": [
      "Pearson correlation matrix:\n",
      "-0.2866347734465462\n"
     ]
    }
   ],
   "source": [
    "    # Finalmente realizamos la correlacion de Pearson\n",
    "r1 = data_join_filter.stat.corr('DT_AMT_DLXF_CD', 'SP_DYN_CBRT_IN')\n",
    "print(\"Pearson correlation matrix:\\n\" + str(r1))\n",
    "\n",
    "# Con el valor de la correlacion observamos que no hay practicamente ausencia de correlacion ya que el valor es mas cercano a cero.\n",
    "# Luego lo confirmaremos con un scatter plot"
   ]
  },
  {
   "cell_type": "code",
   "execution_count": 76,
   "metadata": {},
   "outputs": [
    {
     "data": {
      "text/plain": [
       "<AxesSubplot:xlabel='DT_AMT_DLXF_CD', ylabel='SP_DYN_CBRT_IN'>"
      ]
     },
     "execution_count": 76,
     "metadata": {},
     "output_type": "execute_result"
    },
    {
     "data": {
      "image/png": "[encoded data removed]",
      "text/plain": [
       "<Figure size 432x288 with 1 Axes>"
      ]
     },
     "metadata": {
      "needs_background": "light"
     },
     "output_type": "display_data"
    }
   ],
   "source": [
    "    # Convertimos a un Handy data frame que nos permite plotear\n",
    "data_join_filter_handy = data_join_filter.toHandy()\n",
    "\n",
    "    # Seleccionamos las columnas que nos interesan plotear para conocer su relacion\n",
    "data_join_filter_handy.cols[['DT_AMT_DLXF_CD', 'SP_DYN_CBRT_IN']].scatterplot()"
   ]
  },
  {
   "cell_type": "code",
   "execution_count": 77,
   "metadata": {},
   "outputs": [],
   "source": [
    "sc.stop()"
   ]
  }
 ],
 "metadata": {
  "kernelspec": {
   "display_name": "Python 3",
   "language": "python",
   "name": "python3"
  },
  "language_info": {
   "codemirror_mode": {
    "name": "ipython",
    "version": 3
   },
   "file_extension": ".py",
   "mimetype": "text/x-python",
   "name": "python",
   "nbconvert_exporter": "python",
   "pygments_lexer": "ipython3",
   "version": "3.8.5"
  },
  "toc": {
   "base_numbering": 1,
   "nav_menu": {},
   "number_sections": true,
   "sideBar": true,
   "skip_h1_title": false,
   "title_cell": "Table of Contents",
   "title_sidebar": "Contents",
   "toc_cell": false,
   "toc_position": {},
   "toc_section_display": true,
   "toc_window_display": false
  }
 },
 "nbformat": 4,
 "nbformat_minor": 2
}
